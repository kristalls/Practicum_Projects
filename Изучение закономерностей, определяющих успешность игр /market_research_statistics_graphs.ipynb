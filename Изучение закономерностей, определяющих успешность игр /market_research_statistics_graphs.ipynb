{
 "cells": [
  {
   "cell_type": "markdown",
   "metadata": {},
   "source": [
    "# Сборный проект"
   ]
  },
  {
   "cell_type": "markdown",
   "metadata": {},
   "source": [
    "Перед нами стоит задача спланировать будущую рекламную компанию для магазина игр \"Стримчик\". Для этого нужно проанализировать демографические данные покупателей и факторы влияющие на успешность игр. "
   ]
  },
  {
   "cell_type": "markdown",
   "metadata": {},
   "source": [
    "## Извлечение данных"
   ]
  },
  {
   "cell_type": "code",
   "execution_count": 1,
   "metadata": {},
   "outputs": [],
   "source": [
    "import pandas as pd\n",
    "import numpy as np\n",
    "import matplotlib.pyplot as plt\n",
    "import seaborn as sns\n",
    "from scipy import stats as st"
   ]
  },
  {
   "cell_type": "code",
   "execution_count": 2,
   "metadata": {},
   "outputs": [],
   "source": [
    "games = pd.read_csv(\"/datasets/games.csv\")"
   ]
  },
  {
   "cell_type": "code",
   "execution_count": 3,
   "metadata": {
    "scrolled": true
   },
   "outputs": [
    {
     "name": "stdout",
     "output_type": "stream",
     "text": [
      "<class 'pandas.core.frame.DataFrame'>\n",
      "RangeIndex: 16715 entries, 0 to 16714\n",
      "Data columns (total 11 columns):\n",
      " #   Column           Non-Null Count  Dtype  \n",
      "---  ------           --------------  -----  \n",
      " 0   Name             16713 non-null  object \n",
      " 1   Platform         16715 non-null  object \n",
      " 2   Year_of_Release  16446 non-null  float64\n",
      " 3   Genre            16713 non-null  object \n",
      " 4   NA_sales         16715 non-null  float64\n",
      " 5   EU_sales         16715 non-null  float64\n",
      " 6   JP_sales         16715 non-null  float64\n",
      " 7   Other_sales      16715 non-null  float64\n",
      " 8   Critic_Score     8137 non-null   float64\n",
      " 9   User_Score       10014 non-null  object \n",
      " 10  Rating           9949 non-null   object \n",
      "dtypes: float64(6), object(5)\n",
      "memory usage: 1.4+ MB\n"
     ]
    }
   ],
   "source": [
    "games.info()"
   ]
  },
  {
   "cell_type": "markdown",
   "metadata": {},
   "source": [
    "Получили датасет из 16715 строк и 11 столбцов."
   ]
  },
  {
   "cell_type": "markdown",
   "metadata": {},
   "source": [
    "## Предобработка данных"
   ]
  },
  {
   "cell_type": "code",
   "execution_count": 4,
   "metadata": {},
   "outputs": [
    {
     "data": {
      "text/html": [
       "<div>\n",
       "<style scoped>\n",
       "    .dataframe tbody tr th:only-of-type {\n",
       "        vertical-align: middle;\n",
       "    }\n",
       "\n",
       "    .dataframe tbody tr th {\n",
       "        vertical-align: top;\n",
       "    }\n",
       "\n",
       "    .dataframe thead th {\n",
       "        text-align: right;\n",
       "    }\n",
       "</style>\n",
       "<table border=\"1\" class=\"dataframe\">\n",
       "  <thead>\n",
       "    <tr style=\"text-align: right;\">\n",
       "      <th></th>\n",
       "      <th>name</th>\n",
       "      <th>platform</th>\n",
       "      <th>year</th>\n",
       "      <th>genre</th>\n",
       "      <th>na_sales</th>\n",
       "      <th>eu_sales</th>\n",
       "      <th>jp_sales</th>\n",
       "      <th>other_sales</th>\n",
       "      <th>critic_score</th>\n",
       "      <th>user_score</th>\n",
       "      <th>rating</th>\n",
       "    </tr>\n",
       "  </thead>\n",
       "  <tbody>\n",
       "    <tr>\n",
       "      <th>0</th>\n",
       "      <td>Wii Sports</td>\n",
       "      <td>Wii</td>\n",
       "      <td>2006.0</td>\n",
       "      <td>Sports</td>\n",
       "      <td>41.36</td>\n",
       "      <td>28.96</td>\n",
       "      <td>3.77</td>\n",
       "      <td>8.45</td>\n",
       "      <td>76.0</td>\n",
       "      <td>8</td>\n",
       "      <td>E</td>\n",
       "    </tr>\n",
       "    <tr>\n",
       "      <th>1</th>\n",
       "      <td>Super Mario Bros.</td>\n",
       "      <td>NES</td>\n",
       "      <td>1985.0</td>\n",
       "      <td>Platform</td>\n",
       "      <td>29.08</td>\n",
       "      <td>3.58</td>\n",
       "      <td>6.81</td>\n",
       "      <td>0.77</td>\n",
       "      <td>NaN</td>\n",
       "      <td>NaN</td>\n",
       "      <td>NaN</td>\n",
       "    </tr>\n",
       "    <tr>\n",
       "      <th>2</th>\n",
       "      <td>Mario Kart Wii</td>\n",
       "      <td>Wii</td>\n",
       "      <td>2008.0</td>\n",
       "      <td>Racing</td>\n",
       "      <td>15.68</td>\n",
       "      <td>12.76</td>\n",
       "      <td>3.79</td>\n",
       "      <td>3.29</td>\n",
       "      <td>82.0</td>\n",
       "      <td>8.3</td>\n",
       "      <td>E</td>\n",
       "    </tr>\n",
       "    <tr>\n",
       "      <th>3</th>\n",
       "      <td>Wii Sports Resort</td>\n",
       "      <td>Wii</td>\n",
       "      <td>2009.0</td>\n",
       "      <td>Sports</td>\n",
       "      <td>15.61</td>\n",
       "      <td>10.93</td>\n",
       "      <td>3.28</td>\n",
       "      <td>2.95</td>\n",
       "      <td>80.0</td>\n",
       "      <td>8</td>\n",
       "      <td>E</td>\n",
       "    </tr>\n",
       "    <tr>\n",
       "      <th>4</th>\n",
       "      <td>Pokemon Red/Pokemon Blue</td>\n",
       "      <td>GB</td>\n",
       "      <td>1996.0</td>\n",
       "      <td>Role-Playing</td>\n",
       "      <td>11.27</td>\n",
       "      <td>8.89</td>\n",
       "      <td>10.22</td>\n",
       "      <td>1.00</td>\n",
       "      <td>NaN</td>\n",
       "      <td>NaN</td>\n",
       "      <td>NaN</td>\n",
       "    </tr>\n",
       "  </tbody>\n",
       "</table>\n",
       "</div>"
      ],
      "text/plain": [
       "                       name platform    year         genre  na_sales  \\\n",
       "0                Wii Sports      Wii  2006.0        Sports     41.36   \n",
       "1         Super Mario Bros.      NES  1985.0      Platform     29.08   \n",
       "2            Mario Kart Wii      Wii  2008.0        Racing     15.68   \n",
       "3         Wii Sports Resort      Wii  2009.0        Sports     15.61   \n",
       "4  Pokemon Red/Pokemon Blue       GB  1996.0  Role-Playing     11.27   \n",
       "\n",
       "   eu_sales  jp_sales  other_sales  critic_score user_score rating  \n",
       "0     28.96      3.77         8.45          76.0          8      E  \n",
       "1      3.58      6.81         0.77           NaN        NaN    NaN  \n",
       "2     12.76      3.79         3.29          82.0        8.3      E  \n",
       "3     10.93      3.28         2.95          80.0          8      E  \n",
       "4      8.89     10.22         1.00           NaN        NaN    NaN  "
      ]
     },
     "execution_count": 4,
     "metadata": {},
     "output_type": "execute_result"
    }
   ],
   "source": [
    "games.columns = games.columns.str.lower()\n",
    "games = games.rename(columns={'year_of_release': 'year'})\n",
    "games.head()"
   ]
  },
  {
   "cell_type": "code",
   "execution_count": 5,
   "metadata": {},
   "outputs": [
    {
     "data": {
      "text/plain": [
       "0"
      ]
     },
     "metadata": {},
     "output_type": "display_data"
    },
    {
     "data": {
      "text/plain": [
       "5155"
      ]
     },
     "metadata": {},
     "output_type": "display_data"
    },
    {
     "data": {
      "text/plain": [
       "16684"
      ]
     },
     "metadata": {},
     "output_type": "display_data"
    }
   ],
   "source": [
    "display(\n",
    "    games.duplicated().sum(),\n",
    "    games['name'].duplicated().sum(),\n",
    "    games['platform'].duplicated().sum()\n",
    ")"
   ]
  },
  {
   "cell_type": "code",
   "execution_count": 6,
   "metadata": {},
   "outputs": [
    {
     "data": {
      "text/html": [
       "<div>\n",
       "<style scoped>\n",
       "    .dataframe tbody tr th:only-of-type {\n",
       "        vertical-align: middle;\n",
       "    }\n",
       "\n",
       "    .dataframe tbody tr th {\n",
       "        vertical-align: top;\n",
       "    }\n",
       "\n",
       "    .dataframe thead th {\n",
       "        text-align: right;\n",
       "    }\n",
       "</style>\n",
       "<table border=\"1\" class=\"dataframe\">\n",
       "  <thead>\n",
       "    <tr style=\"text-align: right;\">\n",
       "      <th></th>\n",
       "      <th>name</th>\n",
       "      <th>platform</th>\n",
       "      <th>year</th>\n",
       "      <th>genre</th>\n",
       "      <th>na_sales</th>\n",
       "      <th>eu_sales</th>\n",
       "      <th>jp_sales</th>\n",
       "      <th>other_sales</th>\n",
       "      <th>critic_score</th>\n",
       "      <th>user_score</th>\n",
       "      <th>rating</th>\n",
       "    </tr>\n",
       "  </thead>\n",
       "  <tbody>\n",
       "    <tr>\n",
       "      <th>1591</th>\n",
       "      <td>Need for Speed: Most Wanted</td>\n",
       "      <td>X360</td>\n",
       "      <td>2005.0</td>\n",
       "      <td>Racing</td>\n",
       "      <td>1.0</td>\n",
       "      <td>0.13</td>\n",
       "      <td>0.02</td>\n",
       "      <td>0.10</td>\n",
       "      <td>83.0</td>\n",
       "      <td>8.5</td>\n",
       "      <td>T</td>\n",
       "    </tr>\n",
       "    <tr>\n",
       "      <th>4127</th>\n",
       "      <td>Sonic the Hedgehog</td>\n",
       "      <td>PS3</td>\n",
       "      <td>NaN</td>\n",
       "      <td>Platform</td>\n",
       "      <td>0.0</td>\n",
       "      <td>0.48</td>\n",
       "      <td>0.00</td>\n",
       "      <td>0.00</td>\n",
       "      <td>43.0</td>\n",
       "      <td>4.1</td>\n",
       "      <td>E10+</td>\n",
       "    </tr>\n",
       "    <tr>\n",
       "      <th>11715</th>\n",
       "      <td>Need for Speed: Most Wanted</td>\n",
       "      <td>PC</td>\n",
       "      <td>2012.0</td>\n",
       "      <td>Racing</td>\n",
       "      <td>0.0</td>\n",
       "      <td>0.06</td>\n",
       "      <td>0.00</td>\n",
       "      <td>0.02</td>\n",
       "      <td>82.0</td>\n",
       "      <td>8.5</td>\n",
       "      <td>T</td>\n",
       "    </tr>\n",
       "    <tr>\n",
       "      <th>14244</th>\n",
       "      <td>NaN</td>\n",
       "      <td>GEN</td>\n",
       "      <td>1993.0</td>\n",
       "      <td>NaN</td>\n",
       "      <td>0.0</td>\n",
       "      <td>0.00</td>\n",
       "      <td>0.03</td>\n",
       "      <td>0.00</td>\n",
       "      <td>NaN</td>\n",
       "      <td>NaN</td>\n",
       "      <td>NaN</td>\n",
       "    </tr>\n",
       "    <tr>\n",
       "      <th>16230</th>\n",
       "      <td>Madden NFL 13</td>\n",
       "      <td>PS3</td>\n",
       "      <td>2012.0</td>\n",
       "      <td>Sports</td>\n",
       "      <td>0.0</td>\n",
       "      <td>0.01</td>\n",
       "      <td>0.00</td>\n",
       "      <td>0.00</td>\n",
       "      <td>83.0</td>\n",
       "      <td>5.5</td>\n",
       "      <td>E</td>\n",
       "    </tr>\n",
       "  </tbody>\n",
       "</table>\n",
       "</div>"
      ],
      "text/plain": [
       "                              name platform    year     genre  na_sales  \\\n",
       "1591   Need for Speed: Most Wanted     X360  2005.0    Racing       1.0   \n",
       "4127            Sonic the Hedgehog      PS3     NaN  Platform       0.0   \n",
       "11715  Need for Speed: Most Wanted       PC  2012.0    Racing       0.0   \n",
       "14244                          NaN      GEN  1993.0       NaN       0.0   \n",
       "16230                Madden NFL 13      PS3  2012.0    Sports       0.0   \n",
       "\n",
       "       eu_sales  jp_sales  other_sales  critic_score user_score rating  \n",
       "1591       0.13      0.02         0.10          83.0        8.5      T  \n",
       "4127       0.48      0.00         0.00          43.0        4.1   E10+  \n",
       "11715      0.06      0.00         0.02          82.0        8.5      T  \n",
       "14244      0.00      0.03         0.00           NaN        NaN    NaN  \n",
       "16230      0.01      0.00         0.00          83.0        5.5      E  "
      ]
     },
     "execution_count": 6,
     "metadata": {},
     "output_type": "execute_result"
    }
   ],
   "source": [
    "games[games[['name','platform']].duplicated()]"
   ]
  },
  {
   "cell_type": "markdown",
   "metadata": {},
   "source": [
    "Дубликатов нет."
   ]
  },
  {
   "cell_type": "code",
   "execution_count": 7,
   "metadata": {
    "scrolled": true
   },
   "outputs": [
    {
     "name": "stdout",
     "output_type": "stream",
     "text": [
      "<class 'pandas.core.frame.DataFrame'>\n",
      "RangeIndex: 16715 entries, 0 to 16714\n",
      "Data columns (total 11 columns):\n",
      " #   Column        Non-Null Count  Dtype  \n",
      "---  ------        --------------  -----  \n",
      " 0   name          16713 non-null  object \n",
      " 1   platform      16715 non-null  object \n",
      " 2   year          16446 non-null  float64\n",
      " 3   genre         16713 non-null  object \n",
      " 4   na_sales      16715 non-null  float64\n",
      " 5   eu_sales      16715 non-null  float64\n",
      " 6   jp_sales      16715 non-null  float64\n",
      " 7   other_sales   16715 non-null  float64\n",
      " 8   critic_score  8137 non-null   float64\n",
      " 9   user_score    10014 non-null  object \n",
      " 10  rating        9949 non-null   object \n",
      "dtypes: float64(6), object(5)\n",
      "memory usage: 1.4+ MB\n"
     ]
    },
    {
     "data": {
      "text/plain": [
       "None"
      ]
     },
     "metadata": {},
     "output_type": "display_data"
    },
    {
     "data": {
      "text/plain": [
       "array([76., nan, 82., 80., 89., 58., 87., 91., 61., 97., 95., 77., 88.,\n",
       "       83., 94., 93., 85., 86., 98., 96., 90., 84., 73., 74., 78., 92.,\n",
       "       71., 72., 68., 62., 49., 67., 81., 66., 56., 79., 70., 59., 64.,\n",
       "       75., 60., 63., 69., 50., 25., 42., 44., 55., 48., 57., 29., 47.,\n",
       "       65., 54., 20., 53., 37., 38., 33., 52., 30., 32., 43., 45., 51.,\n",
       "       40., 46., 39., 34., 35., 41., 36., 28., 31., 27., 26., 19., 23.,\n",
       "       24., 21., 17., 22., 13.])"
      ]
     },
     "metadata": {},
     "output_type": "display_data"
    },
    {
     "data": {
      "text/plain": [
       "array(['8', nan, '8.3', '8.5', '6.6', '8.4', '8.6', '7.7', '6.3', '7.4',\n",
       "       '8.2', '9', '7.9', '8.1', '8.7', '7.1', '3.4', '5.3', '4.8', '3.2',\n",
       "       '8.9', '6.4', '7.8', '7.5', '2.6', '7.2', '9.2', '7', '7.3', '4.3',\n",
       "       '7.6', '5.7', '5', '9.1', '6.5', 'tbd', '8.8', '6.9', '9.4', '6.8',\n",
       "       '6.1', '6.7', '5.4', '4', '4.9', '4.5', '9.3', '6.2', '4.2', '6',\n",
       "       '3.7', '4.1', '5.8', '5.6', '5.5', '4.4', '4.6', '5.9', '3.9',\n",
       "       '3.1', '2.9', '5.2', '3.3', '4.7', '5.1', '3.5', '2.5', '1.9', '3',\n",
       "       '2.7', '2.2', '2', '9.5', '2.1', '3.6', '2.8', '1.8', '3.8', '0',\n",
       "       '1.6', '9.6', '2.4', '1.7', '1.1', '0.3', '1.5', '0.7', '1.2',\n",
       "       '2.3', '0.5', '1.3', '0.2', '0.6', '1.4', '0.9', '1', '9.7'],\n",
       "      dtype=object)"
      ]
     },
     "metadata": {},
     "output_type": "display_data"
    }
   ],
   "source": [
    "display(\n",
    "    games.info(),\n",
    "    games['critic_score'].unique(),\n",
    "    games['user_score'].unique()\n",
    ")"
   ]
  },
  {
   "cell_type": "markdown",
   "metadata": {},
   "source": [
    "Можно было бы поменять тип данных в year, critic_score и user_score(умножа его на 10 и округлив в меньшую сторону), но там есть пропущенные значения, которые я не хочу округлять/придумывать."
   ]
  },
  {
   "cell_type": "code",
   "execution_count": 8,
   "metadata": {},
   "outputs": [
    {
     "data": {
      "text/plain": [
       "name               2\n",
       "platform           0\n",
       "year             269\n",
       "genre              2\n",
       "na_sales           0\n",
       "eu_sales           0\n",
       "jp_sales           0\n",
       "other_sales        0\n",
       "critic_score    8578\n",
       "user_score      6701\n",
       "rating          6766\n",
       "dtype: int64"
      ]
     },
     "execution_count": 8,
     "metadata": {},
     "output_type": "execute_result"
    }
   ],
   "source": [
    "games.isna().sum()"
   ]
  },
  {
   "cell_type": "code",
   "execution_count": 9,
   "metadata": {},
   "outputs": [
    {
     "data": {
      "text/html": [
       "<div>\n",
       "<style scoped>\n",
       "    .dataframe tbody tr th:only-of-type {\n",
       "        vertical-align: middle;\n",
       "    }\n",
       "\n",
       "    .dataframe tbody tr th {\n",
       "        vertical-align: top;\n",
       "    }\n",
       "\n",
       "    .dataframe thead th {\n",
       "        text-align: right;\n",
       "    }\n",
       "</style>\n",
       "<table border=\"1\" class=\"dataframe\">\n",
       "  <thead>\n",
       "    <tr style=\"text-align: right;\">\n",
       "      <th></th>\n",
       "      <th>name</th>\n",
       "      <th>platform</th>\n",
       "      <th>year</th>\n",
       "      <th>genre</th>\n",
       "      <th>na_sales</th>\n",
       "      <th>eu_sales</th>\n",
       "      <th>jp_sales</th>\n",
       "      <th>other_sales</th>\n",
       "      <th>critic_score</th>\n",
       "      <th>user_score</th>\n",
       "      <th>rating</th>\n",
       "    </tr>\n",
       "  </thead>\n",
       "  <tbody>\n",
       "    <tr>\n",
       "      <th>659</th>\n",
       "      <td>NaN</td>\n",
       "      <td>GEN</td>\n",
       "      <td>1993.0</td>\n",
       "      <td>NaN</td>\n",
       "      <td>1.78</td>\n",
       "      <td>0.53</td>\n",
       "      <td>0.00</td>\n",
       "      <td>0.08</td>\n",
       "      <td>NaN</td>\n",
       "      <td>NaN</td>\n",
       "      <td>NaN</td>\n",
       "    </tr>\n",
       "    <tr>\n",
       "      <th>14244</th>\n",
       "      <td>NaN</td>\n",
       "      <td>GEN</td>\n",
       "      <td>1993.0</td>\n",
       "      <td>NaN</td>\n",
       "      <td>0.00</td>\n",
       "      <td>0.00</td>\n",
       "      <td>0.03</td>\n",
       "      <td>0.00</td>\n",
       "      <td>NaN</td>\n",
       "      <td>NaN</td>\n",
       "      <td>NaN</td>\n",
       "    </tr>\n",
       "  </tbody>\n",
       "</table>\n",
       "</div>"
      ],
      "text/plain": [
       "      name platform    year genre  na_sales  eu_sales  jp_sales  other_sales  \\\n",
       "659    NaN      GEN  1993.0   NaN      1.78      0.53      0.00         0.08   \n",
       "14244  NaN      GEN  1993.0   NaN      0.00      0.00      0.03         0.00   \n",
       "\n",
       "       critic_score user_score rating  \n",
       "659             NaN        NaN    NaN  \n",
       "14244           NaN        NaN    NaN  "
      ]
     },
     "execution_count": 9,
     "metadata": {},
     "output_type": "execute_result"
    }
   ],
   "source": [
    "games.query('genre.isna()')"
   ]
  },
  {
   "cell_type": "markdown",
   "metadata": {},
   "source": [
    "Строки с пропусками в столбце genre, также имеют много пропусков в других строках, и околонулевые продажи."
   ]
  },
  {
   "cell_type": "code",
   "execution_count": 10,
   "metadata": {},
   "outputs": [],
   "source": [
    "games.dropna(subset=['genre'], inplace=True)"
   ]
  },
  {
   "cell_type": "code",
   "execution_count": 11,
   "metadata": {
    "scrolled": true
   },
   "outputs": [
    {
     "data": {
      "text/html": [
       "<div>\n",
       "<style scoped>\n",
       "    .dataframe tbody tr th:only-of-type {\n",
       "        vertical-align: middle;\n",
       "    }\n",
       "\n",
       "    .dataframe tbody tr th {\n",
       "        vertical-align: top;\n",
       "    }\n",
       "\n",
       "    .dataframe thead th {\n",
       "        text-align: right;\n",
       "    }\n",
       "</style>\n",
       "<table border=\"1\" class=\"dataframe\">\n",
       "  <thead>\n",
       "    <tr style=\"text-align: right;\">\n",
       "      <th></th>\n",
       "      <th>name</th>\n",
       "      <th>platform</th>\n",
       "      <th>year</th>\n",
       "      <th>genre</th>\n",
       "      <th>na_sales</th>\n",
       "      <th>eu_sales</th>\n",
       "      <th>jp_sales</th>\n",
       "      <th>other_sales</th>\n",
       "      <th>critic_score</th>\n",
       "      <th>user_score</th>\n",
       "      <th>rating</th>\n",
       "    </tr>\n",
       "  </thead>\n",
       "  <tbody>\n",
       "    <tr>\n",
       "      <th>183</th>\n",
       "      <td>Madden NFL 2004</td>\n",
       "      <td>PS2</td>\n",
       "      <td>NaN</td>\n",
       "      <td>Sports</td>\n",
       "      <td>4.26</td>\n",
       "      <td>0.26</td>\n",
       "      <td>0.01</td>\n",
       "      <td>0.71</td>\n",
       "      <td>94.0</td>\n",
       "      <td>8.5</td>\n",
       "      <td>E</td>\n",
       "    </tr>\n",
       "    <tr>\n",
       "      <th>377</th>\n",
       "      <td>FIFA Soccer 2004</td>\n",
       "      <td>PS2</td>\n",
       "      <td>NaN</td>\n",
       "      <td>Sports</td>\n",
       "      <td>0.59</td>\n",
       "      <td>2.36</td>\n",
       "      <td>0.04</td>\n",
       "      <td>0.51</td>\n",
       "      <td>84.0</td>\n",
       "      <td>6.4</td>\n",
       "      <td>E</td>\n",
       "    </tr>\n",
       "    <tr>\n",
       "      <th>456</th>\n",
       "      <td>LEGO Batman: The Videogame</td>\n",
       "      <td>Wii</td>\n",
       "      <td>NaN</td>\n",
       "      <td>Action</td>\n",
       "      <td>1.80</td>\n",
       "      <td>0.97</td>\n",
       "      <td>0.00</td>\n",
       "      <td>0.29</td>\n",
       "      <td>74.0</td>\n",
       "      <td>7.9</td>\n",
       "      <td>E10+</td>\n",
       "    </tr>\n",
       "    <tr>\n",
       "      <th>475</th>\n",
       "      <td>wwe Smackdown vs. Raw 2006</td>\n",
       "      <td>PS2</td>\n",
       "      <td>NaN</td>\n",
       "      <td>Fighting</td>\n",
       "      <td>1.57</td>\n",
       "      <td>1.02</td>\n",
       "      <td>0.00</td>\n",
       "      <td>0.41</td>\n",
       "      <td>NaN</td>\n",
       "      <td>NaN</td>\n",
       "      <td>NaN</td>\n",
       "    </tr>\n",
       "    <tr>\n",
       "      <th>609</th>\n",
       "      <td>Space Invaders</td>\n",
       "      <td>2600</td>\n",
       "      <td>NaN</td>\n",
       "      <td>Shooter</td>\n",
       "      <td>2.36</td>\n",
       "      <td>0.14</td>\n",
       "      <td>0.00</td>\n",
       "      <td>0.03</td>\n",
       "      <td>NaN</td>\n",
       "      <td>NaN</td>\n",
       "      <td>NaN</td>\n",
       "    </tr>\n",
       "    <tr>\n",
       "      <th>...</th>\n",
       "      <td>...</td>\n",
       "      <td>...</td>\n",
       "      <td>...</td>\n",
       "      <td>...</td>\n",
       "      <td>...</td>\n",
       "      <td>...</td>\n",
       "      <td>...</td>\n",
       "      <td>...</td>\n",
       "      <td>...</td>\n",
       "      <td>...</td>\n",
       "      <td>...</td>\n",
       "    </tr>\n",
       "    <tr>\n",
       "      <th>16373</th>\n",
       "      <td>PDC World Championship Darts 2008</td>\n",
       "      <td>PSP</td>\n",
       "      <td>NaN</td>\n",
       "      <td>Sports</td>\n",
       "      <td>0.01</td>\n",
       "      <td>0.00</td>\n",
       "      <td>0.00</td>\n",
       "      <td>0.00</td>\n",
       "      <td>43.0</td>\n",
       "      <td>tbd</td>\n",
       "      <td>E10+</td>\n",
       "    </tr>\n",
       "    <tr>\n",
       "      <th>16405</th>\n",
       "      <td>Freaky Flyers</td>\n",
       "      <td>GC</td>\n",
       "      <td>NaN</td>\n",
       "      <td>Racing</td>\n",
       "      <td>0.01</td>\n",
       "      <td>0.00</td>\n",
       "      <td>0.00</td>\n",
       "      <td>0.00</td>\n",
       "      <td>69.0</td>\n",
       "      <td>6.5</td>\n",
       "      <td>T</td>\n",
       "    </tr>\n",
       "    <tr>\n",
       "      <th>16448</th>\n",
       "      <td>Inversion</td>\n",
       "      <td>PC</td>\n",
       "      <td>NaN</td>\n",
       "      <td>Shooter</td>\n",
       "      <td>0.01</td>\n",
       "      <td>0.00</td>\n",
       "      <td>0.00</td>\n",
       "      <td>0.00</td>\n",
       "      <td>59.0</td>\n",
       "      <td>6.7</td>\n",
       "      <td>M</td>\n",
       "    </tr>\n",
       "    <tr>\n",
       "      <th>16458</th>\n",
       "      <td>Hakuouki: Shinsengumi Kitan</td>\n",
       "      <td>PS3</td>\n",
       "      <td>NaN</td>\n",
       "      <td>Adventure</td>\n",
       "      <td>0.01</td>\n",
       "      <td>0.00</td>\n",
       "      <td>0.00</td>\n",
       "      <td>0.00</td>\n",
       "      <td>NaN</td>\n",
       "      <td>NaN</td>\n",
       "      <td>NaN</td>\n",
       "    </tr>\n",
       "    <tr>\n",
       "      <th>16522</th>\n",
       "      <td>Virtua Quest</td>\n",
       "      <td>GC</td>\n",
       "      <td>NaN</td>\n",
       "      <td>Role-Playing</td>\n",
       "      <td>0.01</td>\n",
       "      <td>0.00</td>\n",
       "      <td>0.00</td>\n",
       "      <td>0.00</td>\n",
       "      <td>55.0</td>\n",
       "      <td>5.5</td>\n",
       "      <td>T</td>\n",
       "    </tr>\n",
       "  </tbody>\n",
       "</table>\n",
       "<p>269 rows × 11 columns</p>\n",
       "</div>"
      ],
      "text/plain": [
       "                                    name platform  year         genre  \\\n",
       "183                      Madden NFL 2004      PS2   NaN        Sports   \n",
       "377                     FIFA Soccer 2004      PS2   NaN        Sports   \n",
       "456           LEGO Batman: The Videogame      Wii   NaN        Action   \n",
       "475           wwe Smackdown vs. Raw 2006      PS2   NaN      Fighting   \n",
       "609                       Space Invaders     2600   NaN       Shooter   \n",
       "...                                  ...      ...   ...           ...   \n",
       "16373  PDC World Championship Darts 2008      PSP   NaN        Sports   \n",
       "16405                      Freaky Flyers       GC   NaN        Racing   \n",
       "16448                          Inversion       PC   NaN       Shooter   \n",
       "16458        Hakuouki: Shinsengumi Kitan      PS3   NaN     Adventure   \n",
       "16522                       Virtua Quest       GC   NaN  Role-Playing   \n",
       "\n",
       "       na_sales  eu_sales  jp_sales  other_sales  critic_score user_score  \\\n",
       "183        4.26      0.26      0.01         0.71          94.0        8.5   \n",
       "377        0.59      2.36      0.04         0.51          84.0        6.4   \n",
       "456        1.80      0.97      0.00         0.29          74.0        7.9   \n",
       "475        1.57      1.02      0.00         0.41           NaN        NaN   \n",
       "609        2.36      0.14      0.00         0.03           NaN        NaN   \n",
       "...         ...       ...       ...          ...           ...        ...   \n",
       "16373      0.01      0.00      0.00         0.00          43.0        tbd   \n",
       "16405      0.01      0.00      0.00         0.00          69.0        6.5   \n",
       "16448      0.01      0.00      0.00         0.00          59.0        6.7   \n",
       "16458      0.01      0.00      0.00         0.00           NaN        NaN   \n",
       "16522      0.01      0.00      0.00         0.00          55.0        5.5   \n",
       "\n",
       "      rating  \n",
       "183        E  \n",
       "377        E  \n",
       "456     E10+  \n",
       "475      NaN  \n",
       "609      NaN  \n",
       "...      ...  \n",
       "16373   E10+  \n",
       "16405      T  \n",
       "16448      M  \n",
       "16458    NaN  \n",
       "16522      T  \n",
       "\n",
       "[269 rows x 11 columns]"
      ]
     },
     "metadata": {},
     "output_type": "display_data"
    },
    {
     "data": {
      "text/html": [
       "<div>\n",
       "<style scoped>\n",
       "    .dataframe tbody tr th:only-of-type {\n",
       "        vertical-align: middle;\n",
       "    }\n",
       "\n",
       "    .dataframe tbody tr th {\n",
       "        vertical-align: top;\n",
       "    }\n",
       "\n",
       "    .dataframe thead th {\n",
       "        text-align: right;\n",
       "    }\n",
       "</style>\n",
       "<table border=\"1\" class=\"dataframe\">\n",
       "  <thead>\n",
       "    <tr style=\"text-align: right;\">\n",
       "      <th></th>\n",
       "      <th>name</th>\n",
       "      <th>platform</th>\n",
       "      <th>year</th>\n",
       "      <th>genre</th>\n",
       "      <th>na_sales</th>\n",
       "      <th>eu_sales</th>\n",
       "      <th>jp_sales</th>\n",
       "      <th>other_sales</th>\n",
       "      <th>critic_score</th>\n",
       "      <th>user_score</th>\n",
       "      <th>rating</th>\n",
       "    </tr>\n",
       "  </thead>\n",
       "  <tbody>\n",
       "    <tr>\n",
       "      <th>1</th>\n",
       "      <td>Super Mario Bros.</td>\n",
       "      <td>NES</td>\n",
       "      <td>1985.0</td>\n",
       "      <td>Platform</td>\n",
       "      <td>29.08</td>\n",
       "      <td>3.58</td>\n",
       "      <td>6.81</td>\n",
       "      <td>0.77</td>\n",
       "      <td>NaN</td>\n",
       "      <td>NaN</td>\n",
       "      <td>NaN</td>\n",
       "    </tr>\n",
       "    <tr>\n",
       "      <th>4</th>\n",
       "      <td>Pokemon Red/Pokemon Blue</td>\n",
       "      <td>GB</td>\n",
       "      <td>1996.0</td>\n",
       "      <td>Role-Playing</td>\n",
       "      <td>11.27</td>\n",
       "      <td>8.89</td>\n",
       "      <td>10.22</td>\n",
       "      <td>1.00</td>\n",
       "      <td>NaN</td>\n",
       "      <td>NaN</td>\n",
       "      <td>NaN</td>\n",
       "    </tr>\n",
       "    <tr>\n",
       "      <th>5</th>\n",
       "      <td>Tetris</td>\n",
       "      <td>GB</td>\n",
       "      <td>1989.0</td>\n",
       "      <td>Puzzle</td>\n",
       "      <td>23.20</td>\n",
       "      <td>2.26</td>\n",
       "      <td>4.22</td>\n",
       "      <td>0.58</td>\n",
       "      <td>NaN</td>\n",
       "      <td>NaN</td>\n",
       "      <td>NaN</td>\n",
       "    </tr>\n",
       "    <tr>\n",
       "      <th>9</th>\n",
       "      <td>Duck Hunt</td>\n",
       "      <td>NES</td>\n",
       "      <td>1984.0</td>\n",
       "      <td>Shooter</td>\n",
       "      <td>26.93</td>\n",
       "      <td>0.63</td>\n",
       "      <td>0.28</td>\n",
       "      <td>0.47</td>\n",
       "      <td>NaN</td>\n",
       "      <td>NaN</td>\n",
       "      <td>NaN</td>\n",
       "    </tr>\n",
       "    <tr>\n",
       "      <th>10</th>\n",
       "      <td>Nintendogs</td>\n",
       "      <td>DS</td>\n",
       "      <td>2005.0</td>\n",
       "      <td>Simulation</td>\n",
       "      <td>9.05</td>\n",
       "      <td>10.95</td>\n",
       "      <td>1.93</td>\n",
       "      <td>2.74</td>\n",
       "      <td>NaN</td>\n",
       "      <td>NaN</td>\n",
       "      <td>NaN</td>\n",
       "    </tr>\n",
       "    <tr>\n",
       "      <th>...</th>\n",
       "      <td>...</td>\n",
       "      <td>...</td>\n",
       "      <td>...</td>\n",
       "      <td>...</td>\n",
       "      <td>...</td>\n",
       "      <td>...</td>\n",
       "      <td>...</td>\n",
       "      <td>...</td>\n",
       "      <td>...</td>\n",
       "      <td>...</td>\n",
       "      <td>...</td>\n",
       "    </tr>\n",
       "    <tr>\n",
       "      <th>16710</th>\n",
       "      <td>Samurai Warriors: Sanada Maru</td>\n",
       "      <td>PS3</td>\n",
       "      <td>2016.0</td>\n",
       "      <td>Action</td>\n",
       "      <td>0.00</td>\n",
       "      <td>0.00</td>\n",
       "      <td>0.01</td>\n",
       "      <td>0.00</td>\n",
       "      <td>NaN</td>\n",
       "      <td>NaN</td>\n",
       "      <td>NaN</td>\n",
       "    </tr>\n",
       "    <tr>\n",
       "      <th>16711</th>\n",
       "      <td>LMA Manager 2007</td>\n",
       "      <td>X360</td>\n",
       "      <td>2006.0</td>\n",
       "      <td>Sports</td>\n",
       "      <td>0.00</td>\n",
       "      <td>0.01</td>\n",
       "      <td>0.00</td>\n",
       "      <td>0.00</td>\n",
       "      <td>NaN</td>\n",
       "      <td>NaN</td>\n",
       "      <td>NaN</td>\n",
       "    </tr>\n",
       "    <tr>\n",
       "      <th>16712</th>\n",
       "      <td>Haitaka no Psychedelica</td>\n",
       "      <td>PSV</td>\n",
       "      <td>2016.0</td>\n",
       "      <td>Adventure</td>\n",
       "      <td>0.00</td>\n",
       "      <td>0.00</td>\n",
       "      <td>0.01</td>\n",
       "      <td>0.00</td>\n",
       "      <td>NaN</td>\n",
       "      <td>NaN</td>\n",
       "      <td>NaN</td>\n",
       "    </tr>\n",
       "    <tr>\n",
       "      <th>16713</th>\n",
       "      <td>Spirits &amp; Spells</td>\n",
       "      <td>GBA</td>\n",
       "      <td>2003.0</td>\n",
       "      <td>Platform</td>\n",
       "      <td>0.01</td>\n",
       "      <td>0.00</td>\n",
       "      <td>0.00</td>\n",
       "      <td>0.00</td>\n",
       "      <td>NaN</td>\n",
       "      <td>NaN</td>\n",
       "      <td>NaN</td>\n",
       "    </tr>\n",
       "    <tr>\n",
       "      <th>16714</th>\n",
       "      <td>Winning Post 8 2016</td>\n",
       "      <td>PSV</td>\n",
       "      <td>2016.0</td>\n",
       "      <td>Simulation</td>\n",
       "      <td>0.00</td>\n",
       "      <td>0.00</td>\n",
       "      <td>0.01</td>\n",
       "      <td>0.00</td>\n",
       "      <td>NaN</td>\n",
       "      <td>NaN</td>\n",
       "      <td>NaN</td>\n",
       "    </tr>\n",
       "  </tbody>\n",
       "</table>\n",
       "<p>8576 rows × 11 columns</p>\n",
       "</div>"
      ],
      "text/plain": [
       "                                name platform    year         genre  na_sales  \\\n",
       "1                  Super Mario Bros.      NES  1985.0      Platform     29.08   \n",
       "4           Pokemon Red/Pokemon Blue       GB  1996.0  Role-Playing     11.27   \n",
       "5                             Tetris       GB  1989.0        Puzzle     23.20   \n",
       "9                          Duck Hunt      NES  1984.0       Shooter     26.93   \n",
       "10                        Nintendogs       DS  2005.0    Simulation      9.05   \n",
       "...                              ...      ...     ...           ...       ...   \n",
       "16710  Samurai Warriors: Sanada Maru      PS3  2016.0        Action      0.00   \n",
       "16711               LMA Manager 2007     X360  2006.0        Sports      0.00   \n",
       "16712        Haitaka no Psychedelica      PSV  2016.0     Adventure      0.00   \n",
       "16713               Spirits & Spells      GBA  2003.0      Platform      0.01   \n",
       "16714            Winning Post 8 2016      PSV  2016.0    Simulation      0.00   \n",
       "\n",
       "       eu_sales  jp_sales  other_sales  critic_score user_score rating  \n",
       "1          3.58      6.81         0.77           NaN        NaN    NaN  \n",
       "4          8.89     10.22         1.00           NaN        NaN    NaN  \n",
       "5          2.26      4.22         0.58           NaN        NaN    NaN  \n",
       "9          0.63      0.28         0.47           NaN        NaN    NaN  \n",
       "10        10.95      1.93         2.74           NaN        NaN    NaN  \n",
       "...         ...       ...          ...           ...        ...    ...  \n",
       "16710      0.00      0.01         0.00           NaN        NaN    NaN  \n",
       "16711      0.01      0.00         0.00           NaN        NaN    NaN  \n",
       "16712      0.00      0.01         0.00           NaN        NaN    NaN  \n",
       "16713      0.00      0.00         0.00           NaN        NaN    NaN  \n",
       "16714      0.00      0.01         0.00           NaN        NaN    NaN  \n",
       "\n",
       "[8576 rows x 11 columns]"
      ]
     },
     "metadata": {},
     "output_type": "display_data"
    },
    {
     "data": {
      "text/html": [
       "<div>\n",
       "<style scoped>\n",
       "    .dataframe tbody tr th:only-of-type {\n",
       "        vertical-align: middle;\n",
       "    }\n",
       "\n",
       "    .dataframe tbody tr th {\n",
       "        vertical-align: top;\n",
       "    }\n",
       "\n",
       "    .dataframe thead th {\n",
       "        text-align: right;\n",
       "    }\n",
       "</style>\n",
       "<table border=\"1\" class=\"dataframe\">\n",
       "  <thead>\n",
       "    <tr style=\"text-align: right;\">\n",
       "      <th></th>\n",
       "      <th>name</th>\n",
       "      <th>platform</th>\n",
       "      <th>year</th>\n",
       "      <th>genre</th>\n",
       "      <th>na_sales</th>\n",
       "      <th>eu_sales</th>\n",
       "      <th>jp_sales</th>\n",
       "      <th>other_sales</th>\n",
       "      <th>critic_score</th>\n",
       "      <th>user_score</th>\n",
       "      <th>rating</th>\n",
       "    </tr>\n",
       "  </thead>\n",
       "  <tbody>\n",
       "    <tr>\n",
       "      <th>1</th>\n",
       "      <td>Super Mario Bros.</td>\n",
       "      <td>NES</td>\n",
       "      <td>1985.0</td>\n",
       "      <td>Platform</td>\n",
       "      <td>29.08</td>\n",
       "      <td>3.58</td>\n",
       "      <td>6.81</td>\n",
       "      <td>0.77</td>\n",
       "      <td>NaN</td>\n",
       "      <td>NaN</td>\n",
       "      <td>NaN</td>\n",
       "    </tr>\n",
       "    <tr>\n",
       "      <th>4</th>\n",
       "      <td>Pokemon Red/Pokemon Blue</td>\n",
       "      <td>GB</td>\n",
       "      <td>1996.0</td>\n",
       "      <td>Role-Playing</td>\n",
       "      <td>11.27</td>\n",
       "      <td>8.89</td>\n",
       "      <td>10.22</td>\n",
       "      <td>1.00</td>\n",
       "      <td>NaN</td>\n",
       "      <td>NaN</td>\n",
       "      <td>NaN</td>\n",
       "    </tr>\n",
       "    <tr>\n",
       "      <th>5</th>\n",
       "      <td>Tetris</td>\n",
       "      <td>GB</td>\n",
       "      <td>1989.0</td>\n",
       "      <td>Puzzle</td>\n",
       "      <td>23.20</td>\n",
       "      <td>2.26</td>\n",
       "      <td>4.22</td>\n",
       "      <td>0.58</td>\n",
       "      <td>NaN</td>\n",
       "      <td>NaN</td>\n",
       "      <td>NaN</td>\n",
       "    </tr>\n",
       "    <tr>\n",
       "      <th>9</th>\n",
       "      <td>Duck Hunt</td>\n",
       "      <td>NES</td>\n",
       "      <td>1984.0</td>\n",
       "      <td>Shooter</td>\n",
       "      <td>26.93</td>\n",
       "      <td>0.63</td>\n",
       "      <td>0.28</td>\n",
       "      <td>0.47</td>\n",
       "      <td>NaN</td>\n",
       "      <td>NaN</td>\n",
       "      <td>NaN</td>\n",
       "    </tr>\n",
       "    <tr>\n",
       "      <th>10</th>\n",
       "      <td>Nintendogs</td>\n",
       "      <td>DS</td>\n",
       "      <td>2005.0</td>\n",
       "      <td>Simulation</td>\n",
       "      <td>9.05</td>\n",
       "      <td>10.95</td>\n",
       "      <td>1.93</td>\n",
       "      <td>2.74</td>\n",
       "      <td>NaN</td>\n",
       "      <td>NaN</td>\n",
       "      <td>NaN</td>\n",
       "    </tr>\n",
       "    <tr>\n",
       "      <th>...</th>\n",
       "      <td>...</td>\n",
       "      <td>...</td>\n",
       "      <td>...</td>\n",
       "      <td>...</td>\n",
       "      <td>...</td>\n",
       "      <td>...</td>\n",
       "      <td>...</td>\n",
       "      <td>...</td>\n",
       "      <td>...</td>\n",
       "      <td>...</td>\n",
       "      <td>...</td>\n",
       "    </tr>\n",
       "    <tr>\n",
       "      <th>16710</th>\n",
       "      <td>Samurai Warriors: Sanada Maru</td>\n",
       "      <td>PS3</td>\n",
       "      <td>2016.0</td>\n",
       "      <td>Action</td>\n",
       "      <td>0.00</td>\n",
       "      <td>0.00</td>\n",
       "      <td>0.01</td>\n",
       "      <td>0.00</td>\n",
       "      <td>NaN</td>\n",
       "      <td>NaN</td>\n",
       "      <td>NaN</td>\n",
       "    </tr>\n",
       "    <tr>\n",
       "      <th>16711</th>\n",
       "      <td>LMA Manager 2007</td>\n",
       "      <td>X360</td>\n",
       "      <td>2006.0</td>\n",
       "      <td>Sports</td>\n",
       "      <td>0.00</td>\n",
       "      <td>0.01</td>\n",
       "      <td>0.00</td>\n",
       "      <td>0.00</td>\n",
       "      <td>NaN</td>\n",
       "      <td>NaN</td>\n",
       "      <td>NaN</td>\n",
       "    </tr>\n",
       "    <tr>\n",
       "      <th>16712</th>\n",
       "      <td>Haitaka no Psychedelica</td>\n",
       "      <td>PSV</td>\n",
       "      <td>2016.0</td>\n",
       "      <td>Adventure</td>\n",
       "      <td>0.00</td>\n",
       "      <td>0.00</td>\n",
       "      <td>0.01</td>\n",
       "      <td>0.00</td>\n",
       "      <td>NaN</td>\n",
       "      <td>NaN</td>\n",
       "      <td>NaN</td>\n",
       "    </tr>\n",
       "    <tr>\n",
       "      <th>16713</th>\n",
       "      <td>Spirits &amp; Spells</td>\n",
       "      <td>GBA</td>\n",
       "      <td>2003.0</td>\n",
       "      <td>Platform</td>\n",
       "      <td>0.01</td>\n",
       "      <td>0.00</td>\n",
       "      <td>0.00</td>\n",
       "      <td>0.00</td>\n",
       "      <td>NaN</td>\n",
       "      <td>NaN</td>\n",
       "      <td>NaN</td>\n",
       "    </tr>\n",
       "    <tr>\n",
       "      <th>16714</th>\n",
       "      <td>Winning Post 8 2016</td>\n",
       "      <td>PSV</td>\n",
       "      <td>2016.0</td>\n",
       "      <td>Simulation</td>\n",
       "      <td>0.00</td>\n",
       "      <td>0.00</td>\n",
       "      <td>0.01</td>\n",
       "      <td>0.00</td>\n",
       "      <td>NaN</td>\n",
       "      <td>NaN</td>\n",
       "      <td>NaN</td>\n",
       "    </tr>\n",
       "  </tbody>\n",
       "</table>\n",
       "<p>6699 rows × 11 columns</p>\n",
       "</div>"
      ],
      "text/plain": [
       "                                name platform    year         genre  na_sales  \\\n",
       "1                  Super Mario Bros.      NES  1985.0      Platform     29.08   \n",
       "4           Pokemon Red/Pokemon Blue       GB  1996.0  Role-Playing     11.27   \n",
       "5                             Tetris       GB  1989.0        Puzzle     23.20   \n",
       "9                          Duck Hunt      NES  1984.0       Shooter     26.93   \n",
       "10                        Nintendogs       DS  2005.0    Simulation      9.05   \n",
       "...                              ...      ...     ...           ...       ...   \n",
       "16710  Samurai Warriors: Sanada Maru      PS3  2016.0        Action      0.00   \n",
       "16711               LMA Manager 2007     X360  2006.0        Sports      0.00   \n",
       "16712        Haitaka no Psychedelica      PSV  2016.0     Adventure      0.00   \n",
       "16713               Spirits & Spells      GBA  2003.0      Platform      0.01   \n",
       "16714            Winning Post 8 2016      PSV  2016.0    Simulation      0.00   \n",
       "\n",
       "       eu_sales  jp_sales  other_sales  critic_score user_score rating  \n",
       "1          3.58      6.81         0.77           NaN        NaN    NaN  \n",
       "4          8.89     10.22         1.00           NaN        NaN    NaN  \n",
       "5          2.26      4.22         0.58           NaN        NaN    NaN  \n",
       "9          0.63      0.28         0.47           NaN        NaN    NaN  \n",
       "10        10.95      1.93         2.74           NaN        NaN    NaN  \n",
       "...         ...       ...          ...           ...        ...    ...  \n",
       "16710      0.00      0.01         0.00           NaN        NaN    NaN  \n",
       "16711      0.01      0.00         0.00           NaN        NaN    NaN  \n",
       "16712      0.00      0.01         0.00           NaN        NaN    NaN  \n",
       "16713      0.00      0.00         0.00           NaN        NaN    NaN  \n",
       "16714      0.00      0.01         0.00           NaN        NaN    NaN  \n",
       "\n",
       "[6699 rows x 11 columns]"
      ]
     },
     "metadata": {},
     "output_type": "display_data"
    },
    {
     "data": {
      "text/html": [
       "<div>\n",
       "<style scoped>\n",
       "    .dataframe tbody tr th:only-of-type {\n",
       "        vertical-align: middle;\n",
       "    }\n",
       "\n",
       "    .dataframe tbody tr th {\n",
       "        vertical-align: top;\n",
       "    }\n",
       "\n",
       "    .dataframe thead th {\n",
       "        text-align: right;\n",
       "    }\n",
       "</style>\n",
       "<table border=\"1\" class=\"dataframe\">\n",
       "  <thead>\n",
       "    <tr style=\"text-align: right;\">\n",
       "      <th></th>\n",
       "      <th>name</th>\n",
       "      <th>platform</th>\n",
       "      <th>year</th>\n",
       "      <th>genre</th>\n",
       "      <th>na_sales</th>\n",
       "      <th>eu_sales</th>\n",
       "      <th>jp_sales</th>\n",
       "      <th>other_sales</th>\n",
       "      <th>critic_score</th>\n",
       "      <th>user_score</th>\n",
       "      <th>rating</th>\n",
       "    </tr>\n",
       "  </thead>\n",
       "  <tbody>\n",
       "    <tr>\n",
       "      <th>1</th>\n",
       "      <td>Super Mario Bros.</td>\n",
       "      <td>NES</td>\n",
       "      <td>1985.0</td>\n",
       "      <td>Platform</td>\n",
       "      <td>29.08</td>\n",
       "      <td>3.58</td>\n",
       "      <td>6.81</td>\n",
       "      <td>0.77</td>\n",
       "      <td>NaN</td>\n",
       "      <td>NaN</td>\n",
       "      <td>NaN</td>\n",
       "    </tr>\n",
       "    <tr>\n",
       "      <th>4</th>\n",
       "      <td>Pokemon Red/Pokemon Blue</td>\n",
       "      <td>GB</td>\n",
       "      <td>1996.0</td>\n",
       "      <td>Role-Playing</td>\n",
       "      <td>11.27</td>\n",
       "      <td>8.89</td>\n",
       "      <td>10.22</td>\n",
       "      <td>1.00</td>\n",
       "      <td>NaN</td>\n",
       "      <td>NaN</td>\n",
       "      <td>NaN</td>\n",
       "    </tr>\n",
       "    <tr>\n",
       "      <th>5</th>\n",
       "      <td>Tetris</td>\n",
       "      <td>GB</td>\n",
       "      <td>1989.0</td>\n",
       "      <td>Puzzle</td>\n",
       "      <td>23.20</td>\n",
       "      <td>2.26</td>\n",
       "      <td>4.22</td>\n",
       "      <td>0.58</td>\n",
       "      <td>NaN</td>\n",
       "      <td>NaN</td>\n",
       "      <td>NaN</td>\n",
       "    </tr>\n",
       "    <tr>\n",
       "      <th>9</th>\n",
       "      <td>Duck Hunt</td>\n",
       "      <td>NES</td>\n",
       "      <td>1984.0</td>\n",
       "      <td>Shooter</td>\n",
       "      <td>26.93</td>\n",
       "      <td>0.63</td>\n",
       "      <td>0.28</td>\n",
       "      <td>0.47</td>\n",
       "      <td>NaN</td>\n",
       "      <td>NaN</td>\n",
       "      <td>NaN</td>\n",
       "    </tr>\n",
       "    <tr>\n",
       "      <th>10</th>\n",
       "      <td>Nintendogs</td>\n",
       "      <td>DS</td>\n",
       "      <td>2005.0</td>\n",
       "      <td>Simulation</td>\n",
       "      <td>9.05</td>\n",
       "      <td>10.95</td>\n",
       "      <td>1.93</td>\n",
       "      <td>2.74</td>\n",
       "      <td>NaN</td>\n",
       "      <td>NaN</td>\n",
       "      <td>NaN</td>\n",
       "    </tr>\n",
       "    <tr>\n",
       "      <th>...</th>\n",
       "      <td>...</td>\n",
       "      <td>...</td>\n",
       "      <td>...</td>\n",
       "      <td>...</td>\n",
       "      <td>...</td>\n",
       "      <td>...</td>\n",
       "      <td>...</td>\n",
       "      <td>...</td>\n",
       "      <td>...</td>\n",
       "      <td>...</td>\n",
       "      <td>...</td>\n",
       "    </tr>\n",
       "    <tr>\n",
       "      <th>16710</th>\n",
       "      <td>Samurai Warriors: Sanada Maru</td>\n",
       "      <td>PS3</td>\n",
       "      <td>2016.0</td>\n",
       "      <td>Action</td>\n",
       "      <td>0.00</td>\n",
       "      <td>0.00</td>\n",
       "      <td>0.01</td>\n",
       "      <td>0.00</td>\n",
       "      <td>NaN</td>\n",
       "      <td>NaN</td>\n",
       "      <td>NaN</td>\n",
       "    </tr>\n",
       "    <tr>\n",
       "      <th>16711</th>\n",
       "      <td>LMA Manager 2007</td>\n",
       "      <td>X360</td>\n",
       "      <td>2006.0</td>\n",
       "      <td>Sports</td>\n",
       "      <td>0.00</td>\n",
       "      <td>0.01</td>\n",
       "      <td>0.00</td>\n",
       "      <td>0.00</td>\n",
       "      <td>NaN</td>\n",
       "      <td>NaN</td>\n",
       "      <td>NaN</td>\n",
       "    </tr>\n",
       "    <tr>\n",
       "      <th>16712</th>\n",
       "      <td>Haitaka no Psychedelica</td>\n",
       "      <td>PSV</td>\n",
       "      <td>2016.0</td>\n",
       "      <td>Adventure</td>\n",
       "      <td>0.00</td>\n",
       "      <td>0.00</td>\n",
       "      <td>0.01</td>\n",
       "      <td>0.00</td>\n",
       "      <td>NaN</td>\n",
       "      <td>NaN</td>\n",
       "      <td>NaN</td>\n",
       "    </tr>\n",
       "    <tr>\n",
       "      <th>16713</th>\n",
       "      <td>Spirits &amp; Spells</td>\n",
       "      <td>GBA</td>\n",
       "      <td>2003.0</td>\n",
       "      <td>Platform</td>\n",
       "      <td>0.01</td>\n",
       "      <td>0.00</td>\n",
       "      <td>0.00</td>\n",
       "      <td>0.00</td>\n",
       "      <td>NaN</td>\n",
       "      <td>NaN</td>\n",
       "      <td>NaN</td>\n",
       "    </tr>\n",
       "    <tr>\n",
       "      <th>16714</th>\n",
       "      <td>Winning Post 8 2016</td>\n",
       "      <td>PSV</td>\n",
       "      <td>2016.0</td>\n",
       "      <td>Simulation</td>\n",
       "      <td>0.00</td>\n",
       "      <td>0.00</td>\n",
       "      <td>0.01</td>\n",
       "      <td>0.00</td>\n",
       "      <td>NaN</td>\n",
       "      <td>NaN</td>\n",
       "      <td>NaN</td>\n",
       "    </tr>\n",
       "  </tbody>\n",
       "</table>\n",
       "<p>6764 rows × 11 columns</p>\n",
       "</div>"
      ],
      "text/plain": [
       "                                name platform    year         genre  na_sales  \\\n",
       "1                  Super Mario Bros.      NES  1985.0      Platform     29.08   \n",
       "4           Pokemon Red/Pokemon Blue       GB  1996.0  Role-Playing     11.27   \n",
       "5                             Tetris       GB  1989.0        Puzzle     23.20   \n",
       "9                          Duck Hunt      NES  1984.0       Shooter     26.93   \n",
       "10                        Nintendogs       DS  2005.0    Simulation      9.05   \n",
       "...                              ...      ...     ...           ...       ...   \n",
       "16710  Samurai Warriors: Sanada Maru      PS3  2016.0        Action      0.00   \n",
       "16711               LMA Manager 2007     X360  2006.0        Sports      0.00   \n",
       "16712        Haitaka no Psychedelica      PSV  2016.0     Adventure      0.00   \n",
       "16713               Spirits & Spells      GBA  2003.0      Platform      0.01   \n",
       "16714            Winning Post 8 2016      PSV  2016.0    Simulation      0.00   \n",
       "\n",
       "       eu_sales  jp_sales  other_sales  critic_score user_score rating  \n",
       "1          3.58      6.81         0.77           NaN        NaN    NaN  \n",
       "4          8.89     10.22         1.00           NaN        NaN    NaN  \n",
       "5          2.26      4.22         0.58           NaN        NaN    NaN  \n",
       "9          0.63      0.28         0.47           NaN        NaN    NaN  \n",
       "10        10.95      1.93         2.74           NaN        NaN    NaN  \n",
       "...         ...       ...          ...           ...        ...    ...  \n",
       "16710      0.00      0.01         0.00           NaN        NaN    NaN  \n",
       "16711      0.01      0.00         0.00           NaN        NaN    NaN  \n",
       "16712      0.00      0.01         0.00           NaN        NaN    NaN  \n",
       "16713      0.00      0.00         0.00           NaN        NaN    NaN  \n",
       "16714      0.00      0.01         0.00           NaN        NaN    NaN  \n",
       "\n",
       "[6764 rows x 11 columns]"
      ]
     },
     "metadata": {},
     "output_type": "display_data"
    }
   ],
   "source": [
    "display(\n",
    "    games.query('year.isna()'),\n",
    "    games.query('critic_score.isna()'),\n",
    "    games.query('user_score.isna()'),\n",
    "    games.query('rating.isna()'))"
   ]
  },
  {
   "cell_type": "code",
   "execution_count": 12,
   "metadata": {},
   "outputs": [
    {
     "data": {
      "text/html": [
       "<div>\n",
       "<style scoped>\n",
       "    .dataframe tbody tr th:only-of-type {\n",
       "        vertical-align: middle;\n",
       "    }\n",
       "\n",
       "    .dataframe tbody tr th {\n",
       "        vertical-align: top;\n",
       "    }\n",
       "\n",
       "    .dataframe thead th {\n",
       "        text-align: right;\n",
       "    }\n",
       "</style>\n",
       "<table border=\"1\" class=\"dataframe\">\n",
       "  <thead>\n",
       "    <tr style=\"text-align: right;\">\n",
       "      <th></th>\n",
       "      <th>name</th>\n",
       "      <th>platform</th>\n",
       "      <th>year</th>\n",
       "      <th>genre</th>\n",
       "      <th>na_sales</th>\n",
       "      <th>eu_sales</th>\n",
       "      <th>jp_sales</th>\n",
       "      <th>other_sales</th>\n",
       "      <th>critic_score</th>\n",
       "      <th>user_score</th>\n",
       "      <th>rating</th>\n",
       "    </tr>\n",
       "  </thead>\n",
       "  <tbody>\n",
       "    <tr>\n",
       "      <th>1</th>\n",
       "      <td>Super Mario Bros.</td>\n",
       "      <td>NES</td>\n",
       "      <td>1985.0</td>\n",
       "      <td>Platform</td>\n",
       "      <td>29.08</td>\n",
       "      <td>3.58</td>\n",
       "      <td>6.81</td>\n",
       "      <td>0.77</td>\n",
       "      <td>NaN</td>\n",
       "      <td>NaN</td>\n",
       "      <td>NaN</td>\n",
       "    </tr>\n",
       "    <tr>\n",
       "      <th>4</th>\n",
       "      <td>Pokemon Red/Pokemon Blue</td>\n",
       "      <td>GB</td>\n",
       "      <td>1996.0</td>\n",
       "      <td>Role-Playing</td>\n",
       "      <td>11.27</td>\n",
       "      <td>8.89</td>\n",
       "      <td>10.22</td>\n",
       "      <td>1.00</td>\n",
       "      <td>NaN</td>\n",
       "      <td>NaN</td>\n",
       "      <td>NaN</td>\n",
       "    </tr>\n",
       "    <tr>\n",
       "      <th>5</th>\n",
       "      <td>Tetris</td>\n",
       "      <td>GB</td>\n",
       "      <td>1989.0</td>\n",
       "      <td>Puzzle</td>\n",
       "      <td>23.20</td>\n",
       "      <td>2.26</td>\n",
       "      <td>4.22</td>\n",
       "      <td>0.58</td>\n",
       "      <td>NaN</td>\n",
       "      <td>NaN</td>\n",
       "      <td>NaN</td>\n",
       "    </tr>\n",
       "    <tr>\n",
       "      <th>9</th>\n",
       "      <td>Duck Hunt</td>\n",
       "      <td>NES</td>\n",
       "      <td>1984.0</td>\n",
       "      <td>Shooter</td>\n",
       "      <td>26.93</td>\n",
       "      <td>0.63</td>\n",
       "      <td>0.28</td>\n",
       "      <td>0.47</td>\n",
       "      <td>NaN</td>\n",
       "      <td>NaN</td>\n",
       "      <td>NaN</td>\n",
       "    </tr>\n",
       "    <tr>\n",
       "      <th>10</th>\n",
       "      <td>Nintendogs</td>\n",
       "      <td>DS</td>\n",
       "      <td>2005.0</td>\n",
       "      <td>Simulation</td>\n",
       "      <td>9.05</td>\n",
       "      <td>10.95</td>\n",
       "      <td>1.93</td>\n",
       "      <td>2.74</td>\n",
       "      <td>NaN</td>\n",
       "      <td>NaN</td>\n",
       "      <td>NaN</td>\n",
       "    </tr>\n",
       "    <tr>\n",
       "      <th>...</th>\n",
       "      <td>...</td>\n",
       "      <td>...</td>\n",
       "      <td>...</td>\n",
       "      <td>...</td>\n",
       "      <td>...</td>\n",
       "      <td>...</td>\n",
       "      <td>...</td>\n",
       "      <td>...</td>\n",
       "      <td>...</td>\n",
       "      <td>...</td>\n",
       "      <td>...</td>\n",
       "    </tr>\n",
       "    <tr>\n",
       "      <th>16710</th>\n",
       "      <td>Samurai Warriors: Sanada Maru</td>\n",
       "      <td>PS3</td>\n",
       "      <td>2016.0</td>\n",
       "      <td>Action</td>\n",
       "      <td>0.00</td>\n",
       "      <td>0.00</td>\n",
       "      <td>0.01</td>\n",
       "      <td>0.00</td>\n",
       "      <td>NaN</td>\n",
       "      <td>NaN</td>\n",
       "      <td>NaN</td>\n",
       "    </tr>\n",
       "    <tr>\n",
       "      <th>16711</th>\n",
       "      <td>LMA Manager 2007</td>\n",
       "      <td>X360</td>\n",
       "      <td>2006.0</td>\n",
       "      <td>Sports</td>\n",
       "      <td>0.00</td>\n",
       "      <td>0.01</td>\n",
       "      <td>0.00</td>\n",
       "      <td>0.00</td>\n",
       "      <td>NaN</td>\n",
       "      <td>NaN</td>\n",
       "      <td>NaN</td>\n",
       "    </tr>\n",
       "    <tr>\n",
       "      <th>16712</th>\n",
       "      <td>Haitaka no Psychedelica</td>\n",
       "      <td>PSV</td>\n",
       "      <td>2016.0</td>\n",
       "      <td>Adventure</td>\n",
       "      <td>0.00</td>\n",
       "      <td>0.00</td>\n",
       "      <td>0.01</td>\n",
       "      <td>0.00</td>\n",
       "      <td>NaN</td>\n",
       "      <td>NaN</td>\n",
       "      <td>NaN</td>\n",
       "    </tr>\n",
       "    <tr>\n",
       "      <th>16713</th>\n",
       "      <td>Spirits &amp; Spells</td>\n",
       "      <td>GBA</td>\n",
       "      <td>2003.0</td>\n",
       "      <td>Platform</td>\n",
       "      <td>0.01</td>\n",
       "      <td>0.00</td>\n",
       "      <td>0.00</td>\n",
       "      <td>0.00</td>\n",
       "      <td>NaN</td>\n",
       "      <td>NaN</td>\n",
       "      <td>NaN</td>\n",
       "    </tr>\n",
       "    <tr>\n",
       "      <th>16714</th>\n",
       "      <td>Winning Post 8 2016</td>\n",
       "      <td>PSV</td>\n",
       "      <td>2016.0</td>\n",
       "      <td>Simulation</td>\n",
       "      <td>0.00</td>\n",
       "      <td>0.00</td>\n",
       "      <td>0.01</td>\n",
       "      <td>0.00</td>\n",
       "      <td>NaN</td>\n",
       "      <td>NaN</td>\n",
       "      <td>NaN</td>\n",
       "    </tr>\n",
       "  </tbody>\n",
       "</table>\n",
       "<p>6619 rows × 11 columns</p>\n",
       "</div>"
      ],
      "text/plain": [
       "                                name platform    year         genre  na_sales  \\\n",
       "1                  Super Mario Bros.      NES  1985.0      Platform     29.08   \n",
       "4           Pokemon Red/Pokemon Blue       GB  1996.0  Role-Playing     11.27   \n",
       "5                             Tetris       GB  1989.0        Puzzle     23.20   \n",
       "9                          Duck Hunt      NES  1984.0       Shooter     26.93   \n",
       "10                        Nintendogs       DS  2005.0    Simulation      9.05   \n",
       "...                              ...      ...     ...           ...       ...   \n",
       "16710  Samurai Warriors: Sanada Maru      PS3  2016.0        Action      0.00   \n",
       "16711               LMA Manager 2007     X360  2006.0        Sports      0.00   \n",
       "16712        Haitaka no Psychedelica      PSV  2016.0     Adventure      0.00   \n",
       "16713               Spirits & Spells      GBA  2003.0      Platform      0.01   \n",
       "16714            Winning Post 8 2016      PSV  2016.0    Simulation      0.00   \n",
       "\n",
       "       eu_sales  jp_sales  other_sales  critic_score user_score rating  \n",
       "1          3.58      6.81         0.77           NaN        NaN    NaN  \n",
       "4          8.89     10.22         1.00           NaN        NaN    NaN  \n",
       "5          2.26      4.22         0.58           NaN        NaN    NaN  \n",
       "9          0.63      0.28         0.47           NaN        NaN    NaN  \n",
       "10        10.95      1.93         2.74           NaN        NaN    NaN  \n",
       "...         ...       ...          ...           ...        ...    ...  \n",
       "16710      0.00      0.01         0.00           NaN        NaN    NaN  \n",
       "16711      0.01      0.00         0.00           NaN        NaN    NaN  \n",
       "16712      0.00      0.01         0.00           NaN        NaN    NaN  \n",
       "16713      0.00      0.00         0.00           NaN        NaN    NaN  \n",
       "16714      0.00      0.01         0.00           NaN        NaN    NaN  \n",
       "\n",
       "[6619 rows x 11 columns]"
      ]
     },
     "execution_count": 12,
     "metadata": {},
     "output_type": "execute_result"
    }
   ],
   "source": [
    "games.query('critic_score.isna() & user_score.isna() & rating.isna()')"
   ]
  },
  {
   "cell_type": "markdown",
   "metadata": {},
   "source": [
    "Интересно что большое число пропусков в столбцах critic_score, user_score и rating совпадают по user_score. Значит если игра настолько непопулярна, что у нее нет отзывов пользователей, значит у нее не будет и отзывов критиков и рейтинга."
   ]
  },
  {
   "cell_type": "code",
   "execution_count": 13,
   "metadata": {},
   "outputs": [
    {
     "data": {
      "text/html": [
       "<div>\n",
       "<style scoped>\n",
       "    .dataframe tbody tr th:only-of-type {\n",
       "        vertical-align: middle;\n",
       "    }\n",
       "\n",
       "    .dataframe tbody tr th {\n",
       "        vertical-align: top;\n",
       "    }\n",
       "\n",
       "    .dataframe thead th {\n",
       "        text-align: right;\n",
       "    }\n",
       "</style>\n",
       "<table border=\"1\" class=\"dataframe\">\n",
       "  <thead>\n",
       "    <tr style=\"text-align: right;\">\n",
       "      <th></th>\n",
       "      <th>name</th>\n",
       "      <th>platform</th>\n",
       "      <th>year</th>\n",
       "      <th>genre</th>\n",
       "      <th>na_sales</th>\n",
       "      <th>eu_sales</th>\n",
       "      <th>jp_sales</th>\n",
       "      <th>other_sales</th>\n",
       "      <th>critic_score</th>\n",
       "      <th>user_score</th>\n",
       "      <th>rating</th>\n",
       "    </tr>\n",
       "  </thead>\n",
       "  <tbody>\n",
       "    <tr>\n",
       "      <th>119</th>\n",
       "      <td>Zumba Fitness</td>\n",
       "      <td>Wii</td>\n",
       "      <td>2010.0</td>\n",
       "      <td>Sports</td>\n",
       "      <td>3.45</td>\n",
       "      <td>2.59</td>\n",
       "      <td>0.0</td>\n",
       "      <td>0.66</td>\n",
       "      <td>NaN</td>\n",
       "      <td>tbd</td>\n",
       "      <td>E</td>\n",
       "    </tr>\n",
       "    <tr>\n",
       "      <th>301</th>\n",
       "      <td>Namco Museum: 50th Anniversary</td>\n",
       "      <td>PS2</td>\n",
       "      <td>2005.0</td>\n",
       "      <td>Misc</td>\n",
       "      <td>2.08</td>\n",
       "      <td>1.35</td>\n",
       "      <td>0.0</td>\n",
       "      <td>0.54</td>\n",
       "      <td>61.0</td>\n",
       "      <td>tbd</td>\n",
       "      <td>E10+</td>\n",
       "    </tr>\n",
       "    <tr>\n",
       "      <th>520</th>\n",
       "      <td>Zumba Fitness 2</td>\n",
       "      <td>Wii</td>\n",
       "      <td>2011.0</td>\n",
       "      <td>Sports</td>\n",
       "      <td>1.51</td>\n",
       "      <td>1.03</td>\n",
       "      <td>0.0</td>\n",
       "      <td>0.27</td>\n",
       "      <td>NaN</td>\n",
       "      <td>tbd</td>\n",
       "      <td>T</td>\n",
       "    </tr>\n",
       "    <tr>\n",
       "      <th>645</th>\n",
       "      <td>uDraw Studio</td>\n",
       "      <td>Wii</td>\n",
       "      <td>2010.0</td>\n",
       "      <td>Misc</td>\n",
       "      <td>1.65</td>\n",
       "      <td>0.57</td>\n",
       "      <td>0.0</td>\n",
       "      <td>0.20</td>\n",
       "      <td>71.0</td>\n",
       "      <td>tbd</td>\n",
       "      <td>E</td>\n",
       "    </tr>\n",
       "    <tr>\n",
       "      <th>657</th>\n",
       "      <td>Frogger's Adventures: Temple of the Frog</td>\n",
       "      <td>GBA</td>\n",
       "      <td>NaN</td>\n",
       "      <td>Adventure</td>\n",
       "      <td>2.15</td>\n",
       "      <td>0.18</td>\n",
       "      <td>0.0</td>\n",
       "      <td>0.07</td>\n",
       "      <td>73.0</td>\n",
       "      <td>tbd</td>\n",
       "      <td>E</td>\n",
       "    </tr>\n",
       "    <tr>\n",
       "      <th>...</th>\n",
       "      <td>...</td>\n",
       "      <td>...</td>\n",
       "      <td>...</td>\n",
       "      <td>...</td>\n",
       "      <td>...</td>\n",
       "      <td>...</td>\n",
       "      <td>...</td>\n",
       "      <td>...</td>\n",
       "      <td>...</td>\n",
       "      <td>...</td>\n",
       "      <td>...</td>\n",
       "    </tr>\n",
       "    <tr>\n",
       "      <th>16695</th>\n",
       "      <td>Planet Monsters</td>\n",
       "      <td>GBA</td>\n",
       "      <td>2001.0</td>\n",
       "      <td>Action</td>\n",
       "      <td>0.01</td>\n",
       "      <td>0.00</td>\n",
       "      <td>0.0</td>\n",
       "      <td>0.00</td>\n",
       "      <td>67.0</td>\n",
       "      <td>tbd</td>\n",
       "      <td>E</td>\n",
       "    </tr>\n",
       "    <tr>\n",
       "      <th>16697</th>\n",
       "      <td>Bust-A-Move 3000</td>\n",
       "      <td>GC</td>\n",
       "      <td>2003.0</td>\n",
       "      <td>Puzzle</td>\n",
       "      <td>0.01</td>\n",
       "      <td>0.00</td>\n",
       "      <td>0.0</td>\n",
       "      <td>0.00</td>\n",
       "      <td>53.0</td>\n",
       "      <td>tbd</td>\n",
       "      <td>E</td>\n",
       "    </tr>\n",
       "    <tr>\n",
       "      <th>16698</th>\n",
       "      <td>Mega Brain Boost</td>\n",
       "      <td>DS</td>\n",
       "      <td>2008.0</td>\n",
       "      <td>Puzzle</td>\n",
       "      <td>0.01</td>\n",
       "      <td>0.00</td>\n",
       "      <td>0.0</td>\n",
       "      <td>0.00</td>\n",
       "      <td>48.0</td>\n",
       "      <td>tbd</td>\n",
       "      <td>E</td>\n",
       "    </tr>\n",
       "    <tr>\n",
       "      <th>16704</th>\n",
       "      <td>Plushees</td>\n",
       "      <td>DS</td>\n",
       "      <td>2008.0</td>\n",
       "      <td>Simulation</td>\n",
       "      <td>0.01</td>\n",
       "      <td>0.00</td>\n",
       "      <td>0.0</td>\n",
       "      <td>0.00</td>\n",
       "      <td>NaN</td>\n",
       "      <td>tbd</td>\n",
       "      <td>E</td>\n",
       "    </tr>\n",
       "    <tr>\n",
       "      <th>16706</th>\n",
       "      <td>Men in Black II: Alien Escape</td>\n",
       "      <td>GC</td>\n",
       "      <td>2003.0</td>\n",
       "      <td>Shooter</td>\n",
       "      <td>0.01</td>\n",
       "      <td>0.00</td>\n",
       "      <td>0.0</td>\n",
       "      <td>0.00</td>\n",
       "      <td>NaN</td>\n",
       "      <td>tbd</td>\n",
       "      <td>T</td>\n",
       "    </tr>\n",
       "  </tbody>\n",
       "</table>\n",
       "<p>2424 rows × 11 columns</p>\n",
       "</div>"
      ],
      "text/plain": [
       "                                           name platform    year       genre  \\\n",
       "119                               Zumba Fitness      Wii  2010.0      Sports   \n",
       "301              Namco Museum: 50th Anniversary      PS2  2005.0        Misc   \n",
       "520                             Zumba Fitness 2      Wii  2011.0      Sports   \n",
       "645                                uDraw Studio      Wii  2010.0        Misc   \n",
       "657    Frogger's Adventures: Temple of the Frog      GBA     NaN   Adventure   \n",
       "...                                         ...      ...     ...         ...   \n",
       "16695                           Planet Monsters      GBA  2001.0      Action   \n",
       "16697                          Bust-A-Move 3000       GC  2003.0      Puzzle   \n",
       "16698                          Mega Brain Boost       DS  2008.0      Puzzle   \n",
       "16704                                  Plushees       DS  2008.0  Simulation   \n",
       "16706             Men in Black II: Alien Escape       GC  2003.0     Shooter   \n",
       "\n",
       "       na_sales  eu_sales  jp_sales  other_sales  critic_score user_score  \\\n",
       "119        3.45      2.59       0.0         0.66           NaN        tbd   \n",
       "301        2.08      1.35       0.0         0.54          61.0        tbd   \n",
       "520        1.51      1.03       0.0         0.27           NaN        tbd   \n",
       "645        1.65      0.57       0.0         0.20          71.0        tbd   \n",
       "657        2.15      0.18       0.0         0.07          73.0        tbd   \n",
       "...         ...       ...       ...          ...           ...        ...   \n",
       "16695      0.01      0.00       0.0         0.00          67.0        tbd   \n",
       "16697      0.01      0.00       0.0         0.00          53.0        tbd   \n",
       "16698      0.01      0.00       0.0         0.00          48.0        tbd   \n",
       "16704      0.01      0.00       0.0         0.00           NaN        tbd   \n",
       "16706      0.01      0.00       0.0         0.00           NaN        tbd   \n",
       "\n",
       "      rating  \n",
       "119        E  \n",
       "301     E10+  \n",
       "520        T  \n",
       "645        E  \n",
       "657        E  \n",
       "...      ...  \n",
       "16695      E  \n",
       "16697      E  \n",
       "16698      E  \n",
       "16704      E  \n",
       "16706      T  \n",
       "\n",
       "[2424 rows x 11 columns]"
      ]
     },
     "execution_count": 13,
     "metadata": {},
     "output_type": "execute_result"
    }
   ],
   "source": [
    "games[games['user_score'] == 'tbd']"
   ]
  },
  {
   "cell_type": "markdown",
   "metadata": {},
   "source": [
    "Похоже что аббревиатура tbd означает 'to be displayed' или 'to be determined."
   ]
  },
  {
   "cell_type": "code",
   "execution_count": 14,
   "metadata": {
    "scrolled": true
   },
   "outputs": [
    {
     "data": {
      "text/html": [
       "<div>\n",
       "<style scoped>\n",
       "    .dataframe tbody tr th:only-of-type {\n",
       "        vertical-align: middle;\n",
       "    }\n",
       "\n",
       "    .dataframe tbody tr th {\n",
       "        vertical-align: top;\n",
       "    }\n",
       "\n",
       "    .dataframe thead th {\n",
       "        text-align: right;\n",
       "    }\n",
       "</style>\n",
       "<table border=\"1\" class=\"dataframe\">\n",
       "  <thead>\n",
       "    <tr style=\"text-align: right;\">\n",
       "      <th></th>\n",
       "      <th>name</th>\n",
       "      <th>platform</th>\n",
       "      <th>year</th>\n",
       "      <th>genre</th>\n",
       "      <th>na_sales</th>\n",
       "      <th>eu_sales</th>\n",
       "      <th>jp_sales</th>\n",
       "      <th>other_sales</th>\n",
       "      <th>critic_score</th>\n",
       "      <th>user_score</th>\n",
       "      <th>rating</th>\n",
       "    </tr>\n",
       "  </thead>\n",
       "  <tbody>\n",
       "    <tr>\n",
       "      <th>1</th>\n",
       "      <td>Super Mario Bros.</td>\n",
       "      <td>NES</td>\n",
       "      <td>1985.0</td>\n",
       "      <td>Platform</td>\n",
       "      <td>29.08</td>\n",
       "      <td>3.58</td>\n",
       "      <td>6.81</td>\n",
       "      <td>0.77</td>\n",
       "      <td>NaN</td>\n",
       "      <td>NaN</td>\n",
       "      <td>NaN</td>\n",
       "    </tr>\n",
       "    <tr>\n",
       "      <th>4</th>\n",
       "      <td>Pokemon Red/Pokemon Blue</td>\n",
       "      <td>GB</td>\n",
       "      <td>1996.0</td>\n",
       "      <td>Role-Playing</td>\n",
       "      <td>11.27</td>\n",
       "      <td>8.89</td>\n",
       "      <td>10.22</td>\n",
       "      <td>1.00</td>\n",
       "      <td>NaN</td>\n",
       "      <td>NaN</td>\n",
       "      <td>NaN</td>\n",
       "    </tr>\n",
       "    <tr>\n",
       "      <th>5</th>\n",
       "      <td>Tetris</td>\n",
       "      <td>GB</td>\n",
       "      <td>1989.0</td>\n",
       "      <td>Puzzle</td>\n",
       "      <td>23.20</td>\n",
       "      <td>2.26</td>\n",
       "      <td>4.22</td>\n",
       "      <td>0.58</td>\n",
       "      <td>NaN</td>\n",
       "      <td>NaN</td>\n",
       "      <td>NaN</td>\n",
       "    </tr>\n",
       "    <tr>\n",
       "      <th>9</th>\n",
       "      <td>Duck Hunt</td>\n",
       "      <td>NES</td>\n",
       "      <td>1984.0</td>\n",
       "      <td>Shooter</td>\n",
       "      <td>26.93</td>\n",
       "      <td>0.63</td>\n",
       "      <td>0.28</td>\n",
       "      <td>0.47</td>\n",
       "      <td>NaN</td>\n",
       "      <td>NaN</td>\n",
       "      <td>NaN</td>\n",
       "    </tr>\n",
       "    <tr>\n",
       "      <th>10</th>\n",
       "      <td>Nintendogs</td>\n",
       "      <td>DS</td>\n",
       "      <td>2005.0</td>\n",
       "      <td>Simulation</td>\n",
       "      <td>9.05</td>\n",
       "      <td>10.95</td>\n",
       "      <td>1.93</td>\n",
       "      <td>2.74</td>\n",
       "      <td>NaN</td>\n",
       "      <td>NaN</td>\n",
       "      <td>NaN</td>\n",
       "    </tr>\n",
       "    <tr>\n",
       "      <th>...</th>\n",
       "      <td>...</td>\n",
       "      <td>...</td>\n",
       "      <td>...</td>\n",
       "      <td>...</td>\n",
       "      <td>...</td>\n",
       "      <td>...</td>\n",
       "      <td>...</td>\n",
       "      <td>...</td>\n",
       "      <td>...</td>\n",
       "      <td>...</td>\n",
       "      <td>...</td>\n",
       "    </tr>\n",
       "    <tr>\n",
       "      <th>16710</th>\n",
       "      <td>Samurai Warriors: Sanada Maru</td>\n",
       "      <td>PS3</td>\n",
       "      <td>2016.0</td>\n",
       "      <td>Action</td>\n",
       "      <td>0.00</td>\n",
       "      <td>0.00</td>\n",
       "      <td>0.01</td>\n",
       "      <td>0.00</td>\n",
       "      <td>NaN</td>\n",
       "      <td>NaN</td>\n",
       "      <td>NaN</td>\n",
       "    </tr>\n",
       "    <tr>\n",
       "      <th>16711</th>\n",
       "      <td>LMA Manager 2007</td>\n",
       "      <td>X360</td>\n",
       "      <td>2006.0</td>\n",
       "      <td>Sports</td>\n",
       "      <td>0.00</td>\n",
       "      <td>0.01</td>\n",
       "      <td>0.00</td>\n",
       "      <td>0.00</td>\n",
       "      <td>NaN</td>\n",
       "      <td>NaN</td>\n",
       "      <td>NaN</td>\n",
       "    </tr>\n",
       "    <tr>\n",
       "      <th>16712</th>\n",
       "      <td>Haitaka no Psychedelica</td>\n",
       "      <td>PSV</td>\n",
       "      <td>2016.0</td>\n",
       "      <td>Adventure</td>\n",
       "      <td>0.00</td>\n",
       "      <td>0.00</td>\n",
       "      <td>0.01</td>\n",
       "      <td>0.00</td>\n",
       "      <td>NaN</td>\n",
       "      <td>NaN</td>\n",
       "      <td>NaN</td>\n",
       "    </tr>\n",
       "    <tr>\n",
       "      <th>16713</th>\n",
       "      <td>Spirits &amp; Spells</td>\n",
       "      <td>GBA</td>\n",
       "      <td>2003.0</td>\n",
       "      <td>Platform</td>\n",
       "      <td>0.01</td>\n",
       "      <td>0.00</td>\n",
       "      <td>0.00</td>\n",
       "      <td>0.00</td>\n",
       "      <td>NaN</td>\n",
       "      <td>NaN</td>\n",
       "      <td>NaN</td>\n",
       "    </tr>\n",
       "    <tr>\n",
       "      <th>16714</th>\n",
       "      <td>Winning Post 8 2016</td>\n",
       "      <td>PSV</td>\n",
       "      <td>2016.0</td>\n",
       "      <td>Simulation</td>\n",
       "      <td>0.00</td>\n",
       "      <td>0.00</td>\n",
       "      <td>0.01</td>\n",
       "      <td>0.00</td>\n",
       "      <td>NaN</td>\n",
       "      <td>NaN</td>\n",
       "      <td>NaN</td>\n",
       "    </tr>\n",
       "  </tbody>\n",
       "</table>\n",
       "<p>6764 rows × 11 columns</p>\n",
       "</div>"
      ],
      "text/plain": [
       "                                name platform    year         genre  na_sales  \\\n",
       "1                  Super Mario Bros.      NES  1985.0      Platform     29.08   \n",
       "4           Pokemon Red/Pokemon Blue       GB  1996.0  Role-Playing     11.27   \n",
       "5                             Tetris       GB  1989.0        Puzzle     23.20   \n",
       "9                          Duck Hunt      NES  1984.0       Shooter     26.93   \n",
       "10                        Nintendogs       DS  2005.0    Simulation      9.05   \n",
       "...                              ...      ...     ...           ...       ...   \n",
       "16710  Samurai Warriors: Sanada Maru      PS3  2016.0        Action      0.00   \n",
       "16711               LMA Manager 2007     X360  2006.0        Sports      0.00   \n",
       "16712        Haitaka no Psychedelica      PSV  2016.0     Adventure      0.00   \n",
       "16713               Spirits & Spells      GBA  2003.0      Platform      0.01   \n",
       "16714            Winning Post 8 2016      PSV  2016.0    Simulation      0.00   \n",
       "\n",
       "       eu_sales  jp_sales  other_sales  critic_score user_score rating  \n",
       "1          3.58      6.81         0.77           NaN        NaN    NaN  \n",
       "4          8.89     10.22         1.00           NaN        NaN    NaN  \n",
       "5          2.26      4.22         0.58           NaN        NaN    NaN  \n",
       "9          0.63      0.28         0.47           NaN        NaN    NaN  \n",
       "10        10.95      1.93         2.74           NaN        NaN    NaN  \n",
       "...         ...       ...          ...           ...        ...    ...  \n",
       "16710      0.00      0.01         0.00           NaN        NaN    NaN  \n",
       "16711      0.01      0.00         0.00           NaN        NaN    NaN  \n",
       "16712      0.00      0.01         0.00           NaN        NaN    NaN  \n",
       "16713      0.00      0.00         0.00           NaN        NaN    NaN  \n",
       "16714      0.00      0.01         0.00           NaN        NaN    NaN  \n",
       "\n",
       "[6764 rows x 11 columns]"
      ]
     },
     "execution_count": 14,
     "metadata": {},
     "output_type": "execute_result"
    }
   ],
   "source": [
    "games[games['rating'].isna()]"
   ]
  },
  {
   "cell_type": "markdown",
   "metadata": {},
   "source": [
    "Заполним пропуски в рейтингах текстовым значением, и поменяем tbd на 0"
   ]
  },
  {
   "cell_type": "code",
   "execution_count": 15,
   "metadata": {},
   "outputs": [
    {
     "data": {
      "text/plain": [
       "7590"
      ]
     },
     "execution_count": 15,
     "metadata": {},
     "output_type": "execute_result"
    }
   ],
   "source": [
    "games[(games['user_score'].notna()) & (games['user_score'] != \"tbd\")]['user_score'].count()"
   ]
  },
  {
   "cell_type": "code",
   "execution_count": 16,
   "metadata": {},
   "outputs": [],
   "source": [
    "games.loc[games['user_score'] == 'tbd', 'user_score'] = np.nan\n",
    "games.loc[games['rating'].isna(), 'rating'] = 'unrated'"
   ]
  },
  {
   "cell_type": "code",
   "execution_count": 17,
   "metadata": {},
   "outputs": [
    {
     "data": {
      "text/plain": [
       "0        8.0\n",
       "1        NaN\n",
       "2        8.3\n",
       "3        8.0\n",
       "4        NaN\n",
       "        ... \n",
       "16710    NaN\n",
       "16711    NaN\n",
       "16712    NaN\n",
       "16713    NaN\n",
       "16714    NaN\n",
       "Name: user_score, Length: 16713, dtype: float64"
      ]
     },
     "execution_count": 17,
     "metadata": {},
     "output_type": "execute_result"
    }
   ],
   "source": [
    "games['user_score'] = games['user_score'].astype('float')\n",
    "games['user_score']"
   ]
  },
  {
   "cell_type": "code",
   "execution_count": 18,
   "metadata": {},
   "outputs": [],
   "source": [
    "games['total_sales'] = games['na_sales'] + games['eu_sales'] + games['jp_sales']"
   ]
  },
  {
   "cell_type": "code",
   "execution_count": 19,
   "metadata": {},
   "outputs": [
    {
     "data": {
      "text/plain": [
       "count    1.00\n",
       "mean     0.66\n",
       "std       NaN\n",
       "min      0.66\n",
       "25%      0.66\n",
       "50%      0.66\n",
       "75%      0.66\n",
       "max      0.66\n",
       "Name: total_sales, dtype: float64"
      ]
     },
     "metadata": {},
     "output_type": "display_data"
    },
    {
     "data": {
      "text/plain": [
       "count    16713.000000\n",
       "mean         0.485972\n",
       "std          1.413780\n",
       "min          0.000000\n",
       "25%          0.060000\n",
       "50%          0.150000\n",
       "75%          0.430000\n",
       "max         74.090000\n",
       "Name: total_sales, dtype: float64"
      ]
     },
     "metadata": {},
     "output_type": "display_data"
    }
   ],
   "source": [
    "display(\n",
    "    games.query('user_score == 0')['total_sales'].describe(),\n",
    "    games['total_sales'].describe()\n",
    ")"
   ]
  },
  {
   "cell_type": "code",
   "execution_count": 20,
   "metadata": {
    "scrolled": true
   },
   "outputs": [
    {
     "data": {
      "text/plain": [
       "Text(0.5, 1.0, 'Пропорция продаж игр без пользовательского рейтинга ко всем играм')"
      ]
     },
     "execution_count": 20,
     "metadata": {},
     "output_type": "execute_result"
    },
    {
     "data": {
      "image/png": "[encoded data removed]",
      "text/plain": [
       "<Figure size 432x288 with 1 Axes>"
      ]
     },
     "metadata": {
      "needs_background": "light"
     },
     "output_type": "display_data"
    }
   ],
   "source": [
    "x = games.query('user_score == 0')['total_sales'].plot(range=(0,1), bins=100, density=True, kind='hist')\n",
    "x = games['total_sales'].plot(range=(0,1), bins=100, alpha=0.5, density=True, kind='hist')\n",
    "x.set_xlabel('Total Sales')\n",
    "x.set_ylabel('Относительное количество игр с tbd')\n",
    "x.legend(['Total sales', 'TBD Sales'])\n",
    "x.set_title('Пропорция продаж игр без пользовательского рейтинга ко всем играм')\n",
    "#plt.xlabel('Total sales')\n",
    "#plt.ylabel('Относительное количество игр с tbd')"
   ]
  },
  {
   "cell_type": "markdown",
   "metadata": {},
   "source": [
    "Хотя игр с tbd меньше, они равномерно распределены по продажам со всеми играми."
   ]
  },
  {
   "cell_type": "markdown",
   "metadata": {},
   "source": [
    "## Исследовательский анализ"
   ]
  },
  {
   "cell_type": "markdown",
   "metadata": {},
   "source": [
    "Посмотрите, сколько игр выпускалось в разные годы. Важны ли данные за все периоды?\n",
    "    \n",
    "Посмотрите, как менялись продажи по платформам.\n",
    "Выберите платформы с наибольшими суммарными продажами и постройте распределение по годам. За какой характерный срок появляются новые и исчезают старые платформы?\n",
    "Возьмите данные за соответствующий актуальный период. Актуальный период определите самостоятельно в результате исследования предыдущих вопросов. Основной фактор — эти данные помогут построить прогноз на 2017 год.\n",
    "Не учитывайте в работе данные за предыдущие годы.\n",
    "Какие платформы лидируют по продажам, растут или падают? Выберите несколько потенциально прибыльных платформ.\n",
    "Постройте график «ящик с усами» по глобальным продажам игр в разбивке по платформам. Опишите результат.\n",
    "Посмотрите, как влияют на продажи внутри одной популярной платформы отзывы пользователей и критиков. Постройте диаграмму рассеяния и посчитайте корреляцию между отзывами и продажами. Сформулируйте выводы.\n",
    "Соотнесите выводы с продажами игр на других платформах.\n",
    "Посмотрите на общее распределение игр по жанрам. Что можно сказать о самых прибыльных жанрах? Выделяются ли жанры с высокими и низкими продажами?"
   ]
  },
  {
   "cell_type": "code",
   "execution_count": 21,
   "metadata": {},
   "outputs": [
    {
     "data": {
      "text/plain": [
       "Text(0.5, 1.0, 'Количество игр выпускаемых в год')"
      ]
     },
     "execution_count": 21,
     "metadata": {},
     "output_type": "execute_result"
    },
    {
     "data": {
      "image/png": "[encoded data removed]",
      "text/plain": [
       "<Figure size 1152x648 with 1 Axes>"
      ]
     },
     "metadata": {
      "needs_background": "light"
     },
     "output_type": "display_data"
    }
   ],
   "source": [
    "year_sales = games.groupby('year')['name'].count()\n",
    "y = year_sales.plot(kind='bar', figsize=(16,9))\n",
    "y.set_xlabel('year', fontsize=15)\n",
    "y.set_ylabel('New Games', fontsize=15)\n",
    "y.set_title('Количество игр выпускаемых в год', fontsize=20)\n"
   ]
  },
  {
   "cell_type": "markdown",
   "metadata": {},
   "source": [
    "Количество выпускаемых игр росло вплоть до 2007 года, и потом пошло на спад. В 2016 году выпустили примерно столько же игр, сколько и в 2001! Актуальный период 2015-2016."
   ]
  },
  {
   "cell_type": "code",
   "execution_count": 22,
   "metadata": {},
   "outputs": [
    {
     "data": {
      "text/html": [
       "<div>\n",
       "<style scoped>\n",
       "    .dataframe tbody tr th:only-of-type {\n",
       "        vertical-align: middle;\n",
       "    }\n",
       "\n",
       "    .dataframe tbody tr th {\n",
       "        vertical-align: top;\n",
       "    }\n",
       "\n",
       "    .dataframe thead th {\n",
       "        text-align: right;\n",
       "    }\n",
       "</style>\n",
       "<table border=\"1\" class=\"dataframe\">\n",
       "  <thead>\n",
       "    <tr style=\"text-align: right;\">\n",
       "      <th></th>\n",
       "      <th>name</th>\n",
       "      <th>platform</th>\n",
       "      <th>year</th>\n",
       "      <th>genre</th>\n",
       "      <th>na_sales</th>\n",
       "      <th>eu_sales</th>\n",
       "      <th>jp_sales</th>\n",
       "      <th>other_sales</th>\n",
       "      <th>critic_score</th>\n",
       "      <th>user_score</th>\n",
       "      <th>rating</th>\n",
       "      <th>total_sales</th>\n",
       "    </tr>\n",
       "  </thead>\n",
       "  <tbody>\n",
       "    <tr>\n",
       "      <th>31</th>\n",
       "      <td>Call of Duty: Black Ops 3</td>\n",
       "      <td>PS4</td>\n",
       "      <td>2015.0</td>\n",
       "      <td>Shooter</td>\n",
       "      <td>6.03</td>\n",
       "      <td>5.86</td>\n",
       "      <td>0.36</td>\n",
       "      <td>2.38</td>\n",
       "      <td>NaN</td>\n",
       "      <td>NaN</td>\n",
       "      <td>unrated</td>\n",
       "      <td>12.25</td>\n",
       "    </tr>\n",
       "    <tr>\n",
       "      <th>77</th>\n",
       "      <td>FIFA 16</td>\n",
       "      <td>PS4</td>\n",
       "      <td>2015.0</td>\n",
       "      <td>Sports</td>\n",
       "      <td>1.12</td>\n",
       "      <td>6.12</td>\n",
       "      <td>0.06</td>\n",
       "      <td>1.28</td>\n",
       "      <td>82.0</td>\n",
       "      <td>4.3</td>\n",
       "      <td>E</td>\n",
       "      <td>7.30</td>\n",
       "    </tr>\n",
       "    <tr>\n",
       "      <th>87</th>\n",
       "      <td>Star Wars Battlefront (2015)</td>\n",
       "      <td>PS4</td>\n",
       "      <td>2015.0</td>\n",
       "      <td>Shooter</td>\n",
       "      <td>2.99</td>\n",
       "      <td>3.49</td>\n",
       "      <td>0.22</td>\n",
       "      <td>1.28</td>\n",
       "      <td>NaN</td>\n",
       "      <td>NaN</td>\n",
       "      <td>unrated</td>\n",
       "      <td>6.70</td>\n",
       "    </tr>\n",
       "    <tr>\n",
       "      <th>94</th>\n",
       "      <td>FIFA 17</td>\n",
       "      <td>PS4</td>\n",
       "      <td>2016.0</td>\n",
       "      <td>Sports</td>\n",
       "      <td>0.66</td>\n",
       "      <td>5.75</td>\n",
       "      <td>0.08</td>\n",
       "      <td>1.11</td>\n",
       "      <td>85.0</td>\n",
       "      <td>5.0</td>\n",
       "      <td>E</td>\n",
       "      <td>6.49</td>\n",
       "    </tr>\n",
       "    <tr>\n",
       "      <th>99</th>\n",
       "      <td>Call of Duty: Black Ops 3</td>\n",
       "      <td>XOne</td>\n",
       "      <td>2015.0</td>\n",
       "      <td>Shooter</td>\n",
       "      <td>4.59</td>\n",
       "      <td>2.11</td>\n",
       "      <td>0.01</td>\n",
       "      <td>0.68</td>\n",
       "      <td>NaN</td>\n",
       "      <td>NaN</td>\n",
       "      <td>unrated</td>\n",
       "      <td>6.71</td>\n",
       "    </tr>\n",
       "    <tr>\n",
       "      <th>...</th>\n",
       "      <td>...</td>\n",
       "      <td>...</td>\n",
       "      <td>...</td>\n",
       "      <td>...</td>\n",
       "      <td>...</td>\n",
       "      <td>...</td>\n",
       "      <td>...</td>\n",
       "      <td>...</td>\n",
       "      <td>...</td>\n",
       "      <td>...</td>\n",
       "      <td>...</td>\n",
       "      <td>...</td>\n",
       "    </tr>\n",
       "    <tr>\n",
       "      <th>16699</th>\n",
       "      <td>The Longest 5 Minutes</td>\n",
       "      <td>PSV</td>\n",
       "      <td>2016.0</td>\n",
       "      <td>Action</td>\n",
       "      <td>0.00</td>\n",
       "      <td>0.00</td>\n",
       "      <td>0.01</td>\n",
       "      <td>0.00</td>\n",
       "      <td>NaN</td>\n",
       "      <td>NaN</td>\n",
       "      <td>unrated</td>\n",
       "      <td>0.01</td>\n",
       "    </tr>\n",
       "    <tr>\n",
       "      <th>16703</th>\n",
       "      <td>Strawberry Nauts</td>\n",
       "      <td>PSV</td>\n",
       "      <td>2016.0</td>\n",
       "      <td>Adventure</td>\n",
       "      <td>0.00</td>\n",
       "      <td>0.00</td>\n",
       "      <td>0.01</td>\n",
       "      <td>0.00</td>\n",
       "      <td>NaN</td>\n",
       "      <td>NaN</td>\n",
       "      <td>unrated</td>\n",
       "      <td>0.01</td>\n",
       "    </tr>\n",
       "    <tr>\n",
       "      <th>16710</th>\n",
       "      <td>Samurai Warriors: Sanada Maru</td>\n",
       "      <td>PS3</td>\n",
       "      <td>2016.0</td>\n",
       "      <td>Action</td>\n",
       "      <td>0.00</td>\n",
       "      <td>0.00</td>\n",
       "      <td>0.01</td>\n",
       "      <td>0.00</td>\n",
       "      <td>NaN</td>\n",
       "      <td>NaN</td>\n",
       "      <td>unrated</td>\n",
       "      <td>0.01</td>\n",
       "    </tr>\n",
       "    <tr>\n",
       "      <th>16712</th>\n",
       "      <td>Haitaka no Psychedelica</td>\n",
       "      <td>PSV</td>\n",
       "      <td>2016.0</td>\n",
       "      <td>Adventure</td>\n",
       "      <td>0.00</td>\n",
       "      <td>0.00</td>\n",
       "      <td>0.01</td>\n",
       "      <td>0.00</td>\n",
       "      <td>NaN</td>\n",
       "      <td>NaN</td>\n",
       "      <td>unrated</td>\n",
       "      <td>0.01</td>\n",
       "    </tr>\n",
       "    <tr>\n",
       "      <th>16714</th>\n",
       "      <td>Winning Post 8 2016</td>\n",
       "      <td>PSV</td>\n",
       "      <td>2016.0</td>\n",
       "      <td>Simulation</td>\n",
       "      <td>0.00</td>\n",
       "      <td>0.00</td>\n",
       "      <td>0.01</td>\n",
       "      <td>0.00</td>\n",
       "      <td>NaN</td>\n",
       "      <td>NaN</td>\n",
       "      <td>unrated</td>\n",
       "      <td>0.01</td>\n",
       "    </tr>\n",
       "  </tbody>\n",
       "</table>\n",
       "<p>1108 rows × 12 columns</p>\n",
       "</div>"
      ],
      "text/plain": [
       "                                name platform    year       genre  na_sales  \\\n",
       "31         Call of Duty: Black Ops 3      PS4  2015.0     Shooter      6.03   \n",
       "77                           FIFA 16      PS4  2015.0      Sports      1.12   \n",
       "87      Star Wars Battlefront (2015)      PS4  2015.0     Shooter      2.99   \n",
       "94                           FIFA 17      PS4  2016.0      Sports      0.66   \n",
       "99         Call of Duty: Black Ops 3     XOne  2015.0     Shooter      4.59   \n",
       "...                              ...      ...     ...         ...       ...   \n",
       "16699          The Longest 5 Minutes      PSV  2016.0      Action      0.00   \n",
       "16703               Strawberry Nauts      PSV  2016.0   Adventure      0.00   \n",
       "16710  Samurai Warriors: Sanada Maru      PS3  2016.0      Action      0.00   \n",
       "16712        Haitaka no Psychedelica      PSV  2016.0   Adventure      0.00   \n",
       "16714            Winning Post 8 2016      PSV  2016.0  Simulation      0.00   \n",
       "\n",
       "       eu_sales  jp_sales  other_sales  critic_score  user_score   rating  \\\n",
       "31         5.86      0.36         2.38           NaN         NaN  unrated   \n",
       "77         6.12      0.06         1.28          82.0         4.3        E   \n",
       "87         3.49      0.22         1.28           NaN         NaN  unrated   \n",
       "94         5.75      0.08         1.11          85.0         5.0        E   \n",
       "99         2.11      0.01         0.68           NaN         NaN  unrated   \n",
       "...         ...       ...          ...           ...         ...      ...   \n",
       "16699      0.00      0.01         0.00           NaN         NaN  unrated   \n",
       "16703      0.00      0.01         0.00           NaN         NaN  unrated   \n",
       "16710      0.00      0.01         0.00           NaN         NaN  unrated   \n",
       "16712      0.00      0.01         0.00           NaN         NaN  unrated   \n",
       "16714      0.00      0.01         0.00           NaN         NaN  unrated   \n",
       "\n",
       "       total_sales  \n",
       "31           12.25  \n",
       "77            7.30  \n",
       "87            6.70  \n",
       "94            6.49  \n",
       "99            6.71  \n",
       "...            ...  \n",
       "16699         0.01  \n",
       "16703         0.01  \n",
       "16710         0.01  \n",
       "16712         0.01  \n",
       "16714         0.01  \n",
       "\n",
       "[1108 rows x 12 columns]"
      ]
     },
     "execution_count": 22,
     "metadata": {},
     "output_type": "execute_result"
    }
   ],
   "source": [
    "recent_games = games[(games['year'] == 2015) | (games['year'] == 2016)]\n",
    "recent_games"
   ]
  },
  {
   "cell_type": "code",
   "execution_count": 23,
   "metadata": {},
   "outputs": [
    {
     "data": {
      "text/plain": [
       "platform\n",
       "PS2     1062.33\n",
       "X360     885.66\n",
       "Wii      828.44\n",
       "PS3      803.97\n",
       "DS       746.86\n",
       "Name: total_sales, dtype: float64"
      ]
     },
     "execution_count": 23,
     "metadata": {},
     "output_type": "execute_result"
    }
   ],
   "source": [
    "games.groupby('platform')['total_sales'].sum().sort_values(ascending=False).head()"
   ]
  },
  {
   "cell_type": "markdown",
   "metadata": {},
   "source": [
    "Топ-5 платформ по продажам за все время: \n",
    "PS2     1062.33\n",
    "X360     885.66\n",
    "Wii      828.44\n",
    "PS3      803.97\n",
    "DS       746.86"
   ]
  },
  {
   "cell_type": "code",
   "execution_count": 24,
   "metadata": {},
   "outputs": [
    {
     "data": {
      "text/plain": [
       "year\n",
       "2000.0     35.59\n",
       "2001.0    149.65\n",
       "2002.0    183.66\n",
       "2003.0    163.62\n",
       "2004.0    171.96\n",
       "2005.0    141.51\n",
       "2006.0     89.18\n",
       "2007.0     52.30\n",
       "2008.0     34.59\n",
       "2009.0     16.24\n",
       "2010.0      4.44\n",
       "2011.0      0.35\n",
       "Name: total_sales, dtype: float64"
      ]
     },
     "execution_count": 24,
     "metadata": {},
     "output_type": "execute_result"
    }
   ],
   "source": [
    "games[games['platform'] == 'PS2'].groupby('year')['total_sales'].sum()"
   ]
  },
  {
   "cell_type": "code",
   "execution_count": 25,
   "metadata": {},
   "outputs": [
    {
     "data": {
      "text/plain": [
       "<AxesSubplot:xlabel='year'>"
      ]
     },
     "execution_count": 25,
     "metadata": {},
     "output_type": "execute_result"
    },
    {
     "data": {
      "image/png": "[encoded data removed]",
      "text/plain": [
       "<Figure size 432x288 with 1 Axes>"
      ]
     },
     "metadata": {
      "needs_background": "light"
     },
     "output_type": "display_data"
    }
   ],
   "source": [
    "platforms = ['PS2', 'X360', 'Wii', 'PS3', 'DS']\n",
    "\n",
    "\n",
    "(\n",
    "    games\n",
    "    .query('platform.isin(@platforms)')\n",
    "    .pivot_table(index='year',columns='platform',values='total_sales',aggfunc='sum')\n",
    "    .plot()\n",
    ")\n",
    "\n"
   ]
  },
  {
   "cell_type": "markdown",
   "metadata": {},
   "source": [
    "Средний срок жизни платформы - 5-7 лет"
   ]
  },
  {
   "cell_type": "code",
   "execution_count": 26,
   "metadata": {},
   "outputs": [
    {
     "data": {
      "text/plain": [
       "platform\n",
       "PS4     159.45\n",
       "XOne     78.58\n",
       "3DS      41.25\n",
       "WiiU     19.47\n",
       "PS3      17.93\n",
       "Name: total_sales, dtype: float64"
      ]
     },
     "metadata": {},
     "output_type": "display_data"
    },
    {
     "data": {
      "text/plain": [
       "89.67802225809206"
      ]
     },
     "metadata": {},
     "output_type": "display_data"
    }
   ],
   "source": [
    "top_2015_2016 = recent_games.groupby('platform')['total_sales'].sum().sort_values(ascending=False).head()\n",
    "display(\n",
    "    top_2015_2016,\n",
    "    top_2015_2016.sum() / recent_games['total_sales'].sum() * 100)"
   ]
  },
  {
   "cell_type": "markdown",
   "metadata": {},
   "source": [
    "Топ 5 платформ по продажам за 2015-2016 год. \n",
    "PS4     159.45\n",
    "XOne    78.58\n",
    "3DS     41.25\n",
    "WiiU    19.47\n",
    "PS3     17.93\n",
    "\n",
    "На эти платформы приходится почти 90% всех продаж."
   ]
  },
  {
   "cell_type": "code",
   "execution_count": 27,
   "metadata": {},
   "outputs": [
    {
     "data": {
      "image/png": "[encoded data removed]",
      "text/plain": [
       "<Figure size 720x360 with 1 Axes>"
      ]
     },
     "metadata": {
      "needs_background": "light"
     },
     "output_type": "display_data"
    }
   ],
   "source": [
    "platforms = ['PS4', 'XOne', '3DS', 'WiiU', 'PS3']\n",
    "top_games = games.query('platform in @platforms')\n",
    "for platform in platforms:\n",
    "    data = top_games[top_games['platform'] == platform].groupby('year')['total_sales'].sum()\n",
    "    data.plot(ylabel='Sales(mln)', figsize=(10,5))\n",
    "    plt.legend(platforms)"
   ]
  },
  {
   "cell_type": "markdown",
   "metadata": {},
   "source": [
    "В 2016 произошел спад продаж всех топовых платформ."
   ]
  },
  {
   "cell_type": "code",
   "execution_count": 28,
   "metadata": {
    "scrolled": false
   },
   "outputs": [
    {
     "data": {
      "image/png": "[encoded data removed]",
      "text/plain": [
       "<Figure size 1080x360 with 1 Axes>"
      ]
     },
     "metadata": {
      "needs_background": "light"
     },
     "output_type": "display_data"
    }
   ],
   "source": [
    "g = sns.catplot(y='platform', x='total_sales', kind=\"box\", data = top_games, orient='h', palette = 'pastel')\n",
    "g.fig.set_figwidth(15)"
   ]
  },
  {
   "cell_type": "code",
   "execution_count": 29,
   "metadata": {},
   "outputs": [
    {
     "data": {
      "text/plain": [
       "(0.0, 1.0)"
      ]
     },
     "execution_count": 29,
     "metadata": {},
     "output_type": "execute_result"
    },
    {
     "data": {
      "image/png": "[encoded data removed]",
      "text/plain": [
       "<Figure size 1080x360 with 1 Axes>"
      ]
     },
     "metadata": {
      "needs_background": "light"
     },
     "output_type": "display_data"
    }
   ],
   "source": [
    "g = sns.catplot(y='platform', x='total_sales', kind=\"box\", data = top_games, orient='h', palette = 'pastel')\n",
    "g.fig.set_figwidth(15)\n",
    "plt.xlim(0, 1)"
   ]
  },
  {
   "cell_type": "markdown",
   "metadata": {},
   "source": [
    "На графике видно очень много выбросов. Подавляющее большинство игр на платформе имеют меньше двух миллионов проданных копий, но есть отдельные тайтлы с 5, 10ю, 15ю проданными копиями. XOne выглядит как наиболее однородная платформа, у нее не так много выбросов и они не так удалены от тела графика.\n",
    "\n",
    "P.S. График выглядит стремно изза всех этих выбросов, как сделать по красоте?"
   ]
  },
  {
   "cell_type": "markdown",
   "metadata": {},
   "source": [
    "В среднем игры имеют всего 200-300 тысяч продаж."
   ]
  },
  {
   "cell_type": "code",
   "execution_count": 30,
   "metadata": {
    "scrolled": true
   },
   "outputs": [
    {
     "data": {
      "text/plain": [
       "0.32828510277437"
      ]
     },
     "execution_count": 30,
     "metadata": {},
     "output_type": "execute_result"
    }
   ],
   "source": [
    "recent_games['critic_score'].corr(recent_games['total_sales'])"
   ]
  },
  {
   "cell_type": "code",
   "execution_count": 31,
   "metadata": {},
   "outputs": [
    {
     "data": {
      "text/plain": [
       "0.0008284907454412625"
      ]
     },
     "execution_count": 31,
     "metadata": {},
     "output_type": "execute_result"
    }
   ],
   "source": [
    "recent_games['user_score'].astype('float').corr(recent_games['total_sales'])"
   ]
  },
  {
   "cell_type": "code",
   "execution_count": 32,
   "metadata": {},
   "outputs": [
    {
     "data": {
      "text/plain": [
       "0.3922191777830652"
      ]
     },
     "execution_count": 32,
     "metadata": {},
     "output_type": "execute_result"
    }
   ],
   "source": [
    "ps4_recent = recent_games[recent_games['platform'] == \"PS4\"]\n",
    "(ps4_recent['critic_score']\n",
    ".corr(ps4_recent['total_sales']))"
   ]
  },
  {
   "cell_type": "code",
   "execution_count": 33,
   "metadata": {},
   "outputs": [
    {
     "data": {
      "text/plain": [
       "-0.05860553870382429"
      ]
     },
     "execution_count": 33,
     "metadata": {},
     "output_type": "execute_result"
    }
   ],
   "source": [
    "ps4_recent = recent_games[recent_games['platform'] == \"PS4\"]\n",
    "(recent_games['user_score'].astype('float')\n",
    ".corr(ps4_recent['total_sales']))"
   ]
  },
  {
   "cell_type": "markdown",
   "metadata": {},
   "source": [
    "Коэффициент корреляции между оценками критиков и продажами - 0.32. \n",
    "Коэффициент корреляции между оценками критиков и продажами на платформе PS4 - 0.39.\n",
    "Коэффициент корреляции между оценками пользователей и продажами - 0.12.\n",
    "Коэффициент корреляции между оценками пользователей и продажами на платформе PS4 - 0.12."
   ]
  },
  {
   "cell_type": "markdown",
   "metadata": {},
   "source": [
    "Оценки пользователей намного слабее коррелируют с продажами игр. Возможно это связано с тем, что оценка критика подталкивает покупателя к действию, а оценка игроков - нет."
   ]
  },
  {
   "cell_type": "code",
   "execution_count": 34,
   "metadata": {},
   "outputs": [
    {
     "data": {
      "text/plain": [
       "Text(0.5, 1.0, 'График рассеяния между продажами и оценками критиков')"
      ]
     },
     "execution_count": 34,
     "metadata": {},
     "output_type": "execute_result"
    },
    {
     "data": {
      "image/png": "[encoded data removed]",
      "text/plain": [
       "<Figure size 432x288 with 1 Axes>"
      ]
     },
     "metadata": {
      "needs_background": "light"
     },
     "output_type": "display_data"
    }
   ],
   "source": [
    "g = ps4_recent.plot.scatter(x = 'total_sales',\n",
    "                          y = 'critic_score')\n",
    "g.set_title('График рассеяния между продажами и оценками критиков')"
   ]
  },
  {
   "cell_type": "markdown",
   "metadata": {},
   "source": [
    "Интересно что у всех игр с продажами от двух миллионов и выше - рейтинг от 70 и выше, при этом существуют игры с очень высоким рейтингом, но с мизерными продажами. Возможно разработчикам этих игр стоило лучше вкладываться в рекламу, или оценки критиков не всегда отражают качество игры как его видит пользователь."
   ]
  },
  {
   "cell_type": "code",
   "execution_count": 35,
   "metadata": {},
   "outputs": [
    {
     "data": {
      "image/png": "[encoded data removed]",
      "text/plain": [
       "<Figure size 720x720 with 1 Axes>"
      ]
     },
     "metadata": {},
     "output_type": "display_data"
    }
   ],
   "source": [
    "g = recent_games.pivot_table(index=['genre'],\n",
    "                  values='total_sales',\n",
    "                  aggfunc='mean').sort_values('total_sales',ascending=False).plot(kind='pie',\n",
    "                                                                                  subplots=True,\n",
    "                                                                                  figsize = (10,10),\n",
    "                                                                                  autopct = '%.2f')"
   ]
  },
  {
   "cell_type": "markdown",
   "metadata": {},
   "source": [
    "Самый продаваемый жанр в среднем по всем платформам за актуальный период - Shooter, Sport и Role-playing, самый плохо продаваемые - Strategy и Adventure."
   ]
  },
  {
   "cell_type": "code",
   "execution_count": 36,
   "metadata": {},
   "outputs": [
    {
     "data": {
      "image/png": "[encoded data removed]",
      "text/plain": [
       "<Figure size 720x720 with 1 Axes>"
      ]
     },
     "metadata": {},
     "output_type": "display_data"
    }
   ],
   "source": [
    "g = ps4_recent.pivot_table(index=['genre'],\n",
    "                  values='total_sales',\n",
    "                  aggfunc='mean').sort_values('total_sales',ascending=False).plot(kind='pie',\n",
    "                                                                                  subplots=True,\n",
    "                                                                                  figsize = (10,10),\n",
    "                                                                                  autopct = '%.2f')"
   ]
  },
  {
   "cell_type": "markdown",
   "metadata": {},
   "source": [
    "В фаворитах PS4 - Shooter и Sports, в лузерах - Strategy и Misc(Miscellaneous)."
   ]
  },
  {
   "cell_type": "markdown",
   "metadata": {},
   "source": [
    "Sports занимают существенно большую долю продаж на PS4 чем в по всем топ5 платформам."
   ]
  },
  {
   "cell_type": "code",
   "execution_count": 37,
   "metadata": {},
   "outputs": [
    {
     "data": {
      "text/plain": [
       "Text(0.5, 1.0, 'Доля продаж')"
      ]
     },
     "execution_count": 37,
     "metadata": {},
     "output_type": "execute_result"
    },
    {
     "data": {
      "image/png": "[encoded data removed]",
      "text/plain": [
       "<Figure size 720x720 with 1 Axes>"
      ]
     },
     "metadata": {},
     "output_type": "display_data"
    }
   ],
   "source": [
    "(ps4_recent.query('genre == \"Sports\"')\n",
    ".groupby('name')['total_sales']\n",
    ".sum()\n",
    ".sort_values(ascending=False)\n",
    ".head(10)\n",
    ".plot(kind='pie',\n",
    "      figsize = (10, 10),\n",
    "      autopct = '%.2f')\n",
    ").set_title('Доля продаж')\n"
   ]
  },
  {
   "cell_type": "markdown",
   "metadata": {},
   "source": [
    "Игры Fifa занимают больше половины продаж всех спортивных игр на PS4"
   ]
  },
  {
   "cell_type": "code",
   "execution_count": 38,
   "metadata": {
    "scrolled": true
   },
   "outputs": [
    {
     "data": {
      "text/plain": [
       "0.9193765617188268"
      ]
     },
     "execution_count": 38,
     "metadata": {},
     "output_type": "execute_result"
    }
   ],
   "source": [
    "final_stats = (\n",
    "    recent_games\n",
    "    .pivot_table(index='genre', columns='year', values='total_sales',aggfunc='mean')\n",
    "    .reset_index()\n",
    ")\n",
    "\n",
    "final_stats['2015_percentage'] = round(final_stats[2015] / final_stats[2015].sum() * 100)\n",
    "final_stats['2016_percentage'] = round(final_stats[2016] / final_stats[2016].sum() * 100)\n",
    "final_stats['2015_percentage'].corr(final_stats['2016_percentage'])"
   ]
  },
  {
   "cell_type": "markdown",
   "metadata": {},
   "source": [
    "Корреляция между жанрами за 2015 и 2016 год почти 92 процента."
   ]
  },
  {
   "cell_type": "markdown",
   "metadata": {},
   "source": [
    "## Портрет пользователя"
   ]
  },
  {
   "cell_type": "markdown",
   "metadata": {},
   "source": [
    "Шаг 4. Составьте портрет пользователя каждого региона\n",
    "Определите для пользователя каждого региона (NA, EU, JP):\n",
    "Самые популярные платформы (топ-5). Опишите различия в долях продаж.\n",
    "Самые популярные жанры (топ-5). Поясните разницу.\n",
    "Влияет ли рейтинг ESRB на продажи в отдельном регионе?\n"
   ]
  },
  {
   "cell_type": "code",
   "execution_count": 39,
   "metadata": {},
   "outputs": [
    {
     "name": "stdout",
     "output_type": "stream",
     "text": [
      "Продажи за все время по странам\n"
     ]
    },
    {
     "data": {
      "image/png": "[encoded data removed]",
      "text/plain": [
       "<Figure size 432x432 with 1 Axes>"
      ]
     },
     "metadata": {},
     "output_type": "display_data"
    },
    {
     "data": {
      "text/html": [
       "<div>\n",
       "<style scoped>\n",
       "    .dataframe tbody tr th:only-of-type {\n",
       "        vertical-align: middle;\n",
       "    }\n",
       "\n",
       "    .dataframe tbody tr th {\n",
       "        vertical-align: top;\n",
       "    }\n",
       "\n",
       "    .dataframe thead th {\n",
       "        text-align: right;\n",
       "    }\n",
       "</style>\n",
       "<table border=\"1\" class=\"dataframe\">\n",
       "  <thead>\n",
       "    <tr style=\"text-align: right;\">\n",
       "      <th></th>\n",
       "      <th>na_sales</th>\n",
       "      <th>sales_share</th>\n",
       "    </tr>\n",
       "    <tr>\n",
       "      <th>platform</th>\n",
       "      <th></th>\n",
       "      <th></th>\n",
       "    </tr>\n",
       "  </thead>\n",
       "  <tbody>\n",
       "    <tr>\n",
       "      <th>X360</th>\n",
       "      <td>602.47</td>\n",
       "      <td>14</td>\n",
       "    </tr>\n",
       "    <tr>\n",
       "      <th>PS2</th>\n",
       "      <td>583.84</td>\n",
       "      <td>13</td>\n",
       "    </tr>\n",
       "    <tr>\n",
       "      <th>Wii</th>\n",
       "      <td>496.90</td>\n",
       "      <td>11</td>\n",
       "    </tr>\n",
       "    <tr>\n",
       "      <th>PS3</th>\n",
       "      <td>393.49</td>\n",
       "      <td>9</td>\n",
       "    </tr>\n",
       "    <tr>\n",
       "      <th>DS</th>\n",
       "      <td>382.40</td>\n",
       "      <td>9</td>\n",
       "    </tr>\n",
       "  </tbody>\n",
       "</table>\n",
       "</div>"
      ],
      "text/plain": [
       "          na_sales  sales_share\n",
       "platform                       \n",
       "X360        602.47           14\n",
       "PS2         583.84           13\n",
       "Wii         496.90           11\n",
       "PS3         393.49            9\n",
       "DS          382.40            9"
      ]
     },
     "metadata": {},
     "output_type": "display_data"
    },
    {
     "data": {
      "image/png": "[encoded data removed]",
      "text/plain": [
       "<Figure size 432x432 with 1 Axes>"
      ]
     },
     "metadata": {},
     "output_type": "display_data"
    },
    {
     "data": {
      "text/html": [
       "<div>\n",
       "<style scoped>\n",
       "    .dataframe tbody tr th:only-of-type {\n",
       "        vertical-align: middle;\n",
       "    }\n",
       "\n",
       "    .dataframe tbody tr th {\n",
       "        vertical-align: top;\n",
       "    }\n",
       "\n",
       "    .dataframe thead th {\n",
       "        text-align: right;\n",
       "    }\n",
       "</style>\n",
       "<table border=\"1\" class=\"dataframe\">\n",
       "  <thead>\n",
       "    <tr style=\"text-align: right;\">\n",
       "      <th></th>\n",
       "      <th>eu_sales</th>\n",
       "      <th>sales_share</th>\n",
       "    </tr>\n",
       "    <tr>\n",
       "      <th>platform</th>\n",
       "      <th></th>\n",
       "      <th></th>\n",
       "    </tr>\n",
       "  </thead>\n",
       "  <tbody>\n",
       "    <tr>\n",
       "      <th>PS2</th>\n",
       "      <td>339.29</td>\n",
       "      <td>14</td>\n",
       "    </tr>\n",
       "    <tr>\n",
       "      <th>PS3</th>\n",
       "      <td>330.29</td>\n",
       "      <td>14</td>\n",
       "    </tr>\n",
       "    <tr>\n",
       "      <th>X360</th>\n",
       "      <td>270.76</td>\n",
       "      <td>11</td>\n",
       "    </tr>\n",
       "    <tr>\n",
       "      <th>Wii</th>\n",
       "      <td>262.21</td>\n",
       "      <td>11</td>\n",
       "    </tr>\n",
       "    <tr>\n",
       "      <th>PS</th>\n",
       "      <td>213.61</td>\n",
       "      <td>9</td>\n",
       "    </tr>\n",
       "  </tbody>\n",
       "</table>\n",
       "</div>"
      ],
      "text/plain": [
       "          eu_sales  sales_share\n",
       "platform                       \n",
       "PS2         339.29           14\n",
       "PS3         330.29           14\n",
       "X360        270.76           11\n",
       "Wii         262.21           11\n",
       "PS          213.61            9"
      ]
     },
     "metadata": {},
     "output_type": "display_data"
    },
    {
     "data": {
      "image/png": "[encoded data removed]",
      "text/plain": [
       "<Figure size 432x432 with 1 Axes>"
      ]
     },
     "metadata": {},
     "output_type": "display_data"
    },
    {
     "data": {
      "text/html": [
       "<div>\n",
       "<style scoped>\n",
       "    .dataframe tbody tr th:only-of-type {\n",
       "        vertical-align: middle;\n",
       "    }\n",
       "\n",
       "    .dataframe tbody tr th {\n",
       "        vertical-align: top;\n",
       "    }\n",
       "\n",
       "    .dataframe thead th {\n",
       "        text-align: right;\n",
       "    }\n",
       "</style>\n",
       "<table border=\"1\" class=\"dataframe\">\n",
       "  <thead>\n",
       "    <tr style=\"text-align: right;\">\n",
       "      <th></th>\n",
       "      <th>jp_sales</th>\n",
       "      <th>sales_share</th>\n",
       "    </tr>\n",
       "    <tr>\n",
       "      <th>platform</th>\n",
       "      <th></th>\n",
       "      <th></th>\n",
       "    </tr>\n",
       "  </thead>\n",
       "  <tbody>\n",
       "    <tr>\n",
       "      <th>DS</th>\n",
       "      <td>175.57</td>\n",
       "      <td>14</td>\n",
       "    </tr>\n",
       "    <tr>\n",
       "      <th>PS</th>\n",
       "      <td>139.82</td>\n",
       "      <td>11</td>\n",
       "    </tr>\n",
       "    <tr>\n",
       "      <th>PS2</th>\n",
       "      <td>139.20</td>\n",
       "      <td>11</td>\n",
       "    </tr>\n",
       "    <tr>\n",
       "      <th>SNES</th>\n",
       "      <td>116.55</td>\n",
       "      <td>9</td>\n",
       "    </tr>\n",
       "    <tr>\n",
       "      <th>3DS</th>\n",
       "      <td>100.67</td>\n",
       "      <td>8</td>\n",
       "    </tr>\n",
       "  </tbody>\n",
       "</table>\n",
       "</div>"
      ],
      "text/plain": [
       "          jp_sales  sales_share\n",
       "platform                       \n",
       "DS          175.57           14\n",
       "PS          139.82           11\n",
       "PS2         139.20           11\n",
       "SNES        116.55            9\n",
       "3DS         100.67            8"
      ]
     },
     "metadata": {},
     "output_type": "display_data"
    }
   ],
   "source": [
    "regions = ['na_sales', 'eu_sales', 'jp_sales']\n",
    "\n",
    "print('Продажи за все время по странам')\n",
    "\n",
    "for region in regions:\n",
    "    pivot = games.pivot_table(index='platform', values=region, aggfunc='sum').sort_values(region,ascending=False)\n",
    "    pivot['sales_share'] = round(pivot[region] / pivot[region].sum() * 100).astype(int)\n",
    "    #pivot['cumulative_share'] = round(100*(pivot.na_sales.cumsum() / pivot.na_sales.sum()))\n",
    "    #Если подставлять region - он его не воспринимает изза кавычек\n",
    "    pivot['sales_share'].plot(kind='pie', figsize=(6,6), autopct=('%.0f'))\n",
    "    plt.show()\n",
    "    display(pivot.head())"
   ]
  },
  {
   "cell_type": "code",
   "execution_count": 40,
   "metadata": {},
   "outputs": [
    {
     "name": "stdout",
     "output_type": "stream",
     "text": [
      "Продажи за 2015-2016 год по странам\n"
     ]
    },
    {
     "data": {
      "image/png": "[encoded data removed]",
      "text/plain": [
       "<Figure size 432x432 with 1 Axes>"
      ]
     },
     "metadata": {},
     "output_type": "display_data"
    },
    {
     "data": {
      "text/html": [
       "<div>\n",
       "<style scoped>\n",
       "    .dataframe tbody tr th:only-of-type {\n",
       "        vertical-align: middle;\n",
       "    }\n",
       "\n",
       "    .dataframe tbody tr th {\n",
       "        vertical-align: top;\n",
       "    }\n",
       "\n",
       "    .dataframe thead th {\n",
       "        text-align: right;\n",
       "    }\n",
       "</style>\n",
       "<table border=\"1\" class=\"dataframe\">\n",
       "  <thead>\n",
       "    <tr style=\"text-align: right;\">\n",
       "      <th></th>\n",
       "      <th>na_sales</th>\n",
       "      <th>sales_share</th>\n",
       "    </tr>\n",
       "    <tr>\n",
       "      <th>platform</th>\n",
       "      <th></th>\n",
       "      <th></th>\n",
       "    </tr>\n",
       "  </thead>\n",
       "  <tbody>\n",
       "    <tr>\n",
       "      <th>PS4</th>\n",
       "      <td>63.86</td>\n",
       "      <td>42</td>\n",
       "    </tr>\n",
       "    <tr>\n",
       "      <th>XOne</th>\n",
       "      <td>50.30</td>\n",
       "      <td>33</td>\n",
       "    </tr>\n",
       "    <tr>\n",
       "      <th>3DS</th>\n",
       "      <td>10.31</td>\n",
       "      <td>7</td>\n",
       "    </tr>\n",
       "    <tr>\n",
       "      <th>WiiU</th>\n",
       "      <td>8.86</td>\n",
       "      <td>6</td>\n",
       "    </tr>\n",
       "    <tr>\n",
       "      <th>X360</th>\n",
       "      <td>8.05</td>\n",
       "      <td>5</td>\n",
       "    </tr>\n",
       "  </tbody>\n",
       "</table>\n",
       "</div>"
      ],
      "text/plain": [
       "          na_sales  sales_share\n",
       "platform                       \n",
       "PS4          63.86           42\n",
       "XOne         50.30           33\n",
       "3DS          10.31            7\n",
       "WiiU          8.86            6\n",
       "X360          8.05            5"
      ]
     },
     "metadata": {},
     "output_type": "display_data"
    },
    {
     "data": {
      "image/png": "[encoded data removed]",
      "text/plain": [
       "<Figure size 432x432 with 1 Axes>"
      ]
     },
     "metadata": {},
     "output_type": "display_data"
    },
    {
     "data": {
      "text/html": [
       "<div>\n",
       "<style scoped>\n",
       "    .dataframe tbody tr th:only-of-type {\n",
       "        vertical-align: middle;\n",
       "    }\n",
       "\n",
       "    .dataframe tbody tr th {\n",
       "        vertical-align: top;\n",
       "    }\n",
       "\n",
       "    .dataframe thead th {\n",
       "        text-align: right;\n",
       "    }\n",
       "</style>\n",
       "<table border=\"1\" class=\"dataframe\">\n",
       "  <thead>\n",
       "    <tr style=\"text-align: right;\">\n",
       "      <th></th>\n",
       "      <th>eu_sales</th>\n",
       "      <th>sales_share</th>\n",
       "    </tr>\n",
       "    <tr>\n",
       "      <th>platform</th>\n",
       "      <th></th>\n",
       "      <th></th>\n",
       "    </tr>\n",
       "  </thead>\n",
       "  <tbody>\n",
       "    <tr>\n",
       "      <th>PS4</th>\n",
       "      <td>83.54</td>\n",
       "      <td>56</td>\n",
       "    </tr>\n",
       "    <tr>\n",
       "      <th>XOne</th>\n",
       "      <td>28.10</td>\n",
       "      <td>19</td>\n",
       "    </tr>\n",
       "    <tr>\n",
       "      <th>PC</th>\n",
       "      <td>9.10</td>\n",
       "      <td>6</td>\n",
       "    </tr>\n",
       "    <tr>\n",
       "      <th>3DS</th>\n",
       "      <td>7.39</td>\n",
       "      <td>5</td>\n",
       "    </tr>\n",
       "    <tr>\n",
       "      <th>PS3</th>\n",
       "      <td>7.30</td>\n",
       "      <td>5</td>\n",
       "    </tr>\n",
       "  </tbody>\n",
       "</table>\n",
       "</div>"
      ],
      "text/plain": [
       "          eu_sales  sales_share\n",
       "platform                       \n",
       "PS4          83.54           56\n",
       "XOne         28.10           19\n",
       "PC            9.10            6\n",
       "3DS           7.39            5\n",
       "PS3           7.30            5"
      ]
     },
     "metadata": {},
     "output_type": "display_data"
    },
    {
     "data": {
      "image/png": "[encoded data removed]",
      "text/plain": [
       "<Figure size 432x432 with 1 Axes>"
      ]
     },
     "metadata": {},
     "output_type": "display_data"
    },
    {
     "data": {
      "text/html": [
       "<div>\n",
       "<style scoped>\n",
       "    .dataframe tbody tr th:only-of-type {\n",
       "        vertical-align: middle;\n",
       "    }\n",
       "\n",
       "    .dataframe tbody tr th {\n",
       "        vertical-align: top;\n",
       "    }\n",
       "\n",
       "    .dataframe thead th {\n",
       "        text-align: right;\n",
       "    }\n",
       "</style>\n",
       "<table border=\"1\" class=\"dataframe\">\n",
       "  <thead>\n",
       "    <tr style=\"text-align: right;\">\n",
       "      <th></th>\n",
       "      <th>jp_sales</th>\n",
       "      <th>sales_share</th>\n",
       "    </tr>\n",
       "    <tr>\n",
       "      <th>platform</th>\n",
       "      <th></th>\n",
       "      <th></th>\n",
       "    </tr>\n",
       "  </thead>\n",
       "  <tbody>\n",
       "    <tr>\n",
       "      <th>3DS</th>\n",
       "      <td>23.55</td>\n",
       "      <td>44</td>\n",
       "    </tr>\n",
       "    <tr>\n",
       "      <th>PS4</th>\n",
       "      <td>12.05</td>\n",
       "      <td>23</td>\n",
       "    </tr>\n",
       "    <tr>\n",
       "      <th>PSV</th>\n",
       "      <td>8.41</td>\n",
       "      <td>16</td>\n",
       "    </tr>\n",
       "    <tr>\n",
       "      <th>PS3</th>\n",
       "      <td>4.97</td>\n",
       "      <td>9</td>\n",
       "    </tr>\n",
       "    <tr>\n",
       "      <th>WiiU</th>\n",
       "      <td>4.12</td>\n",
       "      <td>8</td>\n",
       "    </tr>\n",
       "  </tbody>\n",
       "</table>\n",
       "</div>"
      ],
      "text/plain": [
       "          jp_sales  sales_share\n",
       "platform                       \n",
       "3DS          23.55           44\n",
       "PS4          12.05           23\n",
       "PSV           8.41           16\n",
       "PS3           4.97            9\n",
       "WiiU          4.12            8"
      ]
     },
     "metadata": {},
     "output_type": "display_data"
    }
   ],
   "source": [
    "print('Продажи за 2015-2016 год по странам')\n",
    "\n",
    "for region in regions:\n",
    "    pivot = recent_games.pivot_table(index='platform', values=region, aggfunc='sum').sort_values(region,ascending=False)\n",
    "    pivot['sales_share'] = round(pivot[region] / pivot[region].sum() * 100).astype(int)\n",
    "    pivot['sales_share'].plot(kind='pie', figsize=(6,6), autopct=('%.0f'))\n",
    "    plt.show()\n",
    "    #pivot['cumulative_share'] = round(100*(pivot.na_sales.cumsum() / pivot.na_sales.sum()))\n",
    "    #Если подставлять region - он его не воспринимает изза кавычек\n",
    "    display(pivot.head())"
   ]
  },
  {
   "cell_type": "markdown",
   "metadata": {},
   "source": [
    "Топы в Америке и Европе очень схожи, а в Японии рынок платформ сильно отличается.\n",
    "Например в японии лидер рынка - платформа 3DS, которая занимает последние строки в топах Европы и Америки. \n",
    "PS4, которая занимает половину или больше половины рынка в Европе и Америке, в Японии имеет всего 23% рынка.\n",
    "В 2015-2016 году топ 5 платформ занимали почти весь(>90%) объем продаж рынка, а отдельные платформы, например PS4 в Европе занимают около 56% . В то же время, за весь период наблюдений самая популярная приставка не имела больше 14% рынка."
   ]
  },
  {
   "cell_type": "code",
   "execution_count": 41,
   "metadata": {},
   "outputs": [
    {
     "data": {
      "image/png": "[encoded data removed]",
      "text/plain": [
       "<Figure size 432x432 with 1 Axes>"
      ]
     },
     "metadata": {},
     "output_type": "display_data"
    },
    {
     "data": {
      "text/html": [
       "<div>\n",
       "<style scoped>\n",
       "    .dataframe tbody tr th:only-of-type {\n",
       "        vertical-align: middle;\n",
       "    }\n",
       "\n",
       "    .dataframe tbody tr th {\n",
       "        vertical-align: top;\n",
       "    }\n",
       "\n",
       "    .dataframe thead th {\n",
       "        text-align: right;\n",
       "    }\n",
       "</style>\n",
       "<table border=\"1\" class=\"dataframe\">\n",
       "  <thead>\n",
       "    <tr style=\"text-align: right;\">\n",
       "      <th></th>\n",
       "      <th>na_sales</th>\n",
       "      <th>sales_share</th>\n",
       "    </tr>\n",
       "    <tr>\n",
       "      <th>genre</th>\n",
       "      <th></th>\n",
       "      <th></th>\n",
       "    </tr>\n",
       "  </thead>\n",
       "  <tbody>\n",
       "    <tr>\n",
       "      <th>Shooter</th>\n",
       "      <td>48.18</td>\n",
       "      <td>32</td>\n",
       "    </tr>\n",
       "    <tr>\n",
       "      <th>Action</th>\n",
       "      <td>33.68</td>\n",
       "      <td>22</td>\n",
       "    </tr>\n",
       "    <tr>\n",
       "      <th>Sports</th>\n",
       "      <td>26.31</td>\n",
       "      <td>17</td>\n",
       "    </tr>\n",
       "    <tr>\n",
       "      <th>Role-Playing</th>\n",
       "      <td>19.82</td>\n",
       "      <td>13</td>\n",
       "    </tr>\n",
       "    <tr>\n",
       "      <th>Misc</th>\n",
       "      <td>5.58</td>\n",
       "      <td>4</td>\n",
       "    </tr>\n",
       "    <tr>\n",
       "      <th>Fighting</th>\n",
       "      <td>5.54</td>\n",
       "      <td>4</td>\n",
       "    </tr>\n",
       "    <tr>\n",
       "      <th>Adventure</th>\n",
       "      <td>3.84</td>\n",
       "      <td>3</td>\n",
       "    </tr>\n",
       "    <tr>\n",
       "      <th>Platform</th>\n",
       "      <td>3.78</td>\n",
       "      <td>2</td>\n",
       "    </tr>\n",
       "    <tr>\n",
       "      <th>Racing</th>\n",
       "      <td>2.82</td>\n",
       "      <td>2</td>\n",
       "    </tr>\n",
       "    <tr>\n",
       "      <th>Simulation</th>\n",
       "      <td>1.36</td>\n",
       "      <td>1</td>\n",
       "    </tr>\n",
       "    <tr>\n",
       "      <th>Strategy</th>\n",
       "      <td>0.82</td>\n",
       "      <td>1</td>\n",
       "    </tr>\n",
       "    <tr>\n",
       "      <th>Puzzle</th>\n",
       "      <td>0.06</td>\n",
       "      <td>0</td>\n",
       "    </tr>\n",
       "  </tbody>\n",
       "</table>\n",
       "</div>"
      ],
      "text/plain": [
       "              na_sales  sales_share\n",
       "genre                              \n",
       "Shooter          48.18           32\n",
       "Action           33.68           22\n",
       "Sports           26.31           17\n",
       "Role-Playing     19.82           13\n",
       "Misc              5.58            4\n",
       "Fighting          5.54            4\n",
       "Adventure         3.84            3\n",
       "Platform          3.78            2\n",
       "Racing            2.82            2\n",
       "Simulation        1.36            1\n",
       "Strategy          0.82            1\n",
       "Puzzle            0.06            0"
      ]
     },
     "metadata": {},
     "output_type": "display_data"
    },
    {
     "data": {
      "image/png": "[encoded data removed]",
      "text/plain": [
       "<Figure size 432x432 with 1 Axes>"
      ]
     },
     "metadata": {},
     "output_type": "display_data"
    },
    {
     "data": {
      "text/html": [
       "<div>\n",
       "<style scoped>\n",
       "    .dataframe tbody tr th:only-of-type {\n",
       "        vertical-align: middle;\n",
       "    }\n",
       "\n",
       "    .dataframe tbody tr th {\n",
       "        vertical-align: top;\n",
       "    }\n",
       "\n",
       "    .dataframe thead th {\n",
       "        text-align: right;\n",
       "    }\n",
       "</style>\n",
       "<table border=\"1\" class=\"dataframe\">\n",
       "  <thead>\n",
       "    <tr style=\"text-align: right;\">\n",
       "      <th></th>\n",
       "      <th>eu_sales</th>\n",
       "      <th>sales_share</th>\n",
       "    </tr>\n",
       "    <tr>\n",
       "      <th>genre</th>\n",
       "      <th></th>\n",
       "      <th></th>\n",
       "    </tr>\n",
       "  </thead>\n",
       "  <tbody>\n",
       "    <tr>\n",
       "      <th>Shooter</th>\n",
       "      <td>40.28</td>\n",
       "      <td>27</td>\n",
       "    </tr>\n",
       "    <tr>\n",
       "      <th>Action</th>\n",
       "      <td>34.82</td>\n",
       "      <td>24</td>\n",
       "    </tr>\n",
       "    <tr>\n",
       "      <th>Sports</th>\n",
       "      <td>27.82</td>\n",
       "      <td>19</td>\n",
       "    </tr>\n",
       "    <tr>\n",
       "      <th>Role-Playing</th>\n",
       "      <td>17.21</td>\n",
       "      <td>12</td>\n",
       "    </tr>\n",
       "    <tr>\n",
       "      <th>Racing</th>\n",
       "      <td>6.52</td>\n",
       "      <td>4</td>\n",
       "    </tr>\n",
       "    <tr>\n",
       "      <th>Adventure</th>\n",
       "      <td>4.67</td>\n",
       "      <td>3</td>\n",
       "    </tr>\n",
       "    <tr>\n",
       "      <th>Misc</th>\n",
       "      <td>4.26</td>\n",
       "      <td>3</td>\n",
       "    </tr>\n",
       "    <tr>\n",
       "      <th>Simulation</th>\n",
       "      <td>3.74</td>\n",
       "      <td>3</td>\n",
       "    </tr>\n",
       "    <tr>\n",
       "      <th>Fighting</th>\n",
       "      <td>3.72</td>\n",
       "      <td>3</td>\n",
       "    </tr>\n",
       "    <tr>\n",
       "      <th>Platform</th>\n",
       "      <td>3.20</td>\n",
       "      <td>2</td>\n",
       "    </tr>\n",
       "    <tr>\n",
       "      <th>Strategy</th>\n",
       "      <td>1.57</td>\n",
       "      <td>1</td>\n",
       "    </tr>\n",
       "    <tr>\n",
       "      <th>Puzzle</th>\n",
       "      <td>0.13</td>\n",
       "      <td>0</td>\n",
       "    </tr>\n",
       "  </tbody>\n",
       "</table>\n",
       "</div>"
      ],
      "text/plain": [
       "              eu_sales  sales_share\n",
       "genre                              \n",
       "Shooter          40.28           27\n",
       "Action           34.82           24\n",
       "Sports           27.82           19\n",
       "Role-Playing     17.21           12\n",
       "Racing            6.52            4\n",
       "Adventure         4.67            3\n",
       "Misc              4.26            3\n",
       "Simulation        3.74            3\n",
       "Fighting          3.72            3\n",
       "Platform          3.20            2\n",
       "Strategy          1.57            1\n",
       "Puzzle            0.13            0"
      ]
     },
     "metadata": {},
     "output_type": "display_data"
    },
    {
     "data": {
      "image/png": "[encoded data removed]",
      "text/plain": [
       "<Figure size 432x432 with 1 Axes>"
      ]
     },
     "metadata": {},
     "output_type": "display_data"
    },
    {
     "data": {
      "text/html": [
       "<div>\n",
       "<style scoped>\n",
       "    .dataframe tbody tr th:only-of-type {\n",
       "        vertical-align: middle;\n",
       "    }\n",
       "\n",
       "    .dataframe tbody tr th {\n",
       "        vertical-align: top;\n",
       "    }\n",
       "\n",
       "    .dataframe thead th {\n",
       "        text-align: right;\n",
       "    }\n",
       "</style>\n",
       "<table border=\"1\" class=\"dataframe\">\n",
       "  <thead>\n",
       "    <tr style=\"text-align: right;\">\n",
       "      <th></th>\n",
       "      <th>jp_sales</th>\n",
       "      <th>sales_share</th>\n",
       "    </tr>\n",
       "    <tr>\n",
       "      <th>genre</th>\n",
       "      <th></th>\n",
       "      <th></th>\n",
       "    </tr>\n",
       "  </thead>\n",
       "  <tbody>\n",
       "    <tr>\n",
       "      <th>Action</th>\n",
       "      <td>23.05</td>\n",
       "      <td>43</td>\n",
       "    </tr>\n",
       "    <tr>\n",
       "      <th>Role-Playing</th>\n",
       "      <td>13.41</td>\n",
       "      <td>25</td>\n",
       "    </tr>\n",
       "    <tr>\n",
       "      <th>Shooter</th>\n",
       "      <td>3.79</td>\n",
       "      <td>7</td>\n",
       "    </tr>\n",
       "    <tr>\n",
       "      <th>Misc</th>\n",
       "      <td>3.19</td>\n",
       "      <td>6</td>\n",
       "    </tr>\n",
       "    <tr>\n",
       "      <th>Adventure</th>\n",
       "      <td>2.22</td>\n",
       "      <td>4</td>\n",
       "    </tr>\n",
       "    <tr>\n",
       "      <th>Simulation</th>\n",
       "      <td>1.93</td>\n",
       "      <td>4</td>\n",
       "    </tr>\n",
       "    <tr>\n",
       "      <th>Sports</th>\n",
       "      <td>1.65</td>\n",
       "      <td>3</td>\n",
       "    </tr>\n",
       "    <tr>\n",
       "      <th>Fighting</th>\n",
       "      <td>1.54</td>\n",
       "      <td>3</td>\n",
       "    </tr>\n",
       "    <tr>\n",
       "      <th>Platform</th>\n",
       "      <td>1.42</td>\n",
       "      <td>3</td>\n",
       "    </tr>\n",
       "    <tr>\n",
       "      <th>Puzzle</th>\n",
       "      <td>0.52</td>\n",
       "      <td>1</td>\n",
       "    </tr>\n",
       "    <tr>\n",
       "      <th>Strategy</th>\n",
       "      <td>0.39</td>\n",
       "      <td>1</td>\n",
       "    </tr>\n",
       "    <tr>\n",
       "      <th>Racing</th>\n",
       "      <td>0.29</td>\n",
       "      <td>1</td>\n",
       "    </tr>\n",
       "  </tbody>\n",
       "</table>\n",
       "</div>"
      ],
      "text/plain": [
       "              jp_sales  sales_share\n",
       "genre                              \n",
       "Action           23.05           43\n",
       "Role-Playing     13.41           25\n",
       "Shooter           3.79            7\n",
       "Misc              3.19            6\n",
       "Adventure         2.22            4\n",
       "Simulation        1.93            4\n",
       "Sports            1.65            3\n",
       "Fighting          1.54            3\n",
       "Platform          1.42            3\n",
       "Puzzle            0.52            1\n",
       "Strategy          0.39            1\n",
       "Racing            0.29            1"
      ]
     },
     "metadata": {},
     "output_type": "display_data"
    }
   ],
   "source": [
    "regions = ['na_sales', 'eu_sales', 'jp_sales']\n",
    "for region in regions:\n",
    "    pivot = recent_games.pivot_table(index='genre', values=region, aggfunc='sum').sort_values(region,ascending=False)\n",
    "    pivot['sales_share'] = round(pivot[region] / pivot[region].sum() * 100).astype(int)\n",
    "    pivot['sales_share'].plot(kind='pie', figsize=(6,6), autopct=('%.0f'))\n",
    "    plt.show()\n",
    "    display(pivot)"
   ]
  },
  {
   "cell_type": "markdown",
   "metadata": {},
   "source": [
    "Топ 5 самых популярных жанров для Северной Америки - Action - 20%\n",
    "Sports - 16%\n",
    "Shooter - 13%\n",
    "Platform - 10%\n",
    "Misc - 9%\n",
    "\n",
    "Всего: 68%"
   ]
  },
  {
   "cell_type": "markdown",
   "metadata": {},
   "source": [
    "Топ 5 самых популярных жанров для Европы - Action - 21%\n",
    "Sports - 16%\n",
    "Shooter - 13%\n",
    "Racing - 10%\n",
    "Misc - 9%\n",
    "\n",
    "Всего: 69%"
   ]
  },
  {
   "cell_type": "markdown",
   "metadata": {},
   "source": [
    "Топ 5 самых популярных жанров для Японии - Role-Playing - 27%\n",
    "Action - 12%\n",
    "Sports - 10%\n",
    "Platform - 10%\n",
    "Misc - 8%\n",
    "\n",
    "Всего: 67%"
   ]
  },
  {
   "cell_type": "markdown",
   "metadata": {},
   "source": [
    "Между Европой и Америкой практически нет различий, но в Японии распределение жанров сильно отличается от этих регионов. Большой кусок рынка занимают игры жанра Role-playing, и существенный кусок занимают игры жанра Platform.\n",
    "\n",
    "Один из самых прибыльных жанров в Европе и Америке, shooter(13%), оказался на последней строчке в Японии(3%)."
   ]
  },
  {
   "cell_type": "code",
   "execution_count": 42,
   "metadata": {},
   "outputs": [
    {
     "data": {
      "image/png": "[encoded data removed]",
      "text/plain": [
       "<Figure size 432x432 with 1 Axes>"
      ]
     },
     "metadata": {},
     "output_type": "display_data"
    },
    {
     "data": {
      "text/html": [
       "<div>\n",
       "<style scoped>\n",
       "    .dataframe tbody tr th:only-of-type {\n",
       "        vertical-align: middle;\n",
       "    }\n",
       "\n",
       "    .dataframe tbody tr th {\n",
       "        vertical-align: top;\n",
       "    }\n",
       "\n",
       "    .dataframe thead th {\n",
       "        text-align: right;\n",
       "    }\n",
       "</style>\n",
       "<table border=\"1\" class=\"dataframe\">\n",
       "  <thead>\n",
       "    <tr style=\"text-align: right;\">\n",
       "      <th></th>\n",
       "      <th>na_sales</th>\n",
       "      <th>sales_share</th>\n",
       "    </tr>\n",
       "    <tr>\n",
       "      <th>rating</th>\n",
       "      <th></th>\n",
       "      <th></th>\n",
       "    </tr>\n",
       "  </thead>\n",
       "  <tbody>\n",
       "    <tr>\n",
       "      <th>M</th>\n",
       "      <td>47.03</td>\n",
       "      <td>31</td>\n",
       "    </tr>\n",
       "    <tr>\n",
       "      <th>unrated</th>\n",
       "      <td>37.44</td>\n",
       "      <td>25</td>\n",
       "    </tr>\n",
       "    <tr>\n",
       "      <th>E</th>\n",
       "      <td>26.59</td>\n",
       "      <td>18</td>\n",
       "    </tr>\n",
       "    <tr>\n",
       "      <th>T</th>\n",
       "      <td>22.86</td>\n",
       "      <td>15</td>\n",
       "    </tr>\n",
       "    <tr>\n",
       "      <th>E10+</th>\n",
       "      <td>17.87</td>\n",
       "      <td>12</td>\n",
       "    </tr>\n",
       "  </tbody>\n",
       "</table>\n",
       "</div>"
      ],
      "text/plain": [
       "         na_sales  sales_share\n",
       "rating                        \n",
       "M           47.03           31\n",
       "unrated     37.44           25\n",
       "E           26.59           18\n",
       "T           22.86           15\n",
       "E10+        17.87           12"
      ]
     },
     "metadata": {},
     "output_type": "display_data"
    },
    {
     "data": {
      "image/png": "[encoded data removed]",
      "text/plain": [
       "<Figure size 432x432 with 1 Axes>"
      ]
     },
     "metadata": {},
     "output_type": "display_data"
    },
    {
     "data": {
      "text/html": [
       "<div>\n",
       "<style scoped>\n",
       "    .dataframe tbody tr th:only-of-type {\n",
       "        vertical-align: middle;\n",
       "    }\n",
       "\n",
       "    .dataframe tbody tr th {\n",
       "        vertical-align: top;\n",
       "    }\n",
       "\n",
       "    .dataframe thead th {\n",
       "        text-align: right;\n",
       "    }\n",
       "</style>\n",
       "<table border=\"1\" class=\"dataframe\">\n",
       "  <thead>\n",
       "    <tr style=\"text-align: right;\">\n",
       "      <th></th>\n",
       "      <th>eu_sales</th>\n",
       "      <th>sales_share</th>\n",
       "    </tr>\n",
       "    <tr>\n",
       "      <th>rating</th>\n",
       "      <th></th>\n",
       "      <th></th>\n",
       "    </tr>\n",
       "  </thead>\n",
       "  <tbody>\n",
       "    <tr>\n",
       "      <th>M</th>\n",
       "      <td>45.54</td>\n",
       "      <td>31</td>\n",
       "    </tr>\n",
       "    <tr>\n",
       "      <th>unrated</th>\n",
       "      <td>35.71</td>\n",
       "      <td>24</td>\n",
       "    </tr>\n",
       "    <tr>\n",
       "      <th>E</th>\n",
       "      <td>34.83</td>\n",
       "      <td>24</td>\n",
       "    </tr>\n",
       "    <tr>\n",
       "      <th>T</th>\n",
       "      <td>20.32</td>\n",
       "      <td>14</td>\n",
       "    </tr>\n",
       "    <tr>\n",
       "      <th>E10+</th>\n",
       "      <td>11.54</td>\n",
       "      <td>8</td>\n",
       "    </tr>\n",
       "  </tbody>\n",
       "</table>\n",
       "</div>"
      ],
      "text/plain": [
       "         eu_sales  sales_share\n",
       "rating                        \n",
       "M           45.54           31\n",
       "unrated     35.71           24\n",
       "E           34.83           24\n",
       "T           20.32           14\n",
       "E10+        11.54            8"
      ]
     },
     "metadata": {},
     "output_type": "display_data"
    },
    {
     "data": {
      "image/png": "[encoded data removed]",
      "text/plain": [
       "<Figure size 432x432 with 1 Axes>"
      ]
     },
     "metadata": {},
     "output_type": "display_data"
    },
    {
     "data": {
      "text/html": [
       "<div>\n",
       "<style scoped>\n",
       "    .dataframe tbody tr th:only-of-type {\n",
       "        vertical-align: middle;\n",
       "    }\n",
       "\n",
       "    .dataframe tbody tr th {\n",
       "        vertical-align: top;\n",
       "    }\n",
       "\n",
       "    .dataframe thead th {\n",
       "        text-align: right;\n",
       "    }\n",
       "</style>\n",
       "<table border=\"1\" class=\"dataframe\">\n",
       "  <thead>\n",
       "    <tr style=\"text-align: right;\">\n",
       "      <th></th>\n",
       "      <th>jp_sales</th>\n",
       "      <th>sales_share</th>\n",
       "    </tr>\n",
       "    <tr>\n",
       "      <th>rating</th>\n",
       "      <th></th>\n",
       "      <th></th>\n",
       "    </tr>\n",
       "  </thead>\n",
       "  <tbody>\n",
       "    <tr>\n",
       "      <th>unrated</th>\n",
       "      <td>32.89</td>\n",
       "      <td>62</td>\n",
       "    </tr>\n",
       "    <tr>\n",
       "      <th>T</th>\n",
       "      <td>7.70</td>\n",
       "      <td>14</td>\n",
       "    </tr>\n",
       "    <tr>\n",
       "      <th>E</th>\n",
       "      <td>5.25</td>\n",
       "      <td>10</td>\n",
       "    </tr>\n",
       "    <tr>\n",
       "      <th>M</th>\n",
       "      <td>4.29</td>\n",
       "      <td>8</td>\n",
       "    </tr>\n",
       "    <tr>\n",
       "      <th>E10+</th>\n",
       "      <td>3.27</td>\n",
       "      <td>6</td>\n",
       "    </tr>\n",
       "  </tbody>\n",
       "</table>\n",
       "</div>"
      ],
      "text/plain": [
       "         jp_sales  sales_share\n",
       "rating                        \n",
       "unrated     32.89           62\n",
       "T            7.70           14\n",
       "E            5.25           10\n",
       "M            4.29            8\n",
       "E10+         3.27            6"
      ]
     },
     "metadata": {},
     "output_type": "display_data"
    }
   ],
   "source": [
    "regions = ['na_sales', 'eu_sales', 'jp_sales']\n",
    "for region in regions:\n",
    "    pivot = recent_games.pivot_table(index='rating', values=region, aggfunc='sum').sort_values(region,ascending=False)\n",
    "    pivot['sales_share'] = round(pivot[region] / pivot[region].sum() * 100).astype(int)\n",
    "    pivot['sales_share'].plot(kind='pie', figsize=(6,6), autopct=('%.0f'))\n",
    "    plt.show()\n",
    "    display(pivot)"
   ]
  },
  {
   "cell_type": "markdown",
   "metadata": {},
   "source": [
    "Во всех трех регионах рейтинги практически одинаково влияют на продажи. Топ1 продаж во всех регионах приходится на E - 41, 39 и 44 процента соответственно. Рейтинг RP занимает околонулевую долю продаж во всех регионах."
   ]
  },
  {
   "cell_type": "markdown",
   "metadata": {},
   "source": [
    "## Проверка гипотез"
   ]
  },
  {
   "cell_type": "markdown",
   "metadata": {},
   "source": [
    "Средние пользовательские рейтинги платформ Xbox One и PC одинаковые;\n",
    "Средние пользовательские рейтинги жанров Action (англ. «действие», экшен-игры) и Sports (англ. «спортивные соревнования») разные.\n"
   ]
  },
  {
   "cell_type": "markdown",
   "metadata": {},
   "source": [
    "Для первого вопроса:\n",
    "H0 - Средние пользовательские рейтинги платформ Xbox One и PC одинаковые.\n",
    "H1 - Средние пользовательские рейтинги платформ Xbox One и PC разные.\n",
    "\n",
    "Для второго вопроса.\n",
    "H0 - Средние пользовательские рейтинги жанров Action (англ. «действие», экшен-игры) и Sports (англ. «спортивные соревнования») одинаковые.\n",
    "H1 - Средние пользовательские рейтинги жанров Action (англ. «действие», экшен-игры) и Sports (англ. «спортивные соревнования») разные."
   ]
  },
  {
   "cell_type": "code",
   "execution_count": 43,
   "metadata": {},
   "outputs": [
    {
     "name": "stdout",
     "output_type": "stream",
     "text": [
      "p-значение: 0.2778542084733886\n",
      "Не получилось отвергнуть нулевую гипотезу\n"
     ]
    }
   ],
   "source": [
    "alpha = 0.01\n",
    "\n",
    "results = st.ttest_ind(recent_games[recent_games['platform'] == \"XOne\"]['user_score'].astype('float'), \n",
    "                       recent_games[recent_games['platform'] == \"PC\"]['user_score'].astype('float'), \n",
    "                       equal_var = True,\n",
    "                       nan_policy='omit')\n",
    "\n",
    "print('p-значение:', results.pvalue)\n",
    "if (results.pvalue < alpha):\n",
    "    print(\"Отвергаем нулевую гипотезу\")\n",
    "else:\n",
    "\n",
    "    print(\"Не получилось отвергнуть нулевую гипотезу\")"
   ]
  },
  {
   "cell_type": "markdown",
   "metadata": {},
   "source": [
    "Не получилось отвергнуть нулевую гипотезу, следовательно различие между пользовательскими оценками игр на платформах XOne и PC не статистически значимо."
   ]
  },
  {
   "cell_type": "code",
   "execution_count": 44,
   "metadata": {},
   "outputs": [
    {
     "name": "stdout",
     "output_type": "stream",
     "text": [
      "p-значение: 1.0012846807938657e-13\n",
      "Отвергаем нулевую гипотезу\n"
     ]
    }
   ],
   "source": [
    "alpha = 0.01\n",
    "\n",
    "results = st.ttest_ind(recent_games[recent_games['genre'] == \"Action\"]['user_score'].astype('float'), \n",
    "                       recent_games[recent_games['genre'] == \"Sports\"]['user_score'].astype('float'), \n",
    "                       equal_var = True,\n",
    "                       nan_policy='omit')\n",
    "\n",
    "print('p-значение:', results.pvalue)\n",
    "if (results.pvalue < alpha):\n",
    "    print(\"Отвергаем нулевую гипотезу\")\n",
    "else:\n",
    "\n",
    "    print(\"Не получилось отвергнуть нулевую гипотезу\")"
   ]
  },
  {
   "cell_type": "markdown",
   "metadata": {},
   "source": [
    "Мы отвергли нулевую гипотезу, следовательно различия пользовательских оценок между Action и Sports статистически значимы."
   ]
  },
  {
   "cell_type": "markdown",
   "metadata": {},
   "source": [
    "## Итоговый вывод"
   ]
  },
  {
   "cell_type": "markdown",
   "metadata": {},
   "source": [
    "Рынок игр очень непостоянен. Среднее время жизни платформ составляет 5-7 лет. Есть большие отличия в жанрах между Японией и западными рынками. Самые прибыльные жанры это Action, Role-playing и Sports."
   ]
  }
 ],
 "metadata": {
  "ExecuteTimeLog": [
   {
    "duration": 575,
    "start_time": "2022-05-28T11:23:45.008Z"
   },
   {
    "duration": 173,
    "start_time": "2022-05-28T11:24:10.547Z"
   },
   {
    "duration": 27,
    "start_time": "2022-05-28T11:24:16.203Z"
   },
   {
    "duration": 95,
    "start_time": "2022-05-28T11:25:46.277Z"
   },
   {
    "duration": 17,
    "start_time": "2022-05-28T11:26:55.450Z"
   },
   {
    "duration": 14,
    "start_time": "2022-05-28T11:27:10.984Z"
   },
   {
    "duration": 27,
    "start_time": "2022-05-28T11:31:59.902Z"
   },
   {
    "duration": 5,
    "start_time": "2022-05-28T11:32:10.144Z"
   },
   {
    "duration": 29,
    "start_time": "2022-05-28T11:32:13.536Z"
   },
   {
    "duration": 23,
    "start_time": "2022-05-28T11:32:21.537Z"
   },
   {
    "duration": 16,
    "start_time": "2022-05-28T11:32:49.241Z"
   },
   {
    "duration": 8,
    "start_time": "2022-05-28T11:34:10.618Z"
   },
   {
    "duration": 84,
    "start_time": "2022-05-28T11:34:18.641Z"
   },
   {
    "duration": 5,
    "start_time": "2022-05-28T11:34:22.445Z"
   },
   {
    "duration": 5,
    "start_time": "2022-05-28T11:34:52.239Z"
   },
   {
    "duration": 19,
    "start_time": "2022-05-28T11:35:53.608Z"
   },
   {
    "duration": 23,
    "start_time": "2022-05-28T11:36:02.919Z"
   },
   {
    "duration": 24,
    "start_time": "2022-05-28T11:36:18.014Z"
   },
   {
    "duration": 29,
    "start_time": "2022-05-28T11:36:26.619Z"
   },
   {
    "duration": 22,
    "start_time": "2022-05-28T11:36:47.451Z"
   },
   {
    "duration": 211,
    "start_time": "2022-05-28T11:37:21.570Z"
   },
   {
    "duration": 20,
    "start_time": "2022-05-28T11:37:29.047Z"
   },
   {
    "duration": 30,
    "start_time": "2022-05-28T11:37:47.837Z"
   },
   {
    "duration": 5,
    "start_time": "2022-05-28T11:37:55.809Z"
   },
   {
    "duration": 21,
    "start_time": "2022-05-28T11:38:01.461Z"
   },
   {
    "duration": 12,
    "start_time": "2022-05-28T11:38:22.012Z"
   },
   {
    "duration": 19,
    "start_time": "2022-05-28T11:38:32.836Z"
   },
   {
    "duration": 13,
    "start_time": "2022-05-28T11:39:06.620Z"
   },
   {
    "duration": 548,
    "start_time": "2022-05-28T12:49:57.824Z"
   },
   {
    "duration": 81,
    "start_time": "2022-05-28T12:49:58.375Z"
   },
   {
    "duration": 22,
    "start_time": "2022-05-28T12:49:58.458Z"
   },
   {
    "duration": 30,
    "start_time": "2022-05-28T12:49:58.482Z"
   },
   {
    "duration": 21,
    "start_time": "2022-05-28T12:49:58.514Z"
   },
   {
    "duration": 55,
    "start_time": "2022-05-28T12:49:58.537Z"
   },
   {
    "duration": 21,
    "start_time": "2022-05-28T12:49:58.596Z"
   },
   {
    "duration": 83,
    "start_time": "2022-05-28T12:52:17.690Z"
   },
   {
    "duration": 183,
    "start_time": "2022-05-28T12:52:24.412Z"
   },
   {
    "duration": 408,
    "start_time": "2022-05-28T13:54:53.004Z"
   },
   {
    "duration": 51,
    "start_time": "2022-05-28T13:54:53.414Z"
   },
   {
    "duration": 15,
    "start_time": "2022-05-28T13:54:53.467Z"
   },
   {
    "duration": 21,
    "start_time": "2022-05-28T13:54:53.484Z"
   },
   {
    "duration": 15,
    "start_time": "2022-05-28T13:54:53.506Z"
   },
   {
    "duration": 20,
    "start_time": "2022-05-28T13:54:53.523Z"
   },
   {
    "duration": 40,
    "start_time": "2022-05-28T13:54:53.545Z"
   },
   {
    "duration": 75,
    "start_time": "2022-05-28T13:54:53.587Z"
   },
   {
    "duration": 30,
    "start_time": "2022-05-28T13:55:07.882Z"
   },
   {
    "duration": 449,
    "start_time": "2022-05-28T14:16:10.351Z"
   },
   {
    "duration": 55,
    "start_time": "2022-05-28T14:16:10.802Z"
   },
   {
    "duration": 14,
    "start_time": "2022-05-28T14:16:10.859Z"
   },
   {
    "duration": 24,
    "start_time": "2022-05-28T14:16:10.875Z"
   },
   {
    "duration": 17,
    "start_time": "2022-05-28T14:16:10.900Z"
   },
   {
    "duration": 22,
    "start_time": "2022-05-28T14:16:10.919Z"
   },
   {
    "duration": 99,
    "start_time": "2022-05-28T14:16:10.943Z"
   },
   {
    "duration": 156,
    "start_time": "2022-05-28T14:19:34.015Z"
   },
   {
    "duration": 25,
    "start_time": "2022-05-28T14:20:46.801Z"
   },
   {
    "duration": 33,
    "start_time": "2022-05-28T14:20:52.549Z"
   },
   {
    "duration": 8,
    "start_time": "2022-05-28T14:21:00.200Z"
   },
   {
    "duration": 29,
    "start_time": "2022-05-28T14:21:01.872Z"
   },
   {
    "duration": 16,
    "start_time": "2022-05-28T14:21:19.002Z"
   },
   {
    "duration": 20,
    "start_time": "2022-05-28T14:29:19.142Z"
   },
   {
    "duration": 16,
    "start_time": "2022-05-28T14:30:14.340Z"
   },
   {
    "duration": 478,
    "start_time": "2022-05-28T14:30:48.983Z"
   },
   {
    "duration": 57,
    "start_time": "2022-05-28T14:30:49.463Z"
   },
   {
    "duration": 15,
    "start_time": "2022-05-28T14:30:49.522Z"
   },
   {
    "duration": 22,
    "start_time": "2022-05-28T14:30:49.539Z"
   },
   {
    "duration": 29,
    "start_time": "2022-05-28T14:30:49.562Z"
   },
   {
    "duration": 32,
    "start_time": "2022-05-28T14:30:49.593Z"
   },
   {
    "duration": 16,
    "start_time": "2022-05-28T14:30:49.627Z"
   },
   {
    "duration": 9,
    "start_time": "2022-05-28T14:30:49.645Z"
   },
   {
    "duration": 15,
    "start_time": "2022-05-28T14:31:37.095Z"
   },
   {
    "duration": 11,
    "start_time": "2022-05-28T14:31:43.344Z"
   },
   {
    "duration": 15,
    "start_time": "2022-05-28T14:32:09.165Z"
   },
   {
    "duration": 10,
    "start_time": "2022-05-28T14:32:59.752Z"
   },
   {
    "duration": 23,
    "start_time": "2022-05-28T14:33:16.242Z"
   },
   {
    "duration": 80,
    "start_time": "2022-05-28T14:34:26.625Z"
   },
   {
    "duration": 84,
    "start_time": "2022-05-28T14:34:35.998Z"
   },
   {
    "duration": 13,
    "start_time": "2022-05-28T14:34:54.197Z"
   },
   {
    "duration": 78,
    "start_time": "2022-05-28T14:34:59.663Z"
   },
   {
    "duration": 82,
    "start_time": "2022-05-28T14:35:44.696Z"
   },
   {
    "duration": 52,
    "start_time": "2022-05-28T14:36:58.291Z"
   },
   {
    "duration": 29,
    "start_time": "2022-05-28T14:40:26.439Z"
   },
   {
    "duration": 27,
    "start_time": "2022-05-28T14:40:30.565Z"
   },
   {
    "duration": 21,
    "start_time": "2022-05-28T14:40:35.437Z"
   },
   {
    "duration": 28,
    "start_time": "2022-05-28T14:47:49.015Z"
   },
   {
    "duration": 6,
    "start_time": "2022-05-28T14:48:04.207Z"
   },
   {
    "duration": 12,
    "start_time": "2022-05-28T14:48:12.447Z"
   },
   {
    "duration": 7,
    "start_time": "2022-05-28T14:49:49.370Z"
   },
   {
    "duration": 725,
    "start_time": "2022-05-28T14:55:30.931Z"
   },
   {
    "duration": 26,
    "start_time": "2022-05-28T14:55:50.240Z"
   },
   {
    "duration": 25,
    "start_time": "2022-05-28T14:58:54.750Z"
   },
   {
    "duration": 5,
    "start_time": "2022-05-28T15:00:04.755Z"
   },
   {
    "duration": 16,
    "start_time": "2022-05-28T15:00:12.591Z"
   },
   {
    "duration": 10,
    "start_time": "2022-05-28T15:00:24.521Z"
   },
   {
    "duration": 10,
    "start_time": "2022-05-28T15:01:24.699Z"
   },
   {
    "duration": 10,
    "start_time": "2022-05-28T15:01:30.650Z"
   },
   {
    "duration": 10,
    "start_time": "2022-05-28T15:02:56.464Z"
   },
   {
    "duration": 14,
    "start_time": "2022-05-28T15:05:03.266Z"
   },
   {
    "duration": 1169,
    "start_time": "2022-05-28T15:05:38.725Z"
   },
   {
    "duration": 232,
    "start_time": "2022-05-28T15:06:54.947Z"
   },
   {
    "duration": 248,
    "start_time": "2022-05-28T15:07:36.902Z"
   },
   {
    "duration": 138,
    "start_time": "2022-05-28T15:07:42.899Z"
   },
   {
    "duration": 19,
    "start_time": "2022-05-28T15:14:25.223Z"
   },
   {
    "duration": 1270,
    "start_time": "2022-05-28T15:45:21.273Z"
   },
   {
    "duration": 62,
    "start_time": "2022-05-28T15:45:22.545Z"
   },
   {
    "duration": 24,
    "start_time": "2022-05-28T15:45:22.611Z"
   },
   {
    "duration": 23,
    "start_time": "2022-05-28T15:45:22.637Z"
   },
   {
    "duration": 47,
    "start_time": "2022-05-28T15:45:22.663Z"
   },
   {
    "duration": 25,
    "start_time": "2022-05-28T15:45:22.718Z"
   },
   {
    "duration": 10,
    "start_time": "2022-05-28T15:45:22.745Z"
   },
   {
    "duration": 23,
    "start_time": "2022-05-28T15:45:22.757Z"
   },
   {
    "duration": 20,
    "start_time": "2022-05-28T15:45:22.782Z"
   },
   {
    "duration": 119,
    "start_time": "2022-05-28T15:45:22.804Z"
   },
   {
    "duration": 39,
    "start_time": "2022-05-28T15:45:22.925Z"
   },
   {
    "duration": 47,
    "start_time": "2022-05-28T15:45:22.965Z"
   },
   {
    "duration": 20,
    "start_time": "2022-05-28T15:45:23.014Z"
   },
   {
    "duration": 12,
    "start_time": "2022-05-28T15:45:23.037Z"
   },
   {
    "duration": 131,
    "start_time": "2022-05-28T15:45:23.051Z"
   },
   {
    "duration": 23,
    "start_time": "2022-05-28T15:46:36.903Z"
   },
   {
    "duration": 17,
    "start_time": "2022-05-28T15:46:46.818Z"
   },
   {
    "duration": 16,
    "start_time": "2022-05-28T15:46:49.171Z"
   },
   {
    "duration": 202,
    "start_time": "2022-05-28T15:46:58.326Z"
   },
   {
    "duration": 268,
    "start_time": "2022-05-28T15:47:13.071Z"
   },
   {
    "duration": 267,
    "start_time": "2022-05-28T15:47:23.601Z"
   },
   {
    "duration": 278,
    "start_time": "2022-05-28T15:47:32.860Z"
   },
   {
    "duration": 451,
    "start_time": "2022-05-28T15:47:58.011Z"
   },
   {
    "duration": 420,
    "start_time": "2022-05-28T15:48:10.299Z"
   },
   {
    "duration": 4,
    "start_time": "2022-05-28T15:49:20.630Z"
   },
   {
    "duration": 30,
    "start_time": "2022-05-28T15:52:06.365Z"
   },
   {
    "duration": 17,
    "start_time": "2022-05-28T15:53:39.324Z"
   },
   {
    "duration": 542,
    "start_time": "2022-05-28T15:53:42.505Z"
   },
   {
    "duration": 15,
    "start_time": "2022-05-28T15:54:44.501Z"
   },
   {
    "duration": 433,
    "start_time": "2022-05-28T15:54:51.885Z"
   },
   {
    "duration": 18,
    "start_time": "2022-05-28T15:55:01.661Z"
   },
   {
    "duration": 19,
    "start_time": "2022-05-28T15:56:23.814Z"
   },
   {
    "duration": 21,
    "start_time": "2022-05-28T15:56:35.890Z"
   },
   {
    "duration": 459,
    "start_time": "2022-05-28T15:57:18.417Z"
   },
   {
    "duration": 1379,
    "start_time": "2022-05-28T16:13:01.421Z"
   },
   {
    "duration": 73,
    "start_time": "2022-05-28T16:13:02.803Z"
   },
   {
    "duration": 23,
    "start_time": "2022-05-28T16:13:02.879Z"
   },
   {
    "duration": 31,
    "start_time": "2022-05-28T16:13:02.904Z"
   },
   {
    "duration": 17,
    "start_time": "2022-05-28T16:13:02.937Z"
   },
   {
    "duration": 44,
    "start_time": "2022-05-28T16:13:02.956Z"
   },
   {
    "duration": 20,
    "start_time": "2022-05-28T16:13:03.002Z"
   },
   {
    "duration": 23,
    "start_time": "2022-05-28T16:13:03.024Z"
   },
   {
    "duration": 41,
    "start_time": "2022-05-28T16:13:03.049Z"
   },
   {
    "duration": 118,
    "start_time": "2022-05-28T16:13:03.093Z"
   },
   {
    "duration": 28,
    "start_time": "2022-05-28T16:13:03.213Z"
   },
   {
    "duration": 63,
    "start_time": "2022-05-28T16:13:03.244Z"
   },
   {
    "duration": 6,
    "start_time": "2022-05-28T16:13:03.310Z"
   },
   {
    "duration": 30,
    "start_time": "2022-05-28T16:13:03.318Z"
   },
   {
    "duration": 503,
    "start_time": "2022-05-28T16:13:03.350Z"
   },
   {
    "duration": 54,
    "start_time": "2022-05-28T16:13:03.855Z"
   },
   {
    "duration": 133,
    "start_time": "2022-05-28T16:13:42.093Z"
   },
   {
    "duration": 23,
    "start_time": "2022-05-28T16:17:21.259Z"
   },
   {
    "duration": 33,
    "start_time": "2022-05-28T16:17:24.913Z"
   },
   {
    "duration": 23,
    "start_time": "2022-05-28T16:18:05.557Z"
   },
   {
    "duration": 18,
    "start_time": "2022-05-28T16:18:50.864Z"
   },
   {
    "duration": 173,
    "start_time": "2022-05-28T16:19:05.318Z"
   },
   {
    "duration": 25,
    "start_time": "2022-05-28T16:19:11.399Z"
   },
   {
    "duration": 34,
    "start_time": "2022-05-28T17:30:45.075Z"
   },
   {
    "duration": 13,
    "start_time": "2022-05-28T17:30:56.642Z"
   },
   {
    "duration": 153,
    "start_time": "2022-05-28T17:31:06.195Z"
   },
   {
    "duration": 15,
    "start_time": "2022-05-28T17:31:13.200Z"
   },
   {
    "duration": 129,
    "start_time": "2022-05-28T17:31:31.701Z"
   },
   {
    "duration": 186,
    "start_time": "2022-05-28T17:31:37.094Z"
   },
   {
    "duration": 14,
    "start_time": "2022-05-28T17:33:12.340Z"
   },
   {
    "duration": 9,
    "start_time": "2022-05-28T17:33:20.406Z"
   },
   {
    "duration": 8,
    "start_time": "2022-05-28T17:34:21.186Z"
   },
   {
    "duration": 7,
    "start_time": "2022-05-28T17:34:42.868Z"
   },
   {
    "duration": 13,
    "start_time": "2022-05-28T17:39:26.418Z"
   },
   {
    "duration": 6,
    "start_time": "2022-05-28T17:39:29.229Z"
   },
   {
    "duration": 9,
    "start_time": "2022-05-28T17:39:35.259Z"
   },
   {
    "duration": 12,
    "start_time": "2022-05-28T17:40:19.750Z"
   },
   {
    "duration": 398,
    "start_time": "2022-05-28T17:40:25.530Z"
   },
   {
    "duration": 18,
    "start_time": "2022-05-28T17:40:43.122Z"
   },
   {
    "duration": 17,
    "start_time": "2022-05-28T17:40:56.922Z"
   },
   {
    "duration": 307,
    "start_time": "2022-05-28T17:41:05.405Z"
   },
   {
    "duration": 430,
    "start_time": "2022-05-28T17:41:13.188Z"
   },
   {
    "duration": 359,
    "start_time": "2022-05-28T17:42:11.888Z"
   },
   {
    "duration": 377,
    "start_time": "2022-05-28T17:42:23.810Z"
   },
   {
    "duration": 29,
    "start_time": "2022-05-28T17:43:58.821Z"
   },
   {
    "duration": 5,
    "start_time": "2022-05-28T17:44:14.060Z"
   },
   {
    "duration": 22,
    "start_time": "2022-05-28T17:44:34.715Z"
   },
   {
    "duration": 17,
    "start_time": "2022-05-28T17:45:15.632Z"
   },
   {
    "duration": 25,
    "start_time": "2022-05-28T17:45:35.414Z"
   },
   {
    "duration": 39,
    "start_time": "2022-05-28T17:46:06.555Z"
   },
   {
    "duration": 34,
    "start_time": "2022-05-28T17:46:18.974Z"
   },
   {
    "duration": 11,
    "start_time": "2022-05-28T17:46:49.641Z"
   },
   {
    "duration": 12,
    "start_time": "2022-05-28T17:47:00.214Z"
   },
   {
    "duration": 14,
    "start_time": "2022-05-28T17:47:05.584Z"
   },
   {
    "duration": 15,
    "start_time": "2022-05-28T17:48:04.037Z"
   },
   {
    "duration": 36,
    "start_time": "2022-05-28T17:48:33.914Z"
   },
   {
    "duration": 33,
    "start_time": "2022-05-28T17:50:08.260Z"
   },
   {
    "duration": 4274,
    "start_time": "2022-05-28T17:51:46.105Z"
   },
   {
    "duration": 34,
    "start_time": "2022-05-28T17:52:05.175Z"
   },
   {
    "duration": 20,
    "start_time": "2022-05-28T17:52:08.856Z"
   },
   {
    "duration": 227,
    "start_time": "2022-05-28T17:52:13.480Z"
   },
   {
    "duration": 1316,
    "start_time": "2022-05-29T09:04:50.628Z"
   },
   {
    "duration": 415,
    "start_time": "2022-05-29T09:04:51.946Z"
   },
   {
    "duration": 16,
    "start_time": "2022-05-29T09:04:52.363Z"
   },
   {
    "duration": 17,
    "start_time": "2022-05-29T09:04:52.381Z"
   },
   {
    "duration": 15,
    "start_time": "2022-05-29T09:04:52.400Z"
   },
   {
    "duration": 22,
    "start_time": "2022-05-29T09:04:52.417Z"
   },
   {
    "duration": 50,
    "start_time": "2022-05-29T09:04:52.442Z"
   },
   {
    "duration": 9,
    "start_time": "2022-05-29T09:04:52.494Z"
   },
   {
    "duration": 19,
    "start_time": "2022-05-29T09:04:52.505Z"
   },
   {
    "duration": 7,
    "start_time": "2022-05-29T09:04:52.527Z"
   },
   {
    "duration": 111,
    "start_time": "2022-05-29T09:04:52.535Z"
   },
   {
    "duration": 48,
    "start_time": "2022-05-29T09:04:52.648Z"
   },
   {
    "duration": 23,
    "start_time": "2022-05-29T09:04:52.698Z"
   },
   {
    "duration": 4,
    "start_time": "2022-05-29T09:04:52.722Z"
   },
   {
    "duration": 20,
    "start_time": "2022-05-29T09:04:52.728Z"
   },
   {
    "duration": 500,
    "start_time": "2022-05-29T09:04:52.749Z"
   },
   {
    "duration": 362,
    "start_time": "2022-05-29T09:04:53.251Z"
   },
   {
    "duration": 9,
    "start_time": "2022-05-29T09:04:53.614Z"
   },
   {
    "duration": 170,
    "start_time": "2022-05-29T09:04:53.625Z"
   },
   {
    "duration": 0,
    "start_time": "2022-05-29T09:04:53.797Z"
   },
   {
    "duration": 27,
    "start_time": "2022-05-29T09:05:09.504Z"
   },
   {
    "duration": 24,
    "start_time": "2022-05-29T09:05:14.719Z"
   },
   {
    "duration": 27,
    "start_time": "2022-05-29T09:09:43.775Z"
   },
   {
    "duration": 24,
    "start_time": "2022-05-29T09:10:54.787Z"
   },
   {
    "duration": 9,
    "start_time": "2022-05-29T09:12:08.037Z"
   },
   {
    "duration": 62,
    "start_time": "2022-05-29T09:12:14.457Z"
   },
   {
    "duration": 19,
    "start_time": "2022-05-29T09:12:45.785Z"
   },
   {
    "duration": 24,
    "start_time": "2022-05-29T09:13:00.251Z"
   },
   {
    "duration": 16,
    "start_time": "2022-05-29T09:13:34.847Z"
   },
   {
    "duration": 13,
    "start_time": "2022-05-29T09:13:45.224Z"
   },
   {
    "duration": 17,
    "start_time": "2022-05-29T09:13:49.531Z"
   },
   {
    "duration": 15,
    "start_time": "2022-05-29T09:13:53.874Z"
   },
   {
    "duration": 19,
    "start_time": "2022-05-29T09:14:00.529Z"
   },
   {
    "duration": 18,
    "start_time": "2022-05-29T09:14:07.517Z"
   },
   {
    "duration": 45,
    "start_time": "2022-05-29T09:14:53.343Z"
   },
   {
    "duration": 31,
    "start_time": "2022-05-29T09:15:29.482Z"
   },
   {
    "duration": 15,
    "start_time": "2022-05-29T09:16:13.429Z"
   },
   {
    "duration": 9,
    "start_time": "2022-05-29T09:16:24.464Z"
   },
   {
    "duration": 157,
    "start_time": "2022-05-29T09:17:38.682Z"
   },
   {
    "duration": 123,
    "start_time": "2022-05-29T09:18:54.505Z"
   },
   {
    "duration": 128,
    "start_time": "2022-05-29T09:19:00.838Z"
   },
   {
    "duration": 19,
    "start_time": "2022-05-29T09:19:44.202Z"
   },
   {
    "duration": 13,
    "start_time": "2022-05-29T09:19:54.637Z"
   },
   {
    "duration": 118,
    "start_time": "2022-05-29T09:20:33.704Z"
   },
   {
    "duration": 184,
    "start_time": "2022-05-29T09:29:26.355Z"
   },
   {
    "duration": 154,
    "start_time": "2022-05-29T09:29:37.670Z"
   },
   {
    "duration": 129,
    "start_time": "2022-05-29T09:29:43.096Z"
   },
   {
    "duration": 225,
    "start_time": "2022-05-29T09:30:06.767Z"
   },
   {
    "duration": 1329,
    "start_time": "2022-05-29T10:28:27.944Z"
   },
   {
    "duration": 81,
    "start_time": "2022-05-29T10:28:29.275Z"
   },
   {
    "duration": 16,
    "start_time": "2022-05-29T10:28:29.358Z"
   },
   {
    "duration": 26,
    "start_time": "2022-05-29T10:28:29.376Z"
   },
   {
    "duration": 30,
    "start_time": "2022-05-29T10:28:29.405Z"
   },
   {
    "duration": 25,
    "start_time": "2022-05-29T10:28:29.437Z"
   },
   {
    "duration": 25,
    "start_time": "2022-05-29T10:28:29.464Z"
   },
   {
    "duration": 17,
    "start_time": "2022-05-29T10:28:29.490Z"
   },
   {
    "duration": 31,
    "start_time": "2022-05-29T10:28:29.510Z"
   },
   {
    "duration": 7,
    "start_time": "2022-05-29T10:28:29.543Z"
   },
   {
    "duration": 112,
    "start_time": "2022-05-29T10:28:29.551Z"
   },
   {
    "duration": 54,
    "start_time": "2022-05-29T10:28:29.665Z"
   },
   {
    "duration": 22,
    "start_time": "2022-05-29T10:28:29.721Z"
   },
   {
    "duration": 7,
    "start_time": "2022-05-29T10:28:29.745Z"
   },
   {
    "duration": 34,
    "start_time": "2022-05-29T10:28:29.753Z"
   },
   {
    "duration": 553,
    "start_time": "2022-05-29T10:28:29.790Z"
   },
   {
    "duration": 451,
    "start_time": "2022-05-29T10:28:30.345Z"
   },
   {
    "duration": 13,
    "start_time": "2022-05-29T10:28:30.798Z"
   },
   {
    "duration": 167,
    "start_time": "2022-05-29T10:28:30.814Z"
   },
   {
    "duration": 14,
    "start_time": "2022-05-29T10:28:30.983Z"
   },
   {
    "duration": 12,
    "start_time": "2022-05-29T10:28:40.905Z"
   },
   {
    "duration": 166,
    "start_time": "2022-05-29T10:29:04.211Z"
   },
   {
    "duration": 7,
    "start_time": "2022-05-29T10:29:12.251Z"
   },
   {
    "duration": 7,
    "start_time": "2022-05-29T10:29:15.445Z"
   },
   {
    "duration": 9,
    "start_time": "2022-05-29T10:29:20.010Z"
   },
   {
    "duration": 11,
    "start_time": "2022-05-29T10:29:24.515Z"
   },
   {
    "duration": 329,
    "start_time": "2022-05-29T10:30:15.878Z"
   },
   {
    "duration": 34,
    "start_time": "2022-05-29T10:30:50.342Z"
   },
   {
    "duration": 165,
    "start_time": "2022-05-29T10:30:54.098Z"
   },
   {
    "duration": 28,
    "start_time": "2022-05-29T10:30:56.918Z"
   },
   {
    "duration": 9,
    "start_time": "2022-05-29T10:32:12.919Z"
   },
   {
    "duration": 10,
    "start_time": "2022-05-29T10:32:17.458Z"
   },
   {
    "duration": 176,
    "start_time": "2022-05-29T10:32:25.743Z"
   },
   {
    "duration": 10,
    "start_time": "2022-05-29T10:32:44.843Z"
   },
   {
    "duration": 182,
    "start_time": "2022-05-29T10:32:49.461Z"
   },
   {
    "duration": 176,
    "start_time": "2022-05-29T10:32:57.750Z"
   },
   {
    "duration": 279,
    "start_time": "2022-05-29T10:33:06.182Z"
   },
   {
    "duration": 17,
    "start_time": "2022-05-29T10:35:13.444Z"
   },
   {
    "duration": 9,
    "start_time": "2022-05-29T10:35:17.856Z"
   },
   {
    "duration": 7,
    "start_time": "2022-05-29T10:35:23.554Z"
   },
   {
    "duration": 5,
    "start_time": "2022-05-29T10:35:29.957Z"
   },
   {
    "duration": 17,
    "start_time": "2022-05-29T10:35:38.821Z"
   },
   {
    "duration": 170,
    "start_time": "2022-05-29T10:35:42.913Z"
   },
   {
    "duration": 265,
    "start_time": "2022-05-29T10:35:47.202Z"
   },
   {
    "duration": 291,
    "start_time": "2022-05-29T10:36:15.411Z"
   },
   {
    "duration": 232,
    "start_time": "2022-05-29T10:36:19.718Z"
   },
   {
    "duration": 201,
    "start_time": "2022-05-29T10:37:39.566Z"
   },
   {
    "duration": 251,
    "start_time": "2022-05-29T10:37:45.901Z"
   },
   {
    "duration": 190,
    "start_time": "2022-05-29T10:37:50.750Z"
   },
   {
    "duration": 202,
    "start_time": "2022-05-29T10:38:01.243Z"
   },
   {
    "duration": 6,
    "start_time": "2022-05-29T10:38:10.246Z"
   },
   {
    "duration": 195,
    "start_time": "2022-05-29T10:38:28.802Z"
   },
   {
    "duration": 7,
    "start_time": "2022-05-29T10:38:35.514Z"
   },
   {
    "duration": 218,
    "start_time": "2022-05-29T10:38:45.014Z"
   },
   {
    "duration": 203,
    "start_time": "2022-05-29T10:38:49.344Z"
   },
   {
    "duration": 3,
    "start_time": "2022-05-29T10:39:32.448Z"
   },
   {
    "duration": 243,
    "start_time": "2022-05-29T10:40:20.586Z"
   },
   {
    "duration": 246,
    "start_time": "2022-05-29T10:42:13.311Z"
   },
   {
    "duration": 250,
    "start_time": "2022-05-29T10:42:33.966Z"
   },
   {
    "duration": 385,
    "start_time": "2022-05-29T10:42:39.042Z"
   },
   {
    "duration": 272,
    "start_time": "2022-05-29T10:42:47.365Z"
   },
   {
    "duration": 203,
    "start_time": "2022-05-29T10:42:53.551Z"
   },
   {
    "duration": 209,
    "start_time": "2022-05-29T10:44:08.612Z"
   },
   {
    "duration": 268,
    "start_time": "2022-05-29T10:44:12.307Z"
   },
   {
    "duration": 337,
    "start_time": "2022-05-29T10:44:22.327Z"
   },
   {
    "duration": 876,
    "start_time": "2022-05-29T10:44:55.957Z"
   },
   {
    "duration": 344,
    "start_time": "2022-05-29T10:45:08.309Z"
   },
   {
    "duration": 699,
    "start_time": "2022-05-29T10:45:18.914Z"
   },
   {
    "duration": 6,
    "start_time": "2022-05-29T10:45:24.617Z"
   },
   {
    "duration": 643,
    "start_time": "2022-05-29T10:45:38.308Z"
   },
   {
    "duration": 58,
    "start_time": "2022-05-29T10:46:40.903Z"
   },
   {
    "duration": 848,
    "start_time": "2022-05-29T10:46:48.277Z"
   },
   {
    "duration": 15,
    "start_time": "2022-05-29T11:24:09.246Z"
   },
   {
    "duration": 41,
    "start_time": "2022-05-29T11:24:28.393Z"
   },
   {
    "duration": 13,
    "start_time": "2022-05-29T11:24:52.646Z"
   },
   {
    "duration": 17,
    "start_time": "2022-05-29T11:25:30.461Z"
   },
   {
    "duration": 12,
    "start_time": "2022-05-29T11:25:35.574Z"
   },
   {
    "duration": 285,
    "start_time": "2022-05-29T11:25:57.582Z"
   },
   {
    "duration": 291,
    "start_time": "2022-05-29T11:28:39.125Z"
   },
   {
    "duration": 267,
    "start_time": "2022-05-29T11:28:46.532Z"
   },
   {
    "duration": 12,
    "start_time": "2022-05-29T11:34:29.163Z"
   },
   {
    "duration": 16,
    "start_time": "2022-05-29T11:34:34.735Z"
   },
   {
    "duration": 11,
    "start_time": "2022-05-29T11:34:49.260Z"
   },
   {
    "duration": 437,
    "start_time": "2022-05-29T11:35:19.702Z"
   },
   {
    "duration": 26,
    "start_time": "2022-05-29T11:35:55.295Z"
   },
   {
    "duration": 13,
    "start_time": "2022-05-29T11:36:19.474Z"
   },
   {
    "duration": 13,
    "start_time": "2022-05-29T11:36:34.192Z"
   },
   {
    "duration": 17,
    "start_time": "2022-05-29T11:36:39.849Z"
   },
   {
    "duration": 18,
    "start_time": "2022-05-29T11:37:16.851Z"
   },
   {
    "duration": 18,
    "start_time": "2022-05-29T11:37:28.552Z"
   },
   {
    "duration": 22,
    "start_time": "2022-05-29T12:28:12.726Z"
   },
   {
    "duration": 24,
    "start_time": "2022-05-29T12:28:27.243Z"
   },
   {
    "duration": 25,
    "start_time": "2022-05-29T12:29:54.616Z"
   },
   {
    "duration": 11,
    "start_time": "2022-05-29T12:30:21.130Z"
   },
   {
    "duration": 8,
    "start_time": "2022-05-29T12:31:13.547Z"
   },
   {
    "duration": 28,
    "start_time": "2022-05-29T12:31:18.979Z"
   },
   {
    "duration": 12,
    "start_time": "2022-05-29T12:31:27.679Z"
   },
   {
    "duration": 9,
    "start_time": "2022-05-29T13:28:42.464Z"
   },
   {
    "duration": 13,
    "start_time": "2022-05-29T13:28:47.274Z"
   },
   {
    "duration": 28,
    "start_time": "2022-05-29T13:28:52.545Z"
   },
   {
    "duration": 9,
    "start_time": "2022-05-29T13:30:03.650Z"
   },
   {
    "duration": 62,
    "start_time": "2022-05-29T13:34:32.906Z"
   },
   {
    "duration": 10,
    "start_time": "2022-05-29T13:34:36.948Z"
   },
   {
    "duration": 778,
    "start_time": "2022-05-29T13:34:43.065Z"
   },
   {
    "duration": 9,
    "start_time": "2022-05-29T13:38:48.307Z"
   },
   {
    "duration": 38,
    "start_time": "2022-05-29T13:38:51.918Z"
   },
   {
    "duration": 6,
    "start_time": "2022-05-29T13:38:59.743Z"
   },
   {
    "duration": 284,
    "start_time": "2022-05-29T13:39:41.896Z"
   },
   {
    "duration": 367,
    "start_time": "2022-05-29T13:39:49.359Z"
   },
   {
    "duration": 49,
    "start_time": "2022-05-29T13:43:29.784Z"
   },
   {
    "duration": 377,
    "start_time": "2022-05-29T13:43:35.284Z"
   },
   {
    "duration": 63,
    "start_time": "2022-05-29T13:44:53.952Z"
   },
   {
    "duration": 463,
    "start_time": "2022-05-29T13:45:05.909Z"
   },
   {
    "duration": 683,
    "start_time": "2022-05-29T13:45:17.886Z"
   },
   {
    "duration": 458,
    "start_time": "2022-05-29T13:45:25.706Z"
   },
   {
    "duration": 26,
    "start_time": "2022-05-29T13:53:03.740Z"
   },
   {
    "duration": 89,
    "start_time": "2022-05-29T17:11:22.450Z"
   },
   {
    "duration": 1677,
    "start_time": "2022-05-29T17:11:27.831Z"
   },
   {
    "duration": 444,
    "start_time": "2022-05-29T17:11:29.511Z"
   },
   {
    "duration": 21,
    "start_time": "2022-05-29T17:11:29.957Z"
   },
   {
    "duration": 36,
    "start_time": "2022-05-29T17:11:29.981Z"
   },
   {
    "duration": 19,
    "start_time": "2022-05-29T17:11:30.019Z"
   },
   {
    "duration": 24,
    "start_time": "2022-05-29T17:11:30.040Z"
   },
   {
    "duration": 46,
    "start_time": "2022-05-29T17:11:30.067Z"
   },
   {
    "duration": 29,
    "start_time": "2022-05-29T17:11:30.115Z"
   },
   {
    "duration": 53,
    "start_time": "2022-05-29T17:11:30.146Z"
   },
   {
    "duration": 39,
    "start_time": "2022-05-29T17:11:30.202Z"
   },
   {
    "duration": 160,
    "start_time": "2022-05-29T17:11:30.244Z"
   },
   {
    "duration": 33,
    "start_time": "2022-05-29T17:11:30.405Z"
   },
   {
    "duration": 34,
    "start_time": "2022-05-29T17:11:30.440Z"
   },
   {
    "duration": 32,
    "start_time": "2022-05-29T17:11:30.490Z"
   },
   {
    "duration": 38,
    "start_time": "2022-05-29T17:11:30.525Z"
   },
   {
    "duration": 510,
    "start_time": "2022-05-29T17:11:30.565Z"
   },
   {
    "duration": 486,
    "start_time": "2022-05-29T17:11:31.077Z"
   },
   {
    "duration": 35,
    "start_time": "2022-05-29T17:11:31.565Z"
   },
   {
    "duration": 31,
    "start_time": "2022-05-29T17:11:31.602Z"
   },
   {
    "duration": 388,
    "start_time": "2022-05-29T17:11:31.635Z"
   },
   {
    "duration": 19,
    "start_time": "2022-05-29T17:11:32.026Z"
   },
   {
    "duration": 316,
    "start_time": "2022-05-29T17:11:32.048Z"
   },
   {
    "duration": 426,
    "start_time": "2022-05-29T17:11:32.367Z"
   },
   {
    "duration": 165,
    "start_time": "2022-05-29T17:11:32.798Z"
   },
   {
    "duration": 39,
    "start_time": "2022-05-29T17:12:53.131Z"
   },
   {
    "duration": 25,
    "start_time": "2022-05-29T17:14:39.456Z"
   },
   {
    "duration": 16,
    "start_time": "2022-05-29T17:14:44.853Z"
   },
   {
    "duration": 22,
    "start_time": "2022-05-29T17:14:53.690Z"
   },
   {
    "duration": 15,
    "start_time": "2022-05-29T17:19:18.861Z"
   },
   {
    "duration": 14,
    "start_time": "2022-05-29T17:19:32.446Z"
   },
   {
    "duration": 21,
    "start_time": "2022-05-29T17:19:38.883Z"
   },
   {
    "duration": 12,
    "start_time": "2022-05-29T17:19:47.730Z"
   },
   {
    "duration": 21,
    "start_time": "2022-05-29T17:19:55.321Z"
   },
   {
    "duration": 20,
    "start_time": "2022-05-29T17:21:10.005Z"
   },
   {
    "duration": 8,
    "start_time": "2022-05-29T17:21:29.236Z"
   },
   {
    "duration": 32,
    "start_time": "2022-05-29T17:21:51.833Z"
   },
   {
    "duration": 33,
    "start_time": "2022-05-29T17:23:03.831Z"
   },
   {
    "duration": 7,
    "start_time": "2022-05-29T17:23:20.023Z"
   },
   {
    "duration": 7,
    "start_time": "2022-05-29T17:23:39.562Z"
   },
   {
    "duration": 28,
    "start_time": "2022-05-29T17:24:28.853Z"
   },
   {
    "duration": 10,
    "start_time": "2022-05-29T17:25:05.730Z"
   },
   {
    "duration": 40,
    "start_time": "2022-05-29T17:25:19.102Z"
   },
   {
    "duration": 9,
    "start_time": "2022-05-29T17:25:38.773Z"
   },
   {
    "duration": 16,
    "start_time": "2022-05-29T17:25:47.199Z"
   },
   {
    "duration": 14,
    "start_time": "2022-05-29T17:27:12.707Z"
   },
   {
    "duration": 50,
    "start_time": "2022-05-29T17:32:50.410Z"
   },
   {
    "duration": 83,
    "start_time": "2022-05-29T17:33:08.470Z"
   },
   {
    "duration": 216,
    "start_time": "2022-05-29T17:33:52.147Z"
   },
   {
    "duration": 201,
    "start_time": "2022-05-29T17:34:27.273Z"
   },
   {
    "duration": 188,
    "start_time": "2022-05-29T17:36:55.065Z"
   },
   {
    "duration": 6,
    "start_time": "2022-05-29T17:37:16.270Z"
   },
   {
    "duration": 10,
    "start_time": "2022-05-29T17:38:15.591Z"
   },
   {
    "duration": 5,
    "start_time": "2022-05-29T17:41:08.929Z"
   },
   {
    "duration": 23,
    "start_time": "2022-05-29T17:41:44.645Z"
   },
   {
    "duration": 11,
    "start_time": "2022-05-29T17:41:58.517Z"
   },
   {
    "duration": 5,
    "start_time": "2022-05-29T17:42:03.189Z"
   },
   {
    "duration": 15,
    "start_time": "2022-05-29T17:42:12.480Z"
   },
   {
    "duration": 10,
    "start_time": "2022-05-29T17:42:33.262Z"
   },
   {
    "duration": 12,
    "start_time": "2022-05-29T17:42:48.994Z"
   },
   {
    "duration": 8,
    "start_time": "2022-05-29T17:44:45.842Z"
   },
   {
    "duration": 9,
    "start_time": "2022-05-29T17:45:18.560Z"
   },
   {
    "duration": 12,
    "start_time": "2022-05-29T17:45:28.865Z"
   },
   {
    "duration": 12,
    "start_time": "2022-05-29T17:45:38.146Z"
   },
   {
    "duration": 26,
    "start_time": "2022-05-29T17:46:47.859Z"
   },
   {
    "duration": 30,
    "start_time": "2022-05-29T17:47:06.282Z"
   },
   {
    "duration": 115,
    "start_time": "2022-05-29T17:47:12.765Z"
   },
   {
    "duration": 24,
    "start_time": "2022-05-29T17:47:36.407Z"
   },
   {
    "duration": 25,
    "start_time": "2022-05-29T17:47:47.294Z"
   },
   {
    "duration": 39,
    "start_time": "2022-05-29T17:47:56.282Z"
   },
   {
    "duration": 16,
    "start_time": "2022-05-29T17:48:13.843Z"
   },
   {
    "duration": 30,
    "start_time": "2022-05-29T17:48:53.743Z"
   },
   {
    "duration": 19,
    "start_time": "2022-05-29T17:49:03.111Z"
   },
   {
    "duration": 190,
    "start_time": "2022-05-29T17:49:28.993Z"
   },
   {
    "duration": 224,
    "start_time": "2022-05-29T17:50:03.584Z"
   },
   {
    "duration": 29,
    "start_time": "2022-05-29T17:50:32.019Z"
   },
   {
    "duration": 25,
    "start_time": "2022-05-29T17:50:35.526Z"
   },
   {
    "duration": 21,
    "start_time": "2022-05-29T17:50:51.142Z"
   },
   {
    "duration": 25,
    "start_time": "2022-05-29T17:50:55.125Z"
   },
   {
    "duration": 14,
    "start_time": "2022-05-29T17:51:54.818Z"
   },
   {
    "duration": 51,
    "start_time": "2022-05-29T17:54:33.649Z"
   },
   {
    "duration": 10,
    "start_time": "2022-05-29T17:55:38.603Z"
   },
   {
    "duration": 46,
    "start_time": "2022-05-29T17:55:41.463Z"
   },
   {
    "duration": 35,
    "start_time": "2022-05-29T17:55:47.045Z"
   },
   {
    "duration": 6,
    "start_time": "2022-05-29T17:58:57.320Z"
   },
   {
    "duration": 19,
    "start_time": "2022-05-29T17:59:00.839Z"
   },
   {
    "duration": 22,
    "start_time": "2022-05-29T17:59:09.247Z"
   },
   {
    "duration": 16,
    "start_time": "2022-05-29T17:59:45.775Z"
   },
   {
    "duration": 33,
    "start_time": "2022-05-29T18:00:01.538Z"
   },
   {
    "duration": 7489,
    "start_time": "2022-05-29T18:00:19.264Z"
   },
   {
    "duration": 511,
    "start_time": "2022-05-29T18:00:46.537Z"
   },
   {
    "duration": 34,
    "start_time": "2022-05-29T18:01:05.401Z"
   },
   {
    "duration": 24,
    "start_time": "2022-05-29T18:01:25.672Z"
   },
   {
    "duration": 37,
    "start_time": "2022-05-29T18:01:30.857Z"
   },
   {
    "duration": 591,
    "start_time": "2022-05-29T18:02:34.702Z"
   },
   {
    "duration": 518,
    "start_time": "2022-05-29T18:02:39.579Z"
   },
   {
    "duration": 34,
    "start_time": "2022-05-29T18:02:44.682Z"
   },
   {
    "duration": 17,
    "start_time": "2022-05-29T18:03:47.509Z"
   },
   {
    "duration": 33,
    "start_time": "2022-05-29T18:03:51.668Z"
   },
   {
    "duration": 1229,
    "start_time": "2022-05-30T11:09:05.843Z"
   },
   {
    "duration": 95,
    "start_time": "2022-05-30T11:09:07.074Z"
   },
   {
    "duration": 14,
    "start_time": "2022-05-30T11:09:07.171Z"
   },
   {
    "duration": 28,
    "start_time": "2022-05-30T11:09:07.186Z"
   },
   {
    "duration": 14,
    "start_time": "2022-05-30T11:09:07.216Z"
   },
   {
    "duration": 19,
    "start_time": "2022-05-30T11:09:07.231Z"
   },
   {
    "duration": 17,
    "start_time": "2022-05-30T11:09:07.251Z"
   },
   {
    "duration": 8,
    "start_time": "2022-05-30T11:09:07.270Z"
   },
   {
    "duration": 18,
    "start_time": "2022-05-30T11:09:07.279Z"
   },
   {
    "duration": 33,
    "start_time": "2022-05-30T11:09:07.299Z"
   },
   {
    "duration": 73,
    "start_time": "2022-05-30T11:09:07.333Z"
   },
   {
    "duration": 44,
    "start_time": "2022-05-30T11:09:07.407Z"
   },
   {
    "duration": 23,
    "start_time": "2022-05-30T11:09:07.453Z"
   },
   {
    "duration": 4,
    "start_time": "2022-05-30T11:09:07.478Z"
   },
   {
    "duration": 18,
    "start_time": "2022-05-30T11:09:07.484Z"
   },
   {
    "duration": 432,
    "start_time": "2022-05-30T11:09:07.526Z"
   },
   {
    "duration": 325,
    "start_time": "2022-05-30T11:09:07.960Z"
   },
   {
    "duration": 7,
    "start_time": "2022-05-30T11:09:08.287Z"
   },
   {
    "duration": 12,
    "start_time": "2022-05-30T11:09:08.295Z"
   },
   {
    "duration": 238,
    "start_time": "2022-05-30T11:09:08.309Z"
   },
   {
    "duration": 13,
    "start_time": "2022-05-30T11:09:08.549Z"
   },
   {
    "duration": 235,
    "start_time": "2022-05-30T11:09:08.564Z"
   },
   {
    "duration": 404,
    "start_time": "2022-05-30T11:09:08.800Z"
   },
   {
    "duration": 5,
    "start_time": "2022-05-30T11:09:09.206Z"
   },
   {
    "duration": 17,
    "start_time": "2022-05-30T11:09:09.212Z"
   },
   {
    "duration": 8,
    "start_time": "2022-05-30T11:09:09.231Z"
   },
   {
    "duration": 145,
    "start_time": "2022-05-30T11:09:09.240Z"
   },
   {
    "duration": 14,
    "start_time": "2022-05-30T11:09:09.386Z"
   },
   {
    "duration": 26,
    "start_time": "2022-05-30T11:09:09.402Z"
   },
   {
    "duration": 22,
    "start_time": "2022-05-30T11:09:09.429Z"
   },
   {
    "duration": 23,
    "start_time": "2022-05-30T11:12:37.754Z"
   },
   {
    "duration": 5,
    "start_time": "2022-05-30T11:12:47.254Z"
   },
   {
    "duration": 109,
    "start_time": "2022-05-30T11:14:26.219Z"
   },
   {
    "duration": 37,
    "start_time": "2022-05-30T11:14:32.239Z"
   },
   {
    "duration": 756,
    "start_time": "2022-05-30T11:14:45.313Z"
   },
   {
    "duration": 641,
    "start_time": "2022-05-30T11:14:55.969Z"
   },
   {
    "duration": 23,
    "start_time": "2022-05-30T11:15:05.382Z"
   },
   {
    "duration": 35,
    "start_time": "2022-05-30T11:15:10.702Z"
   },
   {
    "duration": 22,
    "start_time": "2022-05-30T11:15:24.252Z"
   },
   {
    "duration": 35,
    "start_time": "2022-05-30T11:15:37.611Z"
   },
   {
    "duration": 22,
    "start_time": "2022-05-30T11:15:44.022Z"
   },
   {
    "duration": 35,
    "start_time": "2022-05-30T11:15:57.001Z"
   },
   {
    "duration": 659,
    "start_time": "2022-05-30T11:16:20.377Z"
   },
   {
    "duration": 31,
    "start_time": "2022-05-30T11:16:31.497Z"
   },
   {
    "duration": 33,
    "start_time": "2022-05-30T11:16:39.882Z"
   },
   {
    "duration": 2,
    "start_time": "2022-05-30T11:25:45.685Z"
   },
   {
    "duration": 22,
    "start_time": "2022-05-30T11:26:29.008Z"
   },
   {
    "duration": 7,
    "start_time": "2022-05-30T11:27:24.958Z"
   },
   {
    "duration": 20,
    "start_time": "2022-05-30T11:27:36.455Z"
   },
   {
    "duration": 21,
    "start_time": "2022-05-30T11:27:45.902Z"
   },
   {
    "duration": 7,
    "start_time": "2022-05-30T11:28:04.556Z"
   },
   {
    "duration": 10,
    "start_time": "2022-05-30T11:28:38.756Z"
   },
   {
    "duration": 14,
    "start_time": "2022-05-30T11:28:43.383Z"
   },
   {
    "duration": 15,
    "start_time": "2022-05-30T11:29:02.357Z"
   },
   {
    "duration": 8,
    "start_time": "2022-05-30T11:30:14.672Z"
   },
   {
    "duration": 8,
    "start_time": "2022-05-30T11:30:25.959Z"
   },
   {
    "duration": 10,
    "start_time": "2022-05-30T11:31:43.743Z"
   },
   {
    "duration": 65,
    "start_time": "2022-05-30T11:31:53.577Z"
   },
   {
    "duration": 22,
    "start_time": "2022-05-30T11:31:58.510Z"
   },
   {
    "duration": 58,
    "start_time": "2022-05-30T11:32:02.959Z"
   },
   {
    "duration": 17,
    "start_time": "2022-05-30T11:32:10.654Z"
   },
   {
    "duration": 70,
    "start_time": "2022-05-30T11:33:01.873Z"
   },
   {
    "duration": 44,
    "start_time": "2022-05-30T11:33:28.414Z"
   },
   {
    "duration": 16,
    "start_time": "2022-05-30T12:37:44.823Z"
   },
   {
    "duration": 18,
    "start_time": "2022-05-30T12:37:54.784Z"
   },
   {
    "duration": 22,
    "start_time": "2022-05-30T12:42:31.039Z"
   },
   {
    "duration": 31,
    "start_time": "2022-05-30T12:43:25.394Z"
   },
   {
    "duration": 23,
    "start_time": "2022-05-30T12:43:55.780Z"
   },
   {
    "duration": 4,
    "start_time": "2022-05-30T12:44:07.314Z"
   },
   {
    "duration": 14,
    "start_time": "2022-05-30T12:45:14.365Z"
   },
   {
    "duration": 15,
    "start_time": "2022-05-30T12:46:04.427Z"
   },
   {
    "duration": 14,
    "start_time": "2022-05-30T12:46:12.787Z"
   },
   {
    "duration": 17,
    "start_time": "2022-05-30T12:46:36.389Z"
   },
   {
    "duration": 15,
    "start_time": "2022-05-30T12:46:45.835Z"
   },
   {
    "duration": 23,
    "start_time": "2022-05-30T12:47:04.385Z"
   },
   {
    "duration": 21,
    "start_time": "2022-05-30T12:47:16.364Z"
   },
   {
    "duration": 46,
    "start_time": "2022-05-30T12:47:29.953Z"
   },
   {
    "duration": 23,
    "start_time": "2022-05-30T12:48:29.458Z"
   },
   {
    "duration": 20,
    "start_time": "2022-05-30T12:48:40.701Z"
   },
   {
    "duration": 21,
    "start_time": "2022-05-30T12:48:44.394Z"
   },
   {
    "duration": 32,
    "start_time": "2022-05-30T12:48:49.178Z"
   },
   {
    "duration": 36,
    "start_time": "2022-05-30T12:48:57.681Z"
   },
   {
    "duration": 573,
    "start_time": "2022-05-30T12:49:44.138Z"
   },
   {
    "duration": 514,
    "start_time": "2022-05-30T12:49:57.974Z"
   },
   {
    "duration": 44,
    "start_time": "2022-05-30T12:50:01.696Z"
   },
   {
    "duration": 51,
    "start_time": "2022-05-30T12:56:09.472Z"
   },
   {
    "duration": 44,
    "start_time": "2022-05-30T12:56:19.399Z"
   },
   {
    "duration": 15,
    "start_time": "2022-05-30T13:00:08.008Z"
   },
   {
    "duration": 41,
    "start_time": "2022-05-30T13:00:33.541Z"
   },
   {
    "duration": 38,
    "start_time": "2022-05-30T13:01:57.066Z"
   },
   {
    "duration": 18,
    "start_time": "2022-05-30T13:02:06.955Z"
   },
   {
    "duration": 21,
    "start_time": "2022-05-30T13:05:49.294Z"
   },
   {
    "duration": 24,
    "start_time": "2022-05-30T13:05:54.334Z"
   },
   {
    "duration": 1229,
    "start_time": "2022-05-31T05:21:59.270Z"
   },
   {
    "duration": 106,
    "start_time": "2022-05-31T05:22:00.501Z"
   },
   {
    "duration": 14,
    "start_time": "2022-05-31T05:22:00.609Z"
   },
   {
    "duration": 43,
    "start_time": "2022-05-31T05:22:00.624Z"
   },
   {
    "duration": 34,
    "start_time": "2022-05-31T05:22:00.668Z"
   },
   {
    "duration": 55,
    "start_time": "2022-05-31T05:22:00.703Z"
   },
   {
    "duration": 30,
    "start_time": "2022-05-31T05:22:00.759Z"
   },
   {
    "duration": 21,
    "start_time": "2022-05-31T05:22:00.791Z"
   },
   {
    "duration": 62,
    "start_time": "2022-05-31T05:22:00.814Z"
   },
   {
    "duration": 24,
    "start_time": "2022-05-31T05:22:00.879Z"
   },
   {
    "duration": 98,
    "start_time": "2022-05-31T05:22:00.904Z"
   },
   {
    "duration": 43,
    "start_time": "2022-05-31T05:22:01.003Z"
   },
   {
    "duration": 37,
    "start_time": "2022-05-31T05:22:01.048Z"
   },
   {
    "duration": 21,
    "start_time": "2022-05-31T05:22:01.086Z"
   },
   {
    "duration": 33,
    "start_time": "2022-05-31T05:22:01.109Z"
   },
   {
    "duration": 457,
    "start_time": "2022-05-31T05:22:01.144Z"
   },
   {
    "duration": 357,
    "start_time": "2022-05-31T05:22:01.603Z"
   },
   {
    "duration": 8,
    "start_time": "2022-05-31T05:22:01.962Z"
   },
   {
    "duration": 25,
    "start_time": "2022-05-31T05:22:01.971Z"
   },
   {
    "duration": 273,
    "start_time": "2022-05-31T05:22:01.997Z"
   },
   {
    "duration": 14,
    "start_time": "2022-05-31T05:22:02.273Z"
   },
   {
    "duration": 254,
    "start_time": "2022-05-31T05:22:02.288Z"
   },
   {
    "duration": 408,
    "start_time": "2022-05-31T05:22:02.544Z"
   },
   {
    "duration": 5,
    "start_time": "2022-05-31T05:22:02.954Z"
   },
   {
    "duration": 31,
    "start_time": "2022-05-31T05:22:02.961Z"
   },
   {
    "duration": 27,
    "start_time": "2022-05-31T05:22:02.993Z"
   },
   {
    "duration": 162,
    "start_time": "2022-05-31T05:22:03.022Z"
   },
   {
    "duration": 14,
    "start_time": "2022-05-31T05:22:03.187Z"
   },
   {
    "duration": 28,
    "start_time": "2022-05-31T05:22:03.203Z"
   },
   {
    "duration": 63,
    "start_time": "2022-05-31T05:22:03.236Z"
   },
   {
    "duration": 9,
    "start_time": "2022-05-31T05:22:03.300Z"
   },
   {
    "duration": 0,
    "start_time": "2022-05-31T05:22:03.310Z"
   },
   {
    "duration": 0,
    "start_time": "2022-05-31T05:22:03.311Z"
   },
   {
    "duration": 46,
    "start_time": "2022-05-31T05:22:18.339Z"
   },
   {
    "duration": 109,
    "start_time": "2022-05-31T05:25:52.532Z"
   },
   {
    "duration": 52,
    "start_time": "2022-05-31T05:26:00.840Z"
   },
   {
    "duration": 17,
    "start_time": "2022-05-31T05:26:39.951Z"
   },
   {
    "duration": 40,
    "start_time": "2022-05-31T05:27:35.139Z"
   },
   {
    "duration": 35,
    "start_time": "2022-05-31T05:27:56.560Z"
   },
   {
    "duration": 41,
    "start_time": "2022-05-31T05:29:09.370Z"
   },
   {
    "duration": 38,
    "start_time": "2022-05-31T05:29:51.759Z"
   },
   {
    "duration": 28,
    "start_time": "2022-05-31T05:39:18.670Z"
   },
   {
    "duration": 39,
    "start_time": "2022-05-31T05:41:33.285Z"
   },
   {
    "duration": 24,
    "start_time": "2022-05-31T05:49:06.851Z"
   },
   {
    "duration": 13,
    "start_time": "2022-05-31T05:49:36.155Z"
   },
   {
    "duration": 8,
    "start_time": "2022-05-31T05:49:45.771Z"
   },
   {
    "duration": 10,
    "start_time": "2022-05-31T05:49:55.252Z"
   },
   {
    "duration": 26,
    "start_time": "2022-05-31T05:50:24.564Z"
   },
   {
    "duration": 24,
    "start_time": "2022-05-31T05:53:21.436Z"
   },
   {
    "duration": 22,
    "start_time": "2022-05-31T05:53:47.105Z"
   },
   {
    "duration": 31,
    "start_time": "2022-05-31T05:54:36.122Z"
   },
   {
    "duration": 7,
    "start_time": "2022-05-31T05:54:49.809Z"
   },
   {
    "duration": 12,
    "start_time": "2022-05-31T06:02:01.270Z"
   },
   {
    "duration": 11,
    "start_time": "2022-05-31T06:02:03.544Z"
   },
   {
    "duration": 3,
    "start_time": "2022-05-31T06:02:40.006Z"
   },
   {
    "duration": 12,
    "start_time": "2022-05-31T06:02:47.419Z"
   },
   {
    "duration": 9,
    "start_time": "2022-05-31T06:03:50.848Z"
   },
   {
    "duration": 8,
    "start_time": "2022-05-31T06:04:14.057Z"
   },
   {
    "duration": 26,
    "start_time": "2022-05-31T06:04:20.546Z"
   },
   {
    "duration": 7,
    "start_time": "2022-05-31T06:04:23.458Z"
   },
   {
    "duration": 9,
    "start_time": "2022-05-31T06:04:31.354Z"
   },
   {
    "duration": 9,
    "start_time": "2022-05-31T06:04:38.202Z"
   },
   {
    "duration": 42,
    "start_time": "2022-05-31T06:05:29.540Z"
   },
   {
    "duration": 12,
    "start_time": "2022-05-31T06:05:33.621Z"
   },
   {
    "duration": 62,
    "start_time": "2022-05-31T06:37:04.744Z"
   },
   {
    "duration": 23,
    "start_time": "2022-05-31T06:37:15.523Z"
   },
   {
    "duration": 20,
    "start_time": "2022-05-31T06:37:25.640Z"
   },
   {
    "duration": 38,
    "start_time": "2022-05-31T06:37:49.704Z"
   },
   {
    "duration": 17,
    "start_time": "2022-05-31T06:38:08.582Z"
   },
   {
    "duration": 19,
    "start_time": "2022-05-31T06:38:30.679Z"
   },
   {
    "duration": 40,
    "start_time": "2022-05-31T06:38:38.367Z"
   },
   {
    "duration": 4,
    "start_time": "2022-05-31T06:39:27.086Z"
   },
   {
    "duration": 22,
    "start_time": "2022-05-31T06:39:31.551Z"
   },
   {
    "duration": 38,
    "start_time": "2022-05-31T06:39:47.561Z"
   },
   {
    "duration": 34,
    "start_time": "2022-05-31T06:40:59.772Z"
   },
   {
    "duration": 69,
    "start_time": "2022-05-31T06:44:17.152Z"
   },
   {
    "duration": 65,
    "start_time": "2022-05-31T06:44:35.471Z"
   },
   {
    "duration": 789,
    "start_time": "2022-05-31T06:45:39.903Z"
   },
   {
    "duration": 69,
    "start_time": "2022-05-31T06:45:54.346Z"
   },
   {
    "duration": 70,
    "start_time": "2022-05-31T06:48:47.156Z"
   },
   {
    "duration": 138,
    "start_time": "2022-05-31T06:49:06.529Z"
   },
   {
    "duration": 1404,
    "start_time": "2022-05-31T07:50:43.889Z"
   },
   {
    "duration": 142,
    "start_time": "2022-05-31T07:50:45.295Z"
   },
   {
    "duration": 14,
    "start_time": "2022-05-31T07:50:45.439Z"
   },
   {
    "duration": 28,
    "start_time": "2022-05-31T07:50:45.459Z"
   },
   {
    "duration": 27,
    "start_time": "2022-05-31T07:50:45.489Z"
   },
   {
    "duration": 22,
    "start_time": "2022-05-31T07:50:45.518Z"
   },
   {
    "duration": 28,
    "start_time": "2022-05-31T07:50:45.542Z"
   },
   {
    "duration": 44,
    "start_time": "2022-05-31T07:50:45.572Z"
   },
   {
    "duration": 30,
    "start_time": "2022-05-31T07:50:45.618Z"
   },
   {
    "duration": 15,
    "start_time": "2022-05-31T07:50:45.649Z"
   },
   {
    "duration": 140,
    "start_time": "2022-05-31T07:50:45.665Z"
   },
   {
    "duration": 29,
    "start_time": "2022-05-31T07:50:45.806Z"
   },
   {
    "duration": 48,
    "start_time": "2022-05-31T07:50:45.837Z"
   },
   {
    "duration": 15,
    "start_time": "2022-05-31T07:50:45.889Z"
   },
   {
    "duration": 19,
    "start_time": "2022-05-31T07:50:45.908Z"
   },
   {
    "duration": 561,
    "start_time": "2022-05-31T07:50:45.929Z"
   },
   {
    "duration": 442,
    "start_time": "2022-05-31T07:50:46.492Z"
   },
   {
    "duration": 8,
    "start_time": "2022-05-31T07:50:46.935Z"
   },
   {
    "duration": 62,
    "start_time": "2022-05-31T07:50:46.945Z"
   },
   {
    "duration": 296,
    "start_time": "2022-05-31T07:50:47.010Z"
   },
   {
    "duration": 16,
    "start_time": "2022-05-31T07:50:47.308Z"
   },
   {
    "duration": 322,
    "start_time": "2022-05-31T07:50:47.326Z"
   },
   {
    "duration": 462,
    "start_time": "2022-05-31T07:50:47.650Z"
   },
   {
    "duration": 6,
    "start_time": "2022-05-31T07:50:48.114Z"
   },
   {
    "duration": 12,
    "start_time": "2022-05-31T07:50:48.122Z"
   },
   {
    "duration": 8,
    "start_time": "2022-05-31T07:50:48.136Z"
   },
   {
    "duration": 192,
    "start_time": "2022-05-31T07:50:48.145Z"
   },
   {
    "duration": 32,
    "start_time": "2022-05-31T07:50:48.339Z"
   },
   {
    "duration": 33,
    "start_time": "2022-05-31T07:50:48.376Z"
   },
   {
    "duration": 36,
    "start_time": "2022-05-31T07:50:48.412Z"
   },
   {
    "duration": 118,
    "start_time": "2022-05-31T07:50:48.450Z"
   },
   {
    "duration": 54,
    "start_time": "2022-05-31T07:50:48.575Z"
   },
   {
    "duration": 75,
    "start_time": "2022-05-31T07:50:48.630Z"
   },
   {
    "duration": 9,
    "start_time": "2022-05-31T07:50:48.706Z"
   },
   {
    "duration": 13,
    "start_time": "2022-05-31T07:50:48.717Z"
   },
   {
    "duration": 469,
    "start_time": "2022-05-31T08:07:40.768Z"
   },
   {
    "duration": 458,
    "start_time": "2022-05-31T08:08:17.791Z"
   },
   {
    "duration": 410,
    "start_time": "2022-05-31T08:08:29.227Z"
   },
   {
    "duration": 239,
    "start_time": "2022-05-31T08:10:38.470Z"
   },
   {
    "duration": 233,
    "start_time": "2022-05-31T08:10:42.419Z"
   },
   {
    "duration": 389,
    "start_time": "2022-05-31T08:10:46.699Z"
   },
   {
    "duration": 377,
    "start_time": "2022-05-31T08:14:14.429Z"
   },
   {
    "duration": 379,
    "start_time": "2022-05-31T08:14:34.990Z"
   },
   {
    "duration": 390,
    "start_time": "2022-05-31T08:14:55.277Z"
   },
   {
    "duration": 122,
    "start_time": "2022-05-31T08:31:30.706Z"
   },
   {
    "duration": 18,
    "start_time": "2022-05-31T08:31:31.010Z"
   },
   {
    "duration": 342,
    "start_time": "2022-05-31T08:31:44.283Z"
   },
   {
    "duration": 13,
    "start_time": "2022-05-31T08:37:48.829Z"
   },
   {
    "duration": 55,
    "start_time": "2022-05-31T17:50:23.341Z"
   },
   {
    "duration": 1457,
    "start_time": "2022-05-31T17:50:28.149Z"
   },
   {
    "duration": 97,
    "start_time": "2022-05-31T17:50:29.608Z"
   },
   {
    "duration": 16,
    "start_time": "2022-05-31T17:50:29.706Z"
   },
   {
    "duration": 17,
    "start_time": "2022-05-31T17:50:31.720Z"
   },
   {
    "duration": 15,
    "start_time": "2022-05-31T17:50:33.318Z"
   },
   {
    "duration": 72,
    "start_time": "2022-05-31T17:50:44.012Z"
   },
   {
    "duration": 10,
    "start_time": "2022-05-31T17:50:52.078Z"
   },
   {
    "duration": 9,
    "start_time": "2022-05-31T17:50:58.026Z"
   },
   {
    "duration": 10,
    "start_time": "2022-05-31T17:50:58.338Z"
   },
   {
    "duration": 10,
    "start_time": "2022-05-31T17:50:58.537Z"
   },
   {
    "duration": 10,
    "start_time": "2022-05-31T17:50:58.727Z"
   },
   {
    "duration": 9,
    "start_time": "2022-05-31T17:50:58.902Z"
   },
   {
    "duration": 9,
    "start_time": "2022-05-31T17:51:02.598Z"
   },
   {
    "duration": 12,
    "start_time": "2022-05-31T17:51:05.175Z"
   },
   {
    "duration": 9,
    "start_time": "2022-05-31T17:51:08.302Z"
   },
   {
    "duration": 3,
    "start_time": "2022-05-31T17:51:12.980Z"
   },
   {
    "duration": 51,
    "start_time": "2022-05-31T17:51:13.566Z"
   },
   {
    "duration": 18,
    "start_time": "2022-05-31T17:51:14.159Z"
   },
   {
    "duration": 17,
    "start_time": "2022-05-31T17:51:16.138Z"
   },
   {
    "duration": 4,
    "start_time": "2022-05-31T17:51:29.542Z"
   },
   {
    "duration": 17,
    "start_time": "2022-05-31T17:51:35.272Z"
   },
   {
    "duration": 15,
    "start_time": "2022-05-31T17:51:42.647Z"
   },
   {
    "duration": 17,
    "start_time": "2022-05-31T17:53:01.737Z"
   },
   {
    "duration": 15,
    "start_time": "2022-05-31T17:53:22.197Z"
   },
   {
    "duration": 20,
    "start_time": "2022-05-31T17:53:29.206Z"
   },
   {
    "duration": 24,
    "start_time": "2022-05-31T17:54:53.824Z"
   },
   {
    "duration": 35,
    "start_time": "2022-05-31T17:55:04.739Z"
   },
   {
    "duration": 19,
    "start_time": "2022-05-31T17:55:08.421Z"
   },
   {
    "duration": 20,
    "start_time": "2022-05-31T17:55:20.730Z"
   },
   {
    "duration": 22,
    "start_time": "2022-05-31T17:55:31.874Z"
   },
   {
    "duration": 21,
    "start_time": "2022-05-31T18:06:35.631Z"
   },
   {
    "duration": 28,
    "start_time": "2022-05-31T18:06:46.734Z"
   },
   {
    "duration": 25,
    "start_time": "2022-05-31T18:07:22.723Z"
   },
   {
    "duration": 57,
    "start_time": "2022-05-31T18:08:20.969Z"
   },
   {
    "duration": 27,
    "start_time": "2022-05-31T18:09:49.879Z"
   },
   {
    "duration": 26,
    "start_time": "2022-05-31T18:10:34.509Z"
   },
   {
    "duration": 39,
    "start_time": "2022-05-31T18:10:45.024Z"
   },
   {
    "duration": 20,
    "start_time": "2022-05-31T18:11:02.700Z"
   },
   {
    "duration": 23,
    "start_time": "2022-05-31T18:11:25.891Z"
   },
   {
    "duration": 51,
    "start_time": "2022-06-01T02:56:54.660Z"
   },
   {
    "duration": 1249,
    "start_time": "2022-06-01T02:57:02.779Z"
   },
   {
    "duration": 91,
    "start_time": "2022-06-01T02:57:04.029Z"
   },
   {
    "duration": 17,
    "start_time": "2022-06-01T02:57:05.159Z"
   },
   {
    "duration": 19,
    "start_time": "2022-06-01T02:57:10.235Z"
   },
   {
    "duration": 19,
    "start_time": "2022-06-01T02:57:18.288Z"
   },
   {
    "duration": 382,
    "start_time": "2022-06-01T02:57:39.363Z"
   },
   {
    "duration": 10,
    "start_time": "2022-06-01T02:57:46.510Z"
   },
   {
    "duration": 10,
    "start_time": "2022-06-01T02:57:52.010Z"
   },
   {
    "duration": 17,
    "start_time": "2022-06-01T02:58:08.386Z"
   },
   {
    "duration": 148,
    "start_time": "2022-06-01T03:01:05.619Z"
   },
   {
    "duration": 33,
    "start_time": "2022-06-01T03:01:25.221Z"
   },
   {
    "duration": 14,
    "start_time": "2022-06-01T03:01:35.914Z"
   },
   {
    "duration": 19,
    "start_time": "2022-06-01T03:01:37.087Z"
   },
   {
    "duration": 18,
    "start_time": "2022-06-01T03:01:37.691Z"
   },
   {
    "duration": 17,
    "start_time": "2022-06-01T03:01:40.118Z"
   },
   {
    "duration": 8,
    "start_time": "2022-06-01T03:01:42.042Z"
   },
   {
    "duration": 14,
    "start_time": "2022-06-01T03:01:43.020Z"
   },
   {
    "duration": 7,
    "start_time": "2022-06-01T03:01:44.549Z"
   },
   {
    "duration": 81,
    "start_time": "2022-06-01T03:01:45.231Z"
   },
   {
    "duration": 23,
    "start_time": "2022-06-01T03:01:46.282Z"
   },
   {
    "duration": 20,
    "start_time": "2022-06-01T03:01:48.255Z"
   },
   {
    "duration": 3,
    "start_time": "2022-06-01T03:01:49.466Z"
   },
   {
    "duration": 14,
    "start_time": "2022-06-01T03:01:50.096Z"
   },
   {
    "duration": 294,
    "start_time": "2022-06-01T03:01:54.740Z"
   },
   {
    "duration": 291,
    "start_time": "2022-06-01T03:02:05.576Z"
   },
   {
    "duration": 222,
    "start_time": "2022-06-01T03:05:17.840Z"
   },
   {
    "duration": 208,
    "start_time": "2022-06-01T03:05:24.027Z"
   },
   {
    "duration": 306,
    "start_time": "2022-06-01T03:05:39.825Z"
   },
   {
    "duration": 293,
    "start_time": "2022-06-01T03:06:13.296Z"
   },
   {
    "duration": 212,
    "start_time": "2022-06-01T03:06:17.271Z"
   },
   {
    "duration": 10,
    "start_time": "2022-06-01T03:08:01.139Z"
   },
   {
    "duration": 211,
    "start_time": "2022-06-01T03:08:13.223Z"
   },
   {
    "duration": 164,
    "start_time": "2022-06-01T03:10:59.077Z"
   },
   {
    "duration": 238,
    "start_time": "2022-06-01T03:11:04.244Z"
   },
   {
    "duration": 206,
    "start_time": "2022-06-01T03:11:08.024Z"
   },
   {
    "duration": 298,
    "start_time": "2022-06-01T03:11:12.830Z"
   },
   {
    "duration": 333,
    "start_time": "2022-06-01T03:14:15.230Z"
   },
   {
    "duration": 408,
    "start_time": "2022-06-01T03:14:51.487Z"
   },
   {
    "duration": 299,
    "start_time": "2022-06-01T03:14:56.511Z"
   },
   {
    "duration": 306,
    "start_time": "2022-06-01T03:15:06.926Z"
   },
   {
    "duration": 230,
    "start_time": "2022-06-01T03:15:18.160Z"
   },
   {
    "duration": 411,
    "start_time": "2022-06-01T03:15:24.248Z"
   },
   {
    "duration": 318,
    "start_time": "2022-06-01T03:16:40.267Z"
   },
   {
    "duration": 325,
    "start_time": "2022-06-01T03:17:01.659Z"
   },
   {
    "duration": 435,
    "start_time": "2022-06-01T03:17:48.035Z"
   },
   {
    "duration": 9,
    "start_time": "2022-06-01T03:18:40.383Z"
   },
   {
    "duration": 21,
    "start_time": "2022-06-01T03:19:11.689Z"
   },
   {
    "duration": 5,
    "start_time": "2022-06-01T03:24:32.598Z"
   },
   {
    "duration": 13,
    "start_time": "2022-06-01T03:24:37.479Z"
   },
   {
    "duration": 23,
    "start_time": "2022-06-01T03:24:46.504Z"
   },
   {
    "duration": 9,
    "start_time": "2022-06-01T03:30:41.854Z"
   },
   {
    "duration": 21,
    "start_time": "2022-06-01T03:31:14.929Z"
   },
   {
    "duration": 8,
    "start_time": "2022-06-01T03:32:30.921Z"
   },
   {
    "duration": 283,
    "start_time": "2022-06-01T03:33:19.974Z"
   },
   {
    "duration": 297,
    "start_time": "2022-06-01T03:33:26.503Z"
   },
   {
    "duration": 273,
    "start_time": "2022-06-01T03:33:36.542Z"
   },
   {
    "duration": 10,
    "start_time": "2022-06-01T03:35:29.330Z"
   },
   {
    "duration": 8,
    "start_time": "2022-06-01T03:36:18.889Z"
   },
   {
    "duration": 10,
    "start_time": "2022-06-01T03:36:59.967Z"
   },
   {
    "duration": 8,
    "start_time": "2022-06-01T03:37:39.715Z"
   },
   {
    "duration": 20,
    "start_time": "2022-06-01T03:38:10.819Z"
   },
   {
    "duration": 28,
    "start_time": "2022-06-01T03:39:32.796Z"
   },
   {
    "duration": 209,
    "start_time": "2022-06-01T03:39:37.946Z"
   },
   {
    "duration": 168,
    "start_time": "2022-06-01T03:39:39.809Z"
   },
   {
    "duration": 159,
    "start_time": "2022-06-01T03:40:58.011Z"
   },
   {
    "duration": 182,
    "start_time": "2022-06-01T03:41:12.889Z"
   },
   {
    "duration": 179,
    "start_time": "2022-06-01T03:42:12.146Z"
   },
   {
    "duration": 231,
    "start_time": "2022-06-01T03:42:33.660Z"
   },
   {
    "duration": 190,
    "start_time": "2022-06-01T03:42:42.496Z"
   },
   {
    "duration": 26,
    "start_time": "2022-06-01T03:43:22.190Z"
   },
   {
    "duration": 198,
    "start_time": "2022-06-01T03:43:30.276Z"
   },
   {
    "duration": 206,
    "start_time": "2022-06-01T03:43:35.043Z"
   },
   {
    "duration": 293,
    "start_time": "2022-06-01T03:43:48.483Z"
   },
   {
    "duration": 448,
    "start_time": "2022-06-01T03:43:56.212Z"
   },
   {
    "duration": 1505,
    "start_time": "2022-06-01T06:49:47.719Z"
   },
   {
    "duration": 100,
    "start_time": "2022-06-01T06:49:49.226Z"
   },
   {
    "duration": 24,
    "start_time": "2022-06-01T06:49:49.329Z"
   },
   {
    "duration": 29,
    "start_time": "2022-06-01T06:49:49.356Z"
   },
   {
    "duration": 48,
    "start_time": "2022-06-01T06:49:49.387Z"
   },
   {
    "duration": 22,
    "start_time": "2022-06-01T06:49:49.437Z"
   },
   {
    "duration": 27,
    "start_time": "2022-06-01T06:49:49.461Z"
   },
   {
    "duration": 47,
    "start_time": "2022-06-01T06:49:49.490Z"
   },
   {
    "duration": 23,
    "start_time": "2022-06-01T06:49:49.539Z"
   },
   {
    "duration": 10,
    "start_time": "2022-06-01T06:49:49.566Z"
   },
   {
    "duration": 162,
    "start_time": "2022-06-01T06:49:49.578Z"
   },
   {
    "duration": 40,
    "start_time": "2022-06-01T06:49:49.743Z"
   },
   {
    "duration": 57,
    "start_time": "2022-06-01T06:49:49.785Z"
   },
   {
    "duration": 30,
    "start_time": "2022-06-01T06:49:49.845Z"
   },
   {
    "duration": 8,
    "start_time": "2022-06-01T06:49:49.877Z"
   },
   {
    "duration": 11,
    "start_time": "2022-06-01T06:49:49.886Z"
   },
   {
    "duration": 45,
    "start_time": "2022-06-01T06:49:49.899Z"
   },
   {
    "duration": 510,
    "start_time": "2022-06-01T06:49:49.946Z"
   },
   {
    "duration": 356,
    "start_time": "2022-06-01T06:49:50.458Z"
   },
   {
    "duration": 41,
    "start_time": "2022-06-01T06:49:50.817Z"
   },
   {
    "duration": 11,
    "start_time": "2022-06-01T06:49:50.860Z"
   },
   {
    "duration": 13,
    "start_time": "2022-06-01T06:49:50.873Z"
   },
   {
    "duration": 196,
    "start_time": "2022-06-01T06:49:50.888Z"
   },
   {
    "duration": 0,
    "start_time": "2022-06-01T06:49:51.088Z"
   },
   {
    "duration": 0,
    "start_time": "2022-06-01T06:49:51.090Z"
   },
   {
    "duration": 0,
    "start_time": "2022-06-01T06:49:51.091Z"
   },
   {
    "duration": 0,
    "start_time": "2022-06-01T06:49:51.093Z"
   },
   {
    "duration": 0,
    "start_time": "2022-06-01T06:49:51.095Z"
   },
   {
    "duration": 0,
    "start_time": "2022-06-01T06:49:51.096Z"
   },
   {
    "duration": 0,
    "start_time": "2022-06-01T06:49:51.098Z"
   },
   {
    "duration": 0,
    "start_time": "2022-06-01T06:49:51.099Z"
   },
   {
    "duration": 0,
    "start_time": "2022-06-01T06:49:51.100Z"
   },
   {
    "duration": 0,
    "start_time": "2022-06-01T06:49:51.126Z"
   },
   {
    "duration": 0,
    "start_time": "2022-06-01T06:49:51.128Z"
   },
   {
    "duration": 0,
    "start_time": "2022-06-01T06:49:51.129Z"
   },
   {
    "duration": 0,
    "start_time": "2022-06-01T06:49:51.130Z"
   },
   {
    "duration": 0,
    "start_time": "2022-06-01T06:49:51.131Z"
   },
   {
    "duration": 0,
    "start_time": "2022-06-01T06:49:51.132Z"
   },
   {
    "duration": 16,
    "start_time": "2022-06-01T06:51:28.420Z"
   },
   {
    "duration": 306,
    "start_time": "2022-06-01T06:52:54.645Z"
   },
   {
    "duration": 316,
    "start_time": "2022-06-01T06:53:04.333Z"
   },
   {
    "duration": 235,
    "start_time": "2022-06-01T06:53:22.440Z"
   },
   {
    "duration": 548,
    "start_time": "2022-06-01T06:53:40.208Z"
   },
   {
    "duration": 517,
    "start_time": "2022-06-01T06:54:46.512Z"
   },
   {
    "duration": 19,
    "start_time": "2022-06-01T06:54:50.174Z"
   },
   {
    "duration": 12,
    "start_time": "2022-06-01T06:59:01.364Z"
   },
   {
    "duration": 380,
    "start_time": "2022-06-01T07:03:19.971Z"
   },
   {
    "duration": 505,
    "start_time": "2022-06-01T07:03:38.221Z"
   },
   {
    "duration": 377,
    "start_time": "2022-06-01T07:03:49.454Z"
   },
   {
    "duration": 616,
    "start_time": "2022-06-01T07:04:09.982Z"
   },
   {
    "duration": 347,
    "start_time": "2022-06-01T07:04:16.996Z"
   },
   {
    "duration": 572,
    "start_time": "2022-06-01T07:04:34.141Z"
   },
   {
    "duration": 395,
    "start_time": "2022-06-01T07:05:15.885Z"
   },
   {
    "duration": 573,
    "start_time": "2022-06-01T07:06:13.533Z"
   },
   {
    "duration": 432,
    "start_time": "2022-06-01T07:06:18.602Z"
   },
   {
    "duration": 526,
    "start_time": "2022-06-01T07:09:13.981Z"
   },
   {
    "duration": 674,
    "start_time": "2022-06-01T07:09:21.095Z"
   },
   {
    "duration": 497,
    "start_time": "2022-06-01T07:09:28.394Z"
   },
   {
    "duration": 433,
    "start_time": "2022-06-01T07:10:23.858Z"
   },
   {
    "duration": 601,
    "start_time": "2022-06-01T07:11:02.673Z"
   },
   {
    "duration": 403,
    "start_time": "2022-06-01T07:11:07.720Z"
   },
   {
    "duration": 658,
    "start_time": "2022-06-01T07:11:21.743Z"
   },
   {
    "duration": 457,
    "start_time": "2022-06-01T07:11:46.405Z"
   },
   {
    "duration": 580,
    "start_time": "2022-06-01T07:12:27.147Z"
   },
   {
    "duration": 478,
    "start_time": "2022-06-01T07:12:33.528Z"
   },
   {
    "duration": 882,
    "start_time": "2022-06-01T07:12:57.171Z"
   },
   {
    "duration": 576,
    "start_time": "2022-06-01T07:13:01.924Z"
   },
   {
    "duration": 1209,
    "start_time": "2022-06-01T07:30:47.493Z"
   },
   {
    "duration": 67,
    "start_time": "2022-06-01T07:30:48.704Z"
   },
   {
    "duration": 24,
    "start_time": "2022-06-01T07:30:48.773Z"
   },
   {
    "duration": 21,
    "start_time": "2022-06-01T07:30:48.799Z"
   },
   {
    "duration": 33,
    "start_time": "2022-06-01T07:30:48.825Z"
   },
   {
    "duration": 35,
    "start_time": "2022-06-01T07:30:48.860Z"
   },
   {
    "duration": 49,
    "start_time": "2022-06-01T07:30:48.898Z"
   },
   {
    "duration": 18,
    "start_time": "2022-06-01T07:30:48.950Z"
   },
   {
    "duration": 19,
    "start_time": "2022-06-01T07:30:48.970Z"
   },
   {
    "duration": 42,
    "start_time": "2022-06-01T07:30:48.992Z"
   },
   {
    "duration": 113,
    "start_time": "2022-06-01T07:30:49.037Z"
   },
   {
    "duration": 37,
    "start_time": "2022-06-01T07:30:49.152Z"
   },
   {
    "duration": 57,
    "start_time": "2022-06-01T07:30:49.191Z"
   },
   {
    "duration": 26,
    "start_time": "2022-06-01T07:30:49.249Z"
   },
   {
    "duration": 8,
    "start_time": "2022-06-01T07:30:49.277Z"
   },
   {
    "duration": 9,
    "start_time": "2022-06-01T07:30:49.286Z"
   },
   {
    "duration": 48,
    "start_time": "2022-06-01T07:30:49.297Z"
   },
   {
    "duration": 556,
    "start_time": "2022-06-01T07:30:49.347Z"
   },
   {
    "duration": 382,
    "start_time": "2022-06-01T07:30:49.904Z"
   },
   {
    "duration": 55,
    "start_time": "2022-06-01T07:30:50.288Z"
   },
   {
    "duration": 11,
    "start_time": "2022-06-01T07:30:50.346Z"
   },
   {
    "duration": 22,
    "start_time": "2022-06-01T07:30:50.359Z"
   },
   {
    "duration": 269,
    "start_time": "2022-06-01T07:30:50.383Z"
   },
   {
    "duration": 19,
    "start_time": "2022-06-01T07:30:50.654Z"
   },
   {
    "duration": 313,
    "start_time": "2022-06-01T07:30:50.675Z"
   },
   {
    "duration": 422,
    "start_time": "2022-06-01T07:30:50.990Z"
   },
   {
    "duration": 22,
    "start_time": "2022-06-01T07:30:51.414Z"
   },
   {
    "duration": 23,
    "start_time": "2022-06-01T07:30:51.445Z"
   },
   {
    "duration": 11,
    "start_time": "2022-06-01T07:30:51.470Z"
   },
   {
    "duration": 176,
    "start_time": "2022-06-01T07:30:51.483Z"
   },
   {
    "duration": 25,
    "start_time": "2022-06-01T07:30:51.661Z"
   },
   {
    "duration": 31,
    "start_time": "2022-06-01T07:30:51.688Z"
   },
   {
    "duration": 56,
    "start_time": "2022-06-01T07:30:51.726Z"
   },
   {
    "duration": 91,
    "start_time": "2022-06-01T07:30:51.784Z"
   },
   {
    "duration": 86,
    "start_time": "2022-06-01T07:30:51.877Z"
   },
   {
    "duration": 81,
    "start_time": "2022-06-01T07:30:51.965Z"
   },
   {
    "duration": 11,
    "start_time": "2022-06-01T07:30:52.050Z"
   },
   {
    "duration": 21,
    "start_time": "2022-06-01T07:30:52.063Z"
   },
   {
    "duration": 223,
    "start_time": "2022-06-01T07:31:07.008Z"
   },
   {
    "duration": 5,
    "start_time": "2022-06-01T07:31:16.646Z"
   },
   {
    "duration": 246,
    "start_time": "2022-06-01T07:31:39.745Z"
   },
   {
    "duration": 543,
    "start_time": "2022-06-01T07:32:30.549Z"
   },
   {
    "duration": 769,
    "start_time": "2022-06-01T07:34:38.957Z"
   },
   {
    "duration": 477,
    "start_time": "2022-06-01T07:34:48.957Z"
   },
   {
    "duration": 705,
    "start_time": "2022-06-01T07:37:01.445Z"
   },
   {
    "duration": 487,
    "start_time": "2022-06-01T07:37:33.678Z"
   },
   {
    "duration": 421,
    "start_time": "2022-06-01T07:38:13.688Z"
   },
   {
    "duration": 444,
    "start_time": "2022-06-01T07:38:56.744Z"
   },
   {
    "duration": 753,
    "start_time": "2022-06-01T07:40:02.661Z"
   },
   {
    "duration": 595,
    "start_time": "2022-06-01T07:40:12.812Z"
   },
   {
    "duration": 607,
    "start_time": "2022-06-01T07:41:10.205Z"
   },
   {
    "duration": 449,
    "start_time": "2022-06-01T07:41:35.073Z"
   },
   {
    "duration": 979,
    "start_time": "2022-06-01T07:41:47.019Z"
   },
   {
    "duration": 777,
    "start_time": "2022-06-01T07:42:09.802Z"
   },
   {
    "duration": 25,
    "start_time": "2022-06-01T07:42:21.817Z"
   },
   {
    "duration": 563,
    "start_time": "2022-06-01T07:42:26.723Z"
   },
   {
    "duration": 932,
    "start_time": "2022-06-01T07:42:38.381Z"
   },
   {
    "duration": 30,
    "start_time": "2022-06-01T07:46:28.817Z"
   },
   {
    "duration": 8,
    "start_time": "2022-06-01T07:46:41.291Z"
   },
   {
    "duration": 25,
    "start_time": "2022-06-01T07:46:56.853Z"
   },
   {
    "duration": 11,
    "start_time": "2022-06-01T07:47:20.257Z"
   },
   {
    "duration": 11,
    "start_time": "2022-06-01T07:47:28.910Z"
   },
   {
    "duration": 584,
    "start_time": "2022-06-01T07:48:10.221Z"
   },
   {
    "duration": 11,
    "start_time": "2022-06-01T07:48:20.985Z"
   },
   {
    "duration": 466,
    "start_time": "2022-06-01T07:48:42.947Z"
   },
   {
    "duration": 32,
    "start_time": "2022-06-01T07:48:56.526Z"
   },
   {
    "duration": 39,
    "start_time": "2022-06-01T07:49:16.745Z"
   },
   {
    "duration": 14,
    "start_time": "2022-06-01T07:49:25.124Z"
   },
   {
    "duration": 33,
    "start_time": "2022-06-01T07:49:28.445Z"
   },
   {
    "duration": 11,
    "start_time": "2022-06-01T07:49:41.641Z"
   },
   {
    "duration": 15,
    "start_time": "2022-06-01T07:49:46.469Z"
   },
   {
    "duration": 13,
    "start_time": "2022-06-01T07:49:47.897Z"
   },
   {
    "duration": 12,
    "start_time": "2022-06-01T07:49:48.453Z"
   },
   {
    "duration": 18,
    "start_time": "2022-06-01T07:49:48.649Z"
   },
   {
    "duration": 15,
    "start_time": "2022-06-01T07:49:48.840Z"
   },
   {
    "duration": 13,
    "start_time": "2022-06-01T07:49:51.763Z"
   },
   {
    "duration": 19,
    "start_time": "2022-06-01T07:49:52.326Z"
   },
   {
    "duration": 13,
    "start_time": "2022-06-01T07:49:52.581Z"
   },
   {
    "duration": 18,
    "start_time": "2022-06-01T07:49:53.021Z"
   },
   {
    "duration": 14,
    "start_time": "2022-06-01T07:49:53.397Z"
   },
   {
    "duration": 13,
    "start_time": "2022-06-01T07:49:53.878Z"
   },
   {
    "duration": 11,
    "start_time": "2022-06-01T07:49:54.353Z"
   },
   {
    "duration": 18,
    "start_time": "2022-06-01T07:49:54.786Z"
   },
   {
    "duration": 13,
    "start_time": "2022-06-01T07:49:55.153Z"
   },
   {
    "duration": 12,
    "start_time": "2022-06-01T07:49:55.555Z"
   },
   {
    "duration": 12,
    "start_time": "2022-06-01T07:49:55.908Z"
   },
   {
    "duration": 10,
    "start_time": "2022-06-01T07:49:56.261Z"
   },
   {
    "duration": 16,
    "start_time": "2022-06-01T07:49:56.624Z"
   },
   {
    "duration": 17,
    "start_time": "2022-06-01T07:49:57.225Z"
   },
   {
    "duration": 10,
    "start_time": "2022-06-01T07:49:58.584Z"
   },
   {
    "duration": 21,
    "start_time": "2022-06-01T07:50:15.546Z"
   },
   {
    "duration": 11,
    "start_time": "2022-06-01T07:50:20.544Z"
   },
   {
    "duration": 19,
    "start_time": "2022-06-01T07:50:41.867Z"
   },
   {
    "duration": 38,
    "start_time": "2022-06-01T07:50:48.527Z"
   },
   {
    "duration": 10,
    "start_time": "2022-06-01T07:51:00.749Z"
   },
   {
    "duration": 10,
    "start_time": "2022-06-01T07:51:42.486Z"
   },
   {
    "duration": 45,
    "start_time": "2022-06-01T07:55:21.203Z"
   },
   {
    "duration": 13,
    "start_time": "2022-06-01T07:55:30.760Z"
   },
   {
    "duration": 12,
    "start_time": "2022-06-01T07:55:40.786Z"
   },
   {
    "duration": 15,
    "start_time": "2022-06-01T07:56:17.768Z"
   },
   {
    "duration": 34,
    "start_time": "2022-06-01T07:56:24.890Z"
   },
   {
    "duration": 24,
    "start_time": "2022-06-01T07:56:44.989Z"
   },
   {
    "duration": 44,
    "start_time": "2022-06-01T07:59:52.405Z"
   },
   {
    "duration": 1500,
    "start_time": "2022-06-09T07:30:45.009Z"
   },
   {
    "duration": 228,
    "start_time": "2022-06-09T07:30:48.248Z"
   },
   {
    "duration": 17,
    "start_time": "2022-06-09T07:30:50.466Z"
   },
   {
    "duration": 43,
    "start_time": "2022-06-09T07:30:54.275Z"
   },
   {
    "duration": 45,
    "start_time": "2022-06-09T07:30:56.493Z"
   },
   {
    "duration": 31,
    "start_time": "2022-06-09T07:31:01.561Z"
   },
   {
    "duration": 29,
    "start_time": "2022-06-09T07:31:04.980Z"
   },
   {
    "duration": 16,
    "start_time": "2022-06-09T07:31:08.857Z"
   },
   {
    "duration": 19,
    "start_time": "2022-06-09T07:31:12.172Z"
   },
   {
    "duration": 10,
    "start_time": "2022-06-09T07:31:13.886Z"
   },
   {
    "duration": 143,
    "start_time": "2022-06-09T07:31:16.419Z"
   },
   {
    "duration": 37,
    "start_time": "2022-06-09T07:31:19.574Z"
   },
   {
    "duration": 34,
    "start_time": "2022-06-09T07:31:22.169Z"
   },
   {
    "duration": 32,
    "start_time": "2022-06-09T07:31:24.182Z"
   },
   {
    "duration": 17,
    "start_time": "2022-06-09T07:31:26.166Z"
   },
   {
    "duration": 14,
    "start_time": "2022-06-09T07:31:48.981Z"
   },
   {
    "duration": 10,
    "start_time": "2022-06-09T07:32:33.206Z"
   },
   {
    "duration": 41,
    "start_time": "2022-06-09T07:35:00.344Z"
   },
   {
    "duration": 37,
    "start_time": "2022-06-09T07:35:05.615Z"
   },
   {
    "duration": 11,
    "start_time": "2022-06-09T07:35:26.418Z"
   },
   {
    "duration": 6,
    "start_time": "2022-06-09T07:35:33.117Z"
   },
   {
    "duration": 31,
    "start_time": "2022-06-09T07:35:34.485Z"
   },
   {
    "duration": 785,
    "start_time": "2022-06-09T07:35:36.890Z"
   },
   {
    "duration": 151,
    "start_time": "2022-06-09T07:38:13.050Z"
   },
   {
    "duration": 28,
    "start_time": "2022-06-09T07:38:24.418Z"
   },
   {
    "duration": 16,
    "start_time": "2022-06-09T07:39:22.965Z"
   },
   {
    "duration": 15,
    "start_time": "2022-06-09T07:40:05.221Z"
   },
   {
    "duration": 36,
    "start_time": "2022-06-09T07:40:16.452Z"
   },
   {
    "duration": 10,
    "start_time": "2022-06-09T07:40:33.070Z"
   },
   {
    "duration": 33,
    "start_time": "2022-06-09T07:42:23.056Z"
   },
   {
    "duration": 21,
    "start_time": "2022-06-09T07:42:26.950Z"
   },
   {
    "duration": 4,
    "start_time": "2022-06-09T07:43:21.248Z"
   },
   {
    "duration": 14,
    "start_time": "2022-06-09T07:43:22.197Z"
   },
   {
    "duration": 441,
    "start_time": "2022-06-09T07:43:24.346Z"
   },
   {
    "duration": 551,
    "start_time": "2022-06-09T07:44:01.670Z"
   },
   {
    "duration": 451,
    "start_time": "2022-06-09T07:44:11.114Z"
   },
   {
    "duration": 513,
    "start_time": "2022-06-09T07:44:48.744Z"
   },
   {
    "duration": 35,
    "start_time": "2022-06-09T07:45:04.176Z"
   },
   {
    "duration": 324,
    "start_time": "2022-06-09T07:45:17.925Z"
   },
   {
    "duration": 357,
    "start_time": "2022-06-09T07:45:56.147Z"
   },
   {
    "duration": 440,
    "start_time": "2022-06-09T07:46:06.894Z"
   },
   {
    "duration": 307,
    "start_time": "2022-06-09T07:46:49.951Z"
   },
   {
    "duration": 387,
    "start_time": "2022-06-09T07:47:08.644Z"
   },
   {
    "duration": 341,
    "start_time": "2022-06-09T07:47:20.992Z"
   },
   {
    "duration": 322,
    "start_time": "2022-06-09T07:47:35.047Z"
   },
   {
    "duration": 387,
    "start_time": "2022-06-09T07:47:46.481Z"
   },
   {
    "duration": 484,
    "start_time": "2022-06-09T07:52:13.126Z"
   },
   {
    "duration": 342,
    "start_time": "2022-06-09T07:52:16.974Z"
   },
   {
    "duration": 589,
    "start_time": "2022-06-09T07:52:33.364Z"
   },
   {
    "duration": 362,
    "start_time": "2022-06-09T07:52:38.956Z"
   },
   {
    "duration": 363,
    "start_time": "2022-06-09T07:52:54.152Z"
   },
   {
    "duration": 493,
    "start_time": "2022-06-09T07:53:06.541Z"
   },
   {
    "duration": 17,
    "start_time": "2022-06-09T07:53:20.983Z"
   },
   {
    "duration": 12,
    "start_time": "2022-06-09T07:57:25.208Z"
   },
   {
    "duration": 211,
    "start_time": "2022-06-09T07:57:29.050Z"
   },
   {
    "duration": 399,
    "start_time": "2022-06-09T07:57:32.067Z"
   },
   {
    "duration": 362,
    "start_time": "2022-06-09T07:58:05.290Z"
   },
   {
    "duration": 334,
    "start_time": "2022-06-09T07:58:24.017Z"
   },
   {
    "duration": 366,
    "start_time": "2022-06-09T07:58:34.000Z"
   },
   {
    "duration": 472,
    "start_time": "2022-06-09T07:58:49.096Z"
   },
   {
    "duration": 6,
    "start_time": "2022-06-09T07:59:41.512Z"
   },
   {
    "duration": 12,
    "start_time": "2022-06-09T07:59:43.949Z"
   },
   {
    "duration": 7,
    "start_time": "2022-06-09T07:59:47.071Z"
   },
   {
    "duration": 9,
    "start_time": "2022-06-09T08:01:13.382Z"
   },
   {
    "duration": 25,
    "start_time": "2022-06-09T08:01:18.113Z"
   },
   {
    "duration": 20,
    "start_time": "2022-06-09T08:01:25.810Z"
   },
   {
    "duration": 10,
    "start_time": "2022-06-09T08:01:40.974Z"
   },
   {
    "duration": 6,
    "start_time": "2022-06-09T08:02:05.021Z"
   },
   {
    "duration": 9,
    "start_time": "2022-06-09T08:02:15.188Z"
   },
   {
    "duration": 7,
    "start_time": "2022-06-09T08:03:09.967Z"
   },
   {
    "duration": 7,
    "start_time": "2022-06-09T08:03:13.742Z"
   },
   {
    "duration": 8,
    "start_time": "2022-06-09T08:03:56.939Z"
   },
   {
    "duration": 141,
    "start_time": "2022-06-09T08:05:21.416Z"
   },
   {
    "duration": 121,
    "start_time": "2022-06-09T08:05:25.356Z"
   },
   {
    "duration": 119,
    "start_time": "2022-06-09T08:06:06.761Z"
   },
   {
    "duration": 145,
    "start_time": "2022-06-09T08:06:33.414Z"
   },
   {
    "duration": 135,
    "start_time": "2022-06-09T08:06:39.219Z"
   },
   {
    "duration": 151,
    "start_time": "2022-06-09T08:06:47.587Z"
   },
   {
    "duration": 142,
    "start_time": "2022-06-09T08:06:49.600Z"
   },
   {
    "duration": 120,
    "start_time": "2022-06-09T08:07:16.145Z"
   },
   {
    "duration": 8,
    "start_time": "2022-06-09T08:09:59.263Z"
   },
   {
    "duration": 16,
    "start_time": "2022-06-09T08:10:09.606Z"
   },
   {
    "duration": 16,
    "start_time": "2022-06-09T08:10:13.972Z"
   },
   {
    "duration": 10,
    "start_time": "2022-06-09T08:10:21.366Z"
   },
   {
    "duration": 15,
    "start_time": "2022-06-09T08:10:39.773Z"
   },
   {
    "duration": 29,
    "start_time": "2022-06-09T08:10:49.202Z"
   },
   {
    "duration": 13,
    "start_time": "2022-06-09T08:10:59.420Z"
   },
   {
    "duration": 10,
    "start_time": "2022-06-09T08:11:02.699Z"
   },
   {
    "duration": 14,
    "start_time": "2022-06-09T08:11:12.911Z"
   },
   {
    "duration": 11,
    "start_time": "2022-06-09T08:11:32.787Z"
   },
   {
    "duration": 38,
    "start_time": "2022-06-09T08:11:42.743Z"
   },
   {
    "duration": 1161,
    "start_time": "2022-06-09T09:08:47.048Z"
   },
   {
    "duration": 67,
    "start_time": "2022-06-09T09:08:48.211Z"
   },
   {
    "duration": 14,
    "start_time": "2022-06-09T09:08:48.280Z"
   },
   {
    "duration": 26,
    "start_time": "2022-06-09T09:08:48.296Z"
   },
   {
    "duration": 40,
    "start_time": "2022-06-09T09:08:48.325Z"
   },
   {
    "duration": 24,
    "start_time": "2022-06-09T09:08:48.370Z"
   },
   {
    "duration": 31,
    "start_time": "2022-06-09T09:08:48.396Z"
   },
   {
    "duration": 15,
    "start_time": "2022-06-09T09:08:48.431Z"
   },
   {
    "duration": 41,
    "start_time": "2022-06-09T09:08:48.448Z"
   },
   {
    "duration": 9,
    "start_time": "2022-06-09T09:08:48.491Z"
   },
   {
    "duration": 107,
    "start_time": "2022-06-09T09:08:48.502Z"
   },
   {
    "duration": 51,
    "start_time": "2022-06-09T09:08:48.612Z"
   },
   {
    "duration": 32,
    "start_time": "2022-06-09T09:08:48.665Z"
   },
   {
    "duration": 60,
    "start_time": "2022-06-09T09:08:48.700Z"
   },
   {
    "duration": 23,
    "start_time": "2022-06-09T09:08:48.762Z"
   },
   {
    "duration": 177,
    "start_time": "2022-06-09T09:08:48.787Z"
   },
   {
    "duration": 0,
    "start_time": "2022-06-09T09:08:48.966Z"
   },
   {
    "duration": 1,
    "start_time": "2022-06-09T09:08:48.967Z"
   },
   {
    "duration": 0,
    "start_time": "2022-06-09T09:08:48.969Z"
   },
   {
    "duration": 0,
    "start_time": "2022-06-09T09:08:48.970Z"
   },
   {
    "duration": 0,
    "start_time": "2022-06-09T09:08:48.972Z"
   },
   {
    "duration": 0,
    "start_time": "2022-06-09T09:08:48.973Z"
   },
   {
    "duration": 0,
    "start_time": "2022-06-09T09:08:48.975Z"
   },
   {
    "duration": 0,
    "start_time": "2022-06-09T09:08:48.976Z"
   },
   {
    "duration": 0,
    "start_time": "2022-06-09T09:08:48.977Z"
   },
   {
    "duration": 0,
    "start_time": "2022-06-09T09:08:48.979Z"
   },
   {
    "duration": 0,
    "start_time": "2022-06-09T09:08:48.980Z"
   },
   {
    "duration": 0,
    "start_time": "2022-06-09T09:08:48.981Z"
   },
   {
    "duration": 0,
    "start_time": "2022-06-09T09:08:48.981Z"
   },
   {
    "duration": 0,
    "start_time": "2022-06-09T09:08:48.983Z"
   },
   {
    "duration": 0,
    "start_time": "2022-06-09T09:08:48.984Z"
   },
   {
    "duration": 0,
    "start_time": "2022-06-09T09:08:48.985Z"
   },
   {
    "duration": 0,
    "start_time": "2022-06-09T09:08:48.986Z"
   },
   {
    "duration": 0,
    "start_time": "2022-06-09T09:08:48.987Z"
   },
   {
    "duration": 0,
    "start_time": "2022-06-09T09:08:48.988Z"
   },
   {
    "duration": 0,
    "start_time": "2022-06-09T09:08:48.989Z"
   },
   {
    "duration": 0,
    "start_time": "2022-06-09T09:08:48.990Z"
   },
   {
    "duration": 0,
    "start_time": "2022-06-09T09:08:48.991Z"
   },
   {
    "duration": 0,
    "start_time": "2022-06-09T09:08:48.992Z"
   },
   {
    "duration": 0,
    "start_time": "2022-06-09T09:08:48.993Z"
   },
   {
    "duration": 18,
    "start_time": "2022-06-09T09:09:08.557Z"
   },
   {
    "duration": 11,
    "start_time": "2022-06-09T09:09:21.354Z"
   },
   {
    "duration": 18,
    "start_time": "2022-06-09T09:09:22.758Z"
   },
   {
    "duration": 1094,
    "start_time": "2022-06-09T09:09:27.480Z"
   },
   {
    "duration": 52,
    "start_time": "2022-06-09T09:09:28.576Z"
   },
   {
    "duration": 19,
    "start_time": "2022-06-09T09:09:28.629Z"
   },
   {
    "duration": 39,
    "start_time": "2022-06-09T09:09:28.650Z"
   },
   {
    "duration": 28,
    "start_time": "2022-06-09T09:09:28.692Z"
   },
   {
    "duration": 28,
    "start_time": "2022-06-09T09:09:28.729Z"
   },
   {
    "duration": 52,
    "start_time": "2022-06-09T09:09:28.759Z"
   },
   {
    "duration": 11,
    "start_time": "2022-06-09T09:09:28.813Z"
   },
   {
    "duration": 61,
    "start_time": "2022-06-09T09:09:28.828Z"
   },
   {
    "duration": 11,
    "start_time": "2022-06-09T09:09:28.893Z"
   },
   {
    "duration": 83,
    "start_time": "2022-06-09T09:09:28.906Z"
   },
   {
    "duration": 38,
    "start_time": "2022-06-09T09:09:28.990Z"
   },
   {
    "duration": 24,
    "start_time": "2022-06-09T09:09:29.030Z"
   },
   {
    "duration": 39,
    "start_time": "2022-06-09T09:09:29.055Z"
   },
   {
    "duration": 12,
    "start_time": "2022-06-09T09:09:29.096Z"
   },
   {
    "duration": 9,
    "start_time": "2022-06-09T09:09:29.110Z"
   },
   {
    "duration": 14,
    "start_time": "2022-06-09T09:09:29.121Z"
   },
   {
    "duration": 30,
    "start_time": "2022-06-09T09:09:29.138Z"
   },
   {
    "duration": 21,
    "start_time": "2022-06-09T09:09:29.170Z"
   },
   {
    "duration": 520,
    "start_time": "2022-06-09T09:09:29.192Z"
   },
   {
    "duration": 395,
    "start_time": "2022-06-09T09:09:29.713Z"
   },
   {
    "duration": 41,
    "start_time": "2022-06-09T09:09:30.110Z"
   },
   {
    "duration": 25,
    "start_time": "2022-06-09T09:09:30.152Z"
   },
   {
    "duration": 27,
    "start_time": "2022-06-09T09:09:30.179Z"
   },
   {
    "duration": 30,
    "start_time": "2022-06-09T09:09:30.208Z"
   },
   {
    "duration": 0,
    "start_time": "2022-06-09T09:09:30.240Z"
   },
   {
    "duration": 0,
    "start_time": "2022-06-09T09:09:30.241Z"
   },
   {
    "duration": 0,
    "start_time": "2022-06-09T09:09:30.242Z"
   },
   {
    "duration": 0,
    "start_time": "2022-06-09T09:09:30.243Z"
   },
   {
    "duration": 0,
    "start_time": "2022-06-09T09:09:30.244Z"
   },
   {
    "duration": 0,
    "start_time": "2022-06-09T09:09:30.245Z"
   },
   {
    "duration": 0,
    "start_time": "2022-06-09T09:09:30.246Z"
   },
   {
    "duration": 0,
    "start_time": "2022-06-09T09:09:30.246Z"
   },
   {
    "duration": 0,
    "start_time": "2022-06-09T09:09:30.247Z"
   },
   {
    "duration": 0,
    "start_time": "2022-06-09T09:09:30.248Z"
   },
   {
    "duration": 0,
    "start_time": "2022-06-09T09:09:30.249Z"
   },
   {
    "duration": 0,
    "start_time": "2022-06-09T09:09:30.250Z"
   },
   {
    "duration": 0,
    "start_time": "2022-06-09T09:09:30.251Z"
   },
   {
    "duration": 0,
    "start_time": "2022-06-09T09:09:30.252Z"
   },
   {
    "duration": 0,
    "start_time": "2022-06-09T09:09:30.253Z"
   },
   {
    "duration": 228,
    "start_time": "2022-06-09T09:09:42.260Z"
   },
   {
    "duration": 1161,
    "start_time": "2022-06-09T09:10:04.973Z"
   },
   {
    "duration": 73,
    "start_time": "2022-06-09T09:10:06.136Z"
   },
   {
    "duration": 24,
    "start_time": "2022-06-09T09:10:06.211Z"
   },
   {
    "duration": 34,
    "start_time": "2022-06-09T09:10:06.237Z"
   },
   {
    "duration": 37,
    "start_time": "2022-06-09T09:10:06.274Z"
   },
   {
    "duration": 25,
    "start_time": "2022-06-09T09:10:06.312Z"
   },
   {
    "duration": 29,
    "start_time": "2022-06-09T09:10:06.340Z"
   },
   {
    "duration": 10,
    "start_time": "2022-06-09T09:10:06.370Z"
   },
   {
    "duration": 30,
    "start_time": "2022-06-09T09:10:06.382Z"
   },
   {
    "duration": 19,
    "start_time": "2022-06-09T09:10:06.414Z"
   },
   {
    "duration": 130,
    "start_time": "2022-06-09T09:10:06.434Z"
   },
   {
    "duration": 38,
    "start_time": "2022-06-09T09:10:06.566Z"
   },
   {
    "duration": 54,
    "start_time": "2022-06-09T09:10:06.606Z"
   },
   {
    "duration": 36,
    "start_time": "2022-06-09T09:10:06.666Z"
   },
   {
    "duration": 34,
    "start_time": "2022-06-09T09:10:06.705Z"
   },
   {
    "duration": 43,
    "start_time": "2022-06-09T09:10:06.745Z"
   },
   {
    "duration": 33,
    "start_time": "2022-06-09T09:10:06.790Z"
   },
   {
    "duration": 28,
    "start_time": "2022-06-09T09:10:06.826Z"
   },
   {
    "duration": 33,
    "start_time": "2022-06-09T09:10:06.856Z"
   },
   {
    "duration": 621,
    "start_time": "2022-06-09T09:10:06.890Z"
   },
   {
    "duration": 391,
    "start_time": "2022-06-09T09:10:07.513Z"
   },
   {
    "duration": 43,
    "start_time": "2022-06-09T09:10:07.909Z"
   },
   {
    "duration": 12,
    "start_time": "2022-06-09T09:10:07.955Z"
   },
   {
    "duration": 11,
    "start_time": "2022-06-09T09:10:07.969Z"
   },
   {
    "duration": 236,
    "start_time": "2022-06-09T09:10:07.982Z"
   },
   {
    "duration": 12,
    "start_time": "2022-06-09T09:10:08.221Z"
   },
   {
    "duration": 306,
    "start_time": "2022-06-09T09:10:08.238Z"
   },
   {
    "duration": 500,
    "start_time": "2022-06-09T09:10:08.547Z"
   },
   {
    "duration": 361,
    "start_time": "2022-06-09T09:10:09.049Z"
   },
   {
    "duration": 5,
    "start_time": "2022-06-09T09:10:09.412Z"
   },
   {
    "duration": 22,
    "start_time": "2022-06-09T09:10:09.431Z"
   },
   {
    "duration": 135,
    "start_time": "2022-06-09T09:10:09.462Z"
   },
   {
    "duration": 0,
    "start_time": "2022-06-09T09:10:09.599Z"
   },
   {
    "duration": 0,
    "start_time": "2022-06-09T09:10:09.601Z"
   },
   {
    "duration": 0,
    "start_time": "2022-06-09T09:10:09.602Z"
   },
   {
    "duration": 1,
    "start_time": "2022-06-09T09:10:09.603Z"
   },
   {
    "duration": 0,
    "start_time": "2022-06-09T09:10:09.609Z"
   },
   {
    "duration": 0,
    "start_time": "2022-06-09T09:10:09.625Z"
   },
   {
    "duration": 0,
    "start_time": "2022-06-09T09:10:09.626Z"
   },
   {
    "duration": 0,
    "start_time": "2022-06-09T09:10:09.626Z"
   },
   {
    "duration": 9,
    "start_time": "2022-06-09T09:11:01.563Z"
   },
   {
    "duration": 184,
    "start_time": "2022-06-09T09:13:31.316Z"
   },
   {
    "duration": 165,
    "start_time": "2022-06-09T09:13:54.552Z"
   },
   {
    "duration": 31,
    "start_time": "2022-06-09T09:13:59.712Z"
   },
   {
    "duration": 14,
    "start_time": "2022-06-09T09:15:05.388Z"
   },
   {
    "duration": 5,
    "start_time": "2022-06-09T09:15:23.602Z"
   },
   {
    "duration": 153,
    "start_time": "2022-06-09T09:15:34.695Z"
   },
   {
    "duration": 16,
    "start_time": "2022-06-09T09:15:45.354Z"
   },
   {
    "duration": 25,
    "start_time": "2022-06-09T09:16:47.183Z"
   },
   {
    "duration": 17,
    "start_time": "2022-06-09T09:17:52.261Z"
   },
   {
    "duration": 16,
    "start_time": "2022-06-09T09:18:00.701Z"
   },
   {
    "duration": 26,
    "start_time": "2022-06-09T09:18:20.429Z"
   },
   {
    "duration": 301,
    "start_time": "2022-06-09T09:18:39.345Z"
   },
   {
    "duration": 31,
    "start_time": "2022-06-09T09:18:58.289Z"
   },
   {
    "duration": 353,
    "start_time": "2022-06-09T09:19:05.324Z"
   },
   {
    "duration": 212,
    "start_time": "2022-06-09T09:21:08.410Z"
   },
   {
    "duration": 428,
    "start_time": "2022-06-09T09:23:12.695Z"
   },
   {
    "duration": 343,
    "start_time": "2022-06-09T09:24:50.458Z"
   },
   {
    "duration": 43,
    "start_time": "2022-06-09T09:26:46.712Z"
   },
   {
    "duration": 25,
    "start_time": "2022-06-09T09:26:50.746Z"
   },
   {
    "duration": 11,
    "start_time": "2022-06-09T09:26:55.255Z"
   },
   {
    "duration": 21,
    "start_time": "2022-06-09T09:27:01.068Z"
   },
   {
    "duration": 30,
    "start_time": "2022-06-09T09:27:12.427Z"
   },
   {
    "duration": 9,
    "start_time": "2022-06-09T09:27:35.968Z"
   },
   {
    "duration": 14,
    "start_time": "2022-06-09T09:27:55.465Z"
   },
   {
    "duration": 13,
    "start_time": "2022-06-09T09:28:02.922Z"
   },
   {
    "duration": 156,
    "start_time": "2022-06-09T09:28:18.851Z"
   },
   {
    "duration": 39,
    "start_time": "2022-06-09T09:29:18.597Z"
   },
   {
    "duration": 42,
    "start_time": "2022-06-09T09:29:54.012Z"
   },
   {
    "duration": 296,
    "start_time": "2022-06-09T09:29:59.706Z"
   },
   {
    "duration": 37,
    "start_time": "2022-06-09T09:30:14.848Z"
   },
   {
    "duration": 175,
    "start_time": "2022-06-09T09:30:19.822Z"
   },
   {
    "duration": 21,
    "start_time": "2022-06-09T09:31:03.223Z"
   },
   {
    "duration": 23,
    "start_time": "2022-06-09T09:33:31.609Z"
   },
   {
    "duration": 693,
    "start_time": "2022-06-09T09:34:14.467Z"
   },
   {
    "duration": 15,
    "start_time": "2022-06-09T09:34:20.308Z"
   },
   {
    "duration": 14,
    "start_time": "2022-06-09T09:34:46.294Z"
   },
   {
    "duration": 23,
    "start_time": "2022-06-09T09:34:52.336Z"
   },
   {
    "duration": 29,
    "start_time": "2022-06-09T09:34:58.776Z"
   },
   {
    "duration": 40,
    "start_time": "2022-06-09T09:35:11.602Z"
   },
   {
    "duration": 23,
    "start_time": "2022-06-09T09:35:20.742Z"
   },
   {
    "duration": 37,
    "start_time": "2022-06-09T09:35:50.499Z"
   },
   {
    "duration": 25,
    "start_time": "2022-06-09T09:35:56.443Z"
   },
   {
    "duration": 30,
    "start_time": "2022-06-09T09:35:59.132Z"
   },
   {
    "duration": 34,
    "start_time": "2022-06-09T09:36:12.974Z"
   },
   {
    "duration": 33,
    "start_time": "2022-06-09T09:36:48.875Z"
   },
   {
    "duration": 561,
    "start_time": "2022-06-09T09:37:20.288Z"
   },
   {
    "duration": 126,
    "start_time": "2022-06-09T09:37:30.977Z"
   },
   {
    "duration": 140,
    "start_time": "2022-06-09T09:37:43.610Z"
   },
   {
    "duration": 161,
    "start_time": "2022-06-09T09:38:00.176Z"
   },
   {
    "duration": 121,
    "start_time": "2022-06-09T09:38:37.444Z"
   },
   {
    "duration": 162,
    "start_time": "2022-06-09T09:38:47.888Z"
   },
   {
    "duration": 146,
    "start_time": "2022-06-09T09:38:51.852Z"
   },
   {
    "duration": 161,
    "start_time": "2022-06-09T09:39:17.451Z"
   },
   {
    "duration": 11,
    "start_time": "2022-06-09T09:39:47.600Z"
   },
   {
    "duration": 23,
    "start_time": "2022-06-09T09:39:54.516Z"
   },
   {
    "duration": 17,
    "start_time": "2022-06-09T09:40:34.276Z"
   },
   {
    "duration": 19,
    "start_time": "2022-06-09T09:41:07.279Z"
   },
   {
    "duration": 23,
    "start_time": "2022-06-09T09:41:25.074Z"
   },
   {
    "duration": 31,
    "start_time": "2022-06-09T09:41:48.005Z"
   },
   {
    "duration": 28,
    "start_time": "2022-06-09T09:42:01.221Z"
   },
   {
    "duration": 30,
    "start_time": "2022-06-09T09:42:11.368Z"
   },
   {
    "duration": 35,
    "start_time": "2022-06-09T09:42:43.512Z"
   },
   {
    "duration": 180,
    "start_time": "2022-06-09T09:43:28.372Z"
   },
   {
    "duration": 26,
    "start_time": "2022-06-09T09:43:50.754Z"
   },
   {
    "duration": 651,
    "start_time": "2022-06-09T09:44:48.195Z"
   },
   {
    "duration": 731,
    "start_time": "2022-06-09T09:45:13.299Z"
   },
   {
    "duration": 611,
    "start_time": "2022-06-09T09:45:58.454Z"
   },
   {
    "duration": 32,
    "start_time": "2022-06-09T09:46:45.373Z"
   },
   {
    "duration": 1176,
    "start_time": "2022-06-09T09:50:07.660Z"
   },
   {
    "duration": 82,
    "start_time": "2022-06-09T09:50:08.839Z"
   },
   {
    "duration": 32,
    "start_time": "2022-06-09T09:50:08.923Z"
   },
   {
    "duration": 27,
    "start_time": "2022-06-09T09:50:08.963Z"
   },
   {
    "duration": 19,
    "start_time": "2022-06-09T09:50:08.993Z"
   },
   {
    "duration": 27,
    "start_time": "2022-06-09T09:50:09.014Z"
   },
   {
    "duration": 41,
    "start_time": "2022-06-09T09:50:09.049Z"
   },
   {
    "duration": 12,
    "start_time": "2022-06-09T09:50:09.093Z"
   },
   {
    "duration": 45,
    "start_time": "2022-06-09T09:50:09.108Z"
   },
   {
    "duration": 8,
    "start_time": "2022-06-09T09:50:09.160Z"
   },
   {
    "duration": 87,
    "start_time": "2022-06-09T09:50:09.170Z"
   },
   {
    "duration": 28,
    "start_time": "2022-06-09T09:50:09.258Z"
   },
   {
    "duration": 48,
    "start_time": "2022-06-09T09:50:09.287Z"
   },
   {
    "duration": 55,
    "start_time": "2022-06-09T09:50:09.340Z"
   },
   {
    "duration": 8,
    "start_time": "2022-06-09T09:50:09.397Z"
   },
   {
    "duration": 6,
    "start_time": "2022-06-09T09:50:09.407Z"
   },
   {
    "duration": 11,
    "start_time": "2022-06-09T09:50:09.415Z"
   },
   {
    "duration": 50,
    "start_time": "2022-06-09T09:50:09.427Z"
   },
   {
    "duration": 22,
    "start_time": "2022-06-09T09:50:09.480Z"
   },
   {
    "duration": 575,
    "start_time": "2022-06-09T09:50:09.505Z"
   },
   {
    "duration": 393,
    "start_time": "2022-06-09T09:50:10.082Z"
   },
   {
    "duration": 29,
    "start_time": "2022-06-09T09:50:10.477Z"
   },
   {
    "duration": 36,
    "start_time": "2022-06-09T09:50:10.508Z"
   },
   {
    "duration": 13,
    "start_time": "2022-06-09T09:50:10.552Z"
   },
   {
    "duration": 219,
    "start_time": "2022-06-09T09:50:10.566Z"
   },
   {
    "duration": 8,
    "start_time": "2022-06-09T09:50:10.787Z"
   },
   {
    "duration": 276,
    "start_time": "2022-06-09T09:50:10.796Z"
   },
   {
    "duration": 421,
    "start_time": "2022-06-09T09:50:11.073Z"
   },
   {
    "duration": 375,
    "start_time": "2022-06-09T09:50:11.497Z"
   },
   {
    "duration": 5,
    "start_time": "2022-06-09T09:50:11.873Z"
   },
   {
    "duration": 21,
    "start_time": "2022-06-09T09:50:11.880Z"
   },
   {
    "duration": 169,
    "start_time": "2022-06-09T09:50:11.903Z"
   },
   {
    "duration": 422,
    "start_time": "2022-06-09T09:50:12.073Z"
   },
   {
    "duration": 392,
    "start_time": "2022-06-09T09:50:12.497Z"
   },
   {
    "duration": 215,
    "start_time": "2022-06-09T09:50:12.891Z"
   },
   {
    "duration": 30,
    "start_time": "2022-06-09T09:50:13.107Z"
   },
   {
    "duration": 666,
    "start_time": "2022-06-09T09:50:13.141Z"
   },
   {
    "duration": 46,
    "start_time": "2022-06-09T09:50:13.809Z"
   },
   {
    "duration": 80,
    "start_time": "2022-06-09T09:50:13.861Z"
   },
   {
    "duration": 67,
    "start_time": "2022-06-09T09:50:13.944Z"
   },
   {
    "duration": 12,
    "start_time": "2022-06-09T09:50:14.016Z"
   },
   {
    "duration": 50,
    "start_time": "2022-06-09T09:50:14.033Z"
   },
   {
    "duration": 1033,
    "start_time": "2022-06-09T21:48:16.301Z"
   },
   {
    "duration": 50,
    "start_time": "2022-06-09T21:48:17.336Z"
   },
   {
    "duration": 13,
    "start_time": "2022-06-09T21:48:17.388Z"
   },
   {
    "duration": 18,
    "start_time": "2022-06-09T21:48:17.403Z"
   },
   {
    "duration": 18,
    "start_time": "2022-06-09T21:48:17.422Z"
   },
   {
    "duration": 40,
    "start_time": "2022-06-09T21:48:17.442Z"
   },
   {
    "duration": 16,
    "start_time": "2022-06-09T21:48:17.484Z"
   },
   {
    "duration": 8,
    "start_time": "2022-06-09T21:48:17.501Z"
   },
   {
    "duration": 18,
    "start_time": "2022-06-09T21:48:17.510Z"
   },
   {
    "duration": 7,
    "start_time": "2022-06-09T21:48:17.530Z"
   },
   {
    "duration": 99,
    "start_time": "2022-06-09T21:48:17.539Z"
   },
   {
    "duration": 22,
    "start_time": "2022-06-09T21:48:17.639Z"
   },
   {
    "duration": 37,
    "start_time": "2022-06-09T21:48:17.662Z"
   },
   {
    "duration": 30,
    "start_time": "2022-06-09T21:48:17.701Z"
   },
   {
    "duration": 9,
    "start_time": "2022-06-09T21:48:17.733Z"
   },
   {
    "duration": 12,
    "start_time": "2022-06-09T21:48:17.745Z"
   },
   {
    "duration": 27,
    "start_time": "2022-06-09T21:48:17.759Z"
   },
   {
    "duration": 13,
    "start_time": "2022-06-09T21:48:17.788Z"
   },
   {
    "duration": 22,
    "start_time": "2022-06-09T21:48:17.803Z"
   },
   {
    "duration": 452,
    "start_time": "2022-06-09T21:48:17.826Z"
   },
   {
    "duration": 301,
    "start_time": "2022-06-09T21:48:18.279Z"
   },
   {
    "duration": 20,
    "start_time": "2022-06-09T21:48:18.581Z"
   },
   {
    "duration": 6,
    "start_time": "2022-06-09T21:48:18.603Z"
   },
   {
    "duration": 8,
    "start_time": "2022-06-09T21:48:18.610Z"
   },
   {
    "duration": 186,
    "start_time": "2022-06-09T21:48:18.619Z"
   },
   {
    "duration": 7,
    "start_time": "2022-06-09T21:48:18.807Z"
   },
   {
    "duration": 214,
    "start_time": "2022-06-09T21:48:18.815Z"
   },
   {
    "duration": 372,
    "start_time": "2022-06-09T21:48:19.032Z"
   },
   {
    "duration": 293,
    "start_time": "2022-06-09T21:48:19.406Z"
   },
   {
    "duration": 5,
    "start_time": "2022-06-09T21:48:19.701Z"
   },
   {
    "duration": 10,
    "start_time": "2022-06-09T21:48:19.707Z"
   },
   {
    "duration": 137,
    "start_time": "2022-06-09T21:48:19.718Z"
   },
   {
    "duration": 327,
    "start_time": "2022-06-09T21:48:19.857Z"
   },
   {
    "duration": 320,
    "start_time": "2022-06-09T21:48:20.185Z"
   },
   {
    "duration": 175,
    "start_time": "2022-06-09T21:48:20.506Z"
   },
   {
    "duration": 16,
    "start_time": "2022-06-09T21:48:20.683Z"
   },
   {
    "duration": 568,
    "start_time": "2022-06-09T21:48:20.700Z"
   },
   {
    "duration": 38,
    "start_time": "2022-06-09T21:48:21.270Z"
   },
   {
    "duration": 33,
    "start_time": "2022-06-09T21:48:21.310Z"
   },
   {
    "duration": 58,
    "start_time": "2022-06-09T21:48:21.344Z"
   },
   {
    "duration": 7,
    "start_time": "2022-06-09T21:48:21.404Z"
   },
   {
    "duration": 11,
    "start_time": "2022-06-09T21:48:21.413Z"
   },
   {
    "duration": 3,
    "start_time": "2022-06-09T21:49:08.323Z"
   },
   {
    "duration": 8,
    "start_time": "2022-06-09T21:57:26.640Z"
   },
   {
    "duration": 4,
    "start_time": "2022-06-09T21:57:45.136Z"
   },
   {
    "duration": 395,
    "start_time": "2022-06-09T21:58:49.689Z"
   },
   {
    "duration": 497,
    "start_time": "2022-06-09T21:59:53.621Z"
   },
   {
    "duration": 399,
    "start_time": "2022-06-09T21:59:59.365Z"
   },
   {
    "duration": 21,
    "start_time": "2022-06-09T22:05:12.629Z"
   },
   {
    "duration": 4,
    "start_time": "2022-06-09T22:05:20.011Z"
   },
   {
    "duration": 112,
    "start_time": "2022-06-09T22:07:36.727Z"
   },
   {
    "duration": 365,
    "start_time": "2022-06-09T22:07:50.217Z"
   },
   {
    "duration": 123,
    "start_time": "2022-06-09T22:08:03.826Z"
   },
   {
    "duration": 5,
    "start_time": "2022-06-09T22:08:09.266Z"
   },
   {
    "duration": 6,
    "start_time": "2022-06-09T22:08:20.724Z"
   },
   {
    "duration": 4,
    "start_time": "2022-06-09T22:08:28.156Z"
   },
   {
    "duration": 8,
    "start_time": "2022-06-09T22:08:40.755Z"
   },
   {
    "duration": 5,
    "start_time": "2022-06-09T22:08:46.364Z"
   },
   {
    "duration": 113,
    "start_time": "2022-06-09T22:12:35.156Z"
   },
   {
    "duration": 6,
    "start_time": "2022-06-09T22:12:57.848Z"
   },
   {
    "duration": 8,
    "start_time": "2022-06-09T22:23:31.689Z"
   },
   {
    "duration": 11,
    "start_time": "2022-06-09T22:23:46.797Z"
   },
   {
    "duration": 55,
    "start_time": "2022-06-10T06:21:35.440Z"
   },
   {
    "duration": 8,
    "start_time": "2022-06-10T06:21:39.569Z"
   },
   {
    "duration": 11,
    "start_time": "2022-06-10T06:22:26.472Z"
   },
   {
    "duration": 44,
    "start_time": "2022-06-11T06:15:02.476Z"
   },
   {
    "duration": 5,
    "start_time": "2022-06-11T06:15:09.112Z"
   },
   {
    "duration": 1261,
    "start_time": "2022-06-11T06:15:12.868Z"
   },
   {
    "duration": 93,
    "start_time": "2022-06-11T06:15:14.131Z"
   },
   {
    "duration": 15,
    "start_time": "2022-06-11T06:15:14.225Z"
   },
   {
    "duration": 18,
    "start_time": "2022-06-11T06:15:14.242Z"
   },
   {
    "duration": 19,
    "start_time": "2022-06-11T06:15:14.261Z"
   },
   {
    "duration": 17,
    "start_time": "2022-06-11T06:15:14.282Z"
   },
   {
    "duration": 18,
    "start_time": "2022-06-11T06:15:14.301Z"
   },
   {
    "duration": 41,
    "start_time": "2022-06-11T06:15:14.320Z"
   },
   {
    "duration": 15,
    "start_time": "2022-06-11T06:15:14.363Z"
   },
   {
    "duration": 7,
    "start_time": "2022-06-11T06:15:14.381Z"
   },
   {
    "duration": 93,
    "start_time": "2022-06-11T06:15:14.390Z"
   },
   {
    "duration": 23,
    "start_time": "2022-06-11T06:15:14.485Z"
   },
   {
    "duration": 20,
    "start_time": "2022-06-11T06:15:14.509Z"
   },
   {
    "duration": 41,
    "start_time": "2022-06-11T06:15:14.530Z"
   },
   {
    "duration": 7,
    "start_time": "2022-06-11T06:15:14.572Z"
   },
   {
    "duration": 8,
    "start_time": "2022-06-11T06:15:14.581Z"
   },
   {
    "duration": 12,
    "start_time": "2022-06-11T06:15:14.590Z"
   },
   {
    "duration": 7,
    "start_time": "2022-06-11T06:15:14.604Z"
   },
   {
    "duration": 16,
    "start_time": "2022-06-11T06:15:14.612Z"
   },
   {
    "duration": 458,
    "start_time": "2022-06-11T06:15:14.629Z"
   },
   {
    "duration": 316,
    "start_time": "2022-06-11T06:15:15.089Z"
   },
   {
    "duration": 22,
    "start_time": "2022-06-11T06:15:15.407Z"
   },
   {
    "duration": 11,
    "start_time": "2022-06-11T06:15:15.430Z"
   },
   {
    "duration": 8,
    "start_time": "2022-06-11T06:15:15.459Z"
   },
   {
    "duration": 189,
    "start_time": "2022-06-11T06:15:15.469Z"
   },
   {
    "duration": 8,
    "start_time": "2022-06-11T06:15:15.660Z"
   },
   {
    "duration": 215,
    "start_time": "2022-06-11T06:15:15.669Z"
   },
   {
    "duration": 444,
    "start_time": "2022-06-11T06:15:15.887Z"
   },
   {
    "duration": 350,
    "start_time": "2022-06-11T06:15:16.333Z"
   },
   {
    "duration": 5,
    "start_time": "2022-06-11T06:15:16.684Z"
   },
   {
    "duration": 9,
    "start_time": "2022-06-11T06:15:16.691Z"
   },
   {
    "duration": 171,
    "start_time": "2022-06-11T06:15:16.701Z"
   },
   {
    "duration": 418,
    "start_time": "2022-06-11T06:15:16.874Z"
   },
   {
    "duration": 340,
    "start_time": "2022-06-11T06:15:17.294Z"
   },
   {
    "duration": 188,
    "start_time": "2022-06-11T06:15:17.635Z"
   },
   {
    "duration": 16,
    "start_time": "2022-06-11T06:15:17.825Z"
   },
   {
    "duration": 602,
    "start_time": "2022-06-11T06:15:17.843Z"
   },
   {
    "duration": 44,
    "start_time": "2022-06-11T06:15:18.447Z"
   },
   {
    "duration": 39,
    "start_time": "2022-06-11T06:15:18.493Z"
   },
   {
    "duration": 58,
    "start_time": "2022-06-11T06:15:18.533Z"
   },
   {
    "duration": 9,
    "start_time": "2022-06-11T06:15:18.592Z"
   },
   {
    "duration": 10,
    "start_time": "2022-06-11T06:15:18.602Z"
   },
   {
    "duration": 7,
    "start_time": "2022-06-11T06:15:25.194Z"
   },
   {
    "duration": 10,
    "start_time": "2022-06-11T06:15:27.828Z"
   },
   {
    "duration": 7,
    "start_time": "2022-06-11T06:15:43.200Z"
   },
   {
    "duration": 22,
    "start_time": "2022-06-11T06:16:04.642Z"
   },
   {
    "duration": 5,
    "start_time": "2022-06-11T06:16:44.600Z"
   },
   {
    "duration": 6,
    "start_time": "2022-06-11T06:16:50.331Z"
   },
   {
    "duration": 6,
    "start_time": "2022-06-11T06:16:54.954Z"
   },
   {
    "duration": 5,
    "start_time": "2022-06-11T06:17:05.179Z"
   },
   {
    "duration": 16,
    "start_time": "2022-06-11T06:17:06.302Z"
   },
   {
    "duration": 422,
    "start_time": "2022-06-11T06:17:08.258Z"
   },
   {
    "duration": 161,
    "start_time": "2022-06-11T06:18:45.194Z"
   },
   {
    "duration": 103,
    "start_time": "2022-06-11T06:18:55.674Z"
   },
   {
    "duration": 4,
    "start_time": "2022-06-11T06:19:54.554Z"
   },
   {
    "duration": 7,
    "start_time": "2022-06-11T06:20:00.006Z"
   },
   {
    "duration": 97,
    "start_time": "2022-06-11T06:20:09.028Z"
   },
   {
    "duration": 35,
    "start_time": "2022-06-11T06:21:48.373Z"
   },
   {
    "duration": 642,
    "start_time": "2022-06-11T06:22:35.090Z"
   },
   {
    "duration": 626,
    "start_time": "2022-06-11T06:22:56.808Z"
   },
   {
    "duration": 664,
    "start_time": "2022-06-11T06:23:02.176Z"
   },
   {
    "duration": 694,
    "start_time": "2022-06-11T06:23:10.877Z"
   },
   {
    "duration": 401,
    "start_time": "2022-06-11T06:23:34.700Z"
   },
   {
    "duration": 40,
    "start_time": "2022-06-11T06:23:55.005Z"
   },
   {
    "duration": 464,
    "start_time": "2022-06-11T06:24:35.667Z"
   },
   {
    "duration": 808,
    "start_time": "2022-06-11T06:25:05.552Z"
   },
   {
    "duration": 868,
    "start_time": "2022-06-11T06:25:10.092Z"
   },
   {
    "duration": 599,
    "start_time": "2022-06-11T06:25:29.245Z"
   },
   {
    "duration": 536,
    "start_time": "2022-06-11T06:25:39.596Z"
   },
   {
    "duration": 425,
    "start_time": "2022-06-11T06:25:55.346Z"
   },
   {
    "duration": 371,
    "start_time": "2022-06-11T06:26:29.117Z"
   },
   {
    "duration": 559,
    "start_time": "2022-06-11T06:26:42.120Z"
   },
   {
    "duration": 302,
    "start_time": "2022-06-11T06:26:52.105Z"
   },
   {
    "duration": 7,
    "start_time": "2022-06-11T06:29:34.512Z"
   },
   {
    "duration": 13,
    "start_time": "2022-06-11T06:29:44.699Z"
   },
   {
    "duration": 11,
    "start_time": "2022-06-11T06:29:50.412Z"
   },
   {
    "duration": 11,
    "start_time": "2022-06-11T06:30:22.959Z"
   },
   {
    "duration": 9,
    "start_time": "2022-06-11T06:30:29.221Z"
   },
   {
    "duration": 51,
    "start_time": "2022-06-11T06:32:09.415Z"
   },
   {
    "duration": 37,
    "start_time": "2022-06-11T06:32:26.668Z"
   },
   {
    "duration": 46,
    "start_time": "2022-06-11T06:32:39.561Z"
   },
   {
    "duration": 6,
    "start_time": "2022-06-11T06:34:30.448Z"
   },
   {
    "duration": 5,
    "start_time": "2022-06-11T06:34:48.225Z"
   },
   {
    "duration": 7,
    "start_time": "2022-06-11T06:35:52.807Z"
   },
   {
    "duration": 28,
    "start_time": "2022-06-11T06:37:28.269Z"
   },
   {
    "duration": 23,
    "start_time": "2022-06-11T06:37:53.975Z"
   },
   {
    "duration": 13,
    "start_time": "2022-06-11T06:38:29.617Z"
   },
   {
    "duration": 7,
    "start_time": "2022-06-11T06:38:36.862Z"
   },
   {
    "duration": 11,
    "start_time": "2022-06-11T06:38:49.552Z"
   },
   {
    "duration": 8,
    "start_time": "2022-06-11T06:41:26.362Z"
   },
   {
    "duration": 8,
    "start_time": "2022-06-11T06:41:51.744Z"
   },
   {
    "duration": 1153,
    "start_time": "2022-06-11T13:55:36.537Z"
   },
   {
    "duration": 102,
    "start_time": "2022-06-11T13:55:37.692Z"
   },
   {
    "duration": 15,
    "start_time": "2022-06-11T13:55:37.795Z"
   },
   {
    "duration": 22,
    "start_time": "2022-06-11T13:55:37.812Z"
   },
   {
    "duration": 20,
    "start_time": "2022-06-11T13:55:37.835Z"
   },
   {
    "duration": 32,
    "start_time": "2022-06-11T13:55:37.856Z"
   },
   {
    "duration": 17,
    "start_time": "2022-06-11T13:55:37.889Z"
   },
   {
    "duration": 8,
    "start_time": "2022-06-11T13:55:37.907Z"
   },
   {
    "duration": 16,
    "start_time": "2022-06-11T13:55:37.917Z"
   },
   {
    "duration": 38,
    "start_time": "2022-06-11T13:55:37.935Z"
   },
   {
    "duration": 110,
    "start_time": "2022-06-11T13:55:37.975Z"
   },
   {
    "duration": 28,
    "start_time": "2022-06-11T13:55:38.087Z"
   },
   {
    "duration": 21,
    "start_time": "2022-06-11T13:55:38.116Z"
   },
   {
    "duration": 52,
    "start_time": "2022-06-11T13:55:38.138Z"
   },
   {
    "duration": 13,
    "start_time": "2022-06-11T13:55:38.191Z"
   },
   {
    "duration": 8,
    "start_time": "2022-06-11T13:55:38.205Z"
   },
   {
    "duration": 9,
    "start_time": "2022-06-11T13:55:38.214Z"
   },
   {
    "duration": 5,
    "start_time": "2022-06-11T13:55:38.224Z"
   },
   {
    "duration": 42,
    "start_time": "2022-06-11T13:55:38.231Z"
   },
   {
    "duration": 543,
    "start_time": "2022-06-11T13:55:38.275Z"
   },
   {
    "duration": 403,
    "start_time": "2022-06-11T13:55:38.820Z"
   },
   {
    "duration": 23,
    "start_time": "2022-06-11T13:55:39.225Z"
   },
   {
    "duration": 10,
    "start_time": "2022-06-11T13:55:39.264Z"
   },
   {
    "duration": 14,
    "start_time": "2022-06-11T13:55:39.277Z"
   },
   {
    "duration": 213,
    "start_time": "2022-06-11T13:55:39.292Z"
   },
   {
    "duration": 8,
    "start_time": "2022-06-11T13:55:39.507Z"
   },
   {
    "duration": 237,
    "start_time": "2022-06-11T13:55:39.516Z"
   },
   {
    "duration": 448,
    "start_time": "2022-06-11T13:55:39.756Z"
   },
   {
    "duration": 351,
    "start_time": "2022-06-11T13:55:40.206Z"
   },
   {
    "duration": 9,
    "start_time": "2022-06-11T13:55:40.559Z"
   },
   {
    "duration": 19,
    "start_time": "2022-06-11T13:55:40.582Z"
   },
   {
    "duration": 11,
    "start_time": "2022-06-11T13:55:40.603Z"
   },
   {
    "duration": 14,
    "start_time": "2022-06-11T13:55:40.616Z"
   },
   {
    "duration": 154,
    "start_time": "2022-06-11T13:55:40.632Z"
   },
   {
    "duration": 416,
    "start_time": "2022-06-11T13:55:40.787Z"
   },
   {
    "duration": 399,
    "start_time": "2022-06-11T13:55:41.205Z"
   },
   {
    "duration": 211,
    "start_time": "2022-06-11T13:55:41.606Z"
   },
   {
    "duration": 18,
    "start_time": "2022-06-11T13:55:41.818Z"
   },
   {
    "duration": 868,
    "start_time": "2022-06-11T13:55:41.838Z"
   },
   {
    "duration": 520,
    "start_time": "2022-06-11T13:55:42.709Z"
   },
   {
    "duration": 584,
    "start_time": "2022-06-11T13:55:43.231Z"
   },
   {
    "duration": 339,
    "start_time": "2022-06-11T13:55:43.818Z"
   },
   {
    "duration": 16,
    "start_time": "2022-06-11T13:55:44.158Z"
   },
   {
    "duration": 16,
    "start_time": "2022-06-11T13:55:44.175Z"
   },
   {
    "duration": 4,
    "start_time": "2022-06-11T14:12:34.767Z"
   },
   {
    "duration": 6,
    "start_time": "2022-06-11T14:12:43.012Z"
   },
   {
    "duration": 53,
    "start_time": "2022-06-11T17:04:06.695Z"
   },
   {
    "duration": 1289,
    "start_time": "2022-06-11T17:04:38.648Z"
   },
   {
    "duration": 98,
    "start_time": "2022-06-11T17:04:39.939Z"
   },
   {
    "duration": 15,
    "start_time": "2022-06-11T17:04:40.039Z"
   },
   {
    "duration": 17,
    "start_time": "2022-06-11T17:04:40.056Z"
   },
   {
    "duration": 17,
    "start_time": "2022-06-11T17:04:40.075Z"
   },
   {
    "duration": 16,
    "start_time": "2022-06-11T17:04:40.094Z"
   },
   {
    "duration": 49,
    "start_time": "2022-06-11T17:04:40.112Z"
   },
   {
    "duration": 9,
    "start_time": "2022-06-11T17:04:40.162Z"
   },
   {
    "duration": 18,
    "start_time": "2022-06-11T17:04:40.173Z"
   },
   {
    "duration": 7,
    "start_time": "2022-06-11T17:04:40.194Z"
   },
   {
    "duration": 113,
    "start_time": "2022-06-11T17:04:40.203Z"
   },
   {
    "duration": 42,
    "start_time": "2022-06-11T17:04:40.317Z"
   },
   {
    "duration": 24,
    "start_time": "2022-06-11T17:04:40.360Z"
   },
   {
    "duration": 22,
    "start_time": "2022-06-11T17:04:40.386Z"
   },
   {
    "duration": 11,
    "start_time": "2022-06-11T17:04:40.410Z"
   },
   {
    "duration": 9,
    "start_time": "2022-06-11T17:04:40.423Z"
   },
   {
    "duration": 8,
    "start_time": "2022-06-11T17:04:40.458Z"
   },
   {
    "duration": 9,
    "start_time": "2022-06-11T17:04:40.468Z"
   },
   {
    "duration": 17,
    "start_time": "2022-06-11T17:04:40.479Z"
   },
   {
    "duration": 454,
    "start_time": "2022-06-11T17:04:40.497Z"
   },
   {
    "duration": 332,
    "start_time": "2022-06-11T17:04:40.952Z"
   },
   {
    "duration": 22,
    "start_time": "2022-06-11T17:04:41.286Z"
   },
   {
    "duration": 7,
    "start_time": "2022-06-11T17:04:41.309Z"
   },
   {
    "duration": 15,
    "start_time": "2022-06-11T17:04:41.318Z"
   },
   {
    "duration": 255,
    "start_time": "2022-06-11T17:04:41.334Z"
   },
   {
    "duration": 8,
    "start_time": "2022-06-11T17:04:41.591Z"
   },
   {
    "duration": 240,
    "start_time": "2022-06-11T17:04:41.600Z"
   },
   {
    "duration": 485,
    "start_time": "2022-06-11T17:04:41.843Z"
   },
   {
    "duration": 376,
    "start_time": "2022-06-11T17:04:42.329Z"
   },
   {
    "duration": 5,
    "start_time": "2022-06-11T17:04:42.707Z"
   },
   {
    "duration": 7,
    "start_time": "2022-06-11T17:04:42.713Z"
   },
   {
    "duration": 5,
    "start_time": "2022-06-11T17:04:42.722Z"
   },
   {
    "duration": 30,
    "start_time": "2022-06-11T17:04:42.729Z"
   },
   {
    "duration": 154,
    "start_time": "2022-06-11T17:04:42.760Z"
   },
   {
    "duration": 409,
    "start_time": "2022-06-11T17:04:42.915Z"
   },
   {
    "duration": 367,
    "start_time": "2022-06-11T17:04:43.326Z"
   },
   {
    "duration": 208,
    "start_time": "2022-06-11T17:04:43.696Z"
   },
   {
    "duration": 18,
    "start_time": "2022-06-11T17:04:43.906Z"
   },
   {
    "duration": 804,
    "start_time": "2022-06-11T17:04:43.927Z"
   },
   {
    "duration": 494,
    "start_time": "2022-06-11T17:04:44.733Z"
   },
   {
    "duration": 501,
    "start_time": "2022-06-11T17:04:45.228Z"
   },
   {
    "duration": 314,
    "start_time": "2022-06-11T17:04:45.731Z"
   },
   {
    "duration": 16,
    "start_time": "2022-06-11T17:04:46.047Z"
   },
   {
    "duration": 8,
    "start_time": "2022-06-11T17:04:46.064Z"
   },
   {
    "duration": 299,
    "start_time": "2022-06-11T17:06:31.074Z"
   },
   {
    "duration": 8,
    "start_time": "2022-06-11T17:08:26.259Z"
   },
   {
    "duration": 8,
    "start_time": "2022-06-11T17:08:32.617Z"
   },
   {
    "duration": 21,
    "start_time": "2022-06-11T17:09:20.347Z"
   },
   {
    "duration": 31,
    "start_time": "2022-06-11T17:10:17.888Z"
   },
   {
    "duration": 1297,
    "start_time": "2022-06-12T11:03:41.753Z"
   },
   {
    "duration": 192,
    "start_time": "2022-06-12T11:03:43.052Z"
   },
   {
    "duration": 16,
    "start_time": "2022-06-12T11:03:43.246Z"
   },
   {
    "duration": 23,
    "start_time": "2022-06-12T11:03:43.269Z"
   },
   {
    "duration": 21,
    "start_time": "2022-06-12T11:03:43.294Z"
   },
   {
    "duration": 64,
    "start_time": "2022-06-12T11:03:43.317Z"
   },
   {
    "duration": 22,
    "start_time": "2022-06-12T11:03:43.383Z"
   },
   {
    "duration": 10,
    "start_time": "2022-06-12T11:03:43.407Z"
   },
   {
    "duration": 18,
    "start_time": "2022-06-12T11:03:43.419Z"
   },
   {
    "duration": 34,
    "start_time": "2022-06-12T11:03:43.439Z"
   },
   {
    "duration": 98,
    "start_time": "2022-06-12T11:03:43.474Z"
   },
   {
    "duration": 29,
    "start_time": "2022-06-12T11:03:43.574Z"
   },
   {
    "duration": 23,
    "start_time": "2022-06-12T11:03:43.605Z"
   },
   {
    "duration": 57,
    "start_time": "2022-06-12T11:03:43.629Z"
   },
   {
    "duration": 10,
    "start_time": "2022-06-12T11:03:43.687Z"
   },
   {
    "duration": 23,
    "start_time": "2022-06-12T11:03:43.699Z"
   },
   {
    "duration": 17,
    "start_time": "2022-06-12T11:03:43.724Z"
   },
   {
    "duration": 5,
    "start_time": "2022-06-12T11:03:43.744Z"
   },
   {
    "duration": 48,
    "start_time": "2022-06-12T11:03:43.750Z"
   },
   {
    "duration": 536,
    "start_time": "2022-06-12T11:03:43.800Z"
   },
   {
    "duration": 421,
    "start_time": "2022-06-12T11:03:44.339Z"
   },
   {
    "duration": 38,
    "start_time": "2022-06-12T11:03:44.765Z"
   },
   {
    "duration": 9,
    "start_time": "2022-06-12T11:03:44.805Z"
   },
   {
    "duration": 24,
    "start_time": "2022-06-12T11:03:44.815Z"
   },
   {
    "duration": 250,
    "start_time": "2022-06-12T11:03:44.841Z"
   },
   {
    "duration": 10,
    "start_time": "2022-06-12T11:03:45.093Z"
   },
   {
    "duration": 287,
    "start_time": "2022-06-12T11:03:45.106Z"
   },
   {
    "duration": 457,
    "start_time": "2022-06-12T11:03:45.396Z"
   },
   {
    "duration": 369,
    "start_time": "2022-06-12T11:03:45.855Z"
   },
   {
    "duration": 5,
    "start_time": "2022-06-12T11:03:46.226Z"
   },
   {
    "duration": 31,
    "start_time": "2022-06-12T11:03:46.233Z"
   },
   {
    "duration": 12,
    "start_time": "2022-06-12T11:03:46.267Z"
   },
   {
    "duration": 14,
    "start_time": "2022-06-12T11:03:46.282Z"
   },
   {
    "duration": 205,
    "start_time": "2022-06-12T11:03:46.298Z"
   },
   {
    "duration": 501,
    "start_time": "2022-06-12T11:03:46.505Z"
   },
   {
    "duration": 398,
    "start_time": "2022-06-12T11:03:47.008Z"
   },
   {
    "duration": 213,
    "start_time": "2022-06-12T11:03:47.407Z"
   },
   {
    "duration": 18,
    "start_time": "2022-06-12T11:03:47.622Z"
   },
   {
    "duration": 887,
    "start_time": "2022-06-12T11:03:47.641Z"
   },
   {
    "duration": 594,
    "start_time": "2022-06-12T11:03:48.530Z"
   },
   {
    "duration": 587,
    "start_time": "2022-06-12T11:03:49.126Z"
   },
   {
    "duration": 407,
    "start_time": "2022-06-12T11:03:49.715Z"
   },
   {
    "duration": 10,
    "start_time": "2022-06-12T11:03:50.125Z"
   },
   {
    "duration": 35,
    "start_time": "2022-06-12T11:03:50.137Z"
   },
   {
    "duration": 1798,
    "start_time": "2022-07-20T11:39:22.494Z"
   },
   {
    "duration": 140,
    "start_time": "2022-07-20T11:39:24.347Z"
   },
   {
    "duration": 63,
    "start_time": "2022-07-20T11:39:24.489Z"
   },
   {
    "duration": 23,
    "start_time": "2022-07-20T11:39:24.554Z"
   },
   {
    "duration": 89,
    "start_time": "2022-07-20T11:39:24.580Z"
   },
   {
    "duration": 83,
    "start_time": "2022-07-20T11:39:24.671Z"
   },
   {
    "duration": 25,
    "start_time": "2022-07-20T11:39:24.756Z"
   },
   {
    "duration": 73,
    "start_time": "2022-07-20T11:39:24.783Z"
   },
   {
    "duration": 21,
    "start_time": "2022-07-20T11:39:24.858Z"
   },
   {
    "duration": 67,
    "start_time": "2022-07-20T11:39:24.881Z"
   },
   {
    "duration": 133,
    "start_time": "2022-07-20T11:39:24.950Z"
   },
   {
    "duration": 85,
    "start_time": "2022-07-20T11:39:25.084Z"
   },
   {
    "duration": 77,
    "start_time": "2022-07-20T11:39:25.171Z"
   },
   {
    "duration": 21,
    "start_time": "2022-07-20T11:39:25.251Z"
   },
   {
    "duration": 8,
    "start_time": "2022-07-20T11:39:25.274Z"
   },
   {
    "duration": 69,
    "start_time": "2022-07-20T11:39:25.283Z"
   },
   {
    "duration": 12,
    "start_time": "2022-07-20T11:39:25.353Z"
   },
   {
    "duration": 7,
    "start_time": "2022-07-20T11:39:25.366Z"
   },
   {
    "duration": 76,
    "start_time": "2022-07-20T11:39:25.374Z"
   },
   {
    "duration": 937,
    "start_time": "2022-07-20T11:39:25.451Z"
   },
   {
    "duration": 756,
    "start_time": "2022-07-20T11:39:26.390Z"
   },
   {
    "duration": 24,
    "start_time": "2022-07-20T11:39:27.148Z"
   },
   {
    "duration": 12,
    "start_time": "2022-07-20T11:39:27.173Z"
   },
   {
    "duration": 9,
    "start_time": "2022-07-20T11:39:27.246Z"
   },
   {
    "duration": 397,
    "start_time": "2022-07-20T11:39:27.257Z"
   },
   {
    "duration": 9,
    "start_time": "2022-07-20T11:39:27.656Z"
   },
   {
    "duration": 478,
    "start_time": "2022-07-20T11:39:27.667Z"
   },
   {
    "duration": 640,
    "start_time": "2022-07-20T11:39:28.147Z"
   },
   {
    "duration": 671,
    "start_time": "2022-07-20T11:39:28.789Z"
   },
   {
    "duration": 6,
    "start_time": "2022-07-20T11:39:29.463Z"
   },
   {
    "duration": 14,
    "start_time": "2022-07-20T11:39:29.471Z"
   },
   {
    "duration": 61,
    "start_time": "2022-07-20T11:39:29.486Z"
   },
   {
    "duration": 11,
    "start_time": "2022-07-20T11:39:29.548Z"
   },
   {
    "duration": 306,
    "start_time": "2022-07-20T11:39:29.560Z"
   },
   {
    "duration": 777,
    "start_time": "2022-07-20T11:39:29.869Z"
   },
   {
    "duration": 722,
    "start_time": "2022-07-20T11:39:30.648Z"
   },
   {
    "duration": 401,
    "start_time": "2022-07-20T11:39:31.372Z"
   },
   {
    "duration": 74,
    "start_time": "2022-07-20T11:39:31.775Z"
   },
   {
    "duration": 1537,
    "start_time": "2022-07-20T11:39:31.851Z"
   },
   {
    "duration": 1057,
    "start_time": "2022-07-20T11:39:33.390Z"
   },
   {
    "duration": 938,
    "start_time": "2022-07-20T11:39:34.452Z"
   },
   {
    "duration": 655,
    "start_time": "2022-07-20T11:39:35.391Z"
   },
   {
    "duration": 9,
    "start_time": "2022-07-20T11:39:36.048Z"
   },
   {
    "duration": 14,
    "start_time": "2022-07-20T11:39:36.058Z"
   }
  ],
  "kernelspec": {
   "display_name": "Python 3 (ipykernel)",
   "language": "python",
   "name": "python3"
  },
  "language_info": {
   "codemirror_mode": {
    "name": "ipython",
    "version": 3
   },
   "file_extension": ".py",
   "mimetype": "text/x-python",
   "name": "python",
   "nbconvert_exporter": "python",
   "pygments_lexer": "ipython3",
   "version": "3.9.7"
  },
  "toc": {
   "base_numbering": 1,
   "nav_menu": {},
   "number_sections": true,
   "sideBar": true,
   "skip_h1_title": true,
   "title_cell": "Table of Contents",
   "title_sidebar": "Contents",
   "toc_cell": false,
   "toc_position": {},
   "toc_section_display": true,
   "toc_window_display": false
  }
 },
 "nbformat": 4,
 "nbformat_minor": 2
}
