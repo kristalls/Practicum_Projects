{
 "cells": [
  {
   "cell_type": "markdown",
   "id": "2139ab2e",
   "metadata": {},
   "source": [
    "# Исследование надежности заемщиков."
   ]
  },
  {
   "cell_type": "markdown",
   "id": "f2d51496",
   "metadata": {},
   "source": [
    "В этой работе мы очистим данные и проведем исследование факторов которые влияют на возврат кредита заемщиком."
   ]
  },
  {
   "cell_type": "markdown",
   "id": "f3db48d9",
   "metadata": {},
   "source": [
    "### Шаг 1. Обзор данных"
   ]
  },
  {
   "cell_type": "code",
   "execution_count": 1,
   "id": "99334b10",
   "metadata": {
    "scrolled": true
   },
   "outputs": [
    {
     "name": "stdout",
     "output_type": "stream",
     "text": [
      "<class 'pandas.core.frame.DataFrame'>\n",
      "RangeIndex: 21525 entries, 0 to 21524\n",
      "Data columns (total 12 columns):\n",
      " #   Column            Non-Null Count  Dtype  \n",
      "---  ------            --------------  -----  \n",
      " 0   children          21525 non-null  int64  \n",
      " 1   days_employed     19351 non-null  float64\n",
      " 2   dob_years         21525 non-null  int64  \n",
      " 3   education         21525 non-null  object \n",
      " 4   education_id      21525 non-null  int64  \n",
      " 5   family_status     21525 non-null  object \n",
      " 6   family_status_id  21525 non-null  int64  \n",
      " 7   gender            21525 non-null  object \n",
      " 8   income_type       21525 non-null  object \n",
      " 9   debt              21525 non-null  int64  \n",
      " 10  total_income      19351 non-null  float64\n",
      " 11  purpose           21525 non-null  object \n",
      "dtypes: float64(2), int64(5), object(5)\n",
      "memory usage: 2.0+ MB\n"
     ]
    }
   ],
   "source": [
    "import pandas as pd\n",
    "import numpy as np\n",
    "data = pd.read_csv('/datasets/data.csv')\n",
    "data.info()"
   ]
  },
  {
   "cell_type": "markdown",
   "id": "a417c8bc",
   "metadata": {},
   "source": [
    "Обнаружил два столбца с пропущенными данными - days_employed и total_income. В обоих столбцах равное количество значений - похоже есть какая то связь."
   ]
  },
  {
   "cell_type": "code",
   "execution_count": 4,
   "id": "568c1736",
   "metadata": {
    "scrolled": true
   },
   "outputs": [
    {
     "data": {
      "text/plain": [
       "children             0.000000\n",
       "days_employed       10.099884\n",
       "dob_years            0.000000\n",
       "education            0.000000\n",
       "education_id         0.000000\n",
       "family_status        0.000000\n",
       "family_status_id     0.000000\n",
       "gender               0.000000\n",
       "income_type          0.000000\n",
       "debt                 0.000000\n",
       "total_income        10.099884\n",
       "purpose              0.000000\n",
       "dtype: float64"
      ]
     },
     "execution_count": 4,
     "metadata": {},
     "output_type": "execute_result"
    }
   ],
   "source": [
    "data.isna().mean()*100"
   ]
  },
  {
   "cell_type": "markdown",
   "id": "3b243225",
   "metadata": {},
   "source": [
    "Доля пропусков >10%, нельзя их просто удалить - надо разбираться почему они появились."
   ]
  },
  {
   "cell_type": "markdown",
   "id": "fab77079",
   "metadata": {},
   "source": [
    "### Шаг 2.1 Заполнение пропусков"
   ]
  },
  {
   "cell_type": "code",
   "execution_count": 5,
   "id": "5296fa67",
   "metadata": {},
   "outputs": [
    {
     "name": "stdout",
     "output_type": "stream",
     "text": [
      "2174\n"
     ]
    }
   ],
   "source": [
    "print(data['days_employed'].isna().sum())"
   ]
  },
  {
   "cell_type": "code",
   "execution_count": 6,
   "id": "5da02bf7",
   "metadata": {
    "scrolled": true
   },
   "outputs": [
    {
     "data": {
      "text/plain": [
       "10.099883855981417"
      ]
     },
     "execution_count": 6,
     "metadata": {},
     "output_type": "execute_result"
    }
   ],
   "source": [
    "data['days_employed'].isna().mean()*100"
   ]
  },
  {
   "cell_type": "code",
   "execution_count": 7,
   "id": "7786fc58",
   "metadata": {},
   "outputs": [
    {
     "name": "stdout",
     "output_type": "stream",
     "text": [
      "2174\n"
     ]
    }
   ],
   "source": [
    "print(data['total_income'].isna().sum())"
   ]
  },
  {
   "cell_type": "code",
   "execution_count": 8,
   "id": "45d70e7b",
   "metadata": {},
   "outputs": [
    {
     "data": {
      "text/plain": [
       "10.099883855981417"
      ]
     },
     "execution_count": 8,
     "metadata": {},
     "output_type": "execute_result"
    }
   ],
   "source": [
    "data['total_income'].isna().mean()*100"
   ]
  },
  {
   "cell_type": "code",
   "execution_count": 9,
   "id": "e990c12c",
   "metadata": {
    "scrolled": true
   },
   "outputs": [
    {
     "name": "stdout",
     "output_type": "stream",
     "text": [
      "20667.26379327158\n",
      "2265604.028722744\n",
      "167422.30220817294\n",
      "145017.93753253992\n",
      "22404.364675633027\n"
     ]
    }
   ],
   "source": [
    "print(data['total_income'].min())\n",
    "print(data['total_income'].max())\n",
    "print(data['total_income'].mean())\n",
    "print(data['total_income'].median())\n",
    "print(data['total_income'].mean() - data['total_income'].median())"
   ]
  },
  {
   "cell_type": "markdown",
   "id": "5aa1dad8",
   "metadata": {},
   "source": [
    "Мы нашли два столбца с пропущенными значениями - total_income и days_employed. В обоих столбцах пропущенные значения совпадают по строкам, количеству и доле. Скорее всего, люди просто не предоставили информации о своем месте работы, поэтому мы не видим ни зарплаты ни стажа. В столбце days_employed значения стали отрицательными, наверняка это техническая ошибка. Мы видим что минимальное и максимальное значение в столбце total_income сильно различаются, поэтому медиана среднего дохода будет более репрезентативна чем среднее арифметическое(а по хорошему надо еще смотреть на дисперсию и нормальное распределение:)). Заполним медианой пропущенные значения."
   ]
  },
  {
   "cell_type": "code",
   "execution_count": 10,
   "id": "c523e38e",
   "metadata": {},
   "outputs": [
    {
     "name": "stdout",
     "output_type": "stream",
     "text": [
      "0\n"
     ]
    }
   ],
   "source": [
    "data['total_income'] = data['total_income'].fillna(data['total_income'].median())\n",
    "print(data['total_income'].isna().sum())"
   ]
  },
  {
   "cell_type": "markdown",
   "id": "999a17be",
   "metadata": {},
   "source": [
    "### Шаг 2.2 Проверка данных на аномалии и исправления."
   ]
  },
  {
   "cell_type": "code",
   "execution_count": 11,
   "id": "cf00d08a",
   "metadata": {
    "scrolled": false
   },
   "outputs": [
    {
     "name": "stdout",
     "output_type": "stream",
     "text": [
      "0         -8437.673028\n",
      "1         -4024.803754\n",
      "2         -5623.422610\n",
      "3         -4124.747207\n",
      "4        340266.072047\n",
      "             ...      \n",
      "21520     -4529.316663\n",
      "21521    343937.404131\n",
      "21522     -2113.346888\n",
      "21523     -3112.481705\n",
      "21524     -1984.507589\n",
      "Name: days_employed, Length: 21525, dtype: float64\n",
      "2174\n"
     ]
    }
   ],
   "source": [
    "print(data['days_employed'])\n",
    "print(data['days_employed'].isna().sum())"
   ]
  },
  {
   "cell_type": "code",
   "execution_count": 12,
   "id": "73ae9c18",
   "metadata": {
    "scrolled": true
   },
   "outputs": [
    {
     "data": {
      "text/plain": [
       "children\n",
       " 0     14149\n",
       " 1      4818\n",
       " 2      2055\n",
       " 3       330\n",
       " 20       76\n",
       "-1        47\n",
       " 4        41\n",
       " 5         9\n",
       "dtype: int64"
      ]
     },
     "execution_count": 12,
     "metadata": {},
     "output_type": "execute_result"
    }
   ],
   "source": [
    "data.value_counts('children')"
   ]
  },
  {
   "cell_type": "markdown",
   "id": "09ae5fbc",
   "metadata": {},
   "source": [
    "В столбце children есть значение -1. Невозможно понять это опечатка или какая то техническая ошибка, проще удалить эти строки - их всего 47."
   ]
  },
  {
   "cell_type": "code",
   "execution_count": 13,
   "id": "0830ff5e",
   "metadata": {
    "scrolled": true
   },
   "outputs": [
    {
     "data": {
      "text/html": [
       "<div>\n",
       "<style scoped>\n",
       "    .dataframe tbody tr th:only-of-type {\n",
       "        vertical-align: middle;\n",
       "    }\n",
       "\n",
       "    .dataframe tbody tr th {\n",
       "        vertical-align: top;\n",
       "    }\n",
       "\n",
       "    .dataframe thead th {\n",
       "        text-align: right;\n",
       "    }\n",
       "</style>\n",
       "<table border=\"1\" class=\"dataframe\">\n",
       "  <thead>\n",
       "    <tr style=\"text-align: right;\">\n",
       "      <th></th>\n",
       "      <th>index</th>\n",
       "      <th>children</th>\n",
       "      <th>days_employed</th>\n",
       "      <th>dob_years</th>\n",
       "      <th>education</th>\n",
       "      <th>education_id</th>\n",
       "      <th>family_status</th>\n",
       "      <th>family_status_id</th>\n",
       "      <th>gender</th>\n",
       "      <th>income_type</th>\n",
       "      <th>debt</th>\n",
       "      <th>total_income</th>\n",
       "      <th>purpose</th>\n",
       "    </tr>\n",
       "  </thead>\n",
       "  <tbody>\n",
       "    <tr>\n",
       "      <th>0</th>\n",
       "      <td>0</td>\n",
       "      <td>1</td>\n",
       "      <td>-8437.673028</td>\n",
       "      <td>42</td>\n",
       "      <td>высшее</td>\n",
       "      <td>0</td>\n",
       "      <td>женат / замужем</td>\n",
       "      <td>0</td>\n",
       "      <td>F</td>\n",
       "      <td>сотрудник</td>\n",
       "      <td>0</td>\n",
       "      <td>253875.639453</td>\n",
       "      <td>покупка жилья</td>\n",
       "    </tr>\n",
       "    <tr>\n",
       "      <th>1</th>\n",
       "      <td>1</td>\n",
       "      <td>1</td>\n",
       "      <td>-4024.803754</td>\n",
       "      <td>36</td>\n",
       "      <td>среднее</td>\n",
       "      <td>1</td>\n",
       "      <td>женат / замужем</td>\n",
       "      <td>0</td>\n",
       "      <td>F</td>\n",
       "      <td>сотрудник</td>\n",
       "      <td>0</td>\n",
       "      <td>112080.014102</td>\n",
       "      <td>приобретение автомобиля</td>\n",
       "    </tr>\n",
       "    <tr>\n",
       "      <th>2</th>\n",
       "      <td>2</td>\n",
       "      <td>0</td>\n",
       "      <td>-5623.422610</td>\n",
       "      <td>33</td>\n",
       "      <td>Среднее</td>\n",
       "      <td>1</td>\n",
       "      <td>женат / замужем</td>\n",
       "      <td>0</td>\n",
       "      <td>M</td>\n",
       "      <td>сотрудник</td>\n",
       "      <td>0</td>\n",
       "      <td>145885.952297</td>\n",
       "      <td>покупка жилья</td>\n",
       "    </tr>\n",
       "    <tr>\n",
       "      <th>3</th>\n",
       "      <td>3</td>\n",
       "      <td>3</td>\n",
       "      <td>-4124.747207</td>\n",
       "      <td>32</td>\n",
       "      <td>среднее</td>\n",
       "      <td>1</td>\n",
       "      <td>женат / замужем</td>\n",
       "      <td>0</td>\n",
       "      <td>M</td>\n",
       "      <td>сотрудник</td>\n",
       "      <td>0</td>\n",
       "      <td>267628.550329</td>\n",
       "      <td>дополнительное образование</td>\n",
       "    </tr>\n",
       "    <tr>\n",
       "      <th>4</th>\n",
       "      <td>4</td>\n",
       "      <td>0</td>\n",
       "      <td>340266.072047</td>\n",
       "      <td>53</td>\n",
       "      <td>среднее</td>\n",
       "      <td>1</td>\n",
       "      <td>гражданский брак</td>\n",
       "      <td>1</td>\n",
       "      <td>F</td>\n",
       "      <td>пенсионер</td>\n",
       "      <td>0</td>\n",
       "      <td>158616.077870</td>\n",
       "      <td>сыграть свадьбу</td>\n",
       "    </tr>\n",
       "    <tr>\n",
       "      <th>...</th>\n",
       "      <td>...</td>\n",
       "      <td>...</td>\n",
       "      <td>...</td>\n",
       "      <td>...</td>\n",
       "      <td>...</td>\n",
       "      <td>...</td>\n",
       "      <td>...</td>\n",
       "      <td>...</td>\n",
       "      <td>...</td>\n",
       "      <td>...</td>\n",
       "      <td>...</td>\n",
       "      <td>...</td>\n",
       "      <td>...</td>\n",
       "    </tr>\n",
       "    <tr>\n",
       "      <th>21473</th>\n",
       "      <td>21520</td>\n",
       "      <td>1</td>\n",
       "      <td>-4529.316663</td>\n",
       "      <td>43</td>\n",
       "      <td>среднее</td>\n",
       "      <td>1</td>\n",
       "      <td>гражданский брак</td>\n",
       "      <td>1</td>\n",
       "      <td>F</td>\n",
       "      <td>компаньон</td>\n",
       "      <td>0</td>\n",
       "      <td>224791.862382</td>\n",
       "      <td>операции с жильем</td>\n",
       "    </tr>\n",
       "    <tr>\n",
       "      <th>21474</th>\n",
       "      <td>21521</td>\n",
       "      <td>0</td>\n",
       "      <td>343937.404131</td>\n",
       "      <td>67</td>\n",
       "      <td>среднее</td>\n",
       "      <td>1</td>\n",
       "      <td>женат / замужем</td>\n",
       "      <td>0</td>\n",
       "      <td>F</td>\n",
       "      <td>пенсионер</td>\n",
       "      <td>0</td>\n",
       "      <td>155999.806512</td>\n",
       "      <td>сделка с автомобилем</td>\n",
       "    </tr>\n",
       "    <tr>\n",
       "      <th>21475</th>\n",
       "      <td>21522</td>\n",
       "      <td>1</td>\n",
       "      <td>-2113.346888</td>\n",
       "      <td>38</td>\n",
       "      <td>среднее</td>\n",
       "      <td>1</td>\n",
       "      <td>гражданский брак</td>\n",
       "      <td>1</td>\n",
       "      <td>M</td>\n",
       "      <td>сотрудник</td>\n",
       "      <td>1</td>\n",
       "      <td>89672.561153</td>\n",
       "      <td>недвижимость</td>\n",
       "    </tr>\n",
       "    <tr>\n",
       "      <th>21476</th>\n",
       "      <td>21523</td>\n",
       "      <td>3</td>\n",
       "      <td>-3112.481705</td>\n",
       "      <td>38</td>\n",
       "      <td>среднее</td>\n",
       "      <td>1</td>\n",
       "      <td>женат / замужем</td>\n",
       "      <td>0</td>\n",
       "      <td>M</td>\n",
       "      <td>сотрудник</td>\n",
       "      <td>1</td>\n",
       "      <td>244093.050500</td>\n",
       "      <td>на покупку своего автомобиля</td>\n",
       "    </tr>\n",
       "    <tr>\n",
       "      <th>21477</th>\n",
       "      <td>21524</td>\n",
       "      <td>2</td>\n",
       "      <td>-1984.507589</td>\n",
       "      <td>40</td>\n",
       "      <td>среднее</td>\n",
       "      <td>1</td>\n",
       "      <td>женат / замужем</td>\n",
       "      <td>0</td>\n",
       "      <td>F</td>\n",
       "      <td>сотрудник</td>\n",
       "      <td>0</td>\n",
       "      <td>82047.418899</td>\n",
       "      <td>на покупку автомобиля</td>\n",
       "    </tr>\n",
       "  </tbody>\n",
       "</table>\n",
       "<p>21478 rows × 13 columns</p>\n",
       "</div>"
      ],
      "text/plain": [
       "       index  children  days_employed  dob_years education  education_id  \\\n",
       "0          0         1   -8437.673028         42    высшее             0   \n",
       "1          1         1   -4024.803754         36   среднее             1   \n",
       "2          2         0   -5623.422610         33   Среднее             1   \n",
       "3          3         3   -4124.747207         32   среднее             1   \n",
       "4          4         0  340266.072047         53   среднее             1   \n",
       "...      ...       ...            ...        ...       ...           ...   \n",
       "21473  21520         1   -4529.316663         43   среднее             1   \n",
       "21474  21521         0  343937.404131         67   среднее             1   \n",
       "21475  21522         1   -2113.346888         38   среднее             1   \n",
       "21476  21523         3   -3112.481705         38   среднее             1   \n",
       "21477  21524         2   -1984.507589         40   среднее             1   \n",
       "\n",
       "          family_status  family_status_id gender income_type  debt  \\\n",
       "0       женат / замужем                 0      F   сотрудник     0   \n",
       "1       женат / замужем                 0      F   сотрудник     0   \n",
       "2       женат / замужем                 0      M   сотрудник     0   \n",
       "3       женат / замужем                 0      M   сотрудник     0   \n",
       "4      гражданский брак                 1      F   пенсионер     0   \n",
       "...                 ...               ...    ...         ...   ...   \n",
       "21473  гражданский брак                 1      F   компаньон     0   \n",
       "21474   женат / замужем                 0      F   пенсионер     0   \n",
       "21475  гражданский брак                 1      M   сотрудник     1   \n",
       "21476   женат / замужем                 0      M   сотрудник     1   \n",
       "21477   женат / замужем                 0      F   сотрудник     0   \n",
       "\n",
       "        total_income                       purpose  \n",
       "0      253875.639453                 покупка жилья  \n",
       "1      112080.014102       приобретение автомобиля  \n",
       "2      145885.952297                 покупка жилья  \n",
       "3      267628.550329    дополнительное образование  \n",
       "4      158616.077870               сыграть свадьбу  \n",
       "...              ...                           ...  \n",
       "21473  224791.862382             операции с жильем  \n",
       "21474  155999.806512          сделка с автомобилем  \n",
       "21475   89672.561153                  недвижимость  \n",
       "21476  244093.050500  на покупку своего автомобиля  \n",
       "21477   82047.418899         на покупку автомобиля  \n",
       "\n",
       "[21478 rows x 13 columns]"
      ]
     },
     "execution_count": 13,
     "metadata": {},
     "output_type": "execute_result"
    }
   ],
   "source": [
    "data = data[data['children'] != -1]\n",
    "data.reset_index()"
   ]
  },
  {
   "cell_type": "markdown",
   "id": "efe26d3e",
   "metadata": {},
   "source": [
    "20 детей это тоже странно, посмотрим на этих клиентов."
   ]
  },
  {
   "cell_type": "code",
   "execution_count": 14,
   "id": "dcce0f5c",
   "metadata": {
    "scrolled": true
   },
   "outputs": [
    {
     "data": {
      "text/html": [
       "<div>\n",
       "<style scoped>\n",
       "    .dataframe tbody tr th:only-of-type {\n",
       "        vertical-align: middle;\n",
       "    }\n",
       "\n",
       "    .dataframe tbody tr th {\n",
       "        vertical-align: top;\n",
       "    }\n",
       "\n",
       "    .dataframe thead th {\n",
       "        text-align: right;\n",
       "    }\n",
       "</style>\n",
       "<table border=\"1\" class=\"dataframe\">\n",
       "  <thead>\n",
       "    <tr style=\"text-align: right;\">\n",
       "      <th></th>\n",
       "      <th>children</th>\n",
       "      <th>days_employed</th>\n",
       "      <th>dob_years</th>\n",
       "      <th>education</th>\n",
       "      <th>education_id</th>\n",
       "      <th>family_status</th>\n",
       "      <th>family_status_id</th>\n",
       "      <th>gender</th>\n",
       "      <th>income_type</th>\n",
       "      <th>debt</th>\n",
       "      <th>total_income</th>\n",
       "      <th>purpose</th>\n",
       "    </tr>\n",
       "  </thead>\n",
       "  <tbody>\n",
       "    <tr>\n",
       "      <th>606</th>\n",
       "      <td>20</td>\n",
       "      <td>-880.221113</td>\n",
       "      <td>21</td>\n",
       "      <td>среднее</td>\n",
       "      <td>1</td>\n",
       "      <td>женат / замужем</td>\n",
       "      <td>0</td>\n",
       "      <td>M</td>\n",
       "      <td>компаньон</td>\n",
       "      <td>0</td>\n",
       "      <td>145334.865002</td>\n",
       "      <td>покупка жилья</td>\n",
       "    </tr>\n",
       "    <tr>\n",
       "      <th>720</th>\n",
       "      <td>20</td>\n",
       "      <td>-855.595512</td>\n",
       "      <td>44</td>\n",
       "      <td>среднее</td>\n",
       "      <td>1</td>\n",
       "      <td>женат / замужем</td>\n",
       "      <td>0</td>\n",
       "      <td>F</td>\n",
       "      <td>компаньон</td>\n",
       "      <td>0</td>\n",
       "      <td>112998.738649</td>\n",
       "      <td>покупка недвижимости</td>\n",
       "    </tr>\n",
       "    <tr>\n",
       "      <th>1074</th>\n",
       "      <td>20</td>\n",
       "      <td>-3310.411598</td>\n",
       "      <td>56</td>\n",
       "      <td>среднее</td>\n",
       "      <td>1</td>\n",
       "      <td>женат / замужем</td>\n",
       "      <td>0</td>\n",
       "      <td>F</td>\n",
       "      <td>сотрудник</td>\n",
       "      <td>1</td>\n",
       "      <td>229518.537004</td>\n",
       "      <td>получение образования</td>\n",
       "    </tr>\n",
       "    <tr>\n",
       "      <th>2510</th>\n",
       "      <td>20</td>\n",
       "      <td>-2714.161249</td>\n",
       "      <td>59</td>\n",
       "      <td>высшее</td>\n",
       "      <td>0</td>\n",
       "      <td>вдовец / вдова</td>\n",
       "      <td>2</td>\n",
       "      <td>F</td>\n",
       "      <td>сотрудник</td>\n",
       "      <td>0</td>\n",
       "      <td>264474.835577</td>\n",
       "      <td>операции с коммерческой недвижимостью</td>\n",
       "    </tr>\n",
       "    <tr>\n",
       "      <th>2941</th>\n",
       "      <td>20</td>\n",
       "      <td>-2161.591519</td>\n",
       "      <td>0</td>\n",
       "      <td>среднее</td>\n",
       "      <td>1</td>\n",
       "      <td>женат / замужем</td>\n",
       "      <td>0</td>\n",
       "      <td>F</td>\n",
       "      <td>сотрудник</td>\n",
       "      <td>0</td>\n",
       "      <td>199739.941398</td>\n",
       "      <td>на покупку автомобиля</td>\n",
       "    </tr>\n",
       "    <tr>\n",
       "      <th>...</th>\n",
       "      <td>...</td>\n",
       "      <td>...</td>\n",
       "      <td>...</td>\n",
       "      <td>...</td>\n",
       "      <td>...</td>\n",
       "      <td>...</td>\n",
       "      <td>...</td>\n",
       "      <td>...</td>\n",
       "      <td>...</td>\n",
       "      <td>...</td>\n",
       "      <td>...</td>\n",
       "      <td>...</td>\n",
       "    </tr>\n",
       "    <tr>\n",
       "      <th>21008</th>\n",
       "      <td>20</td>\n",
       "      <td>-1240.257910</td>\n",
       "      <td>40</td>\n",
       "      <td>среднее</td>\n",
       "      <td>1</td>\n",
       "      <td>женат / замужем</td>\n",
       "      <td>0</td>\n",
       "      <td>F</td>\n",
       "      <td>сотрудник</td>\n",
       "      <td>1</td>\n",
       "      <td>133524.010303</td>\n",
       "      <td>свой автомобиль</td>\n",
       "    </tr>\n",
       "    <tr>\n",
       "      <th>21325</th>\n",
       "      <td>20</td>\n",
       "      <td>-601.174883</td>\n",
       "      <td>37</td>\n",
       "      <td>среднее</td>\n",
       "      <td>1</td>\n",
       "      <td>женат / замужем</td>\n",
       "      <td>0</td>\n",
       "      <td>F</td>\n",
       "      <td>компаньон</td>\n",
       "      <td>0</td>\n",
       "      <td>102986.065978</td>\n",
       "      <td>профильное образование</td>\n",
       "    </tr>\n",
       "    <tr>\n",
       "      <th>21390</th>\n",
       "      <td>20</td>\n",
       "      <td>NaN</td>\n",
       "      <td>53</td>\n",
       "      <td>среднее</td>\n",
       "      <td>1</td>\n",
       "      <td>женат / замужем</td>\n",
       "      <td>0</td>\n",
       "      <td>M</td>\n",
       "      <td>компаньон</td>\n",
       "      <td>0</td>\n",
       "      <td>145017.937533</td>\n",
       "      <td>покупка жилой недвижимости</td>\n",
       "    </tr>\n",
       "    <tr>\n",
       "      <th>21404</th>\n",
       "      <td>20</td>\n",
       "      <td>-494.788448</td>\n",
       "      <td>52</td>\n",
       "      <td>среднее</td>\n",
       "      <td>1</td>\n",
       "      <td>женат / замужем</td>\n",
       "      <td>0</td>\n",
       "      <td>M</td>\n",
       "      <td>компаньон</td>\n",
       "      <td>0</td>\n",
       "      <td>156629.683642</td>\n",
       "      <td>операции со своей недвижимостью</td>\n",
       "    </tr>\n",
       "    <tr>\n",
       "      <th>21491</th>\n",
       "      <td>20</td>\n",
       "      <td>-173.954460</td>\n",
       "      <td>27</td>\n",
       "      <td>среднее</td>\n",
       "      <td>1</td>\n",
       "      <td>женат / замужем</td>\n",
       "      <td>0</td>\n",
       "      <td>F</td>\n",
       "      <td>сотрудник</td>\n",
       "      <td>0</td>\n",
       "      <td>155520.899688</td>\n",
       "      <td>на покупку подержанного автомобиля</td>\n",
       "    </tr>\n",
       "  </tbody>\n",
       "</table>\n",
       "<p>76 rows × 12 columns</p>\n",
       "</div>"
      ],
      "text/plain": [
       "       children  days_employed  dob_years education  education_id  \\\n",
       "606          20    -880.221113         21   среднее             1   \n",
       "720          20    -855.595512         44   среднее             1   \n",
       "1074         20   -3310.411598         56   среднее             1   \n",
       "2510         20   -2714.161249         59    высшее             0   \n",
       "2941         20   -2161.591519          0   среднее             1   \n",
       "...         ...            ...        ...       ...           ...   \n",
       "21008        20   -1240.257910         40   среднее             1   \n",
       "21325        20    -601.174883         37   среднее             1   \n",
       "21390        20            NaN         53   среднее             1   \n",
       "21404        20    -494.788448         52   среднее             1   \n",
       "21491        20    -173.954460         27   среднее             1   \n",
       "\n",
       "         family_status  family_status_id gender income_type  debt  \\\n",
       "606    женат / замужем                 0      M   компаньон     0   \n",
       "720    женат / замужем                 0      F   компаньон     0   \n",
       "1074   женат / замужем                 0      F   сотрудник     1   \n",
       "2510    вдовец / вдова                 2      F   сотрудник     0   \n",
       "2941   женат / замужем                 0      F   сотрудник     0   \n",
       "...                ...               ...    ...         ...   ...   \n",
       "21008  женат / замужем                 0      F   сотрудник     1   \n",
       "21325  женат / замужем                 0      F   компаньон     0   \n",
       "21390  женат / замужем                 0      M   компаньон     0   \n",
       "21404  женат / замужем                 0      M   компаньон     0   \n",
       "21491  женат / замужем                 0      F   сотрудник     0   \n",
       "\n",
       "        total_income                                purpose  \n",
       "606    145334.865002                          покупка жилья  \n",
       "720    112998.738649                   покупка недвижимости  \n",
       "1074   229518.537004                  получение образования  \n",
       "2510   264474.835577  операции с коммерческой недвижимостью  \n",
       "2941   199739.941398                  на покупку автомобиля  \n",
       "...              ...                                    ...  \n",
       "21008  133524.010303                        свой автомобиль  \n",
       "21325  102986.065978                 профильное образование  \n",
       "21390  145017.937533             покупка жилой недвижимости  \n",
       "21404  156629.683642        операции со своей недвижимостью  \n",
       "21491  155520.899688     на покупку подержанного автомобиля  \n",
       "\n",
       "[76 rows x 12 columns]"
      ]
     },
     "execution_count": 14,
     "metadata": {},
     "output_type": "execute_result"
    }
   ],
   "source": [
    "data.query('children == 20')"
   ]
  },
  {
   "cell_type": "markdown",
   "id": "688975fa",
   "metadata": {},
   "source": [
    "20 - это тоже не реалистичное число, особенно учитывая отсутствие значений 6-19."
   ]
  },
  {
   "cell_type": "code",
   "execution_count": 15,
   "id": "4b65f710",
   "metadata": {},
   "outputs": [
    {
     "data": {
      "text/html": [
       "<div>\n",
       "<style scoped>\n",
       "    .dataframe tbody tr th:only-of-type {\n",
       "        vertical-align: middle;\n",
       "    }\n",
       "\n",
       "    .dataframe tbody tr th {\n",
       "        vertical-align: top;\n",
       "    }\n",
       "\n",
       "    .dataframe thead th {\n",
       "        text-align: right;\n",
       "    }\n",
       "</style>\n",
       "<table border=\"1\" class=\"dataframe\">\n",
       "  <thead>\n",
       "    <tr style=\"text-align: right;\">\n",
       "      <th></th>\n",
       "      <th>index</th>\n",
       "      <th>children</th>\n",
       "      <th>days_employed</th>\n",
       "      <th>dob_years</th>\n",
       "      <th>education</th>\n",
       "      <th>education_id</th>\n",
       "      <th>family_status</th>\n",
       "      <th>family_status_id</th>\n",
       "      <th>gender</th>\n",
       "      <th>income_type</th>\n",
       "      <th>debt</th>\n",
       "      <th>total_income</th>\n",
       "      <th>purpose</th>\n",
       "    </tr>\n",
       "  </thead>\n",
       "  <tbody>\n",
       "    <tr>\n",
       "      <th>0</th>\n",
       "      <td>0</td>\n",
       "      <td>1</td>\n",
       "      <td>-8437.673028</td>\n",
       "      <td>42</td>\n",
       "      <td>высшее</td>\n",
       "      <td>0</td>\n",
       "      <td>женат / замужем</td>\n",
       "      <td>0</td>\n",
       "      <td>F</td>\n",
       "      <td>сотрудник</td>\n",
       "      <td>0</td>\n",
       "      <td>253875.639453</td>\n",
       "      <td>покупка жилья</td>\n",
       "    </tr>\n",
       "    <tr>\n",
       "      <th>1</th>\n",
       "      <td>1</td>\n",
       "      <td>1</td>\n",
       "      <td>-4024.803754</td>\n",
       "      <td>36</td>\n",
       "      <td>среднее</td>\n",
       "      <td>1</td>\n",
       "      <td>женат / замужем</td>\n",
       "      <td>0</td>\n",
       "      <td>F</td>\n",
       "      <td>сотрудник</td>\n",
       "      <td>0</td>\n",
       "      <td>112080.014102</td>\n",
       "      <td>приобретение автомобиля</td>\n",
       "    </tr>\n",
       "    <tr>\n",
       "      <th>2</th>\n",
       "      <td>2</td>\n",
       "      <td>0</td>\n",
       "      <td>-5623.422610</td>\n",
       "      <td>33</td>\n",
       "      <td>Среднее</td>\n",
       "      <td>1</td>\n",
       "      <td>женат / замужем</td>\n",
       "      <td>0</td>\n",
       "      <td>M</td>\n",
       "      <td>сотрудник</td>\n",
       "      <td>0</td>\n",
       "      <td>145885.952297</td>\n",
       "      <td>покупка жилья</td>\n",
       "    </tr>\n",
       "    <tr>\n",
       "      <th>3</th>\n",
       "      <td>3</td>\n",
       "      <td>3</td>\n",
       "      <td>-4124.747207</td>\n",
       "      <td>32</td>\n",
       "      <td>среднее</td>\n",
       "      <td>1</td>\n",
       "      <td>женат / замужем</td>\n",
       "      <td>0</td>\n",
       "      <td>M</td>\n",
       "      <td>сотрудник</td>\n",
       "      <td>0</td>\n",
       "      <td>267628.550329</td>\n",
       "      <td>дополнительное образование</td>\n",
       "    </tr>\n",
       "    <tr>\n",
       "      <th>4</th>\n",
       "      <td>4</td>\n",
       "      <td>0</td>\n",
       "      <td>340266.072047</td>\n",
       "      <td>53</td>\n",
       "      <td>среднее</td>\n",
       "      <td>1</td>\n",
       "      <td>гражданский брак</td>\n",
       "      <td>1</td>\n",
       "      <td>F</td>\n",
       "      <td>пенсионер</td>\n",
       "      <td>0</td>\n",
       "      <td>158616.077870</td>\n",
       "      <td>сыграть свадьбу</td>\n",
       "    </tr>\n",
       "    <tr>\n",
       "      <th>...</th>\n",
       "      <td>...</td>\n",
       "      <td>...</td>\n",
       "      <td>...</td>\n",
       "      <td>...</td>\n",
       "      <td>...</td>\n",
       "      <td>...</td>\n",
       "      <td>...</td>\n",
       "      <td>...</td>\n",
       "      <td>...</td>\n",
       "      <td>...</td>\n",
       "      <td>...</td>\n",
       "      <td>...</td>\n",
       "      <td>...</td>\n",
       "    </tr>\n",
       "    <tr>\n",
       "      <th>21397</th>\n",
       "      <td>21520</td>\n",
       "      <td>1</td>\n",
       "      <td>-4529.316663</td>\n",
       "      <td>43</td>\n",
       "      <td>среднее</td>\n",
       "      <td>1</td>\n",
       "      <td>гражданский брак</td>\n",
       "      <td>1</td>\n",
       "      <td>F</td>\n",
       "      <td>компаньон</td>\n",
       "      <td>0</td>\n",
       "      <td>224791.862382</td>\n",
       "      <td>операции с жильем</td>\n",
       "    </tr>\n",
       "    <tr>\n",
       "      <th>21398</th>\n",
       "      <td>21521</td>\n",
       "      <td>0</td>\n",
       "      <td>343937.404131</td>\n",
       "      <td>67</td>\n",
       "      <td>среднее</td>\n",
       "      <td>1</td>\n",
       "      <td>женат / замужем</td>\n",
       "      <td>0</td>\n",
       "      <td>F</td>\n",
       "      <td>пенсионер</td>\n",
       "      <td>0</td>\n",
       "      <td>155999.806512</td>\n",
       "      <td>сделка с автомобилем</td>\n",
       "    </tr>\n",
       "    <tr>\n",
       "      <th>21399</th>\n",
       "      <td>21522</td>\n",
       "      <td>1</td>\n",
       "      <td>-2113.346888</td>\n",
       "      <td>38</td>\n",
       "      <td>среднее</td>\n",
       "      <td>1</td>\n",
       "      <td>гражданский брак</td>\n",
       "      <td>1</td>\n",
       "      <td>M</td>\n",
       "      <td>сотрудник</td>\n",
       "      <td>1</td>\n",
       "      <td>89672.561153</td>\n",
       "      <td>недвижимость</td>\n",
       "    </tr>\n",
       "    <tr>\n",
       "      <th>21400</th>\n",
       "      <td>21523</td>\n",
       "      <td>3</td>\n",
       "      <td>-3112.481705</td>\n",
       "      <td>38</td>\n",
       "      <td>среднее</td>\n",
       "      <td>1</td>\n",
       "      <td>женат / замужем</td>\n",
       "      <td>0</td>\n",
       "      <td>M</td>\n",
       "      <td>сотрудник</td>\n",
       "      <td>1</td>\n",
       "      <td>244093.050500</td>\n",
       "      <td>на покупку своего автомобиля</td>\n",
       "    </tr>\n",
       "    <tr>\n",
       "      <th>21401</th>\n",
       "      <td>21524</td>\n",
       "      <td>2</td>\n",
       "      <td>-1984.507589</td>\n",
       "      <td>40</td>\n",
       "      <td>среднее</td>\n",
       "      <td>1</td>\n",
       "      <td>женат / замужем</td>\n",
       "      <td>0</td>\n",
       "      <td>F</td>\n",
       "      <td>сотрудник</td>\n",
       "      <td>0</td>\n",
       "      <td>82047.418899</td>\n",
       "      <td>на покупку автомобиля</td>\n",
       "    </tr>\n",
       "  </tbody>\n",
       "</table>\n",
       "<p>21402 rows × 13 columns</p>\n",
       "</div>"
      ],
      "text/plain": [
       "       index  children  days_employed  dob_years education  education_id  \\\n",
       "0          0         1   -8437.673028         42    высшее             0   \n",
       "1          1         1   -4024.803754         36   среднее             1   \n",
       "2          2         0   -5623.422610         33   Среднее             1   \n",
       "3          3         3   -4124.747207         32   среднее             1   \n",
       "4          4         0  340266.072047         53   среднее             1   \n",
       "...      ...       ...            ...        ...       ...           ...   \n",
       "21397  21520         1   -4529.316663         43   среднее             1   \n",
       "21398  21521         0  343937.404131         67   среднее             1   \n",
       "21399  21522         1   -2113.346888         38   среднее             1   \n",
       "21400  21523         3   -3112.481705         38   среднее             1   \n",
       "21401  21524         2   -1984.507589         40   среднее             1   \n",
       "\n",
       "          family_status  family_status_id gender income_type  debt  \\\n",
       "0       женат / замужем                 0      F   сотрудник     0   \n",
       "1       женат / замужем                 0      F   сотрудник     0   \n",
       "2       женат / замужем                 0      M   сотрудник     0   \n",
       "3       женат / замужем                 0      M   сотрудник     0   \n",
       "4      гражданский брак                 1      F   пенсионер     0   \n",
       "...                 ...               ...    ...         ...   ...   \n",
       "21397  гражданский брак                 1      F   компаньон     0   \n",
       "21398   женат / замужем                 0      F   пенсионер     0   \n",
       "21399  гражданский брак                 1      M   сотрудник     1   \n",
       "21400   женат / замужем                 0      M   сотрудник     1   \n",
       "21401   женат / замужем                 0      F   сотрудник     0   \n",
       "\n",
       "        total_income                       purpose  \n",
       "0      253875.639453                 покупка жилья  \n",
       "1      112080.014102       приобретение автомобиля  \n",
       "2      145885.952297                 покупка жилья  \n",
       "3      267628.550329    дополнительное образование  \n",
       "4      158616.077870               сыграть свадьбу  \n",
       "...              ...                           ...  \n",
       "21397  224791.862382             операции с жильем  \n",
       "21398  155999.806512          сделка с автомобилем  \n",
       "21399   89672.561153                  недвижимость  \n",
       "21400  244093.050500  на покупку своего автомобиля  \n",
       "21401   82047.418899         на покупку автомобиля  \n",
       "\n",
       "[21402 rows x 13 columns]"
      ]
     },
     "execution_count": 15,
     "metadata": {},
     "output_type": "execute_result"
    }
   ],
   "source": [
    "data = data[data['children'] != 20]\n",
    "data.reset_index()"
   ]
  },
  {
   "cell_type": "code",
   "execution_count": 16,
   "id": "cd363412",
   "metadata": {
    "scrolled": false
   },
   "outputs": [
    {
     "name": "stdout",
     "output_type": "stream",
     "text": [
      "24.14163324048118\n",
      "401755.40047533\n"
     ]
    }
   ],
   "source": [
    "data['days_employed'] = data['days_employed'].abs()\n",
    "print(data['days_employed'].min())\n",
    "print(data['days_employed'].max())"
   ]
  },
  {
   "cell_type": "markdown",
   "id": "14f7d02f",
   "metadata": {},
   "source": [
    "Разброс стажа тоже достаточно большой, поэтому и в этом случае мы заполним пропуски медианой."
   ]
  },
  {
   "cell_type": "code",
   "execution_count": 17,
   "id": "734f5715",
   "metadata": {
    "scrolled": true
   },
   "outputs": [
    {
     "name": "stdout",
     "output_type": "stream",
     "text": [
      "0\n"
     ]
    }
   ],
   "source": [
    "data['days_employed'] = data['days_employed'].fillna(data['days_employed'].median())\n",
    "print(data['days_employed'].isna().sum())"
   ]
  },
  {
   "cell_type": "code",
   "execution_count": 18,
   "id": "cc91d7eb",
   "metadata": {
    "scrolled": true
   },
   "outputs": [
    {
     "data": {
      "text/plain": [
       "F      14154\n",
       "M       7247\n",
       "XNA        1\n",
       "Name: gender, dtype: int64"
      ]
     },
     "execution_count": 18,
     "metadata": {},
     "output_type": "execute_result"
    }
   ],
   "source": [
    "data['gender'].value_counts()"
   ]
  },
  {
   "cell_type": "markdown",
   "id": "514852c5",
   "metadata": {},
   "source": [
    " Гендер XNA? Будем считать что это nonbinary gender -_-"
   ]
  },
  {
   "cell_type": "markdown",
   "id": "7b8f1cb8",
   "metadata": {},
   "source": [
    "### Шаг 2.3. Изменение типов данных."
   ]
  },
  {
   "cell_type": "markdown",
   "id": "2d3f257d",
   "metadata": {},
   "source": [
    "В целях оптимизации данных изменим тип данных days_employed и total_income на int."
   ]
  },
  {
   "cell_type": "code",
   "execution_count": 19,
   "id": "60b69dc8",
   "metadata": {},
   "outputs": [
    {
     "name": "stdout",
     "output_type": "stream",
     "text": [
      "<class 'pandas.core.frame.DataFrame'>\n",
      "Int64Index: 21402 entries, 0 to 21524\n",
      "Data columns (total 12 columns):\n",
      " #   Column            Non-Null Count  Dtype \n",
      "---  ------            --------------  ----- \n",
      " 0   children          21402 non-null  int64 \n",
      " 1   days_employed     21402 non-null  int64 \n",
      " 2   dob_years         21402 non-null  int64 \n",
      " 3   education         21402 non-null  object\n",
      " 4   education_id      21402 non-null  int64 \n",
      " 5   family_status     21402 non-null  object\n",
      " 6   family_status_id  21402 non-null  int64 \n",
      " 7   gender            21402 non-null  object\n",
      " 8   income_type       21402 non-null  object\n",
      " 9   debt              21402 non-null  int64 \n",
      " 10  total_income      21402 non-null  int64 \n",
      " 11  purpose           21402 non-null  object\n",
      "dtypes: int64(7), object(5)\n",
      "memory usage: 2.1+ MB\n"
     ]
    }
   ],
   "source": [
    "data['days_employed'] = data['days_employed'].astype(int)\n",
    "data['total_income'] = data['total_income'].astype(int)\n",
    "data.info()"
   ]
  },
  {
   "cell_type": "code",
   "execution_count": 20,
   "id": "4275bd75",
   "metadata": {},
   "outputs": [
    {
     "name": "stdout",
     "output_type": "stream",
     "text": [
      "<class 'pandas.core.frame.DataFrame'>\n",
      "Int64Index: 21402 entries, 0 to 21524\n",
      "Data columns (total 12 columns):\n",
      " #   Column            Non-Null Count  Dtype \n",
      "---  ------            --------------  ----- \n",
      " 0   children          21402 non-null  int64 \n",
      " 1   days_employed     21402 non-null  int64 \n",
      " 2   dob_years         21402 non-null  int64 \n",
      " 3   education         21402 non-null  object\n",
      " 4   education_id      21402 non-null  int64 \n",
      " 5   family_status     21402 non-null  object\n",
      " 6   family_status_id  21402 non-null  int64 \n",
      " 7   gender            21402 non-null  object\n",
      " 8   income_type       21402 non-null  object\n",
      " 9   debt              21402 non-null  int64 \n",
      " 10  total_income      21402 non-null  int64 \n",
      " 11  purpose           21402 non-null  object\n",
      "dtypes: int64(7), object(5)\n",
      "memory usage: 2.1+ MB\n"
     ]
    }
   ],
   "source": [
    "data[data.select_dtypes(np.float64).columns] = data.select_dtypes(np.float64).astype(np.float32)\n",
    "data.info()"
   ]
  },
  {
   "cell_type": "markdown",
   "id": "72cdf82d",
   "metadata": {},
   "source": [
    "### Шаг 2.4. Удаление дубликатов."
   ]
  },
  {
   "cell_type": "code",
   "execution_count": 21,
   "id": "e238e514",
   "metadata": {},
   "outputs": [],
   "source": [
    "data = data.drop_duplicates().reset_index(drop=True)"
   ]
  },
  {
   "cell_type": "markdown",
   "id": "2fa3aadc",
   "metadata": {},
   "source": [
    "Приведем все значения к нижнему регистру."
   ]
  },
  {
   "cell_type": "markdown",
   "id": "0ec4700d",
   "metadata": {},
   "source": [
    "### Шаг 2.5. Формирование дополнительных датафреймов словарей, декомпозиция исходного датафрейма."
   ]
  },
  {
   "cell_type": "code",
   "execution_count": 30,
   "id": "b12e2c30",
   "metadata": {},
   "outputs": [
    {
     "data": {
      "text/html": [
       "<div>\n",
       "<style scoped>\n",
       "    .dataframe tbody tr th:only-of-type {\n",
       "        vertical-align: middle;\n",
       "    }\n",
       "\n",
       "    .dataframe tbody tr th {\n",
       "        vertical-align: top;\n",
       "    }\n",
       "\n",
       "    .dataframe thead th {\n",
       "        text-align: right;\n",
       "    }\n",
       "</style>\n",
       "<table border=\"1\" class=\"dataframe\">\n",
       "  <thead>\n",
       "    <tr style=\"text-align: right;\">\n",
       "      <th></th>\n",
       "      <th>education_id</th>\n",
       "      <th>education</th>\n",
       "    </tr>\n",
       "  </thead>\n",
       "  <tbody>\n",
       "    <tr>\n",
       "      <th>0</th>\n",
       "      <td>0</td>\n",
       "      <td>высшее</td>\n",
       "    </tr>\n",
       "    <tr>\n",
       "      <th>1</th>\n",
       "      <td>1</td>\n",
       "      <td>среднее</td>\n",
       "    </tr>\n",
       "    <tr>\n",
       "      <th>2</th>\n",
       "      <td>1</td>\n",
       "      <td>Среднее</td>\n",
       "    </tr>\n",
       "    <tr>\n",
       "      <th>3</th>\n",
       "      <td>1</td>\n",
       "      <td>СРЕДНЕЕ</td>\n",
       "    </tr>\n",
       "    <tr>\n",
       "      <th>4</th>\n",
       "      <td>0</td>\n",
       "      <td>ВЫСШЕЕ</td>\n",
       "    </tr>\n",
       "    <tr>\n",
       "      <th>5</th>\n",
       "      <td>2</td>\n",
       "      <td>неоконченное высшее</td>\n",
       "    </tr>\n",
       "    <tr>\n",
       "      <th>6</th>\n",
       "      <td>3</td>\n",
       "      <td>начальное</td>\n",
       "    </tr>\n",
       "    <tr>\n",
       "      <th>7</th>\n",
       "      <td>0</td>\n",
       "      <td>Высшее</td>\n",
       "    </tr>\n",
       "    <tr>\n",
       "      <th>8</th>\n",
       "      <td>2</td>\n",
       "      <td>НЕОКОНЧЕННОЕ ВЫСШЕЕ</td>\n",
       "    </tr>\n",
       "    <tr>\n",
       "      <th>9</th>\n",
       "      <td>2</td>\n",
       "      <td>Неоконченное высшее</td>\n",
       "    </tr>\n",
       "    <tr>\n",
       "      <th>10</th>\n",
       "      <td>3</td>\n",
       "      <td>НАЧАЛЬНОЕ</td>\n",
       "    </tr>\n",
       "    <tr>\n",
       "      <th>11</th>\n",
       "      <td>3</td>\n",
       "      <td>Начальное</td>\n",
       "    </tr>\n",
       "    <tr>\n",
       "      <th>12</th>\n",
       "      <td>4</td>\n",
       "      <td>Ученая степень</td>\n",
       "    </tr>\n",
       "    <tr>\n",
       "      <th>13</th>\n",
       "      <td>4</td>\n",
       "      <td>УЧЕНАЯ СТЕПЕНЬ</td>\n",
       "    </tr>\n",
       "    <tr>\n",
       "      <th>14</th>\n",
       "      <td>4</td>\n",
       "      <td>ученая степень</td>\n",
       "    </tr>\n",
       "  </tbody>\n",
       "</table>\n",
       "</div>"
      ],
      "text/plain": [
       "    education_id            education\n",
       "0              0               высшее\n",
       "1              1              среднее\n",
       "2              1              Среднее\n",
       "3              1              СРЕДНЕЕ\n",
       "4              0               ВЫСШЕЕ\n",
       "5              2  неоконченное высшее\n",
       "6              3            начальное\n",
       "7              0               Высшее\n",
       "8              2  НЕОКОНЧЕННОЕ ВЫСШЕЕ\n",
       "9              2  Неоконченное высшее\n",
       "10             3            НАЧАЛЬНОЕ\n",
       "11             3            Начальное\n",
       "12             4       Ученая степень\n",
       "13             4       УЧЕНАЯ СТЕПЕНЬ\n",
       "14             4       ученая степень"
      ]
     },
     "execution_count": 30,
     "metadata": {},
     "output_type": "execute_result"
    }
   ],
   "source": [
    "education = data[['education_id', 'education']]"
   ]
  },
  {
   "cell_type": "code",
   "execution_count": 31,
   "id": "cc97d699",
   "metadata": {
    "scrolled": true
   },
   "outputs": [
    {
     "data": {
      "text/html": [
       "<div>\n",
       "<style scoped>\n",
       "    .dataframe tbody tr th:only-of-type {\n",
       "        vertical-align: middle;\n",
       "    }\n",
       "\n",
       "    .dataframe tbody tr th {\n",
       "        vertical-align: top;\n",
       "    }\n",
       "\n",
       "    .dataframe thead th {\n",
       "        text-align: right;\n",
       "    }\n",
       "</style>\n",
       "<table border=\"1\" class=\"dataframe\">\n",
       "  <thead>\n",
       "    <tr style=\"text-align: right;\">\n",
       "      <th></th>\n",
       "      <th>family_status_id</th>\n",
       "      <th>family_status</th>\n",
       "    </tr>\n",
       "  </thead>\n",
       "  <tbody>\n",
       "    <tr>\n",
       "      <th>0</th>\n",
       "      <td>0</td>\n",
       "      <td>женат / замужем</td>\n",
       "    </tr>\n",
       "    <tr>\n",
       "      <th>1</th>\n",
       "      <td>1</td>\n",
       "      <td>гражданский брак</td>\n",
       "    </tr>\n",
       "    <tr>\n",
       "      <th>2</th>\n",
       "      <td>2</td>\n",
       "      <td>вдовец / вдова</td>\n",
       "    </tr>\n",
       "    <tr>\n",
       "      <th>3</th>\n",
       "      <td>3</td>\n",
       "      <td>в разводе</td>\n",
       "    </tr>\n",
       "    <tr>\n",
       "      <th>4</th>\n",
       "      <td>4</td>\n",
       "      <td>Не женат / не замужем</td>\n",
       "    </tr>\n",
       "  </tbody>\n",
       "</table>\n",
       "</div>"
      ],
      "text/plain": [
       "   family_status_id          family_status\n",
       "0                 0        женат / замужем\n",
       "1                 1       гражданский брак\n",
       "2                 2         вдовец / вдова\n",
       "3                 3              в разводе\n",
       "4                 4  Не женат / не замужем"
      ]
     },
     "execution_count": 31,
     "metadata": {},
     "output_type": "execute_result"
    }
   ],
   "source": [
    "family_status = data[['family_status_id', 'family_status']]"
   ]
  },
  {
   "cell_type": "code",
   "execution_count": 34,
   "id": "8ed1111a",
   "metadata": {
    "scrolled": true
   },
   "outputs": [
    {
     "name": "stdout",
     "output_type": "stream",
     "text": [
      "5\n",
      "5\n",
      "5\n",
      "5\n"
     ]
    }
   ],
   "source": [
    "print(data['education'].nunique())\n",
    "data['education'] = data['education'].str.lower()\n",
    "print(data['education'].nunique())\n",
    "print(data['family_status'].nunique())\n",
    "data['family_status'] = data['family_status'].str.lower()\n",
    "print(data['family_status'].nunique())"
   ]
  },
  {
   "cell_type": "markdown",
   "id": "fb575e11",
   "metadata": {},
   "source": [
    "### Шаг 2.6. Категоризация дохода."
   ]
  },
  {
   "cell_type": "code",
   "execution_count": 86,
   "id": "cb95054e",
   "metadata": {},
   "outputs": [
    {
     "data": {
      "text/html": [
       "<div>\n",
       "<style scoped>\n",
       "    .dataframe tbody tr th:only-of-type {\n",
       "        vertical-align: middle;\n",
       "    }\n",
       "\n",
       "    .dataframe tbody tr th {\n",
       "        vertical-align: top;\n",
       "    }\n",
       "\n",
       "    .dataframe thead th {\n",
       "        text-align: right;\n",
       "    }\n",
       "</style>\n",
       "<table border=\"1\" class=\"dataframe\">\n",
       "  <thead>\n",
       "    <tr style=\"text-align: right;\">\n",
       "      <th></th>\n",
       "      <th>children</th>\n",
       "      <th>days_employed</th>\n",
       "      <th>dob_years</th>\n",
       "      <th>education</th>\n",
       "      <th>education_id</th>\n",
       "      <th>family_status</th>\n",
       "      <th>family_status_id</th>\n",
       "      <th>gender</th>\n",
       "      <th>income_type</th>\n",
       "      <th>debt</th>\n",
       "      <th>total_income</th>\n",
       "      <th>purpose</th>\n",
       "    </tr>\n",
       "    <tr>\n",
       "      <th>total_income_category</th>\n",
       "      <th></th>\n",
       "      <th></th>\n",
       "      <th></th>\n",
       "      <th></th>\n",
       "      <th></th>\n",
       "      <th></th>\n",
       "      <th></th>\n",
       "      <th></th>\n",
       "      <th></th>\n",
       "      <th></th>\n",
       "      <th></th>\n",
       "      <th></th>\n",
       "    </tr>\n",
       "  </thead>\n",
       "  <tbody>\n",
       "    <tr>\n",
       "      <th>a</th>\n",
       "      <td>25</td>\n",
       "      <td>25</td>\n",
       "      <td>25</td>\n",
       "      <td>25</td>\n",
       "      <td>25</td>\n",
       "      <td>25</td>\n",
       "      <td>25</td>\n",
       "      <td>25</td>\n",
       "      <td>25</td>\n",
       "      <td>25</td>\n",
       "      <td>25</td>\n",
       "      <td>25</td>\n",
       "    </tr>\n",
       "    <tr>\n",
       "      <th>b</th>\n",
       "      <td>5013</td>\n",
       "      <td>5013</td>\n",
       "      <td>5013</td>\n",
       "      <td>5013</td>\n",
       "      <td>5013</td>\n",
       "      <td>5013</td>\n",
       "      <td>5013</td>\n",
       "      <td>5013</td>\n",
       "      <td>5013</td>\n",
       "      <td>5013</td>\n",
       "      <td>5013</td>\n",
       "      <td>5013</td>\n",
       "    </tr>\n",
       "    <tr>\n",
       "      <th>c</th>\n",
       "      <td>15939</td>\n",
       "      <td>15939</td>\n",
       "      <td>15939</td>\n",
       "      <td>15939</td>\n",
       "      <td>15939</td>\n",
       "      <td>15939</td>\n",
       "      <td>15939</td>\n",
       "      <td>15939</td>\n",
       "      <td>15939</td>\n",
       "      <td>15939</td>\n",
       "      <td>15939</td>\n",
       "      <td>15939</td>\n",
       "    </tr>\n",
       "    <tr>\n",
       "      <th>d</th>\n",
       "      <td>349</td>\n",
       "      <td>349</td>\n",
       "      <td>349</td>\n",
       "      <td>349</td>\n",
       "      <td>349</td>\n",
       "      <td>349</td>\n",
       "      <td>349</td>\n",
       "      <td>349</td>\n",
       "      <td>349</td>\n",
       "      <td>349</td>\n",
       "      <td>349</td>\n",
       "      <td>349</td>\n",
       "    </tr>\n",
       "    <tr>\n",
       "      <th>e</th>\n",
       "      <td>22</td>\n",
       "      <td>22</td>\n",
       "      <td>22</td>\n",
       "      <td>22</td>\n",
       "      <td>22</td>\n",
       "      <td>22</td>\n",
       "      <td>22</td>\n",
       "      <td>22</td>\n",
       "      <td>22</td>\n",
       "      <td>22</td>\n",
       "      <td>22</td>\n",
       "      <td>22</td>\n",
       "    </tr>\n",
       "  </tbody>\n",
       "</table>\n",
       "</div>"
      ],
      "text/plain": [
       "                       children  days_employed  dob_years  education  \\\n",
       "total_income_category                                                  \n",
       "a                            25             25         25         25   \n",
       "b                          5013           5013       5013       5013   \n",
       "c                         15939          15939      15939      15939   \n",
       "d                           349            349        349        349   \n",
       "e                            22             22         22         22   \n",
       "\n",
       "                       education_id  family_status  family_status_id  gender  \\\n",
       "total_income_category                                                          \n",
       "a                                25             25                25      25   \n",
       "b                              5013           5013              5013    5013   \n",
       "c                             15939          15939             15939   15939   \n",
       "d                               349            349               349     349   \n",
       "e                                22             22                22      22   \n",
       "\n",
       "                       income_type   debt  total_income  purpose  \n",
       "total_income_category                                             \n",
       "a                               25     25            25       25  \n",
       "b                             5013   5013          5013     5013  \n",
       "c                            15939  15939         15939    15939  \n",
       "d                              349    349           349      349  \n",
       "e                               22     22            22       22  "
      ]
     },
     "execution_count": 86,
     "metadata": {},
     "output_type": "execute_result"
    }
   ],
   "source": [
    "def total_income_function(income):\n",
    "    if income <= 30000:\n",
    "        return 'e'\n",
    "    if 30001 <= income <= 50000:\n",
    "        return 'd'\n",
    "    if 50001 <= income <= 200000:\n",
    "        return 'c'\n",
    "    if 200001 <= income <= 1000000:\n",
    "        return 'b'\n",
    "    if 1000001 <= income:\n",
    "        return 'a'\n",
    "\n",
    "data['total_income_category'] = data['total_income'].apply(total_income_function)\n",
    "\n",
    "data.groupby('total_income_category').count()"
   ]
  },
  {
   "cell_type": "markdown",
   "id": "96f4dca2",
   "metadata": {},
   "source": [
    "### Шаг 2.7. Категоризация целей кредита."
   ]
  },
  {
   "cell_type": "code",
   "execution_count": 87,
   "id": "66390a69",
   "metadata": {},
   "outputs": [
    {
     "data": {
      "text/plain": [
       "array(['покупка жилья', 'приобретение автомобиля',\n",
       "       'дополнительное образование', 'сыграть свадьбу',\n",
       "       'операции с жильем', 'образование', 'на проведение свадьбы',\n",
       "       'покупка жилья для семьи', 'покупка недвижимости',\n",
       "       'покупка коммерческой недвижимости', 'покупка жилой недвижимости',\n",
       "       'строительство собственной недвижимости', 'недвижимость',\n",
       "       'строительство недвижимости', 'на покупку подержанного автомобиля',\n",
       "       'на покупку своего автомобиля',\n",
       "       'операции с коммерческой недвижимостью',\n",
       "       'строительство жилой недвижимости', 'жилье',\n",
       "       'операции со своей недвижимостью', 'автомобили',\n",
       "       'заняться образованием', 'сделка с подержанным автомобилем',\n",
       "       'получение образования', 'автомобиль', 'свадьба',\n",
       "       'получение дополнительного образования', 'покупка своего жилья',\n",
       "       'операции с недвижимостью', 'получение высшего образования',\n",
       "       'свой автомобиль', 'сделка с автомобилем',\n",
       "       'профильное образование', 'высшее образование',\n",
       "       'покупка жилья для сдачи', 'на покупку автомобиля', 'ремонт жилью',\n",
       "       'заняться высшим образованием'], dtype=object)"
      ]
     },
     "execution_count": 87,
     "metadata": {},
     "output_type": "execute_result"
    }
   ],
   "source": [
    "data['purpose'].unique()"
   ]
  },
  {
   "cell_type": "code",
   "execution_count": 88,
   "id": "5d6b2089",
   "metadata": {},
   "outputs": [
    {
     "data": {
      "text/plain": [
       "array(['операции с недвижимостью', 'операции с автомобилем',\n",
       "       'получение образования', 'проведение свадьбы'], dtype=object)"
      ]
     },
     "execution_count": 88,
     "metadata": {},
     "output_type": "execute_result"
    }
   ],
   "source": [
    "def purpose_function(purpose):\n",
    "    if 'авто' in purpose:\n",
    "        return 'операции с автомобилем'\n",
    "    if 'жил' in purpose:\n",
    "        return 'операции с недвижимостью'\n",
    "    if 'недвиж' in purpose:\n",
    "        return 'операции с недвижимостью'\n",
    "    if 'свадьб' in purpose:\n",
    "        return 'проведение свадьбы'\n",
    "    if 'образован' in purpose:\n",
    "        return 'получение образования'\n",
    "    \n",
    "data['purpose_category'] = data['purpose'].apply(purpose_function)\n",
    "data['purpose_category'].unique()"
   ]
  },
  {
   "cell_type": "markdown",
   "id": "247879ff",
   "metadata": {},
   "source": [
    "### Ответы на вопросы."
   ]
  },
  {
   "cell_type": "markdown",
   "id": "7ea3db5b",
   "metadata": {},
   "source": [
    "##### Вопрос 1: Есть ли зависимость между количеством детей и возвратом кредита в срок?"
   ]
  },
  {
   "cell_type": "code",
   "execution_count": 89,
   "id": "2bcaac39",
   "metadata": {},
   "outputs": [
    {
     "name": "stdout",
     "output_type": "stream",
     "text": [
      "<class 'pandas.core.frame.DataFrame'>\n",
      "RangeIndex: 21348 entries, 0 to 21347\n",
      "Data columns (total 14 columns):\n",
      " #   Column                 Non-Null Count  Dtype \n",
      "---  ------                 --------------  ----- \n",
      " 0   children               21348 non-null  int64 \n",
      " 1   days_employed          21348 non-null  int64 \n",
      " 2   dob_years              21348 non-null  int64 \n",
      " 3   education              21348 non-null  object\n",
      " 4   education_id           21348 non-null  int64 \n",
      " 5   family_status          21348 non-null  object\n",
      " 6   family_status_id       21348 non-null  int64 \n",
      " 7   gender                 21348 non-null  object\n",
      " 8   income_type            21348 non-null  object\n",
      " 9   debt                   21348 non-null  int64 \n",
      " 10  total_income           21348 non-null  int64 \n",
      " 11  purpose                21348 non-null  object\n",
      " 12  total_income_category  21348 non-null  object\n",
      " 13  purpose_category       21348 non-null  object\n",
      "dtypes: int64(7), object(7)\n",
      "memory usage: 2.3+ MB\n"
     ]
    }
   ],
   "source": [
    "data.info()"
   ]
  },
  {
   "cell_type": "code",
   "execution_count": 90,
   "id": "df65a0f2",
   "metadata": {},
   "outputs": [
    {
     "data": {
      "text/plain": [
       "children\n",
       "0    0.075353\n",
       "1    0.092327\n",
       "2    0.094542\n",
       "3    0.081818\n",
       "4    0.097561\n",
       "5    0.000000\n",
       "Name: debt, dtype: float64"
      ]
     },
     "execution_count": 90,
     "metadata": {},
     "output_type": "execute_result"
    }
   ],
   "source": [
    "data.groupby('children')['debt'].mean()"
   ]
  },
  {
   "cell_type": "markdown",
   "id": "976384fc",
   "metadata": {},
   "source": [
    "Можно сказать что количество детей не является определяющим фактором для возврата долга, самая высокая доля должников среди людей с 20ю детьми, самая низкая - среди бездетных. Похоже что у бездетных людей больше свободных денег, поэтому они чаще возвращают долги. Что-то произошло с категорией тех у кого 5 детей."
   ]
  },
  {
   "cell_type": "markdown",
   "id": "fa392a2f",
   "metadata": {},
   "source": [
    "##### Вопрос 2: Есть ли зависимость между семейным положением и возвратом кредита в срок?"
   ]
  },
  {
   "cell_type": "code",
   "execution_count": 91,
   "id": "d3694efe",
   "metadata": {},
   "outputs": [
    {
     "data": {
      "text/plain": [
       "family_status\n",
       "в разводе                0.070648\n",
       "вдовец / вдова           0.066246\n",
       "гражданский брак         0.092861\n",
       "женат / замужем          0.075575\n",
       "не женат / не замужем    0.097639\n",
       "Name: debt, dtype: float64"
      ]
     },
     "execution_count": 91,
     "metadata": {},
     "output_type": "execute_result"
    }
   ],
   "source": [
    "data.groupby('family_status')['debt'].mean()"
   ]
  },
  {
   "cell_type": "markdown",
   "id": "ec652dd2",
   "metadata": {},
   "source": [
    "Так же как и в случае с детьми - семейное положение не сильно влияет на процент должников. Самая высокая доля невозврата - среди холостых, самая низкая - среди вдовцов/вдов."
   ]
  },
  {
   "cell_type": "markdown",
   "id": "861feefb",
   "metadata": {},
   "source": [
    "##### Вопрос 3: Есть ли зависимость между уровнем дохода и возвратом кредита в срок?"
   ]
  },
  {
   "cell_type": "code",
   "execution_count": 92,
   "id": "5bce800d",
   "metadata": {},
   "outputs": [
    {
     "data": {
      "text/plain": [
       "total_income_category\n",
       "a    0.080000\n",
       "b    0.070616\n",
       "c    0.084886\n",
       "d    0.060172\n",
       "e    0.090909\n",
       "Name: debt, dtype: float64"
      ]
     },
     "execution_count": 92,
     "metadata": {},
     "output_type": "execute_result"
    }
   ],
   "source": [
    "data.groupby('total_income_category')['debt'].mean()"
   ]
  },
  {
   "cell_type": "markdown",
   "id": "2d91fab6",
   "metadata": {},
   "source": [
    "Самая высокая доля невозвратов среди самых бедных, тех, кто зарабатывает меньше 30000 рублей. Самые надежные должники - те, кто зарабатывает от 30 до 50 тысяч рублей. Самые бедные слои населения попадают в кредитную ловушку - они набирают кредитов, которые не могут вернуть. В то же время, неясно почему доля возврата кредитов не растет с увеличением дохода."
   ]
  },
  {
   "cell_type": "code",
   "execution_count": 93,
   "id": "2fbc72b8",
   "metadata": {},
   "outputs": [
    {
     "data": {
      "text/plain": [
       "purpose_category\n",
       "операции с автомобилем      0.093436\n",
       "операции с недвижимостью    0.072531\n",
       "получение образования       0.092504\n",
       "проведение свадьбы          0.078744\n",
       "Name: debt, dtype: float64"
      ]
     },
     "execution_count": 93,
     "metadata": {},
     "output_type": "execute_result"
    }
   ],
   "source": [
    "data.groupby('purpose_category')['debt'].mean()"
   ]
  },
  {
   "cell_type": "markdown",
   "id": "4c004531",
   "metadata": {},
   "source": [
    "##### Вопрос 4: Как разные цели кредита влияют на его возврат в срок??"
   ]
  },
  {
   "cell_type": "markdown",
   "id": "e22bb140",
   "metadata": {},
   "source": [
    "Самая высокая доля невозвратов - среди тех, кто занимает деньги на операции с автомобилем, самая низкая - среди тех, кто занимает деньги на операции с недвижимостью. Автомобиль несет существенные расходы для автовладельца и иногда является прихотью, нежели необходимостью для владельца. Недвижимость, напротив, является инвестицией, которая приносит доход."
   ]
  },
  {
   "cell_type": "code",
   "execution_count": 94,
   "id": "7f0c3f35",
   "metadata": {},
   "outputs": [
    {
     "name": "stdout",
     "output_type": "stream",
     "text": [
      "           sum  count      mean\n",
      "          debt   debt      debt\n",
      "children                       \n",
      "0         1063  14107  0.075353\n",
      "1          444   4809  0.092327\n",
      "2          194   2052  0.094542\n",
      "3           27    330  0.081818\n",
      "4            4     41  0.097561\n",
      "5            0      9  0.000000\n"
     ]
    }
   ],
   "source": [
    "data_pivot = data.pivot_table(index=['children'], values='debt', aggfunc=['sum', 'count', 'mean'])\n",
    "print(data_pivot.head(10)) "
   ]
  },
  {
   "cell_type": "markdown",
   "id": "974d1a6e",
   "metadata": {},
   "source": [
    "## Общий вывод:"
   ]
  },
  {
   "cell_type": "markdown",
   "id": "f38e08a8",
   "metadata": {},
   "source": [
    "Несмотря на то, что мы можем видеть, что определенные категории клиентов возвращают долги с разным успехом, общая динамика неясна - так например, частота возврата долга не растет с ростом доходов и остается примерно одинаковой среди людей с 1 - 20ю детьми."
   ]
  },
  {
   "cell_type": "markdown",
   "id": "51fa3395",
   "metadata": {},
   "source": [
    "Мы исследовали клиентские данные, такие как количество детей, семейное положение, доход и цель кредита. В результате нашего исследования, мы не нашли значительной корреляции между этими переменными и шансом возврата кредита. Для более точного скоринга можно исследовать такие переменные, относящиеся к финансовой истории клиента, как: кредитная нагрузка, размер залога и кредитная история."
   ]
  }
 ],
 "metadata": {
  "ExecuteTimeLog": [
   {
    "duration": 421,
    "start_time": "2022-04-08T05:57:55.114Z"
   },
   {
    "duration": 68,
    "start_time": "2022-04-08T05:58:57.515Z"
   },
   {
    "duration": 64,
    "start_time": "2022-04-08T06:02:07.295Z"
   },
   {
    "duration": 70,
    "start_time": "2022-04-08T06:02:11.640Z"
   },
   {
    "duration": 8,
    "start_time": "2022-04-08T06:02:14.445Z"
   },
   {
    "duration": 7,
    "start_time": "2022-04-08T06:02:27.071Z"
   },
   {
    "duration": 5,
    "start_time": "2022-04-08T06:04:23.883Z"
   },
   {
    "duration": 6,
    "start_time": "2022-04-08T06:04:39.392Z"
   },
   {
    "duration": 6,
    "start_time": "2022-04-08T06:08:35.385Z"
   },
   {
    "duration": 4,
    "start_time": "2022-04-08T06:08:54.552Z"
   },
   {
    "duration": 4,
    "start_time": "2022-04-08T06:09:19.018Z"
   },
   {
    "duration": 6,
    "start_time": "2022-04-08T06:09:53.067Z"
   },
   {
    "duration": 5,
    "start_time": "2022-04-08T06:13:15.182Z"
   },
   {
    "duration": 9,
    "start_time": "2022-04-08T06:14:05.744Z"
   },
   {
    "duration": 6,
    "start_time": "2022-04-08T06:14:27.083Z"
   },
   {
    "duration": 19,
    "start_time": "2022-04-08T06:16:13.262Z"
   },
   {
    "duration": 6,
    "start_time": "2022-04-08T06:16:20.314Z"
   },
   {
    "duration": 5,
    "start_time": "2022-04-08T06:16:25.875Z"
   },
   {
    "duration": 12,
    "start_time": "2022-04-08T06:16:33.665Z"
   },
   {
    "duration": 28,
    "start_time": "2022-04-08T06:20:07.247Z"
   },
   {
    "duration": 4,
    "start_time": "2022-04-08T06:20:31.092Z"
   },
   {
    "duration": 4,
    "start_time": "2022-04-08T06:20:40.641Z"
   },
   {
    "duration": 4,
    "start_time": "2022-04-08T06:20:47.836Z"
   },
   {
    "duration": 11,
    "start_time": "2022-04-08T06:21:11.912Z"
   },
   {
    "duration": 5,
    "start_time": "2022-04-08T06:21:22.023Z"
   },
   {
    "duration": 4,
    "start_time": "2022-04-08T06:22:56.544Z"
   },
   {
    "duration": 6,
    "start_time": "2022-04-08T06:27:26.504Z"
   },
   {
    "duration": 5,
    "start_time": "2022-04-08T06:28:05.230Z"
   },
   {
    "duration": 3,
    "start_time": "2022-04-08T06:28:11.958Z"
   },
   {
    "duration": 3,
    "start_time": "2022-04-08T06:28:42.640Z"
   },
   {
    "duration": 3,
    "start_time": "2022-04-08T06:28:51.393Z"
   },
   {
    "duration": 20,
    "start_time": "2022-04-08T06:29:03.459Z"
   },
   {
    "duration": 19,
    "start_time": "2022-04-08T06:29:07.473Z"
   },
   {
    "duration": 5,
    "start_time": "2022-04-08T06:29:20.471Z"
   },
   {
    "duration": 5,
    "start_time": "2022-04-08T06:29:26.870Z"
   },
   {
    "duration": 6,
    "start_time": "2022-04-08T06:29:30.884Z"
   },
   {
    "duration": 5,
    "start_time": "2022-04-08T06:29:34.633Z"
   },
   {
    "duration": 13,
    "start_time": "2022-04-08T06:29:37.043Z"
   },
   {
    "duration": 3,
    "start_time": "2022-04-08T06:29:56.125Z"
   },
   {
    "duration": 9,
    "start_time": "2022-04-08T06:30:08.203Z"
   },
   {
    "duration": 5,
    "start_time": "2022-04-08T06:30:30.983Z"
   },
   {
    "duration": 7,
    "start_time": "2022-04-08T06:30:38.913Z"
   },
   {
    "duration": 5,
    "start_time": "2022-04-08T06:31:07.931Z"
   },
   {
    "duration": 4,
    "start_time": "2022-04-08T06:31:41.583Z"
   },
   {
    "duration": 3,
    "start_time": "2022-04-08T06:31:47.254Z"
   },
   {
    "duration": 5,
    "start_time": "2022-04-08T06:31:57.420Z"
   },
   {
    "duration": 85,
    "start_time": "2022-04-08T06:32:14.842Z"
   },
   {
    "duration": 92,
    "start_time": "2022-04-08T06:32:17.538Z"
   },
   {
    "duration": 5,
    "start_time": "2022-04-08T06:32:23.830Z"
   },
   {
    "duration": 93,
    "start_time": "2022-04-08T06:36:02.115Z"
   },
   {
    "duration": 5,
    "start_time": "2022-04-08T06:36:11.586Z"
   },
   {
    "duration": 88,
    "start_time": "2022-04-08T06:36:23.623Z"
   },
   {
    "duration": 82,
    "start_time": "2022-04-08T06:36:34.543Z"
   },
   {
    "duration": 6,
    "start_time": "2022-04-08T06:36:41.222Z"
   },
   {
    "duration": 5,
    "start_time": "2022-04-08T06:37:13.914Z"
   },
   {
    "duration": 75,
    "start_time": "2022-04-08T06:37:21.282Z"
   },
   {
    "duration": 5,
    "start_time": "2022-04-08T06:38:23.512Z"
   },
   {
    "duration": 3,
    "start_time": "2022-04-08T06:39:22.161Z"
   },
   {
    "duration": 3,
    "start_time": "2022-04-08T06:39:26.871Z"
   },
   {
    "duration": 77,
    "start_time": "2022-04-08T06:39:32.970Z"
   },
   {
    "duration": 5,
    "start_time": "2022-04-08T06:39:41.762Z"
   },
   {
    "duration": 7,
    "start_time": "2022-04-08T06:39:53.278Z"
   },
   {
    "duration": 6,
    "start_time": "2022-04-08T06:40:00.493Z"
   },
   {
    "duration": 4,
    "start_time": "2022-04-08T06:41:36.064Z"
   },
   {
    "duration": 16,
    "start_time": "2022-04-08T06:42:01.337Z"
   },
   {
    "duration": 5,
    "start_time": "2022-04-08T06:43:04.417Z"
   },
   {
    "duration": 6,
    "start_time": "2022-04-08T06:43:14.201Z"
   },
   {
    "duration": 4,
    "start_time": "2022-04-08T06:48:18.133Z"
   },
   {
    "duration": 2175,
    "start_time": "2022-04-08T06:52:13.480Z"
   },
   {
    "duration": 4,
    "start_time": "2022-04-08T06:52:20.614Z"
   },
   {
    "duration": 8,
    "start_time": "2022-04-08T06:55:24.622Z"
   },
   {
    "duration": 7,
    "start_time": "2022-04-08T06:56:09.242Z"
   },
   {
    "duration": 8,
    "start_time": "2022-04-08T06:58:40.048Z"
   },
   {
    "duration": 6,
    "start_time": "2022-04-08T06:58:45.781Z"
   },
   {
    "duration": 5,
    "start_time": "2022-04-08T06:59:17.704Z"
   },
   {
    "duration": 8,
    "start_time": "2022-04-08T06:59:49.461Z"
   },
   {
    "duration": 6,
    "start_time": "2022-04-08T07:00:14.476Z"
   },
   {
    "duration": 17,
    "start_time": "2022-04-08T07:00:23.818Z"
   },
   {
    "duration": 7,
    "start_time": "2022-04-08T07:00:53.624Z"
   },
   {
    "duration": 7,
    "start_time": "2022-04-08T07:01:19.688Z"
   },
   {
    "duration": 6,
    "start_time": "2022-04-08T07:01:25.390Z"
   },
   {
    "duration": 4,
    "start_time": "2022-04-08T07:04:41.854Z"
   },
   {
    "duration": 7,
    "start_time": "2022-04-08T07:04:47.880Z"
   },
   {
    "duration": 4,
    "start_time": "2022-04-08T07:06:47.837Z"
   },
   {
    "duration": 4,
    "start_time": "2022-04-08T07:06:54.559Z"
   },
   {
    "duration": 13,
    "start_time": "2022-04-08T07:07:06.958Z"
   },
   {
    "duration": 11,
    "start_time": "2022-04-08T07:07:14.115Z"
   },
   {
    "duration": 4,
    "start_time": "2022-04-08T07:07:19.576Z"
   },
   {
    "duration": 3,
    "start_time": "2022-04-08T07:07:29.964Z"
   },
   {
    "duration": 3,
    "start_time": "2022-04-08T07:07:37.478Z"
   },
   {
    "duration": 3,
    "start_time": "2022-04-08T07:07:42.947Z"
   },
   {
    "duration": 4,
    "start_time": "2022-04-08T07:10:31.787Z"
   },
   {
    "duration": 4,
    "start_time": "2022-04-08T07:11:15.487Z"
   },
   {
    "duration": 4,
    "start_time": "2022-04-08T07:11:46.620Z"
   },
   {
    "duration": 4,
    "start_time": "2022-04-08T07:11:59.379Z"
   },
   {
    "duration": 5,
    "start_time": "2022-04-08T07:12:02.724Z"
   },
   {
    "duration": 6,
    "start_time": "2022-04-08T07:12:09.689Z"
   },
   {
    "duration": 10,
    "start_time": "2022-04-08T07:12:41.168Z"
   },
   {
    "duration": 6,
    "start_time": "2022-04-08T07:12:48.822Z"
   },
   {
    "duration": 3,
    "start_time": "2022-04-08T07:13:19.854Z"
   },
   {
    "duration": 5,
    "start_time": "2022-04-08T07:13:48.349Z"
   },
   {
    "duration": 4,
    "start_time": "2022-04-08T07:14:00.833Z"
   },
   {
    "duration": 6,
    "start_time": "2022-04-08T07:17:42.323Z"
   },
   {
    "duration": 6,
    "start_time": "2022-04-08T07:18:28.358Z"
   },
   {
    "duration": 6,
    "start_time": "2022-04-08T07:19:15.492Z"
   },
   {
    "duration": 6,
    "start_time": "2022-04-08T07:22:42.048Z"
   },
   {
    "duration": 30,
    "start_time": "2022-04-08T12:16:46.086Z"
   },
   {
    "duration": 14,
    "start_time": "2022-04-08T12:17:38.950Z"
   },
   {
    "duration": 10,
    "start_time": "2022-04-08T12:17:47.779Z"
   },
   {
    "duration": 16,
    "start_time": "2022-04-08T12:18:21.707Z"
   },
   {
    "duration": 21,
    "start_time": "2022-04-08T12:19:11.875Z"
   },
   {
    "duration": 29,
    "start_time": "2022-04-08T12:21:20.474Z"
   },
   {
    "duration": 733,
    "start_time": "2022-04-08T12:21:23.720Z"
   },
   {
    "duration": 13,
    "start_time": "2022-04-08T12:22:07.064Z"
   },
   {
    "duration": 5,
    "start_time": "2022-04-08T12:22:20.439Z"
   },
   {
    "duration": 1454,
    "start_time": "2022-04-08T12:23:04.200Z"
   },
   {
    "duration": 13,
    "start_time": "2022-04-08T12:23:09.561Z"
   },
   {
    "duration": 13,
    "start_time": "2022-04-08T12:24:46.132Z"
   },
   {
    "duration": 81,
    "start_time": "2022-04-08T12:24:58.835Z"
   },
   {
    "duration": 77,
    "start_time": "2022-04-08T12:25:13.894Z"
   },
   {
    "duration": 14,
    "start_time": "2022-04-08T12:25:19.157Z"
   },
   {
    "duration": 21,
    "start_time": "2022-04-08T12:26:21.958Z"
   },
   {
    "duration": 18,
    "start_time": "2022-04-08T13:07:12.780Z"
   },
   {
    "duration": 18,
    "start_time": "2022-04-08T13:07:16.785Z"
   },
   {
    "duration": 1443,
    "start_time": "2022-04-08T13:07:41.595Z"
   },
   {
    "duration": 9,
    "start_time": "2022-04-08T13:08:16.728Z"
   },
   {
    "duration": 18,
    "start_time": "2022-04-08T13:08:41.214Z"
   },
   {
    "duration": 17,
    "start_time": "2022-04-08T13:08:44.673Z"
   },
   {
    "duration": 38,
    "start_time": "2022-04-08T13:09:46.616Z"
   },
   {
    "duration": 7,
    "start_time": "2022-04-08T13:10:40.935Z"
   },
   {
    "duration": 39,
    "start_time": "2022-04-08T14:19:15.033Z"
   },
   {
    "duration": 15,
    "start_time": "2022-04-08T14:19:50.411Z"
   },
   {
    "duration": 18,
    "start_time": "2022-04-08T14:19:53.149Z"
   },
   {
    "duration": 5,
    "start_time": "2022-04-08T14:22:49.554Z"
   },
   {
    "duration": 22,
    "start_time": "2022-04-08T14:22:51.165Z"
   },
   {
    "duration": 17,
    "start_time": "2022-04-08T14:23:13.595Z"
   },
   {
    "duration": 17,
    "start_time": "2022-04-08T14:23:20.937Z"
   },
   {
    "duration": 15,
    "start_time": "2022-04-08T14:23:25.954Z"
   },
   {
    "duration": 21,
    "start_time": "2022-04-08T14:24:13.881Z"
   },
   {
    "duration": 20,
    "start_time": "2022-04-08T14:24:26.700Z"
   },
   {
    "duration": 5,
    "start_time": "2022-04-08T14:24:44.340Z"
   },
   {
    "duration": 13,
    "start_time": "2022-04-08T14:25:19.227Z"
   },
   {
    "duration": 17,
    "start_time": "2022-04-08T14:25:26.669Z"
   },
   {
    "duration": 18,
    "start_time": "2022-04-08T14:25:48.551Z"
   },
   {
    "duration": 14,
    "start_time": "2022-04-08T14:25:53.326Z"
   },
   {
    "duration": 67,
    "start_time": "2022-04-09T07:14:25.137Z"
   },
   {
    "duration": 560,
    "start_time": "2022-04-09T07:14:30.067Z"
   },
   {
    "duration": 5,
    "start_time": "2022-04-09T07:14:37.021Z"
   },
   {
    "duration": 9,
    "start_time": "2022-04-09T07:14:44.920Z"
   },
   {
    "duration": 6,
    "start_time": "2022-04-09T07:15:47.565Z"
   },
   {
    "duration": 23,
    "start_time": "2022-04-09T07:15:58.796Z"
   },
   {
    "duration": 25,
    "start_time": "2022-04-09T07:16:08.009Z"
   },
   {
    "duration": 10,
    "start_time": "2022-04-09T07:16:18.821Z"
   },
   {
    "duration": 26,
    "start_time": "2022-04-09T07:16:23.120Z"
   },
   {
    "duration": 13,
    "start_time": "2022-04-09T07:16:27.919Z"
   },
   {
    "duration": 13,
    "start_time": "2022-04-09T07:16:39.179Z"
   },
   {
    "duration": 5,
    "start_time": "2022-04-09T07:37:30.366Z"
   },
   {
    "duration": 8,
    "start_time": "2022-04-09T07:37:35.641Z"
   },
   {
    "duration": 10,
    "start_time": "2022-04-09T07:37:38.899Z"
   },
   {
    "duration": 10,
    "start_time": "2022-04-09T07:38:29.455Z"
   },
   {
    "duration": 10,
    "start_time": "2022-04-09T07:38:33.210Z"
   },
   {
    "duration": 11,
    "start_time": "2022-04-09T07:38:48.909Z"
   },
   {
    "duration": 8,
    "start_time": "2022-04-09T07:38:57.991Z"
   },
   {
    "duration": 11,
    "start_time": "2022-04-09T07:39:08.406Z"
   },
   {
    "duration": 11,
    "start_time": "2022-04-09T07:39:15.196Z"
   },
   {
    "duration": 7,
    "start_time": "2022-04-09T07:39:35.109Z"
   },
   {
    "duration": 7,
    "start_time": "2022-04-09T07:39:58.144Z"
   },
   {
    "duration": 11,
    "start_time": "2022-04-09T07:40:14.551Z"
   },
   {
    "duration": 10,
    "start_time": "2022-04-09T07:42:13.165Z"
   },
   {
    "duration": 9,
    "start_time": "2022-04-09T07:42:19.722Z"
   },
   {
    "duration": 12,
    "start_time": "2022-04-09T07:42:23.507Z"
   },
   {
    "duration": 17,
    "start_time": "2022-04-09T07:42:32.913Z"
   },
   {
    "duration": 13,
    "start_time": "2022-04-09T07:44:27.352Z"
   },
   {
    "duration": 13,
    "start_time": "2022-04-09T07:44:40.138Z"
   },
   {
    "duration": 11,
    "start_time": "2022-04-09T07:44:51.927Z"
   },
   {
    "duration": 14,
    "start_time": "2022-04-09T07:45:19.701Z"
   },
   {
    "duration": 19,
    "start_time": "2022-04-09T07:45:35.089Z"
   },
   {
    "duration": 16,
    "start_time": "2022-04-09T07:45:42.557Z"
   },
   {
    "duration": 17,
    "start_time": "2022-04-09T07:46:02.527Z"
   },
   {
    "duration": 27,
    "start_time": "2022-04-09T07:46:56.091Z"
   },
   {
    "duration": 15,
    "start_time": "2022-04-09T07:47:03.756Z"
   },
   {
    "duration": 23,
    "start_time": "2022-04-09T07:57:22.738Z"
   },
   {
    "duration": 18,
    "start_time": "2022-04-09T07:57:49.623Z"
   },
   {
    "duration": 53,
    "start_time": "2022-04-09T07:57:57.216Z"
   },
   {
    "duration": 7,
    "start_time": "2022-04-09T07:58:04.747Z"
   },
   {
    "duration": 11,
    "start_time": "2022-04-09T07:58:09.527Z"
   },
   {
    "duration": 5,
    "start_time": "2022-04-09T07:58:37.762Z"
   },
   {
    "duration": 6,
    "start_time": "2022-04-09T07:58:40.083Z"
   },
   {
    "duration": 16,
    "start_time": "2022-04-09T07:58:42.114Z"
   },
   {
    "duration": 5,
    "start_time": "2022-04-09T07:58:44.742Z"
   },
   {
    "duration": 8,
    "start_time": "2022-04-09T07:58:46.741Z"
   },
   {
    "duration": 7,
    "start_time": "2022-04-09T07:58:55.351Z"
   },
   {
    "duration": 5,
    "start_time": "2022-04-09T07:59:08.492Z"
   },
   {
    "duration": 5,
    "start_time": "2022-04-09T07:59:10.123Z"
   },
   {
    "duration": 4,
    "start_time": "2022-04-09T07:59:13.139Z"
   },
   {
    "duration": 5,
    "start_time": "2022-04-09T07:59:21.819Z"
   },
   {
    "duration": 14,
    "start_time": "2022-04-09T07:59:25.909Z"
   },
   {
    "duration": 5,
    "start_time": "2022-04-09T07:59:36.506Z"
   },
   {
    "duration": 4,
    "start_time": "2022-04-09T07:59:41.532Z"
   },
   {
    "duration": 16,
    "start_time": "2022-04-09T07:59:50.732Z"
   },
   {
    "duration": 17,
    "start_time": "2022-04-09T07:59:52.937Z"
   },
   {
    "duration": 5,
    "start_time": "2022-04-09T07:59:54.992Z"
   },
   {
    "duration": 24,
    "start_time": "2022-04-09T07:59:56.494Z"
   },
   {
    "duration": 14,
    "start_time": "2022-04-09T07:59:58.201Z"
   },
   {
    "duration": 7,
    "start_time": "2022-04-09T08:00:17.295Z"
   },
   {
    "duration": 7,
    "start_time": "2022-04-09T08:00:22.679Z"
   },
   {
    "duration": 26,
    "start_time": "2022-04-09T08:00:26.134Z"
   },
   {
    "duration": 14,
    "start_time": "2022-04-09T08:00:33.349Z"
   },
   {
    "duration": 19,
    "start_time": "2022-04-09T08:00:36.551Z"
   },
   {
    "duration": 18,
    "start_time": "2022-04-09T08:00:53.755Z"
   },
   {
    "duration": 4,
    "start_time": "2022-04-09T08:05:23.200Z"
   },
   {
    "duration": 11,
    "start_time": "2022-04-09T08:05:50.492Z"
   },
   {
    "duration": 11,
    "start_time": "2022-04-09T08:06:06.406Z"
   },
   {
    "duration": 13,
    "start_time": "2022-04-09T08:06:39.093Z"
   },
   {
    "duration": 12,
    "start_time": "2022-04-09T08:06:58.143Z"
   },
   {
    "duration": 5,
    "start_time": "2022-04-09T09:47:59.397Z"
   },
   {
    "duration": 497,
    "start_time": "2022-04-09T09:51:27.790Z"
   },
   {
    "duration": 7,
    "start_time": "2022-04-09T09:51:52.435Z"
   },
   {
    "duration": 10,
    "start_time": "2022-04-09T09:52:02.353Z"
   },
   {
    "duration": 9,
    "start_time": "2022-04-09T09:52:07.863Z"
   },
   {
    "duration": 10,
    "start_time": "2022-04-09T09:52:40.199Z"
   },
   {
    "duration": 8,
    "start_time": "2022-04-09T10:06:17.112Z"
   },
   {
    "duration": 10,
    "start_time": "2022-04-09T10:06:25.890Z"
   },
   {
    "duration": 11,
    "start_time": "2022-04-09T10:06:28.044Z"
   },
   {
    "duration": 6,
    "start_time": "2022-04-09T10:06:48.122Z"
   },
   {
    "duration": 5,
    "start_time": "2022-04-09T10:06:53.662Z"
   },
   {
    "duration": 5,
    "start_time": "2022-04-09T10:07:26.732Z"
   },
   {
    "duration": 56,
    "start_time": "2022-04-09T10:07:34.495Z"
   },
   {
    "duration": 5,
    "start_time": "2022-04-09T10:07:37.058Z"
   },
   {
    "duration": 11,
    "start_time": "2022-04-09T10:07:39.155Z"
   },
   {
    "duration": 4,
    "start_time": "2022-04-09T10:07:42.083Z"
   },
   {
    "duration": 5,
    "start_time": "2022-04-09T10:07:44.185Z"
   },
   {
    "duration": 10,
    "start_time": "2022-04-09T10:07:46.654Z"
   },
   {
    "duration": 4,
    "start_time": "2022-04-09T10:07:48.751Z"
   },
   {
    "duration": 7,
    "start_time": "2022-04-09T10:07:49.913Z"
   },
   {
    "duration": 5,
    "start_time": "2022-04-09T10:07:51.962Z"
   },
   {
    "duration": 5,
    "start_time": "2022-04-09T10:07:53.726Z"
   },
   {
    "duration": 4,
    "start_time": "2022-04-09T10:07:55.688Z"
   },
   {
    "duration": 5,
    "start_time": "2022-04-09T10:07:57.150Z"
   },
   {
    "duration": 14,
    "start_time": "2022-04-09T10:08:00.062Z"
   },
   {
    "duration": 20,
    "start_time": "2022-04-09T10:08:01.651Z"
   },
   {
    "duration": 4,
    "start_time": "2022-04-09T10:08:03.251Z"
   },
   {
    "duration": 23,
    "start_time": "2022-04-09T10:08:05.087Z"
   },
   {
    "duration": 10,
    "start_time": "2022-04-09T10:08:10.604Z"
   },
   {
    "duration": 13,
    "start_time": "2022-04-09T10:08:23.535Z"
   },
   {
    "duration": 21,
    "start_time": "2022-04-09T10:08:29.461Z"
   },
   {
    "duration": 23,
    "start_time": "2022-04-09T10:08:31.705Z"
   },
   {
    "duration": 14,
    "start_time": "2022-04-09T10:08:50.635Z"
   },
   {
    "duration": 13,
    "start_time": "2022-04-09T10:08:54.772Z"
   },
   {
    "duration": 23,
    "start_time": "2022-04-09T10:09:02.210Z"
   },
   {
    "duration": 18,
    "start_time": "2022-04-09T10:09:22.606Z"
   },
   {
    "duration": 5,
    "start_time": "2022-04-09T10:09:33.051Z"
   },
   {
    "duration": 1624,
    "start_time": "2022-04-09T10:09:39.569Z"
   },
   {
    "duration": 12,
    "start_time": "2022-04-09T10:09:50.729Z"
   },
   {
    "duration": 11,
    "start_time": "2022-04-09T10:10:08.991Z"
   },
   {
    "duration": 23,
    "start_time": "2022-04-09T10:11:08.975Z"
   },
   {
    "duration": 31,
    "start_time": "2022-04-09T10:11:11.740Z"
   },
   {
    "duration": 33,
    "start_time": "2022-04-09T10:11:33.256Z"
   },
   {
    "duration": 25,
    "start_time": "2022-04-09T10:11:46.675Z"
   },
   {
    "duration": 33,
    "start_time": "2022-04-09T10:11:50.582Z"
   },
   {
    "duration": 31,
    "start_time": "2022-04-09T10:12:11.963Z"
   },
   {
    "duration": 506,
    "start_time": "2022-04-09T10:12:29.486Z"
   },
   {
    "duration": 425,
    "start_time": "2022-04-09T10:21:32.058Z"
   },
   {
    "duration": 30,
    "start_time": "2022-04-09T10:21:40.732Z"
   },
   {
    "duration": 31,
    "start_time": "2022-04-09T10:22:07.271Z"
   },
   {
    "duration": 12,
    "start_time": "2022-04-09T10:23:08.515Z"
   },
   {
    "duration": 40,
    "start_time": "2022-04-09T12:57:54.920Z"
   },
   {
    "duration": 7,
    "start_time": "2022-04-09T13:28:12.083Z"
   },
   {
    "duration": 7,
    "start_time": "2022-04-09T13:28:32.851Z"
   },
   {
    "duration": 437,
    "start_time": "2022-04-09T13:28:36.859Z"
   },
   {
    "duration": 6,
    "start_time": "2022-04-09T13:28:40.082Z"
   },
   {
    "duration": 11,
    "start_time": "2022-04-09T13:28:42.834Z"
   },
   {
    "duration": 3,
    "start_time": "2022-04-09T13:28:45.808Z"
   },
   {
    "duration": 5,
    "start_time": "2022-04-09T13:28:47.937Z"
   },
   {
    "duration": 11,
    "start_time": "2022-04-09T13:28:50.476Z"
   },
   {
    "duration": 4,
    "start_time": "2022-04-09T13:28:52.318Z"
   },
   {
    "duration": 7,
    "start_time": "2022-04-09T13:28:53.746Z"
   },
   {
    "duration": 5,
    "start_time": "2022-04-09T13:28:57.381Z"
   },
   {
    "duration": 5,
    "start_time": "2022-04-09T13:29:01.003Z"
   },
   {
    "duration": 5,
    "start_time": "2022-04-09T13:29:02.972Z"
   },
   {
    "duration": 5,
    "start_time": "2022-04-09T13:29:04.592Z"
   },
   {
    "duration": 15,
    "start_time": "2022-04-09T13:29:06.738Z"
   },
   {
    "duration": 18,
    "start_time": "2022-04-09T13:29:09.148Z"
   },
   {
    "duration": 9,
    "start_time": "2022-04-09T13:29:11.120Z"
   },
   {
    "duration": 24,
    "start_time": "2022-04-09T13:29:12.675Z"
   },
   {
    "duration": 25,
    "start_time": "2022-04-09T13:29:14.611Z"
   },
   {
    "duration": 7,
    "start_time": "2022-04-09T13:29:17.045Z"
   },
   {
    "duration": 11,
    "start_time": "2022-04-09T13:30:13.614Z"
   },
   {
    "duration": 12,
    "start_time": "2022-04-09T13:30:28.138Z"
   },
   {
    "duration": 32,
    "start_time": "2022-04-09T13:30:30.371Z"
   },
   {
    "duration": 11,
    "start_time": "2022-04-09T13:35:04.137Z"
   },
   {
    "duration": 12,
    "start_time": "2022-04-09T13:36:02.952Z"
   },
   {
    "duration": 30,
    "start_time": "2022-04-09T13:36:08.211Z"
   },
   {
    "duration": 6,
    "start_time": "2022-04-09T13:36:27.712Z"
   },
   {
    "duration": 12,
    "start_time": "2022-04-09T13:36:30.315Z"
   },
   {
    "duration": 21,
    "start_time": "2022-04-09T13:36:34.556Z"
   },
   {
    "duration": 17,
    "start_time": "2022-04-09T13:38:16.594Z"
   },
   {
    "duration": 15,
    "start_time": "2022-04-09T13:38:23.760Z"
   },
   {
    "duration": 16,
    "start_time": "2022-04-09T13:41:40.722Z"
   },
   {
    "duration": 5,
    "start_time": "2022-04-09T13:43:52.606Z"
   },
   {
    "duration": 4,
    "start_time": "2022-04-09T13:43:57.431Z"
   },
   {
    "duration": 16,
    "start_time": "2022-04-09T13:49:00.816Z"
   },
   {
    "duration": 18,
    "start_time": "2022-04-09T13:49:08.862Z"
   },
   {
    "duration": 16,
    "start_time": "2022-04-09T13:49:31.350Z"
   },
   {
    "duration": 15,
    "start_time": "2022-04-09T13:50:04.371Z"
   },
   {
    "duration": 22,
    "start_time": "2022-04-09T13:50:09.486Z"
   },
   {
    "duration": 5,
    "start_time": "2022-04-09T13:51:41.157Z"
   },
   {
    "duration": 3,
    "start_time": "2022-04-09T13:51:50.249Z"
   },
   {
    "duration": 4,
    "start_time": "2022-04-09T13:51:58.883Z"
   },
   {
    "duration": 19,
    "start_time": "2022-04-09T13:53:20.858Z"
   },
   {
    "duration": 10,
    "start_time": "2022-04-09T13:53:43.829Z"
   },
   {
    "duration": 20,
    "start_time": "2022-04-09T13:53:48.718Z"
   },
   {
    "duration": 55,
    "start_time": "2022-04-09T14:36:02.998Z"
   },
   {
    "duration": 5,
    "start_time": "2022-04-09T14:36:03.629Z"
   },
   {
    "duration": 11,
    "start_time": "2022-04-09T14:36:03.788Z"
   },
   {
    "duration": 4,
    "start_time": "2022-04-09T14:36:04.069Z"
   },
   {
    "duration": 6,
    "start_time": "2022-04-09T14:36:04.247Z"
   },
   {
    "duration": 11,
    "start_time": "2022-04-09T14:36:04.414Z"
   },
   {
    "duration": 4,
    "start_time": "2022-04-09T14:36:04.574Z"
   },
   {
    "duration": 7,
    "start_time": "2022-04-09T14:36:04.749Z"
   },
   {
    "duration": 4,
    "start_time": "2022-04-09T14:36:05.063Z"
   },
   {
    "duration": 5,
    "start_time": "2022-04-09T14:36:05.406Z"
   },
   {
    "duration": 5,
    "start_time": "2022-04-09T14:36:05.576Z"
   },
   {
    "duration": 4,
    "start_time": "2022-04-09T14:36:05.929Z"
   },
   {
    "duration": 13,
    "start_time": "2022-04-09T14:36:06.490Z"
   },
   {
    "duration": 16,
    "start_time": "2022-04-09T14:36:07.124Z"
   },
   {
    "duration": 5,
    "start_time": "2022-04-09T14:36:07.539Z"
   },
   {
    "duration": 23,
    "start_time": "2022-04-09T14:36:07.949Z"
   },
   {
    "duration": 10,
    "start_time": "2022-04-09T14:36:15.334Z"
   },
   {
    "duration": 11,
    "start_time": "2022-04-09T14:36:15.529Z"
   },
   {
    "duration": 31,
    "start_time": "2022-04-09T14:36:16.074Z"
   },
   {
    "duration": 5,
    "start_time": "2022-04-09T14:36:16.442Z"
   },
   {
    "duration": 11,
    "start_time": "2022-04-09T14:36:16.642Z"
   },
   {
    "duration": 6,
    "start_time": "2022-04-09T14:55:38.783Z"
   },
   {
    "duration": 9,
    "start_time": "2022-04-09T14:56:36.005Z"
   },
   {
    "duration": 3,
    "start_time": "2022-04-09T14:56:47.691Z"
   },
   {
    "duration": 4,
    "start_time": "2022-04-09T14:56:53.194Z"
   },
   {
    "duration": 3,
    "start_time": "2022-04-09T14:57:00.404Z"
   },
   {
    "duration": 16,
    "start_time": "2022-04-09T14:57:26.215Z"
   },
   {
    "duration": 4,
    "start_time": "2022-04-09T14:57:37.948Z"
   },
   {
    "duration": 5,
    "start_time": "2022-04-09T14:57:47.190Z"
   },
   {
    "duration": 19,
    "start_time": "2022-04-09T14:58:55.799Z"
   },
   {
    "duration": 592,
    "start_time": "2022-04-09T14:59:04.297Z"
   },
   {
    "duration": 6,
    "start_time": "2022-04-09T14:59:14.319Z"
   },
   {
    "duration": 7,
    "start_time": "2022-04-09T14:59:19.124Z"
   },
   {
    "duration": 5,
    "start_time": "2022-04-09T14:59:24.015Z"
   },
   {
    "duration": 7,
    "start_time": "2022-04-09T14:59:27.168Z"
   },
   {
    "duration": 12,
    "start_time": "2022-04-09T15:02:52.045Z"
   },
   {
    "duration": 5,
    "start_time": "2022-04-09T15:03:00.178Z"
   },
   {
    "duration": 13,
    "start_time": "2022-04-09T15:03:11.210Z"
   },
   {
    "duration": 112,
    "start_time": "2022-04-09T15:03:52.170Z"
   },
   {
    "duration": 829,
    "start_time": "2022-04-09T15:04:06.968Z"
   },
   {
    "duration": 16,
    "start_time": "2022-04-09T15:04:19.152Z"
   },
   {
    "duration": 10,
    "start_time": "2022-04-09T15:10:56.714Z"
   },
   {
    "duration": 6,
    "start_time": "2022-04-09T15:11:04.353Z"
   },
   {
    "duration": 5,
    "start_time": "2022-04-09T15:12:32.515Z"
   },
   {
    "duration": 4,
    "start_time": "2022-04-09T15:13:13.310Z"
   },
   {
    "duration": 18,
    "start_time": "2022-04-09T15:14:03.597Z"
   },
   {
    "duration": 5,
    "start_time": "2022-04-09T15:14:10.467Z"
   },
   {
    "duration": 12,
    "start_time": "2022-04-09T15:15:30.799Z"
   },
   {
    "duration": 15,
    "start_time": "2022-04-09T15:15:43.575Z"
   },
   {
    "duration": 10,
    "start_time": "2022-04-09T15:15:51.914Z"
   },
   {
    "duration": 1824,
    "start_time": "2022-04-09T15:16:16.487Z"
   },
   {
    "duration": 10,
    "start_time": "2022-04-09T15:16:38.551Z"
   },
   {
    "duration": 1712,
    "start_time": "2022-04-09T15:18:03.305Z"
   },
   {
    "duration": 9,
    "start_time": "2022-04-09T15:18:26.933Z"
   },
   {
    "duration": 6,
    "start_time": "2022-04-09T15:20:31.410Z"
   },
   {
    "duration": 15,
    "start_time": "2022-04-09T15:25:52.369Z"
   },
   {
    "duration": 6,
    "start_time": "2022-04-09T15:26:35.593Z"
   },
   {
    "duration": 5,
    "start_time": "2022-04-09T15:26:38.275Z"
   },
   {
    "duration": 10,
    "start_time": "2022-04-09T15:26:43.553Z"
   },
   {
    "duration": 7,
    "start_time": "2022-04-09T15:26:56.948Z"
   },
   {
    "duration": 11,
    "start_time": "2022-04-09T15:27:01.417Z"
   },
   {
    "duration": 13,
    "start_time": "2022-04-09T15:36:52.906Z"
   },
   {
    "duration": 9,
    "start_time": "2022-04-09T15:36:56.046Z"
   },
   {
    "duration": 4,
    "start_time": "2022-04-09T15:37:45.753Z"
   },
   {
    "duration": 6,
    "start_time": "2022-04-09T15:37:58.338Z"
   },
   {
    "duration": 6,
    "start_time": "2022-04-09T15:39:54.765Z"
   },
   {
    "duration": 22,
    "start_time": "2022-04-09T15:42:03.536Z"
   },
   {
    "duration": 1727,
    "start_time": "2022-04-09T15:43:17.830Z"
   },
   {
    "duration": 18,
    "start_time": "2022-04-09T15:43:24.232Z"
   },
   {
    "duration": 1548,
    "start_time": "2022-04-09T15:43:34.430Z"
   },
   {
    "duration": 55,
    "start_time": "2022-04-09T15:43:41.663Z"
   },
   {
    "duration": 6,
    "start_time": "2022-04-09T15:43:44.866Z"
   },
   {
    "duration": 13,
    "start_time": "2022-04-09T15:43:45.421Z"
   },
   {
    "duration": 4,
    "start_time": "2022-04-09T15:43:46.327Z"
   },
   {
    "duration": 5,
    "start_time": "2022-04-09T15:43:47.477Z"
   },
   {
    "duration": 13,
    "start_time": "2022-04-09T15:43:48.252Z"
   },
   {
    "duration": 4,
    "start_time": "2022-04-09T15:43:48.956Z"
   },
   {
    "duration": 7,
    "start_time": "2022-04-09T15:43:50.166Z"
   },
   {
    "duration": 5,
    "start_time": "2022-04-09T15:43:51.876Z"
   },
   {
    "duration": 5,
    "start_time": "2022-04-09T15:43:52.317Z"
   },
   {
    "duration": 6,
    "start_time": "2022-04-09T15:43:52.877Z"
   },
   {
    "duration": 19,
    "start_time": "2022-04-09T15:43:54.371Z"
   },
   {
    "duration": 1640,
    "start_time": "2022-04-09T15:43:55.300Z"
   },
   {
    "duration": 0,
    "start_time": "2022-04-09T15:43:56.942Z"
   },
   {
    "duration": 12,
    "start_time": "2022-04-09T15:43:59.228Z"
   },
   {
    "duration": 14,
    "start_time": "2022-04-09T15:44:04.379Z"
   },
   {
    "duration": 6,
    "start_time": "2022-04-09T15:44:16.601Z"
   },
   {
    "duration": 5,
    "start_time": "2022-04-09T15:44:21.503Z"
   },
   {
    "duration": 5,
    "start_time": "2022-04-09T15:44:22.980Z"
   },
   {
    "duration": 17,
    "start_time": "2022-04-09T15:44:25.556Z"
   },
   {
    "duration": 21,
    "start_time": "2022-04-09T15:44:44.571Z"
   },
   {
    "duration": 1579,
    "start_time": "2022-04-09T15:44:48.384Z"
   },
   {
    "duration": 1613,
    "start_time": "2022-04-09T15:44:57.312Z"
   },
   {
    "duration": 1585,
    "start_time": "2022-04-09T15:46:31.526Z"
   },
   {
    "duration": 56,
    "start_time": "2022-04-09T15:46:54.409Z"
   },
   {
    "duration": 6,
    "start_time": "2022-04-09T15:46:57.111Z"
   },
   {
    "duration": 410,
    "start_time": "2022-04-09T15:47:14.488Z"
   },
   {
    "duration": 5,
    "start_time": "2022-04-09T15:47:14.900Z"
   },
   {
    "duration": 3,
    "start_time": "2022-04-09T15:47:14.909Z"
   },
   {
    "duration": 6,
    "start_time": "2022-04-09T15:47:14.913Z"
   },
   {
    "duration": 3,
    "start_time": "2022-04-09T15:47:14.921Z"
   },
   {
    "duration": 7,
    "start_time": "2022-04-09T15:47:14.925Z"
   },
   {
    "duration": 4,
    "start_time": "2022-04-09T15:47:14.934Z"
   },
   {
    "duration": 33,
    "start_time": "2022-04-09T15:47:14.939Z"
   },
   {
    "duration": 9,
    "start_time": "2022-04-09T15:47:14.974Z"
   },
   {
    "duration": 25,
    "start_time": "2022-04-09T15:47:14.984Z"
   },
   {
    "duration": 1653,
    "start_time": "2022-04-09T15:47:15.010Z"
   },
   {
    "duration": 0,
    "start_time": "2022-04-09T15:47:16.664Z"
   },
   {
    "duration": 0,
    "start_time": "2022-04-09T15:47:16.665Z"
   },
   {
    "duration": 0,
    "start_time": "2022-04-09T15:47:16.667Z"
   },
   {
    "duration": 0,
    "start_time": "2022-04-09T15:47:16.667Z"
   },
   {
    "duration": 0,
    "start_time": "2022-04-09T15:47:16.668Z"
   },
   {
    "duration": 0,
    "start_time": "2022-04-09T15:47:16.669Z"
   },
   {
    "duration": 0,
    "start_time": "2022-04-09T15:47:16.670Z"
   },
   {
    "duration": 0,
    "start_time": "2022-04-09T15:47:16.671Z"
   },
   {
    "duration": 0,
    "start_time": "2022-04-09T15:47:16.672Z"
   },
   {
    "duration": 0,
    "start_time": "2022-04-09T15:47:16.672Z"
   },
   {
    "duration": 0,
    "start_time": "2022-04-09T15:47:16.673Z"
   },
   {
    "duration": 0,
    "start_time": "2022-04-09T15:47:16.674Z"
   },
   {
    "duration": 0,
    "start_time": "2022-04-09T15:47:16.675Z"
   },
   {
    "duration": 22,
    "start_time": "2022-04-09T15:47:30.828Z"
   },
   {
    "duration": 1712,
    "start_time": "2022-04-09T15:47:33.615Z"
   },
   {
    "duration": 5,
    "start_time": "2022-04-09T15:47:42.384Z"
   },
   {
    "duration": 5,
    "start_time": "2022-04-09T15:47:47.482Z"
   },
   {
    "duration": 14,
    "start_time": "2022-04-09T15:47:50.089Z"
   },
   {
    "duration": 17,
    "start_time": "2022-04-09T15:47:53.492Z"
   },
   {
    "duration": 5,
    "start_time": "2022-04-09T15:47:57.551Z"
   },
   {
    "duration": 24,
    "start_time": "2022-04-09T15:47:58.823Z"
   },
   {
    "duration": 11,
    "start_time": "2022-04-09T15:48:01.170Z"
   },
   {
    "duration": 11,
    "start_time": "2022-04-09T15:48:03.433Z"
   },
   {
    "duration": 31,
    "start_time": "2022-04-09T15:48:06.763Z"
   },
   {
    "duration": 31,
    "start_time": "2022-04-09T15:48:17.181Z"
   },
   {
    "duration": 10,
    "start_time": "2022-04-09T15:48:50.582Z"
   },
   {
    "duration": 23,
    "start_time": "2022-04-09T15:48:56.003Z"
   },
   {
    "duration": 6,
    "start_time": "2022-04-09T15:49:20.744Z"
   },
   {
    "duration": 13,
    "start_time": "2022-04-09T15:49:22.556Z"
   },
   {
    "duration": 15,
    "start_time": "2022-04-09T15:49:29.025Z"
   },
   {
    "duration": 5,
    "start_time": "2022-04-09T15:49:31.306Z"
   },
   {
    "duration": 9,
    "start_time": "2022-04-09T15:49:33.608Z"
   },
   {
    "duration": 9,
    "start_time": "2022-04-09T15:57:44.925Z"
   },
   {
    "duration": 9,
    "start_time": "2022-04-09T15:59:47.171Z"
   },
   {
    "duration": 9,
    "start_time": "2022-04-09T16:03:10.272Z"
   },
   {
    "duration": 4,
    "start_time": "2022-04-09T16:03:42.052Z"
   },
   {
    "duration": 6,
    "start_time": "2022-04-09T16:03:58.431Z"
   },
   {
    "duration": 7,
    "start_time": "2022-04-09T16:07:37.841Z"
   },
   {
    "duration": 5,
    "start_time": "2022-04-09T16:07:46.284Z"
   },
   {
    "duration": 8,
    "start_time": "2022-04-09T16:08:16.052Z"
   },
   {
    "duration": 8,
    "start_time": "2022-04-09T16:08:41.034Z"
   },
   {
    "duration": 9,
    "start_time": "2022-04-09T16:08:57.507Z"
   },
   {
    "duration": 8,
    "start_time": "2022-04-09T16:09:06.780Z"
   },
   {
    "duration": 8,
    "start_time": "2022-04-09T16:12:44.319Z"
   },
   {
    "duration": 90,
    "start_time": "2022-04-20T06:00:16.923Z"
   },
   {
    "duration": 41,
    "start_time": "2022-04-20T06:00:23.433Z"
   },
   {
    "duration": 426,
    "start_time": "2022-04-20T06:00:31.498Z"
   },
   {
    "duration": 4,
    "start_time": "2022-04-20T06:00:35.916Z"
   },
   {
    "duration": 26,
    "start_time": "2022-04-20T06:00:47.038Z"
   },
   {
    "duration": 7,
    "start_time": "2022-04-20T06:01:31.114Z"
   },
   {
    "duration": 15,
    "start_time": "2022-04-20T06:06:04.684Z"
   },
   {
    "duration": 10,
    "start_time": "2022-04-20T06:06:11.906Z"
   },
   {
    "duration": 9,
    "start_time": "2022-04-20T06:07:59.440Z"
   },
   {
    "duration": 1214,
    "start_time": "2022-04-20T06:08:05.195Z"
   },
   {
    "duration": 10,
    "start_time": "2022-04-20T06:08:12.914Z"
   },
   {
    "duration": 1048,
    "start_time": "2022-04-20T06:08:18.026Z"
   },
   {
    "duration": 11,
    "start_time": "2022-04-20T06:08:24.247Z"
   },
   {
    "duration": 11,
    "start_time": "2022-04-20T06:08:30.836Z"
   },
   {
    "duration": 10,
    "start_time": "2022-04-20T06:08:33.747Z"
   },
   {
    "duration": 16,
    "start_time": "2022-04-20T06:08:38.333Z"
   },
   {
    "duration": 10,
    "start_time": "2022-04-20T06:11:28.980Z"
   },
   {
    "duration": 7,
    "start_time": "2022-04-20T06:12:28.037Z"
   },
   {
    "duration": 10,
    "start_time": "2022-04-20T06:12:31.761Z"
   },
   {
    "duration": 5,
    "start_time": "2022-04-20T06:12:42.644Z"
   },
   {
    "duration": 10,
    "start_time": "2022-04-20T06:13:12.583Z"
   },
   {
    "duration": 4,
    "start_time": "2022-04-20T06:13:40.371Z"
   },
   {
    "duration": 21,
    "start_time": "2022-04-20T06:18:49.264Z"
   },
   {
    "duration": 11,
    "start_time": "2022-04-20T06:18:56.069Z"
   },
   {
    "duration": 21,
    "start_time": "2022-04-20T06:19:06.889Z"
   },
   {
    "duration": 5,
    "start_time": "2022-04-20T06:19:24.643Z"
   },
   {
    "duration": 4,
    "start_time": "2022-04-20T06:19:30.788Z"
   },
   {
    "duration": 6,
    "start_time": "2022-04-20T06:19:42.790Z"
   },
   {
    "duration": 6,
    "start_time": "2022-04-20T06:20:11.628Z"
   },
   {
    "duration": 23,
    "start_time": "2022-04-20T06:20:41.249Z"
   },
   {
    "duration": 10,
    "start_time": "2022-04-20T06:21:00.063Z"
   },
   {
    "duration": 19,
    "start_time": "2022-04-20T06:21:08.042Z"
   },
   {
    "duration": 21,
    "start_time": "2022-04-20T06:21:16.412Z"
   },
   {
    "duration": 12,
    "start_time": "2022-04-20T06:25:21.669Z"
   },
   {
    "duration": 9,
    "start_time": "2022-04-20T06:27:24.076Z"
   },
   {
    "duration": 24,
    "start_time": "2022-04-20T06:27:53.687Z"
   },
   {
    "duration": 6,
    "start_time": "2022-04-20T06:29:01.378Z"
   },
   {
    "duration": 48,
    "start_time": "2022-04-20T06:34:01.228Z"
   },
   {
    "duration": 459,
    "start_time": "2022-04-20T09:14:02.772Z"
   },
   {
    "duration": 17,
    "start_time": "2022-04-20T09:14:03.232Z"
   },
   {
    "duration": 5,
    "start_time": "2022-04-20T09:14:03.251Z"
   },
   {
    "duration": 5,
    "start_time": "2022-04-20T09:14:03.258Z"
   },
   {
    "duration": 8,
    "start_time": "2022-04-20T09:14:03.264Z"
   },
   {
    "duration": 5,
    "start_time": "2022-04-20T09:14:03.273Z"
   },
   {
    "duration": 32,
    "start_time": "2022-04-20T09:14:03.279Z"
   },
   {
    "duration": 5,
    "start_time": "2022-04-20T09:14:03.313Z"
   },
   {
    "duration": 4,
    "start_time": "2022-04-20T09:14:03.320Z"
   },
   {
    "duration": 6,
    "start_time": "2022-04-20T09:14:03.327Z"
   },
   {
    "duration": 25,
    "start_time": "2022-04-20T09:14:03.334Z"
   },
   {
    "duration": 58,
    "start_time": "2022-04-20T09:14:03.361Z"
   },
   {
    "duration": 25,
    "start_time": "2022-04-20T09:14:03.421Z"
   },
   {
    "duration": 6,
    "start_time": "2022-04-20T09:14:03.447Z"
   },
   {
    "duration": 10,
    "start_time": "2022-04-20T09:14:03.454Z"
   },
   {
    "duration": 9,
    "start_time": "2022-04-20T09:14:03.466Z"
   },
   {
    "duration": 37,
    "start_time": "2022-04-20T09:14:03.477Z"
   },
   {
    "duration": 63,
    "start_time": "2022-04-20T09:14:03.516Z"
   },
   {
    "duration": 0,
    "start_time": "2022-04-20T09:14:03.581Z"
   },
   {
    "duration": 0,
    "start_time": "2022-04-20T09:14:03.582Z"
   },
   {
    "duration": 0,
    "start_time": "2022-04-20T09:14:03.583Z"
   },
   {
    "duration": 0,
    "start_time": "2022-04-20T09:14:03.584Z"
   },
   {
    "duration": 0,
    "start_time": "2022-04-20T09:14:03.585Z"
   },
   {
    "duration": 0,
    "start_time": "2022-04-20T09:14:03.607Z"
   },
   {
    "duration": 0,
    "start_time": "2022-04-20T09:14:03.608Z"
   },
   {
    "duration": 0,
    "start_time": "2022-04-20T09:14:03.609Z"
   },
   {
    "duration": 0,
    "start_time": "2022-04-20T09:14:03.610Z"
   },
   {
    "duration": 0,
    "start_time": "2022-04-20T09:14:03.611Z"
   },
   {
    "duration": 0,
    "start_time": "2022-04-20T09:14:03.612Z"
   },
   {
    "duration": 0,
    "start_time": "2022-04-20T09:14:03.613Z"
   },
   {
    "duration": 0,
    "start_time": "2022-04-20T09:14:03.614Z"
   },
   {
    "duration": 0,
    "start_time": "2022-04-20T09:14:03.615Z"
   },
   {
    "duration": 73,
    "start_time": "2022-04-20T09:14:17.861Z"
   },
   {
    "duration": 11,
    "start_time": "2022-04-20T09:14:22.049Z"
   },
   {
    "duration": 6,
    "start_time": "2022-04-20T09:14:23.839Z"
   },
   {
    "duration": 4,
    "start_time": "2022-04-20T09:14:24.639Z"
   },
   {
    "duration": 5,
    "start_time": "2022-04-20T09:14:26.183Z"
   },
   {
    "duration": 5,
    "start_time": "2022-04-20T09:14:27.072Z"
   },
   {
    "duration": 5,
    "start_time": "2022-04-20T09:14:50.351Z"
   },
   {
    "duration": 4,
    "start_time": "2022-04-20T09:14:56.604Z"
   },
   {
    "duration": 4,
    "start_time": "2022-04-20T09:15:12.156Z"
   },
   {
    "duration": 4,
    "start_time": "2022-04-20T09:15:14.865Z"
   },
   {
    "duration": 10,
    "start_time": "2022-04-20T09:15:15.855Z"
   },
   {
    "duration": 3,
    "start_time": "2022-04-20T09:15:19.132Z"
   },
   {
    "duration": 5,
    "start_time": "2022-04-20T09:15:22.908Z"
   },
   {
    "duration": 569,
    "start_time": "2022-04-20T14:08:44.838Z"
   },
   {
    "duration": 16,
    "start_time": "2022-04-20T14:08:45.409Z"
   },
   {
    "duration": 4,
    "start_time": "2022-04-20T14:08:45.426Z"
   },
   {
    "duration": 5,
    "start_time": "2022-04-20T14:08:45.447Z"
   },
   {
    "duration": 8,
    "start_time": "2022-04-20T14:08:45.454Z"
   },
   {
    "duration": 12,
    "start_time": "2022-04-20T14:08:45.463Z"
   },
   {
    "duration": 11,
    "start_time": "2022-04-20T14:08:45.476Z"
   },
   {
    "duration": 9,
    "start_time": "2022-04-20T14:08:45.488Z"
   },
   {
    "duration": 7,
    "start_time": "2022-04-20T14:08:45.499Z"
   },
   {
    "duration": 9,
    "start_time": "2022-04-20T14:08:45.509Z"
   },
   {
    "duration": 52,
    "start_time": "2022-04-20T14:08:45.520Z"
   },
   {
    "duration": 20,
    "start_time": "2022-04-20T14:08:45.574Z"
   },
   {
    "duration": 23,
    "start_time": "2022-04-20T14:08:45.596Z"
   },
   {
    "duration": 30,
    "start_time": "2022-04-20T14:08:45.620Z"
   },
   {
    "duration": 8,
    "start_time": "2022-04-20T14:08:45.651Z"
   },
   {
    "duration": 10,
    "start_time": "2022-04-20T14:08:45.661Z"
   },
   {
    "duration": 24,
    "start_time": "2022-04-20T14:08:45.672Z"
   },
   {
    "duration": 78,
    "start_time": "2022-04-20T14:08:45.697Z"
   },
   {
    "duration": 0,
    "start_time": "2022-04-20T14:08:45.777Z"
   },
   {
    "duration": 0,
    "start_time": "2022-04-20T14:08:45.779Z"
   },
   {
    "duration": 0,
    "start_time": "2022-04-20T14:08:45.780Z"
   },
   {
    "duration": 0,
    "start_time": "2022-04-20T14:08:45.781Z"
   },
   {
    "duration": 0,
    "start_time": "2022-04-20T14:08:45.782Z"
   },
   {
    "duration": 0,
    "start_time": "2022-04-20T14:08:45.783Z"
   },
   {
    "duration": 0,
    "start_time": "2022-04-20T14:08:45.784Z"
   },
   {
    "duration": 0,
    "start_time": "2022-04-20T14:08:45.785Z"
   },
   {
    "duration": 0,
    "start_time": "2022-04-20T14:08:45.786Z"
   },
   {
    "duration": 0,
    "start_time": "2022-04-20T14:08:45.787Z"
   },
   {
    "duration": 0,
    "start_time": "2022-04-20T14:08:45.787Z"
   },
   {
    "duration": 0,
    "start_time": "2022-04-20T14:08:45.789Z"
   },
   {
    "duration": 0,
    "start_time": "2022-04-20T14:08:45.790Z"
   },
   {
    "duration": 0,
    "start_time": "2022-04-20T14:08:45.790Z"
   },
   {
    "duration": 69,
    "start_time": "2022-04-20T14:08:54.962Z"
   },
   {
    "duration": 10,
    "start_time": "2022-04-20T14:08:55.550Z"
   },
   {
    "duration": 4,
    "start_time": "2022-04-20T14:08:56.073Z"
   },
   {
    "duration": 4,
    "start_time": "2022-04-20T14:08:56.261Z"
   },
   {
    "duration": 4,
    "start_time": "2022-04-20T14:08:56.655Z"
   },
   {
    "duration": 4,
    "start_time": "2022-04-20T14:08:56.865Z"
   },
   {
    "duration": 7,
    "start_time": "2022-04-20T14:08:57.105Z"
   },
   {
    "duration": 5,
    "start_time": "2022-04-20T14:08:57.946Z"
   },
   {
    "duration": 5,
    "start_time": "2022-04-20T14:09:12.209Z"
   },
   {
    "duration": 6,
    "start_time": "2022-04-20T14:09:12.673Z"
   },
   {
    "duration": 22,
    "start_time": "2022-04-20T14:09:14.661Z"
   },
   {
    "duration": 20,
    "start_time": "2022-04-20T14:09:16.389Z"
   },
   {
    "duration": 22,
    "start_time": "2022-04-20T14:09:21.069Z"
   },
   {
    "duration": 6,
    "start_time": "2022-04-20T14:09:21.758Z"
   },
   {
    "duration": 4,
    "start_time": "2022-04-20T14:09:23.873Z"
   },
   {
    "duration": 7,
    "start_time": "2022-04-20T14:09:24.994Z"
   },
   {
    "duration": 15,
    "start_time": "2022-04-20T14:09:31.424Z"
   },
   {
    "duration": 7,
    "start_time": "2022-04-20T14:09:32.796Z"
   },
   {
    "duration": 69,
    "start_time": "2022-04-20T14:09:58.897Z"
   },
   {
    "duration": 7,
    "start_time": "2022-04-20T14:10:08.612Z"
   },
   {
    "duration": 16,
    "start_time": "2022-04-20T14:10:14.501Z"
   },
   {
    "duration": 5,
    "start_time": "2022-04-20T14:10:55.804Z"
   },
   {
    "duration": 20,
    "start_time": "2022-04-20T14:10:58.235Z"
   },
   {
    "duration": 5,
    "start_time": "2022-04-20T14:11:01.222Z"
   },
   {
    "duration": 4,
    "start_time": "2022-04-20T14:11:36.261Z"
   },
   {
    "duration": 11,
    "start_time": "2022-04-20T14:11:41.980Z"
   },
   {
    "duration": 11,
    "start_time": "2022-04-20T14:11:46.964Z"
   },
   {
    "duration": 5,
    "start_time": "2022-04-20T14:11:50.420Z"
   },
   {
    "duration": 27,
    "start_time": "2022-04-20T14:11:53.640Z"
   },
   {
    "duration": 10,
    "start_time": "2022-04-20T14:12:09.984Z"
   },
   {
    "duration": 5,
    "start_time": "2022-04-20T14:12:12.974Z"
   },
   {
    "duration": 7,
    "start_time": "2022-04-20T14:12:47.140Z"
   },
   {
    "duration": 8,
    "start_time": "2022-04-20T14:12:55.057Z"
   },
   {
    "duration": 28,
    "start_time": "2022-04-20T14:13:02.997Z"
   },
   {
    "duration": 15,
    "start_time": "2022-04-20T14:13:47.687Z"
   },
   {
    "duration": 21,
    "start_time": "2022-04-20T14:13:55.702Z"
   },
   {
    "duration": 35,
    "start_time": "2022-04-20T14:14:42.547Z"
   },
   {
    "duration": 23,
    "start_time": "2022-04-20T14:14:46.175Z"
   },
   {
    "duration": 21,
    "start_time": "2022-04-20T14:14:50.995Z"
   },
   {
    "duration": 6,
    "start_time": "2022-04-20T14:18:45.828Z"
   },
   {
    "duration": 8,
    "start_time": "2022-04-20T14:18:47.533Z"
   },
   {
    "duration": 9,
    "start_time": "2022-04-20T14:18:50.972Z"
   },
   {
    "duration": 9,
    "start_time": "2022-04-20T14:18:53.306Z"
   },
   {
    "duration": 9,
    "start_time": "2022-04-20T14:18:55.551Z"
   },
   {
    "duration": 63,
    "start_time": "2022-04-20T14:19:01.831Z"
   },
   {
    "duration": 10,
    "start_time": "2022-04-20T14:19:02.336Z"
   },
   {
    "duration": 4,
    "start_time": "2022-04-20T14:19:02.791Z"
   },
   {
    "duration": 5,
    "start_time": "2022-04-20T14:19:02.952Z"
   },
   {
    "duration": 4,
    "start_time": "2022-04-20T14:19:03.278Z"
   },
   {
    "duration": 4,
    "start_time": "2022-04-20T14:19:03.448Z"
   },
   {
    "duration": 8,
    "start_time": "2022-04-20T14:19:03.632Z"
   },
   {
    "duration": 5,
    "start_time": "2022-04-20T14:19:03.985Z"
   },
   {
    "duration": 5,
    "start_time": "2022-04-20T14:19:04.579Z"
   },
   {
    "duration": 6,
    "start_time": "2022-04-20T14:19:04.777Z"
   },
   {
    "duration": 23,
    "start_time": "2022-04-20T14:19:05.205Z"
   },
   {
    "duration": 22,
    "start_time": "2022-04-20T14:19:05.660Z"
   },
   {
    "duration": 26,
    "start_time": "2022-04-20T14:19:06.149Z"
   },
   {
    "duration": 6,
    "start_time": "2022-04-20T14:19:06.360Z"
   },
   {
    "duration": 5,
    "start_time": "2022-04-20T14:19:06.790Z"
   },
   {
    "duration": 7,
    "start_time": "2022-04-20T14:19:07.238Z"
   },
   {
    "duration": 15,
    "start_time": "2022-04-20T14:19:08.033Z"
   },
   {
    "duration": 17,
    "start_time": "2022-04-20T14:19:08.682Z"
   },
   {
    "duration": 23,
    "start_time": "2022-04-20T14:19:09.333Z"
   },
   {
    "duration": 12,
    "start_time": "2022-04-20T14:19:10.420Z"
   },
   {
    "duration": 13,
    "start_time": "2022-04-20T14:19:10.645Z"
   },
   {
    "duration": 7,
    "start_time": "2022-04-20T14:19:10.878Z"
   },
   {
    "duration": 26,
    "start_time": "2022-04-20T14:19:11.118Z"
   },
   {
    "duration": 27,
    "start_time": "2022-04-20T14:19:12.857Z"
   },
   {
    "duration": 7,
    "start_time": "2022-04-20T14:19:13.962Z"
   },
   {
    "duration": 13,
    "start_time": "2022-04-20T14:19:14.430Z"
   },
   {
    "duration": 16,
    "start_time": "2022-04-20T14:19:17.075Z"
   },
   {
    "duration": 6,
    "start_time": "2022-04-20T14:19:18.012Z"
   },
   {
    "duration": 8,
    "start_time": "2022-04-20T14:19:26.967Z"
   },
   {
    "duration": 8,
    "start_time": "2022-04-20T14:19:28.868Z"
   },
   {
    "duration": 10,
    "start_time": "2022-04-20T14:19:30.854Z"
   },
   {
    "duration": 23,
    "start_time": "2022-04-20T14:19:32.829Z"
   },
   {
    "duration": 49,
    "start_time": "2022-04-23T10:49:54.289Z"
   },
   {
    "duration": 478,
    "start_time": "2022-04-23T10:50:17.781Z"
   },
   {
    "duration": 72,
    "start_time": "2022-04-23T10:50:45.192Z"
   },
   {
    "duration": 17,
    "start_time": "2022-04-23T10:50:45.965Z"
   },
   {
    "duration": 4,
    "start_time": "2022-04-23T10:50:46.680Z"
   },
   {
    "duration": 5,
    "start_time": "2022-04-23T10:50:46.879Z"
   },
   {
    "duration": 4,
    "start_time": "2022-04-23T10:50:47.353Z"
   },
   {
    "duration": 5,
    "start_time": "2022-04-23T10:50:47.481Z"
   },
   {
    "duration": 9,
    "start_time": "2022-04-23T10:50:47.680Z"
   },
   {
    "duration": 6,
    "start_time": "2022-04-23T10:50:48.107Z"
   },
   {
    "duration": 6,
    "start_time": "2022-04-23T10:50:48.771Z"
   },
   {
    "duration": 7,
    "start_time": "2022-04-23T10:50:49.093Z"
   },
   {
    "duration": 24,
    "start_time": "2022-04-23T10:50:50.112Z"
   },
   {
    "duration": 22,
    "start_time": "2022-04-23T10:50:51.249Z"
   },
   {
    "duration": 24,
    "start_time": "2022-04-23T10:50:51.802Z"
   },
   {
    "duration": 6,
    "start_time": "2022-04-23T10:50:52.021Z"
   },
   {
    "duration": 5,
    "start_time": "2022-04-23T10:50:52.929Z"
   },
   {
    "duration": 7,
    "start_time": "2022-04-23T10:50:54.131Z"
   },
   {
    "duration": 15,
    "start_time": "2022-04-23T10:50:56.890Z"
   },
   {
    "duration": 17,
    "start_time": "2022-04-23T10:50:59.486Z"
   },
   {
    "duration": 18,
    "start_time": "2022-04-23T10:51:01.027Z"
   },
   {
    "duration": 11,
    "start_time": "2022-04-23T10:51:04.133Z"
   },
   {
    "duration": 11,
    "start_time": "2022-04-23T10:51:04.992Z"
   },
   {
    "duration": 8,
    "start_time": "2022-04-23T10:51:05.801Z"
   },
   {
    "duration": 20,
    "start_time": "2022-04-23T10:51:17.537Z"
   },
   {
    "duration": 25,
    "start_time": "2022-04-23T10:51:55.146Z"
   },
   {
    "duration": 3,
    "start_time": "2022-04-23T10:52:05.771Z"
   },
   {
    "duration": 2513,
    "start_time": "2022-04-23T10:52:28.466Z"
   },
   {
    "duration": 11,
    "start_time": "2022-04-23T11:17:00.984Z"
   },
   {
    "duration": 10,
    "start_time": "2022-04-23T11:17:21.252Z"
   },
   {
    "duration": 12,
    "start_time": "2022-04-23T11:17:30.516Z"
   },
   {
    "duration": 9,
    "start_time": "2022-04-23T11:18:47.633Z"
   },
   {
    "duration": 30,
    "start_time": "2022-04-23T11:26:50.242Z"
   },
   {
    "duration": 34,
    "start_time": "2022-04-23T11:27:06.833Z"
   },
   {
    "duration": 582,
    "start_time": "2022-04-27T07:41:46.930Z"
   }
  ],
  "kernelspec": {
   "display_name": "Python 3 (ipykernel)",
   "language": "python",
   "name": "python3"
  },
  "language_info": {
   "codemirror_mode": {
    "name": "ipython",
    "version": 3
   },
   "file_extension": ".py",
   "mimetype": "text/x-python",
   "name": "python",
   "nbconvert_exporter": "python",
   "pygments_lexer": "ipython3",
   "version": "3.9.7"
  },
  "toc": {
   "base_numbering": 1,
   "nav_menu": {},
   "number_sections": true,
   "sideBar": true,
   "skip_h1_title": true,
   "title_cell": "Table of Contents",
   "title_sidebar": "Contents",
   "toc_cell": false,
   "toc_position": {},
   "toc_section_display": true,
   "toc_window_display": false
  }
 },
 "nbformat": 4,
 "nbformat_minor": 5
}
