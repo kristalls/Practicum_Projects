{
 "cells": [
  {
   "cell_type": "markdown",
   "metadata": {},
   "source": [
    "## Импорт библиотек и данных"
   ]
  },
  {
   "cell_type": "code",
   "execution_count": 1,
   "metadata": {},
   "outputs": [],
   "source": [
    "# импортируем библиотеки\n",
    "import pandas as pd\n",
    "from sqlalchemy import create_engine\n",
    "# устанавливаем параметры\n",
    "db_config = {'user': 'praktikum_student', # имя пользователя\n",
    "'pwd': 'Sdf4$2;d-d30pp', # пароль\n",
    "'host': 'rc1b-wcoijxj3yxfsf3fs.mdb.yandexcloud.net',\n",
    "'port': 6432, # порт подключения\n",
    "'db': 'data-analyst-final-project-db'} # название базы данных\n",
    "connection_string = 'postgresql://{}:{}@{}:{}/{}'.format(db_config['user'],\n",
    " db_config['pwd'],\n",
    " db_config['host'],\n",
    " db_config['port'],\n",
    " db_config['db'])\n",
    "# сохраняем коннектор\n",
    "engine = create_engine(connection_string, connect_args={'sslmode':'require'})"
   ]
  },
  {
   "cell_type": "markdown",
   "metadata": {},
   "source": [
    "## Задания"
   ]
  },
  {
   "cell_type": "markdown",
   "metadata": {},
   "source": [
    "- Опишите цели исследования;\n",
    "- Исследуйте таблицы — выведите первые строки;\n",
    "- Сделайте по одному SQL-запросу для решения каждого задания;\n",
    "- Выведите результаты каждого запроса в тетрадке;\n",
    "- Опишите выводы по каждой из решённых задач."
   ]
  },
  {
   "cell_type": "markdown",
   "metadata": {},
   "source": [
    "### Цели исследования"
   ]
  },
  {
   "cell_type": "markdown",
   "metadata": {},
   "source": [
    "Необходимо провести анализ существующей базы данных книжного магазина и сформировать ценностное предложение для нового продукта."
   ]
  },
  {
   "cell_type": "code",
   "execution_count": 14,
   "metadata": {
    "scrolled": false
   },
   "outputs": [
    {
     "data": {
      "text/html": [
       "<div>\n",
       "<style scoped>\n",
       "    .dataframe tbody tr th:only-of-type {\n",
       "        vertical-align: middle;\n",
       "    }\n",
       "\n",
       "    .dataframe tbody tr th {\n",
       "        vertical-align: top;\n",
       "    }\n",
       "\n",
       "    .dataframe thead th {\n",
       "        text-align: right;\n",
       "    }\n",
       "</style>\n",
       "<table border=\"1\" class=\"dataframe\">\n",
       "  <thead>\n",
       "    <tr style=\"text-align: right;\">\n",
       "      <th></th>\n",
       "      <th>book_id</th>\n",
       "      <th>author_id</th>\n",
       "      <th>title</th>\n",
       "      <th>num_pages</th>\n",
       "      <th>publication_date</th>\n",
       "      <th>publisher_id</th>\n",
       "    </tr>\n",
       "  </thead>\n",
       "  <tbody>\n",
       "    <tr>\n",
       "      <th>0</th>\n",
       "      <td>1</td>\n",
       "      <td>546</td>\n",
       "      <td>'Salem's Lot</td>\n",
       "      <td>594</td>\n",
       "      <td>2005-11-01</td>\n",
       "      <td>93</td>\n",
       "    </tr>\n",
       "    <tr>\n",
       "      <th>1</th>\n",
       "      <td>2</td>\n",
       "      <td>465</td>\n",
       "      <td>1 000 Places to See Before You Die</td>\n",
       "      <td>992</td>\n",
       "      <td>2003-05-22</td>\n",
       "      <td>336</td>\n",
       "    </tr>\n",
       "    <tr>\n",
       "      <th>2</th>\n",
       "      <td>3</td>\n",
       "      <td>407</td>\n",
       "      <td>13 Little Blue Envelopes (Little Blue Envelope...</td>\n",
       "      <td>322</td>\n",
       "      <td>2010-12-21</td>\n",
       "      <td>135</td>\n",
       "    </tr>\n",
       "    <tr>\n",
       "      <th>3</th>\n",
       "      <td>4</td>\n",
       "      <td>82</td>\n",
       "      <td>1491: New Revelations of the Americas Before C...</td>\n",
       "      <td>541</td>\n",
       "      <td>2006-10-10</td>\n",
       "      <td>309</td>\n",
       "    </tr>\n",
       "    <tr>\n",
       "      <th>4</th>\n",
       "      <td>5</td>\n",
       "      <td>125</td>\n",
       "      <td>1776</td>\n",
       "      <td>386</td>\n",
       "      <td>2006-07-04</td>\n",
       "      <td>268</td>\n",
       "    </tr>\n",
       "    <tr>\n",
       "      <th>5</th>\n",
       "      <td>6</td>\n",
       "      <td>257</td>\n",
       "      <td>1st to Die (Women's Murder Club  #1)</td>\n",
       "      <td>424</td>\n",
       "      <td>2005-05-20</td>\n",
       "      <td>116</td>\n",
       "    </tr>\n",
       "    <tr>\n",
       "      <th>6</th>\n",
       "      <td>7</td>\n",
       "      <td>258</td>\n",
       "      <td>2nd Chance (Women's Murder Club  #2)</td>\n",
       "      <td>400</td>\n",
       "      <td>2005-05-20</td>\n",
       "      <td>116</td>\n",
       "    </tr>\n",
       "    <tr>\n",
       "      <th>7</th>\n",
       "      <td>8</td>\n",
       "      <td>260</td>\n",
       "      <td>4th of July (Women's Murder Club  #4)</td>\n",
       "      <td>448</td>\n",
       "      <td>2006-06-01</td>\n",
       "      <td>318</td>\n",
       "    </tr>\n",
       "    <tr>\n",
       "      <th>8</th>\n",
       "      <td>9</td>\n",
       "      <td>563</td>\n",
       "      <td>A Beautiful Mind</td>\n",
       "      <td>461</td>\n",
       "      <td>2002-02-04</td>\n",
       "      <td>104</td>\n",
       "    </tr>\n",
       "    <tr>\n",
       "      <th>9</th>\n",
       "      <td>10</td>\n",
       "      <td>445</td>\n",
       "      <td>A Bend in the Road</td>\n",
       "      <td>341</td>\n",
       "      <td>2005-04-01</td>\n",
       "      <td>116</td>\n",
       "    </tr>\n",
       "  </tbody>\n",
       "</table>\n",
       "</div>"
      ],
      "text/plain": [
       "   book_id  author_id                                              title  \\\n",
       "0        1        546                                       'Salem's Lot   \n",
       "1        2        465                 1 000 Places to See Before You Die   \n",
       "2        3        407  13 Little Blue Envelopes (Little Blue Envelope...   \n",
       "3        4         82  1491: New Revelations of the Americas Before C...   \n",
       "4        5        125                                               1776   \n",
       "5        6        257               1st to Die (Women's Murder Club  #1)   \n",
       "6        7        258               2nd Chance (Women's Murder Club  #2)   \n",
       "7        8        260              4th of July (Women's Murder Club  #4)   \n",
       "8        9        563                                   A Beautiful Mind   \n",
       "9       10        445                                 A Bend in the Road   \n",
       "\n",
       "   num_pages publication_date  publisher_id  \n",
       "0        594       2005-11-01            93  \n",
       "1        992       2003-05-22           336  \n",
       "2        322       2010-12-21           135  \n",
       "3        541       2006-10-10           309  \n",
       "4        386       2006-07-04           268  \n",
       "5        424       2005-05-20           116  \n",
       "6        400       2005-05-20           116  \n",
       "7        448       2006-06-01           318  \n",
       "8        461       2002-02-04           104  \n",
       "9        341       2005-04-01           116  "
      ]
     },
     "execution_count": 14,
     "metadata": {},
     "output_type": "execute_result"
    }
   ],
   "source": [
    "query = 'SELECT * FROM books LIMIT 10'\n",
    "pd.io.sql.read_sql(query, con=engine)"
   ]
  },
  {
   "cell_type": "code",
   "execution_count": 15,
   "metadata": {},
   "outputs": [
    {
     "data": {
      "text/html": [
       "<div>\n",
       "<style scoped>\n",
       "    .dataframe tbody tr th:only-of-type {\n",
       "        vertical-align: middle;\n",
       "    }\n",
       "\n",
       "    .dataframe tbody tr th {\n",
       "        vertical-align: top;\n",
       "    }\n",
       "\n",
       "    .dataframe thead th {\n",
       "        text-align: right;\n",
       "    }\n",
       "</style>\n",
       "<table border=\"1\" class=\"dataframe\">\n",
       "  <thead>\n",
       "    <tr style=\"text-align: right;\">\n",
       "      <th></th>\n",
       "      <th>author_id</th>\n",
       "      <th>author</th>\n",
       "    </tr>\n",
       "  </thead>\n",
       "  <tbody>\n",
       "    <tr>\n",
       "      <th>0</th>\n",
       "      <td>1</td>\n",
       "      <td>A.S. Byatt</td>\n",
       "    </tr>\n",
       "    <tr>\n",
       "      <th>1</th>\n",
       "      <td>2</td>\n",
       "      <td>Aesop/Laura Harris/Laura Gibbs</td>\n",
       "    </tr>\n",
       "    <tr>\n",
       "      <th>2</th>\n",
       "      <td>3</td>\n",
       "      <td>Agatha Christie</td>\n",
       "    </tr>\n",
       "    <tr>\n",
       "      <th>3</th>\n",
       "      <td>4</td>\n",
       "      <td>Alan Brennert</td>\n",
       "    </tr>\n",
       "    <tr>\n",
       "      <th>4</th>\n",
       "      <td>5</td>\n",
       "      <td>Alan Moore/David   Lloyd</td>\n",
       "    </tr>\n",
       "    <tr>\n",
       "      <th>5</th>\n",
       "      <td>6</td>\n",
       "      <td>Alan Paton</td>\n",
       "    </tr>\n",
       "    <tr>\n",
       "      <th>6</th>\n",
       "      <td>7</td>\n",
       "      <td>Albert Camus/Justin O'Brien</td>\n",
       "    </tr>\n",
       "    <tr>\n",
       "      <th>7</th>\n",
       "      <td>8</td>\n",
       "      <td>Aldous Huxley</td>\n",
       "    </tr>\n",
       "    <tr>\n",
       "      <th>8</th>\n",
       "      <td>9</td>\n",
       "      <td>Aldous Huxley/Christopher Hitchens</td>\n",
       "    </tr>\n",
       "    <tr>\n",
       "      <th>9</th>\n",
       "      <td>10</td>\n",
       "      <td>Aleksandr Solzhenitsyn/H.T. Willetts</td>\n",
       "    </tr>\n",
       "  </tbody>\n",
       "</table>\n",
       "</div>"
      ],
      "text/plain": [
       "   author_id                                author\n",
       "0          1                            A.S. Byatt\n",
       "1          2        Aesop/Laura Harris/Laura Gibbs\n",
       "2          3                       Agatha Christie\n",
       "3          4                         Alan Brennert\n",
       "4          5              Alan Moore/David   Lloyd\n",
       "5          6                            Alan Paton\n",
       "6          7           Albert Camus/Justin O'Brien\n",
       "7          8                         Aldous Huxley\n",
       "8          9    Aldous Huxley/Christopher Hitchens\n",
       "9         10  Aleksandr Solzhenitsyn/H.T. Willetts"
      ]
     },
     "execution_count": 15,
     "metadata": {},
     "output_type": "execute_result"
    }
   ],
   "source": [
    "query = 'SELECT * FROM authors LIMIT 10'\n",
    "pd.io.sql.read_sql(query, con=engine)"
   ]
  },
  {
   "cell_type": "code",
   "execution_count": 16,
   "metadata": {},
   "outputs": [
    {
     "data": {
      "text/html": [
       "<div>\n",
       "<style scoped>\n",
       "    .dataframe tbody tr th:only-of-type {\n",
       "        vertical-align: middle;\n",
       "    }\n",
       "\n",
       "    .dataframe tbody tr th {\n",
       "        vertical-align: top;\n",
       "    }\n",
       "\n",
       "    .dataframe thead th {\n",
       "        text-align: right;\n",
       "    }\n",
       "</style>\n",
       "<table border=\"1\" class=\"dataframe\">\n",
       "  <thead>\n",
       "    <tr style=\"text-align: right;\">\n",
       "      <th></th>\n",
       "      <th>publisher_id</th>\n",
       "      <th>publisher</th>\n",
       "    </tr>\n",
       "  </thead>\n",
       "  <tbody>\n",
       "    <tr>\n",
       "      <th>0</th>\n",
       "      <td>1</td>\n",
       "      <td>Ace</td>\n",
       "    </tr>\n",
       "    <tr>\n",
       "      <th>1</th>\n",
       "      <td>2</td>\n",
       "      <td>Ace Book</td>\n",
       "    </tr>\n",
       "    <tr>\n",
       "      <th>2</th>\n",
       "      <td>3</td>\n",
       "      <td>Ace Books</td>\n",
       "    </tr>\n",
       "    <tr>\n",
       "      <th>3</th>\n",
       "      <td>4</td>\n",
       "      <td>Ace Hardcover</td>\n",
       "    </tr>\n",
       "    <tr>\n",
       "      <th>4</th>\n",
       "      <td>5</td>\n",
       "      <td>Addison Wesley Publishing Company</td>\n",
       "    </tr>\n",
       "    <tr>\n",
       "      <th>5</th>\n",
       "      <td>6</td>\n",
       "      <td>Aladdin</td>\n",
       "    </tr>\n",
       "    <tr>\n",
       "      <th>6</th>\n",
       "      <td>7</td>\n",
       "      <td>Aladdin Paperbacks</td>\n",
       "    </tr>\n",
       "    <tr>\n",
       "      <th>7</th>\n",
       "      <td>8</td>\n",
       "      <td>Albin Michel</td>\n",
       "    </tr>\n",
       "    <tr>\n",
       "      <th>8</th>\n",
       "      <td>9</td>\n",
       "      <td>Alfred A. Knopf</td>\n",
       "    </tr>\n",
       "    <tr>\n",
       "      <th>9</th>\n",
       "      <td>10</td>\n",
       "      <td>Alfred A. Knopf Books for Young Readers</td>\n",
       "    </tr>\n",
       "  </tbody>\n",
       "</table>\n",
       "</div>"
      ],
      "text/plain": [
       "   publisher_id                                publisher\n",
       "0             1                                      Ace\n",
       "1             2                                 Ace Book\n",
       "2             3                                Ace Books\n",
       "3             4                            Ace Hardcover\n",
       "4             5        Addison Wesley Publishing Company\n",
       "5             6                                  Aladdin\n",
       "6             7                       Aladdin Paperbacks\n",
       "7             8                             Albin Michel\n",
       "8             9                          Alfred A. Knopf\n",
       "9            10  Alfred A. Knopf Books for Young Readers"
      ]
     },
     "execution_count": 16,
     "metadata": {},
     "output_type": "execute_result"
    }
   ],
   "source": [
    "query = 'SELECT * FROM publishers LIMIT 10'\n",
    "pd.io.sql.read_sql(query, con=engine)"
   ]
  },
  {
   "cell_type": "code",
   "execution_count": 18,
   "metadata": {},
   "outputs": [
    {
     "data": {
      "text/html": [
       "<div>\n",
       "<style scoped>\n",
       "    .dataframe tbody tr th:only-of-type {\n",
       "        vertical-align: middle;\n",
       "    }\n",
       "\n",
       "    .dataframe tbody tr th {\n",
       "        vertical-align: top;\n",
       "    }\n",
       "\n",
       "    .dataframe thead th {\n",
       "        text-align: right;\n",
       "    }\n",
       "</style>\n",
       "<table border=\"1\" class=\"dataframe\">\n",
       "  <thead>\n",
       "    <tr style=\"text-align: right;\">\n",
       "      <th></th>\n",
       "      <th>rating_id</th>\n",
       "      <th>book_id</th>\n",
       "      <th>username</th>\n",
       "      <th>rating</th>\n",
       "    </tr>\n",
       "  </thead>\n",
       "  <tbody>\n",
       "    <tr>\n",
       "      <th>0</th>\n",
       "      <td>1</td>\n",
       "      <td>1</td>\n",
       "      <td>ryanfranco</td>\n",
       "      <td>4</td>\n",
       "    </tr>\n",
       "    <tr>\n",
       "      <th>1</th>\n",
       "      <td>2</td>\n",
       "      <td>1</td>\n",
       "      <td>grantpatricia</td>\n",
       "      <td>2</td>\n",
       "    </tr>\n",
       "    <tr>\n",
       "      <th>2</th>\n",
       "      <td>3</td>\n",
       "      <td>1</td>\n",
       "      <td>brandtandrea</td>\n",
       "      <td>5</td>\n",
       "    </tr>\n",
       "    <tr>\n",
       "      <th>3</th>\n",
       "      <td>4</td>\n",
       "      <td>2</td>\n",
       "      <td>lorichen</td>\n",
       "      <td>3</td>\n",
       "    </tr>\n",
       "    <tr>\n",
       "      <th>4</th>\n",
       "      <td>5</td>\n",
       "      <td>2</td>\n",
       "      <td>mariokeller</td>\n",
       "      <td>2</td>\n",
       "    </tr>\n",
       "    <tr>\n",
       "      <th>5</th>\n",
       "      <td>6</td>\n",
       "      <td>3</td>\n",
       "      <td>johnsonamanda</td>\n",
       "      <td>4</td>\n",
       "    </tr>\n",
       "    <tr>\n",
       "      <th>6</th>\n",
       "      <td>7</td>\n",
       "      <td>3</td>\n",
       "      <td>scotttamara</td>\n",
       "      <td>5</td>\n",
       "    </tr>\n",
       "    <tr>\n",
       "      <th>7</th>\n",
       "      <td>8</td>\n",
       "      <td>3</td>\n",
       "      <td>lesliegibbs</td>\n",
       "      <td>5</td>\n",
       "    </tr>\n",
       "    <tr>\n",
       "      <th>8</th>\n",
       "      <td>9</td>\n",
       "      <td>4</td>\n",
       "      <td>abbottjames</td>\n",
       "      <td>5</td>\n",
       "    </tr>\n",
       "    <tr>\n",
       "      <th>9</th>\n",
       "      <td>10</td>\n",
       "      <td>4</td>\n",
       "      <td>valenciaanne</td>\n",
       "      <td>4</td>\n",
       "    </tr>\n",
       "  </tbody>\n",
       "</table>\n",
       "</div>"
      ],
      "text/plain": [
       "   rating_id  book_id       username  rating\n",
       "0          1        1     ryanfranco       4\n",
       "1          2        1  grantpatricia       2\n",
       "2          3        1   brandtandrea       5\n",
       "3          4        2       lorichen       3\n",
       "4          5        2    mariokeller       2\n",
       "5          6        3  johnsonamanda       4\n",
       "6          7        3    scotttamara       5\n",
       "7          8        3    lesliegibbs       5\n",
       "8          9        4    abbottjames       5\n",
       "9         10        4   valenciaanne       4"
      ]
     },
     "execution_count": 18,
     "metadata": {},
     "output_type": "execute_result"
    }
   ],
   "source": [
    "query = 'SELECT * FROM ratings LIMIT 10'\n",
    "pd.io.sql.read_sql(query, con=engine)"
   ]
  },
  {
   "cell_type": "code",
   "execution_count": 19,
   "metadata": {},
   "outputs": [
    {
     "data": {
      "text/html": [
       "<div>\n",
       "<style scoped>\n",
       "    .dataframe tbody tr th:only-of-type {\n",
       "        vertical-align: middle;\n",
       "    }\n",
       "\n",
       "    .dataframe tbody tr th {\n",
       "        vertical-align: top;\n",
       "    }\n",
       "\n",
       "    .dataframe thead th {\n",
       "        text-align: right;\n",
       "    }\n",
       "</style>\n",
       "<table border=\"1\" class=\"dataframe\">\n",
       "  <thead>\n",
       "    <tr style=\"text-align: right;\">\n",
       "      <th></th>\n",
       "      <th>review_id</th>\n",
       "      <th>book_id</th>\n",
       "      <th>username</th>\n",
       "      <th>text</th>\n",
       "    </tr>\n",
       "  </thead>\n",
       "  <tbody>\n",
       "    <tr>\n",
       "      <th>0</th>\n",
       "      <td>1</td>\n",
       "      <td>1</td>\n",
       "      <td>brandtandrea</td>\n",
       "      <td>Mention society tell send professor analysis. ...</td>\n",
       "    </tr>\n",
       "    <tr>\n",
       "      <th>1</th>\n",
       "      <td>2</td>\n",
       "      <td>1</td>\n",
       "      <td>ryanfranco</td>\n",
       "      <td>Foot glass pretty audience hit themselves. Amo...</td>\n",
       "    </tr>\n",
       "    <tr>\n",
       "      <th>2</th>\n",
       "      <td>3</td>\n",
       "      <td>2</td>\n",
       "      <td>lorichen</td>\n",
       "      <td>Listen treat keep worry. Miss husband tax but ...</td>\n",
       "    </tr>\n",
       "    <tr>\n",
       "      <th>3</th>\n",
       "      <td>4</td>\n",
       "      <td>3</td>\n",
       "      <td>johnsonamanda</td>\n",
       "      <td>Finally month interesting blue could nature cu...</td>\n",
       "    </tr>\n",
       "    <tr>\n",
       "      <th>4</th>\n",
       "      <td>5</td>\n",
       "      <td>3</td>\n",
       "      <td>scotttamara</td>\n",
       "      <td>Nation purpose heavy give wait song will. List...</td>\n",
       "    </tr>\n",
       "    <tr>\n",
       "      <th>5</th>\n",
       "      <td>6</td>\n",
       "      <td>3</td>\n",
       "      <td>lesliegibbs</td>\n",
       "      <td>Analysis no several cause international.</td>\n",
       "    </tr>\n",
       "    <tr>\n",
       "      <th>6</th>\n",
       "      <td>7</td>\n",
       "      <td>4</td>\n",
       "      <td>valenciaanne</td>\n",
       "      <td>One there cost another. Say type save. With pe...</td>\n",
       "    </tr>\n",
       "    <tr>\n",
       "      <th>7</th>\n",
       "      <td>8</td>\n",
       "      <td>4</td>\n",
       "      <td>abbottjames</td>\n",
       "      <td>Within enough mother. There at system full rec...</td>\n",
       "    </tr>\n",
       "    <tr>\n",
       "      <th>8</th>\n",
       "      <td>9</td>\n",
       "      <td>5</td>\n",
       "      <td>npowers</td>\n",
       "      <td>Thank now focus realize economy focus fly. Ite...</td>\n",
       "    </tr>\n",
       "    <tr>\n",
       "      <th>9</th>\n",
       "      <td>10</td>\n",
       "      <td>5</td>\n",
       "      <td>staylor</td>\n",
       "      <td>Game push lot reduce where remember. Including...</td>\n",
       "    </tr>\n",
       "  </tbody>\n",
       "</table>\n",
       "</div>"
      ],
      "text/plain": [
       "   review_id  book_id       username  \\\n",
       "0          1        1   brandtandrea   \n",
       "1          2        1     ryanfranco   \n",
       "2          3        2       lorichen   \n",
       "3          4        3  johnsonamanda   \n",
       "4          5        3    scotttamara   \n",
       "5          6        3    lesliegibbs   \n",
       "6          7        4   valenciaanne   \n",
       "7          8        4    abbottjames   \n",
       "8          9        5        npowers   \n",
       "9         10        5        staylor   \n",
       "\n",
       "                                                text  \n",
       "0  Mention society tell send professor analysis. ...  \n",
       "1  Foot glass pretty audience hit themselves. Amo...  \n",
       "2  Listen treat keep worry. Miss husband tax but ...  \n",
       "3  Finally month interesting blue could nature cu...  \n",
       "4  Nation purpose heavy give wait song will. List...  \n",
       "5           Analysis no several cause international.  \n",
       "6  One there cost another. Say type save. With pe...  \n",
       "7  Within enough mother. There at system full rec...  \n",
       "8  Thank now focus realize economy focus fly. Ite...  \n",
       "9  Game push lot reduce where remember. Including...  "
      ]
     },
     "execution_count": 19,
     "metadata": {},
     "output_type": "execute_result"
    }
   ],
   "source": [
    "query = 'SELECT * FROM reviews LIMIT 10'\n",
    "pd.io.sql.read_sql(query, con=engine)"
   ]
  },
  {
   "cell_type": "markdown",
   "metadata": {},
   "source": [
    "### Посчитайте, сколько книг вышло после 1 января 2000 года"
   ]
  },
  {
   "cell_type": "code",
   "execution_count": 21,
   "metadata": {},
   "outputs": [
    {
     "data": {
      "text/html": [
       "<div>\n",
       "<style scoped>\n",
       "    .dataframe tbody tr th:only-of-type {\n",
       "        vertical-align: middle;\n",
       "    }\n",
       "\n",
       "    .dataframe tbody tr th {\n",
       "        vertical-align: top;\n",
       "    }\n",
       "\n",
       "    .dataframe thead th {\n",
       "        text-align: right;\n",
       "    }\n",
       "</style>\n",
       "<table border=\"1\" class=\"dataframe\">\n",
       "  <thead>\n",
       "    <tr style=\"text-align: right;\">\n",
       "      <th></th>\n",
       "      <th>Количество_книг</th>\n",
       "    </tr>\n",
       "  </thead>\n",
       "  <tbody>\n",
       "    <tr>\n",
       "      <th>0</th>\n",
       "      <td>819</td>\n",
       "    </tr>\n",
       "  </tbody>\n",
       "</table>\n",
       "</div>"
      ],
      "text/plain": [
       "   Количество_книг\n",
       "0              819"
      ]
     },
     "execution_count": 21,
     "metadata": {},
     "output_type": "execute_result"
    }
   ],
   "source": [
    "query = '''\n",
    "--Выбираем книги выпущенные после 1го января 2000 года\n",
    "SELECT COUNT(*) AS Количество_книг\n",
    "FROM books \n",
    "WHERE publication_date > '2000-01-01'\n",
    "'''\n",
    "\n",
    "pd.io.sql.read_sql(query, con=engine)"
   ]
  },
  {
   "cell_type": "markdown",
   "metadata": {},
   "source": [
    "### Для каждой книги посчитайте количество обзоров и среднюю оценку"
   ]
  },
  {
   "cell_type": "code",
   "execution_count": 91,
   "metadata": {},
   "outputs": [
    {
     "data": {
      "text/html": [
       "<div>\n",
       "<style scoped>\n",
       "    .dataframe tbody tr th:only-of-type {\n",
       "        vertical-align: middle;\n",
       "    }\n",
       "\n",
       "    .dataframe tbody tr th {\n",
       "        vertical-align: top;\n",
       "    }\n",
       "\n",
       "    .dataframe thead th {\n",
       "        text-align: right;\n",
       "    }\n",
       "</style>\n",
       "<table border=\"1\" class=\"dataframe\">\n",
       "  <thead>\n",
       "    <tr style=\"text-align: right;\">\n",
       "      <th></th>\n",
       "      <th>title</th>\n",
       "      <th>review_cnt</th>\n",
       "      <th>avg_rating</th>\n",
       "    </tr>\n",
       "  </thead>\n",
       "  <tbody>\n",
       "    <tr>\n",
       "      <th>0</th>\n",
       "      <td>Twilight (Twilight  #1)</td>\n",
       "      <td>7</td>\n",
       "      <td>3.662500</td>\n",
       "    </tr>\n",
       "    <tr>\n",
       "      <th>1</th>\n",
       "      <td>Water for Elephants</td>\n",
       "      <td>6</td>\n",
       "      <td>3.977273</td>\n",
       "    </tr>\n",
       "    <tr>\n",
       "      <th>2</th>\n",
       "      <td>The Glass Castle</td>\n",
       "      <td>6</td>\n",
       "      <td>4.206897</td>\n",
       "    </tr>\n",
       "    <tr>\n",
       "      <th>3</th>\n",
       "      <td>Harry Potter and the Prisoner of Azkaban (Harr...</td>\n",
       "      <td>6</td>\n",
       "      <td>4.414634</td>\n",
       "    </tr>\n",
       "    <tr>\n",
       "      <th>4</th>\n",
       "      <td>The Curious Incident of the Dog in the Night-Time</td>\n",
       "      <td>6</td>\n",
       "      <td>4.081081</td>\n",
       "    </tr>\n",
       "    <tr>\n",
       "      <th>...</th>\n",
       "      <td>...</td>\n",
       "      <td>...</td>\n",
       "      <td>...</td>\n",
       "    </tr>\n",
       "    <tr>\n",
       "      <th>995</th>\n",
       "      <td>Anne Rice's The Vampire Lestat: A Graphic Novel</td>\n",
       "      <td>0</td>\n",
       "      <td>3.666667</td>\n",
       "    </tr>\n",
       "    <tr>\n",
       "      <th>996</th>\n",
       "      <td>The Natural Way to Draw</td>\n",
       "      <td>0</td>\n",
       "      <td>3.000000</td>\n",
       "    </tr>\n",
       "    <tr>\n",
       "      <th>997</th>\n",
       "      <td>The Cat in the Hat and Other Dr. Seuss Favorites</td>\n",
       "      <td>0</td>\n",
       "      <td>5.000000</td>\n",
       "    </tr>\n",
       "    <tr>\n",
       "      <th>998</th>\n",
       "      <td>Essential Tales and Poems</td>\n",
       "      <td>0</td>\n",
       "      <td>4.000000</td>\n",
       "    </tr>\n",
       "    <tr>\n",
       "      <th>999</th>\n",
       "      <td>Disney's Beauty and the Beast (A Little Golden...</td>\n",
       "      <td>0</td>\n",
       "      <td>4.000000</td>\n",
       "    </tr>\n",
       "  </tbody>\n",
       "</table>\n",
       "<p>1000 rows × 3 columns</p>\n",
       "</div>"
      ],
      "text/plain": [
       "                                                 title  review_cnt  avg_rating\n",
       "0                              Twilight (Twilight  #1)           7    3.662500\n",
       "1                                  Water for Elephants           6    3.977273\n",
       "2                                     The Glass Castle           6    4.206897\n",
       "3    Harry Potter and the Prisoner of Azkaban (Harr...           6    4.414634\n",
       "4    The Curious Incident of the Dog in the Night-Time           6    4.081081\n",
       "..                                                 ...         ...         ...\n",
       "995    Anne Rice's The Vampire Lestat: A Graphic Novel           0    3.666667\n",
       "996                            The Natural Way to Draw           0    3.000000\n",
       "997   The Cat in the Hat and Other Dr. Seuss Favorites           0    5.000000\n",
       "998                          Essential Tales and Poems           0    4.000000\n",
       "999  Disney's Beauty and the Beast (A Little Golden...           0    4.000000\n",
       "\n",
       "[1000 rows x 3 columns]"
      ]
     },
     "execution_count": 91,
     "metadata": {},
     "output_type": "execute_result"
    }
   ],
   "source": [
    "query = '''\n",
    "SELECT books.title,\n",
    "(SELECT COUNT(review_id) AS review_cnt --Считаем количество обзоров на книгу\n",
    "    FROM reviews\n",
    "    WHERE book_id = books.book_id),\n",
    "(SELECT AVG(rating) --Считаем средний рейтинг на книгу\n",
    "    FROM ratings\n",
    "    WHERE book_id = books.book_id) AS avg_rating\n",
    "FROM books, reviews\n",
    "GROUP BY books.book_id\n",
    "ORDER BY review_cnt DESC\n",
    "\n",
    "'''\n",
    "\n",
    "pd.io.sql.read_sql(query, con=engine)"
   ]
  },
  {
   "cell_type": "markdown",
   "metadata": {},
   "source": [
    "Есть книги у которых очень мало обзоров, но при этом хороший рейтинг, надо будет их подсветить."
   ]
  },
  {
   "cell_type": "markdown",
   "metadata": {},
   "source": [
    "### Определите издательство, которое выпустило наибольшее число книг толще 50 страниц\n"
   ]
  },
  {
   "cell_type": "code",
   "execution_count": 10,
   "metadata": {},
   "outputs": [
    {
     "data": {
      "text/html": [
       "<div>\n",
       "<style scoped>\n",
       "    .dataframe tbody tr th:only-of-type {\n",
       "        vertical-align: middle;\n",
       "    }\n",
       "\n",
       "    .dataframe tbody tr th {\n",
       "        vertical-align: top;\n",
       "    }\n",
       "\n",
       "    .dataframe thead th {\n",
       "        text-align: right;\n",
       "    }\n",
       "</style>\n",
       "<table border=\"1\" class=\"dataframe\">\n",
       "  <thead>\n",
       "    <tr style=\"text-align: right;\">\n",
       "      <th></th>\n",
       "      <th>publisher</th>\n",
       "      <th>count</th>\n",
       "    </tr>\n",
       "  </thead>\n",
       "  <tbody>\n",
       "    <tr>\n",
       "      <th>0</th>\n",
       "      <td>Penguin Books</td>\n",
       "      <td>42</td>\n",
       "    </tr>\n",
       "  </tbody>\n",
       "</table>\n",
       "</div>"
      ],
      "text/plain": [
       "       publisher  count\n",
       "0  Penguin Books     42"
      ]
     },
     "execution_count": 10,
     "metadata": {},
     "output_type": "execute_result"
    }
   ],
   "source": [
    "query = '''\n",
    "SELECT p.publisher, COUNT(b.book_id)\n",
    "FROM books AS b\n",
    "JOIN publishers AS p ON b.publisher_id = p.publisher_id\n",
    "WHERE b.num_pages > 50\n",
    "GROUP BY p.publisher\n",
    "ORDER BY COUNT(b.book_id) DESC\n",
    "LIMIT 1\n",
    "'''\n",
    "\n",
    "pd.io.sql.read_sql(query, con=engine)"
   ]
  },
  {
   "cell_type": "markdown",
   "metadata": {},
   "source": [
    "Пенгвин это действительно знаменитое издательство"
   ]
  },
  {
   "cell_type": "markdown",
   "metadata": {},
   "source": [
    "### Определите автора с самой высокой средней оценкой книг"
   ]
  },
  {
   "cell_type": "code",
   "execution_count": null,
   "metadata": {},
   "outputs": [],
   "source": [
    "query = '''\n",
    "SELECT a.author\n",
    "FROM authors AS a\n",
    "JOIN books AS b ON autho'''"
   ]
  },
  {
   "cell_type": "code",
   "execution_count": 92,
   "metadata": {
    "scrolled": true
   },
   "outputs": [
    {
     "data": {
      "text/html": [
       "<div>\n",
       "<style scoped>\n",
       "    .dataframe tbody tr th:only-of-type {\n",
       "        vertical-align: middle;\n",
       "    }\n",
       "\n",
       "    .dataframe tbody tr th {\n",
       "        vertical-align: top;\n",
       "    }\n",
       "\n",
       "    .dataframe thead th {\n",
       "        text-align: right;\n",
       "    }\n",
       "</style>\n",
       "<table border=\"1\" class=\"dataframe\">\n",
       "  <thead>\n",
       "    <tr style=\"text-align: right;\">\n",
       "      <th></th>\n",
       "      <th>author</th>\n",
       "      <th>average_rating</th>\n",
       "    </tr>\n",
       "  </thead>\n",
       "  <tbody>\n",
       "    <tr>\n",
       "      <th>0</th>\n",
       "      <td>J.K. Rowling/Mary GrandPré</td>\n",
       "      <td>4.283844</td>\n",
       "    </tr>\n",
       "  </tbody>\n",
       "</table>\n",
       "</div>"
      ],
      "text/plain": [
       "                       author  average_rating\n",
       "0  J.K. Rowling/Mary GrandPré        4.283844"
      ]
     },
     "execution_count": 92,
     "metadata": {},
     "output_type": "execute_result"
    }
   ],
   "source": [
    "query = '''\n",
    "--\n",
    "SELECT author, AVG(avg) AS average_rating --выводим автора, и среднюю оценку всех его книг\n",
    "FROM(\n",
    "    SELECT b.author_id, b.title, COUNT(r.rating), AVG(r.rating) --считаем кол-во рейтингов, средний рейтинг; выводим название книги и ID автора\n",
    "    FROM books AS b\n",
    "    JOIN ratings AS r ON r.book_id=b.book_id\n",
    "    JOIN authors AS a ON a.author_id=b.author_id\n",
    "    GROUP BY b.book_id\n",
    "    HAVING COUNT(r.rating) > 50\n",
    "    ) AS v1\n",
    "JOIN authors AS a ON v1.author_id = a.author_id\n",
    "GROUP BY author\n",
    "ORDER BY average_rating DESC\n",
    "LIMIT 1\n",
    "'''\n",
    "pd.io.sql.read_sql(query, con=engine)"
   ]
  },
  {
   "cell_type": "markdown",
   "metadata": {},
   "source": [
    "### Посчитайте среднее количество обзоров от пользователей, которые поставили больше 50 оценок"
   ]
  },
  {
   "cell_type": "code",
   "execution_count": 93,
   "metadata": {},
   "outputs": [
    {
     "data": {
      "text/html": [
       "<div>\n",
       "<style scoped>\n",
       "    .dataframe tbody tr th:only-of-type {\n",
       "        vertical-align: middle;\n",
       "    }\n",
       "\n",
       "    .dataframe tbody tr th {\n",
       "        vertical-align: top;\n",
       "    }\n",
       "\n",
       "    .dataframe thead th {\n",
       "        text-align: right;\n",
       "    }\n",
       "</style>\n",
       "<table border=\"1\" class=\"dataframe\">\n",
       "  <thead>\n",
       "    <tr style=\"text-align: right;\">\n",
       "      <th></th>\n",
       "      <th>avg</th>\n",
       "    </tr>\n",
       "  </thead>\n",
       "  <tbody>\n",
       "    <tr>\n",
       "      <th>0</th>\n",
       "      <td>24.333333</td>\n",
       "    </tr>\n",
       "  </tbody>\n",
       "</table>\n",
       "</div>"
      ],
      "text/plain": [
       "         avg\n",
       "0  24.333333"
      ]
     },
     "execution_count": 93,
     "metadata": {},
     "output_type": "execute_result"
    }
   ],
   "source": [
    "query = '''\n",
    "        SELECT AVG(count) -- среднее количество обзоров на всех юзеров\n",
    "        FROM(\n",
    "            SELECT COUNT(review_id) -- среднее кол-во обзоров на каждого такого юзера\n",
    "            FROM reviews as r\n",
    "            WHERE username IN (\n",
    "                SELECT username --юзеры с >50 обзоров\n",
    "                FROM ratings\n",
    "                GROUP BY username\n",
    "                HAVING COUNT(rating_id) > 50\n",
    "                )\n",
    "            GROUP BY username\n",
    "            ) AS v1\n",
    "'''\n",
    "pd.io.sql.read_sql(query, con=engine)"
   ]
  },
  {
   "cell_type": "markdown",
   "metadata": {},
   "source": [
    "Пользователи которые ставят много оценок, так же пишут много обзоров."
   ]
  },
  {
   "cell_type": "markdown",
   "metadata": {},
   "source": [
    "## Вывод"
   ]
  },
  {
   "cell_type": "markdown",
   "metadata": {},
   "source": [
    "Мы провели исследование базы данных. С 1 января 2000 года в ней появилось 819 новых книг. Наибольшее количество обзоров у книги Twilight(сумерки). Издательство выпустившее больше всего книг - Penguin Books. Автор с самыми высокорейтинговыми книгами - Джоан Роулинг. Самые активные пользователи в среднем оставляют 24 комментария.\n",
    "\n",
    "Рекомендации: Подсветить книги с хорошим рейтингом но малым количеством отзывов, наверняка там есть hidden gems."
   ]
  }
 ],
 "metadata": {
  "ExecuteTimeLog": [
   {
    "duration": 8858,
    "start_time": "2022-09-29T18:20:28.619Z"
   },
   {
    "duration": 76,
    "start_time": "2022-09-29T18:20:49.778Z"
   },
   {
    "duration": 9546,
    "start_time": "2022-09-30T07:15:19.582Z"
   },
   {
    "duration": 72,
    "start_time": "2022-09-30T07:16:43.462Z"
   },
   {
    "duration": 178,
    "start_time": "2022-09-30T07:18:27.222Z"
   },
   {
    "duration": 114,
    "start_time": "2022-09-30T07:18:37.879Z"
   },
   {
    "duration": 95,
    "start_time": "2022-09-30T07:19:42.683Z"
   },
   {
    "duration": 24,
    "start_time": "2022-09-30T07:19:49.035Z"
   },
   {
    "duration": 22,
    "start_time": "2022-09-30T07:20:34.677Z"
   },
   {
    "duration": 22,
    "start_time": "2022-09-30T07:20:45.911Z"
   },
   {
    "duration": 3,
    "start_time": "2022-09-30T07:22:17.317Z"
   },
   {
    "duration": 3,
    "start_time": "2022-09-30T07:22:44.800Z"
   },
   {
    "duration": 257,
    "start_time": "2022-09-30T07:23:44.746Z"
   },
   {
    "duration": 148,
    "start_time": "2022-09-30T07:23:49.963Z"
   },
   {
    "duration": 115,
    "start_time": "2022-09-30T07:23:54.551Z"
   },
   {
    "duration": 22,
    "start_time": "2022-09-30T07:32:12.311Z"
   },
   {
    "duration": 85,
    "start_time": "2022-09-30T07:33:09.239Z"
   },
   {
    "duration": 27,
    "start_time": "2022-09-30T07:56:23.678Z"
   },
   {
    "duration": 2,
    "start_time": "2022-09-30T07:56:42.080Z"
   },
   {
    "duration": 118,
    "start_time": "2022-09-30T07:56:48.869Z"
   },
   {
    "duration": 109,
    "start_time": "2022-09-30T07:57:30.323Z"
   },
   {
    "duration": 81,
    "start_time": "2022-09-30T08:01:33.849Z"
   },
   {
    "duration": 75,
    "start_time": "2022-09-30T08:01:45.546Z"
   },
   {
    "duration": 104,
    "start_time": "2022-09-30T08:01:50.255Z"
   },
   {
    "duration": 226,
    "start_time": "2022-09-30T08:02:42.110Z"
   },
   {
    "duration": 102,
    "start_time": "2022-09-30T08:02:59.465Z"
   },
   {
    "duration": 100,
    "start_time": "2022-09-30T08:03:40.772Z"
   },
   {
    "duration": 20,
    "start_time": "2022-09-30T08:03:43.937Z"
   },
   {
    "duration": 1596,
    "start_time": "2022-09-30T08:03:59.453Z"
   },
   {
    "duration": 104,
    "start_time": "2022-09-30T08:04:17.029Z"
   },
   {
    "duration": 134,
    "start_time": "2022-09-30T08:04:23.705Z"
   },
   {
    "duration": 114,
    "start_time": "2022-09-30T08:04:52.929Z"
   },
   {
    "duration": 21,
    "start_time": "2022-09-30T08:05:07.525Z"
   },
   {
    "duration": 21,
    "start_time": "2022-09-30T08:05:11.475Z"
   },
   {
    "duration": 23,
    "start_time": "2022-09-30T08:05:18.952Z"
   },
   {
    "duration": 145,
    "start_time": "2022-09-30T08:06:25.865Z"
   },
   {
    "duration": 96,
    "start_time": "2022-09-30T08:06:27.905Z"
   },
   {
    "duration": 101,
    "start_time": "2022-09-30T08:09:14.313Z"
   },
   {
    "duration": 90,
    "start_time": "2022-09-30T08:09:21.848Z"
   },
   {
    "duration": 21,
    "start_time": "2022-09-30T08:09:25.228Z"
   },
   {
    "duration": 14,
    "start_time": "2022-09-30T08:10:39.956Z"
   },
   {
    "duration": 23,
    "start_time": "2022-09-30T08:11:37.070Z"
   },
   {
    "duration": 149,
    "start_time": "2022-09-30T08:13:33.013Z"
   },
   {
    "duration": 113,
    "start_time": "2022-09-30T08:17:44.471Z"
   },
   {
    "duration": 116,
    "start_time": "2022-09-30T08:18:03.909Z"
   },
   {
    "duration": 180,
    "start_time": "2022-09-30T08:18:19.755Z"
   },
   {
    "duration": 115,
    "start_time": "2022-09-30T08:19:06.139Z"
   },
   {
    "duration": 181,
    "start_time": "2022-09-30T08:19:12.323Z"
   },
   {
    "duration": 7340,
    "start_time": "2022-09-30T10:32:42.530Z"
   },
   {
    "duration": 295,
    "start_time": "2022-09-30T10:32:49.872Z"
   },
   {
    "duration": 72,
    "start_time": "2022-09-30T10:32:50.169Z"
   },
   {
    "duration": 114,
    "start_time": "2022-09-30T10:33:26.423Z"
   },
   {
    "duration": 107,
    "start_time": "2022-09-30T10:33:58.706Z"
   },
   {
    "duration": 123,
    "start_time": "2022-09-30T10:34:35.539Z"
   },
   {
    "duration": 74,
    "start_time": "2022-09-30T10:35:33.338Z"
   },
   {
    "duration": 276,
    "start_time": "2022-09-30T10:35:36.931Z"
   },
   {
    "duration": 73,
    "start_time": "2022-09-30T10:35:39.603Z"
   },
   {
    "duration": 122,
    "start_time": "2022-09-30T10:37:18.574Z"
   },
   {
    "duration": 76,
    "start_time": "2022-09-30T10:48:57.636Z"
   },
   {
    "duration": 75,
    "start_time": "2022-09-30T10:49:15.807Z"
   },
   {
    "duration": 72,
    "start_time": "2022-09-30T10:49:19.341Z"
   },
   {
    "duration": 75,
    "start_time": "2022-09-30T10:49:38.418Z"
   },
   {
    "duration": 78,
    "start_time": "2022-09-30T10:49:44.653Z"
   },
   {
    "duration": 74,
    "start_time": "2022-09-30T10:49:55.995Z"
   },
   {
    "duration": 88,
    "start_time": "2022-09-30T10:50:03.894Z"
   },
   {
    "duration": 76,
    "start_time": "2022-09-30T10:50:09.597Z"
   },
   {
    "duration": 78,
    "start_time": "2022-09-30T10:54:09.455Z"
   },
   {
    "duration": 73,
    "start_time": "2022-09-30T10:54:35.510Z"
   },
   {
    "duration": 78,
    "start_time": "2022-09-30T11:03:06.009Z"
   },
   {
    "duration": 78,
    "start_time": "2022-09-30T11:03:27.705Z"
   },
   {
    "duration": 76,
    "start_time": "2022-09-30T11:03:36.666Z"
   },
   {
    "duration": 81,
    "start_time": "2022-09-30T11:03:47.529Z"
   },
   {
    "duration": 76,
    "start_time": "2022-09-30T11:03:49.534Z"
   },
   {
    "duration": 134,
    "start_time": "2022-09-30T11:04:39.654Z"
   },
   {
    "duration": 131,
    "start_time": "2022-09-30T11:04:53.421Z"
   },
   {
    "duration": 76,
    "start_time": "2022-09-30T11:04:59.434Z"
   },
   {
    "duration": 77,
    "start_time": "2022-09-30T11:05:42.804Z"
   },
   {
    "duration": 90,
    "start_time": "2022-09-30T11:05:51.554Z"
   },
   {
    "duration": 100,
    "start_time": "2022-09-30T11:08:23.315Z"
   },
   {
    "duration": 105,
    "start_time": "2022-09-30T11:09:31.415Z"
   },
   {
    "duration": 75,
    "start_time": "2022-09-30T11:09:49.310Z"
   },
   {
    "duration": 77,
    "start_time": "2022-09-30T11:14:02.123Z"
   },
   {
    "duration": 165,
    "start_time": "2022-09-30T11:15:13.125Z"
   },
   {
    "duration": 223,
    "start_time": "2022-09-30T11:15:35.118Z"
   },
   {
    "duration": 144,
    "start_time": "2022-09-30T11:17:34.851Z"
   },
   {
    "duration": 76,
    "start_time": "2022-09-30T11:17:57.217Z"
   },
   {
    "duration": 148,
    "start_time": "2022-09-30T11:19:41.922Z"
   },
   {
    "duration": 151,
    "start_time": "2022-09-30T11:20:06.458Z"
   },
   {
    "duration": 161,
    "start_time": "2022-09-30T11:20:41.568Z"
   },
   {
    "duration": 77,
    "start_time": "2022-09-30T11:20:49.329Z"
   },
   {
    "duration": 160,
    "start_time": "2022-09-30T11:20:58.610Z"
   },
   {
    "duration": 77,
    "start_time": "2022-09-30T11:21:04.723Z"
   },
   {
    "duration": 76,
    "start_time": "2022-09-30T11:21:20.128Z"
   },
   {
    "duration": 166,
    "start_time": "2022-09-30T11:22:16.272Z"
   },
   {
    "duration": 78,
    "start_time": "2022-09-30T11:22:32.143Z"
   },
   {
    "duration": 79,
    "start_time": "2022-09-30T11:22:46.130Z"
   },
   {
    "duration": 79,
    "start_time": "2022-09-30T11:22:59.614Z"
   },
   {
    "duration": 148,
    "start_time": "2022-09-30T11:23:07.734Z"
   },
   {
    "duration": 80,
    "start_time": "2022-09-30T11:23:11.414Z"
   },
   {
    "duration": 142,
    "start_time": "2022-09-30T11:23:30.178Z"
   },
   {
    "duration": 77,
    "start_time": "2022-09-30T11:23:38.320Z"
   },
   {
    "duration": 77,
    "start_time": "2022-09-30T11:23:47.602Z"
   },
   {
    "duration": 137,
    "start_time": "2022-09-30T11:24:07.927Z"
   },
   {
    "duration": 137,
    "start_time": "2022-09-30T11:24:29.823Z"
   },
   {
    "duration": 171,
    "start_time": "2022-09-30T11:24:42.861Z"
   },
   {
    "duration": 78,
    "start_time": "2022-09-30T11:24:53.340Z"
   },
   {
    "duration": 137,
    "start_time": "2022-09-30T11:25:56.957Z"
   },
   {
    "duration": 153,
    "start_time": "2022-09-30T11:26:05.921Z"
   },
   {
    "duration": 133,
    "start_time": "2022-09-30T11:26:13.324Z"
   },
   {
    "duration": 129,
    "start_time": "2022-09-30T11:26:22.830Z"
   },
   {
    "duration": 143,
    "start_time": "2022-09-30T11:26:27.072Z"
   },
   {
    "duration": 76,
    "start_time": "2022-09-30T11:26:35.332Z"
   },
   {
    "duration": 57,
    "start_time": "2022-09-30T11:33:42.706Z"
   },
   {
    "duration": 55,
    "start_time": "2022-09-30T11:34:00.702Z"
   },
   {
    "duration": 77,
    "start_time": "2022-09-30T11:34:10.670Z"
   },
   {
    "duration": 83,
    "start_time": "2022-09-30T11:34:28.832Z"
   },
   {
    "duration": 188,
    "start_time": "2022-09-30T11:35:01.439Z"
   },
   {
    "duration": 163,
    "start_time": "2022-09-30T11:35:07.713Z"
   },
   {
    "duration": 79,
    "start_time": "2022-09-30T11:35:19.725Z"
   },
   {
    "duration": 178,
    "start_time": "2022-09-30T11:35:32.432Z"
   },
   {
    "duration": 77,
    "start_time": "2022-09-30T11:35:42.829Z"
   },
   {
    "duration": 84,
    "start_time": "2022-09-30T11:35:59.065Z"
   },
   {
    "duration": 210,
    "start_time": "2022-09-30T11:37:08.464Z"
   },
   {
    "duration": 74,
    "start_time": "2022-09-30T11:37:20.270Z"
   },
   {
    "duration": 139,
    "start_time": "2022-09-30T11:37:54.420Z"
   },
   {
    "duration": 154,
    "start_time": "2022-09-30T11:38:02.673Z"
   },
   {
    "duration": 83,
    "start_time": "2022-09-30T11:38:06.038Z"
   },
   {
    "duration": 79,
    "start_time": "2022-09-30T11:38:21.014Z"
   },
   {
    "duration": 79,
    "start_time": "2022-09-30T11:38:33.924Z"
   },
   {
    "duration": 80,
    "start_time": "2022-09-30T11:38:47.054Z"
   },
   {
    "duration": 79,
    "start_time": "2022-09-30T11:38:57.488Z"
   },
   {
    "duration": 75,
    "start_time": "2022-09-30T11:39:23.120Z"
   },
   {
    "duration": 82,
    "start_time": "2022-09-30T12:09:52.225Z"
   },
   {
    "duration": 77,
    "start_time": "2022-09-30T12:10:04.180Z"
   },
   {
    "duration": 252,
    "start_time": "2022-09-30T12:11:25.504Z"
   },
   {
    "duration": 199,
    "start_time": "2022-09-30T12:11:42.567Z"
   },
   {
    "duration": 154,
    "start_time": "2022-09-30T12:12:09.125Z"
   },
   {
    "duration": 80,
    "start_time": "2022-09-30T12:12:48.525Z"
   },
   {
    "duration": 90,
    "start_time": "2022-09-30T12:15:21.312Z"
   },
   {
    "duration": 98,
    "start_time": "2022-09-30T12:15:37.954Z"
   },
   {
    "duration": 73,
    "start_time": "2022-09-30T12:15:47.434Z"
   },
   {
    "duration": 85,
    "start_time": "2022-09-30T12:15:48.981Z"
   },
   {
    "duration": 128,
    "start_time": "2022-09-30T12:15:56.638Z"
   },
   {
    "duration": 124,
    "start_time": "2022-09-30T12:16:06.276Z"
   },
   {
    "duration": 125,
    "start_time": "2022-09-30T12:16:16.572Z"
   },
   {
    "duration": 133,
    "start_time": "2022-09-30T12:21:37.450Z"
   },
   {
    "duration": 149,
    "start_time": "2022-09-30T12:21:57.553Z"
   },
   {
    "duration": 74,
    "start_time": "2022-09-30T12:22:09.581Z"
   },
   {
    "duration": 73,
    "start_time": "2022-09-30T12:22:27.477Z"
   },
   {
    "duration": 76,
    "start_time": "2022-09-30T12:23:53.416Z"
   },
   {
    "duration": 8081,
    "start_time": "2022-10-01T09:36:08.425Z"
   },
   {
    "duration": 279,
    "start_time": "2022-10-01T09:36:16.508Z"
   },
   {
    "duration": 73,
    "start_time": "2022-10-01T09:36:16.788Z"
   },
   {
    "duration": 72,
    "start_time": "2022-10-01T09:36:16.863Z"
   },
   {
    "duration": 103,
    "start_time": "2022-10-01T09:36:16.937Z"
   },
   {
    "duration": 88,
    "start_time": "2022-10-01T09:36:17.042Z"
   },
   {
    "duration": 29949,
    "start_time": "2022-10-01T09:36:17.132Z"
   },
   {
    "duration": 74,
    "start_time": "2022-10-01T09:36:47.083Z"
   },
   {
    "duration": 10119,
    "start_time": "2022-10-01T09:36:47.158Z"
   },
   {
    "duration": 72,
    "start_time": "2022-10-01T09:36:57.279Z"
   },
   {
    "duration": 77,
    "start_time": "2022-10-01T09:36:57.353Z"
   },
   {
    "duration": 74,
    "start_time": "2022-10-01T09:36:57.432Z"
   },
   {
    "duration": 277,
    "start_time": "2022-10-01T09:36:57.508Z"
   },
   {
    "duration": 56,
    "start_time": "2022-10-01T10:04:49.321Z"
   },
   {
    "duration": 10030,
    "start_time": "2022-10-01T10:04:54.751Z"
   },
   {
    "duration": 85,
    "start_time": "2022-10-01T10:05:04.784Z"
   },
   {
    "duration": 16,
    "start_time": "2022-10-01T10:05:04.871Z"
   },
   {
    "duration": 28,
    "start_time": "2022-10-01T10:05:04.892Z"
   },
   {
    "duration": 32,
    "start_time": "2022-10-01T10:05:04.922Z"
   },
   {
    "duration": 23,
    "start_time": "2022-10-01T10:05:04.957Z"
   },
   {
    "duration": 53,
    "start_time": "2022-10-01T10:05:04.982Z"
   },
   {
    "duration": 12,
    "start_time": "2022-10-01T10:05:05.036Z"
   },
   {
    "duration": 84,
    "start_time": "2022-10-01T10:05:05.050Z"
   },
   {
    "duration": 39,
    "start_time": "2022-10-01T10:05:05.138Z"
   },
   {
    "duration": 51,
    "start_time": "2022-10-01T10:05:05.180Z"
   },
   {
    "duration": 30,
    "start_time": "2022-10-01T10:05:05.233Z"
   },
   {
    "duration": 19,
    "start_time": "2022-10-01T10:05:05.265Z"
   },
   {
    "duration": 14,
    "start_time": "2022-10-01T10:05:16.839Z"
   },
   {
    "duration": 15,
    "start_time": "2022-10-01T10:05:24.817Z"
   },
   {
    "duration": 15,
    "start_time": "2022-10-01T10:05:31.551Z"
   },
   {
    "duration": 17,
    "start_time": "2022-10-01T10:05:34.815Z"
   },
   {
    "duration": 19,
    "start_time": "2022-10-01T10:05:36.613Z"
   },
   {
    "duration": 31,
    "start_time": "2022-10-01T10:05:43.983Z"
   },
   {
    "duration": 23,
    "start_time": "2022-10-01T10:07:24.733Z"
   },
   {
    "duration": 11,
    "start_time": "2022-10-01T10:07:33.965Z"
   },
   {
    "duration": 17,
    "start_time": "2022-10-01T10:09:15.957Z"
   },
   {
    "duration": 17,
    "start_time": "2022-10-01T10:09:23.456Z"
   },
   {
    "duration": 15,
    "start_time": "2022-10-01T10:10:21.458Z"
   },
   {
    "duration": 26,
    "start_time": "2022-10-01T10:11:41.922Z"
   },
   {
    "duration": 218,
    "start_time": "2022-10-01T10:12:21.077Z"
   },
   {
    "duration": 20,
    "start_time": "2022-10-01T10:12:32.347Z"
   },
   {
    "duration": 110,
    "start_time": "2022-10-01T10:13:46.132Z"
   },
   {
    "duration": 107,
    "start_time": "2022-10-01T10:13:49.819Z"
   },
   {
    "duration": 21,
    "start_time": "2022-10-01T10:14:39.121Z"
   },
   {
    "duration": 18,
    "start_time": "2022-10-01T10:14:50.940Z"
   },
   {
    "duration": 158,
    "start_time": "2022-10-01T10:15:09.866Z"
   },
   {
    "duration": 43,
    "start_time": "2022-10-01T10:15:15.479Z"
   },
   {
    "duration": 79,
    "start_time": "2022-10-01T10:15:57.730Z"
   },
   {
    "duration": 182,
    "start_time": "2022-10-01T10:16:02.083Z"
   },
   {
    "duration": 126,
    "start_time": "2022-10-01T10:16:23.937Z"
   },
   {
    "duration": 26,
    "start_time": "2022-10-01T10:17:21.946Z"
   },
   {
    "duration": 134,
    "start_time": "2022-10-01T10:18:52.541Z"
   },
   {
    "duration": 16,
    "start_time": "2022-10-01T10:19:04.222Z"
   },
   {
    "duration": 25,
    "start_time": "2022-10-01T10:20:30.152Z"
   },
   {
    "duration": 31,
    "start_time": "2022-10-01T10:20:39.808Z"
   },
   {
    "duration": 2,
    "start_time": "2022-10-01T10:24:56.665Z"
   },
   {
    "duration": 25,
    "start_time": "2022-10-01T10:25:03.028Z"
   },
   {
    "duration": 30,
    "start_time": "2022-10-01T10:25:44.517Z"
   },
   {
    "duration": 51,
    "start_time": "2022-10-01T10:27:24.202Z"
   },
   {
    "duration": 31,
    "start_time": "2022-10-01T10:27:27.231Z"
   },
   {
    "duration": 50,
    "start_time": "2022-10-01T10:27:33.512Z"
   },
   {
    "duration": 34,
    "start_time": "2022-10-01T10:28:39.785Z"
   },
   {
    "duration": 45,
    "start_time": "2022-10-01T10:28:59.376Z"
   },
   {
    "duration": 59,
    "start_time": "2022-10-01T10:29:31.954Z"
   },
   {
    "duration": 27,
    "start_time": "2022-10-01T10:31:30.010Z"
   },
   {
    "duration": 35,
    "start_time": "2022-10-01T10:31:54.045Z"
   },
   {
    "duration": 16,
    "start_time": "2022-10-01T10:32:43.572Z"
   },
   {
    "duration": 152,
    "start_time": "2022-10-01T10:33:25.010Z"
   },
   {
    "duration": 102,
    "start_time": "2022-10-01T10:33:28.711Z"
   },
   {
    "duration": 21,
    "start_time": "2022-10-01T10:33:35.119Z"
   },
   {
    "duration": 37,
    "start_time": "2022-10-01T10:34:15.570Z"
   },
   {
    "duration": 22,
    "start_time": "2022-10-01T10:34:56.705Z"
   },
   {
    "duration": 34,
    "start_time": "2022-10-01T10:35:02.880Z"
   },
   {
    "duration": 21,
    "start_time": "2022-10-01T10:36:52.854Z"
   },
   {
    "duration": 29,
    "start_time": "2022-10-01T10:36:59.116Z"
   },
   {
    "duration": 23,
    "start_time": "2022-10-01T10:43:32.153Z"
   },
   {
    "duration": 25,
    "start_time": "2022-10-01T10:43:41.406Z"
   },
   {
    "duration": 39,
    "start_time": "2022-10-01T10:44:14.009Z"
   },
   {
    "duration": 20,
    "start_time": "2022-10-01T10:44:22.745Z"
   },
   {
    "duration": 28,
    "start_time": "2022-10-01T10:44:39.971Z"
   },
   {
    "duration": 36,
    "start_time": "2022-10-01T10:44:48.667Z"
   },
   {
    "duration": 49,
    "start_time": "2022-10-01T10:44:54.091Z"
   },
   {
    "duration": 680,
    "start_time": "2022-10-01T10:46:03.078Z"
   },
   {
    "duration": 162,
    "start_time": "2022-10-01T10:48:35.620Z"
   },
   {
    "duration": 197,
    "start_time": "2022-10-01T10:48:52.071Z"
   },
   {
    "duration": 41,
    "start_time": "2022-10-01T10:49:12.689Z"
   },
   {
    "duration": 39,
    "start_time": "2022-10-01T10:49:45.980Z"
   },
   {
    "duration": 146,
    "start_time": "2022-10-01T10:51:45.302Z"
   },
   {
    "duration": 696,
    "start_time": "2022-10-01T10:53:06.782Z"
   },
   {
    "duration": 657,
    "start_time": "2022-10-01T10:53:31.019Z"
   },
   {
    "duration": 665,
    "start_time": "2022-10-01T10:55:13.633Z"
   },
   {
    "duration": 680,
    "start_time": "2022-10-01T10:55:21.285Z"
   },
   {
    "duration": 23,
    "start_time": "2022-10-01T10:56:56.144Z"
   },
   {
    "duration": 16,
    "start_time": "2022-10-01T10:57:07.224Z"
   },
   {
    "duration": 20,
    "start_time": "2022-10-01T10:57:23.130Z"
   },
   {
    "duration": 21,
    "start_time": "2022-10-01T10:58:16.437Z"
   },
   {
    "duration": 165,
    "start_time": "2022-10-01T10:59:02.942Z"
   },
   {
    "duration": 131,
    "start_time": "2022-10-01T10:59:16.124Z"
   },
   {
    "duration": 3687,
    "start_time": "2022-10-01T10:59:23.143Z"
   },
   {
    "duration": 32,
    "start_time": "2022-10-01T10:59:33.020Z"
   },
   {
    "duration": 176,
    "start_time": "2022-10-01T10:59:58.955Z"
   },
   {
    "duration": 45,
    "start_time": "2022-10-01T11:00:12.887Z"
   },
   {
    "duration": 24,
    "start_time": "2022-10-01T11:00:46.325Z"
   },
   {
    "duration": 1740,
    "start_time": "2022-10-01T11:00:53.817Z"
   },
   {
    "duration": 636,
    "start_time": "2022-10-01T11:03:16.251Z"
   },
   {
    "duration": 63,
    "start_time": "2022-10-01T11:04:54.606Z"
   },
   {
    "duration": 31,
    "start_time": "2022-10-01T11:05:47.910Z"
   }
  ],
  "kernelspec": {
   "display_name": "Python 3 (ipykernel)",
   "language": "python",
   "name": "python3"
  },
  "language_info": {
   "codemirror_mode": {
    "name": "ipython",
    "version": 3
   },
   "file_extension": ".py",
   "mimetype": "text/x-python",
   "name": "python",
   "nbconvert_exporter": "python",
   "pygments_lexer": "ipython3",
   "version": "3.9.7"
  },
  "toc": {
   "base_numbering": 1,
   "nav_menu": {},
   "number_sections": true,
   "sideBar": true,
   "skip_h1_title": true,
   "title_cell": "Table of Contents",
   "title_sidebar": "Contents",
   "toc_cell": false,
   "toc_position": {},
   "toc_section_display": true,
   "toc_window_display": false
  }
 },
 "nbformat": 4,
 "nbformat_minor": 2
}
