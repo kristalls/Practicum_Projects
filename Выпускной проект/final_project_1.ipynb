{
 "cells": [
  {
   "cell_type": "markdown",
   "id": "01403f71",
   "metadata": {},
   "source": [
    "# Анализ оттока клиентов"
   ]
  },
  {
   "cell_type": "markdown",
   "id": "553b5e04",
   "metadata": {},
   "source": [
    "## Задача**:**\n",
    "\n",
    "Проанализируйте клиентов регионального банка и выделите портрет клиентов, которые склонны уходить из банка.\n",
    "\n",
    "- Проведите исследовательский анализ данных,\n",
    "- Выделите портреты клиентов, которые склонны уходить из банка,\n",
    "- Сформулируйте и проверьте статистические гипотезы.\n",
    "    \n",
    "    *Проверьте гипотезу различия дохода между теми клиентами, которые ушли и теми, которые остались.*\n",
    "    \n",
    "    *Сформулируйте и проверьте статистическую гипотезу относительно представленных данных*"
   ]
  },
  {
   "cell_type": "markdown",
   "id": "5551467f",
   "metadata": {},
   "source": [
    "## Материалы"
   ]
  },
  {
   "cell_type": "markdown",
   "id": "6a7a4a78",
   "metadata": {},
   "source": [
    "* [Презентация](https://disk.yandex.lt/i/dsouFlUz9TEpYA)"
   ]
  },
  {
   "cell_type": "code",
   "execution_count": 79,
   "id": "cd0579ac",
   "metadata": {},
   "outputs": [
    {
     "data": {
      "text/html": [
       "<div>\n",
       "<style scoped>\n",
       "    .dataframe tbody tr th:only-of-type {\n",
       "        vertical-align: middle;\n",
       "    }\n",
       "\n",
       "    .dataframe tbody tr th {\n",
       "        vertical-align: top;\n",
       "    }\n",
       "\n",
       "    .dataframe thead th {\n",
       "        text-align: right;\n",
       "    }\n",
       "</style>\n",
       "<table border=\"1\" class=\"dataframe\">\n",
       "  <thead>\n",
       "    <tr style=\"text-align: right;\">\n",
       "      <th></th>\n",
       "      <th>user_id</th>\n",
       "    </tr>\n",
       "    <tr>\n",
       "      <th>products</th>\n",
       "      <th></th>\n",
       "    </tr>\n",
       "  </thead>\n",
       "  <tbody>\n",
       "    <tr>\n",
       "      <th>0</th>\n",
       "      <td>1</td>\n",
       "    </tr>\n",
       "    <tr>\n",
       "      <th>1</th>\n",
       "      <td>3326</td>\n",
       "    </tr>\n",
       "    <tr>\n",
       "      <th>2</th>\n",
       "      <td>5106</td>\n",
       "    </tr>\n",
       "    <tr>\n",
       "      <th>3</th>\n",
       "      <td>1046</td>\n",
       "    </tr>\n",
       "    <tr>\n",
       "      <th>4</th>\n",
       "      <td>474</td>\n",
       "    </tr>\n",
       "    <tr>\n",
       "      <th>5</th>\n",
       "      <td>30</td>\n",
       "    </tr>\n",
       "  </tbody>\n",
       "</table>\n",
       "</div>"
      ],
      "text/plain": [
       "          user_id\n",
       "products         \n",
       "0               1\n",
       "1            3326\n",
       "2            5106\n",
       "3            1046\n",
       "4             474\n",
       "5              30"
      ]
     },
     "execution_count": 79,
     "metadata": {},
     "output_type": "execute_result"
    }
   ],
   "source": [
    "df.groupby('products').agg({'user_id':'nunique'})"
   ]
  },
  {
   "cell_type": "markdown",
   "id": "4eeb5f17",
   "metadata": {},
   "source": [
    "## Загрузка и предобработка данных"
   ]
  },
  {
   "cell_type": "code",
   "execution_count": 1,
   "id": "59e13825",
   "metadata": {},
   "outputs": [
    {
     "name": "stdout",
     "output_type": "stream",
     "text": [
      "Collecting phik\n",
      "  Downloading phik-0.12.2-cp39-cp39-manylinux_2_17_x86_64.manylinux2014_x86_64.whl (709 kB)\n",
      "\u001b[K     |████████████████████████████████| 709 kB 2.6 MB/s eta 0:00:01\n",
      "\u001b[?25hRequirement already satisfied: matplotlib>=2.2.3 in /opt/conda/lib/python3.9/site-packages (from phik) (3.3.4)\n",
      "Requirement already satisfied: joblib>=0.14.1 in /opt/conda/lib/python3.9/site-packages (from phik) (1.1.0)\n",
      "Requirement already satisfied: numpy>=1.18.0 in /opt/conda/lib/python3.9/site-packages (from phik) (1.21.1)\n",
      "Requirement already satisfied: scipy>=1.5.2 in /opt/conda/lib/python3.9/site-packages (from phik) (1.9.1)\n",
      "Requirement already satisfied: pandas>=0.25.1 in /opt/conda/lib/python3.9/site-packages (from phik) (1.2.4)\n",
      "Requirement already satisfied: python-dateutil>=2.1 in /opt/conda/lib/python3.9/site-packages (from matplotlib>=2.2.3->phik) (2.8.1)\n",
      "Requirement already satisfied: cycler>=0.10 in /opt/conda/lib/python3.9/site-packages (from matplotlib>=2.2.3->phik) (0.11.0)\n",
      "Requirement already satisfied: pillow>=6.2.0 in /opt/conda/lib/python3.9/site-packages (from matplotlib>=2.2.3->phik) (8.4.0)\n",
      "Requirement already satisfied: kiwisolver>=1.0.1 in /opt/conda/lib/python3.9/site-packages (from matplotlib>=2.2.3->phik) (1.4.4)\n",
      "Requirement already satisfied: pyparsing!=2.0.4,!=2.1.2,!=2.1.6,>=2.0.3 in /opt/conda/lib/python3.9/site-packages (from matplotlib>=2.2.3->phik) (2.4.7)\n",
      "Requirement already satisfied: pytz>=2017.3 in /opt/conda/lib/python3.9/site-packages (from pandas>=0.25.1->phik) (2021.1)\n",
      "Requirement already satisfied: six>=1.5 in /opt/conda/lib/python3.9/site-packages (from python-dateutil>=2.1->matplotlib>=2.2.3->phik) (1.16.0)\n",
      "Installing collected packages: phik\n",
      "Successfully installed phik-0.12.2\n"
     ]
    }
   ],
   "source": [
    "!pip install phik"
   ]
  },
  {
   "cell_type": "code",
   "execution_count": 2,
   "id": "327dd9e7",
   "metadata": {},
   "outputs": [],
   "source": [
    "import pandas as pd\n",
    "import numpy as np\n",
    "import seaborn as sns\n",
    "\n",
    "#import math as mt\n",
    "from scipy import stats as st\n",
    "from matplotlib import pyplot as plt\n",
    "\n",
    "import phik\n",
    "from phik.report import plot_correlation_matrix\n",
    "from phik import report"
   ]
  },
  {
   "cell_type": "code",
   "execution_count": 3,
   "id": "f3ad0490",
   "metadata": {},
   "outputs": [],
   "source": [
    "# чтение файла с данными и сохранение его в переменную\n",
    "path = \"https://drive.google.com/uc?export=download&id=1Q9_gSHSfe-AqwI3mLANe46jeS_CQMl8F\"\n",
    "df = pd.read_csv(path)"
   ]
  },
  {
   "cell_type": "code",
   "execution_count": 4,
   "id": "94aa634f",
   "metadata": {},
   "outputs": [
    {
     "name": "stdout",
     "output_type": "stream",
     "text": [
      "<class 'pandas.core.frame.DataFrame'>\n",
      "RangeIndex: 10000 entries, 0 to 9999\n",
      "Data columns (total 12 columns):\n",
      " #   Column         Non-Null Count  Dtype  \n",
      "---  ------         --------------  -----  \n",
      " 0   USERID         10000 non-null  int64  \n",
      " 1   score          10000 non-null  float64\n",
      " 2   city           10000 non-null  object \n",
      " 3   gender         10000 non-null  object \n",
      " 4   age            10000 non-null  int64  \n",
      " 5   equity         10000 non-null  int64  \n",
      " 6   balance        7705 non-null   float64\n",
      " 7   products       10000 non-null  int64  \n",
      " 8   credit_card    10000 non-null  int64  \n",
      " 9   last_activity  10000 non-null  int64  \n",
      " 10  EST_SALARY     10000 non-null  float64\n",
      " 11  churn          10000 non-null  int64  \n",
      "dtypes: float64(3), int64(7), object(2)\n",
      "memory usage: 937.6+ KB\n"
     ]
    }
   ],
   "source": [
    "df.info()"
   ]
  },
  {
   "cell_type": "code",
   "execution_count": 5,
   "id": "049689db",
   "metadata": {},
   "outputs": [],
   "source": [
    "df.rename(columns={'USERID':'user_id', 'EST_SALARY':'est_salary'}, inplace=True)"
   ]
  },
  {
   "cell_type": "code",
   "execution_count": 6,
   "id": "b0219d79",
   "metadata": {},
   "outputs": [
    {
     "data": {
      "text/html": [
       "<div>\n",
       "<style scoped>\n",
       "    .dataframe tbody tr th:only-of-type {\n",
       "        vertical-align: middle;\n",
       "    }\n",
       "\n",
       "    .dataframe tbody tr th {\n",
       "        vertical-align: top;\n",
       "    }\n",
       "\n",
       "    .dataframe thead th {\n",
       "        text-align: right;\n",
       "    }\n",
       "</style>\n",
       "<table border=\"1\" class=\"dataframe\">\n",
       "  <thead>\n",
       "    <tr style=\"text-align: right;\">\n",
       "      <th></th>\n",
       "      <th>user_id</th>\n",
       "      <th>score</th>\n",
       "      <th>city</th>\n",
       "      <th>gender</th>\n",
       "      <th>age</th>\n",
       "      <th>equity</th>\n",
       "      <th>balance</th>\n",
       "      <th>products</th>\n",
       "      <th>credit_card</th>\n",
       "      <th>last_activity</th>\n",
       "      <th>est_salary</th>\n",
       "      <th>churn</th>\n",
       "    </tr>\n",
       "  </thead>\n",
       "  <tbody>\n",
       "    <tr>\n",
       "      <th>0</th>\n",
       "      <td>106217</td>\n",
       "      <td>850.0</td>\n",
       "      <td>Рыбинск</td>\n",
       "      <td>Ж</td>\n",
       "      <td>25</td>\n",
       "      <td>1</td>\n",
       "      <td>59214.82</td>\n",
       "      <td>2</td>\n",
       "      <td>0</td>\n",
       "      <td>1</td>\n",
       "      <td>75719.14</td>\n",
       "      <td>1</td>\n",
       "    </tr>\n",
       "    <tr>\n",
       "      <th>1</th>\n",
       "      <td>146556</td>\n",
       "      <td>861.0</td>\n",
       "      <td>Рыбинск</td>\n",
       "      <td>Ж</td>\n",
       "      <td>37</td>\n",
       "      <td>5</td>\n",
       "      <td>850594.33</td>\n",
       "      <td>3</td>\n",
       "      <td>1</td>\n",
       "      <td>0</td>\n",
       "      <td>86621.77</td>\n",
       "      <td>0</td>\n",
       "    </tr>\n",
       "    <tr>\n",
       "      <th>2</th>\n",
       "      <td>120722</td>\n",
       "      <td>892.0</td>\n",
       "      <td>Рыбинск</td>\n",
       "      <td>Ж</td>\n",
       "      <td>30</td>\n",
       "      <td>0</td>\n",
       "      <td>NaN</td>\n",
       "      <td>1</td>\n",
       "      <td>1</td>\n",
       "      <td>1</td>\n",
       "      <td>107683.34</td>\n",
       "      <td>0</td>\n",
       "    </tr>\n",
       "    <tr>\n",
       "      <th>3</th>\n",
       "      <td>113370</td>\n",
       "      <td>866.0</td>\n",
       "      <td>Ярославль</td>\n",
       "      <td>Ж</td>\n",
       "      <td>51</td>\n",
       "      <td>5</td>\n",
       "      <td>1524746.26</td>\n",
       "      <td>2</td>\n",
       "      <td>0</td>\n",
       "      <td>1</td>\n",
       "      <td>174423.53</td>\n",
       "      <td>1</td>\n",
       "    </tr>\n",
       "    <tr>\n",
       "      <th>4</th>\n",
       "      <td>157978</td>\n",
       "      <td>730.0</td>\n",
       "      <td>Ярославль</td>\n",
       "      <td>М</td>\n",
       "      <td>34</td>\n",
       "      <td>5</td>\n",
       "      <td>174.00</td>\n",
       "      <td>1</td>\n",
       "      <td>1</td>\n",
       "      <td>0</td>\n",
       "      <td>67353.16</td>\n",
       "      <td>1</td>\n",
       "    </tr>\n",
       "  </tbody>\n",
       "</table>\n",
       "</div>"
      ],
      "text/plain": [
       "   user_id  score       city gender  age  equity     balance  products  \\\n",
       "0   106217  850.0    Рыбинск      Ж   25       1    59214.82         2   \n",
       "1   146556  861.0    Рыбинск      Ж   37       5   850594.33         3   \n",
       "2   120722  892.0    Рыбинск      Ж   30       0         NaN         1   \n",
       "3   113370  866.0  Ярославль      Ж   51       5  1524746.26         2   \n",
       "4   157978  730.0  Ярославль      М   34       5      174.00         1   \n",
       "\n",
       "   credit_card  last_activity  est_salary  churn  \n",
       "0            0              1    75719.14      1  \n",
       "1            1              0    86621.77      0  \n",
       "2            1              1   107683.34      0  \n",
       "3            0              1   174423.53      1  \n",
       "4            1              0    67353.16      1  "
      ]
     },
     "execution_count": 6,
     "metadata": {},
     "output_type": "execute_result"
    }
   ],
   "source": [
    "df.head(5)"
   ]
  },
  {
   "cell_type": "code",
   "execution_count": 7,
   "id": "4059db53",
   "metadata": {},
   "outputs": [
    {
     "data": {
      "text/plain": [
       "1"
      ]
     },
     "execution_count": 7,
     "metadata": {},
     "output_type": "execute_result"
    }
   ],
   "source": [
    "df.duplicated().sum()"
   ]
  },
  {
   "cell_type": "code",
   "execution_count": 8,
   "id": "adba0e6b",
   "metadata": {},
   "outputs": [
    {
     "data": {
      "text/html": [
       "<div>\n",
       "<style scoped>\n",
       "    .dataframe tbody tr th:only-of-type {\n",
       "        vertical-align: middle;\n",
       "    }\n",
       "\n",
       "    .dataframe tbody tr th {\n",
       "        vertical-align: top;\n",
       "    }\n",
       "\n",
       "    .dataframe thead th {\n",
       "        text-align: right;\n",
       "    }\n",
       "</style>\n",
       "<table border=\"1\" class=\"dataframe\">\n",
       "  <thead>\n",
       "    <tr style=\"text-align: right;\">\n",
       "      <th></th>\n",
       "      <th>user_id</th>\n",
       "      <th>score</th>\n",
       "      <th>city</th>\n",
       "      <th>gender</th>\n",
       "      <th>age</th>\n",
       "      <th>equity</th>\n",
       "      <th>balance</th>\n",
       "      <th>products</th>\n",
       "      <th>credit_card</th>\n",
       "      <th>last_activity</th>\n",
       "      <th>est_salary</th>\n",
       "      <th>churn</th>\n",
       "    </tr>\n",
       "  </thead>\n",
       "  <tbody>\n",
       "    <tr>\n",
       "      <th>4343</th>\n",
       "      <td>141945</td>\n",
       "      <td>929.0</td>\n",
       "      <td>Ярославль</td>\n",
       "      <td>М</td>\n",
       "      <td>33</td>\n",
       "      <td>0</td>\n",
       "      <td>NaN</td>\n",
       "      <td>1</td>\n",
       "      <td>1</td>\n",
       "      <td>0</td>\n",
       "      <td>381868.89</td>\n",
       "      <td>0</td>\n",
       "    </tr>\n",
       "    <tr>\n",
       "      <th>9457</th>\n",
       "      <td>141945</td>\n",
       "      <td>929.0</td>\n",
       "      <td>Ярославль</td>\n",
       "      <td>М</td>\n",
       "      <td>33</td>\n",
       "      <td>0</td>\n",
       "      <td>NaN</td>\n",
       "      <td>1</td>\n",
       "      <td>1</td>\n",
       "      <td>0</td>\n",
       "      <td>381868.89</td>\n",
       "      <td>0</td>\n",
       "    </tr>\n",
       "  </tbody>\n",
       "</table>\n",
       "</div>"
      ],
      "text/plain": [
       "      user_id  score       city gender  age  equity  balance  products  \\\n",
       "4343   141945  929.0  Ярославль      М   33       0      NaN         1   \n",
       "9457   141945  929.0  Ярославль      М   33       0      NaN         1   \n",
       "\n",
       "      credit_card  last_activity  est_salary  churn  \n",
       "4343            1              0   381868.89      0  \n",
       "9457            1              0   381868.89      0  "
      ]
     },
     "execution_count": 8,
     "metadata": {},
     "output_type": "execute_result"
    }
   ],
   "source": [
    "df.query('user_id == 141945')"
   ]
  },
  {
   "cell_type": "code",
   "execution_count": 9,
   "id": "070a9e23",
   "metadata": {},
   "outputs": [
    {
     "data": {
      "text/plain": [
       "17"
      ]
     },
     "execution_count": 9,
     "metadata": {},
     "output_type": "execute_result"
    }
   ],
   "source": [
    "df.duplicated(subset=['user_id']).sum()"
   ]
  },
  {
   "cell_type": "code",
   "execution_count": 10,
   "id": "2cb6f1d8",
   "metadata": {},
   "outputs": [
    {
     "data": {
      "text/html": [
       "<div>\n",
       "<style scoped>\n",
       "    .dataframe tbody tr th:only-of-type {\n",
       "        vertical-align: middle;\n",
       "    }\n",
       "\n",
       "    .dataframe tbody tr th {\n",
       "        vertical-align: top;\n",
       "    }\n",
       "\n",
       "    .dataframe thead th {\n",
       "        text-align: right;\n",
       "    }\n",
       "</style>\n",
       "<table border=\"1\" class=\"dataframe\">\n",
       "  <thead>\n",
       "    <tr style=\"text-align: right;\">\n",
       "      <th></th>\n",
       "      <th>user_id</th>\n",
       "      <th>score</th>\n",
       "      <th>city</th>\n",
       "      <th>gender</th>\n",
       "      <th>age</th>\n",
       "      <th>equity</th>\n",
       "      <th>balance</th>\n",
       "      <th>products</th>\n",
       "      <th>credit_card</th>\n",
       "      <th>last_activity</th>\n",
       "      <th>est_salary</th>\n",
       "      <th>churn</th>\n",
       "    </tr>\n",
       "  </thead>\n",
       "  <tbody>\n",
       "    <tr>\n",
       "      <th>9457</th>\n",
       "      <td>141945</td>\n",
       "      <td>929.0</td>\n",
       "      <td>Ярославль</td>\n",
       "      <td>М</td>\n",
       "      <td>33</td>\n",
       "      <td>0</td>\n",
       "      <td>NaN</td>\n",
       "      <td>1</td>\n",
       "      <td>1</td>\n",
       "      <td>0</td>\n",
       "      <td>381868.89</td>\n",
       "      <td>0</td>\n",
       "    </tr>\n",
       "    <tr>\n",
       "      <th>9632</th>\n",
       "      <td>185829</td>\n",
       "      <td>927.0</td>\n",
       "      <td>Ярославль</td>\n",
       "      <td>М</td>\n",
       "      <td>40</td>\n",
       "      <td>0</td>\n",
       "      <td>NaN</td>\n",
       "      <td>1</td>\n",
       "      <td>1</td>\n",
       "      <td>0</td>\n",
       "      <td>231254.86</td>\n",
       "      <td>0</td>\n",
       "    </tr>\n",
       "    <tr>\n",
       "      <th>9380</th>\n",
       "      <td>187459</td>\n",
       "      <td>894.0</td>\n",
       "      <td>Рыбинск</td>\n",
       "      <td>М</td>\n",
       "      <td>48</td>\n",
       "      <td>0</td>\n",
       "      <td>NaN</td>\n",
       "      <td>1</td>\n",
       "      <td>1</td>\n",
       "      <td>0</td>\n",
       "      <td>178012.28</td>\n",
       "      <td>0</td>\n",
       "    </tr>\n",
       "    <tr>\n",
       "      <th>2165</th>\n",
       "      <td>187635</td>\n",
       "      <td>692.0</td>\n",
       "      <td>Ярославль</td>\n",
       "      <td>Ж</td>\n",
       "      <td>44</td>\n",
       "      <td>0</td>\n",
       "      <td>NaN</td>\n",
       "      <td>1</td>\n",
       "      <td>1</td>\n",
       "      <td>1</td>\n",
       "      <td>160368.82</td>\n",
       "      <td>0</td>\n",
       "    </tr>\n",
       "    <tr>\n",
       "      <th>8015</th>\n",
       "      <td>198635</td>\n",
       "      <td>670.0</td>\n",
       "      <td>Ярославль</td>\n",
       "      <td>Ж</td>\n",
       "      <td>32</td>\n",
       "      <td>0</td>\n",
       "      <td>NaN</td>\n",
       "      <td>1</td>\n",
       "      <td>1</td>\n",
       "      <td>1</td>\n",
       "      <td>168699.33</td>\n",
       "      <td>0</td>\n",
       "    </tr>\n",
       "    <tr>\n",
       "      <th>9301</th>\n",
       "      <td>202983</td>\n",
       "      <td>942.0</td>\n",
       "      <td>Ростов</td>\n",
       "      <td>Ж</td>\n",
       "      <td>39</td>\n",
       "      <td>0</td>\n",
       "      <td>NaN</td>\n",
       "      <td>1</td>\n",
       "      <td>1</td>\n",
       "      <td>1</td>\n",
       "      <td>163804.73</td>\n",
       "      <td>0</td>\n",
       "    </tr>\n",
       "    <tr>\n",
       "      <th>8385</th>\n",
       "      <td>206759</td>\n",
       "      <td>915.0</td>\n",
       "      <td>Ярославль</td>\n",
       "      <td>М</td>\n",
       "      <td>22</td>\n",
       "      <td>0</td>\n",
       "      <td>NaN</td>\n",
       "      <td>1</td>\n",
       "      <td>1</td>\n",
       "      <td>0</td>\n",
       "      <td>71179.53</td>\n",
       "      <td>0</td>\n",
       "    </tr>\n",
       "    <tr>\n",
       "      <th>8449</th>\n",
       "      <td>210898</td>\n",
       "      <td>705.0</td>\n",
       "      <td>Ярославль</td>\n",
       "      <td>Ж</td>\n",
       "      <td>35</td>\n",
       "      <td>0</td>\n",
       "      <td>NaN</td>\n",
       "      <td>1</td>\n",
       "      <td>0</td>\n",
       "      <td>1</td>\n",
       "      <td>922080.25</td>\n",
       "      <td>0</td>\n",
       "    </tr>\n",
       "    <tr>\n",
       "      <th>8293</th>\n",
       "      <td>216848</td>\n",
       "      <td>930.0</td>\n",
       "      <td>Ярославль</td>\n",
       "      <td>М</td>\n",
       "      <td>34</td>\n",
       "      <td>0</td>\n",
       "      <td>NaN</td>\n",
       "      <td>1</td>\n",
       "      <td>1</td>\n",
       "      <td>1</td>\n",
       "      <td>199542.51</td>\n",
       "      <td>0</td>\n",
       "    </tr>\n",
       "    <tr>\n",
       "      <th>5470</th>\n",
       "      <td>218868</td>\n",
       "      <td>827.0</td>\n",
       "      <td>Ярославль</td>\n",
       "      <td>Ж</td>\n",
       "      <td>38</td>\n",
       "      <td>4</td>\n",
       "      <td>448959.07</td>\n",
       "      <td>2</td>\n",
       "      <td>1</td>\n",
       "      <td>1</td>\n",
       "      <td>67835.95</td>\n",
       "      <td>0</td>\n",
       "    </tr>\n",
       "    <tr>\n",
       "      <th>7248</th>\n",
       "      <td>219343</td>\n",
       "      <td>920.0</td>\n",
       "      <td>Ярославль</td>\n",
       "      <td>Ж</td>\n",
       "      <td>33</td>\n",
       "      <td>0</td>\n",
       "      <td>NaN</td>\n",
       "      <td>1</td>\n",
       "      <td>1</td>\n",
       "      <td>0</td>\n",
       "      <td>159248.67</td>\n",
       "      <td>0</td>\n",
       "    </tr>\n",
       "    <tr>\n",
       "      <th>2444</th>\n",
       "      <td>221156</td>\n",
       "      <td>913.0</td>\n",
       "      <td>Рыбинск</td>\n",
       "      <td>М</td>\n",
       "      <td>61</td>\n",
       "      <td>0</td>\n",
       "      <td>NaN</td>\n",
       "      <td>1</td>\n",
       "      <td>1</td>\n",
       "      <td>1</td>\n",
       "      <td>135693.24</td>\n",
       "      <td>0</td>\n",
       "    </tr>\n",
       "    <tr>\n",
       "      <th>8632</th>\n",
       "      <td>221197</td>\n",
       "      <td>893.0</td>\n",
       "      <td>Ярославль</td>\n",
       "      <td>М</td>\n",
       "      <td>27</td>\n",
       "      <td>0</td>\n",
       "      <td>NaN</td>\n",
       "      <td>1</td>\n",
       "      <td>1</td>\n",
       "      <td>0</td>\n",
       "      <td>173929.92</td>\n",
       "      <td>0</td>\n",
       "    </tr>\n",
       "    <tr>\n",
       "      <th>9634</th>\n",
       "      <td>221809</td>\n",
       "      <td>917.0</td>\n",
       "      <td>Ярославль</td>\n",
       "      <td>М</td>\n",
       "      <td>45</td>\n",
       "      <td>0</td>\n",
       "      <td>NaN</td>\n",
       "      <td>1</td>\n",
       "      <td>1</td>\n",
       "      <td>1</td>\n",
       "      <td>192644.15</td>\n",
       "      <td>0</td>\n",
       "    </tr>\n",
       "    <tr>\n",
       "      <th>9104</th>\n",
       "      <td>222480</td>\n",
       "      <td>776.0</td>\n",
       "      <td>Ярославль</td>\n",
       "      <td>Ж</td>\n",
       "      <td>38</td>\n",
       "      <td>5</td>\n",
       "      <td>796735.09</td>\n",
       "      <td>1</td>\n",
       "      <td>1</td>\n",
       "      <td>1</td>\n",
       "      <td>55073.63</td>\n",
       "      <td>0</td>\n",
       "    </tr>\n",
       "    <tr>\n",
       "      <th>8070</th>\n",
       "      <td>226550</td>\n",
       "      <td>940.0</td>\n",
       "      <td>Ярославль</td>\n",
       "      <td>М</td>\n",
       "      <td>34</td>\n",
       "      <td>0</td>\n",
       "      <td>NaN</td>\n",
       "      <td>1</td>\n",
       "      <td>0</td>\n",
       "      <td>1</td>\n",
       "      <td>147696.95</td>\n",
       "      <td>0</td>\n",
       "    </tr>\n",
       "    <tr>\n",
       "      <th>8497</th>\n",
       "      <td>227795</td>\n",
       "      <td>839.0</td>\n",
       "      <td>Рыбинск</td>\n",
       "      <td>М</td>\n",
       "      <td>34</td>\n",
       "      <td>2</td>\n",
       "      <td>326593.14</td>\n",
       "      <td>2</td>\n",
       "      <td>1</td>\n",
       "      <td>0</td>\n",
       "      <td>103314.92</td>\n",
       "      <td>0</td>\n",
       "    </tr>\n",
       "  </tbody>\n",
       "</table>\n",
       "</div>"
      ],
      "text/plain": [
       "      user_id  score       city gender  age  equity    balance  products  \\\n",
       "9457   141945  929.0  Ярославль      М   33       0        NaN         1   \n",
       "9632   185829  927.0  Ярославль      М   40       0        NaN         1   \n",
       "9380   187459  894.0    Рыбинск      М   48       0        NaN         1   \n",
       "2165   187635  692.0  Ярославль      Ж   44       0        NaN         1   \n",
       "8015   198635  670.0  Ярославль      Ж   32       0        NaN         1   \n",
       "9301   202983  942.0     Ростов      Ж   39       0        NaN         1   \n",
       "8385   206759  915.0  Ярославль      М   22       0        NaN         1   \n",
       "8449   210898  705.0  Ярославль      Ж   35       0        NaN         1   \n",
       "8293   216848  930.0  Ярославль      М   34       0        NaN         1   \n",
       "5470   218868  827.0  Ярославль      Ж   38       4  448959.07         2   \n",
       "7248   219343  920.0  Ярославль      Ж   33       0        NaN         1   \n",
       "2444   221156  913.0    Рыбинск      М   61       0        NaN         1   \n",
       "8632   221197  893.0  Ярославль      М   27       0        NaN         1   \n",
       "9634   221809  917.0  Ярославль      М   45       0        NaN         1   \n",
       "9104   222480  776.0  Ярославль      Ж   38       5  796735.09         1   \n",
       "8070   226550  940.0  Ярославль      М   34       0        NaN         1   \n",
       "8497   227795  839.0    Рыбинск      М   34       2  326593.14         2   \n",
       "\n",
       "      credit_card  last_activity  est_salary  churn  \n",
       "9457            1              0   381868.89      0  \n",
       "9632            1              0   231254.86      0  \n",
       "9380            1              0   178012.28      0  \n",
       "2165            1              1   160368.82      0  \n",
       "8015            1              1   168699.33      0  \n",
       "9301            1              1   163804.73      0  \n",
       "8385            1              0    71179.53      0  \n",
       "8449            0              1   922080.25      0  \n",
       "8293            1              1   199542.51      0  \n",
       "5470            1              1    67835.95      0  \n",
       "7248            1              0   159248.67      0  \n",
       "2444            1              1   135693.24      0  \n",
       "8632            1              0   173929.92      0  \n",
       "9634            1              1   192644.15      0  \n",
       "9104            1              1    55073.63      0  \n",
       "8070            0              1   147696.95      0  \n",
       "8497            1              0   103314.92      0  "
      ]
     },
     "execution_count": 10,
     "metadata": {},
     "output_type": "execute_result"
    }
   ],
   "source": [
    "df[df.duplicated(subset=['user_id'])].sort_values(by='user_id')"
   ]
  },
  {
   "cell_type": "code",
   "execution_count": 11,
   "id": "b30c5c2c",
   "metadata": {},
   "outputs": [
    {
     "data": {
      "text/html": [
       "<div>\n",
       "<style scoped>\n",
       "    .dataframe tbody tr th:only-of-type {\n",
       "        vertical-align: middle;\n",
       "    }\n",
       "\n",
       "    .dataframe tbody tr th {\n",
       "        vertical-align: top;\n",
       "    }\n",
       "\n",
       "    .dataframe thead th {\n",
       "        text-align: right;\n",
       "    }\n",
       "</style>\n",
       "<table border=\"1\" class=\"dataframe\">\n",
       "  <thead>\n",
       "    <tr style=\"text-align: right;\">\n",
       "      <th></th>\n",
       "      <th>user_id</th>\n",
       "      <th>score</th>\n",
       "      <th>city</th>\n",
       "      <th>gender</th>\n",
       "      <th>age</th>\n",
       "      <th>equity</th>\n",
       "      <th>balance</th>\n",
       "      <th>products</th>\n",
       "      <th>credit_card</th>\n",
       "      <th>last_activity</th>\n",
       "      <th>est_salary</th>\n",
       "      <th>churn</th>\n",
       "    </tr>\n",
       "  </thead>\n",
       "  <tbody>\n",
       "    <tr>\n",
       "      <th>0</th>\n",
       "      <td>106217</td>\n",
       "      <td>850.0</td>\n",
       "      <td>Рыбинск</td>\n",
       "      <td>Ж</td>\n",
       "      <td>25</td>\n",
       "      <td>1</td>\n",
       "      <td>59214.82</td>\n",
       "      <td>2</td>\n",
       "      <td>0</td>\n",
       "      <td>1</td>\n",
       "      <td>75719.14</td>\n",
       "      <td>1</td>\n",
       "    </tr>\n",
       "    <tr>\n",
       "      <th>1</th>\n",
       "      <td>146556</td>\n",
       "      <td>861.0</td>\n",
       "      <td>Рыбинск</td>\n",
       "      <td>Ж</td>\n",
       "      <td>37</td>\n",
       "      <td>5</td>\n",
       "      <td>850594.33</td>\n",
       "      <td>3</td>\n",
       "      <td>1</td>\n",
       "      <td>0</td>\n",
       "      <td>86621.77</td>\n",
       "      <td>0</td>\n",
       "    </tr>\n",
       "    <tr>\n",
       "      <th>2</th>\n",
       "      <td>120722</td>\n",
       "      <td>892.0</td>\n",
       "      <td>Рыбинск</td>\n",
       "      <td>Ж</td>\n",
       "      <td>30</td>\n",
       "      <td>0</td>\n",
       "      <td>NaN</td>\n",
       "      <td>1</td>\n",
       "      <td>1</td>\n",
       "      <td>1</td>\n",
       "      <td>107683.34</td>\n",
       "      <td>0</td>\n",
       "    </tr>\n",
       "    <tr>\n",
       "      <th>3</th>\n",
       "      <td>113370</td>\n",
       "      <td>866.0</td>\n",
       "      <td>Ярославль</td>\n",
       "      <td>Ж</td>\n",
       "      <td>51</td>\n",
       "      <td>5</td>\n",
       "      <td>1524746.26</td>\n",
       "      <td>2</td>\n",
       "      <td>0</td>\n",
       "      <td>1</td>\n",
       "      <td>174423.53</td>\n",
       "      <td>1</td>\n",
       "    </tr>\n",
       "    <tr>\n",
       "      <th>4</th>\n",
       "      <td>157978</td>\n",
       "      <td>730.0</td>\n",
       "      <td>Ярославль</td>\n",
       "      <td>М</td>\n",
       "      <td>34</td>\n",
       "      <td>5</td>\n",
       "      <td>174.00</td>\n",
       "      <td>1</td>\n",
       "      <td>1</td>\n",
       "      <td>0</td>\n",
       "      <td>67353.16</td>\n",
       "      <td>1</td>\n",
       "    </tr>\n",
       "    <tr>\n",
       "      <th>...</th>\n",
       "      <td>...</td>\n",
       "      <td>...</td>\n",
       "      <td>...</td>\n",
       "      <td>...</td>\n",
       "      <td>...</td>\n",
       "      <td>...</td>\n",
       "      <td>...</td>\n",
       "      <td>...</td>\n",
       "      <td>...</td>\n",
       "      <td>...</td>\n",
       "      <td>...</td>\n",
       "      <td>...</td>\n",
       "    </tr>\n",
       "    <tr>\n",
       "      <th>9978</th>\n",
       "      <td>120553</td>\n",
       "      <td>814.0</td>\n",
       "      <td>Рыбинск</td>\n",
       "      <td>М</td>\n",
       "      <td>27</td>\n",
       "      <td>1</td>\n",
       "      <td>78144.65</td>\n",
       "      <td>1</td>\n",
       "      <td>0</td>\n",
       "      <td>1</td>\n",
       "      <td>18943.64</td>\n",
       "      <td>0</td>\n",
       "    </tr>\n",
       "    <tr>\n",
       "      <th>9979</th>\n",
       "      <td>139170</td>\n",
       "      <td>894.0</td>\n",
       "      <td>Ярославль</td>\n",
       "      <td>М</td>\n",
       "      <td>46</td>\n",
       "      <td>0</td>\n",
       "      <td>NaN</td>\n",
       "      <td>1</td>\n",
       "      <td>1</td>\n",
       "      <td>0</td>\n",
       "      <td>196898.29</td>\n",
       "      <td>0</td>\n",
       "    </tr>\n",
       "    <tr>\n",
       "      <th>9980</th>\n",
       "      <td>115639</td>\n",
       "      <td>903.0</td>\n",
       "      <td>Ярославль</td>\n",
       "      <td>М</td>\n",
       "      <td>24</td>\n",
       "      <td>0</td>\n",
       "      <td>NaN</td>\n",
       "      <td>2</td>\n",
       "      <td>1</td>\n",
       "      <td>1</td>\n",
       "      <td>108905.09</td>\n",
       "      <td>0</td>\n",
       "    </tr>\n",
       "    <tr>\n",
       "      <th>9981</th>\n",
       "      <td>148700</td>\n",
       "      <td>777.0</td>\n",
       "      <td>Ярославль</td>\n",
       "      <td>Ж</td>\n",
       "      <td>68</td>\n",
       "      <td>3</td>\n",
       "      <td>865457.97</td>\n",
       "      <td>3</td>\n",
       "      <td>0</td>\n",
       "      <td>1</td>\n",
       "      <td>86874.90</td>\n",
       "      <td>0</td>\n",
       "    </tr>\n",
       "    <tr>\n",
       "      <th>9982</th>\n",
       "      <td>96267</td>\n",
       "      <td>828.0</td>\n",
       "      <td>Рыбинск</td>\n",
       "      <td>Ж</td>\n",
       "      <td>58</td>\n",
       "      <td>3</td>\n",
       "      <td>1180886.70</td>\n",
       "      <td>4</td>\n",
       "      <td>0</td>\n",
       "      <td>1</td>\n",
       "      <td>21422.37</td>\n",
       "      <td>0</td>\n",
       "    </tr>\n",
       "  </tbody>\n",
       "</table>\n",
       "<p>9983 rows × 12 columns</p>\n",
       "</div>"
      ],
      "text/plain": [
       "      user_id  score       city gender  age  equity     balance  products  \\\n",
       "0      106217  850.0    Рыбинск      Ж   25       1    59214.82         2   \n",
       "1      146556  861.0    Рыбинск      Ж   37       5   850594.33         3   \n",
       "2      120722  892.0    Рыбинск      Ж   30       0         NaN         1   \n",
       "3      113370  866.0  Ярославль      Ж   51       5  1524746.26         2   \n",
       "4      157978  730.0  Ярославль      М   34       5      174.00         1   \n",
       "...       ...    ...        ...    ...  ...     ...         ...       ...   \n",
       "9978   120553  814.0    Рыбинск      М   27       1    78144.65         1   \n",
       "9979   139170  894.0  Ярославль      М   46       0         NaN         1   \n",
       "9980   115639  903.0  Ярославль      М   24       0         NaN         2   \n",
       "9981   148700  777.0  Ярославль      Ж   68       3   865457.97         3   \n",
       "9982    96267  828.0    Рыбинск      Ж   58       3  1180886.70         4   \n",
       "\n",
       "      credit_card  last_activity  est_salary  churn  \n",
       "0               0              1    75719.14      1  \n",
       "1               1              0    86621.77      0  \n",
       "2               1              1   107683.34      0  \n",
       "3               0              1   174423.53      1  \n",
       "4               1              0    67353.16      1  \n",
       "...           ...            ...         ...    ...  \n",
       "9978            0              1    18943.64      0  \n",
       "9979            1              0   196898.29      0  \n",
       "9980            1              1   108905.09      0  \n",
       "9981            0              1    86874.90      0  \n",
       "9982            0              1    21422.37      0  \n",
       "\n",
       "[9983 rows x 12 columns]"
      ]
     },
     "execution_count": 11,
     "metadata": {},
     "output_type": "execute_result"
    }
   ],
   "source": [
    "df.drop_duplicates(subset=['user_id'], inplace=True)\n",
    "df.reset_index(drop=True)"
   ]
  },
  {
   "cell_type": "code",
   "execution_count": 12,
   "id": "44574457",
   "metadata": {},
   "outputs": [
    {
     "data": {
      "text/plain": [
       "0"
      ]
     },
     "execution_count": 12,
     "metadata": {},
     "output_type": "execute_result"
    }
   ],
   "source": [
    "df.duplicated(subset=['user_id']).sum()"
   ]
  },
  {
   "cell_type": "code",
   "execution_count": 13,
   "id": "b71ba03c",
   "metadata": {},
   "outputs": [
    {
     "data": {
      "text/plain": [
       "user_id             0\n",
       "score               0\n",
       "city                0\n",
       "gender              0\n",
       "age                 0\n",
       "equity              0\n",
       "balance          2281\n",
       "products            0\n",
       "credit_card         0\n",
       "last_activity       0\n",
       "est_salary          0\n",
       "churn               0\n",
       "dtype: int64"
      ]
     },
     "execution_count": 13,
     "metadata": {},
     "output_type": "execute_result"
    }
   ],
   "source": [
    "df.isna().sum()"
   ]
  },
  {
   "cell_type": "code",
   "execution_count": 14,
   "id": "1e4fb985",
   "metadata": {},
   "outputs": [
    {
     "data": {
      "text/html": [
       "<div>\n",
       "<style scoped>\n",
       "    .dataframe tbody tr th:only-of-type {\n",
       "        vertical-align: middle;\n",
       "    }\n",
       "\n",
       "    .dataframe tbody tr th {\n",
       "        vertical-align: top;\n",
       "    }\n",
       "\n",
       "    .dataframe thead th {\n",
       "        text-align: right;\n",
       "    }\n",
       "</style>\n",
       "<table border=\"1\" class=\"dataframe\">\n",
       "  <thead>\n",
       "    <tr style=\"text-align: right;\">\n",
       "      <th></th>\n",
       "      <th>user_id</th>\n",
       "      <th>score</th>\n",
       "      <th>city</th>\n",
       "      <th>gender</th>\n",
       "      <th>age</th>\n",
       "      <th>equity</th>\n",
       "      <th>balance</th>\n",
       "      <th>products</th>\n",
       "      <th>credit_card</th>\n",
       "      <th>last_activity</th>\n",
       "      <th>est_salary</th>\n",
       "      <th>churn</th>\n",
       "    </tr>\n",
       "  </thead>\n",
       "  <tbody>\n",
       "    <tr>\n",
       "      <th>3900</th>\n",
       "      <td>179831</td>\n",
       "      <td>730.0</td>\n",
       "      <td>Ярославль</td>\n",
       "      <td>М</td>\n",
       "      <td>18</td>\n",
       "      <td>0</td>\n",
       "      <td>0.0</td>\n",
       "      <td>2</td>\n",
       "      <td>1</td>\n",
       "      <td>1</td>\n",
       "      <td>64548.33</td>\n",
       "      <td>0</td>\n",
       "    </tr>\n",
       "    <tr>\n",
       "      <th>6757</th>\n",
       "      <td>148456</td>\n",
       "      <td>813.0</td>\n",
       "      <td>Ярославль</td>\n",
       "      <td>М</td>\n",
       "      <td>20</td>\n",
       "      <td>2</td>\n",
       "      <td>0.0</td>\n",
       "      <td>2</td>\n",
       "      <td>1</td>\n",
       "      <td>0</td>\n",
       "      <td>23876.51</td>\n",
       "      <td>0</td>\n",
       "    </tr>\n",
       "  </tbody>\n",
       "</table>\n",
       "</div>"
      ],
      "text/plain": [
       "      user_id  score       city gender  age  equity  balance  products  \\\n",
       "3900   179831  730.0  Ярославль      М   18       0      0.0         2   \n",
       "6757   148456  813.0  Ярославль      М   20       2      0.0         2   \n",
       "\n",
       "      credit_card  last_activity  est_salary  churn  \n",
       "3900            1              1    64548.33      0  \n",
       "6757            1              0    23876.51      0  "
      ]
     },
     "execution_count": 14,
     "metadata": {},
     "output_type": "execute_result"
    }
   ],
   "source": [
    "df.query('balance == 0')"
   ]
  },
  {
   "cell_type": "code",
   "execution_count": 15,
   "id": "3797fd95",
   "metadata": {
    "scrolled": true
   },
   "outputs": [
    {
     "data": {
      "text/html": [
       "<div>\n",
       "<style scoped>\n",
       "    .dataframe tbody tr th:only-of-type {\n",
       "        vertical-align: middle;\n",
       "    }\n",
       "\n",
       "    .dataframe tbody tr th {\n",
       "        vertical-align: top;\n",
       "    }\n",
       "\n",
       "    .dataframe thead th {\n",
       "        text-align: right;\n",
       "    }\n",
       "</style>\n",
       "<table border=\"1\" class=\"dataframe\">\n",
       "  <thead>\n",
       "    <tr style=\"text-align: right;\">\n",
       "      <th></th>\n",
       "      <th>user_id</th>\n",
       "      <th>score</th>\n",
       "      <th>age</th>\n",
       "      <th>equity</th>\n",
       "      <th>balance</th>\n",
       "      <th>products</th>\n",
       "      <th>credit_card</th>\n",
       "      <th>last_activity</th>\n",
       "      <th>est_salary</th>\n",
       "      <th>churn</th>\n",
       "    </tr>\n",
       "  </thead>\n",
       "  <tbody>\n",
       "    <tr>\n",
       "      <th>count</th>\n",
       "      <td>2281.000000</td>\n",
       "      <td>2281.000000</td>\n",
       "      <td>2281.000000</td>\n",
       "      <td>2281.000000</td>\n",
       "      <td>0.0</td>\n",
       "      <td>2281.000000</td>\n",
       "      <td>2281.000000</td>\n",
       "      <td>2281.000000</td>\n",
       "      <td>2.281000e+03</td>\n",
       "      <td>2281.000000</td>\n",
       "    </tr>\n",
       "    <tr>\n",
       "      <th>mean</th>\n",
       "      <td>171855.666813</td>\n",
       "      <td>864.049101</td>\n",
       "      <td>41.875055</td>\n",
       "      <td>0.051293</td>\n",
       "      <td>NaN</td>\n",
       "      <td>1.163086</td>\n",
       "      <td>0.815432</td>\n",
       "      <td>0.549320</td>\n",
       "      <td>2.262586e+05</td>\n",
       "      <td>0.005699</td>\n",
       "    </tr>\n",
       "    <tr>\n",
       "      <th>std</th>\n",
       "      <td>33334.245974</td>\n",
       "      <td>90.898200</td>\n",
       "      <td>11.746134</td>\n",
       "      <td>0.226529</td>\n",
       "      <td>NaN</td>\n",
       "      <td>0.403565</td>\n",
       "      <td>0.388032</td>\n",
       "      <td>0.497671</td>\n",
       "      <td>1.997597e+05</td>\n",
       "      <td>0.075294</td>\n",
       "    </tr>\n",
       "    <tr>\n",
       "      <th>min</th>\n",
       "      <td>100276.000000</td>\n",
       "      <td>642.000000</td>\n",
       "      <td>18.000000</td>\n",
       "      <td>0.000000</td>\n",
       "      <td>NaN</td>\n",
       "      <td>0.000000</td>\n",
       "      <td>0.000000</td>\n",
       "      <td>0.000000</td>\n",
       "      <td>2.027403e+04</td>\n",
       "      <td>0.000000</td>\n",
       "    </tr>\n",
       "    <tr>\n",
       "      <th>25%</th>\n",
       "      <td>142959.000000</td>\n",
       "      <td>870.000000</td>\n",
       "      <td>33.000000</td>\n",
       "      <td>0.000000</td>\n",
       "      <td>NaN</td>\n",
       "      <td>1.000000</td>\n",
       "      <td>1.000000</td>\n",
       "      <td>0.000000</td>\n",
       "      <td>1.201742e+05</td>\n",
       "      <td>0.000000</td>\n",
       "    </tr>\n",
       "    <tr>\n",
       "      <th>50%</th>\n",
       "      <td>172202.000000</td>\n",
       "      <td>902.000000</td>\n",
       "      <td>40.000000</td>\n",
       "      <td>0.000000</td>\n",
       "      <td>NaN</td>\n",
       "      <td>1.000000</td>\n",
       "      <td>1.000000</td>\n",
       "      <td>1.000000</td>\n",
       "      <td>1.742449e+05</td>\n",
       "      <td>0.000000</td>\n",
       "    </tr>\n",
       "    <tr>\n",
       "      <th>75%</th>\n",
       "      <td>201254.000000</td>\n",
       "      <td>922.000000</td>\n",
       "      <td>49.000000</td>\n",
       "      <td>0.000000</td>\n",
       "      <td>NaN</td>\n",
       "      <td>1.000000</td>\n",
       "      <td>1.000000</td>\n",
       "      <td>1.000000</td>\n",
       "      <td>2.403244e+05</td>\n",
       "      <td>0.000000</td>\n",
       "    </tr>\n",
       "    <tr>\n",
       "      <th>max</th>\n",
       "      <td>229145.000000</td>\n",
       "      <td>990.000000</td>\n",
       "      <td>86.000000</td>\n",
       "      <td>3.000000</td>\n",
       "      <td>NaN</td>\n",
       "      <td>3.000000</td>\n",
       "      <td>1.000000</td>\n",
       "      <td>1.000000</td>\n",
       "      <td>1.333687e+06</td>\n",
       "      <td>1.000000</td>\n",
       "    </tr>\n",
       "  </tbody>\n",
       "</table>\n",
       "</div>"
      ],
      "text/plain": [
       "             user_id        score          age       equity  balance  \\\n",
       "count    2281.000000  2281.000000  2281.000000  2281.000000      0.0   \n",
       "mean   171855.666813   864.049101    41.875055     0.051293      NaN   \n",
       "std     33334.245974    90.898200    11.746134     0.226529      NaN   \n",
       "min    100276.000000   642.000000    18.000000     0.000000      NaN   \n",
       "25%    142959.000000   870.000000    33.000000     0.000000      NaN   \n",
       "50%    172202.000000   902.000000    40.000000     0.000000      NaN   \n",
       "75%    201254.000000   922.000000    49.000000     0.000000      NaN   \n",
       "max    229145.000000   990.000000    86.000000     3.000000      NaN   \n",
       "\n",
       "          products  credit_card  last_activity    est_salary        churn  \n",
       "count  2281.000000  2281.000000    2281.000000  2.281000e+03  2281.000000  \n",
       "mean      1.163086     0.815432       0.549320  2.262586e+05     0.005699  \n",
       "std       0.403565     0.388032       0.497671  1.997597e+05     0.075294  \n",
       "min       0.000000     0.000000       0.000000  2.027403e+04     0.000000  \n",
       "25%       1.000000     1.000000       0.000000  1.201742e+05     0.000000  \n",
       "50%       1.000000     1.000000       1.000000  1.742449e+05     0.000000  \n",
       "75%       1.000000     1.000000       1.000000  2.403244e+05     0.000000  \n",
       "max       3.000000     1.000000       1.000000  1.333687e+06     1.000000  "
      ]
     },
     "execution_count": 15,
     "metadata": {},
     "output_type": "execute_result"
    }
   ],
   "source": [
    "df[df['balance'].isna()].describe()"
   ]
  },
  {
   "cell_type": "code",
   "execution_count": 16,
   "id": "a89b8273",
   "metadata": {},
   "outputs": [
    {
     "data": {
      "text/html": [
       "<div>\n",
       "<style scoped>\n",
       "    .dataframe tbody tr th:only-of-type {\n",
       "        vertical-align: middle;\n",
       "    }\n",
       "\n",
       "    .dataframe tbody tr th {\n",
       "        vertical-align: top;\n",
       "    }\n",
       "\n",
       "    .dataframe thead th {\n",
       "        text-align: right;\n",
       "    }\n",
       "</style>\n",
       "<table border=\"1\" class=\"dataframe\">\n",
       "  <thead>\n",
       "    <tr style=\"text-align: right;\">\n",
       "      <th></th>\n",
       "      <th>user_id</th>\n",
       "      <th>score</th>\n",
       "      <th>age</th>\n",
       "      <th>equity</th>\n",
       "      <th>balance</th>\n",
       "      <th>products</th>\n",
       "      <th>credit_card</th>\n",
       "      <th>last_activity</th>\n",
       "      <th>est_salary</th>\n",
       "      <th>churn</th>\n",
       "    </tr>\n",
       "  </thead>\n",
       "  <tbody>\n",
       "    <tr>\n",
       "      <th>count</th>\n",
       "      <td>7702.000000</td>\n",
       "      <td>7702.000000</td>\n",
       "      <td>7702.000000</td>\n",
       "      <td>7702.000000</td>\n",
       "      <td>7.702000e+03</td>\n",
       "      <td>7702.000000</td>\n",
       "      <td>7702.000000</td>\n",
       "      <td>7702.000000</td>\n",
       "      <td>7.702000e+03</td>\n",
       "      <td>7702.000000</td>\n",
       "    </tr>\n",
       "    <tr>\n",
       "      <th>mean</th>\n",
       "      <td>159671.033757</td>\n",
       "      <td>843.750844</td>\n",
       "      <td>43.133861</td>\n",
       "      <td>3.394962</td>\n",
       "      <td>8.279126e+05</td>\n",
       "      <td>2.086341</td>\n",
       "      <td>0.639964</td>\n",
       "      <td>0.515710</td>\n",
       "      <td>1.245210e+05</td>\n",
       "      <td>0.234874</td>\n",
       "    </tr>\n",
       "    <tr>\n",
       "      <th>std</th>\n",
       "      <td>40039.341760</td>\n",
       "      <td>55.337199</td>\n",
       "      <td>12.229523</td>\n",
       "      <td>1.584585</td>\n",
       "      <td>1.980987e+06</td>\n",
       "      <td>0.765744</td>\n",
       "      <td>0.480042</td>\n",
       "      <td>0.499786</td>\n",
       "      <td>1.046787e+05</td>\n",
       "      <td>0.423948</td>\n",
       "    </tr>\n",
       "    <tr>\n",
       "      <th>min</th>\n",
       "      <td>94561.000000</td>\n",
       "      <td>689.000000</td>\n",
       "      <td>18.000000</td>\n",
       "      <td>0.000000</td>\n",
       "      <td>0.000000e+00</td>\n",
       "      <td>1.000000</td>\n",
       "      <td>0.000000</td>\n",
       "      <td>0.000000</td>\n",
       "      <td>2.546300e+03</td>\n",
       "      <td>0.000000</td>\n",
       "    </tr>\n",
       "    <tr>\n",
       "      <th>25%</th>\n",
       "      <td>123027.250000</td>\n",
       "      <td>801.000000</td>\n",
       "      <td>34.000000</td>\n",
       "      <td>2.000000</td>\n",
       "      <td>2.954714e+05</td>\n",
       "      <td>2.000000</td>\n",
       "      <td>0.000000</td>\n",
       "      <td>0.000000</td>\n",
       "      <td>6.755439e+04</td>\n",
       "      <td>0.000000</td>\n",
       "    </tr>\n",
       "    <tr>\n",
       "      <th>50%</th>\n",
       "      <td>158965.500000</td>\n",
       "      <td>840.000000</td>\n",
       "      <td>40.000000</td>\n",
       "      <td>4.000000</td>\n",
       "      <td>5.242838e+05</td>\n",
       "      <td>2.000000</td>\n",
       "      <td>1.000000</td>\n",
       "      <td>1.000000</td>\n",
       "      <td>1.062342e+05</td>\n",
       "      <td>0.000000</td>\n",
       "    </tr>\n",
       "    <tr>\n",
       "      <th>75%</th>\n",
       "      <td>194231.750000</td>\n",
       "      <td>882.000000</td>\n",
       "      <td>52.000000</td>\n",
       "      <td>5.000000</td>\n",
       "      <td>9.808493e+05</td>\n",
       "      <td>2.000000</td>\n",
       "      <td>1.000000</td>\n",
       "      <td>1.000000</td>\n",
       "      <td>1.550932e+05</td>\n",
       "      <td>0.000000</td>\n",
       "    </tr>\n",
       "    <tr>\n",
       "      <th>max</th>\n",
       "      <td>229136.000000</td>\n",
       "      <td>1000.000000</td>\n",
       "      <td>86.000000</td>\n",
       "      <td>9.000000</td>\n",
       "      <td>1.191136e+08</td>\n",
       "      <td>5.000000</td>\n",
       "      <td>1.000000</td>\n",
       "      <td>1.000000</td>\n",
       "      <td>1.395064e+06</td>\n",
       "      <td>1.000000</td>\n",
       "    </tr>\n",
       "  </tbody>\n",
       "</table>\n",
       "</div>"
      ],
      "text/plain": [
       "             user_id        score          age       equity       balance  \\\n",
       "count    7702.000000  7702.000000  7702.000000  7702.000000  7.702000e+03   \n",
       "mean   159671.033757   843.750844    43.133861     3.394962  8.279126e+05   \n",
       "std     40039.341760    55.337199    12.229523     1.584585  1.980987e+06   \n",
       "min     94561.000000   689.000000    18.000000     0.000000  0.000000e+00   \n",
       "25%    123027.250000   801.000000    34.000000     2.000000  2.954714e+05   \n",
       "50%    158965.500000   840.000000    40.000000     4.000000  5.242838e+05   \n",
       "75%    194231.750000   882.000000    52.000000     5.000000  9.808493e+05   \n",
       "max    229136.000000  1000.000000    86.000000     9.000000  1.191136e+08   \n",
       "\n",
       "          products  credit_card  last_activity    est_salary        churn  \n",
       "count  7702.000000  7702.000000    7702.000000  7.702000e+03  7702.000000  \n",
       "mean      2.086341     0.639964       0.515710  1.245210e+05     0.234874  \n",
       "std       0.765744     0.480042       0.499786  1.046787e+05     0.423948  \n",
       "min       1.000000     0.000000       0.000000  2.546300e+03     0.000000  \n",
       "25%       2.000000     0.000000       0.000000  6.755439e+04     0.000000  \n",
       "50%       2.000000     1.000000       1.000000  1.062342e+05     0.000000  \n",
       "75%       2.000000     1.000000       1.000000  1.550932e+05     0.000000  \n",
       "max       5.000000     1.000000       1.000000  1.395064e+06     1.000000  "
      ]
     },
     "execution_count": 16,
     "metadata": {},
     "output_type": "execute_result"
    }
   ],
   "source": [
    "df[~df['balance'].isna()].describe()"
   ]
  },
  {
   "cell_type": "code",
   "execution_count": 17,
   "id": "32ab5b33",
   "metadata": {
    "scrolled": true
   },
   "outputs": [
    {
     "data": {
      "text/html": [
       "<div>\n",
       "<style scoped>\n",
       "    .dataframe tbody tr th:only-of-type {\n",
       "        vertical-align: middle;\n",
       "    }\n",
       "\n",
       "    .dataframe tbody tr th {\n",
       "        vertical-align: top;\n",
       "    }\n",
       "\n",
       "    .dataframe thead th {\n",
       "        text-align: right;\n",
       "    }\n",
       "</style>\n",
       "<table border=\"1\" class=\"dataframe\">\n",
       "  <thead>\n",
       "    <tr style=\"text-align: right;\">\n",
       "      <th></th>\n",
       "      <th>user_id</th>\n",
       "      <th>score</th>\n",
       "      <th>city</th>\n",
       "      <th>gender</th>\n",
       "      <th>age</th>\n",
       "      <th>equity</th>\n",
       "      <th>balance</th>\n",
       "      <th>products</th>\n",
       "      <th>credit_card</th>\n",
       "      <th>last_activity</th>\n",
       "      <th>est_salary</th>\n",
       "      <th>churn</th>\n",
       "    </tr>\n",
       "  </thead>\n",
       "  <tbody>\n",
       "    <tr>\n",
       "      <th>3900</th>\n",
       "      <td>179831</td>\n",
       "      <td>730.0</td>\n",
       "      <td>Ярославль</td>\n",
       "      <td>М</td>\n",
       "      <td>18</td>\n",
       "      <td>0</td>\n",
       "      <td>0.0</td>\n",
       "      <td>2</td>\n",
       "      <td>1</td>\n",
       "      <td>1</td>\n",
       "      <td>64548.33</td>\n",
       "      <td>0</td>\n",
       "    </tr>\n",
       "    <tr>\n",
       "      <th>6757</th>\n",
       "      <td>148456</td>\n",
       "      <td>813.0</td>\n",
       "      <td>Ярославль</td>\n",
       "      <td>М</td>\n",
       "      <td>20</td>\n",
       "      <td>2</td>\n",
       "      <td>0.0</td>\n",
       "      <td>2</td>\n",
       "      <td>1</td>\n",
       "      <td>0</td>\n",
       "      <td>23876.51</td>\n",
       "      <td>0</td>\n",
       "    </tr>\n",
       "  </tbody>\n",
       "</table>\n",
       "</div>"
      ],
      "text/plain": [
       "      user_id  score       city gender  age  equity  balance  products  \\\n",
       "3900   179831  730.0  Ярославль      М   18       0      0.0         2   \n",
       "6757   148456  813.0  Ярославль      М   20       2      0.0         2   \n",
       "\n",
       "      credit_card  last_activity  est_salary  churn  \n",
       "3900            1              1    64548.33      0  \n",
       "6757            1              0    23876.51      0  "
      ]
     },
     "execution_count": 17,
     "metadata": {},
     "output_type": "execute_result"
    }
   ],
   "source": [
    "df.query('balance == 0')"
   ]
  },
  {
   "cell_type": "code",
   "execution_count": 18,
   "id": "0150ebb0",
   "metadata": {},
   "outputs": [
    {
     "data": {
      "text/html": [
       "<div>\n",
       "<style scoped>\n",
       "    .dataframe tbody tr th:only-of-type {\n",
       "        vertical-align: middle;\n",
       "    }\n",
       "\n",
       "    .dataframe tbody tr th {\n",
       "        vertical-align: top;\n",
       "    }\n",
       "\n",
       "    .dataframe thead th {\n",
       "        text-align: right;\n",
       "    }\n",
       "</style>\n",
       "<table border=\"1\" class=\"dataframe\">\n",
       "  <thead>\n",
       "    <tr style=\"text-align: right;\">\n",
       "      <th></th>\n",
       "      <th>user_id</th>\n",
       "      <th>score</th>\n",
       "      <th>city</th>\n",
       "      <th>gender</th>\n",
       "      <th>age</th>\n",
       "      <th>equity</th>\n",
       "      <th>balance</th>\n",
       "      <th>products</th>\n",
       "      <th>credit_card</th>\n",
       "      <th>last_activity</th>\n",
       "      <th>est_salary</th>\n",
       "      <th>churn</th>\n",
       "    </tr>\n",
       "  </thead>\n",
       "  <tbody>\n",
       "    <tr>\n",
       "      <th>2</th>\n",
       "      <td>120722</td>\n",
       "      <td>892.0</td>\n",
       "      <td>Рыбинск</td>\n",
       "      <td>Ж</td>\n",
       "      <td>30</td>\n",
       "      <td>0</td>\n",
       "      <td>NaN</td>\n",
       "      <td>1</td>\n",
       "      <td>1</td>\n",
       "      <td>1</td>\n",
       "      <td>107683.34</td>\n",
       "      <td>0</td>\n",
       "    </tr>\n",
       "    <tr>\n",
       "      <th>9</th>\n",
       "      <td>133130</td>\n",
       "      <td>906.0</td>\n",
       "      <td>Ярославль</td>\n",
       "      <td>Ж</td>\n",
       "      <td>67</td>\n",
       "      <td>0</td>\n",
       "      <td>NaN</td>\n",
       "      <td>1</td>\n",
       "      <td>0</td>\n",
       "      <td>1</td>\n",
       "      <td>238055.53</td>\n",
       "      <td>0</td>\n",
       "    </tr>\n",
       "    <tr>\n",
       "      <th>10</th>\n",
       "      <td>148929</td>\n",
       "      <td>927.0</td>\n",
       "      <td>Ростов</td>\n",
       "      <td>М</td>\n",
       "      <td>52</td>\n",
       "      <td>0</td>\n",
       "      <td>NaN</td>\n",
       "      <td>1</td>\n",
       "      <td>1</td>\n",
       "      <td>1</td>\n",
       "      <td>196820.07</td>\n",
       "      <td>0</td>\n",
       "    </tr>\n",
       "    <tr>\n",
       "      <th>11</th>\n",
       "      <td>172184</td>\n",
       "      <td>921.0</td>\n",
       "      <td>Ростов</td>\n",
       "      <td>М</td>\n",
       "      <td>41</td>\n",
       "      <td>0</td>\n",
       "      <td>NaN</td>\n",
       "      <td>1</td>\n",
       "      <td>1</td>\n",
       "      <td>1</td>\n",
       "      <td>217469.48</td>\n",
       "      <td>0</td>\n",
       "    </tr>\n",
       "    <tr>\n",
       "      <th>19</th>\n",
       "      <td>127034</td>\n",
       "      <td>922.0</td>\n",
       "      <td>Рыбинск</td>\n",
       "      <td>Ж</td>\n",
       "      <td>53</td>\n",
       "      <td>0</td>\n",
       "      <td>NaN</td>\n",
       "      <td>1</td>\n",
       "      <td>0</td>\n",
       "      <td>0</td>\n",
       "      <td>147094.82</td>\n",
       "      <td>0</td>\n",
       "    </tr>\n",
       "    <tr>\n",
       "      <th>...</th>\n",
       "      <td>...</td>\n",
       "      <td>...</td>\n",
       "      <td>...</td>\n",
       "      <td>...</td>\n",
       "      <td>...</td>\n",
       "      <td>...</td>\n",
       "      <td>...</td>\n",
       "      <td>...</td>\n",
       "      <td>...</td>\n",
       "      <td>...</td>\n",
       "      <td>...</td>\n",
       "      <td>...</td>\n",
       "    </tr>\n",
       "    <tr>\n",
       "      <th>9976</th>\n",
       "      <td>208085</td>\n",
       "      <td>876.0</td>\n",
       "      <td>Ростов</td>\n",
       "      <td>М</td>\n",
       "      <td>38</td>\n",
       "      <td>0</td>\n",
       "      <td>NaN</td>\n",
       "      <td>1</td>\n",
       "      <td>1</td>\n",
       "      <td>0</td>\n",
       "      <td>171763.69</td>\n",
       "      <td>0</td>\n",
       "    </tr>\n",
       "    <tr>\n",
       "      <th>9984</th>\n",
       "      <td>125941</td>\n",
       "      <td>729.0</td>\n",
       "      <td>Ярославль</td>\n",
       "      <td>Ж</td>\n",
       "      <td>42</td>\n",
       "      <td>0</td>\n",
       "      <td>NaN</td>\n",
       "      <td>1</td>\n",
       "      <td>1</td>\n",
       "      <td>1</td>\n",
       "      <td>687538.70</td>\n",
       "      <td>0</td>\n",
       "    </tr>\n",
       "    <tr>\n",
       "      <th>9993</th>\n",
       "      <td>219924</td>\n",
       "      <td>884.0</td>\n",
       "      <td>Рыбинск</td>\n",
       "      <td>Ж</td>\n",
       "      <td>36</td>\n",
       "      <td>0</td>\n",
       "      <td>NaN</td>\n",
       "      <td>1</td>\n",
       "      <td>1</td>\n",
       "      <td>1</td>\n",
       "      <td>169844.88</td>\n",
       "      <td>0</td>\n",
       "    </tr>\n",
       "    <tr>\n",
       "      <th>9996</th>\n",
       "      <td>139170</td>\n",
       "      <td>894.0</td>\n",
       "      <td>Ярославль</td>\n",
       "      <td>М</td>\n",
       "      <td>46</td>\n",
       "      <td>0</td>\n",
       "      <td>NaN</td>\n",
       "      <td>1</td>\n",
       "      <td>1</td>\n",
       "      <td>0</td>\n",
       "      <td>196898.29</td>\n",
       "      <td>0</td>\n",
       "    </tr>\n",
       "    <tr>\n",
       "      <th>9997</th>\n",
       "      <td>115639</td>\n",
       "      <td>903.0</td>\n",
       "      <td>Ярославль</td>\n",
       "      <td>М</td>\n",
       "      <td>24</td>\n",
       "      <td>0</td>\n",
       "      <td>NaN</td>\n",
       "      <td>2</td>\n",
       "      <td>1</td>\n",
       "      <td>1</td>\n",
       "      <td>108905.09</td>\n",
       "      <td>0</td>\n",
       "    </tr>\n",
       "  </tbody>\n",
       "</table>\n",
       "<p>2281 rows × 12 columns</p>\n",
       "</div>"
      ],
      "text/plain": [
       "      user_id  score       city gender  age  equity  balance  products  \\\n",
       "2      120722  892.0    Рыбинск      Ж   30       0      NaN         1   \n",
       "9      133130  906.0  Ярославль      Ж   67       0      NaN         1   \n",
       "10     148929  927.0     Ростов      М   52       0      NaN         1   \n",
       "11     172184  921.0     Ростов      М   41       0      NaN         1   \n",
       "19     127034  922.0    Рыбинск      Ж   53       0      NaN         1   \n",
       "...       ...    ...        ...    ...  ...     ...      ...       ...   \n",
       "9976   208085  876.0     Ростов      М   38       0      NaN         1   \n",
       "9984   125941  729.0  Ярославль      Ж   42       0      NaN         1   \n",
       "9993   219924  884.0    Рыбинск      Ж   36       0      NaN         1   \n",
       "9996   139170  894.0  Ярославль      М   46       0      NaN         1   \n",
       "9997   115639  903.0  Ярославль      М   24       0      NaN         2   \n",
       "\n",
       "      credit_card  last_activity  est_salary  churn  \n",
       "2               1              1   107683.34      0  \n",
       "9               0              1   238055.53      0  \n",
       "10              1              1   196820.07      0  \n",
       "11              1              1   217469.48      0  \n",
       "19              0              0   147094.82      0  \n",
       "...           ...            ...         ...    ...  \n",
       "9976            1              0   171763.69      0  \n",
       "9984            1              1   687538.70      0  \n",
       "9993            1              1   169844.88      0  \n",
       "9996            1              0   196898.29      0  \n",
       "9997            1              1   108905.09      0  \n",
       "\n",
       "[2281 rows x 12 columns]"
      ]
     },
     "execution_count": 18,
     "metadata": {},
     "output_type": "execute_result"
    }
   ],
   "source": [
    "df[df['balance'].isna()]"
   ]
  },
  {
   "cell_type": "code",
   "execution_count": 19,
   "id": "9f14c585",
   "metadata": {},
   "outputs": [
    {
     "data": {
      "text/plain": [
       "<AxesSubplot:>"
      ]
     },
     "execution_count": 19,
     "metadata": {},
     "output_type": "execute_result"
    },
    {
     "data": {
      "image/png": "[encoded data removed]",
      "text/plain": [
       "<Figure size 432x288 with 1 Axes>"
      ]
     },
     "metadata": {
      "needs_background": "light"
     },
     "output_type": "display_data"
    }
   ],
   "source": [
    "df[df['balance'].isna()]['age'].hist(bins = 150)"
   ]
  },
  {
   "cell_type": "code",
   "execution_count": 1,
   "id": "5b66aa64",
   "metadata": {},
   "outputs": [
    {
     "ename": "NameError",
     "evalue": "name 'df' is not defined",
     "output_type": "error",
     "traceback": [
      "\u001b[0;31m---------------------------------------------------------------------------\u001b[0m",
      "\u001b[0;31mNameError\u001b[0m                                 Traceback (most recent call last)",
      "Input \u001b[0;32mIn [1]\u001b[0m, in \u001b[0;36m<cell line: 1>\u001b[0;34m()\u001b[0m\n\u001b[0;32m----> 1\u001b[0m \u001b[43mdf\u001b[49m[\u001b[38;5;124m'\u001b[39m\u001b[38;5;124mbalance\u001b[39m\u001b[38;5;124m'\u001b[39m]\u001b[38;5;241m.\u001b[39mfillna(\u001b[38;5;241m0\u001b[39m, inplace\u001b[38;5;241m=\u001b[39m\u001b[38;5;28;01mTrue\u001b[39;00m)\n",
      "\u001b[0;31mNameError\u001b[0m: name 'df' is not defined"
     ]
    }
   ],
   "source": [
    "df['balance'].fillna(0, inplace=True)"
   ]
  },
  {
   "cell_type": "markdown",
   "id": "2d4ddcfc",
   "metadata": {},
   "source": [
    "Есть много пропусков в балансе, будем считать что пропущенные значений это нулевой баланс.\n",
    "При этом, есть две строки где баланс = 0."
   ]
  },
  {
   "cell_type": "markdown",
   "id": "8efaed94",
   "metadata": {},
   "source": [
    "## EDA"
   ]
  },
  {
   "cell_type": "code",
   "execution_count": 21,
   "id": "6c9fd9ca",
   "metadata": {
    "scrolled": false
   },
   "outputs": [
    {
     "data": {
      "image/png": "[encoded data removed]",
      "text/plain": [
       "<Figure size 432x288 with 1 Axes>"
      ]
     },
     "metadata": {
      "needs_background": "light"
     },
     "output_type": "display_data"
    },
    {
     "data": {
      "image/png": "[encoded data removed]",
      "text/plain": [
       "<Figure size 432x288 with 1 Axes>"
      ]
     },
     "metadata": {
      "needs_background": "light"
     },
     "output_type": "display_data"
    },
    {
     "data": {
      "image/png": "[encoded data removed]",
      "text/plain": [
       "<Figure size 432x288 with 1 Axes>"
      ]
     },
     "metadata": {
      "needs_background": "light"
     },
     "output_type": "display_data"
    },
    {
     "data": {
      "image/png": "[encoded data removed]",
      "text/plain": [
       "<Figure size 432x288 with 1 Axes>"
      ]
     },
     "metadata": {
      "needs_background": "light"
     },
     "output_type": "display_data"
    }
   ],
   "source": [
    "for column in ['score', 'age', 'equity', 'products']:\n",
    "    sns.violinplot(data=df, x=column)\n",
    "    plt.show()"
   ]
  },
  {
   "cell_type": "markdown",
   "id": "1f6676fd",
   "metadata": {},
   "source": [
    "Средний клиент банка имеет кредитный рейтинг между 800 и 900, возраст от 35 до 50 лет, со средним баллом equity ~ 2,5 и пользующийся 1-2 продуктами."
   ]
  },
  {
   "cell_type": "code",
   "execution_count": 22,
   "id": "915aa4f0",
   "metadata": {},
   "outputs": [
    {
     "data": {
      "image/png": "[encoded data removed]",
      "text/plain": [
       "<Figure size 432x288 with 1 Axes>"
      ]
     },
     "metadata": {
      "needs_background": "light"
     },
     "output_type": "display_data"
    },
    {
     "data": {
      "image/png": "[encoded data removed]",
      "text/plain": [
       "<Figure size 432x288 with 1 Axes>"
      ]
     },
     "metadata": {
      "needs_background": "light"
     },
     "output_type": "display_data"
    },
    {
     "data": {
      "image/png": "[encoded data removed]",
      "text/plain": [
       "<Figure size 432x288 with 1 Axes>"
      ]
     },
     "metadata": {
      "needs_background": "light"
     },
     "output_type": "display_data"
    },
    {
     "data": {
      "image/png": "[encoded data removed]",
      "text/plain": [
       "<Figure size 432x288 with 1 Axes>"
      ]
     },
     "metadata": {
      "needs_background": "light"
     },
     "output_type": "display_data"
    }
   ],
   "source": [
    "\n",
    "for column in ['score', 'age', 'equity', 'products']:\n",
    "    sns.violinplot(data=df.assign(const=1), x='const', y=column, hue=\"churn\", split=True)\n",
    "    plt.show()"
   ]
  },
  {
   "cell_type": "code",
   "execution_count": 23,
   "id": "5f6a40df",
   "metadata": {},
   "outputs": [
    {
     "data": {
      "image/png": "[encoded data removed]",
      "text/plain": [
       "<Figure size 432x288 with 1 Axes>"
      ]
     },
     "metadata": {
      "needs_background": "light"
     },
     "output_type": "display_data"
    },
    {
     "data": {
      "text/plain": [
       "count    9.983000e+03\n",
       "mean     6.387441e+05\n",
       "std      1.774374e+06\n",
       "min      0.000000e+00\n",
       "25%      6.283197e+04\n",
       "50%      3.761951e+05\n",
       "75%      8.045188e+05\n",
       "max      1.191136e+08\n",
       "Name: balance, dtype: float64"
      ]
     },
     "execution_count": 23,
     "metadata": {},
     "output_type": "execute_result"
    },
    {
     "data": {
      "image/png": "[encoded data removed]",
      "text/plain": [
       "<Figure size 432x288 with 1 Axes>"
      ]
     },
     "metadata": {
      "needs_background": "light"
     },
     "output_type": "display_data"
    }
   ],
   "source": [
    "sns.violinplot(data= df, x = 'balance')\n",
    "plt.show()\n",
    "sns.boxplot(data= df, x = 'balance')\n",
    "plt.xlim(0, 2000000)\n",
    "df['balance'].describe()"
   ]
  },
  {
   "cell_type": "code",
   "execution_count": 24,
   "id": "79b1dfa9",
   "metadata": {},
   "outputs": [
    {
     "data": {
      "text/plain": [
       "[(0.0, 6000000.0)]"
      ]
     },
     "execution_count": 24,
     "metadata": {},
     "output_type": "execute_result"
    },
    {
     "data": {
      "image/png": "[encoded data removed]",
      "text/plain": [
       "<Figure size 432x288 with 1 Axes>"
      ]
     },
     "metadata": {
      "needs_background": "light"
     },
     "output_type": "display_data"
    }
   ],
   "source": [
    "g = sns.violinplot(data=df.assign(const=1), x='const', y='balance', hue=\"churn\", split=True)\n",
    "g.set(ylim=(0, 6000000))"
   ]
  },
  {
   "cell_type": "code",
   "execution_count": 25,
   "id": "85615fd0",
   "metadata": {},
   "outputs": [
    {
     "data": {
      "text/plain": [
       "Text(0.5, 1.0, 'Распределение количества ушедших и оставшихся клиентов по количеству продуктов')"
      ]
     },
     "execution_count": 25,
     "metadata": {},
     "output_type": "execute_result"
    },
    {
     "data": {
      "image/png": "[encoded data removed]",
      "text/plain": [
       "<Figure size 720x720 with 1 Axes>"
      ]
     },
     "metadata": {
      "needs_background": "light"
     },
     "output_type": "display_data"
    }
   ],
   "source": [
    "plt.figure(figsize=(10,10))\n",
    "g = sns.violinplot(data=df.assign(const=1), x='const', y='products', hue=\"churn\", split=True)\n",
    "plt.xlabel('Количество клиентов', size=15)\n",
    "plt.ylabel('Количество продуктов', size=15)\n",
    "plt.title('Распределение количества ушедших и оставшихся клиентов по количеству продуктов', size = 15)"
   ]
  },
  {
   "cell_type": "markdown",
   "id": "57ac64c5",
   "metadata": {},
   "source": [
    "25 перцентиль ~ 60 тысяч, 75й ~ 800 тысяч. Есть и выбросы - есть счет с балансом ~120 миллионов рублей."
   ]
  },
  {
   "cell_type": "code",
   "execution_count": 26,
   "id": "57aa9ced",
   "metadata": {
    "scrolled": true
   },
   "outputs": [
    {
     "data": {
      "text/html": [
       "<div>\n",
       "<style scoped>\n",
       "    .dataframe tbody tr th:only-of-type {\n",
       "        vertical-align: middle;\n",
       "    }\n",
       "\n",
       "    .dataframe tbody tr th {\n",
       "        vertical-align: top;\n",
       "    }\n",
       "\n",
       "    .dataframe thead th {\n",
       "        text-align: right;\n",
       "    }\n",
       "</style>\n",
       "<table border=\"1\" class=\"dataframe\">\n",
       "  <thead>\n",
       "    <tr style=\"text-align: right;\">\n",
       "      <th></th>\n",
       "      <th>user_id</th>\n",
       "      <th>score</th>\n",
       "      <th>age</th>\n",
       "      <th>equity</th>\n",
       "      <th>balance</th>\n",
       "      <th>products</th>\n",
       "      <th>credit_card</th>\n",
       "      <th>last_activity</th>\n",
       "      <th>est_salary</th>\n",
       "      <th>churn</th>\n",
       "    </tr>\n",
       "  </thead>\n",
       "  <tbody>\n",
       "    <tr>\n",
       "      <th>count</th>\n",
       "      <td>8161.0</td>\n",
       "      <td>8161.0</td>\n",
       "      <td>8161.0</td>\n",
       "      <td>8161.0</td>\n",
       "      <td>8161.0</td>\n",
       "      <td>8161.0</td>\n",
       "      <td>8161.0</td>\n",
       "      <td>8161.0</td>\n",
       "      <td>8161.0</td>\n",
       "      <td>8161.0</td>\n",
       "    </tr>\n",
       "    <tr>\n",
       "      <th>mean</th>\n",
       "      <td>170024.8</td>\n",
       "      <td>845.0</td>\n",
       "      <td>43.2</td>\n",
       "      <td>2.4</td>\n",
       "      <td>530139.4</td>\n",
       "      <td>1.8</td>\n",
       "      <td>0.7</td>\n",
       "      <td>0.5</td>\n",
       "      <td>147670.2</td>\n",
       "      <td>0.0</td>\n",
       "    </tr>\n",
       "    <tr>\n",
       "      <th>std</th>\n",
       "      <td>34778.8</td>\n",
       "      <td>68.4</td>\n",
       "      <td>12.4</td>\n",
       "      <td>2.0</td>\n",
       "      <td>1693809.9</td>\n",
       "      <td>0.7</td>\n",
       "      <td>0.5</td>\n",
       "      <td>0.5</td>\n",
       "      <td>142668.4</td>\n",
       "      <td>0.0</td>\n",
       "    </tr>\n",
       "    <tr>\n",
       "      <th>min</th>\n",
       "      <td>94577.0</td>\n",
       "      <td>642.0</td>\n",
       "      <td>18.0</td>\n",
       "      <td>0.0</td>\n",
       "      <td>0.0</td>\n",
       "      <td>1.0</td>\n",
       "      <td>0.0</td>\n",
       "      <td>0.0</td>\n",
       "      <td>2546.3</td>\n",
       "      <td>0.0</td>\n",
       "    </tr>\n",
       "    <tr>\n",
       "      <th>25%</th>\n",
       "      <td>140239.0</td>\n",
       "      <td>795.0</td>\n",
       "      <td>34.0</td>\n",
       "      <td>0.0</td>\n",
       "      <td>0.0</td>\n",
       "      <td>1.0</td>\n",
       "      <td>0.0</td>\n",
       "      <td>0.0</td>\n",
       "      <td>73489.7</td>\n",
       "      <td>0.0</td>\n",
       "    </tr>\n",
       "    <tr>\n",
       "      <th>50%</th>\n",
       "      <td>171597.0</td>\n",
       "      <td>848.0</td>\n",
       "      <td>40.0</td>\n",
       "      <td>3.0</td>\n",
       "      <td>321597.8</td>\n",
       "      <td>2.0</td>\n",
       "      <td>1.0</td>\n",
       "      <td>0.0</td>\n",
       "      <td>118221.7</td>\n",
       "      <td>0.0</td>\n",
       "    </tr>\n",
       "    <tr>\n",
       "      <th>75%</th>\n",
       "      <td>200399.0</td>\n",
       "      <td>900.0</td>\n",
       "      <td>51.0</td>\n",
       "      <td>4.0</td>\n",
       "      <td>665417.0</td>\n",
       "      <td>2.0</td>\n",
       "      <td>1.0</td>\n",
       "      <td>1.0</td>\n",
       "      <td>173942.8</td>\n",
       "      <td>0.0</td>\n",
       "    </tr>\n",
       "    <tr>\n",
       "      <th>max</th>\n",
       "      <td>229145.0</td>\n",
       "      <td>1000.0</td>\n",
       "      <td>86.0</td>\n",
       "      <td>9.0</td>\n",
       "      <td>119113552.0</td>\n",
       "      <td>5.0</td>\n",
       "      <td>1.0</td>\n",
       "      <td>1.0</td>\n",
       "      <td>1395064.4</td>\n",
       "      <td>0.0</td>\n",
       "    </tr>\n",
       "  </tbody>\n",
       "</table>\n",
       "</div>"
      ],
      "text/plain": [
       "        user_id   score     age  equity      balance  products  credit_card  \\\n",
       "count    8161.0  8161.0  8161.0  8161.0       8161.0    8161.0       8161.0   \n",
       "mean   170024.8   845.0    43.2     2.4     530139.4       1.8          0.7   \n",
       "std     34778.8    68.4    12.4     2.0    1693809.9       0.7          0.5   \n",
       "min     94577.0   642.0    18.0     0.0          0.0       1.0          0.0   \n",
       "25%    140239.0   795.0    34.0     0.0          0.0       1.0          0.0   \n",
       "50%    171597.0   848.0    40.0     3.0     321597.8       2.0          1.0   \n",
       "75%    200399.0   900.0    51.0     4.0     665417.0       2.0          1.0   \n",
       "max    229145.0  1000.0    86.0     9.0  119113552.0       5.0          1.0   \n",
       "\n",
       "       last_activity  est_salary   churn  \n",
       "count         8161.0      8161.0  8161.0  \n",
       "mean             0.5    147670.2     0.0  \n",
       "std              0.5    142668.4     0.0  \n",
       "min              0.0      2546.3     0.0  \n",
       "25%              0.0     73489.7     0.0  \n",
       "50%              0.0    118221.7     0.0  \n",
       "75%              1.0    173942.8     0.0  \n",
       "max              1.0   1395064.4     0.0  "
      ]
     },
     "execution_count": 26,
     "metadata": {},
     "output_type": "execute_result"
    }
   ],
   "source": [
    "df.query('churn == 0').describe().round(1)"
   ]
  },
  {
   "cell_type": "code",
   "execution_count": 27,
   "id": "7e3430fd",
   "metadata": {},
   "outputs": [
    {
     "data": {
      "text/html": [
       "<div>\n",
       "<style scoped>\n",
       "    .dataframe tbody tr th:only-of-type {\n",
       "        vertical-align: middle;\n",
       "    }\n",
       "\n",
       "    .dataframe tbody tr th {\n",
       "        vertical-align: top;\n",
       "    }\n",
       "\n",
       "    .dataframe thead th {\n",
       "        text-align: right;\n",
       "    }\n",
       "</style>\n",
       "<table border=\"1\" class=\"dataframe\">\n",
       "  <thead>\n",
       "    <tr style=\"text-align: right;\">\n",
       "      <th></th>\n",
       "      <th>user_id</th>\n",
       "      <th>score</th>\n",
       "      <th>age</th>\n",
       "      <th>equity</th>\n",
       "      <th>balance</th>\n",
       "      <th>products</th>\n",
       "      <th>credit_card</th>\n",
       "      <th>last_activity</th>\n",
       "      <th>est_salary</th>\n",
       "      <th>churn</th>\n",
       "    </tr>\n",
       "  </thead>\n",
       "  <tbody>\n",
       "    <tr>\n",
       "      <th>count</th>\n",
       "      <td>1822.0</td>\n",
       "      <td>1822.0</td>\n",
       "      <td>1822.0</td>\n",
       "      <td>1822.0</td>\n",
       "      <td>1822.0</td>\n",
       "      <td>1822.0</td>\n",
       "      <td>1822.0</td>\n",
       "      <td>1822.0</td>\n",
       "      <td>1822.0</td>\n",
       "      <td>1822.0</td>\n",
       "    </tr>\n",
       "    <tr>\n",
       "      <th>mean</th>\n",
       "      <td>128549.1</td>\n",
       "      <td>863.4</td>\n",
       "      <td>41.4</td>\n",
       "      <td>3.8</td>\n",
       "      <td>1125200.6</td>\n",
       "      <td>2.4</td>\n",
       "      <td>0.5</td>\n",
       "      <td>0.7</td>\n",
       "      <td>148200.0</td>\n",
       "      <td>1.0</td>\n",
       "    </tr>\n",
       "    <tr>\n",
       "      <th>std</th>\n",
       "      <td>38565.1</td>\n",
       "      <td>49.6</td>\n",
       "      <td>11.0</td>\n",
       "      <td>1.6</td>\n",
       "      <td>2027943.3</td>\n",
       "      <td>0.9</td>\n",
       "      <td>0.5</td>\n",
       "      <td>0.5</td>\n",
       "      <td>122864.8</td>\n",
       "      <td>0.0</td>\n",
       "    </tr>\n",
       "    <tr>\n",
       "      <th>min</th>\n",
       "      <td>94561.0</td>\n",
       "      <td>706.0</td>\n",
       "      <td>18.0</td>\n",
       "      <td>0.0</td>\n",
       "      <td>0.0</td>\n",
       "      <td>0.0</td>\n",
       "      <td>0.0</td>\n",
       "      <td>0.0</td>\n",
       "      <td>10880.3</td>\n",
       "      <td>1.0</td>\n",
       "    </tr>\n",
       "    <tr>\n",
       "      <th>25%</th>\n",
       "      <td>101987.2</td>\n",
       "      <td>828.0</td>\n",
       "      <td>33.0</td>\n",
       "      <td>3.0</td>\n",
       "      <td>381308.7</td>\n",
       "      <td>2.0</td>\n",
       "      <td>0.0</td>\n",
       "      <td>0.0</td>\n",
       "      <td>83094.9</td>\n",
       "      <td>1.0</td>\n",
       "    </tr>\n",
       "    <tr>\n",
       "      <th>50%</th>\n",
       "      <td>110162.5</td>\n",
       "      <td>866.0</td>\n",
       "      <td>39.0</td>\n",
       "      <td>4.0</td>\n",
       "      <td>775301.5</td>\n",
       "      <td>2.0</td>\n",
       "      <td>1.0</td>\n",
       "      <td>1.0</td>\n",
       "      <td>125390.6</td>\n",
       "      <td>1.0</td>\n",
       "    </tr>\n",
       "    <tr>\n",
       "      <th>75%</th>\n",
       "      <td>147440.8</td>\n",
       "      <td>898.0</td>\n",
       "      <td>51.0</td>\n",
       "      <td>5.0</td>\n",
       "      <td>1346889.9</td>\n",
       "      <td>3.0</td>\n",
       "      <td>1.0</td>\n",
       "      <td>1.0</td>\n",
       "      <td>175878.0</td>\n",
       "      <td>1.0</td>\n",
       "    </tr>\n",
       "    <tr>\n",
       "      <th>max</th>\n",
       "      <td>228900.0</td>\n",
       "      <td>1000.0</td>\n",
       "      <td>79.0</td>\n",
       "      <td>9.0</td>\n",
       "      <td>64866210.2</td>\n",
       "      <td>5.0</td>\n",
       "      <td>1.0</td>\n",
       "      <td>1.0</td>\n",
       "      <td>1263028.5</td>\n",
       "      <td>1.0</td>\n",
       "    </tr>\n",
       "  </tbody>\n",
       "</table>\n",
       "</div>"
      ],
      "text/plain": [
       "        user_id   score     age  equity     balance  products  credit_card  \\\n",
       "count    1822.0  1822.0  1822.0  1822.0      1822.0    1822.0       1822.0   \n",
       "mean   128549.1   863.4    41.4     3.8   1125200.6       2.4          0.5   \n",
       "std     38565.1    49.6    11.0     1.6   2027943.3       0.9          0.5   \n",
       "min     94561.0   706.0    18.0     0.0         0.0       0.0          0.0   \n",
       "25%    101987.2   828.0    33.0     3.0    381308.7       2.0          0.0   \n",
       "50%    110162.5   866.0    39.0     4.0    775301.5       2.0          1.0   \n",
       "75%    147440.8   898.0    51.0     5.0   1346889.9       3.0          1.0   \n",
       "max    228900.0  1000.0    79.0     9.0  64866210.2       5.0          1.0   \n",
       "\n",
       "       last_activity  est_salary   churn  \n",
       "count         1822.0      1822.0  1822.0  \n",
       "mean             0.7    148200.0     1.0  \n",
       "std              0.5    122864.8     0.0  \n",
       "min              0.0     10880.3     1.0  \n",
       "25%              0.0     83094.9     1.0  \n",
       "50%              1.0    125390.6     1.0  \n",
       "75%              1.0    175878.0     1.0  \n",
       "max              1.0   1263028.5     1.0  "
      ]
     },
     "execution_count": 27,
     "metadata": {},
     "output_type": "execute_result"
    }
   ],
   "source": [
    "df.query('churn == 1').describe().round(1)"
   ]
  },
  {
   "cell_type": "markdown",
   "id": "5662b447",
   "metadata": {},
   "source": [
    "У ушедших пользователей больше equity и больше средний баланс счета. Распределение по полу и возрасту примерно одинаковое среди оставшихся и ушедших клиентов. Распределение по городам тоже одинаковое."
   ]
  },
  {
   "cell_type": "code",
   "execution_count": 28,
   "id": "59bdb434",
   "metadata": {},
   "outputs": [
    {
     "data": {
      "text/plain": [
       "<AxesSubplot:xlabel='score'>"
      ]
     },
     "execution_count": 28,
     "metadata": {},
     "output_type": "execute_result"
    },
    {
     "data": {
      "image/png": "[encoded data removed]",
      "text/plain": [
       "<Figure size 432x288 with 1 Axes>"
      ]
     },
     "metadata": {
      "needs_background": "light"
     },
     "output_type": "display_data"
    }
   ],
   "source": [
    "sns.violinplot(data=df, x='score', hue='churn', jitter=True)"
   ]
  },
  {
   "cell_type": "code",
   "execution_count": 29,
   "id": "ffdbe761",
   "metadata": {},
   "outputs": [
    {
     "data": {
      "text/plain": [
       "<AxesSubplot:xlabel='last_activity', ylabel='Count'>"
      ]
     },
     "execution_count": 29,
     "metadata": {},
     "output_type": "execute_result"
    },
    {
     "data": {
      "image/png": "[encoded data removed]",
      "text/plain": [
       "<Figure size 432x288 with 1 Axes>"
      ]
     },
     "metadata": {
      "needs_background": "light"
     },
     "output_type": "display_data"
    }
   ],
   "source": [
    "\n",
    "sns.histplot(data=df, hue='churn', x='last_activity', common_norm=True, cbar=True)"
   ]
  },
  {
   "cell_type": "code",
   "execution_count": 30,
   "id": "0aaf8cd9",
   "metadata": {},
   "outputs": [
    {
     "data": {
      "text/plain": [
       "<AxesSubplot:xlabel='products', ylabel='Count'>"
      ]
     },
     "execution_count": 30,
     "metadata": {},
     "output_type": "execute_result"
    },
    {
     "data": {
      "image/png": "[encoded data removed]",
      "text/plain": [
       "<Figure size 432x288 with 1 Axes>"
      ]
     },
     "metadata": {
      "needs_background": "light"
     },
     "output_type": "display_data"
    }
   ],
   "source": [
    "sns.histplot(data=df, hue='churn', x='products', palette='bright', binwidth=1)"
   ]
  },
  {
   "cell_type": "code",
   "execution_count": 31,
   "id": "9d2c41fe",
   "metadata": {},
   "outputs": [
    {
     "data": {
      "text/html": [
       "<div>\n",
       "<style scoped>\n",
       "    .dataframe tbody tr th:only-of-type {\n",
       "        vertical-align: middle;\n",
       "    }\n",
       "\n",
       "    .dataframe tbody tr th {\n",
       "        vertical-align: top;\n",
       "    }\n",
       "\n",
       "    .dataframe thead th {\n",
       "        text-align: right;\n",
       "    }\n",
       "</style>\n",
       "<table border=\"1\" class=\"dataframe\">\n",
       "  <thead>\n",
       "    <tr style=\"text-align: right;\">\n",
       "      <th></th>\n",
       "      <th>churn</th>\n",
       "    </tr>\n",
       "    <tr>\n",
       "      <th>city</th>\n",
       "      <th></th>\n",
       "    </tr>\n",
       "  </thead>\n",
       "  <tbody>\n",
       "    <tr>\n",
       "      <th>Ярославль</th>\n",
       "      <td>0.190226</td>\n",
       "    </tr>\n",
       "    <tr>\n",
       "      <th>Ростов</th>\n",
       "      <td>0.188112</td>\n",
       "    </tr>\n",
       "    <tr>\n",
       "      <th>Рыбинск</th>\n",
       "      <td>0.162406</td>\n",
       "    </tr>\n",
       "  </tbody>\n",
       "</table>\n",
       "</div>"
      ],
      "text/plain": [
       "              churn\n",
       "city               \n",
       "Ярославль  0.190226\n",
       "Ростов     0.188112\n",
       "Рыбинск    0.162406"
      ]
     },
     "execution_count": 31,
     "metadata": {},
     "output_type": "execute_result"
    }
   ],
   "source": [
    "df.pivot_table(index='city', values='churn').sort_values(by='churn', ascending=False)"
   ]
  },
  {
   "cell_type": "code",
   "execution_count": 32,
   "id": "852f3e07",
   "metadata": {},
   "outputs": [
    {
     "data": {
      "text/html": [
       "<div>\n",
       "<style scoped>\n",
       "    .dataframe tbody tr th:only-of-type {\n",
       "        vertical-align: middle;\n",
       "    }\n",
       "\n",
       "    .dataframe tbody tr th {\n",
       "        vertical-align: top;\n",
       "    }\n",
       "\n",
       "    .dataframe thead th {\n",
       "        text-align: right;\n",
       "    }\n",
       "</style>\n",
       "<table border=\"1\" class=\"dataframe\">\n",
       "  <thead>\n",
       "    <tr style=\"text-align: right;\">\n",
       "      <th></th>\n",
       "      <th>churn</th>\n",
       "    </tr>\n",
       "    <tr>\n",
       "      <th>gender</th>\n",
       "      <th></th>\n",
       "    </tr>\n",
       "  </thead>\n",
       "  <tbody>\n",
       "    <tr>\n",
       "      <th>Ж</th>\n",
       "      <td>0.127984</td>\n",
       "    </tr>\n",
       "    <tr>\n",
       "      <th>М</th>\n",
       "      <td>0.236895</td>\n",
       "    </tr>\n",
       "  </tbody>\n",
       "</table>\n",
       "</div>"
      ],
      "text/plain": [
       "           churn\n",
       "gender          \n",
       "Ж       0.127984\n",
       "М       0.236895"
      ]
     },
     "execution_count": 32,
     "metadata": {},
     "output_type": "execute_result"
    }
   ],
   "source": [
    "df.pivot_table(index='gender', values='churn')"
   ]
  },
  {
   "cell_type": "code",
   "execution_count": 2,
   "id": "a64be7b4",
   "metadata": {},
   "outputs": [
    {
     "ename": "NameError",
     "evalue": "name 'df' is not defined",
     "output_type": "error",
     "traceback": [
      "\u001b[0;31m---------------------------------------------------------------------------\u001b[0m",
      "\u001b[0;31mNameError\u001b[0m                                 Traceback (most recent call last)",
      "Input \u001b[0;32mIn [2]\u001b[0m, in \u001b[0;36m<cell line: 1>\u001b[0;34m()\u001b[0m\n\u001b[0;32m----> 1\u001b[0m df_port \u001b[38;5;241m=\u001b[39m \u001b[43mdf\u001b[49m\u001b[38;5;241m.\u001b[39mgroupby(\u001b[38;5;124m'\u001b[39m\u001b[38;5;124mchurn\u001b[39m\u001b[38;5;124m'\u001b[39m)\u001b[38;5;241m.\u001b[39magg([\u001b[38;5;124m'\u001b[39m\u001b[38;5;124mmean\u001b[39m\u001b[38;5;124m'\u001b[39m,\u001b[38;5;124m'\u001b[39m\u001b[38;5;124mmedian\u001b[39m\u001b[38;5;124m'\u001b[39m])\u001b[38;5;241m.\u001b[39mT\n\u001b[1;32m      2\u001b[0m df_port[\u001b[38;5;124m'\u001b[39m\u001b[38;5;124m%\u001b[39m\u001b[38;5;124m'\u001b[39m] \u001b[38;5;241m=\u001b[39m df_port[\u001b[38;5;241m1\u001b[39m] \u001b[38;5;241m/\u001b[39m df_port[\u001b[38;5;241m0\u001b[39m] \u001b[38;5;241m-\u001b[39m \u001b[38;5;241m1\u001b[39m\n\u001b[1;32m      3\u001b[0m df_port\u001b[38;5;241m.\u001b[39msort_values(\u001b[38;5;124m'\u001b[39m\u001b[38;5;124m%\u001b[39m\u001b[38;5;124m'\u001b[39m)\u001b[38;5;241m.\u001b[39mstyle\u001b[38;5;241m.\u001b[39mformat(\u001b[38;5;124m'\u001b[39m\u001b[38;5;124m{\u001b[39m\u001b[38;5;124m:_.2f}\u001b[39m\u001b[38;5;124m'\u001b[39m)\n",
      "\u001b[0;31mNameError\u001b[0m: name 'df' is not defined"
     ]
    }
   ],
   "source": [
    "df_port = df.groupby('churn').agg(['mean','median']).T\n",
    "df_port['%'] = df_port[1] / df_port[0] - 1\n",
    "df_port.sort_values('%').style.format('{:_.2f}')"
   ]
  },
  {
   "cell_type": "code",
   "execution_count": 34,
   "id": "5a7796d5",
   "metadata": {},
   "outputs": [
    {
     "data": {
      "text/plain": [
       "Text(0.5, 1.0, 'Матрица корреляции признаков(Пирсона)')"
      ]
     },
     "execution_count": 34,
     "metadata": {},
     "output_type": "execute_result"
    },
    {
     "data": {
      "image/png": "[encoded data removed]",
      "text/plain": [
       "<Figure size 720x720 with 2 Axes>"
      ]
     },
     "metadata": {
      "needs_background": "light"
     },
     "output_type": "display_data"
    }
   ],
   "source": [
    "plt.figure(figsize=(10,10))\n",
    "sns.color_palette(\"vlag\", as_cmap=True)\n",
    "sns.heatmap(data = df.drop(columns='user_id').corr(), annot = True, fmt = '.2f', cbar=True)\n",
    "plt.title(label='Матрица корреляции признаков(Пирсона)', size=15)"
   ]
  },
  {
   "cell_type": "markdown",
   "id": "3fefa5ed",
   "metadata": {},
   "source": [
    "High correlation - churn/equity, churn/products, churn/last_activity"
   ]
  },
  {
   "cell_type": "code",
   "execution_count": 35,
   "id": "3d51d7d6",
   "metadata": {},
   "outputs": [
    {
     "name": "stdout",
     "output_type": "stream",
     "text": [
      "interval columns not set, guessing: ['score', 'age', 'equity', 'balance', 'products', 'credit_card', 'last_activity', 'est_salary', 'churn']\n"
     ]
    },
    {
     "data": {
      "text/plain": [
       "<AxesSubplot:>"
      ]
     },
     "execution_count": 35,
     "metadata": {},
     "output_type": "execute_result"
    },
    {
     "data": {
      "image/png": "[encoded data removed]",
      "text/plain": [
       "<Figure size 1080x1080 with 2 Axes>"
      ]
     },
     "metadata": {
      "needs_background": "light"
     },
     "output_type": "display_data"
    }
   ],
   "source": [
    "plt.figure(figsize=(15,15))\n",
    "sns.heatmap(data = df.drop(columns=['user_id', 'city']).phik_matrix(), annot = True, fmt = '.2f', cbar=True)"
   ]
  },
  {
   "cell_type": "markdown",
   "id": "614dfa68",
   "metadata": {},
   "source": [
    "Наибольшая корреляция есть между количеством продуктов и churn. Исключим products = 0 и построим матрицу еще раз."
   ]
  },
  {
   "cell_type": "code",
   "execution_count": 36,
   "id": "71d38885",
   "metadata": {},
   "outputs": [
    {
     "name": "stdout",
     "output_type": "stream",
     "text": [
      "interval columns not set, guessing: ['score', 'age', 'equity', 'balance', 'products', 'credit_card', 'last_activity', 'est_salary', 'churn']\n"
     ]
    },
    {
     "data": {
      "text/plain": [
       "<AxesSubplot:>"
      ]
     },
     "execution_count": 36,
     "metadata": {},
     "output_type": "execute_result"
    },
    {
     "data": {
      "image/png": "[encoded data removed]",
      "text/plain": [
       "<Figure size 1080x1080 with 2 Axes>"
      ]
     },
     "metadata": {
      "needs_background": "light"
     },
     "output_type": "display_data"
    }
   ],
   "source": [
    "plt.figure(figsize=(15,15))\n",
    "sns.heatmap(data = df.drop(columns='user_id').query('products !=0').phik_matrix(), annot = True, fmt = '.2f', cbar=True)"
   ]
  },
  {
   "cell_type": "markdown",
   "id": "5bc6fa24",
   "metadata": {},
   "source": [
    "Большая корреляция с equity, все остальные метрики скоррелированы примерно одинаково, баланс счета и предполагаемая зарплата имеют околонулевую корреляцию с оттоком. Phik не отображает позитивную/негативную корреляцию, но судя по корреляции Пирсона, поля score, equity, products, last_activity имеют положительную корреляцию с оттоком."
   ]
  },
  {
   "cell_type": "markdown",
   "id": "02ec0523",
   "metadata": {},
   "source": [
    "Метрики age и credit_card скореллированые по разному, в зависимости от метода корреляции."
   ]
  },
  {
   "cell_type": "code",
   "execution_count": 37,
   "id": "058a0274",
   "metadata": {},
   "outputs": [
    {
     "data": {
      "text/plain": [
       "array([1, 5, 0, 4, 3, 2, 6, 7, 8, 9])"
      ]
     },
     "execution_count": 37,
     "metadata": {},
     "output_type": "execute_result"
    }
   ],
   "source": [
    "df['equity'].unique()"
   ]
  },
  {
   "cell_type": "code",
   "execution_count": 38,
   "id": "6802ccd7",
   "metadata": {},
   "outputs": [
    {
     "data": {
      "text/plain": [
       "Text(0.5, 1.0, 'Зависимость оттока от имущества клиента')"
      ]
     },
     "execution_count": 38,
     "metadata": {},
     "output_type": "execute_result"
    },
    {
     "data": {
      "image/png": "[encoded data removed]",
      "text/plain": [
       "<Figure size 432x288 with 1 Axes>"
      ]
     },
     "metadata": {
      "needs_background": "light"
     },
     "output_type": "display_data"
    }
   ],
   "source": [
    "equity_churn = df.groupby('equity').agg({'churn':'mean'})\n",
    "equity_churn.plot()\n",
    "plt.xlabel('Бальная оценка имущества клиента', size = 10)\n",
    "plt.ylabel('Отток клиентов', size = 10)\n",
    "plt.title('Зависимость оттока от имущества клиента', size = 15)"
   ]
  },
  {
   "cell_type": "markdown",
   "id": "00fccd82",
   "metadata": {},
   "source": [
    "Чем больше equity у человека, тем выше шанс что он уйдет из банка..."
   ]
  },
  {
   "cell_type": "code",
   "execution_count": 39,
   "id": "a905c492",
   "metadata": {},
   "outputs": [
    {
     "data": {
      "text/html": [
       "<div>\n",
       "<style scoped>\n",
       "    .dataframe tbody tr th:only-of-type {\n",
       "        vertical-align: middle;\n",
       "    }\n",
       "\n",
       "    .dataframe tbody tr th {\n",
       "        vertical-align: top;\n",
       "    }\n",
       "\n",
       "    .dataframe thead th {\n",
       "        text-align: right;\n",
       "    }\n",
       "</style>\n",
       "<table border=\"1\" class=\"dataframe\">\n",
       "  <thead>\n",
       "    <tr style=\"text-align: right;\">\n",
       "      <th></th>\n",
       "      <th>churn</th>\n",
       "    </tr>\n",
       "    <tr>\n",
       "      <th>products</th>\n",
       "      <th></th>\n",
       "    </tr>\n",
       "  </thead>\n",
       "  <tbody>\n",
       "    <tr>\n",
       "      <th>0</th>\n",
       "      <td>1.000000</td>\n",
       "    </tr>\n",
       "    <tr>\n",
       "      <th>1</th>\n",
       "      <td>0.070655</td>\n",
       "    </tr>\n",
       "    <tr>\n",
       "      <th>2</th>\n",
       "      <td>0.191735</td>\n",
       "    </tr>\n",
       "    <tr>\n",
       "      <th>3</th>\n",
       "      <td>0.284895</td>\n",
       "    </tr>\n",
       "    <tr>\n",
       "      <th>4</th>\n",
       "      <td>0.632911</td>\n",
       "    </tr>\n",
       "    <tr>\n",
       "      <th>5</th>\n",
       "      <td>0.300000</td>\n",
       "    </tr>\n",
       "  </tbody>\n",
       "</table>\n",
       "</div>"
      ],
      "text/plain": [
       "             churn\n",
       "products          \n",
       "0         1.000000\n",
       "1         0.070655\n",
       "2         0.191735\n",
       "3         0.284895\n",
       "4         0.632911\n",
       "5         0.300000"
      ]
     },
     "execution_count": 39,
     "metadata": {},
     "output_type": "execute_result"
    }
   ],
   "source": [
    "products_churn = df.groupby('products').agg({'churn':'mean'})\n",
    "products_churn"
   ]
  },
  {
   "cell_type": "code",
   "execution_count": 40,
   "id": "76860c2d",
   "metadata": {},
   "outputs": [
    {
     "data": {
      "text/plain": [
       "Text(0.5, 1.0, 'Зависимость оттока от количества продуктов клиента')"
      ]
     },
     "execution_count": 40,
     "metadata": {},
     "output_type": "execute_result"
    },
    {
     "data": {
      "image/png": "[encoded data removed]",
      "text/plain": [
       "<Figure size 432x288 with 1 Axes>"
      ]
     },
     "metadata": {
      "needs_background": "light"
     },
     "output_type": "display_data"
    }
   ],
   "source": [
    "products_churn.plot()\n",
    "plt.xlabel('Сколькими продуктами банка пользуется клиент', size = 10)\n",
    "plt.ylabel('Отток клиентов', size = 10)\n",
    "plt.title('Зависимость оттока от количества продуктов клиента', size = 15)"
   ]
  },
  {
   "cell_type": "markdown",
   "id": "80a62ee0",
   "metadata": {},
   "source": [
    "Если у человека осталось 0 продуктов банка - он ушел, поэтому churn - 1. При этом, с ростом количества продуктов, растет и churn rate. При этом у клиентов с 5ю продуктами, churn rate в два раза меньше чем у клиентов с 4мя. Гипотеза - если у человека максимум продуктов, у него уже есть loyalty к банку."
   ]
  },
  {
   "cell_type": "code",
   "execution_count": 41,
   "id": "2349d8a8",
   "metadata": {},
   "outputs": [
    {
     "data": {
      "text/plain": [
       "<AxesSubplot:xlabel='last_activity'>"
      ]
     },
     "execution_count": 41,
     "metadata": {},
     "output_type": "execute_result"
    },
    {
     "data": {
      "image/png": "[encoded data removed]",
      "text/plain": [
       "<Figure size 432x288 with 1 Axes>"
      ]
     },
     "metadata": {
      "needs_background": "light"
     },
     "output_type": "display_data"
    }
   ],
   "source": [
    "last_activity_churn = df.groupby('last_activity').agg({'churn':'mean'})\n",
    "last_activity_churn.plot()"
   ]
  },
  {
   "cell_type": "code",
   "execution_count": 42,
   "id": "5401b9cd",
   "metadata": {},
   "outputs": [
    {
     "data": {
      "text/html": [
       "<div>\n",
       "<style scoped>\n",
       "    .dataframe tbody tr th:only-of-type {\n",
       "        vertical-align: middle;\n",
       "    }\n",
       "\n",
       "    .dataframe tbody tr th {\n",
       "        vertical-align: top;\n",
       "    }\n",
       "\n",
       "    .dataframe thead th {\n",
       "        text-align: right;\n",
       "    }\n",
       "</style>\n",
       "<table border=\"1\" class=\"dataframe\">\n",
       "  <thead>\n",
       "    <tr style=\"text-align: right;\">\n",
       "      <th></th>\n",
       "      <th>count</th>\n",
       "      <th>mean</th>\n",
       "    </tr>\n",
       "    <tr>\n",
       "      <th>churn</th>\n",
       "      <th></th>\n",
       "      <th></th>\n",
       "    </tr>\n",
       "  </thead>\n",
       "  <tbody>\n",
       "    <tr>\n",
       "      <th>0</th>\n",
       "      <td>8161</td>\n",
       "      <td>0.483397</td>\n",
       "    </tr>\n",
       "    <tr>\n",
       "      <th>1</th>\n",
       "      <td>1822</td>\n",
       "      <td>0.702525</td>\n",
       "    </tr>\n",
       "  </tbody>\n",
       "</table>\n",
       "</div>"
      ],
      "text/plain": [
       "       count      mean\n",
       "churn                 \n",
       "0       8161  0.483397\n",
       "1       1822  0.702525"
      ]
     },
     "execution_count": 42,
     "metadata": {},
     "output_type": "execute_result"
    }
   ],
   "source": [
    "df.groupby('churn')['last_activity'].agg(['count','mean'])"
   ]
  },
  {
   "cell_type": "markdown",
   "id": "c5b92c78",
   "metadata": {},
   "source": [
    "Среди ушедших клиентов активность выше."
   ]
  },
  {
   "cell_type": "code",
   "execution_count": 43,
   "id": "c7c178cf",
   "metadata": {},
   "outputs": [
    {
     "data": {
      "text/plain": [
       "<AxesSubplot:xlabel='score'>"
      ]
     },
     "execution_count": 43,
     "metadata": {},
     "output_type": "execute_result"
    },
    {
     "data": {
      "image/png": "[encoded data removed]",
      "text/plain": [
       "<Figure size 432x288 with 1 Axes>"
      ]
     },
     "metadata": {
      "needs_background": "light"
     },
     "output_type": "display_data"
    }
   ],
   "source": [
    "score_activity_churn = df.groupby('score').agg({'churn':'mean'})\n",
    "score_activity_churn.plot()"
   ]
  },
  {
   "cell_type": "code",
   "execution_count": 45,
   "id": "7ae9a8a8",
   "metadata": {},
   "outputs": [
    {
     "data": {
      "text/plain": [
       "<AxesSubplot:xlabel='score', ylabel='Density'>"
      ]
     },
     "execution_count": 45,
     "metadata": {},
     "output_type": "execute_result"
    },
    {
     "data": {
      "image/png": "[encoded data removed]",
      "text/plain": [
       "<Figure size 432x288 with 1 Axes>"
      ]
     },
     "metadata": {
      "needs_background": "light"
     },
     "output_type": "display_data"
    }
   ],
   "source": [
    "sns.kdeplot(data=df.score.round(-1))"
   ]
  },
  {
   "cell_type": "markdown",
   "id": "d0325c17",
   "metadata": {},
   "source": [
    "## Сегментация"
   ]
  },
  {
   "cell_type": "code",
   "execution_count": 47,
   "id": "2fe6e629",
   "metadata": {},
   "outputs": [
    {
     "data": {
      "text/plain": [
       "<AxesSubplot:xlabel='products'>"
      ]
     },
     "execution_count": 47,
     "metadata": {},
     "output_type": "execute_result"
    },
    {
     "data": {
      "image/png": "[encoded data removed]",
      "text/plain": [
       "<Figure size 432x288 with 1 Axes>"
      ]
     },
     "metadata": {
      "needs_background": "light"
     },
     "output_type": "display_data"
    },
    {
     "data": {
      "image/png": "[encoded data removed]",
      "text/plain": [
       "<Figure size 432x288 with 1 Axes>"
      ]
     },
     "metadata": {
      "needs_background": "light"
     },
     "output_type": "display_data"
    }
   ],
   "source": [
    "equity_churn.plot()\n",
    "products_churn.plot()"
   ]
  },
  {
   "cell_type": "markdown",
   "id": "cb1e118a",
   "metadata": {},
   "source": [
    "Проведем сегментацию так - 1 группа - с equity от 1 до 6, 2 группа - с equity от 6, 3я группа с количеством продуктов от 1 до 3, вторая группа с количеством продуктов от 3."
   ]
  },
  {
   "cell_type": "code",
   "execution_count": 49,
   "id": "db24f287",
   "metadata": {
    "scrolled": true
   },
   "outputs": [
    {
     "data": {
      "text/plain": [
       "count    9.983000e+03\n",
       "mean     6.387441e+05\n",
       "std      1.774374e+06\n",
       "min      0.000000e+00\n",
       "25%      6.283197e+04\n",
       "50%      3.761951e+05\n",
       "75%      8.045188e+05\n",
       "max      1.191136e+08\n",
       "Name: balance, dtype: float64"
      ]
     },
     "execution_count": 49,
     "metadata": {},
     "output_type": "execute_result"
    }
   ],
   "source": [
    "df['balance'].describe()"
   ]
  },
  {
   "cell_type": "code",
   "execution_count": 50,
   "id": "643010d3",
   "metadata": {},
   "outputs": [
    {
     "data": {
      "text/plain": [
       "mean        0.019734\n",
       "count    2483.000000\n",
       "Name: churn, dtype: float64"
      ]
     },
     "execution_count": 50,
     "metadata": {},
     "output_type": "execute_result"
    }
   ],
   "source": [
    "df.query('balance < 60000')['churn'].agg(['mean','count'])"
   ]
  },
  {
   "cell_type": "code",
   "execution_count": 51,
   "id": "19369200",
   "metadata": {},
   "outputs": [
    {
     "data": {
      "text/plain": [
       "mean        0.177355\n",
       "count    4990.000000\n",
       "Name: churn, dtype: float64"
      ]
     },
     "execution_count": 51,
     "metadata": {},
     "output_type": "execute_result"
    }
   ],
   "source": [
    "df.query('(balance >= 60000) & (balance <= 800000)')['churn'].agg(['mean','count'])"
   ]
  },
  {
   "cell_type": "code",
   "execution_count": 52,
   "id": "34ed9a99",
   "metadata": {},
   "outputs": [
    {
     "data": {
      "text/plain": [
       "mean        0.353785\n",
       "count    2510.000000\n",
       "Name: churn, dtype: float64"
      ]
     },
     "execution_count": 52,
     "metadata": {},
     "output_type": "execute_result"
    }
   ],
   "source": [
    "df.query('balance > 800000')['churn'].agg(['mean','count'])"
   ]
  },
  {
   "cell_type": "markdown",
   "id": "30a8910e",
   "metadata": {},
   "source": [
    "Сегментируем по балансу, клиенты с балансом ниже 60к имеют маленький отток > 2%, клиенты с балансом от 60 до 800000 тысяч имеют отток 18%, и клиенты с самыми большими счетами >2кк рублей имеют ужасающий отток ~35%."
   ]
  },
  {
   "cell_type": "markdown",
   "id": "252afd52",
   "metadata": {},
   "source": [
    "Другой вариант сегментации - по количеству продуктов."
   ]
  },
  {
   "cell_type": "code",
   "execution_count": 53,
   "id": "f14d5a03",
   "metadata": {},
   "outputs": [
    {
     "name": "stdout",
     "output_type": "stream",
     "text": [
      "Средний отток среди клиентов пользующихся 1 продуктом.\n"
     ]
    },
    {
     "data": {
      "text/plain": [
       "mean        0.070655\n",
       "count    3326.000000\n",
       "Name: churn, dtype: float64"
      ]
     },
     "execution_count": 53,
     "metadata": {},
     "output_type": "execute_result"
    }
   ],
   "source": [
    "print('Средний отток среди клиентов пользующихся 1 продуктом.')\n",
    "df.query('products == 1')['churn'].agg(['mean','count'])"
   ]
  },
  {
   "cell_type": "code",
   "execution_count": 54,
   "id": "87265b57",
   "metadata": {},
   "outputs": [
    {
     "name": "stdout",
     "output_type": "stream",
     "text": [
      "Средний отток среди клиентов пользующихся 2 продуктами.\n"
     ]
    },
    {
     "data": {
      "text/plain": [
       "mean        0.191735\n",
       "count    5106.000000\n",
       "Name: churn, dtype: float64"
      ]
     },
     "execution_count": 54,
     "metadata": {},
     "output_type": "execute_result"
    }
   ],
   "source": [
    "print('Средний отток среди клиентов пользующихся 2 продуктами.')\n",
    "df.query('products == 2')['churn'].agg(['mean','count'])"
   ]
  },
  {
   "cell_type": "code",
   "execution_count": 55,
   "id": "08f435a3",
   "metadata": {},
   "outputs": [
    {
     "name": "stdout",
     "output_type": "stream",
     "text": [
      "Средний отток среди клиентов пользующихся 3 продуктами.\n"
     ]
    },
    {
     "data": {
      "text/plain": [
       "mean        0.391613\n",
       "count    1550.000000\n",
       "Name: churn, dtype: float64"
      ]
     },
     "execution_count": 55,
     "metadata": {},
     "output_type": "execute_result"
    }
   ],
   "source": [
    "print('Средний отток среди клиентов пользующихся 3 продуктами.')\n",
    "df.query('products > 2')['churn'].agg(['mean','count'])"
   ]
  },
  {
   "cell_type": "markdown",
   "id": "b5937425",
   "metadata": {},
   "source": [
    "1 продукт - отток ~ 7%, 2+ продукт - отток - 24%"
   ]
  },
  {
   "cell_type": "markdown",
   "id": "cb5e4c9d",
   "metadata": {},
   "source": [
    "## Гипотезы"
   ]
  },
  {
   "cell_type": "markdown",
   "id": "515a5c42",
   "metadata": {},
   "source": [
    "Сформулируйте и проверьте статистические гипотезы.\n",
    "\n",
    "Проверьте гипотезу различия дохода между теми клиентами, которые ушли и теми, которые остались.\n",
    "\n",
    "Сформулируйте и проверьте статистическую гипотезу относительно представленных данных"
   ]
  },
  {
   "cell_type": "markdown",
   "id": "f8868e29",
   "metadata": {},
   "source": [
    "1. Доходы клиентов которые ушли из банка, выше доходов оставшихся.\n",
    "2. Equity ушедших клиентов выше equity оставшихся.\n",
    "3. Клиенты которые воспользовались большим количеством продуктов(4 или 5) склонны уходить из банка, больше чем клиенты воспользовавшиеся 1м продуктом."
   ]
  },
  {
   "cell_type": "code",
   "execution_count": 56,
   "id": "2fef9a7a",
   "metadata": {
    "scrolled": true
   },
   "outputs": [
    {
     "data": {
      "text/plain": [
       "0        75719.14\n",
       "3       174423.53\n",
       "4        67353.16\n",
       "12      112697.16\n",
       "40       96242.71\n",
       "          ...    \n",
       "9981    227288.27\n",
       "9986     83442.41\n",
       "9987     63160.96\n",
       "9992    133972.11\n",
       "9994    102123.93\n",
       "Name: est_salary, Length: 1822, dtype: float64"
      ]
     },
     "execution_count": 56,
     "metadata": {},
     "output_type": "execute_result"
    }
   ],
   "source": [
    "df.query('churn == 1')['est_salary']"
   ]
  },
  {
   "cell_type": "markdown",
   "id": "72e93199",
   "metadata": {},
   "source": [
    "### Гипотеза 1. Доходы клиентов которые ушли из банка, выше доходов оставшихся."
   ]
  },
  {
   "cell_type": "code",
   "execution_count": 57,
   "id": "907de66e",
   "metadata": {},
   "outputs": [
    {
     "name": "stdout",
     "output_type": "stream",
     "text": [
      "p-значение: 7.161649361840201e-218\n",
      "Отвергаем нулевую гипотезу\n"
     ]
    }
   ],
   "source": [
    "alpha = .01 # уровень статистической значимости\n",
    "\n",
    "results = st.mannwhitneyu(\n",
    "    df.query('churn == 1')['balance'], \n",
    "    df.query('churn == 0')['balance'],\n",
    "    alternative = 'greater'\n",
    ")\n",
    "\n",
    "# тест односторонний: p-value будет в два раза меньше\n",
    "print('p-значение:', results.pvalue / 2)\n",
    "\n",
    "# тест односторонний влево:\n",
    "# отвергаем гипотезу только тогда, когда выборочное среднее значимо меньше предполагаемого значения\n",
    "\n",
    "if (results.pvalue / 2 < alpha) and (df.query('churn == 0')['balance'].mean() < df.query('churn == 1')['balance'].mean()):\n",
    "    print(\"Отвергаем нулевую гипотезу\")\n",
    "else:\n",
    "    print(\"Не отвергаем нулевую гипотезу\")"
   ]
  },
  {
   "cell_type": "code",
   "execution_count": 58,
   "id": "92f8e8b0",
   "metadata": {},
   "outputs": [
    {
     "name": "stdout",
     "output_type": "stream",
     "text": [
      "p-значение: 5.752392031204426e-167\n",
      "Отвергаем нулевую гипотезу\n"
     ]
    }
   ],
   "source": [
    "alpha = .01 # уровень статистической значимости\n",
    "\n",
    "results = st.ttest_ind(\n",
    "    df.query('churn == 1')['equity'], \n",
    "    df.query('churn == 0')['equity']\n",
    ")\n",
    "\n",
    "# тест односторонний: p-value будет в два раза меньше\n",
    "print('p-значение:', results.pvalue / 2)\n",
    "\n",
    "# тест односторонний влево:\n",
    "# отвергаем гипотезу только тогда, когда выборочное среднее значимо меньше предполагаемого значения\n",
    "\n",
    "if (results.pvalue / 2 < alpha) and (df.query('churn == 0')['balance'].mean() < df.query('churn == 1')['balance'].mean()):\n",
    "    print(\"Отвергаем нулевую гипотезу\")\n",
    "else:\n",
    "    print(\"Не отвергаем нулевую гипотезу\")"
   ]
  },
  {
   "cell_type": "markdown",
   "id": "d4ea2c38",
   "metadata": {},
   "source": [
    "Действительно, с уверенностью 99 процентов можно сказать что из банка уходят более богатые клиенты по equity и балансу."
   ]
  },
  {
   "cell_type": "code",
   "execution_count": 59,
   "id": "a4d1df45",
   "metadata": {},
   "outputs": [
    {
     "name": "stdout",
     "output_type": "stream",
     "text": [
      "p-значение: 2.801162868060164e-202\n",
      "Отвергаем нулевую гипотезу\n"
     ]
    }
   ],
   "source": [
    "alpha = .01 # уровень статистической значимости\n",
    "\n",
    "results = st.ttest_ind(\n",
    "    df.query('churn == 1')['products'], \n",
    "    df.query('churn == 0')['products']\n",
    ")\n",
    "\n",
    "# тест односторонний: p-value будет в два раза меньше\n",
    "print('p-значение:', results.pvalue / 2)\n",
    "\n",
    "# тест односторонний влево:\n",
    "# отвергаем гипотезу только тогда, когда выборочное среднее значимо меньше предполагаемого значения\n",
    "\n",
    "if (results.pvalue / 2 < alpha) and (df.query('churn == 0')['balance'].mean() < df.query('churn == 1')['balance'].mean()):\n",
    "    print(\"Отвергаем нулевую гипотезу\")\n",
    "else:\n",
    "    print(\"Не отвергаем нулевую гипотезу\")"
   ]
  },
  {
   "cell_type": "markdown",
   "id": "2cdb0b54",
   "metadata": {},
   "source": [
    "И да, те кто пользовались многими продуктами, тоже склонны покинуть нас."
   ]
  },
  {
   "cell_type": "markdown",
   "id": "cbd2afb4",
   "metadata": {},
   "source": [
    "## Выводы и рекомендации"
   ]
  },
  {
   "cell_type": "markdown",
   "id": "89fa0be5",
   "metadata": {},
   "source": [
    "На отток влияют множество факторов, из которых наиболее скореллированный с оттоком это балльная оценка имущества(equity). Рекомендуем следующие стратегии уменьшения оттока:\n",
    "\n",
    "1. Предложить клиента с балансом больше 2 млн лучшие условия.\n",
    "2. Предложить клиентам пользующимся 2+ продуктами пакетные предложения.\n",
    "\n",
    "Скорее всего, в банке удобно держать малые суммы, использовать его как запасной аэродром, поэтому мы видим слабый отток среди клиентов с небольшим балансом, пользующихся 1-2 продуктами. Надо улучшать для них условия, вводить пакетные предложения, делать какие то персональные предложения для топ вкладчиков.\n",
    "\n",
    "Клиентам с большим балансом будут выгодны более высокие проценты в банке. Вкупе с более длительными сроками вкладов, это должно остановать отток.\n",
    "\n",
    "Отток растет вплоть до скора 860, но потом падает, скорее всего это не ключевой фактор и нужно ориентироваться на другие параметры.\n",
    "\n",
    "Среди ушедших клиентов активность выше, скорее всего это связано с закрытием вкладов и перемещением средств.\n"
   ]
  },
  {
   "cell_type": "markdown",
   "id": "f7ac802b",
   "metadata": {},
   "source": [
    "## ML"
   ]
  },
  {
   "cell_type": "code",
   "execution_count": 60,
   "id": "8f123127",
   "metadata": {},
   "outputs": [],
   "source": [
    "from sklearn.model_selection import train_test_split\n",
    "from sklearn.preprocessing import StandardScaler\n",
    "import itertools\n",
    "\n",
    "from sklearn.linear_model import LogisticRegression\n",
    "\n",
    "from sklearn import tree\n",
    "from sklearn.tree import DecisionTreeClassifier\n",
    "\n",
    "from sklearn.metrics import accuracy_score, precision_score, recall_score, f1_score\n",
    "from sklearn.metrics import roc_auc_score\n",
    "\n",
    "\n",
    "from sklearn.cluster import KMeans"
   ]
  },
  {
   "cell_type": "code",
   "execution_count": 61,
   "id": "3dadac3c",
   "metadata": {},
   "outputs": [
    {
     "data": {
      "text/html": [
       "<div>\n",
       "<style scoped>\n",
       "    .dataframe tbody tr th:only-of-type {\n",
       "        vertical-align: middle;\n",
       "    }\n",
       "\n",
       "    .dataframe tbody tr th {\n",
       "        vertical-align: top;\n",
       "    }\n",
       "\n",
       "    .dataframe thead th {\n",
       "        text-align: right;\n",
       "    }\n",
       "</style>\n",
       "<table border=\"1\" class=\"dataframe\">\n",
       "  <thead>\n",
       "    <tr style=\"text-align: right;\">\n",
       "      <th></th>\n",
       "      <th>score</th>\n",
       "      <th>age</th>\n",
       "      <th>equity</th>\n",
       "      <th>balance</th>\n",
       "      <th>products</th>\n",
       "      <th>credit_card</th>\n",
       "      <th>last_activity</th>\n",
       "      <th>est_salary</th>\n",
       "      <th>churn</th>\n",
       "      <th>city_Ростов</th>\n",
       "      <th>city_Рыбинск</th>\n",
       "      <th>city_Ярославль</th>\n",
       "      <th>gender_Ж</th>\n",
       "      <th>gender_М</th>\n",
       "    </tr>\n",
       "  </thead>\n",
       "  <tbody>\n",
       "    <tr>\n",
       "      <th>0</th>\n",
       "      <td>850.0</td>\n",
       "      <td>25</td>\n",
       "      <td>1</td>\n",
       "      <td>59214.82</td>\n",
       "      <td>2</td>\n",
       "      <td>0</td>\n",
       "      <td>1</td>\n",
       "      <td>75719.14</td>\n",
       "      <td>1</td>\n",
       "      <td>0</td>\n",
       "      <td>1</td>\n",
       "      <td>0</td>\n",
       "      <td>1</td>\n",
       "      <td>0</td>\n",
       "    </tr>\n",
       "    <tr>\n",
       "      <th>1</th>\n",
       "      <td>861.0</td>\n",
       "      <td>37</td>\n",
       "      <td>5</td>\n",
       "      <td>850594.33</td>\n",
       "      <td>3</td>\n",
       "      <td>1</td>\n",
       "      <td>0</td>\n",
       "      <td>86621.77</td>\n",
       "      <td>0</td>\n",
       "      <td>0</td>\n",
       "      <td>1</td>\n",
       "      <td>0</td>\n",
       "      <td>1</td>\n",
       "      <td>0</td>\n",
       "    </tr>\n",
       "    <tr>\n",
       "      <th>2</th>\n",
       "      <td>892.0</td>\n",
       "      <td>30</td>\n",
       "      <td>0</td>\n",
       "      <td>0.00</td>\n",
       "      <td>1</td>\n",
       "      <td>1</td>\n",
       "      <td>1</td>\n",
       "      <td>107683.34</td>\n",
       "      <td>0</td>\n",
       "      <td>0</td>\n",
       "      <td>1</td>\n",
       "      <td>0</td>\n",
       "      <td>1</td>\n",
       "      <td>0</td>\n",
       "    </tr>\n",
       "    <tr>\n",
       "      <th>3</th>\n",
       "      <td>866.0</td>\n",
       "      <td>51</td>\n",
       "      <td>5</td>\n",
       "      <td>1524746.26</td>\n",
       "      <td>2</td>\n",
       "      <td>0</td>\n",
       "      <td>1</td>\n",
       "      <td>174423.53</td>\n",
       "      <td>1</td>\n",
       "      <td>0</td>\n",
       "      <td>0</td>\n",
       "      <td>1</td>\n",
       "      <td>1</td>\n",
       "      <td>0</td>\n",
       "    </tr>\n",
       "    <tr>\n",
       "      <th>4</th>\n",
       "      <td>730.0</td>\n",
       "      <td>34</td>\n",
       "      <td>5</td>\n",
       "      <td>174.00</td>\n",
       "      <td>1</td>\n",
       "      <td>1</td>\n",
       "      <td>0</td>\n",
       "      <td>67353.16</td>\n",
       "      <td>1</td>\n",
       "      <td>0</td>\n",
       "      <td>0</td>\n",
       "      <td>1</td>\n",
       "      <td>0</td>\n",
       "      <td>1</td>\n",
       "    </tr>\n",
       "    <tr>\n",
       "      <th>...</th>\n",
       "      <td>...</td>\n",
       "      <td>...</td>\n",
       "      <td>...</td>\n",
       "      <td>...</td>\n",
       "      <td>...</td>\n",
       "      <td>...</td>\n",
       "      <td>...</td>\n",
       "      <td>...</td>\n",
       "      <td>...</td>\n",
       "      <td>...</td>\n",
       "      <td>...</td>\n",
       "      <td>...</td>\n",
       "      <td>...</td>\n",
       "      <td>...</td>\n",
       "    </tr>\n",
       "    <tr>\n",
       "      <th>9995</th>\n",
       "      <td>814.0</td>\n",
       "      <td>27</td>\n",
       "      <td>1</td>\n",
       "      <td>78144.65</td>\n",
       "      <td>1</td>\n",
       "      <td>0</td>\n",
       "      <td>1</td>\n",
       "      <td>18943.64</td>\n",
       "      <td>0</td>\n",
       "      <td>0</td>\n",
       "      <td>1</td>\n",
       "      <td>0</td>\n",
       "      <td>0</td>\n",
       "      <td>1</td>\n",
       "    </tr>\n",
       "    <tr>\n",
       "      <th>9996</th>\n",
       "      <td>894.0</td>\n",
       "      <td>46</td>\n",
       "      <td>0</td>\n",
       "      <td>0.00</td>\n",
       "      <td>1</td>\n",
       "      <td>1</td>\n",
       "      <td>0</td>\n",
       "      <td>196898.29</td>\n",
       "      <td>0</td>\n",
       "      <td>0</td>\n",
       "      <td>0</td>\n",
       "      <td>1</td>\n",
       "      <td>0</td>\n",
       "      <td>1</td>\n",
       "    </tr>\n",
       "    <tr>\n",
       "      <th>9997</th>\n",
       "      <td>903.0</td>\n",
       "      <td>24</td>\n",
       "      <td>0</td>\n",
       "      <td>0.00</td>\n",
       "      <td>2</td>\n",
       "      <td>1</td>\n",
       "      <td>1</td>\n",
       "      <td>108905.09</td>\n",
       "      <td>0</td>\n",
       "      <td>0</td>\n",
       "      <td>0</td>\n",
       "      <td>1</td>\n",
       "      <td>0</td>\n",
       "      <td>1</td>\n",
       "    </tr>\n",
       "    <tr>\n",
       "      <th>9998</th>\n",
       "      <td>777.0</td>\n",
       "      <td>68</td>\n",
       "      <td>3</td>\n",
       "      <td>865457.97</td>\n",
       "      <td>3</td>\n",
       "      <td>0</td>\n",
       "      <td>1</td>\n",
       "      <td>86874.90</td>\n",
       "      <td>0</td>\n",
       "      <td>0</td>\n",
       "      <td>0</td>\n",
       "      <td>1</td>\n",
       "      <td>1</td>\n",
       "      <td>0</td>\n",
       "    </tr>\n",
       "    <tr>\n",
       "      <th>9999</th>\n",
       "      <td>828.0</td>\n",
       "      <td>58</td>\n",
       "      <td>3</td>\n",
       "      <td>1180886.70</td>\n",
       "      <td>4</td>\n",
       "      <td>0</td>\n",
       "      <td>1</td>\n",
       "      <td>21422.37</td>\n",
       "      <td>0</td>\n",
       "      <td>0</td>\n",
       "      <td>1</td>\n",
       "      <td>0</td>\n",
       "      <td>1</td>\n",
       "      <td>0</td>\n",
       "    </tr>\n",
       "  </tbody>\n",
       "</table>\n",
       "<p>9983 rows × 14 columns</p>\n",
       "</div>"
      ],
      "text/plain": [
       "      score  age  equity     balance  products  credit_card  last_activity  \\\n",
       "0     850.0   25       1    59214.82         2            0              1   \n",
       "1     861.0   37       5   850594.33         3            1              0   \n",
       "2     892.0   30       0        0.00         1            1              1   \n",
       "3     866.0   51       5  1524746.26         2            0              1   \n",
       "4     730.0   34       5      174.00         1            1              0   \n",
       "...     ...  ...     ...         ...       ...          ...            ...   \n",
       "9995  814.0   27       1    78144.65         1            0              1   \n",
       "9996  894.0   46       0        0.00         1            1              0   \n",
       "9997  903.0   24       0        0.00         2            1              1   \n",
       "9998  777.0   68       3   865457.97         3            0              1   \n",
       "9999  828.0   58       3  1180886.70         4            0              1   \n",
       "\n",
       "      est_salary  churn  city_Ростов  city_Рыбинск  city_Ярославль  gender_Ж  \\\n",
       "0       75719.14      1            0             1               0         1   \n",
       "1       86621.77      0            0             1               0         1   \n",
       "2      107683.34      0            0             1               0         1   \n",
       "3      174423.53      1            0             0               1         1   \n",
       "4       67353.16      1            0             0               1         0   \n",
       "...          ...    ...          ...           ...             ...       ...   \n",
       "9995    18943.64      0            0             1               0         0   \n",
       "9996   196898.29      0            0             0               1         0   \n",
       "9997   108905.09      0            0             0               1         0   \n",
       "9998    86874.90      0            0             0               1         1   \n",
       "9999    21422.37      0            0             1               0         1   \n",
       "\n",
       "      gender_М  \n",
       "0            0  \n",
       "1            0  \n",
       "2            0  \n",
       "3            0  \n",
       "4            1  \n",
       "...        ...  \n",
       "9995         1  \n",
       "9996         1  \n",
       "9997         1  \n",
       "9998         0  \n",
       "9999         0  \n",
       "\n",
       "[9983 rows x 14 columns]"
      ]
     },
     "execution_count": 61,
     "metadata": {},
     "output_type": "execute_result"
    }
   ],
   "source": [
    "df_ml = pd.get_dummies(data=df, columns=['city','gender'])\n",
    "df_ml.drop(columns='user_id', inplace=True)\n",
    "df_ml"
   ]
  },
  {
   "cell_type": "code",
   "execution_count": 62,
   "id": "4f9b277d",
   "metadata": {},
   "outputs": [
    {
     "name": "stdout",
     "output_type": "stream",
     "text": [
      "Метрики для логистической регрессии\n",
      "Accuracy: 0.73\n",
      "Precision: 0.38\n",
      "Recall: 0.70\n",
      "F1: 0.49\n",
      "ROC_AUC: 0.79\n",
      "\n",
      "Метрики для дерева принятия решения\n",
      "Accuracy: 0.83\n",
      "Precision: 0.54\n",
      "Recall: 0.52\n",
      "F1: 0.53\n",
      "ROC_AUC: 0.71\n"
     ]
    }
   ],
   "source": [
    "X = df_ml.drop('churn', axis=1)\n",
    "y = df_ml['churn']\n",
    "\n",
    "# разделяем модель на обучающую и валидационную выборку\n",
    "X_train, X_test, y_train, y_test = train_test_split(\n",
    "    X, y, test_size=0.2, random_state=0, stratify=y\n",
    ")\n",
    "\n",
    "# обучите StandartScaler на обучающей выборке\n",
    "scaler = StandardScaler()\n",
    "scaler.fit(X_train)\n",
    "\n",
    "# Преобразуйте обучающий и валидационные наборы данных\n",
    "X_train_st = scaler.transform(X_train)\n",
    "X_test_st = scaler.transform(X_test)\n",
    "\n",
    "# зададим алгоритм для нашей модели\n",
    "model = LogisticRegression(solver='liblinear', random_state=0, class_weight = 'balanced', penalty = 'l1')\n",
    "\n",
    "# обучим модель\n",
    "model.fit(X_train_st, y_train)\n",
    "\n",
    "# воспользуемся уже обученной моделью, чтобы сделать прогнозы\n",
    "predictions = model.predict(X_test_st)\n",
    "probabilities = model.predict_proba(X_test_st)[:, 1]\n",
    "\n",
    "# выведем все изученные метрики\n",
    "print('Метрики для логистической регрессии')\n",
    "print('Accuracy: {:.2f}'.format(accuracy_score(y_test, predictions)))\n",
    "print('Precision: {:.2f}'.format(precision_score(y_test, predictions)))\n",
    "print('Recall: {:.2f}'.format(recall_score(y_test, predictions)))\n",
    "print('F1: {:.2f}'.format(f1_score(y_test, predictions)))\n",
    "print('ROC_AUC: {:.2f}\\n'.format(roc_auc_score(y_test, probabilities)))\n",
    "\n",
    "# зададим алгоритм для новой модели на основе алгоритма решающего дерева\n",
    "tree_model = DecisionTreeClassifier(random_state=0, class_weight='balanced')\n",
    "\n",
    "tree_model.fit(X_train_st, y_train)# обучите модель\n",
    " \n",
    "\n",
    "# воспользуемся уже обученной моделью, чтобы сделать прогнозы\n",
    "tree_predictions = tree_model.predict(X_test_st)\n",
    "tree_probabilities = tree_model.predict_proba(X_test_st)[:, 1]\n",
    "\n",
    "# выведем все изученные метрики\n",
    "print('Метрики для дерева принятия решения')\n",
    "print('Accuracy: {:.2f}'.format(accuracy_score(y_test, tree_predictions)))\n",
    "print('Precision: {:.2f}'.format(precision_score(y_test, tree_predictions)))\n",
    "print('Recall: {:.2f}'.format(recall_score(y_test, tree_predictions)))\n",
    "print('F1: {:.2f}'.format(f1_score(y_test, tree_predictions)))\n",
    "print('ROC_AUC: {:.2f}'.format(roc_auc_score(y_test, tree_probabilities)))"
   ]
  },
  {
   "cell_type": "code",
   "execution_count": 63,
   "id": "87f9a18d",
   "metadata": {
    "scrolled": true
   },
   "outputs": [
    {
     "data": {
      "text/plain": [
       "array([[ 0.21959967, -0.1104597 ,  0.55033542,  0.18439457,  0.55764826,\n",
       "        -0.17467202,  0.53185288, -0.09212944,  0.04795957, -0.07305814,\n",
       "         0.        , -0.02181155,  0.48059655]])"
      ]
     },
     "execution_count": 63,
     "metadata": {},
     "output_type": "execute_result"
    }
   ],
   "source": [
    "model.coef_"
   ]
  },
  {
   "cell_type": "code",
   "execution_count": 64,
   "id": "8cc2df11",
   "metadata": {},
   "outputs": [
    {
     "data": {
      "text/plain": [
       "array([0.19402286, 0.12660991, 0.04121067, 0.26959227, 0.08988874,\n",
       "       0.02817804, 0.05901499, 0.10957814, 0.0068328 , 0.01222934,\n",
       "       0.00825559, 0.01885117, 0.03573549])"
      ]
     },
     "execution_count": 64,
     "metadata": {},
     "output_type": "execute_result"
    }
   ],
   "source": [
    "tree_model.feature_importances_"
   ]
  },
  {
   "cell_type": "code",
   "execution_count": 65,
   "id": "39ce82e6",
   "metadata": {
    "scrolled": true
   },
   "outputs": [
    {
     "data": {
      "text/plain": [
       "Index(['score', 'age', 'equity', 'balance', 'products', 'credit_card',\n",
       "       'last_activity', 'est_salary', 'churn', 'city_Ростов', 'city_Рыбинск',\n",
       "       'city_Ярославль', 'gender_Ж', 'gender_М'],\n",
       "      dtype='object')"
      ]
     },
     "execution_count": 65,
     "metadata": {},
     "output_type": "execute_result"
    }
   ],
   "source": [
    "df_ml.columns"
   ]
  },
  {
   "cell_type": "code",
   "execution_count": 68,
   "id": "13700db5",
   "metadata": {},
   "outputs": [],
   "source": [
    "tree_model = DecisionTreeClassifier(criterion='gini', max_depth=2)\n",
    "tree_model.fit(X_train, y_train)\n",
    "y_pred = tree_model.predict(X_test)"
   ]
  },
  {
   "cell_type": "code",
   "execution_count": 69,
   "id": "873c83bd",
   "metadata": {},
   "outputs": [
    {
     "data": {
      "image/png": "[encoded data removed]",
      "text/plain": [
       "<Figure size 1440x1080 with 1 Axes>"
      ]
     },
     "metadata": {
      "needs_background": "light"
     },
     "output_type": "display_data"
    }
   ],
   "source": [
    "plt.figure(figsize = (20,15)) # задайте размер фигуры, чтобы получить крупное изображение\n",
    "tree.plot_tree(tree_model, filled=True, feature_names = X_train.columns, class_names = ['not fault', 'fault'])\n",
    "plt.show()"
   ]
  }
 ],
 "metadata": {
  "ExecuteTimeLog": [
   {
    "duration": 67,
    "start_time": "2022-09-15T17:16:41.094Z"
   },
   {
    "duration": 1643,
    "start_time": "2022-09-15T17:16:44.613Z"
   },
   {
    "duration": 0,
    "start_time": "2022-09-15T17:16:46.259Z"
   },
   {
    "duration": 0,
    "start_time": "2022-09-15T17:16:46.260Z"
   },
   {
    "duration": 0,
    "start_time": "2022-09-15T17:16:46.262Z"
   },
   {
    "duration": 0,
    "start_time": "2022-09-15T17:16:46.264Z"
   },
   {
    "duration": 0,
    "start_time": "2022-09-15T17:16:46.265Z"
   },
   {
    "duration": 0,
    "start_time": "2022-09-15T17:16:46.267Z"
   },
   {
    "duration": 0,
    "start_time": "2022-09-15T17:16:46.268Z"
   },
   {
    "duration": 0,
    "start_time": "2022-09-15T17:16:46.269Z"
   },
   {
    "duration": 0,
    "start_time": "2022-09-15T17:16:46.271Z"
   },
   {
    "duration": 0,
    "start_time": "2022-09-15T17:16:46.295Z"
   },
   {
    "duration": 0,
    "start_time": "2022-09-15T17:16:46.296Z"
   },
   {
    "duration": 0,
    "start_time": "2022-09-15T17:16:46.296Z"
   },
   {
    "duration": 0,
    "start_time": "2022-09-15T17:16:46.297Z"
   },
   {
    "duration": 0,
    "start_time": "2022-09-15T17:16:46.298Z"
   },
   {
    "duration": 0,
    "start_time": "2022-09-15T17:16:46.299Z"
   },
   {
    "duration": 0,
    "start_time": "2022-09-15T17:16:46.301Z"
   },
   {
    "duration": 0,
    "start_time": "2022-09-15T17:16:46.302Z"
   },
   {
    "duration": 10,
    "start_time": "2022-09-15T17:16:47.579Z"
   },
   {
    "duration": 103,
    "start_time": "2022-09-15T17:17:16.574Z"
   },
   {
    "duration": 5126,
    "start_time": "2022-09-15T17:17:31.117Z"
   },
   {
    "duration": 2476,
    "start_time": "2022-09-15T17:18:00.646Z"
   },
   {
    "duration": 66,
    "start_time": "2022-09-15T17:18:03.126Z"
   },
   {
    "duration": 1589,
    "start_time": "2022-09-15T17:18:03.194Z"
   },
   {
    "duration": 17,
    "start_time": "2022-09-15T17:18:04.785Z"
   },
   {
    "duration": 60,
    "start_time": "2022-09-15T17:18:04.805Z"
   },
   {
    "duration": 7,
    "start_time": "2022-09-15T17:18:04.868Z"
   },
   {
    "duration": 42,
    "start_time": "2022-09-15T17:18:04.877Z"
   },
   {
    "duration": 21,
    "start_time": "2022-09-15T17:18:04.926Z"
   },
   {
    "duration": 22,
    "start_time": "2022-09-15T17:18:04.949Z"
   },
   {
    "duration": 8,
    "start_time": "2022-09-15T17:18:04.973Z"
   },
   {
    "duration": 38,
    "start_time": "2022-09-15T17:18:04.983Z"
   },
   {
    "duration": 10,
    "start_time": "2022-09-15T17:18:05.023Z"
   },
   {
    "duration": 9,
    "start_time": "2022-09-15T17:18:05.035Z"
   },
   {
    "duration": 7,
    "start_time": "2022-09-15T17:18:05.047Z"
   },
   {
    "duration": 20,
    "start_time": "2022-09-15T17:18:05.056Z"
   },
   {
    "duration": 20,
    "start_time": "2022-09-15T17:18:05.102Z"
   },
   {
    "duration": 7,
    "start_time": "2022-09-15T17:18:05.127Z"
   },
   {
    "duration": 78,
    "start_time": "2022-09-15T17:18:05.136Z"
   },
   {
    "duration": 60,
    "start_time": "2022-09-15T17:18:05.217Z"
   },
   {
    "duration": 26,
    "start_time": "2022-09-15T17:18:05.518Z"
   },
   {
    "duration": 67,
    "start_time": "2022-09-15T17:18:11.819Z"
   },
   {
    "duration": 52,
    "start_time": "2022-09-15T17:18:16.306Z"
   },
   {
    "duration": 41,
    "start_time": "2022-09-15T17:19:20.845Z"
   },
   {
    "duration": 64,
    "start_time": "2022-09-15T17:19:26.614Z"
   },
   {
    "duration": 125,
    "start_time": "2022-09-15T17:19:46.823Z"
   },
   {
    "duration": 46,
    "start_time": "2022-09-15T17:20:10.534Z"
   },
   {
    "duration": 1028,
    "start_time": "2022-09-15T17:28:54.448Z"
   },
   {
    "duration": 13,
    "start_time": "2022-09-15T17:37:17.540Z"
   },
   {
    "duration": 16,
    "start_time": "2022-09-15T17:38:10.516Z"
   },
   {
    "duration": 20,
    "start_time": "2022-09-15T17:39:09.450Z"
   },
   {
    "duration": 2275,
    "start_time": "2022-09-15T17:46:12.297Z"
   },
   {
    "duration": 1321,
    "start_time": "2022-09-15T17:46:14.575Z"
   },
   {
    "duration": 1565,
    "start_time": "2022-09-15T17:46:15.898Z"
   },
   {
    "duration": 14,
    "start_time": "2022-09-15T17:46:17.464Z"
   },
   {
    "duration": 38,
    "start_time": "2022-09-15T17:46:17.480Z"
   },
   {
    "duration": 3,
    "start_time": "2022-09-15T17:46:17.520Z"
   },
   {
    "duration": 15,
    "start_time": "2022-09-15T17:46:17.525Z"
   },
   {
    "duration": 12,
    "start_time": "2022-09-15T17:46:17.542Z"
   },
   {
    "duration": 41,
    "start_time": "2022-09-15T17:46:17.556Z"
   },
   {
    "duration": 8,
    "start_time": "2022-09-15T17:46:17.599Z"
   },
   {
    "duration": 21,
    "start_time": "2022-09-15T17:46:17.609Z"
   },
   {
    "duration": 5,
    "start_time": "2022-09-15T17:46:17.632Z"
   },
   {
    "duration": 7,
    "start_time": "2022-09-15T17:46:17.638Z"
   },
   {
    "duration": 6,
    "start_time": "2022-09-15T17:46:17.648Z"
   },
   {
    "duration": 25,
    "start_time": "2022-09-15T17:46:17.699Z"
   },
   {
    "duration": 17,
    "start_time": "2022-09-15T17:46:17.726Z"
   },
   {
    "duration": 6,
    "start_time": "2022-09-15T17:46:17.745Z"
   },
   {
    "duration": 87,
    "start_time": "2022-09-15T17:46:17.753Z"
   },
   {
    "duration": 80,
    "start_time": "2022-09-15T17:46:17.841Z"
   },
   {
    "duration": 94,
    "start_time": "2022-09-15T17:46:17.923Z"
   },
   {
    "duration": 5,
    "start_time": "2022-09-15T17:46:18.019Z"
   },
   {
    "duration": 918,
    "start_time": "2022-09-15T17:46:18.026Z"
   },
   {
    "duration": 1221,
    "start_time": "2022-09-15T17:46:18.946Z"
   },
   {
    "duration": 1189,
    "start_time": "2022-09-15T17:46:20.169Z"
   },
   {
    "duration": 5,
    "start_time": "2022-09-15T17:46:21.359Z"
   },
   {
    "duration": 180,
    "start_time": "2022-09-15T17:46:21.366Z"
   },
   {
    "duration": 10,
    "start_time": "2022-09-15T17:46:21.548Z"
   },
   {
    "duration": 277,
    "start_time": "2022-09-15T17:46:21.560Z"
   },
   {
    "duration": 188,
    "start_time": "2022-09-15T17:46:21.838Z"
   },
   {
    "duration": 211,
    "start_time": "2022-09-15T17:46:22.028Z"
   },
   {
    "duration": 957,
    "start_time": "2022-09-15T17:46:22.241Z"
   },
   {
    "duration": 297,
    "start_time": "2022-09-15T17:46:23.200Z"
   },
   {
    "duration": 24,
    "start_time": "2022-09-15T17:46:23.499Z"
   },
   {
    "duration": 9,
    "start_time": "2022-09-15T17:46:23.525Z"
   },
   {
    "duration": 16,
    "start_time": "2022-09-15T17:46:23.535Z"
   },
   {
    "duration": 55,
    "start_time": "2022-09-15T17:46:23.553Z"
   },
   {
    "duration": 18,
    "start_time": "2022-09-15T17:46:23.610Z"
   },
   {
    "duration": 1346,
    "start_time": "2022-09-15T18:13:04.582Z"
   },
   {
    "duration": 2934,
    "start_time": "2022-09-15T18:14:17.604Z"
   },
   {
    "duration": 39,
    "start_time": "2022-09-15T18:14:23.991Z"
   },
   {
    "duration": 161,
    "start_time": "2022-09-15T18:23:58.196Z"
   },
   {
    "duration": 15,
    "start_time": "2022-09-15T18:25:03.049Z"
   },
   {
    "duration": 1329,
    "start_time": "2022-09-15T18:25:10.637Z"
   },
   {
    "duration": 13,
    "start_time": "2022-09-15T18:25:13.139Z"
   },
   {
    "duration": 35,
    "start_time": "2022-09-15T18:25:14.494Z"
   },
   {
    "duration": 19,
    "start_time": "2022-09-15T18:28:44.936Z"
   },
   {
    "duration": 43,
    "start_time": "2022-09-15T18:29:03.545Z"
   },
   {
    "duration": 15,
    "start_time": "2022-09-15T18:30:12.930Z"
   },
   {
    "duration": 23,
    "start_time": "2022-09-15T18:30:17.570Z"
   },
   {
    "duration": 59,
    "start_time": "2022-09-15T18:30:24.573Z"
   },
   {
    "duration": 41,
    "start_time": "2022-09-15T18:33:34.020Z"
   },
   {
    "duration": 27,
    "start_time": "2022-09-15T18:33:55.492Z"
   },
   {
    "duration": 46,
    "start_time": "2022-09-15T18:34:09.933Z"
   },
   {
    "duration": 22,
    "start_time": "2022-09-15T18:39:59.893Z"
   },
   {
    "duration": 3,
    "start_time": "2022-09-15T18:40:11.772Z"
   },
   {
    "duration": 102,
    "start_time": "2022-09-15T18:41:39.354Z"
   },
   {
    "duration": 289,
    "start_time": "2022-09-15T18:41:44.521Z"
   },
   {
    "duration": 297,
    "start_time": "2022-09-15T18:42:09.877Z"
   },
   {
    "duration": 44,
    "start_time": "2022-09-16T07:48:09.265Z"
   },
   {
    "duration": 1302,
    "start_time": "2022-09-16T07:48:15.637Z"
   },
   {
    "duration": 3531,
    "start_time": "2022-09-16T07:48:27.766Z"
   },
   {
    "duration": 37,
    "start_time": "2022-09-16T07:48:31.300Z"
   },
   {
    "duration": 4,
    "start_time": "2022-09-16T07:48:33.757Z"
   },
   {
    "duration": 14,
    "start_time": "2022-09-16T07:48:38.850Z"
   },
   {
    "duration": 1050,
    "start_time": "2022-09-16T07:48:44.329Z"
   },
   {
    "duration": 13,
    "start_time": "2022-09-16T07:48:45.381Z"
   },
   {
    "duration": 29,
    "start_time": "2022-09-16T07:48:45.432Z"
   },
   {
    "duration": 4,
    "start_time": "2022-09-16T07:48:46.925Z"
   },
   {
    "duration": 14,
    "start_time": "2022-09-16T07:48:47.324Z"
   },
   {
    "duration": 10,
    "start_time": "2022-09-16T07:48:47.570Z"
   },
   {
    "duration": 15,
    "start_time": "2022-09-16T07:48:47.771Z"
   },
   {
    "duration": 6,
    "start_time": "2022-09-16T07:48:48.035Z"
   },
   {
    "duration": 17,
    "start_time": "2022-09-16T07:48:48.252Z"
   },
   {
    "duration": 5,
    "start_time": "2022-09-16T07:48:48.445Z"
   },
   {
    "duration": 7,
    "start_time": "2022-09-16T07:48:48.693Z"
   },
   {
    "duration": 7,
    "start_time": "2022-09-16T07:48:49.727Z"
   },
   {
    "duration": 14,
    "start_time": "2022-09-16T07:48:50.153Z"
   },
   {
    "duration": 3,
    "start_time": "2022-09-16T07:48:50.623Z"
   },
   {
    "duration": 41,
    "start_time": "2022-09-16T07:48:51.027Z"
   },
   {
    "duration": 52,
    "start_time": "2022-09-16T07:48:51.416Z"
   },
   {
    "duration": 21,
    "start_time": "2022-09-16T07:48:55.428Z"
   },
   {
    "duration": 127,
    "start_time": "2022-09-16T07:49:17.026Z"
   },
   {
    "duration": 1289,
    "start_time": "2022-09-16T07:49:23.314Z"
   },
   {
    "duration": 23,
    "start_time": "2022-09-16T07:49:38.084Z"
   },
   {
    "duration": 14,
    "start_time": "2022-09-16T07:49:43.954Z"
   },
   {
    "duration": 19,
    "start_time": "2022-09-16T07:49:50.722Z"
   },
   {
    "duration": 12,
    "start_time": "2022-09-16T07:50:04.938Z"
   },
   {
    "duration": 12,
    "start_time": "2022-09-16T07:50:54.351Z"
   },
   {
    "duration": 46,
    "start_time": "2022-09-16T10:56:49.762Z"
   },
   {
    "duration": 2584,
    "start_time": "2022-09-16T10:56:56.607Z"
   },
   {
    "duration": 1317,
    "start_time": "2022-09-16T10:56:59.193Z"
   },
   {
    "duration": 1338,
    "start_time": "2022-09-16T10:57:01.126Z"
   },
   {
    "duration": 12,
    "start_time": "2022-09-16T10:57:02.466Z"
   },
   {
    "duration": 34,
    "start_time": "2022-09-16T10:57:02.479Z"
   },
   {
    "duration": 3,
    "start_time": "2022-09-16T10:57:03.996Z"
   },
   {
    "duration": 15,
    "start_time": "2022-09-16T10:57:04.441Z"
   },
   {
    "duration": 9,
    "start_time": "2022-09-16T10:57:04.914Z"
   },
   {
    "duration": 18,
    "start_time": "2022-09-16T10:57:05.450Z"
   },
   {
    "duration": 6,
    "start_time": "2022-09-16T10:57:05.963Z"
   },
   {
    "duration": 16,
    "start_time": "2022-09-16T10:57:06.782Z"
   },
   {
    "duration": 63,
    "start_time": "2022-09-16T10:57:07.413Z"
   },
   {
    "duration": 7,
    "start_time": "2022-09-16T10:57:08.043Z"
   },
   {
    "duration": 5,
    "start_time": "2022-09-16T10:57:20.925Z"
   },
   {
    "duration": 6,
    "start_time": "2022-09-16T10:57:23.295Z"
   },
   {
    "duration": 7,
    "start_time": "2022-09-16T10:57:24.867Z"
   },
   {
    "duration": 11,
    "start_time": "2022-09-16T10:57:26.923Z"
   },
   {
    "duration": 20,
    "start_time": "2022-09-16T10:57:35.126Z"
   },
   {
    "duration": 16,
    "start_time": "2022-09-16T10:57:42.135Z"
   },
   {
    "duration": 13,
    "start_time": "2022-09-16T10:57:44.343Z"
   },
   {
    "duration": 129,
    "start_time": "2022-09-16T11:02:47.931Z"
   },
   {
    "duration": 82,
    "start_time": "2022-09-16T11:03:03.804Z"
   },
   {
    "duration": 251,
    "start_time": "2022-09-16T11:03:08.632Z"
   },
   {
    "duration": 84,
    "start_time": "2022-09-16T11:03:12.679Z"
   },
   {
    "duration": 1893,
    "start_time": "2022-09-16T12:38:24.321Z"
   },
   {
    "duration": 3,
    "start_time": "2022-09-16T12:38:26.216Z"
   },
   {
    "duration": 1023,
    "start_time": "2022-09-16T12:38:27.088Z"
   },
   {
    "duration": 15,
    "start_time": "2022-09-16T12:38:28.113Z"
   },
   {
    "duration": 25,
    "start_time": "2022-09-16T12:38:28.129Z"
   },
   {
    "duration": 3,
    "start_time": "2022-09-16T12:38:28.156Z"
   },
   {
    "duration": 12,
    "start_time": "2022-09-16T12:38:28.316Z"
   },
   {
    "duration": 11,
    "start_time": "2022-09-16T12:38:28.517Z"
   },
   {
    "duration": 14,
    "start_time": "2022-09-16T12:38:28.740Z"
   },
   {
    "duration": 6,
    "start_time": "2022-09-16T12:38:28.958Z"
   },
   {
    "duration": 18,
    "start_time": "2022-09-16T12:38:29.278Z"
   },
   {
    "duration": 20,
    "start_time": "2022-09-16T12:38:29.525Z"
   },
   {
    "duration": 7,
    "start_time": "2022-09-16T12:38:29.758Z"
   },
   {
    "duration": 6,
    "start_time": "2022-09-16T12:38:30.223Z"
   },
   {
    "duration": 12,
    "start_time": "2022-09-16T12:38:30.439Z"
   },
   {
    "duration": 3,
    "start_time": "2022-09-16T12:38:30.635Z"
   },
   {
    "duration": 40,
    "start_time": "2022-09-16T12:38:30.864Z"
   },
   {
    "duration": 52,
    "start_time": "2022-09-16T12:38:31.129Z"
   },
   {
    "duration": 21,
    "start_time": "2022-09-16T12:38:36.190Z"
   },
   {
    "duration": 18,
    "start_time": "2022-09-16T12:39:37.740Z"
   },
   {
    "duration": 84,
    "start_time": "2022-09-16T12:39:45.696Z"
   },
   {
    "duration": 9,
    "start_time": "2022-09-16T12:40:01.739Z"
   },
   {
    "duration": 5,
    "start_time": "2022-09-16T12:40:08.320Z"
   },
   {
    "duration": 1441,
    "start_time": "2022-09-16T12:40:35.297Z"
   },
   {
    "duration": 247,
    "start_time": "2022-09-16T12:40:43.922Z"
   },
   {
    "duration": 1441,
    "start_time": "2022-09-16T12:40:52.736Z"
   },
   {
    "duration": 13,
    "start_time": "2022-09-16T12:43:27.200Z"
   },
   {
    "duration": 1455,
    "start_time": "2022-09-16T12:43:37.859Z"
   },
   {
    "duration": 1301,
    "start_time": "2022-09-16T12:43:58.567Z"
   },
   {
    "duration": 87,
    "start_time": "2022-09-16T12:44:26.916Z"
   },
   {
    "duration": 93,
    "start_time": "2022-09-16T12:44:38.517Z"
   },
   {
    "duration": 82,
    "start_time": "2022-09-16T12:44:43.646Z"
   },
   {
    "duration": 47,
    "start_time": "2022-09-16T15:21:49.408Z"
   },
   {
    "duration": 2991,
    "start_time": "2022-09-16T15:21:55.961Z"
   },
   {
    "duration": 1256,
    "start_time": "2022-09-16T15:21:58.954Z"
   },
   {
    "duration": 1498,
    "start_time": "2022-09-16T15:22:00.212Z"
   },
   {
    "duration": 11,
    "start_time": "2022-09-16T15:22:01.712Z"
   },
   {
    "duration": 25,
    "start_time": "2022-09-16T15:22:01.725Z"
   },
   {
    "duration": 4,
    "start_time": "2022-09-16T15:22:03.296Z"
   },
   {
    "duration": 13,
    "start_time": "2022-09-16T15:22:03.857Z"
   },
   {
    "duration": 12,
    "start_time": "2022-09-16T15:22:04.406Z"
   },
   {
    "duration": 14,
    "start_time": "2022-09-16T15:22:04.954Z"
   },
   {
    "duration": 6,
    "start_time": "2022-09-16T15:22:05.396Z"
   },
   {
    "duration": 19,
    "start_time": "2022-09-16T15:22:05.917Z"
   },
   {
    "duration": 18,
    "start_time": "2022-09-16T15:22:06.511Z"
   },
   {
    "duration": 7,
    "start_time": "2022-09-16T15:22:07.188Z"
   },
   {
    "duration": 8,
    "start_time": "2022-09-16T15:22:08.209Z"
   },
   {
    "duration": 20,
    "start_time": "2022-09-16T15:22:08.763Z"
   },
   {
    "duration": 4,
    "start_time": "2022-09-16T15:22:09.339Z"
   },
   {
    "duration": 43,
    "start_time": "2022-09-16T15:22:09.805Z"
   },
   {
    "duration": 57,
    "start_time": "2022-09-16T15:22:10.352Z"
   },
   {
    "duration": 111,
    "start_time": "2022-09-16T15:22:14.612Z"
   },
   {
    "duration": 94,
    "start_time": "2022-09-16T15:22:15.299Z"
   },
   {
    "duration": 153,
    "start_time": "2022-09-16T15:22:28.199Z"
   },
   {
    "duration": 148,
    "start_time": "2022-09-16T15:22:56.620Z"
   },
   {
    "duration": 167,
    "start_time": "2022-09-16T15:23:20.020Z"
   },
   {
    "duration": 167,
    "start_time": "2022-09-16T15:23:23.345Z"
   },
   {
    "duration": 32,
    "start_time": "2022-09-16T15:24:24.263Z"
   },
   {
    "duration": 3,
    "start_time": "2022-09-16T15:25:29.064Z"
   },
   {
    "duration": 19,
    "start_time": "2022-09-16T15:25:33.550Z"
   },
   {
    "duration": 1400,
    "start_time": "2022-09-16T15:26:20.972Z"
   },
   {
    "duration": 446,
    "start_time": "2022-09-16T15:28:14.820Z"
   },
   {
    "duration": 24,
    "start_time": "2022-09-16T15:28:31.660Z"
   },
   {
    "duration": 93,
    "start_time": "2022-09-16T15:29:01.523Z"
   },
   {
    "duration": 98,
    "start_time": "2022-09-16T15:29:19.620Z"
   },
   {
    "duration": 105,
    "start_time": "2022-09-16T15:29:59.728Z"
   },
   {
    "duration": 97,
    "start_time": "2022-09-16T15:30:04.791Z"
   },
   {
    "duration": 94,
    "start_time": "2022-09-16T15:30:09.028Z"
   },
   {
    "duration": 91,
    "start_time": "2022-09-16T15:30:13.744Z"
   },
   {
    "duration": 95,
    "start_time": "2022-09-16T15:30:19.291Z"
   },
   {
    "duration": 88,
    "start_time": "2022-09-16T15:30:28.475Z"
   },
   {
    "duration": 85,
    "start_time": "2022-09-16T15:30:39.037Z"
   },
   {
    "duration": 87,
    "start_time": "2022-09-16T15:30:44.513Z"
   },
   {
    "duration": 89,
    "start_time": "2022-09-16T15:30:48.675Z"
   },
   {
    "duration": 117,
    "start_time": "2022-09-16T15:30:51.874Z"
   },
   {
    "duration": 91,
    "start_time": "2022-09-16T15:31:00.920Z"
   },
   {
    "duration": 180,
    "start_time": "2022-09-16T15:31:06.968Z"
   },
   {
    "duration": 164,
    "start_time": "2022-09-16T15:31:15.747Z"
   },
   {
    "duration": 157,
    "start_time": "2022-09-16T15:31:29.032Z"
   },
   {
    "duration": 152,
    "start_time": "2022-09-16T15:31:31.502Z"
   },
   {
    "duration": 172,
    "start_time": "2022-09-16T15:31:35.745Z"
   },
   {
    "duration": 13,
    "start_time": "2022-09-16T15:31:57.913Z"
   },
   {
    "duration": 145,
    "start_time": "2022-09-16T15:32:11.472Z"
   },
   {
    "duration": 5,
    "start_time": "2022-09-16T15:32:19.502Z"
   },
   {
    "duration": 96,
    "start_time": "2022-09-16T15:32:39.798Z"
   },
   {
    "duration": 92,
    "start_time": "2022-09-16T15:32:59.209Z"
   },
   {
    "duration": 86,
    "start_time": "2022-09-16T15:33:02.536Z"
   },
   {
    "duration": 92,
    "start_time": "2022-09-16T15:33:12.454Z"
   },
   {
    "duration": 99,
    "start_time": "2022-09-16T15:33:16.345Z"
   },
   {
    "duration": 198,
    "start_time": "2022-09-16T15:33:24.248Z"
   },
   {
    "duration": 284,
    "start_time": "2022-09-16T15:33:29.664Z"
   },
   {
    "duration": 190,
    "start_time": "2022-09-16T15:34:57.840Z"
   },
   {
    "duration": 145,
    "start_time": "2022-09-16T15:47:28.176Z"
   },
   {
    "duration": 176,
    "start_time": "2022-09-16T15:47:37.623Z"
   },
   {
    "duration": 165,
    "start_time": "2022-09-16T15:47:51.299Z"
   },
   {
    "duration": 146,
    "start_time": "2022-09-16T15:48:01.300Z"
   },
   {
    "duration": 4347,
    "start_time": "2022-09-17T12:10:57.707Z"
   },
   {
    "duration": 1481,
    "start_time": "2022-09-17T12:11:02.057Z"
   },
   {
    "duration": 1318,
    "start_time": "2022-09-17T12:11:03.540Z"
   },
   {
    "duration": 16,
    "start_time": "2022-09-17T12:11:04.860Z"
   },
   {
    "duration": 32,
    "start_time": "2022-09-17T12:11:04.877Z"
   },
   {
    "duration": 3,
    "start_time": "2022-09-17T12:11:07.277Z"
   },
   {
    "duration": 14,
    "start_time": "2022-09-17T12:11:07.856Z"
   },
   {
    "duration": 11,
    "start_time": "2022-09-17T12:11:08.689Z"
   },
   {
    "duration": 16,
    "start_time": "2022-09-17T12:11:09.574Z"
   },
   {
    "duration": 6,
    "start_time": "2022-09-17T12:11:10.135Z"
   },
   {
    "duration": 22,
    "start_time": "2022-09-17T12:11:10.815Z"
   },
   {
    "duration": 21,
    "start_time": "2022-09-17T12:11:11.299Z"
   },
   {
    "duration": 7,
    "start_time": "2022-09-17T12:11:11.903Z"
   },
   {
    "duration": 6,
    "start_time": "2022-09-17T12:11:12.941Z"
   },
   {
    "duration": 14,
    "start_time": "2022-09-17T12:11:13.502Z"
   },
   {
    "duration": 4,
    "start_time": "2022-09-17T12:11:14.156Z"
   },
   {
    "duration": 45,
    "start_time": "2022-09-17T12:11:14.711Z"
   },
   {
    "duration": 57,
    "start_time": "2022-09-17T12:11:15.372Z"
   },
   {
    "duration": 373,
    "start_time": "2022-09-17T12:11:19.322Z"
   },
   {
    "duration": 108,
    "start_time": "2022-09-17T12:11:52.462Z"
   },
   {
    "duration": 95,
    "start_time": "2022-09-17T12:12:04.653Z"
   },
   {
    "duration": 363,
    "start_time": "2022-09-17T12:12:07.660Z"
   },
   {
    "duration": 449,
    "start_time": "2022-09-17T12:12:44.783Z"
   },
   {
    "duration": 203,
    "start_time": "2022-09-17T12:12:51.330Z"
   },
   {
    "duration": 201,
    "start_time": "2022-09-17T12:13:12.445Z"
   },
   {
    "duration": 2888,
    "start_time": "2022-09-18T10:41:56.018Z"
   },
   {
    "duration": 1295,
    "start_time": "2022-09-18T10:41:58.909Z"
   },
   {
    "duration": 1238,
    "start_time": "2022-09-18T10:42:00.206Z"
   },
   {
    "duration": 11,
    "start_time": "2022-09-18T10:42:01.447Z"
   },
   {
    "duration": 32,
    "start_time": "2022-09-18T10:42:01.459Z"
   },
   {
    "duration": 3,
    "start_time": "2022-09-18T10:42:01.493Z"
   },
   {
    "duration": 21,
    "start_time": "2022-09-18T10:42:01.497Z"
   },
   {
    "duration": 15,
    "start_time": "2022-09-18T10:42:01.520Z"
   },
   {
    "duration": 25,
    "start_time": "2022-09-18T10:42:01.536Z"
   },
   {
    "duration": 5,
    "start_time": "2022-09-18T10:42:01.563Z"
   },
   {
    "duration": 21,
    "start_time": "2022-09-18T10:42:01.569Z"
   },
   {
    "duration": 35,
    "start_time": "2022-09-18T10:42:01.591Z"
   },
   {
    "duration": 5,
    "start_time": "2022-09-18T10:42:01.627Z"
   },
   {
    "duration": 10,
    "start_time": "2022-09-18T10:42:01.634Z"
   },
   {
    "duration": 15,
    "start_time": "2022-09-18T10:42:01.645Z"
   },
   {
    "duration": 11,
    "start_time": "2022-09-18T10:42:01.662Z"
   },
   {
    "duration": 59,
    "start_time": "2022-09-18T10:42:01.675Z"
   },
   {
    "duration": 72,
    "start_time": "2022-09-18T10:42:01.735Z"
   },
   {
    "duration": 326,
    "start_time": "2022-09-18T10:42:05.103Z"
   },
   {
    "duration": 374,
    "start_time": "2022-09-18T10:42:10.803Z"
   },
   {
    "duration": 440,
    "start_time": "2022-09-18T10:43:06.935Z"
   },
   {
    "duration": 377,
    "start_time": "2022-09-18T10:43:15.386Z"
   },
   {
    "duration": 379,
    "start_time": "2022-09-18T10:43:21.435Z"
   },
   {
    "duration": 21,
    "start_time": "2022-09-18T10:44:32.411Z"
   },
   {
    "duration": 43,
    "start_time": "2022-09-18T10:45:49.674Z"
   },
   {
    "duration": 18,
    "start_time": "2022-09-18T10:45:55.916Z"
   },
   {
    "duration": 211,
    "start_time": "2022-09-18T10:46:21.800Z"
   },
   {
    "duration": 258,
    "start_time": "2022-09-18T10:46:32.797Z"
   },
   {
    "duration": 18,
    "start_time": "2022-09-18T10:46:59.018Z"
   },
   {
    "duration": 105,
    "start_time": "2022-09-18T10:47:32.266Z"
   },
   {
    "duration": 101,
    "start_time": "2022-09-18T10:48:46.953Z"
   },
   {
    "duration": 119,
    "start_time": "2022-09-18T10:53:07.148Z"
   },
   {
    "duration": 58,
    "start_time": "2022-09-18T16:33:32.591Z"
   },
   {
    "duration": 3081,
    "start_time": "2022-09-18T16:33:40.228Z"
   },
   {
    "duration": 1388,
    "start_time": "2022-09-18T16:33:43.311Z"
   },
   {
    "duration": 990,
    "start_time": "2022-09-18T16:33:44.701Z"
   },
   {
    "duration": 14,
    "start_time": "2022-09-18T16:33:45.693Z"
   },
   {
    "duration": 36,
    "start_time": "2022-09-18T16:33:45.708Z"
   },
   {
    "duration": 3,
    "start_time": "2022-09-18T16:33:45.746Z"
   },
   {
    "duration": 20,
    "start_time": "2022-09-18T16:33:45.751Z"
   },
   {
    "duration": 24,
    "start_time": "2022-09-18T16:33:45.772Z"
   },
   {
    "duration": 16,
    "start_time": "2022-09-18T16:33:45.798Z"
   },
   {
    "duration": 7,
    "start_time": "2022-09-18T16:33:45.817Z"
   },
   {
    "duration": 37,
    "start_time": "2022-09-18T16:33:45.825Z"
   },
   {
    "duration": 22,
    "start_time": "2022-09-18T16:33:46.479Z"
   },
   {
    "duration": 10,
    "start_time": "2022-09-18T16:33:47.177Z"
   },
   {
    "duration": 9,
    "start_time": "2022-09-18T16:33:48.094Z"
   },
   {
    "duration": 14,
    "start_time": "2022-09-18T16:33:48.347Z"
   },
   {
    "duration": 4,
    "start_time": "2022-09-18T16:33:48.554Z"
   },
   {
    "duration": 43,
    "start_time": "2022-09-18T16:33:48.783Z"
   },
   {
    "duration": 67,
    "start_time": "2022-09-18T16:33:48.995Z"
   },
   {
    "duration": 413,
    "start_time": "2022-09-18T16:33:51.440Z"
   },
   {
    "duration": 413,
    "start_time": "2022-09-18T16:33:52.043Z"
   },
   {
    "duration": 289,
    "start_time": "2022-09-18T16:33:53.178Z"
   },
   {
    "duration": 53,
    "start_time": "2022-09-18T16:33:54.133Z"
   },
   {
    "duration": 50,
    "start_time": "2022-09-18T16:33:54.845Z"
   },
   {
    "duration": 158,
    "start_time": "2022-09-18T16:33:56.183Z"
   },
   {
    "duration": 20,
    "start_time": "2022-09-18T16:33:57.481Z"
   },
   {
    "duration": 84,
    "start_time": "2022-09-18T16:34:51.018Z"
   },
   {
    "duration": 202,
    "start_time": "2022-09-18T16:34:54.183Z"
   },
   {
    "duration": 118,
    "start_time": "2022-09-18T16:35:09.213Z"
   },
   {
    "duration": 74,
    "start_time": "2022-09-18T16:35:14.881Z"
   },
   {
    "duration": 226,
    "start_time": "2022-09-18T16:35:22.644Z"
   },
   {
    "duration": 223,
    "start_time": "2022-09-18T16:35:33.146Z"
   },
   {
    "duration": 173,
    "start_time": "2022-09-18T16:37:14.984Z"
   },
   {
    "duration": 179,
    "start_time": "2022-09-18T16:37:19.386Z"
   },
   {
    "duration": 159,
    "start_time": "2022-09-18T16:38:25.379Z"
   },
   {
    "duration": 199,
    "start_time": "2022-09-18T16:38:29.388Z"
   },
   {
    "duration": 296,
    "start_time": "2022-09-18T16:40:01.284Z"
   },
   {
    "duration": 157,
    "start_time": "2022-09-18T16:40:34.383Z"
   },
   {
    "duration": 126,
    "start_time": "2022-09-18T16:40:39.881Z"
   },
   {
    "duration": 16,
    "start_time": "2022-09-18T16:40:52.139Z"
   },
   {
    "duration": 181,
    "start_time": "2022-09-18T16:40:56.639Z"
   },
   {
    "duration": 347,
    "start_time": "2022-09-18T16:41:04.324Z"
   },
   {
    "duration": 262,
    "start_time": "2022-09-18T16:41:11.510Z"
   },
   {
    "duration": 50,
    "start_time": "2022-09-18T16:44:23.395Z"
   },
   {
    "duration": 75,
    "start_time": "2022-09-18T16:44:38.211Z"
   },
   {
    "duration": 213,
    "start_time": "2022-09-18T16:44:47.969Z"
   },
   {
    "duration": 307,
    "start_time": "2022-09-18T16:44:55.077Z"
   },
   {
    "duration": 155,
    "start_time": "2022-09-18T16:45:32.325Z"
   },
   {
    "duration": 258,
    "start_time": "2022-09-18T16:45:34.826Z"
   },
   {
    "duration": 166,
    "start_time": "2022-09-18T16:45:42.832Z"
   },
   {
    "duration": 211,
    "start_time": "2022-09-18T16:45:48.255Z"
   },
   {
    "duration": 223,
    "start_time": "2022-09-18T16:46:09.410Z"
   },
   {
    "duration": 223,
    "start_time": "2022-09-18T16:46:15.739Z"
   },
   {
    "duration": 35,
    "start_time": "2022-09-18T16:47:03.222Z"
   },
   {
    "duration": 208,
    "start_time": "2022-09-18T16:47:22.527Z"
   },
   {
    "duration": 27,
    "start_time": "2022-09-18T16:47:26.545Z"
   },
   {
    "duration": 281,
    "start_time": "2022-09-18T16:47:36.310Z"
   },
   {
    "duration": 28,
    "start_time": "2022-09-18T16:47:44.280Z"
   },
   {
    "duration": 20,
    "start_time": "2022-09-18T16:47:46.845Z"
   },
   {
    "duration": 224,
    "start_time": "2022-09-18T16:47:48.646Z"
   },
   {
    "duration": 238,
    "start_time": "2022-09-18T16:47:53.948Z"
   },
   {
    "duration": 50,
    "start_time": "2022-09-18T16:54:56.040Z"
   },
   {
    "duration": 2213,
    "start_time": "2022-09-18T16:56:06.081Z"
   },
   {
    "duration": 1178,
    "start_time": "2022-09-18T16:56:08.296Z"
   },
   {
    "duration": 1117,
    "start_time": "2022-09-18T16:56:09.475Z"
   },
   {
    "duration": 13,
    "start_time": "2022-09-18T16:56:10.595Z"
   },
   {
    "duration": 3,
    "start_time": "2022-09-18T16:56:10.610Z"
   },
   {
    "duration": 20,
    "start_time": "2022-09-18T16:56:10.615Z"
   },
   {
    "duration": 10,
    "start_time": "2022-09-18T16:56:10.636Z"
   },
   {
    "duration": 27,
    "start_time": "2022-09-18T16:56:10.650Z"
   },
   {
    "duration": 6,
    "start_time": "2022-09-18T16:56:10.678Z"
   },
   {
    "duration": 22,
    "start_time": "2022-09-18T16:56:10.686Z"
   },
   {
    "duration": 20,
    "start_time": "2022-09-18T16:56:10.710Z"
   },
   {
    "duration": 18,
    "start_time": "2022-09-18T16:56:10.732Z"
   },
   {
    "duration": 8,
    "start_time": "2022-09-18T16:56:10.752Z"
   },
   {
    "duration": 15,
    "start_time": "2022-09-18T16:56:10.762Z"
   },
   {
    "duration": 3,
    "start_time": "2022-09-18T16:56:10.779Z"
   },
   {
    "duration": 45,
    "start_time": "2022-09-18T16:56:10.784Z"
   },
   {
    "duration": 58,
    "start_time": "2022-09-18T16:56:10.846Z"
   },
   {
    "duration": 426,
    "start_time": "2022-09-18T16:56:12.008Z"
   },
   {
    "duration": 480,
    "start_time": "2022-09-18T16:56:12.436Z"
   },
   {
    "duration": 340,
    "start_time": "2022-09-18T16:56:12.919Z"
   },
   {
    "duration": 42,
    "start_time": "2022-09-18T16:56:13.492Z"
   },
   {
    "duration": 48,
    "start_time": "2022-09-18T16:56:14.426Z"
   },
   {
    "duration": 121,
    "start_time": "2022-09-18T16:56:15.875Z"
   },
   {
    "duration": 215,
    "start_time": "2022-09-18T16:56:17.383Z"
   },
   {
    "duration": 190,
    "start_time": "2022-09-18T16:56:19.047Z"
   },
   {
    "duration": 24,
    "start_time": "2022-09-18T16:56:33.608Z"
   },
   {
    "duration": 119,
    "start_time": "2022-09-18T16:57:17.179Z"
   },
   {
    "duration": 17,
    "start_time": "2022-09-18T16:57:27.839Z"
   },
   {
    "duration": 18,
    "start_time": "2022-09-18T16:57:33.252Z"
   },
   {
    "duration": 14,
    "start_time": "2022-09-18T16:58:54.703Z"
   },
   {
    "duration": 14,
    "start_time": "2022-09-18T16:59:05.174Z"
   },
   {
    "duration": 31,
    "start_time": "2022-09-18T16:59:09.660Z"
   },
   {
    "duration": 48,
    "start_time": "2022-09-18T16:59:30.130Z"
   },
   {
    "duration": 23,
    "start_time": "2022-09-18T16:59:35.206Z"
   },
   {
    "duration": 17,
    "start_time": "2022-09-18T16:59:41.462Z"
   },
   {
    "duration": 21,
    "start_time": "2022-09-18T16:59:55.580Z"
   },
   {
    "duration": 17,
    "start_time": "2022-09-18T17:00:01.175Z"
   },
   {
    "duration": 14,
    "start_time": "2022-09-18T17:00:04.056Z"
   },
   {
    "duration": 16,
    "start_time": "2022-09-18T17:00:18.179Z"
   },
   {
    "duration": 21,
    "start_time": "2022-09-18T17:00:25.713Z"
   },
   {
    "duration": 15,
    "start_time": "2022-09-18T17:45:00.175Z"
   },
   {
    "duration": 25,
    "start_time": "2022-09-18T17:45:26.700Z"
   },
   {
    "duration": 13,
    "start_time": "2022-09-18T17:45:59.183Z"
   },
   {
    "duration": 15,
    "start_time": "2022-09-18T17:46:38.847Z"
   },
   {
    "duration": 17,
    "start_time": "2022-09-18T17:46:41.625Z"
   },
   {
    "duration": 2146,
    "start_time": "2022-09-18T17:47:32.714Z"
   },
   {
    "duration": 3,
    "start_time": "2022-09-18T17:47:34.863Z"
   },
   {
    "duration": 1432,
    "start_time": "2022-09-18T17:47:34.868Z"
   },
   {
    "duration": 17,
    "start_time": "2022-09-18T17:47:36.302Z"
   },
   {
    "duration": 6,
    "start_time": "2022-09-18T17:47:36.321Z"
   },
   {
    "duration": 30,
    "start_time": "2022-09-18T17:47:36.330Z"
   },
   {
    "duration": 25,
    "start_time": "2022-09-18T17:47:36.364Z"
   },
   {
    "duration": 28,
    "start_time": "2022-09-18T17:47:36.391Z"
   },
   {
    "duration": 33,
    "start_time": "2022-09-18T17:47:36.421Z"
   },
   {
    "duration": 51,
    "start_time": "2022-09-18T17:47:36.457Z"
   },
   {
    "duration": 45,
    "start_time": "2022-09-18T17:47:36.510Z"
   },
   {
    "duration": 9,
    "start_time": "2022-09-18T17:47:36.561Z"
   },
   {
    "duration": 23,
    "start_time": "2022-09-18T17:47:36.579Z"
   },
   {
    "duration": 13,
    "start_time": "2022-09-18T17:47:36.604Z"
   },
   {
    "duration": 8,
    "start_time": "2022-09-18T17:47:36.619Z"
   },
   {
    "duration": 41,
    "start_time": "2022-09-18T17:47:36.629Z"
   },
   {
    "duration": 50,
    "start_time": "2022-09-18T17:47:36.671Z"
   },
   {
    "duration": 416,
    "start_time": "2022-09-18T17:47:36.879Z"
   },
   {
    "duration": 577,
    "start_time": "2022-09-18T17:47:37.297Z"
   },
   {
    "duration": 264,
    "start_time": "2022-09-18T17:47:37.876Z"
   },
   {
    "duration": 50,
    "start_time": "2022-09-18T17:47:38.147Z"
   },
   {
    "duration": 40,
    "start_time": "2022-09-18T17:47:38.286Z"
   },
   {
    "duration": 110,
    "start_time": "2022-09-18T17:47:38.592Z"
   },
   {
    "duration": 225,
    "start_time": "2022-09-18T17:47:38.914Z"
   },
   {
    "duration": 185,
    "start_time": "2022-09-18T17:47:39.301Z"
   },
   {
    "duration": 19,
    "start_time": "2022-09-18T17:47:39.894Z"
   },
   {
    "duration": 18,
    "start_time": "2022-09-18T17:47:40.091Z"
   },
   {
    "duration": 76,
    "start_time": "2022-09-18T17:47:40.986Z"
   },
   {
    "duration": 974,
    "start_time": "2022-09-18T17:47:41.208Z"
   },
   {
    "duration": 1507,
    "start_time": "2022-09-18T17:47:42.188Z"
   },
   {
    "duration": 1611,
    "start_time": "2022-09-18T17:47:43.697Z"
   },
   {
    "duration": 138,
    "start_time": "2022-09-18T17:51:13.998Z"
   },
   {
    "duration": 1228,
    "start_time": "2022-09-18T17:51:21.499Z"
   },
   {
    "duration": 8,
    "start_time": "2022-09-18T17:54:29.979Z"
   },
   {
    "duration": 113,
    "start_time": "2022-09-18T17:54:44.580Z"
   },
   {
    "duration": 8,
    "start_time": "2022-09-18T17:55:11.843Z"
   },
   {
    "duration": 95,
    "start_time": "2022-09-18T17:55:38.794Z"
   },
   {
    "duration": 80,
    "start_time": "2022-09-18T17:55:52.060Z"
   },
   {
    "duration": 85,
    "start_time": "2022-09-18T17:55:55.607Z"
   },
   {
    "duration": 31,
    "start_time": "2022-09-18T17:56:27.741Z"
   },
   {
    "duration": 21,
    "start_time": "2022-09-18T17:56:35.392Z"
   },
   {
    "duration": 9,
    "start_time": "2022-09-18T17:56:51.597Z"
   },
   {
    "duration": 33,
    "start_time": "2022-09-18T17:57:00.149Z"
   },
   {
    "duration": 22,
    "start_time": "2022-09-18T17:57:07.391Z"
   },
   {
    "duration": 21,
    "start_time": "2022-09-18T17:57:10.216Z"
   },
   {
    "duration": 7,
    "start_time": "2022-09-18T17:57:38.143Z"
   },
   {
    "duration": 7,
    "start_time": "2022-09-18T17:57:45.185Z"
   },
   {
    "duration": 6,
    "start_time": "2022-09-18T17:58:22.190Z"
   },
   {
    "duration": 7,
    "start_time": "2022-09-18T17:59:25.789Z"
   },
   {
    "duration": 7,
    "start_time": "2022-09-18T17:59:40.749Z"
   },
   {
    "duration": 70,
    "start_time": "2022-09-18T17:59:58.895Z"
   },
   {
    "duration": 85,
    "start_time": "2022-09-18T18:00:05.856Z"
   },
   {
    "duration": 49,
    "start_time": "2022-09-18T18:00:11.238Z"
   },
   {
    "duration": 11,
    "start_time": "2022-09-18T18:00:27.890Z"
   },
   {
    "duration": 20,
    "start_time": "2022-09-18T18:02:31.706Z"
   },
   {
    "duration": 15,
    "start_time": "2022-09-18T18:02:38.362Z"
   },
   {
    "duration": 8,
    "start_time": "2022-09-18T18:02:54.674Z"
   },
   {
    "duration": 8,
    "start_time": "2022-09-18T18:03:56.698Z"
   },
   {
    "duration": 7,
    "start_time": "2022-09-18T18:04:13.479Z"
   },
   {
    "duration": 7,
    "start_time": "2022-09-18T18:04:32.455Z"
   },
   {
    "duration": 7,
    "start_time": "2022-09-18T18:04:37.791Z"
   },
   {
    "duration": 45,
    "start_time": "2022-09-18T19:01:42.267Z"
   },
   {
    "duration": 357,
    "start_time": "2022-09-18T19:06:01.152Z"
   },
   {
    "duration": 45,
    "start_time": "2022-09-18T19:29:35.869Z"
   },
   {
    "duration": 21,
    "start_time": "2022-09-18T19:29:41.841Z"
   },
   {
    "duration": 20,
    "start_time": "2022-09-18T19:32:48.722Z"
   },
   {
    "duration": 23,
    "start_time": "2022-09-18T19:32:57.904Z"
   },
   {
    "duration": 85,
    "start_time": "2022-09-19T19:53:58.647Z"
   },
   {
    "duration": 39,
    "start_time": "2022-09-19T19:56:52.576Z"
   },
   {
    "duration": 2624,
    "start_time": "2022-09-19T19:56:56.650Z"
   },
   {
    "duration": 1190,
    "start_time": "2022-09-19T19:56:59.276Z"
   },
   {
    "duration": 1279,
    "start_time": "2022-09-19T19:57:00.467Z"
   },
   {
    "duration": 14,
    "start_time": "2022-09-19T19:57:01.748Z"
   },
   {
    "duration": 16,
    "start_time": "2022-09-19T19:57:01.764Z"
   },
   {
    "duration": 27,
    "start_time": "2022-09-19T19:57:01.781Z"
   },
   {
    "duration": 19,
    "start_time": "2022-09-19T19:57:01.809Z"
   },
   {
    "duration": 16,
    "start_time": "2022-09-19T19:57:01.829Z"
   },
   {
    "duration": 5,
    "start_time": "2022-09-19T19:57:01.846Z"
   },
   {
    "duration": 26,
    "start_time": "2022-09-19T19:57:01.852Z"
   },
   {
    "duration": 33,
    "start_time": "2022-09-19T19:57:01.879Z"
   },
   {
    "duration": 6,
    "start_time": "2022-09-19T19:57:01.913Z"
   },
   {
    "duration": 7,
    "start_time": "2022-09-19T19:57:01.921Z"
   },
   {
    "duration": 14,
    "start_time": "2022-09-19T19:57:01.930Z"
   },
   {
    "duration": 60,
    "start_time": "2022-09-19T19:57:01.946Z"
   },
   {
    "duration": 39,
    "start_time": "2022-09-19T19:57:02.008Z"
   },
   {
    "duration": 4,
    "start_time": "2022-09-19T19:57:02.048Z"
   },
   {
    "duration": 456,
    "start_time": "2022-09-19T19:57:02.054Z"
   },
   {
    "duration": 429,
    "start_time": "2022-09-19T19:57:24.177Z"
   },
   {
    "duration": 19,
    "start_time": "2022-09-19T19:57:35.863Z"
   },
   {
    "duration": 600,
    "start_time": "2022-09-19T19:57:47.438Z"
   },
   {
    "duration": 427,
    "start_time": "2022-09-19T20:00:01.551Z"
   },
   {
    "duration": 82,
    "start_time": "2022-09-19T20:00:53.838Z"
   },
   {
    "duration": 6958,
    "start_time": "2022-09-19T20:00:58.056Z"
   },
   {
    "duration": 631,
    "start_time": "2022-09-19T20:01:21.446Z"
   },
   {
    "duration": 758,
    "start_time": "2022-09-19T20:07:14.061Z"
   },
   {
    "duration": 842,
    "start_time": "2022-09-19T20:07:23.189Z"
   },
   {
    "duration": 907,
    "start_time": "2022-09-19T20:07:29.876Z"
   },
   {
    "duration": 804,
    "start_time": "2022-09-19T20:07:57.227Z"
   },
   {
    "duration": 209,
    "start_time": "2022-09-19T20:09:49.073Z"
   },
   {
    "duration": 220,
    "start_time": "2022-09-19T20:11:13.252Z"
   },
   {
    "duration": 189,
    "start_time": "2022-09-19T20:11:18.538Z"
   },
   {
    "duration": 81,
    "start_time": "2022-09-19T20:15:45.395Z"
   },
   {
    "duration": 55,
    "start_time": "2022-09-20T04:47:42.007Z"
   },
   {
    "duration": 3056,
    "start_time": "2022-09-20T04:53:40.727Z"
   },
   {
    "duration": 1396,
    "start_time": "2022-09-20T04:53:43.785Z"
   },
   {
    "duration": 1479,
    "start_time": "2022-09-20T04:53:45.182Z"
   },
   {
    "duration": 13,
    "start_time": "2022-09-20T04:53:46.664Z"
   },
   {
    "duration": 4,
    "start_time": "2022-09-20T04:53:46.678Z"
   },
   {
    "duration": 21,
    "start_time": "2022-09-20T04:53:46.684Z"
   },
   {
    "duration": 13,
    "start_time": "2022-09-20T04:53:46.707Z"
   },
   {
    "duration": 23,
    "start_time": "2022-09-20T04:53:46.722Z"
   },
   {
    "duration": 6,
    "start_time": "2022-09-20T04:53:46.747Z"
   },
   {
    "duration": 18,
    "start_time": "2022-09-20T04:53:47.026Z"
   },
   {
    "duration": 19,
    "start_time": "2022-09-20T04:53:48.337Z"
   },
   {
    "duration": 6,
    "start_time": "2022-09-20T04:53:50.196Z"
   },
   {
    "duration": 15,
    "start_time": "2022-09-20T04:53:54.204Z"
   },
   {
    "duration": 15,
    "start_time": "2022-09-20T04:53:54.833Z"
   },
   {
    "duration": 43,
    "start_time": "2022-09-20T04:53:55.687Z"
   },
   {
    "duration": 35,
    "start_time": "2022-09-20T04:53:56.223Z"
   },
   {
    "duration": 5,
    "start_time": "2022-09-20T04:54:00.771Z"
   },
   {
    "duration": 11,
    "start_time": "2022-09-20T04:54:20.390Z"
   },
   {
    "duration": 12,
    "start_time": "2022-09-20T04:54:45.726Z"
   },
   {
    "duration": 76,
    "start_time": "2022-09-20T04:55:05.085Z"
   },
   {
    "duration": 13,
    "start_time": "2022-09-20T04:55:21.340Z"
   },
   {
    "duration": 26,
    "start_time": "2022-09-20T04:55:53.825Z"
   },
   {
    "duration": 166,
    "start_time": "2022-09-20T04:57:32.461Z"
   },
   {
    "duration": 123,
    "start_time": "2022-09-20T04:57:38.329Z"
   },
   {
    "duration": 13,
    "start_time": "2022-09-20T04:57:49.464Z"
   },
   {
    "duration": 1021,
    "start_time": "2022-09-20T04:57:57.926Z"
   },
   {
    "duration": 171,
    "start_time": "2022-09-20T04:58:14.493Z"
   },
   {
    "duration": 219,
    "start_time": "2022-09-20T04:58:18.926Z"
   },
   {
    "duration": 275,
    "start_time": "2022-09-20T04:58:22.749Z"
   },
   {
    "duration": 320,
    "start_time": "2022-09-20T04:59:11.730Z"
   },
   {
    "duration": 279,
    "start_time": "2022-09-20T04:59:21.076Z"
   },
   {
    "duration": 10,
    "start_time": "2022-09-20T05:02:48.389Z"
   },
   {
    "duration": 9,
    "start_time": "2022-09-20T05:03:02.964Z"
   },
   {
    "duration": 20,
    "start_time": "2022-09-20T05:03:17.603Z"
   },
   {
    "duration": 10,
    "start_time": "2022-09-20T05:03:18.859Z"
   },
   {
    "duration": 8,
    "start_time": "2022-09-20T05:03:20.200Z"
   },
   {
    "duration": 836,
    "start_time": "2022-09-20T05:04:08.064Z"
   },
   {
    "duration": 655,
    "start_time": "2022-09-20T05:04:18.508Z"
   },
   {
    "duration": 161,
    "start_time": "2022-09-20T05:04:38.576Z"
   },
   {
    "duration": 163,
    "start_time": "2022-09-20T05:04:56.825Z"
   },
   {
    "duration": 177,
    "start_time": "2022-09-20T05:05:00.151Z"
   },
   {
    "duration": 147,
    "start_time": "2022-09-20T05:05:04.229Z"
   },
   {
    "duration": 161,
    "start_time": "2022-09-20T05:05:08.528Z"
   },
   {
    "duration": 157,
    "start_time": "2022-09-20T05:05:11.675Z"
   },
   {
    "duration": 155,
    "start_time": "2022-09-20T05:05:17.626Z"
   },
   {
    "duration": 147,
    "start_time": "2022-09-20T05:07:33.337Z"
   },
   {
    "duration": 153,
    "start_time": "2022-09-20T05:07:35.940Z"
   },
   {
    "duration": 147,
    "start_time": "2022-09-20T05:07:38.741Z"
   },
   {
    "duration": 138,
    "start_time": "2022-09-20T05:07:42.840Z"
   },
   {
    "duration": 156,
    "start_time": "2022-09-20T05:07:45.698Z"
   },
   {
    "duration": 180,
    "start_time": "2022-09-20T05:07:49.471Z"
   },
   {
    "duration": 163,
    "start_time": "2022-09-20T05:07:55.135Z"
   },
   {
    "duration": 274,
    "start_time": "2022-09-20T05:07:58.696Z"
   },
   {
    "duration": 177,
    "start_time": "2022-09-20T05:08:12.370Z"
   },
   {
    "duration": 70,
    "start_time": "2022-09-20T05:11:30.631Z"
   },
   {
    "duration": 209,
    "start_time": "2022-09-20T05:15:17.539Z"
   },
   {
    "duration": 139,
    "start_time": "2022-09-20T05:15:26.341Z"
   },
   {
    "duration": 178,
    "start_time": "2022-09-20T05:15:46.175Z"
   },
   {
    "duration": 164,
    "start_time": "2022-09-20T05:15:59.397Z"
   },
   {
    "duration": 158,
    "start_time": "2022-09-20T05:16:03.635Z"
   },
   {
    "duration": 170,
    "start_time": "2022-09-20T05:16:20.088Z"
   },
   {
    "duration": 146,
    "start_time": "2022-09-20T05:16:29.149Z"
   },
   {
    "duration": 146,
    "start_time": "2022-09-20T05:16:40.638Z"
   },
   {
    "duration": 161,
    "start_time": "2022-09-20T05:17:13.740Z"
   },
   {
    "duration": 215,
    "start_time": "2022-09-20T05:17:21.208Z"
   },
   {
    "duration": 374,
    "start_time": "2022-09-20T05:17:38.868Z"
   },
   {
    "duration": 267,
    "start_time": "2022-09-20T05:17:45.896Z"
   },
   {
    "duration": 213,
    "start_time": "2022-09-20T05:17:53.750Z"
   },
   {
    "duration": 9,
    "start_time": "2022-09-20T05:24:31.594Z"
   },
   {
    "duration": 8,
    "start_time": "2022-09-20T05:24:39.549Z"
   },
   {
    "duration": 43,
    "start_time": "2022-09-20T14:08:46.529Z"
   },
   {
    "duration": 6,
    "start_time": "2022-09-20T14:08:53.451Z"
   },
   {
    "duration": 6,
    "start_time": "2022-09-20T14:09:01.577Z"
   },
   {
    "duration": 5,
    "start_time": "2022-09-20T14:09:01.773Z"
   },
   {
    "duration": 6,
    "start_time": "2022-09-20T14:09:02.560Z"
   },
   {
    "duration": 2484,
    "start_time": "2022-09-20T14:09:09.104Z"
   },
   {
    "duration": 1253,
    "start_time": "2022-09-20T14:09:11.590Z"
   },
   {
    "duration": 1287,
    "start_time": "2022-09-20T14:09:12.844Z"
   },
   {
    "duration": 11,
    "start_time": "2022-09-20T14:09:14.133Z"
   },
   {
    "duration": 3,
    "start_time": "2022-09-20T14:09:15.245Z"
   },
   {
    "duration": 14,
    "start_time": "2022-09-20T14:09:15.405Z"
   },
   {
    "duration": 10,
    "start_time": "2022-09-20T14:09:15.552Z"
   },
   {
    "duration": 13,
    "start_time": "2022-09-20T14:09:15.716Z"
   },
   {
    "duration": 5,
    "start_time": "2022-09-20T14:09:15.861Z"
   },
   {
    "duration": 16,
    "start_time": "2022-09-20T14:09:16.009Z"
   },
   {
    "duration": 20,
    "start_time": "2022-09-20T14:09:16.185Z"
   },
   {
    "duration": 5,
    "start_time": "2022-09-20T14:09:16.351Z"
   },
   {
    "duration": 6,
    "start_time": "2022-09-20T14:09:16.724Z"
   },
   {
    "duration": 12,
    "start_time": "2022-09-20T14:09:16.926Z"
   },
   {
    "duration": 34,
    "start_time": "2022-09-20T14:09:17.128Z"
   },
   {
    "duration": 34,
    "start_time": "2022-09-20T14:09:17.445Z"
   },
   {
    "duration": 11,
    "start_time": "2022-09-20T14:09:18.749Z"
   },
   {
    "duration": 16,
    "start_time": "2022-09-20T14:09:18.932Z"
   },
   {
    "duration": 271,
    "start_time": "2022-09-20T14:09:19.097Z"
   },
   {
    "duration": 3,
    "start_time": "2022-09-20T14:09:19.480Z"
   },
   {
    "duration": 399,
    "start_time": "2022-09-20T14:09:20.807Z"
   },
   {
    "duration": 572,
    "start_time": "2022-09-20T14:09:21.676Z"
   },
   {
    "duration": 192,
    "start_time": "2022-09-20T14:09:22.250Z"
   },
   {
    "duration": 147,
    "start_time": "2022-09-20T14:09:22.443Z"
   },
   {
    "duration": 185,
    "start_time": "2022-09-20T14:09:22.592Z"
   },
   {
    "duration": 46,
    "start_time": "2022-09-20T14:09:22.779Z"
   },
   {
    "duration": 35,
    "start_time": "2022-09-20T14:09:22.963Z"
   },
   {
    "duration": 105,
    "start_time": "2022-09-20T14:09:23.396Z"
   },
   {
    "duration": 195,
    "start_time": "2022-09-20T14:09:23.853Z"
   },
   {
    "duration": 203,
    "start_time": "2022-09-20T14:09:24.309Z"
   },
   {
    "duration": 13,
    "start_time": "2022-09-20T14:09:24.750Z"
   },
   {
    "duration": 13,
    "start_time": "2022-09-20T14:09:24.989Z"
   },
   {
    "duration": 60,
    "start_time": "2022-09-20T14:09:25.609Z"
   },
   {
    "duration": 827,
    "start_time": "2022-09-20T14:09:25.832Z"
   },
   {
    "duration": 1152,
    "start_time": "2022-09-20T14:09:26.661Z"
   },
   {
    "duration": 1254,
    "start_time": "2022-09-20T14:09:27.815Z"
   },
   {
    "duration": 4,
    "start_time": "2022-09-20T14:09:29.071Z"
   },
   {
    "duration": 129,
    "start_time": "2022-09-20T14:09:29.076Z"
   },
   {
    "duration": 9,
    "start_time": "2022-09-20T14:09:29.206Z"
   },
   {
    "duration": 136,
    "start_time": "2022-09-20T14:09:29.216Z"
   },
   {
    "duration": 135,
    "start_time": "2022-09-20T14:09:29.354Z"
   },
   {
    "duration": 139,
    "start_time": "2022-09-20T14:09:29.491Z"
   },
   {
    "duration": 753,
    "start_time": "2022-09-20T14:09:30.198Z"
   },
   {
    "duration": 255,
    "start_time": "2022-09-20T14:09:30.953Z"
   },
   {
    "duration": 226,
    "start_time": "2022-09-20T14:09:31.232Z"
   },
   {
    "duration": 16,
    "start_time": "2022-09-20T14:09:32.358Z"
   },
   {
    "duration": 9,
    "start_time": "2022-09-20T14:09:34.761Z"
   },
   {
    "duration": 9,
    "start_time": "2022-09-20T14:09:34.916Z"
   },
   {
    "duration": 8,
    "start_time": "2022-09-20T14:09:35.077Z"
   },
   {
    "duration": 8,
    "start_time": "2022-09-20T14:09:35.234Z"
   },
   {
    "duration": 8,
    "start_time": "2022-09-20T14:09:35.958Z"
   },
   {
    "duration": 7,
    "start_time": "2022-09-20T14:09:36.304Z"
   },
   {
    "duration": 7,
    "start_time": "2022-09-20T14:09:36.537Z"
   },
   {
    "duration": 8,
    "start_time": "2022-09-20T14:10:10.059Z"
   },
   {
    "duration": 8,
    "start_time": "2022-09-20T14:10:13.018Z"
   },
   {
    "duration": 17,
    "start_time": "2022-09-20T14:25:22.115Z"
   },
   {
    "duration": 65,
    "start_time": "2022-09-20T14:26:21.020Z"
   },
   {
    "duration": 9,
    "start_time": "2022-09-20T14:26:42.063Z"
   },
   {
    "duration": 13,
    "start_time": "2022-09-20T14:26:47.000Z"
   },
   {
    "duration": 61,
    "start_time": "2022-09-20T14:38:06.207Z"
   },
   {
    "duration": 6,
    "start_time": "2022-09-20T14:38:45.549Z"
   },
   {
    "duration": 136,
    "start_time": "2022-09-20T14:38:59.438Z"
   },
   {
    "duration": 104,
    "start_time": "2022-09-20T14:47:37.856Z"
   },
   {
    "duration": 16,
    "start_time": "2022-09-20T14:48:09.393Z"
   },
   {
    "duration": 3,
    "start_time": "2022-09-20T14:48:45.655Z"
   },
   {
    "duration": 33,
    "start_time": "2022-09-20T14:48:48.676Z"
   },
   {
    "duration": 9,
    "start_time": "2022-09-20T14:48:58.637Z"
   },
   {
    "duration": 9,
    "start_time": "2022-09-20T14:53:42.708Z"
   },
   {
    "duration": 1271,
    "start_time": "2022-09-20T14:55:11.479Z"
   },
   {
    "duration": 14,
    "start_time": "2022-09-20T14:55:27.615Z"
   },
   {
    "duration": 13,
    "start_time": "2022-09-20T14:55:41.848Z"
   },
   {
    "duration": 13,
    "start_time": "2022-09-20T14:55:49.263Z"
   },
   {
    "duration": 11,
    "start_time": "2022-09-20T15:00:06.839Z"
   },
   {
    "duration": 15,
    "start_time": "2022-09-20T15:01:45.575Z"
   },
   {
    "duration": 23,
    "start_time": "2022-09-20T15:01:49.045Z"
   },
   {
    "duration": 9,
    "start_time": "2022-09-20T15:02:29.752Z"
   },
   {
    "duration": 399,
    "start_time": "2022-09-20T15:02:53.461Z"
   },
   {
    "duration": 20,
    "start_time": "2022-09-20T15:02:57.221Z"
   },
   {
    "duration": 5,
    "start_time": "2022-09-20T15:03:59.376Z"
   },
   {
    "duration": 111,
    "start_time": "2022-09-20T15:04:12.780Z"
   },
   {
    "duration": 8,
    "start_time": "2022-09-20T15:04:16.599Z"
   },
   {
    "duration": 8,
    "start_time": "2022-09-20T15:07:37.322Z"
   },
   {
    "duration": 2,
    "start_time": "2022-09-20T15:08:12.712Z"
   },
   {
    "duration": 5,
    "start_time": "2022-09-20T15:08:15.745Z"
   },
   {
    "duration": 9,
    "start_time": "2022-09-20T15:08:28.804Z"
   },
   {
    "duration": 16,
    "start_time": "2022-09-20T15:08:58.422Z"
   },
   {
    "duration": 264,
    "start_time": "2022-09-20T15:09:38.071Z"
   },
   {
    "duration": 42,
    "start_time": "2022-09-20T15:11:07.288Z"
   },
   {
    "duration": 12,
    "start_time": "2022-09-20T15:11:08.511Z"
   },
   {
    "duration": 3,
    "start_time": "2022-09-20T15:11:37.192Z"
   },
   {
    "duration": 44,
    "start_time": "2022-09-20T15:11:40.452Z"
   },
   {
    "duration": 12,
    "start_time": "2022-09-20T15:11:42.279Z"
   },
   {
    "duration": 3,
    "start_time": "2022-09-20T15:12:07.291Z"
   },
   {
    "duration": 13,
    "start_time": "2022-09-20T15:12:09.839Z"
   },
   {
    "duration": 44663,
    "start_time": "2022-09-20T15:12:34.547Z"
   },
   {
    "duration": 10,
    "start_time": "2022-09-20T15:15:49.973Z"
   },
   {
    "duration": 17,
    "start_time": "2022-09-20T15:16:00.592Z"
   },
   {
    "duration": 23,
    "start_time": "2022-09-20T15:16:03.439Z"
   },
   {
    "duration": 268,
    "start_time": "2022-09-20T15:16:05.758Z"
   },
   {
    "duration": 44256,
    "start_time": "2022-09-20T15:18:29.546Z"
   },
   {
    "duration": 1611,
    "start_time": "2022-09-20T15:22:09.902Z"
   },
   {
    "duration": 1485,
    "start_time": "2022-09-20T15:22:31.416Z"
   },
   {
    "duration": 11,
    "start_time": "2022-09-20T15:22:37.593Z"
   },
   {
    "duration": 1711,
    "start_time": "2022-09-20T15:23:02.124Z"
   },
   {
    "duration": 2,
    "start_time": "2022-09-20T15:27:00.550Z"
   },
   {
    "duration": 4,
    "start_time": "2022-09-20T15:27:26.314Z"
   },
   {
    "duration": 18,
    "start_time": "2022-09-20T16:06:19.267Z"
   },
   {
    "duration": 110,
    "start_time": "2022-09-20T16:06:31.163Z"
   },
   {
    "duration": 27,
    "start_time": "2022-09-20T16:07:03.584Z"
   },
   {
    "duration": 27,
    "start_time": "2022-09-20T16:07:23.893Z"
   },
   {
    "duration": 26,
    "start_time": "2022-09-20T16:07:26.843Z"
   },
   {
    "duration": 27,
    "start_time": "2022-09-20T16:07:51.916Z"
   },
   {
    "duration": 26,
    "start_time": "2022-09-20T16:07:57.909Z"
   },
   {
    "duration": 345,
    "start_time": "2022-09-20T16:08:29.557Z"
   },
   {
    "duration": 257,
    "start_time": "2022-09-20T16:09:41.889Z"
   },
   {
    "duration": 8,
    "start_time": "2022-09-20T16:09:47.615Z"
   },
   {
    "duration": 4,
    "start_time": "2022-09-20T16:10:11.903Z"
   },
   {
    "duration": 9,
    "start_time": "2022-09-20T16:10:27.795Z"
   },
   {
    "duration": 4,
    "start_time": "2022-09-20T16:10:31.031Z"
   },
   {
    "duration": 238,
    "start_time": "2022-09-20T16:11:54.565Z"
   },
   {
    "duration": 263,
    "start_time": "2022-09-20T16:12:00.372Z"
   },
   {
    "duration": 13,
    "start_time": "2022-09-20T16:14:22.354Z"
   },
   {
    "duration": 57466,
    "start_time": "2022-09-20T16:14:56.399Z"
   },
   {
    "duration": 9,
    "start_time": "2022-09-20T16:17:00.071Z"
   },
   {
    "duration": 5,
    "start_time": "2022-09-20T16:17:04.825Z"
   },
   {
    "duration": 4,
    "start_time": "2022-09-20T16:17:49.719Z"
   },
   {
    "duration": 19,
    "start_time": "2022-09-20T16:18:29.497Z"
   },
   {
    "duration": 24,
    "start_time": "2022-09-20T16:18:32.296Z"
   },
   {
    "duration": 4,
    "start_time": "2022-09-20T16:18:46.515Z"
   },
   {
    "duration": 12,
    "start_time": "2022-09-20T16:18:58.154Z"
   },
   {
    "duration": 95,
    "start_time": "2022-09-20T16:19:43.492Z"
   },
   {
    "duration": 60,
    "start_time": "2022-09-20T16:19:56.151Z"
   },
   {
    "duration": 4,
    "start_time": "2022-09-20T16:20:10.412Z"
   },
   {
    "duration": 11,
    "start_time": "2022-09-20T16:20:25.962Z"
   },
   {
    "duration": 11,
    "start_time": "2022-09-20T16:20:30.744Z"
   },
   {
    "duration": 4,
    "start_time": "2022-09-20T16:20:45.749Z"
   },
   {
    "duration": 4,
    "start_time": "2022-09-20T16:21:10.292Z"
   },
   {
    "duration": 3,
    "start_time": "2022-09-20T16:25:00.392Z"
   },
   {
    "duration": 365,
    "start_time": "2022-09-20T16:25:14.551Z"
   },
   {
    "duration": 3,
    "start_time": "2022-09-20T16:26:44.023Z"
   },
   {
    "duration": 5,
    "start_time": "2022-09-20T16:26:50.820Z"
   },
   {
    "duration": 18,
    "start_time": "2022-09-20T16:27:16.116Z"
   },
   {
    "duration": 3,
    "start_time": "2022-09-20T16:27:22.176Z"
   },
   {
    "duration": 4,
    "start_time": "2022-09-20T16:27:37.573Z"
   },
   {
    "duration": 931,
    "start_time": "2022-09-20T16:27:40.038Z"
   },
   {
    "duration": 3,
    "start_time": "2022-09-20T16:27:42.494Z"
   },
   {
    "duration": 10,
    "start_time": "2022-09-20T16:28:55.660Z"
   },
   {
    "duration": 8,
    "start_time": "2022-09-20T16:29:12.457Z"
   },
   {
    "duration": 5,
    "start_time": "2022-09-20T16:29:52.849Z"
   },
   {
    "duration": 4,
    "start_time": "2022-09-20T16:30:55.031Z"
   },
   {
    "duration": 5,
    "start_time": "2022-09-20T16:31:09.975Z"
   },
   {
    "duration": 4,
    "start_time": "2022-09-20T16:31:58.328Z"
   },
   {
    "duration": 65,
    "start_time": "2022-09-20T16:35:00.417Z"
   },
   {
    "duration": 85,
    "start_time": "2022-09-21T17:00:32.152Z"
   },
   {
    "duration": 3335,
    "start_time": "2022-09-21T17:00:41.241Z"
   },
   {
    "duration": 1242,
    "start_time": "2022-09-21T17:00:44.579Z"
   },
   {
    "duration": 1597,
    "start_time": "2022-09-21T17:00:45.823Z"
   },
   {
    "duration": 13,
    "start_time": "2022-09-21T17:00:47.422Z"
   },
   {
    "duration": 3,
    "start_time": "2022-09-21T17:00:47.437Z"
   },
   {
    "duration": 20,
    "start_time": "2022-09-21T17:00:47.442Z"
   },
   {
    "duration": 11,
    "start_time": "2022-09-21T17:00:47.464Z"
   },
   {
    "duration": 40,
    "start_time": "2022-09-21T17:00:47.476Z"
   },
   {
    "duration": 6,
    "start_time": "2022-09-21T17:00:47.517Z"
   },
   {
    "duration": 18,
    "start_time": "2022-09-21T17:00:47.526Z"
   },
   {
    "duration": 22,
    "start_time": "2022-09-21T17:00:47.547Z"
   },
   {
    "duration": 8,
    "start_time": "2022-09-21T17:00:47.595Z"
   },
   {
    "duration": 23,
    "start_time": "2022-09-21T17:00:47.606Z"
   },
   {
    "duration": 14,
    "start_time": "2022-09-21T17:00:47.631Z"
   },
   {
    "duration": 38,
    "start_time": "2022-09-21T17:00:47.646Z"
   },
   {
    "duration": 66,
    "start_time": "2022-09-21T17:00:47.685Z"
   },
   {
    "duration": 14,
    "start_time": "2022-09-21T17:00:47.753Z"
   },
   {
    "duration": 36,
    "start_time": "2022-09-21T17:00:47.769Z"
   },
   {
    "duration": 349,
    "start_time": "2022-09-21T17:00:47.809Z"
   },
   {
    "duration": 4,
    "start_time": "2022-09-21T17:00:48.160Z"
   },
   {
    "duration": 495,
    "start_time": "2022-09-21T17:00:48.165Z"
   },
   {
    "duration": 928,
    "start_time": "2022-09-21T17:00:48.662Z"
   },
   {
    "duration": 255,
    "start_time": "2022-09-21T17:00:49.591Z"
   },
   {
    "duration": 201,
    "start_time": "2022-09-21T17:00:49.848Z"
   },
   {
    "duration": 260,
    "start_time": "2022-09-21T17:00:50.051Z"
   },
   {
    "duration": 54,
    "start_time": "2022-09-21T17:00:50.313Z"
   },
   {
    "duration": 62,
    "start_time": "2022-09-21T17:00:50.369Z"
   },
   {
    "duration": 141,
    "start_time": "2022-09-21T17:00:50.436Z"
   },
   {
    "duration": 273,
    "start_time": "2022-09-21T17:00:50.579Z"
   },
   {
    "duration": 218,
    "start_time": "2022-09-21T17:00:50.854Z"
   },
   {
    "duration": 27,
    "start_time": "2022-09-21T17:00:51.074Z"
   },
   {
    "duration": 17,
    "start_time": "2022-09-21T17:00:51.103Z"
   },
   {
    "duration": 86,
    "start_time": "2022-09-21T17:00:51.122Z"
   },
   {
    "duration": 922,
    "start_time": "2022-09-21T17:00:51.214Z"
   },
   {
    "duration": 1336,
    "start_time": "2022-09-21T17:00:52.137Z"
   },
   {
    "duration": 1469,
    "start_time": "2022-09-21T17:00:53.474Z"
   },
   {
    "duration": 5,
    "start_time": "2022-09-21T17:00:54.944Z"
   },
   {
    "duration": 164,
    "start_time": "2022-09-21T17:00:54.950Z"
   },
   {
    "duration": 11,
    "start_time": "2022-09-21T17:00:55.116Z"
   },
   {
    "duration": 166,
    "start_time": "2022-09-21T17:00:55.129Z"
   },
   {
    "duration": 159,
    "start_time": "2022-09-21T17:00:55.301Z"
   },
   {
    "duration": 10,
    "start_time": "2022-09-21T17:00:55.461Z"
   },
   {
    "duration": 175,
    "start_time": "2022-09-21T17:00:55.473Z"
   },
   {
    "duration": 996,
    "start_time": "2022-09-21T17:00:55.649Z"
   },
   {
    "duration": 296,
    "start_time": "2022-09-21T17:00:56.647Z"
   },
   {
    "duration": 220,
    "start_time": "2022-09-21T17:00:56.944Z"
   },
   {
    "duration": 292,
    "start_time": "2022-09-21T17:00:57.166Z"
   },
   {
    "duration": 17,
    "start_time": "2022-09-21T17:00:57.460Z"
   },
   {
    "duration": 24,
    "start_time": "2022-09-21T17:00:57.479Z"
   },
   {
    "duration": 10,
    "start_time": "2022-09-21T17:00:57.509Z"
   },
   {
    "duration": 12,
    "start_time": "2022-09-21T17:00:57.521Z"
   },
   {
    "duration": 14,
    "start_time": "2022-09-21T17:00:57.535Z"
   },
   {
    "duration": 23,
    "start_time": "2022-09-21T17:00:57.551Z"
   },
   {
    "duration": 22,
    "start_time": "2022-09-21T17:00:57.576Z"
   },
   {
    "duration": 19,
    "start_time": "2022-09-21T17:00:57.602Z"
   },
   {
    "duration": 19,
    "start_time": "2022-09-21T17:00:57.623Z"
   },
   {
    "duration": 37,
    "start_time": "2022-09-21T17:00:57.644Z"
   },
   {
    "duration": 38,
    "start_time": "2022-09-21T17:00:57.683Z"
   },
   {
    "duration": 34,
    "start_time": "2022-09-21T17:00:57.723Z"
   },
   {
    "duration": 516,
    "start_time": "2022-09-21T17:00:57.759Z"
   },
   {
    "duration": 33,
    "start_time": "2022-09-21T17:00:58.277Z"
   },
   {
    "duration": 220,
    "start_time": "2022-09-21T17:00:58.312Z"
   },
   {
    "duration": 4,
    "start_time": "2022-09-21T17:00:58.534Z"
   },
   {
    "duration": 16,
    "start_time": "2022-09-21T17:00:58.540Z"
   },
   {
    "duration": 8,
    "start_time": "2022-09-21T17:00:58.596Z"
   },
   {
    "duration": 17,
    "start_time": "2022-09-21T17:00:58.608Z"
   },
   {
    "duration": 438,
    "start_time": "2022-09-21T17:00:58.627Z"
   },
   {
    "duration": 124,
    "start_time": "2022-09-21T17:02:18.590Z"
   },
   {
    "duration": 7,
    "start_time": "2022-09-21T17:02:41.605Z"
   },
   {
    "duration": 2016,
    "start_time": "2022-09-21T17:03:42.567Z"
   },
   {
    "duration": 1294,
    "start_time": "2022-09-21T17:03:44.585Z"
   },
   {
    "duration": 3132,
    "start_time": "2022-09-21T17:03:45.881Z"
   },
   {
    "duration": 13,
    "start_time": "2022-09-21T17:03:49.015Z"
   },
   {
    "duration": 3,
    "start_time": "2022-09-21T17:03:49.030Z"
   },
   {
    "duration": 18,
    "start_time": "2022-09-21T17:03:49.035Z"
   },
   {
    "duration": 12,
    "start_time": "2022-09-21T17:03:49.055Z"
   },
   {
    "duration": 40,
    "start_time": "2022-09-21T17:03:49.069Z"
   },
   {
    "duration": 6,
    "start_time": "2022-09-21T17:03:49.111Z"
   },
   {
    "duration": 19,
    "start_time": "2022-09-21T17:03:49.121Z"
   },
   {
    "duration": 23,
    "start_time": "2022-09-21T17:03:49.141Z"
   },
   {
    "duration": 7,
    "start_time": "2022-09-21T17:03:49.196Z"
   },
   {
    "duration": 8,
    "start_time": "2022-09-21T17:03:49.205Z"
   },
   {
    "duration": 14,
    "start_time": "2022-09-21T17:03:49.215Z"
   },
   {
    "duration": 36,
    "start_time": "2022-09-21T17:03:49.230Z"
   },
   {
    "duration": 39,
    "start_time": "2022-09-21T17:03:49.296Z"
   },
   {
    "duration": 13,
    "start_time": "2022-09-21T17:03:49.337Z"
   },
   {
    "duration": 22,
    "start_time": "2022-09-21T17:03:49.352Z"
   },
   {
    "duration": 342,
    "start_time": "2022-09-21T17:03:49.376Z"
   },
   {
    "duration": 3,
    "start_time": "2022-09-21T17:03:49.720Z"
   },
   {
    "duration": 458,
    "start_time": "2022-09-21T17:03:49.725Z"
   },
   {
    "duration": 684,
    "start_time": "2022-09-21T17:03:50.185Z"
   },
   {
    "duration": 215,
    "start_time": "2022-09-21T17:03:50.870Z"
   },
   {
    "duration": 156,
    "start_time": "2022-09-21T17:03:51.094Z"
   },
   {
    "duration": 209,
    "start_time": "2022-09-21T17:03:51.251Z"
   },
   {
    "duration": 53,
    "start_time": "2022-09-21T17:03:51.462Z"
   },
   {
    "duration": 40,
    "start_time": "2022-09-21T17:03:51.517Z"
   },
   {
    "duration": 130,
    "start_time": "2022-09-21T17:03:51.560Z"
   },
   {
    "duration": 218,
    "start_time": "2022-09-21T17:03:51.694Z"
   },
   {
    "duration": 187,
    "start_time": "2022-09-21T17:03:51.913Z"
   },
   {
    "duration": 13,
    "start_time": "2022-09-21T17:03:52.102Z"
   },
   {
    "duration": 11,
    "start_time": "2022-09-21T17:03:52.117Z"
   },
   {
    "duration": 82,
    "start_time": "2022-09-21T17:03:52.129Z"
   },
   {
    "duration": 922,
    "start_time": "2022-09-21T17:03:52.213Z"
   },
   {
    "duration": 1273,
    "start_time": "2022-09-21T17:03:53.138Z"
   },
   {
    "duration": 1385,
    "start_time": "2022-09-21T17:03:54.413Z"
   },
   {
    "duration": 5,
    "start_time": "2022-09-21T17:03:55.800Z"
   },
   {
    "duration": 156,
    "start_time": "2022-09-21T17:03:55.807Z"
   },
   {
    "duration": 10,
    "start_time": "2022-09-21T17:03:55.964Z"
   },
   {
    "duration": 161,
    "start_time": "2022-09-21T17:03:55.976Z"
   },
   {
    "duration": 142,
    "start_time": "2022-09-21T17:03:56.139Z"
   },
   {
    "duration": 21,
    "start_time": "2022-09-21T17:03:56.283Z"
   },
   {
    "duration": 158,
    "start_time": "2022-09-21T17:03:56.306Z"
   },
   {
    "duration": 849,
    "start_time": "2022-09-21T17:03:56.466Z"
   },
   {
    "duration": 256,
    "start_time": "2022-09-21T17:03:57.317Z"
   },
   {
    "duration": 194,
    "start_time": "2022-09-21T17:03:57.574Z"
   },
   {
    "duration": 244,
    "start_time": "2022-09-21T17:03:57.770Z"
   },
   {
    "duration": 19,
    "start_time": "2022-09-21T17:03:58.016Z"
   },
   {
    "duration": 10,
    "start_time": "2022-09-21T17:03:58.037Z"
   },
   {
    "duration": 7,
    "start_time": "2022-09-21T17:03:58.049Z"
   },
   {
    "duration": 9,
    "start_time": "2022-09-21T17:03:58.058Z"
   },
   {
    "duration": 34,
    "start_time": "2022-09-21T17:03:58.068Z"
   },
   {
    "duration": 11,
    "start_time": "2022-09-21T17:03:58.104Z"
   },
   {
    "duration": 9,
    "start_time": "2022-09-21T17:03:58.117Z"
   },
   {
    "duration": 10,
    "start_time": "2022-09-21T17:03:58.128Z"
   },
   {
    "duration": 9,
    "start_time": "2022-09-21T17:03:58.140Z"
   },
   {
    "duration": 59,
    "start_time": "2022-09-21T17:03:58.151Z"
   },
   {
    "duration": 13,
    "start_time": "2022-09-21T17:03:58.212Z"
   },
   {
    "duration": 13,
    "start_time": "2022-09-21T17:03:58.227Z"
   },
   {
    "duration": 504,
    "start_time": "2022-09-21T17:03:58.241Z"
   },
   {
    "duration": 26,
    "start_time": "2022-09-21T17:03:58.747Z"
   },
   {
    "duration": 251,
    "start_time": "2022-09-21T17:03:58.775Z"
   },
   {
    "duration": 4,
    "start_time": "2022-09-21T17:03:59.027Z"
   },
   {
    "duration": 8,
    "start_time": "2022-09-21T17:03:59.032Z"
   },
   {
    "duration": 7,
    "start_time": "2022-09-21T17:03:59.041Z"
   },
   {
    "duration": 9,
    "start_time": "2022-09-21T17:03:59.049Z"
   },
   {
    "duration": 137,
    "start_time": "2022-09-21T17:03:59.060Z"
   },
   {
    "duration": 0,
    "start_time": "2022-09-21T17:03:59.199Z"
   },
   {
    "duration": 0,
    "start_time": "2022-09-21T17:03:59.200Z"
   },
   {
    "duration": 6,
    "start_time": "2022-09-21T17:04:54.836Z"
   },
   {
    "duration": 15,
    "start_time": "2022-09-21T17:04:58.540Z"
   },
   {
    "duration": 386,
    "start_time": "2022-09-21T17:04:58.952Z"
   },
   {
    "duration": 44,
    "start_time": "2022-09-22T06:01:07.825Z"
   },
   {
    "duration": 6,
    "start_time": "2022-09-22T06:01:15.274Z"
   },
   {
    "duration": 2811,
    "start_time": "2022-09-22T06:01:19.915Z"
   },
   {
    "duration": 1275,
    "start_time": "2022-09-22T06:01:22.728Z"
   },
   {
    "duration": 1372,
    "start_time": "2022-09-22T06:01:24.005Z"
   },
   {
    "duration": 14,
    "start_time": "2022-09-22T06:01:25.379Z"
   },
   {
    "duration": 3,
    "start_time": "2022-09-22T06:01:25.395Z"
   },
   {
    "duration": 37,
    "start_time": "2022-09-22T06:01:25.405Z"
   },
   {
    "duration": 12,
    "start_time": "2022-09-22T06:01:25.444Z"
   },
   {
    "duration": 32,
    "start_time": "2022-09-22T06:01:25.458Z"
   },
   {
    "duration": 5,
    "start_time": "2022-09-22T06:01:25.492Z"
   },
   {
    "duration": 26,
    "start_time": "2022-09-22T06:01:25.500Z"
   },
   {
    "duration": 31,
    "start_time": "2022-09-22T06:01:25.528Z"
   },
   {
    "duration": 6,
    "start_time": "2022-09-22T06:01:25.561Z"
   },
   {
    "duration": 7,
    "start_time": "2022-09-22T06:01:25.568Z"
   },
   {
    "duration": 12,
    "start_time": "2022-09-22T06:01:25.576Z"
   },
   {
    "duration": 44,
    "start_time": "2022-09-22T06:01:25.600Z"
   },
   {
    "duration": 34,
    "start_time": "2022-09-22T06:01:25.646Z"
   },
   {
    "duration": 11,
    "start_time": "2022-09-22T06:01:25.682Z"
   },
   {
    "duration": 29,
    "start_time": "2022-09-22T06:01:25.706Z"
   },
   {
    "duration": 312,
    "start_time": "2022-09-22T06:01:25.737Z"
   },
   {
    "duration": 4,
    "start_time": "2022-09-22T06:01:26.050Z"
   },
   {
    "duration": 411,
    "start_time": "2022-09-22T06:01:26.056Z"
   },
   {
    "duration": 644,
    "start_time": "2022-09-22T06:01:26.469Z"
   },
   {
    "duration": 203,
    "start_time": "2022-09-22T06:01:27.114Z"
   },
   {
    "duration": 151,
    "start_time": "2022-09-22T06:01:27.319Z"
   },
   {
    "duration": 210,
    "start_time": "2022-09-22T06:01:27.472Z"
   },
   {
    "duration": 50,
    "start_time": "2022-09-22T06:01:27.683Z"
   },
   {
    "duration": 37,
    "start_time": "2022-09-22T06:01:27.735Z"
   },
   {
    "duration": 142,
    "start_time": "2022-09-22T06:01:27.776Z"
   },
   {
    "duration": 218,
    "start_time": "2022-09-22T06:01:27.920Z"
   },
   {
    "duration": 183,
    "start_time": "2022-09-22T06:01:28.139Z"
   },
   {
    "duration": 14,
    "start_time": "2022-09-22T06:01:28.325Z"
   },
   {
    "duration": 11,
    "start_time": "2022-09-22T06:01:28.341Z"
   },
   {
    "duration": 78,
    "start_time": "2022-09-22T06:01:28.354Z"
   },
   {
    "duration": 925,
    "start_time": "2022-09-22T06:01:28.434Z"
   },
   {
    "duration": 1189,
    "start_time": "2022-09-22T06:01:29.361Z"
   },
   {
    "duration": 1372,
    "start_time": "2022-09-22T06:01:30.551Z"
   },
   {
    "duration": 5,
    "start_time": "2022-09-22T06:01:31.925Z"
   },
   {
    "duration": 189,
    "start_time": "2022-09-22T06:01:31.931Z"
   },
   {
    "duration": 9,
    "start_time": "2022-09-22T06:01:32.122Z"
   },
   {
    "duration": 144,
    "start_time": "2022-09-22T06:01:32.132Z"
   },
   {
    "duration": 139,
    "start_time": "2022-09-22T06:01:32.278Z"
   },
   {
    "duration": 11,
    "start_time": "2022-09-22T06:01:32.418Z"
   },
   {
    "duration": 137,
    "start_time": "2022-09-22T06:01:32.431Z"
   },
   {
    "duration": 811,
    "start_time": "2022-09-22T06:01:32.569Z"
   },
   {
    "duration": 242,
    "start_time": "2022-09-22T06:01:33.382Z"
   },
   {
    "duration": 186,
    "start_time": "2022-09-22T06:01:33.626Z"
   },
   {
    "duration": 221,
    "start_time": "2022-09-22T06:01:33.814Z"
   },
   {
    "duration": 14,
    "start_time": "2022-09-22T06:01:34.037Z"
   },
   {
    "duration": 7,
    "start_time": "2022-09-22T06:01:34.052Z"
   },
   {
    "duration": 15,
    "start_time": "2022-09-22T06:01:34.061Z"
   },
   {
    "duration": 24,
    "start_time": "2022-09-22T06:01:34.078Z"
   },
   {
    "duration": 15,
    "start_time": "2022-09-22T06:01:34.104Z"
   },
   {
    "duration": 23,
    "start_time": "2022-09-22T06:01:34.121Z"
   },
   {
    "duration": 30,
    "start_time": "2022-09-22T06:01:34.146Z"
   },
   {
    "duration": 80,
    "start_time": "2022-09-22T06:01:34.178Z"
   },
   {
    "duration": 9,
    "start_time": "2022-09-22T06:01:34.259Z"
   },
   {
    "duration": 17,
    "start_time": "2022-09-22T06:01:34.270Z"
   },
   {
    "duration": 14,
    "start_time": "2022-09-22T06:01:34.289Z"
   },
   {
    "duration": 22,
    "start_time": "2022-09-22T06:01:34.306Z"
   },
   {
    "duration": 269,
    "start_time": "2022-09-22T06:01:34.330Z"
   },
   {
    "duration": 44,
    "start_time": "2022-09-22T06:01:34.600Z"
   },
   {
    "duration": 270,
    "start_time": "2022-09-22T06:01:34.647Z"
   },
   {
    "duration": 4,
    "start_time": "2022-09-22T06:01:34.919Z"
   },
   {
    "duration": 8,
    "start_time": "2022-09-22T06:01:34.924Z"
   },
   {
    "duration": 5,
    "start_time": "2022-09-22T06:01:34.933Z"
   },
   {
    "duration": 8,
    "start_time": "2022-09-22T06:01:34.940Z"
   },
   {
    "duration": 12,
    "start_time": "2022-09-22T06:01:34.950Z"
   },
   {
    "duration": 15,
    "start_time": "2022-09-22T06:01:34.963Z"
   },
   {
    "duration": 393,
    "start_time": "2022-09-22T06:01:34.979Z"
   },
   {
    "duration": 24,
    "start_time": "2022-09-22T06:01:46.178Z"
   },
   {
    "duration": 18,
    "start_time": "2022-09-22T06:01:53.569Z"
   },
   {
    "duration": 231,
    "start_time": "2022-09-22T06:02:36.943Z"
   },
   {
    "duration": 132,
    "start_time": "2022-09-22T06:02:44.948Z"
   },
   {
    "duration": 140,
    "start_time": "2022-09-22T06:02:52.541Z"
   },
   {
    "duration": 24,
    "start_time": "2022-09-22T06:04:04.608Z"
   },
   {
    "duration": 15,
    "start_time": "2022-09-22T06:04:30.871Z"
   },
   {
    "duration": 163,
    "start_time": "2022-09-22T06:04:37.316Z"
   },
   {
    "duration": 18,
    "start_time": "2022-09-22T06:04:48.209Z"
   },
   {
    "duration": 10,
    "start_time": "2022-09-22T06:29:19.131Z"
   }
  ],
  "kernelspec": {
   "display_name": "Python 3 (ipykernel)",
   "language": "python",
   "name": "python3"
  },
  "language_info": {
   "codemirror_mode": {
    "name": "ipython",
    "version": 3
   },
   "file_extension": ".py",
   "mimetype": "text/x-python",
   "name": "python",
   "nbconvert_exporter": "python",
   "pygments_lexer": "ipython3",
   "version": "3.9.7"
  },
  "toc": {
   "base_numbering": 1,
   "nav_menu": {},
   "number_sections": true,
   "sideBar": true,
   "skip_h1_title": true,
   "title_cell": "Table of Contents",
   "title_sidebar": "Contents",
   "toc_cell": false,
   "toc_position": {},
   "toc_section_display": true,
   "toc_window_display": false
  }
 },
 "nbformat": 4,
 "nbformat_minor": 5
}
