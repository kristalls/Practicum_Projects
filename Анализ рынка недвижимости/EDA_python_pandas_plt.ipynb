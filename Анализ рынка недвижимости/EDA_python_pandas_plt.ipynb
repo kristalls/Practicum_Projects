{
 "cells": [
  {
   "cell_type": "markdown",
   "metadata": {
    "toc": true
   },
   "source": [
    "<h1>Содержание<span class=\"tocSkip\"></span></h1>\n",
    "<div class=\"toc\"><ul class=\"toc-item\"><li><span><a href=\"#Изучение-данных-из-файла\" data-toc-modified-id=\"Изучение-данных-из-файла-1\"><span class=\"toc-item-num\">1&nbsp;&nbsp;</span>Изучение данных из файла</a></span><ul class=\"toc-item\"><li><span><a href=\"#Вывод\" data-toc-modified-id=\"Вывод-1.1\"><span class=\"toc-item-num\">1.1&nbsp;&nbsp;</span>Вывод</a></span></li></ul></li><li><span><a href=\"#Предобработка-данных\" data-toc-modified-id=\"Предобработка-данных-2\"><span class=\"toc-item-num\">2&nbsp;&nbsp;</span>Предобработка данных</a></span></li><li><span><a href=\"#Расчёты-и-добавление-результатов-в-таблицу\" data-toc-modified-id=\"Расчёты-и-добавление-результатов-в-таблицу-3\"><span class=\"toc-item-num\">3&nbsp;&nbsp;</span>Расчёты и добавление результатов в таблицу</a></span></li><li><span><a href=\"#Исследовательский-анализ-данных\" data-toc-modified-id=\"Исследовательский-анализ-данных-4\"><span class=\"toc-item-num\">4&nbsp;&nbsp;</span>Исследовательский анализ данных</a></span></li><li><span><a href=\"#Общий-вывод\" data-toc-modified-id=\"Общий-вывод-5\"><span class=\"toc-item-num\">5&nbsp;&nbsp;</span>Общий вывод</a></span></li><li><span><a href=\"#Чек-лист-готовности-проекта\" data-toc-modified-id=\"Чек-лист-готовности-проекта-6\"><span class=\"toc-item-num\">6&nbsp;&nbsp;</span>Чек-лист готовности проекта</a></span></li></ul></div>"
   ]
  },
  {
   "cell_type": "markdown",
   "metadata": {},
   "source": [
    "# Исследование объявлений о продаже квартир\n",
    "\n",
    "В вашем распоряжении данные сервиса Яндекc Недвижимость — архив объявлений о продаже квартир в Санкт-Петербурге и соседних населённых пунктах за несколько лет. Нужно научиться определять рыночную стоимость объектов недвижимости. Ваша задача — установить параметры. Это позволит построить автоматизированную систему: она отследит аномалии и мошенническую деятельность. \n",
    "\n",
    "По каждой квартире на продажу доступны два вида данных. Первые вписаны пользователем, вторые получены автоматически на основе картографических данных. Например, расстояние до центра, аэропорта, ближайшего парка и водоёма. "
   ]
  },
  {
   "cell_type": "markdown",
   "metadata": {},
   "source": [
    "## Изучение данных из файла"
   ]
  },
  {
   "cell_type": "code",
   "execution_count": 1,
   "metadata": {
    "scrolled": true
   },
   "outputs": [],
   "source": [
    "import pandas as pd\n",
    "import numpy as np\n",
    "import matplotlib.pyplot as plt\n",
    "import plotly.express as px\n",
    "from datetime import datetime as dt"
   ]
  },
  {
   "cell_type": "code",
   "execution_count": 2,
   "metadata": {
    "scrolled": true
   },
   "outputs": [
    {
     "name": "stdout",
     "output_type": "stream",
     "text": [
      "<class 'pandas.core.frame.DataFrame'>\n",
      "RangeIndex: 23699 entries, 0 to 23698\n",
      "Data columns (total 22 columns):\n",
      " #   Column                Non-Null Count  Dtype         \n",
      "---  ------                --------------  -----         \n",
      " 0   total_images          23699 non-null  int64         \n",
      " 1   last_price            23699 non-null  float64       \n",
      " 2   total_area            23699 non-null  float64       \n",
      " 3   first_day_exposition  23699 non-null  datetime64[ns]\n",
      " 4   rooms                 23699 non-null  int64         \n",
      " 5   ceiling_height        14504 non-null  float64       \n",
      " 6   floors_total          23613 non-null  float64       \n",
      " 7   living_area           21796 non-null  float64       \n",
      " 8   floor                 23699 non-null  int64         \n",
      " 9   is_apartment          2775 non-null   object        \n",
      " 10  studio                23699 non-null  bool          \n",
      " 11  open_plan             23699 non-null  bool          \n",
      " 12  kitchen_area          21421 non-null  float64       \n",
      " 13  balcony               12180 non-null  float64       \n",
      " 14  locality_name         23650 non-null  object        \n",
      " 15  airports_nearest      18157 non-null  float64       \n",
      " 16  cityCenters_nearest   18180 non-null  float64       \n",
      " 17  parks_around3000      18181 non-null  float64       \n",
      " 18  parks_nearest         8079 non-null   float64       \n",
      " 19  ponds_around3000      18181 non-null  float64       \n",
      " 20  ponds_nearest         9110 non-null   float64       \n",
      " 21  days_exposition       20518 non-null  float64       \n",
      "dtypes: bool(2), datetime64[ns](1), float64(14), int64(3), object(2)\n",
      "memory usage: 3.7+ MB\n"
     ]
    }
   ],
   "source": [
    "data = pd.read_csv('/datasets/real_estate_data.csv', sep='\\t', parse_dates=['first_day_exposition'])\n",
    "data.info()"
   ]
  },
  {
   "cell_type": "code",
   "execution_count": 3,
   "metadata": {},
   "outputs": [],
   "source": [
    "pd.options.display.max_columns = 50"
   ]
  },
  {
   "cell_type": "code",
   "execution_count": 4,
   "metadata": {},
   "outputs": [
    {
     "data": {
      "text/html": [
       "<div>\n",
       "<style scoped>\n",
       "    .dataframe tbody tr th:only-of-type {\n",
       "        vertical-align: middle;\n",
       "    }\n",
       "\n",
       "    .dataframe tbody tr th {\n",
       "        vertical-align: top;\n",
       "    }\n",
       "\n",
       "    .dataframe thead th {\n",
       "        text-align: right;\n",
       "    }\n",
       "</style>\n",
       "<table border=\"1\" class=\"dataframe\">\n",
       "  <thead>\n",
       "    <tr style=\"text-align: right;\">\n",
       "      <th></th>\n",
       "      <th>total_images</th>\n",
       "      <th>last_price</th>\n",
       "      <th>total_area</th>\n",
       "      <th>first_day_exposition</th>\n",
       "      <th>rooms</th>\n",
       "      <th>ceiling_height</th>\n",
       "      <th>floors_total</th>\n",
       "      <th>living_area</th>\n",
       "      <th>floor</th>\n",
       "      <th>is_apartment</th>\n",
       "      <th>studio</th>\n",
       "      <th>open_plan</th>\n",
       "      <th>kitchen_area</th>\n",
       "      <th>balcony</th>\n",
       "      <th>locality_name</th>\n",
       "      <th>airports_nearest</th>\n",
       "      <th>cityCenters_nearest</th>\n",
       "      <th>parks_around3000</th>\n",
       "      <th>parks_nearest</th>\n",
       "      <th>ponds_around3000</th>\n",
       "      <th>ponds_nearest</th>\n",
       "      <th>days_exposition</th>\n",
       "    </tr>\n",
       "  </thead>\n",
       "  <tbody>\n",
       "    <tr>\n",
       "      <th>0</th>\n",
       "      <td>20</td>\n",
       "      <td>13000000.0</td>\n",
       "      <td>108.0</td>\n",
       "      <td>2019-03-07</td>\n",
       "      <td>3</td>\n",
       "      <td>2.70</td>\n",
       "      <td>16.0</td>\n",
       "      <td>51.0</td>\n",
       "      <td>8</td>\n",
       "      <td>NaN</td>\n",
       "      <td>False</td>\n",
       "      <td>False</td>\n",
       "      <td>25.0</td>\n",
       "      <td>NaN</td>\n",
       "      <td>Санкт-Петербург</td>\n",
       "      <td>18863.0</td>\n",
       "      <td>16028.0</td>\n",
       "      <td>1.0</td>\n",
       "      <td>482.0</td>\n",
       "      <td>2.0</td>\n",
       "      <td>755.0</td>\n",
       "      <td>NaN</td>\n",
       "    </tr>\n",
       "    <tr>\n",
       "      <th>1</th>\n",
       "      <td>7</td>\n",
       "      <td>3350000.0</td>\n",
       "      <td>40.4</td>\n",
       "      <td>2018-12-04</td>\n",
       "      <td>1</td>\n",
       "      <td>NaN</td>\n",
       "      <td>11.0</td>\n",
       "      <td>18.6</td>\n",
       "      <td>1</td>\n",
       "      <td>NaN</td>\n",
       "      <td>False</td>\n",
       "      <td>False</td>\n",
       "      <td>11.0</td>\n",
       "      <td>2.0</td>\n",
       "      <td>посёлок Шушары</td>\n",
       "      <td>12817.0</td>\n",
       "      <td>18603.0</td>\n",
       "      <td>0.0</td>\n",
       "      <td>NaN</td>\n",
       "      <td>0.0</td>\n",
       "      <td>NaN</td>\n",
       "      <td>81.0</td>\n",
       "    </tr>\n",
       "    <tr>\n",
       "      <th>2</th>\n",
       "      <td>10</td>\n",
       "      <td>5196000.0</td>\n",
       "      <td>56.0</td>\n",
       "      <td>2015-08-20</td>\n",
       "      <td>2</td>\n",
       "      <td>NaN</td>\n",
       "      <td>5.0</td>\n",
       "      <td>34.3</td>\n",
       "      <td>4</td>\n",
       "      <td>NaN</td>\n",
       "      <td>False</td>\n",
       "      <td>False</td>\n",
       "      <td>8.3</td>\n",
       "      <td>0.0</td>\n",
       "      <td>Санкт-Петербург</td>\n",
       "      <td>21741.0</td>\n",
       "      <td>13933.0</td>\n",
       "      <td>1.0</td>\n",
       "      <td>90.0</td>\n",
       "      <td>2.0</td>\n",
       "      <td>574.0</td>\n",
       "      <td>558.0</td>\n",
       "    </tr>\n",
       "    <tr>\n",
       "      <th>3</th>\n",
       "      <td>0</td>\n",
       "      <td>64900000.0</td>\n",
       "      <td>159.0</td>\n",
       "      <td>2015-07-24</td>\n",
       "      <td>3</td>\n",
       "      <td>NaN</td>\n",
       "      <td>14.0</td>\n",
       "      <td>NaN</td>\n",
       "      <td>9</td>\n",
       "      <td>NaN</td>\n",
       "      <td>False</td>\n",
       "      <td>False</td>\n",
       "      <td>NaN</td>\n",
       "      <td>0.0</td>\n",
       "      <td>Санкт-Петербург</td>\n",
       "      <td>28098.0</td>\n",
       "      <td>6800.0</td>\n",
       "      <td>2.0</td>\n",
       "      <td>84.0</td>\n",
       "      <td>3.0</td>\n",
       "      <td>234.0</td>\n",
       "      <td>424.0</td>\n",
       "    </tr>\n",
       "    <tr>\n",
       "      <th>4</th>\n",
       "      <td>2</td>\n",
       "      <td>10000000.0</td>\n",
       "      <td>100.0</td>\n",
       "      <td>2018-06-19</td>\n",
       "      <td>2</td>\n",
       "      <td>3.03</td>\n",
       "      <td>14.0</td>\n",
       "      <td>32.0</td>\n",
       "      <td>13</td>\n",
       "      <td>NaN</td>\n",
       "      <td>False</td>\n",
       "      <td>False</td>\n",
       "      <td>41.0</td>\n",
       "      <td>NaN</td>\n",
       "      <td>Санкт-Петербург</td>\n",
       "      <td>31856.0</td>\n",
       "      <td>8098.0</td>\n",
       "      <td>2.0</td>\n",
       "      <td>112.0</td>\n",
       "      <td>1.0</td>\n",
       "      <td>48.0</td>\n",
       "      <td>121.0</td>\n",
       "    </tr>\n",
       "  </tbody>\n",
       "</table>\n",
       "</div>"
      ],
      "text/plain": [
       "   total_images  last_price  total_area first_day_exposition  rooms  \\\n",
       "0            20  13000000.0       108.0           2019-03-07      3   \n",
       "1             7   3350000.0        40.4           2018-12-04      1   \n",
       "2            10   5196000.0        56.0           2015-08-20      2   \n",
       "3             0  64900000.0       159.0           2015-07-24      3   \n",
       "4             2  10000000.0       100.0           2018-06-19      2   \n",
       "\n",
       "   ceiling_height  floors_total  living_area  floor is_apartment  studio  \\\n",
       "0            2.70          16.0         51.0      8          NaN   False   \n",
       "1             NaN          11.0         18.6      1          NaN   False   \n",
       "2             NaN           5.0         34.3      4          NaN   False   \n",
       "3             NaN          14.0          NaN      9          NaN   False   \n",
       "4            3.03          14.0         32.0     13          NaN   False   \n",
       "\n",
       "   open_plan  kitchen_area  balcony    locality_name  airports_nearest  \\\n",
       "0      False          25.0      NaN  Санкт-Петербург           18863.0   \n",
       "1      False          11.0      2.0   посёлок Шушары           12817.0   \n",
       "2      False           8.3      0.0  Санкт-Петербург           21741.0   \n",
       "3      False           NaN      0.0  Санкт-Петербург           28098.0   \n",
       "4      False          41.0      NaN  Санкт-Петербург           31856.0   \n",
       "\n",
       "   cityCenters_nearest  parks_around3000  parks_nearest  ponds_around3000  \\\n",
       "0              16028.0               1.0          482.0               2.0   \n",
       "1              18603.0               0.0            NaN               0.0   \n",
       "2              13933.0               1.0           90.0               2.0   \n",
       "3               6800.0               2.0           84.0               3.0   \n",
       "4               8098.0               2.0          112.0               1.0   \n",
       "\n",
       "   ponds_nearest  days_exposition  \n",
       "0          755.0              NaN  \n",
       "1            NaN             81.0  \n",
       "2          574.0            558.0  \n",
       "3          234.0            424.0  \n",
       "4           48.0            121.0  "
      ]
     },
     "execution_count": 4,
     "metadata": {},
     "output_type": "execute_result"
    }
   ],
   "source": [
    "data.head()"
   ]
  },
  {
   "cell_type": "code",
   "execution_count": 1,
   "metadata": {},
   "outputs": [
    {
     "ename": "NameError",
     "evalue": "name 'data' is not defined",
     "output_type": "error",
     "traceback": [
      "\u001b[0;31m---------------------------------------------------------------------------\u001b[0m",
      "\u001b[0;31mNameError\u001b[0m                                 Traceback (most recent call last)",
      "\u001b[0;32m/tmp/ipykernel_48/62301908.py\u001b[0m in \u001b[0;36m<module>\u001b[0;34m\u001b[0m\n\u001b[0;32m----> 1\u001b[0;31m \u001b[0mdata\u001b[0m \u001b[0;34m=\u001b[0m \u001b[0mdata\u001b[0m\u001b[0;34m.\u001b[0m\u001b[0mrename\u001b[0m\u001b[0;34m(\u001b[0m\u001b[0mcolumns\u001b[0m\u001b[0;34m=\u001b[0m\u001b[0;34m{\u001b[0m\u001b[0;34m\"cityCenters_nearest\"\u001b[0m\u001b[0;34m:\u001b[0m \u001b[0;34m\"city_centers_nearest\"\u001b[0m\u001b[0;34m}\u001b[0m\u001b[0;34m)\u001b[0m\u001b[0;34m\u001b[0m\u001b[0;34m\u001b[0m\u001b[0m\n\u001b[0m",
      "\u001b[0;31mNameError\u001b[0m: name 'data' is not defined"
     ]
    }
   ],
   "source": [
    "data = data.rename(columns={\"cityCenters_nearest\": \"city_centers_nearest\"})"
   ]
  },
  {
   "cell_type": "markdown",
   "metadata": {},
   "source": [
    "### Вывод"
   ]
  },
  {
   "cell_type": "markdown",
   "metadata": {},
   "source": [
    "Получили датасет с 23699 строками, 22 столбцами, разделитель \\t."
   ]
  },
  {
   "cell_type": "markdown",
   "metadata": {},
   "source": [
    "## Предобработка данных"
   ]
  },
  {
   "cell_type": "code",
   "execution_count": 6,
   "metadata": {
    "scrolled": true
   },
   "outputs": [],
   "source": [
    "def nan_values(df):\n",
    "    count_missing = df.isna().sum()\n",
    "    percentage_missing = round(df.isna().sum() * 100 / len(data), 2)\n",
    "    \n",
    "    missing_value_df = pd.DataFrame({'num_missing': count_missing,\n",
    "                                    'percententage_missing': percentage_missing})\n",
    "    return missing_value_df\n"
   ]
  },
  {
   "cell_type": "code",
   "execution_count": 7,
   "metadata": {
    "scrolled": true
   },
   "outputs": [
    {
     "data": {
      "text/html": [
       "<div>\n",
       "<style scoped>\n",
       "    .dataframe tbody tr th:only-of-type {\n",
       "        vertical-align: middle;\n",
       "    }\n",
       "\n",
       "    .dataframe tbody tr th {\n",
       "        vertical-align: top;\n",
       "    }\n",
       "\n",
       "    .dataframe thead th {\n",
       "        text-align: right;\n",
       "    }\n",
       "</style>\n",
       "<table border=\"1\" class=\"dataframe\">\n",
       "  <thead>\n",
       "    <tr style=\"text-align: right;\">\n",
       "      <th></th>\n",
       "      <th>num_missing</th>\n",
       "      <th>percententage_missing</th>\n",
       "    </tr>\n",
       "  </thead>\n",
       "  <tbody>\n",
       "    <tr>\n",
       "      <th>total_images</th>\n",
       "      <td>0</td>\n",
       "      <td>0.00</td>\n",
       "    </tr>\n",
       "    <tr>\n",
       "      <th>last_price</th>\n",
       "      <td>0</td>\n",
       "      <td>0.00</td>\n",
       "    </tr>\n",
       "    <tr>\n",
       "      <th>total_area</th>\n",
       "      <td>0</td>\n",
       "      <td>0.00</td>\n",
       "    </tr>\n",
       "    <tr>\n",
       "      <th>first_day_exposition</th>\n",
       "      <td>0</td>\n",
       "      <td>0.00</td>\n",
       "    </tr>\n",
       "    <tr>\n",
       "      <th>rooms</th>\n",
       "      <td>0</td>\n",
       "      <td>0.00</td>\n",
       "    </tr>\n",
       "    <tr>\n",
       "      <th>ceiling_height</th>\n",
       "      <td>9195</td>\n",
       "      <td>38.80</td>\n",
       "    </tr>\n",
       "    <tr>\n",
       "      <th>floors_total</th>\n",
       "      <td>86</td>\n",
       "      <td>0.36</td>\n",
       "    </tr>\n",
       "    <tr>\n",
       "      <th>living_area</th>\n",
       "      <td>1903</td>\n",
       "      <td>8.03</td>\n",
       "    </tr>\n",
       "    <tr>\n",
       "      <th>floor</th>\n",
       "      <td>0</td>\n",
       "      <td>0.00</td>\n",
       "    </tr>\n",
       "    <tr>\n",
       "      <th>is_apartment</th>\n",
       "      <td>20924</td>\n",
       "      <td>88.29</td>\n",
       "    </tr>\n",
       "    <tr>\n",
       "      <th>studio</th>\n",
       "      <td>0</td>\n",
       "      <td>0.00</td>\n",
       "    </tr>\n",
       "    <tr>\n",
       "      <th>open_plan</th>\n",
       "      <td>0</td>\n",
       "      <td>0.00</td>\n",
       "    </tr>\n",
       "    <tr>\n",
       "      <th>kitchen_area</th>\n",
       "      <td>2278</td>\n",
       "      <td>9.61</td>\n",
       "    </tr>\n",
       "    <tr>\n",
       "      <th>balcony</th>\n",
       "      <td>11519</td>\n",
       "      <td>48.61</td>\n",
       "    </tr>\n",
       "    <tr>\n",
       "      <th>locality_name</th>\n",
       "      <td>49</td>\n",
       "      <td>0.21</td>\n",
       "    </tr>\n",
       "    <tr>\n",
       "      <th>airports_nearest</th>\n",
       "      <td>5542</td>\n",
       "      <td>23.38</td>\n",
       "    </tr>\n",
       "    <tr>\n",
       "      <th>city_centers_nearest</th>\n",
       "      <td>5519</td>\n",
       "      <td>23.29</td>\n",
       "    </tr>\n",
       "    <tr>\n",
       "      <th>parks_around3000</th>\n",
       "      <td>5518</td>\n",
       "      <td>23.28</td>\n",
       "    </tr>\n",
       "    <tr>\n",
       "      <th>parks_nearest</th>\n",
       "      <td>15620</td>\n",
       "      <td>65.91</td>\n",
       "    </tr>\n",
       "    <tr>\n",
       "      <th>ponds_around3000</th>\n",
       "      <td>5518</td>\n",
       "      <td>23.28</td>\n",
       "    </tr>\n",
       "    <tr>\n",
       "      <th>ponds_nearest</th>\n",
       "      <td>14589</td>\n",
       "      <td>61.56</td>\n",
       "    </tr>\n",
       "    <tr>\n",
       "      <th>days_exposition</th>\n",
       "      <td>3181</td>\n",
       "      <td>13.42</td>\n",
       "    </tr>\n",
       "  </tbody>\n",
       "</table>\n",
       "</div>"
      ],
      "text/plain": [
       "                      num_missing  percententage_missing\n",
       "total_images                    0                   0.00\n",
       "last_price                      0                   0.00\n",
       "total_area                      0                   0.00\n",
       "first_day_exposition            0                   0.00\n",
       "rooms                           0                   0.00\n",
       "ceiling_height               9195                  38.80\n",
       "floors_total                   86                   0.36\n",
       "living_area                  1903                   8.03\n",
       "floor                           0                   0.00\n",
       "is_apartment                20924                  88.29\n",
       "studio                          0                   0.00\n",
       "open_plan                       0                   0.00\n",
       "kitchen_area                 2278                   9.61\n",
       "balcony                     11519                  48.61\n",
       "locality_name                  49                   0.21\n",
       "airports_nearest             5542                  23.38\n",
       "city_centers_nearest         5519                  23.29\n",
       "parks_around3000             5518                  23.28\n",
       "parks_nearest               15620                  65.91\n",
       "ponds_around3000             5518                  23.28\n",
       "ponds_nearest               14589                  61.56\n",
       "days_exposition              3181                  13.42"
      ]
     },
     "execution_count": 7,
     "metadata": {},
     "output_type": "execute_result"
    }
   ],
   "source": [
    "nan_values(data)"
   ]
  },
  {
   "cell_type": "code",
   "execution_count": 8,
   "metadata": {
    "scrolled": true
   },
   "outputs": [
    {
     "data": {
      "text/plain": [
       "total_images                0\n",
       "last_price                  0\n",
       "total_area                  0\n",
       "first_day_exposition        0\n",
       "rooms                       0\n",
       "ceiling_height           9195\n",
       "floors_total               86\n",
       "living_area              1903\n",
       "floor                       0\n",
       "is_apartment            20924\n",
       "studio                      0\n",
       "open_plan                   0\n",
       "kitchen_area             2278\n",
       "balcony                 11519\n",
       "locality_name              49\n",
       "airports_nearest         5542\n",
       "city_centers_nearest     5519\n",
       "parks_around3000         5518\n",
       "parks_nearest           15620\n",
       "ponds_around3000         5518\n",
       "ponds_nearest           14589\n",
       "days_exposition          3181\n",
       "dtype: int64"
      ]
     },
     "execution_count": 8,
     "metadata": {},
     "output_type": "execute_result"
    }
   ],
   "source": [
    "data.drop_duplicates().reset_index(drop=True)\n",
    "data.isna().sum()"
   ]
  },
  {
   "cell_type": "code",
   "execution_count": 9,
   "metadata": {},
   "outputs": [],
   "source": [
    "data['balcony'] = data['balcony'].fillna(0).astype(int)"
   ]
  },
  {
   "cell_type": "code",
   "execution_count": 10,
   "metadata": {},
   "outputs": [],
   "source": [
    "data['is_apartment'].unique()\n",
    "data['is_apartment'] = data['is_apartment'].fillna(False).astype(bool)"
   ]
  },
  {
   "cell_type": "code",
   "execution_count": 11,
   "metadata": {},
   "outputs": [
    {
     "data": {
      "text/html": [
       "<div>\n",
       "<style scoped>\n",
       "    .dataframe tbody tr th:only-of-type {\n",
       "        vertical-align: middle;\n",
       "    }\n",
       "\n",
       "    .dataframe tbody tr th {\n",
       "        vertical-align: top;\n",
       "    }\n",
       "\n",
       "    .dataframe thead th {\n",
       "        text-align: right;\n",
       "    }\n",
       "</style>\n",
       "<table border=\"1\" class=\"dataframe\">\n",
       "  <thead>\n",
       "    <tr style=\"text-align: right;\">\n",
       "      <th></th>\n",
       "      <th>total_images</th>\n",
       "      <th>last_price</th>\n",
       "      <th>total_area</th>\n",
       "      <th>first_day_exposition</th>\n",
       "      <th>rooms</th>\n",
       "      <th>ceiling_height</th>\n",
       "      <th>floors_total</th>\n",
       "      <th>living_area</th>\n",
       "      <th>floor</th>\n",
       "      <th>is_apartment</th>\n",
       "      <th>studio</th>\n",
       "      <th>open_plan</th>\n",
       "      <th>kitchen_area</th>\n",
       "      <th>balcony</th>\n",
       "      <th>locality_name</th>\n",
       "      <th>airports_nearest</th>\n",
       "      <th>city_centers_nearest</th>\n",
       "      <th>parks_around3000</th>\n",
       "      <th>parks_nearest</th>\n",
       "      <th>ponds_around3000</th>\n",
       "      <th>ponds_nearest</th>\n",
       "      <th>days_exposition</th>\n",
       "    </tr>\n",
       "  </thead>\n",
       "  <tbody>\n",
       "    <tr>\n",
       "      <th>186</th>\n",
       "      <td>12</td>\n",
       "      <td>11640000.0</td>\n",
       "      <td>65.2</td>\n",
       "      <td>2018-10-02</td>\n",
       "      <td>2</td>\n",
       "      <td>NaN</td>\n",
       "      <td>NaN</td>\n",
       "      <td>30.80</td>\n",
       "      <td>4</td>\n",
       "      <td>False</td>\n",
       "      <td>False</td>\n",
       "      <td>False</td>\n",
       "      <td>12.00</td>\n",
       "      <td>0</td>\n",
       "      <td>Санкт-Петербург</td>\n",
       "      <td>39197.0</td>\n",
       "      <td>12373.0</td>\n",
       "      <td>1.0</td>\n",
       "      <td>123.0</td>\n",
       "      <td>0.0</td>\n",
       "      <td>NaN</td>\n",
       "      <td>49.0</td>\n",
       "    </tr>\n",
       "    <tr>\n",
       "      <th>237</th>\n",
       "      <td>4</td>\n",
       "      <td>2438033.0</td>\n",
       "      <td>28.1</td>\n",
       "      <td>2016-11-23</td>\n",
       "      <td>1</td>\n",
       "      <td>NaN</td>\n",
       "      <td>NaN</td>\n",
       "      <td>20.75</td>\n",
       "      <td>1</td>\n",
       "      <td>False</td>\n",
       "      <td>False</td>\n",
       "      <td>False</td>\n",
       "      <td>NaN</td>\n",
       "      <td>0</td>\n",
       "      <td>Санкт-Петербург</td>\n",
       "      <td>22041.0</td>\n",
       "      <td>17369.0</td>\n",
       "      <td>0.0</td>\n",
       "      <td>NaN</td>\n",
       "      <td>1.0</td>\n",
       "      <td>374.0</td>\n",
       "      <td>251.0</td>\n",
       "    </tr>\n",
       "    <tr>\n",
       "      <th>457</th>\n",
       "      <td>4</td>\n",
       "      <td>9788348.0</td>\n",
       "      <td>70.8</td>\n",
       "      <td>2015-08-01</td>\n",
       "      <td>2</td>\n",
       "      <td>NaN</td>\n",
       "      <td>NaN</td>\n",
       "      <td>38.40</td>\n",
       "      <td>12</td>\n",
       "      <td>False</td>\n",
       "      <td>False</td>\n",
       "      <td>False</td>\n",
       "      <td>10.63</td>\n",
       "      <td>0</td>\n",
       "      <td>Санкт-Петербург</td>\n",
       "      <td>37364.0</td>\n",
       "      <td>8322.0</td>\n",
       "      <td>2.0</td>\n",
       "      <td>309.0</td>\n",
       "      <td>2.0</td>\n",
       "      <td>706.0</td>\n",
       "      <td>727.0</td>\n",
       "    </tr>\n",
       "    <tr>\n",
       "      <th>671</th>\n",
       "      <td>4</td>\n",
       "      <td>6051191.0</td>\n",
       "      <td>93.6</td>\n",
       "      <td>2017-04-06</td>\n",
       "      <td>3</td>\n",
       "      <td>NaN</td>\n",
       "      <td>NaN</td>\n",
       "      <td>47.10</td>\n",
       "      <td>8</td>\n",
       "      <td>False</td>\n",
       "      <td>False</td>\n",
       "      <td>False</td>\n",
       "      <td>16.80</td>\n",
       "      <td>0</td>\n",
       "      <td>Санкт-Петербург</td>\n",
       "      <td>22041.0</td>\n",
       "      <td>17369.0</td>\n",
       "      <td>0.0</td>\n",
       "      <td>NaN</td>\n",
       "      <td>1.0</td>\n",
       "      <td>374.0</td>\n",
       "      <td>123.0</td>\n",
       "    </tr>\n",
       "    <tr>\n",
       "      <th>1757</th>\n",
       "      <td>5</td>\n",
       "      <td>3600000.0</td>\n",
       "      <td>39.0</td>\n",
       "      <td>2017-04-22</td>\n",
       "      <td>1</td>\n",
       "      <td>NaN</td>\n",
       "      <td>NaN</td>\n",
       "      <td>NaN</td>\n",
       "      <td>9</td>\n",
       "      <td>False</td>\n",
       "      <td>False</td>\n",
       "      <td>False</td>\n",
       "      <td>NaN</td>\n",
       "      <td>0</td>\n",
       "      <td>Санкт-Петербург</td>\n",
       "      <td>22735.0</td>\n",
       "      <td>11618.0</td>\n",
       "      <td>1.0</td>\n",
       "      <td>835.0</td>\n",
       "      <td>1.0</td>\n",
       "      <td>652.0</td>\n",
       "      <td>77.0</td>\n",
       "    </tr>\n",
       "    <tr>\n",
       "      <th>...</th>\n",
       "      <td>...</td>\n",
       "      <td>...</td>\n",
       "      <td>...</td>\n",
       "      <td>...</td>\n",
       "      <td>...</td>\n",
       "      <td>...</td>\n",
       "      <td>...</td>\n",
       "      <td>...</td>\n",
       "      <td>...</td>\n",
       "      <td>...</td>\n",
       "      <td>...</td>\n",
       "      <td>...</td>\n",
       "      <td>...</td>\n",
       "      <td>...</td>\n",
       "      <td>...</td>\n",
       "      <td>...</td>\n",
       "      <td>...</td>\n",
       "      <td>...</td>\n",
       "      <td>...</td>\n",
       "      <td>...</td>\n",
       "      <td>...</td>\n",
       "      <td>...</td>\n",
       "    </tr>\n",
       "    <tr>\n",
       "      <th>22542</th>\n",
       "      <td>5</td>\n",
       "      <td>8500000.0</td>\n",
       "      <td>63.5</td>\n",
       "      <td>2017-05-24</td>\n",
       "      <td>2</td>\n",
       "      <td>2.8</td>\n",
       "      <td>NaN</td>\n",
       "      <td>NaN</td>\n",
       "      <td>3</td>\n",
       "      <td>False</td>\n",
       "      <td>False</td>\n",
       "      <td>False</td>\n",
       "      <td>NaN</td>\n",
       "      <td>0</td>\n",
       "      <td>Санкт-Петербург</td>\n",
       "      <td>51340.0</td>\n",
       "      <td>15363.0</td>\n",
       "      <td>0.0</td>\n",
       "      <td>NaN</td>\n",
       "      <td>1.0</td>\n",
       "      <td>853.0</td>\n",
       "      <td>512.0</td>\n",
       "    </tr>\n",
       "    <tr>\n",
       "      <th>22656</th>\n",
       "      <td>4</td>\n",
       "      <td>4574160.0</td>\n",
       "      <td>64.5</td>\n",
       "      <td>2017-04-02</td>\n",
       "      <td>2</td>\n",
       "      <td>NaN</td>\n",
       "      <td>NaN</td>\n",
       "      <td>31.70</td>\n",
       "      <td>20</td>\n",
       "      <td>False</td>\n",
       "      <td>False</td>\n",
       "      <td>False</td>\n",
       "      <td>14.40</td>\n",
       "      <td>0</td>\n",
       "      <td>Санкт-Петербург</td>\n",
       "      <td>22041.0</td>\n",
       "      <td>17369.0</td>\n",
       "      <td>0.0</td>\n",
       "      <td>NaN</td>\n",
       "      <td>1.0</td>\n",
       "      <td>374.0</td>\n",
       "      <td>127.0</td>\n",
       "    </tr>\n",
       "    <tr>\n",
       "      <th>22808</th>\n",
       "      <td>0</td>\n",
       "      <td>14569263.0</td>\n",
       "      <td>110.4</td>\n",
       "      <td>2016-11-20</td>\n",
       "      <td>3</td>\n",
       "      <td>NaN</td>\n",
       "      <td>NaN</td>\n",
       "      <td>45.38</td>\n",
       "      <td>6</td>\n",
       "      <td>False</td>\n",
       "      <td>False</td>\n",
       "      <td>False</td>\n",
       "      <td>23.42</td>\n",
       "      <td>0</td>\n",
       "      <td>Санкт-Петербург</td>\n",
       "      <td>19095.0</td>\n",
       "      <td>4529.0</td>\n",
       "      <td>0.0</td>\n",
       "      <td>NaN</td>\n",
       "      <td>0.0</td>\n",
       "      <td>NaN</td>\n",
       "      <td>260.0</td>\n",
       "    </tr>\n",
       "    <tr>\n",
       "      <th>23590</th>\n",
       "      <td>0</td>\n",
       "      <td>21187872.0</td>\n",
       "      <td>123.3</td>\n",
       "      <td>2017-04-25</td>\n",
       "      <td>3</td>\n",
       "      <td>NaN</td>\n",
       "      <td>NaN</td>\n",
       "      <td>50.40</td>\n",
       "      <td>18</td>\n",
       "      <td>False</td>\n",
       "      <td>False</td>\n",
       "      <td>False</td>\n",
       "      <td>23.60</td>\n",
       "      <td>0</td>\n",
       "      <td>Санкт-Петербург</td>\n",
       "      <td>19095.0</td>\n",
       "      <td>4529.0</td>\n",
       "      <td>0.0</td>\n",
       "      <td>NaN</td>\n",
       "      <td>0.0</td>\n",
       "      <td>NaN</td>\n",
       "      <td>104.0</td>\n",
       "    </tr>\n",
       "    <tr>\n",
       "      <th>23658</th>\n",
       "      <td>6</td>\n",
       "      <td>3063600.0</td>\n",
       "      <td>43.8</td>\n",
       "      <td>2016-11-28</td>\n",
       "      <td>1</td>\n",
       "      <td>2.7</td>\n",
       "      <td>NaN</td>\n",
       "      <td>14.00</td>\n",
       "      <td>8</td>\n",
       "      <td>False</td>\n",
       "      <td>False</td>\n",
       "      <td>False</td>\n",
       "      <td>15.50</td>\n",
       "      <td>2</td>\n",
       "      <td>Санкт-Петербург</td>\n",
       "      <td>8426.0</td>\n",
       "      <td>12082.0</td>\n",
       "      <td>2.0</td>\n",
       "      <td>24.0</td>\n",
       "      <td>1.0</td>\n",
       "      <td>271.0</td>\n",
       "      <td>246.0</td>\n",
       "    </tr>\n",
       "  </tbody>\n",
       "</table>\n",
       "<p>86 rows × 22 columns</p>\n",
       "</div>"
      ],
      "text/plain": [
       "       total_images  last_price  total_area first_day_exposition  rooms  \\\n",
       "186              12  11640000.0        65.2           2018-10-02      2   \n",
       "237               4   2438033.0        28.1           2016-11-23      1   \n",
       "457               4   9788348.0        70.8           2015-08-01      2   \n",
       "671               4   6051191.0        93.6           2017-04-06      3   \n",
       "1757              5   3600000.0        39.0           2017-04-22      1   \n",
       "...             ...         ...         ...                  ...    ...   \n",
       "22542             5   8500000.0        63.5           2017-05-24      2   \n",
       "22656             4   4574160.0        64.5           2017-04-02      2   \n",
       "22808             0  14569263.0       110.4           2016-11-20      3   \n",
       "23590             0  21187872.0       123.3           2017-04-25      3   \n",
       "23658             6   3063600.0        43.8           2016-11-28      1   \n",
       "\n",
       "       ceiling_height  floors_total  living_area  floor  is_apartment  studio  \\\n",
       "186               NaN           NaN        30.80      4         False   False   \n",
       "237               NaN           NaN        20.75      1         False   False   \n",
       "457               NaN           NaN        38.40     12         False   False   \n",
       "671               NaN           NaN        47.10      8         False   False   \n",
       "1757              NaN           NaN          NaN      9         False   False   \n",
       "...               ...           ...          ...    ...           ...     ...   \n",
       "22542             2.8           NaN          NaN      3         False   False   \n",
       "22656             NaN           NaN        31.70     20         False   False   \n",
       "22808             NaN           NaN        45.38      6         False   False   \n",
       "23590             NaN           NaN        50.40     18         False   False   \n",
       "23658             2.7           NaN        14.00      8         False   False   \n",
       "\n",
       "       open_plan  kitchen_area  balcony    locality_name  airports_nearest  \\\n",
       "186        False         12.00        0  Санкт-Петербург           39197.0   \n",
       "237        False           NaN        0  Санкт-Петербург           22041.0   \n",
       "457        False         10.63        0  Санкт-Петербург           37364.0   \n",
       "671        False         16.80        0  Санкт-Петербург           22041.0   \n",
       "1757       False           NaN        0  Санкт-Петербург           22735.0   \n",
       "...          ...           ...      ...              ...               ...   \n",
       "22542      False           NaN        0  Санкт-Петербург           51340.0   \n",
       "22656      False         14.40        0  Санкт-Петербург           22041.0   \n",
       "22808      False         23.42        0  Санкт-Петербург           19095.0   \n",
       "23590      False         23.60        0  Санкт-Петербург           19095.0   \n",
       "23658      False         15.50        2  Санкт-Петербург            8426.0   \n",
       "\n",
       "       city_centers_nearest  parks_around3000  parks_nearest  \\\n",
       "186                 12373.0               1.0          123.0   \n",
       "237                 17369.0               0.0            NaN   \n",
       "457                  8322.0               2.0          309.0   \n",
       "671                 17369.0               0.0            NaN   \n",
       "1757                11618.0               1.0          835.0   \n",
       "...                     ...               ...            ...   \n",
       "22542               15363.0               0.0            NaN   \n",
       "22656               17369.0               0.0            NaN   \n",
       "22808                4529.0               0.0            NaN   \n",
       "23590                4529.0               0.0            NaN   \n",
       "23658               12082.0               2.0           24.0   \n",
       "\n",
       "       ponds_around3000  ponds_nearest  days_exposition  \n",
       "186                 0.0            NaN             49.0  \n",
       "237                 1.0          374.0            251.0  \n",
       "457                 2.0          706.0            727.0  \n",
       "671                 1.0          374.0            123.0  \n",
       "1757                1.0          652.0             77.0  \n",
       "...                 ...            ...              ...  \n",
       "22542               1.0          853.0            512.0  \n",
       "22656               1.0          374.0            127.0  \n",
       "22808               0.0            NaN            260.0  \n",
       "23590               0.0            NaN            104.0  \n",
       "23658               1.0          271.0            246.0  \n",
       "\n",
       "[86 rows x 22 columns]"
      ]
     },
     "execution_count": 11,
     "metadata": {},
     "output_type": "execute_result"
    }
   ],
   "source": [
    "data[data['floors_total'].isna()]"
   ]
  },
  {
   "cell_type": "markdown",
   "metadata": {},
   "source": [
    "## Расчёты и добавление результатов в таблицу"
   ]
  },
  {
   "cell_type": "code",
   "execution_count": 12,
   "metadata": {},
   "outputs": [
    {
     "data": {
      "text/html": [
       "<div>\n",
       "<style scoped>\n",
       "    .dataframe tbody tr th:only-of-type {\n",
       "        vertical-align: middle;\n",
       "    }\n",
       "\n",
       "    .dataframe tbody tr th {\n",
       "        vertical-align: top;\n",
       "    }\n",
       "\n",
       "    .dataframe thead th {\n",
       "        text-align: right;\n",
       "    }\n",
       "</style>\n",
       "<table border=\"1\" class=\"dataframe\">\n",
       "  <thead>\n",
       "    <tr style=\"text-align: right;\">\n",
       "      <th></th>\n",
       "      <th>total_images</th>\n",
       "      <th>last_price</th>\n",
       "      <th>total_area</th>\n",
       "      <th>first_day_exposition</th>\n",
       "      <th>rooms</th>\n",
       "      <th>ceiling_height</th>\n",
       "      <th>floors_total</th>\n",
       "      <th>living_area</th>\n",
       "      <th>floor</th>\n",
       "      <th>is_apartment</th>\n",
       "      <th>studio</th>\n",
       "      <th>open_plan</th>\n",
       "      <th>kitchen_area</th>\n",
       "      <th>balcony</th>\n",
       "      <th>locality_name</th>\n",
       "      <th>airports_nearest</th>\n",
       "      <th>city_centers_nearest</th>\n",
       "      <th>parks_around3000</th>\n",
       "      <th>parks_nearest</th>\n",
       "      <th>ponds_around3000</th>\n",
       "      <th>ponds_nearest</th>\n",
       "      <th>days_exposition</th>\n",
       "      <th>floor_category</th>\n",
       "      <th>living_total_area</th>\n",
       "      <th>kitchen_total_area</th>\n",
       "      <th>price_per_sqm</th>\n",
       "      <th>day_of_the_week</th>\n",
       "      <th>month</th>\n",
       "      <th>year</th>\n",
       "    </tr>\n",
       "  </thead>\n",
       "  <tbody>\n",
       "    <tr>\n",
       "      <th>0</th>\n",
       "      <td>20</td>\n",
       "      <td>13000000.0</td>\n",
       "      <td>108.0</td>\n",
       "      <td>2019-03-07</td>\n",
       "      <td>3</td>\n",
       "      <td>2.70</td>\n",
       "      <td>16.0</td>\n",
       "      <td>51.0</td>\n",
       "      <td>8</td>\n",
       "      <td>False</td>\n",
       "      <td>False</td>\n",
       "      <td>False</td>\n",
       "      <td>25.0</td>\n",
       "      <td>0</td>\n",
       "      <td>Санкт-Петербург</td>\n",
       "      <td>18863.0</td>\n",
       "      <td>16028.0</td>\n",
       "      <td>1.0</td>\n",
       "      <td>482.0</td>\n",
       "      <td>2.0</td>\n",
       "      <td>755.0</td>\n",
       "      <td>NaN</td>\n",
       "      <td>другой</td>\n",
       "      <td>0.472222</td>\n",
       "      <td>0.231481</td>\n",
       "      <td>120370.370370</td>\n",
       "      <td>3</td>\n",
       "      <td>3</td>\n",
       "      <td>2019</td>\n",
       "    </tr>\n",
       "    <tr>\n",
       "      <th>1</th>\n",
       "      <td>7</td>\n",
       "      <td>3350000.0</td>\n",
       "      <td>40.4</td>\n",
       "      <td>2018-12-04</td>\n",
       "      <td>1</td>\n",
       "      <td>NaN</td>\n",
       "      <td>11.0</td>\n",
       "      <td>18.6</td>\n",
       "      <td>1</td>\n",
       "      <td>False</td>\n",
       "      <td>False</td>\n",
       "      <td>False</td>\n",
       "      <td>11.0</td>\n",
       "      <td>2</td>\n",
       "      <td>посёлок Шушары</td>\n",
       "      <td>12817.0</td>\n",
       "      <td>18603.0</td>\n",
       "      <td>0.0</td>\n",
       "      <td>NaN</td>\n",
       "      <td>0.0</td>\n",
       "      <td>NaN</td>\n",
       "      <td>81.0</td>\n",
       "      <td>первый</td>\n",
       "      <td>0.460396</td>\n",
       "      <td>0.272277</td>\n",
       "      <td>82920.792079</td>\n",
       "      <td>1</td>\n",
       "      <td>1</td>\n",
       "      <td>2018</td>\n",
       "    </tr>\n",
       "    <tr>\n",
       "      <th>2</th>\n",
       "      <td>10</td>\n",
       "      <td>5196000.0</td>\n",
       "      <td>56.0</td>\n",
       "      <td>2015-08-20</td>\n",
       "      <td>2</td>\n",
       "      <td>NaN</td>\n",
       "      <td>5.0</td>\n",
       "      <td>34.3</td>\n",
       "      <td>4</td>\n",
       "      <td>False</td>\n",
       "      <td>False</td>\n",
       "      <td>False</td>\n",
       "      <td>8.3</td>\n",
       "      <td>0</td>\n",
       "      <td>Санкт-Петербург</td>\n",
       "      <td>21741.0</td>\n",
       "      <td>13933.0</td>\n",
       "      <td>1.0</td>\n",
       "      <td>90.0</td>\n",
       "      <td>2.0</td>\n",
       "      <td>574.0</td>\n",
       "      <td>558.0</td>\n",
       "      <td>другой</td>\n",
       "      <td>0.612500</td>\n",
       "      <td>0.148214</td>\n",
       "      <td>92785.714286</td>\n",
       "      <td>3</td>\n",
       "      <td>3</td>\n",
       "      <td>2015</td>\n",
       "    </tr>\n",
       "    <tr>\n",
       "      <th>3</th>\n",
       "      <td>0</td>\n",
       "      <td>64900000.0</td>\n",
       "      <td>159.0</td>\n",
       "      <td>2015-07-24</td>\n",
       "      <td>3</td>\n",
       "      <td>NaN</td>\n",
       "      <td>14.0</td>\n",
       "      <td>NaN</td>\n",
       "      <td>9</td>\n",
       "      <td>False</td>\n",
       "      <td>False</td>\n",
       "      <td>False</td>\n",
       "      <td>NaN</td>\n",
       "      <td>0</td>\n",
       "      <td>Санкт-Петербург</td>\n",
       "      <td>28098.0</td>\n",
       "      <td>6800.0</td>\n",
       "      <td>2.0</td>\n",
       "      <td>84.0</td>\n",
       "      <td>3.0</td>\n",
       "      <td>234.0</td>\n",
       "      <td>424.0</td>\n",
       "      <td>другой</td>\n",
       "      <td>NaN</td>\n",
       "      <td>NaN</td>\n",
       "      <td>408176.100629</td>\n",
       "      <td>4</td>\n",
       "      <td>4</td>\n",
       "      <td>2015</td>\n",
       "    </tr>\n",
       "    <tr>\n",
       "      <th>4</th>\n",
       "      <td>2</td>\n",
       "      <td>10000000.0</td>\n",
       "      <td>100.0</td>\n",
       "      <td>2018-06-19</td>\n",
       "      <td>2</td>\n",
       "      <td>3.03</td>\n",
       "      <td>14.0</td>\n",
       "      <td>32.0</td>\n",
       "      <td>13</td>\n",
       "      <td>False</td>\n",
       "      <td>False</td>\n",
       "      <td>False</td>\n",
       "      <td>41.0</td>\n",
       "      <td>0</td>\n",
       "      <td>Санкт-Петербург</td>\n",
       "      <td>31856.0</td>\n",
       "      <td>8098.0</td>\n",
       "      <td>2.0</td>\n",
       "      <td>112.0</td>\n",
       "      <td>1.0</td>\n",
       "      <td>48.0</td>\n",
       "      <td>121.0</td>\n",
       "      <td>другой</td>\n",
       "      <td>0.320000</td>\n",
       "      <td>0.410000</td>\n",
       "      <td>100000.000000</td>\n",
       "      <td>1</td>\n",
       "      <td>1</td>\n",
       "      <td>2018</td>\n",
       "    </tr>\n",
       "  </tbody>\n",
       "</table>\n",
       "</div>"
      ],
      "text/plain": [
       "   total_images  last_price  total_area first_day_exposition  rooms  \\\n",
       "0            20  13000000.0       108.0           2019-03-07      3   \n",
       "1             7   3350000.0        40.4           2018-12-04      1   \n",
       "2            10   5196000.0        56.0           2015-08-20      2   \n",
       "3             0  64900000.0       159.0           2015-07-24      3   \n",
       "4             2  10000000.0       100.0           2018-06-19      2   \n",
       "\n",
       "   ceiling_height  floors_total  living_area  floor  is_apartment  studio  \\\n",
       "0            2.70          16.0         51.0      8         False   False   \n",
       "1             NaN          11.0         18.6      1         False   False   \n",
       "2             NaN           5.0         34.3      4         False   False   \n",
       "3             NaN          14.0          NaN      9         False   False   \n",
       "4            3.03          14.0         32.0     13         False   False   \n",
       "\n",
       "   open_plan  kitchen_area  balcony    locality_name  airports_nearest  \\\n",
       "0      False          25.0        0  Санкт-Петербург           18863.0   \n",
       "1      False          11.0        2   посёлок Шушары           12817.0   \n",
       "2      False           8.3        0  Санкт-Петербург           21741.0   \n",
       "3      False           NaN        0  Санкт-Петербург           28098.0   \n",
       "4      False          41.0        0  Санкт-Петербург           31856.0   \n",
       "\n",
       "   city_centers_nearest  parks_around3000  parks_nearest  ponds_around3000  \\\n",
       "0               16028.0               1.0          482.0               2.0   \n",
       "1               18603.0               0.0            NaN               0.0   \n",
       "2               13933.0               1.0           90.0               2.0   \n",
       "3                6800.0               2.0           84.0               3.0   \n",
       "4                8098.0               2.0          112.0               1.0   \n",
       "\n",
       "   ponds_nearest  days_exposition floor_category  living_total_area  \\\n",
       "0          755.0              NaN         другой           0.472222   \n",
       "1            NaN             81.0         первый           0.460396   \n",
       "2          574.0            558.0         другой           0.612500   \n",
       "3          234.0            424.0         другой                NaN   \n",
       "4           48.0            121.0         другой           0.320000   \n",
       "\n",
       "   kitchen_total_area  price_per_sqm  day_of_the_week  month  year  \n",
       "0            0.231481  120370.370370                3      3  2019  \n",
       "1            0.272277   82920.792079                1      1  2018  \n",
       "2            0.148214   92785.714286                3      3  2015  \n",
       "3                 NaN  408176.100629                4      4  2015  \n",
       "4            0.410000  100000.000000                1      1  2018  "
      ]
     },
     "execution_count": 12,
     "metadata": {},
     "output_type": "execute_result"
    }
   ],
   "source": [
    "def floor_category(df):\n",
    "    floor = df['floor']\n",
    "    floors_total = df['floors_total']\n",
    "    floor_category = 'другой'\n",
    "    if floor == 1:\n",
    "        floor_category = 'первый'\n",
    "    if floor == floors_total:\n",
    "        floor_category = 'последний'\n",
    "    return floor_category\n",
    "\n",
    "#col = 'floor'\n",
    "#conditions = [df[col] == 1,\n",
    "#              df[col] >= data['floors_total']]\n",
    "#choices = ['первый', 'последний']\n",
    "#data['floor_category'] = np.select(conditions, choices, default='другой')\n",
    "        \n",
    "data['floor_category'] = data.apply(floor_category, axis=1)\n",
    "data['living_total_area'] = data['living_area'] / data['total_area']\n",
    "data['kitchen_total_area'] = data['kitchen_area'] / data['total_area']\n",
    "data['price_per_sqm'] = data['last_price'] / data['total_area']\n",
    "data['day_of_the_week'] = data['first_day_exposition'].dt.dayofweek\n",
    "data['month'] = data['first_day_exposition'].dt.dayofweek\n",
    "data['year'] = data['first_day_exposition'].dt.year\n",
    "data.head()"
   ]
  },
  {
   "cell_type": "code",
   "execution_count": 15,
   "metadata": {},
   "outputs": [
    {
     "data": {
      "text/plain": [
       "<AxesSubplot:>"
      ]
     },
     "execution_count": 15,
     "metadata": {},
     "output_type": "execute_result"
    },
    {
     "data": {
      "image/png": "[encoded data removed]",
      "text/plain": [
       "<Figure size 432x288 with 1 Axes>"
      ]
     },
     "metadata": {
      "needs_background": "light"
     },
     "output_type": "display_data"
    }
   ],
   "source": [
    "data['total_area'].hist(range=(0,300), bins=30)"
   ]
  },
  {
   "cell_type": "code",
   "execution_count": 16,
   "metadata": {},
   "outputs": [
    {
     "data": {
      "text/plain": [
       "<AxesSubplot:>"
      ]
     },
     "execution_count": 16,
     "metadata": {},
     "output_type": "execute_result"
    },
    {
     "data": {
      "image/png": "[encoded data removed]",
      "text/plain": [
       "<Figure size 432x288 with 1 Axes>"
      ]
     },
     "metadata": {
      "needs_background": "light"
     },
     "output_type": "display_data"
    }
   ],
   "source": [
    "data['last_price'] = data['last_price'] / 1000000\n",
    "data['last_price'].hist(range=(0, 60), bins=60)\n",
    "#перевели цену в млн"
   ]
  },
  {
   "cell_type": "code",
   "execution_count": 17,
   "metadata": {},
   "outputs": [
    {
     "data": {
      "text/plain": [
       "<AxesSubplot:>"
      ]
     },
     "execution_count": 17,
     "metadata": {},
     "output_type": "execute_result"
    },
    {
     "data": {
      "image/png": "[encoded data removed]",
      "text/plain": [
       "<Figure size 432x288 with 1 Axes>"
      ]
     },
     "metadata": {
      "needs_background": "light"
     },
     "output_type": "display_data"
    }
   ],
   "source": [
    "data['rooms'].hist(range=(0,8), bins=8)\n",
    "#какой то странный провал между"
   ]
  },
  {
   "cell_type": "code",
   "execution_count": 18,
   "metadata": {},
   "outputs": [
    {
     "data": {
      "text/plain": [
       "<AxesSubplot:>"
      ]
     },
     "execution_count": 18,
     "metadata": {},
     "output_type": "execute_result"
    },
    {
     "data": {
      "image/png": "[encoded data removed]",
      "text/plain": [
       "<Figure size 432x288 with 1 Axes>"
      ]
     },
     "metadata": {
      "needs_background": "light"
     },
     "output_type": "display_data"
    }
   ],
   "source": [
    "data['ceiling_height'].hist(range=(2,4), bins=20)"
   ]
  },
  {
   "cell_type": "code",
   "execution_count": 19,
   "metadata": {},
   "outputs": [
    {
     "data": {
      "text/plain": [
       "<AxesSubplot:>"
      ]
     },
     "execution_count": 19,
     "metadata": {},
     "output_type": "execute_result"
    },
    {
     "data": {
      "image/png": "[encoded data removed]",
      "text/plain": [
       "<Figure size 432x288 with 1 Axes>"
      ]
     },
     "metadata": {
      "needs_background": "light"
     },
     "output_type": "display_data"
    }
   ],
   "source": [
    "data['days_exposition'].hist(bins=20, range=(0,1400))"
   ]
  },
  {
   "cell_type": "code",
   "execution_count": 18,
   "metadata": {},
   "outputs": [
    {
     "data": {
      "text/plain": [
       "Text(0, 0.5, 'Количество объявлений')"
      ]
     },
     "execution_count": 18,
     "metadata": {},
     "output_type": "execute_result"
    },
    {
     "data": {
      "image/png": "[encoded data removed]",
      "text/plain": [
       "<Figure size 432x288 with 1 Axes>"
      ]
     },
     "metadata": {
      "needs_background": "light"
     },
     "output_type": "display_data"
    }
   ],
   "source": [
    "plt.hist(data['days_exposition'], bins=20, range=(0,1400), label='Длительность размещения')\n",
    "plt.xlabel(\"Длительность размещения\")\n",
    "plt.ylabel('Количество объявлений')"
   ]
  },
  {
   "cell_type": "code",
   "execution_count": 19,
   "metadata": {},
   "outputs": [
    {
     "data": {
      "text/plain": [
       "count    20518.000000\n",
       "mean       180.888634\n",
       "std        219.727988\n",
       "min          1.000000\n",
       "25%         45.000000\n",
       "50%         95.000000\n",
       "75%        232.000000\n",
       "max       1580.000000\n",
       "Name: days_exposition, dtype: float64"
      ]
     },
     "execution_count": 19,
     "metadata": {},
     "output_type": "execute_result"
    }
   ],
   "source": [
    "data['days_exposition'].describe()"
   ]
  },
  {
   "cell_type": "code",
   "execution_count": 20,
   "metadata": {},
   "outputs": [
    {
     "data": {
      "text/plain": [
       "95.0"
      ]
     },
     "execution_count": 20,
     "metadata": {},
     "output_type": "execute_result"
    }
   ],
   "source": [
    "data['days_exposition'].median()"
   ]
  },
  {
   "cell_type": "code",
   "execution_count": 21,
   "metadata": {},
   "outputs": [
    {
     "data": {
      "text/html": [
       "<div>\n",
       "<style scoped>\n",
       "    .dataframe tbody tr th:only-of-type {\n",
       "        vertical-align: middle;\n",
       "    }\n",
       "\n",
       "    .dataframe tbody tr th {\n",
       "        vertical-align: top;\n",
       "    }\n",
       "\n",
       "    .dataframe thead th {\n",
       "        text-align: right;\n",
       "    }\n",
       "</style>\n",
       "<table border=\"1\" class=\"dataframe\">\n",
       "  <thead>\n",
       "    <tr style=\"text-align: right;\">\n",
       "      <th></th>\n",
       "      <th>total_images</th>\n",
       "      <th>last_price</th>\n",
       "      <th>total_area</th>\n",
       "      <th>first_day_exposition</th>\n",
       "      <th>rooms</th>\n",
       "      <th>ceiling_height</th>\n",
       "      <th>floors_total</th>\n",
       "      <th>living_area</th>\n",
       "      <th>floor</th>\n",
       "      <th>is_apartment</th>\n",
       "      <th>studio</th>\n",
       "      <th>open_plan</th>\n",
       "      <th>kitchen_area</th>\n",
       "      <th>balcony</th>\n",
       "      <th>locality_name</th>\n",
       "      <th>airports_nearest</th>\n",
       "      <th>city_centers_nearest</th>\n",
       "      <th>parks_around3000</th>\n",
       "      <th>parks_nearest</th>\n",
       "      <th>ponds_around3000</th>\n",
       "      <th>ponds_nearest</th>\n",
       "      <th>days_exposition</th>\n",
       "      <th>floor_category</th>\n",
       "      <th>living_total_area</th>\n",
       "      <th>kitchen_total_area</th>\n",
       "      <th>price_per_sqm</th>\n",
       "      <th>day_of_the_week</th>\n",
       "      <th>month</th>\n",
       "      <th>year</th>\n",
       "    </tr>\n",
       "  </thead>\n",
       "  <tbody>\n",
       "    <tr>\n",
       "      <th>0</th>\n",
       "      <td>20</td>\n",
       "      <td>13.000</td>\n",
       "      <td>108.0</td>\n",
       "      <td>2019-03-07</td>\n",
       "      <td>3</td>\n",
       "      <td>2.70</td>\n",
       "      <td>16.0</td>\n",
       "      <td>51.0</td>\n",
       "      <td>8</td>\n",
       "      <td>False</td>\n",
       "      <td>False</td>\n",
       "      <td>False</td>\n",
       "      <td>25.0</td>\n",
       "      <td>0</td>\n",
       "      <td>Санкт-Петербург</td>\n",
       "      <td>18863.0</td>\n",
       "      <td>16028.0</td>\n",
       "      <td>1.0</td>\n",
       "      <td>482.0</td>\n",
       "      <td>2.0</td>\n",
       "      <td>755.0</td>\n",
       "      <td>NaN</td>\n",
       "      <td>другой</td>\n",
       "      <td>0.472222</td>\n",
       "      <td>0.231481</td>\n",
       "      <td>120370.370370</td>\n",
       "      <td>3</td>\n",
       "      <td>3</td>\n",
       "      <td>2019</td>\n",
       "    </tr>\n",
       "    <tr>\n",
       "      <th>1</th>\n",
       "      <td>7</td>\n",
       "      <td>3.350</td>\n",
       "      <td>40.4</td>\n",
       "      <td>2018-12-04</td>\n",
       "      <td>1</td>\n",
       "      <td>NaN</td>\n",
       "      <td>11.0</td>\n",
       "      <td>18.6</td>\n",
       "      <td>1</td>\n",
       "      <td>False</td>\n",
       "      <td>False</td>\n",
       "      <td>False</td>\n",
       "      <td>11.0</td>\n",
       "      <td>2</td>\n",
       "      <td>посёлок Шушары</td>\n",
       "      <td>12817.0</td>\n",
       "      <td>18603.0</td>\n",
       "      <td>0.0</td>\n",
       "      <td>NaN</td>\n",
       "      <td>0.0</td>\n",
       "      <td>NaN</td>\n",
       "      <td>81.0</td>\n",
       "      <td>первый</td>\n",
       "      <td>0.460396</td>\n",
       "      <td>0.272277</td>\n",
       "      <td>82920.792079</td>\n",
       "      <td>1</td>\n",
       "      <td>1</td>\n",
       "      <td>2018</td>\n",
       "    </tr>\n",
       "    <tr>\n",
       "      <th>2</th>\n",
       "      <td>10</td>\n",
       "      <td>5.196</td>\n",
       "      <td>56.0</td>\n",
       "      <td>2015-08-20</td>\n",
       "      <td>2</td>\n",
       "      <td>NaN</td>\n",
       "      <td>5.0</td>\n",
       "      <td>34.3</td>\n",
       "      <td>4</td>\n",
       "      <td>False</td>\n",
       "      <td>False</td>\n",
       "      <td>False</td>\n",
       "      <td>8.3</td>\n",
       "      <td>0</td>\n",
       "      <td>Санкт-Петербург</td>\n",
       "      <td>21741.0</td>\n",
       "      <td>13933.0</td>\n",
       "      <td>1.0</td>\n",
       "      <td>90.0</td>\n",
       "      <td>2.0</td>\n",
       "      <td>574.0</td>\n",
       "      <td>558.0</td>\n",
       "      <td>другой</td>\n",
       "      <td>0.612500</td>\n",
       "      <td>0.148214</td>\n",
       "      <td>92785.714286</td>\n",
       "      <td>3</td>\n",
       "      <td>3</td>\n",
       "      <td>2015</td>\n",
       "    </tr>\n",
       "    <tr>\n",
       "      <th>3</th>\n",
       "      <td>0</td>\n",
       "      <td>64.900</td>\n",
       "      <td>159.0</td>\n",
       "      <td>2015-07-24</td>\n",
       "      <td>3</td>\n",
       "      <td>NaN</td>\n",
       "      <td>14.0</td>\n",
       "      <td>NaN</td>\n",
       "      <td>9</td>\n",
       "      <td>False</td>\n",
       "      <td>False</td>\n",
       "      <td>False</td>\n",
       "      <td>NaN</td>\n",
       "      <td>0</td>\n",
       "      <td>Санкт-Петербург</td>\n",
       "      <td>28098.0</td>\n",
       "      <td>6800.0</td>\n",
       "      <td>2.0</td>\n",
       "      <td>84.0</td>\n",
       "      <td>3.0</td>\n",
       "      <td>234.0</td>\n",
       "      <td>424.0</td>\n",
       "      <td>другой</td>\n",
       "      <td>NaN</td>\n",
       "      <td>NaN</td>\n",
       "      <td>408176.100629</td>\n",
       "      <td>4</td>\n",
       "      <td>4</td>\n",
       "      <td>2015</td>\n",
       "    </tr>\n",
       "    <tr>\n",
       "      <th>4</th>\n",
       "      <td>2</td>\n",
       "      <td>10.000</td>\n",
       "      <td>100.0</td>\n",
       "      <td>2018-06-19</td>\n",
       "      <td>2</td>\n",
       "      <td>3.03</td>\n",
       "      <td>14.0</td>\n",
       "      <td>32.0</td>\n",
       "      <td>13</td>\n",
       "      <td>False</td>\n",
       "      <td>False</td>\n",
       "      <td>False</td>\n",
       "      <td>41.0</td>\n",
       "      <td>0</td>\n",
       "      <td>Санкт-Петербург</td>\n",
       "      <td>31856.0</td>\n",
       "      <td>8098.0</td>\n",
       "      <td>2.0</td>\n",
       "      <td>112.0</td>\n",
       "      <td>1.0</td>\n",
       "      <td>48.0</td>\n",
       "      <td>121.0</td>\n",
       "      <td>другой</td>\n",
       "      <td>0.320000</td>\n",
       "      <td>0.410000</td>\n",
       "      <td>100000.000000</td>\n",
       "      <td>1</td>\n",
       "      <td>1</td>\n",
       "      <td>2018</td>\n",
       "    </tr>\n",
       "  </tbody>\n",
       "</table>\n",
       "</div>"
      ],
      "text/plain": [
       "   total_images  last_price  total_area first_day_exposition  rooms  \\\n",
       "0            20      13.000       108.0           2019-03-07      3   \n",
       "1             7       3.350        40.4           2018-12-04      1   \n",
       "2            10       5.196        56.0           2015-08-20      2   \n",
       "3             0      64.900       159.0           2015-07-24      3   \n",
       "4             2      10.000       100.0           2018-06-19      2   \n",
       "\n",
       "   ceiling_height  floors_total  living_area  floor  is_apartment  studio  \\\n",
       "0            2.70          16.0         51.0      8         False   False   \n",
       "1             NaN          11.0         18.6      1         False   False   \n",
       "2             NaN           5.0         34.3      4         False   False   \n",
       "3             NaN          14.0          NaN      9         False   False   \n",
       "4            3.03          14.0         32.0     13         False   False   \n",
       "\n",
       "   open_plan  kitchen_area  balcony    locality_name  airports_nearest  \\\n",
       "0      False          25.0        0  Санкт-Петербург           18863.0   \n",
       "1      False          11.0        2   посёлок Шушары           12817.0   \n",
       "2      False           8.3        0  Санкт-Петербург           21741.0   \n",
       "3      False           NaN        0  Санкт-Петербург           28098.0   \n",
       "4      False          41.0        0  Санкт-Петербург           31856.0   \n",
       "\n",
       "   city_centers_nearest  parks_around3000  parks_nearest  ponds_around3000  \\\n",
       "0               16028.0               1.0          482.0               2.0   \n",
       "1               18603.0               0.0            NaN               0.0   \n",
       "2               13933.0               1.0           90.0               2.0   \n",
       "3                6800.0               2.0           84.0               3.0   \n",
       "4                8098.0               2.0          112.0               1.0   \n",
       "\n",
       "   ponds_nearest  days_exposition floor_category  living_total_area  \\\n",
       "0          755.0              NaN         другой           0.472222   \n",
       "1            NaN             81.0         первый           0.460396   \n",
       "2          574.0            558.0         другой           0.612500   \n",
       "3          234.0            424.0         другой                NaN   \n",
       "4           48.0            121.0         другой           0.320000   \n",
       "\n",
       "   kitchen_total_area  price_per_sqm  day_of_the_week  month  year  \n",
       "0            0.231481  120370.370370                3      3  2019  \n",
       "1            0.272277   82920.792079                1      1  2018  \n",
       "2            0.148214   92785.714286                3      3  2015  \n",
       "3                 NaN  408176.100629                4      4  2015  \n",
       "4            0.410000  100000.000000                1      1  2018  "
      ]
     },
     "execution_count": 21,
     "metadata": {},
     "output_type": "execute_result"
    }
   ],
   "source": [
    "data.head()"
   ]
  },
  {
   "cell_type": "code",
   "execution_count": null,
   "metadata": {},
   "outputs": [],
   "source": [
    "#select_data = data.query('(last_price <= 20) & (2.2 <= ceiling_height <= 4) & (total_area <= 200)').head()\n",
    "#select_data = data[data['last_price'] <= 20]\n",
    "#select_data = select_data[select_data['ceiling_height'] >= 2.2]\n",
    "#select_data = select_data[select_data['ceiling_height'] <=4]\n",
    "#select_data = select_data[select_data['total_area'] <= 200]\n",
    "\n",
    "condition = ((data['last_price'] <= 20) & \n",
    "            (data['ceiling_height'] >= 2.2) & \n",
    "            (data['ceiling_height'] <= 4) & \n",
    "            (data['total_area'] <= 200))\n",
    "\n",
    "data[condition]"
   ]
  },
  {
   "cell_type": "code",
   "execution_count": 69,
   "metadata": {
    "scrolled": true
   },
   "outputs": [
    {
     "name": "stdout",
     "output_type": "stream",
     "text": [
      "Весь датасет\n"
     ]
    },
    {
     "data": {
      "text/plain": [
       "count    20518.000000\n",
       "mean       180.888634\n",
       "std        219.727988\n",
       "min          1.000000\n",
       "25%         45.000000\n",
       "50%         95.000000\n",
       "75%        232.000000\n",
       "max       1580.000000\n",
       "Name: days_exposition, dtype: float64"
      ]
     },
     "metadata": {},
     "output_type": "display_data"
    },
    {
     "name": "stdout",
     "output_type": "stream",
     "text": [
      "Только квартир дешевле 20 млн, потолки от 2.2 до 4х метров и общая площадь до 200.\n"
     ]
    },
    {
     "data": {
      "text/plain": [
       "count    11636.000000\n",
       "mean       186.733585\n",
       "std        225.272349\n",
       "min          1.000000\n",
       "25%         45.000000\n",
       "50%        101.000000\n",
       "75%        240.000000\n",
       "max       1580.000000\n",
       "Name: days_exposition, dtype: float64"
      ]
     },
     "metadata": {},
     "output_type": "display_data"
    },
    {
     "name": "stdout",
     "output_type": "stream",
     "text": [
      "Все квартиры кроме предыдущих\n"
     ]
    },
    {
     "data": {
      "text/plain": [
       "count    8882.000000\n",
       "mean      173.231367\n",
       "std       212.014360\n",
       "min         2.000000\n",
       "25%        45.000000\n",
       "50%        90.000000\n",
       "75%       219.000000\n",
       "max      1572.000000\n",
       "Name: days_exposition, dtype: float64"
      ]
     },
     "execution_count": 69,
     "metadata": {},
     "output_type": "execute_result"
    }
   ],
   "source": [
    "print('Весь датасет')\n",
    "display(data['days_exposition'].describe())\n",
    "print('Только квартир дешевле 20 млн, потолки от 2.2 до 4х метров и общая площадь до 200.')\n",
    "display(data[condition]['days_exposition'].describe())\n",
    "print('Все квартиры кроме предыдущих')\n",
    "data[~condition]['days_exposition'].describe()"
   ]
  },
  {
   "cell_type": "markdown",
   "metadata": {},
   "source": [
    "\"Обычные\" квартиры продаются дольше необычных квартир!"
   ]
  },
  {
   "cell_type": "markdown",
   "metadata": {},
   "source": [
    "## Исследовательский анализ данных"
   ]
  },
  {
   "cell_type": "markdown",
   "metadata": {},
   "source": [
    "Какие факторы больше всего влияют на стоимость квартиры?"
   ]
  },
  {
   "cell_type": "code",
   "execution_count": 59,
   "metadata": {
    "scrolled": true
   },
   "outputs": [
    {
     "data": {
      "text/html": [
       "<style  type=\"text/css\" >\n",
       "#T_edf34_row0_col0,#T_edf34_row1_col1,#T_edf34_row2_col2,#T_edf34_row3_col3,#T_edf34_row4_col4,#T_edf34_row5_col5,#T_edf34_row5_col7,#T_edf34_row6_col6,#T_edf34_row7_col5,#T_edf34_row7_col7{\n",
       "            background-color:  #023858;\n",
       "            color:  #f1f1f1;\n",
       "        }#T_edf34_row0_col1{\n",
       "            background-color:  #1077b4;\n",
       "            color:  #f1f1f1;\n",
       "        }#T_edf34_row0_col2{\n",
       "            background-color:  #83afd3;\n",
       "            color:  #000000;\n",
       "        }#T_edf34_row0_col3,#T_edf34_row1_col3{\n",
       "            background-color:  #fbf4f9;\n",
       "            color:  #000000;\n",
       "        }#T_edf34_row0_col4,#T_edf34_row2_col6,#T_edf34_row6_col3{\n",
       "            background-color:  #fcf4fa;\n",
       "            color:  #000000;\n",
       "        }#T_edf34_row0_col5,#T_edf34_row0_col7{\n",
       "            background-color:  #fef6fb;\n",
       "            color:  #000000;\n",
       "        }#T_edf34_row0_col6{\n",
       "            background-color:  #faf3f9;\n",
       "            color:  #000000;\n",
       "        }#T_edf34_row1_col0{\n",
       "            background-color:  #1379b5;\n",
       "            color:  #f1f1f1;\n",
       "        }#T_edf34_row1_col2{\n",
       "            background-color:  #0568a3;\n",
       "            color:  #f1f1f1;\n",
       "        }#T_edf34_row1_col4,#T_edf34_row1_col5,#T_edf34_row1_col6,#T_edf34_row1_col7,#T_edf34_row2_col3,#T_edf34_row2_col5,#T_edf34_row2_col7,#T_edf34_row3_col5,#T_edf34_row3_col7,#T_edf34_row4_col0,#T_edf34_row4_col1,#T_edf34_row4_col2,#T_edf34_row6_col5,#T_edf34_row6_col7{\n",
       "            background-color:  #fff7fb;\n",
       "            color:  #000000;\n",
       "        }#T_edf34_row2_col0{\n",
       "            background-color:  #80aed2;\n",
       "            color:  #000000;\n",
       "        }#T_edf34_row2_col1{\n",
       "            background-color:  #0567a1;\n",
       "            color:  #f1f1f1;\n",
       "        }#T_edf34_row2_col4{\n",
       "            background-color:  #faf2f8;\n",
       "            color:  #000000;\n",
       "        }#T_edf34_row3_col0{\n",
       "            background-color:  #e0deed;\n",
       "            color:  #000000;\n",
       "        }#T_edf34_row3_col1{\n",
       "            background-color:  #dcdaeb;\n",
       "            color:  #000000;\n",
       "        }#T_edf34_row3_col2{\n",
       "            background-color:  #e8e4f0;\n",
       "            color:  #000000;\n",
       "        }#T_edf34_row3_col4{\n",
       "            background-color:  #d2d3e7;\n",
       "            color:  #000000;\n",
       "        }#T_edf34_row3_col6,#T_edf34_row4_col3{\n",
       "            background-color:  #f3edf5;\n",
       "            color:  #000000;\n",
       "        }#T_edf34_row4_col5,#T_edf34_row4_col7,#T_edf34_row5_col3,#T_edf34_row7_col3{\n",
       "            background-color:  #fdf5fa;\n",
       "            color:  #000000;\n",
       "        }#T_edf34_row4_col6{\n",
       "            background-color:  #f0eaf4;\n",
       "            color:  #000000;\n",
       "        }#T_edf34_row5_col0,#T_edf34_row7_col0{\n",
       "            background-color:  #e1dfed;\n",
       "            color:  #000000;\n",
       "        }#T_edf34_row5_col1,#T_edf34_row7_col1{\n",
       "            background-color:  #dfddec;\n",
       "            color:  #000000;\n",
       "        }#T_edf34_row5_col2,#T_edf34_row7_col2{\n",
       "            background-color:  #e6e2ef;\n",
       "            color:  #000000;\n",
       "        }#T_edf34_row5_col4,#T_edf34_row7_col4{\n",
       "            background-color:  #dddbec;\n",
       "            color:  #000000;\n",
       "        }#T_edf34_row5_col6,#T_edf34_row7_col6{\n",
       "            background-color:  #f5eef6;\n",
       "            color:  #000000;\n",
       "        }#T_edf34_row6_col0{\n",
       "            background-color:  #eae6f1;\n",
       "            color:  #000000;\n",
       "        }#T_edf34_row6_col1{\n",
       "            background-color:  #ede7f2;\n",
       "            color:  #000000;\n",
       "        }#T_edf34_row6_col2{\n",
       "            background-color:  #efe9f3;\n",
       "            color:  #000000;\n",
       "        }#T_edf34_row6_col4{\n",
       "            background-color:  #d9d8ea;\n",
       "            color:  #000000;\n",
       "        }</style><table id=\"T_edf34_\" ><thead>    <tr>        <th class=\"blank level0\" ></th>        <th class=\"col_heading level0 col0\" >last_price</th>        <th class=\"col_heading level0 col1\" >total_area</th>        <th class=\"col_heading level0 col2\" >rooms</th>        <th class=\"col_heading level0 col3\" >balcony</th>        <th class=\"col_heading level0 col4\" >city_centers_nearest</th>        <th class=\"col_heading level0 col5\" >day_of_the_week</th>        <th class=\"col_heading level0 col6\" >year</th>        <th class=\"col_heading level0 col7\" >month</th>    </tr></thead><tbody>\n",
       "                <tr>\n",
       "                        <th id=\"T_edf34_level0_row0\" class=\"row_heading level0 row0\" >last_price</th>\n",
       "                        <td id=\"T_edf34_row0_col0\" class=\"data row0 col0\" >1.000000</td>\n",
       "                        <td id=\"T_edf34_row0_col1\" class=\"data row0 col1\" >0.653675</td>\n",
       "                        <td id=\"T_edf34_row0_col2\" class=\"data row0 col2\" >0.363343</td>\n",
       "                        <td id=\"T_edf34_row0_col3\" class=\"data row0 col3\" >0.008559</td>\n",
       "                        <td id=\"T_edf34_row0_col4\" class=\"data row0 col4\" >-0.206747</td>\n",
       "                        <td id=\"T_edf34_row0_col5\" class=\"data row0 col5\" >0.001550</td>\n",
       "                        <td id=\"T_edf34_row0_col6\" class=\"data row0 col6\" >-0.043089</td>\n",
       "                        <td id=\"T_edf34_row0_col7\" class=\"data row0 col7\" >0.001550</td>\n",
       "            </tr>\n",
       "            <tr>\n",
       "                        <th id=\"T_edf34_level0_row1\" class=\"row_heading level0 row1\" >total_area</th>\n",
       "                        <td id=\"T_edf34_row1_col0\" class=\"data row1 col0\" >0.653675</td>\n",
       "                        <td id=\"T_edf34_row1_col1\" class=\"data row1 col1\" >1.000000</td>\n",
       "                        <td id=\"T_edf34_row1_col2\" class=\"data row1 col2\" >0.758344</td>\n",
       "                        <td id=\"T_edf34_row1_col3\" class=\"data row1 col3\" >0.009941</td>\n",
       "                        <td id=\"T_edf34_row1_col4\" class=\"data row1 col4\" >-0.231446</td>\n",
       "                        <td id=\"T_edf34_row1_col5\" class=\"data row1 col5\" >-0.004695</td>\n",
       "                        <td id=\"T_edf34_row1_col6\" class=\"data row1 col6\" >-0.079912</td>\n",
       "                        <td id=\"T_edf34_row1_col7\" class=\"data row1 col7\" >-0.004695</td>\n",
       "            </tr>\n",
       "            <tr>\n",
       "                        <th id=\"T_edf34_level0_row2\" class=\"row_heading level0 row2\" >rooms</th>\n",
       "                        <td id=\"T_edf34_row2_col0\" class=\"data row2 col0\" >0.363343</td>\n",
       "                        <td id=\"T_edf34_row2_col1\" class=\"data row2 col1\" >0.758344</td>\n",
       "                        <td id=\"T_edf34_row2_col2\" class=\"data row2 col2\" >1.000000</td>\n",
       "                        <td id=\"T_edf34_row2_col3\" class=\"data row2 col3\" >-0.015519</td>\n",
       "                        <td id=\"T_edf34_row2_col4\" class=\"data row2 col4\" >-0.184864</td>\n",
       "                        <td id=\"T_edf34_row2_col5\" class=\"data row2 col5\" >-0.004134</td>\n",
       "                        <td id=\"T_edf34_row2_col6\" class=\"data row2 col6\" >-0.055418</td>\n",
       "                        <td id=\"T_edf34_row2_col7\" class=\"data row2 col7\" >-0.004134</td>\n",
       "            </tr>\n",
       "            <tr>\n",
       "                        <th id=\"T_edf34_level0_row3\" class=\"row_heading level0 row3\" >balcony</th>\n",
       "                        <td id=\"T_edf34_row3_col0\" class=\"data row3 col0\" >0.008559</td>\n",
       "                        <td id=\"T_edf34_row3_col1\" class=\"data row3 col1\" >0.009941</td>\n",
       "                        <td id=\"T_edf34_row3_col2\" class=\"data row3 col2\" >-0.015519</td>\n",
       "                        <td id=\"T_edf34_row3_col3\" class=\"data row3 col3\" >1.000000</td>\n",
       "                        <td id=\"T_edf34_row3_col4\" class=\"data row3 col4\" >0.065050</td>\n",
       "                        <td id=\"T_edf34_row3_col5\" class=\"data row3 col5\" >-0.001496</td>\n",
       "                        <td id=\"T_edf34_row3_col6\" class=\"data row3 col6\" >0.004570</td>\n",
       "                        <td id=\"T_edf34_row3_col7\" class=\"data row3 col7\" >-0.001496</td>\n",
       "            </tr>\n",
       "            <tr>\n",
       "                        <th id=\"T_edf34_level0_row4\" class=\"row_heading level0 row4\" >city_centers_nearest</th>\n",
       "                        <td id=\"T_edf34_row4_col0\" class=\"data row4 col0\" >-0.206747</td>\n",
       "                        <td id=\"T_edf34_row4_col1\" class=\"data row4 col1\" >-0.231446</td>\n",
       "                        <td id=\"T_edf34_row4_col2\" class=\"data row4 col2\" >-0.184864</td>\n",
       "                        <td id=\"T_edf34_row4_col3\" class=\"data row4 col3\" >0.065050</td>\n",
       "                        <td id=\"T_edf34_row4_col4\" class=\"data row4 col4\" >1.000000</td>\n",
       "                        <td id=\"T_edf34_row4_col5\" class=\"data row4 col5\" >0.008883</td>\n",
       "                        <td id=\"T_edf34_row4_col6\" class=\"data row4 col6\" >0.032333</td>\n",
       "                        <td id=\"T_edf34_row4_col7\" class=\"data row4 col7\" >0.008883</td>\n",
       "            </tr>\n",
       "            <tr>\n",
       "                        <th id=\"T_edf34_level0_row5\" class=\"row_heading level0 row5\" >day_of_the_week</th>\n",
       "                        <td id=\"T_edf34_row5_col0\" class=\"data row5 col0\" >0.001550</td>\n",
       "                        <td id=\"T_edf34_row5_col1\" class=\"data row5 col1\" >-0.004695</td>\n",
       "                        <td id=\"T_edf34_row5_col2\" class=\"data row5 col2\" >-0.004134</td>\n",
       "                        <td id=\"T_edf34_row5_col3\" class=\"data row5 col3\" >-0.001496</td>\n",
       "                        <td id=\"T_edf34_row5_col4\" class=\"data row5 col4\" >0.008883</td>\n",
       "                        <td id=\"T_edf34_row5_col5\" class=\"data row5 col5\" >1.000000</td>\n",
       "                        <td id=\"T_edf34_row5_col6\" class=\"data row5 col6\" >-0.004799</td>\n",
       "                        <td id=\"T_edf34_row5_col7\" class=\"data row5 col7\" >1.000000</td>\n",
       "            </tr>\n",
       "            <tr>\n",
       "                        <th id=\"T_edf34_level0_row6\" class=\"row_heading level0 row6\" >year</th>\n",
       "                        <td id=\"T_edf34_row6_col0\" class=\"data row6 col0\" >-0.043089</td>\n",
       "                        <td id=\"T_edf34_row6_col1\" class=\"data row6 col1\" >-0.079912</td>\n",
       "                        <td id=\"T_edf34_row6_col2\" class=\"data row6 col2\" >-0.055418</td>\n",
       "                        <td id=\"T_edf34_row6_col3\" class=\"data row6 col3\" >0.004570</td>\n",
       "                        <td id=\"T_edf34_row6_col4\" class=\"data row6 col4\" >0.032333</td>\n",
       "                        <td id=\"T_edf34_row6_col5\" class=\"data row6 col5\" >-0.004799</td>\n",
       "                        <td id=\"T_edf34_row6_col6\" class=\"data row6 col6\" >1.000000</td>\n",
       "                        <td id=\"T_edf34_row6_col7\" class=\"data row6 col7\" >-0.004799</td>\n",
       "            </tr>\n",
       "            <tr>\n",
       "                        <th id=\"T_edf34_level0_row7\" class=\"row_heading level0 row7\" >month</th>\n",
       "                        <td id=\"T_edf34_row7_col0\" class=\"data row7 col0\" >0.001550</td>\n",
       "                        <td id=\"T_edf34_row7_col1\" class=\"data row7 col1\" >-0.004695</td>\n",
       "                        <td id=\"T_edf34_row7_col2\" class=\"data row7 col2\" >-0.004134</td>\n",
       "                        <td id=\"T_edf34_row7_col3\" class=\"data row7 col3\" >-0.001496</td>\n",
       "                        <td id=\"T_edf34_row7_col4\" class=\"data row7 col4\" >0.008883</td>\n",
       "                        <td id=\"T_edf34_row7_col5\" class=\"data row7 col5\" >1.000000</td>\n",
       "                        <td id=\"T_edf34_row7_col6\" class=\"data row7 col6\" >-0.004799</td>\n",
       "                        <td id=\"T_edf34_row7_col7\" class=\"data row7 col7\" >1.000000</td>\n",
       "            </tr>\n",
       "    </tbody></table>"
      ],
      "text/plain": [
       "<pandas.io.formats.style.Styler at 0x7fce09d11e50>"
      ]
     },
     "execution_count": 59,
     "metadata": {},
     "output_type": "execute_result"
    }
   ],
   "source": [
    "research_data = data[['last_price', 'total_area', 'rooms', 'balcony', 'floor_category', \n",
    "                      'city_centers_nearest', 'day_of_the_week', 'year', 'month']]\n",
    "research_data.describe()\n",
    "research_data.corr().style.background_gradient()"
   ]
  },
  {
   "cell_type": "code",
   "execution_count": null,
   "metadata": {},
   "outputs": [],
   "source": [
    "research_data.corr()"
   ]
  },
  {
   "cell_type": "markdown",
   "metadata": {},
   "source": [
    "Метраж влияет на цену, квартиры, но коэффициент корреляции 0.65 указывает, что существует еще много факторов которые участвуют в ценоообразовнии. Мы видим, что комнаты сильно коррелируют с общей площадью, но посредственно коррелируют с ценой. Есть небольшая отрицательная корреляция между удалением от центра города и ценой. Балконы, день недели и месяц почти не влияют на стоимость квартиры. В период с 2014 по 2019 стоимость квартир снижалась, об этом свидетельствует отрицательная корреляция между годом подачи объявления и ценой."
   ]
  },
  {
   "cell_type": "code",
   "execution_count": null,
   "metadata": {},
   "outputs": [],
   "source": [
    "top_towns = ['Санкт-Петербург',\n",
    "             'посёлок Мурино',\n",
    "             'посёлок Шушары',\n",
    "             'Всеволожск',\n",
    "             'Пушкин',\n",
    "             'Колпино',\n",
    "             'посёлок Парголово',\n",
    "             'Гатчина',\n",
    "             'деревня Кудрово',\n",
    "             'Выборг']\n",
    "\n",
    "for i in top_towns:\n",
    "    median = data[data['locality_name'] == i]['last_price'].median()\n",
    "    print(i, median)\n",
    "    "
   ]
  },
  {
   "cell_type": "code",
   "execution_count": null,
   "metadata": {},
   "outputs": [],
   "source": [
    "data['distance_km'] = data['city_centers_nearest'] / 1000\n",
    "data['distance_km'] = data['distance_km'].round()\n",
    "median_km = data.groupby('distance_km')['last_price'].median()\n",
    "median_km.hist(range=(0,10), bins=100)"
   ]
  },
  {
   "cell_type": "markdown",
   "metadata": {},
   "source": [
    "Самая дорогая стоимость кв. метра в Санкт-Петербурге, самая дешевая - в Выборге. Стоимость резко падает после 5го км, следовательно это и есть граница центра."
   ]
  },
  {
   "cell_type": "code",
   "execution_count": null,
   "metadata": {},
   "outputs": [],
   "source": [
    "spb_center = data.query('(city_centers_nearest <= 5000) &(locality_name == \"Санкт-Петербург\")')\n",
    "spb_center[['total_area','last_price','rooms','ceiling_height']].describe()"
   ]
  },
  {
   "cell_type": "markdown",
   "metadata": {},
   "source": [
    "Метраж влияет гораздо меньше на стоимость в центре санкт-Петербурга, чем в целом по датасету, квартиры в центре медленнее теряли в цене чем квартиры на окраине. Балконы влияют на стоимость квартиры в центре гораздо сильнее, чем в целом по датасету(0.11 против 0.008), возможно это связано с маленькой выборкой квартир в центре, или другими особенностями недвижимости - например коммуналки в центре могут быть без балконов, а дореволюционные дома - с балконами, и стоимость этих видов недвижимости будет сильно различаться. Также, на цену квартир в центре, значительное влияние оказывает месяц подачи объявления."
   ]
  },
  {
   "cell_type": "markdown",
   "metadata": {},
   "source": [
    "## Общий вывод"
   ]
  },
  {
   "cell_type": "markdown",
   "metadata": {},
   "source": [
    "Главный предиктор цены квартиры - метраж. В то же время, он коррелирует только на 65% в общем датасете и на 55% в выборке по квартирам в центре. Все остальные параметры влияют очень слабо на цену квартиры."
   ]
  }
 ],
 "metadata": {
  "ExecuteTimeLog": [
   {
    "duration": 513,
    "start_time": "2022-04-27T07:28:44.182Z"
   },
   {
    "duration": 83,
    "start_time": "2022-04-27T07:29:00.746Z"
   },
   {
    "duration": 122,
    "start_time": "2022-04-27T07:29:20.168Z"
   },
   {
    "duration": 79,
    "start_time": "2022-04-27T07:29:28.196Z"
   },
   {
    "duration": 100,
    "start_time": "2022-04-27T07:29:35.970Z"
   },
   {
    "duration": 91,
    "start_time": "2022-04-27T07:29:39.741Z"
   },
   {
    "duration": 73,
    "start_time": "2022-04-27T07:29:55.754Z"
   },
   {
    "duration": 9,
    "start_time": "2022-04-27T07:31:36.117Z"
   },
   {
    "duration": 31,
    "start_time": "2022-04-27T07:31:43.544Z"
   },
   {
    "duration": 6,
    "start_time": "2022-04-27T07:32:20.388Z"
   },
   {
    "duration": 7,
    "start_time": "2022-04-27T07:32:29.247Z"
   },
   {
    "duration": 109,
    "start_time": "2022-04-27T07:39:04.710Z"
   },
   {
    "duration": 128,
    "start_time": "2022-04-27T07:40:47.541Z"
   },
   {
    "duration": 79,
    "start_time": "2022-04-27T07:40:54.384Z"
   },
   {
    "duration": 83,
    "start_time": "2022-04-27T07:41:00.673Z"
   },
   {
    "duration": 78,
    "start_time": "2022-04-27T07:41:52.408Z"
   },
   {
    "duration": 2226,
    "start_time": "2022-04-27T07:42:33.129Z"
   },
   {
    "duration": 75,
    "start_time": "2022-04-27T07:42:41.574Z"
   },
   {
    "duration": 72,
    "start_time": "2022-04-27T07:43:11.041Z"
   },
   {
    "duration": 68,
    "start_time": "2022-04-27T07:45:13.368Z"
   },
   {
    "duration": 135,
    "start_time": "2022-04-27T07:45:17.010Z"
   },
   {
    "duration": 104,
    "start_time": "2022-04-27T07:46:12.323Z"
   },
   {
    "duration": 77,
    "start_time": "2022-04-27T07:46:18.884Z"
   },
   {
    "duration": 2270,
    "start_time": "2022-04-27T07:46:43.577Z"
   },
   {
    "duration": 2415,
    "start_time": "2022-04-27T07:46:52.554Z"
   },
   {
    "duration": 2123,
    "start_time": "2022-04-27T07:50:56.085Z"
   },
   {
    "duration": 78,
    "start_time": "2022-04-27T07:51:03.113Z"
   },
   {
    "duration": 75,
    "start_time": "2022-04-27T07:52:10.123Z"
   },
   {
    "duration": 75,
    "start_time": "2022-04-27T07:53:38.176Z"
   },
   {
    "duration": 75,
    "start_time": "2022-04-27T07:53:45.309Z"
   },
   {
    "duration": 68,
    "start_time": "2022-04-27T07:53:51.160Z"
   },
   {
    "duration": 72,
    "start_time": "2022-04-27T07:54:14.637Z"
   },
   {
    "duration": 70,
    "start_time": "2022-04-27T07:54:17.108Z"
   },
   {
    "duration": 77,
    "start_time": "2022-04-27T07:54:37.491Z"
   },
   {
    "duration": 75,
    "start_time": "2022-04-27T07:54:44.367Z"
   },
   {
    "duration": 71,
    "start_time": "2022-04-27T07:54:52.146Z"
   },
   {
    "duration": 68,
    "start_time": "2022-04-27T07:54:59.170Z"
   },
   {
    "duration": 73,
    "start_time": "2022-04-27T07:55:24.509Z"
   },
   {
    "duration": 68,
    "start_time": "2022-04-27T07:55:45.809Z"
   },
   {
    "duration": 91,
    "start_time": "2022-04-27T07:55:57.245Z"
   },
   {
    "duration": 83,
    "start_time": "2022-04-27T07:56:30.586Z"
   },
   {
    "duration": 32,
    "start_time": "2022-04-27T07:57:03.860Z"
   },
   {
    "duration": 10,
    "start_time": "2022-04-27T07:57:09.085Z"
   },
   {
    "duration": 59,
    "start_time": "2022-04-27T08:00:07.584Z"
   },
   {
    "duration": 31,
    "start_time": "2022-04-27T08:00:13.218Z"
   },
   {
    "duration": 5,
    "start_time": "2022-04-27T08:01:25.065Z"
   },
   {
    "duration": 13,
    "start_time": "2022-04-27T08:01:48.518Z"
   },
   {
    "duration": 6,
    "start_time": "2022-04-27T08:02:23.005Z"
   },
   {
    "duration": 6,
    "start_time": "2022-04-27T08:02:44.049Z"
   },
   {
    "duration": 8,
    "start_time": "2022-04-27T08:02:48.605Z"
   },
   {
    "duration": 8,
    "start_time": "2022-04-27T08:02:56.962Z"
   },
   {
    "duration": 4,
    "start_time": "2022-04-27T08:03:28.801Z"
   },
   {
    "duration": 6,
    "start_time": "2022-04-27T08:03:32.699Z"
   },
   {
    "duration": 8,
    "start_time": "2022-04-27T08:03:40.110Z"
   },
   {
    "duration": 8,
    "start_time": "2022-04-27T08:03:42.557Z"
   },
   {
    "duration": 6,
    "start_time": "2022-04-27T08:03:53.795Z"
   },
   {
    "duration": 7,
    "start_time": "2022-04-27T08:03:59.744Z"
   },
   {
    "duration": 23,
    "start_time": "2022-04-27T08:04:23.032Z"
   },
   {
    "duration": 47,
    "start_time": "2022-04-28T07:06:29.630Z"
   },
   {
    "duration": 499,
    "start_time": "2022-04-28T07:06:39.023Z"
   },
   {
    "duration": 28,
    "start_time": "2022-04-28T07:06:39.525Z"
   },
   {
    "duration": 8,
    "start_time": "2022-04-28T07:06:39.555Z"
   },
   {
    "duration": 49,
    "start_time": "2022-04-28T07:06:39.566Z"
   },
   {
    "duration": 5,
    "start_time": "2022-04-28T07:06:39.617Z"
   },
   {
    "duration": 493,
    "start_time": "2022-04-28T08:04:13.203Z"
   },
   {
    "duration": 31,
    "start_time": "2022-04-28T08:04:13.698Z"
   },
   {
    "duration": 11,
    "start_time": "2022-04-28T08:04:13.731Z"
   },
   {
    "duration": 53,
    "start_time": "2022-04-28T08:04:13.744Z"
   },
   {
    "duration": 5,
    "start_time": "2022-04-28T08:04:13.798Z"
   },
   {
    "duration": 40,
    "start_time": "2022-04-28T08:04:33.844Z"
   },
   {
    "duration": 47,
    "start_time": "2022-04-28T08:05:02.235Z"
   },
   {
    "duration": 43,
    "start_time": "2022-04-28T08:08:07.910Z"
   },
   {
    "duration": 45,
    "start_time": "2022-04-28T08:08:24.138Z"
   },
   {
    "duration": 42,
    "start_time": "2022-04-28T08:08:34.597Z"
   },
   {
    "duration": 51,
    "start_time": "2022-04-28T08:08:42.862Z"
   },
   {
    "duration": 42,
    "start_time": "2022-04-28T08:08:55.766Z"
   },
   {
    "duration": 45,
    "start_time": "2022-04-28T08:09:15.752Z"
   },
   {
    "duration": 29,
    "start_time": "2022-04-28T08:10:44.912Z"
   },
   {
    "duration": 42,
    "start_time": "2022-04-28T08:11:09.649Z"
   },
   {
    "duration": 51,
    "start_time": "2022-04-28T08:13:31.871Z"
   },
   {
    "duration": 63,
    "start_time": "2022-04-28T08:33:40.106Z"
   },
   {
    "duration": 49,
    "start_time": "2022-04-28T08:36:06.757Z"
   },
   {
    "duration": 12,
    "start_time": "2022-04-28T08:37:36.790Z"
   },
   {
    "duration": 512,
    "start_time": "2022-04-28T08:37:53.164Z"
   },
   {
    "duration": 54,
    "start_time": "2022-04-28T08:37:53.678Z"
   },
   {
    "duration": 78,
    "start_time": "2022-04-28T08:37:53.733Z"
   },
   {
    "duration": 0,
    "start_time": "2022-04-28T08:37:53.812Z"
   },
   {
    "duration": 0,
    "start_time": "2022-04-28T08:37:53.813Z"
   },
   {
    "duration": 0,
    "start_time": "2022-04-28T08:37:53.814Z"
   },
   {
    "duration": 0,
    "start_time": "2022-04-28T08:37:53.815Z"
   },
   {
    "duration": 0,
    "start_time": "2022-04-28T08:37:53.818Z"
   },
   {
    "duration": 16,
    "start_time": "2022-04-28T08:38:24.127Z"
   },
   {
    "duration": 6,
    "start_time": "2022-04-28T08:38:39.774Z"
   },
   {
    "duration": 18,
    "start_time": "2022-04-28T08:38:43.565Z"
   },
   {
    "duration": 11,
    "start_time": "2022-04-28T09:42:38.103Z"
   },
   {
    "duration": 79,
    "start_time": "2022-04-28T09:43:25.067Z"
   },
   {
    "duration": 1172,
    "start_time": "2022-04-28T13:28:33.930Z"
   },
   {
    "duration": 101,
    "start_time": "2022-04-28T13:28:37.348Z"
   },
   {
    "duration": 87,
    "start_time": "2022-04-28T13:30:55.754Z"
   },
   {
    "duration": 85,
    "start_time": "2022-04-28T13:33:55.428Z"
   },
   {
    "duration": 1824,
    "start_time": "2022-04-28T13:35:33.119Z"
   },
   {
    "duration": 5,
    "start_time": "2022-04-28T13:35:42.837Z"
   },
   {
    "duration": 4,
    "start_time": "2022-04-28T13:38:37.416Z"
   },
   {
    "duration": 31,
    "start_time": "2022-04-28T13:38:38.689Z"
   },
   {
    "duration": 3,
    "start_time": "2022-04-28T13:39:04.605Z"
   },
   {
    "duration": 20,
    "start_time": "2022-04-28T13:39:06.286Z"
   },
   {
    "duration": 3,
    "start_time": "2022-04-28T13:40:02.223Z"
   },
   {
    "duration": 19,
    "start_time": "2022-04-28T13:40:03.483Z"
   },
   {
    "duration": 4,
    "start_time": "2022-04-28T13:40:08.999Z"
   },
   {
    "duration": 9,
    "start_time": "2022-04-28T13:40:29.488Z"
   },
   {
    "duration": 36,
    "start_time": "2022-04-28T13:40:34.430Z"
   },
   {
    "duration": 31,
    "start_time": "2022-04-28T13:43:52.986Z"
   },
   {
    "duration": 165,
    "start_time": "2022-04-28T13:53:03.297Z"
   },
   {
    "duration": 159,
    "start_time": "2022-04-28T13:53:29.576Z"
   },
   {
    "duration": 9,
    "start_time": "2022-04-28T13:53:44.438Z"
   },
   {
    "duration": 11,
    "start_time": "2022-04-28T13:54:50.215Z"
   },
   {
    "duration": 3,
    "start_time": "2022-04-28T13:54:55.148Z"
   },
   {
    "duration": 392,
    "start_time": "2022-04-28T13:54:56.499Z"
   },
   {
    "duration": 11,
    "start_time": "2022-04-28T13:55:00.347Z"
   },
   {
    "duration": 22,
    "start_time": "2022-04-28T13:55:09.720Z"
   },
   {
    "duration": 20,
    "start_time": "2022-04-28T13:55:20.245Z"
   },
   {
    "duration": 19,
    "start_time": "2022-04-28T13:55:45.696Z"
   },
   {
    "duration": 17,
    "start_time": "2022-04-28T13:55:58.624Z"
   },
   {
    "duration": 97,
    "start_time": "2022-04-28T13:59:23.306Z"
   },
   {
    "duration": 19,
    "start_time": "2022-04-28T13:59:26.404Z"
   },
   {
    "duration": 3,
    "start_time": "2022-04-28T14:00:40.547Z"
   },
   {
    "duration": 16,
    "start_time": "2022-04-28T14:01:03.483Z"
   },
   {
    "duration": 29,
    "start_time": "2022-04-28T14:01:11.139Z"
   },
   {
    "duration": 7,
    "start_time": "2022-04-28T15:10:47.991Z"
   },
   {
    "duration": 7,
    "start_time": "2022-04-28T15:10:53.566Z"
   },
   {
    "duration": 6,
    "start_time": "2022-04-28T15:12:55.516Z"
   },
   {
    "duration": 8,
    "start_time": "2022-04-28T15:13:01.957Z"
   },
   {
    "duration": 60,
    "start_time": "2022-04-28T15:13:21.134Z"
   },
   {
    "duration": 4,
    "start_time": "2022-04-28T15:13:45.005Z"
   },
   {
    "duration": 8,
    "start_time": "2022-04-28T15:13:47.598Z"
   },
   {
    "duration": 7,
    "start_time": "2022-04-28T15:13:49.567Z"
   },
   {
    "duration": 4,
    "start_time": "2022-04-28T15:13:52.853Z"
   },
   {
    "duration": 6,
    "start_time": "2022-04-28T15:13:57.482Z"
   },
   {
    "duration": 10,
    "start_time": "2022-04-28T15:15:05.642Z"
   },
   {
    "duration": 4,
    "start_time": "2022-04-28T15:15:46.955Z"
   },
   {
    "duration": 7,
    "start_time": "2022-04-28T15:15:50.185Z"
   },
   {
    "duration": 5,
    "start_time": "2022-04-28T15:18:39.182Z"
   },
   {
    "duration": 85,
    "start_time": "2022-04-28T15:19:04.639Z"
   },
   {
    "duration": 6,
    "start_time": "2022-04-28T15:19:22.220Z"
   },
   {
    "duration": 30,
    "start_time": "2022-04-28T15:19:39.251Z"
   },
   {
    "duration": 5,
    "start_time": "2022-04-28T15:22:01.100Z"
   },
   {
    "duration": 190,
    "start_time": "2022-04-28T16:30:31.137Z"
   },
   {
    "duration": 186,
    "start_time": "2022-04-28T16:30:46.826Z"
   },
   {
    "duration": 108,
    "start_time": "2022-04-28T16:30:55.732Z"
   },
   {
    "duration": 198,
    "start_time": "2022-04-28T16:31:00.096Z"
   },
   {
    "duration": 507,
    "start_time": "2022-04-28T16:32:13.234Z"
   },
   {
    "duration": 139,
    "start_time": "2022-04-28T16:32:44.522Z"
   },
   {
    "duration": 919,
    "start_time": "2022-04-29T08:25:06.829Z"
   },
   {
    "duration": 106,
    "start_time": "2022-04-29T08:25:07.750Z"
   },
   {
    "duration": 4,
    "start_time": "2022-04-29T08:25:07.857Z"
   },
   {
    "duration": 41,
    "start_time": "2022-04-29T08:25:07.864Z"
   },
   {
    "duration": 5,
    "start_time": "2022-04-29T08:25:07.907Z"
   },
   {
    "duration": 5,
    "start_time": "2022-04-29T08:25:07.913Z"
   },
   {
    "duration": 24,
    "start_time": "2022-04-29T08:25:07.919Z"
   },
   {
    "duration": 69,
    "start_time": "2022-04-29T08:25:07.944Z"
   },
   {
    "duration": 5,
    "start_time": "2022-04-29T08:25:08.014Z"
   },
   {
    "duration": 7,
    "start_time": "2022-04-29T08:25:08.022Z"
   },
   {
    "duration": 35,
    "start_time": "2022-04-29T08:25:08.031Z"
   },
   {
    "duration": 176,
    "start_time": "2022-04-29T08:25:08.068Z"
   },
   {
    "duration": 814,
    "start_time": "2022-04-29T10:23:13.061Z"
   },
   {
    "duration": 106,
    "start_time": "2022-04-29T10:23:13.877Z"
   },
   {
    "duration": 3,
    "start_time": "2022-04-29T10:23:13.985Z"
   },
   {
    "duration": 28,
    "start_time": "2022-04-29T10:23:13.993Z"
   },
   {
    "duration": 4,
    "start_time": "2022-04-29T10:23:14.023Z"
   },
   {
    "duration": 8,
    "start_time": "2022-04-29T10:23:14.029Z"
   },
   {
    "duration": 24,
    "start_time": "2022-04-29T10:23:14.038Z"
   },
   {
    "duration": 63,
    "start_time": "2022-04-29T10:23:14.064Z"
   },
   {
    "duration": 6,
    "start_time": "2022-04-29T10:23:14.129Z"
   },
   {
    "duration": 9,
    "start_time": "2022-04-29T10:23:14.138Z"
   },
   {
    "duration": 62,
    "start_time": "2022-04-29T10:23:14.148Z"
   },
   {
    "duration": 159,
    "start_time": "2022-04-29T10:23:14.212Z"
   },
   {
    "duration": 4,
    "start_time": "2022-04-29T10:24:42.414Z"
   },
   {
    "duration": 7,
    "start_time": "2022-04-29T10:25:26.528Z"
   },
   {
    "duration": 149,
    "start_time": "2022-04-29T10:48:21.845Z"
   },
   {
    "duration": 847,
    "start_time": "2022-04-29T10:48:37.857Z"
   },
   {
    "duration": 96,
    "start_time": "2022-04-29T10:48:38.706Z"
   },
   {
    "duration": 2,
    "start_time": "2022-04-29T10:48:38.804Z"
   },
   {
    "duration": 27,
    "start_time": "2022-04-29T10:48:38.808Z"
   },
   {
    "duration": 4,
    "start_time": "2022-04-29T10:48:38.837Z"
   },
   {
    "duration": 4,
    "start_time": "2022-04-29T10:48:38.842Z"
   },
   {
    "duration": 21,
    "start_time": "2022-04-29T10:48:38.848Z"
   },
   {
    "duration": 57,
    "start_time": "2022-04-29T10:48:38.871Z"
   },
   {
    "duration": 5,
    "start_time": "2022-04-29T10:48:38.929Z"
   },
   {
    "duration": 10,
    "start_time": "2022-04-29T10:48:38.936Z"
   },
   {
    "duration": 49,
    "start_time": "2022-04-29T10:48:38.948Z"
   },
   {
    "duration": 144,
    "start_time": "2022-04-29T10:48:38.999Z"
   },
   {
    "duration": 0,
    "start_time": "2022-04-29T10:48:39.145Z"
   },
   {
    "duration": 78,
    "start_time": "2022-04-29T10:48:54.676Z"
   },
   {
    "duration": 556,
    "start_time": "2022-04-29T11:00:09.579Z"
   },
   {
    "duration": 430,
    "start_time": "2022-04-29T11:00:20.438Z"
   },
   {
    "duration": 443,
    "start_time": "2022-04-29T11:00:50.951Z"
   },
   {
    "duration": 18,
    "start_time": "2022-04-29T11:01:16.851Z"
   },
   {
    "duration": 19,
    "start_time": "2022-04-29T11:01:26.060Z"
   },
   {
    "duration": 30,
    "start_time": "2022-04-29T11:01:39.473Z"
   },
   {
    "duration": 164,
    "start_time": "2022-04-29T11:01:53.669Z"
   },
   {
    "duration": 667,
    "start_time": "2022-04-29T11:01:59.772Z"
   },
   {
    "duration": 11,
    "start_time": "2022-04-29T11:05:57.999Z"
   },
   {
    "duration": 459,
    "start_time": "2022-04-29T12:15:26.907Z"
   },
   {
    "duration": 431,
    "start_time": "2022-04-29T12:43:52.075Z"
   },
   {
    "duration": 140,
    "start_time": "2022-04-29T12:45:32.700Z"
   },
   {
    "duration": 378,
    "start_time": "2022-04-29T12:46:06.307Z"
   },
   {
    "duration": 82,
    "start_time": "2022-04-29T12:48:38.402Z"
   },
   {
    "duration": 111,
    "start_time": "2022-04-29T12:48:41.146Z"
   },
   {
    "duration": 86,
    "start_time": "2022-04-29T12:48:44.655Z"
   },
   {
    "duration": 278,
    "start_time": "2022-04-29T12:49:01.255Z"
   },
   {
    "duration": 331,
    "start_time": "2022-04-29T14:48:12.322Z"
   },
   {
    "duration": 288,
    "start_time": "2022-04-29T14:49:52.155Z"
   },
   {
    "duration": 3087,
    "start_time": "2022-04-29T14:50:00.211Z"
   },
   {
    "duration": 302,
    "start_time": "2022-04-29T14:50:12.048Z"
   },
   {
    "duration": 360,
    "start_time": "2022-04-29T14:50:51.887Z"
   },
   {
    "duration": 124,
    "start_time": "2022-04-29T14:51:31.788Z"
   },
   {
    "duration": 120,
    "start_time": "2022-04-29T14:51:42.746Z"
   },
   {
    "duration": 145,
    "start_time": "2022-04-29T14:52:39.876Z"
   },
   {
    "duration": 11,
    "start_time": "2022-04-29T14:52:56.047Z"
   },
   {
    "duration": 816,
    "start_time": "2022-04-29T15:00:14.790Z"
   },
   {
    "duration": 103,
    "start_time": "2022-04-29T15:00:15.608Z"
   },
   {
    "duration": 4,
    "start_time": "2022-04-29T15:00:15.713Z"
   },
   {
    "duration": 27,
    "start_time": "2022-04-29T15:00:15.720Z"
   },
   {
    "duration": 5,
    "start_time": "2022-04-29T15:00:15.749Z"
   },
   {
    "duration": 4,
    "start_time": "2022-04-29T15:00:15.756Z"
   },
   {
    "duration": 44,
    "start_time": "2022-04-29T15:00:15.762Z"
   },
   {
    "duration": 39,
    "start_time": "2022-04-29T15:00:15.808Z"
   },
   {
    "duration": 4,
    "start_time": "2022-04-29T15:00:15.849Z"
   },
   {
    "duration": 32,
    "start_time": "2022-04-29T15:00:15.856Z"
   },
   {
    "duration": 38,
    "start_time": "2022-04-29T15:00:15.890Z"
   },
   {
    "duration": 346,
    "start_time": "2022-04-29T15:00:15.930Z"
   },
   {
    "duration": 181,
    "start_time": "2022-04-29T15:00:16.278Z"
   },
   {
    "duration": 141,
    "start_time": "2022-04-29T15:00:16.460Z"
   },
   {
    "duration": 745,
    "start_time": "2022-04-29T15:01:18.720Z"
   },
   {
    "duration": 103,
    "start_time": "2022-04-29T15:01:19.467Z"
   },
   {
    "duration": 3,
    "start_time": "2022-04-29T15:01:19.572Z"
   },
   {
    "duration": 51,
    "start_time": "2022-04-29T15:01:19.578Z"
   },
   {
    "duration": 5,
    "start_time": "2022-04-29T15:01:19.631Z"
   },
   {
    "duration": 8,
    "start_time": "2022-04-29T15:01:19.638Z"
   },
   {
    "duration": 31,
    "start_time": "2022-04-29T15:01:19.648Z"
   },
   {
    "duration": 48,
    "start_time": "2022-04-29T15:01:19.681Z"
   },
   {
    "duration": 5,
    "start_time": "2022-04-29T15:01:19.731Z"
   },
   {
    "duration": 8,
    "start_time": "2022-04-29T15:01:19.739Z"
   },
   {
    "duration": 66,
    "start_time": "2022-04-29T15:01:19.748Z"
   },
   {
    "duration": 331,
    "start_time": "2022-04-29T15:01:19.815Z"
   },
   {
    "duration": 187,
    "start_time": "2022-04-29T15:01:20.148Z"
   },
   {
    "duration": 147,
    "start_time": "2022-04-29T15:01:20.337Z"
   },
   {
    "duration": 160,
    "start_time": "2022-04-29T15:01:20.486Z"
   },
   {
    "duration": 153,
    "start_time": "2022-04-29T15:01:20.649Z"
   },
   {
    "duration": 72,
    "start_time": "2022-04-30T07:57:44.668Z"
   },
   {
    "duration": 1305,
    "start_time": "2022-04-30T07:57:51.092Z"
   },
   {
    "duration": 132,
    "start_time": "2022-04-30T07:57:52.401Z"
   },
   {
    "duration": 4,
    "start_time": "2022-04-30T07:57:52.536Z"
   },
   {
    "duration": 48,
    "start_time": "2022-04-30T07:57:52.542Z"
   },
   {
    "duration": 5,
    "start_time": "2022-04-30T07:57:52.593Z"
   },
   {
    "duration": 26,
    "start_time": "2022-04-30T07:57:52.600Z"
   },
   {
    "duration": 42,
    "start_time": "2022-04-30T07:57:52.628Z"
   },
   {
    "duration": 63,
    "start_time": "2022-04-30T07:57:52.672Z"
   },
   {
    "duration": 8,
    "start_time": "2022-04-30T07:57:52.737Z"
   },
   {
    "duration": 26,
    "start_time": "2022-04-30T07:57:52.748Z"
   },
   {
    "duration": 65,
    "start_time": "2022-04-30T07:57:52.776Z"
   },
   {
    "duration": 999,
    "start_time": "2022-04-30T07:57:52.843Z"
   },
   {
    "duration": 428,
    "start_time": "2022-04-30T07:57:53.845Z"
   },
   {
    "duration": 365,
    "start_time": "2022-04-30T07:57:54.278Z"
   },
   {
    "duration": 378,
    "start_time": "2022-04-30T07:57:54.646Z"
   },
   {
    "duration": 348,
    "start_time": "2022-04-30T07:57:55.027Z"
   },
   {
    "duration": 386,
    "start_time": "2022-04-30T07:57:55.378Z"
   },
   {
    "duration": 17,
    "start_time": "2022-04-30T07:58:15.521Z"
   },
   {
    "duration": 9,
    "start_time": "2022-04-30T07:59:15.037Z"
   },
   {
    "duration": 212,
    "start_time": "2022-04-30T08:00:14.373Z"
   },
   {
    "duration": 248,
    "start_time": "2022-04-30T08:00:25.231Z"
   },
   {
    "duration": 214,
    "start_time": "2022-04-30T08:00:51.256Z"
   },
   {
    "duration": 9,
    "start_time": "2022-04-30T08:01:00.522Z"
   },
   {
    "duration": 226,
    "start_time": "2022-04-30T08:01:04.212Z"
   },
   {
    "duration": 197,
    "start_time": "2022-04-30T08:01:15.688Z"
   },
   {
    "duration": 351,
    "start_time": "2022-04-30T08:01:20.889Z"
   },
   {
    "duration": 310,
    "start_time": "2022-04-30T08:01:24.131Z"
   },
   {
    "duration": 340,
    "start_time": "2022-04-30T08:01:28.297Z"
   },
   {
    "duration": 8,
    "start_time": "2022-04-30T08:01:34.946Z"
   },
   {
    "duration": 208,
    "start_time": "2022-04-30T08:02:26.222Z"
   },
   {
    "duration": 323,
    "start_time": "2022-04-30T08:02:39.405Z"
   },
   {
    "duration": 229,
    "start_time": "2022-04-30T08:02:47.876Z"
   },
   {
    "duration": 207,
    "start_time": "2022-04-30T08:02:52.003Z"
   },
   {
    "duration": 234,
    "start_time": "2022-04-30T08:02:55.808Z"
   },
   {
    "duration": 239,
    "start_time": "2022-04-30T08:03:04.381Z"
   },
   {
    "duration": 303,
    "start_time": "2022-04-30T08:03:07.823Z"
   },
   {
    "duration": 305,
    "start_time": "2022-04-30T08:03:41.157Z"
   },
   {
    "duration": 505,
    "start_time": "2022-04-30T08:03:53.833Z"
   },
   {
    "duration": 240,
    "start_time": "2022-04-30T08:03:57.005Z"
   },
   {
    "duration": 254,
    "start_time": "2022-04-30T08:13:16.686Z"
   },
   {
    "duration": 971,
    "start_time": "2022-04-30T09:53:29.039Z"
   },
   {
    "duration": 132,
    "start_time": "2022-04-30T09:53:30.013Z"
   },
   {
    "duration": 5,
    "start_time": "2022-04-30T09:53:30.147Z"
   },
   {
    "duration": 50,
    "start_time": "2022-04-30T09:53:30.155Z"
   },
   {
    "duration": 18,
    "start_time": "2022-04-30T09:53:30.207Z"
   },
   {
    "duration": 5,
    "start_time": "2022-04-30T09:53:30.228Z"
   },
   {
    "duration": 39,
    "start_time": "2022-04-30T09:53:30.235Z"
   },
   {
    "duration": 76,
    "start_time": "2022-04-30T09:53:30.276Z"
   },
   {
    "duration": 6,
    "start_time": "2022-04-30T09:53:30.354Z"
   },
   {
    "duration": 27,
    "start_time": "2022-04-30T09:53:30.364Z"
   },
   {
    "duration": 71,
    "start_time": "2022-04-30T09:53:30.393Z"
   },
   {
    "duration": 516,
    "start_time": "2022-04-30T09:53:30.466Z"
   },
   {
    "duration": 337,
    "start_time": "2022-04-30T09:53:30.984Z"
   },
   {
    "duration": 330,
    "start_time": "2022-04-30T09:53:31.324Z"
   },
   {
    "duration": 243,
    "start_time": "2022-04-30T09:53:31.656Z"
   },
   {
    "duration": 241,
    "start_time": "2022-04-30T09:53:31.902Z"
   },
   {
    "duration": 248,
    "start_time": "2022-04-30T09:53:32.145Z"
   },
   {
    "duration": 13,
    "start_time": "2022-04-30T09:53:32.395Z"
   },
   {
    "duration": 10,
    "start_time": "2022-04-30T09:53:32.425Z"
   },
   {
    "duration": 227,
    "start_time": "2022-04-30T09:53:55.666Z"
   },
   {
    "duration": 226,
    "start_time": "2022-04-30T09:54:00.988Z"
   },
   {
    "duration": 230,
    "start_time": "2022-04-30T09:54:04.360Z"
   },
   {
    "duration": 200,
    "start_time": "2022-04-30T09:54:30.235Z"
   },
   {
    "duration": 207,
    "start_time": "2022-04-30T09:54:40.347Z"
   },
   {
    "duration": 288,
    "start_time": "2022-04-30T09:54:46.576Z"
   },
   {
    "duration": 131,
    "start_time": "2022-04-30T09:54:56.355Z"
   },
   {
    "duration": 220,
    "start_time": "2022-04-30T09:55:04.416Z"
   },
   {
    "duration": 323,
    "start_time": "2022-04-30T09:55:14.156Z"
   },
   {
    "duration": 258,
    "start_time": "2022-04-30T09:55:17.576Z"
   },
   {
    "duration": 267,
    "start_time": "2022-04-30T09:55:35.998Z"
   },
   {
    "duration": 246,
    "start_time": "2022-04-30T09:55:55.757Z"
   },
   {
    "duration": 248,
    "start_time": "2022-04-30T09:56:06.558Z"
   },
   {
    "duration": 276,
    "start_time": "2022-04-30T09:56:17.293Z"
   },
   {
    "duration": 1010,
    "start_time": "2022-04-30T10:57:17.912Z"
   },
   {
    "duration": 129,
    "start_time": "2022-04-30T10:57:18.925Z"
   },
   {
    "duration": 5,
    "start_time": "2022-04-30T10:57:19.056Z"
   },
   {
    "duration": 41,
    "start_time": "2022-04-30T10:57:19.063Z"
   },
   {
    "duration": 6,
    "start_time": "2022-04-30T10:57:19.124Z"
   },
   {
    "duration": 11,
    "start_time": "2022-04-30T10:57:19.132Z"
   },
   {
    "duration": 42,
    "start_time": "2022-04-30T10:57:19.146Z"
   },
   {
    "duration": 63,
    "start_time": "2022-04-30T10:57:19.190Z"
   },
   {
    "duration": 8,
    "start_time": "2022-04-30T10:57:19.256Z"
   },
   {
    "duration": 19,
    "start_time": "2022-04-30T10:57:19.268Z"
   },
   {
    "duration": 73,
    "start_time": "2022-04-30T10:57:19.289Z"
   },
   {
    "duration": 523,
    "start_time": "2022-04-30T10:57:19.365Z"
   },
   {
    "duration": 333,
    "start_time": "2022-04-30T10:57:19.891Z"
   },
   {
    "duration": 313,
    "start_time": "2022-04-30T10:57:20.227Z"
   },
   {
    "duration": 255,
    "start_time": "2022-04-30T10:57:20.543Z"
   },
   {
    "duration": 261,
    "start_time": "2022-04-30T10:57:20.801Z"
   },
   {
    "duration": 277,
    "start_time": "2022-04-30T10:57:21.065Z"
   },
   {
    "duration": 14,
    "start_time": "2022-04-30T10:57:21.345Z"
   },
   {
    "duration": 8,
    "start_time": "2022-04-30T10:57:21.361Z"
   },
   {
    "duration": 533,
    "start_time": "2022-04-30T11:00:43.992Z"
   },
   {
    "duration": 512,
    "start_time": "2022-04-30T11:05:17.635Z"
   },
   {
    "duration": 526,
    "start_time": "2022-04-30T11:05:41.169Z"
   },
   {
    "duration": 114,
    "start_time": "2022-04-30T11:24:05.265Z"
   },
   {
    "duration": 6,
    "start_time": "2022-04-30T11:24:43.111Z"
   },
   {
    "duration": 159,
    "start_time": "2022-04-30T11:25:05.590Z"
   },
   {
    "duration": 17,
    "start_time": "2022-04-30T11:33:41.765Z"
   },
   {
    "duration": 21,
    "start_time": "2022-04-30T11:35:40.761Z"
   },
   {
    "duration": 983,
    "start_time": "2022-04-30T11:35:53.841Z"
   },
   {
    "duration": 130,
    "start_time": "2022-04-30T11:35:54.827Z"
   },
   {
    "duration": 5,
    "start_time": "2022-04-30T11:35:54.959Z"
   },
   {
    "duration": 43,
    "start_time": "2022-04-30T11:35:54.966Z"
   },
   {
    "duration": 6,
    "start_time": "2022-04-30T11:35:55.026Z"
   },
   {
    "duration": 6,
    "start_time": "2022-04-30T11:35:55.034Z"
   },
   {
    "duration": 41,
    "start_time": "2022-04-30T11:35:55.043Z"
   },
   {
    "duration": 77,
    "start_time": "2022-04-30T11:35:55.086Z"
   },
   {
    "duration": 6,
    "start_time": "2022-04-30T11:35:55.166Z"
   },
   {
    "duration": 12,
    "start_time": "2022-04-30T11:35:55.175Z"
   },
   {
    "duration": 73,
    "start_time": "2022-04-30T11:35:55.190Z"
   },
   {
    "duration": 539,
    "start_time": "2022-04-30T11:35:55.266Z"
   },
   {
    "duration": 354,
    "start_time": "2022-04-30T11:35:55.807Z"
   },
   {
    "duration": 304,
    "start_time": "2022-04-30T11:35:56.165Z"
   },
   {
    "duration": 239,
    "start_time": "2022-04-30T11:35:56.471Z"
   },
   {
    "duration": 274,
    "start_time": "2022-04-30T11:35:56.713Z"
   },
   {
    "duration": 271,
    "start_time": "2022-04-30T11:35:56.989Z"
   },
   {
    "duration": 12,
    "start_time": "2022-04-30T11:35:57.262Z"
   },
   {
    "duration": 7,
    "start_time": "2022-04-30T11:35:57.276Z"
   },
   {
    "duration": 155,
    "start_time": "2022-04-30T11:35:57.285Z"
   },
   {
    "duration": 1087,
    "start_time": "2022-04-30T11:36:05.819Z"
   },
   {
    "duration": 1073,
    "start_time": "2022-04-30T11:36:15.781Z"
   },
   {
    "duration": 867,
    "start_time": "2022-04-30T11:36:30.801Z"
   },
   {
    "duration": 54,
    "start_time": "2022-04-30T11:36:47.246Z"
   },
   {
    "duration": 983,
    "start_time": "2022-04-30T11:37:24.583Z"
   },
   {
    "duration": 182,
    "start_time": "2022-04-30T11:37:32.172Z"
   },
   {
    "duration": 21,
    "start_time": "2022-04-30T11:37:39.192Z"
   },
   {
    "duration": 17,
    "start_time": "2022-04-30T11:38:01.737Z"
   },
   {
    "duration": 395,
    "start_time": "2022-04-30T11:39:43.349Z"
   },
   {
    "duration": 205,
    "start_time": "2022-04-30T11:40:50.836Z"
   },
   {
    "duration": 615,
    "start_time": "2022-04-30T11:41:09.736Z"
   },
   {
    "duration": 19,
    "start_time": "2022-04-30T11:42:05.345Z"
   },
   {
    "duration": 25,
    "start_time": "2022-04-30T11:42:23.738Z"
   },
   {
    "duration": 42,
    "start_time": "2022-04-30T11:42:56.598Z"
   },
   {
    "duration": 21,
    "start_time": "2022-04-30T11:43:07.103Z"
   },
   {
    "duration": 70,
    "start_time": "2022-04-30T11:43:20.030Z"
   },
   {
    "duration": 8222,
    "start_time": "2022-04-30T11:44:34.514Z"
   },
   {
    "duration": 23,
    "start_time": "2022-04-30T11:44:58.403Z"
   },
   {
    "duration": 9093,
    "start_time": "2022-04-30T11:50:15.806Z"
   },
   {
    "duration": 7455,
    "start_time": "2022-04-30T11:50:36.012Z"
   },
   {
    "duration": 8866,
    "start_time": "2022-04-30T11:51:06.600Z"
   },
   {
    "duration": 8922,
    "start_time": "2022-04-30T11:53:44.657Z"
   },
   {
    "duration": 1895,
    "start_time": "2022-04-30T11:54:56.732Z"
   },
   {
    "duration": 1658,
    "start_time": "2022-04-30T11:55:09.393Z"
   },
   {
    "duration": 75,
    "start_time": "2022-04-30T11:56:01.102Z"
   },
   {
    "duration": 25,
    "start_time": "2022-04-30T11:56:06.077Z"
   },
   {
    "duration": 9,
    "start_time": "2022-04-30T11:57:35.178Z"
   },
   {
    "duration": 77,
    "start_time": "2022-04-30T11:58:17.128Z"
   },
   {
    "duration": 38,
    "start_time": "2022-04-30T11:58:24.706Z"
   },
   {
    "duration": 1262,
    "start_time": "2022-04-30T11:58:29.392Z"
   },
   {
    "duration": 9,
    "start_time": "2022-04-30T11:58:43.776Z"
   },
   {
    "duration": 6,
    "start_time": "2022-04-30T11:59:30.304Z"
   },
   {
    "duration": 74,
    "start_time": "2022-04-30T11:59:41.833Z"
   },
   {
    "duration": 36,
    "start_time": "2022-04-30T11:59:56.794Z"
   },
   {
    "duration": 74,
    "start_time": "2022-04-30T12:00:53.977Z"
   },
   {
    "duration": 38,
    "start_time": "2022-04-30T12:02:49.775Z"
   },
   {
    "duration": 119,
    "start_time": "2022-04-30T12:03:08.348Z"
   },
   {
    "duration": 7,
    "start_time": "2022-04-30T12:03:41.536Z"
   },
   {
    "duration": 11,
    "start_time": "2022-04-30T12:03:45.507Z"
   },
   {
    "duration": 11,
    "start_time": "2022-04-30T12:03:55.385Z"
   },
   {
    "duration": 15,
    "start_time": "2022-04-30T12:05:33.835Z"
   },
   {
    "duration": 13,
    "start_time": "2022-04-30T12:05:35.986Z"
   },
   {
    "duration": 10,
    "start_time": "2022-04-30T12:05:40.612Z"
   },
   {
    "duration": 122,
    "start_time": "2022-04-30T12:11:25.950Z"
   },
   {
    "duration": 135,
    "start_time": "2022-04-30T12:11:36.797Z"
   },
   {
    "duration": 122,
    "start_time": "2022-04-30T12:11:50.692Z"
   },
   {
    "duration": 4,
    "start_time": "2022-04-30T12:13:37.706Z"
   },
   {
    "duration": 6,
    "start_time": "2022-04-30T12:13:43.709Z"
   },
   {
    "duration": 48,
    "start_time": "2022-04-30T12:13:58.218Z"
   },
   {
    "duration": 67,
    "start_time": "2022-04-30T12:14:06.011Z"
   },
   {
    "duration": 1037,
    "start_time": "2022-04-30T12:15:11.179Z"
   },
   {
    "duration": 129,
    "start_time": "2022-04-30T12:15:12.220Z"
   },
   {
    "duration": 5,
    "start_time": "2022-04-30T12:15:12.351Z"
   },
   {
    "duration": 42,
    "start_time": "2022-04-30T12:15:12.359Z"
   },
   {
    "duration": 5,
    "start_time": "2022-04-30T12:15:12.424Z"
   },
   {
    "duration": 6,
    "start_time": "2022-04-30T12:15:12.432Z"
   },
   {
    "duration": 31,
    "start_time": "2022-04-30T12:15:12.440Z"
   },
   {
    "duration": 88,
    "start_time": "2022-04-30T12:15:12.474Z"
   },
   {
    "duration": 7,
    "start_time": "2022-04-30T12:15:12.564Z"
   },
   {
    "duration": 14,
    "start_time": "2022-04-30T12:15:12.574Z"
   },
   {
    "duration": 78,
    "start_time": "2022-04-30T12:15:12.590Z"
   },
   {
    "duration": 528,
    "start_time": "2022-04-30T12:15:12.670Z"
   },
   {
    "duration": 327,
    "start_time": "2022-04-30T12:15:13.200Z"
   },
   {
    "duration": 313,
    "start_time": "2022-04-30T12:15:13.529Z"
   },
   {
    "duration": 250,
    "start_time": "2022-04-30T12:15:13.845Z"
   },
   {
    "duration": 249,
    "start_time": "2022-04-30T12:15:14.098Z"
   },
   {
    "duration": 264,
    "start_time": "2022-04-30T12:15:14.350Z"
   },
   {
    "duration": 19,
    "start_time": "2022-04-30T12:15:14.617Z"
   },
   {
    "duration": 17,
    "start_time": "2022-04-30T12:15:14.639Z"
   },
   {
    "duration": 79,
    "start_time": "2022-04-30T12:15:14.659Z"
   },
   {
    "duration": 23,
    "start_time": "2022-04-30T12:15:14.740Z"
   },
   {
    "duration": 2600,
    "start_time": "2022-04-30T12:15:14.765Z"
   },
   {
    "duration": 68,
    "start_time": "2022-04-30T12:15:26.007Z"
   },
   {
    "duration": 21,
    "start_time": "2022-04-30T12:15:36.786Z"
   },
   {
    "duration": 18,
    "start_time": "2022-04-30T12:15:40.924Z"
   },
   {
    "duration": 98,
    "start_time": "2022-04-30T12:15:58.068Z"
   },
   {
    "duration": 46,
    "start_time": "2022-04-30T12:16:03.148Z"
   },
   {
    "duration": 66,
    "start_time": "2022-04-30T12:16:08.195Z"
   },
   {
    "duration": 59,
    "start_time": "2022-04-30T12:16:29.391Z"
   },
   {
    "duration": 68,
    "start_time": "2022-04-30T12:16:41.673Z"
   },
   {
    "duration": 27,
    "start_time": "2022-04-30T12:35:12.094Z"
   },
   {
    "duration": 25,
    "start_time": "2022-04-30T12:35:53.607Z"
   },
   {
    "duration": 26,
    "start_time": "2022-04-30T12:36:03.531Z"
   },
   {
    "duration": 26,
    "start_time": "2022-04-30T12:36:09.333Z"
   },
   {
    "duration": 44,
    "start_time": "2022-04-30T12:36:48.750Z"
   },
   {
    "duration": 284,
    "start_time": "2022-04-30T12:36:53.290Z"
   },
   {
    "duration": 64,
    "start_time": "2022-04-30T12:37:18.473Z"
   },
   {
    "duration": 18,
    "start_time": "2022-04-30T12:37:34.196Z"
   },
   {
    "duration": 21,
    "start_time": "2022-04-30T12:37:38.201Z"
   },
   {
    "duration": 61,
    "start_time": "2022-04-30T12:38:02.258Z"
   },
   {
    "duration": 69,
    "start_time": "2022-04-30T12:38:38.051Z"
   },
   {
    "duration": 46,
    "start_time": "2022-04-30T12:38:49.143Z"
   },
   {
    "duration": 5,
    "start_time": "2022-04-30T13:03:06.214Z"
   },
   {
    "duration": 4,
    "start_time": "2022-04-30T13:03:48.394Z"
   },
   {
    "duration": 6,
    "start_time": "2022-04-30T13:03:53.993Z"
   },
   {
    "duration": 11,
    "start_time": "2022-04-30T13:03:59.666Z"
   },
   {
    "duration": 10,
    "start_time": "2022-04-30T13:04:20.577Z"
   },
   {
    "duration": 15,
    "start_time": "2022-04-30T13:04:25.834Z"
   },
   {
    "duration": 10,
    "start_time": "2022-04-30T13:04:46.855Z"
   },
   {
    "duration": 118,
    "start_time": "2022-04-30T13:05:38.693Z"
   },
   {
    "duration": 118,
    "start_time": "2022-04-30T13:05:43.713Z"
   },
   {
    "duration": 113,
    "start_time": "2022-04-30T13:05:45.762Z"
   },
   {
    "duration": 12,
    "start_time": "2022-04-30T13:06:02.509Z"
   },
   {
    "duration": 19,
    "start_time": "2022-04-30T13:06:26.892Z"
   },
   {
    "duration": 11,
    "start_time": "2022-04-30T13:06:44.536Z"
   },
   {
    "duration": 42,
    "start_time": "2022-04-30T13:07:12.972Z"
   },
   {
    "duration": 50,
    "start_time": "2022-04-30T13:07:23.388Z"
   },
   {
    "duration": 48,
    "start_time": "2022-04-30T13:08:10.903Z"
   },
   {
    "duration": 49,
    "start_time": "2022-04-30T13:08:18.378Z"
   },
   {
    "duration": 45,
    "start_time": "2022-04-30T13:09:24.464Z"
   },
   {
    "duration": 44,
    "start_time": "2022-04-30T13:12:48.953Z"
   },
   {
    "duration": 46,
    "start_time": "2022-04-30T13:14:33.563Z"
   },
   {
    "duration": 64,
    "start_time": "2022-04-30T13:14:41.360Z"
   },
   {
    "duration": 22,
    "start_time": "2022-04-30T13:17:14.612Z"
   },
   {
    "duration": 5,
    "start_time": "2022-04-30T13:17:24.332Z"
   },
   {
    "duration": 10,
    "start_time": "2022-04-30T13:17:31.057Z"
   },
   {
    "duration": 20,
    "start_time": "2022-04-30T13:17:42.722Z"
   },
   {
    "duration": 61,
    "start_time": "2022-04-30T13:18:14.714Z"
   },
   {
    "duration": 72,
    "start_time": "2022-04-30T13:18:35.216Z"
   },
   {
    "duration": 19,
    "start_time": "2022-04-30T16:20:06.119Z"
   },
   {
    "duration": 8,
    "start_time": "2022-04-30T16:20:11.582Z"
   },
   {
    "duration": 56,
    "start_time": "2022-04-30T16:20:17.145Z"
   },
   {
    "duration": 14,
    "start_time": "2022-04-30T16:20:44.674Z"
   },
   {
    "duration": 398,
    "start_time": "2022-04-30T16:21:15.074Z"
   },
   {
    "duration": 395,
    "start_time": "2022-04-30T16:21:23.291Z"
   },
   {
    "duration": 709,
    "start_time": "2022-04-30T16:21:28.259Z"
   },
   {
    "duration": 15,
    "start_time": "2022-04-30T16:21:40.149Z"
   },
   {
    "duration": 421,
    "start_time": "2022-04-30T16:21:50.944Z"
   },
   {
    "duration": 295,
    "start_time": "2022-04-30T16:22:11.959Z"
   },
   {
    "duration": 16,
    "start_time": "2022-04-30T16:22:17.797Z"
   },
   {
    "duration": 233,
    "start_time": "2022-04-30T16:23:28.079Z"
   },
   {
    "duration": 202,
    "start_time": "2022-04-30T16:23:45.072Z"
   },
   {
    "duration": 18,
    "start_time": "2022-04-30T16:24:23.545Z"
   },
   {
    "duration": 20,
    "start_time": "2022-04-30T16:24:30.023Z"
   },
   {
    "duration": 237,
    "start_time": "2022-04-30T16:25:02.456Z"
   },
   {
    "duration": 215,
    "start_time": "2022-04-30T16:25:11.058Z"
   },
   {
    "duration": 207,
    "start_time": "2022-04-30T16:25:54.951Z"
   },
   {
    "duration": 201,
    "start_time": "2022-04-30T16:25:59.164Z"
   },
   {
    "duration": 195,
    "start_time": "2022-04-30T16:26:03.341Z"
   },
   {
    "duration": 319,
    "start_time": "2022-04-30T16:26:10.325Z"
   },
   {
    "duration": 212,
    "start_time": "2022-04-30T16:26:16.875Z"
   },
   {
    "duration": 202,
    "start_time": "2022-04-30T16:26:26.049Z"
   },
   {
    "duration": 216,
    "start_time": "2022-04-30T16:26:35.619Z"
   },
   {
    "duration": 227,
    "start_time": "2022-04-30T16:28:18.898Z"
   },
   {
    "duration": 190,
    "start_time": "2022-04-30T16:28:30.586Z"
   },
   {
    "duration": 239,
    "start_time": "2022-04-30T16:28:37.123Z"
   },
   {
    "duration": 371,
    "start_time": "2022-04-30T16:28:45.850Z"
   },
   {
    "duration": 357,
    "start_time": "2022-04-30T16:30:22.462Z"
   },
   {
    "duration": 53,
    "start_time": "2022-04-30T16:34:04.513Z"
   },
   {
    "duration": 66,
    "start_time": "2022-04-30T16:34:16.757Z"
   },
   {
    "duration": 11,
    "start_time": "2022-04-30T16:36:09.741Z"
   },
   {
    "duration": 174,
    "start_time": "2022-04-30T16:41:47.332Z"
   },
   {
    "duration": 23,
    "start_time": "2022-04-30T16:41:59.698Z"
   },
   {
    "duration": 38,
    "start_time": "2022-04-30T16:42:07.877Z"
   },
   {
    "duration": 45,
    "start_time": "2022-04-30T16:42:58.293Z"
   },
   {
    "duration": 36,
    "start_time": "2022-04-30T16:43:52.123Z"
   },
   {
    "duration": 13,
    "start_time": "2022-04-30T16:45:22.927Z"
   },
   {
    "duration": 1870,
    "start_time": "2022-04-30T16:45:29.053Z"
   },
   {
    "duration": 13,
    "start_time": "2022-04-30T16:45:36.030Z"
   },
   {
    "duration": 60,
    "start_time": "2022-04-30T16:49:57.819Z"
   },
   {
    "duration": 65,
    "start_time": "2022-04-30T16:50:34.788Z"
   },
   {
    "duration": 14,
    "start_time": "2022-04-30T16:52:12.186Z"
   },
   {
    "duration": 1034,
    "start_time": "2022-04-30T16:52:27.952Z"
   },
   {
    "duration": 135,
    "start_time": "2022-04-30T16:52:28.989Z"
   },
   {
    "duration": 5,
    "start_time": "2022-04-30T16:52:29.127Z"
   },
   {
    "duration": 46,
    "start_time": "2022-04-30T16:52:29.135Z"
   },
   {
    "duration": 6,
    "start_time": "2022-04-30T16:52:29.183Z"
   },
   {
    "duration": 35,
    "start_time": "2022-04-30T16:52:29.192Z"
   },
   {
    "duration": 37,
    "start_time": "2022-04-30T16:52:29.233Z"
   },
   {
    "duration": 62,
    "start_time": "2022-04-30T16:52:29.273Z"
   },
   {
    "duration": 7,
    "start_time": "2022-04-30T16:52:29.338Z"
   },
   {
    "duration": 15,
    "start_time": "2022-04-30T16:52:29.349Z"
   },
   {
    "duration": 72,
    "start_time": "2022-04-30T16:52:29.366Z"
   },
   {
    "duration": 546,
    "start_time": "2022-04-30T16:52:29.441Z"
   },
   {
    "duration": 348,
    "start_time": "2022-04-30T16:52:29.989Z"
   },
   {
    "duration": 330,
    "start_time": "2022-04-30T16:52:30.339Z"
   },
   {
    "duration": 291,
    "start_time": "2022-04-30T16:52:30.671Z"
   },
   {
    "duration": 360,
    "start_time": "2022-04-30T16:52:30.964Z"
   },
   {
    "duration": 412,
    "start_time": "2022-04-30T16:52:31.327Z"
   },
   {
    "duration": 13,
    "start_time": "2022-04-30T16:52:31.742Z"
   },
   {
    "duration": 8,
    "start_time": "2022-04-30T16:52:31.758Z"
   },
   {
    "duration": 111,
    "start_time": "2022-04-30T16:52:31.769Z"
   },
   {
    "duration": 25,
    "start_time": "2022-04-30T16:52:31.883Z"
   },
   {
    "duration": 85,
    "start_time": "2022-04-30T16:52:31.910Z"
   },
   {
    "duration": 409,
    "start_time": "2022-04-30T16:52:31.997Z"
   },
   {
    "duration": 69,
    "start_time": "2022-04-30T16:52:32.409Z"
   },
   {
    "duration": 14,
    "start_time": "2022-04-30T16:52:32.480Z"
   },
   {
    "duration": 16,
    "start_time": "2022-04-30T16:52:36.824Z"
   },
   {
    "duration": 14,
    "start_time": "2022-04-30T16:52:44.504Z"
   },
   {
    "duration": 15,
    "start_time": "2022-04-30T16:53:07.389Z"
   },
   {
    "duration": 21,
    "start_time": "2022-04-30T16:54:11.462Z"
   },
   {
    "duration": 40,
    "start_time": "2022-04-30T16:54:38.131Z"
   },
   {
    "duration": 73,
    "start_time": "2022-05-04T06:33:29.146Z"
   },
   {
    "duration": 1279,
    "start_time": "2022-05-04T06:33:35.717Z"
   },
   {
    "duration": 128,
    "start_time": "2022-05-04T06:33:37.000Z"
   },
   {
    "duration": 4,
    "start_time": "2022-05-04T06:33:37.130Z"
   },
   {
    "duration": 50,
    "start_time": "2022-05-04T06:33:37.137Z"
   },
   {
    "duration": 5,
    "start_time": "2022-05-04T06:33:37.190Z"
   },
   {
    "duration": 10,
    "start_time": "2022-05-04T06:33:37.197Z"
   },
   {
    "duration": 47,
    "start_time": "2022-05-04T06:33:37.209Z"
   },
   {
    "duration": 49,
    "start_time": "2022-05-04T06:33:37.258Z"
   },
   {
    "duration": 6,
    "start_time": "2022-05-04T06:33:37.309Z"
   },
   {
    "duration": 39,
    "start_time": "2022-05-04T06:33:37.319Z"
   },
   {
    "duration": 64,
    "start_time": "2022-05-04T06:33:37.360Z"
   },
   {
    "duration": 506,
    "start_time": "2022-05-04T06:33:37.426Z"
   },
   {
    "duration": 309,
    "start_time": "2022-05-04T06:33:37.934Z"
   },
   {
    "duration": 303,
    "start_time": "2022-05-04T06:33:38.245Z"
   },
   {
    "duration": 243,
    "start_time": "2022-05-04T06:33:38.551Z"
   },
   {
    "duration": 263,
    "start_time": "2022-05-04T06:33:38.796Z"
   },
   {
    "duration": 370,
    "start_time": "2022-05-04T06:33:39.061Z"
   },
   {
    "duration": 0,
    "start_time": "2022-05-04T06:33:39.433Z"
   },
   {
    "duration": 0,
    "start_time": "2022-05-04T06:33:39.435Z"
   },
   {
    "duration": 0,
    "start_time": "2022-05-04T06:33:39.452Z"
   },
   {
    "duration": 0,
    "start_time": "2022-05-04T06:33:39.454Z"
   },
   {
    "duration": 0,
    "start_time": "2022-05-04T06:33:39.455Z"
   },
   {
    "duration": 0,
    "start_time": "2022-05-04T06:33:39.457Z"
   },
   {
    "duration": 0,
    "start_time": "2022-05-04T06:33:39.459Z"
   },
   {
    "duration": 0,
    "start_time": "2022-05-04T06:33:39.460Z"
   },
   {
    "duration": 237,
    "start_time": "2022-05-04T06:34:34.094Z"
   },
   {
    "duration": 203,
    "start_time": "2022-05-04T06:37:44.665Z"
   },
   {
    "duration": 249,
    "start_time": "2022-05-04T06:38:57.286Z"
   },
   {
    "duration": 230,
    "start_time": "2022-05-04T06:39:25.383Z"
   },
   {
    "duration": 232,
    "start_time": "2022-05-04T06:40:02.851Z"
   },
   {
    "duration": 307,
    "start_time": "2022-05-04T06:40:35.563Z"
   },
   {
    "duration": 229,
    "start_time": "2022-05-04T06:41:39.230Z"
   },
   {
    "duration": 226,
    "start_time": "2022-05-04T06:42:39.402Z"
   },
   {
    "duration": 231,
    "start_time": "2022-05-04T06:44:54.489Z"
   },
   {
    "duration": 25,
    "start_time": "2022-05-04T06:45:43.162Z"
   },
   {
    "duration": 40,
    "start_time": "2022-05-04T06:45:53.725Z"
   },
   {
    "duration": 126,
    "start_time": "2022-05-04T06:47:21.222Z"
   },
   {
    "duration": 1006,
    "start_time": "2022-05-04T06:47:31.548Z"
   },
   {
    "duration": 160,
    "start_time": "2022-05-04T06:47:32.557Z"
   },
   {
    "duration": 5,
    "start_time": "2022-05-04T06:47:32.719Z"
   },
   {
    "duration": 64,
    "start_time": "2022-05-04T06:47:32.727Z"
   },
   {
    "duration": 5,
    "start_time": "2022-05-04T06:47:32.794Z"
   },
   {
    "duration": 29,
    "start_time": "2022-05-04T06:47:32.801Z"
   },
   {
    "duration": 55,
    "start_time": "2022-05-04T06:47:32.833Z"
   },
   {
    "duration": 50,
    "start_time": "2022-05-04T06:47:32.891Z"
   },
   {
    "duration": 12,
    "start_time": "2022-05-04T06:47:32.943Z"
   },
   {
    "duration": 17,
    "start_time": "2022-05-04T06:47:32.960Z"
   },
   {
    "duration": 70,
    "start_time": "2022-05-04T06:47:32.979Z"
   },
   {
    "duration": 541,
    "start_time": "2022-05-04T06:47:33.052Z"
   },
   {
    "duration": 310,
    "start_time": "2022-05-04T06:47:33.596Z"
   },
   {
    "duration": 304,
    "start_time": "2022-05-04T06:47:33.909Z"
   },
   {
    "duration": 248,
    "start_time": "2022-05-04T06:47:34.216Z"
   },
   {
    "duration": 248,
    "start_time": "2022-05-04T06:47:34.467Z"
   },
   {
    "duration": 264,
    "start_time": "2022-05-04T06:47:34.717Z"
   },
   {
    "duration": 268,
    "start_time": "2022-05-04T06:47:34.983Z"
   },
   {
    "duration": 12,
    "start_time": "2022-05-04T06:47:35.253Z"
   },
   {
    "duration": 15,
    "start_time": "2022-05-04T06:47:35.267Z"
   },
   {
    "duration": 57,
    "start_time": "2022-05-04T06:47:35.284Z"
   },
   {
    "duration": 76,
    "start_time": "2022-05-04T06:47:35.343Z"
   },
   {
    "duration": 0,
    "start_time": "2022-05-04T06:47:35.422Z"
   },
   {
    "duration": 0,
    "start_time": "2022-05-04T06:47:35.424Z"
   },
   {
    "duration": 0,
    "start_time": "2022-05-04T06:47:35.425Z"
   },
   {
    "duration": 0,
    "start_time": "2022-05-04T06:47:35.427Z"
   },
   {
    "duration": 0,
    "start_time": "2022-05-04T06:47:35.428Z"
   },
   {
    "duration": 0,
    "start_time": "2022-05-04T06:47:35.429Z"
   },
   {
    "duration": 148,
    "start_time": "2022-05-04T06:47:53.236Z"
   },
   {
    "duration": 3117,
    "start_time": "2022-05-04T06:48:04.623Z"
   },
   {
    "duration": 69,
    "start_time": "2022-05-04T06:48:19.628Z"
   },
   {
    "duration": 13,
    "start_time": "2022-05-04T07:01:07.794Z"
   },
   {
    "duration": 2904,
    "start_time": "2022-05-04T07:01:23.035Z"
   },
   {
    "duration": 10,
    "start_time": "2022-05-04T07:01:48.740Z"
   },
   {
    "duration": 17,
    "start_time": "2022-05-04T07:02:16.641Z"
   },
   {
    "duration": 72,
    "start_time": "2022-05-04T07:03:33.679Z"
   },
   {
    "duration": 106,
    "start_time": "2022-05-04T07:04:40.548Z"
   },
   {
    "duration": 23,
    "start_time": "2022-05-04T07:05:31.550Z"
   },
   {
    "duration": 61,
    "start_time": "2022-05-04T07:05:38.340Z"
   },
   {
    "duration": 61,
    "start_time": "2022-05-04T07:05:46.845Z"
   },
   {
    "duration": 64,
    "start_time": "2022-05-04T07:06:22.239Z"
   },
   {
    "duration": 69,
    "start_time": "2022-05-04T07:06:57.885Z"
   },
   {
    "duration": 17,
    "start_time": "2022-05-04T07:07:16.610Z"
   },
   {
    "duration": 17,
    "start_time": "2022-05-04T07:07:42.444Z"
   },
   {
    "duration": 69,
    "start_time": "2022-05-04T07:07:53.615Z"
   },
   {
    "duration": 68,
    "start_time": "2022-05-04T07:08:17.361Z"
   },
   {
    "duration": 20,
    "start_time": "2022-05-04T07:08:25.979Z"
   },
   {
    "duration": 33,
    "start_time": "2022-05-04T07:10:40.841Z"
   },
   {
    "duration": 78,
    "start_time": "2022-05-04T07:14:15.870Z"
   },
   {
    "duration": 68,
    "start_time": "2022-05-04T07:14:28.623Z"
   },
   {
    "duration": 17,
    "start_time": "2022-05-04T07:14:48.849Z"
   },
   {
    "duration": 50,
    "start_time": "2022-05-04T07:14:52.756Z"
   },
   {
    "duration": 99,
    "start_time": "2022-05-04T07:15:26.629Z"
   },
   {
    "duration": 13,
    "start_time": "2022-05-04T07:15:55.913Z"
   },
   {
    "duration": 51,
    "start_time": "2022-05-04T07:16:02.197Z"
   },
   {
    "duration": 50,
    "start_time": "2022-05-04T07:16:06.925Z"
   },
   {
    "duration": 52,
    "start_time": "2022-05-04T07:16:31.371Z"
   },
   {
    "duration": 78,
    "start_time": "2022-05-04T07:19:20.117Z"
   },
   {
    "duration": 67,
    "start_time": "2022-05-04T07:19:35.109Z"
   },
   {
    "duration": 65,
    "start_time": "2022-05-04T07:20:55.015Z"
   },
   {
    "duration": 64,
    "start_time": "2022-05-04T07:20:58.852Z"
   },
   {
    "duration": 62,
    "start_time": "2022-05-04T07:21:03.082Z"
   },
   {
    "duration": 51,
    "start_time": "2022-05-04T07:21:42.721Z"
   },
   {
    "duration": 56,
    "start_time": "2022-05-04T07:21:51.040Z"
   },
   {
    "duration": 73,
    "start_time": "2022-05-04T07:21:54.167Z"
   },
   {
    "duration": 205,
    "start_time": "2022-05-04T07:26:42.147Z"
   },
   {
    "duration": 14,
    "start_time": "2022-05-04T07:26:53.064Z"
   },
   {
    "duration": 60,
    "start_time": "2022-05-04T07:26:57.544Z"
   },
   {
    "duration": 2132,
    "start_time": "2022-05-04T07:27:22.506Z"
   },
   {
    "duration": 59,
    "start_time": "2022-05-04T07:27:35.672Z"
   },
   {
    "duration": 27,
    "start_time": "2022-05-04T07:28:06.155Z"
   },
   {
    "duration": 28,
    "start_time": "2022-05-04T07:28:26.265Z"
   },
   {
    "duration": 29,
    "start_time": "2022-05-04T07:28:34.148Z"
   },
   {
    "duration": 33,
    "start_time": "2022-05-04T07:28:44.688Z"
   },
   {
    "duration": 38,
    "start_time": "2022-05-04T07:30:32.789Z"
   },
   {
    "duration": 829,
    "start_time": "2022-05-05T04:26:32.387Z"
   },
   {
    "duration": 94,
    "start_time": "2022-05-05T04:26:33.218Z"
   },
   {
    "duration": 3,
    "start_time": "2022-05-05T04:26:33.410Z"
   },
   {
    "duration": 22,
    "start_time": "2022-05-05T04:26:34.139Z"
   },
   {
    "duration": 5,
    "start_time": "2022-05-05T04:26:35.053Z"
   },
   {
    "duration": 4,
    "start_time": "2022-05-05T04:26:38.028Z"
   },
   {
    "duration": 19,
    "start_time": "2022-05-05T04:26:38.722Z"
   },
   {
    "duration": 35,
    "start_time": "2022-05-05T04:26:39.648Z"
   },
   {
    "duration": 5,
    "start_time": "2022-05-05T04:26:41.638Z"
   },
   {
    "duration": 8,
    "start_time": "2022-05-05T04:26:42.077Z"
   },
   {
    "duration": 28,
    "start_time": "2022-05-05T04:26:43.931Z"
   },
   {
    "duration": 281,
    "start_time": "2022-05-05T04:26:45.616Z"
   },
   {
    "duration": 200,
    "start_time": "2022-05-05T04:26:46.754Z"
   },
   {
    "duration": 161,
    "start_time": "2022-05-05T04:26:47.230Z"
   },
   {
    "duration": 128,
    "start_time": "2022-05-05T04:26:55.489Z"
   },
   {
    "duration": 154,
    "start_time": "2022-05-05T04:26:56.195Z"
   },
   {
    "duration": 127,
    "start_time": "2022-05-05T04:26:57.344Z"
   },
   {
    "duration": 123,
    "start_time": "2022-05-05T04:26:57.966Z"
   },
   {
    "duration": 141,
    "start_time": "2022-05-05T04:27:01.916Z"
   },
   {
    "duration": 1240,
    "start_time": "2022-05-05T14:08:50.524Z"
   },
   {
    "duration": 133,
    "start_time": "2022-05-05T14:08:51.767Z"
   },
   {
    "duration": 16,
    "start_time": "2022-05-05T14:09:36.066Z"
   },
   {
    "duration": 10,
    "start_time": "2022-05-05T14:09:40.457Z"
   },
   {
    "duration": 34,
    "start_time": "2022-05-05T14:09:57.478Z"
   },
   {
    "duration": 54,
    "start_time": "2022-12-04T16:28:06.858Z"
   }
  ],
  "kernelspec": {
   "display_name": "Python 3 (ipykernel)",
   "language": "python",
   "name": "python3"
  },
  "language_info": {
   "codemirror_mode": {
    "name": "ipython",
    "version": 3
   },
   "file_extension": ".py",
   "mimetype": "text/x-python",
   "name": "python",
   "nbconvert_exporter": "python",
   "pygments_lexer": "ipython3",
   "version": "3.9.5"
  },
  "toc": {
   "base_numbering": 1,
   "nav_menu": {},
   "number_sections": true,
   "sideBar": true,
   "skip_h1_title": true,
   "title_cell": "Содержание",
   "title_sidebar": "Contents",
   "toc_cell": true,
   "toc_position": {},
   "toc_section_display": true,
   "toc_window_display": false
  }
 },
 "nbformat": 4,
 "nbformat_minor": 4
}
