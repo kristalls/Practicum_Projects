{
 "cells": [
  {
   "cell_type": "markdown",
   "metadata": {
    "toc": true
   },
   "source": [
    "<h1>Определение перспективного тарифа для телеком-компании<span class=\"tocSkip\"></span></h1>\n",
    "<div class=\"toc\"><ul class=\"toc-item\"><li><span><a href=\"#Извлечение-данных\" data-toc-modified-id=\"Извлечение-данных-1\"><span class=\"toc-item-num\">1&nbsp;&nbsp;</span>Извлечение данных</a></span></li><li><span><a href=\"#Предобработка-данных\" data-toc-modified-id=\"Предобработка-данных-2\"><span class=\"toc-item-num\">2&nbsp;&nbsp;</span>Предобработка данных</a></span><ul class=\"toc-item\"><li><span><a href=\"#Устранение-ошибок/дубликатов\" data-toc-modified-id=\"Устранение-ошибок/дубликатов-2.1\"><span class=\"toc-item-num\">2.1&nbsp;&nbsp;</span>Устранение ошибок/дубликатов</a></span></li><li><span><a href=\"#Создание-сводной-таблицы-расходов-пользователя\" data-toc-modified-id=\"Создание-сводной-таблицы-расходов-пользователя-2.2\"><span class=\"toc-item-num\">2.2&nbsp;&nbsp;</span>Создание сводной таблицы расходов пользователя</a></span></li></ul></li><li><span><a href=\"#Анализ-данных\" data-toc-modified-id=\"Анализ-данных-3\"><span class=\"toc-item-num\">3&nbsp;&nbsp;</span>Анализ данных</a></span><ul class=\"toc-item\"><li><span><a href=\"#Интернет\" data-toc-modified-id=\"Интернет-3.1\"><span class=\"toc-item-num\">3.1&nbsp;&nbsp;</span>Интернет</a></span></li><li><span><a href=\"#Сообщения\" data-toc-modified-id=\"Сообщения-3.2\"><span class=\"toc-item-num\">3.2&nbsp;&nbsp;</span>Сообщения</a></span></li><li><span><a href=\"#Звонки\" data-toc-modified-id=\"Звонки-3.3\"><span class=\"toc-item-num\">3.3&nbsp;&nbsp;</span>Звонки</a></span></li></ul></li><li><span><a href=\"#Проверка-гипотез\" data-toc-modified-id=\"Проверка-гипотез-4\"><span class=\"toc-item-num\">4&nbsp;&nbsp;</span>Проверка гипотез</a></span></li><li><span><a href=\"#Общий-вывод\" data-toc-modified-id=\"Общий-вывод-5\"><span class=\"toc-item-num\">5&nbsp;&nbsp;</span>Общий вывод</a></span></li></ul></div>"
   ]
  },
  {
   "cell_type": "markdown",
   "metadata": {},
   "source": [
    "## Извлечение данных"
   ]
  },
  {
   "cell_type": "markdown",
   "metadata": {},
   "source": [
    "Мы получили датасет с данными пользователей мобильного оператора. Наша задача - исследовать его и найти различия между пользователями тарифов Smart и Ultra."
   ]
  },
  {
   "cell_type": "code",
   "execution_count": 1,
   "metadata": {},
   "outputs": [],
   "source": [
    "import pandas as pd\n",
    "import math as mt\n",
    "import numpy as np\n",
    "from scipy import stats as st\n",
    "pd.set_option('display.max_columns', None)"
   ]
  },
  {
   "cell_type": "code",
   "execution_count": 2,
   "metadata": {},
   "outputs": [],
   "source": [
    "calls = pd.read_csv('/datasets/calls.csv', parse_dates=['call_date'])\n",
    "internet = pd.read_csv('/datasets/internet.csv', parse_dates=['session_date'], index_col=[0])\n",
    "messages = pd.read_csv('/datasets/messages.csv', parse_dates=['message_date'])\n",
    "tariffs = pd.read_csv('/datasets/tariffs.csv')\n",
    "users = pd.read_csv('/datasets/users.csv',parse_dates=['reg_date', 'churn_date'])"
   ]
  },
  {
   "cell_type": "markdown",
   "metadata": {},
   "source": [
    "<div class=\"alert alert-block alert-info\"> Получено 5 датасетов с информацией о клиентах оператора связи за 2018 год.\n",
    "</div>"
   ]
  },
  {
   "cell_type": "markdown",
   "metadata": {},
   "source": [
    "## Предобработка данных"
   ]
  },
  {
   "cell_type": "markdown",
   "metadata": {},
   "source": [
    "### Устранение ошибок/дубликатов"
   ]
  },
  {
   "cell_type": "markdown",
   "metadata": {},
   "source": [
    "<div class=\"alert alert-block alert-info\"> Проверим датасет на явные дубликаты строк.</div>"
   ]
  },
  {
   "cell_type": "code",
   "execution_count": 3,
   "metadata": {
    "scrolled": true
   },
   "outputs": [
    {
     "data": {
      "text/plain": [
       "0"
      ]
     },
     "metadata": {},
     "output_type": "display_data"
    },
    {
     "data": {
      "text/plain": [
       "0"
      ]
     },
     "metadata": {},
     "output_type": "display_data"
    },
    {
     "data": {
      "text/plain": [
       "0"
      ]
     },
     "metadata": {},
     "output_type": "display_data"
    },
    {
     "data": {
      "text/plain": [
       "0"
      ]
     },
     "metadata": {},
     "output_type": "display_data"
    },
    {
     "data": {
      "text/plain": [
       "0"
      ]
     },
     "metadata": {},
     "output_type": "display_data"
    }
   ],
   "source": [
    "display(calls.duplicated().sum(),\n",
    "       internet.duplicated().sum(),\n",
    "       messages.duplicated().sum(),\n",
    "       tariffs.duplicated().sum(),\n",
    "       users.duplicated().sum()\n",
    "       )"
   ]
  },
  {
   "cell_type": "code",
   "execution_count": null,
   "metadata": {},
   "outputs": [],
   "source": []
  },
  {
   "cell_type": "code",
   "execution_count": 4,
   "metadata": {
    "scrolled": true
   },
   "outputs": [
    {
     "data": {
      "text/html": [
       "<div>\n",
       "<style scoped>\n",
       "    .dataframe tbody tr th:only-of-type {\n",
       "        vertical-align: middle;\n",
       "    }\n",
       "\n",
       "    .dataframe tbody tr th {\n",
       "        vertical-align: top;\n",
       "    }\n",
       "\n",
       "    .dataframe thead th {\n",
       "        text-align: right;\n",
       "    }\n",
       "</style>\n",
       "<table border=\"1\" class=\"dataframe\">\n",
       "  <thead>\n",
       "    <tr style=\"text-align: right;\">\n",
       "      <th></th>\n",
       "      <th>messages_included</th>\n",
       "      <th>mb_per_month_included</th>\n",
       "      <th>minutes_included</th>\n",
       "      <th>rub_monthly_fee</th>\n",
       "      <th>rub_per_gb</th>\n",
       "      <th>rub_per_message</th>\n",
       "      <th>rub_per_minute</th>\n",
       "      <th>tariff</th>\n",
       "      <th>gb_per_month_included</th>\n",
       "    </tr>\n",
       "  </thead>\n",
       "  <tbody>\n",
       "    <tr>\n",
       "      <th>0</th>\n",
       "      <td>50</td>\n",
       "      <td>15360</td>\n",
       "      <td>500</td>\n",
       "      <td>550</td>\n",
       "      <td>200</td>\n",
       "      <td>3</td>\n",
       "      <td>3</td>\n",
       "      <td>smart</td>\n",
       "      <td>15.0</td>\n",
       "    </tr>\n",
       "    <tr>\n",
       "      <th>1</th>\n",
       "      <td>1000</td>\n",
       "      <td>30720</td>\n",
       "      <td>3000</td>\n",
       "      <td>1950</td>\n",
       "      <td>150</td>\n",
       "      <td>1</td>\n",
       "      <td>1</td>\n",
       "      <td>ultra</td>\n",
       "      <td>30.0</td>\n",
       "    </tr>\n",
       "  </tbody>\n",
       "</table>\n",
       "</div>"
      ],
      "text/plain": [
       "   messages_included  mb_per_month_included  minutes_included  \\\n",
       "0                 50                  15360               500   \n",
       "1               1000                  30720              3000   \n",
       "\n",
       "   rub_monthly_fee  rub_per_gb  rub_per_message  rub_per_minute tariff  \\\n",
       "0              550         200                3               3  smart   \n",
       "1             1950         150                1               1  ultra   \n",
       "\n",
       "   gb_per_month_included  \n",
       "0                   15.0  \n",
       "1                   30.0  "
      ]
     },
     "execution_count": 4,
     "metadata": {},
     "output_type": "execute_result"
    }
   ],
   "source": [
    "tariffs = tariffs.rename(columns={'tariff_name': 'tariff'})\n",
    "tariffs['gb_per_month_included'] = tariffs['mb_per_month_included'] / 1024\n",
    "tariffs"
   ]
  },
  {
   "cell_type": "markdown",
   "metadata": {},
   "source": [
    "<div class=\"alert alert-block alert-info\"> Датасет tariffs в порядке.</div>"
   ]
  },
  {
   "cell_type": "code",
   "execution_count": 5,
   "metadata": {
    "scrolled": true
   },
   "outputs": [
    {
     "name": "stdout",
     "output_type": "stream",
     "text": [
      "<class 'pandas.core.frame.DataFrame'>\n",
      "RangeIndex: 500 entries, 0 to 499\n",
      "Data columns (total 8 columns):\n",
      " #   Column      Non-Null Count  Dtype         \n",
      "---  ------      --------------  -----         \n",
      " 0   user_id     500 non-null    int64         \n",
      " 1   age         500 non-null    int64         \n",
      " 2   churn_date  38 non-null     datetime64[ns]\n",
      " 3   city        500 non-null    object        \n",
      " 4   first_name  500 non-null    object        \n",
      " 5   last_name   500 non-null    object        \n",
      " 6   reg_date    500 non-null    datetime64[ns]\n",
      " 7   tariff      500 non-null    object        \n",
      "dtypes: datetime64[ns](2), int64(2), object(4)\n",
      "memory usage: 31.4+ KB\n"
     ]
    }
   ],
   "source": [
    "users.info()"
   ]
  },
  {
   "cell_type": "code",
   "execution_count": 6,
   "metadata": {},
   "outputs": [
    {
     "data": {
      "text/plain": [
       "smart    351\n",
       "ultra    149\n",
       "Name: tariff, dtype: int64"
      ]
     },
     "execution_count": 6,
     "metadata": {},
     "output_type": "execute_result"
    }
   ],
   "source": [
    "users['tariff'].value_counts()"
   ]
  },
  {
   "cell_type": "markdown",
   "metadata": {},
   "source": [
    "<div class=\"alert alert-block alert-info\"> Датасет users в порядке.</div>"
   ]
  },
  {
   "cell_type": "code",
   "execution_count": 7,
   "metadata": {
    "scrolled": true
   },
   "outputs": [
    {
     "name": "stdout",
     "output_type": "stream",
     "text": [
      "<class 'pandas.core.frame.DataFrame'>\n",
      "RangeIndex: 202607 entries, 0 to 202606\n",
      "Data columns (total 4 columns):\n",
      " #   Column     Non-Null Count   Dtype         \n",
      "---  ------     --------------   -----         \n",
      " 0   id         202607 non-null  object        \n",
      " 1   call_date  202607 non-null  datetime64[ns]\n",
      " 2   duration   202607 non-null  int64         \n",
      " 3   user_id    202607 non-null  int64         \n",
      "dtypes: datetime64[ns](1), int64(2), object(1)\n",
      "memory usage: 6.2+ MB\n"
     ]
    }
   ],
   "source": [
    "calls['duration'] = np.ceil(calls['duration']).astype(int)\n",
    "calls.info()"
   ]
  },
  {
   "cell_type": "markdown",
   "metadata": {},
   "source": [
    "<div class=\"alert alert-block alert-info\"> Датасет calls в порядке.</div>"
   ]
  },
  {
   "cell_type": "code",
   "execution_count": 8,
   "metadata": {
    "scrolled": false
   },
   "outputs": [
    {
     "name": "stdout",
     "output_type": "stream",
     "text": [
      "<class 'pandas.core.frame.DataFrame'>\n",
      "RangeIndex: 123036 entries, 0 to 123035\n",
      "Data columns (total 3 columns):\n",
      " #   Column        Non-Null Count   Dtype         \n",
      "---  ------        --------------   -----         \n",
      " 0   id            123036 non-null  object        \n",
      " 1   message_date  123036 non-null  datetime64[ns]\n",
      " 2   user_id       123036 non-null  int64         \n",
      "dtypes: datetime64[ns](1), int64(1), object(1)\n",
      "memory usage: 2.8+ MB\n"
     ]
    }
   ],
   "source": [
    "messages.info()"
   ]
  },
  {
   "cell_type": "code",
   "execution_count": 9,
   "metadata": {},
   "outputs": [
    {
     "data": {
      "text/html": [
       "<div>\n",
       "<style scoped>\n",
       "    .dataframe tbody tr th:only-of-type {\n",
       "        vertical-align: middle;\n",
       "    }\n",
       "\n",
       "    .dataframe tbody tr th {\n",
       "        vertical-align: top;\n",
       "    }\n",
       "\n",
       "    .dataframe thead th {\n",
       "        text-align: right;\n",
       "    }\n",
       "</style>\n",
       "<table border=\"1\" class=\"dataframe\">\n",
       "  <thead>\n",
       "    <tr style=\"text-align: right;\">\n",
       "      <th></th>\n",
       "      <th>id</th>\n",
       "      <th>message_date</th>\n",
       "      <th>user_id</th>\n",
       "    </tr>\n",
       "  </thead>\n",
       "  <tbody>\n",
       "    <tr>\n",
       "      <th>0</th>\n",
       "      <td>1000_0</td>\n",
       "      <td>2018-06-27</td>\n",
       "      <td>1000</td>\n",
       "    </tr>\n",
       "    <tr>\n",
       "      <th>1</th>\n",
       "      <td>1000_1</td>\n",
       "      <td>2018-10-08</td>\n",
       "      <td>1000</td>\n",
       "    </tr>\n",
       "    <tr>\n",
       "      <th>2</th>\n",
       "      <td>1000_2</td>\n",
       "      <td>2018-08-04</td>\n",
       "      <td>1000</td>\n",
       "    </tr>\n",
       "    <tr>\n",
       "      <th>3</th>\n",
       "      <td>1000_3</td>\n",
       "      <td>2018-06-16</td>\n",
       "      <td>1000</td>\n",
       "    </tr>\n",
       "    <tr>\n",
       "      <th>4</th>\n",
       "      <td>1000_4</td>\n",
       "      <td>2018-12-05</td>\n",
       "      <td>1000</td>\n",
       "    </tr>\n",
       "    <tr>\n",
       "      <th>...</th>\n",
       "      <td>...</td>\n",
       "      <td>...</td>\n",
       "      <td>...</td>\n",
       "    </tr>\n",
       "    <tr>\n",
       "      <th>123031</th>\n",
       "      <td>1499_179</td>\n",
       "      <td>2018-12-12</td>\n",
       "      <td>1499</td>\n",
       "    </tr>\n",
       "    <tr>\n",
       "      <th>123032</th>\n",
       "      <td>1499_180</td>\n",
       "      <td>2018-09-28</td>\n",
       "      <td>1499</td>\n",
       "    </tr>\n",
       "    <tr>\n",
       "      <th>123033</th>\n",
       "      <td>1499_181</td>\n",
       "      <td>2018-09-27</td>\n",
       "      <td>1499</td>\n",
       "    </tr>\n",
       "    <tr>\n",
       "      <th>123034</th>\n",
       "      <td>1499_182</td>\n",
       "      <td>2018-11-15</td>\n",
       "      <td>1499</td>\n",
       "    </tr>\n",
       "    <tr>\n",
       "      <th>123035</th>\n",
       "      <td>1499_183</td>\n",
       "      <td>2018-11-16</td>\n",
       "      <td>1499</td>\n",
       "    </tr>\n",
       "  </tbody>\n",
       "</table>\n",
       "<p>123036 rows × 3 columns</p>\n",
       "</div>"
      ],
      "text/plain": [
       "              id message_date  user_id\n",
       "0         1000_0   2018-06-27     1000\n",
       "1         1000_1   2018-10-08     1000\n",
       "2         1000_2   2018-08-04     1000\n",
       "3         1000_3   2018-06-16     1000\n",
       "4         1000_4   2018-12-05     1000\n",
       "...          ...          ...      ...\n",
       "123031  1499_179   2018-12-12     1499\n",
       "123032  1499_180   2018-09-28     1499\n",
       "123033  1499_181   2018-09-27     1499\n",
       "123034  1499_182   2018-11-15     1499\n",
       "123035  1499_183   2018-11-16     1499\n",
       "\n",
       "[123036 rows x 3 columns]"
      ]
     },
     "execution_count": 9,
     "metadata": {},
     "output_type": "execute_result"
    }
   ],
   "source": [
    "messages"
   ]
  },
  {
   "cell_type": "markdown",
   "metadata": {},
   "source": [
    "<div class=\"alert alert-block alert-info\"> Датасет messages в порядке.</div>"
   ]
  },
  {
   "cell_type": "code",
   "execution_count": 10,
   "metadata": {},
   "outputs": [
    {
     "name": "stdout",
     "output_type": "stream",
     "text": [
      "<class 'pandas.core.frame.DataFrame'>\n",
      "Int64Index: 149396 entries, 0 to 149395\n",
      "Data columns (total 4 columns):\n",
      " #   Column        Non-Null Count   Dtype         \n",
      "---  ------        --------------   -----         \n",
      " 0   id            149396 non-null  object        \n",
      " 1   mb_used       149396 non-null  float64       \n",
      " 2   session_date  149396 non-null  datetime64[ns]\n",
      " 3   user_id       149396 non-null  int64         \n",
      "dtypes: datetime64[ns](1), float64(1), int64(1), object(1)\n",
      "memory usage: 5.7+ MB\n"
     ]
    }
   ],
   "source": [
    "internet.info()"
   ]
  },
  {
   "cell_type": "code",
   "execution_count": 11,
   "metadata": {},
   "outputs": [
    {
     "data": {
      "text/html": [
       "<div>\n",
       "<style scoped>\n",
       "    .dataframe tbody tr th:only-of-type {\n",
       "        vertical-align: middle;\n",
       "    }\n",
       "\n",
       "    .dataframe tbody tr th {\n",
       "        vertical-align: top;\n",
       "    }\n",
       "\n",
       "    .dataframe thead th {\n",
       "        text-align: right;\n",
       "    }\n",
       "</style>\n",
       "<table border=\"1\" class=\"dataframe\">\n",
       "  <thead>\n",
       "    <tr style=\"text-align: right;\">\n",
       "      <th></th>\n",
       "      <th>id</th>\n",
       "      <th>mb_used</th>\n",
       "      <th>session_date</th>\n",
       "      <th>user_id</th>\n",
       "    </tr>\n",
       "  </thead>\n",
       "  <tbody>\n",
       "    <tr>\n",
       "      <th>0</th>\n",
       "      <td>1000_0</td>\n",
       "      <td>112.95</td>\n",
       "      <td>2018-11-25</td>\n",
       "      <td>1000</td>\n",
       "    </tr>\n",
       "    <tr>\n",
       "      <th>1</th>\n",
       "      <td>1000_1</td>\n",
       "      <td>1052.81</td>\n",
       "      <td>2018-09-07</td>\n",
       "      <td>1000</td>\n",
       "    </tr>\n",
       "    <tr>\n",
       "      <th>2</th>\n",
       "      <td>1000_2</td>\n",
       "      <td>1197.26</td>\n",
       "      <td>2018-06-25</td>\n",
       "      <td>1000</td>\n",
       "    </tr>\n",
       "    <tr>\n",
       "      <th>3</th>\n",
       "      <td>1000_3</td>\n",
       "      <td>550.27</td>\n",
       "      <td>2018-08-22</td>\n",
       "      <td>1000</td>\n",
       "    </tr>\n",
       "    <tr>\n",
       "      <th>4</th>\n",
       "      <td>1000_4</td>\n",
       "      <td>302.56</td>\n",
       "      <td>2018-09-24</td>\n",
       "      <td>1000</td>\n",
       "    </tr>\n",
       "    <tr>\n",
       "      <th>...</th>\n",
       "      <td>...</td>\n",
       "      <td>...</td>\n",
       "      <td>...</td>\n",
       "      <td>...</td>\n",
       "    </tr>\n",
       "    <tr>\n",
       "      <th>149391</th>\n",
       "      <td>1499_152</td>\n",
       "      <td>318.90</td>\n",
       "      <td>2018-10-03</td>\n",
       "      <td>1499</td>\n",
       "    </tr>\n",
       "    <tr>\n",
       "      <th>149392</th>\n",
       "      <td>1499_153</td>\n",
       "      <td>490.13</td>\n",
       "      <td>2018-12-14</td>\n",
       "      <td>1499</td>\n",
       "    </tr>\n",
       "    <tr>\n",
       "      <th>149393</th>\n",
       "      <td>1499_154</td>\n",
       "      <td>0.00</td>\n",
       "      <td>2018-10-27</td>\n",
       "      <td>1499</td>\n",
       "    </tr>\n",
       "    <tr>\n",
       "      <th>149394</th>\n",
       "      <td>1499_155</td>\n",
       "      <td>1246.32</td>\n",
       "      <td>2018-11-26</td>\n",
       "      <td>1499</td>\n",
       "    </tr>\n",
       "    <tr>\n",
       "      <th>149395</th>\n",
       "      <td>1499_156</td>\n",
       "      <td>544.37</td>\n",
       "      <td>2018-10-26</td>\n",
       "      <td>1499</td>\n",
       "    </tr>\n",
       "  </tbody>\n",
       "</table>\n",
       "<p>149396 rows × 4 columns</p>\n",
       "</div>"
      ],
      "text/plain": [
       "              id  mb_used session_date  user_id\n",
       "0         1000_0   112.95   2018-11-25     1000\n",
       "1         1000_1  1052.81   2018-09-07     1000\n",
       "2         1000_2  1197.26   2018-06-25     1000\n",
       "3         1000_3   550.27   2018-08-22     1000\n",
       "4         1000_4   302.56   2018-09-24     1000\n",
       "...          ...      ...          ...      ...\n",
       "149391  1499_152   318.90   2018-10-03     1499\n",
       "149392  1499_153   490.13   2018-12-14     1499\n",
       "149393  1499_154     0.00   2018-10-27     1499\n",
       "149394  1499_155  1246.32   2018-11-26     1499\n",
       "149395  1499_156   544.37   2018-10-26     1499\n",
       "\n",
       "[149396 rows x 4 columns]"
      ]
     },
     "execution_count": 11,
     "metadata": {},
     "output_type": "execute_result"
    }
   ],
   "source": [
    "internet"
   ]
  },
  {
   "cell_type": "markdown",
   "metadata": {},
   "source": [
    "<div class=\"alert alert-block alert-info\"> Закончили предобработку, удалили один столбец в датасете internet, поменяли типы данных, округлили по правилам оператора.</div>"
   ]
  },
  {
   "cell_type": "code",
   "execution_count": 12,
   "metadata": {},
   "outputs": [],
   "source": [
    "internet['month'] = pd.DatetimeIndex(internet['session_date']).month\n",
    "calls['month'] = pd.DatetimeIndex(calls['call_date']).month\n",
    "messages['month'] = pd.DatetimeIndex(messages['message_date']).month"
   ]
  },
  {
   "cell_type": "code",
   "execution_count": 13,
   "metadata": {
    "scrolled": true
   },
   "outputs": [
    {
     "data": {
      "text/plain": [
       "500"
      ]
     },
     "metadata": {},
     "output_type": "display_data"
    },
    {
     "data": {
      "text/plain": [
       "497"
      ]
     },
     "metadata": {},
     "output_type": "display_data"
    },
    {
     "data": {
      "text/plain": [
       "492"
      ]
     },
     "metadata": {},
     "output_type": "display_data"
    },
    {
     "data": {
      "text/plain": [
       "426"
      ]
     },
     "metadata": {},
     "output_type": "display_data"
    }
   ],
   "source": [
    "display(users['user_id'].nunique(),\n",
    "        internet['user_id'].nunique(),\n",
    "        calls['user_id'].nunique(),\n",
    "        messages['user_id'].nunique())"
   ]
  },
  {
   "cell_type": "code",
   "execution_count": 14,
   "metadata": {
    "scrolled": true
   },
   "outputs": [
    {
     "data": {
      "text/plain": [
       "497"
      ]
     },
     "metadata": {},
     "output_type": "display_data"
    },
    {
     "data": {
      "text/plain": [
       "492"
      ]
     },
     "metadata": {},
     "output_type": "display_data"
    },
    {
     "data": {
      "text/plain": [
       "426"
      ]
     },
     "metadata": {},
     "output_type": "display_data"
    }
   ],
   "source": [
    "display(users['user_id'].isin(internet['user_id']).sum(),\n",
    "        users['user_id'].isin(calls['user_id']).sum(),\n",
    "        users['user_id'].isin(messages['user_id']).sum())"
   ]
  },
  {
   "cell_type": "markdown",
   "metadata": {},
   "source": [
    "<div class=\"alert alert-block alert-info\"> Все юзер айди в датасетах присутствуют в users['user_id']</div>"
   ]
  },
  {
   "cell_type": "code",
   "execution_count": 15,
   "metadata": {},
   "outputs": [
    {
     "data": {
      "text/plain": [
       "<AxesSubplot:>"
      ]
     },
     "execution_count": 15,
     "metadata": {},
     "output_type": "execute_result"
    },
    {
     "data": {
      "image/png": "[encoded data removed]",
      "text/plain": [
       "<Figure size 432x288 with 1 Axes>"
      ]
     },
     "metadata": {
      "needs_background": "light"
     },
     "output_type": "display_data"
    }
   ],
   "source": [
    "internet['mb_used'].hist(bins=100)"
   ]
  },
  {
   "cell_type": "code",
   "execution_count": 16,
   "metadata": {},
   "outputs": [
    {
     "data": {
      "text/plain": [
       "13.118155773916303"
      ]
     },
     "execution_count": 16,
     "metadata": {},
     "output_type": "execute_result"
    }
   ],
   "source": [
    "internet[internet['mb_used'] == 0]['mb_used'].count() * 100/ len(internet['mb_used'])"
   ]
  },
  {
   "cell_type": "code",
   "execution_count": 17,
   "metadata": {
    "scrolled": true
   },
   "outputs": [
    {
     "data": {
      "text/plain": [
       "0"
      ]
     },
     "execution_count": 17,
     "metadata": {},
     "output_type": "execute_result"
    }
   ],
   "source": [
    "internet['mb_used'].isna().sum()"
   ]
  },
  {
   "cell_type": "markdown",
   "metadata": {},
   "source": [
    "<div class=\"alert alert-block alert-info\"> Есть большое количество сессий с нулевым трафиком - 13 процентов. Похоже это оборванные сессии - люди пытались выйти в сеть но у них не получилось.</div>"
   ]
  },
  {
   "cell_type": "code",
   "execution_count": 18,
   "metadata": {},
   "outputs": [],
   "source": [
    "internet_users = internet.merge(users, on='user_id', how='outer')"
   ]
  },
  {
   "cell_type": "code",
   "execution_count": 19,
   "metadata": {},
   "outputs": [
    {
     "data": {
      "text/plain": [
       "Москва             3541\n",
       "Санкт-Петербург    1810\n",
       "Новосибирск         613\n",
       "Уфа                 606\n",
       "Ульяновск           596\n",
       "                   ... \n",
       "Курган               30\n",
       "Кемерово             12\n",
       "Нижневартовск         9\n",
       "Сургут                8\n",
       "Иваново               6\n",
       "Name: city, Length: 76, dtype: int64"
      ]
     },
     "execution_count": 19,
     "metadata": {},
     "output_type": "execute_result"
    }
   ],
   "source": [
    "internet_users[internet_users['mb_used'] == 0]['city'].value_counts()"
   ]
  },
  {
   "cell_type": "markdown",
   "metadata": {},
   "source": [
    "<div class=\"alert alert-block alert-info\"> Большинство оборванных сессий произошло в Москве и Петербурге, в двух самых густонаселенных городах России(http://www.statdata.ru/largest_cities_russia). Нужно посмотреть на оборванные сессии в процентном соотношении.</div>\n"
   ]
  },
  {
   "cell_type": "code",
   "execution_count": 20,
   "metadata": {},
   "outputs": [
    {
     "data": {
      "text/plain": [
       "Химки            0.197917\n",
       "Архангельск      0.181675\n",
       "Петрозаводск     0.175730\n",
       "Владикавказ      0.173028\n",
       "Якутск           0.168495\n",
       "                   ...   \n",
       "Тольятти         0.073600\n",
       "Кемерово         0.067039\n",
       "Нижневартовск    0.062937\n",
       "Брянск           0.059761\n",
       "Сургут           0.040201\n",
       "Name: city, Length: 76, dtype: float64"
      ]
     },
     "execution_count": 20,
     "metadata": {},
     "output_type": "execute_result"
    }
   ],
   "source": [
    "(internet_users[internet_users['mb_used'] == 0]['city'].value_counts() / internet_users['city'].value_counts()).sort_values(ascending=False)"
   ]
  },
  {
   "cell_type": "markdown",
   "metadata": {},
   "source": [
    "<div class=\"alert alert-block alert-info\"> В таблице не прослеживается корреляции оборванных сессий и местонахождения города, Химки - пригород Москвы, Архангельск - крайний север, Владикавказ - Кавказ.</div>"
   ]
  },
  {
   "cell_type": "code",
   "execution_count": 21,
   "metadata": {},
   "outputs": [
    {
     "data": {
      "text/plain": [
       "12.0    0.133917\n",
       "11.0    0.133245\n",
       "10.0    0.132041\n",
       "9.0     0.132138\n",
       "8.0     0.129443\n",
       "7.0     0.129908\n",
       "6.0     0.126707\n",
       "5.0     0.127445\n",
       "4.0     0.125787\n",
       "3.0     0.127533\n",
       "2.0     0.143128\n",
       "1.0     0.135184\n",
       "Name: month, dtype: float64"
      ]
     },
     "execution_count": 21,
     "metadata": {},
     "output_type": "execute_result"
    }
   ],
   "source": [
    "internet_users[internet_users['mb_used'] == 0]['month'].value_counts() / internet_users['month'].value_counts()"
   ]
  },
  {
   "cell_type": "markdown",
   "metadata": {},
   "source": [
    "<div class=\"alert alert-block alert-info\"> Количество оборванных сессий не меняется относительно месяца. Возможно дело в том, что оператор быстро растет и не может обеспечить должное качество связи.</div>"
   ]
  },
  {
   "cell_type": "code",
   "execution_count": 1,
   "metadata": {},
   "outputs": [
    {
     "ename": "NameError",
     "evalue": "name 'internet_users' is not defined",
     "output_type": "error",
     "traceback": [
      "\u001b[0;31m---------------------------------------------------------------------------\u001b[0m",
      "\u001b[0;31mNameError\u001b[0m                                 Traceback (most recent call last)",
      "\u001b[0;32m/tmp/ipykernel_63/1665733679.py\u001b[0m in \u001b[0;36m<module>\u001b[0;34m\u001b[0m\n\u001b[0;32m----> 1\u001b[0;31m \u001b[0minternet_users\u001b[0m\u001b[0;34m.\u001b[0m\u001b[0mgroupby\u001b[0m\u001b[0;34m(\u001b[0m\u001b[0;34m'month'\u001b[0m\u001b[0;34m)\u001b[0m\u001b[0;34m[\u001b[0m\u001b[0;34m'id'\u001b[0m\u001b[0;34m]\u001b[0m\u001b[0;34m.\u001b[0m\u001b[0mcount\u001b[0m\u001b[0;34m(\u001b[0m\u001b[0;34m)\u001b[0m\u001b[0;34m\u001b[0m\u001b[0;34m\u001b[0m\u001b[0m\n\u001b[0m\u001b[1;32m      2\u001b[0m \u001b[0;31m#internet_users.groupby('month')['id'].count() / internet_users.groupby('month' - 1)['id'].count()\u001b[0m\u001b[0;34m\u001b[0m\u001b[0;34m\u001b[0m\u001b[0;34m\u001b[0m\u001b[0m\n",
      "\u001b[0;31mNameError\u001b[0m: name 'internet_users' is not defined"
     ]
    }
   ],
   "source": [
    "internet_users.groupby('month')['id'].count()\n",
    "#internet_users.groupby('month')['id'].count() / internet_users.groupby('month' - 1)['id'].count()"
   ]
  },
  {
   "cell_type": "markdown",
   "metadata": {},
   "source": [
    "<div class=\"alert alert-block alert-info\"> Действительно, оператор прибавляет по несколько тысяч сессий в месяц, и за год количество сессий возрасло в 24 раза.</div>"
   ]
  },
  {
   "cell_type": "code",
   "execution_count": 23,
   "metadata": {},
   "outputs": [
    {
     "data": {
      "text/html": [
       "<div>\n",
       "<style scoped>\n",
       "    .dataframe tbody tr th:only-of-type {\n",
       "        vertical-align: middle;\n",
       "    }\n",
       "\n",
       "    .dataframe tbody tr th {\n",
       "        vertical-align: top;\n",
       "    }\n",
       "\n",
       "    .dataframe thead th {\n",
       "        text-align: right;\n",
       "    }\n",
       "</style>\n",
       "<table border=\"1\" class=\"dataframe\">\n",
       "  <thead>\n",
       "    <tr style=\"text-align: right;\">\n",
       "      <th></th>\n",
       "      <th>month</th>\n",
       "      <th>count_client</th>\n",
       "    </tr>\n",
       "  </thead>\n",
       "  <tbody>\n",
       "    <tr>\n",
       "      <th>0</th>\n",
       "      <td>1.0</td>\n",
       "      <td>43</td>\n",
       "    </tr>\n",
       "    <tr>\n",
       "      <th>1</th>\n",
       "      <td>2.0</td>\n",
       "      <td>80</td>\n",
       "    </tr>\n",
       "    <tr>\n",
       "      <th>2</th>\n",
       "      <td>3.0</td>\n",
       "      <td>114</td>\n",
       "    </tr>\n",
       "    <tr>\n",
       "      <th>3</th>\n",
       "      <td>4.0</td>\n",
       "      <td>167</td>\n",
       "    </tr>\n",
       "    <tr>\n",
       "      <th>4</th>\n",
       "      <td>5.0</td>\n",
       "      <td>207</td>\n",
       "    </tr>\n",
       "    <tr>\n",
       "      <th>5</th>\n",
       "      <td>6.0</td>\n",
       "      <td>247</td>\n",
       "    </tr>\n",
       "    <tr>\n",
       "      <th>6</th>\n",
       "      <td>7.0</td>\n",
       "      <td>291</td>\n",
       "    </tr>\n",
       "    <tr>\n",
       "      <th>7</th>\n",
       "      <td>8.0</td>\n",
       "      <td>340</td>\n",
       "    </tr>\n",
       "    <tr>\n",
       "      <th>8</th>\n",
       "      <td>9.0</td>\n",
       "      <td>374</td>\n",
       "    </tr>\n",
       "    <tr>\n",
       "      <th>9</th>\n",
       "      <td>10.0</td>\n",
       "      <td>416</td>\n",
       "    </tr>\n",
       "    <tr>\n",
       "      <th>10</th>\n",
       "      <td>11.0</td>\n",
       "      <td>449</td>\n",
       "    </tr>\n",
       "    <tr>\n",
       "      <th>11</th>\n",
       "      <td>12.0</td>\n",
       "      <td>475</td>\n",
       "    </tr>\n",
       "  </tbody>\n",
       "</table>\n",
       "</div>"
      ],
      "text/plain": [
       "    month  count_client\n",
       "0     1.0            43\n",
       "1     2.0            80\n",
       "2     3.0           114\n",
       "3     4.0           167\n",
       "4     5.0           207\n",
       "5     6.0           247\n",
       "6     7.0           291\n",
       "7     8.0           340\n",
       "8     9.0           374\n",
       "9    10.0           416\n",
       "10   11.0           449\n",
       "11   12.0           475"
      ]
     },
     "execution_count": 23,
     "metadata": {},
     "output_type": "execute_result"
    }
   ],
   "source": [
    "# check\n",
    "(\n",
    "    internet_users\n",
    "         .groupby('month')['user_id'].value_counts()\n",
    "         .to_frame()\n",
    "         .rename(columns={'user_id':'count'})\n",
    "         .reset_index()\n",
    "         .groupby('month')['user_id'].count()\n",
    "         .to_frame()\n",
    "         .rename(columns={'user_id':'count_client'})\n",
    "         .reset_index()\n",
    ")"
   ]
  },
  {
   "cell_type": "markdown",
   "metadata": {},
   "source": [
    "<div class=\"alert alert-block alert-info\"> Окей, дело не в количестве пользователей, в последний месяц оператор получил всего 26 новых клиентов, при этом количество оборванных сессий составило 13,5%. Варианты решения проблемы: исследовать данные дальше, посоветоваться с руководством(может эти обрывы вообще не критичны, например алгоритм пытается подключиться к интернету сразу после оборванной сессии и подключается), провести исследование - насколько эти обрывы портят жизнь пользователям, и тд.</div>"
   ]
  },
  {
   "cell_type": "markdown",
   "metadata": {},
   "source": [
    "### Создание сводной таблицы расходов пользователя"
   ]
  },
  {
   "cell_type": "markdown",
   "metadata": {},
   "source": [
    "Создадим сводную таблицу расходов пользователя учитывающую интернет, звонки и сообщения."
   ]
  },
  {
   "cell_type": "code",
   "execution_count": 25,
   "metadata": {
    "scrolled": false
   },
   "outputs": [
    {
     "data": {
      "text/html": [
       "<div>\n",
       "<style scoped>\n",
       "    .dataframe tbody tr th:only-of-type {\n",
       "        vertical-align: middle;\n",
       "    }\n",
       "\n",
       "    .dataframe tbody tr th {\n",
       "        vertical-align: top;\n",
       "    }\n",
       "\n",
       "    .dataframe thead th {\n",
       "        text-align: right;\n",
       "    }\n",
       "</style>\n",
       "<table border=\"1\" class=\"dataframe\">\n",
       "  <thead>\n",
       "    <tr style=\"text-align: right;\">\n",
       "      <th></th>\n",
       "      <th></th>\n",
       "      <th>mb_used</th>\n",
       "    </tr>\n",
       "    <tr>\n",
       "      <th>user_id</th>\n",
       "      <th>month</th>\n",
       "      <th></th>\n",
       "    </tr>\n",
       "  </thead>\n",
       "  <tbody>\n",
       "    <tr>\n",
       "      <th rowspan=\"5\" valign=\"top\">1000</th>\n",
       "      <th>5</th>\n",
       "      <td>2253.49</td>\n",
       "    </tr>\n",
       "    <tr>\n",
       "      <th>6</th>\n",
       "      <td>23233.77</td>\n",
       "    </tr>\n",
       "    <tr>\n",
       "      <th>7</th>\n",
       "      <td>14003.64</td>\n",
       "    </tr>\n",
       "    <tr>\n",
       "      <th>8</th>\n",
       "      <td>14055.93</td>\n",
       "    </tr>\n",
       "    <tr>\n",
       "      <th>9</th>\n",
       "      <td>14568.91</td>\n",
       "    </tr>\n",
       "    <tr>\n",
       "      <th>...</th>\n",
       "      <th>...</th>\n",
       "      <td>...</td>\n",
       "    </tr>\n",
       "    <tr>\n",
       "      <th>1498</th>\n",
       "      <th>10</th>\n",
       "      <td>20579.36</td>\n",
       "    </tr>\n",
       "    <tr>\n",
       "      <th rowspan=\"4\" valign=\"top\">1499</th>\n",
       "      <th>9</th>\n",
       "      <td>1845.75</td>\n",
       "    </tr>\n",
       "    <tr>\n",
       "      <th>10</th>\n",
       "      <td>17788.51</td>\n",
       "    </tr>\n",
       "    <tr>\n",
       "      <th>11</th>\n",
       "      <td>17963.31</td>\n",
       "    </tr>\n",
       "    <tr>\n",
       "      <th>12</th>\n",
       "      <td>13055.58</td>\n",
       "    </tr>\n",
       "  </tbody>\n",
       "</table>\n",
       "<p>3203 rows × 1 columns</p>\n",
       "</div>"
      ],
      "text/plain": [
       "                mb_used\n",
       "user_id month          \n",
       "1000    5       2253.49\n",
       "        6      23233.77\n",
       "        7      14003.64\n",
       "        8      14055.93\n",
       "        9      14568.91\n",
       "...                 ...\n",
       "1498    10     20579.36\n",
       "1499    9       1845.75\n",
       "        10     17788.51\n",
       "        11     17963.31\n",
       "        12     13055.58\n",
       "\n",
       "[3203 rows x 1 columns]"
      ]
     },
     "execution_count": 25,
     "metadata": {},
     "output_type": "execute_result"
    }
   ],
   "source": [
    "df_internet = pd.pivot_table(internet, index=['user_id', 'month'], values='mb_used', aggfunc='sum')\n",
    "df_internet"
   ]
  },
  {
   "cell_type": "code",
   "execution_count": 26,
   "metadata": {},
   "outputs": [
    {
     "data": {
      "text/html": [
       "<div>\n",
       "<style scoped>\n",
       "    .dataframe tbody tr th:only-of-type {\n",
       "        vertical-align: middle;\n",
       "    }\n",
       "\n",
       "    .dataframe tbody tr th {\n",
       "        vertical-align: top;\n",
       "    }\n",
       "\n",
       "    .dataframe thead th {\n",
       "        text-align: right;\n",
       "    }\n",
       "</style>\n",
       "<table border=\"1\" class=\"dataframe\">\n",
       "  <thead>\n",
       "    <tr style=\"text-align: right;\">\n",
       "      <th></th>\n",
       "      <th>id</th>\n",
       "      <th>call_date</th>\n",
       "      <th>duration</th>\n",
       "      <th>user_id</th>\n",
       "      <th>month</th>\n",
       "    </tr>\n",
       "  </thead>\n",
       "  <tbody>\n",
       "    <tr>\n",
       "      <th>0</th>\n",
       "      <td>1000_0</td>\n",
       "      <td>2018-07-25</td>\n",
       "      <td>0</td>\n",
       "      <td>1000</td>\n",
       "      <td>7</td>\n",
       "    </tr>\n",
       "    <tr>\n",
       "      <th>1</th>\n",
       "      <td>1000_1</td>\n",
       "      <td>2018-08-17</td>\n",
       "      <td>0</td>\n",
       "      <td>1000</td>\n",
       "      <td>8</td>\n",
       "    </tr>\n",
       "    <tr>\n",
       "      <th>2</th>\n",
       "      <td>1000_2</td>\n",
       "      <td>2018-06-11</td>\n",
       "      <td>3</td>\n",
       "      <td>1000</td>\n",
       "      <td>6</td>\n",
       "    </tr>\n",
       "    <tr>\n",
       "      <th>3</th>\n",
       "      <td>1000_3</td>\n",
       "      <td>2018-09-21</td>\n",
       "      <td>14</td>\n",
       "      <td>1000</td>\n",
       "      <td>9</td>\n",
       "    </tr>\n",
       "    <tr>\n",
       "      <th>4</th>\n",
       "      <td>1000_4</td>\n",
       "      <td>2018-12-15</td>\n",
       "      <td>6</td>\n",
       "      <td>1000</td>\n",
       "      <td>12</td>\n",
       "    </tr>\n",
       "    <tr>\n",
       "      <th>...</th>\n",
       "      <td>...</td>\n",
       "      <td>...</td>\n",
       "      <td>...</td>\n",
       "      <td>...</td>\n",
       "      <td>...</td>\n",
       "    </tr>\n",
       "    <tr>\n",
       "      <th>202602</th>\n",
       "      <td>1499_215</td>\n",
       "      <td>2018-12-26</td>\n",
       "      <td>1</td>\n",
       "      <td>1499</td>\n",
       "      <td>12</td>\n",
       "    </tr>\n",
       "    <tr>\n",
       "      <th>202603</th>\n",
       "      <td>1499_216</td>\n",
       "      <td>2018-10-18</td>\n",
       "      <td>19</td>\n",
       "      <td>1499</td>\n",
       "      <td>10</td>\n",
       "    </tr>\n",
       "    <tr>\n",
       "      <th>202604</th>\n",
       "      <td>1499_217</td>\n",
       "      <td>2018-11-10</td>\n",
       "      <td>11</td>\n",
       "      <td>1499</td>\n",
       "      <td>11</td>\n",
       "    </tr>\n",
       "    <tr>\n",
       "      <th>202605</th>\n",
       "      <td>1499_218</td>\n",
       "      <td>2018-10-06</td>\n",
       "      <td>5</td>\n",
       "      <td>1499</td>\n",
       "      <td>10</td>\n",
       "    </tr>\n",
       "    <tr>\n",
       "      <th>202606</th>\n",
       "      <td>1499_219</td>\n",
       "      <td>2018-12-14</td>\n",
       "      <td>20</td>\n",
       "      <td>1499</td>\n",
       "      <td>12</td>\n",
       "    </tr>\n",
       "  </tbody>\n",
       "</table>\n",
       "<p>202607 rows × 5 columns</p>\n",
       "</div>"
      ],
      "text/plain": [
       "              id  call_date  duration  user_id  month\n",
       "0         1000_0 2018-07-25         0     1000      7\n",
       "1         1000_1 2018-08-17         0     1000      8\n",
       "2         1000_2 2018-06-11         3     1000      6\n",
       "3         1000_3 2018-09-21        14     1000      9\n",
       "4         1000_4 2018-12-15         6     1000     12\n",
       "...          ...        ...       ...      ...    ...\n",
       "202602  1499_215 2018-12-26         1     1499     12\n",
       "202603  1499_216 2018-10-18        19     1499     10\n",
       "202604  1499_217 2018-11-10        11     1499     11\n",
       "202605  1499_218 2018-10-06         5     1499     10\n",
       "202606  1499_219 2018-12-14        20     1499     12\n",
       "\n",
       "[202607 rows x 5 columns]"
      ]
     },
     "execution_count": 26,
     "metadata": {},
     "output_type": "execute_result"
    }
   ],
   "source": [
    "calls"
   ]
  },
  {
   "cell_type": "code",
   "execution_count": 27,
   "metadata": {
    "scrolled": true
   },
   "outputs": [
    {
     "data": {
      "text/html": [
       "<div>\n",
       "<style scoped>\n",
       "    .dataframe tbody tr th:only-of-type {\n",
       "        vertical-align: middle;\n",
       "    }\n",
       "\n",
       "    .dataframe tbody tr th {\n",
       "        vertical-align: top;\n",
       "    }\n",
       "\n",
       "    .dataframe thead th {\n",
       "        text-align: right;\n",
       "    }\n",
       "</style>\n",
       "<table border=\"1\" class=\"dataframe\">\n",
       "  <thead>\n",
       "    <tr style=\"text-align: right;\">\n",
       "      <th></th>\n",
       "      <th></th>\n",
       "      <th>duration</th>\n",
       "    </tr>\n",
       "    <tr>\n",
       "      <th>user_id</th>\n",
       "      <th>month</th>\n",
       "      <th></th>\n",
       "    </tr>\n",
       "  </thead>\n",
       "  <tbody>\n",
       "    <tr>\n",
       "      <th rowspan=\"5\" valign=\"top\">1000</th>\n",
       "      <th>5</th>\n",
       "      <td>159</td>\n",
       "    </tr>\n",
       "    <tr>\n",
       "      <th>6</th>\n",
       "      <td>172</td>\n",
       "    </tr>\n",
       "    <tr>\n",
       "      <th>7</th>\n",
       "      <td>340</td>\n",
       "    </tr>\n",
       "    <tr>\n",
       "      <th>8</th>\n",
       "      <td>408</td>\n",
       "    </tr>\n",
       "    <tr>\n",
       "      <th>9</th>\n",
       "      <td>466</td>\n",
       "    </tr>\n",
       "    <tr>\n",
       "      <th>...</th>\n",
       "      <th>...</th>\n",
       "      <td>...</td>\n",
       "    </tr>\n",
       "    <tr>\n",
       "      <th>1498</th>\n",
       "      <th>10</th>\n",
       "      <td>247</td>\n",
       "    </tr>\n",
       "    <tr>\n",
       "      <th rowspan=\"4\" valign=\"top\">1499</th>\n",
       "      <th>9</th>\n",
       "      <td>70</td>\n",
       "    </tr>\n",
       "    <tr>\n",
       "      <th>10</th>\n",
       "      <td>449</td>\n",
       "    </tr>\n",
       "    <tr>\n",
       "      <th>11</th>\n",
       "      <td>612</td>\n",
       "    </tr>\n",
       "    <tr>\n",
       "      <th>12</th>\n",
       "      <td>492</td>\n",
       "    </tr>\n",
       "  </tbody>\n",
       "</table>\n",
       "<p>3174 rows × 1 columns</p>\n",
       "</div>"
      ],
      "text/plain": [
       "               duration\n",
       "user_id month          \n",
       "1000    5           159\n",
       "        6           172\n",
       "        7           340\n",
       "        8           408\n",
       "        9           466\n",
       "...                 ...\n",
       "1498    10          247\n",
       "1499    9            70\n",
       "        10          449\n",
       "        11          612\n",
       "        12          492\n",
       "\n",
       "[3174 rows x 1 columns]"
      ]
     },
     "execution_count": 27,
     "metadata": {},
     "output_type": "execute_result"
    }
   ],
   "source": [
    "df_calls = pd.pivot_table(calls, index=['user_id', 'month'], values='duration', aggfunc='sum')\n",
    "df_calls"
   ]
  },
  {
   "cell_type": "code",
   "execution_count": 28,
   "metadata": {},
   "outputs": [],
   "source": [
    "messages['count'] = 1"
   ]
  },
  {
   "cell_type": "code",
   "execution_count": 29,
   "metadata": {},
   "outputs": [
    {
     "data": {
      "text/html": [
       "<div>\n",
       "<style scoped>\n",
       "    .dataframe tbody tr th:only-of-type {\n",
       "        vertical-align: middle;\n",
       "    }\n",
       "\n",
       "    .dataframe tbody tr th {\n",
       "        vertical-align: top;\n",
       "    }\n",
       "\n",
       "    .dataframe thead th {\n",
       "        text-align: right;\n",
       "    }\n",
       "</style>\n",
       "<table border=\"1\" class=\"dataframe\">\n",
       "  <thead>\n",
       "    <tr style=\"text-align: right;\">\n",
       "      <th></th>\n",
       "      <th></th>\n",
       "      <th>count</th>\n",
       "    </tr>\n",
       "    <tr>\n",
       "      <th>user_id</th>\n",
       "      <th>month</th>\n",
       "      <th></th>\n",
       "    </tr>\n",
       "  </thead>\n",
       "  <tbody>\n",
       "    <tr>\n",
       "      <th rowspan=\"5\" valign=\"top\">1000</th>\n",
       "      <th>5</th>\n",
       "      <td>22</td>\n",
       "    </tr>\n",
       "    <tr>\n",
       "      <th>6</th>\n",
       "      <td>60</td>\n",
       "    </tr>\n",
       "    <tr>\n",
       "      <th>7</th>\n",
       "      <td>75</td>\n",
       "    </tr>\n",
       "    <tr>\n",
       "      <th>8</th>\n",
       "      <td>81</td>\n",
       "    </tr>\n",
       "    <tr>\n",
       "      <th>9</th>\n",
       "      <td>57</td>\n",
       "    </tr>\n",
       "    <tr>\n",
       "      <th>...</th>\n",
       "      <th>...</th>\n",
       "      <td>...</td>\n",
       "    </tr>\n",
       "    <tr>\n",
       "      <th>1498</th>\n",
       "      <th>10</th>\n",
       "      <td>42</td>\n",
       "    </tr>\n",
       "    <tr>\n",
       "      <th rowspan=\"4\" valign=\"top\">1499</th>\n",
       "      <th>9</th>\n",
       "      <td>11</td>\n",
       "    </tr>\n",
       "    <tr>\n",
       "      <th>10</th>\n",
       "      <td>48</td>\n",
       "    </tr>\n",
       "    <tr>\n",
       "      <th>11</th>\n",
       "      <td>59</td>\n",
       "    </tr>\n",
       "    <tr>\n",
       "      <th>12</th>\n",
       "      <td>66</td>\n",
       "    </tr>\n",
       "  </tbody>\n",
       "</table>\n",
       "<p>2717 rows × 1 columns</p>\n",
       "</div>"
      ],
      "text/plain": [
       "               count\n",
       "user_id month       \n",
       "1000    5         22\n",
       "        6         60\n",
       "        7         75\n",
       "        8         81\n",
       "        9         57\n",
       "...              ...\n",
       "1498    10        42\n",
       "1499    9         11\n",
       "        10        48\n",
       "        11        59\n",
       "        12        66\n",
       "\n",
       "[2717 rows x 1 columns]"
      ]
     },
     "execution_count": 29,
     "metadata": {},
     "output_type": "execute_result"
    }
   ],
   "source": [
    "df_messages = pd.pivot_table(messages, index=['user_id', 'month'], values = ['count'], aggfunc='sum')\n",
    "df_messages"
   ]
  },
  {
   "cell_type": "code",
   "execution_count": 30,
   "metadata": {
    "scrolled": false
   },
   "outputs": [
    {
     "data": {
      "text/html": [
       "<div>\n",
       "<style scoped>\n",
       "    .dataframe tbody tr th:only-of-type {\n",
       "        vertical-align: middle;\n",
       "    }\n",
       "\n",
       "    .dataframe tbody tr th {\n",
       "        vertical-align: top;\n",
       "    }\n",
       "\n",
       "    .dataframe thead th {\n",
       "        text-align: right;\n",
       "    }\n",
       "</style>\n",
       "<table border=\"1\" class=\"dataframe\">\n",
       "  <thead>\n",
       "    <tr style=\"text-align: right;\">\n",
       "      <th></th>\n",
       "      <th>user_id</th>\n",
       "      <th>month</th>\n",
       "      <th>mb_used</th>\n",
       "      <th>min_used</th>\n",
       "      <th>messages</th>\n",
       "      <th>age</th>\n",
       "      <th>churn_date</th>\n",
       "      <th>city</th>\n",
       "      <th>first_name</th>\n",
       "      <th>last_name</th>\n",
       "      <th>reg_date</th>\n",
       "      <th>tariff</th>\n",
       "      <th>messages_included</th>\n",
       "      <th>mb_per_month_included</th>\n",
       "      <th>minutes_included</th>\n",
       "      <th>rub_monthly_fee</th>\n",
       "      <th>rub_per_gb</th>\n",
       "      <th>rub_per_message</th>\n",
       "      <th>rub_per_minute</th>\n",
       "      <th>gb_per_month_included</th>\n",
       "    </tr>\n",
       "  </thead>\n",
       "  <tbody>\n",
       "    <tr>\n",
       "      <th>0</th>\n",
       "      <td>1000</td>\n",
       "      <td>5.0</td>\n",
       "      <td>2253.49</td>\n",
       "      <td>159.0</td>\n",
       "      <td>22.0</td>\n",
       "      <td>52</td>\n",
       "      <td>NaT</td>\n",
       "      <td>Краснодар</td>\n",
       "      <td>Рафаил</td>\n",
       "      <td>Верещагин</td>\n",
       "      <td>2018-05-25</td>\n",
       "      <td>ultra</td>\n",
       "      <td>1000</td>\n",
       "      <td>30720</td>\n",
       "      <td>3000</td>\n",
       "      <td>1950</td>\n",
       "      <td>150</td>\n",
       "      <td>1</td>\n",
       "      <td>1</td>\n",
       "      <td>30.0</td>\n",
       "    </tr>\n",
       "    <tr>\n",
       "      <th>1</th>\n",
       "      <td>1000</td>\n",
       "      <td>6.0</td>\n",
       "      <td>23233.77</td>\n",
       "      <td>172.0</td>\n",
       "      <td>60.0</td>\n",
       "      <td>52</td>\n",
       "      <td>NaT</td>\n",
       "      <td>Краснодар</td>\n",
       "      <td>Рафаил</td>\n",
       "      <td>Верещагин</td>\n",
       "      <td>2018-05-25</td>\n",
       "      <td>ultra</td>\n",
       "      <td>1000</td>\n",
       "      <td>30720</td>\n",
       "      <td>3000</td>\n",
       "      <td>1950</td>\n",
       "      <td>150</td>\n",
       "      <td>1</td>\n",
       "      <td>1</td>\n",
       "      <td>30.0</td>\n",
       "    </tr>\n",
       "    <tr>\n",
       "      <th>2</th>\n",
       "      <td>1000</td>\n",
       "      <td>7.0</td>\n",
       "      <td>14003.64</td>\n",
       "      <td>340.0</td>\n",
       "      <td>75.0</td>\n",
       "      <td>52</td>\n",
       "      <td>NaT</td>\n",
       "      <td>Краснодар</td>\n",
       "      <td>Рафаил</td>\n",
       "      <td>Верещагин</td>\n",
       "      <td>2018-05-25</td>\n",
       "      <td>ultra</td>\n",
       "      <td>1000</td>\n",
       "      <td>30720</td>\n",
       "      <td>3000</td>\n",
       "      <td>1950</td>\n",
       "      <td>150</td>\n",
       "      <td>1</td>\n",
       "      <td>1</td>\n",
       "      <td>30.0</td>\n",
       "    </tr>\n",
       "    <tr>\n",
       "      <th>3</th>\n",
       "      <td>1000</td>\n",
       "      <td>8.0</td>\n",
       "      <td>14055.93</td>\n",
       "      <td>408.0</td>\n",
       "      <td>81.0</td>\n",
       "      <td>52</td>\n",
       "      <td>NaT</td>\n",
       "      <td>Краснодар</td>\n",
       "      <td>Рафаил</td>\n",
       "      <td>Верещагин</td>\n",
       "      <td>2018-05-25</td>\n",
       "      <td>ultra</td>\n",
       "      <td>1000</td>\n",
       "      <td>30720</td>\n",
       "      <td>3000</td>\n",
       "      <td>1950</td>\n",
       "      <td>150</td>\n",
       "      <td>1</td>\n",
       "      <td>1</td>\n",
       "      <td>30.0</td>\n",
       "    </tr>\n",
       "    <tr>\n",
       "      <th>4</th>\n",
       "      <td>1000</td>\n",
       "      <td>9.0</td>\n",
       "      <td>14568.91</td>\n",
       "      <td>466.0</td>\n",
       "      <td>57.0</td>\n",
       "      <td>52</td>\n",
       "      <td>NaT</td>\n",
       "      <td>Краснодар</td>\n",
       "      <td>Рафаил</td>\n",
       "      <td>Верещагин</td>\n",
       "      <td>2018-05-25</td>\n",
       "      <td>ultra</td>\n",
       "      <td>1000</td>\n",
       "      <td>30720</td>\n",
       "      <td>3000</td>\n",
       "      <td>1950</td>\n",
       "      <td>150</td>\n",
       "      <td>1</td>\n",
       "      <td>1</td>\n",
       "      <td>30.0</td>\n",
       "    </tr>\n",
       "    <tr>\n",
       "      <th>...</th>\n",
       "      <td>...</td>\n",
       "      <td>...</td>\n",
       "      <td>...</td>\n",
       "      <td>...</td>\n",
       "      <td>...</td>\n",
       "      <td>...</td>\n",
       "      <td>...</td>\n",
       "      <td>...</td>\n",
       "      <td>...</td>\n",
       "      <td>...</td>\n",
       "      <td>...</td>\n",
       "      <td>...</td>\n",
       "      <td>...</td>\n",
       "      <td>...</td>\n",
       "      <td>...</td>\n",
       "      <td>...</td>\n",
       "      <td>...</td>\n",
       "      <td>...</td>\n",
       "      <td>...</td>\n",
       "      <td>...</td>\n",
       "    </tr>\n",
       "    <tr>\n",
       "      <th>3211</th>\n",
       "      <td>1499</td>\n",
       "      <td>9.0</td>\n",
       "      <td>1845.75</td>\n",
       "      <td>70.0</td>\n",
       "      <td>11.0</td>\n",
       "      <td>35</td>\n",
       "      <td>NaT</td>\n",
       "      <td>Пермь</td>\n",
       "      <td>Гектор</td>\n",
       "      <td>Корнилов</td>\n",
       "      <td>2018-09-27</td>\n",
       "      <td>smart</td>\n",
       "      <td>50</td>\n",
       "      <td>15360</td>\n",
       "      <td>500</td>\n",
       "      <td>550</td>\n",
       "      <td>200</td>\n",
       "      <td>3</td>\n",
       "      <td>3</td>\n",
       "      <td>15.0</td>\n",
       "    </tr>\n",
       "    <tr>\n",
       "      <th>3212</th>\n",
       "      <td>1499</td>\n",
       "      <td>10.0</td>\n",
       "      <td>17788.51</td>\n",
       "      <td>449.0</td>\n",
       "      <td>48.0</td>\n",
       "      <td>35</td>\n",
       "      <td>NaT</td>\n",
       "      <td>Пермь</td>\n",
       "      <td>Гектор</td>\n",
       "      <td>Корнилов</td>\n",
       "      <td>2018-09-27</td>\n",
       "      <td>smart</td>\n",
       "      <td>50</td>\n",
       "      <td>15360</td>\n",
       "      <td>500</td>\n",
       "      <td>550</td>\n",
       "      <td>200</td>\n",
       "      <td>3</td>\n",
       "      <td>3</td>\n",
       "      <td>15.0</td>\n",
       "    </tr>\n",
       "    <tr>\n",
       "      <th>3213</th>\n",
       "      <td>1499</td>\n",
       "      <td>11.0</td>\n",
       "      <td>17963.31</td>\n",
       "      <td>612.0</td>\n",
       "      <td>59.0</td>\n",
       "      <td>35</td>\n",
       "      <td>NaT</td>\n",
       "      <td>Пермь</td>\n",
       "      <td>Гектор</td>\n",
       "      <td>Корнилов</td>\n",
       "      <td>2018-09-27</td>\n",
       "      <td>smart</td>\n",
       "      <td>50</td>\n",
       "      <td>15360</td>\n",
       "      <td>500</td>\n",
       "      <td>550</td>\n",
       "      <td>200</td>\n",
       "      <td>3</td>\n",
       "      <td>3</td>\n",
       "      <td>15.0</td>\n",
       "    </tr>\n",
       "    <tr>\n",
       "      <th>3214</th>\n",
       "      <td>1499</td>\n",
       "      <td>12.0</td>\n",
       "      <td>13055.58</td>\n",
       "      <td>492.0</td>\n",
       "      <td>66.0</td>\n",
       "      <td>35</td>\n",
       "      <td>NaT</td>\n",
       "      <td>Пермь</td>\n",
       "      <td>Гектор</td>\n",
       "      <td>Корнилов</td>\n",
       "      <td>2018-09-27</td>\n",
       "      <td>smart</td>\n",
       "      <td>50</td>\n",
       "      <td>15360</td>\n",
       "      <td>500</td>\n",
       "      <td>550</td>\n",
       "      <td>200</td>\n",
       "      <td>3</td>\n",
       "      <td>3</td>\n",
       "      <td>15.0</td>\n",
       "    </tr>\n",
       "    <tr>\n",
       "      <th>3215</th>\n",
       "      <td>1371</td>\n",
       "      <td>NaN</td>\n",
       "      <td>NaN</td>\n",
       "      <td>NaN</td>\n",
       "      <td>NaN</td>\n",
       "      <td>50</td>\n",
       "      <td>2018-12-30</td>\n",
       "      <td>Омск</td>\n",
       "      <td>Ириней</td>\n",
       "      <td>Трофимов</td>\n",
       "      <td>2018-12-25</td>\n",
       "      <td>smart</td>\n",
       "      <td>50</td>\n",
       "      <td>15360</td>\n",
       "      <td>500</td>\n",
       "      <td>550</td>\n",
       "      <td>200</td>\n",
       "      <td>3</td>\n",
       "      <td>3</td>\n",
       "      <td>15.0</td>\n",
       "    </tr>\n",
       "  </tbody>\n",
       "</table>\n",
       "<p>3216 rows × 20 columns</p>\n",
       "</div>"
      ],
      "text/plain": [
       "      user_id  month   mb_used  min_used  messages  age churn_date       city  \\\n",
       "0        1000    5.0   2253.49     159.0      22.0   52        NaT  Краснодар   \n",
       "1        1000    6.0  23233.77     172.0      60.0   52        NaT  Краснодар   \n",
       "2        1000    7.0  14003.64     340.0      75.0   52        NaT  Краснодар   \n",
       "3        1000    8.0  14055.93     408.0      81.0   52        NaT  Краснодар   \n",
       "4        1000    9.0  14568.91     466.0      57.0   52        NaT  Краснодар   \n",
       "...       ...    ...       ...       ...       ...  ...        ...        ...   \n",
       "3211     1499    9.0   1845.75      70.0      11.0   35        NaT      Пермь   \n",
       "3212     1499   10.0  17788.51     449.0      48.0   35        NaT      Пермь   \n",
       "3213     1499   11.0  17963.31     612.0      59.0   35        NaT      Пермь   \n",
       "3214     1499   12.0  13055.58     492.0      66.0   35        NaT      Пермь   \n",
       "3215     1371    NaN       NaN       NaN       NaN   50 2018-12-30       Омск   \n",
       "\n",
       "     first_name  last_name   reg_date tariff  messages_included  \\\n",
       "0        Рафаил  Верещагин 2018-05-25  ultra               1000   \n",
       "1        Рафаил  Верещагин 2018-05-25  ultra               1000   \n",
       "2        Рафаил  Верещагин 2018-05-25  ultra               1000   \n",
       "3        Рафаил  Верещагин 2018-05-25  ultra               1000   \n",
       "4        Рафаил  Верещагин 2018-05-25  ultra               1000   \n",
       "...         ...        ...        ...    ...                ...   \n",
       "3211     Гектор   Корнилов 2018-09-27  smart                 50   \n",
       "3212     Гектор   Корнилов 2018-09-27  smart                 50   \n",
       "3213     Гектор   Корнилов 2018-09-27  smart                 50   \n",
       "3214     Гектор   Корнилов 2018-09-27  smart                 50   \n",
       "3215     Ириней   Трофимов 2018-12-25  smart                 50   \n",
       "\n",
       "      mb_per_month_included  minutes_included  rub_monthly_fee  rub_per_gb  \\\n",
       "0                     30720              3000             1950         150   \n",
       "1                     30720              3000             1950         150   \n",
       "2                     30720              3000             1950         150   \n",
       "3                     30720              3000             1950         150   \n",
       "4                     30720              3000             1950         150   \n",
       "...                     ...               ...              ...         ...   \n",
       "3211                  15360               500              550         200   \n",
       "3212                  15360               500              550         200   \n",
       "3213                  15360               500              550         200   \n",
       "3214                  15360               500              550         200   \n",
       "3215                  15360               500              550         200   \n",
       "\n",
       "      rub_per_message  rub_per_minute  gb_per_month_included  \n",
       "0                   1               1                   30.0  \n",
       "1                   1               1                   30.0  \n",
       "2                   1               1                   30.0  \n",
       "3                   1               1                   30.0  \n",
       "4                   1               1                   30.0  \n",
       "...               ...             ...                    ...  \n",
       "3211                3               3                   15.0  \n",
       "3212                3               3                   15.0  \n",
       "3213                3               3                   15.0  \n",
       "3214                3               3                   15.0  \n",
       "3215                3               3                   15.0  \n",
       "\n",
       "[3216 rows x 20 columns]"
      ]
     },
     "execution_count": 30,
     "metadata": {},
     "output_type": "execute_result"
    }
   ],
   "source": [
    "df_merged = df_internet.merge(df_calls, on=['user_id', 'month'], how = 'outer')\n",
    "df_merged = df_merged.merge(df_messages, on=['user_id', 'month'], how = 'outer').reset_index()\n",
    "df_merged = df_merged.merge(users, on=['user_id'], how = 'outer')\n",
    "df_merged = df_merged.merge(tariffs, on=['tariff'], how = 'outer')\n",
    "df_merged = df_merged.rename(columns={\"duration\": \"min_used\", \"count\": \"messages\"})\n",
    "df_merged"
   ]
  },
  {
   "cell_type": "markdown",
   "metadata": {},
   "source": [
    "<div class=\"alert alert-block alert-info\"> Создали сводную таблицу, округлим значения согласно правилам оператора.</div>"
   ]
  },
  {
   "cell_type": "code",
   "execution_count": 31,
   "metadata": {
    "scrolled": true
   },
   "outputs": [
    {
     "name": "stdout",
     "output_type": "stream",
     "text": [
      "<class 'pandas.core.frame.DataFrame'>\n",
      "Int64Index: 3216 entries, 0 to 3215\n",
      "Data columns (total 21 columns):\n",
      " #   Column                 Non-Null Count  Dtype         \n",
      "---  ------                 --------------  -----         \n",
      " 0   user_id                3216 non-null   int64         \n",
      " 1   month                  3214 non-null   float64       \n",
      " 2   mb_used                3203 non-null   float64       \n",
      " 3   min_used               3174 non-null   float64       \n",
      " 4   messages               2717 non-null   float64       \n",
      " 5   age                    3216 non-null   int64         \n",
      " 6   churn_date             189 non-null    datetime64[ns]\n",
      " 7   city                   3216 non-null   object        \n",
      " 8   first_name             3216 non-null   object        \n",
      " 9   last_name              3216 non-null   object        \n",
      " 10  reg_date               3216 non-null   datetime64[ns]\n",
      " 11  tariff                 3216 non-null   object        \n",
      " 12  messages_included      3216 non-null   int64         \n",
      " 13  mb_per_month_included  3216 non-null   int64         \n",
      " 14  minutes_included       3216 non-null   int64         \n",
      " 15  rub_monthly_fee        3216 non-null   int64         \n",
      " 16  rub_per_gb             3216 non-null   int64         \n",
      " 17  rub_per_message        3216 non-null   int64         \n",
      " 18  rub_per_minute         3216 non-null   int64         \n",
      " 19  gb_per_month_included  3216 non-null   float64       \n",
      " 20  gb_used                3203 non-null   float64       \n",
      "dtypes: datetime64[ns](2), float64(6), int64(9), object(4)\n",
      "memory usage: 552.8+ KB\n"
     ]
    }
   ],
   "source": [
    "np.ceil(df_merged[['month', 'mb_used','min_used','messages']])\n",
    "df_merged['gb_used'] = np.ceil(df_merged['mb_used'] / 1024)\n",
    "df_merged.info()"
   ]
  },
  {
   "cell_type": "code",
   "execution_count": 32,
   "metadata": {},
   "outputs": [
    {
     "data": {
      "text/html": [
       "<div>\n",
       "<style scoped>\n",
       "    .dataframe tbody tr th:only-of-type {\n",
       "        vertical-align: middle;\n",
       "    }\n",
       "\n",
       "    .dataframe tbody tr th {\n",
       "        vertical-align: top;\n",
       "    }\n",
       "\n",
       "    .dataframe thead th {\n",
       "        text-align: right;\n",
       "    }\n",
       "</style>\n",
       "<table border=\"1\" class=\"dataframe\">\n",
       "  <thead>\n",
       "    <tr style=\"text-align: right;\">\n",
       "      <th></th>\n",
       "      <th>gb_used</th>\n",
       "      <th>mb_used</th>\n",
       "    </tr>\n",
       "  </thead>\n",
       "  <tbody>\n",
       "    <tr>\n",
       "      <th>0</th>\n",
       "      <td>3.0</td>\n",
       "      <td>2253.49</td>\n",
       "    </tr>\n",
       "    <tr>\n",
       "      <th>1</th>\n",
       "      <td>23.0</td>\n",
       "      <td>23233.77</td>\n",
       "    </tr>\n",
       "    <tr>\n",
       "      <th>2</th>\n",
       "      <td>14.0</td>\n",
       "      <td>14003.64</td>\n",
       "    </tr>\n",
       "  </tbody>\n",
       "</table>\n",
       "</div>"
      ],
      "text/plain": [
       "   gb_used   mb_used\n",
       "0      3.0   2253.49\n",
       "1     23.0  23233.77\n",
       "2     14.0  14003.64"
      ]
     },
     "execution_count": 32,
     "metadata": {},
     "output_type": "execute_result"
    }
   ],
   "source": [
    "df_merged[['gb_used', 'mb_used']].head(3)"
   ]
  },
  {
   "cell_type": "markdown",
   "metadata": {},
   "source": [
    "<div class=\"alert alert-block alert-info\"> Посчитаем дополнительные расходы для каждого абонента</div>"
   ]
  },
  {
   "cell_type": "code",
   "execution_count": 33,
   "metadata": {},
   "outputs": [
    {
     "data": {
      "text/plain": [
       "user_id                     0\n",
       "month                       2\n",
       "mb_used                    13\n",
       "min_used                   42\n",
       "messages                  499\n",
       "age                         0\n",
       "churn_date               3027\n",
       "city                        0\n",
       "first_name                  0\n",
       "last_name                   0\n",
       "reg_date                    0\n",
       "tariff                      0\n",
       "messages_included           0\n",
       "mb_per_month_included       0\n",
       "minutes_included            0\n",
       "rub_monthly_fee             0\n",
       "rub_per_gb                  0\n",
       "rub_per_message             0\n",
       "rub_per_minute              0\n",
       "gb_per_month_included       0\n",
       "gb_used                    13\n",
       "dtype: int64"
      ]
     },
     "execution_count": 33,
     "metadata": {},
     "output_type": "execute_result"
    }
   ],
   "source": [
    "df_merged.isna().sum()"
   ]
  },
  {
   "cell_type": "markdown",
   "metadata": {},
   "source": [
    "<div class=\"alert alert-block alert-info\"> Поработаем с пропусками.</div>"
   ]
  },
  {
   "cell_type": "code",
   "execution_count": 34,
   "metadata": {},
   "outputs": [
    {
     "data": {
      "text/html": [
       "<div>\n",
       "<style scoped>\n",
       "    .dataframe tbody tr th:only-of-type {\n",
       "        vertical-align: middle;\n",
       "    }\n",
       "\n",
       "    .dataframe tbody tr th {\n",
       "        vertical-align: top;\n",
       "    }\n",
       "\n",
       "    .dataframe thead th {\n",
       "        text-align: right;\n",
       "    }\n",
       "</style>\n",
       "<table border=\"1\" class=\"dataframe\">\n",
       "  <thead>\n",
       "    <tr style=\"text-align: right;\">\n",
       "      <th></th>\n",
       "      <th>user_id</th>\n",
       "      <th>month</th>\n",
       "      <th>mb_used</th>\n",
       "      <th>min_used</th>\n",
       "      <th>messages</th>\n",
       "      <th>age</th>\n",
       "      <th>churn_date</th>\n",
       "      <th>city</th>\n",
       "      <th>first_name</th>\n",
       "      <th>last_name</th>\n",
       "      <th>reg_date</th>\n",
       "      <th>tariff</th>\n",
       "      <th>messages_included</th>\n",
       "      <th>mb_per_month_included</th>\n",
       "      <th>minutes_included</th>\n",
       "      <th>rub_monthly_fee</th>\n",
       "      <th>rub_per_gb</th>\n",
       "      <th>rub_per_message</th>\n",
       "      <th>rub_per_minute</th>\n",
       "      <th>gb_per_month_included</th>\n",
       "      <th>gb_used</th>\n",
       "    </tr>\n",
       "  </thead>\n",
       "  <tbody>\n",
       "    <tr>\n",
       "      <th>985</th>\n",
       "      <td>1128</td>\n",
       "      <td>NaN</td>\n",
       "      <td>NaN</td>\n",
       "      <td>NaN</td>\n",
       "      <td>NaN</td>\n",
       "      <td>51</td>\n",
       "      <td>2018-12-23</td>\n",
       "      <td>Волжский</td>\n",
       "      <td>Ксения</td>\n",
       "      <td>Агаева</td>\n",
       "      <td>2018-12-15</td>\n",
       "      <td>ultra</td>\n",
       "      <td>1000</td>\n",
       "      <td>30720</td>\n",
       "      <td>3000</td>\n",
       "      <td>1950</td>\n",
       "      <td>150</td>\n",
       "      <td>1</td>\n",
       "      <td>1</td>\n",
       "      <td>30.0</td>\n",
       "      <td>NaN</td>\n",
       "    </tr>\n",
       "    <tr>\n",
       "      <th>3215</th>\n",
       "      <td>1371</td>\n",
       "      <td>NaN</td>\n",
       "      <td>NaN</td>\n",
       "      <td>NaN</td>\n",
       "      <td>NaN</td>\n",
       "      <td>50</td>\n",
       "      <td>2018-12-30</td>\n",
       "      <td>Омск</td>\n",
       "      <td>Ириней</td>\n",
       "      <td>Трофимов</td>\n",
       "      <td>2018-12-25</td>\n",
       "      <td>smart</td>\n",
       "      <td>50</td>\n",
       "      <td>15360</td>\n",
       "      <td>500</td>\n",
       "      <td>550</td>\n",
       "      <td>200</td>\n",
       "      <td>3</td>\n",
       "      <td>3</td>\n",
       "      <td>15.0</td>\n",
       "      <td>NaN</td>\n",
       "    </tr>\n",
       "  </tbody>\n",
       "</table>\n",
       "</div>"
      ],
      "text/plain": [
       "      user_id  month  mb_used  min_used  messages  age churn_date      city  \\\n",
       "985      1128    NaN      NaN       NaN       NaN   51 2018-12-23  Волжский   \n",
       "3215     1371    NaN      NaN       NaN       NaN   50 2018-12-30      Омск   \n",
       "\n",
       "     first_name last_name   reg_date tariff  messages_included  \\\n",
       "985      Ксения    Агаева 2018-12-15  ultra               1000   \n",
       "3215     Ириней  Трофимов 2018-12-25  smart                 50   \n",
       "\n",
       "      mb_per_month_included  minutes_included  rub_monthly_fee  rub_per_gb  \\\n",
       "985                   30720              3000             1950         150   \n",
       "3215                  15360               500              550         200   \n",
       "\n",
       "      rub_per_message  rub_per_minute  gb_per_month_included  gb_used  \n",
       "985                 1               1                   30.0      NaN  \n",
       "3215                3               3                   15.0      NaN  "
      ]
     },
     "metadata": {},
     "output_type": "display_data"
    },
    {
     "data": {
      "text/html": [
       "<div>\n",
       "<style scoped>\n",
       "    .dataframe tbody tr th:only-of-type {\n",
       "        vertical-align: middle;\n",
       "    }\n",
       "\n",
       "    .dataframe tbody tr th {\n",
       "        vertical-align: top;\n",
       "    }\n",
       "\n",
       "    .dataframe thead th {\n",
       "        text-align: right;\n",
       "    }\n",
       "</style>\n",
       "<table border=\"1\" class=\"dataframe\">\n",
       "  <thead>\n",
       "    <tr style=\"text-align: right;\">\n",
       "      <th></th>\n",
       "      <th>user_id</th>\n",
       "      <th>month</th>\n",
       "      <th>mb_used</th>\n",
       "      <th>min_used</th>\n",
       "      <th>messages</th>\n",
       "      <th>age</th>\n",
       "      <th>churn_date</th>\n",
       "      <th>city</th>\n",
       "      <th>first_name</th>\n",
       "      <th>last_name</th>\n",
       "      <th>reg_date</th>\n",
       "      <th>tariff</th>\n",
       "      <th>messages_included</th>\n",
       "      <th>mb_per_month_included</th>\n",
       "      <th>minutes_included</th>\n",
       "      <th>rub_monthly_fee</th>\n",
       "      <th>rub_per_gb</th>\n",
       "      <th>rub_per_message</th>\n",
       "      <th>rub_per_minute</th>\n",
       "      <th>gb_per_month_included</th>\n",
       "      <th>gb_used</th>\n",
       "    </tr>\n",
       "  </thead>\n",
       "  <tbody>\n",
       "    <tr>\n",
       "      <th>715</th>\n",
       "      <td>1377</td>\n",
       "      <td>2.0</td>\n",
       "      <td>NaN</td>\n",
       "      <td>179.0</td>\n",
       "      <td>2.0</td>\n",
       "      <td>59</td>\n",
       "      <td>NaT</td>\n",
       "      <td>Брянск</td>\n",
       "      <td>Альфред</td>\n",
       "      <td>Семин</td>\n",
       "      <td>2018-02-25</td>\n",
       "      <td>ultra</td>\n",
       "      <td>1000</td>\n",
       "      <td>30720</td>\n",
       "      <td>3000</td>\n",
       "      <td>1950</td>\n",
       "      <td>150</td>\n",
       "      <td>1</td>\n",
       "      <td>1</td>\n",
       "      <td>30.0</td>\n",
       "      <td>NaN</td>\n",
       "    </tr>\n",
       "    <tr>\n",
       "      <th>778</th>\n",
       "      <td>1392</td>\n",
       "      <td>2.0</td>\n",
       "      <td>NaN</td>\n",
       "      <td>13.0</td>\n",
       "      <td>3.0</td>\n",
       "      <td>54</td>\n",
       "      <td>2018-09-27</td>\n",
       "      <td>Челябинск</td>\n",
       "      <td>Алла</td>\n",
       "      <td>Беликова</td>\n",
       "      <td>2018-02-27</td>\n",
       "      <td>ultra</td>\n",
       "      <td>1000</td>\n",
       "      <td>30720</td>\n",
       "      <td>3000</td>\n",
       "      <td>1950</td>\n",
       "      <td>150</td>\n",
       "      <td>1</td>\n",
       "      <td>1</td>\n",
       "      <td>30.0</td>\n",
       "      <td>NaN</td>\n",
       "    </tr>\n",
       "    <tr>\n",
       "      <th>977</th>\n",
       "      <td>1273</td>\n",
       "      <td>5.0</td>\n",
       "      <td>NaN</td>\n",
       "      <td>220.0</td>\n",
       "      <td>21.0</td>\n",
       "      <td>46</td>\n",
       "      <td>NaT</td>\n",
       "      <td>Курган</td>\n",
       "      <td>Рэм</td>\n",
       "      <td>Корнилов</td>\n",
       "      <td>2018-05-15</td>\n",
       "      <td>ultra</td>\n",
       "      <td>1000</td>\n",
       "      <td>30720</td>\n",
       "      <td>3000</td>\n",
       "      <td>1950</td>\n",
       "      <td>150</td>\n",
       "      <td>1</td>\n",
       "      <td>1</td>\n",
       "      <td>30.0</td>\n",
       "      <td>NaN</td>\n",
       "    </tr>\n",
       "    <tr>\n",
       "      <th>978</th>\n",
       "      <td>1273</td>\n",
       "      <td>6.0</td>\n",
       "      <td>NaN</td>\n",
       "      <td>230.0</td>\n",
       "      <td>38.0</td>\n",
       "      <td>46</td>\n",
       "      <td>NaT</td>\n",
       "      <td>Курган</td>\n",
       "      <td>Рэм</td>\n",
       "      <td>Корнилов</td>\n",
       "      <td>2018-05-15</td>\n",
       "      <td>ultra</td>\n",
       "      <td>1000</td>\n",
       "      <td>30720</td>\n",
       "      <td>3000</td>\n",
       "      <td>1950</td>\n",
       "      <td>150</td>\n",
       "      <td>1</td>\n",
       "      <td>1</td>\n",
       "      <td>30.0</td>\n",
       "      <td>NaN</td>\n",
       "    </tr>\n",
       "    <tr>\n",
       "      <th>979</th>\n",
       "      <td>1273</td>\n",
       "      <td>7.0</td>\n",
       "      <td>NaN</td>\n",
       "      <td>253.0</td>\n",
       "      <td>37.0</td>\n",
       "      <td>46</td>\n",
       "      <td>NaT</td>\n",
       "      <td>Курган</td>\n",
       "      <td>Рэм</td>\n",
       "      <td>Корнилов</td>\n",
       "      <td>2018-05-15</td>\n",
       "      <td>ultra</td>\n",
       "      <td>1000</td>\n",
       "      <td>30720</td>\n",
       "      <td>3000</td>\n",
       "      <td>1950</td>\n",
       "      <td>150</td>\n",
       "      <td>1</td>\n",
       "      <td>1</td>\n",
       "      <td>30.0</td>\n",
       "      <td>NaN</td>\n",
       "    </tr>\n",
       "    <tr>\n",
       "      <th>980</th>\n",
       "      <td>1273</td>\n",
       "      <td>8.0</td>\n",
       "      <td>NaN</td>\n",
       "      <td>253.0</td>\n",
       "      <td>41.0</td>\n",
       "      <td>46</td>\n",
       "      <td>NaT</td>\n",
       "      <td>Курган</td>\n",
       "      <td>Рэм</td>\n",
       "      <td>Корнилов</td>\n",
       "      <td>2018-05-15</td>\n",
       "      <td>ultra</td>\n",
       "      <td>1000</td>\n",
       "      <td>30720</td>\n",
       "      <td>3000</td>\n",
       "      <td>1950</td>\n",
       "      <td>150</td>\n",
       "      <td>1</td>\n",
       "      <td>1</td>\n",
       "      <td>30.0</td>\n",
       "      <td>NaN</td>\n",
       "    </tr>\n",
       "    <tr>\n",
       "      <th>981</th>\n",
       "      <td>1273</td>\n",
       "      <td>9.0</td>\n",
       "      <td>NaN</td>\n",
       "      <td>223.0</td>\n",
       "      <td>32.0</td>\n",
       "      <td>46</td>\n",
       "      <td>NaT</td>\n",
       "      <td>Курган</td>\n",
       "      <td>Рэм</td>\n",
       "      <td>Корнилов</td>\n",
       "      <td>2018-05-15</td>\n",
       "      <td>ultra</td>\n",
       "      <td>1000</td>\n",
       "      <td>30720</td>\n",
       "      <td>3000</td>\n",
       "      <td>1950</td>\n",
       "      <td>150</td>\n",
       "      <td>1</td>\n",
       "      <td>1</td>\n",
       "      <td>30.0</td>\n",
       "      <td>NaN</td>\n",
       "    </tr>\n",
       "    <tr>\n",
       "      <th>982</th>\n",
       "      <td>1273</td>\n",
       "      <td>10.0</td>\n",
       "      <td>NaN</td>\n",
       "      <td>315.0</td>\n",
       "      <td>35.0</td>\n",
       "      <td>46</td>\n",
       "      <td>NaT</td>\n",
       "      <td>Курган</td>\n",
       "      <td>Рэм</td>\n",
       "      <td>Корнилов</td>\n",
       "      <td>2018-05-15</td>\n",
       "      <td>ultra</td>\n",
       "      <td>1000</td>\n",
       "      <td>30720</td>\n",
       "      <td>3000</td>\n",
       "      <td>1950</td>\n",
       "      <td>150</td>\n",
       "      <td>1</td>\n",
       "      <td>1</td>\n",
       "      <td>30.0</td>\n",
       "      <td>NaN</td>\n",
       "    </tr>\n",
       "    <tr>\n",
       "      <th>983</th>\n",
       "      <td>1273</td>\n",
       "      <td>11.0</td>\n",
       "      <td>NaN</td>\n",
       "      <td>272.0</td>\n",
       "      <td>29.0</td>\n",
       "      <td>46</td>\n",
       "      <td>NaT</td>\n",
       "      <td>Курган</td>\n",
       "      <td>Рэм</td>\n",
       "      <td>Корнилов</td>\n",
       "      <td>2018-05-15</td>\n",
       "      <td>ultra</td>\n",
       "      <td>1000</td>\n",
       "      <td>30720</td>\n",
       "      <td>3000</td>\n",
       "      <td>1950</td>\n",
       "      <td>150</td>\n",
       "      <td>1</td>\n",
       "      <td>1</td>\n",
       "      <td>30.0</td>\n",
       "      <td>NaN</td>\n",
       "    </tr>\n",
       "    <tr>\n",
       "      <th>984</th>\n",
       "      <td>1273</td>\n",
       "      <td>12.0</td>\n",
       "      <td>NaN</td>\n",
       "      <td>260.0</td>\n",
       "      <td>39.0</td>\n",
       "      <td>46</td>\n",
       "      <td>NaT</td>\n",
       "      <td>Курган</td>\n",
       "      <td>Рэм</td>\n",
       "      <td>Корнилов</td>\n",
       "      <td>2018-05-15</td>\n",
       "      <td>ultra</td>\n",
       "      <td>1000</td>\n",
       "      <td>30720</td>\n",
       "      <td>3000</td>\n",
       "      <td>1950</td>\n",
       "      <td>150</td>\n",
       "      <td>1</td>\n",
       "      <td>1</td>\n",
       "      <td>30.0</td>\n",
       "      <td>NaN</td>\n",
       "    </tr>\n",
       "    <tr>\n",
       "      <th>985</th>\n",
       "      <td>1128</td>\n",
       "      <td>NaN</td>\n",
       "      <td>NaN</td>\n",
       "      <td>NaN</td>\n",
       "      <td>NaN</td>\n",
       "      <td>51</td>\n",
       "      <td>2018-12-23</td>\n",
       "      <td>Волжский</td>\n",
       "      <td>Ксения</td>\n",
       "      <td>Агаева</td>\n",
       "      <td>2018-12-15</td>\n",
       "      <td>ultra</td>\n",
       "      <td>1000</td>\n",
       "      <td>30720</td>\n",
       "      <td>3000</td>\n",
       "      <td>1950</td>\n",
       "      <td>150</td>\n",
       "      <td>1</td>\n",
       "      <td>1</td>\n",
       "      <td>30.0</td>\n",
       "      <td>NaN</td>\n",
       "    </tr>\n",
       "    <tr>\n",
       "      <th>2970</th>\n",
       "      <td>1446</td>\n",
       "      <td>8.0</td>\n",
       "      <td>NaN</td>\n",
       "      <td>50.0</td>\n",
       "      <td>1.0</td>\n",
       "      <td>64</td>\n",
       "      <td>NaT</td>\n",
       "      <td>Липецк</td>\n",
       "      <td>Антонина</td>\n",
       "      <td>Артемчук</td>\n",
       "      <td>2018-08-31</td>\n",
       "      <td>smart</td>\n",
       "      <td>50</td>\n",
       "      <td>15360</td>\n",
       "      <td>500</td>\n",
       "      <td>550</td>\n",
       "      <td>200</td>\n",
       "      <td>3</td>\n",
       "      <td>3</td>\n",
       "      <td>15.0</td>\n",
       "      <td>NaN</td>\n",
       "    </tr>\n",
       "    <tr>\n",
       "      <th>3215</th>\n",
       "      <td>1371</td>\n",
       "      <td>NaN</td>\n",
       "      <td>NaN</td>\n",
       "      <td>NaN</td>\n",
       "      <td>NaN</td>\n",
       "      <td>50</td>\n",
       "      <td>2018-12-30</td>\n",
       "      <td>Омск</td>\n",
       "      <td>Ириней</td>\n",
       "      <td>Трофимов</td>\n",
       "      <td>2018-12-25</td>\n",
       "      <td>smart</td>\n",
       "      <td>50</td>\n",
       "      <td>15360</td>\n",
       "      <td>500</td>\n",
       "      <td>550</td>\n",
       "      <td>200</td>\n",
       "      <td>3</td>\n",
       "      <td>3</td>\n",
       "      <td>15.0</td>\n",
       "      <td>NaN</td>\n",
       "    </tr>\n",
       "  </tbody>\n",
       "</table>\n",
       "</div>"
      ],
      "text/plain": [
       "      user_id  month  mb_used  min_used  messages  age churn_date       city  \\\n",
       "715      1377    2.0      NaN     179.0       2.0   59        NaT     Брянск   \n",
       "778      1392    2.0      NaN      13.0       3.0   54 2018-09-27  Челябинск   \n",
       "977      1273    5.0      NaN     220.0      21.0   46        NaT     Курган   \n",
       "978      1273    6.0      NaN     230.0      38.0   46        NaT     Курган   \n",
       "979      1273    7.0      NaN     253.0      37.0   46        NaT     Курган   \n",
       "980      1273    8.0      NaN     253.0      41.0   46        NaT     Курган   \n",
       "981      1273    9.0      NaN     223.0      32.0   46        NaT     Курган   \n",
       "982      1273   10.0      NaN     315.0      35.0   46        NaT     Курган   \n",
       "983      1273   11.0      NaN     272.0      29.0   46        NaT     Курган   \n",
       "984      1273   12.0      NaN     260.0      39.0   46        NaT     Курган   \n",
       "985      1128    NaN      NaN       NaN       NaN   51 2018-12-23   Волжский   \n",
       "2970     1446    8.0      NaN      50.0       1.0   64        NaT     Липецк   \n",
       "3215     1371    NaN      NaN       NaN       NaN   50 2018-12-30       Омск   \n",
       "\n",
       "     first_name last_name   reg_date tariff  messages_included  \\\n",
       "715     Альфред     Семин 2018-02-25  ultra               1000   \n",
       "778        Алла  Беликова 2018-02-27  ultra               1000   \n",
       "977         Рэм  Корнилов 2018-05-15  ultra               1000   \n",
       "978         Рэм  Корнилов 2018-05-15  ultra               1000   \n",
       "979         Рэм  Корнилов 2018-05-15  ultra               1000   \n",
       "980         Рэм  Корнилов 2018-05-15  ultra               1000   \n",
       "981         Рэм  Корнилов 2018-05-15  ultra               1000   \n",
       "982         Рэм  Корнилов 2018-05-15  ultra               1000   \n",
       "983         Рэм  Корнилов 2018-05-15  ultra               1000   \n",
       "984         Рэм  Корнилов 2018-05-15  ultra               1000   \n",
       "985      Ксения    Агаева 2018-12-15  ultra               1000   \n",
       "2970   Антонина  Артемчук 2018-08-31  smart                 50   \n",
       "3215     Ириней  Трофимов 2018-12-25  smart                 50   \n",
       "\n",
       "      mb_per_month_included  minutes_included  rub_monthly_fee  rub_per_gb  \\\n",
       "715                   30720              3000             1950         150   \n",
       "778                   30720              3000             1950         150   \n",
       "977                   30720              3000             1950         150   \n",
       "978                   30720              3000             1950         150   \n",
       "979                   30720              3000             1950         150   \n",
       "980                   30720              3000             1950         150   \n",
       "981                   30720              3000             1950         150   \n",
       "982                   30720              3000             1950         150   \n",
       "983                   30720              3000             1950         150   \n",
       "984                   30720              3000             1950         150   \n",
       "985                   30720              3000             1950         150   \n",
       "2970                  15360               500              550         200   \n",
       "3215                  15360               500              550         200   \n",
       "\n",
       "      rub_per_message  rub_per_minute  gb_per_month_included  gb_used  \n",
       "715                 1               1                   30.0      NaN  \n",
       "778                 1               1                   30.0      NaN  \n",
       "977                 1               1                   30.0      NaN  \n",
       "978                 1               1                   30.0      NaN  \n",
       "979                 1               1                   30.0      NaN  \n",
       "980                 1               1                   30.0      NaN  \n",
       "981                 1               1                   30.0      NaN  \n",
       "982                 1               1                   30.0      NaN  \n",
       "983                 1               1                   30.0      NaN  \n",
       "984                 1               1                   30.0      NaN  \n",
       "985                 1               1                   30.0      NaN  \n",
       "2970                3               3                   15.0      NaN  \n",
       "3215                3               3                   15.0      NaN  "
      ]
     },
     "metadata": {},
     "output_type": "display_data"
    },
    {
     "data": {
      "text/html": [
       "<div>\n",
       "<style scoped>\n",
       "    .dataframe tbody tr th:only-of-type {\n",
       "        vertical-align: middle;\n",
       "    }\n",
       "\n",
       "    .dataframe tbody tr th {\n",
       "        vertical-align: top;\n",
       "    }\n",
       "\n",
       "    .dataframe thead th {\n",
       "        text-align: right;\n",
       "    }\n",
       "</style>\n",
       "<table border=\"1\" class=\"dataframe\">\n",
       "  <thead>\n",
       "    <tr style=\"text-align: right;\">\n",
       "      <th></th>\n",
       "      <th>user_id</th>\n",
       "      <th>month</th>\n",
       "      <th>mb_used</th>\n",
       "      <th>min_used</th>\n",
       "      <th>messages</th>\n",
       "      <th>age</th>\n",
       "      <th>churn_date</th>\n",
       "      <th>city</th>\n",
       "      <th>first_name</th>\n",
       "      <th>last_name</th>\n",
       "      <th>reg_date</th>\n",
       "      <th>tariff</th>\n",
       "      <th>messages_included</th>\n",
       "      <th>mb_per_month_included</th>\n",
       "      <th>minutes_included</th>\n",
       "      <th>rub_monthly_fee</th>\n",
       "      <th>rub_per_gb</th>\n",
       "      <th>rub_per_message</th>\n",
       "      <th>rub_per_minute</th>\n",
       "      <th>gb_per_month_included</th>\n",
       "      <th>gb_used</th>\n",
       "    </tr>\n",
       "  </thead>\n",
       "  <tbody>\n",
       "    <tr>\n",
       "      <th>151</th>\n",
       "      <td>1091</td>\n",
       "      <td>5.0</td>\n",
       "      <td>10703.37</td>\n",
       "      <td>NaN</td>\n",
       "      <td>30.0</td>\n",
       "      <td>36</td>\n",
       "      <td>NaT</td>\n",
       "      <td>Набережные Челны</td>\n",
       "      <td>Вера</td>\n",
       "      <td>Суслова</td>\n",
       "      <td>2018-05-08</td>\n",
       "      <td>ultra</td>\n",
       "      <td>1000</td>\n",
       "      <td>30720</td>\n",
       "      <td>3000</td>\n",
       "      <td>1950</td>\n",
       "      <td>150</td>\n",
       "      <td>1</td>\n",
       "      <td>1</td>\n",
       "      <td>30.0</td>\n",
       "      <td>11.0</td>\n",
       "    </tr>\n",
       "    <tr>\n",
       "      <th>152</th>\n",
       "      <td>1091</td>\n",
       "      <td>6.0</td>\n",
       "      <td>10236.19</td>\n",
       "      <td>NaN</td>\n",
       "      <td>30.0</td>\n",
       "      <td>36</td>\n",
       "      <td>NaT</td>\n",
       "      <td>Набережные Челны</td>\n",
       "      <td>Вера</td>\n",
       "      <td>Суслова</td>\n",
       "      <td>2018-05-08</td>\n",
       "      <td>ultra</td>\n",
       "      <td>1000</td>\n",
       "      <td>30720</td>\n",
       "      <td>3000</td>\n",
       "      <td>1950</td>\n",
       "      <td>150</td>\n",
       "      <td>1</td>\n",
       "      <td>1</td>\n",
       "      <td>30.0</td>\n",
       "      <td>10.0</td>\n",
       "    </tr>\n",
       "    <tr>\n",
       "      <th>153</th>\n",
       "      <td>1091</td>\n",
       "      <td>7.0</td>\n",
       "      <td>16444.98</td>\n",
       "      <td>NaN</td>\n",
       "      <td>35.0</td>\n",
       "      <td>36</td>\n",
       "      <td>NaT</td>\n",
       "      <td>Набережные Челны</td>\n",
       "      <td>Вера</td>\n",
       "      <td>Суслова</td>\n",
       "      <td>2018-05-08</td>\n",
       "      <td>ultra</td>\n",
       "      <td>1000</td>\n",
       "      <td>30720</td>\n",
       "      <td>3000</td>\n",
       "      <td>1950</td>\n",
       "      <td>150</td>\n",
       "      <td>1</td>\n",
       "      <td>1</td>\n",
       "      <td>30.0</td>\n",
       "      <td>17.0</td>\n",
       "    </tr>\n",
       "    <tr>\n",
       "      <th>154</th>\n",
       "      <td>1091</td>\n",
       "      <td>8.0</td>\n",
       "      <td>12633.88</td>\n",
       "      <td>NaN</td>\n",
       "      <td>31.0</td>\n",
       "      <td>36</td>\n",
       "      <td>NaT</td>\n",
       "      <td>Набережные Челны</td>\n",
       "      <td>Вера</td>\n",
       "      <td>Суслова</td>\n",
       "      <td>2018-05-08</td>\n",
       "      <td>ultra</td>\n",
       "      <td>1000</td>\n",
       "      <td>30720</td>\n",
       "      <td>3000</td>\n",
       "      <td>1950</td>\n",
       "      <td>150</td>\n",
       "      <td>1</td>\n",
       "      <td>1</td>\n",
       "      <td>30.0</td>\n",
       "      <td>13.0</td>\n",
       "    </tr>\n",
       "    <tr>\n",
       "      <th>155</th>\n",
       "      <td>1091</td>\n",
       "      <td>9.0</td>\n",
       "      <td>16597.11</td>\n",
       "      <td>NaN</td>\n",
       "      <td>32.0</td>\n",
       "      <td>36</td>\n",
       "      <td>NaT</td>\n",
       "      <td>Набережные Челны</td>\n",
       "      <td>Вера</td>\n",
       "      <td>Суслова</td>\n",
       "      <td>2018-05-08</td>\n",
       "      <td>ultra</td>\n",
       "      <td>1000</td>\n",
       "      <td>30720</td>\n",
       "      <td>3000</td>\n",
       "      <td>1950</td>\n",
       "      <td>150</td>\n",
       "      <td>1</td>\n",
       "      <td>1</td>\n",
       "      <td>30.0</td>\n",
       "      <td>17.0</td>\n",
       "    </tr>\n",
       "    <tr>\n",
       "      <th>156</th>\n",
       "      <td>1091</td>\n",
       "      <td>10.0</td>\n",
       "      <td>15644.73</td>\n",
       "      <td>NaN</td>\n",
       "      <td>44.0</td>\n",
       "      <td>36</td>\n",
       "      <td>NaT</td>\n",
       "      <td>Набережные Челны</td>\n",
       "      <td>Вера</td>\n",
       "      <td>Суслова</td>\n",
       "      <td>2018-05-08</td>\n",
       "      <td>ultra</td>\n",
       "      <td>1000</td>\n",
       "      <td>30720</td>\n",
       "      <td>3000</td>\n",
       "      <td>1950</td>\n",
       "      <td>150</td>\n",
       "      <td>1</td>\n",
       "      <td>1</td>\n",
       "      <td>30.0</td>\n",
       "      <td>16.0</td>\n",
       "    </tr>\n",
       "    <tr>\n",
       "      <th>157</th>\n",
       "      <td>1091</td>\n",
       "      <td>11.0</td>\n",
       "      <td>11864.25</td>\n",
       "      <td>NaN</td>\n",
       "      <td>28.0</td>\n",
       "      <td>36</td>\n",
       "      <td>NaT</td>\n",
       "      <td>Набережные Челны</td>\n",
       "      <td>Вера</td>\n",
       "      <td>Суслова</td>\n",
       "      <td>2018-05-08</td>\n",
       "      <td>ultra</td>\n",
       "      <td>1000</td>\n",
       "      <td>30720</td>\n",
       "      <td>3000</td>\n",
       "      <td>1950</td>\n",
       "      <td>150</td>\n",
       "      <td>1</td>\n",
       "      <td>1</td>\n",
       "      <td>30.0</td>\n",
       "      <td>12.0</td>\n",
       "    </tr>\n",
       "    <tr>\n",
       "      <th>158</th>\n",
       "      <td>1091</td>\n",
       "      <td>12.0</td>\n",
       "      <td>13280.45</td>\n",
       "      <td>NaN</td>\n",
       "      <td>42.0</td>\n",
       "      <td>36</td>\n",
       "      <td>NaT</td>\n",
       "      <td>Набережные Челны</td>\n",
       "      <td>Вера</td>\n",
       "      <td>Суслова</td>\n",
       "      <td>2018-05-08</td>\n",
       "      <td>ultra</td>\n",
       "      <td>1000</td>\n",
       "      <td>30720</td>\n",
       "      <td>3000</td>\n",
       "      <td>1950</td>\n",
       "      <td>150</td>\n",
       "      <td>1</td>\n",
       "      <td>1</td>\n",
       "      <td>30.0</td>\n",
       "      <td>13.0</td>\n",
       "    </tr>\n",
       "    <tr>\n",
       "      <th>204</th>\n",
       "      <td>1106</td>\n",
       "      <td>4.0</td>\n",
       "      <td>2923.49</td>\n",
       "      <td>NaN</td>\n",
       "      <td>9.0</td>\n",
       "      <td>67</td>\n",
       "      <td>NaT</td>\n",
       "      <td>Калуга</td>\n",
       "      <td>Исаак</td>\n",
       "      <td>Костин</td>\n",
       "      <td>2018-04-26</td>\n",
       "      <td>ultra</td>\n",
       "      <td>1000</td>\n",
       "      <td>30720</td>\n",
       "      <td>3000</td>\n",
       "      <td>1950</td>\n",
       "      <td>150</td>\n",
       "      <td>1</td>\n",
       "      <td>1</td>\n",
       "      <td>30.0</td>\n",
       "      <td>3.0</td>\n",
       "    </tr>\n",
       "    <tr>\n",
       "      <th>205</th>\n",
       "      <td>1106</td>\n",
       "      <td>5.0</td>\n",
       "      <td>16573.01</td>\n",
       "      <td>NaN</td>\n",
       "      <td>28.0</td>\n",
       "      <td>67</td>\n",
       "      <td>NaT</td>\n",
       "      <td>Калуга</td>\n",
       "      <td>Исаак</td>\n",
       "      <td>Костин</td>\n",
       "      <td>2018-04-26</td>\n",
       "      <td>ultra</td>\n",
       "      <td>1000</td>\n",
       "      <td>30720</td>\n",
       "      <td>3000</td>\n",
       "      <td>1950</td>\n",
       "      <td>150</td>\n",
       "      <td>1</td>\n",
       "      <td>1</td>\n",
       "      <td>30.0</td>\n",
       "      <td>17.0</td>\n",
       "    </tr>\n",
       "    <tr>\n",
       "      <th>206</th>\n",
       "      <td>1106</td>\n",
       "      <td>6.0</td>\n",
       "      <td>20016.74</td>\n",
       "      <td>NaN</td>\n",
       "      <td>30.0</td>\n",
       "      <td>67</td>\n",
       "      <td>NaT</td>\n",
       "      <td>Калуга</td>\n",
       "      <td>Исаак</td>\n",
       "      <td>Костин</td>\n",
       "      <td>2018-04-26</td>\n",
       "      <td>ultra</td>\n",
       "      <td>1000</td>\n",
       "      <td>30720</td>\n",
       "      <td>3000</td>\n",
       "      <td>1950</td>\n",
       "      <td>150</td>\n",
       "      <td>1</td>\n",
       "      <td>1</td>\n",
       "      <td>30.0</td>\n",
       "      <td>20.0</td>\n",
       "    </tr>\n",
       "    <tr>\n",
       "      <th>207</th>\n",
       "      <td>1106</td>\n",
       "      <td>7.0</td>\n",
       "      <td>21626.86</td>\n",
       "      <td>NaN</td>\n",
       "      <td>24.0</td>\n",
       "      <td>67</td>\n",
       "      <td>NaT</td>\n",
       "      <td>Калуга</td>\n",
       "      <td>Исаак</td>\n",
       "      <td>Костин</td>\n",
       "      <td>2018-04-26</td>\n",
       "      <td>ultra</td>\n",
       "      <td>1000</td>\n",
       "      <td>30720</td>\n",
       "      <td>3000</td>\n",
       "      <td>1950</td>\n",
       "      <td>150</td>\n",
       "      <td>1</td>\n",
       "      <td>1</td>\n",
       "      <td>30.0</td>\n",
       "      <td>22.0</td>\n",
       "    </tr>\n",
       "    <tr>\n",
       "      <th>208</th>\n",
       "      <td>1106</td>\n",
       "      <td>8.0</td>\n",
       "      <td>19088.67</td>\n",
       "      <td>NaN</td>\n",
       "      <td>25.0</td>\n",
       "      <td>67</td>\n",
       "      <td>NaT</td>\n",
       "      <td>Калуга</td>\n",
       "      <td>Исаак</td>\n",
       "      <td>Костин</td>\n",
       "      <td>2018-04-26</td>\n",
       "      <td>ultra</td>\n",
       "      <td>1000</td>\n",
       "      <td>30720</td>\n",
       "      <td>3000</td>\n",
       "      <td>1950</td>\n",
       "      <td>150</td>\n",
       "      <td>1</td>\n",
       "      <td>1</td>\n",
       "      <td>30.0</td>\n",
       "      <td>19.0</td>\n",
       "    </tr>\n",
       "    <tr>\n",
       "      <th>209</th>\n",
       "      <td>1106</td>\n",
       "      <td>9.0</td>\n",
       "      <td>21934.03</td>\n",
       "      <td>NaN</td>\n",
       "      <td>23.0</td>\n",
       "      <td>67</td>\n",
       "      <td>NaT</td>\n",
       "      <td>Калуга</td>\n",
       "      <td>Исаак</td>\n",
       "      <td>Костин</td>\n",
       "      <td>2018-04-26</td>\n",
       "      <td>ultra</td>\n",
       "      <td>1000</td>\n",
       "      <td>30720</td>\n",
       "      <td>3000</td>\n",
       "      <td>1950</td>\n",
       "      <td>150</td>\n",
       "      <td>1</td>\n",
       "      <td>1</td>\n",
       "      <td>30.0</td>\n",
       "      <td>22.0</td>\n",
       "    </tr>\n",
       "    <tr>\n",
       "      <th>210</th>\n",
       "      <td>1106</td>\n",
       "      <td>10.0</td>\n",
       "      <td>14010.32</td>\n",
       "      <td>NaN</td>\n",
       "      <td>33.0</td>\n",
       "      <td>67</td>\n",
       "      <td>NaT</td>\n",
       "      <td>Калуга</td>\n",
       "      <td>Исаак</td>\n",
       "      <td>Костин</td>\n",
       "      <td>2018-04-26</td>\n",
       "      <td>ultra</td>\n",
       "      <td>1000</td>\n",
       "      <td>30720</td>\n",
       "      <td>3000</td>\n",
       "      <td>1950</td>\n",
       "      <td>150</td>\n",
       "      <td>1</td>\n",
       "      <td>1</td>\n",
       "      <td>30.0</td>\n",
       "      <td>14.0</td>\n",
       "    </tr>\n",
       "    <tr>\n",
       "      <th>211</th>\n",
       "      <td>1106</td>\n",
       "      <td>11.0</td>\n",
       "      <td>21289.27</td>\n",
       "      <td>NaN</td>\n",
       "      <td>29.0</td>\n",
       "      <td>67</td>\n",
       "      <td>NaT</td>\n",
       "      <td>Калуга</td>\n",
       "      <td>Исаак</td>\n",
       "      <td>Костин</td>\n",
       "      <td>2018-04-26</td>\n",
       "      <td>ultra</td>\n",
       "      <td>1000</td>\n",
       "      <td>30720</td>\n",
       "      <td>3000</td>\n",
       "      <td>1950</td>\n",
       "      <td>150</td>\n",
       "      <td>1</td>\n",
       "      <td>1</td>\n",
       "      <td>30.0</td>\n",
       "      <td>21.0</td>\n",
       "    </tr>\n",
       "    <tr>\n",
       "      <th>212</th>\n",
       "      <td>1106</td>\n",
       "      <td>12.0</td>\n",
       "      <td>18701.51</td>\n",
       "      <td>NaN</td>\n",
       "      <td>24.0</td>\n",
       "      <td>67</td>\n",
       "      <td>NaT</td>\n",
       "      <td>Калуга</td>\n",
       "      <td>Исаак</td>\n",
       "      <td>Костин</td>\n",
       "      <td>2018-04-26</td>\n",
       "      <td>ultra</td>\n",
       "      <td>1000</td>\n",
       "      <td>30720</td>\n",
       "      <td>3000</td>\n",
       "      <td>1950</td>\n",
       "      <td>150</td>\n",
       "      <td>1</td>\n",
       "      <td>1</td>\n",
       "      <td>30.0</td>\n",
       "      <td>19.0</td>\n",
       "    </tr>\n",
       "    <tr>\n",
       "      <th>394</th>\n",
       "      <td>1231</td>\n",
       "      <td>5.0</td>\n",
       "      <td>10858.89</td>\n",
       "      <td>NaN</td>\n",
       "      <td>55.0</td>\n",
       "      <td>63</td>\n",
       "      <td>NaT</td>\n",
       "      <td>Чебоксары</td>\n",
       "      <td>Касьян</td>\n",
       "      <td>Авдюков</td>\n",
       "      <td>2018-05-23</td>\n",
       "      <td>ultra</td>\n",
       "      <td>1000</td>\n",
       "      <td>30720</td>\n",
       "      <td>3000</td>\n",
       "      <td>1950</td>\n",
       "      <td>150</td>\n",
       "      <td>1</td>\n",
       "      <td>1</td>\n",
       "      <td>30.0</td>\n",
       "      <td>11.0</td>\n",
       "    </tr>\n",
       "    <tr>\n",
       "      <th>395</th>\n",
       "      <td>1231</td>\n",
       "      <td>6.0</td>\n",
       "      <td>27825.92</td>\n",
       "      <td>NaN</td>\n",
       "      <td>201.0</td>\n",
       "      <td>63</td>\n",
       "      <td>NaT</td>\n",
       "      <td>Чебоксары</td>\n",
       "      <td>Касьян</td>\n",
       "      <td>Авдюков</td>\n",
       "      <td>2018-05-23</td>\n",
       "      <td>ultra</td>\n",
       "      <td>1000</td>\n",
       "      <td>30720</td>\n",
       "      <td>3000</td>\n",
       "      <td>1950</td>\n",
       "      <td>150</td>\n",
       "      <td>1</td>\n",
       "      <td>1</td>\n",
       "      <td>30.0</td>\n",
       "      <td>28.0</td>\n",
       "    </tr>\n",
       "    <tr>\n",
       "      <th>396</th>\n",
       "      <td>1231</td>\n",
       "      <td>7.0</td>\n",
       "      <td>27695.83</td>\n",
       "      <td>NaN</td>\n",
       "      <td>211.0</td>\n",
       "      <td>63</td>\n",
       "      <td>NaT</td>\n",
       "      <td>Чебоксары</td>\n",
       "      <td>Касьян</td>\n",
       "      <td>Авдюков</td>\n",
       "      <td>2018-05-23</td>\n",
       "      <td>ultra</td>\n",
       "      <td>1000</td>\n",
       "      <td>30720</td>\n",
       "      <td>3000</td>\n",
       "      <td>1950</td>\n",
       "      <td>150</td>\n",
       "      <td>1</td>\n",
       "      <td>1</td>\n",
       "      <td>30.0</td>\n",
       "      <td>28.0</td>\n",
       "    </tr>\n",
       "    <tr>\n",
       "      <th>397</th>\n",
       "      <td>1231</td>\n",
       "      <td>8.0</td>\n",
       "      <td>32045.70</td>\n",
       "      <td>NaN</td>\n",
       "      <td>180.0</td>\n",
       "      <td>63</td>\n",
       "      <td>NaT</td>\n",
       "      <td>Чебоксары</td>\n",
       "      <td>Касьян</td>\n",
       "      <td>Авдюков</td>\n",
       "      <td>2018-05-23</td>\n",
       "      <td>ultra</td>\n",
       "      <td>1000</td>\n",
       "      <td>30720</td>\n",
       "      <td>3000</td>\n",
       "      <td>1950</td>\n",
       "      <td>150</td>\n",
       "      <td>1</td>\n",
       "      <td>1</td>\n",
       "      <td>30.0</td>\n",
       "      <td>32.0</td>\n",
       "    </tr>\n",
       "    <tr>\n",
       "      <th>398</th>\n",
       "      <td>1231</td>\n",
       "      <td>9.0</td>\n",
       "      <td>33189.47</td>\n",
       "      <td>NaN</td>\n",
       "      <td>188.0</td>\n",
       "      <td>63</td>\n",
       "      <td>NaT</td>\n",
       "      <td>Чебоксары</td>\n",
       "      <td>Касьян</td>\n",
       "      <td>Авдюков</td>\n",
       "      <td>2018-05-23</td>\n",
       "      <td>ultra</td>\n",
       "      <td>1000</td>\n",
       "      <td>30720</td>\n",
       "      <td>3000</td>\n",
       "      <td>1950</td>\n",
       "      <td>150</td>\n",
       "      <td>1</td>\n",
       "      <td>1</td>\n",
       "      <td>30.0</td>\n",
       "      <td>33.0</td>\n",
       "    </tr>\n",
       "    <tr>\n",
       "      <th>399</th>\n",
       "      <td>1231</td>\n",
       "      <td>10.0</td>\n",
       "      <td>31032.93</td>\n",
       "      <td>NaN</td>\n",
       "      <td>185.0</td>\n",
       "      <td>63</td>\n",
       "      <td>NaT</td>\n",
       "      <td>Чебоксары</td>\n",
       "      <td>Касьян</td>\n",
       "      <td>Авдюков</td>\n",
       "      <td>2018-05-23</td>\n",
       "      <td>ultra</td>\n",
       "      <td>1000</td>\n",
       "      <td>30720</td>\n",
       "      <td>3000</td>\n",
       "      <td>1950</td>\n",
       "      <td>150</td>\n",
       "      <td>1</td>\n",
       "      <td>1</td>\n",
       "      <td>30.0</td>\n",
       "      <td>31.0</td>\n",
       "    </tr>\n",
       "    <tr>\n",
       "      <th>400</th>\n",
       "      <td>1231</td>\n",
       "      <td>11.0</td>\n",
       "      <td>27431.63</td>\n",
       "      <td>NaN</td>\n",
       "      <td>173.0</td>\n",
       "      <td>63</td>\n",
       "      <td>NaT</td>\n",
       "      <td>Чебоксары</td>\n",
       "      <td>Касьян</td>\n",
       "      <td>Авдюков</td>\n",
       "      <td>2018-05-23</td>\n",
       "      <td>ultra</td>\n",
       "      <td>1000</td>\n",
       "      <td>30720</td>\n",
       "      <td>3000</td>\n",
       "      <td>1950</td>\n",
       "      <td>150</td>\n",
       "      <td>1</td>\n",
       "      <td>1</td>\n",
       "      <td>30.0</td>\n",
       "      <td>27.0</td>\n",
       "    </tr>\n",
       "    <tr>\n",
       "      <th>401</th>\n",
       "      <td>1231</td>\n",
       "      <td>12.0</td>\n",
       "      <td>32448.00</td>\n",
       "      <td>NaN</td>\n",
       "      <td>191.0</td>\n",
       "      <td>63</td>\n",
       "      <td>NaT</td>\n",
       "      <td>Чебоксары</td>\n",
       "      <td>Касьян</td>\n",
       "      <td>Авдюков</td>\n",
       "      <td>2018-05-23</td>\n",
       "      <td>ultra</td>\n",
       "      <td>1000</td>\n",
       "      <td>30720</td>\n",
       "      <td>3000</td>\n",
       "      <td>1950</td>\n",
       "      <td>150</td>\n",
       "      <td>1</td>\n",
       "      <td>1</td>\n",
       "      <td>30.0</td>\n",
       "      <td>32.0</td>\n",
       "    </tr>\n",
       "    <tr>\n",
       "      <th>567</th>\n",
       "      <td>1328</td>\n",
       "      <td>10.0</td>\n",
       "      <td>22427.98</td>\n",
       "      <td>NaN</td>\n",
       "      <td>6.0</td>\n",
       "      <td>44</td>\n",
       "      <td>NaT</td>\n",
       "      <td>Мурманск</td>\n",
       "      <td>Рауль</td>\n",
       "      <td>Аркадьев</td>\n",
       "      <td>2018-10-16</td>\n",
       "      <td>ultra</td>\n",
       "      <td>1000</td>\n",
       "      <td>30720</td>\n",
       "      <td>3000</td>\n",
       "      <td>1950</td>\n",
       "      <td>150</td>\n",
       "      <td>1</td>\n",
       "      <td>1</td>\n",
       "      <td>30.0</td>\n",
       "      <td>22.0</td>\n",
       "    </tr>\n",
       "    <tr>\n",
       "      <th>568</th>\n",
       "      <td>1328</td>\n",
       "      <td>11.0</td>\n",
       "      <td>35525.58</td>\n",
       "      <td>NaN</td>\n",
       "      <td>8.0</td>\n",
       "      <td>44</td>\n",
       "      <td>NaT</td>\n",
       "      <td>Мурманск</td>\n",
       "      <td>Рауль</td>\n",
       "      <td>Аркадьев</td>\n",
       "      <td>2018-10-16</td>\n",
       "      <td>ultra</td>\n",
       "      <td>1000</td>\n",
       "      <td>30720</td>\n",
       "      <td>3000</td>\n",
       "      <td>1950</td>\n",
       "      <td>150</td>\n",
       "      <td>1</td>\n",
       "      <td>1</td>\n",
       "      <td>30.0</td>\n",
       "      <td>35.0</td>\n",
       "    </tr>\n",
       "    <tr>\n",
       "      <th>569</th>\n",
       "      <td>1328</td>\n",
       "      <td>12.0</td>\n",
       "      <td>39419.73</td>\n",
       "      <td>NaN</td>\n",
       "      <td>7.0</td>\n",
       "      <td>44</td>\n",
       "      <td>NaT</td>\n",
       "      <td>Мурманск</td>\n",
       "      <td>Рауль</td>\n",
       "      <td>Аркадьев</td>\n",
       "      <td>2018-10-16</td>\n",
       "      <td>ultra</td>\n",
       "      <td>1000</td>\n",
       "      <td>30720</td>\n",
       "      <td>3000</td>\n",
       "      <td>1950</td>\n",
       "      <td>150</td>\n",
       "      <td>1</td>\n",
       "      <td>1</td>\n",
       "      <td>30.0</td>\n",
       "      <td>39.0</td>\n",
       "    </tr>\n",
       "    <tr>\n",
       "      <th>944</th>\n",
       "      <td>1473</td>\n",
       "      <td>8.0</td>\n",
       "      <td>12905.40</td>\n",
       "      <td>NaN</td>\n",
       "      <td>17.0</td>\n",
       "      <td>18</td>\n",
       "      <td>NaT</td>\n",
       "      <td>Красноярск</td>\n",
       "      <td>Николай</td>\n",
       "      <td>Лебедев</td>\n",
       "      <td>2018-08-05</td>\n",
       "      <td>ultra</td>\n",
       "      <td>1000</td>\n",
       "      <td>30720</td>\n",
       "      <td>3000</td>\n",
       "      <td>1950</td>\n",
       "      <td>150</td>\n",
       "      <td>1</td>\n",
       "      <td>1</td>\n",
       "      <td>30.0</td>\n",
       "      <td>13.0</td>\n",
       "    </tr>\n",
       "    <tr>\n",
       "      <th>945</th>\n",
       "      <td>1473</td>\n",
       "      <td>9.0</td>\n",
       "      <td>17289.85</td>\n",
       "      <td>NaN</td>\n",
       "      <td>19.0</td>\n",
       "      <td>18</td>\n",
       "      <td>NaT</td>\n",
       "      <td>Красноярск</td>\n",
       "      <td>Николай</td>\n",
       "      <td>Лебедев</td>\n",
       "      <td>2018-08-05</td>\n",
       "      <td>ultra</td>\n",
       "      <td>1000</td>\n",
       "      <td>30720</td>\n",
       "      <td>3000</td>\n",
       "      <td>1950</td>\n",
       "      <td>150</td>\n",
       "      <td>1</td>\n",
       "      <td>1</td>\n",
       "      <td>30.0</td>\n",
       "      <td>17.0</td>\n",
       "    </tr>\n",
       "    <tr>\n",
       "      <th>946</th>\n",
       "      <td>1473</td>\n",
       "      <td>10.0</td>\n",
       "      <td>13688.65</td>\n",
       "      <td>NaN</td>\n",
       "      <td>20.0</td>\n",
       "      <td>18</td>\n",
       "      <td>NaT</td>\n",
       "      <td>Красноярск</td>\n",
       "      <td>Николай</td>\n",
       "      <td>Лебедев</td>\n",
       "      <td>2018-08-05</td>\n",
       "      <td>ultra</td>\n",
       "      <td>1000</td>\n",
       "      <td>30720</td>\n",
       "      <td>3000</td>\n",
       "      <td>1950</td>\n",
       "      <td>150</td>\n",
       "      <td>1</td>\n",
       "      <td>1</td>\n",
       "      <td>30.0</td>\n",
       "      <td>14.0</td>\n",
       "    </tr>\n",
       "    <tr>\n",
       "      <th>947</th>\n",
       "      <td>1473</td>\n",
       "      <td>11.0</td>\n",
       "      <td>21673.80</td>\n",
       "      <td>NaN</td>\n",
       "      <td>14.0</td>\n",
       "      <td>18</td>\n",
       "      <td>NaT</td>\n",
       "      <td>Красноярск</td>\n",
       "      <td>Николай</td>\n",
       "      <td>Лебедев</td>\n",
       "      <td>2018-08-05</td>\n",
       "      <td>ultra</td>\n",
       "      <td>1000</td>\n",
       "      <td>30720</td>\n",
       "      <td>3000</td>\n",
       "      <td>1950</td>\n",
       "      <td>150</td>\n",
       "      <td>1</td>\n",
       "      <td>1</td>\n",
       "      <td>30.0</td>\n",
       "      <td>22.0</td>\n",
       "    </tr>\n",
       "    <tr>\n",
       "      <th>948</th>\n",
       "      <td>1473</td>\n",
       "      <td>12.0</td>\n",
       "      <td>18418.26</td>\n",
       "      <td>NaN</td>\n",
       "      <td>20.0</td>\n",
       "      <td>18</td>\n",
       "      <td>NaT</td>\n",
       "      <td>Красноярск</td>\n",
       "      <td>Николай</td>\n",
       "      <td>Лебедев</td>\n",
       "      <td>2018-08-05</td>\n",
       "      <td>ultra</td>\n",
       "      <td>1000</td>\n",
       "      <td>30720</td>\n",
       "      <td>3000</td>\n",
       "      <td>1950</td>\n",
       "      <td>150</td>\n",
       "      <td>1</td>\n",
       "      <td>1</td>\n",
       "      <td>30.0</td>\n",
       "      <td>18.0</td>\n",
       "    </tr>\n",
       "    <tr>\n",
       "      <th>951</th>\n",
       "      <td>1476</td>\n",
       "      <td>4.0</td>\n",
       "      <td>530.78</td>\n",
       "      <td>NaN</td>\n",
       "      <td>NaN</td>\n",
       "      <td>50</td>\n",
       "      <td>NaT</td>\n",
       "      <td>Москва</td>\n",
       "      <td>Валентина</td>\n",
       "      <td>Семенова</td>\n",
       "      <td>2018-04-30</td>\n",
       "      <td>ultra</td>\n",
       "      <td>1000</td>\n",
       "      <td>30720</td>\n",
       "      <td>3000</td>\n",
       "      <td>1950</td>\n",
       "      <td>150</td>\n",
       "      <td>1</td>\n",
       "      <td>1</td>\n",
       "      <td>30.0</td>\n",
       "      <td>1.0</td>\n",
       "    </tr>\n",
       "    <tr>\n",
       "      <th>985</th>\n",
       "      <td>1128</td>\n",
       "      <td>NaN</td>\n",
       "      <td>NaN</td>\n",
       "      <td>NaN</td>\n",
       "      <td>NaN</td>\n",
       "      <td>51</td>\n",
       "      <td>2018-12-23</td>\n",
       "      <td>Волжский</td>\n",
       "      <td>Ксения</td>\n",
       "      <td>Агаева</td>\n",
       "      <td>2018-12-15</td>\n",
       "      <td>ultra</td>\n",
       "      <td>1000</td>\n",
       "      <td>30720</td>\n",
       "      <td>3000</td>\n",
       "      <td>1950</td>\n",
       "      <td>150</td>\n",
       "      <td>1</td>\n",
       "      <td>1</td>\n",
       "      <td>30.0</td>\n",
       "      <td>NaN</td>\n",
       "    </tr>\n",
       "    <tr>\n",
       "      <th>2636</th>\n",
       "      <td>1373</td>\n",
       "      <td>6.0</td>\n",
       "      <td>12442.88</td>\n",
       "      <td>NaN</td>\n",
       "      <td>48.0</td>\n",
       "      <td>34</td>\n",
       "      <td>NaT</td>\n",
       "      <td>Улан-Удэ</td>\n",
       "      <td>Нелли</td>\n",
       "      <td>Афанасенко</td>\n",
       "      <td>2018-01-17</td>\n",
       "      <td>smart</td>\n",
       "      <td>50</td>\n",
       "      <td>15360</td>\n",
       "      <td>500</td>\n",
       "      <td>550</td>\n",
       "      <td>200</td>\n",
       "      <td>3</td>\n",
       "      <td>3</td>\n",
       "      <td>15.0</td>\n",
       "      <td>13.0</td>\n",
       "    </tr>\n",
       "    <tr>\n",
       "      <th>3166</th>\n",
       "      <td>1489</td>\n",
       "      <td>8.0</td>\n",
       "      <td>11050.56</td>\n",
       "      <td>NaN</td>\n",
       "      <td>17.0</td>\n",
       "      <td>35</td>\n",
       "      <td>NaT</td>\n",
       "      <td>Санкт-Петербург</td>\n",
       "      <td>Павел</td>\n",
       "      <td>Гончаров</td>\n",
       "      <td>2018-08-15</td>\n",
       "      <td>smart</td>\n",
       "      <td>50</td>\n",
       "      <td>15360</td>\n",
       "      <td>500</td>\n",
       "      <td>550</td>\n",
       "      <td>200</td>\n",
       "      <td>3</td>\n",
       "      <td>3</td>\n",
       "      <td>15.0</td>\n",
       "      <td>11.0</td>\n",
       "    </tr>\n",
       "    <tr>\n",
       "      <th>3167</th>\n",
       "      <td>1489</td>\n",
       "      <td>9.0</td>\n",
       "      <td>17206.30</td>\n",
       "      <td>NaN</td>\n",
       "      <td>32.0</td>\n",
       "      <td>35</td>\n",
       "      <td>NaT</td>\n",
       "      <td>Санкт-Петербург</td>\n",
       "      <td>Павел</td>\n",
       "      <td>Гончаров</td>\n",
       "      <td>2018-08-15</td>\n",
       "      <td>smart</td>\n",
       "      <td>50</td>\n",
       "      <td>15360</td>\n",
       "      <td>500</td>\n",
       "      <td>550</td>\n",
       "      <td>200</td>\n",
       "      <td>3</td>\n",
       "      <td>3</td>\n",
       "      <td>15.0</td>\n",
       "      <td>17.0</td>\n",
       "    </tr>\n",
       "    <tr>\n",
       "      <th>3168</th>\n",
       "      <td>1489</td>\n",
       "      <td>10.0</td>\n",
       "      <td>19559.44</td>\n",
       "      <td>NaN</td>\n",
       "      <td>21.0</td>\n",
       "      <td>35</td>\n",
       "      <td>NaT</td>\n",
       "      <td>Санкт-Петербург</td>\n",
       "      <td>Павел</td>\n",
       "      <td>Гончаров</td>\n",
       "      <td>2018-08-15</td>\n",
       "      <td>smart</td>\n",
       "      <td>50</td>\n",
       "      <td>15360</td>\n",
       "      <td>500</td>\n",
       "      <td>550</td>\n",
       "      <td>200</td>\n",
       "      <td>3</td>\n",
       "      <td>3</td>\n",
       "      <td>15.0</td>\n",
       "      <td>20.0</td>\n",
       "    </tr>\n",
       "    <tr>\n",
       "      <th>3169</th>\n",
       "      <td>1489</td>\n",
       "      <td>11.0</td>\n",
       "      <td>17491.56</td>\n",
       "      <td>NaN</td>\n",
       "      <td>20.0</td>\n",
       "      <td>35</td>\n",
       "      <td>NaT</td>\n",
       "      <td>Санкт-Петербург</td>\n",
       "      <td>Павел</td>\n",
       "      <td>Гончаров</td>\n",
       "      <td>2018-08-15</td>\n",
       "      <td>smart</td>\n",
       "      <td>50</td>\n",
       "      <td>15360</td>\n",
       "      <td>500</td>\n",
       "      <td>550</td>\n",
       "      <td>200</td>\n",
       "      <td>3</td>\n",
       "      <td>3</td>\n",
       "      <td>15.0</td>\n",
       "      <td>18.0</td>\n",
       "    </tr>\n",
       "    <tr>\n",
       "      <th>3170</th>\n",
       "      <td>1489</td>\n",
       "      <td>12.0</td>\n",
       "      <td>17322.51</td>\n",
       "      <td>NaN</td>\n",
       "      <td>35.0</td>\n",
       "      <td>35</td>\n",
       "      <td>NaT</td>\n",
       "      <td>Санкт-Петербург</td>\n",
       "      <td>Павел</td>\n",
       "      <td>Гончаров</td>\n",
       "      <td>2018-08-15</td>\n",
       "      <td>smart</td>\n",
       "      <td>50</td>\n",
       "      <td>15360</td>\n",
       "      <td>500</td>\n",
       "      <td>550</td>\n",
       "      <td>200</td>\n",
       "      <td>3</td>\n",
       "      <td>3</td>\n",
       "      <td>15.0</td>\n",
       "      <td>17.0</td>\n",
       "    </tr>\n",
       "    <tr>\n",
       "      <th>3215</th>\n",
       "      <td>1371</td>\n",
       "      <td>NaN</td>\n",
       "      <td>NaN</td>\n",
       "      <td>NaN</td>\n",
       "      <td>NaN</td>\n",
       "      <td>50</td>\n",
       "      <td>2018-12-30</td>\n",
       "      <td>Омск</td>\n",
       "      <td>Ириней</td>\n",
       "      <td>Трофимов</td>\n",
       "      <td>2018-12-25</td>\n",
       "      <td>smart</td>\n",
       "      <td>50</td>\n",
       "      <td>15360</td>\n",
       "      <td>500</td>\n",
       "      <td>550</td>\n",
       "      <td>200</td>\n",
       "      <td>3</td>\n",
       "      <td>3</td>\n",
       "      <td>15.0</td>\n",
       "      <td>NaN</td>\n",
       "    </tr>\n",
       "  </tbody>\n",
       "</table>\n",
       "</div>"
      ],
      "text/plain": [
       "      user_id  month   mb_used  min_used  messages  age churn_date  \\\n",
       "151      1091    5.0  10703.37       NaN      30.0   36        NaT   \n",
       "152      1091    6.0  10236.19       NaN      30.0   36        NaT   \n",
       "153      1091    7.0  16444.98       NaN      35.0   36        NaT   \n",
       "154      1091    8.0  12633.88       NaN      31.0   36        NaT   \n",
       "155      1091    9.0  16597.11       NaN      32.0   36        NaT   \n",
       "156      1091   10.0  15644.73       NaN      44.0   36        NaT   \n",
       "157      1091   11.0  11864.25       NaN      28.0   36        NaT   \n",
       "158      1091   12.0  13280.45       NaN      42.0   36        NaT   \n",
       "204      1106    4.0   2923.49       NaN       9.0   67        NaT   \n",
       "205      1106    5.0  16573.01       NaN      28.0   67        NaT   \n",
       "206      1106    6.0  20016.74       NaN      30.0   67        NaT   \n",
       "207      1106    7.0  21626.86       NaN      24.0   67        NaT   \n",
       "208      1106    8.0  19088.67       NaN      25.0   67        NaT   \n",
       "209      1106    9.0  21934.03       NaN      23.0   67        NaT   \n",
       "210      1106   10.0  14010.32       NaN      33.0   67        NaT   \n",
       "211      1106   11.0  21289.27       NaN      29.0   67        NaT   \n",
       "212      1106   12.0  18701.51       NaN      24.0   67        NaT   \n",
       "394      1231    5.0  10858.89       NaN      55.0   63        NaT   \n",
       "395      1231    6.0  27825.92       NaN     201.0   63        NaT   \n",
       "396      1231    7.0  27695.83       NaN     211.0   63        NaT   \n",
       "397      1231    8.0  32045.70       NaN     180.0   63        NaT   \n",
       "398      1231    9.0  33189.47       NaN     188.0   63        NaT   \n",
       "399      1231   10.0  31032.93       NaN     185.0   63        NaT   \n",
       "400      1231   11.0  27431.63       NaN     173.0   63        NaT   \n",
       "401      1231   12.0  32448.00       NaN     191.0   63        NaT   \n",
       "567      1328   10.0  22427.98       NaN       6.0   44        NaT   \n",
       "568      1328   11.0  35525.58       NaN       8.0   44        NaT   \n",
       "569      1328   12.0  39419.73       NaN       7.0   44        NaT   \n",
       "944      1473    8.0  12905.40       NaN      17.0   18        NaT   \n",
       "945      1473    9.0  17289.85       NaN      19.0   18        NaT   \n",
       "946      1473   10.0  13688.65       NaN      20.0   18        NaT   \n",
       "947      1473   11.0  21673.80       NaN      14.0   18        NaT   \n",
       "948      1473   12.0  18418.26       NaN      20.0   18        NaT   \n",
       "951      1476    4.0    530.78       NaN       NaN   50        NaT   \n",
       "985      1128    NaN       NaN       NaN       NaN   51 2018-12-23   \n",
       "2636     1373    6.0  12442.88       NaN      48.0   34        NaT   \n",
       "3166     1489    8.0  11050.56       NaN      17.0   35        NaT   \n",
       "3167     1489    9.0  17206.30       NaN      32.0   35        NaT   \n",
       "3168     1489   10.0  19559.44       NaN      21.0   35        NaT   \n",
       "3169     1489   11.0  17491.56       NaN      20.0   35        NaT   \n",
       "3170     1489   12.0  17322.51       NaN      35.0   35        NaT   \n",
       "3215     1371    NaN       NaN       NaN       NaN   50 2018-12-30   \n",
       "\n",
       "                  city first_name   last_name   reg_date tariff  \\\n",
       "151   Набережные Челны       Вера     Суслова 2018-05-08  ultra   \n",
       "152   Набережные Челны       Вера     Суслова 2018-05-08  ultra   \n",
       "153   Набережные Челны       Вера     Суслова 2018-05-08  ultra   \n",
       "154   Набережные Челны       Вера     Суслова 2018-05-08  ultra   \n",
       "155   Набережные Челны       Вера     Суслова 2018-05-08  ultra   \n",
       "156   Набережные Челны       Вера     Суслова 2018-05-08  ultra   \n",
       "157   Набережные Челны       Вера     Суслова 2018-05-08  ultra   \n",
       "158   Набережные Челны       Вера     Суслова 2018-05-08  ultra   \n",
       "204             Калуга      Исаак      Костин 2018-04-26  ultra   \n",
       "205             Калуга      Исаак      Костин 2018-04-26  ultra   \n",
       "206             Калуга      Исаак      Костин 2018-04-26  ultra   \n",
       "207             Калуга      Исаак      Костин 2018-04-26  ultra   \n",
       "208             Калуга      Исаак      Костин 2018-04-26  ultra   \n",
       "209             Калуга      Исаак      Костин 2018-04-26  ultra   \n",
       "210             Калуга      Исаак      Костин 2018-04-26  ultra   \n",
       "211             Калуга      Исаак      Костин 2018-04-26  ultra   \n",
       "212             Калуга      Исаак      Костин 2018-04-26  ultra   \n",
       "394          Чебоксары     Касьян     Авдюков 2018-05-23  ultra   \n",
       "395          Чебоксары     Касьян     Авдюков 2018-05-23  ultra   \n",
       "396          Чебоксары     Касьян     Авдюков 2018-05-23  ultra   \n",
       "397          Чебоксары     Касьян     Авдюков 2018-05-23  ultra   \n",
       "398          Чебоксары     Касьян     Авдюков 2018-05-23  ultra   \n",
       "399          Чебоксары     Касьян     Авдюков 2018-05-23  ultra   \n",
       "400          Чебоксары     Касьян     Авдюков 2018-05-23  ultra   \n",
       "401          Чебоксары     Касьян     Авдюков 2018-05-23  ultra   \n",
       "567           Мурманск      Рауль    Аркадьев 2018-10-16  ultra   \n",
       "568           Мурманск      Рауль    Аркадьев 2018-10-16  ultra   \n",
       "569           Мурманск      Рауль    Аркадьев 2018-10-16  ultra   \n",
       "944         Красноярск    Николай     Лебедев 2018-08-05  ultra   \n",
       "945         Красноярск    Николай     Лебедев 2018-08-05  ultra   \n",
       "946         Красноярск    Николай     Лебедев 2018-08-05  ultra   \n",
       "947         Красноярск    Николай     Лебедев 2018-08-05  ultra   \n",
       "948         Красноярск    Николай     Лебедев 2018-08-05  ultra   \n",
       "951             Москва  Валентина    Семенова 2018-04-30  ultra   \n",
       "985           Волжский     Ксения      Агаева 2018-12-15  ultra   \n",
       "2636          Улан-Удэ      Нелли  Афанасенко 2018-01-17  smart   \n",
       "3166   Санкт-Петербург      Павел    Гончаров 2018-08-15  smart   \n",
       "3167   Санкт-Петербург      Павел    Гончаров 2018-08-15  smart   \n",
       "3168   Санкт-Петербург      Павел    Гончаров 2018-08-15  smart   \n",
       "3169   Санкт-Петербург      Павел    Гончаров 2018-08-15  smart   \n",
       "3170   Санкт-Петербург      Павел    Гончаров 2018-08-15  smart   \n",
       "3215              Омск     Ириней    Трофимов 2018-12-25  smart   \n",
       "\n",
       "      messages_included  mb_per_month_included  minutes_included  \\\n",
       "151                1000                  30720              3000   \n",
       "152                1000                  30720              3000   \n",
       "153                1000                  30720              3000   \n",
       "154                1000                  30720              3000   \n",
       "155                1000                  30720              3000   \n",
       "156                1000                  30720              3000   \n",
       "157                1000                  30720              3000   \n",
       "158                1000                  30720              3000   \n",
       "204                1000                  30720              3000   \n",
       "205                1000                  30720              3000   \n",
       "206                1000                  30720              3000   \n",
       "207                1000                  30720              3000   \n",
       "208                1000                  30720              3000   \n",
       "209                1000                  30720              3000   \n",
       "210                1000                  30720              3000   \n",
       "211                1000                  30720              3000   \n",
       "212                1000                  30720              3000   \n",
       "394                1000                  30720              3000   \n",
       "395                1000                  30720              3000   \n",
       "396                1000                  30720              3000   \n",
       "397                1000                  30720              3000   \n",
       "398                1000                  30720              3000   \n",
       "399                1000                  30720              3000   \n",
       "400                1000                  30720              3000   \n",
       "401                1000                  30720              3000   \n",
       "567                1000                  30720              3000   \n",
       "568                1000                  30720              3000   \n",
       "569                1000                  30720              3000   \n",
       "944                1000                  30720              3000   \n",
       "945                1000                  30720              3000   \n",
       "946                1000                  30720              3000   \n",
       "947                1000                  30720              3000   \n",
       "948                1000                  30720              3000   \n",
       "951                1000                  30720              3000   \n",
       "985                1000                  30720              3000   \n",
       "2636                 50                  15360               500   \n",
       "3166                 50                  15360               500   \n",
       "3167                 50                  15360               500   \n",
       "3168                 50                  15360               500   \n",
       "3169                 50                  15360               500   \n",
       "3170                 50                  15360               500   \n",
       "3215                 50                  15360               500   \n",
       "\n",
       "      rub_monthly_fee  rub_per_gb  rub_per_message  rub_per_minute  \\\n",
       "151              1950         150                1               1   \n",
       "152              1950         150                1               1   \n",
       "153              1950         150                1               1   \n",
       "154              1950         150                1               1   \n",
       "155              1950         150                1               1   \n",
       "156              1950         150                1               1   \n",
       "157              1950         150                1               1   \n",
       "158              1950         150                1               1   \n",
       "204              1950         150                1               1   \n",
       "205              1950         150                1               1   \n",
       "206              1950         150                1               1   \n",
       "207              1950         150                1               1   \n",
       "208              1950         150                1               1   \n",
       "209              1950         150                1               1   \n",
       "210              1950         150                1               1   \n",
       "211              1950         150                1               1   \n",
       "212              1950         150                1               1   \n",
       "394              1950         150                1               1   \n",
       "395              1950         150                1               1   \n",
       "396              1950         150                1               1   \n",
       "397              1950         150                1               1   \n",
       "398              1950         150                1               1   \n",
       "399              1950         150                1               1   \n",
       "400              1950         150                1               1   \n",
       "401              1950         150                1               1   \n",
       "567              1950         150                1               1   \n",
       "568              1950         150                1               1   \n",
       "569              1950         150                1               1   \n",
       "944              1950         150                1               1   \n",
       "945              1950         150                1               1   \n",
       "946              1950         150                1               1   \n",
       "947              1950         150                1               1   \n",
       "948              1950         150                1               1   \n",
       "951              1950         150                1               1   \n",
       "985              1950         150                1               1   \n",
       "2636              550         200                3               3   \n",
       "3166              550         200                3               3   \n",
       "3167              550         200                3               3   \n",
       "3168              550         200                3               3   \n",
       "3169              550         200                3               3   \n",
       "3170              550         200                3               3   \n",
       "3215              550         200                3               3   \n",
       "\n",
       "      gb_per_month_included  gb_used  \n",
       "151                    30.0     11.0  \n",
       "152                    30.0     10.0  \n",
       "153                    30.0     17.0  \n",
       "154                    30.0     13.0  \n",
       "155                    30.0     17.0  \n",
       "156                    30.0     16.0  \n",
       "157                    30.0     12.0  \n",
       "158                    30.0     13.0  \n",
       "204                    30.0      3.0  \n",
       "205                    30.0     17.0  \n",
       "206                    30.0     20.0  \n",
       "207                    30.0     22.0  \n",
       "208                    30.0     19.0  \n",
       "209                    30.0     22.0  \n",
       "210                    30.0     14.0  \n",
       "211                    30.0     21.0  \n",
       "212                    30.0     19.0  \n",
       "394                    30.0     11.0  \n",
       "395                    30.0     28.0  \n",
       "396                    30.0     28.0  \n",
       "397                    30.0     32.0  \n",
       "398                    30.0     33.0  \n",
       "399                    30.0     31.0  \n",
       "400                    30.0     27.0  \n",
       "401                    30.0     32.0  \n",
       "567                    30.0     22.0  \n",
       "568                    30.0     35.0  \n",
       "569                    30.0     39.0  \n",
       "944                    30.0     13.0  \n",
       "945                    30.0     17.0  \n",
       "946                    30.0     14.0  \n",
       "947                    30.0     22.0  \n",
       "948                    30.0     18.0  \n",
       "951                    30.0      1.0  \n",
       "985                    30.0      NaN  \n",
       "2636                   15.0     13.0  \n",
       "3166                   15.0     11.0  \n",
       "3167                   15.0     17.0  \n",
       "3168                   15.0     20.0  \n",
       "3169                   15.0     18.0  \n",
       "3170                   15.0     17.0  \n",
       "3215                   15.0      NaN  "
      ]
     },
     "metadata": {},
     "output_type": "display_data"
    },
    {
     "data": {
      "text/html": [
       "<div>\n",
       "<style scoped>\n",
       "    .dataframe tbody tr th:only-of-type {\n",
       "        vertical-align: middle;\n",
       "    }\n",
       "\n",
       "    .dataframe tbody tr th {\n",
       "        vertical-align: top;\n",
       "    }\n",
       "\n",
       "    .dataframe thead th {\n",
       "        text-align: right;\n",
       "    }\n",
       "</style>\n",
       "<table border=\"1\" class=\"dataframe\">\n",
       "  <thead>\n",
       "    <tr style=\"text-align: right;\">\n",
       "      <th></th>\n",
       "      <th>user_id</th>\n",
       "      <th>month</th>\n",
       "      <th>mb_used</th>\n",
       "      <th>min_used</th>\n",
       "      <th>messages</th>\n",
       "      <th>age</th>\n",
       "      <th>churn_date</th>\n",
       "      <th>city</th>\n",
       "      <th>first_name</th>\n",
       "      <th>last_name</th>\n",
       "      <th>reg_date</th>\n",
       "      <th>tariff</th>\n",
       "      <th>messages_included</th>\n",
       "      <th>mb_per_month_included</th>\n",
       "      <th>minutes_included</th>\n",
       "      <th>rub_monthly_fee</th>\n",
       "      <th>rub_per_gb</th>\n",
       "      <th>rub_per_message</th>\n",
       "      <th>rub_per_minute</th>\n",
       "      <th>gb_per_month_included</th>\n",
       "      <th>gb_used</th>\n",
       "    </tr>\n",
       "  </thead>\n",
       "  <tbody>\n",
       "    <tr>\n",
       "      <th>49</th>\n",
       "      <td>1024</td>\n",
       "      <td>10.0</td>\n",
       "      <td>3310.05</td>\n",
       "      <td>79.0</td>\n",
       "      <td>NaN</td>\n",
       "      <td>73</td>\n",
       "      <td>NaT</td>\n",
       "      <td>Санкт-Петербург</td>\n",
       "      <td>Иулиан</td>\n",
       "      <td>Антипов</td>\n",
       "      <td>2018-10-31</td>\n",
       "      <td>ultra</td>\n",
       "      <td>1000</td>\n",
       "      <td>30720</td>\n",
       "      <td>3000</td>\n",
       "      <td>1950</td>\n",
       "      <td>150</td>\n",
       "      <td>1</td>\n",
       "      <td>1</td>\n",
       "      <td>30.0</td>\n",
       "      <td>4.0</td>\n",
       "    </tr>\n",
       "    <tr>\n",
       "      <th>50</th>\n",
       "      <td>1024</td>\n",
       "      <td>11.0</td>\n",
       "      <td>43107.47</td>\n",
       "      <td>1146.0</td>\n",
       "      <td>NaN</td>\n",
       "      <td>73</td>\n",
       "      <td>NaT</td>\n",
       "      <td>Санкт-Петербург</td>\n",
       "      <td>Иулиан</td>\n",
       "      <td>Антипов</td>\n",
       "      <td>2018-10-31</td>\n",
       "      <td>ultra</td>\n",
       "      <td>1000</td>\n",
       "      <td>30720</td>\n",
       "      <td>3000</td>\n",
       "      <td>1950</td>\n",
       "      <td>150</td>\n",
       "      <td>1</td>\n",
       "      <td>1</td>\n",
       "      <td>30.0</td>\n",
       "      <td>43.0</td>\n",
       "    </tr>\n",
       "    <tr>\n",
       "      <th>51</th>\n",
       "      <td>1024</td>\n",
       "      <td>12.0</td>\n",
       "      <td>35948.13</td>\n",
       "      <td>949.0</td>\n",
       "      <td>NaN</td>\n",
       "      <td>73</td>\n",
       "      <td>NaT</td>\n",
       "      <td>Санкт-Петербург</td>\n",
       "      <td>Иулиан</td>\n",
       "      <td>Антипов</td>\n",
       "      <td>2018-10-31</td>\n",
       "      <td>ultra</td>\n",
       "      <td>1000</td>\n",
       "      <td>30720</td>\n",
       "      <td>3000</td>\n",
       "      <td>1950</td>\n",
       "      <td>150</td>\n",
       "      <td>1</td>\n",
       "      <td>1</td>\n",
       "      <td>30.0</td>\n",
       "      <td>36.0</td>\n",
       "    </tr>\n",
       "    <tr>\n",
       "      <th>67</th>\n",
       "      <td>1049</td>\n",
       "      <td>3.0</td>\n",
       "      <td>6195.54</td>\n",
       "      <td>403.0</td>\n",
       "      <td>NaN</td>\n",
       "      <td>41</td>\n",
       "      <td>NaT</td>\n",
       "      <td>Москва</td>\n",
       "      <td>Габриель</td>\n",
       "      <td>Ларин</td>\n",
       "      <td>2018-03-10</td>\n",
       "      <td>ultra</td>\n",
       "      <td>1000</td>\n",
       "      <td>30720</td>\n",
       "      <td>3000</td>\n",
       "      <td>1950</td>\n",
       "      <td>150</td>\n",
       "      <td>1</td>\n",
       "      <td>1</td>\n",
       "      <td>30.0</td>\n",
       "      <td>7.0</td>\n",
       "    </tr>\n",
       "    <tr>\n",
       "      <th>68</th>\n",
       "      <td>1049</td>\n",
       "      <td>4.0</td>\n",
       "      <td>5291.10</td>\n",
       "      <td>528.0</td>\n",
       "      <td>NaN</td>\n",
       "      <td>41</td>\n",
       "      <td>NaT</td>\n",
       "      <td>Москва</td>\n",
       "      <td>Габриель</td>\n",
       "      <td>Ларин</td>\n",
       "      <td>2018-03-10</td>\n",
       "      <td>ultra</td>\n",
       "      <td>1000</td>\n",
       "      <td>30720</td>\n",
       "      <td>3000</td>\n",
       "      <td>1950</td>\n",
       "      <td>150</td>\n",
       "      <td>1</td>\n",
       "      <td>1</td>\n",
       "      <td>30.0</td>\n",
       "      <td>6.0</td>\n",
       "    </tr>\n",
       "    <tr>\n",
       "      <th>...</th>\n",
       "      <td>...</td>\n",
       "      <td>...</td>\n",
       "      <td>...</td>\n",
       "      <td>...</td>\n",
       "      <td>...</td>\n",
       "      <td>...</td>\n",
       "      <td>...</td>\n",
       "      <td>...</td>\n",
       "      <td>...</td>\n",
       "      <td>...</td>\n",
       "      <td>...</td>\n",
       "      <td>...</td>\n",
       "      <td>...</td>\n",
       "      <td>...</td>\n",
       "      <td>...</td>\n",
       "      <td>...</td>\n",
       "      <td>...</td>\n",
       "      <td>...</td>\n",
       "      <td>...</td>\n",
       "      <td>...</td>\n",
       "      <td>...</td>\n",
       "    </tr>\n",
       "    <tr>\n",
       "      <th>3188</th>\n",
       "      <td>1494</td>\n",
       "      <td>9.0</td>\n",
       "      <td>16962.51</td>\n",
       "      <td>501.0</td>\n",
       "      <td>NaN</td>\n",
       "      <td>62</td>\n",
       "      <td>NaT</td>\n",
       "      <td>Омск</td>\n",
       "      <td>Ренат</td>\n",
       "      <td>Андропов</td>\n",
       "      <td>2018-08-17</td>\n",
       "      <td>smart</td>\n",
       "      <td>50</td>\n",
       "      <td>15360</td>\n",
       "      <td>500</td>\n",
       "      <td>550</td>\n",
       "      <td>200</td>\n",
       "      <td>3</td>\n",
       "      <td>3</td>\n",
       "      <td>15.0</td>\n",
       "      <td>17.0</td>\n",
       "    </tr>\n",
       "    <tr>\n",
       "      <th>3189</th>\n",
       "      <td>1494</td>\n",
       "      <td>10.0</td>\n",
       "      <td>17767.24</td>\n",
       "      <td>354.0</td>\n",
       "      <td>NaN</td>\n",
       "      <td>62</td>\n",
       "      <td>NaT</td>\n",
       "      <td>Омск</td>\n",
       "      <td>Ренат</td>\n",
       "      <td>Андропов</td>\n",
       "      <td>2018-08-17</td>\n",
       "      <td>smart</td>\n",
       "      <td>50</td>\n",
       "      <td>15360</td>\n",
       "      <td>500</td>\n",
       "      <td>550</td>\n",
       "      <td>200</td>\n",
       "      <td>3</td>\n",
       "      <td>3</td>\n",
       "      <td>15.0</td>\n",
       "      <td>18.0</td>\n",
       "    </tr>\n",
       "    <tr>\n",
       "      <th>3190</th>\n",
       "      <td>1494</td>\n",
       "      <td>11.0</td>\n",
       "      <td>18052.45</td>\n",
       "      <td>411.0</td>\n",
       "      <td>NaN</td>\n",
       "      <td>62</td>\n",
       "      <td>NaT</td>\n",
       "      <td>Омск</td>\n",
       "      <td>Ренат</td>\n",
       "      <td>Андропов</td>\n",
       "      <td>2018-08-17</td>\n",
       "      <td>smart</td>\n",
       "      <td>50</td>\n",
       "      <td>15360</td>\n",
       "      <td>500</td>\n",
       "      <td>550</td>\n",
       "      <td>200</td>\n",
       "      <td>3</td>\n",
       "      <td>3</td>\n",
       "      <td>15.0</td>\n",
       "      <td>18.0</td>\n",
       "    </tr>\n",
       "    <tr>\n",
       "      <th>3191</th>\n",
       "      <td>1494</td>\n",
       "      <td>12.0</td>\n",
       "      <td>17621.21</td>\n",
       "      <td>418.0</td>\n",
       "      <td>NaN</td>\n",
       "      <td>62</td>\n",
       "      <td>NaT</td>\n",
       "      <td>Омск</td>\n",
       "      <td>Ренат</td>\n",
       "      <td>Андропов</td>\n",
       "      <td>2018-08-17</td>\n",
       "      <td>smart</td>\n",
       "      <td>50</td>\n",
       "      <td>15360</td>\n",
       "      <td>500</td>\n",
       "      <td>550</td>\n",
       "      <td>200</td>\n",
       "      <td>3</td>\n",
       "      <td>3</td>\n",
       "      <td>15.0</td>\n",
       "      <td>18.0</td>\n",
       "    </tr>\n",
       "    <tr>\n",
       "      <th>3215</th>\n",
       "      <td>1371</td>\n",
       "      <td>NaN</td>\n",
       "      <td>NaN</td>\n",
       "      <td>NaN</td>\n",
       "      <td>NaN</td>\n",
       "      <td>50</td>\n",
       "      <td>2018-12-30</td>\n",
       "      <td>Омск</td>\n",
       "      <td>Ириней</td>\n",
       "      <td>Трофимов</td>\n",
       "      <td>2018-12-25</td>\n",
       "      <td>smart</td>\n",
       "      <td>50</td>\n",
       "      <td>15360</td>\n",
       "      <td>500</td>\n",
       "      <td>550</td>\n",
       "      <td>200</td>\n",
       "      <td>3</td>\n",
       "      <td>3</td>\n",
       "      <td>15.0</td>\n",
       "      <td>NaN</td>\n",
       "    </tr>\n",
       "  </tbody>\n",
       "</table>\n",
       "<p>499 rows × 21 columns</p>\n",
       "</div>"
      ],
      "text/plain": [
       "      user_id  month   mb_used  min_used  messages  age churn_date  \\\n",
       "49       1024   10.0   3310.05      79.0       NaN   73        NaT   \n",
       "50       1024   11.0  43107.47    1146.0       NaN   73        NaT   \n",
       "51       1024   12.0  35948.13     949.0       NaN   73        NaT   \n",
       "67       1049    3.0   6195.54     403.0       NaN   41        NaT   \n",
       "68       1049    4.0   5291.10     528.0       NaN   41        NaT   \n",
       "...       ...    ...       ...       ...       ...  ...        ...   \n",
       "3188     1494    9.0  16962.51     501.0       NaN   62        NaT   \n",
       "3189     1494   10.0  17767.24     354.0       NaN   62        NaT   \n",
       "3190     1494   11.0  18052.45     411.0       NaN   62        NaT   \n",
       "3191     1494   12.0  17621.21     418.0       NaN   62        NaT   \n",
       "3215     1371    NaN       NaN       NaN       NaN   50 2018-12-30   \n",
       "\n",
       "                 city first_name last_name   reg_date tariff  \\\n",
       "49    Санкт-Петербург     Иулиан   Антипов 2018-10-31  ultra   \n",
       "50    Санкт-Петербург     Иулиан   Антипов 2018-10-31  ultra   \n",
       "51    Санкт-Петербург     Иулиан   Антипов 2018-10-31  ultra   \n",
       "67             Москва   Габриель     Ларин 2018-03-10  ultra   \n",
       "68             Москва   Габриель     Ларин 2018-03-10  ultra   \n",
       "...               ...        ...       ...        ...    ...   \n",
       "3188             Омск      Ренат  Андропов 2018-08-17  smart   \n",
       "3189             Омск      Ренат  Андропов 2018-08-17  smart   \n",
       "3190             Омск      Ренат  Андропов 2018-08-17  smart   \n",
       "3191             Омск      Ренат  Андропов 2018-08-17  smart   \n",
       "3215             Омск     Ириней  Трофимов 2018-12-25  smart   \n",
       "\n",
       "      messages_included  mb_per_month_included  minutes_included  \\\n",
       "49                 1000                  30720              3000   \n",
       "50                 1000                  30720              3000   \n",
       "51                 1000                  30720              3000   \n",
       "67                 1000                  30720              3000   \n",
       "68                 1000                  30720              3000   \n",
       "...                 ...                    ...               ...   \n",
       "3188                 50                  15360               500   \n",
       "3189                 50                  15360               500   \n",
       "3190                 50                  15360               500   \n",
       "3191                 50                  15360               500   \n",
       "3215                 50                  15360               500   \n",
       "\n",
       "      rub_monthly_fee  rub_per_gb  rub_per_message  rub_per_minute  \\\n",
       "49               1950         150                1               1   \n",
       "50               1950         150                1               1   \n",
       "51               1950         150                1               1   \n",
       "67               1950         150                1               1   \n",
       "68               1950         150                1               1   \n",
       "...               ...         ...              ...             ...   \n",
       "3188              550         200                3               3   \n",
       "3189              550         200                3               3   \n",
       "3190              550         200                3               3   \n",
       "3191              550         200                3               3   \n",
       "3215              550         200                3               3   \n",
       "\n",
       "      gb_per_month_included  gb_used  \n",
       "49                     30.0      4.0  \n",
       "50                     30.0     43.0  \n",
       "51                     30.0     36.0  \n",
       "67                     30.0      7.0  \n",
       "68                     30.0      6.0  \n",
       "...                     ...      ...  \n",
       "3188                   15.0     17.0  \n",
       "3189                   15.0     18.0  \n",
       "3190                   15.0     18.0  \n",
       "3191                   15.0     18.0  \n",
       "3215                   15.0      NaN  \n",
       "\n",
       "[499 rows x 21 columns]"
      ]
     },
     "metadata": {},
     "output_type": "display_data"
    },
    {
     "data": {
      "text/html": [
       "<div>\n",
       "<style scoped>\n",
       "    .dataframe tbody tr th:only-of-type {\n",
       "        vertical-align: middle;\n",
       "    }\n",
       "\n",
       "    .dataframe tbody tr th {\n",
       "        vertical-align: top;\n",
       "    }\n",
       "\n",
       "    .dataframe thead th {\n",
       "        text-align: right;\n",
       "    }\n",
       "</style>\n",
       "<table border=\"1\" class=\"dataframe\">\n",
       "  <thead>\n",
       "    <tr style=\"text-align: right;\">\n",
       "      <th></th>\n",
       "      <th>user_id</th>\n",
       "      <th>month</th>\n",
       "      <th>mb_used</th>\n",
       "      <th>min_used</th>\n",
       "      <th>messages</th>\n",
       "      <th>age</th>\n",
       "      <th>churn_date</th>\n",
       "      <th>city</th>\n",
       "      <th>first_name</th>\n",
       "      <th>last_name</th>\n",
       "      <th>reg_date</th>\n",
       "      <th>tariff</th>\n",
       "      <th>messages_included</th>\n",
       "      <th>mb_per_month_included</th>\n",
       "      <th>minutes_included</th>\n",
       "      <th>rub_monthly_fee</th>\n",
       "      <th>rub_per_gb</th>\n",
       "      <th>rub_per_message</th>\n",
       "      <th>rub_per_minute</th>\n",
       "      <th>gb_per_month_included</th>\n",
       "      <th>gb_used</th>\n",
       "    </tr>\n",
       "  </thead>\n",
       "  <tbody>\n",
       "    <tr>\n",
       "      <th>715</th>\n",
       "      <td>1377</td>\n",
       "      <td>2.0</td>\n",
       "      <td>NaN</td>\n",
       "      <td>179.0</td>\n",
       "      <td>2.0</td>\n",
       "      <td>59</td>\n",
       "      <td>NaT</td>\n",
       "      <td>Брянск</td>\n",
       "      <td>Альфред</td>\n",
       "      <td>Семин</td>\n",
       "      <td>2018-02-25</td>\n",
       "      <td>ultra</td>\n",
       "      <td>1000</td>\n",
       "      <td>30720</td>\n",
       "      <td>3000</td>\n",
       "      <td>1950</td>\n",
       "      <td>150</td>\n",
       "      <td>1</td>\n",
       "      <td>1</td>\n",
       "      <td>30.0</td>\n",
       "      <td>NaN</td>\n",
       "    </tr>\n",
       "    <tr>\n",
       "      <th>778</th>\n",
       "      <td>1392</td>\n",
       "      <td>2.0</td>\n",
       "      <td>NaN</td>\n",
       "      <td>13.0</td>\n",
       "      <td>3.0</td>\n",
       "      <td>54</td>\n",
       "      <td>2018-09-27</td>\n",
       "      <td>Челябинск</td>\n",
       "      <td>Алла</td>\n",
       "      <td>Беликова</td>\n",
       "      <td>2018-02-27</td>\n",
       "      <td>ultra</td>\n",
       "      <td>1000</td>\n",
       "      <td>30720</td>\n",
       "      <td>3000</td>\n",
       "      <td>1950</td>\n",
       "      <td>150</td>\n",
       "      <td>1</td>\n",
       "      <td>1</td>\n",
       "      <td>30.0</td>\n",
       "      <td>NaN</td>\n",
       "    </tr>\n",
       "    <tr>\n",
       "      <th>977</th>\n",
       "      <td>1273</td>\n",
       "      <td>5.0</td>\n",
       "      <td>NaN</td>\n",
       "      <td>220.0</td>\n",
       "      <td>21.0</td>\n",
       "      <td>46</td>\n",
       "      <td>NaT</td>\n",
       "      <td>Курган</td>\n",
       "      <td>Рэм</td>\n",
       "      <td>Корнилов</td>\n",
       "      <td>2018-05-15</td>\n",
       "      <td>ultra</td>\n",
       "      <td>1000</td>\n",
       "      <td>30720</td>\n",
       "      <td>3000</td>\n",
       "      <td>1950</td>\n",
       "      <td>150</td>\n",
       "      <td>1</td>\n",
       "      <td>1</td>\n",
       "      <td>30.0</td>\n",
       "      <td>NaN</td>\n",
       "    </tr>\n",
       "    <tr>\n",
       "      <th>978</th>\n",
       "      <td>1273</td>\n",
       "      <td>6.0</td>\n",
       "      <td>NaN</td>\n",
       "      <td>230.0</td>\n",
       "      <td>38.0</td>\n",
       "      <td>46</td>\n",
       "      <td>NaT</td>\n",
       "      <td>Курган</td>\n",
       "      <td>Рэм</td>\n",
       "      <td>Корнилов</td>\n",
       "      <td>2018-05-15</td>\n",
       "      <td>ultra</td>\n",
       "      <td>1000</td>\n",
       "      <td>30720</td>\n",
       "      <td>3000</td>\n",
       "      <td>1950</td>\n",
       "      <td>150</td>\n",
       "      <td>1</td>\n",
       "      <td>1</td>\n",
       "      <td>30.0</td>\n",
       "      <td>NaN</td>\n",
       "    </tr>\n",
       "    <tr>\n",
       "      <th>979</th>\n",
       "      <td>1273</td>\n",
       "      <td>7.0</td>\n",
       "      <td>NaN</td>\n",
       "      <td>253.0</td>\n",
       "      <td>37.0</td>\n",
       "      <td>46</td>\n",
       "      <td>NaT</td>\n",
       "      <td>Курган</td>\n",
       "      <td>Рэм</td>\n",
       "      <td>Корнилов</td>\n",
       "      <td>2018-05-15</td>\n",
       "      <td>ultra</td>\n",
       "      <td>1000</td>\n",
       "      <td>30720</td>\n",
       "      <td>3000</td>\n",
       "      <td>1950</td>\n",
       "      <td>150</td>\n",
       "      <td>1</td>\n",
       "      <td>1</td>\n",
       "      <td>30.0</td>\n",
       "      <td>NaN</td>\n",
       "    </tr>\n",
       "    <tr>\n",
       "      <th>980</th>\n",
       "      <td>1273</td>\n",
       "      <td>8.0</td>\n",
       "      <td>NaN</td>\n",
       "      <td>253.0</td>\n",
       "      <td>41.0</td>\n",
       "      <td>46</td>\n",
       "      <td>NaT</td>\n",
       "      <td>Курган</td>\n",
       "      <td>Рэм</td>\n",
       "      <td>Корнилов</td>\n",
       "      <td>2018-05-15</td>\n",
       "      <td>ultra</td>\n",
       "      <td>1000</td>\n",
       "      <td>30720</td>\n",
       "      <td>3000</td>\n",
       "      <td>1950</td>\n",
       "      <td>150</td>\n",
       "      <td>1</td>\n",
       "      <td>1</td>\n",
       "      <td>30.0</td>\n",
       "      <td>NaN</td>\n",
       "    </tr>\n",
       "    <tr>\n",
       "      <th>981</th>\n",
       "      <td>1273</td>\n",
       "      <td>9.0</td>\n",
       "      <td>NaN</td>\n",
       "      <td>223.0</td>\n",
       "      <td>32.0</td>\n",
       "      <td>46</td>\n",
       "      <td>NaT</td>\n",
       "      <td>Курган</td>\n",
       "      <td>Рэм</td>\n",
       "      <td>Корнилов</td>\n",
       "      <td>2018-05-15</td>\n",
       "      <td>ultra</td>\n",
       "      <td>1000</td>\n",
       "      <td>30720</td>\n",
       "      <td>3000</td>\n",
       "      <td>1950</td>\n",
       "      <td>150</td>\n",
       "      <td>1</td>\n",
       "      <td>1</td>\n",
       "      <td>30.0</td>\n",
       "      <td>NaN</td>\n",
       "    </tr>\n",
       "    <tr>\n",
       "      <th>982</th>\n",
       "      <td>1273</td>\n",
       "      <td>10.0</td>\n",
       "      <td>NaN</td>\n",
       "      <td>315.0</td>\n",
       "      <td>35.0</td>\n",
       "      <td>46</td>\n",
       "      <td>NaT</td>\n",
       "      <td>Курган</td>\n",
       "      <td>Рэм</td>\n",
       "      <td>Корнилов</td>\n",
       "      <td>2018-05-15</td>\n",
       "      <td>ultra</td>\n",
       "      <td>1000</td>\n",
       "      <td>30720</td>\n",
       "      <td>3000</td>\n",
       "      <td>1950</td>\n",
       "      <td>150</td>\n",
       "      <td>1</td>\n",
       "      <td>1</td>\n",
       "      <td>30.0</td>\n",
       "      <td>NaN</td>\n",
       "    </tr>\n",
       "    <tr>\n",
       "      <th>983</th>\n",
       "      <td>1273</td>\n",
       "      <td>11.0</td>\n",
       "      <td>NaN</td>\n",
       "      <td>272.0</td>\n",
       "      <td>29.0</td>\n",
       "      <td>46</td>\n",
       "      <td>NaT</td>\n",
       "      <td>Курган</td>\n",
       "      <td>Рэм</td>\n",
       "      <td>Корнилов</td>\n",
       "      <td>2018-05-15</td>\n",
       "      <td>ultra</td>\n",
       "      <td>1000</td>\n",
       "      <td>30720</td>\n",
       "      <td>3000</td>\n",
       "      <td>1950</td>\n",
       "      <td>150</td>\n",
       "      <td>1</td>\n",
       "      <td>1</td>\n",
       "      <td>30.0</td>\n",
       "      <td>NaN</td>\n",
       "    </tr>\n",
       "    <tr>\n",
       "      <th>984</th>\n",
       "      <td>1273</td>\n",
       "      <td>12.0</td>\n",
       "      <td>NaN</td>\n",
       "      <td>260.0</td>\n",
       "      <td>39.0</td>\n",
       "      <td>46</td>\n",
       "      <td>NaT</td>\n",
       "      <td>Курган</td>\n",
       "      <td>Рэм</td>\n",
       "      <td>Корнилов</td>\n",
       "      <td>2018-05-15</td>\n",
       "      <td>ultra</td>\n",
       "      <td>1000</td>\n",
       "      <td>30720</td>\n",
       "      <td>3000</td>\n",
       "      <td>1950</td>\n",
       "      <td>150</td>\n",
       "      <td>1</td>\n",
       "      <td>1</td>\n",
       "      <td>30.0</td>\n",
       "      <td>NaN</td>\n",
       "    </tr>\n",
       "    <tr>\n",
       "      <th>985</th>\n",
       "      <td>1128</td>\n",
       "      <td>NaN</td>\n",
       "      <td>NaN</td>\n",
       "      <td>NaN</td>\n",
       "      <td>NaN</td>\n",
       "      <td>51</td>\n",
       "      <td>2018-12-23</td>\n",
       "      <td>Волжский</td>\n",
       "      <td>Ксения</td>\n",
       "      <td>Агаева</td>\n",
       "      <td>2018-12-15</td>\n",
       "      <td>ultra</td>\n",
       "      <td>1000</td>\n",
       "      <td>30720</td>\n",
       "      <td>3000</td>\n",
       "      <td>1950</td>\n",
       "      <td>150</td>\n",
       "      <td>1</td>\n",
       "      <td>1</td>\n",
       "      <td>30.0</td>\n",
       "      <td>NaN</td>\n",
       "    </tr>\n",
       "    <tr>\n",
       "      <th>2970</th>\n",
       "      <td>1446</td>\n",
       "      <td>8.0</td>\n",
       "      <td>NaN</td>\n",
       "      <td>50.0</td>\n",
       "      <td>1.0</td>\n",
       "      <td>64</td>\n",
       "      <td>NaT</td>\n",
       "      <td>Липецк</td>\n",
       "      <td>Антонина</td>\n",
       "      <td>Артемчук</td>\n",
       "      <td>2018-08-31</td>\n",
       "      <td>smart</td>\n",
       "      <td>50</td>\n",
       "      <td>15360</td>\n",
       "      <td>500</td>\n",
       "      <td>550</td>\n",
       "      <td>200</td>\n",
       "      <td>3</td>\n",
       "      <td>3</td>\n",
       "      <td>15.0</td>\n",
       "      <td>NaN</td>\n",
       "    </tr>\n",
       "    <tr>\n",
       "      <th>3215</th>\n",
       "      <td>1371</td>\n",
       "      <td>NaN</td>\n",
       "      <td>NaN</td>\n",
       "      <td>NaN</td>\n",
       "      <td>NaN</td>\n",
       "      <td>50</td>\n",
       "      <td>2018-12-30</td>\n",
       "      <td>Омск</td>\n",
       "      <td>Ириней</td>\n",
       "      <td>Трофимов</td>\n",
       "      <td>2018-12-25</td>\n",
       "      <td>smart</td>\n",
       "      <td>50</td>\n",
       "      <td>15360</td>\n",
       "      <td>500</td>\n",
       "      <td>550</td>\n",
       "      <td>200</td>\n",
       "      <td>3</td>\n",
       "      <td>3</td>\n",
       "      <td>15.0</td>\n",
       "      <td>NaN</td>\n",
       "    </tr>\n",
       "  </tbody>\n",
       "</table>\n",
       "</div>"
      ],
      "text/plain": [
       "      user_id  month  mb_used  min_used  messages  age churn_date       city  \\\n",
       "715      1377    2.0      NaN     179.0       2.0   59        NaT     Брянск   \n",
       "778      1392    2.0      NaN      13.0       3.0   54 2018-09-27  Челябинск   \n",
       "977      1273    5.0      NaN     220.0      21.0   46        NaT     Курган   \n",
       "978      1273    6.0      NaN     230.0      38.0   46        NaT     Курган   \n",
       "979      1273    7.0      NaN     253.0      37.0   46        NaT     Курган   \n",
       "980      1273    8.0      NaN     253.0      41.0   46        NaT     Курган   \n",
       "981      1273    9.0      NaN     223.0      32.0   46        NaT     Курган   \n",
       "982      1273   10.0      NaN     315.0      35.0   46        NaT     Курган   \n",
       "983      1273   11.0      NaN     272.0      29.0   46        NaT     Курган   \n",
       "984      1273   12.0      NaN     260.0      39.0   46        NaT     Курган   \n",
       "985      1128    NaN      NaN       NaN       NaN   51 2018-12-23   Волжский   \n",
       "2970     1446    8.0      NaN      50.0       1.0   64        NaT     Липецк   \n",
       "3215     1371    NaN      NaN       NaN       NaN   50 2018-12-30       Омск   \n",
       "\n",
       "     first_name last_name   reg_date tariff  messages_included  \\\n",
       "715     Альфред     Семин 2018-02-25  ultra               1000   \n",
       "778        Алла  Беликова 2018-02-27  ultra               1000   \n",
       "977         Рэм  Корнилов 2018-05-15  ultra               1000   \n",
       "978         Рэм  Корнилов 2018-05-15  ultra               1000   \n",
       "979         Рэм  Корнилов 2018-05-15  ultra               1000   \n",
       "980         Рэм  Корнилов 2018-05-15  ultra               1000   \n",
       "981         Рэм  Корнилов 2018-05-15  ultra               1000   \n",
       "982         Рэм  Корнилов 2018-05-15  ultra               1000   \n",
       "983         Рэм  Корнилов 2018-05-15  ultra               1000   \n",
       "984         Рэм  Корнилов 2018-05-15  ultra               1000   \n",
       "985      Ксения    Агаева 2018-12-15  ultra               1000   \n",
       "2970   Антонина  Артемчук 2018-08-31  smart                 50   \n",
       "3215     Ириней  Трофимов 2018-12-25  smart                 50   \n",
       "\n",
       "      mb_per_month_included  minutes_included  rub_monthly_fee  rub_per_gb  \\\n",
       "715                   30720              3000             1950         150   \n",
       "778                   30720              3000             1950         150   \n",
       "977                   30720              3000             1950         150   \n",
       "978                   30720              3000             1950         150   \n",
       "979                   30720              3000             1950         150   \n",
       "980                   30720              3000             1950         150   \n",
       "981                   30720              3000             1950         150   \n",
       "982                   30720              3000             1950         150   \n",
       "983                   30720              3000             1950         150   \n",
       "984                   30720              3000             1950         150   \n",
       "985                   30720              3000             1950         150   \n",
       "2970                  15360               500              550         200   \n",
       "3215                  15360               500              550         200   \n",
       "\n",
       "      rub_per_message  rub_per_minute  gb_per_month_included  gb_used  \n",
       "715                 1               1                   30.0      NaN  \n",
       "778                 1               1                   30.0      NaN  \n",
       "977                 1               1                   30.0      NaN  \n",
       "978                 1               1                   30.0      NaN  \n",
       "979                 1               1                   30.0      NaN  \n",
       "980                 1               1                   30.0      NaN  \n",
       "981                 1               1                   30.0      NaN  \n",
       "982                 1               1                   30.0      NaN  \n",
       "983                 1               1                   30.0      NaN  \n",
       "984                 1               1                   30.0      NaN  \n",
       "985                 1               1                   30.0      NaN  \n",
       "2970                3               3                   15.0      NaN  \n",
       "3215                3               3                   15.0      NaN  "
      ]
     },
     "metadata": {},
     "output_type": "display_data"
    }
   ],
   "source": [
    "display(\n",
    "    df_merged.query('month.isna()'),\n",
    "    df_merged.query('mb_used.isna()'),\n",
    "    df_merged.query('min_used.isna()'),\n",
    "    df_merged.query('messages.isna()'),\n",
    "    df_merged.query('gb_used.isna()'))"
   ]
  },
  {
   "cell_type": "markdown",
   "metadata": {},
   "source": [
    "<div class=\"alert alert-block alert-info\"> Пропуски в столбце месяц изза того, что дата регистрации стоит после даты отмены тарифа. Просто дропнем эти две строки.\n",
    "Пропуски в столбцах mb_used, messages, min_used и gb_used похоже стоят у тех абонентов, кто вообще не пользовался данной услугой, можно их заменить на 0.</div>"
   ]
  },
  {
   "cell_type": "code",
   "execution_count": 35,
   "metadata": {},
   "outputs": [
    {
     "data": {
      "text/html": [
       "<div>\n",
       "<style scoped>\n",
       "    .dataframe tbody tr th:only-of-type {\n",
       "        vertical-align: middle;\n",
       "    }\n",
       "\n",
       "    .dataframe tbody tr th {\n",
       "        vertical-align: top;\n",
       "    }\n",
       "\n",
       "    .dataframe thead th {\n",
       "        text-align: right;\n",
       "    }\n",
       "</style>\n",
       "<table border=\"1\" class=\"dataframe\">\n",
       "  <thead>\n",
       "    <tr style=\"text-align: right;\">\n",
       "      <th></th>\n",
       "      <th>user_id</th>\n",
       "      <th>month</th>\n",
       "      <th>mb_used</th>\n",
       "      <th>min_used</th>\n",
       "      <th>messages</th>\n",
       "      <th>age</th>\n",
       "      <th>churn_date</th>\n",
       "      <th>city</th>\n",
       "      <th>first_name</th>\n",
       "      <th>last_name</th>\n",
       "      <th>reg_date</th>\n",
       "      <th>tariff</th>\n",
       "      <th>messages_included</th>\n",
       "      <th>mb_per_month_included</th>\n",
       "      <th>minutes_included</th>\n",
       "      <th>rub_monthly_fee</th>\n",
       "      <th>rub_per_gb</th>\n",
       "      <th>rub_per_message</th>\n",
       "      <th>rub_per_minute</th>\n",
       "      <th>gb_per_month_included</th>\n",
       "      <th>gb_used</th>\n",
       "    </tr>\n",
       "  </thead>\n",
       "  <tbody>\n",
       "  </tbody>\n",
       "</table>\n",
       "</div>"
      ],
      "text/plain": [
       "Empty DataFrame\n",
       "Columns: [user_id, month, mb_used, min_used, messages, age, churn_date, city, first_name, last_name, reg_date, tariff, messages_included, mb_per_month_included, minutes_included, rub_monthly_fee, rub_per_gb, rub_per_message, rub_per_minute, gb_per_month_included, gb_used]\n",
       "Index: []"
      ]
     },
     "execution_count": 35,
     "metadata": {},
     "output_type": "execute_result"
    }
   ],
   "source": [
    "df_merged.query('messages == 0')"
   ]
  },
  {
   "cell_type": "markdown",
   "metadata": {},
   "source": [
    "<div class=\"alert alert-block alert-info\"> Так и есть, например в столбце messages вообще нет строк где messages = 0.</div>"
   ]
  },
  {
   "cell_type": "code",
   "execution_count": 36,
   "metadata": {},
   "outputs": [],
   "source": [
    "df_merged = df_merged.dropna(subset=['month']).reset_index(drop=True)"
   ]
  },
  {
   "cell_type": "code",
   "execution_count": 37,
   "metadata": {
    "scrolled": true
   },
   "outputs": [
    {
     "data": {
      "text/html": [
       "<div>\n",
       "<style scoped>\n",
       "    .dataframe tbody tr th:only-of-type {\n",
       "        vertical-align: middle;\n",
       "    }\n",
       "\n",
       "    .dataframe tbody tr th {\n",
       "        vertical-align: top;\n",
       "    }\n",
       "\n",
       "    .dataframe thead th {\n",
       "        text-align: right;\n",
       "    }\n",
       "</style>\n",
       "<table border=\"1\" class=\"dataframe\">\n",
       "  <thead>\n",
       "    <tr style=\"text-align: right;\">\n",
       "      <th></th>\n",
       "      <th>user_id</th>\n",
       "      <th>month</th>\n",
       "      <th>mb_used</th>\n",
       "      <th>min_used</th>\n",
       "      <th>messages</th>\n",
       "      <th>age</th>\n",
       "      <th>churn_date</th>\n",
       "      <th>city</th>\n",
       "      <th>first_name</th>\n",
       "      <th>last_name</th>\n",
       "      <th>reg_date</th>\n",
       "      <th>tariff</th>\n",
       "      <th>messages_included</th>\n",
       "      <th>mb_per_month_included</th>\n",
       "      <th>minutes_included</th>\n",
       "      <th>rub_monthly_fee</th>\n",
       "      <th>rub_per_gb</th>\n",
       "      <th>rub_per_message</th>\n",
       "      <th>rub_per_minute</th>\n",
       "      <th>gb_per_month_included</th>\n",
       "      <th>gb_used</th>\n",
       "    </tr>\n",
       "  </thead>\n",
       "  <tbody>\n",
       "    <tr>\n",
       "      <th>0</th>\n",
       "      <td>1000</td>\n",
       "      <td>5.0</td>\n",
       "      <td>2253.49</td>\n",
       "      <td>159.0</td>\n",
       "      <td>22.0</td>\n",
       "      <td>52</td>\n",
       "      <td>NaT</td>\n",
       "      <td>Краснодар</td>\n",
       "      <td>Рафаил</td>\n",
       "      <td>Верещагин</td>\n",
       "      <td>2018-05-25</td>\n",
       "      <td>ultra</td>\n",
       "      <td>1000</td>\n",
       "      <td>30720</td>\n",
       "      <td>3000</td>\n",
       "      <td>1950</td>\n",
       "      <td>150</td>\n",
       "      <td>1</td>\n",
       "      <td>1</td>\n",
       "      <td>30.0</td>\n",
       "      <td>3.0</td>\n",
       "    </tr>\n",
       "    <tr>\n",
       "      <th>1</th>\n",
       "      <td>1000</td>\n",
       "      <td>6.0</td>\n",
       "      <td>23233.77</td>\n",
       "      <td>172.0</td>\n",
       "      <td>60.0</td>\n",
       "      <td>52</td>\n",
       "      <td>NaT</td>\n",
       "      <td>Краснодар</td>\n",
       "      <td>Рафаил</td>\n",
       "      <td>Верещагин</td>\n",
       "      <td>2018-05-25</td>\n",
       "      <td>ultra</td>\n",
       "      <td>1000</td>\n",
       "      <td>30720</td>\n",
       "      <td>3000</td>\n",
       "      <td>1950</td>\n",
       "      <td>150</td>\n",
       "      <td>1</td>\n",
       "      <td>1</td>\n",
       "      <td>30.0</td>\n",
       "      <td>23.0</td>\n",
       "    </tr>\n",
       "    <tr>\n",
       "      <th>2</th>\n",
       "      <td>1000</td>\n",
       "      <td>7.0</td>\n",
       "      <td>14003.64</td>\n",
       "      <td>340.0</td>\n",
       "      <td>75.0</td>\n",
       "      <td>52</td>\n",
       "      <td>NaT</td>\n",
       "      <td>Краснодар</td>\n",
       "      <td>Рафаил</td>\n",
       "      <td>Верещагин</td>\n",
       "      <td>2018-05-25</td>\n",
       "      <td>ultra</td>\n",
       "      <td>1000</td>\n",
       "      <td>30720</td>\n",
       "      <td>3000</td>\n",
       "      <td>1950</td>\n",
       "      <td>150</td>\n",
       "      <td>1</td>\n",
       "      <td>1</td>\n",
       "      <td>30.0</td>\n",
       "      <td>14.0</td>\n",
       "    </tr>\n",
       "    <tr>\n",
       "      <th>3</th>\n",
       "      <td>1000</td>\n",
       "      <td>8.0</td>\n",
       "      <td>14055.93</td>\n",
       "      <td>408.0</td>\n",
       "      <td>81.0</td>\n",
       "      <td>52</td>\n",
       "      <td>NaT</td>\n",
       "      <td>Краснодар</td>\n",
       "      <td>Рафаил</td>\n",
       "      <td>Верещагин</td>\n",
       "      <td>2018-05-25</td>\n",
       "      <td>ultra</td>\n",
       "      <td>1000</td>\n",
       "      <td>30720</td>\n",
       "      <td>3000</td>\n",
       "      <td>1950</td>\n",
       "      <td>150</td>\n",
       "      <td>1</td>\n",
       "      <td>1</td>\n",
       "      <td>30.0</td>\n",
       "      <td>14.0</td>\n",
       "    </tr>\n",
       "    <tr>\n",
       "      <th>4</th>\n",
       "      <td>1000</td>\n",
       "      <td>9.0</td>\n",
       "      <td>14568.91</td>\n",
       "      <td>466.0</td>\n",
       "      <td>57.0</td>\n",
       "      <td>52</td>\n",
       "      <td>NaT</td>\n",
       "      <td>Краснодар</td>\n",
       "      <td>Рафаил</td>\n",
       "      <td>Верещагин</td>\n",
       "      <td>2018-05-25</td>\n",
       "      <td>ultra</td>\n",
       "      <td>1000</td>\n",
       "      <td>30720</td>\n",
       "      <td>3000</td>\n",
       "      <td>1950</td>\n",
       "      <td>150</td>\n",
       "      <td>1</td>\n",
       "      <td>1</td>\n",
       "      <td>30.0</td>\n",
       "      <td>15.0</td>\n",
       "    </tr>\n",
       "    <tr>\n",
       "      <th>...</th>\n",
       "      <td>...</td>\n",
       "      <td>...</td>\n",
       "      <td>...</td>\n",
       "      <td>...</td>\n",
       "      <td>...</td>\n",
       "      <td>...</td>\n",
       "      <td>...</td>\n",
       "      <td>...</td>\n",
       "      <td>...</td>\n",
       "      <td>...</td>\n",
       "      <td>...</td>\n",
       "      <td>...</td>\n",
       "      <td>...</td>\n",
       "      <td>...</td>\n",
       "      <td>...</td>\n",
       "      <td>...</td>\n",
       "      <td>...</td>\n",
       "      <td>...</td>\n",
       "      <td>...</td>\n",
       "      <td>...</td>\n",
       "      <td>...</td>\n",
       "    </tr>\n",
       "    <tr>\n",
       "      <th>3209</th>\n",
       "      <td>1498</td>\n",
       "      <td>10.0</td>\n",
       "      <td>20579.36</td>\n",
       "      <td>247.0</td>\n",
       "      <td>42.0</td>\n",
       "      <td>68</td>\n",
       "      <td>2018-10-25</td>\n",
       "      <td>Владикавказ</td>\n",
       "      <td>Всеволод</td>\n",
       "      <td>Акимчин</td>\n",
       "      <td>2018-07-19</td>\n",
       "      <td>smart</td>\n",
       "      <td>50</td>\n",
       "      <td>15360</td>\n",
       "      <td>500</td>\n",
       "      <td>550</td>\n",
       "      <td>200</td>\n",
       "      <td>3</td>\n",
       "      <td>3</td>\n",
       "      <td>15.0</td>\n",
       "      <td>21.0</td>\n",
       "    </tr>\n",
       "    <tr>\n",
       "      <th>3210</th>\n",
       "      <td>1499</td>\n",
       "      <td>9.0</td>\n",
       "      <td>1845.75</td>\n",
       "      <td>70.0</td>\n",
       "      <td>11.0</td>\n",
       "      <td>35</td>\n",
       "      <td>NaT</td>\n",
       "      <td>Пермь</td>\n",
       "      <td>Гектор</td>\n",
       "      <td>Корнилов</td>\n",
       "      <td>2018-09-27</td>\n",
       "      <td>smart</td>\n",
       "      <td>50</td>\n",
       "      <td>15360</td>\n",
       "      <td>500</td>\n",
       "      <td>550</td>\n",
       "      <td>200</td>\n",
       "      <td>3</td>\n",
       "      <td>3</td>\n",
       "      <td>15.0</td>\n",
       "      <td>2.0</td>\n",
       "    </tr>\n",
       "    <tr>\n",
       "      <th>3211</th>\n",
       "      <td>1499</td>\n",
       "      <td>10.0</td>\n",
       "      <td>17788.51</td>\n",
       "      <td>449.0</td>\n",
       "      <td>48.0</td>\n",
       "      <td>35</td>\n",
       "      <td>NaT</td>\n",
       "      <td>Пермь</td>\n",
       "      <td>Гектор</td>\n",
       "      <td>Корнилов</td>\n",
       "      <td>2018-09-27</td>\n",
       "      <td>smart</td>\n",
       "      <td>50</td>\n",
       "      <td>15360</td>\n",
       "      <td>500</td>\n",
       "      <td>550</td>\n",
       "      <td>200</td>\n",
       "      <td>3</td>\n",
       "      <td>3</td>\n",
       "      <td>15.0</td>\n",
       "      <td>18.0</td>\n",
       "    </tr>\n",
       "    <tr>\n",
       "      <th>3212</th>\n",
       "      <td>1499</td>\n",
       "      <td>11.0</td>\n",
       "      <td>17963.31</td>\n",
       "      <td>612.0</td>\n",
       "      <td>59.0</td>\n",
       "      <td>35</td>\n",
       "      <td>NaT</td>\n",
       "      <td>Пермь</td>\n",
       "      <td>Гектор</td>\n",
       "      <td>Корнилов</td>\n",
       "      <td>2018-09-27</td>\n",
       "      <td>smart</td>\n",
       "      <td>50</td>\n",
       "      <td>15360</td>\n",
       "      <td>500</td>\n",
       "      <td>550</td>\n",
       "      <td>200</td>\n",
       "      <td>3</td>\n",
       "      <td>3</td>\n",
       "      <td>15.0</td>\n",
       "      <td>18.0</td>\n",
       "    </tr>\n",
       "    <tr>\n",
       "      <th>3213</th>\n",
       "      <td>1499</td>\n",
       "      <td>12.0</td>\n",
       "      <td>13055.58</td>\n",
       "      <td>492.0</td>\n",
       "      <td>66.0</td>\n",
       "      <td>35</td>\n",
       "      <td>NaT</td>\n",
       "      <td>Пермь</td>\n",
       "      <td>Гектор</td>\n",
       "      <td>Корнилов</td>\n",
       "      <td>2018-09-27</td>\n",
       "      <td>smart</td>\n",
       "      <td>50</td>\n",
       "      <td>15360</td>\n",
       "      <td>500</td>\n",
       "      <td>550</td>\n",
       "      <td>200</td>\n",
       "      <td>3</td>\n",
       "      <td>3</td>\n",
       "      <td>15.0</td>\n",
       "      <td>13.0</td>\n",
       "    </tr>\n",
       "  </tbody>\n",
       "</table>\n",
       "<p>3214 rows × 21 columns</p>\n",
       "</div>"
      ],
      "text/plain": [
       "      user_id  month   mb_used  min_used  messages  age churn_date  \\\n",
       "0        1000    5.0   2253.49     159.0      22.0   52        NaT   \n",
       "1        1000    6.0  23233.77     172.0      60.0   52        NaT   \n",
       "2        1000    7.0  14003.64     340.0      75.0   52        NaT   \n",
       "3        1000    8.0  14055.93     408.0      81.0   52        NaT   \n",
       "4        1000    9.0  14568.91     466.0      57.0   52        NaT   \n",
       "...       ...    ...       ...       ...       ...  ...        ...   \n",
       "3209     1498   10.0  20579.36     247.0      42.0   68 2018-10-25   \n",
       "3210     1499    9.0   1845.75      70.0      11.0   35        NaT   \n",
       "3211     1499   10.0  17788.51     449.0      48.0   35        NaT   \n",
       "3212     1499   11.0  17963.31     612.0      59.0   35        NaT   \n",
       "3213     1499   12.0  13055.58     492.0      66.0   35        NaT   \n",
       "\n",
       "             city first_name  last_name   reg_date tariff  messages_included  \\\n",
       "0       Краснодар     Рафаил  Верещагин 2018-05-25  ultra               1000   \n",
       "1       Краснодар     Рафаил  Верещагин 2018-05-25  ultra               1000   \n",
       "2       Краснодар     Рафаил  Верещагин 2018-05-25  ultra               1000   \n",
       "3       Краснодар     Рафаил  Верещагин 2018-05-25  ultra               1000   \n",
       "4       Краснодар     Рафаил  Верещагин 2018-05-25  ultra               1000   \n",
       "...           ...        ...        ...        ...    ...                ...   \n",
       "3209  Владикавказ   Всеволод    Акимчин 2018-07-19  smart                 50   \n",
       "3210        Пермь     Гектор   Корнилов 2018-09-27  smart                 50   \n",
       "3211        Пермь     Гектор   Корнилов 2018-09-27  smart                 50   \n",
       "3212        Пермь     Гектор   Корнилов 2018-09-27  smart                 50   \n",
       "3213        Пермь     Гектор   Корнилов 2018-09-27  smart                 50   \n",
       "\n",
       "      mb_per_month_included  minutes_included  rub_monthly_fee  rub_per_gb  \\\n",
       "0                     30720              3000             1950         150   \n",
       "1                     30720              3000             1950         150   \n",
       "2                     30720              3000             1950         150   \n",
       "3                     30720              3000             1950         150   \n",
       "4                     30720              3000             1950         150   \n",
       "...                     ...               ...              ...         ...   \n",
       "3209                  15360               500              550         200   \n",
       "3210                  15360               500              550         200   \n",
       "3211                  15360               500              550         200   \n",
       "3212                  15360               500              550         200   \n",
       "3213                  15360               500              550         200   \n",
       "\n",
       "      rub_per_message  rub_per_minute  gb_per_month_included  gb_used  \n",
       "0                   1               1                   30.0      3.0  \n",
       "1                   1               1                   30.0     23.0  \n",
       "2                   1               1                   30.0     14.0  \n",
       "3                   1               1                   30.0     14.0  \n",
       "4                   1               1                   30.0     15.0  \n",
       "...               ...             ...                    ...      ...  \n",
       "3209                3               3                   15.0     21.0  \n",
       "3210                3               3                   15.0      2.0  \n",
       "3211                3               3                   15.0     18.0  \n",
       "3212                3               3                   15.0     18.0  \n",
       "3213                3               3                   15.0     13.0  \n",
       "\n",
       "[3214 rows x 21 columns]"
      ]
     },
     "execution_count": 37,
     "metadata": {},
     "output_type": "execute_result"
    }
   ],
   "source": [
    "df_merged.loc[df_merged['mb_used'].isna(), 'mb_used'] = 0\n",
    "df_merged.loc[df_merged['min_used'].isna(), 'min_used'] = 0\n",
    "df_merged.loc[df_merged['messages'].isna(), 'messages'] = 0\n",
    "df_merged.loc[df_merged['gb_used'].isna(), 'gb_used'] = 0\n",
    "df_merged"
   ]
  },
  {
   "cell_type": "code",
   "execution_count": 38,
   "metadata": {},
   "outputs": [
    {
     "data": {
      "text/plain": [
       "user_id                     0\n",
       "month                       0\n",
       "mb_used                     0\n",
       "min_used                    0\n",
       "messages                    0\n",
       "age                         0\n",
       "churn_date               3027\n",
       "city                        0\n",
       "first_name                  0\n",
       "last_name                   0\n",
       "reg_date                    0\n",
       "tariff                      0\n",
       "messages_included           0\n",
       "mb_per_month_included       0\n",
       "minutes_included            0\n",
       "rub_monthly_fee             0\n",
       "rub_per_gb                  0\n",
       "rub_per_message             0\n",
       "rub_per_minute              0\n",
       "gb_per_month_included       0\n",
       "gb_used                     0\n",
       "dtype: int64"
      ]
     },
     "execution_count": 38,
     "metadata": {},
     "output_type": "execute_result"
    }
   ],
   "source": [
    "df_merged.isna().sum()"
   ]
  },
  {
   "cell_type": "code",
   "execution_count": 39,
   "metadata": {
    "scrolled": true
   },
   "outputs": [
    {
     "data": {
      "text/html": [
       "<div>\n",
       "<style scoped>\n",
       "    .dataframe tbody tr th:only-of-type {\n",
       "        vertical-align: middle;\n",
       "    }\n",
       "\n",
       "    .dataframe tbody tr th {\n",
       "        vertical-align: top;\n",
       "    }\n",
       "\n",
       "    .dataframe thead th {\n",
       "        text-align: right;\n",
       "    }\n",
       "</style>\n",
       "<table border=\"1\" class=\"dataframe\">\n",
       "  <thead>\n",
       "    <tr style=\"text-align: right;\">\n",
       "      <th></th>\n",
       "      <th>user_id</th>\n",
       "      <th>month</th>\n",
       "      <th>mb_used</th>\n",
       "      <th>min_used</th>\n",
       "      <th>messages</th>\n",
       "      <th>age</th>\n",
       "      <th>churn_date</th>\n",
       "      <th>city</th>\n",
       "      <th>first_name</th>\n",
       "      <th>last_name</th>\n",
       "      <th>reg_date</th>\n",
       "      <th>tariff</th>\n",
       "      <th>messages_included</th>\n",
       "      <th>mb_per_month_included</th>\n",
       "      <th>minutes_included</th>\n",
       "      <th>rub_monthly_fee</th>\n",
       "      <th>rub_per_gb</th>\n",
       "      <th>rub_per_message</th>\n",
       "      <th>rub_per_minute</th>\n",
       "      <th>gb_per_month_included</th>\n",
       "      <th>gb_used</th>\n",
       "      <th>min_extra</th>\n",
       "      <th>messages_extra</th>\n",
       "      <th>gb_extra</th>\n",
       "    </tr>\n",
       "  </thead>\n",
       "  <tbody>\n",
       "    <tr>\n",
       "      <th>0</th>\n",
       "      <td>1000</td>\n",
       "      <td>5.0</td>\n",
       "      <td>2253.49</td>\n",
       "      <td>159.0</td>\n",
       "      <td>22.0</td>\n",
       "      <td>52</td>\n",
       "      <td>NaT</td>\n",
       "      <td>Краснодар</td>\n",
       "      <td>Рафаил</td>\n",
       "      <td>Верещагин</td>\n",
       "      <td>2018-05-25</td>\n",
       "      <td>ultra</td>\n",
       "      <td>1000</td>\n",
       "      <td>30720</td>\n",
       "      <td>3000</td>\n",
       "      <td>1950</td>\n",
       "      <td>150</td>\n",
       "      <td>1</td>\n",
       "      <td>1</td>\n",
       "      <td>30.0</td>\n",
       "      <td>3.0</td>\n",
       "      <td>0.0</td>\n",
       "      <td>0.0</td>\n",
       "      <td>0.0</td>\n",
       "    </tr>\n",
       "    <tr>\n",
       "      <th>1</th>\n",
       "      <td>1000</td>\n",
       "      <td>6.0</td>\n",
       "      <td>23233.77</td>\n",
       "      <td>172.0</td>\n",
       "      <td>60.0</td>\n",
       "      <td>52</td>\n",
       "      <td>NaT</td>\n",
       "      <td>Краснодар</td>\n",
       "      <td>Рафаил</td>\n",
       "      <td>Верещагин</td>\n",
       "      <td>2018-05-25</td>\n",
       "      <td>ultra</td>\n",
       "      <td>1000</td>\n",
       "      <td>30720</td>\n",
       "      <td>3000</td>\n",
       "      <td>1950</td>\n",
       "      <td>150</td>\n",
       "      <td>1</td>\n",
       "      <td>1</td>\n",
       "      <td>30.0</td>\n",
       "      <td>23.0</td>\n",
       "      <td>0.0</td>\n",
       "      <td>0.0</td>\n",
       "      <td>0.0</td>\n",
       "    </tr>\n",
       "    <tr>\n",
       "      <th>2</th>\n",
       "      <td>1000</td>\n",
       "      <td>7.0</td>\n",
       "      <td>14003.64</td>\n",
       "      <td>340.0</td>\n",
       "      <td>75.0</td>\n",
       "      <td>52</td>\n",
       "      <td>NaT</td>\n",
       "      <td>Краснодар</td>\n",
       "      <td>Рафаил</td>\n",
       "      <td>Верещагин</td>\n",
       "      <td>2018-05-25</td>\n",
       "      <td>ultra</td>\n",
       "      <td>1000</td>\n",
       "      <td>30720</td>\n",
       "      <td>3000</td>\n",
       "      <td>1950</td>\n",
       "      <td>150</td>\n",
       "      <td>1</td>\n",
       "      <td>1</td>\n",
       "      <td>30.0</td>\n",
       "      <td>14.0</td>\n",
       "      <td>0.0</td>\n",
       "      <td>0.0</td>\n",
       "      <td>0.0</td>\n",
       "    </tr>\n",
       "    <tr>\n",
       "      <th>3</th>\n",
       "      <td>1000</td>\n",
       "      <td>8.0</td>\n",
       "      <td>14055.93</td>\n",
       "      <td>408.0</td>\n",
       "      <td>81.0</td>\n",
       "      <td>52</td>\n",
       "      <td>NaT</td>\n",
       "      <td>Краснодар</td>\n",
       "      <td>Рафаил</td>\n",
       "      <td>Верещагин</td>\n",
       "      <td>2018-05-25</td>\n",
       "      <td>ultra</td>\n",
       "      <td>1000</td>\n",
       "      <td>30720</td>\n",
       "      <td>3000</td>\n",
       "      <td>1950</td>\n",
       "      <td>150</td>\n",
       "      <td>1</td>\n",
       "      <td>1</td>\n",
       "      <td>30.0</td>\n",
       "      <td>14.0</td>\n",
       "      <td>0.0</td>\n",
       "      <td>0.0</td>\n",
       "      <td>0.0</td>\n",
       "    </tr>\n",
       "    <tr>\n",
       "      <th>4</th>\n",
       "      <td>1000</td>\n",
       "      <td>9.0</td>\n",
       "      <td>14568.91</td>\n",
       "      <td>466.0</td>\n",
       "      <td>57.0</td>\n",
       "      <td>52</td>\n",
       "      <td>NaT</td>\n",
       "      <td>Краснодар</td>\n",
       "      <td>Рафаил</td>\n",
       "      <td>Верещагин</td>\n",
       "      <td>2018-05-25</td>\n",
       "      <td>ultra</td>\n",
       "      <td>1000</td>\n",
       "      <td>30720</td>\n",
       "      <td>3000</td>\n",
       "      <td>1950</td>\n",
       "      <td>150</td>\n",
       "      <td>1</td>\n",
       "      <td>1</td>\n",
       "      <td>30.0</td>\n",
       "      <td>15.0</td>\n",
       "      <td>0.0</td>\n",
       "      <td>0.0</td>\n",
       "      <td>0.0</td>\n",
       "    </tr>\n",
       "    <tr>\n",
       "      <th>...</th>\n",
       "      <td>...</td>\n",
       "      <td>...</td>\n",
       "      <td>...</td>\n",
       "      <td>...</td>\n",
       "      <td>...</td>\n",
       "      <td>...</td>\n",
       "      <td>...</td>\n",
       "      <td>...</td>\n",
       "      <td>...</td>\n",
       "      <td>...</td>\n",
       "      <td>...</td>\n",
       "      <td>...</td>\n",
       "      <td>...</td>\n",
       "      <td>...</td>\n",
       "      <td>...</td>\n",
       "      <td>...</td>\n",
       "      <td>...</td>\n",
       "      <td>...</td>\n",
       "      <td>...</td>\n",
       "      <td>...</td>\n",
       "      <td>...</td>\n",
       "      <td>...</td>\n",
       "      <td>...</td>\n",
       "      <td>...</td>\n",
       "    </tr>\n",
       "    <tr>\n",
       "      <th>3209</th>\n",
       "      <td>1498</td>\n",
       "      <td>10.0</td>\n",
       "      <td>20579.36</td>\n",
       "      <td>247.0</td>\n",
       "      <td>42.0</td>\n",
       "      <td>68</td>\n",
       "      <td>2018-10-25</td>\n",
       "      <td>Владикавказ</td>\n",
       "      <td>Всеволод</td>\n",
       "      <td>Акимчин</td>\n",
       "      <td>2018-07-19</td>\n",
       "      <td>smart</td>\n",
       "      <td>50</td>\n",
       "      <td>15360</td>\n",
       "      <td>500</td>\n",
       "      <td>550</td>\n",
       "      <td>200</td>\n",
       "      <td>3</td>\n",
       "      <td>3</td>\n",
       "      <td>15.0</td>\n",
       "      <td>21.0</td>\n",
       "      <td>0.0</td>\n",
       "      <td>0.0</td>\n",
       "      <td>6.0</td>\n",
       "    </tr>\n",
       "    <tr>\n",
       "      <th>3210</th>\n",
       "      <td>1499</td>\n",
       "      <td>9.0</td>\n",
       "      <td>1845.75</td>\n",
       "      <td>70.0</td>\n",
       "      <td>11.0</td>\n",
       "      <td>35</td>\n",
       "      <td>NaT</td>\n",
       "      <td>Пермь</td>\n",
       "      <td>Гектор</td>\n",
       "      <td>Корнилов</td>\n",
       "      <td>2018-09-27</td>\n",
       "      <td>smart</td>\n",
       "      <td>50</td>\n",
       "      <td>15360</td>\n",
       "      <td>500</td>\n",
       "      <td>550</td>\n",
       "      <td>200</td>\n",
       "      <td>3</td>\n",
       "      <td>3</td>\n",
       "      <td>15.0</td>\n",
       "      <td>2.0</td>\n",
       "      <td>0.0</td>\n",
       "      <td>0.0</td>\n",
       "      <td>0.0</td>\n",
       "    </tr>\n",
       "    <tr>\n",
       "      <th>3211</th>\n",
       "      <td>1499</td>\n",
       "      <td>10.0</td>\n",
       "      <td>17788.51</td>\n",
       "      <td>449.0</td>\n",
       "      <td>48.0</td>\n",
       "      <td>35</td>\n",
       "      <td>NaT</td>\n",
       "      <td>Пермь</td>\n",
       "      <td>Гектор</td>\n",
       "      <td>Корнилов</td>\n",
       "      <td>2018-09-27</td>\n",
       "      <td>smart</td>\n",
       "      <td>50</td>\n",
       "      <td>15360</td>\n",
       "      <td>500</td>\n",
       "      <td>550</td>\n",
       "      <td>200</td>\n",
       "      <td>3</td>\n",
       "      <td>3</td>\n",
       "      <td>15.0</td>\n",
       "      <td>18.0</td>\n",
       "      <td>0.0</td>\n",
       "      <td>0.0</td>\n",
       "      <td>3.0</td>\n",
       "    </tr>\n",
       "    <tr>\n",
       "      <th>3212</th>\n",
       "      <td>1499</td>\n",
       "      <td>11.0</td>\n",
       "      <td>17963.31</td>\n",
       "      <td>612.0</td>\n",
       "      <td>59.0</td>\n",
       "      <td>35</td>\n",
       "      <td>NaT</td>\n",
       "      <td>Пермь</td>\n",
       "      <td>Гектор</td>\n",
       "      <td>Корнилов</td>\n",
       "      <td>2018-09-27</td>\n",
       "      <td>smart</td>\n",
       "      <td>50</td>\n",
       "      <td>15360</td>\n",
       "      <td>500</td>\n",
       "      <td>550</td>\n",
       "      <td>200</td>\n",
       "      <td>3</td>\n",
       "      <td>3</td>\n",
       "      <td>15.0</td>\n",
       "      <td>18.0</td>\n",
       "      <td>112.0</td>\n",
       "      <td>9.0</td>\n",
       "      <td>3.0</td>\n",
       "    </tr>\n",
       "    <tr>\n",
       "      <th>3213</th>\n",
       "      <td>1499</td>\n",
       "      <td>12.0</td>\n",
       "      <td>13055.58</td>\n",
       "      <td>492.0</td>\n",
       "      <td>66.0</td>\n",
       "      <td>35</td>\n",
       "      <td>NaT</td>\n",
       "      <td>Пермь</td>\n",
       "      <td>Гектор</td>\n",
       "      <td>Корнилов</td>\n",
       "      <td>2018-09-27</td>\n",
       "      <td>smart</td>\n",
       "      <td>50</td>\n",
       "      <td>15360</td>\n",
       "      <td>500</td>\n",
       "      <td>550</td>\n",
       "      <td>200</td>\n",
       "      <td>3</td>\n",
       "      <td>3</td>\n",
       "      <td>15.0</td>\n",
       "      <td>13.0</td>\n",
       "      <td>0.0</td>\n",
       "      <td>16.0</td>\n",
       "      <td>0.0</td>\n",
       "    </tr>\n",
       "  </tbody>\n",
       "</table>\n",
       "<p>3214 rows × 24 columns</p>\n",
       "</div>"
      ],
      "text/plain": [
       "      user_id  month   mb_used  min_used  messages  age churn_date  \\\n",
       "0        1000    5.0   2253.49     159.0      22.0   52        NaT   \n",
       "1        1000    6.0  23233.77     172.0      60.0   52        NaT   \n",
       "2        1000    7.0  14003.64     340.0      75.0   52        NaT   \n",
       "3        1000    8.0  14055.93     408.0      81.0   52        NaT   \n",
       "4        1000    9.0  14568.91     466.0      57.0   52        NaT   \n",
       "...       ...    ...       ...       ...       ...  ...        ...   \n",
       "3209     1498   10.0  20579.36     247.0      42.0   68 2018-10-25   \n",
       "3210     1499    9.0   1845.75      70.0      11.0   35        NaT   \n",
       "3211     1499   10.0  17788.51     449.0      48.0   35        NaT   \n",
       "3212     1499   11.0  17963.31     612.0      59.0   35        NaT   \n",
       "3213     1499   12.0  13055.58     492.0      66.0   35        NaT   \n",
       "\n",
       "             city first_name  last_name   reg_date tariff  messages_included  \\\n",
       "0       Краснодар     Рафаил  Верещагин 2018-05-25  ultra               1000   \n",
       "1       Краснодар     Рафаил  Верещагин 2018-05-25  ultra               1000   \n",
       "2       Краснодар     Рафаил  Верещагин 2018-05-25  ultra               1000   \n",
       "3       Краснодар     Рафаил  Верещагин 2018-05-25  ultra               1000   \n",
       "4       Краснодар     Рафаил  Верещагин 2018-05-25  ultra               1000   \n",
       "...           ...        ...        ...        ...    ...                ...   \n",
       "3209  Владикавказ   Всеволод    Акимчин 2018-07-19  smart                 50   \n",
       "3210        Пермь     Гектор   Корнилов 2018-09-27  smart                 50   \n",
       "3211        Пермь     Гектор   Корнилов 2018-09-27  smart                 50   \n",
       "3212        Пермь     Гектор   Корнилов 2018-09-27  smart                 50   \n",
       "3213        Пермь     Гектор   Корнилов 2018-09-27  smart                 50   \n",
       "\n",
       "      mb_per_month_included  minutes_included  rub_monthly_fee  rub_per_gb  \\\n",
       "0                     30720              3000             1950         150   \n",
       "1                     30720              3000             1950         150   \n",
       "2                     30720              3000             1950         150   \n",
       "3                     30720              3000             1950         150   \n",
       "4                     30720              3000             1950         150   \n",
       "...                     ...               ...              ...         ...   \n",
       "3209                  15360               500              550         200   \n",
       "3210                  15360               500              550         200   \n",
       "3211                  15360               500              550         200   \n",
       "3212                  15360               500              550         200   \n",
       "3213                  15360               500              550         200   \n",
       "\n",
       "      rub_per_message  rub_per_minute  gb_per_month_included  gb_used  \\\n",
       "0                   1               1                   30.0      3.0   \n",
       "1                   1               1                   30.0     23.0   \n",
       "2                   1               1                   30.0     14.0   \n",
       "3                   1               1                   30.0     14.0   \n",
       "4                   1               1                   30.0     15.0   \n",
       "...               ...             ...                    ...      ...   \n",
       "3209                3               3                   15.0     21.0   \n",
       "3210                3               3                   15.0      2.0   \n",
       "3211                3               3                   15.0     18.0   \n",
       "3212                3               3                   15.0     18.0   \n",
       "3213                3               3                   15.0     13.0   \n",
       "\n",
       "      min_extra  messages_extra  gb_extra  \n",
       "0           0.0             0.0       0.0  \n",
       "1           0.0             0.0       0.0  \n",
       "2           0.0             0.0       0.0  \n",
       "3           0.0             0.0       0.0  \n",
       "4           0.0             0.0       0.0  \n",
       "...         ...             ...       ...  \n",
       "3209        0.0             0.0       6.0  \n",
       "3210        0.0             0.0       0.0  \n",
       "3211        0.0             0.0       3.0  \n",
       "3212      112.0             9.0       3.0  \n",
       "3213        0.0            16.0       0.0  \n",
       "\n",
       "[3214 rows x 24 columns]"
      ]
     },
     "execution_count": 39,
     "metadata": {},
     "output_type": "execute_result"
    }
   ],
   "source": [
    "df_merged['min_extra'] = df_merged['min_used'] - df_merged['minutes_included']\n",
    "df_merged['messages_extra'] = df_merged['messages'] - df_merged['messages_included']\n",
    "df_merged['gb_extra'] = df_merged['gb_used'] - df_merged['gb_per_month_included']\n",
    "\n",
    "df_merged.loc[df_merged['min_extra'] < 0, 'min_extra'] = 0\n",
    "df_merged.loc[df_merged['messages_extra'] < 0, 'messages_extra'] = 0\n",
    "df_merged.loc[df_merged['gb_extra'] < 0, 'gb_extra'] = 0\n",
    "\n",
    "df_merged"
   ]
  },
  {
   "cell_type": "code",
   "execution_count": 40,
   "metadata": {},
   "outputs": [
    {
     "data": {
      "text/plain": [
       "user_id                     0\n",
       "month                       0\n",
       "mb_used                     0\n",
       "min_used                    0\n",
       "messages                    0\n",
       "age                         0\n",
       "churn_date               3027\n",
       "city                        0\n",
       "first_name                  0\n",
       "last_name                   0\n",
       "reg_date                    0\n",
       "tariff                      0\n",
       "messages_included           0\n",
       "mb_per_month_included       0\n",
       "minutes_included            0\n",
       "rub_monthly_fee             0\n",
       "rub_per_gb                  0\n",
       "rub_per_message             0\n",
       "rub_per_minute              0\n",
       "gb_per_month_included       0\n",
       "gb_used                     0\n",
       "min_extra                   0\n",
       "messages_extra              0\n",
       "gb_extra                    0\n",
       "dtype: int64"
      ]
     },
     "execution_count": 40,
     "metadata": {},
     "output_type": "execute_result"
    }
   ],
   "source": [
    "df_merged.isna().sum()"
   ]
  },
  {
   "cell_type": "code",
   "execution_count": 41,
   "metadata": {
    "scrolled": true
   },
   "outputs": [
    {
     "data": {
      "text/html": [
       "<div>\n",
       "<style scoped>\n",
       "    .dataframe tbody tr th:only-of-type {\n",
       "        vertical-align: middle;\n",
       "    }\n",
       "\n",
       "    .dataframe tbody tr th {\n",
       "        vertical-align: top;\n",
       "    }\n",
       "\n",
       "    .dataframe thead th {\n",
       "        text-align: right;\n",
       "    }\n",
       "</style>\n",
       "<table border=\"1\" class=\"dataframe\">\n",
       "  <thead>\n",
       "    <tr style=\"text-align: right;\">\n",
       "      <th></th>\n",
       "      <th>user_id</th>\n",
       "      <th>month</th>\n",
       "      <th>mb_used</th>\n",
       "      <th>min_used</th>\n",
       "      <th>messages</th>\n",
       "      <th>age</th>\n",
       "      <th>churn_date</th>\n",
       "      <th>city</th>\n",
       "      <th>first_name</th>\n",
       "      <th>last_name</th>\n",
       "      <th>reg_date</th>\n",
       "      <th>tariff</th>\n",
       "      <th>messages_included</th>\n",
       "      <th>mb_per_month_included</th>\n",
       "      <th>minutes_included</th>\n",
       "      <th>rub_monthly_fee</th>\n",
       "      <th>rub_per_gb</th>\n",
       "      <th>rub_per_message</th>\n",
       "      <th>rub_per_minute</th>\n",
       "      <th>gb_per_month_included</th>\n",
       "      <th>gb_used</th>\n",
       "      <th>min_extra</th>\n",
       "      <th>messages_extra</th>\n",
       "      <th>gb_extra</th>\n",
       "      <th>total_monthly_fee</th>\n",
       "    </tr>\n",
       "  </thead>\n",
       "  <tbody>\n",
       "  </tbody>\n",
       "</table>\n",
       "</div>"
      ],
      "text/plain": [
       "Empty DataFrame\n",
       "Columns: [user_id, month, mb_used, min_used, messages, age, churn_date, city, first_name, last_name, reg_date, tariff, messages_included, mb_per_month_included, minutes_included, rub_monthly_fee, rub_per_gb, rub_per_message, rub_per_minute, gb_per_month_included, gb_used, min_extra, messages_extra, gb_extra, total_monthly_fee]\n",
       "Index: []"
      ]
     },
     "execution_count": 41,
     "metadata": {},
     "output_type": "execute_result"
    }
   ],
   "source": [
    "df_merged['total_monthly_fee'] = (df_merged['rub_monthly_fee'] + \n",
    "                                  df_merged['messages_extra'] * df_merged['rub_per_message'] +\n",
    "                                  df_merged['min_extra'] * df_merged['rub_per_minute'] +\n",
    "                                  df_merged['gb_extra'] * df_merged['rub_per_gb'])\n",
    "df_merged.query('total_monthly_fee.isna()')"
   ]
  },
  {
   "cell_type": "code",
   "execution_count": 42,
   "metadata": {},
   "outputs": [
    {
     "data": {
      "text/plain": [
       "4914451.0"
      ]
     },
     "execution_count": 42,
     "metadata": {},
     "output_type": "execute_result"
    }
   ],
   "source": [
    "df_merged['total_monthly_fee'].sum()"
   ]
  },
  {
   "cell_type": "markdown",
   "metadata": {},
   "source": [
    "## Анализ данных"
   ]
  },
  {
   "cell_type": "markdown",
   "metadata": {},
   "source": [
    "<div class=\"alert alert-block alert-info\"> Создадим две переменные для наших тарифов.</div>"
   ]
  },
  {
   "cell_type": "code",
   "execution_count": 43,
   "metadata": {},
   "outputs": [],
   "source": [
    "ultra = df_merged[df_merged['tariff'] == 'ultra']\n",
    "smart = df_merged[df_merged['tariff'] == 'smart']"
   ]
  },
  {
   "cell_type": "markdown",
   "metadata": {},
   "source": [
    "### Интернет"
   ]
  },
  {
   "cell_type": "code",
   "execution_count": 44,
   "metadata": {
    "scrolled": true
   },
   "outputs": [
    {
     "data": {
      "text/plain": [
       "count    985.000000\n",
       "mean      19.494416\n",
       "std        9.853511\n",
       "min        0.000000\n",
       "25%       12.000000\n",
       "50%       19.000000\n",
       "75%       27.000000\n",
       "max       49.000000\n",
       "Name: gb_used, dtype: float64"
      ]
     },
     "execution_count": 44,
     "metadata": {},
     "output_type": "execute_result"
    }
   ],
   "source": [
    "ultra['gb_used'].describe()"
   ]
  },
  {
   "cell_type": "markdown",
   "metadata": {},
   "source": [
    "<div class=\"alert alert-block alert-info\"> Пользователи тарифа ультра используют в среднем около 19 гб интернета в месяц.</div>"
   ]
  },
  {
   "cell_type": "code",
   "execution_count": 45,
   "metadata": {},
   "outputs": [
    {
     "data": {
      "text/plain": [
       "count    2229.000000\n",
       "mean       16.328847\n",
       "std         5.747061\n",
       "min         0.000000\n",
       "25%        13.000000\n",
       "50%        17.000000\n",
       "75%        20.000000\n",
       "max        38.000000\n",
       "Name: gb_used, dtype: float64"
      ]
     },
     "execution_count": 45,
     "metadata": {},
     "output_type": "execute_result"
    }
   ],
   "source": [
    "smart['gb_used'].describe()"
   ]
  },
  {
   "cell_type": "markdown",
   "metadata": {},
   "source": [
    "<div class=\"alert alert-block alert-info\"> Пользователи тарифа смарт используют в среднем около 17 гб интернета в месяц. Всего на  2-3 гб меньше чем средний пользователь тарифа ультра. При этом тариф смарт включает всего 15гб трафика, а тариф ультра 30гб.</div>"
   ]
  },
  {
   "cell_type": "code",
   "execution_count": 46,
   "metadata": {},
   "outputs": [
    {
     "data": {
      "text/plain": [
       "<AxesSubplot:>"
      ]
     },
     "execution_count": 46,
     "metadata": {},
     "output_type": "execute_result"
    },
    {
     "data": {
      "image/png": "[encoded data removed]",
      "text/plain": [
       "<Figure size 432x288 with 1 Axes>"
      ]
     },
     "metadata": {
      "needs_background": "light"
     },
     "output_type": "display_data"
    }
   ],
   "source": [
    "ultra['gb_used'].hist(bins=30, color='green')\n",
    "smart['gb_used'].hist(bins=30, alpha=0.7)"
   ]
  },
  {
   "cell_type": "markdown",
   "metadata": {},
   "source": [
    "<div class=\"alert alert-block alert-info\"> Распределения нормальные в обоих тарифах. Тариф ультра имеет большую дисперсию, но при этом среднее практически совпадает с тарифом ультра. Это подтверждает наши предыдущие рассчеты.</div>"
   ]
  },
  {
   "cell_type": "markdown",
   "metadata": {},
   "source": [
    "### Сообщения"
   ]
  },
  {
   "cell_type": "code",
   "execution_count": 47,
   "metadata": {
    "scrolled": false
   },
   "outputs": [
    {
     "data": {
      "text/plain": [
       "count    985.000000\n",
       "mean      49.363452\n",
       "std       47.804457\n",
       "min        0.000000\n",
       "25%        6.000000\n",
       "50%       38.000000\n",
       "75%       79.000000\n",
       "max      224.000000\n",
       "Name: messages, dtype: float64"
      ]
     },
     "execution_count": 47,
     "metadata": {},
     "output_type": "execute_result"
    }
   ],
   "source": [
    "ultra['messages'].describe()"
   ]
  },
  {
   "cell_type": "code",
   "execution_count": 48,
   "metadata": {
    "scrolled": true
   },
   "outputs": [
    {
     "data": {
      "text/plain": [
       "count    2229.000000\n",
       "mean       33.384029\n",
       "std        28.227876\n",
       "min         0.000000\n",
       "25%        10.000000\n",
       "50%        28.000000\n",
       "75%        51.000000\n",
       "max       143.000000\n",
       "Name: messages, dtype: float64"
      ]
     },
     "execution_count": 48,
     "metadata": {},
     "output_type": "execute_result"
    }
   ],
   "source": [
    "smart['messages'].describe()"
   ]
  },
  {
   "cell_type": "code",
   "execution_count": 49,
   "metadata": {
    "scrolled": true
   },
   "outputs": [
    {
     "data": {
      "text/plain": [
       "<AxesSubplot:>"
      ]
     },
     "execution_count": 49,
     "metadata": {},
     "output_type": "execute_result"
    },
    {
     "data": {
      "image/png": "[encoded data removed]",
      "text/plain": [
       "<Figure size 432x288 with 1 Axes>"
      ]
     },
     "metadata": {
      "needs_background": "light"
     },
     "output_type": "display_data"
    }
   ],
   "source": [
    "ultra['messages'].hist(bins=30, color='green')\n",
    "smart['messages'].hist(bins=30, alpha=0.7)"
   ]
  },
  {
   "cell_type": "markdown",
   "metadata": {},
   "source": [
    "<div class=\"alert alert-block alert-info\"> Пуассоновское распределение сообщений. При этом, пользователи тарифа ультра отправляют в среднем 61 сообщений в месяц, а пользователи тарифа смарт ~39 сообщений.</div>"
   ]
  },
  {
   "cell_type": "markdown",
   "metadata": {},
   "source": []
  },
  {
   "cell_type": "markdown",
   "metadata": {},
   "source": [
    "### Звонки"
   ]
  },
  {
   "cell_type": "code",
   "execution_count": 50,
   "metadata": {},
   "outputs": [
    {
     "data": {
      "text/plain": [
       "count     985.000000\n",
       "mean      526.623350\n",
       "std       317.606098\n",
       "min         0.000000\n",
       "25%       284.000000\n",
       "50%       518.000000\n",
       "75%       752.000000\n",
       "max      1673.000000\n",
       "Name: min_used, dtype: float64"
      ]
     },
     "execution_count": 50,
     "metadata": {},
     "output_type": "execute_result"
    }
   ],
   "source": [
    "ultra['min_used'].describe()"
   ]
  },
  {
   "cell_type": "code",
   "execution_count": 51,
   "metadata": {},
   "outputs": [
    {
     "data": {
      "text/plain": [
       "count    2229.000000\n",
       "mean      417.934948\n",
       "std       190.313730\n",
       "min         0.000000\n",
       "25%       282.000000\n",
       "50%       422.000000\n",
       "75%       545.000000\n",
       "max      1435.000000\n",
       "Name: min_used, dtype: float64"
      ]
     },
     "execution_count": 51,
     "metadata": {},
     "output_type": "execute_result"
    }
   ],
   "source": [
    "smart['min_used'].describe()"
   ]
  },
  {
   "cell_type": "code",
   "execution_count": 52,
   "metadata": {},
   "outputs": [
    {
     "data": {
      "text/plain": [
       "<AxesSubplot:>"
      ]
     },
     "execution_count": 52,
     "metadata": {},
     "output_type": "execute_result"
    },
    {
     "data": {
      "image/png": "[encoded data removed]",
      "text/plain": [
       "<Figure size 432x288 with 1 Axes>"
      ]
     },
     "metadata": {
      "needs_background": "light"
     },
     "output_type": "display_data"
    }
   ],
   "source": [
    "ultra['min_used'].hist(bins=30, color='green')\n",
    "smart['min_used'].hist(bins=30, alpha=0.7)"
   ]
  },
  {
   "cell_type": "markdown",
   "metadata": {},
   "source": [
    "<div class=\"alert alert-block alert-info\"> Нормальное распределение звонков. Как и в случае с сообщениями/интернетом, пользователи тарифа ультра сильнее разнятся в количество потраченных минут.</div>"
   ]
  },
  {
   "cell_type": "markdown",
   "metadata": {},
   "source": [
    "## Проверка гипотез"
   ]
  },
  {
   "cell_type": "markdown",
   "metadata": {},
   "source": [
    "<div class=\"alert alert-block alert-info\"> Перед нами стоит задача проверить две гипотезы:\n",
    "    средняя выручка пользователей тарифов «Ультра» и «Смарт» различаются;\n",
    "    средняя выручка пользователей из Москвы отличается от выручки пользователей из других регионов.\n",
    "    Сравнить выручку от тарифов можно по нескольким параметрам. Например, посчитать сколько приносит компании средний пользователь каждого из тарифов. К сожалению, такой подход не учитывает расходы оператора на связь, ведь пользователи тарифа смарт могут пользоваться меньшим объемом трафика чем пользователи тарифа ультра, а стоимость установки станций связи в Москве может быть дешевле чем в другом месте. Другой подход - подсчитать среднюю стоимость покупки гигабайта трафика, сообщения, минуты звонка пользователями обоих тарифов/обоих городов и сравнить их между собой. Проблема во втором подходе - в том, что мы не можем выделить какую долю стоимости тарифа занимает интернет, сообщения или звонки. Выберем первый подход и попробуем посчитать сколько денег компании в среднем приносит пользователь каждого тарифа\n",
    " </div>"
   ]
  },
  {
   "cell_type": "code",
   "execution_count": 53,
   "metadata": {},
   "outputs": [
    {
     "data": {
      "text/plain": [
       "2070.1522842639592"
      ]
     },
     "execution_count": 53,
     "metadata": {},
     "output_type": "execute_result"
    }
   ],
   "source": [
    "ultra['total_monthly_fee'].mean()"
   ]
  },
  {
   "cell_type": "code",
   "execution_count": 54,
   "metadata": {},
   "outputs": [
    {
     "data": {
      "text/plain": [
       "1289.9735307312696"
      ]
     },
     "execution_count": 54,
     "metadata": {},
     "output_type": "execute_result"
    }
   ],
   "source": [
    "smart['total_monthly_fee'].mean()"
   ]
  },
  {
   "cell_type": "code",
   "execution_count": 55,
   "metadata": {
    "scrolled": true
   },
   "outputs": [
    {
     "data": {
      "text/html": [
       "<div>\n",
       "<style scoped>\n",
       "    .dataframe tbody tr th:only-of-type {\n",
       "        vertical-align: middle;\n",
       "    }\n",
       "\n",
       "    .dataframe tbody tr th {\n",
       "        vertical-align: top;\n",
       "    }\n",
       "\n",
       "    .dataframe thead th {\n",
       "        text-align: right;\n",
       "    }\n",
       "</style>\n",
       "<table border=\"1\" class=\"dataframe\">\n",
       "  <thead>\n",
       "    <tr style=\"text-align: right;\">\n",
       "      <th></th>\n",
       "      <th>user_id</th>\n",
       "      <th>month</th>\n",
       "      <th>mb_used</th>\n",
       "      <th>min_used</th>\n",
       "      <th>messages</th>\n",
       "      <th>age</th>\n",
       "      <th>churn_date</th>\n",
       "      <th>city</th>\n",
       "      <th>first_name</th>\n",
       "      <th>last_name</th>\n",
       "      <th>reg_date</th>\n",
       "      <th>tariff</th>\n",
       "      <th>messages_included</th>\n",
       "      <th>mb_per_month_included</th>\n",
       "      <th>minutes_included</th>\n",
       "      <th>rub_monthly_fee</th>\n",
       "      <th>rub_per_gb</th>\n",
       "      <th>rub_per_message</th>\n",
       "      <th>rub_per_minute</th>\n",
       "      <th>gb_per_month_included</th>\n",
       "      <th>gb_used</th>\n",
       "      <th>min_extra</th>\n",
       "      <th>messages_extra</th>\n",
       "      <th>gb_extra</th>\n",
       "      <th>total_monthly_fee</th>\n",
       "    </tr>\n",
       "  </thead>\n",
       "  <tbody>\n",
       "  </tbody>\n",
       "</table>\n",
       "</div>"
      ],
      "text/plain": [
       "Empty DataFrame\n",
       "Columns: [user_id, month, mb_used, min_used, messages, age, churn_date, city, first_name, last_name, reg_date, tariff, messages_included, mb_per_month_included, minutes_included, rub_monthly_fee, rub_per_gb, rub_per_message, rub_per_minute, gb_per_month_included, gb_used, min_extra, messages_extra, gb_extra, total_monthly_fee]\n",
       "Index: []"
      ]
     },
     "execution_count": 55,
     "metadata": {},
     "output_type": "execute_result"
    }
   ],
   "source": [
    "smart[smart['total_monthly_fee'].isna()]"
   ]
  },
  {
   "cell_type": "markdown",
   "metadata": {},
   "source": [
    "H0 - средняя выручка от клиента тарифа ultra не отличается от средней выручки клиента тарифа smart.\n",
    "H1 - средняя выручка от клиента тарифа ultra отличается от средней выручки клиента тарифа smart.\n"
   ]
  },
  {
   "cell_type": "code",
   "execution_count": 56,
   "metadata": {},
   "outputs": [
    {
     "name": "stdout",
     "output_type": "stream",
     "text": [
      "p-значение: 1.4229814360764067e-160\n",
      "Отвергаем нулевую гипотезу\n"
     ]
    }
   ],
   "source": [
    "results = st.ttest_ind(ultra['total_monthly_fee'], smart['total_monthly_fee'], equal_var = True)\n",
    "\n",
    "alpha = 0.05\n",
    "\n",
    "print('p-значение:', results.pvalue)\n",
    "if (results.pvalue < alpha):\n",
    "    print(\"Отвергаем нулевую гипотезу\")\n",
    "else:\n",
    "\n",
    "    print(\"Не получилось отвергнуть нулевую гипотезу\")"
   ]
  },
  {
   "cell_type": "markdown",
   "metadata": {},
   "source": [
    "<div class=\"alert alert-block alert-info\"> Мы отвергли нулевую гипотезу, следовательно различие в доходности не случайно с вероятностью почти 100%. Проверим различается ли выручка от клиентов из Москвы, и не из Москвы.\n",
    " </div>"
   ]
  },
  {
   "cell_type": "code",
   "execution_count": 57,
   "metadata": {},
   "outputs": [
    {
     "name": "stdout",
     "output_type": "stream",
     "text": [
      "p-значение: 0.5440152911670224\n",
      "Не получилось отвергнуть нулевую гипотезу\n"
     ]
    }
   ],
   "source": [
    "results = st.ttest_ind(df_merged.query('city == \"Москва\"')['total_monthly_fee'],\n",
    "                       df_merged.query('city != \"Москва\"')['total_monthly_fee'], \n",
    "                       equal_var = True)\n",
    "alpha = 0.05\n",
    "                       \n",
    "print('p-значение:', results.pvalue)\n",
    "                       \n",
    "if (results.pvalue < alpha):\n",
    "    print(\"Отвергаем нулевую гипотезу\")\n",
    "else:\n",
    "    print(\"Не получилось отвергнуть нулевую гипотезу\")"
   ]
  },
  {
   "cell_type": "markdown",
   "metadata": {},
   "source": [
    "<div class=\"alert alert-block alert-info\"> У нас не получилось отвергнуть нулевую гипотезу, следовательно с вероятностью 0,544 различие средней прибыльности клиентов из москвы и других городов случайно.\n",
    " </div>"
   ]
  },
  {
   "cell_type": "markdown",
   "metadata": {},
   "source": []
  },
  {
   "cell_type": "markdown",
   "metadata": {},
   "source": [
    "## Общий вывод"
   ]
  },
  {
   "cell_type": "markdown",
   "metadata": {},
   "source": [
    "Мы проанализировали данные сотового оператора связи «Мегалайн». Согласно полученным данным клиенты тарифа ultra используют больше сообщений, минут и трафика в месяц, чем клиенты тарифа smart. Согласно проверенным гипотезам, выручка от клиентов тарифа ultra отличается от выручки клиентов тарифа smart. В то же время, выручка клиентов из Москвы, и из других регионов практически не отличается."
   ]
  },
  {
   "cell_type": "code",
   "execution_count": 59,
   "metadata": {
    "scrolled": true
   },
   "outputs": [
    {
     "data": {
      "text/plain": [
       "count     139.000000\n",
       "mean     2138.848921\n",
       "std       482.296858\n",
       "min      1950.000000\n",
       "25%      1950.000000\n",
       "50%      1950.000000\n",
       "75%      1950.000000\n",
       "max      3900.000000\n",
       "Name: total_monthly_fee, dtype: float64"
      ]
     },
     "metadata": {},
     "output_type": "display_data"
    },
    {
     "data": {
      "text/plain": [
       "count     337.000000\n",
       "mean     1578.531157\n",
       "std      1034.735951\n",
       "min       550.000000\n",
       "25%       753.000000\n",
       "50%      1277.000000\n",
       "75%      2101.000000\n",
       "max      6770.000000\n",
       "Name: total_monthly_fee, dtype: float64"
      ]
     },
     "metadata": {},
     "output_type": "display_data"
    }
   ],
   "source": [
    "display(\n",
    "    ultra.query('month == 12')['total_monthly_fee'].describe(),\n",
    "    smart.query('month == 12')['total_monthly_fee'].describe()\n",
    ")"
   ]
  },
  {
   "cell_type": "code",
   "execution_count": 60,
   "metadata": {},
   "outputs": [
    {
     "data": {
      "text/plain": [
       "count    139.000000\n",
       "mean      21.741007\n",
       "std       10.160550\n",
       "min        0.000000\n",
       "25%       15.000000\n",
       "50%       22.000000\n",
       "75%       28.000000\n",
       "max       43.000000\n",
       "Name: gb_used, dtype: float64"
      ]
     },
     "metadata": {},
     "output_type": "display_data"
    },
    {
     "data": {
      "text/plain": [
       "count    337.000000\n",
       "mean      18.201780\n",
       "std        5.457705\n",
       "min        5.000000\n",
       "25%       15.000000\n",
       "50%       18.000000\n",
       "75%       22.000000\n",
       "max       38.000000\n",
       "Name: gb_used, dtype: float64"
      ]
     },
     "metadata": {},
     "output_type": "display_data"
    }
   ],
   "source": [
    "display(\n",
    "    ultra.query('month == 12')['gb_used'].describe(),\n",
    "    smart.query('month == 12')['gb_used'].describe()\n",
    ")"
   ]
  },
  {
   "cell_type": "markdown",
   "metadata": {},
   "source": [
    "По состоянию на декабрь 2018 года, тарифом ультра пользуются 139 человек, или 29% от всех клиентов оператора, а тарифом смарт пользуются 337 человек, или 71 процент от всех клиентов оператора. Клиенты тарифа ультра в среднем потратили около 2139 на услуги связи, а клиенты тарифа смарт в среднем потратили около 1579 рублей, на 27% меньше чем клиенты тарифа ультра. При этом, клиенты тарифа смарт, в среднем, потратили всего на 3 гигабайта, или 15% меньше интернета чем клиенты тарифа смарт. Получается, что среднему клиенту выгоднее купить тариф смарт, и докупить недостающий трафик, чем покупать тариф ультра."
   ]
  },
  {
   "cell_type": "code",
   "execution_count": 61,
   "metadata": {},
   "outputs": [
    {
     "data": {
      "text/plain": [
       "2039100.0"
      ]
     },
     "metadata": {},
     "output_type": "display_data"
    },
    {
     "data": {
      "text/plain": [
       "2875351.0"
      ]
     },
     "metadata": {},
     "output_type": "display_data"
    },
    {
     "data": {
      "text/plain": [
       "1.410107890736109"
      ]
     },
     "metadata": {},
     "output_type": "display_data"
    }
   ],
   "source": [
    "display(\n",
    "    ultra['total_monthly_fee'].sum(),\n",
    "    smart['total_monthly_fee'].sum(),\n",
    "    smart['total_monthly_fee'].sum() / ultra['total_monthly_fee'].sum()\n",
    ")"
   ]
  },
  {
   "cell_type": "markdown",
   "metadata": {},
   "source": [
    "Судя по данной выборке, тариф смарт приносит компании всего на 41 процент больше выручки чем тариф ультра."
   ]
  },
  {
   "cell_type": "code",
   "execution_count": 62,
   "metadata": {},
   "outputs": [
    {
     "data": {
      "text/plain": [
       "19202.0"
      ]
     },
     "metadata": {},
     "output_type": "display_data"
    },
    {
     "data": {
      "text/plain": [
       "36397.0"
      ]
     },
     "metadata": {},
     "output_type": "display_data"
    },
    {
     "data": {
      "text/plain": [
       "1.8954796375377565"
      ]
     },
     "metadata": {},
     "output_type": "display_data"
    }
   ],
   "source": [
    "display(\n",
    "    ultra['gb_used'].sum(),\n",
    "    smart['gb_used'].sum(),\n",
    "    smart['gb_used'].sum() / ultra['gb_used'].sum()\n",
    ")"
   ]
  },
  {
   "cell_type": "markdown",
   "metadata": {},
   "source": [
    "При этом, пользователи тарифа смарт потребляют почти в два раза больше трафика чем пользователи тарифа ультра."
   ]
  },
  {
   "cell_type": "code",
   "execution_count": 63,
   "metadata": {},
   "outputs": [
    {
     "data": {
      "text/plain": [
       "<AxesSubplot:>"
      ]
     },
     "metadata": {},
     "output_type": "display_data"
    },
    {
     "data": {
      "text/plain": [
       "<AxesSubplot:>"
      ]
     },
     "metadata": {},
     "output_type": "display_data"
    },
    {
     "data": {
      "text/plain": [
       "46.83451776649746"
      ]
     },
     "metadata": {},
     "output_type": "display_data"
    },
    {
     "data": {
      "text/plain": [
       "46.55630327501122"
      ]
     },
     "metadata": {},
     "output_type": "display_data"
    },
    {
     "data": {
      "image/png": "[encoded data removed]",
      "text/plain": [
       "<Figure size 432x288 with 1 Axes>"
      ]
     },
     "metadata": {
      "needs_background": "light"
     },
     "output_type": "display_data"
    }
   ],
   "source": [
    "display(\n",
    "    ultra['age'].hist(bins=30, color='green'),\n",
    "    smart['age'].hist(bins=30, alpha=0.5),\n",
    "    ultra['age'].mean(), smart['age'].mean()\n",
    ")"
   ]
  },
  {
   "cell_type": "markdown",
   "metadata": {},
   "source": [
    "Примечательно, что пользователи обоих тарифов имеют одинаковый средний возраст, и гистограммы пользователей схожи для обоих тарифов. Следовательно, можно не таргетировать рекламу по возрасту."
   ]
  },
  {
   "cell_type": "code",
   "execution_count": 64,
   "metadata": {
    "scrolled": true
   },
   "outputs": [
    {
     "data": {
      "text/plain": [
       "smart    0.631751\n",
       "ultra    0.368249\n",
       "Name: tariff, dtype: float64"
      ]
     },
     "metadata": {},
     "output_type": "display_data"
    },
    {
     "data": {
      "text/plain": [
       "smart    0.708029\n",
       "ultra    0.291971\n",
       "Name: tariff, dtype: float64"
      ]
     },
     "metadata": {},
     "output_type": "display_data"
    }
   ],
   "source": [
    "display(\n",
    "    df_merged.query('city == \"Москва\"')['tariff'].value_counts(normalize=True),\n",
    "    df_merged.query('city != \"Москва\"')['tariff'].value_counts(normalize=True)\n",
    ")"
   ]
  },
  {
   "cell_type": "markdown",
   "metadata": {},
   "source": [
    "В Москве больше людей, которые пользуются ультра относительно других городов. Возможно причина в том, что москвичи больше задействованы в айти/бизнесе, и им требуется больший объем трафика/сообщений/звонков."
   ]
  },
  {
   "cell_type": "code",
   "execution_count": 65,
   "metadata": {},
   "outputs": [
    {
     "data": {
      "text/plain": [
       "17963.873584288052"
      ]
     },
     "metadata": {},
     "output_type": "display_data"
    },
    {
     "data": {
      "text/plain": [
       "17030.096415674223"
      ]
     },
     "metadata": {},
     "output_type": "display_data"
    }
   ],
   "source": [
    "display(\n",
    "df_merged.query('city == \"Москва\"')['mb_used'].sum() / len(df_merged.query('city == \"Москва\"')),\n",
    "df_merged.query('city != \"Москва\"')['mb_used'].sum() / len(df_merged.query('city != \"Москва\"')))"
   ]
  },
  {
   "cell_type": "markdown",
   "metadata": {},
   "source": [
    "При этом различия в объеме трафика на человека между Москвой и регионами не такие значительные - всего 1 гб!"
   ]
  }
 ],
 "metadata": {
  "ExecuteTimeLog": [
   {
    "duration": 417,
    "start_time": "2022-05-09T03:55:49.416Z"
   },
   {
    "duration": 401,
    "start_time": "2022-05-09T03:57:27.856Z"
   },
   {
    "duration": 29,
    "start_time": "2022-05-09T03:57:47.219Z"
   },
   {
    "duration": 22,
    "start_time": "2022-05-09T03:57:56.445Z"
   },
   {
    "duration": 21,
    "start_time": "2022-05-09T03:58:08.975Z"
   },
   {
    "duration": 11,
    "start_time": "2022-05-09T03:58:19.860Z"
   },
   {
    "duration": 12,
    "start_time": "2022-05-09T03:58:34.860Z"
   },
   {
    "duration": 15,
    "start_time": "2022-05-09T03:59:23.445Z"
   },
   {
    "duration": 13,
    "start_time": "2022-05-09T03:59:45.514Z"
   },
   {
    "duration": 6,
    "start_time": "2022-05-09T04:00:14.142Z"
   },
   {
    "duration": 7,
    "start_time": "2022-05-09T04:00:31.097Z"
   },
   {
    "duration": 8,
    "start_time": "2022-05-09T04:00:36.123Z"
   },
   {
    "duration": 5,
    "start_time": "2022-05-09T04:00:50.310Z"
   },
   {
    "duration": 95,
    "start_time": "2022-05-09T04:05:49.601Z"
   },
   {
    "duration": 135,
    "start_time": "2022-05-09T04:05:58.318Z"
   },
   {
    "duration": 83,
    "start_time": "2022-05-09T04:06:09.802Z"
   },
   {
    "duration": 104,
    "start_time": "2022-05-09T04:18:39.859Z"
   },
   {
    "duration": 8,
    "start_time": "2022-05-09T04:18:59.362Z"
   },
   {
    "duration": 14,
    "start_time": "2022-05-09T04:19:14.398Z"
   },
   {
    "duration": 11,
    "start_time": "2022-05-09T04:19:19.674Z"
   },
   {
    "duration": 11,
    "start_time": "2022-05-09T04:21:27.008Z"
   },
   {
    "duration": 6,
    "start_time": "2022-05-09T04:23:00.555Z"
   },
   {
    "duration": 6,
    "start_time": "2022-05-09T04:23:25.057Z"
   },
   {
    "duration": 81,
    "start_time": "2022-05-09T04:23:36.672Z"
   },
   {
    "duration": 25,
    "start_time": "2022-05-09T04:23:50.811Z"
   },
   {
    "duration": 107,
    "start_time": "2022-05-09T04:24:07.514Z"
   },
   {
    "duration": 21,
    "start_time": "2022-05-09T04:24:42.593Z"
   },
   {
    "duration": 12,
    "start_time": "2022-05-09T04:24:47.552Z"
   },
   {
    "duration": 11,
    "start_time": "2022-05-09T04:25:21.959Z"
   },
   {
    "duration": 84,
    "start_time": "2022-05-09T04:25:36.640Z"
   },
   {
    "duration": 22,
    "start_time": "2022-05-09T04:25:56.185Z"
   },
   {
    "duration": 14,
    "start_time": "2022-05-09T04:26:06.912Z"
   },
   {
    "duration": 18,
    "start_time": "2022-05-09T04:26:47.613Z"
   },
   {
    "duration": 5,
    "start_time": "2022-05-09T04:26:54.009Z"
   },
   {
    "duration": 12,
    "start_time": "2022-05-09T04:27:00.853Z"
   },
   {
    "duration": 6,
    "start_time": "2022-05-09T04:27:16.687Z"
   },
   {
    "duration": 94,
    "start_time": "2022-05-09T04:27:50.040Z"
   },
   {
    "duration": 14,
    "start_time": "2022-05-09T04:27:56.763Z"
   },
   {
    "duration": 71,
    "start_time": "2022-05-09T04:29:07.622Z"
   },
   {
    "duration": 9,
    "start_time": "2022-05-09T04:30:54.499Z"
   },
   {
    "duration": 15,
    "start_time": "2022-05-09T04:31:03.516Z"
   },
   {
    "duration": 12,
    "start_time": "2022-05-09T04:31:14.844Z"
   },
   {
    "duration": 12,
    "start_time": "2022-05-09T04:31:25.818Z"
   },
   {
    "duration": 11,
    "start_time": "2022-05-09T04:31:47.404Z"
   },
   {
    "duration": 12,
    "start_time": "2022-05-09T04:31:55.975Z"
   },
   {
    "duration": 11,
    "start_time": "2022-05-09T04:32:03.297Z"
   },
   {
    "duration": 448,
    "start_time": "2022-05-09T04:32:08.991Z"
   },
   {
    "duration": 398,
    "start_time": "2022-05-09T04:32:09.441Z"
   },
   {
    "duration": 14,
    "start_time": "2022-05-09T04:32:09.841Z"
   },
   {
    "duration": 11,
    "start_time": "2022-05-09T04:32:09.857Z"
   },
   {
    "duration": 10,
    "start_time": "2022-05-09T04:32:09.870Z"
   },
   {
    "duration": 9,
    "start_time": "2022-05-09T04:32:09.881Z"
   },
   {
    "duration": 34,
    "start_time": "2022-05-09T04:32:09.892Z"
   },
   {
    "duration": 12,
    "start_time": "2022-05-09T04:32:09.928Z"
   },
   {
    "duration": 20,
    "start_time": "2022-05-09T04:32:09.942Z"
   },
   {
    "duration": 11,
    "start_time": "2022-05-09T04:32:09.964Z"
   },
   {
    "duration": 48,
    "start_time": "2022-05-09T04:32:09.977Z"
   },
   {
    "duration": 15,
    "start_time": "2022-05-09T04:32:10.026Z"
   },
   {
    "duration": 26,
    "start_time": "2022-05-09T04:32:10.043Z"
   },
   {
    "duration": 74,
    "start_time": "2022-05-09T10:14:08.826Z"
   },
   {
    "duration": 8,
    "start_time": "2022-05-09T10:14:11.758Z"
   },
   {
    "duration": 8,
    "start_time": "2022-05-09T10:14:15.891Z"
   },
   {
    "duration": 528,
    "start_time": "2022-05-09T10:14:26.741Z"
   },
   {
    "duration": 534,
    "start_time": "2022-05-09T10:14:27.272Z"
   },
   {
    "duration": 26,
    "start_time": "2022-05-09T10:14:27.808Z"
   },
   {
    "duration": 17,
    "start_time": "2022-05-09T10:14:27.838Z"
   },
   {
    "duration": 21,
    "start_time": "2022-05-09T10:14:27.858Z"
   },
   {
    "duration": 11,
    "start_time": "2022-05-09T10:14:27.882Z"
   },
   {
    "duration": 69,
    "start_time": "2022-05-09T10:14:27.895Z"
   },
   {
    "duration": 25,
    "start_time": "2022-05-09T10:14:27.967Z"
   },
   {
    "duration": 51,
    "start_time": "2022-05-09T10:14:27.995Z"
   },
   {
    "duration": 17,
    "start_time": "2022-05-09T10:14:28.050Z"
   },
   {
    "duration": 60,
    "start_time": "2022-05-09T10:14:28.069Z"
   },
   {
    "duration": 20,
    "start_time": "2022-05-09T10:14:28.131Z"
   },
   {
    "duration": 45,
    "start_time": "2022-05-09T10:14:28.153Z"
   },
   {
    "duration": 8,
    "start_time": "2022-05-09T10:14:35.018Z"
   },
   {
    "duration": 97,
    "start_time": "2022-05-09T10:14:51.715Z"
   },
   {
    "duration": 23,
    "start_time": "2022-05-09T10:15:03.968Z"
   },
   {
    "duration": 17,
    "start_time": "2022-05-09T10:16:07.377Z"
   },
   {
    "duration": 12,
    "start_time": "2022-05-09T10:16:18.711Z"
   },
   {
    "duration": 30,
    "start_time": "2022-05-09T10:16:30.000Z"
   },
   {
    "duration": 10,
    "start_time": "2022-05-09T10:16:50.455Z"
   },
   {
    "duration": 21,
    "start_time": "2022-05-09T10:16:56.833Z"
   },
   {
    "duration": 5,
    "start_time": "2022-05-09T10:17:09.458Z"
   },
   {
    "duration": 20,
    "start_time": "2022-05-09T10:17:16.434Z"
   },
   {
    "duration": 6,
    "start_time": "2022-05-09T10:17:36.324Z"
   },
   {
    "duration": 19,
    "start_time": "2022-05-09T10:17:54.378Z"
   },
   {
    "duration": 28,
    "start_time": "2022-05-09T10:23:02.225Z"
   },
   {
    "duration": 26,
    "start_time": "2022-05-09T10:23:15.260Z"
   },
   {
    "duration": 27,
    "start_time": "2022-05-09T10:25:25.763Z"
   },
   {
    "duration": 539,
    "start_time": "2022-05-09T10:53:40.907Z"
   },
   {
    "duration": 531,
    "start_time": "2022-05-09T10:53:41.449Z"
   },
   {
    "duration": 22,
    "start_time": "2022-05-09T10:53:41.982Z"
   },
   {
    "duration": 17,
    "start_time": "2022-05-09T10:53:42.007Z"
   },
   {
    "duration": 11,
    "start_time": "2022-05-09T10:53:42.026Z"
   },
   {
    "duration": 12,
    "start_time": "2022-05-09T10:53:42.039Z"
   },
   {
    "duration": 75,
    "start_time": "2022-05-09T10:53:42.053Z"
   },
   {
    "duration": 18,
    "start_time": "2022-05-09T10:53:42.130Z"
   },
   {
    "duration": 30,
    "start_time": "2022-05-09T10:53:42.150Z"
   },
   {
    "duration": 50,
    "start_time": "2022-05-09T10:53:42.183Z"
   },
   {
    "duration": 32,
    "start_time": "2022-05-09T10:53:42.236Z"
   },
   {
    "duration": 21,
    "start_time": "2022-05-09T10:53:42.270Z"
   },
   {
    "duration": 31,
    "start_time": "2022-05-09T10:53:42.324Z"
   },
   {
    "duration": 6,
    "start_time": "2022-05-09T10:53:42.357Z"
   },
   {
    "duration": 26,
    "start_time": "2022-05-09T10:53:42.365Z"
   },
   {
    "duration": 46,
    "start_time": "2022-05-09T10:53:42.393Z"
   },
   {
    "duration": 8,
    "start_time": "2022-05-09T10:59:17.889Z"
   },
   {
    "duration": 137,
    "start_time": "2022-05-09T11:00:00.206Z"
   },
   {
    "duration": 116,
    "start_time": "2022-05-09T11:00:40.572Z"
   },
   {
    "duration": 7,
    "start_time": "2022-05-09T11:00:50.978Z"
   },
   {
    "duration": 17,
    "start_time": "2022-05-09T11:01:06.641Z"
   },
   {
    "duration": 9,
    "start_time": "2022-05-09T11:01:13.460Z"
   },
   {
    "duration": 10,
    "start_time": "2022-05-09T11:01:22.138Z"
   },
   {
    "duration": 32,
    "start_time": "2022-05-09T11:01:45.537Z"
   },
   {
    "duration": 11,
    "start_time": "2022-05-09T11:02:04.055Z"
   },
   {
    "duration": 19,
    "start_time": "2022-05-09T11:02:54.019Z"
   },
   {
    "duration": 7,
    "start_time": "2022-05-09T11:03:58.371Z"
   },
   {
    "duration": 14,
    "start_time": "2022-05-09T11:04:18.490Z"
   },
   {
    "duration": 21,
    "start_time": "2022-05-09T11:04:35.064Z"
   },
   {
    "duration": 37,
    "start_time": "2022-05-09T11:05:07.256Z"
   },
   {
    "duration": 9,
    "start_time": "2022-05-09T11:05:22.348Z"
   },
   {
    "duration": 7,
    "start_time": "2022-05-09T11:34:14.339Z"
   },
   {
    "duration": 11,
    "start_time": "2022-05-09T11:36:16.915Z"
   },
   {
    "duration": 11,
    "start_time": "2022-05-09T11:36:31.209Z"
   },
   {
    "duration": 13,
    "start_time": "2022-05-09T11:36:33.798Z"
   },
   {
    "duration": 35,
    "start_time": "2022-05-09T11:40:42.105Z"
   },
   {
    "duration": 33,
    "start_time": "2022-05-09T11:40:52.201Z"
   },
   {
    "duration": 25,
    "start_time": "2022-05-09T11:41:04.459Z"
   },
   {
    "duration": 13,
    "start_time": "2022-05-09T11:41:37.198Z"
   },
   {
    "duration": 13,
    "start_time": "2022-05-09T11:41:52.435Z"
   },
   {
    "duration": 30,
    "start_time": "2022-05-09T11:46:29.206Z"
   },
   {
    "duration": 27,
    "start_time": "2022-05-09T11:47:26.126Z"
   },
   {
    "duration": 1029,
    "start_time": "2022-05-09T11:47:33.809Z"
   },
   {
    "duration": 26,
    "start_time": "2022-05-09T11:47:40.258Z"
   },
   {
    "duration": 11,
    "start_time": "2022-05-09T11:47:57.150Z"
   },
   {
    "duration": 12,
    "start_time": "2022-05-09T11:48:00.730Z"
   },
   {
    "duration": 22,
    "start_time": "2022-05-09T11:49:33.281Z"
   },
   {
    "duration": 14,
    "start_time": "2022-05-09T11:49:49.401Z"
   },
   {
    "duration": 1772,
    "start_time": "2022-05-09T11:50:57.058Z"
   },
   {
    "duration": 759,
    "start_time": "2022-05-09T11:51:16.856Z"
   },
   {
    "duration": 12,
    "start_time": "2022-05-09T11:51:48.835Z"
   },
   {
    "duration": 18,
    "start_time": "2022-05-09T11:52:04.201Z"
   },
   {
    "duration": 18,
    "start_time": "2022-05-09T11:52:09.640Z"
   },
   {
    "duration": 3182,
    "start_time": "2022-05-09T11:52:24.382Z"
   },
   {
    "duration": 493,
    "start_time": "2022-05-09T11:52:31.916Z"
   },
   {
    "duration": 707,
    "start_time": "2022-05-09T11:52:43.672Z"
   },
   {
    "duration": 563,
    "start_time": "2022-05-09T11:54:27.607Z"
   },
   {
    "duration": 569,
    "start_time": "2022-05-09T11:55:55.428Z"
   },
   {
    "duration": 1213,
    "start_time": "2022-05-09T11:56:07.268Z"
   },
   {
    "duration": 853,
    "start_time": "2022-05-09T11:56:25.488Z"
   },
   {
    "duration": 559,
    "start_time": "2022-05-09T11:56:49.553Z"
   },
   {
    "duration": 127,
    "start_time": "2022-05-09T11:57:20.400Z"
   },
   {
    "duration": 561,
    "start_time": "2022-05-09T11:57:25.012Z"
   },
   {
    "duration": 747,
    "start_time": "2022-05-09T11:57:46.619Z"
   },
   {
    "duration": 551,
    "start_time": "2022-05-09T11:57:59.892Z"
   },
   {
    "duration": 508,
    "start_time": "2022-05-09T12:00:05.506Z"
   },
   {
    "duration": 509,
    "start_time": "2022-05-09T12:00:12.139Z"
   },
   {
    "duration": 502,
    "start_time": "2022-05-09T12:33:42.748Z"
   },
   {
    "duration": 812,
    "start_time": "2022-05-09T12:34:05.342Z"
   },
   {
    "duration": 505,
    "start_time": "2022-05-09T12:34:58.734Z"
   },
   {
    "duration": 25,
    "start_time": "2022-05-09T12:37:42.929Z"
   },
   {
    "duration": 23,
    "start_time": "2022-05-09T12:39:56.145Z"
   },
   {
    "duration": 23,
    "start_time": "2022-05-09T12:42:10.742Z"
   },
   {
    "duration": 23,
    "start_time": "2022-05-09T12:42:34.287Z"
   },
   {
    "duration": 14,
    "start_time": "2022-05-09T13:51:40.312Z"
   },
   {
    "duration": 12,
    "start_time": "2022-05-09T13:52:32.952Z"
   },
   {
    "duration": 30,
    "start_time": "2022-05-09T13:54:19.225Z"
   },
   {
    "duration": 486,
    "start_time": "2022-05-10T12:30:06.419Z"
   },
   {
    "duration": 512,
    "start_time": "2022-05-10T12:30:06.908Z"
   },
   {
    "duration": 21,
    "start_time": "2022-05-10T12:30:07.422Z"
   },
   {
    "duration": 21,
    "start_time": "2022-05-10T12:30:07.446Z"
   },
   {
    "duration": 36,
    "start_time": "2022-05-10T12:30:07.469Z"
   },
   {
    "duration": 17,
    "start_time": "2022-05-10T12:30:07.507Z"
   },
   {
    "duration": 38,
    "start_time": "2022-05-10T12:30:07.526Z"
   },
   {
    "duration": 21,
    "start_time": "2022-05-10T12:30:07.566Z"
   },
   {
    "duration": 58,
    "start_time": "2022-05-10T12:30:07.591Z"
   },
   {
    "duration": 21,
    "start_time": "2022-05-10T12:30:07.653Z"
   },
   {
    "duration": 60,
    "start_time": "2022-05-10T12:30:07.676Z"
   },
   {
    "duration": 24,
    "start_time": "2022-05-10T12:30:07.739Z"
   },
   {
    "duration": 39,
    "start_time": "2022-05-10T12:30:07.765Z"
   },
   {
    "duration": 13,
    "start_time": "2022-05-10T12:30:07.806Z"
   },
   {
    "duration": 116,
    "start_time": "2022-05-10T12:30:07.822Z"
   },
   {
    "duration": 0,
    "start_time": "2022-05-10T12:30:07.941Z"
   },
   {
    "duration": 0,
    "start_time": "2022-05-10T12:30:07.943Z"
   },
   {
    "duration": 0,
    "start_time": "2022-05-10T12:30:07.945Z"
   },
   {
    "duration": 43,
    "start_time": "2022-05-10T12:33:41.915Z"
   },
   {
    "duration": 40,
    "start_time": "2022-05-10T12:35:43.683Z"
   },
   {
    "duration": 838,
    "start_time": "2022-05-10T12:35:49.154Z"
   },
   {
    "duration": 25,
    "start_time": "2022-05-10T12:36:05.497Z"
   },
   {
    "duration": 810,
    "start_time": "2022-05-10T12:36:21.595Z"
   },
   {
    "duration": 610,
    "start_time": "2022-05-10T12:38:35.801Z"
   },
   {
    "duration": 511,
    "start_time": "2022-05-10T12:38:36.414Z"
   },
   {
    "duration": 22,
    "start_time": "2022-05-10T12:38:36.927Z"
   },
   {
    "duration": 16,
    "start_time": "2022-05-10T12:38:36.952Z"
   },
   {
    "duration": 15,
    "start_time": "2022-05-10T12:38:36.970Z"
   },
   {
    "duration": 19,
    "start_time": "2022-05-10T12:38:36.991Z"
   },
   {
    "duration": 35,
    "start_time": "2022-05-10T12:38:37.013Z"
   },
   {
    "duration": 31,
    "start_time": "2022-05-10T12:38:37.051Z"
   },
   {
    "duration": 29,
    "start_time": "2022-05-10T12:38:37.090Z"
   },
   {
    "duration": 16,
    "start_time": "2022-05-10T12:38:37.122Z"
   },
   {
    "duration": 66,
    "start_time": "2022-05-10T12:38:37.140Z"
   },
   {
    "duration": 20,
    "start_time": "2022-05-10T12:38:37.208Z"
   },
   {
    "duration": 55,
    "start_time": "2022-05-10T12:38:37.231Z"
   },
   {
    "duration": 7,
    "start_time": "2022-05-10T12:38:37.293Z"
   },
   {
    "duration": 124,
    "start_time": "2022-05-10T12:38:37.302Z"
   },
   {
    "duration": 0,
    "start_time": "2022-05-10T12:38:37.429Z"
   },
   {
    "duration": 0,
    "start_time": "2022-05-10T12:38:37.431Z"
   },
   {
    "duration": 0,
    "start_time": "2022-05-10T12:38:37.432Z"
   },
   {
    "duration": 0,
    "start_time": "2022-05-10T12:38:37.434Z"
   },
   {
    "duration": 1095,
    "start_time": "2022-05-10T12:39:23.675Z"
   },
   {
    "duration": 498,
    "start_time": "2022-05-10T12:39:39.409Z"
   },
   {
    "duration": 522,
    "start_time": "2022-05-10T12:39:39.910Z"
   },
   {
    "duration": 23,
    "start_time": "2022-05-10T12:39:40.436Z"
   },
   {
    "duration": 22,
    "start_time": "2022-05-10T12:39:40.463Z"
   },
   {
    "duration": 16,
    "start_time": "2022-05-10T12:39:40.487Z"
   },
   {
    "duration": 18,
    "start_time": "2022-05-10T12:39:40.506Z"
   },
   {
    "duration": 72,
    "start_time": "2022-05-10T12:39:40.527Z"
   },
   {
    "duration": 17,
    "start_time": "2022-05-10T12:39:40.602Z"
   },
   {
    "duration": 65,
    "start_time": "2022-05-10T12:39:40.621Z"
   },
   {
    "duration": 20,
    "start_time": "2022-05-10T12:39:40.690Z"
   },
   {
    "duration": 48,
    "start_time": "2022-05-10T12:39:40.713Z"
   },
   {
    "duration": 27,
    "start_time": "2022-05-10T12:39:40.786Z"
   },
   {
    "duration": 38,
    "start_time": "2022-05-10T12:39:40.815Z"
   },
   {
    "duration": 27,
    "start_time": "2022-05-10T12:39:40.856Z"
   },
   {
    "duration": 1214,
    "start_time": "2022-05-10T12:39:40.888Z"
   },
   {
    "duration": 0,
    "start_time": "2022-05-10T12:39:42.105Z"
   },
   {
    "duration": 0,
    "start_time": "2022-05-10T12:39:42.107Z"
   },
   {
    "duration": 0,
    "start_time": "2022-05-10T12:39:42.109Z"
   },
   {
    "duration": 0,
    "start_time": "2022-05-10T12:39:42.112Z"
   },
   {
    "duration": 488,
    "start_time": "2022-05-10T12:40:08.509Z"
   },
   {
    "duration": 526,
    "start_time": "2022-05-10T12:40:09.000Z"
   },
   {
    "duration": 22,
    "start_time": "2022-05-10T12:40:09.528Z"
   },
   {
    "duration": 17,
    "start_time": "2022-05-10T12:40:09.554Z"
   },
   {
    "duration": 16,
    "start_time": "2022-05-10T12:40:09.574Z"
   },
   {
    "duration": 19,
    "start_time": "2022-05-10T12:40:09.593Z"
   },
   {
    "duration": 32,
    "start_time": "2022-05-10T12:40:09.615Z"
   },
   {
    "duration": 46,
    "start_time": "2022-05-10T12:40:09.650Z"
   },
   {
    "duration": 27,
    "start_time": "2022-05-10T12:40:09.698Z"
   },
   {
    "duration": 14,
    "start_time": "2022-05-10T12:40:09.729Z"
   },
   {
    "duration": 69,
    "start_time": "2022-05-10T12:40:09.746Z"
   },
   {
    "duration": 27,
    "start_time": "2022-05-10T12:40:09.818Z"
   },
   {
    "duration": 57,
    "start_time": "2022-05-10T12:40:09.847Z"
   },
   {
    "duration": 7,
    "start_time": "2022-05-10T12:40:09.907Z"
   },
   {
    "duration": 45,
    "start_time": "2022-05-10T12:40:09.917Z"
   },
   {
    "duration": 36,
    "start_time": "2022-05-10T12:40:09.982Z"
   },
   {
    "duration": 35,
    "start_time": "2022-05-10T12:40:10.020Z"
   },
   {
    "duration": 1256,
    "start_time": "2022-05-10T12:40:10.057Z"
   },
   {
    "duration": 611,
    "start_time": "2022-05-10T12:40:11.316Z"
   },
   {
    "duration": 575,
    "start_time": "2022-05-10T12:40:29.969Z"
   },
   {
    "duration": 791,
    "start_time": "2022-05-10T12:40:30.548Z"
   },
   {
    "duration": 26,
    "start_time": "2022-05-10T12:40:31.341Z"
   },
   {
    "duration": 36,
    "start_time": "2022-05-10T12:40:31.369Z"
   },
   {
    "duration": 8,
    "start_time": "2022-05-10T12:40:31.408Z"
   },
   {
    "duration": 21,
    "start_time": "2022-05-10T12:40:31.419Z"
   },
   {
    "duration": 60,
    "start_time": "2022-05-10T12:40:31.443Z"
   },
   {
    "duration": 21,
    "start_time": "2022-05-10T12:40:31.505Z"
   },
   {
    "duration": 41,
    "start_time": "2022-05-10T12:40:31.528Z"
   },
   {
    "duration": 29,
    "start_time": "2022-05-10T12:40:31.571Z"
   },
   {
    "duration": 52,
    "start_time": "2022-05-10T12:40:31.603Z"
   },
   {
    "duration": 46,
    "start_time": "2022-05-10T12:40:31.658Z"
   },
   {
    "duration": 47,
    "start_time": "2022-05-10T12:40:31.707Z"
   },
   {
    "duration": 6,
    "start_time": "2022-05-10T12:40:31.758Z"
   },
   {
    "duration": 1284,
    "start_time": "2022-05-10T12:40:31.766Z"
   },
   {
    "duration": 0,
    "start_time": "2022-05-10T12:40:33.052Z"
   },
   {
    "duration": 0,
    "start_time": "2022-05-10T12:40:33.053Z"
   },
   {
    "duration": 0,
    "start_time": "2022-05-10T12:40:33.055Z"
   },
   {
    "duration": 0,
    "start_time": "2022-05-10T12:40:33.057Z"
   },
   {
    "duration": 27,
    "start_time": "2022-05-10T12:40:41.498Z"
   },
   {
    "duration": 23,
    "start_time": "2022-05-10T12:40:51.860Z"
   },
   {
    "duration": 577,
    "start_time": "2022-05-10T12:41:39.022Z"
   },
   {
    "duration": 663,
    "start_time": "2022-05-10T12:41:39.603Z"
   },
   {
    "duration": 26,
    "start_time": "2022-05-10T12:41:40.268Z"
   },
   {
    "duration": 30,
    "start_time": "2022-05-10T12:41:40.297Z"
   },
   {
    "duration": 11,
    "start_time": "2022-05-10T12:41:40.329Z"
   },
   {
    "duration": 10,
    "start_time": "2022-05-10T12:41:40.343Z"
   },
   {
    "duration": 72,
    "start_time": "2022-05-10T12:41:40.356Z"
   },
   {
    "duration": 18,
    "start_time": "2022-05-10T12:41:40.430Z"
   },
   {
    "duration": 38,
    "start_time": "2022-05-10T12:41:40.451Z"
   },
   {
    "duration": 18,
    "start_time": "2022-05-10T12:41:40.492Z"
   },
   {
    "duration": 70,
    "start_time": "2022-05-10T12:41:40.512Z"
   },
   {
    "duration": 23,
    "start_time": "2022-05-10T12:41:40.586Z"
   },
   {
    "duration": 27,
    "start_time": "2022-05-10T12:41:40.611Z"
   },
   {
    "duration": 5,
    "start_time": "2022-05-10T12:41:40.641Z"
   },
   {
    "duration": 70,
    "start_time": "2022-05-10T12:41:40.648Z"
   },
   {
    "duration": 928,
    "start_time": "2022-05-10T12:41:40.721Z"
   },
   {
    "duration": 584,
    "start_time": "2022-05-10T12:41:41.651Z"
   },
   {
    "duration": 44,
    "start_time": "2022-05-10T12:43:28.188Z"
   },
   {
    "duration": 930,
    "start_time": "2022-05-10T12:43:30.695Z"
   },
   {
    "duration": 515,
    "start_time": "2022-05-10T12:43:54.257Z"
   },
   {
    "duration": 8,
    "start_time": "2022-05-10T12:45:40.428Z"
   },
   {
    "duration": 8,
    "start_time": "2022-05-10T12:45:45.100Z"
   },
   {
    "duration": 7,
    "start_time": "2022-05-10T12:46:01.184Z"
   },
   {
    "duration": 7,
    "start_time": "2022-05-10T12:46:04.440Z"
   },
   {
    "duration": 8,
    "start_time": "2022-05-10T12:46:20.010Z"
   },
   {
    "duration": 7,
    "start_time": "2022-05-10T12:46:21.502Z"
   },
   {
    "duration": 8,
    "start_time": "2022-05-10T12:46:29.343Z"
   },
   {
    "duration": 14,
    "start_time": "2022-05-10T12:46:51.541Z"
   },
   {
    "duration": 8,
    "start_time": "2022-05-10T12:46:58.737Z"
   },
   {
    "duration": 27,
    "start_time": "2022-05-10T12:47:46.607Z"
   },
   {
    "duration": 21,
    "start_time": "2022-05-10T12:48:22.986Z"
   },
   {
    "duration": 10,
    "start_time": "2022-05-10T12:48:36.302Z"
   },
   {
    "duration": 9,
    "start_time": "2022-05-10T12:48:48.086Z"
   },
   {
    "duration": 199,
    "start_time": "2022-05-10T12:55:25.723Z"
   },
   {
    "duration": 12,
    "start_time": "2022-05-10T12:56:40.565Z"
   },
   {
    "duration": 393,
    "start_time": "2022-05-10T12:58:41.095Z"
   },
   {
    "duration": 17,
    "start_time": "2022-05-10T12:58:44.739Z"
   },
   {
    "duration": 17,
    "start_time": "2022-05-10T12:58:49.633Z"
   },
   {
    "duration": 8,
    "start_time": "2022-05-10T12:58:52.174Z"
   },
   {
    "duration": 12,
    "start_time": "2022-05-10T12:58:53.944Z"
   },
   {
    "duration": 62,
    "start_time": "2022-05-10T12:58:56.473Z"
   },
   {
    "duration": 13,
    "start_time": "2022-05-10T12:59:01.533Z"
   },
   {
    "duration": 11,
    "start_time": "2022-05-10T13:05:28.144Z"
   },
   {
    "duration": 26,
    "start_time": "2022-05-10T13:15:02.501Z"
   },
   {
    "duration": 77,
    "start_time": "2022-05-10T13:24:31.770Z"
   },
   {
    "duration": 13,
    "start_time": "2022-05-10T13:26:04.564Z"
   },
   {
    "duration": 23,
    "start_time": "2022-05-10T13:26:23.349Z"
   },
   {
    "duration": 20,
    "start_time": "2022-05-10T13:26:36.934Z"
   },
   {
    "duration": 19,
    "start_time": "2022-05-10T13:28:18.247Z"
   },
   {
    "duration": 14,
    "start_time": "2022-05-10T13:34:52.646Z"
   },
   {
    "duration": 20,
    "start_time": "2022-05-10T13:56:22.193Z"
   },
   {
    "duration": 46,
    "start_time": "2022-05-10T13:56:38.098Z"
   },
   {
    "duration": 33,
    "start_time": "2022-05-10T13:59:38.858Z"
   },
   {
    "duration": 33,
    "start_time": "2022-05-10T14:00:15.515Z"
   },
   {
    "duration": 38,
    "start_time": "2022-05-10T14:01:16.599Z"
   },
   {
    "duration": 25,
    "start_time": "2022-05-10T14:01:39.944Z"
   },
   {
    "duration": 16,
    "start_time": "2022-05-10T14:04:41.697Z"
   },
   {
    "duration": 50,
    "start_time": "2022-05-10T14:04:59.669Z"
   },
   {
    "duration": 24,
    "start_time": "2022-05-10T14:05:09.011Z"
   },
   {
    "duration": 27,
    "start_time": "2022-05-10T14:05:16.454Z"
   },
   {
    "duration": 413,
    "start_time": "2022-05-10T14:05:24.506Z"
   },
   {
    "duration": 29,
    "start_time": "2022-05-10T14:05:29.318Z"
   },
   {
    "duration": 45,
    "start_time": "2022-05-10T14:05:54.979Z"
   },
   {
    "duration": 131,
    "start_time": "2022-05-10T14:06:56.307Z"
   },
   {
    "duration": 2206,
    "start_time": "2022-05-10T14:07:02.407Z"
   },
   {
    "duration": 14,
    "start_time": "2022-05-10T14:07:23.415Z"
   },
   {
    "duration": 2138,
    "start_time": "2022-05-10T14:07:39.620Z"
   },
   {
    "duration": 3920,
    "start_time": "2022-05-10T14:08:07.897Z"
   },
   {
    "duration": 14,
    "start_time": "2022-05-10T14:09:39.800Z"
   },
   {
    "duration": 22,
    "start_time": "2022-05-10T14:09:44.657Z"
   },
   {
    "duration": 24,
    "start_time": "2022-05-10T14:09:54.710Z"
   },
   {
    "duration": 27,
    "start_time": "2022-05-10T14:10:36.909Z"
   },
   {
    "duration": 66,
    "start_time": "2022-05-10T14:10:55.211Z"
   },
   {
    "duration": 25,
    "start_time": "2022-05-10T14:11:35.328Z"
   },
   {
    "duration": 32,
    "start_time": "2022-05-10T14:12:03.502Z"
   },
   {
    "duration": 30,
    "start_time": "2022-05-10T14:12:07.321Z"
   },
   {
    "duration": 16,
    "start_time": "2022-05-10T14:12:13.911Z"
   },
   {
    "duration": 5,
    "start_time": "2022-05-10T14:12:57.262Z"
   },
   {
    "duration": 32,
    "start_time": "2022-05-10T14:13:01.756Z"
   },
   {
    "duration": 8,
    "start_time": "2022-05-10T14:13:17.616Z"
   },
   {
    "duration": 7,
    "start_time": "2022-05-10T14:17:21.454Z"
   },
   {
    "duration": 31,
    "start_time": "2022-05-10T14:17:25.675Z"
   },
   {
    "duration": 198,
    "start_time": "2022-05-10T14:17:39.609Z"
   },
   {
    "duration": 330,
    "start_time": "2022-05-10T14:20:16.932Z"
   },
   {
    "duration": 1603,
    "start_time": "2022-05-10T14:20:28.117Z"
   },
   {
    "duration": 489,
    "start_time": "2022-05-10T14:20:38.996Z"
   },
   {
    "duration": 18,
    "start_time": "2022-05-10T14:21:01.634Z"
   },
   {
    "duration": 14,
    "start_time": "2022-05-10T14:21:08.621Z"
   },
   {
    "duration": 10,
    "start_time": "2022-05-10T14:21:37.025Z"
   },
   {
    "duration": 228,
    "start_time": "2022-05-10T14:21:48.357Z"
   },
   {
    "duration": 228,
    "start_time": "2022-05-10T14:21:54.253Z"
   },
   {
    "duration": 247,
    "start_time": "2022-05-10T14:21:57.468Z"
   },
   {
    "duration": 723,
    "start_time": "2022-05-10T14:22:00.381Z"
   },
   {
    "duration": 1671,
    "start_time": "2022-05-10T14:24:51.197Z"
   },
   {
    "duration": 25,
    "start_time": "2022-05-10T14:25:07.754Z"
   },
   {
    "duration": 2205,
    "start_time": "2022-05-10T14:57:55.839Z"
   },
   {
    "duration": 1668,
    "start_time": "2022-05-10T14:58:12.689Z"
   },
   {
    "duration": 506,
    "start_time": "2022-05-10T14:58:21.237Z"
   },
   {
    "duration": 535,
    "start_time": "2022-05-10T14:58:21.746Z"
   },
   {
    "duration": 410,
    "start_time": "2022-05-10T14:58:22.284Z"
   },
   {
    "duration": 22,
    "start_time": "2022-05-10T14:58:22.700Z"
   },
   {
    "duration": 16,
    "start_time": "2022-05-10T14:58:22.725Z"
   },
   {
    "duration": 11,
    "start_time": "2022-05-10T14:58:22.743Z"
   },
   {
    "duration": 28,
    "start_time": "2022-05-10T14:58:22.783Z"
   },
   {
    "duration": 62,
    "start_time": "2022-05-10T14:58:22.815Z"
   },
   {
    "duration": 26,
    "start_time": "2022-05-10T14:58:22.881Z"
   },
   {
    "duration": 40,
    "start_time": "2022-05-10T14:58:22.913Z"
   },
   {
    "duration": 50,
    "start_time": "2022-05-10T14:58:22.955Z"
   },
   {
    "duration": 45,
    "start_time": "2022-05-10T14:58:23.008Z"
   },
   {
    "duration": 46,
    "start_time": "2022-05-10T14:58:23.055Z"
   },
   {
    "duration": 26,
    "start_time": "2022-05-10T14:58:23.104Z"
   },
   {
    "duration": 61,
    "start_time": "2022-05-10T14:58:23.133Z"
   },
   {
    "duration": 35,
    "start_time": "2022-05-10T14:58:23.198Z"
   },
   {
    "duration": 8,
    "start_time": "2022-05-10T14:58:23.235Z"
   },
   {
    "duration": 951,
    "start_time": "2022-05-10T14:58:23.245Z"
   },
   {
    "duration": 1845,
    "start_time": "2022-05-10T14:58:24.200Z"
   },
   {
    "duration": 0,
    "start_time": "2022-05-10T14:58:26.048Z"
   },
   {
    "duration": 0,
    "start_time": "2022-05-10T14:58:26.049Z"
   },
   {
    "duration": 0,
    "start_time": "2022-05-10T14:58:26.051Z"
   },
   {
    "duration": 0,
    "start_time": "2022-05-10T14:58:26.054Z"
   },
   {
    "duration": 0,
    "start_time": "2022-05-10T14:58:26.056Z"
   },
   {
    "duration": 45,
    "start_time": "2022-05-11T05:13:33.912Z"
   },
   {
    "duration": 377,
    "start_time": "2022-05-11T05:13:39.970Z"
   },
   {
    "duration": 346,
    "start_time": "2022-05-11T05:13:40.349Z"
   },
   {
    "duration": 235,
    "start_time": "2022-05-11T05:13:40.697Z"
   },
   {
    "duration": 21,
    "start_time": "2022-05-11T05:13:40.934Z"
   },
   {
    "duration": 11,
    "start_time": "2022-05-11T05:13:40.956Z"
   },
   {
    "duration": 6,
    "start_time": "2022-05-11T05:13:40.968Z"
   },
   {
    "duration": 7,
    "start_time": "2022-05-11T05:13:40.976Z"
   },
   {
    "duration": 23,
    "start_time": "2022-05-11T05:13:40.985Z"
   },
   {
    "duration": 39,
    "start_time": "2022-05-11T05:13:41.010Z"
   },
   {
    "duration": 18,
    "start_time": "2022-05-11T05:13:41.051Z"
   },
   {
    "duration": 9,
    "start_time": "2022-05-11T05:13:41.071Z"
   },
   {
    "duration": 20,
    "start_time": "2022-05-11T05:13:41.082Z"
   },
   {
    "duration": 11,
    "start_time": "2022-05-11T05:13:41.104Z"
   },
   {
    "duration": 15,
    "start_time": "2022-05-11T05:13:41.147Z"
   },
   {
    "duration": 21,
    "start_time": "2022-05-11T05:13:41.164Z"
   },
   {
    "duration": 18,
    "start_time": "2022-05-11T05:13:41.187Z"
   },
   {
    "duration": 5,
    "start_time": "2022-05-11T05:13:41.206Z"
   },
   {
    "duration": 612,
    "start_time": "2022-05-11T05:13:41.212Z"
   },
   {
    "duration": 987,
    "start_time": "2022-05-11T05:13:41.826Z"
   },
   {
    "duration": 0,
    "start_time": "2022-05-11T05:13:42.814Z"
   },
   {
    "duration": 0,
    "start_time": "2022-05-11T05:13:42.815Z"
   },
   {
    "duration": 0,
    "start_time": "2022-05-11T05:13:42.816Z"
   },
   {
    "duration": 0,
    "start_time": "2022-05-11T05:13:42.817Z"
   },
   {
    "duration": 0,
    "start_time": "2022-05-11T05:13:42.818Z"
   },
   {
    "duration": 942,
    "start_time": "2022-05-11T05:17:17.635Z"
   },
   {
    "duration": 414,
    "start_time": "2022-05-11T05:17:23.924Z"
   },
   {
    "duration": 353,
    "start_time": "2022-05-11T05:17:24.340Z"
   },
   {
    "duration": 234,
    "start_time": "2022-05-11T05:17:24.694Z"
   },
   {
    "duration": 21,
    "start_time": "2022-05-11T05:17:24.930Z"
   },
   {
    "duration": 10,
    "start_time": "2022-05-11T05:17:24.952Z"
   },
   {
    "duration": 9,
    "start_time": "2022-05-11T05:17:24.964Z"
   },
   {
    "duration": 7,
    "start_time": "2022-05-11T05:17:24.974Z"
   },
   {
    "duration": 25,
    "start_time": "2022-05-11T05:17:24.983Z"
   },
   {
    "duration": 12,
    "start_time": "2022-05-11T05:17:25.010Z"
   },
   {
    "duration": 18,
    "start_time": "2022-05-11T05:17:25.049Z"
   },
   {
    "duration": 9,
    "start_time": "2022-05-11T05:17:25.068Z"
   },
   {
    "duration": 20,
    "start_time": "2022-05-11T05:17:25.079Z"
   },
   {
    "duration": 12,
    "start_time": "2022-05-11T05:17:25.101Z"
   },
   {
    "duration": 47,
    "start_time": "2022-05-11T05:17:25.114Z"
   },
   {
    "duration": 21,
    "start_time": "2022-05-11T05:17:25.163Z"
   },
   {
    "duration": 18,
    "start_time": "2022-05-11T05:17:25.185Z"
   },
   {
    "duration": 5,
    "start_time": "2022-05-11T05:17:25.205Z"
   },
   {
    "duration": 462,
    "start_time": "2022-05-11T05:17:25.212Z"
   },
   {
    "duration": 74,
    "start_time": "2022-05-11T05:17:25.676Z"
   },
   {
    "duration": 0,
    "start_time": "2022-05-11T05:17:25.752Z"
   },
   {
    "duration": 0,
    "start_time": "2022-05-11T05:17:25.753Z"
   },
   {
    "duration": 0,
    "start_time": "2022-05-11T05:17:25.755Z"
   },
   {
    "duration": 0,
    "start_time": "2022-05-11T05:17:25.756Z"
   },
   {
    "duration": 20,
    "start_time": "2022-05-11T05:17:31.287Z"
   },
   {
    "duration": 19,
    "start_time": "2022-05-11T05:17:32.517Z"
   },
   {
    "duration": 5,
    "start_time": "2022-05-11T05:17:33.800Z"
   },
   {
    "duration": 12,
    "start_time": "2022-05-11T05:18:52.537Z"
   },
   {
    "duration": 4,
    "start_time": "2022-05-11T05:19:08.089Z"
   },
   {
    "duration": 4,
    "start_time": "2022-05-11T05:19:14.271Z"
   },
   {
    "duration": 4,
    "start_time": "2022-05-11T05:19:21.755Z"
   },
   {
    "duration": 26,
    "start_time": "2022-05-11T05:20:40.086Z"
   },
   {
    "duration": 11,
    "start_time": "2022-05-11T05:21:00.580Z"
   },
   {
    "duration": 10,
    "start_time": "2022-05-11T05:21:12.084Z"
   },
   {
    "duration": 36,
    "start_time": "2022-05-11T05:24:34.091Z"
   },
   {
    "duration": 34,
    "start_time": "2022-05-11T05:24:58.942Z"
   },
   {
    "duration": 43,
    "start_time": "2022-05-11T05:25:05.230Z"
   },
   {
    "duration": 26,
    "start_time": "2022-05-11T05:25:48.523Z"
   },
   {
    "duration": 28,
    "start_time": "2022-05-11T05:26:04.344Z"
   },
   {
    "duration": 10,
    "start_time": "2022-05-11T05:26:58.787Z"
   },
   {
    "duration": 29,
    "start_time": "2022-05-11T05:27:48.327Z"
   },
   {
    "duration": 12,
    "start_time": "2022-05-11T05:28:33.108Z"
   },
   {
    "duration": 4,
    "start_time": "2022-05-11T05:30:27.938Z"
   },
   {
    "duration": 12,
    "start_time": "2022-05-11T05:30:34.463Z"
   },
   {
    "duration": 12,
    "start_time": "2022-05-11T05:30:59.227Z"
   },
   {
    "duration": 15,
    "start_time": "2022-05-11T05:31:37.675Z"
   },
   {
    "duration": 12,
    "start_time": "2022-05-11T05:33:34.236Z"
   },
   {
    "duration": 73,
    "start_time": "2022-05-11T05:34:35.177Z"
   },
   {
    "duration": 79,
    "start_time": "2022-05-11T05:35:08.234Z"
   },
   {
    "duration": 5,
    "start_time": "2022-05-11T05:38:53.698Z"
   },
   {
    "duration": 7,
    "start_time": "2022-05-11T05:39:08.940Z"
   },
   {
    "duration": 6,
    "start_time": "2022-05-11T05:39:19.188Z"
   },
   {
    "duration": 14,
    "start_time": "2022-05-11T05:39:37.284Z"
   },
   {
    "duration": 6,
    "start_time": "2022-05-11T05:40:01.569Z"
   },
   {
    "duration": 14,
    "start_time": "2022-05-11T05:40:37.327Z"
   },
   {
    "duration": 23,
    "start_time": "2022-05-11T05:40:48.154Z"
   },
   {
    "duration": 24,
    "start_time": "2022-05-11T05:40:56.620Z"
   },
   {
    "duration": 14,
    "start_time": "2022-05-11T05:41:04.502Z"
   },
   {
    "duration": 36,
    "start_time": "2022-05-11T05:43:05.303Z"
   },
   {
    "duration": 9,
    "start_time": "2022-05-11T05:43:52.213Z"
   },
   {
    "duration": 104,
    "start_time": "2022-05-11T05:46:11.793Z"
   },
   {
    "duration": 102,
    "start_time": "2022-05-11T05:46:54.000Z"
   },
   {
    "duration": 41,
    "start_time": "2022-05-11T05:46:55.758Z"
   },
   {
    "duration": 12,
    "start_time": "2022-05-11T05:47:39.382Z"
   },
   {
    "duration": 14,
    "start_time": "2022-05-11T05:48:15.941Z"
   },
   {
    "duration": 16,
    "start_time": "2022-05-11T05:48:30.058Z"
   },
   {
    "duration": 385,
    "start_time": "2022-05-11T05:48:41.166Z"
   },
   {
    "duration": 16,
    "start_time": "2022-05-11T05:48:45.599Z"
   },
   {
    "duration": 4,
    "start_time": "2022-05-11T05:49:04.865Z"
   },
   {
    "duration": 3,
    "start_time": "2022-05-11T05:49:11.567Z"
   },
   {
    "duration": 13,
    "start_time": "2022-05-11T05:49:21.357Z"
   },
   {
    "duration": 13,
    "start_time": "2022-05-11T05:50:04.345Z"
   },
   {
    "duration": 11,
    "start_time": "2022-05-11T05:50:32.239Z"
   },
   {
    "duration": 101,
    "start_time": "2022-05-11T05:51:07.679Z"
   },
   {
    "duration": 13,
    "start_time": "2022-05-11T05:51:13.052Z"
   },
   {
    "duration": 5,
    "start_time": "2022-05-11T05:51:23.968Z"
   },
   {
    "duration": 6,
    "start_time": "2022-05-11T05:51:28.949Z"
   },
   {
    "duration": 6,
    "start_time": "2022-05-11T05:51:39.604Z"
   },
   {
    "duration": 6,
    "start_time": "2022-05-11T05:51:47.266Z"
   },
   {
    "duration": 18,
    "start_time": "2022-05-11T05:52:09.290Z"
   },
   {
    "duration": 401,
    "start_time": "2022-05-11T10:28:34.539Z"
   },
   {
    "duration": 372,
    "start_time": "2022-05-11T10:28:34.943Z"
   },
   {
    "duration": 231,
    "start_time": "2022-05-11T10:28:35.317Z"
   },
   {
    "duration": 12,
    "start_time": "2022-05-11T10:28:35.551Z"
   },
   {
    "duration": 10,
    "start_time": "2022-05-11T10:28:35.565Z"
   },
   {
    "duration": 6,
    "start_time": "2022-05-11T10:28:35.576Z"
   },
   {
    "duration": 6,
    "start_time": "2022-05-11T10:28:35.584Z"
   },
   {
    "duration": 24,
    "start_time": "2022-05-11T10:28:35.591Z"
   },
   {
    "duration": 41,
    "start_time": "2022-05-11T10:28:35.616Z"
   },
   {
    "duration": 17,
    "start_time": "2022-05-11T10:28:35.659Z"
   },
   {
    "duration": 8,
    "start_time": "2022-05-11T10:28:35.677Z"
   },
   {
    "duration": 24,
    "start_time": "2022-05-11T10:28:35.687Z"
   },
   {
    "duration": 37,
    "start_time": "2022-05-11T10:28:35.713Z"
   },
   {
    "duration": 18,
    "start_time": "2022-05-11T10:28:35.752Z"
   },
   {
    "duration": 115,
    "start_time": "2022-05-11T10:28:35.771Z"
   },
   {
    "duration": 37,
    "start_time": "2022-05-11T10:28:35.887Z"
   },
   {
    "duration": 369,
    "start_time": "2022-05-11T10:28:35.926Z"
   },
   {
    "duration": 123,
    "start_time": "2022-05-11T10:29:44.917Z"
   },
   {
    "duration": 123,
    "start_time": "2022-05-11T10:29:50.002Z"
   },
   {
    "duration": 124,
    "start_time": "2022-05-11T10:29:54.499Z"
   },
   {
    "duration": 7,
    "start_time": "2022-05-11T10:30:00.867Z"
   },
   {
    "duration": 7,
    "start_time": "2022-05-11T10:30:19.321Z"
   },
   {
    "duration": 80,
    "start_time": "2022-05-11T10:31:18.394Z"
   },
   {
    "duration": 12,
    "start_time": "2022-05-11T10:31:38.142Z"
   },
   {
    "duration": 14,
    "start_time": "2022-05-11T10:32:04.447Z"
   },
   {
    "duration": 115,
    "start_time": "2022-05-11T10:32:20.577Z"
   },
   {
    "duration": 637,
    "start_time": "2022-05-11T10:32:34.510Z"
   },
   {
    "duration": 336,
    "start_time": "2022-05-11T10:32:39.101Z"
   },
   {
    "duration": 280,
    "start_time": "2022-05-11T10:32:43.296Z"
   },
   {
    "duration": 116,
    "start_time": "2022-05-11T10:32:55.216Z"
   },
   {
    "duration": 14,
    "start_time": "2022-05-11T10:33:12.165Z"
   },
   {
    "duration": 12,
    "start_time": "2022-05-11T10:33:18.578Z"
   },
   {
    "duration": 110,
    "start_time": "2022-05-11T10:33:24.311Z"
   },
   {
    "duration": 175,
    "start_time": "2022-05-11T10:33:29.378Z"
   },
   {
    "duration": 182,
    "start_time": "2022-05-11T10:33:34.582Z"
   },
   {
    "duration": 269,
    "start_time": "2022-05-11T10:33:46.502Z"
   },
   {
    "duration": 15,
    "start_time": "2022-05-11T10:34:06.409Z"
   },
   {
    "duration": 12,
    "start_time": "2022-05-11T10:35:41.527Z"
   },
   {
    "duration": 13,
    "start_time": "2022-05-11T10:36:55.459Z"
   },
   {
    "duration": 16,
    "start_time": "2022-05-11T10:37:41.854Z"
   },
   {
    "duration": 13,
    "start_time": "2022-05-11T10:37:58.108Z"
   },
   {
    "duration": 15,
    "start_time": "2022-05-11T10:38:04.064Z"
   },
   {
    "duration": 13,
    "start_time": "2022-05-11T10:38:10.143Z"
   },
   {
    "duration": 14,
    "start_time": "2022-05-11T10:38:18.567Z"
   },
   {
    "duration": 12,
    "start_time": "2022-05-11T10:39:05.360Z"
   },
   {
    "duration": 13,
    "start_time": "2022-05-11T10:40:33.281Z"
   },
   {
    "duration": 12,
    "start_time": "2022-05-11T10:40:57.787Z"
   },
   {
    "duration": 39,
    "start_time": "2022-05-11T10:41:10.024Z"
   },
   {
    "duration": 14,
    "start_time": "2022-05-11T10:42:22.011Z"
   },
   {
    "duration": 16,
    "start_time": "2022-05-11T10:43:28.466Z"
   },
   {
    "duration": 107,
    "start_time": "2022-05-11T10:44:34.481Z"
   },
   {
    "duration": 238,
    "start_time": "2022-05-11T10:44:52.624Z"
   },
   {
    "duration": 348,
    "start_time": "2022-05-11T10:45:04.131Z"
   },
   {
    "duration": 216,
    "start_time": "2022-05-11T10:45:09.622Z"
   },
   {
    "duration": 157,
    "start_time": "2022-05-11T10:45:14.443Z"
   },
   {
    "duration": 165,
    "start_time": "2022-05-11T10:45:18.421Z"
   },
   {
    "duration": 229,
    "start_time": "2022-05-11T10:45:22.933Z"
   },
   {
    "duration": 77,
    "start_time": "2022-05-11T10:45:43.674Z"
   },
   {
    "duration": 110,
    "start_time": "2022-05-11T10:45:53.608Z"
   },
   {
    "duration": 139,
    "start_time": "2022-05-11T10:45:59.616Z"
   },
   {
    "duration": 145,
    "start_time": "2022-05-11T10:46:04.294Z"
   },
   {
    "duration": 74,
    "start_time": "2022-05-11T10:46:38.583Z"
   },
   {
    "duration": 99,
    "start_time": "2022-05-11T10:47:23.035Z"
   },
   {
    "duration": 230,
    "start_time": "2022-05-11T10:47:30.173Z"
   },
   {
    "duration": 15,
    "start_time": "2022-05-11T10:48:16.154Z"
   },
   {
    "duration": 16,
    "start_time": "2022-05-11T10:48:18.209Z"
   },
   {
    "duration": 110,
    "start_time": "2022-05-11T10:48:34.788Z"
   },
   {
    "duration": 113,
    "start_time": "2022-05-11T10:50:13.201Z"
   },
   {
    "duration": 21,
    "start_time": "2022-05-11T10:50:20.841Z"
   },
   {
    "duration": 110,
    "start_time": "2022-05-11T10:50:26.557Z"
   },
   {
    "duration": 145,
    "start_time": "2022-05-11T10:50:43.013Z"
   },
   {
    "duration": 136,
    "start_time": "2022-05-11T10:50:50.414Z"
   },
   {
    "duration": 17,
    "start_time": "2022-05-11T10:51:58.343Z"
   },
   {
    "duration": 4,
    "start_time": "2022-05-11T10:57:34.573Z"
   },
   {
    "duration": 72,
    "start_time": "2022-05-12T11:12:30.241Z"
   },
   {
    "duration": 545,
    "start_time": "2022-05-12T11:12:35.559Z"
   },
   {
    "duration": 565,
    "start_time": "2022-05-12T11:12:36.106Z"
   },
   {
    "duration": 425,
    "start_time": "2022-05-12T11:12:36.674Z"
   },
   {
    "duration": 38,
    "start_time": "2022-05-12T11:12:37.102Z"
   },
   {
    "duration": 28,
    "start_time": "2022-05-12T11:12:37.143Z"
   },
   {
    "duration": 36,
    "start_time": "2022-05-12T11:12:37.174Z"
   },
   {
    "duration": 28,
    "start_time": "2022-05-12T11:12:37.212Z"
   },
   {
    "duration": 47,
    "start_time": "2022-05-12T11:12:37.243Z"
   },
   {
    "duration": 22,
    "start_time": "2022-05-12T11:12:37.292Z"
   },
   {
    "duration": 51,
    "start_time": "2022-05-12T11:12:37.328Z"
   },
   {
    "duration": 14,
    "start_time": "2022-05-12T11:12:37.381Z"
   },
   {
    "duration": 55,
    "start_time": "2022-05-12T11:12:37.397Z"
   },
   {
    "duration": 20,
    "start_time": "2022-05-12T11:12:37.453Z"
   },
   {
    "duration": 45,
    "start_time": "2022-05-12T11:12:37.476Z"
   },
   {
    "duration": 188,
    "start_time": "2022-05-12T11:12:37.525Z"
   },
   {
    "duration": 66,
    "start_time": "2022-05-12T11:12:37.715Z"
   },
   {
    "duration": 6,
    "start_time": "2022-05-12T11:12:37.784Z"
   },
   {
    "duration": 0,
    "start_time": "2022-05-12T11:12:37.792Z"
   },
   {
    "duration": 0,
    "start_time": "2022-05-12T11:12:37.794Z"
   },
   {
    "duration": 0,
    "start_time": "2022-05-12T11:12:37.795Z"
   },
   {
    "duration": 6,
    "start_time": "2022-05-12T11:12:59.204Z"
   },
   {
    "duration": 1400,
    "start_time": "2022-05-12T11:13:03.517Z"
   },
   {
    "duration": 374,
    "start_time": "2022-05-12T11:13:43.966Z"
   },
   {
    "duration": 248,
    "start_time": "2022-05-12T11:13:58.135Z"
   },
   {
    "duration": 409,
    "start_time": "2022-05-12T11:14:02.411Z"
   },
   {
    "duration": 401,
    "start_time": "2022-05-12T11:14:18.196Z"
   },
   {
    "duration": 37,
    "start_time": "2022-05-12T11:14:43.325Z"
   },
   {
    "duration": 24,
    "start_time": "2022-05-12T11:15:27.945Z"
   },
   {
    "duration": 26,
    "start_time": "2022-05-12T11:15:53.794Z"
   },
   {
    "duration": 29,
    "start_time": "2022-05-12T11:16:06.159Z"
   },
   {
    "duration": 177,
    "start_time": "2022-05-12T11:17:27.993Z"
   },
   {
    "duration": 10,
    "start_time": "2022-05-12T11:17:34.403Z"
   },
   {
    "duration": 23,
    "start_time": "2022-05-12T11:17:49.341Z"
   },
   {
    "duration": 6,
    "start_time": "2022-05-12T11:17:59.479Z"
   },
   {
    "duration": 31,
    "start_time": "2022-05-12T11:21:38.735Z"
   },
   {
    "duration": 300,
    "start_time": "2022-05-12T11:21:46.293Z"
   },
   {
    "duration": 258,
    "start_time": "2022-05-12T11:21:54.906Z"
   },
   {
    "duration": 20,
    "start_time": "2022-05-12T11:47:43.571Z"
   },
   {
    "duration": 27,
    "start_time": "2022-05-12T11:48:38.774Z"
   },
   {
    "duration": 232,
    "start_time": "2022-05-12T11:50:00.042Z"
   },
   {
    "duration": 30,
    "start_time": "2022-05-12T11:50:26.124Z"
   },
   {
    "duration": 131,
    "start_time": "2022-05-12T11:50:38.612Z"
   },
   {
    "duration": 16,
    "start_time": "2022-05-12T11:52:55.792Z"
   },
   {
    "duration": 19,
    "start_time": "2022-05-12T11:53:30.461Z"
   },
   {
    "duration": 18,
    "start_time": "2022-05-12T11:54:22.341Z"
   },
   {
    "duration": 19,
    "start_time": "2022-05-12T11:54:36.057Z"
   },
   {
    "duration": 14,
    "start_time": "2022-05-12T11:54:40.226Z"
   },
   {
    "duration": 9,
    "start_time": "2022-05-12T11:54:55.085Z"
   },
   {
    "duration": 20,
    "start_time": "2022-05-12T11:55:00.524Z"
   },
   {
    "duration": 12,
    "start_time": "2022-05-12T11:55:37.985Z"
   },
   {
    "duration": 181,
    "start_time": "2022-05-12T11:55:45.604Z"
   },
   {
    "duration": 340,
    "start_time": "2022-05-12T11:55:55.847Z"
   },
   {
    "duration": 21,
    "start_time": "2022-05-12T11:56:11.212Z"
   },
   {
    "duration": 228,
    "start_time": "2022-05-12T11:57:02.567Z"
   },
   {
    "duration": 240,
    "start_time": "2022-05-12T11:57:12.996Z"
   },
   {
    "duration": 17,
    "start_time": "2022-05-12T11:57:29.738Z"
   },
   {
    "duration": 167,
    "start_time": "2022-05-12T11:58:18.095Z"
   },
   {
    "duration": 256,
    "start_time": "2022-05-12T12:01:39.647Z"
   },
   {
    "duration": 325,
    "start_time": "2022-05-12T12:01:47.793Z"
   },
   {
    "duration": 21,
    "start_time": "2022-05-12T12:05:16.306Z"
   },
   {
    "duration": 21,
    "start_time": "2022-05-12T12:05:29.819Z"
   },
   {
    "duration": 18,
    "start_time": "2022-05-12T12:05:34.968Z"
   },
   {
    "duration": 19,
    "start_time": "2022-05-12T12:06:30.941Z"
   },
   {
    "duration": 11,
    "start_time": "2022-05-12T12:06:35.446Z"
   },
   {
    "duration": 2266,
    "start_time": "2022-05-12T12:48:24.724Z"
   },
   {
    "duration": 517,
    "start_time": "2022-05-12T12:48:51.429Z"
   },
   {
    "duration": 570,
    "start_time": "2022-05-12T12:48:51.949Z"
   },
   {
    "duration": 413,
    "start_time": "2022-05-12T12:48:52.521Z"
   },
   {
    "duration": 26,
    "start_time": "2022-05-12T12:48:52.938Z"
   },
   {
    "duration": 18,
    "start_time": "2022-05-12T12:48:52.967Z"
   },
   {
    "duration": 42,
    "start_time": "2022-05-12T12:48:52.988Z"
   },
   {
    "duration": 10,
    "start_time": "2022-05-12T12:48:53.033Z"
   },
   {
    "duration": 42,
    "start_time": "2022-05-12T12:48:53.045Z"
   },
   {
    "duration": 42,
    "start_time": "2022-05-12T12:48:53.089Z"
   },
   {
    "duration": 28,
    "start_time": "2022-05-12T12:48:53.135Z"
   },
   {
    "duration": 17,
    "start_time": "2022-05-12T12:48:53.165Z"
   },
   {
    "duration": 63,
    "start_time": "2022-05-12T12:48:53.184Z"
   },
   {
    "duration": 25,
    "start_time": "2022-05-12T12:48:53.249Z"
   },
   {
    "duration": 79,
    "start_time": "2022-05-12T12:48:53.276Z"
   },
   {
    "duration": 169,
    "start_time": "2022-05-12T12:48:53.357Z"
   },
   {
    "duration": 58,
    "start_time": "2022-05-12T12:48:53.528Z"
   },
   {
    "duration": 639,
    "start_time": "2022-05-12T12:48:53.589Z"
   },
   {
    "duration": 27,
    "start_time": "2022-05-12T12:48:54.231Z"
   },
   {
    "duration": 321,
    "start_time": "2022-05-12T12:48:54.260Z"
   },
   {
    "duration": 41,
    "start_time": "2022-05-12T12:48:54.583Z"
   },
   {
    "duration": 251,
    "start_time": "2022-05-12T12:48:54.627Z"
   },
   {
    "duration": 46,
    "start_time": "2022-05-12T12:48:54.880Z"
   },
   {
    "duration": 257,
    "start_time": "2022-05-12T12:48:54.929Z"
   },
   {
    "duration": 46,
    "start_time": "2022-05-12T12:48:55.188Z"
   },
   {
    "duration": 318,
    "start_time": "2022-05-12T12:48:55.237Z"
   },
   {
    "duration": 15,
    "start_time": "2022-05-12T12:48:55.558Z"
   },
   {
    "duration": 273,
    "start_time": "2022-05-12T12:48:55.575Z"
   },
   {
    "duration": 17,
    "start_time": "2022-05-12T12:48:55.852Z"
   },
   {
    "duration": 2181,
    "start_time": "2022-05-12T12:48:55.871Z"
   },
   {
    "duration": 2534,
    "start_time": "2022-05-12T12:51:40.066Z"
   },
   {
    "duration": 22,
    "start_time": "2022-05-12T12:51:57.225Z"
   },
   {
    "duration": 161,
    "start_time": "2022-05-12T12:52:14.897Z"
   },
   {
    "duration": 25,
    "start_time": "2022-05-12T12:53:00.014Z"
   },
   {
    "duration": 19,
    "start_time": "2022-05-12T12:53:25.239Z"
   },
   {
    "duration": 164,
    "start_time": "2022-05-12T12:53:43.140Z"
   },
   {
    "duration": 265,
    "start_time": "2022-05-12T12:54:06.732Z"
   },
   {
    "duration": 2513,
    "start_time": "2022-05-12T12:54:45.360Z"
   },
   {
    "duration": 158,
    "start_time": "2022-05-12T12:54:52.878Z"
   },
   {
    "duration": 3058,
    "start_time": "2022-05-12T12:55:01.988Z"
   },
   {
    "duration": 21,
    "start_time": "2022-05-12T12:55:51.152Z"
   },
   {
    "duration": 2418,
    "start_time": "2022-05-12T12:56:10.490Z"
   },
   {
    "duration": 22,
    "start_time": "2022-05-12T12:56:29.945Z"
   },
   {
    "duration": 492,
    "start_time": "2022-05-12T13:44:19.347Z"
   },
   {
    "duration": 1075,
    "start_time": "2022-05-12T13:44:19.841Z"
   },
   {
    "duration": 381,
    "start_time": "2022-05-12T13:44:20.918Z"
   },
   {
    "duration": 33,
    "start_time": "2022-05-12T13:44:21.303Z"
   },
   {
    "duration": 21,
    "start_time": "2022-05-12T13:44:21.338Z"
   },
   {
    "duration": 9,
    "start_time": "2022-05-12T13:44:21.362Z"
   },
   {
    "duration": 11,
    "start_time": "2022-05-12T13:44:21.373Z"
   },
   {
    "duration": 71,
    "start_time": "2022-05-12T13:44:21.386Z"
   },
   {
    "duration": 18,
    "start_time": "2022-05-12T13:44:21.459Z"
   },
   {
    "duration": 55,
    "start_time": "2022-05-12T13:44:21.481Z"
   },
   {
    "duration": 15,
    "start_time": "2022-05-12T13:44:21.538Z"
   },
   {
    "duration": 31,
    "start_time": "2022-05-12T13:44:21.555Z"
   },
   {
    "duration": 49,
    "start_time": "2022-05-12T13:44:21.589Z"
   },
   {
    "duration": 25,
    "start_time": "2022-05-12T13:44:21.640Z"
   },
   {
    "duration": 19,
    "start_time": "2022-05-12T13:44:21.668Z"
   },
   {
    "duration": 199,
    "start_time": "2022-05-12T13:44:21.689Z"
   },
   {
    "duration": 66,
    "start_time": "2022-05-12T13:44:21.890Z"
   },
   {
    "duration": 870,
    "start_time": "2022-05-12T13:44:21.959Z"
   },
   {
    "duration": 28,
    "start_time": "2022-05-12T13:44:22.832Z"
   },
   {
    "duration": 329,
    "start_time": "2022-05-12T13:44:22.863Z"
   },
   {
    "duration": 40,
    "start_time": "2022-05-12T13:44:23.195Z"
   },
   {
    "duration": 358,
    "start_time": "2022-05-12T13:44:23.237Z"
   },
   {
    "duration": 42,
    "start_time": "2022-05-12T13:44:23.599Z"
   },
   {
    "duration": 301,
    "start_time": "2022-05-12T13:44:23.644Z"
   },
   {
    "duration": 29,
    "start_time": "2022-05-12T13:44:23.947Z"
   },
   {
    "duration": 255,
    "start_time": "2022-05-12T13:44:23.978Z"
   },
   {
    "duration": 15,
    "start_time": "2022-05-12T13:44:24.235Z"
   },
   {
    "duration": 277,
    "start_time": "2022-05-12T13:44:24.254Z"
   },
   {
    "duration": 15,
    "start_time": "2022-05-12T13:44:24.533Z"
   },
   {
    "duration": 1037,
    "start_time": "2022-05-12T13:44:24.552Z"
   },
   {
    "duration": 23,
    "start_time": "2022-05-12T13:44:31.709Z"
   },
   {
    "duration": 8,
    "start_time": "2022-05-12T13:44:39.688Z"
   },
   {
    "duration": 8,
    "start_time": "2022-05-12T13:45:35.458Z"
   },
   {
    "duration": 20,
    "start_time": "2022-05-12T13:45:47.061Z"
   },
   {
    "duration": 8,
    "start_time": "2022-05-12T13:46:05.680Z"
   },
   {
    "duration": 9,
    "start_time": "2022-05-12T13:46:19.689Z"
   },
   {
    "duration": 197,
    "start_time": "2022-05-12T13:46:39.153Z"
   },
   {
    "duration": 10,
    "start_time": "2022-05-12T13:47:43.392Z"
   },
   {
    "duration": 21,
    "start_time": "2022-05-12T13:47:48.946Z"
   },
   {
    "duration": 21,
    "start_time": "2022-05-12T13:48:08.699Z"
   },
   {
    "duration": 21,
    "start_time": "2022-05-12T13:48:18.165Z"
   },
   {
    "duration": 43,
    "start_time": "2022-05-12T13:48:38.991Z"
   },
   {
    "duration": 10,
    "start_time": "2022-05-12T13:49:21.648Z"
   },
   {
    "duration": 10,
    "start_time": "2022-05-12T13:49:33.137Z"
   },
   {
    "duration": 15,
    "start_time": "2022-05-12T13:49:40.484Z"
   },
   {
    "duration": 22,
    "start_time": "2022-05-12T13:49:46.139Z"
   },
   {
    "duration": 2239,
    "start_time": "2022-05-12T13:50:53.077Z"
   },
   {
    "duration": 2113,
    "start_time": "2022-05-12T13:51:05.076Z"
   },
   {
    "duration": 2778,
    "start_time": "2022-05-12T13:51:08.720Z"
   },
   {
    "duration": 538,
    "start_time": "2022-05-12T13:52:28.308Z"
   },
   {
    "duration": 124,
    "start_time": "2022-05-12T13:52:40.032Z"
   },
   {
    "duration": 2106,
    "start_time": "2022-05-12T13:52:47.058Z"
   },
   {
    "duration": 213,
    "start_time": "2022-05-12T13:52:53.275Z"
   },
   {
    "duration": 34,
    "start_time": "2022-05-12T13:53:01.645Z"
   },
   {
    "duration": 16,
    "start_time": "2022-05-12T13:53:26.347Z"
   },
   {
    "duration": 5,
    "start_time": "2022-05-12T13:53:46.109Z"
   },
   {
    "duration": 478,
    "start_time": "2022-05-12T13:53:55.984Z"
   },
   {
    "duration": 16,
    "start_time": "2022-05-12T13:54:00.561Z"
   },
   {
    "duration": 16,
    "start_time": "2022-05-12T13:54:03.072Z"
   },
   {
    "duration": 581,
    "start_time": "2022-05-12T13:54:25.904Z"
   },
   {
    "duration": 561,
    "start_time": "2022-05-12T13:54:29.126Z"
   },
   {
    "duration": 25,
    "start_time": "2022-05-12T13:54:34.540Z"
   },
   {
    "duration": 11,
    "start_time": "2022-05-12T13:55:28.243Z"
   },
   {
    "duration": 8,
    "start_time": "2022-05-12T13:56:28.597Z"
   },
   {
    "duration": 22,
    "start_time": "2022-05-12T13:56:51.292Z"
   },
   {
    "duration": 20,
    "start_time": "2022-05-12T13:57:03.647Z"
   },
   {
    "duration": 535,
    "start_time": "2022-05-12T13:57:14.368Z"
   },
   {
    "duration": 585,
    "start_time": "2022-05-12T13:57:14.905Z"
   },
   {
    "duration": 420,
    "start_time": "2022-05-12T13:57:15.493Z"
   },
   {
    "duration": 38,
    "start_time": "2022-05-12T13:57:15.916Z"
   },
   {
    "duration": 17,
    "start_time": "2022-05-12T13:57:15.957Z"
   },
   {
    "duration": 17,
    "start_time": "2022-05-12T13:57:15.976Z"
   },
   {
    "duration": 32,
    "start_time": "2022-05-12T13:57:15.996Z"
   },
   {
    "duration": 33,
    "start_time": "2022-05-12T13:57:16.031Z"
   },
   {
    "duration": 17,
    "start_time": "2022-05-12T13:57:16.067Z"
   },
   {
    "duration": 26,
    "start_time": "2022-05-12T13:57:16.125Z"
   },
   {
    "duration": 17,
    "start_time": "2022-05-12T13:57:16.153Z"
   },
   {
    "duration": 52,
    "start_time": "2022-05-12T13:57:16.172Z"
   },
   {
    "duration": 21,
    "start_time": "2022-05-12T13:57:16.227Z"
   },
   {
    "duration": 28,
    "start_time": "2022-05-12T13:57:16.250Z"
   },
   {
    "duration": 53,
    "start_time": "2022-05-12T13:57:16.281Z"
   },
   {
    "duration": 177,
    "start_time": "2022-05-12T13:57:16.336Z"
   },
   {
    "duration": 60,
    "start_time": "2022-05-12T13:57:16.516Z"
   },
   {
    "duration": 614,
    "start_time": "2022-05-12T13:57:16.578Z"
   },
   {
    "duration": 40,
    "start_time": "2022-05-12T13:57:17.194Z"
   },
   {
    "duration": 299,
    "start_time": "2022-05-12T13:57:17.236Z"
   },
   {
    "duration": 31,
    "start_time": "2022-05-12T13:57:17.537Z"
   },
   {
    "duration": 262,
    "start_time": "2022-05-12T13:57:17.570Z"
   },
   {
    "duration": 27,
    "start_time": "2022-05-12T13:57:17.835Z"
   },
   {
    "duration": 252,
    "start_time": "2022-05-12T13:57:17.864Z"
   },
   {
    "duration": 41,
    "start_time": "2022-05-12T13:57:18.118Z"
   },
   {
    "duration": 334,
    "start_time": "2022-05-12T13:57:18.161Z"
   },
   {
    "duration": 29,
    "start_time": "2022-05-12T13:57:18.497Z"
   },
   {
    "duration": 256,
    "start_time": "2022-05-12T13:57:18.531Z"
   },
   {
    "duration": 14,
    "start_time": "2022-05-12T13:57:18.789Z"
   },
   {
    "duration": 34,
    "start_time": "2022-05-12T13:57:18.805Z"
   },
   {
    "duration": 22,
    "start_time": "2022-05-12T13:57:18.842Z"
   },
   {
    "duration": 47,
    "start_time": "2022-05-13T10:20:35.168Z"
   },
   {
    "duration": 410,
    "start_time": "2022-05-13T10:20:44.393Z"
   },
   {
    "duration": 398,
    "start_time": "2022-05-13T10:20:44.805Z"
   },
   {
    "duration": 261,
    "start_time": "2022-05-13T10:20:45.205Z"
   },
   {
    "duration": 20,
    "start_time": "2022-05-13T10:20:45.468Z"
   },
   {
    "duration": 12,
    "start_time": "2022-05-13T10:20:45.489Z"
   },
   {
    "duration": 9,
    "start_time": "2022-05-13T10:20:45.502Z"
   },
   {
    "duration": 8,
    "start_time": "2022-05-13T10:20:45.513Z"
   },
   {
    "duration": 27,
    "start_time": "2022-05-13T10:20:45.522Z"
   },
   {
    "duration": 12,
    "start_time": "2022-05-13T10:20:45.551Z"
   },
   {
    "duration": 18,
    "start_time": "2022-05-13T10:20:45.589Z"
   },
   {
    "duration": 8,
    "start_time": "2022-05-13T10:20:45.609Z"
   },
   {
    "duration": 22,
    "start_time": "2022-05-13T10:20:45.619Z"
   },
   {
    "duration": 14,
    "start_time": "2022-05-13T10:20:45.642Z"
   },
   {
    "duration": 43,
    "start_time": "2022-05-13T10:20:45.657Z"
   },
   {
    "duration": 14,
    "start_time": "2022-05-13T10:20:45.702Z"
   },
   {
    "duration": 117,
    "start_time": "2022-05-13T10:20:45.717Z"
   },
   {
    "duration": 43,
    "start_time": "2022-05-13T10:20:45.836Z"
   },
   {
    "duration": 556,
    "start_time": "2022-05-13T10:20:45.888Z"
   },
   {
    "duration": 20,
    "start_time": "2022-05-13T10:20:46.446Z"
   },
   {
    "duration": 189,
    "start_time": "2022-05-13T10:20:46.468Z"
   },
   {
    "duration": 30,
    "start_time": "2022-05-13T10:20:46.659Z"
   },
   {
    "duration": 149,
    "start_time": "2022-05-13T10:20:46.691Z"
   },
   {
    "duration": 18,
    "start_time": "2022-05-13T10:20:46.842Z"
   },
   {
    "duration": 212,
    "start_time": "2022-05-13T10:20:46.861Z"
   },
   {
    "duration": 31,
    "start_time": "2022-05-13T10:20:47.075Z"
   },
   {
    "duration": 149,
    "start_time": "2022-05-13T10:20:47.107Z"
   },
   {
    "duration": 11,
    "start_time": "2022-05-13T10:20:47.257Z"
   },
   {
    "duration": 149,
    "start_time": "2022-05-13T10:20:47.288Z"
   },
   {
    "duration": 11,
    "start_time": "2022-05-13T10:20:47.439Z"
   },
   {
    "duration": 9,
    "start_time": "2022-05-13T10:20:47.452Z"
   },
   {
    "duration": 27,
    "start_time": "2022-05-13T10:20:47.463Z"
   },
   {
    "duration": 69,
    "start_time": "2022-05-13T10:21:17.835Z"
   },
   {
    "duration": 16,
    "start_time": "2022-05-13T10:21:58.075Z"
   },
   {
    "duration": 9,
    "start_time": "2022-05-13T10:22:09.655Z"
   },
   {
    "duration": 162,
    "start_time": "2022-05-13T10:23:44.168Z"
   },
   {
    "duration": 386,
    "start_time": "2022-05-13T10:23:56.223Z"
   },
   {
    "duration": 444,
    "start_time": "2022-05-13T10:25:46.516Z"
   },
   {
    "duration": 442,
    "start_time": "2022-05-13T10:26:21.576Z"
   },
   {
    "duration": 402,
    "start_time": "2022-05-13T10:26:27.509Z"
   },
   {
    "duration": 451,
    "start_time": "2022-05-13T10:26:27.913Z"
   },
   {
    "duration": 245,
    "start_time": "2022-05-13T10:26:28.365Z"
   },
   {
    "duration": 14,
    "start_time": "2022-05-13T10:26:28.612Z"
   },
   {
    "duration": 14,
    "start_time": "2022-05-13T10:26:28.628Z"
   },
   {
    "duration": 11,
    "start_time": "2022-05-13T10:26:28.643Z"
   },
   {
    "duration": 10,
    "start_time": "2022-05-13T10:26:28.655Z"
   },
   {
    "duration": 37,
    "start_time": "2022-05-13T10:26:28.666Z"
   },
   {
    "duration": 13,
    "start_time": "2022-05-13T10:26:28.704Z"
   },
   {
    "duration": 15,
    "start_time": "2022-05-13T10:26:28.720Z"
   },
   {
    "duration": 9,
    "start_time": "2022-05-13T10:26:28.737Z"
   },
   {
    "duration": 41,
    "start_time": "2022-05-13T10:26:28.748Z"
   },
   {
    "duration": 15,
    "start_time": "2022-05-13T10:26:28.791Z"
   },
   {
    "duration": 27,
    "start_time": "2022-05-13T10:26:28.807Z"
   },
   {
    "duration": 16,
    "start_time": "2022-05-13T10:26:28.836Z"
   },
   {
    "duration": 68,
    "start_time": "2022-05-13T10:26:28.854Z"
   },
   {
    "duration": 42,
    "start_time": "2022-05-13T10:26:28.925Z"
   },
   {
    "duration": 402,
    "start_time": "2022-05-13T10:26:28.968Z"
   },
   {
    "duration": 18,
    "start_time": "2022-05-13T10:26:29.371Z"
   },
   {
    "duration": 178,
    "start_time": "2022-05-13T10:26:29.391Z"
   },
   {
    "duration": 29,
    "start_time": "2022-05-13T10:26:29.570Z"
   },
   {
    "duration": 139,
    "start_time": "2022-05-13T10:26:29.601Z"
   },
   {
    "duration": 18,
    "start_time": "2022-05-13T10:26:29.741Z"
   },
   {
    "duration": 150,
    "start_time": "2022-05-13T10:26:29.761Z"
   },
   {
    "duration": 21,
    "start_time": "2022-05-13T10:26:29.913Z"
   },
   {
    "duration": 222,
    "start_time": "2022-05-13T10:26:29.936Z"
   },
   {
    "duration": 11,
    "start_time": "2022-05-13T10:26:30.160Z"
   },
   {
    "duration": 167,
    "start_time": "2022-05-13T10:26:30.174Z"
   },
   {
    "duration": 13,
    "start_time": "2022-05-13T10:26:30.343Z"
   },
   {
    "duration": 20,
    "start_time": "2022-05-13T10:26:30.358Z"
   },
   {
    "duration": 64,
    "start_time": "2022-05-13T10:26:30.379Z"
   },
   {
    "duration": 3,
    "start_time": "2022-05-13T10:28:48.463Z"
   },
   {
    "duration": 70,
    "start_time": "2022-05-13T10:31:13.067Z"
   },
   {
    "duration": 6,
    "start_time": "2022-05-13T10:31:20.477Z"
   },
   {
    "duration": 14,
    "start_time": "2022-05-13T10:31:26.727Z"
   },
   {
    "duration": 21,
    "start_time": "2022-05-13T10:31:36.163Z"
   },
   {
    "duration": 5,
    "start_time": "2022-05-13T10:32:36.014Z"
   },
   {
    "duration": 19,
    "start_time": "2022-05-13T10:32:41.634Z"
   },
   {
    "duration": 5,
    "start_time": "2022-05-13T10:32:45.568Z"
   },
   {
    "duration": 16,
    "start_time": "2022-05-13T10:32:50.723Z"
   },
   {
    "duration": 16,
    "start_time": "2022-05-13T10:34:08.975Z"
   },
   {
    "duration": 16,
    "start_time": "2022-05-13T10:34:28.133Z"
   },
   {
    "duration": 15,
    "start_time": "2022-05-13T10:34:53.452Z"
   },
   {
    "duration": 377,
    "start_time": "2022-05-13T10:34:59.625Z"
   },
   {
    "duration": 460,
    "start_time": "2022-05-13T10:35:00.004Z"
   },
   {
    "duration": 252,
    "start_time": "2022-05-13T10:35:00.466Z"
   },
   {
    "duration": 13,
    "start_time": "2022-05-13T10:35:00.721Z"
   },
   {
    "duration": 21,
    "start_time": "2022-05-13T10:35:00.735Z"
   },
   {
    "duration": 10,
    "start_time": "2022-05-13T10:35:00.757Z"
   },
   {
    "duration": 26,
    "start_time": "2022-05-13T10:35:00.768Z"
   },
   {
    "duration": 29,
    "start_time": "2022-05-13T10:35:00.796Z"
   },
   {
    "duration": 6,
    "start_time": "2022-05-13T10:35:00.827Z"
   },
   {
    "duration": 32,
    "start_time": "2022-05-13T10:35:00.835Z"
   },
   {
    "duration": 16,
    "start_time": "2022-05-13T10:35:00.868Z"
   },
   {
    "duration": 30,
    "start_time": "2022-05-13T10:35:00.885Z"
   },
   {
    "duration": 17,
    "start_time": "2022-05-13T10:35:00.917Z"
   },
   {
    "duration": 10,
    "start_time": "2022-05-13T10:35:00.936Z"
   },
   {
    "duration": 21,
    "start_time": "2022-05-13T10:35:00.948Z"
   },
   {
    "duration": 64,
    "start_time": "2022-05-13T10:35:00.971Z"
   },
   {
    "duration": 53,
    "start_time": "2022-05-13T10:35:01.037Z"
   },
   {
    "duration": 439,
    "start_time": "2022-05-13T10:35:01.092Z"
   },
   {
    "duration": 20,
    "start_time": "2022-05-13T10:35:01.532Z"
   },
   {
    "duration": 202,
    "start_time": "2022-05-13T10:35:01.554Z"
   },
   {
    "duration": 31,
    "start_time": "2022-05-13T10:35:01.757Z"
   },
   {
    "duration": 161,
    "start_time": "2022-05-13T10:35:01.790Z"
   },
   {
    "duration": 22,
    "start_time": "2022-05-13T10:35:01.953Z"
   },
   {
    "duration": 169,
    "start_time": "2022-05-13T10:35:01.976Z"
   },
   {
    "duration": 24,
    "start_time": "2022-05-13T10:35:02.147Z"
   },
   {
    "duration": 228,
    "start_time": "2022-05-13T10:35:02.173Z"
   },
   {
    "duration": 11,
    "start_time": "2022-05-13T10:35:02.403Z"
   },
   {
    "duration": 165,
    "start_time": "2022-05-13T10:35:02.418Z"
   },
   {
    "duration": 13,
    "start_time": "2022-05-13T10:35:02.587Z"
   },
   {
    "duration": 11,
    "start_time": "2022-05-13T10:35:02.601Z"
   },
   {
    "duration": 21,
    "start_time": "2022-05-13T10:35:02.613Z"
   },
   {
    "duration": 385,
    "start_time": "2022-05-13T11:11:25.707Z"
   },
   {
    "duration": 448,
    "start_time": "2022-05-13T11:11:26.094Z"
   },
   {
    "duration": 256,
    "start_time": "2022-05-13T11:11:26.543Z"
   },
   {
    "duration": 16,
    "start_time": "2022-05-13T11:11:26.801Z"
   },
   {
    "duration": 12,
    "start_time": "2022-05-13T11:11:26.818Z"
   },
   {
    "duration": 6,
    "start_time": "2022-05-13T11:11:26.832Z"
   },
   {
    "duration": 11,
    "start_time": "2022-05-13T11:11:26.840Z"
   },
   {
    "duration": 45,
    "start_time": "2022-05-13T11:11:26.853Z"
   },
   {
    "duration": 4,
    "start_time": "2022-05-13T11:11:26.900Z"
   },
   {
    "duration": 16,
    "start_time": "2022-05-13T11:11:26.907Z"
   },
   {
    "duration": 11,
    "start_time": "2022-05-13T11:11:26.925Z"
   },
   {
    "duration": 22,
    "start_time": "2022-05-13T11:11:26.937Z"
   },
   {
    "duration": 40,
    "start_time": "2022-05-13T11:11:26.960Z"
   },
   {
    "duration": 10,
    "start_time": "2022-05-13T11:11:27.002Z"
   },
   {
    "duration": 15,
    "start_time": "2022-05-13T11:11:27.014Z"
   },
   {
    "duration": 69,
    "start_time": "2022-05-13T11:11:27.030Z"
   },
   {
    "duration": 43,
    "start_time": "2022-05-13T11:11:27.101Z"
   },
   {
    "duration": 410,
    "start_time": "2022-05-13T11:11:27.145Z"
   },
   {
    "duration": 20,
    "start_time": "2022-05-13T11:11:27.556Z"
   },
   {
    "duration": 191,
    "start_time": "2022-05-13T11:11:27.577Z"
   },
   {
    "duration": 31,
    "start_time": "2022-05-13T11:11:27.770Z"
   },
   {
    "duration": 156,
    "start_time": "2022-05-13T11:11:27.802Z"
   },
   {
    "duration": 30,
    "start_time": "2022-05-13T11:11:27.959Z"
   },
   {
    "duration": 150,
    "start_time": "2022-05-13T11:11:27.991Z"
   },
   {
    "duration": 22,
    "start_time": "2022-05-13T11:11:28.143Z"
   },
   {
    "duration": 213,
    "start_time": "2022-05-13T11:11:28.167Z"
   },
   {
    "duration": 12,
    "start_time": "2022-05-13T11:11:28.387Z"
   },
   {
    "duration": 166,
    "start_time": "2022-05-13T11:11:28.402Z"
   },
   {
    "duration": 22,
    "start_time": "2022-05-13T11:11:28.570Z"
   },
   {
    "duration": 10,
    "start_time": "2022-05-13T11:11:28.594Z"
   },
   {
    "duration": 14,
    "start_time": "2022-05-13T11:11:28.606Z"
   },
   {
    "duration": 17,
    "start_time": "2022-05-13T11:13:00.269Z"
   },
   {
    "duration": 17,
    "start_time": "2022-05-13T11:13:07.169Z"
   },
   {
    "duration": 22,
    "start_time": "2022-05-13T11:15:05.634Z"
   },
   {
    "duration": 16,
    "start_time": "2022-05-13T11:15:11.324Z"
   },
   {
    "duration": 15,
    "start_time": "2022-05-13T11:15:48.682Z"
   },
   {
    "duration": 5,
    "start_time": "2022-05-13T11:16:47.462Z"
   },
   {
    "duration": 4,
    "start_time": "2022-05-13T11:17:05.761Z"
   },
   {
    "duration": 6,
    "start_time": "2022-05-13T11:17:27.178Z"
   },
   {
    "duration": 16,
    "start_time": "2022-05-13T11:17:35.989Z"
   },
   {
    "duration": 422,
    "start_time": "2022-05-13T11:17:41.089Z"
   },
   {
    "duration": 474,
    "start_time": "2022-05-13T11:17:41.512Z"
   },
   {
    "duration": 270,
    "start_time": "2022-05-13T11:17:41.988Z"
   },
   {
    "duration": 15,
    "start_time": "2022-05-13T11:17:42.260Z"
   },
   {
    "duration": 43,
    "start_time": "2022-05-13T11:17:42.277Z"
   },
   {
    "duration": 29,
    "start_time": "2022-05-13T11:17:42.322Z"
   },
   {
    "duration": 32,
    "start_time": "2022-05-13T11:17:42.352Z"
   },
   {
    "duration": 15,
    "start_time": "2022-05-13T11:17:42.386Z"
   },
   {
    "duration": 11,
    "start_time": "2022-05-13T11:17:42.403Z"
   },
   {
    "duration": 25,
    "start_time": "2022-05-13T11:17:42.417Z"
   },
   {
    "duration": 18,
    "start_time": "2022-05-13T11:17:42.443Z"
   },
   {
    "duration": 26,
    "start_time": "2022-05-13T11:17:42.462Z"
   },
   {
    "duration": 5,
    "start_time": "2022-05-13T11:17:42.490Z"
   },
   {
    "duration": 53,
    "start_time": "2022-05-13T11:17:42.497Z"
   },
   {
    "duration": 59,
    "start_time": "2022-05-13T11:17:42.552Z"
   },
   {
    "duration": 419,
    "start_time": "2022-05-13T11:17:42.613Z"
   },
   {
    "duration": 19,
    "start_time": "2022-05-13T11:17:43.034Z"
   },
   {
    "duration": 191,
    "start_time": "2022-05-13T11:17:43.055Z"
   },
   {
    "duration": 21,
    "start_time": "2022-05-13T11:17:43.248Z"
   },
   {
    "duration": 148,
    "start_time": "2022-05-13T11:17:43.270Z"
   },
   {
    "duration": 19,
    "start_time": "2022-05-13T11:17:43.420Z"
   },
   {
    "duration": 150,
    "start_time": "2022-05-13T11:17:43.440Z"
   },
   {
    "duration": 21,
    "start_time": "2022-05-13T11:17:43.592Z"
   },
   {
    "duration": 216,
    "start_time": "2022-05-13T11:17:43.614Z"
   },
   {
    "duration": 12,
    "start_time": "2022-05-13T11:17:43.832Z"
   },
   {
    "duration": 161,
    "start_time": "2022-05-13T11:17:43.845Z"
   },
   {
    "duration": 12,
    "start_time": "2022-05-13T11:17:44.007Z"
   },
   {
    "duration": 11,
    "start_time": "2022-05-13T11:17:44.022Z"
   },
   {
    "duration": 21,
    "start_time": "2022-05-13T11:17:44.034Z"
   },
   {
    "duration": 592,
    "start_time": "2022-05-14T02:39:55.043Z"
   },
   {
    "duration": 629,
    "start_time": "2022-05-14T02:39:55.638Z"
   },
   {
    "duration": 342,
    "start_time": "2022-05-14T02:39:56.269Z"
   },
   {
    "duration": 27,
    "start_time": "2022-05-14T02:39:56.614Z"
   },
   {
    "duration": 18,
    "start_time": "2022-05-14T02:39:56.643Z"
   },
   {
    "duration": 20,
    "start_time": "2022-05-14T02:39:56.663Z"
   },
   {
    "duration": 57,
    "start_time": "2022-05-14T02:39:56.685Z"
   },
   {
    "duration": 24,
    "start_time": "2022-05-14T02:39:56.744Z"
   },
   {
    "duration": 17,
    "start_time": "2022-05-14T02:39:56.770Z"
   },
   {
    "duration": 53,
    "start_time": "2022-05-14T02:39:56.791Z"
   },
   {
    "duration": 29,
    "start_time": "2022-05-14T02:39:56.847Z"
   },
   {
    "duration": 52,
    "start_time": "2022-05-14T02:39:56.879Z"
   },
   {
    "duration": 8,
    "start_time": "2022-05-14T02:39:56.933Z"
   },
   {
    "duration": 91,
    "start_time": "2022-05-14T02:39:56.944Z"
   },
   {
    "duration": 63,
    "start_time": "2022-05-14T02:39:57.037Z"
   },
   {
    "duration": 887,
    "start_time": "2022-05-14T02:39:57.103Z"
   },
   {
    "duration": 45,
    "start_time": "2022-05-14T02:39:57.993Z"
   },
   {
    "duration": 307,
    "start_time": "2022-05-14T02:39:58.041Z"
   },
   {
    "duration": 30,
    "start_time": "2022-05-14T02:39:58.351Z"
   },
   {
    "duration": 252,
    "start_time": "2022-05-14T02:39:58.384Z"
   },
   {
    "duration": 28,
    "start_time": "2022-05-14T02:39:58.638Z"
   },
   {
    "duration": 324,
    "start_time": "2022-05-14T02:39:58.668Z"
   },
   {
    "duration": 47,
    "start_time": "2022-05-14T02:39:58.995Z"
   },
   {
    "duration": 243,
    "start_time": "2022-05-14T02:39:59.044Z"
   },
   {
    "duration": 14,
    "start_time": "2022-05-14T02:39:59.290Z"
   },
   {
    "duration": 268,
    "start_time": "2022-05-14T02:39:59.307Z"
   },
   {
    "duration": 16,
    "start_time": "2022-05-14T02:39:59.578Z"
   },
   {
    "duration": 18,
    "start_time": "2022-05-14T02:39:59.625Z"
   },
   {
    "duration": 30,
    "start_time": "2022-05-14T02:39:59.646Z"
   },
   {
    "duration": 30,
    "start_time": "2022-05-14T02:42:17.046Z"
   },
   {
    "duration": 16,
    "start_time": "2022-05-14T02:42:21.273Z"
   },
   {
    "duration": 6,
    "start_time": "2022-05-14T02:42:37.887Z"
   },
   {
    "duration": 29,
    "start_time": "2022-05-14T02:42:48.929Z"
   },
   {
    "duration": 16,
    "start_time": "2022-05-14T02:43:21.290Z"
   },
   {
    "duration": 34,
    "start_time": "2022-05-14T02:43:30.389Z"
   },
   {
    "duration": 13,
    "start_time": "2022-05-14T02:43:47.736Z"
   },
   {
    "duration": 14,
    "start_time": "2022-05-14T02:43:50.994Z"
   },
   {
    "duration": 33,
    "start_time": "2022-05-14T02:43:58.278Z"
   },
   {
    "duration": 34,
    "start_time": "2022-05-14T02:44:04.943Z"
   },
   {
    "duration": 28,
    "start_time": "2022-05-14T02:46:20.570Z"
   },
   {
    "duration": 2062,
    "start_time": "2022-05-14T02:46:37.553Z"
   },
   {
    "duration": 1922,
    "start_time": "2022-05-14T02:46:54.580Z"
   },
   {
    "duration": 20,
    "start_time": "2022-05-14T02:47:05.466Z"
   },
   {
    "duration": 19,
    "start_time": "2022-05-14T02:48:05.961Z"
   },
   {
    "duration": 6,
    "start_time": "2022-05-14T02:48:13.714Z"
   },
   {
    "duration": 29,
    "start_time": "2022-05-14T05:33:49.883Z"
   },
   {
    "duration": 7,
    "start_time": "2022-05-14T05:34:02.354Z"
   },
   {
    "duration": 6,
    "start_time": "2022-05-14T05:34:11.399Z"
   },
   {
    "duration": 6,
    "start_time": "2022-05-14T05:34:14.736Z"
   },
   {
    "duration": 67,
    "start_time": "2022-05-14T05:34:27.570Z"
   },
   {
    "duration": 6,
    "start_time": "2022-05-14T05:34:48.855Z"
   },
   {
    "duration": 6,
    "start_time": "2022-05-14T05:34:51.269Z"
   },
   {
    "duration": 6,
    "start_time": "2022-05-14T05:34:54.669Z"
   },
   {
    "duration": 7,
    "start_time": "2022-05-14T05:35:04.973Z"
   },
   {
    "duration": 6,
    "start_time": "2022-05-14T05:35:07.695Z"
   },
   {
    "duration": 7,
    "start_time": "2022-05-14T05:35:10.151Z"
   },
   {
    "duration": 6,
    "start_time": "2022-05-14T05:35:14.558Z"
   },
   {
    "duration": 6,
    "start_time": "2022-05-14T05:35:30.594Z"
   },
   {
    "duration": 12,
    "start_time": "2022-05-14T09:05:56.687Z"
   },
   {
    "duration": 6,
    "start_time": "2022-05-14T09:06:15.214Z"
   },
   {
    "duration": 162,
    "start_time": "2022-05-14T09:06:31.510Z"
   },
   {
    "duration": 15,
    "start_time": "2022-05-14T09:07:22.236Z"
   },
   {
    "duration": 6,
    "start_time": "2022-05-14T09:07:41.677Z"
   },
   {
    "duration": 5,
    "start_time": "2022-05-14T09:07:44.673Z"
   },
   {
    "duration": 6,
    "start_time": "2022-05-14T09:07:50.683Z"
   },
   {
    "duration": 5,
    "start_time": "2022-05-14T09:18:29.378Z"
   },
   {
    "duration": 3,
    "start_time": "2022-05-14T09:18:59.735Z"
   },
   {
    "duration": 5,
    "start_time": "2022-05-14T09:19:17.662Z"
   },
   {
    "duration": 6,
    "start_time": "2022-05-14T09:20:51.849Z"
   },
   {
    "duration": 6,
    "start_time": "2022-05-14T09:21:17.892Z"
   },
   {
    "duration": 71,
    "start_time": "2022-05-14T09:21:22.372Z"
   },
   {
    "duration": 6,
    "start_time": "2022-05-14T09:21:26.099Z"
   },
   {
    "duration": 6,
    "start_time": "2022-05-14T09:21:34.828Z"
   },
   {
    "duration": 150,
    "start_time": "2022-05-14T09:21:48.647Z"
   },
   {
    "duration": 14,
    "start_time": "2022-05-14T09:21:54.749Z"
   },
   {
    "duration": 6,
    "start_time": "2022-05-14T09:21:58.657Z"
   },
   {
    "duration": 6,
    "start_time": "2022-05-14T09:22:57.367Z"
   },
   {
    "duration": 5,
    "start_time": "2022-05-14T09:23:04.999Z"
   },
   {
    "duration": 7,
    "start_time": "2022-05-14T09:23:13.202Z"
   },
   {
    "duration": 7,
    "start_time": "2022-05-14T09:23:29.446Z"
   },
   {
    "duration": 6,
    "start_time": "2022-05-14T09:23:32.900Z"
   },
   {
    "duration": 130,
    "start_time": "2022-05-14T09:29:26.713Z"
   },
   {
    "duration": 129,
    "start_time": "2022-05-14T09:29:29.133Z"
   },
   {
    "duration": 151,
    "start_time": "2022-05-14T09:29:54.141Z"
   },
   {
    "duration": 6,
    "start_time": "2022-05-14T09:29:59.348Z"
   },
   {
    "duration": 6,
    "start_time": "2022-05-14T09:30:04.928Z"
   },
   {
    "duration": 7,
    "start_time": "2022-05-14T09:30:07.315Z"
   },
   {
    "duration": 6,
    "start_time": "2022-05-14T09:30:10.146Z"
   },
   {
    "duration": 6,
    "start_time": "2022-05-14T09:30:13.270Z"
   },
   {
    "duration": 4,
    "start_time": "2022-05-14T09:32:19.974Z"
   },
   {
    "duration": 4,
    "start_time": "2022-05-14T09:32:50.582Z"
   },
   {
    "duration": 6,
    "start_time": "2022-05-14T09:35:10.117Z"
   },
   {
    "duration": 6,
    "start_time": "2022-05-14T09:35:15.927Z"
   },
   {
    "duration": 707,
    "start_time": "2022-05-14T09:35:27.640Z"
   },
   {
    "duration": 797,
    "start_time": "2022-05-14T09:35:28.351Z"
   },
   {
    "duration": 331,
    "start_time": "2022-05-14T09:35:29.150Z"
   },
   {
    "duration": 25,
    "start_time": "2022-05-14T09:35:29.485Z"
   },
   {
    "duration": 16,
    "start_time": "2022-05-14T09:35:29.513Z"
   },
   {
    "duration": 9,
    "start_time": "2022-05-14T09:35:29.532Z"
   },
   {
    "duration": 57,
    "start_time": "2022-05-14T09:35:29.544Z"
   },
   {
    "duration": 21,
    "start_time": "2022-05-14T09:35:29.603Z"
   },
   {
    "duration": 14,
    "start_time": "2022-05-14T09:35:29.626Z"
   },
   {
    "duration": 60,
    "start_time": "2022-05-14T09:35:29.644Z"
   },
   {
    "duration": 26,
    "start_time": "2022-05-14T09:35:29.706Z"
   },
   {
    "duration": 12,
    "start_time": "2022-05-14T09:35:29.734Z"
   },
   {
    "duration": 7,
    "start_time": "2022-05-14T09:35:29.782Z"
   },
   {
    "duration": 75,
    "start_time": "2022-05-14T09:35:29.791Z"
   },
   {
    "duration": 55,
    "start_time": "2022-05-14T09:35:29.882Z"
   },
   {
    "duration": 19,
    "start_time": "2022-05-14T09:35:29.940Z"
   },
   {
    "duration": 883,
    "start_time": "2022-05-14T09:35:29.961Z"
   },
   {
    "duration": 42,
    "start_time": "2022-05-14T09:35:30.846Z"
   },
   {
    "duration": 304,
    "start_time": "2022-05-14T09:35:30.890Z"
   },
   {
    "duration": 29,
    "start_time": "2022-05-14T09:35:31.196Z"
   },
   {
    "duration": 257,
    "start_time": "2022-05-14T09:35:31.228Z"
   },
   {
    "duration": 27,
    "start_time": "2022-05-14T09:35:31.487Z"
   },
   {
    "duration": 312,
    "start_time": "2022-05-14T09:35:31.516Z"
   },
   {
    "duration": 28,
    "start_time": "2022-05-14T09:35:31.830Z"
   },
   {
    "duration": 253,
    "start_time": "2022-05-14T09:35:31.861Z"
   },
   {
    "duration": 15,
    "start_time": "2022-05-14T09:35:32.117Z"
   },
   {
    "duration": 272,
    "start_time": "2022-05-14T09:35:32.135Z"
   },
   {
    "duration": 14,
    "start_time": "2022-05-14T09:35:32.412Z"
   },
   {
    "duration": 16,
    "start_time": "2022-05-14T09:35:32.428Z"
   },
   {
    "duration": 56,
    "start_time": "2022-05-14T09:35:32.446Z"
   },
   {
    "duration": 28,
    "start_time": "2022-05-14T09:36:46.357Z"
   },
   {
    "duration": 6,
    "start_time": "2022-05-14T09:37:53.708Z"
   },
   {
    "duration": 6,
    "start_time": "2022-05-14T09:37:58.543Z"
   },
   {
    "duration": 22,
    "start_time": "2022-05-14T09:38:01.774Z"
   },
   {
    "duration": 5,
    "start_time": "2022-05-14T09:38:06.759Z"
   },
   {
    "duration": 109,
    "start_time": "2022-05-14T09:38:18.742Z"
   },
   {
    "duration": 6,
    "start_time": "2022-05-14T09:38:21.922Z"
   },
   {
    "duration": 28,
    "start_time": "2022-05-14T09:38:31.686Z"
   },
   {
    "duration": 2622,
    "start_time": "2022-05-14T09:39:03.064Z"
   },
   {
    "duration": 20,
    "start_time": "2022-05-14T09:39:08.908Z"
   },
   {
    "duration": 18,
    "start_time": "2022-05-14T09:40:47.318Z"
   },
   {
    "duration": 6,
    "start_time": "2022-05-14T09:40:59.949Z"
   },
   {
    "duration": 24,
    "start_time": "2022-05-14T09:41:16.111Z"
   },
   {
    "duration": 23,
    "start_time": "2022-05-14T09:41:22.219Z"
   },
   {
    "duration": 25,
    "start_time": "2022-05-14T09:41:25.559Z"
   },
   {
    "duration": 22,
    "start_time": "2022-05-14T09:42:34.244Z"
   },
   {
    "duration": 28,
    "start_time": "2022-05-14T10:13:12.015Z"
   },
   {
    "duration": 18,
    "start_time": "2022-05-14T10:13:34.860Z"
   },
   {
    "duration": 10,
    "start_time": "2022-05-14T10:13:48.536Z"
   },
   {
    "duration": 12,
    "start_time": "2022-05-14T10:16:12.222Z"
   },
   {
    "duration": 65,
    "start_time": "2022-05-14T10:16:20.458Z"
   },
   {
    "duration": 51,
    "start_time": "2022-05-14T10:16:40.019Z"
   },
   {
    "duration": 22,
    "start_time": "2022-05-14T10:18:16.928Z"
   },
   {
    "duration": 10,
    "start_time": "2022-05-14T10:18:43.272Z"
   },
   {
    "duration": 13,
    "start_time": "2022-05-14T10:18:57.424Z"
   },
   {
    "duration": 13,
    "start_time": "2022-05-14T10:19:24.520Z"
   },
   {
    "duration": 9,
    "start_time": "2022-05-14T10:20:03.243Z"
   },
   {
    "duration": 8,
    "start_time": "2022-05-14T10:20:11.024Z"
   },
   {
    "duration": 20,
    "start_time": "2022-05-14T10:20:47.969Z"
   },
   {
    "duration": 18,
    "start_time": "2022-05-14T10:21:12.719Z"
   },
   {
    "duration": 124,
    "start_time": "2022-05-14T10:22:04.820Z"
   },
   {
    "duration": 10,
    "start_time": "2022-05-14T10:22:10.442Z"
   },
   {
    "duration": 7,
    "start_time": "2022-05-14T10:22:14.819Z"
   },
   {
    "duration": 6,
    "start_time": "2022-05-14T10:22:59.985Z"
   },
   {
    "duration": 8,
    "start_time": "2022-05-14T10:23:22.313Z"
   },
   {
    "duration": 11,
    "start_time": "2022-05-14T10:24:10.561Z"
   },
   {
    "duration": 9,
    "start_time": "2022-05-14T10:24:22.474Z"
   },
   {
    "duration": 10,
    "start_time": "2022-05-14T10:24:29.359Z"
   },
   {
    "duration": 24,
    "start_time": "2022-05-14T10:24:48.256Z"
   },
   {
    "duration": 8,
    "start_time": "2022-05-14T10:25:00.600Z"
   },
   {
    "duration": 408,
    "start_time": "2022-05-14T13:11:15.880Z"
   },
   {
    "duration": 437,
    "start_time": "2022-05-14T13:11:16.290Z"
   },
   {
    "duration": 210,
    "start_time": "2022-05-14T13:11:16.729Z"
   },
   {
    "duration": 13,
    "start_time": "2022-05-14T13:11:16.941Z"
   },
   {
    "duration": 11,
    "start_time": "2022-05-14T13:11:16.956Z"
   },
   {
    "duration": 11,
    "start_time": "2022-05-14T13:11:16.968Z"
   },
   {
    "duration": 32,
    "start_time": "2022-05-14T13:11:16.981Z"
   },
   {
    "duration": 13,
    "start_time": "2022-05-14T13:11:17.014Z"
   },
   {
    "duration": 10,
    "start_time": "2022-05-14T13:11:17.028Z"
   },
   {
    "duration": 15,
    "start_time": "2022-05-14T13:11:17.041Z"
   },
   {
    "duration": 16,
    "start_time": "2022-05-14T13:11:17.058Z"
   },
   {
    "duration": 32,
    "start_time": "2022-05-14T13:11:17.075Z"
   },
   {
    "duration": 4,
    "start_time": "2022-05-14T13:11:17.109Z"
   },
   {
    "duration": 47,
    "start_time": "2022-05-14T13:11:17.114Z"
   },
   {
    "duration": 57,
    "start_time": "2022-05-14T13:11:17.162Z"
   },
   {
    "duration": 12,
    "start_time": "2022-05-14T13:11:17.221Z"
   },
   {
    "duration": 590,
    "start_time": "2022-05-14T13:11:17.235Z"
   },
   {
    "duration": 18,
    "start_time": "2022-05-14T13:11:17.826Z"
   },
   {
    "duration": 178,
    "start_time": "2022-05-14T13:11:17.846Z"
   },
   {
    "duration": 18,
    "start_time": "2022-05-14T13:11:18.025Z"
   },
   {
    "duration": 135,
    "start_time": "2022-05-14T13:11:18.044Z"
   },
   {
    "duration": 24,
    "start_time": "2022-05-14T13:11:18.181Z"
   },
   {
    "duration": 166,
    "start_time": "2022-05-14T13:11:18.206Z"
   },
   {
    "duration": 31,
    "start_time": "2022-05-14T13:11:18.373Z"
   },
   {
    "duration": 123,
    "start_time": "2022-05-14T13:11:18.405Z"
   },
   {
    "duration": 9,
    "start_time": "2022-05-14T13:11:18.530Z"
   },
   {
    "duration": 136,
    "start_time": "2022-05-14T13:11:18.541Z"
   },
   {
    "duration": 10,
    "start_time": "2022-05-14T13:11:18.680Z"
   },
   {
    "duration": 12,
    "start_time": "2022-05-14T13:11:18.699Z"
   },
   {
    "duration": 6,
    "start_time": "2022-05-14T13:11:18.713Z"
   },
   {
    "duration": 5,
    "start_time": "2022-05-14T13:11:18.720Z"
   },
   {
    "duration": 29,
    "start_time": "2022-05-14T13:11:54.425Z"
   },
   {
    "duration": 25,
    "start_time": "2022-05-14T13:13:46.455Z"
   },
   {
    "duration": 24,
    "start_time": "2022-05-14T13:13:50.896Z"
   },
   {
    "duration": 13,
    "start_time": "2022-05-14T13:14:38.178Z"
   },
   {
    "duration": 23,
    "start_time": "2022-05-14T13:14:40.730Z"
   },
   {
    "duration": 69,
    "start_time": "2022-05-14T13:15:04.314Z"
   },
   {
    "duration": 17,
    "start_time": "2022-05-14T13:15:16.276Z"
   },
   {
    "duration": 26,
    "start_time": "2022-05-14T13:15:26.935Z"
   },
   {
    "duration": 15,
    "start_time": "2022-05-14T13:16:24.811Z"
   },
   {
    "duration": 23,
    "start_time": "2022-05-14T13:16:36.550Z"
   },
   {
    "duration": 25,
    "start_time": "2022-05-14T13:17:03.640Z"
   },
   {
    "duration": 7,
    "start_time": "2022-05-14T13:17:18.792Z"
   },
   {
    "duration": 26,
    "start_time": "2022-05-14T13:17:28.855Z"
   },
   {
    "duration": 16,
    "start_time": "2022-05-14T13:18:31.477Z"
   },
   {
    "duration": 13,
    "start_time": "2022-05-14T13:18:58.069Z"
   },
   {
    "duration": 27,
    "start_time": "2022-05-14T13:19:13.846Z"
   },
   {
    "duration": 10,
    "start_time": "2022-05-14T13:19:35.637Z"
   },
   {
    "duration": 7592,
    "start_time": "2022-05-14T13:20:09.707Z"
   },
   {
    "duration": 16,
    "start_time": "2022-05-14T13:21:22.752Z"
   },
   {
    "duration": 4,
    "start_time": "2022-05-14T13:24:42.219Z"
   },
   {
    "duration": 15,
    "start_time": "2022-05-14T13:24:48.549Z"
   },
   {
    "duration": 122,
    "start_time": "2022-05-14T13:27:45.454Z"
   },
   {
    "duration": 24,
    "start_time": "2022-05-14T13:28:15.664Z"
   },
   {
    "duration": 29,
    "start_time": "2022-05-14T13:28:25.836Z"
   },
   {
    "duration": 29,
    "start_time": "2022-05-14T13:29:15.860Z"
   },
   {
    "duration": 7,
    "start_time": "2022-05-14T13:29:53.454Z"
   },
   {
    "duration": 33,
    "start_time": "2022-05-14T13:30:17.106Z"
   },
   {
    "duration": 37,
    "start_time": "2022-05-14T13:30:27.868Z"
   },
   {
    "duration": 8,
    "start_time": "2022-05-14T13:30:56.750Z"
   },
   {
    "duration": 35,
    "start_time": "2022-05-14T13:31:02.359Z"
   },
   {
    "duration": 19,
    "start_time": "2022-05-14T13:31:12.658Z"
   },
   {
    "duration": 9,
    "start_time": "2022-05-14T13:31:36.209Z"
   },
   {
    "duration": 388,
    "start_time": "2022-05-15T08:29:56.737Z"
   },
   {
    "duration": 424,
    "start_time": "2022-05-15T08:29:57.127Z"
   },
   {
    "duration": 221,
    "start_time": "2022-05-15T08:29:57.552Z"
   },
   {
    "duration": 14,
    "start_time": "2022-05-15T08:29:57.774Z"
   },
   {
    "duration": 22,
    "start_time": "2022-05-15T08:29:57.791Z"
   },
   {
    "duration": 6,
    "start_time": "2022-05-15T08:29:57.815Z"
   },
   {
    "duration": 22,
    "start_time": "2022-05-15T08:29:57.823Z"
   },
   {
    "duration": 14,
    "start_time": "2022-05-15T08:29:57.847Z"
   },
   {
    "duration": 11,
    "start_time": "2022-05-15T08:29:57.862Z"
   },
   {
    "duration": 49,
    "start_time": "2022-05-15T08:29:57.874Z"
   },
   {
    "duration": 14,
    "start_time": "2022-05-15T08:29:57.924Z"
   },
   {
    "duration": 7,
    "start_time": "2022-05-15T08:29:57.940Z"
   },
   {
    "duration": 5,
    "start_time": "2022-05-15T08:29:57.949Z"
   },
   {
    "duration": 77,
    "start_time": "2022-05-15T08:29:57.957Z"
   },
   {
    "duration": 38,
    "start_time": "2022-05-15T08:29:58.036Z"
   },
   {
    "duration": 9,
    "start_time": "2022-05-15T08:29:58.076Z"
   },
   {
    "duration": 51,
    "start_time": "2022-05-15T08:29:58.087Z"
   },
   {
    "duration": 75,
    "start_time": "2022-05-15T08:29:58.140Z"
   },
   {
    "duration": 0,
    "start_time": "2022-05-15T08:29:58.216Z"
   },
   {
    "duration": 0,
    "start_time": "2022-05-15T08:29:58.217Z"
   },
   {
    "duration": 0,
    "start_time": "2022-05-15T08:29:58.218Z"
   },
   {
    "duration": 0,
    "start_time": "2022-05-15T08:29:58.219Z"
   },
   {
    "duration": 0,
    "start_time": "2022-05-15T08:29:58.219Z"
   },
   {
    "duration": 1,
    "start_time": "2022-05-15T08:29:58.220Z"
   },
   {
    "duration": 0,
    "start_time": "2022-05-15T08:29:58.222Z"
   },
   {
    "duration": 0,
    "start_time": "2022-05-15T08:29:58.223Z"
   },
   {
    "duration": 0,
    "start_time": "2022-05-15T08:29:58.223Z"
   },
   {
    "duration": 0,
    "start_time": "2022-05-15T08:29:58.224Z"
   },
   {
    "duration": 0,
    "start_time": "2022-05-15T08:29:58.225Z"
   },
   {
    "duration": 0,
    "start_time": "2022-05-15T08:29:58.226Z"
   },
   {
    "duration": 0,
    "start_time": "2022-05-15T08:29:58.227Z"
   },
   {
    "duration": 0,
    "start_time": "2022-05-15T08:29:58.228Z"
   },
   {
    "duration": 0,
    "start_time": "2022-05-15T08:29:58.229Z"
   },
   {
    "duration": 0,
    "start_time": "2022-05-15T08:29:58.230Z"
   },
   {
    "duration": 10,
    "start_time": "2022-05-15T08:30:37.025Z"
   },
   {
    "duration": 17,
    "start_time": "2022-05-15T08:30:42.778Z"
   },
   {
    "duration": 17,
    "start_time": "2022-05-15T08:31:06.772Z"
   },
   {
    "duration": 24,
    "start_time": "2022-05-15T08:31:55.581Z"
   },
   {
    "duration": 25,
    "start_time": "2022-05-15T08:32:36.215Z"
   },
   {
    "duration": 12,
    "start_time": "2022-05-15T08:33:31.552Z"
   },
   {
    "duration": 23,
    "start_time": "2022-05-15T08:35:18.348Z"
   },
   {
    "duration": 18,
    "start_time": "2022-05-15T08:35:25.493Z"
   },
   {
    "duration": 427,
    "start_time": "2022-05-15T08:43:39.786Z"
   },
   {
    "duration": 457,
    "start_time": "2022-05-15T08:43:40.215Z"
   },
   {
    "duration": 227,
    "start_time": "2022-05-15T08:43:40.674Z"
   },
   {
    "duration": 14,
    "start_time": "2022-05-15T08:43:40.903Z"
   },
   {
    "duration": 12,
    "start_time": "2022-05-15T08:43:40.918Z"
   },
   {
    "duration": 6,
    "start_time": "2022-05-15T08:43:40.932Z"
   },
   {
    "duration": 21,
    "start_time": "2022-05-15T08:43:40.939Z"
   },
   {
    "duration": 14,
    "start_time": "2022-05-15T08:43:40.961Z"
   },
   {
    "duration": 39,
    "start_time": "2022-05-15T08:43:40.977Z"
   },
   {
    "duration": 17,
    "start_time": "2022-05-15T08:43:41.019Z"
   },
   {
    "duration": 14,
    "start_time": "2022-05-15T08:43:41.038Z"
   },
   {
    "duration": 8,
    "start_time": "2022-05-15T08:43:41.054Z"
   },
   {
    "duration": 6,
    "start_time": "2022-05-15T08:43:41.064Z"
   },
   {
    "duration": 52,
    "start_time": "2022-05-15T08:43:41.108Z"
   },
   {
    "duration": 56,
    "start_time": "2022-05-15T08:43:41.162Z"
   },
   {
    "duration": 25,
    "start_time": "2022-05-15T08:43:41.220Z"
   },
   {
    "duration": 35,
    "start_time": "2022-05-15T08:43:41.246Z"
   },
   {
    "duration": 51,
    "start_time": "2022-05-15T08:43:41.283Z"
   },
   {
    "duration": 79,
    "start_time": "2022-05-15T08:43:41.336Z"
   },
   {
    "duration": 0,
    "start_time": "2022-05-15T08:43:41.417Z"
   },
   {
    "duration": 0,
    "start_time": "2022-05-15T08:43:41.418Z"
   },
   {
    "duration": 0,
    "start_time": "2022-05-15T08:43:41.419Z"
   },
   {
    "duration": 0,
    "start_time": "2022-05-15T08:43:41.420Z"
   },
   {
    "duration": 0,
    "start_time": "2022-05-15T08:43:41.422Z"
   },
   {
    "duration": 0,
    "start_time": "2022-05-15T08:43:41.423Z"
   },
   {
    "duration": 0,
    "start_time": "2022-05-15T08:43:41.424Z"
   },
   {
    "duration": 0,
    "start_time": "2022-05-15T08:43:41.424Z"
   },
   {
    "duration": 0,
    "start_time": "2022-05-15T08:43:41.426Z"
   },
   {
    "duration": 0,
    "start_time": "2022-05-15T08:43:41.427Z"
   },
   {
    "duration": 0,
    "start_time": "2022-05-15T08:43:41.428Z"
   },
   {
    "duration": 0,
    "start_time": "2022-05-15T08:43:41.429Z"
   },
   {
    "duration": 0,
    "start_time": "2022-05-15T08:43:41.430Z"
   },
   {
    "duration": 0,
    "start_time": "2022-05-15T08:43:41.430Z"
   },
   {
    "duration": 0,
    "start_time": "2022-05-15T08:43:41.431Z"
   },
   {
    "duration": 0,
    "start_time": "2022-05-15T08:43:41.432Z"
   },
   {
    "duration": 567,
    "start_time": "2022-05-16T10:30:36.373Z"
   },
   {
    "duration": 904,
    "start_time": "2022-05-16T10:30:37.979Z"
   },
   {
    "duration": 147,
    "start_time": "2022-05-16T10:30:51.057Z"
   },
   {
    "duration": 194,
    "start_time": "2022-05-16T10:30:55.621Z"
   },
   {
    "duration": 156,
    "start_time": "2022-05-16T10:31:01.333Z"
   },
   {
    "duration": 174,
    "start_time": "2022-05-16T10:31:28.504Z"
   },
   {
    "duration": 244,
    "start_time": "2022-05-16T10:31:39.677Z"
   },
   {
    "duration": 350,
    "start_time": "2022-05-16T10:32:03.896Z"
   },
   {
    "duration": 22,
    "start_time": "2022-05-16T10:33:52.904Z"
   },
   {
    "duration": 1394,
    "start_time": "2022-05-16T10:34:01.735Z"
   },
   {
    "duration": 6,
    "start_time": "2022-05-16T10:34:15.703Z"
   },
   {
    "duration": 602,
    "start_time": "2022-05-16T10:34:25.105Z"
   },
   {
    "duration": 569,
    "start_time": "2022-05-16T10:34:33.665Z"
   },
   {
    "duration": 771,
    "start_time": "2022-05-16T10:34:39.835Z"
   },
   {
    "duration": 1009,
    "start_time": "2022-05-16T10:34:45.273Z"
   },
   {
    "duration": 941,
    "start_time": "2022-05-16T10:36:00.217Z"
   },
   {
    "duration": 816,
    "start_time": "2022-05-16T10:36:20.166Z"
   },
   {
    "duration": 381,
    "start_time": "2022-05-16T10:36:23.793Z"
   },
   {
    "duration": 340,
    "start_time": "2022-05-16T10:41:45.667Z"
   },
   {
    "duration": 859,
    "start_time": "2022-05-16T10:42:02.219Z"
   },
   {
    "duration": 38,
    "start_time": "2022-05-16T10:43:10.877Z"
   },
   {
    "duration": 37,
    "start_time": "2022-05-16T10:43:51.932Z"
   },
   {
    "duration": 12,
    "start_time": "2022-05-16T10:44:05.492Z"
   },
   {
    "duration": 11,
    "start_time": "2022-05-16T10:44:31.878Z"
   },
   {
    "duration": 7,
    "start_time": "2022-05-16T10:44:37.422Z"
   },
   {
    "duration": 20,
    "start_time": "2022-05-16T10:45:22.443Z"
   },
   {
    "duration": 8,
    "start_time": "2022-05-16T10:45:25.299Z"
   },
   {
    "duration": 8,
    "start_time": "2022-05-16T10:45:31.196Z"
   },
   {
    "duration": 65,
    "start_time": "2022-05-16T10:45:38.550Z"
   },
   {
    "duration": 28,
    "start_time": "2022-05-16T10:46:06.111Z"
   },
   {
    "duration": 36,
    "start_time": "2022-05-16T10:46:25.176Z"
   },
   {
    "duration": 10,
    "start_time": "2022-05-16T10:46:44.083Z"
   },
   {
    "duration": 219,
    "start_time": "2022-05-16T10:47:25.409Z"
   },
   {
    "duration": 75,
    "start_time": "2022-05-17T10:16:30.031Z"
   },
   {
    "duration": 526,
    "start_time": "2022-05-17T10:16:39.951Z"
   },
   {
    "duration": 592,
    "start_time": "2022-05-17T10:16:40.531Z"
   },
   {
    "duration": 312,
    "start_time": "2022-05-17T10:16:42.703Z"
   },
   {
    "duration": 19,
    "start_time": "2022-05-17T10:16:44.002Z"
   },
   {
    "duration": 15,
    "start_time": "2022-05-17T10:16:45.156Z"
   },
   {
    "duration": 8,
    "start_time": "2022-05-17T10:16:45.717Z"
   },
   {
    "duration": 28,
    "start_time": "2022-05-17T10:16:46.776Z"
   },
   {
    "duration": 21,
    "start_time": "2022-05-17T10:16:48.419Z"
   },
   {
    "duration": 16,
    "start_time": "2022-05-17T10:16:49.037Z"
   },
   {
    "duration": 22,
    "start_time": "2022-05-17T10:16:50.209Z"
   },
   {
    "duration": 20,
    "start_time": "2022-05-17T10:16:50.761Z"
   },
   {
    "duration": 12,
    "start_time": "2022-05-17T10:16:51.924Z"
   },
   {
    "duration": 6,
    "start_time": "2022-05-17T10:16:55.044Z"
   },
   {
    "duration": 1080,
    "start_time": "2022-05-17T10:16:56.414Z"
   },
   {
    "duration": 19,
    "start_time": "2022-05-17T10:16:57.497Z"
   },
   {
    "duration": 7,
    "start_time": "2022-05-17T10:16:57.518Z"
   },
   {
    "duration": 42,
    "start_time": "2022-05-17T10:19:08.867Z"
   },
   {
    "duration": 25,
    "start_time": "2022-05-17T10:21:20.137Z"
   },
   {
    "duration": 19,
    "start_time": "2022-05-17T10:21:28.963Z"
   },
   {
    "duration": 70,
    "start_time": "2022-05-17T10:34:11.530Z"
   },
   {
    "duration": 21,
    "start_time": "2022-05-17T10:34:47.404Z"
   },
   {
    "duration": 39,
    "start_time": "2022-05-17T10:34:54.098Z"
   },
   {
    "duration": 509,
    "start_time": "2022-05-17T10:35:01.085Z"
   },
   {
    "duration": 608,
    "start_time": "2022-05-17T10:35:01.597Z"
   },
   {
    "duration": 323,
    "start_time": "2022-05-17T10:35:02.207Z"
   },
   {
    "duration": 15,
    "start_time": "2022-05-17T10:35:02.533Z"
   },
   {
    "duration": 40,
    "start_time": "2022-05-17T10:35:02.550Z"
   },
   {
    "duration": 32,
    "start_time": "2022-05-17T10:35:02.592Z"
   },
   {
    "duration": 58,
    "start_time": "2022-05-17T10:35:02.626Z"
   },
   {
    "duration": 20,
    "start_time": "2022-05-17T10:35:02.686Z"
   },
   {
    "duration": 39,
    "start_time": "2022-05-17T10:35:02.708Z"
   },
   {
    "duration": 48,
    "start_time": "2022-05-17T10:35:02.751Z"
   },
   {
    "duration": 23,
    "start_time": "2022-05-17T10:35:02.801Z"
   },
   {
    "duration": 43,
    "start_time": "2022-05-17T10:35:02.826Z"
   },
   {
    "duration": 21,
    "start_time": "2022-05-17T10:35:02.872Z"
   },
   {
    "duration": 809,
    "start_time": "2022-05-17T10:35:02.895Z"
   },
   {
    "duration": 13,
    "start_time": "2022-05-17T10:35:03.706Z"
   },
   {
    "duration": 15,
    "start_time": "2022-05-17T10:35:03.721Z"
   },
   {
    "duration": 84,
    "start_time": "2022-05-17T10:35:03.738Z"
   },
   {
    "duration": 231,
    "start_time": "2022-05-17T10:35:03.824Z"
   },
   {
    "duration": 0,
    "start_time": "2022-05-17T10:35:04.059Z"
   },
   {
    "duration": 0,
    "start_time": "2022-05-17T10:35:04.061Z"
   },
   {
    "duration": 0,
    "start_time": "2022-05-17T10:35:04.063Z"
   },
   {
    "duration": 0,
    "start_time": "2022-05-17T10:35:04.065Z"
   },
   {
    "duration": 0,
    "start_time": "2022-05-17T10:35:04.067Z"
   },
   {
    "duration": 0,
    "start_time": "2022-05-17T10:35:04.084Z"
   },
   {
    "duration": 0,
    "start_time": "2022-05-17T10:35:04.086Z"
   },
   {
    "duration": 0,
    "start_time": "2022-05-17T10:35:04.088Z"
   },
   {
    "duration": 0,
    "start_time": "2022-05-17T10:35:04.090Z"
   },
   {
    "duration": 1,
    "start_time": "2022-05-17T10:35:04.092Z"
   },
   {
    "duration": 0,
    "start_time": "2022-05-17T10:35:04.095Z"
   },
   {
    "duration": 0,
    "start_time": "2022-05-17T10:35:04.097Z"
   },
   {
    "duration": 0,
    "start_time": "2022-05-17T10:35:04.099Z"
   },
   {
    "duration": 0,
    "start_time": "2022-05-17T10:35:04.101Z"
   },
   {
    "duration": 0,
    "start_time": "2022-05-17T10:35:04.103Z"
   },
   {
    "duration": 0,
    "start_time": "2022-05-17T10:35:04.105Z"
   },
   {
    "duration": 0,
    "start_time": "2022-05-17T10:35:04.108Z"
   },
   {
    "duration": 0,
    "start_time": "2022-05-17T10:35:04.110Z"
   },
   {
    "duration": 0,
    "start_time": "2022-05-17T10:35:04.112Z"
   },
   {
    "duration": 21,
    "start_time": "2022-05-17T10:35:17.164Z"
   },
   {
    "duration": 662,
    "start_time": "2022-05-17T10:35:33.289Z"
   },
   {
    "duration": 311,
    "start_time": "2022-05-17T10:35:35.904Z"
   },
   {
    "duration": 14,
    "start_time": "2022-05-17T10:35:39.703Z"
   },
   {
    "duration": 8,
    "start_time": "2022-05-17T10:36:51.629Z"
   },
   {
    "duration": 6,
    "start_time": "2022-05-17T10:36:56.334Z"
   },
   {
    "duration": 20,
    "start_time": "2022-05-17T10:37:57.700Z"
   },
   {
    "duration": 19,
    "start_time": "2022-05-17T10:38:02.252Z"
   },
   {
    "duration": 8,
    "start_time": "2022-05-17T10:38:16.644Z"
   },
   {
    "duration": 8,
    "start_time": "2022-05-17T10:38:51.887Z"
   },
   {
    "duration": 8,
    "start_time": "2022-05-17T10:38:54.702Z"
   },
   {
    "duration": 19,
    "start_time": "2022-05-17T10:44:49.766Z"
   },
   {
    "duration": 21,
    "start_time": "2022-05-17T10:44:56.615Z"
   },
   {
    "duration": 19,
    "start_time": "2022-05-17T10:45:36.757Z"
   },
   {
    "duration": 24,
    "start_time": "2022-05-17T10:45:58.127Z"
   },
   {
    "duration": 23,
    "start_time": "2022-05-17T10:46:04.064Z"
   },
   {
    "duration": 396,
    "start_time": "2022-05-17T10:47:29.111Z"
   },
   {
    "duration": 601,
    "start_time": "2022-05-17T10:47:58.838Z"
   },
   {
    "duration": 17,
    "start_time": "2022-05-17T10:48:08.749Z"
   },
   {
    "duration": 18,
    "start_time": "2022-05-17T10:48:15.307Z"
   },
   {
    "duration": 25,
    "start_time": "2022-05-17T10:48:17.656Z"
   },
   {
    "duration": 18,
    "start_time": "2022-05-17T10:48:18.761Z"
   },
   {
    "duration": 44,
    "start_time": "2022-05-17T10:48:21.492Z"
   },
   {
    "duration": 10,
    "start_time": "2022-05-17T10:49:45.185Z"
   },
   {
    "duration": 18,
    "start_time": "2022-05-17T10:49:50.736Z"
   },
   {
    "duration": 255,
    "start_time": "2022-05-17T10:55:30.443Z"
   },
   {
    "duration": 13,
    "start_time": "2022-05-17T10:55:33.441Z"
   },
   {
    "duration": 16,
    "start_time": "2022-05-17T10:55:35.701Z"
   },
   {
    "duration": 8,
    "start_time": "2022-05-17T10:55:42.581Z"
   },
   {
    "duration": 24,
    "start_time": "2022-05-17T10:56:23.419Z"
   },
   {
    "duration": 24,
    "start_time": "2022-05-17T10:56:31.011Z"
   },
   {
    "duration": 19,
    "start_time": "2022-05-17T10:56:38.353Z"
   },
   {
    "duration": 27,
    "start_time": "2022-05-17T10:57:26.204Z"
   },
   {
    "duration": 17,
    "start_time": "2022-05-17T10:57:34.057Z"
   },
   {
    "duration": 30,
    "start_time": "2022-05-17T10:57:42.729Z"
   },
   {
    "duration": 10,
    "start_time": "2022-05-17T10:58:05.262Z"
   },
   {
    "duration": 24,
    "start_time": "2022-05-17T10:58:10.410Z"
   },
   {
    "duration": 18,
    "start_time": "2022-05-17T10:59:20.177Z"
   },
   {
    "duration": 17,
    "start_time": "2022-05-17T11:03:24.308Z"
   },
   {
    "duration": 17,
    "start_time": "2022-05-17T11:13:49.667Z"
   },
   {
    "duration": 20,
    "start_time": "2022-05-17T11:15:00.320Z"
   },
   {
    "duration": 18,
    "start_time": "2022-05-17T12:32:27.474Z"
   },
   {
    "duration": 53,
    "start_time": "2022-05-17T12:32:33.244Z"
   },
   {
    "duration": 15,
    "start_time": "2022-05-17T12:32:41.223Z"
   },
   {
    "duration": 72,
    "start_time": "2022-05-17T12:33:04.858Z"
   },
   {
    "duration": 29,
    "start_time": "2022-05-17T12:33:10.109Z"
   },
   {
    "duration": 37,
    "start_time": "2022-05-17T12:33:14.995Z"
   },
   {
    "duration": 2474,
    "start_time": "2022-05-17T12:33:18.678Z"
   },
   {
    "duration": 20,
    "start_time": "2022-05-17T12:33:34.053Z"
   },
   {
    "duration": 29,
    "start_time": "2022-05-17T12:33:51.040Z"
   },
   {
    "duration": 41,
    "start_time": "2022-05-17T12:33:57.599Z"
   },
   {
    "duration": 2054,
    "start_time": "2022-05-17T12:34:29.147Z"
   },
   {
    "duration": 28,
    "start_time": "2022-05-17T12:34:35.196Z"
   },
   {
    "duration": 40,
    "start_time": "2022-05-17T12:34:41.538Z"
   },
   {
    "duration": 17,
    "start_time": "2022-05-17T12:35:04.905Z"
   },
   {
    "duration": 500,
    "start_time": "2022-05-17T12:35:26.185Z"
   },
   {
    "duration": 496,
    "start_time": "2022-05-17T12:35:33.844Z"
   },
   {
    "duration": 5,
    "start_time": "2022-05-17T12:35:57.203Z"
   },
   {
    "duration": 37,
    "start_time": "2022-05-17T12:35:59.441Z"
   },
   {
    "duration": 17,
    "start_time": "2022-05-17T12:36:08.637Z"
   },
   {
    "duration": 33,
    "start_time": "2022-05-17T12:36:25.762Z"
   },
   {
    "duration": 475,
    "start_time": "2022-05-17T13:14:18.817Z"
   },
   {
    "duration": 599,
    "start_time": "2022-05-17T13:14:19.295Z"
   },
   {
    "duration": 270,
    "start_time": "2022-05-17T13:14:19.897Z"
   },
   {
    "duration": 15,
    "start_time": "2022-05-17T13:14:20.180Z"
   },
   {
    "duration": 18,
    "start_time": "2022-05-17T13:14:20.197Z"
   },
   {
    "duration": 13,
    "start_time": "2022-05-17T13:14:20.217Z"
   },
   {
    "duration": 61,
    "start_time": "2022-05-17T13:14:20.232Z"
   },
   {
    "duration": 20,
    "start_time": "2022-05-17T13:14:20.295Z"
   },
   {
    "duration": 15,
    "start_time": "2022-05-17T13:14:20.318Z"
   },
   {
    "duration": 52,
    "start_time": "2022-05-17T13:14:20.336Z"
   },
   {
    "duration": 17,
    "start_time": "2022-05-17T13:14:20.390Z"
   },
   {
    "duration": 123,
    "start_time": "2022-05-17T13:14:20.410Z"
   },
   {
    "duration": 0,
    "start_time": "2022-05-17T13:14:20.535Z"
   },
   {
    "duration": 0,
    "start_time": "2022-05-17T13:14:20.536Z"
   },
   {
    "duration": 0,
    "start_time": "2022-05-17T13:14:20.538Z"
   },
   {
    "duration": 0,
    "start_time": "2022-05-17T13:14:20.539Z"
   },
   {
    "duration": 0,
    "start_time": "2022-05-17T13:14:20.540Z"
   },
   {
    "duration": 0,
    "start_time": "2022-05-17T13:14:20.542Z"
   },
   {
    "duration": 0,
    "start_time": "2022-05-17T13:14:20.543Z"
   },
   {
    "duration": 0,
    "start_time": "2022-05-17T13:14:20.544Z"
   },
   {
    "duration": 0,
    "start_time": "2022-05-17T13:14:20.545Z"
   },
   {
    "duration": 0,
    "start_time": "2022-05-17T13:14:20.547Z"
   },
   {
    "duration": 0,
    "start_time": "2022-05-17T13:14:20.548Z"
   },
   {
    "duration": 0,
    "start_time": "2022-05-17T13:14:20.549Z"
   },
   {
    "duration": 0,
    "start_time": "2022-05-17T13:14:20.580Z"
   },
   {
    "duration": 0,
    "start_time": "2022-05-17T13:14:20.581Z"
   },
   {
    "duration": 0,
    "start_time": "2022-05-17T13:14:20.583Z"
   },
   {
    "duration": 0,
    "start_time": "2022-05-17T13:14:20.585Z"
   },
   {
    "duration": 706,
    "start_time": "2022-05-17T13:14:50.489Z"
   },
   {
    "duration": 718,
    "start_time": "2022-05-17T13:14:51.198Z"
   },
   {
    "duration": 293,
    "start_time": "2022-05-17T13:14:51.918Z"
   },
   {
    "duration": 16,
    "start_time": "2022-05-17T13:14:52.214Z"
   },
   {
    "duration": 48,
    "start_time": "2022-05-17T13:14:52.233Z"
   },
   {
    "duration": 14,
    "start_time": "2022-05-17T13:14:52.284Z"
   },
   {
    "duration": 38,
    "start_time": "2022-05-17T13:14:52.300Z"
   },
   {
    "duration": 43,
    "start_time": "2022-05-17T13:14:52.341Z"
   },
   {
    "duration": 38,
    "start_time": "2022-05-17T13:14:52.387Z"
   },
   {
    "duration": 37,
    "start_time": "2022-05-17T13:14:52.431Z"
   },
   {
    "duration": 20,
    "start_time": "2022-05-17T13:14:52.471Z"
   },
   {
    "duration": 30,
    "start_time": "2022-05-17T13:14:52.494Z"
   },
   {
    "duration": 14,
    "start_time": "2022-05-17T13:14:52.527Z"
   },
   {
    "duration": 10,
    "start_time": "2022-05-17T13:14:52.544Z"
   },
   {
    "duration": 815,
    "start_time": "2022-05-17T13:14:52.557Z"
   },
   {
    "duration": 12,
    "start_time": "2022-05-17T13:14:53.379Z"
   },
   {
    "duration": 10,
    "start_time": "2022-05-17T13:14:53.393Z"
   },
   {
    "duration": 41,
    "start_time": "2022-05-17T13:14:53.405Z"
   },
   {
    "duration": 45,
    "start_time": "2022-05-17T13:14:53.448Z"
   },
   {
    "duration": 94,
    "start_time": "2022-05-17T13:14:53.495Z"
   },
   {
    "duration": 49,
    "start_time": "2022-05-17T13:14:53.591Z"
   },
   {
    "duration": 39,
    "start_time": "2022-05-17T13:14:53.642Z"
   },
   {
    "duration": 50,
    "start_time": "2022-05-17T13:14:53.683Z"
   },
   {
    "duration": 5,
    "start_time": "2022-05-17T13:14:53.735Z"
   },
   {
    "duration": 64,
    "start_time": "2022-05-17T13:14:53.742Z"
   },
   {
    "duration": 204,
    "start_time": "2022-05-17T13:14:53.808Z"
   },
   {
    "duration": 0,
    "start_time": "2022-05-17T13:14:54.014Z"
   },
   {
    "duration": 37,
    "start_time": "2022-05-17T13:16:09.987Z"
   },
   {
    "duration": 195,
    "start_time": "2022-05-17T13:16:16.381Z"
   },
   {
    "duration": 32,
    "start_time": "2022-05-17T13:16:21.545Z"
   },
   {
    "duration": 35,
    "start_time": "2022-05-17T13:16:25.348Z"
   },
   {
    "duration": 17,
    "start_time": "2022-05-17T13:17:23.204Z"
   },
   {
    "duration": 12,
    "start_time": "2022-05-17T13:18:11.742Z"
   },
   {
    "duration": 30,
    "start_time": "2022-05-17T13:18:39.353Z"
   },
   {
    "duration": 40,
    "start_time": "2022-05-17T13:18:42.649Z"
   },
   {
    "duration": 130,
    "start_time": "2022-05-17T13:19:40.273Z"
   },
   {
    "duration": 40,
    "start_time": "2022-05-17T13:19:48.607Z"
   },
   {
    "duration": 41,
    "start_time": "2022-05-17T13:20:03.043Z"
   },
   {
    "duration": 46,
    "start_time": "2022-05-17T13:20:46.191Z"
   },
   {
    "duration": 39,
    "start_time": "2022-05-17T13:20:53.542Z"
   },
   {
    "duration": 40,
    "start_time": "2022-05-17T13:21:04.866Z"
   },
   {
    "duration": 25,
    "start_time": "2022-05-17T13:29:25.941Z"
   },
   {
    "duration": 24,
    "start_time": "2022-05-17T13:30:23.018Z"
   },
   {
    "duration": 28,
    "start_time": "2022-05-17T13:31:19.443Z"
   },
   {
    "duration": 58,
    "start_time": "2022-05-17T13:31:23.814Z"
   },
   {
    "duration": 39,
    "start_time": "2022-05-17T13:35:44.870Z"
   },
   {
    "duration": 57,
    "start_time": "2022-05-17T13:35:50.357Z"
   },
   {
    "duration": 42,
    "start_time": "2022-05-17T13:35:58.158Z"
   },
   {
    "duration": 21,
    "start_time": "2022-05-17T13:36:35.003Z"
   },
   {
    "duration": 57,
    "start_time": "2022-05-17T13:36:47.771Z"
   },
   {
    "duration": 82,
    "start_time": "2022-05-18T10:37:02.005Z"
   },
   {
    "duration": 455,
    "start_time": "2022-05-18T10:37:07.962Z"
   },
   {
    "duration": 1091,
    "start_time": "2022-05-18T10:37:08.419Z"
   },
   {
    "duration": 532,
    "start_time": "2022-05-18T10:37:09.512Z"
   },
   {
    "duration": 17,
    "start_time": "2022-05-18T10:37:10.049Z"
   },
   {
    "duration": 69,
    "start_time": "2022-05-18T10:37:10.068Z"
   },
   {
    "duration": 19,
    "start_time": "2022-05-18T10:37:10.140Z"
   },
   {
    "duration": 69,
    "start_time": "2022-05-18T10:37:10.161Z"
   },
   {
    "duration": 21,
    "start_time": "2022-05-18T10:37:10.233Z"
   },
   {
    "duration": 74,
    "start_time": "2022-05-18T10:37:10.257Z"
   },
   {
    "duration": 30,
    "start_time": "2022-05-18T10:37:10.335Z"
   },
   {
    "duration": 86,
    "start_time": "2022-05-18T10:37:10.367Z"
   },
   {
    "duration": 6,
    "start_time": "2022-05-18T10:37:10.455Z"
   },
   {
    "duration": 13,
    "start_time": "2022-05-18T10:37:10.463Z"
   },
   {
    "duration": 67,
    "start_time": "2022-05-18T10:37:10.478Z"
   },
   {
    "duration": 1405,
    "start_time": "2022-05-18T10:37:10.547Z"
   },
   {
    "duration": 12,
    "start_time": "2022-05-18T10:37:11.959Z"
   },
   {
    "duration": 14,
    "start_time": "2022-05-18T10:37:11.973Z"
   },
   {
    "duration": 65,
    "start_time": "2022-05-18T10:37:11.989Z"
   },
   {
    "duration": 13,
    "start_time": "2022-05-18T10:37:12.057Z"
   },
   {
    "duration": 73,
    "start_time": "2022-05-18T10:37:12.072Z"
   },
   {
    "duration": 40,
    "start_time": "2022-05-18T10:37:12.147Z"
   },
   {
    "duration": 13,
    "start_time": "2022-05-18T10:37:12.188Z"
   },
   {
    "duration": 65,
    "start_time": "2022-05-18T10:37:12.203Z"
   },
   {
    "duration": 493,
    "start_time": "2022-05-18T10:37:12.270Z"
   },
   {
    "duration": 21,
    "start_time": "2022-05-18T10:37:12.764Z"
   },
   {
    "duration": 82,
    "start_time": "2022-05-18T10:37:12.788Z"
   },
   {
    "duration": 36,
    "start_time": "2022-05-18T10:38:40.062Z"
   },
   {
    "duration": 107,
    "start_time": "2022-05-18T10:43:00.472Z"
   },
   {
    "duration": 427,
    "start_time": "2022-05-18T10:43:42.725Z"
   },
   {
    "duration": 514,
    "start_time": "2022-05-18T10:43:43.154Z"
   },
   {
    "duration": 198,
    "start_time": "2022-05-18T10:43:43.670Z"
   },
   {
    "duration": 11,
    "start_time": "2022-05-18T10:43:43.870Z"
   },
   {
    "duration": 11,
    "start_time": "2022-05-18T10:43:43.884Z"
   },
   {
    "duration": 54,
    "start_time": "2022-05-18T10:43:43.897Z"
   },
   {
    "duration": 26,
    "start_time": "2022-05-18T10:43:43.953Z"
   },
   {
    "duration": 14,
    "start_time": "2022-05-18T10:43:43.981Z"
   },
   {
    "duration": 12,
    "start_time": "2022-05-18T10:43:43.997Z"
   },
   {
    "duration": 33,
    "start_time": "2022-05-18T10:43:44.010Z"
   },
   {
    "duration": 13,
    "start_time": "2022-05-18T10:43:44.045Z"
   },
   {
    "duration": 8,
    "start_time": "2022-05-18T10:43:44.059Z"
   },
   {
    "duration": 13,
    "start_time": "2022-05-18T10:43:44.068Z"
   },
   {
    "duration": 12,
    "start_time": "2022-05-18T10:43:44.083Z"
   },
   {
    "duration": 549,
    "start_time": "2022-05-18T10:43:44.096Z"
   },
   {
    "duration": 12,
    "start_time": "2022-05-18T10:43:44.647Z"
   },
   {
    "duration": 4,
    "start_time": "2022-05-18T10:43:44.661Z"
   },
   {
    "duration": 28,
    "start_time": "2022-05-18T10:43:44.667Z"
   },
   {
    "duration": 47,
    "start_time": "2022-05-18T10:43:44.696Z"
   },
   {
    "duration": 51,
    "start_time": "2022-05-18T10:43:44.745Z"
   },
   {
    "duration": 46,
    "start_time": "2022-05-18T10:43:44.798Z"
   },
   {
    "duration": 11,
    "start_time": "2022-05-18T10:43:44.846Z"
   },
   {
    "duration": 41,
    "start_time": "2022-05-18T10:43:44.859Z"
   },
   {
    "duration": 285,
    "start_time": "2022-05-18T10:43:44.901Z"
   },
   {
    "duration": 14,
    "start_time": "2022-05-18T10:43:45.187Z"
   },
   {
    "duration": 55,
    "start_time": "2022-05-18T10:43:45.203Z"
   },
   {
    "duration": 29,
    "start_time": "2022-05-19T05:23:25.190Z"
   },
   {
    "duration": 29,
    "start_time": "2022-05-19T05:23:48.486Z"
   },
   {
    "duration": 46,
    "start_time": "2022-05-19T05:24:11.322Z"
   },
   {
    "duration": 410,
    "start_time": "2022-05-20T06:36:44.965Z"
   },
   {
    "duration": 1456,
    "start_time": "2022-05-20T06:36:45.377Z"
   },
   {
    "duration": 174,
    "start_time": "2022-05-20T06:36:46.835Z"
   },
   {
    "duration": 9,
    "start_time": "2022-05-20T06:36:47.011Z"
   },
   {
    "duration": 10,
    "start_time": "2022-05-20T06:36:47.021Z"
   },
   {
    "duration": 8,
    "start_time": "2022-05-20T06:36:47.032Z"
   },
   {
    "duration": 21,
    "start_time": "2022-05-20T06:36:47.041Z"
   },
   {
    "duration": 44,
    "start_time": "2022-05-20T06:36:47.063Z"
   },
   {
    "duration": 10,
    "start_time": "2022-05-20T06:36:47.108Z"
   },
   {
    "duration": 16,
    "start_time": "2022-05-20T06:36:47.121Z"
   },
   {
    "duration": 11,
    "start_time": "2022-05-20T06:36:47.138Z"
   },
   {
    "duration": 4,
    "start_time": "2022-05-20T06:36:47.151Z"
   },
   {
    "duration": 7,
    "start_time": "2022-05-20T06:36:47.156Z"
   },
   {
    "duration": 39,
    "start_time": "2022-05-20T06:36:47.165Z"
   },
   {
    "duration": 706,
    "start_time": "2022-05-20T06:36:47.206Z"
   },
   {
    "duration": 12,
    "start_time": "2022-05-20T06:36:47.914Z"
   },
   {
    "duration": 5,
    "start_time": "2022-05-20T06:36:47.927Z"
   },
   {
    "duration": 18,
    "start_time": "2022-05-20T06:36:47.933Z"
   },
   {
    "duration": 0,
    "start_time": "2022-05-20T06:36:47.952Z"
   },
   {
    "duration": 0,
    "start_time": "2022-05-20T06:36:47.953Z"
   },
   {
    "duration": 0,
    "start_time": "2022-05-20T06:36:47.954Z"
   },
   {
    "duration": 0,
    "start_time": "2022-05-20T06:36:47.955Z"
   },
   {
    "duration": 0,
    "start_time": "2022-05-20T06:36:47.957Z"
   },
   {
    "duration": 0,
    "start_time": "2022-05-20T06:36:47.957Z"
   },
   {
    "duration": 0,
    "start_time": "2022-05-20T06:36:47.958Z"
   },
   {
    "duration": 0,
    "start_time": "2022-05-20T06:36:47.960Z"
   },
   {
    "duration": 0,
    "start_time": "2022-05-20T06:36:47.960Z"
   },
   {
    "duration": 15,
    "start_time": "2022-05-20T06:37:43.043Z"
   },
   {
    "duration": 437,
    "start_time": "2022-05-20T06:37:56.097Z"
   },
   {
    "duration": 474,
    "start_time": "2022-05-20T06:37:56.536Z"
   },
   {
    "duration": 176,
    "start_time": "2022-05-20T06:37:57.012Z"
   },
   {
    "duration": 18,
    "start_time": "2022-05-20T06:37:57.190Z"
   },
   {
    "duration": 12,
    "start_time": "2022-05-20T06:37:57.209Z"
   },
   {
    "duration": 13,
    "start_time": "2022-05-20T06:37:57.223Z"
   },
   {
    "duration": 28,
    "start_time": "2022-05-20T06:37:57.237Z"
   },
   {
    "duration": 14,
    "start_time": "2022-05-20T06:37:57.266Z"
   },
   {
    "duration": 21,
    "start_time": "2022-05-20T06:37:57.281Z"
   },
   {
    "duration": 14,
    "start_time": "2022-05-20T06:37:57.304Z"
   },
   {
    "duration": 10,
    "start_time": "2022-05-20T06:37:57.320Z"
   },
   {
    "duration": 5,
    "start_time": "2022-05-20T06:37:57.332Z"
   },
   {
    "duration": 8,
    "start_time": "2022-05-20T06:37:57.338Z"
   },
   {
    "duration": 4,
    "start_time": "2022-05-20T06:37:57.347Z"
   },
   {
    "duration": 515,
    "start_time": "2022-05-20T06:37:57.352Z"
   },
   {
    "duration": 9,
    "start_time": "2022-05-20T06:37:57.868Z"
   },
   {
    "duration": 16,
    "start_time": "2022-05-20T06:37:57.878Z"
   },
   {
    "duration": 37,
    "start_time": "2022-05-20T06:37:57.896Z"
   },
   {
    "duration": 15,
    "start_time": "2022-05-20T06:37:57.934Z"
   },
   {
    "duration": 58,
    "start_time": "2022-05-20T06:37:57.950Z"
   },
   {
    "duration": 34,
    "start_time": "2022-05-20T06:37:58.010Z"
   },
   {
    "duration": 10,
    "start_time": "2022-05-20T06:37:58.045Z"
   },
   {
    "duration": 49,
    "start_time": "2022-05-20T06:37:58.057Z"
   },
   {
    "duration": 249,
    "start_time": "2022-05-20T06:37:58.107Z"
   },
   {
    "duration": 16,
    "start_time": "2022-05-20T06:37:58.358Z"
   },
   {
    "duration": 52,
    "start_time": "2022-05-20T06:37:58.375Z"
   },
   {
    "duration": 17,
    "start_time": "2022-05-20T06:39:07.781Z"
   },
   {
    "duration": 17,
    "start_time": "2022-05-20T06:39:28.288Z"
   },
   {
    "duration": 16,
    "start_time": "2022-05-20T06:39:51.918Z"
   },
   {
    "duration": 9,
    "start_time": "2022-05-20T06:40:03.066Z"
   },
   {
    "duration": 9,
    "start_time": "2022-05-20T06:40:07.473Z"
   },
   {
    "duration": 15,
    "start_time": "2022-05-20T06:40:14.262Z"
   },
   {
    "duration": 13,
    "start_time": "2022-05-20T08:28:03.460Z"
   },
   {
    "duration": 10,
    "start_time": "2022-05-20T08:28:42.697Z"
   },
   {
    "duration": 59,
    "start_time": "2022-05-20T08:30:22.051Z"
   },
   {
    "duration": 40,
    "start_time": "2022-05-20T08:30:45.631Z"
   },
   {
    "duration": 64,
    "start_time": "2022-05-20T08:31:01.622Z"
   },
   {
    "duration": 26,
    "start_time": "2022-05-20T08:31:51.340Z"
   },
   {
    "duration": 26,
    "start_time": "2022-05-20T08:31:53.911Z"
   },
   {
    "duration": 1154,
    "start_time": "2022-05-20T08:32:01.311Z"
   },
   {
    "duration": 79,
    "start_time": "2022-05-20T08:32:13.933Z"
   },
   {
    "duration": 13,
    "start_time": "2022-05-20T08:32:17.675Z"
   },
   {
    "duration": 24,
    "start_time": "2022-05-20T08:32:50.012Z"
   },
   {
    "duration": 16,
    "start_time": "2022-05-20T08:33:07.463Z"
   },
   {
    "duration": 24,
    "start_time": "2022-05-20T08:35:58.540Z"
   },
   {
    "duration": 26,
    "start_time": "2022-05-20T08:36:12.870Z"
   },
   {
    "duration": 15,
    "start_time": "2022-05-20T08:38:57.420Z"
   },
   {
    "duration": 14,
    "start_time": "2022-05-20T08:39:22.422Z"
   },
   {
    "duration": 8,
    "start_time": "2022-05-20T08:41:23.202Z"
   },
   {
    "duration": 68,
    "start_time": "2022-05-20T08:41:35.059Z"
   },
   {
    "duration": 14,
    "start_time": "2022-05-20T08:41:51.770Z"
   },
   {
    "duration": 16,
    "start_time": "2022-05-20T08:43:13.518Z"
   },
   {
    "duration": 35,
    "start_time": "2022-05-20T08:43:17.418Z"
   },
   {
    "duration": 16,
    "start_time": "2022-05-20T08:43:32.350Z"
   },
   {
    "duration": 14,
    "start_time": "2022-05-20T08:43:44.899Z"
   },
   {
    "duration": 13,
    "start_time": "2022-05-20T08:45:26.582Z"
   },
   {
    "duration": 25,
    "start_time": "2022-05-20T08:52:23.232Z"
   },
   {
    "duration": 658,
    "start_time": "2022-05-20T08:52:53.841Z"
   },
   {
    "duration": 24,
    "start_time": "2022-05-20T08:53:08.004Z"
   },
   {
    "duration": 8,
    "start_time": "2022-05-20T08:53:13.186Z"
   },
   {
    "duration": 6,
    "start_time": "2022-05-20T08:53:54.421Z"
   },
   {
    "duration": 23,
    "start_time": "2022-05-20T08:54:16.061Z"
   },
   {
    "duration": 25,
    "start_time": "2022-05-20T08:54:56.162Z"
   },
   {
    "duration": 6,
    "start_time": "2022-05-20T08:55:17.901Z"
   },
   {
    "duration": 13,
    "start_time": "2022-05-20T08:56:43.878Z"
   },
   {
    "duration": 25,
    "start_time": "2022-05-20T08:59:07.551Z"
   },
   {
    "duration": 30,
    "start_time": "2022-05-20T08:59:37.062Z"
   },
   {
    "duration": 26,
    "start_time": "2022-05-20T08:59:43.091Z"
   },
   {
    "duration": 28,
    "start_time": "2022-05-20T08:59:48.604Z"
   },
   {
    "duration": 27,
    "start_time": "2022-05-20T08:59:49.876Z"
   },
   {
    "duration": 26,
    "start_time": "2022-05-20T08:59:50.844Z"
   },
   {
    "duration": 30,
    "start_time": "2022-05-20T08:59:51.705Z"
   },
   {
    "duration": 29,
    "start_time": "2022-05-20T08:59:52.342Z"
   },
   {
    "duration": 27,
    "start_time": "2022-05-20T08:59:52.685Z"
   },
   {
    "duration": 25,
    "start_time": "2022-05-20T08:59:53.050Z"
   },
   {
    "duration": 25,
    "start_time": "2022-05-20T08:59:53.207Z"
   },
   {
    "duration": 27,
    "start_time": "2022-05-20T08:59:54.075Z"
   },
   {
    "duration": 25,
    "start_time": "2022-05-20T09:00:15.318Z"
   },
   {
    "duration": 34,
    "start_time": "2022-05-20T09:00:18.795Z"
   },
   {
    "duration": 26,
    "start_time": "2022-05-20T09:00:34.665Z"
   },
   {
    "duration": 9,
    "start_time": "2022-05-20T09:04:21.123Z"
   },
   {
    "duration": 11,
    "start_time": "2022-05-20T09:04:58.464Z"
   },
   {
    "duration": 8,
    "start_time": "2022-05-20T09:05:08.917Z"
   },
   {
    "duration": 10,
    "start_time": "2022-05-20T09:05:13.976Z"
   },
   {
    "duration": 9,
    "start_time": "2022-05-20T09:05:19.226Z"
   },
   {
    "duration": 6,
    "start_time": "2022-05-20T09:05:45.447Z"
   },
   {
    "duration": 6,
    "start_time": "2022-05-20T09:05:51.134Z"
   },
   {
    "duration": 27,
    "start_time": "2022-05-20T09:05:56.216Z"
   },
   {
    "duration": 27,
    "start_time": "2022-05-20T09:06:30.266Z"
   },
   {
    "duration": 397,
    "start_time": "2022-05-20T10:24:16.061Z"
   },
   {
    "duration": 1419,
    "start_time": "2022-05-20T10:24:16.460Z"
   },
   {
    "duration": 174,
    "start_time": "2022-05-20T10:24:17.881Z"
   },
   {
    "duration": 15,
    "start_time": "2022-05-20T10:24:18.057Z"
   },
   {
    "duration": 11,
    "start_time": "2022-05-20T10:24:18.074Z"
   },
   {
    "duration": 28,
    "start_time": "2022-05-20T10:24:18.086Z"
   },
   {
    "duration": 21,
    "start_time": "2022-05-20T10:24:18.116Z"
   },
   {
    "duration": 14,
    "start_time": "2022-05-20T10:24:18.138Z"
   },
   {
    "duration": 10,
    "start_time": "2022-05-20T10:24:18.154Z"
   },
   {
    "duration": 16,
    "start_time": "2022-05-20T10:24:18.167Z"
   },
   {
    "duration": 13,
    "start_time": "2022-05-20T10:24:18.212Z"
   },
   {
    "duration": 17,
    "start_time": "2022-05-20T10:24:18.226Z"
   },
   {
    "duration": 10,
    "start_time": "2022-05-20T10:24:18.244Z"
   },
   {
    "duration": 675,
    "start_time": "2022-05-20T10:24:18.256Z"
   },
   {
    "duration": 13,
    "start_time": "2022-05-20T10:24:18.933Z"
   },
   {
    "duration": 5,
    "start_time": "2022-05-20T10:24:18.948Z"
   },
   {
    "duration": 62,
    "start_time": "2022-05-20T10:24:18.955Z"
   },
   {
    "duration": 38,
    "start_time": "2022-05-20T10:24:19.019Z"
   },
   {
    "duration": 22,
    "start_time": "2022-05-20T10:24:19.059Z"
   },
   {
    "duration": 114,
    "start_time": "2022-05-20T10:24:19.083Z"
   },
   {
    "duration": 0,
    "start_time": "2022-05-20T10:24:19.198Z"
   },
   {
    "duration": 0,
    "start_time": "2022-05-20T10:24:19.200Z"
   },
   {
    "duration": 0,
    "start_time": "2022-05-20T10:24:19.201Z"
   },
   {
    "duration": 0,
    "start_time": "2022-05-20T10:24:19.212Z"
   },
   {
    "duration": 0,
    "start_time": "2022-05-20T10:24:19.213Z"
   },
   {
    "duration": 0,
    "start_time": "2022-05-20T10:24:19.214Z"
   },
   {
    "duration": 0,
    "start_time": "2022-05-20T10:24:19.216Z"
   },
   {
    "duration": 0,
    "start_time": "2022-05-20T10:24:19.218Z"
   },
   {
    "duration": 0,
    "start_time": "2022-05-20T10:24:19.220Z"
   },
   {
    "duration": 0,
    "start_time": "2022-05-20T10:24:19.221Z"
   },
   {
    "duration": 0,
    "start_time": "2022-05-20T10:24:19.223Z"
   },
   {
    "duration": 21,
    "start_time": "2022-05-20T10:25:00.688Z"
   },
   {
    "duration": 50,
    "start_time": "2022-05-20T10:25:11.862Z"
   },
   {
    "duration": 18,
    "start_time": "2022-05-20T10:25:30.128Z"
   },
   {
    "duration": 49,
    "start_time": "2022-05-20T10:28:01.953Z"
   },
   {
    "duration": 393,
    "start_time": "2022-05-20T10:28:33.971Z"
   },
   {
    "duration": 489,
    "start_time": "2022-05-20T10:28:34.366Z"
   },
   {
    "duration": 219,
    "start_time": "2022-05-20T10:28:34.857Z"
   },
   {
    "duration": 11,
    "start_time": "2022-05-20T10:28:35.078Z"
   },
   {
    "duration": 29,
    "start_time": "2022-05-20T10:28:35.091Z"
   },
   {
    "duration": 18,
    "start_time": "2022-05-20T10:28:35.122Z"
   },
   {
    "duration": 29,
    "start_time": "2022-05-20T10:28:35.142Z"
   },
   {
    "duration": 19,
    "start_time": "2022-05-20T10:28:35.173Z"
   },
   {
    "duration": 34,
    "start_time": "2022-05-20T10:28:35.194Z"
   },
   {
    "duration": 21,
    "start_time": "2022-05-20T10:28:35.232Z"
   },
   {
    "duration": 18,
    "start_time": "2022-05-20T10:28:35.255Z"
   },
   {
    "duration": 59,
    "start_time": "2022-05-20T10:28:35.275Z"
   },
   {
    "duration": 17,
    "start_time": "2022-05-20T10:28:35.335Z"
   },
   {
    "duration": 14,
    "start_time": "2022-05-20T10:28:35.354Z"
   },
   {
    "duration": 535,
    "start_time": "2022-05-20T10:28:35.370Z"
   },
   {
    "duration": 15,
    "start_time": "2022-05-20T10:28:35.907Z"
   },
   {
    "duration": 5,
    "start_time": "2022-05-20T10:28:35.923Z"
   },
   {
    "duration": 94,
    "start_time": "2022-05-20T10:28:35.930Z"
   },
   {
    "duration": 0,
    "start_time": "2022-05-20T10:28:36.026Z"
   },
   {
    "duration": 0,
    "start_time": "2022-05-20T10:28:36.028Z"
   },
   {
    "duration": 0,
    "start_time": "2022-05-20T10:28:36.029Z"
   },
   {
    "duration": 0,
    "start_time": "2022-05-20T10:28:36.030Z"
   },
   {
    "duration": 0,
    "start_time": "2022-05-20T10:28:36.032Z"
   },
   {
    "duration": 0,
    "start_time": "2022-05-20T10:28:36.033Z"
   },
   {
    "duration": 0,
    "start_time": "2022-05-20T10:28:36.035Z"
   },
   {
    "duration": 0,
    "start_time": "2022-05-20T10:28:36.036Z"
   },
   {
    "duration": 1,
    "start_time": "2022-05-20T10:28:36.037Z"
   },
   {
    "duration": 0,
    "start_time": "2022-05-20T10:28:36.039Z"
   },
   {
    "duration": 0,
    "start_time": "2022-05-20T10:28:36.040Z"
   },
   {
    "duration": 0,
    "start_time": "2022-05-20T10:28:36.042Z"
   },
   {
    "duration": 0,
    "start_time": "2022-05-20T10:28:36.043Z"
   },
   {
    "duration": 0,
    "start_time": "2022-05-20T10:28:36.045Z"
   },
   {
    "duration": 432,
    "start_time": "2022-05-20T10:28:48.314Z"
   },
   {
    "duration": 485,
    "start_time": "2022-05-20T10:28:48.748Z"
   },
   {
    "duration": 207,
    "start_time": "2022-05-20T10:28:49.235Z"
   },
   {
    "duration": 12,
    "start_time": "2022-05-20T10:28:49.444Z"
   },
   {
    "duration": 14,
    "start_time": "2022-05-20T10:28:49.457Z"
   },
   {
    "duration": 10,
    "start_time": "2022-05-20T10:28:49.472Z"
   },
   {
    "duration": 32,
    "start_time": "2022-05-20T10:28:49.511Z"
   },
   {
    "duration": 13,
    "start_time": "2022-05-20T10:28:49.545Z"
   },
   {
    "duration": 10,
    "start_time": "2022-05-20T10:28:49.560Z"
   },
   {
    "duration": 40,
    "start_time": "2022-05-20T10:28:49.573Z"
   },
   {
    "duration": 13,
    "start_time": "2022-05-20T10:28:49.614Z"
   },
   {
    "duration": 49,
    "start_time": "2022-05-20T10:28:49.629Z"
   },
   {
    "duration": 35,
    "start_time": "2022-05-20T10:28:49.679Z"
   },
   {
    "duration": 9,
    "start_time": "2022-05-20T10:28:49.716Z"
   },
   {
    "duration": 516,
    "start_time": "2022-05-20T10:28:49.727Z"
   },
   {
    "duration": 13,
    "start_time": "2022-05-20T10:28:50.245Z"
   },
   {
    "duration": 4,
    "start_time": "2022-05-20T10:28:50.260Z"
   },
   {
    "duration": 67,
    "start_time": "2022-05-20T10:28:50.265Z"
   },
   {
    "duration": 41,
    "start_time": "2022-05-20T10:28:50.334Z"
   },
   {
    "duration": 38,
    "start_time": "2022-05-20T10:28:50.376Z"
   },
   {
    "duration": 13,
    "start_time": "2022-05-20T10:28:50.416Z"
   },
   {
    "duration": 13,
    "start_time": "2022-05-20T10:28:50.430Z"
   },
   {
    "duration": 26,
    "start_time": "2022-05-20T10:28:50.445Z"
   },
   {
    "duration": 46,
    "start_time": "2022-05-20T10:28:50.472Z"
   },
   {
    "duration": 34,
    "start_time": "2022-05-20T10:28:50.521Z"
   },
   {
    "duration": 12,
    "start_time": "2022-05-20T10:28:50.557Z"
   },
   {
    "duration": 60,
    "start_time": "2022-05-20T10:28:50.571Z"
   },
   {
    "duration": 294,
    "start_time": "2022-05-20T10:28:50.635Z"
   },
   {
    "duration": 15,
    "start_time": "2022-05-20T10:28:50.931Z"
   },
   {
    "duration": 39,
    "start_time": "2022-05-20T10:28:50.948Z"
   },
   {
    "duration": 48,
    "start_time": "2022-05-20T10:28:50.989Z"
   },
   {
    "duration": 257,
    "start_time": "2022-05-20T10:31:29.006Z"
   },
   {
    "duration": 29,
    "start_time": "2022-05-20T10:31:34.434Z"
   },
   {
    "duration": 54,
    "start_time": "2022-05-20T10:32:24.279Z"
   },
   {
    "duration": 421,
    "start_time": "2022-05-22T08:34:55.111Z"
   },
   {
    "duration": 1487,
    "start_time": "2022-05-22T08:34:55.534Z"
   },
   {
    "duration": 211,
    "start_time": "2022-05-22T08:34:57.023Z"
   },
   {
    "duration": 12,
    "start_time": "2022-05-22T08:34:57.237Z"
   },
   {
    "duration": 34,
    "start_time": "2022-05-22T08:34:57.251Z"
   },
   {
    "duration": 11,
    "start_time": "2022-05-22T08:34:57.287Z"
   },
   {
    "duration": 35,
    "start_time": "2022-05-22T08:34:57.300Z"
   },
   {
    "duration": 18,
    "start_time": "2022-05-22T08:34:57.337Z"
   },
   {
    "duration": 39,
    "start_time": "2022-05-22T08:34:57.357Z"
   },
   {
    "duration": 18,
    "start_time": "2022-05-22T08:34:57.399Z"
   },
   {
    "duration": 13,
    "start_time": "2022-05-22T08:34:57.419Z"
   },
   {
    "duration": 77,
    "start_time": "2022-05-22T08:34:57.434Z"
   },
   {
    "duration": 17,
    "start_time": "2022-05-22T08:34:57.513Z"
   },
   {
    "duration": 15,
    "start_time": "2022-05-22T08:34:57.531Z"
   },
   {
    "duration": 799,
    "start_time": "2022-05-22T08:34:57.548Z"
   },
   {
    "duration": 22,
    "start_time": "2022-05-22T08:34:58.349Z"
   },
   {
    "duration": 6,
    "start_time": "2022-05-22T08:34:58.384Z"
   },
   {
    "duration": 60,
    "start_time": "2022-05-22T08:34:58.391Z"
   },
   {
    "duration": 62,
    "start_time": "2022-05-22T08:34:58.453Z"
   },
   {
    "duration": 26,
    "start_time": "2022-05-22T08:34:58.517Z"
   },
   {
    "duration": 14,
    "start_time": "2022-05-22T08:34:58.544Z"
   },
   {
    "duration": 32,
    "start_time": "2022-05-22T08:34:58.560Z"
   },
   {
    "duration": 26,
    "start_time": "2022-05-22T08:34:58.594Z"
   },
   {
    "duration": 69,
    "start_time": "2022-05-22T08:34:58.621Z"
   },
   {
    "duration": 17,
    "start_time": "2022-05-22T08:34:58.692Z"
   },
   {
    "duration": 32,
    "start_time": "2022-05-22T08:34:58.710Z"
   },
   {
    "duration": 4,
    "start_time": "2022-05-22T08:34:58.744Z"
   },
   {
    "duration": 0,
    "start_time": "2022-05-22T08:34:58.750Z"
   },
   {
    "duration": 0,
    "start_time": "2022-05-22T08:34:58.784Z"
   },
   {
    "duration": 44,
    "start_time": "2022-05-22T08:35:16.345Z"
   },
   {
    "duration": 78,
    "start_time": "2022-05-22T08:35:27.193Z"
   },
   {
    "duration": 12,
    "start_time": "2022-05-22T08:35:31.380Z"
   },
   {
    "duration": 34,
    "start_time": "2022-05-22T08:36:45.703Z"
   },
   {
    "duration": 33,
    "start_time": "2022-05-22T08:36:50.424Z"
   },
   {
    "duration": 31,
    "start_time": "2022-05-22T08:36:53.716Z"
   },
   {
    "duration": 12,
    "start_time": "2022-05-22T08:37:03.487Z"
   },
   {
    "duration": 10,
    "start_time": "2022-05-22T08:37:25.053Z"
   },
   {
    "duration": 4,
    "start_time": "2022-05-22T08:37:32.935Z"
   },
   {
    "duration": 23,
    "start_time": "2022-05-22T08:37:34.362Z"
   },
   {
    "duration": 42,
    "start_time": "2022-05-22T08:37:40.023Z"
   },
   {
    "duration": 24,
    "start_time": "2022-05-22T08:37:57.104Z"
   },
   {
    "duration": 22,
    "start_time": "2022-05-22T08:38:21.181Z"
   },
   {
    "duration": 43,
    "start_time": "2022-05-22T08:38:24.695Z"
   },
   {
    "duration": 42,
    "start_time": "2022-05-22T08:38:38.448Z"
   },
   {
    "duration": 35,
    "start_time": "2022-05-22T08:38:46.224Z"
   },
   {
    "duration": 53,
    "start_time": "2022-05-22T08:39:47.943Z"
   },
   {
    "duration": 25,
    "start_time": "2022-05-22T08:40:14.350Z"
   },
   {
    "duration": 445,
    "start_time": "2022-05-22T08:40:30.246Z"
   },
   {
    "duration": 527,
    "start_time": "2022-05-22T08:40:30.693Z"
   },
   {
    "duration": 229,
    "start_time": "2022-05-22T08:40:31.222Z"
   },
   {
    "duration": 12,
    "start_time": "2022-05-22T08:40:31.453Z"
   },
   {
    "duration": 22,
    "start_time": "2022-05-22T08:40:31.483Z"
   },
   {
    "duration": 17,
    "start_time": "2022-05-22T08:40:31.507Z"
   },
   {
    "duration": 33,
    "start_time": "2022-05-22T08:40:31.526Z"
   },
   {
    "duration": 15,
    "start_time": "2022-05-22T08:40:31.560Z"
   },
   {
    "duration": 19,
    "start_time": "2022-05-22T08:40:31.577Z"
   },
   {
    "duration": 28,
    "start_time": "2022-05-22T08:40:31.600Z"
   },
   {
    "duration": 14,
    "start_time": "2022-05-22T08:40:31.629Z"
   },
   {
    "duration": 95,
    "start_time": "2022-05-22T08:40:31.645Z"
   },
   {
    "duration": 21,
    "start_time": "2022-05-22T08:40:31.741Z"
   },
   {
    "duration": 30,
    "start_time": "2022-05-22T08:40:31.764Z"
   },
   {
    "duration": 574,
    "start_time": "2022-05-22T08:40:31.796Z"
   },
   {
    "duration": 20,
    "start_time": "2022-05-22T08:40:32.371Z"
   },
   {
    "duration": 4,
    "start_time": "2022-05-22T08:40:32.393Z"
   },
   {
    "duration": 54,
    "start_time": "2022-05-22T08:40:32.399Z"
   },
   {
    "duration": 64,
    "start_time": "2022-05-22T08:40:32.454Z"
   },
   {
    "duration": 24,
    "start_time": "2022-05-22T08:40:32.519Z"
   },
   {
    "duration": 13,
    "start_time": "2022-05-22T08:40:32.545Z"
   },
   {
    "duration": 41,
    "start_time": "2022-05-22T08:40:32.560Z"
   },
   {
    "duration": 36,
    "start_time": "2022-05-22T08:40:32.603Z"
   },
   {
    "duration": 64,
    "start_time": "2022-05-22T08:40:32.641Z"
   },
   {
    "duration": 17,
    "start_time": "2022-05-22T08:40:32.707Z"
   },
   {
    "duration": 29,
    "start_time": "2022-05-22T08:40:32.725Z"
   },
   {
    "duration": 28,
    "start_time": "2022-05-22T08:40:32.756Z"
   },
   {
    "duration": 24,
    "start_time": "2022-05-22T08:40:32.788Z"
   },
   {
    "duration": 40,
    "start_time": "2022-05-22T08:40:32.814Z"
   },
   {
    "duration": 161,
    "start_time": "2022-05-22T08:40:32.856Z"
   },
   {
    "duration": 38,
    "start_time": "2022-05-22T08:41:32.373Z"
   },
   {
    "duration": 564,
    "start_time": "2022-05-22T08:42:38.046Z"
   },
   {
    "duration": 31,
    "start_time": "2022-05-22T08:42:59.568Z"
   },
   {
    "duration": 25,
    "start_time": "2022-05-22T08:43:26.217Z"
   },
   {
    "duration": 30,
    "start_time": "2022-05-22T08:43:53.813Z"
   },
   {
    "duration": 25,
    "start_time": "2022-05-22T08:44:04.739Z"
   },
   {
    "duration": 48,
    "start_time": "2022-05-22T08:44:23.824Z"
   },
   {
    "duration": 34,
    "start_time": "2022-05-22T08:44:28.239Z"
   },
   {
    "duration": 35,
    "start_time": "2022-05-22T08:45:11.051Z"
   },
   {
    "duration": 48,
    "start_time": "2022-05-22T08:45:23.519Z"
   },
   {
    "duration": 41,
    "start_time": "2022-05-22T08:45:30.190Z"
   },
   {
    "duration": 34,
    "start_time": "2022-05-22T08:45:41.794Z"
   },
   {
    "duration": 35,
    "start_time": "2022-05-22T08:45:56.095Z"
   },
   {
    "duration": 8,
    "start_time": "2022-05-22T08:47:47.076Z"
   },
   {
    "duration": 20,
    "start_time": "2022-05-22T08:47:53.563Z"
   },
   {
    "duration": 27,
    "start_time": "2022-05-22T08:48:12.573Z"
   },
   {
    "duration": 8,
    "start_time": "2022-05-22T08:49:02.854Z"
   },
   {
    "duration": 10,
    "start_time": "2022-05-22T08:50:11.087Z"
   },
   {
    "duration": 8,
    "start_time": "2022-05-22T08:50:25.371Z"
   },
   {
    "duration": 5,
    "start_time": "2022-05-22T08:50:45.714Z"
   },
   {
    "duration": 12,
    "start_time": "2022-05-22T08:51:00.224Z"
   },
   {
    "duration": 8,
    "start_time": "2022-05-22T08:51:22.988Z"
   },
   {
    "duration": 33,
    "start_time": "2022-05-22T08:51:48.808Z"
   },
   {
    "duration": 69,
    "start_time": "2022-05-22T08:51:51.970Z"
   },
   {
    "duration": 40,
    "start_time": "2022-05-22T08:52:30.169Z"
   },
   {
    "duration": 10,
    "start_time": "2022-05-22T08:53:28.008Z"
   },
   {
    "duration": 10,
    "start_time": "2022-05-22T08:53:38.143Z"
   },
   {
    "duration": 34,
    "start_time": "2022-05-22T08:54:59.003Z"
   },
   {
    "duration": 48,
    "start_time": "2022-05-22T08:55:58.914Z"
   },
   {
    "duration": 15,
    "start_time": "2022-05-22T08:56:35.667Z"
   },
   {
    "duration": 6,
    "start_time": "2022-05-22T08:58:27.218Z"
   },
   {
    "duration": 12,
    "start_time": "2022-05-22T08:59:49.681Z"
   },
   {
    "duration": 7,
    "start_time": "2022-05-22T09:00:43.597Z"
   },
   {
    "duration": 16,
    "start_time": "2022-05-22T09:00:48.822Z"
   },
   {
    "duration": 6,
    "start_time": "2022-05-22T09:01:05.873Z"
   },
   {
    "duration": 12,
    "start_time": "2022-05-22T09:01:12.178Z"
   },
   {
    "duration": 476,
    "start_time": "2022-05-22T09:02:04.102Z"
   },
   {
    "duration": 454,
    "start_time": "2022-05-22T09:02:09.158Z"
   },
   {
    "duration": 510,
    "start_time": "2022-05-22T09:02:09.614Z"
   },
   {
    "duration": 298,
    "start_time": "2022-05-22T09:02:10.126Z"
   },
   {
    "duration": 20,
    "start_time": "2022-05-22T09:02:10.426Z"
   },
   {
    "duration": 41,
    "start_time": "2022-05-22T09:02:10.448Z"
   },
   {
    "duration": 7,
    "start_time": "2022-05-22T09:02:10.492Z"
   },
   {
    "duration": 22,
    "start_time": "2022-05-22T09:02:10.501Z"
   },
   {
    "duration": 21,
    "start_time": "2022-05-22T09:02:10.525Z"
   },
   {
    "duration": 46,
    "start_time": "2022-05-22T09:02:10.548Z"
   },
   {
    "duration": 17,
    "start_time": "2022-05-22T09:02:10.597Z"
   },
   {
    "duration": 14,
    "start_time": "2022-05-22T09:02:10.616Z"
   },
   {
    "duration": 78,
    "start_time": "2022-05-22T09:02:10.632Z"
   },
   {
    "duration": 20,
    "start_time": "2022-05-22T09:02:10.712Z"
   },
   {
    "duration": 15,
    "start_time": "2022-05-22T09:02:10.734Z"
   },
   {
    "duration": 600,
    "start_time": "2022-05-22T09:02:10.750Z"
   },
   {
    "duration": 16,
    "start_time": "2022-05-22T09:02:11.353Z"
   },
   {
    "duration": 6,
    "start_time": "2022-05-22T09:02:11.383Z"
   },
   {
    "duration": 52,
    "start_time": "2022-05-22T09:02:11.391Z"
   },
   {
    "duration": 67,
    "start_time": "2022-05-22T09:02:11.445Z"
   },
   {
    "duration": 27,
    "start_time": "2022-05-22T09:02:11.514Z"
   },
   {
    "duration": 40,
    "start_time": "2022-05-22T09:02:11.543Z"
   },
   {
    "duration": 21,
    "start_time": "2022-05-22T09:02:11.586Z"
   },
   {
    "duration": 31,
    "start_time": "2022-05-22T09:02:11.609Z"
   },
   {
    "duration": 68,
    "start_time": "2022-05-22T09:02:11.642Z"
   },
   {
    "duration": 17,
    "start_time": "2022-05-22T09:02:11.713Z"
   },
   {
    "duration": 63,
    "start_time": "2022-05-22T09:02:11.732Z"
   },
   {
    "duration": 7,
    "start_time": "2022-05-22T09:02:11.797Z"
   },
   {
    "duration": 38,
    "start_time": "2022-05-22T09:02:11.811Z"
   },
   {
    "duration": 90,
    "start_time": "2022-05-22T09:02:11.852Z"
   },
   {
    "duration": 24,
    "start_time": "2022-05-22T09:02:11.944Z"
   },
   {
    "duration": 15,
    "start_time": "2022-05-22T09:02:11.971Z"
   },
   {
    "duration": 54,
    "start_time": "2022-05-22T09:02:18.306Z"
   },
   {
    "duration": 102,
    "start_time": "2022-05-22T09:03:42.354Z"
   },
   {
    "duration": 33,
    "start_time": "2022-05-22T09:05:16.668Z"
   },
   {
    "duration": 47,
    "start_time": "2022-05-22T09:05:32.697Z"
   },
   {
    "duration": 42,
    "start_time": "2022-05-22T09:05:58.027Z"
   },
   {
    "duration": 17,
    "start_time": "2022-05-22T09:06:09.612Z"
   },
   {
    "duration": 30,
    "start_time": "2022-05-22T09:06:18.781Z"
   },
   {
    "duration": 75,
    "start_time": "2022-05-22T09:06:22.193Z"
   },
   {
    "duration": 22,
    "start_time": "2022-05-22T09:06:33.617Z"
   },
   {
    "duration": 22,
    "start_time": "2022-05-22T09:07:50.654Z"
   },
   {
    "duration": 50,
    "start_time": "2022-05-22T09:09:12.729Z"
   },
   {
    "duration": 56,
    "start_time": "2022-05-22T09:09:41.776Z"
   },
   {
    "duration": 440,
    "start_time": "2022-05-22T09:09:56.431Z"
   },
   {
    "duration": 581,
    "start_time": "2022-05-22T09:09:56.873Z"
   },
   {
    "duration": 254,
    "start_time": "2022-05-22T09:09:57.456Z"
   },
   {
    "duration": 18,
    "start_time": "2022-05-22T09:09:57.712Z"
   },
   {
    "duration": 25,
    "start_time": "2022-05-22T09:09:57.732Z"
   },
   {
    "duration": 7,
    "start_time": "2022-05-22T09:09:57.759Z"
   },
   {
    "duration": 47,
    "start_time": "2022-05-22T09:09:57.768Z"
   },
   {
    "duration": 15,
    "start_time": "2022-05-22T09:09:57.817Z"
   },
   {
    "duration": 26,
    "start_time": "2022-05-22T09:09:57.834Z"
   },
   {
    "duration": 40,
    "start_time": "2022-05-22T09:09:57.864Z"
   },
   {
    "duration": 19,
    "start_time": "2022-05-22T09:09:57.909Z"
   },
   {
    "duration": 83,
    "start_time": "2022-05-22T09:09:57.930Z"
   },
   {
    "duration": 24,
    "start_time": "2022-05-22T09:09:58.016Z"
   },
   {
    "duration": 16,
    "start_time": "2022-05-22T09:09:58.042Z"
   },
   {
    "duration": 709,
    "start_time": "2022-05-22T09:09:58.060Z"
   },
   {
    "duration": 21,
    "start_time": "2022-05-22T09:09:58.771Z"
   },
   {
    "duration": 10,
    "start_time": "2022-05-22T09:09:58.793Z"
   },
   {
    "duration": 88,
    "start_time": "2022-05-22T09:09:58.807Z"
   },
   {
    "duration": 63,
    "start_time": "2022-05-22T09:09:58.898Z"
   },
   {
    "duration": 51,
    "start_time": "2022-05-22T09:09:58.962Z"
   },
   {
    "duration": 23,
    "start_time": "2022-05-22T09:09:59.015Z"
   },
   {
    "duration": 20,
    "start_time": "2022-05-22T09:09:59.040Z"
   },
   {
    "duration": 58,
    "start_time": "2022-05-22T09:09:59.062Z"
   },
   {
    "duration": 38,
    "start_time": "2022-05-22T09:09:59.122Z"
   },
   {
    "duration": 41,
    "start_time": "2022-05-22T09:09:59.162Z"
   },
   {
    "duration": 30,
    "start_time": "2022-05-22T09:09:59.205Z"
   },
   {
    "duration": 3,
    "start_time": "2022-05-22T09:09:59.237Z"
   },
   {
    "duration": 48,
    "start_time": "2022-05-22T09:09:59.244Z"
   },
   {
    "duration": 60,
    "start_time": "2022-05-22T09:09:59.293Z"
   },
   {
    "duration": 33,
    "start_time": "2022-05-22T09:09:59.355Z"
   },
   {
    "duration": 46,
    "start_time": "2022-05-22T09:09:59.390Z"
   },
   {
    "duration": 135,
    "start_time": "2022-05-22T09:10:31.170Z"
   },
   {
    "duration": 45,
    "start_time": "2022-05-22T09:10:46.353Z"
   },
   {
    "duration": 34,
    "start_time": "2022-05-22T09:11:13.108Z"
   },
   {
    "duration": 35,
    "start_time": "2022-05-22T09:11:22.412Z"
   },
   {
    "duration": 16,
    "start_time": "2022-05-22T09:11:42.268Z"
   },
   {
    "duration": 12,
    "start_time": "2022-05-22T09:13:39.821Z"
   },
   {
    "duration": 33,
    "start_time": "2022-05-22T09:13:45.359Z"
   },
   {
    "duration": 10,
    "start_time": "2022-05-22T09:14:40.254Z"
   },
   {
    "duration": 7,
    "start_time": "2022-05-22T09:14:43.954Z"
   },
   {
    "duration": 426,
    "start_time": "2022-05-22T13:26:48.514Z"
   },
   {
    "duration": 1501,
    "start_time": "2022-05-22T13:26:48.942Z"
   },
   {
    "duration": 255,
    "start_time": "2022-05-22T13:26:50.445Z"
   },
   {
    "duration": 15,
    "start_time": "2022-05-22T13:26:50.708Z"
   },
   {
    "duration": 26,
    "start_time": "2022-05-22T13:26:50.725Z"
   },
   {
    "duration": 15,
    "start_time": "2022-05-22T13:26:50.753Z"
   },
   {
    "duration": 40,
    "start_time": "2022-05-22T13:26:50.770Z"
   },
   {
    "duration": 30,
    "start_time": "2022-05-22T13:26:50.814Z"
   },
   {
    "duration": 17,
    "start_time": "2022-05-22T13:26:50.846Z"
   },
   {
    "duration": 42,
    "start_time": "2022-05-22T13:26:50.867Z"
   },
   {
    "duration": 26,
    "start_time": "2022-05-22T13:26:50.911Z"
   },
   {
    "duration": 96,
    "start_time": "2022-05-22T13:26:50.939Z"
   },
   {
    "duration": 20,
    "start_time": "2022-05-22T13:26:51.037Z"
   },
   {
    "duration": 29,
    "start_time": "2022-05-22T13:26:51.059Z"
   },
   {
    "duration": 862,
    "start_time": "2022-05-22T13:26:51.089Z"
   },
   {
    "duration": 16,
    "start_time": "2022-05-22T13:26:51.953Z"
   },
   {
    "duration": 44,
    "start_time": "2022-05-22T13:26:51.972Z"
   },
   {
    "duration": 64,
    "start_time": "2022-05-22T13:26:52.018Z"
   },
   {
    "duration": 48,
    "start_time": "2022-05-22T13:26:52.084Z"
   },
   {
    "duration": 34,
    "start_time": "2022-05-22T13:26:52.133Z"
   },
   {
    "duration": 26,
    "start_time": "2022-05-22T13:26:52.170Z"
   },
   {
    "duration": 78,
    "start_time": "2022-05-22T13:26:52.198Z"
   },
   {
    "duration": 34,
    "start_time": "2022-05-22T13:26:52.280Z"
   },
   {
    "duration": 50,
    "start_time": "2022-05-22T13:26:52.316Z"
   },
   {
    "duration": 18,
    "start_time": "2022-05-22T13:26:52.368Z"
   },
   {
    "duration": 80,
    "start_time": "2022-05-22T13:26:52.389Z"
   },
   {
    "duration": 3,
    "start_time": "2022-05-22T13:26:52.471Z"
   },
   {
    "duration": 70,
    "start_time": "2022-05-22T13:26:52.479Z"
   },
   {
    "duration": 65,
    "start_time": "2022-05-22T13:26:52.551Z"
   },
   {
    "duration": 17,
    "start_time": "2022-05-22T13:26:52.618Z"
   },
   {
    "duration": 22,
    "start_time": "2022-05-22T13:26:52.638Z"
   },
   {
    "duration": 7,
    "start_time": "2022-05-22T13:28:22.276Z"
   },
   {
    "duration": 34,
    "start_time": "2022-05-22T13:28:26.917Z"
   },
   {
    "duration": 100,
    "start_time": "2022-05-22T13:29:46.043Z"
   },
   {
    "duration": 107,
    "start_time": "2022-05-22T13:29:51.182Z"
   },
   {
    "duration": 103,
    "start_time": "2022-05-22T13:31:12.718Z"
   },
   {
    "duration": 92,
    "start_time": "2022-05-22T13:32:14.495Z"
   },
   {
    "duration": 14,
    "start_time": "2022-05-22T13:33:54.508Z"
   },
   {
    "duration": 98,
    "start_time": "2022-05-22T13:34:11.411Z"
   },
   {
    "duration": 15,
    "start_time": "2022-05-22T13:34:24.412Z"
   },
   {
    "duration": 23,
    "start_time": "2022-05-22T13:34:44.080Z"
   },
   {
    "duration": 33,
    "start_time": "2022-05-22T13:34:50.260Z"
   },
   {
    "duration": 8,
    "start_time": "2022-05-22T13:35:03.034Z"
   },
   {
    "duration": 9,
    "start_time": "2022-05-22T13:35:17.089Z"
   },
   {
    "duration": 20,
    "start_time": "2022-05-22T13:35:31.391Z"
   },
   {
    "duration": 7,
    "start_time": "2022-05-22T13:35:45.649Z"
   },
   {
    "duration": 46,
    "start_time": "2022-05-22T13:35:49.890Z"
   },
   {
    "duration": 15,
    "start_time": "2022-05-22T13:36:05.268Z"
   },
   {
    "duration": 410,
    "start_time": "2022-05-22T13:36:18.537Z"
   },
   {
    "duration": 509,
    "start_time": "2022-05-22T13:36:18.948Z"
   },
   {
    "duration": 210,
    "start_time": "2022-05-22T13:36:19.458Z"
   },
   {
    "duration": 39,
    "start_time": "2022-05-22T13:36:19.670Z"
   },
   {
    "duration": 17,
    "start_time": "2022-05-22T13:36:19.712Z"
   },
   {
    "duration": 8,
    "start_time": "2022-05-22T13:36:19.731Z"
   },
   {
    "duration": 27,
    "start_time": "2022-05-22T13:36:19.740Z"
   },
   {
    "duration": 39,
    "start_time": "2022-05-22T13:36:19.769Z"
   },
   {
    "duration": 12,
    "start_time": "2022-05-22T13:36:19.811Z"
   },
   {
    "duration": 22,
    "start_time": "2022-05-22T13:36:19.825Z"
   },
   {
    "duration": 13,
    "start_time": "2022-05-22T13:36:19.849Z"
   },
   {
    "duration": 81,
    "start_time": "2022-05-22T13:36:19.864Z"
   },
   {
    "duration": 14,
    "start_time": "2022-05-22T13:36:19.947Z"
   },
   {
    "duration": 37,
    "start_time": "2022-05-22T13:36:19.965Z"
   },
   {
    "duration": 572,
    "start_time": "2022-05-22T13:36:20.004Z"
   },
   {
    "duration": 25,
    "start_time": "2022-05-22T13:36:20.578Z"
   },
   {
    "duration": 6,
    "start_time": "2022-05-22T13:36:20.612Z"
   },
   {
    "duration": 52,
    "start_time": "2022-05-22T13:36:20.620Z"
   },
   {
    "duration": 67,
    "start_time": "2022-05-22T13:36:20.674Z"
   },
   {
    "duration": 27,
    "start_time": "2022-05-22T13:36:20.743Z"
   },
   {
    "duration": 37,
    "start_time": "2022-05-22T13:36:20.771Z"
   },
   {
    "duration": 13,
    "start_time": "2022-05-22T13:36:20.810Z"
   },
   {
    "duration": 24,
    "start_time": "2022-05-22T13:36:20.825Z"
   },
   {
    "duration": 25,
    "start_time": "2022-05-22T13:36:20.851Z"
   },
   {
    "duration": 35,
    "start_time": "2022-05-22T13:36:20.878Z"
   },
   {
    "duration": 27,
    "start_time": "2022-05-22T13:36:20.915Z"
   },
   {
    "duration": 3,
    "start_time": "2022-05-22T13:36:20.944Z"
   },
   {
    "duration": 27,
    "start_time": "2022-05-22T13:36:20.948Z"
   },
   {
    "duration": 78,
    "start_time": "2022-05-22T13:36:20.977Z"
   },
   {
    "duration": 15,
    "start_time": "2022-05-22T13:36:21.057Z"
   },
   {
    "duration": 35,
    "start_time": "2022-05-22T13:36:21.073Z"
   },
   {
    "duration": 52,
    "start_time": "2022-05-22T13:36:40.964Z"
   },
   {
    "duration": 15,
    "start_time": "2022-05-22T13:37:07.549Z"
   },
   {
    "duration": 9,
    "start_time": "2022-05-22T13:37:11.250Z"
   },
   {
    "duration": 31,
    "start_time": "2022-05-22T13:39:17.535Z"
   },
   {
    "duration": 12,
    "start_time": "2022-05-22T13:39:28.723Z"
   },
   {
    "duration": 4,
    "start_time": "2022-05-22T13:40:35.216Z"
   },
   {
    "duration": 17,
    "start_time": "2022-05-22T13:40:41.227Z"
   },
   {
    "duration": 15,
    "start_time": "2022-05-22T13:41:30.495Z"
   },
   {
    "duration": 43,
    "start_time": "2022-05-22T13:41:34.430Z"
   },
   {
    "duration": 47,
    "start_time": "2022-05-22T13:42:07.205Z"
   },
   {
    "duration": 8,
    "start_time": "2022-05-22T13:42:25.080Z"
   },
   {
    "duration": 9,
    "start_time": "2022-05-22T13:42:35.678Z"
   },
   {
    "duration": 6,
    "start_time": "2022-05-22T13:42:53.361Z"
   },
   {
    "duration": 4,
    "start_time": "2022-05-22T13:43:08.632Z"
   },
   {
    "duration": 48,
    "start_time": "2022-05-22T13:43:40.127Z"
   },
   {
    "duration": 24,
    "start_time": "2022-05-22T13:43:51.936Z"
   },
   {
    "duration": 41,
    "start_time": "2022-05-22T13:43:55.424Z"
   },
   {
    "duration": 32,
    "start_time": "2022-05-22T13:44:23.476Z"
   },
   {
    "duration": 33,
    "start_time": "2022-05-22T13:44:31.450Z"
   },
   {
    "duration": 34,
    "start_time": "2022-05-22T13:44:33.939Z"
   },
   {
    "duration": 66,
    "start_time": "2022-05-22T13:44:41.770Z"
   },
   {
    "duration": 946,
    "start_time": "2022-05-22T13:44:44.608Z"
   },
   {
    "duration": 436,
    "start_time": "2022-05-22T13:45:12.358Z"
   },
   {
    "duration": 503,
    "start_time": "2022-05-22T13:45:12.796Z"
   },
   {
    "duration": 214,
    "start_time": "2022-05-22T13:45:13.301Z"
   },
   {
    "duration": 15,
    "start_time": "2022-05-22T13:45:13.517Z"
   },
   {
    "duration": 11,
    "start_time": "2022-05-22T13:45:13.535Z"
   },
   {
    "duration": 6,
    "start_time": "2022-05-22T13:45:13.549Z"
   },
   {
    "duration": 51,
    "start_time": "2022-05-22T13:45:13.557Z"
   },
   {
    "duration": 16,
    "start_time": "2022-05-22T13:45:13.610Z"
   },
   {
    "duration": 11,
    "start_time": "2022-05-22T13:45:13.628Z"
   },
   {
    "duration": 19,
    "start_time": "2022-05-22T13:45:13.642Z"
   },
   {
    "duration": 42,
    "start_time": "2022-05-22T13:45:13.663Z"
   },
   {
    "duration": 64,
    "start_time": "2022-05-22T13:45:13.706Z"
   },
   {
    "duration": 27,
    "start_time": "2022-05-22T13:45:13.772Z"
   },
   {
    "duration": 10,
    "start_time": "2022-05-22T13:45:13.802Z"
   },
   {
    "duration": 577,
    "start_time": "2022-05-22T13:45:13.814Z"
   },
   {
    "duration": 11,
    "start_time": "2022-05-22T13:45:14.394Z"
   },
   {
    "duration": 6,
    "start_time": "2022-05-22T13:45:14.406Z"
   },
   {
    "duration": 67,
    "start_time": "2022-05-22T13:45:14.413Z"
   },
   {
    "duration": 51,
    "start_time": "2022-05-22T13:45:14.482Z"
   },
   {
    "duration": 26,
    "start_time": "2022-05-22T13:45:14.536Z"
   },
   {
    "duration": 36,
    "start_time": "2022-05-22T13:45:14.564Z"
   },
   {
    "duration": 22,
    "start_time": "2022-05-22T13:45:14.602Z"
   },
   {
    "duration": 27,
    "start_time": "2022-05-22T13:45:14.625Z"
   },
   {
    "duration": 55,
    "start_time": "2022-05-22T13:45:14.653Z"
   },
   {
    "duration": 14,
    "start_time": "2022-05-22T13:45:14.709Z"
   },
   {
    "duration": 34,
    "start_time": "2022-05-22T13:45:14.724Z"
   },
   {
    "duration": 4,
    "start_time": "2022-05-22T13:45:14.759Z"
   },
   {
    "duration": 48,
    "start_time": "2022-05-22T13:45:14.765Z"
   },
   {
    "duration": 46,
    "start_time": "2022-05-22T13:45:14.814Z"
   },
   {
    "duration": 33,
    "start_time": "2022-05-22T13:45:14.862Z"
   },
   {
    "duration": 37,
    "start_time": "2022-05-22T13:45:14.897Z"
   },
   {
    "duration": 35,
    "start_time": "2022-05-22T13:45:27.763Z"
   },
   {
    "duration": 59,
    "start_time": "2022-05-22T13:52:07.673Z"
   },
   {
    "duration": 398,
    "start_time": "2022-05-22T13:55:10.418Z"
   },
   {
    "duration": 35,
    "start_time": "2022-05-22T13:55:19.546Z"
   },
   {
    "duration": 41,
    "start_time": "2022-05-22T13:55:27.968Z"
   },
   {
    "duration": 11,
    "start_time": "2022-05-22T13:56:07.665Z"
   },
   {
    "duration": 13,
    "start_time": "2022-05-22T13:56:19.467Z"
   },
   {
    "duration": 52,
    "start_time": "2022-05-22T13:56:30.015Z"
   },
   {
    "duration": 57,
    "start_time": "2022-05-22T13:56:58.264Z"
   },
   {
    "duration": 61,
    "start_time": "2022-05-22T13:57:19.160Z"
   },
   {
    "duration": 65,
    "start_time": "2022-05-22T13:57:42.775Z"
   },
   {
    "duration": 48,
    "start_time": "2022-05-22T14:01:12.666Z"
   },
   {
    "duration": 49,
    "start_time": "2022-05-22T14:02:32.878Z"
   },
   {
    "duration": 30,
    "start_time": "2022-05-22T14:03:24.837Z"
   },
   {
    "duration": 9,
    "start_time": "2022-05-22T14:03:44.177Z"
   },
   {
    "duration": 32,
    "start_time": "2022-05-22T14:03:48.960Z"
   },
   {
    "duration": 12,
    "start_time": "2022-05-22T14:03:56.496Z"
   },
   {
    "duration": 146,
    "start_time": "2022-05-22T14:04:06.235Z"
   },
   {
    "duration": 165,
    "start_time": "2022-05-22T14:04:12.561Z"
   },
   {
    "duration": 18,
    "start_time": "2022-05-22T14:04:25.913Z"
   },
   {
    "duration": 15,
    "start_time": "2022-05-22T14:05:29.292Z"
   },
   {
    "duration": 73,
    "start_time": "2022-05-22T14:05:48.459Z"
   },
   {
    "duration": 146,
    "start_time": "2022-05-22T14:07:49.519Z"
   },
   {
    "duration": 164,
    "start_time": "2022-05-22T14:08:12.091Z"
   },
   {
    "duration": 168,
    "start_time": "2022-05-22T14:08:33.462Z"
   },
   {
    "duration": 228,
    "start_time": "2022-05-22T14:09:06.331Z"
   },
   {
    "duration": 283,
    "start_time": "2022-05-22T14:09:11.865Z"
   },
   {
    "duration": 34,
    "start_time": "2022-05-22T14:33:54.493Z"
   },
   {
    "duration": 9,
    "start_time": "2022-05-22T14:34:41.649Z"
   },
   {
    "duration": 263,
    "start_time": "2022-05-22T14:34:42.967Z"
   },
   {
    "duration": 180,
    "start_time": "2022-05-22T14:34:48.822Z"
   },
   {
    "duration": 11,
    "start_time": "2022-05-22T14:34:53.457Z"
   },
   {
    "duration": 216,
    "start_time": "2022-05-22T14:35:02.449Z"
   },
   {
    "duration": 179,
    "start_time": "2022-05-22T14:35:07.913Z"
   },
   {
    "duration": 235,
    "start_time": "2022-05-22T14:36:18.411Z"
   },
   {
    "duration": 10,
    "start_time": "2022-05-22T14:37:58.918Z"
   },
   {
    "duration": 154,
    "start_time": "2022-05-22T14:38:10.776Z"
   },
   {
    "duration": 10,
    "start_time": "2022-05-22T14:38:32.354Z"
   },
   {
    "duration": 142,
    "start_time": "2022-05-22T14:38:34.625Z"
   },
   {
    "duration": 504,
    "start_time": "2022-05-22T15:42:46.417Z"
   },
   {
    "duration": 679,
    "start_time": "2022-05-22T15:42:46.923Z"
   },
   {
    "duration": 208,
    "start_time": "2022-05-22T15:42:47.603Z"
   },
   {
    "duration": 14,
    "start_time": "2022-05-22T15:42:47.813Z"
   },
   {
    "duration": 11,
    "start_time": "2022-05-22T15:42:47.829Z"
   },
   {
    "duration": 8,
    "start_time": "2022-05-22T15:42:47.841Z"
   },
   {
    "duration": 52,
    "start_time": "2022-05-22T15:42:47.850Z"
   },
   {
    "duration": 15,
    "start_time": "2022-05-22T15:42:47.904Z"
   },
   {
    "duration": 13,
    "start_time": "2022-05-22T15:42:47.920Z"
   },
   {
    "duration": 21,
    "start_time": "2022-05-22T15:42:47.937Z"
   },
   {
    "duration": 36,
    "start_time": "2022-05-22T15:42:47.960Z"
   },
   {
    "duration": 62,
    "start_time": "2022-05-22T15:42:47.998Z"
   },
   {
    "duration": 34,
    "start_time": "2022-05-22T15:42:48.062Z"
   },
   {
    "duration": 12,
    "start_time": "2022-05-22T15:42:48.098Z"
   },
   {
    "duration": 564,
    "start_time": "2022-05-22T15:42:48.111Z"
   },
   {
    "duration": 18,
    "start_time": "2022-05-22T15:42:48.677Z"
   },
   {
    "duration": 5,
    "start_time": "2022-05-22T15:42:48.697Z"
   },
   {
    "duration": 49,
    "start_time": "2022-05-22T15:42:48.703Z"
   },
   {
    "duration": 59,
    "start_time": "2022-05-22T15:42:48.754Z"
   },
   {
    "duration": 25,
    "start_time": "2022-05-22T15:42:48.815Z"
   },
   {
    "duration": 18,
    "start_time": "2022-05-22T15:42:48.841Z"
   },
   {
    "duration": 38,
    "start_time": "2022-05-22T15:42:48.861Z"
   },
   {
    "duration": 25,
    "start_time": "2022-05-22T15:42:48.901Z"
   },
   {
    "duration": 25,
    "start_time": "2022-05-22T15:42:48.927Z"
   },
   {
    "duration": 40,
    "start_time": "2022-05-22T15:42:48.954Z"
   },
   {
    "duration": 27,
    "start_time": "2022-05-22T15:42:48.996Z"
   },
   {
    "duration": 3,
    "start_time": "2022-05-22T15:42:49.025Z"
   },
   {
    "duration": 24,
    "start_time": "2022-05-22T15:42:49.032Z"
   },
   {
    "duration": 87,
    "start_time": "2022-05-22T15:42:49.058Z"
   },
   {
    "duration": 15,
    "start_time": "2022-05-22T15:42:49.147Z"
   },
   {
    "duration": 72,
    "start_time": "2022-05-22T15:42:49.164Z"
   },
   {
    "duration": 10,
    "start_time": "2022-05-22T15:42:49.238Z"
   },
   {
    "duration": 206,
    "start_time": "2022-05-22T15:42:49.250Z"
   },
   {
    "duration": 11,
    "start_time": "2022-05-22T15:42:49.458Z"
   },
   {
    "duration": 181,
    "start_time": "2022-05-22T15:42:49.470Z"
   },
   {
    "duration": 12,
    "start_time": "2022-05-22T15:42:49.653Z"
   },
   {
    "duration": 165,
    "start_time": "2022-05-22T15:42:49.667Z"
   },
   {
    "duration": 459,
    "start_time": "2022-05-22T16:19:56.071Z"
   },
   {
    "duration": 501,
    "start_time": "2022-05-22T16:19:56.533Z"
   },
   {
    "duration": 245,
    "start_time": "2022-05-22T16:19:57.036Z"
   },
   {
    "duration": 27,
    "start_time": "2022-05-22T16:19:57.284Z"
   },
   {
    "duration": 33,
    "start_time": "2022-05-22T16:19:57.314Z"
   },
   {
    "duration": 24,
    "start_time": "2022-05-22T16:19:57.350Z"
   },
   {
    "duration": 67,
    "start_time": "2022-05-22T16:19:57.376Z"
   },
   {
    "duration": 32,
    "start_time": "2022-05-22T16:19:57.445Z"
   },
   {
    "duration": 23,
    "start_time": "2022-05-22T16:19:57.479Z"
   },
   {
    "duration": 32,
    "start_time": "2022-05-22T16:19:57.504Z"
   },
   {
    "duration": 24,
    "start_time": "2022-05-22T16:19:57.538Z"
   },
   {
    "duration": 72,
    "start_time": "2022-05-22T16:19:57.564Z"
   },
   {
    "duration": 18,
    "start_time": "2022-05-22T16:19:57.638Z"
   },
   {
    "duration": 36,
    "start_time": "2022-05-22T16:19:57.660Z"
   },
   {
    "duration": 569,
    "start_time": "2022-05-22T16:19:57.698Z"
   },
   {
    "duration": 13,
    "start_time": "2022-05-22T16:19:58.269Z"
   },
   {
    "duration": 6,
    "start_time": "2022-05-22T16:19:58.294Z"
   },
   {
    "duration": 72,
    "start_time": "2022-05-22T16:19:58.302Z"
   },
   {
    "duration": 43,
    "start_time": "2022-05-22T16:19:58.375Z"
   },
   {
    "duration": 39,
    "start_time": "2022-05-22T16:19:58.420Z"
   },
   {
    "duration": 34,
    "start_time": "2022-05-22T16:19:58.462Z"
   },
   {
    "duration": 22,
    "start_time": "2022-05-22T16:19:58.498Z"
   },
   {
    "duration": 39,
    "start_time": "2022-05-22T16:19:58.523Z"
   },
   {
    "duration": 62,
    "start_time": "2022-05-22T16:19:58.564Z"
   },
   {
    "duration": 13,
    "start_time": "2022-05-22T16:19:58.628Z"
   },
   {
    "duration": 55,
    "start_time": "2022-05-22T16:19:58.642Z"
   },
   {
    "duration": 4,
    "start_time": "2022-05-22T16:19:58.699Z"
   },
   {
    "duration": 38,
    "start_time": "2022-05-22T16:19:58.705Z"
   },
   {
    "duration": 68,
    "start_time": "2022-05-22T16:19:58.745Z"
   },
   {
    "duration": 20,
    "start_time": "2022-05-22T16:19:58.814Z"
   },
   {
    "duration": 75,
    "start_time": "2022-05-22T16:19:58.836Z"
   },
   {
    "duration": 11,
    "start_time": "2022-05-22T16:19:58.913Z"
   },
   {
    "duration": 195,
    "start_time": "2022-05-22T16:19:58.925Z"
   },
   {
    "duration": 12,
    "start_time": "2022-05-22T16:19:59.122Z"
   },
   {
    "duration": 206,
    "start_time": "2022-05-22T16:19:59.136Z"
   },
   {
    "duration": 9,
    "start_time": "2022-05-22T16:19:59.344Z"
   },
   {
    "duration": 153,
    "start_time": "2022-05-22T16:19:59.355Z"
   },
   {
    "duration": 13,
    "start_time": "2022-05-22T16:20:32.476Z"
   },
   {
    "duration": 219,
    "start_time": "2022-05-22T16:20:34.237Z"
   },
   {
    "duration": 13,
    "start_time": "2022-05-22T16:20:38.495Z"
   },
   {
    "duration": 14,
    "start_time": "2022-05-22T16:20:42.353Z"
   },
   {
    "duration": 239,
    "start_time": "2022-05-22T16:20:43.771Z"
   },
   {
    "duration": 13,
    "start_time": "2022-05-22T16:20:45.820Z"
   },
   {
    "duration": 192,
    "start_time": "2022-05-22T16:20:48.921Z"
   },
   {
    "duration": 479,
    "start_time": "2022-05-22T16:21:50.123Z"
   },
   {
    "duration": 209,
    "start_time": "2022-05-22T16:21:55.046Z"
   },
   {
    "duration": 231,
    "start_time": "2022-05-22T16:22:08.184Z"
   },
   {
    "duration": 218,
    "start_time": "2022-05-22T16:22:17.906Z"
   },
   {
    "duration": 13,
    "start_time": "2022-05-22T16:22:32.688Z"
   },
   {
    "duration": 146,
    "start_time": "2022-05-22T16:22:33.861Z"
   },
   {
    "duration": 6,
    "start_time": "2022-05-22T16:23:13.415Z"
   },
   {
    "duration": 97,
    "start_time": "2022-05-22T16:23:20.595Z"
   },
   {
    "duration": 11,
    "start_time": "2022-05-22T16:23:26.945Z"
   },
   {
    "duration": 10,
    "start_time": "2022-05-22T16:23:31.482Z"
   },
   {
    "duration": 50,
    "start_time": "2022-05-22T16:26:12.509Z"
   },
   {
    "duration": 171,
    "start_time": "2022-05-22T16:26:26.240Z"
   },
   {
    "duration": 197,
    "start_time": "2022-05-22T16:26:33.970Z"
   },
   {
    "duration": 290,
    "start_time": "2022-05-22T16:26:37.631Z"
   },
   {
    "duration": 195,
    "start_time": "2022-05-22T16:26:52.785Z"
   },
   {
    "duration": 205,
    "start_time": "2022-05-22T16:27:00.329Z"
   },
   {
    "duration": 225,
    "start_time": "2022-05-22T16:27:12.382Z"
   },
   {
    "duration": 204,
    "start_time": "2022-05-22T16:27:30.037Z"
   },
   {
    "duration": 243,
    "start_time": "2022-05-22T16:36:01.787Z"
   },
   {
    "duration": 52,
    "start_time": "2022-05-23T09:00:39.851Z"
   },
   {
    "duration": 353,
    "start_time": "2022-05-23T09:00:43.312Z"
   },
   {
    "duration": 1364,
    "start_time": "2022-05-23T09:00:43.667Z"
   },
   {
    "duration": 162,
    "start_time": "2022-05-23T09:00:45.033Z"
   },
   {
    "duration": 12,
    "start_time": "2022-05-23T09:00:45.196Z"
   },
   {
    "duration": 9,
    "start_time": "2022-05-23T09:00:45.209Z"
   },
   {
    "duration": 11,
    "start_time": "2022-05-23T09:00:45.219Z"
   },
   {
    "duration": 38,
    "start_time": "2022-05-23T09:00:45.231Z"
   },
   {
    "duration": 11,
    "start_time": "2022-05-23T09:00:45.271Z"
   },
   {
    "duration": 21,
    "start_time": "2022-05-23T09:00:45.283Z"
   },
   {
    "duration": 14,
    "start_time": "2022-05-23T09:00:45.306Z"
   },
   {
    "duration": 9,
    "start_time": "2022-05-23T09:00:45.321Z"
   },
   {
    "duration": 53,
    "start_time": "2022-05-23T09:00:45.331Z"
   },
   {
    "duration": 12,
    "start_time": "2022-05-23T09:00:45.385Z"
   },
   {
    "duration": 36,
    "start_time": "2022-05-23T09:00:45.398Z"
   },
   {
    "duration": 601,
    "start_time": "2022-05-23T09:00:45.435Z"
   },
   {
    "duration": 13,
    "start_time": "2022-05-23T09:00:46.037Z"
   },
   {
    "duration": 4,
    "start_time": "2022-05-23T09:00:46.058Z"
   },
   {
    "duration": 45,
    "start_time": "2022-05-23T09:00:46.063Z"
   },
   {
    "duration": 50,
    "start_time": "2022-05-23T09:00:46.110Z"
   },
   {
    "duration": 20,
    "start_time": "2022-05-23T09:00:46.161Z"
   },
   {
    "duration": 11,
    "start_time": "2022-05-23T09:00:46.182Z"
   },
   {
    "duration": 11,
    "start_time": "2022-05-23T09:00:46.194Z"
   },
   {
    "duration": 21,
    "start_time": "2022-05-23T09:00:46.206Z"
   },
   {
    "duration": 49,
    "start_time": "2022-05-23T09:00:46.228Z"
   },
   {
    "duration": 9,
    "start_time": "2022-05-23T09:00:46.278Z"
   },
   {
    "duration": 27,
    "start_time": "2022-05-23T09:00:46.288Z"
   },
   {
    "duration": 2,
    "start_time": "2022-05-23T09:00:46.317Z"
   },
   {
    "duration": 38,
    "start_time": "2022-05-23T09:00:46.322Z"
   },
   {
    "duration": 41,
    "start_time": "2022-05-23T09:00:46.361Z"
   },
   {
    "duration": 14,
    "start_time": "2022-05-23T09:00:46.403Z"
   },
   {
    "duration": 56,
    "start_time": "2022-05-23T09:00:46.418Z"
   },
   {
    "duration": 9,
    "start_time": "2022-05-23T09:00:46.476Z"
   },
   {
    "duration": 7,
    "start_time": "2022-05-23T09:00:46.486Z"
   },
   {
    "duration": 178,
    "start_time": "2022-05-23T09:00:46.494Z"
   },
   {
    "duration": 8,
    "start_time": "2022-05-23T09:00:46.673Z"
   },
   {
    "duration": 7,
    "start_time": "2022-05-23T09:00:46.683Z"
   },
   {
    "duration": 178,
    "start_time": "2022-05-23T09:00:46.691Z"
   },
   {
    "duration": 165,
    "start_time": "2022-05-23T09:00:53.823Z"
   },
   {
    "duration": 621,
    "start_time": "2022-05-23T09:06:20.516Z"
   },
   {
    "duration": 27,
    "start_time": "2022-05-23T09:06:31.104Z"
   },
   {
    "duration": 8,
    "start_time": "2022-05-23T09:06:39.367Z"
   },
   {
    "duration": 9,
    "start_time": "2022-05-23T09:07:04.384Z"
   },
   {
    "duration": 241,
    "start_time": "2022-05-23T09:07:38.345Z"
   },
   {
    "duration": 30,
    "start_time": "2022-05-23T09:11:08.913Z"
   },
   {
    "duration": 42,
    "start_time": "2022-05-23T09:13:46.498Z"
   },
   {
    "duration": 40,
    "start_time": "2022-05-23T09:14:20.975Z"
   },
   {
    "duration": 5,
    "start_time": "2022-05-23T09:14:43.564Z"
   },
   {
    "duration": 32,
    "start_time": "2022-05-23T09:14:48.969Z"
   },
   {
    "duration": 56,
    "start_time": "2022-05-23T09:28:35.723Z"
   },
   {
    "duration": 3,
    "start_time": "2022-05-23T09:32:42.280Z"
   },
   {
    "duration": 31,
    "start_time": "2022-05-23T09:38:09.156Z"
   },
   {
    "duration": 7,
    "start_time": "2022-05-23T09:38:25.443Z"
   },
   {
    "duration": 28,
    "start_time": "2022-05-23T09:38:31.122Z"
   },
   {
    "duration": 7,
    "start_time": "2022-05-23T09:39:42.787Z"
   },
   {
    "duration": 4,
    "start_time": "2022-05-23T09:39:45.423Z"
   },
   {
    "duration": 8,
    "start_time": "2022-05-23T09:39:46.552Z"
   },
   {
    "duration": 5,
    "start_time": "2022-05-23T09:39:59.085Z"
   },
   {
    "duration": 8,
    "start_time": "2022-05-23T09:40:04.395Z"
   },
   {
    "duration": 162,
    "start_time": "2022-05-23T09:40:13.354Z"
   },
   {
    "duration": 9,
    "start_time": "2022-05-23T09:40:19.115Z"
   },
   {
    "duration": 7,
    "start_time": "2022-05-23T09:40:22.693Z"
   },
   {
    "duration": 159,
    "start_time": "2022-05-23T09:40:33.926Z"
   },
   {
    "duration": 8,
    "start_time": "2022-05-23T09:40:45.708Z"
   },
   {
    "duration": 8,
    "start_time": "2022-05-23T09:40:49.297Z"
   },
   {
    "duration": 159,
    "start_time": "2022-05-23T09:40:58.702Z"
   },
   {
    "duration": 6,
    "start_time": "2022-05-23T09:41:12.627Z"
   },
   {
    "duration": 5,
    "start_time": "2022-05-23T09:41:18.892Z"
   },
   {
    "duration": 27,
    "start_time": "2022-05-23T09:41:23.315Z"
   },
   {
    "duration": 28,
    "start_time": "2022-05-23T09:43:17.047Z"
   },
   {
    "duration": 27,
    "start_time": "2022-05-23T09:44:06.440Z"
   },
   {
    "duration": 27,
    "start_time": "2022-05-23T09:44:13.043Z"
   },
   {
    "duration": 5,
    "start_time": "2022-05-23T09:44:40.601Z"
   },
   {
    "duration": 773,
    "start_time": "2022-05-23T10:12:04.965Z"
   },
   {
    "duration": 5,
    "start_time": "2022-05-23T10:12:11.365Z"
   },
   {
    "duration": 28,
    "start_time": "2022-05-23T10:13:06.591Z"
   },
   {
    "duration": 4,
    "start_time": "2022-05-23T10:13:33.693Z"
   },
   {
    "duration": 50,
    "start_time": "2022-05-23T10:13:59.846Z"
   },
   {
    "duration": 46,
    "start_time": "2022-05-23T10:14:07.777Z"
   },
   {
    "duration": 4,
    "start_time": "2022-05-23T10:14:21.065Z"
   },
   {
    "duration": 5,
    "start_time": "2022-05-23T10:14:27.820Z"
   },
   {
    "duration": 4,
    "start_time": "2022-05-23T10:14:35.235Z"
   },
   {
    "duration": 5,
    "start_time": "2022-05-23T10:14:48.584Z"
   },
   {
    "duration": 5,
    "start_time": "2022-05-23T10:15:01.172Z"
   },
   {
    "duration": 5,
    "start_time": "2022-05-23T10:15:10.447Z"
   },
   {
    "duration": 4,
    "start_time": "2022-05-23T10:15:28.974Z"
   },
   {
    "duration": 4,
    "start_time": "2022-05-23T10:19:18.017Z"
   },
   {
    "duration": 6,
    "start_time": "2022-05-23T10:19:42.220Z"
   },
   {
    "duration": 4,
    "start_time": "2022-05-23T10:19:46.975Z"
   },
   {
    "duration": 5,
    "start_time": "2022-05-23T10:19:56.335Z"
   },
   {
    "duration": 6,
    "start_time": "2022-05-23T10:20:17.788Z"
   },
   {
    "duration": 961,
    "start_time": "2022-05-23T10:20:36.743Z"
   },
   {
    "duration": 29,
    "start_time": "2022-05-23T10:20:45.297Z"
   },
   {
    "duration": 33,
    "start_time": "2022-05-23T10:21:55.254Z"
   },
   {
    "duration": 26,
    "start_time": "2022-05-23T10:23:06.029Z"
   },
   {
    "duration": 4,
    "start_time": "2022-05-23T10:23:12.123Z"
   },
   {
    "duration": 794,
    "start_time": "2022-05-23T20:14:36.965Z"
   },
   {
    "duration": 1085,
    "start_time": "2022-05-23T20:14:37.761Z"
   },
   {
    "duration": 183,
    "start_time": "2022-05-23T20:14:38.848Z"
   },
   {
    "duration": 13,
    "start_time": "2022-05-23T20:14:39.033Z"
   },
   {
    "duration": 101,
    "start_time": "2022-05-23T20:14:39.047Z"
   },
   {
    "duration": 7,
    "start_time": "2022-05-23T20:14:39.150Z"
   },
   {
    "duration": 22,
    "start_time": "2022-05-23T20:14:39.158Z"
   },
   {
    "duration": 13,
    "start_time": "2022-05-23T20:14:39.181Z"
   },
   {
    "duration": 11,
    "start_time": "2022-05-23T20:14:39.195Z"
   },
   {
    "duration": 24,
    "start_time": "2022-05-23T20:14:39.208Z"
   },
   {
    "duration": 11,
    "start_time": "2022-05-23T20:14:39.233Z"
   },
   {
    "duration": 51,
    "start_time": "2022-05-23T20:14:39.246Z"
   },
   {
    "duration": 30,
    "start_time": "2022-05-23T20:14:39.298Z"
   },
   {
    "duration": 9,
    "start_time": "2022-05-23T20:14:39.330Z"
   },
   {
    "duration": 640,
    "start_time": "2022-05-23T20:14:39.340Z"
   },
   {
    "duration": 16,
    "start_time": "2022-05-23T20:14:39.982Z"
   },
   {
    "duration": 4,
    "start_time": "2022-05-23T20:14:39.999Z"
   },
   {
    "duration": 58,
    "start_time": "2022-05-23T20:14:40.005Z"
   },
   {
    "duration": 37,
    "start_time": "2022-05-23T20:14:40.065Z"
   },
   {
    "duration": 34,
    "start_time": "2022-05-23T20:14:40.104Z"
   },
   {
    "duration": 13,
    "start_time": "2022-05-23T20:14:40.139Z"
   },
   {
    "duration": 13,
    "start_time": "2022-05-23T20:14:40.153Z"
   },
   {
    "duration": 103,
    "start_time": "2022-05-23T20:14:40.167Z"
   },
   {
    "duration": 20,
    "start_time": "2022-05-23T20:14:40.272Z"
   },
   {
    "duration": 11,
    "start_time": "2022-05-23T20:14:40.293Z"
   },
   {
    "duration": 25,
    "start_time": "2022-05-23T20:14:40.327Z"
   },
   {
    "duration": 2,
    "start_time": "2022-05-23T20:14:40.354Z"
   },
   {
    "duration": 22,
    "start_time": "2022-05-23T20:14:40.359Z"
   },
   {
    "duration": 64,
    "start_time": "2022-05-23T20:14:40.382Z"
   },
   {
    "duration": 13,
    "start_time": "2022-05-23T20:14:40.447Z"
   },
   {
    "duration": 41,
    "start_time": "2022-05-23T20:14:40.462Z"
   },
   {
    "duration": 51,
    "start_time": "2022-05-23T20:14:40.504Z"
   },
   {
    "duration": 5,
    "start_time": "2022-05-23T20:14:40.557Z"
   },
   {
    "duration": 10,
    "start_time": "2022-05-23T20:14:40.563Z"
   },
   {
    "duration": 7,
    "start_time": "2022-05-23T20:14:40.574Z"
   },
   {
    "duration": 199,
    "start_time": "2022-05-23T20:14:40.582Z"
   },
   {
    "duration": 8,
    "start_time": "2022-05-23T20:14:40.783Z"
   },
   {
    "duration": 9,
    "start_time": "2022-05-23T20:14:40.793Z"
   },
   {
    "duration": 199,
    "start_time": "2022-05-23T20:14:40.803Z"
   },
   {
    "duration": 9,
    "start_time": "2022-05-23T20:14:41.003Z"
   },
   {
    "duration": 19,
    "start_time": "2022-05-23T20:14:41.013Z"
   },
   {
    "duration": 179,
    "start_time": "2022-05-23T20:14:41.033Z"
   },
   {
    "duration": 42,
    "start_time": "2022-05-23T20:14:41.214Z"
   },
   {
    "duration": 5,
    "start_time": "2022-05-23T20:14:41.257Z"
   },
   {
    "duration": 9,
    "start_time": "2022-05-23T20:15:28.858Z"
   },
   {
    "duration": 105,
    "start_time": "2022-05-23T20:15:55.638Z"
   },
   {
    "duration": 20,
    "start_time": "2022-05-23T20:16:04.021Z"
   },
   {
    "duration": 10,
    "start_time": "2022-05-23T20:17:39.093Z"
   },
   {
    "duration": 10,
    "start_time": "2022-05-23T20:17:53.425Z"
   },
   {
    "duration": 19,
    "start_time": "2022-05-23T20:18:13.711Z"
   },
   {
    "duration": 17,
    "start_time": "2022-05-23T20:18:47.363Z"
   },
   {
    "duration": 24,
    "start_time": "2022-05-23T20:19:01.365Z"
   },
   {
    "duration": 24,
    "start_time": "2022-05-23T20:20:27.618Z"
   },
   {
    "duration": 23,
    "start_time": "2022-05-23T20:20:39.018Z"
   },
   {
    "duration": 22,
    "start_time": "2022-05-23T20:21:47.354Z"
   },
   {
    "duration": 29,
    "start_time": "2022-05-23T20:23:16.138Z"
   },
   {
    "duration": 26,
    "start_time": "2022-05-23T20:23:32.279Z"
   },
   {
    "duration": 26,
    "start_time": "2022-05-23T20:24:04.188Z"
   },
   {
    "duration": 28,
    "start_time": "2022-05-23T20:29:06.954Z"
   },
   {
    "duration": 6,
    "start_time": "2022-05-23T20:29:22.132Z"
   },
   {
    "duration": 9,
    "start_time": "2022-05-23T20:30:05.226Z"
   },
   {
    "duration": 37,
    "start_time": "2022-05-23T20:33:29.830Z"
   },
   {
    "duration": 8,
    "start_time": "2022-05-23T20:36:58.138Z"
   },
   {
    "duration": 779,
    "start_time": "2022-05-23T20:42:49.226Z"
   },
   {
    "duration": 435,
    "start_time": "2022-05-23T20:42:50.007Z"
   },
   {
    "duration": 163,
    "start_time": "2022-05-23T20:42:50.443Z"
   },
   {
    "duration": 20,
    "start_time": "2022-05-23T20:42:50.608Z"
   },
   {
    "duration": 14,
    "start_time": "2022-05-23T20:42:50.630Z"
   },
   {
    "duration": 12,
    "start_time": "2022-05-23T20:42:50.646Z"
   },
   {
    "duration": 22,
    "start_time": "2022-05-23T20:42:50.659Z"
   },
   {
    "duration": 13,
    "start_time": "2022-05-23T20:42:50.683Z"
   },
   {
    "duration": 9,
    "start_time": "2022-05-23T20:42:50.698Z"
   },
   {
    "duration": 14,
    "start_time": "2022-05-23T20:42:50.728Z"
   },
   {
    "duration": 11,
    "start_time": "2022-05-23T20:42:50.743Z"
   },
   {
    "duration": 43,
    "start_time": "2022-05-23T20:42:50.756Z"
   },
   {
    "duration": 40,
    "start_time": "2022-05-23T20:42:50.800Z"
   },
   {
    "duration": 11,
    "start_time": "2022-05-23T20:42:50.841Z"
   },
   {
    "duration": 503,
    "start_time": "2022-05-23T20:42:50.854Z"
   },
   {
    "duration": 11,
    "start_time": "2022-05-23T20:42:51.359Z"
   },
   {
    "duration": 5,
    "start_time": "2022-05-23T20:42:51.371Z"
   },
   {
    "duration": 63,
    "start_time": "2022-05-23T20:42:51.378Z"
   },
   {
    "duration": 40,
    "start_time": "2022-05-23T20:42:51.442Z"
   },
   {
    "duration": 20,
    "start_time": "2022-05-23T20:42:51.484Z"
   },
   {
    "duration": 29,
    "start_time": "2022-05-23T20:42:51.505Z"
   },
   {
    "duration": 11,
    "start_time": "2022-05-23T20:42:51.535Z"
   },
   {
    "duration": 21,
    "start_time": "2022-05-23T20:42:51.548Z"
   },
   {
    "duration": 21,
    "start_time": "2022-05-23T20:42:51.571Z"
   },
   {
    "duration": 47,
    "start_time": "2022-05-23T20:42:51.594Z"
   },
   {
    "duration": 12,
    "start_time": "2022-05-23T20:42:51.642Z"
   },
   {
    "duration": 26,
    "start_time": "2022-05-23T20:42:51.655Z"
   },
   {
    "duration": 4,
    "start_time": "2022-05-23T20:42:51.685Z"
   },
   {
    "duration": 62,
    "start_time": "2022-05-23T20:42:51.691Z"
   },
   {
    "duration": 47,
    "start_time": "2022-05-23T20:42:51.755Z"
   },
   {
    "duration": 15,
    "start_time": "2022-05-23T20:42:51.804Z"
   },
   {
    "duration": 8,
    "start_time": "2022-05-23T20:42:51.827Z"
   },
   {
    "duration": 42,
    "start_time": "2022-05-23T20:42:51.837Z"
   },
   {
    "duration": 59,
    "start_time": "2022-05-23T20:42:51.881Z"
   },
   {
    "duration": 8,
    "start_time": "2022-05-23T20:42:51.942Z"
   },
   {
    "duration": 6,
    "start_time": "2022-05-23T20:42:51.951Z"
   },
   {
    "duration": 12,
    "start_time": "2022-05-23T20:42:51.958Z"
   },
   {
    "duration": 7,
    "start_time": "2022-05-23T20:42:51.971Z"
   },
   {
    "duration": 252,
    "start_time": "2022-05-23T20:42:51.980Z"
   },
   {
    "duration": 8,
    "start_time": "2022-05-23T20:42:52.234Z"
   },
   {
    "duration": 8,
    "start_time": "2022-05-23T20:42:52.244Z"
   },
   {
    "duration": 201,
    "start_time": "2022-05-23T20:42:52.253Z"
   },
   {
    "duration": 9,
    "start_time": "2022-05-23T20:42:52.455Z"
   },
   {
    "duration": 8,
    "start_time": "2022-05-23T20:42:52.466Z"
   },
   {
    "duration": 189,
    "start_time": "2022-05-23T20:42:52.475Z"
   },
   {
    "duration": 29,
    "start_time": "2022-05-23T20:42:52.666Z"
   },
   {
    "duration": 29,
    "start_time": "2022-05-23T20:42:52.696Z"
   },
   {
    "duration": 32,
    "start_time": "2022-05-23T20:42:52.726Z"
   },
   {
    "duration": 803,
    "start_time": "2022-05-23T20:48:23.616Z"
   },
   {
    "duration": 460,
    "start_time": "2022-05-23T20:48:24.421Z"
   },
   {
    "duration": 177,
    "start_time": "2022-05-23T20:48:24.883Z"
   },
   {
    "duration": 12,
    "start_time": "2022-05-23T20:48:25.062Z"
   },
   {
    "duration": 11,
    "start_time": "2022-05-23T20:48:25.076Z"
   },
   {
    "duration": 8,
    "start_time": "2022-05-23T20:48:25.088Z"
   },
   {
    "duration": 39,
    "start_time": "2022-05-23T20:48:25.097Z"
   },
   {
    "duration": 12,
    "start_time": "2022-05-23T20:48:25.138Z"
   },
   {
    "duration": 9,
    "start_time": "2022-05-23T20:48:25.151Z"
   },
   {
    "duration": 18,
    "start_time": "2022-05-23T20:48:25.162Z"
   },
   {
    "duration": 10,
    "start_time": "2022-05-23T20:48:25.182Z"
   },
   {
    "duration": 69,
    "start_time": "2022-05-23T20:48:25.193Z"
   },
   {
    "duration": 13,
    "start_time": "2022-05-23T20:48:25.264Z"
   },
   {
    "duration": 9,
    "start_time": "2022-05-23T20:48:25.279Z"
   },
   {
    "duration": 504,
    "start_time": "2022-05-23T20:48:25.290Z"
   },
   {
    "duration": 11,
    "start_time": "2022-05-23T20:48:25.795Z"
   },
   {
    "duration": 4,
    "start_time": "2022-05-23T20:48:25.808Z"
   },
   {
    "duration": 59,
    "start_time": "2022-05-23T20:48:25.813Z"
   },
   {
    "duration": 55,
    "start_time": "2022-05-23T20:48:25.874Z"
   },
   {
    "duration": 22,
    "start_time": "2022-05-23T20:48:25.930Z"
   },
   {
    "duration": 13,
    "start_time": "2022-05-23T20:48:25.953Z"
   },
   {
    "duration": 12,
    "start_time": "2022-05-23T20:48:25.967Z"
   },
   {
    "duration": 49,
    "start_time": "2022-05-23T20:48:25.980Z"
   },
   {
    "duration": 24,
    "start_time": "2022-05-23T20:48:26.031Z"
   },
   {
    "duration": 23,
    "start_time": "2022-05-23T20:48:26.056Z"
   },
   {
    "duration": 11,
    "start_time": "2022-05-23T20:48:26.080Z"
   },
   {
    "duration": 55,
    "start_time": "2022-05-23T20:48:26.092Z"
   },
   {
    "duration": 3,
    "start_time": "2022-05-23T20:48:26.151Z"
   },
   {
    "duration": 24,
    "start_time": "2022-05-23T20:48:26.156Z"
   },
   {
    "duration": 70,
    "start_time": "2022-05-23T20:48:26.182Z"
   },
   {
    "duration": 29,
    "start_time": "2022-05-23T20:48:26.254Z"
   },
   {
    "duration": 11,
    "start_time": "2022-05-23T20:48:26.285Z"
   },
   {
    "duration": 63,
    "start_time": "2022-05-23T20:48:26.298Z"
   },
   {
    "duration": 43,
    "start_time": "2022-05-23T20:48:26.363Z"
   },
   {
    "duration": 22,
    "start_time": "2022-05-23T20:48:26.408Z"
   },
   {
    "duration": 11,
    "start_time": "2022-05-23T20:48:26.433Z"
   },
   {
    "duration": 17,
    "start_time": "2022-05-23T20:48:26.447Z"
   },
   {
    "duration": 11,
    "start_time": "2022-05-23T20:48:26.466Z"
   },
   {
    "duration": 239,
    "start_time": "2022-05-23T20:48:26.479Z"
   },
   {
    "duration": 13,
    "start_time": "2022-05-23T20:48:26.719Z"
   },
   {
    "duration": 7,
    "start_time": "2022-05-23T20:48:26.733Z"
   },
   {
    "duration": 196,
    "start_time": "2022-05-23T20:48:26.742Z"
   },
   {
    "duration": 9,
    "start_time": "2022-05-23T20:48:26.939Z"
   },
   {
    "duration": 10,
    "start_time": "2022-05-23T20:48:26.950Z"
   },
   {
    "duration": 203,
    "start_time": "2022-05-23T20:48:26.962Z"
   },
   {
    "duration": 30,
    "start_time": "2022-05-23T20:48:27.167Z"
   },
   {
    "duration": 5,
    "start_time": "2022-05-23T20:48:27.198Z"
   },
   {
    "duration": 25,
    "start_time": "2022-05-23T20:48:27.205Z"
   },
   {
    "duration": 56,
    "start_time": "2022-05-24T17:54:09.762Z"
   },
   {
    "duration": 783,
    "start_time": "2022-05-24T17:54:14.328Z"
   },
   {
    "duration": 1001,
    "start_time": "2022-05-24T17:54:15.113Z"
   },
   {
    "duration": 182,
    "start_time": "2022-05-24T17:54:16.115Z"
   },
   {
    "duration": 12,
    "start_time": "2022-05-24T17:54:16.299Z"
   },
   {
    "duration": 19,
    "start_time": "2022-05-24T17:54:16.312Z"
   },
   {
    "duration": 7,
    "start_time": "2022-05-24T17:54:16.332Z"
   },
   {
    "duration": 21,
    "start_time": "2022-05-24T17:54:16.341Z"
   },
   {
    "duration": 40,
    "start_time": "2022-05-24T17:54:16.364Z"
   },
   {
    "duration": 10,
    "start_time": "2022-05-24T17:54:16.406Z"
   },
   {
    "duration": 16,
    "start_time": "2022-05-24T17:54:16.418Z"
   },
   {
    "duration": 11,
    "start_time": "2022-05-24T17:54:16.435Z"
   },
   {
    "duration": 81,
    "start_time": "2022-05-24T17:54:16.448Z"
   },
   {
    "duration": 14,
    "start_time": "2022-05-24T17:54:16.531Z"
   },
   {
    "duration": 9,
    "start_time": "2022-05-24T17:54:16.546Z"
   },
   {
    "duration": 703,
    "start_time": "2022-05-24T17:54:16.556Z"
   },
   {
    "duration": 16,
    "start_time": "2022-05-24T17:54:17.261Z"
   },
   {
    "duration": 18,
    "start_time": "2022-05-24T17:54:17.278Z"
   },
   {
    "duration": 55,
    "start_time": "2022-05-24T17:54:17.298Z"
   },
   {
    "duration": 60,
    "start_time": "2022-05-24T17:54:17.355Z"
   },
   {
    "duration": 22,
    "start_time": "2022-05-24T17:54:17.417Z"
   },
   {
    "duration": 13,
    "start_time": "2022-05-24T17:54:17.441Z"
   },
   {
    "duration": 40,
    "start_time": "2022-05-24T17:54:17.455Z"
   },
   {
    "duration": 110,
    "start_time": "2022-05-24T17:54:17.497Z"
   },
   {
    "duration": 24,
    "start_time": "2022-05-24T17:54:17.609Z"
   },
   {
    "duration": 23,
    "start_time": "2022-05-24T17:54:17.634Z"
   },
   {
    "duration": 37,
    "start_time": "2022-05-24T17:54:17.658Z"
   },
   {
    "duration": 26,
    "start_time": "2022-05-24T17:54:17.697Z"
   },
   {
    "duration": 3,
    "start_time": "2022-05-24T17:54:17.727Z"
   },
   {
    "duration": 27,
    "start_time": "2022-05-24T17:54:17.731Z"
   },
   {
    "duration": 74,
    "start_time": "2022-05-24T17:54:17.760Z"
   },
   {
    "duration": 14,
    "start_time": "2022-05-24T17:54:17.836Z"
   },
   {
    "duration": 9,
    "start_time": "2022-05-24T17:54:17.851Z"
   },
   {
    "duration": 141,
    "start_time": "2022-05-24T17:54:17.862Z"
   },
   {
    "duration": 0,
    "start_time": "2022-05-24T17:54:18.005Z"
   },
   {
    "duration": 0,
    "start_time": "2022-05-24T17:54:18.006Z"
   },
   {
    "duration": 0,
    "start_time": "2022-05-24T17:54:18.007Z"
   },
   {
    "duration": 0,
    "start_time": "2022-05-24T17:54:18.009Z"
   },
   {
    "duration": 0,
    "start_time": "2022-05-24T17:54:18.011Z"
   },
   {
    "duration": 0,
    "start_time": "2022-05-24T17:54:18.014Z"
   },
   {
    "duration": 0,
    "start_time": "2022-05-24T17:54:18.015Z"
   },
   {
    "duration": 0,
    "start_time": "2022-05-24T17:54:18.017Z"
   },
   {
    "duration": 1,
    "start_time": "2022-05-24T17:54:18.023Z"
   },
   {
    "duration": 0,
    "start_time": "2022-05-24T17:54:18.025Z"
   },
   {
    "duration": 0,
    "start_time": "2022-05-24T17:54:18.026Z"
   },
   {
    "duration": 1,
    "start_time": "2022-05-24T17:54:18.026Z"
   },
   {
    "duration": 0,
    "start_time": "2022-05-24T17:54:18.027Z"
   },
   {
    "duration": 0,
    "start_time": "2022-05-24T17:54:18.028Z"
   },
   {
    "duration": 0,
    "start_time": "2022-05-24T17:54:18.040Z"
   },
   {
    "duration": 27,
    "start_time": "2022-05-24T17:55:34.422Z"
   },
   {
    "duration": 29,
    "start_time": "2022-05-24T17:56:18.106Z"
   },
   {
    "duration": 30,
    "start_time": "2022-05-24T17:57:50.410Z"
   },
   {
    "duration": 32,
    "start_time": "2022-05-24T18:00:17.937Z"
   },
   {
    "duration": 36,
    "start_time": "2022-05-24T18:00:38.583Z"
   },
   {
    "duration": 28,
    "start_time": "2022-05-24T18:01:01.945Z"
   },
   {
    "duration": 9,
    "start_time": "2022-05-24T18:01:08.860Z"
   },
   {
    "duration": 49,
    "start_time": "2022-05-24T18:01:13.907Z"
   },
   {
    "duration": 48,
    "start_time": "2022-05-24T18:01:49.082Z"
   },
   {
    "duration": 14,
    "start_time": "2022-05-24T18:02:15.649Z"
   },
   {
    "duration": 31,
    "start_time": "2022-05-24T18:02:35.453Z"
   },
   {
    "duration": 40,
    "start_time": "2022-05-24T18:03:36.091Z"
   },
   {
    "duration": 17,
    "start_time": "2022-05-24T18:03:44.045Z"
   },
   {
    "duration": 10,
    "start_time": "2022-05-24T18:03:53.295Z"
   },
   {
    "duration": 6,
    "start_time": "2022-05-24T18:03:59.326Z"
   },
   {
    "duration": 31,
    "start_time": "2022-05-24T18:04:05.605Z"
   },
   {
    "duration": 32,
    "start_time": "2022-05-24T18:04:14.887Z"
   },
   {
    "duration": 29,
    "start_time": "2022-05-24T18:04:29.199Z"
   },
   {
    "duration": 12,
    "start_time": "2022-05-24T18:04:39.017Z"
   },
   {
    "duration": 9,
    "start_time": "2022-05-24T18:04:45.830Z"
   },
   {
    "duration": 45,
    "start_time": "2022-05-24T18:05:46.531Z"
   },
   {
    "duration": 34,
    "start_time": "2022-05-24T18:06:00.214Z"
   },
   {
    "duration": 10,
    "start_time": "2022-05-24T18:06:52.085Z"
   },
   {
    "duration": 7,
    "start_time": "2022-05-24T18:06:57.823Z"
   },
   {
    "duration": 6,
    "start_time": "2022-05-24T18:07:46.431Z"
   },
   {
    "duration": 26,
    "start_time": "2022-05-24T18:09:57.671Z"
   },
   {
    "duration": 834,
    "start_time": "2022-05-24T18:31:05.675Z"
   },
   {
    "duration": 465,
    "start_time": "2022-05-24T18:31:06.511Z"
   },
   {
    "duration": 173,
    "start_time": "2022-05-24T18:31:06.978Z"
   },
   {
    "duration": 12,
    "start_time": "2022-05-24T18:31:07.153Z"
   },
   {
    "duration": 30,
    "start_time": "2022-05-24T18:31:07.167Z"
   },
   {
    "duration": 7,
    "start_time": "2022-05-24T18:31:07.199Z"
   },
   {
    "duration": 22,
    "start_time": "2022-05-24T18:31:07.207Z"
   },
   {
    "duration": 14,
    "start_time": "2022-05-24T18:31:07.231Z"
   },
   {
    "duration": 10,
    "start_time": "2022-05-24T18:31:07.247Z"
   },
   {
    "duration": 46,
    "start_time": "2022-05-24T18:31:07.259Z"
   },
   {
    "duration": 11,
    "start_time": "2022-05-24T18:31:07.307Z"
   },
   {
    "duration": 45,
    "start_time": "2022-05-24T18:31:07.320Z"
   },
   {
    "duration": 36,
    "start_time": "2022-05-24T18:31:07.367Z"
   },
   {
    "duration": 9,
    "start_time": "2022-05-24T18:31:07.405Z"
   },
   {
    "duration": 501,
    "start_time": "2022-05-24T18:31:07.415Z"
   },
   {
    "duration": 10,
    "start_time": "2022-05-24T18:31:07.917Z"
   },
   {
    "duration": 4,
    "start_time": "2022-05-24T18:31:07.929Z"
   },
   {
    "duration": 65,
    "start_time": "2022-05-24T18:31:07.935Z"
   },
   {
    "duration": 41,
    "start_time": "2022-05-24T18:31:08.002Z"
   },
   {
    "duration": 48,
    "start_time": "2022-05-24T18:31:08.045Z"
   },
   {
    "duration": 13,
    "start_time": "2022-05-24T18:31:08.095Z"
   },
   {
    "duration": 13,
    "start_time": "2022-05-24T18:31:08.110Z"
   },
   {
    "duration": 28,
    "start_time": "2022-05-24T18:31:08.125Z"
   },
   {
    "duration": 59,
    "start_time": "2022-05-24T18:31:08.155Z"
   },
   {
    "duration": 26,
    "start_time": "2022-05-24T18:31:08.216Z"
   },
   {
    "duration": 13,
    "start_time": "2022-05-24T18:31:08.244Z"
   },
   {
    "duration": 58,
    "start_time": "2022-05-24T18:31:08.258Z"
   },
   {
    "duration": 4,
    "start_time": "2022-05-24T18:31:08.321Z"
   },
   {
    "duration": 31,
    "start_time": "2022-05-24T18:31:08.327Z"
   },
   {
    "duration": 78,
    "start_time": "2022-05-24T18:31:08.359Z"
   },
   {
    "duration": 19,
    "start_time": "2022-05-24T18:31:08.440Z"
   },
   {
    "duration": 9,
    "start_time": "2022-05-24T18:31:08.461Z"
   },
   {
    "duration": 68,
    "start_time": "2022-05-24T18:31:08.472Z"
   },
   {
    "duration": 34,
    "start_time": "2022-05-24T18:31:08.541Z"
   },
   {
    "duration": 20,
    "start_time": "2022-05-24T18:31:08.577Z"
   },
   {
    "duration": 19,
    "start_time": "2022-05-24T18:31:08.598Z"
   },
   {
    "duration": 9,
    "start_time": "2022-05-24T18:31:08.619Z"
   },
   {
    "duration": 8,
    "start_time": "2022-05-24T18:31:08.629Z"
   },
   {
    "duration": 7,
    "start_time": "2022-05-24T18:31:08.638Z"
   },
   {
    "duration": 290,
    "start_time": "2022-05-24T18:31:08.646Z"
   },
   {
    "duration": 13,
    "start_time": "2022-05-24T18:31:08.939Z"
   },
   {
    "duration": 11,
    "start_time": "2022-05-24T18:31:08.953Z"
   },
   {
    "duration": 249,
    "start_time": "2022-05-24T18:31:08.966Z"
   },
   {
    "duration": 8,
    "start_time": "2022-05-24T18:31:09.217Z"
   },
   {
    "duration": 7,
    "start_time": "2022-05-24T18:31:09.227Z"
   },
   {
    "duration": 190,
    "start_time": "2022-05-24T18:31:09.235Z"
   },
   {
    "duration": 29,
    "start_time": "2022-05-24T18:31:09.426Z"
   },
   {
    "duration": 4,
    "start_time": "2022-05-24T18:31:09.456Z"
   },
   {
    "duration": 13,
    "start_time": "2022-05-24T18:31:09.461Z"
   },
   {
    "duration": 22,
    "start_time": "2022-05-24T18:31:51.315Z"
   },
   {
    "duration": 21,
    "start_time": "2022-05-24T18:32:42.535Z"
   },
   {
    "duration": 42,
    "start_time": "2022-05-24T18:34:11.580Z"
   },
   {
    "duration": 21,
    "start_time": "2022-05-24T18:34:17.785Z"
   },
   {
    "duration": 131,
    "start_time": "2022-05-24T18:34:37.910Z"
   },
   {
    "duration": 5,
    "start_time": "2022-05-24T18:36:18.624Z"
   },
   {
    "duration": 3,
    "start_time": "2022-05-24T18:36:28.766Z"
   },
   {
    "duration": 137,
    "start_time": "2022-05-24T18:36:35.557Z"
   },
   {
    "duration": 109,
    "start_time": "2022-05-24T18:38:42.353Z"
   },
   {
    "duration": 7,
    "start_time": "2022-05-24T18:40:51.352Z"
   },
   {
    "duration": 4,
    "start_time": "2022-05-24T18:41:02.382Z"
   },
   {
    "duration": 39,
    "start_time": "2022-05-24T18:41:05.540Z"
   },
   {
    "duration": 6,
    "start_time": "2022-05-24T18:42:26.014Z"
   },
   {
    "duration": 32,
    "start_time": "2022-05-24T18:42:29.613Z"
   },
   {
    "duration": 43,
    "start_time": "2022-05-24T18:42:54.112Z"
   },
   {
    "duration": 33,
    "start_time": "2022-05-24T18:43:09.550Z"
   },
   {
    "duration": 31,
    "start_time": "2022-05-24T18:43:30.726Z"
   },
   {
    "duration": 30,
    "start_time": "2022-05-24T18:43:40.131Z"
   },
   {
    "duration": 29,
    "start_time": "2022-05-24T18:43:47.670Z"
   },
   {
    "duration": 31,
    "start_time": "2022-05-24T18:43:50.990Z"
   },
   {
    "duration": 33,
    "start_time": "2022-05-24T18:43:51.184Z"
   },
   {
    "duration": 32,
    "start_time": "2022-05-24T18:43:51.376Z"
   },
   {
    "duration": 6,
    "start_time": "2022-05-24T18:43:56.633Z"
   },
   {
    "duration": 21,
    "start_time": "2022-05-24T18:48:35.233Z"
   },
   {
    "duration": 42,
    "start_time": "2022-05-24T18:48:52.820Z"
   },
   {
    "duration": 18,
    "start_time": "2022-05-24T18:48:56.444Z"
   },
   {
    "duration": 23,
    "start_time": "2022-05-24T18:49:41.753Z"
   },
   {
    "duration": 7,
    "start_time": "2022-05-24T18:59:03.361Z"
   },
   {
    "duration": 33,
    "start_time": "2022-05-24T18:59:06.952Z"
   },
   {
    "duration": 23,
    "start_time": "2022-05-24T19:00:41.174Z"
   },
   {
    "duration": 11,
    "start_time": "2022-05-24T19:00:46.207Z"
   },
   {
    "duration": 926,
    "start_time": "2022-05-24T19:02:01.720Z"
   },
   {
    "duration": 507,
    "start_time": "2022-05-24T19:02:02.648Z"
   },
   {
    "duration": 220,
    "start_time": "2022-05-24T19:02:03.157Z"
   },
   {
    "duration": 26,
    "start_time": "2022-05-24T19:02:03.379Z"
   },
   {
    "duration": 13,
    "start_time": "2022-05-24T19:02:03.407Z"
   },
   {
    "duration": 18,
    "start_time": "2022-05-24T19:02:03.422Z"
   },
   {
    "duration": 29,
    "start_time": "2022-05-24T19:02:03.442Z"
   },
   {
    "duration": 55,
    "start_time": "2022-05-24T19:02:03.473Z"
   },
   {
    "duration": 14,
    "start_time": "2022-05-24T19:02:03.530Z"
   },
   {
    "duration": 29,
    "start_time": "2022-05-24T19:02:03.548Z"
   },
   {
    "duration": 19,
    "start_time": "2022-05-24T19:02:03.579Z"
   },
   {
    "duration": 75,
    "start_time": "2022-05-24T19:02:03.600Z"
   },
   {
    "duration": 18,
    "start_time": "2022-05-24T19:02:03.677Z"
   },
   {
    "duration": 14,
    "start_time": "2022-05-24T19:02:03.696Z"
   },
   {
    "duration": 898,
    "start_time": "2022-05-24T19:02:03.712Z"
   },
   {
    "duration": 16,
    "start_time": "2022-05-24T19:02:04.612Z"
   },
   {
    "duration": 22,
    "start_time": "2022-05-24T19:02:04.630Z"
   },
   {
    "duration": 77,
    "start_time": "2022-05-24T19:02:04.654Z"
   },
   {
    "duration": 67,
    "start_time": "2022-05-24T19:02:04.734Z"
   },
   {
    "duration": 25,
    "start_time": "2022-05-24T19:02:04.803Z"
   },
   {
    "duration": 24,
    "start_time": "2022-05-24T19:02:04.830Z"
   },
   {
    "duration": 44,
    "start_time": "2022-05-24T19:02:04.858Z"
   },
   {
    "duration": 43,
    "start_time": "2022-05-24T19:02:04.904Z"
   },
   {
    "duration": 46,
    "start_time": "2022-05-24T19:02:04.949Z"
   },
   {
    "duration": 31,
    "start_time": "2022-05-24T19:02:04.997Z"
   },
   {
    "duration": 13,
    "start_time": "2022-05-24T19:02:05.030Z"
   },
   {
    "duration": 68,
    "start_time": "2022-05-24T19:02:05.045Z"
   },
   {
    "duration": 4,
    "start_time": "2022-05-24T19:02:05.117Z"
   },
   {
    "duration": 51,
    "start_time": "2022-05-24T19:02:05.124Z"
   },
   {
    "duration": 58,
    "start_time": "2022-05-24T19:02:05.177Z"
   },
   {
    "duration": 23,
    "start_time": "2022-05-24T19:02:05.238Z"
   },
   {
    "duration": 31,
    "start_time": "2022-05-24T19:02:05.263Z"
   },
   {
    "duration": 9,
    "start_time": "2022-05-24T19:02:05.296Z"
   },
   {
    "duration": 136,
    "start_time": "2022-05-24T19:02:05.307Z"
   },
   {
    "duration": 18,
    "start_time": "2022-05-24T19:02:05.446Z"
   },
   {
    "duration": 34,
    "start_time": "2022-05-24T19:02:05.466Z"
   },
   {
    "duration": 37,
    "start_time": "2022-05-24T19:02:05.502Z"
   },
   {
    "duration": 7,
    "start_time": "2022-05-24T19:02:05.541Z"
   },
   {
    "duration": 87,
    "start_time": "2022-05-24T19:02:05.550Z"
   },
   {
    "duration": 24,
    "start_time": "2022-05-24T19:02:05.639Z"
   },
   {
    "duration": 6,
    "start_time": "2022-05-24T19:02:05.666Z"
   },
   {
    "duration": 30,
    "start_time": "2022-05-24T19:02:05.674Z"
   },
   {
    "duration": 13,
    "start_time": "2022-05-24T19:02:05.706Z"
   },
   {
    "duration": 341,
    "start_time": "2022-05-24T19:02:05.721Z"
   },
   {
    "duration": 10,
    "start_time": "2022-05-24T19:02:06.064Z"
   },
   {
    "duration": 32,
    "start_time": "2022-05-24T19:02:06.076Z"
   },
   {
    "duration": 212,
    "start_time": "2022-05-24T19:02:06.110Z"
   },
   {
    "duration": 10,
    "start_time": "2022-05-24T19:02:06.324Z"
   },
   {
    "duration": 13,
    "start_time": "2022-05-24T19:02:06.335Z"
   },
   {
    "duration": 285,
    "start_time": "2022-05-24T19:02:06.350Z"
   },
   {
    "duration": 15,
    "start_time": "2022-05-24T19:02:06.637Z"
   },
   {
    "duration": 12,
    "start_time": "2022-05-24T19:02:06.656Z"
   },
   {
    "duration": 22,
    "start_time": "2022-05-24T19:02:06.670Z"
   },
   {
    "duration": 24,
    "start_time": "2022-05-24T19:02:27.693Z"
   },
   {
    "duration": 23,
    "start_time": "2022-05-24T19:02:44.869Z"
   },
   {
    "duration": 8,
    "start_time": "2022-05-24T19:02:49.206Z"
   },
   {
    "duration": 33,
    "start_time": "2022-05-24T19:04:32.052Z"
   },
   {
    "duration": 21,
    "start_time": "2022-05-24T19:04:46.635Z"
   },
   {
    "duration": 10,
    "start_time": "2022-05-24T19:05:13.091Z"
   },
   {
    "duration": 12,
    "start_time": "2022-05-24T19:05:16.573Z"
   },
   {
    "duration": 210,
    "start_time": "2022-05-24T19:05:19.610Z"
   },
   {
    "duration": 11,
    "start_time": "2022-05-24T19:05:23.777Z"
   },
   {
    "duration": 11,
    "start_time": "2022-05-24T19:05:25.412Z"
   },
   {
    "duration": 245,
    "start_time": "2022-05-24T19:05:27.401Z"
   },
   {
    "duration": 9,
    "start_time": "2022-05-24T19:05:38.167Z"
   },
   {
    "duration": 9,
    "start_time": "2022-05-24T19:05:40.037Z"
   },
   {
    "duration": 168,
    "start_time": "2022-05-24T19:05:42.644Z"
   },
   {
    "duration": 5,
    "start_time": "2022-05-24T19:06:19.099Z"
   },
   {
    "duration": 8,
    "start_time": "2022-05-24T19:07:48.697Z"
   },
   {
    "duration": 5,
    "start_time": "2022-05-24T19:08:20.003Z"
   },
   {
    "duration": 217,
    "start_time": "2022-05-24T19:34:48.353Z"
   },
   {
    "duration": 884,
    "start_time": "2022-05-24T19:35:45.526Z"
   },
   {
    "duration": 641,
    "start_time": "2022-05-24T19:35:46.415Z"
   },
   {
    "duration": 200,
    "start_time": "2022-05-24T19:35:47.058Z"
   },
   {
    "duration": 13,
    "start_time": "2022-05-24T19:35:47.260Z"
   },
   {
    "duration": 38,
    "start_time": "2022-05-24T19:35:47.275Z"
   },
   {
    "duration": 12,
    "start_time": "2022-05-24T19:35:47.315Z"
   },
   {
    "duration": 26,
    "start_time": "2022-05-24T19:35:47.329Z"
   },
   {
    "duration": 20,
    "start_time": "2022-05-24T19:35:47.357Z"
   },
   {
    "duration": 27,
    "start_time": "2022-05-24T19:35:47.379Z"
   },
   {
    "duration": 36,
    "start_time": "2022-05-24T19:35:47.418Z"
   },
   {
    "duration": 12,
    "start_time": "2022-05-24T19:35:47.456Z"
   },
   {
    "duration": 56,
    "start_time": "2022-05-24T19:35:47.469Z"
   },
   {
    "duration": 17,
    "start_time": "2022-05-24T19:35:47.527Z"
   },
   {
    "duration": 13,
    "start_time": "2022-05-24T19:35:47.546Z"
   },
   {
    "duration": 622,
    "start_time": "2022-05-24T19:35:47.561Z"
   },
   {
    "duration": 17,
    "start_time": "2022-05-24T19:35:48.184Z"
   },
   {
    "duration": 20,
    "start_time": "2022-05-24T19:35:48.202Z"
   },
   {
    "duration": 50,
    "start_time": "2022-05-24T19:35:48.224Z"
   },
   {
    "duration": 50,
    "start_time": "2022-05-24T19:35:48.276Z"
   },
   {
    "duration": 24,
    "start_time": "2022-05-24T19:35:48.327Z"
   },
   {
    "duration": 14,
    "start_time": "2022-05-24T19:35:48.352Z"
   },
   {
    "duration": 42,
    "start_time": "2022-05-24T19:35:48.368Z"
   },
   {
    "duration": 34,
    "start_time": "2022-05-24T19:35:48.412Z"
   },
   {
    "duration": 41,
    "start_time": "2022-05-24T19:35:48.451Z"
   },
   {
    "duration": 30,
    "start_time": "2022-05-24T19:35:48.495Z"
   },
   {
    "duration": 17,
    "start_time": "2022-05-24T19:35:48.527Z"
   },
   {
    "duration": 57,
    "start_time": "2022-05-24T19:35:48.546Z"
   },
   {
    "duration": 7,
    "start_time": "2022-05-24T19:35:48.607Z"
   },
   {
    "duration": 40,
    "start_time": "2022-05-24T19:35:48.616Z"
   },
   {
    "duration": 59,
    "start_time": "2022-05-24T19:35:48.658Z"
   },
   {
    "duration": 15,
    "start_time": "2022-05-24T19:35:48.724Z"
   },
   {
    "duration": 11,
    "start_time": "2022-05-24T19:35:48.742Z"
   },
   {
    "duration": 10,
    "start_time": "2022-05-24T19:35:48.755Z"
   },
   {
    "duration": 233,
    "start_time": "2022-05-24T19:35:48.767Z"
   },
   {
    "duration": 22,
    "start_time": "2022-05-24T19:35:49.003Z"
   },
   {
    "duration": 59,
    "start_time": "2022-05-24T19:35:49.028Z"
   },
   {
    "duration": 75,
    "start_time": "2022-05-24T19:35:49.089Z"
   },
   {
    "duration": 10,
    "start_time": "2022-05-24T19:35:49.165Z"
   },
   {
    "duration": 129,
    "start_time": "2022-05-24T19:35:49.177Z"
   },
   {
    "duration": 7,
    "start_time": "2022-05-24T19:35:49.308Z"
   },
   {
    "duration": 47,
    "start_time": "2022-05-24T19:35:49.317Z"
   },
   {
    "duration": 49,
    "start_time": "2022-05-24T19:35:49.365Z"
   },
   {
    "duration": 51,
    "start_time": "2022-05-24T19:35:49.422Z"
   },
   {
    "duration": 61,
    "start_time": "2022-05-24T19:35:49.475Z"
   },
   {
    "duration": 419,
    "start_time": "2022-05-24T19:35:49.538Z"
   },
   {
    "duration": 11,
    "start_time": "2022-05-24T19:35:49.959Z"
   },
   {
    "duration": 37,
    "start_time": "2022-05-24T19:35:49.972Z"
   },
   {
    "duration": 273,
    "start_time": "2022-05-24T19:35:50.010Z"
   },
   {
    "duration": 18,
    "start_time": "2022-05-24T19:35:50.285Z"
   },
   {
    "duration": 35,
    "start_time": "2022-05-24T19:35:50.306Z"
   },
   {
    "duration": 300,
    "start_time": "2022-05-24T19:35:50.343Z"
   },
   {
    "duration": 169,
    "start_time": "2022-05-24T19:35:50.646Z"
   },
   {
    "duration": 0,
    "start_time": "2022-05-24T19:35:50.817Z"
   },
   {
    "duration": 0,
    "start_time": "2022-05-24T19:35:50.818Z"
   },
   {
    "duration": 0,
    "start_time": "2022-05-24T19:35:50.823Z"
   },
   {
    "duration": 18,
    "start_time": "2022-05-24T19:36:17.213Z"
   },
   {
    "duration": 36,
    "start_time": "2022-05-24T19:36:20.932Z"
   },
   {
    "duration": 13,
    "start_time": "2022-05-24T19:37:04.810Z"
   },
   {
    "duration": 13,
    "start_time": "2022-05-24T19:37:08.826Z"
   },
   {
    "duration": 6,
    "start_time": "2022-05-24T19:37:23.307Z"
   },
   {
    "duration": 5,
    "start_time": "2022-05-24T19:37:26.954Z"
   },
   {
    "duration": 4,
    "start_time": "2022-05-24T19:37:40.913Z"
   },
   {
    "duration": 21,
    "start_time": "2022-05-24T19:39:38.781Z"
   },
   {
    "duration": 34,
    "start_time": "2022-05-24T19:39:51.818Z"
   },
   {
    "duration": 30,
    "start_time": "2022-05-24T19:40:20.955Z"
   },
   {
    "duration": 40,
    "start_time": "2022-05-24T19:40:24.991Z"
   },
   {
    "duration": 33,
    "start_time": "2022-05-24T19:40:44.907Z"
   },
   {
    "duration": 40,
    "start_time": "2022-05-24T19:42:06.171Z"
   },
   {
    "duration": 18,
    "start_time": "2022-05-24T19:42:35.056Z"
   },
   {
    "duration": 13,
    "start_time": "2022-05-24T19:42:51.644Z"
   },
   {
    "duration": 7,
    "start_time": "2022-05-24T19:42:58.011Z"
   },
   {
    "duration": 799,
    "start_time": "2022-05-25T16:21:41.711Z"
   },
   {
    "duration": 1089,
    "start_time": "2022-05-25T16:21:42.512Z"
   },
   {
    "duration": 198,
    "start_time": "2022-05-25T16:21:43.602Z"
   },
   {
    "duration": 25,
    "start_time": "2022-05-25T16:21:43.802Z"
   },
   {
    "duration": 12,
    "start_time": "2022-05-25T16:21:43.829Z"
   },
   {
    "duration": 7,
    "start_time": "2022-05-25T16:21:43.843Z"
   },
   {
    "duration": 23,
    "start_time": "2022-05-25T16:21:43.851Z"
   },
   {
    "duration": 13,
    "start_time": "2022-05-25T16:21:43.876Z"
   },
   {
    "duration": 36,
    "start_time": "2022-05-25T16:21:43.891Z"
   },
   {
    "duration": 18,
    "start_time": "2022-05-25T16:21:43.929Z"
   },
   {
    "duration": 21,
    "start_time": "2022-05-25T16:21:43.949Z"
   },
   {
    "duration": 74,
    "start_time": "2022-05-25T16:21:43.972Z"
   },
   {
    "duration": 15,
    "start_time": "2022-05-25T16:21:44.047Z"
   },
   {
    "duration": 9,
    "start_time": "2022-05-25T16:21:44.065Z"
   },
   {
    "duration": 562,
    "start_time": "2022-05-25T16:21:44.075Z"
   },
   {
    "duration": 11,
    "start_time": "2022-05-25T16:21:44.639Z"
   },
   {
    "duration": 4,
    "start_time": "2022-05-25T16:21:44.652Z"
   },
   {
    "duration": 77,
    "start_time": "2022-05-25T16:21:44.657Z"
   },
   {
    "duration": 49,
    "start_time": "2022-05-25T16:21:44.736Z"
   },
   {
    "duration": 41,
    "start_time": "2022-05-25T16:21:44.787Z"
   },
   {
    "duration": 13,
    "start_time": "2022-05-25T16:21:44.830Z"
   },
   {
    "duration": 12,
    "start_time": "2022-05-25T16:21:44.844Z"
   },
   {
    "duration": 24,
    "start_time": "2022-05-25T16:21:44.858Z"
   },
   {
    "duration": 52,
    "start_time": "2022-05-25T16:21:44.883Z"
   },
   {
    "duration": 25,
    "start_time": "2022-05-25T16:21:44.936Z"
   },
   {
    "duration": 12,
    "start_time": "2022-05-25T16:21:44.963Z"
   },
   {
    "duration": 57,
    "start_time": "2022-05-25T16:21:44.976Z"
   },
   {
    "duration": 3,
    "start_time": "2022-05-25T16:21:45.035Z"
   },
   {
    "duration": 26,
    "start_time": "2022-05-25T16:21:45.040Z"
   },
   {
    "duration": 65,
    "start_time": "2022-05-25T16:21:45.068Z"
   },
   {
    "duration": 17,
    "start_time": "2022-05-25T16:21:45.135Z"
   },
   {
    "duration": 10,
    "start_time": "2022-05-25T16:21:45.154Z"
   },
   {
    "duration": 8,
    "start_time": "2022-05-25T16:21:45.165Z"
   },
   {
    "duration": 190,
    "start_time": "2022-05-25T16:21:45.175Z"
   },
   {
    "duration": 11,
    "start_time": "2022-05-25T16:21:45.367Z"
   },
   {
    "duration": 7,
    "start_time": "2022-05-25T16:21:45.379Z"
   },
   {
    "duration": 59,
    "start_time": "2022-05-25T16:21:45.388Z"
   },
   {
    "duration": 7,
    "start_time": "2022-05-25T16:21:45.449Z"
   },
   {
    "duration": 39,
    "start_time": "2022-05-25T16:21:45.458Z"
   },
   {
    "duration": 28,
    "start_time": "2022-05-25T16:21:45.499Z"
   },
   {
    "duration": 16,
    "start_time": "2022-05-25T16:21:45.531Z"
   },
   {
    "duration": 4,
    "start_time": "2022-05-25T16:21:45.549Z"
   },
   {
    "duration": 7,
    "start_time": "2022-05-25T16:21:45.554Z"
   },
   {
    "duration": 10,
    "start_time": "2022-05-25T16:21:45.563Z"
   },
   {
    "duration": 49,
    "start_time": "2022-05-25T16:21:45.575Z"
   },
   {
    "duration": 265,
    "start_time": "2022-05-25T16:21:45.626Z"
   },
   {
    "duration": 8,
    "start_time": "2022-05-25T16:21:45.893Z"
   },
   {
    "duration": 21,
    "start_time": "2022-05-25T16:21:45.903Z"
   },
   {
    "duration": 208,
    "start_time": "2022-05-25T16:21:45.926Z"
   },
   {
    "duration": 9,
    "start_time": "2022-05-25T16:21:46.135Z"
   },
   {
    "duration": 9,
    "start_time": "2022-05-25T16:21:46.145Z"
   },
   {
    "duration": 212,
    "start_time": "2022-05-25T16:21:46.155Z"
   },
   {
    "duration": 4,
    "start_time": "2022-05-25T16:21:46.369Z"
   },
   {
    "duration": 9,
    "start_time": "2022-05-25T16:21:46.374Z"
   },
   {
    "duration": 15,
    "start_time": "2022-05-25T16:21:46.384Z"
   },
   {
    "duration": 123,
    "start_time": "2022-05-25T16:21:46.400Z"
   },
   {
    "duration": 0,
    "start_time": "2022-05-25T16:21:46.524Z"
   },
   {
    "duration": 0,
    "start_time": "2022-05-25T16:21:46.525Z"
   },
   {
    "duration": 13,
    "start_time": "2022-05-25T16:22:50.332Z"
   },
   {
    "duration": 4,
    "start_time": "2022-05-25T16:42:16.404Z"
   },
   {
    "duration": 891,
    "start_time": "2022-05-26T12:54:23.901Z"
   },
   {
    "duration": 1848,
    "start_time": "2022-05-26T12:54:24.794Z"
   },
   {
    "duration": 203,
    "start_time": "2022-05-26T12:54:26.644Z"
   },
   {
    "duration": 15,
    "start_time": "2022-05-26T12:54:26.849Z"
   },
   {
    "duration": 14,
    "start_time": "2022-05-26T12:54:26.884Z"
   },
   {
    "duration": 9,
    "start_time": "2022-05-26T12:54:26.901Z"
   },
   {
    "duration": 27,
    "start_time": "2022-05-26T12:54:26.912Z"
   },
   {
    "duration": 16,
    "start_time": "2022-05-26T12:54:26.942Z"
   },
   {
    "duration": 14,
    "start_time": "2022-05-26T12:54:26.984Z"
   },
   {
    "duration": 17,
    "start_time": "2022-05-26T12:54:27.001Z"
   },
   {
    "duration": 13,
    "start_time": "2022-05-26T12:54:27.020Z"
   },
   {
    "duration": 84,
    "start_time": "2022-05-26T12:54:27.035Z"
   },
   {
    "duration": 17,
    "start_time": "2022-05-26T12:54:27.121Z"
   },
   {
    "duration": 10,
    "start_time": "2022-05-26T12:54:27.140Z"
   },
   {
    "duration": 866,
    "start_time": "2022-05-26T12:54:27.152Z"
   },
   {
    "duration": 18,
    "start_time": "2022-05-26T12:54:28.020Z"
   },
   {
    "duration": 7,
    "start_time": "2022-05-26T12:54:28.041Z"
   },
   {
    "duration": 80,
    "start_time": "2022-05-26T12:54:28.050Z"
   },
   {
    "duration": 53,
    "start_time": "2022-05-26T12:54:28.133Z"
   },
   {
    "duration": 31,
    "start_time": "2022-05-26T12:54:28.188Z"
   },
   {
    "duration": 43,
    "start_time": "2022-05-26T12:54:28.221Z"
   },
   {
    "duration": 19,
    "start_time": "2022-05-26T12:54:28.266Z"
   },
   {
    "duration": 118,
    "start_time": "2022-05-26T12:54:28.286Z"
   },
   {
    "duration": 27,
    "start_time": "2022-05-26T12:54:28.406Z"
   },
   {
    "duration": 51,
    "start_time": "2022-05-26T12:54:28.434Z"
   },
   {
    "duration": 14,
    "start_time": "2022-05-26T12:54:28.487Z"
   },
   {
    "duration": 48,
    "start_time": "2022-05-26T12:54:28.503Z"
   },
   {
    "duration": 4,
    "start_time": "2022-05-26T12:54:28.556Z"
   },
   {
    "duration": 58,
    "start_time": "2022-05-26T12:54:28.562Z"
   },
   {
    "duration": 78,
    "start_time": "2022-05-26T12:54:28.622Z"
   },
   {
    "duration": 17,
    "start_time": "2022-05-26T12:54:28.702Z"
   },
   {
    "duration": 29,
    "start_time": "2022-05-26T12:54:28.721Z"
   },
   {
    "duration": 31,
    "start_time": "2022-05-26T12:54:28.753Z"
   },
   {
    "duration": 165,
    "start_time": "2022-05-26T12:54:28.786Z"
   },
   {
    "duration": 32,
    "start_time": "2022-05-26T12:54:28.953Z"
   },
   {
    "duration": 8,
    "start_time": "2022-05-26T12:54:28.986Z"
   },
   {
    "duration": 45,
    "start_time": "2022-05-26T12:54:28.995Z"
   },
   {
    "duration": 7,
    "start_time": "2022-05-26T12:54:29.043Z"
   },
   {
    "duration": 77,
    "start_time": "2022-05-26T12:54:29.052Z"
   },
   {
    "duration": 8,
    "start_time": "2022-05-26T12:54:29.130Z"
   },
   {
    "duration": 43,
    "start_time": "2022-05-26T12:54:29.140Z"
   },
   {
    "duration": 5,
    "start_time": "2022-05-26T12:54:29.186Z"
   },
   {
    "duration": 10,
    "start_time": "2022-05-26T12:54:29.193Z"
   },
   {
    "duration": 12,
    "start_time": "2022-05-26T12:54:29.205Z"
   },
   {
    "duration": 10,
    "start_time": "2022-05-26T12:54:29.219Z"
   },
   {
    "duration": 220,
    "start_time": "2022-05-26T12:54:29.231Z"
   },
   {
    "duration": 10,
    "start_time": "2022-05-26T12:54:29.453Z"
   },
   {
    "duration": 25,
    "start_time": "2022-05-26T12:54:29.465Z"
   },
   {
    "duration": 249,
    "start_time": "2022-05-26T12:54:29.492Z"
   },
   {
    "duration": 11,
    "start_time": "2022-05-26T12:54:29.743Z"
   },
   {
    "duration": 12,
    "start_time": "2022-05-26T12:54:29.757Z"
   },
   {
    "duration": 230,
    "start_time": "2022-05-26T12:54:29.785Z"
   },
   {
    "duration": 5,
    "start_time": "2022-05-26T12:54:30.017Z"
   },
   {
    "duration": 11,
    "start_time": "2022-05-26T12:54:30.024Z"
   },
   {
    "duration": 16,
    "start_time": "2022-05-26T12:54:30.037Z"
   },
   {
    "duration": 13,
    "start_time": "2022-05-26T12:54:30.056Z"
   },
   {
    "duration": 27,
    "start_time": "2022-05-26T12:54:30.085Z"
   },
   {
    "duration": 19,
    "start_time": "2022-05-26T12:54:30.115Z"
   },
   {
    "duration": 21,
    "start_time": "2022-05-26T12:54:30.136Z"
   },
   {
    "duration": 871,
    "start_time": "2022-05-26T14:06:10.402Z"
   },
   {
    "duration": 518,
    "start_time": "2022-05-26T14:06:11.275Z"
   },
   {
    "duration": 202,
    "start_time": "2022-05-26T14:06:11.795Z"
   },
   {
    "duration": 18,
    "start_time": "2022-05-26T14:06:11.998Z"
   },
   {
    "duration": 15,
    "start_time": "2022-05-26T14:06:12.018Z"
   },
   {
    "duration": 12,
    "start_time": "2022-05-26T14:06:12.035Z"
   },
   {
    "duration": 52,
    "start_time": "2022-05-26T14:06:12.048Z"
   },
   {
    "duration": 14,
    "start_time": "2022-05-26T14:06:12.102Z"
   },
   {
    "duration": 11,
    "start_time": "2022-05-26T14:06:12.118Z"
   },
   {
    "duration": 18,
    "start_time": "2022-05-26T14:06:12.132Z"
   },
   {
    "duration": 39,
    "start_time": "2022-05-26T14:06:12.151Z"
   },
   {
    "duration": 63,
    "start_time": "2022-05-26T14:06:12.192Z"
   },
   {
    "duration": 37,
    "start_time": "2022-05-26T14:06:12.256Z"
   },
   {
    "duration": 12,
    "start_time": "2022-05-26T14:06:12.295Z"
   },
   {
    "duration": 575,
    "start_time": "2022-05-26T14:06:12.309Z"
   },
   {
    "duration": 11,
    "start_time": "2022-05-26T14:06:12.885Z"
   },
   {
    "duration": 4,
    "start_time": "2022-05-26T14:06:12.898Z"
   },
   {
    "duration": 46,
    "start_time": "2022-05-26T14:06:12.904Z"
   },
   {
    "duration": 69,
    "start_time": "2022-05-26T14:06:12.952Z"
   },
   {
    "duration": 22,
    "start_time": "2022-05-26T14:06:13.023Z"
   },
   {
    "duration": 13,
    "start_time": "2022-05-26T14:06:13.046Z"
   },
   {
    "duration": 33,
    "start_time": "2022-05-26T14:06:13.061Z"
   },
   {
    "duration": 26,
    "start_time": "2022-05-26T14:06:13.096Z"
   },
   {
    "duration": 30,
    "start_time": "2022-05-26T14:06:13.123Z"
   },
   {
    "duration": 26,
    "start_time": "2022-05-26T14:06:13.185Z"
   },
   {
    "duration": 12,
    "start_time": "2022-05-26T14:06:13.213Z"
   },
   {
    "duration": 34,
    "start_time": "2022-05-26T14:06:13.226Z"
   },
   {
    "duration": 4,
    "start_time": "2022-05-26T14:06:13.283Z"
   },
   {
    "duration": 35,
    "start_time": "2022-05-26T14:06:13.289Z"
   },
   {
    "duration": 87,
    "start_time": "2022-05-26T14:06:13.326Z"
   },
   {
    "duration": 16,
    "start_time": "2022-05-26T14:06:13.415Z"
   },
   {
    "duration": 18,
    "start_time": "2022-05-26T14:06:13.433Z"
   },
   {
    "duration": 35,
    "start_time": "2022-05-26T14:06:13.453Z"
   },
   {
    "duration": 163,
    "start_time": "2022-05-26T14:06:13.489Z"
   },
   {
    "duration": 31,
    "start_time": "2022-05-26T14:06:13.654Z"
   },
   {
    "duration": 8,
    "start_time": "2022-05-26T14:06:13.687Z"
   },
   {
    "duration": 49,
    "start_time": "2022-05-26T14:06:13.696Z"
   },
   {
    "duration": 17,
    "start_time": "2022-05-26T14:06:13.746Z"
   },
   {
    "duration": 54,
    "start_time": "2022-05-26T14:06:13.764Z"
   },
   {
    "duration": 10,
    "start_time": "2022-05-26T14:06:13.820Z"
   },
   {
    "duration": 38,
    "start_time": "2022-05-26T14:06:13.831Z"
   },
   {
    "duration": 41,
    "start_time": "2022-05-26T14:06:13.871Z"
   },
   {
    "duration": 14,
    "start_time": "2022-05-26T14:06:13.914Z"
   },
   {
    "duration": 27,
    "start_time": "2022-05-26T14:06:13.930Z"
   },
   {
    "duration": 21,
    "start_time": "2022-05-26T14:06:13.959Z"
   },
   {
    "duration": 269,
    "start_time": "2022-05-26T14:06:13.982Z"
   },
   {
    "duration": 10,
    "start_time": "2022-05-26T14:06:14.252Z"
   },
   {
    "duration": 25,
    "start_time": "2022-05-26T14:06:14.264Z"
   },
   {
    "duration": 251,
    "start_time": "2022-05-26T14:06:14.291Z"
   },
   {
    "duration": 8,
    "start_time": "2022-05-26T14:06:14.544Z"
   },
   {
    "duration": 16,
    "start_time": "2022-05-26T14:06:14.554Z"
   },
   {
    "duration": 216,
    "start_time": "2022-05-26T14:06:14.571Z"
   },
   {
    "duration": 5,
    "start_time": "2022-05-26T14:06:14.789Z"
   },
   {
    "duration": 51,
    "start_time": "2022-05-26T14:06:14.796Z"
   },
   {
    "duration": 20,
    "start_time": "2022-05-26T14:06:14.850Z"
   },
   {
    "duration": 54,
    "start_time": "2022-05-26T14:06:14.872Z"
   },
   {
    "duration": 37,
    "start_time": "2022-05-26T14:06:14.928Z"
   },
   {
    "duration": 31,
    "start_time": "2022-05-26T14:06:14.967Z"
   },
   {
    "duration": 31,
    "start_time": "2022-05-26T14:06:15.000Z"
   },
   {
    "duration": 7,
    "start_time": "2022-05-26T14:10:20.054Z"
   },
   {
    "duration": 46,
    "start_time": "2022-05-26T14:12:15.246Z"
   },
   {
    "duration": 818,
    "start_time": "2022-05-26T14:47:56.430Z"
   },
   {
    "duration": 542,
    "start_time": "2022-05-26T14:47:57.252Z"
   },
   {
    "duration": 248,
    "start_time": "2022-05-26T14:47:57.795Z"
   },
   {
    "duration": 17,
    "start_time": "2022-05-26T14:47:58.046Z"
   },
   {
    "duration": 32,
    "start_time": "2022-05-26T14:47:58.065Z"
   },
   {
    "duration": 17,
    "start_time": "2022-05-26T14:47:58.099Z"
   },
   {
    "duration": 32,
    "start_time": "2022-05-26T14:47:58.119Z"
   },
   {
    "duration": 31,
    "start_time": "2022-05-26T14:47:58.153Z"
   },
   {
    "duration": 12,
    "start_time": "2022-05-26T14:47:58.186Z"
   },
   {
    "duration": 27,
    "start_time": "2022-05-26T14:47:58.200Z"
   },
   {
    "duration": 14,
    "start_time": "2022-05-26T14:47:58.229Z"
   },
   {
    "duration": 74,
    "start_time": "2022-05-26T14:47:58.245Z"
   },
   {
    "duration": 18,
    "start_time": "2022-05-26T14:47:58.323Z"
   },
   {
    "duration": 41,
    "start_time": "2022-05-26T14:47:58.343Z"
   },
   {
    "duration": 540,
    "start_time": "2022-05-26T14:47:58.386Z"
   },
   {
    "duration": 11,
    "start_time": "2022-05-26T14:47:58.928Z"
   },
   {
    "duration": 5,
    "start_time": "2022-05-26T14:47:58.941Z"
   },
   {
    "duration": 68,
    "start_time": "2022-05-26T14:47:58.947Z"
   },
   {
    "duration": 47,
    "start_time": "2022-05-26T14:47:59.017Z"
   },
   {
    "duration": 36,
    "start_time": "2022-05-26T14:47:59.066Z"
   },
   {
    "duration": 15,
    "start_time": "2022-05-26T14:47:59.103Z"
   },
   {
    "duration": 15,
    "start_time": "2022-05-26T14:47:59.120Z"
   },
   {
    "duration": 65,
    "start_time": "2022-05-26T14:47:59.137Z"
   },
   {
    "duration": 32,
    "start_time": "2022-05-26T14:47:59.204Z"
   },
   {
    "duration": 26,
    "start_time": "2022-05-26T14:47:59.237Z"
   },
   {
    "duration": 13,
    "start_time": "2022-05-26T14:47:59.284Z"
   },
   {
    "duration": 30,
    "start_time": "2022-05-26T14:47:59.299Z"
   },
   {
    "duration": 3,
    "start_time": "2022-05-26T14:47:59.330Z"
   },
   {
    "duration": 52,
    "start_time": "2022-05-26T14:47:59.335Z"
   },
   {
    "duration": 49,
    "start_time": "2022-05-26T14:47:59.389Z"
   },
   {
    "duration": 15,
    "start_time": "2022-05-26T14:47:59.439Z"
   },
   {
    "duration": 28,
    "start_time": "2022-05-26T14:47:59.456Z"
   },
   {
    "duration": 7,
    "start_time": "2022-05-26T14:47:59.486Z"
   },
   {
    "duration": 143,
    "start_time": "2022-05-26T14:47:59.495Z"
   },
   {
    "duration": 12,
    "start_time": "2022-05-26T14:47:59.640Z"
   },
   {
    "duration": 32,
    "start_time": "2022-05-26T14:47:59.654Z"
   },
   {
    "duration": 34,
    "start_time": "2022-05-26T14:47:59.688Z"
   },
   {
    "duration": 7,
    "start_time": "2022-05-26T14:47:59.724Z"
   },
   {
    "duration": 53,
    "start_time": "2022-05-26T14:47:59.733Z"
   },
   {
    "duration": 7,
    "start_time": "2022-05-26T14:47:59.790Z"
   },
   {
    "duration": 22,
    "start_time": "2022-05-26T14:47:59.799Z"
   },
   {
    "duration": 4,
    "start_time": "2022-05-26T14:47:59.823Z"
   },
   {
    "duration": 12,
    "start_time": "2022-05-26T14:47:59.828Z"
   },
   {
    "duration": 15,
    "start_time": "2022-05-26T14:47:59.842Z"
   },
   {
    "duration": 26,
    "start_time": "2022-05-26T14:47:59.859Z"
   },
   {
    "duration": 295,
    "start_time": "2022-05-26T14:47:59.887Z"
   },
   {
    "duration": 10,
    "start_time": "2022-05-26T14:48:00.184Z"
   },
   {
    "duration": 20,
    "start_time": "2022-05-26T14:48:00.196Z"
   },
   {
    "duration": 244,
    "start_time": "2022-05-26T14:48:00.218Z"
   },
   {
    "duration": 9,
    "start_time": "2022-05-26T14:48:00.464Z"
   },
   {
    "duration": 30,
    "start_time": "2022-05-26T14:48:00.484Z"
   },
   {
    "duration": 276,
    "start_time": "2022-05-26T14:48:00.516Z"
   },
   {
    "duration": 5,
    "start_time": "2022-05-26T14:48:00.794Z"
   },
   {
    "duration": 20,
    "start_time": "2022-05-26T14:48:00.801Z"
   },
   {
    "duration": 26,
    "start_time": "2022-05-26T14:48:00.823Z"
   },
   {
    "duration": 10,
    "start_time": "2022-05-26T14:48:00.851Z"
   },
   {
    "duration": 21,
    "start_time": "2022-05-26T14:48:00.862Z"
   },
   {
    "duration": 15,
    "start_time": "2022-05-26T14:48:00.885Z"
   },
   {
    "duration": 130,
    "start_time": "2022-05-26T14:48:00.902Z"
   },
   {
    "duration": 0,
    "start_time": "2022-05-26T14:48:01.034Z"
   },
   {
    "duration": 33,
    "start_time": "2022-05-26T14:48:08.251Z"
   },
   {
    "duration": 36,
    "start_time": "2022-05-26T14:48:21.822Z"
   },
   {
    "duration": 4,
    "start_time": "2022-05-26T14:48:36.334Z"
   },
   {
    "duration": 139,
    "start_time": "2022-05-26T14:48:46.992Z"
   },
   {
    "duration": 155,
    "start_time": "2022-05-26T14:49:05.091Z"
   },
   {
    "duration": 160,
    "start_time": "2022-05-26T14:49:12.311Z"
   },
   {
    "duration": 161,
    "start_time": "2022-05-26T14:49:21.857Z"
   },
   {
    "duration": 187,
    "start_time": "2022-05-26T14:49:26.162Z"
   },
   {
    "duration": 181,
    "start_time": "2022-05-26T14:49:38.537Z"
   },
   {
    "duration": 246,
    "start_time": "2022-05-26T14:49:42.090Z"
   },
   {
    "duration": 6,
    "start_time": "2022-05-26T14:49:46.233Z"
   },
   {
    "duration": 11,
    "start_time": "2022-05-26T14:49:51.609Z"
   },
   {
    "duration": 14,
    "start_time": "2022-05-26T14:50:23.266Z"
   },
   {
    "duration": 20,
    "start_time": "2022-05-26T14:51:34.630Z"
   },
   {
    "duration": 34,
    "start_time": "2022-05-26T14:51:59.707Z"
   },
   {
    "duration": 32,
    "start_time": "2022-05-26T14:53:03.822Z"
   },
   {
    "duration": 4,
    "start_time": "2022-05-26T14:53:45.879Z"
   },
   {
    "duration": 5,
    "start_time": "2022-05-26T14:54:12.232Z"
   },
   {
    "duration": 20,
    "start_time": "2022-05-26T14:56:17.809Z"
   },
   {
    "duration": 22,
    "start_time": "2022-05-26T14:56:50.690Z"
   },
   {
    "duration": 18,
    "start_time": "2022-05-26T14:57:01.752Z"
   },
   {
    "duration": 5,
    "start_time": "2022-05-26T14:58:00.084Z"
   },
   {
    "duration": 4,
    "start_time": "2022-05-26T14:58:22.846Z"
   },
   {
    "duration": 4,
    "start_time": "2022-05-26T14:59:09.572Z"
   },
   {
    "duration": 6,
    "start_time": "2022-05-26T15:00:42.942Z"
   },
   {
    "duration": 5,
    "start_time": "2022-05-26T15:00:45.647Z"
   },
   {
    "duration": 8,
    "start_time": "2022-05-26T15:01:12.850Z"
   },
   {
    "duration": 6,
    "start_time": "2022-05-26T15:01:20.329Z"
   },
   {
    "duration": 8,
    "start_time": "2022-05-26T15:01:46.117Z"
   },
   {
    "duration": 10,
    "start_time": "2022-05-26T15:03:07.483Z"
   },
   {
    "duration": 6,
    "start_time": "2022-05-26T15:04:40.622Z"
   },
   {
    "duration": 902,
    "start_time": "2022-05-26T19:05:22.407Z"
   },
   {
    "duration": 1378,
    "start_time": "2022-05-26T19:05:23.311Z"
   },
   {
    "duration": 193,
    "start_time": "2022-05-26T19:05:24.691Z"
   },
   {
    "duration": 14,
    "start_time": "2022-05-26T19:05:24.887Z"
   },
   {
    "duration": 12,
    "start_time": "2022-05-26T19:05:24.903Z"
   },
   {
    "duration": 8,
    "start_time": "2022-05-26T19:05:24.917Z"
   },
   {
    "duration": 47,
    "start_time": "2022-05-26T19:05:24.927Z"
   },
   {
    "duration": 19,
    "start_time": "2022-05-26T19:05:24.978Z"
   },
   {
    "duration": 11,
    "start_time": "2022-05-26T19:05:24.999Z"
   },
   {
    "duration": 17,
    "start_time": "2022-05-26T19:05:25.012Z"
   },
   {
    "duration": 17,
    "start_time": "2022-05-26T19:05:25.056Z"
   },
   {
    "duration": 74,
    "start_time": "2022-05-26T19:05:25.075Z"
   },
   {
    "duration": 21,
    "start_time": "2022-05-26T19:05:25.152Z"
   },
   {
    "duration": 44,
    "start_time": "2022-05-26T19:05:25.175Z"
   },
   {
    "duration": 884,
    "start_time": "2022-05-26T19:05:25.220Z"
   },
   {
    "duration": 15,
    "start_time": "2022-05-26T19:05:26.106Z"
   },
   {
    "duration": 5,
    "start_time": "2022-05-26T19:05:26.123Z"
   },
   {
    "duration": 83,
    "start_time": "2022-05-26T19:05:26.130Z"
   },
   {
    "duration": 40,
    "start_time": "2022-05-26T19:05:26.215Z"
   },
   {
    "duration": 35,
    "start_time": "2022-05-26T19:05:26.257Z"
   },
   {
    "duration": 21,
    "start_time": "2022-05-26T19:05:26.294Z"
   },
   {
    "duration": 14,
    "start_time": "2022-05-26T19:05:26.317Z"
   },
   {
    "duration": 112,
    "start_time": "2022-05-26T19:05:26.332Z"
   },
   {
    "duration": 32,
    "start_time": "2022-05-26T19:05:26.445Z"
   },
   {
    "duration": 47,
    "start_time": "2022-05-26T19:05:26.479Z"
   },
   {
    "duration": 11,
    "start_time": "2022-05-26T19:05:26.528Z"
   },
   {
    "duration": 52,
    "start_time": "2022-05-26T19:05:26.541Z"
   },
   {
    "duration": 4,
    "start_time": "2022-05-26T19:05:26.599Z"
   },
   {
    "duration": 45,
    "start_time": "2022-05-26T19:05:26.605Z"
   },
   {
    "duration": 70,
    "start_time": "2022-05-26T19:05:26.651Z"
   },
   {
    "duration": 14,
    "start_time": "2022-05-26T19:05:26.723Z"
   },
   {
    "duration": 19,
    "start_time": "2022-05-26T19:05:26.739Z"
   },
   {
    "duration": 41,
    "start_time": "2022-05-26T19:05:26.762Z"
   },
   {
    "duration": 155,
    "start_time": "2022-05-26T19:05:26.805Z"
   },
   {
    "duration": 19,
    "start_time": "2022-05-26T19:05:26.962Z"
   },
   {
    "duration": 22,
    "start_time": "2022-05-26T19:05:26.988Z"
   },
   {
    "duration": 65,
    "start_time": "2022-05-26T19:05:27.011Z"
   },
   {
    "duration": 10,
    "start_time": "2022-05-26T19:05:27.077Z"
   },
   {
    "duration": 38,
    "start_time": "2022-05-26T19:05:27.090Z"
   },
   {
    "duration": 6,
    "start_time": "2022-05-26T19:05:27.130Z"
   },
   {
    "duration": 41,
    "start_time": "2022-05-26T19:05:27.137Z"
   },
   {
    "duration": 14,
    "start_time": "2022-05-26T19:05:27.181Z"
   },
   {
    "duration": 8,
    "start_time": "2022-05-26T19:05:27.198Z"
   },
   {
    "duration": 10,
    "start_time": "2022-05-26T19:05:27.207Z"
   },
   {
    "duration": 9,
    "start_time": "2022-05-26T19:05:27.219Z"
   },
   {
    "duration": 242,
    "start_time": "2022-05-26T19:05:27.229Z"
   },
   {
    "duration": 9,
    "start_time": "2022-05-26T19:05:27.472Z"
   },
   {
    "duration": 10,
    "start_time": "2022-05-26T19:05:27.490Z"
   },
   {
    "duration": 227,
    "start_time": "2022-05-26T19:05:27.502Z"
   },
   {
    "duration": 8,
    "start_time": "2022-05-26T19:05:27.730Z"
   },
   {
    "duration": 15,
    "start_time": "2022-05-26T19:05:27.740Z"
   },
   {
    "duration": 257,
    "start_time": "2022-05-26T19:05:27.756Z"
   },
   {
    "duration": 7,
    "start_time": "2022-05-26T19:05:28.015Z"
   },
   {
    "duration": 13,
    "start_time": "2022-05-26T19:05:28.023Z"
   },
   {
    "duration": 15,
    "start_time": "2022-05-26T19:05:28.037Z"
   },
   {
    "duration": 44,
    "start_time": "2022-05-26T19:05:28.054Z"
   },
   {
    "duration": 13,
    "start_time": "2022-05-26T19:05:28.101Z"
   },
   {
    "duration": 8,
    "start_time": "2022-05-26T19:05:28.116Z"
   },
   {
    "duration": 66,
    "start_time": "2022-05-26T19:05:28.125Z"
   },
   {
    "duration": 25,
    "start_time": "2022-05-26T19:05:28.192Z"
   },
   {
    "duration": 25,
    "start_time": "2022-05-26T19:05:28.219Z"
   },
   {
    "duration": 63,
    "start_time": "2022-05-26T19:05:28.246Z"
   },
   {
    "duration": 5,
    "start_time": "2022-05-26T19:05:28.310Z"
   },
   {
    "duration": 6,
    "start_time": "2022-05-26T19:05:45.083Z"
   },
   {
    "duration": 35,
    "start_time": "2022-05-26T19:06:18.195Z"
   },
   {
    "duration": 9,
    "start_time": "2022-05-26T19:06:36.092Z"
   },
   {
    "duration": 147,
    "start_time": "2022-05-26T19:06:44.789Z"
   },
   {
    "duration": 172,
    "start_time": "2022-05-26T19:06:53.644Z"
   },
   {
    "duration": 196,
    "start_time": "2022-05-26T19:06:58.581Z"
   },
   {
    "duration": 232,
    "start_time": "2022-05-26T19:07:24.189Z"
   },
   {
    "duration": 311,
    "start_time": "2022-05-26T19:07:40.347Z"
   },
   {
    "duration": 280,
    "start_time": "2022-05-26T19:07:52.458Z"
   },
   {
    "duration": 216,
    "start_time": "2022-05-26T19:08:18.766Z"
   },
   {
    "duration": 6,
    "start_time": "2022-05-26T19:09:44.189Z"
   },
   {
    "duration": 6,
    "start_time": "2022-05-26T19:09:48.502Z"
   },
   {
    "duration": 5,
    "start_time": "2022-05-26T19:09:52.015Z"
   },
   {
    "duration": 33,
    "start_time": "2022-05-26T19:11:22.997Z"
   },
   {
    "duration": 39,
    "start_time": "2022-05-26T19:11:49.576Z"
   },
   {
    "duration": 121,
    "start_time": "2022-05-26T19:12:47.978Z"
   },
   {
    "duration": 25,
    "start_time": "2022-05-26T19:12:55.368Z"
   },
   {
    "duration": 23,
    "start_time": "2022-05-26T19:13:02.054Z"
   },
   {
    "duration": 10,
    "start_time": "2022-05-26T19:13:18.408Z"
   },
   {
    "duration": 6,
    "start_time": "2022-05-26T19:13:28.381Z"
   },
   {
    "duration": 8,
    "start_time": "2022-05-26T19:13:32.047Z"
   },
   {
    "duration": 8,
    "start_time": "2022-05-26T19:13:38.251Z"
   },
   {
    "duration": 41,
    "start_time": "2022-05-26T19:14:02.407Z"
   },
   {
    "duration": 9,
    "start_time": "2022-05-26T19:14:16.185Z"
   },
   {
    "duration": 14,
    "start_time": "2022-05-26T19:14:45.742Z"
   },
   {
    "duration": 33,
    "start_time": "2022-05-26T19:14:49.588Z"
   },
   {
    "duration": 8,
    "start_time": "2022-05-26T19:14:58.405Z"
   },
   {
    "duration": 9,
    "start_time": "2022-05-26T19:15:06.248Z"
   },
   {
    "duration": 12,
    "start_time": "2022-05-26T19:16:12.001Z"
   },
   {
    "duration": 10,
    "start_time": "2022-05-26T19:16:20.688Z"
   },
   {
    "duration": 15,
    "start_time": "2022-05-26T19:16:43.904Z"
   },
   {
    "duration": 8,
    "start_time": "2022-05-26T19:17:51.456Z"
   },
   {
    "duration": 10,
    "start_time": "2022-05-26T19:19:55.845Z"
   },
   {
    "duration": 7,
    "start_time": "2022-05-26T19:20:05.929Z"
   },
   {
    "duration": 12,
    "start_time": "2022-05-26T19:20:28.616Z"
   },
   {
    "duration": 18,
    "start_time": "2022-05-26T19:21:01.726Z"
   },
   {
    "duration": 15,
    "start_time": "2022-05-26T19:21:09.819Z"
   },
   {
    "duration": 789,
    "start_time": "2022-05-27T17:21:16.460Z"
   },
   {
    "duration": 484,
    "start_time": "2022-05-27T17:21:17.251Z"
   },
   {
    "duration": 204,
    "start_time": "2022-05-27T17:21:17.738Z"
   },
   {
    "duration": 14,
    "start_time": "2022-05-27T17:21:17.943Z"
   },
   {
    "duration": 21,
    "start_time": "2022-05-27T17:21:17.959Z"
   },
   {
    "duration": 32,
    "start_time": "2022-05-27T17:21:17.981Z"
   },
   {
    "duration": 35,
    "start_time": "2022-05-27T17:21:18.015Z"
   },
   {
    "duration": 14,
    "start_time": "2022-05-27T17:21:18.051Z"
   },
   {
    "duration": 27,
    "start_time": "2022-05-27T17:21:18.067Z"
   },
   {
    "duration": 17,
    "start_time": "2022-05-27T17:21:18.095Z"
   },
   {
    "duration": 23,
    "start_time": "2022-05-27T17:21:18.114Z"
   },
   {
    "duration": 55,
    "start_time": "2022-05-27T17:21:18.138Z"
   },
   {
    "duration": 16,
    "start_time": "2022-05-27T17:21:18.194Z"
   },
   {
    "duration": 31,
    "start_time": "2022-05-27T17:21:18.213Z"
   },
   {
    "duration": 554,
    "start_time": "2022-05-27T17:21:18.245Z"
   },
   {
    "duration": 10,
    "start_time": "2022-05-27T17:21:18.801Z"
   },
   {
    "duration": 28,
    "start_time": "2022-05-27T17:21:18.813Z"
   },
   {
    "duration": 42,
    "start_time": "2022-05-27T17:21:18.843Z"
   },
   {
    "duration": 51,
    "start_time": "2022-05-27T17:21:18.887Z"
   },
   {
    "duration": 23,
    "start_time": "2022-05-27T17:21:18.940Z"
   },
   {
    "duration": 13,
    "start_time": "2022-05-27T17:21:18.964Z"
   },
   {
    "duration": 15,
    "start_time": "2022-05-27T17:21:18.979Z"
   },
   {
    "duration": 45,
    "start_time": "2022-05-27T17:21:18.996Z"
   },
   {
    "duration": 24,
    "start_time": "2022-05-27T17:21:19.043Z"
   },
   {
    "duration": 24,
    "start_time": "2022-05-27T17:21:19.069Z"
   },
   {
    "duration": 44,
    "start_time": "2022-05-27T17:21:19.095Z"
   },
   {
    "duration": 25,
    "start_time": "2022-05-27T17:21:19.141Z"
   },
   {
    "duration": 3,
    "start_time": "2022-05-27T17:21:19.167Z"
   },
   {
    "duration": 27,
    "start_time": "2022-05-27T17:21:19.172Z"
   },
   {
    "duration": 57,
    "start_time": "2022-05-27T17:21:19.201Z"
   },
   {
    "duration": 14,
    "start_time": "2022-05-27T17:21:19.260Z"
   },
   {
    "duration": 11,
    "start_time": "2022-05-27T17:21:19.276Z"
   },
   {
    "duration": 8,
    "start_time": "2022-05-27T17:21:19.289Z"
   },
   {
    "duration": 154,
    "start_time": "2022-05-27T17:21:19.298Z"
   },
   {
    "duration": 11,
    "start_time": "2022-05-27T17:21:19.453Z"
   },
   {
    "duration": 9,
    "start_time": "2022-05-27T17:21:19.465Z"
   },
   {
    "duration": 67,
    "start_time": "2022-05-27T17:21:19.476Z"
   },
   {
    "duration": 8,
    "start_time": "2022-05-27T17:21:19.545Z"
   },
   {
    "duration": 38,
    "start_time": "2022-05-27T17:21:19.554Z"
   },
   {
    "duration": 7,
    "start_time": "2022-05-27T17:21:19.594Z"
   },
   {
    "duration": 41,
    "start_time": "2022-05-27T17:21:19.605Z"
   },
   {
    "duration": 4,
    "start_time": "2022-05-27T17:21:19.647Z"
   },
   {
    "duration": 7,
    "start_time": "2022-05-27T17:21:19.652Z"
   },
   {
    "duration": 8,
    "start_time": "2022-05-27T17:21:19.661Z"
   },
   {
    "duration": 9,
    "start_time": "2022-05-27T17:21:19.670Z"
   },
   {
    "duration": 258,
    "start_time": "2022-05-27T17:21:19.680Z"
   },
   {
    "duration": 9,
    "start_time": "2022-05-27T17:21:19.940Z"
   },
   {
    "duration": 10,
    "start_time": "2022-05-27T17:21:19.950Z"
   },
   {
    "duration": 207,
    "start_time": "2022-05-27T17:21:19.961Z"
   },
   {
    "duration": 8,
    "start_time": "2022-05-27T17:21:20.169Z"
   },
   {
    "duration": 18,
    "start_time": "2022-05-27T17:21:20.178Z"
   },
   {
    "duration": 193,
    "start_time": "2022-05-27T17:21:20.197Z"
   },
   {
    "duration": 4,
    "start_time": "2022-05-27T17:21:20.392Z"
   },
   {
    "duration": 17,
    "start_time": "2022-05-27T17:21:20.397Z"
   },
   {
    "duration": 24,
    "start_time": "2022-05-27T17:21:20.415Z"
   },
   {
    "duration": 7,
    "start_time": "2022-05-27T17:21:20.441Z"
   },
   {
    "duration": 36,
    "start_time": "2022-05-27T17:21:20.449Z"
   },
   {
    "duration": 6,
    "start_time": "2022-05-27T17:21:20.487Z"
   },
   {
    "duration": 25,
    "start_time": "2022-05-27T17:21:20.494Z"
   },
   {
    "duration": 17,
    "start_time": "2022-05-27T17:21:20.520Z"
   },
   {
    "duration": 17,
    "start_time": "2022-05-27T17:21:20.538Z"
   },
   {
    "duration": 8,
    "start_time": "2022-05-27T17:21:20.556Z"
   },
   {
    "duration": 212,
    "start_time": "2022-05-27T17:21:20.565Z"
   },
   {
    "duration": 14,
    "start_time": "2022-05-27T17:21:20.778Z"
   },
   {
    "duration": 13,
    "start_time": "2022-05-27T17:21:20.794Z"
   },
   {
    "duration": 13,
    "start_time": "2022-05-27T17:21:20.826Z"
   },
   {
    "duration": 101,
    "start_time": "2022-05-27T17:26:37.960Z"
   },
   {
    "duration": 760,
    "start_time": "2022-05-27T17:26:59.450Z"
   },
   {
    "duration": 476,
    "start_time": "2022-05-27T17:27:00.211Z"
   },
   {
    "duration": 174,
    "start_time": "2022-05-27T17:27:00.689Z"
   },
   {
    "duration": 14,
    "start_time": "2022-05-27T17:27:00.865Z"
   },
   {
    "duration": 11,
    "start_time": "2022-05-27T17:27:00.881Z"
   },
   {
    "duration": 12,
    "start_time": "2022-05-27T17:27:00.893Z"
   },
   {
    "duration": 46,
    "start_time": "2022-05-27T17:27:00.907Z"
   },
   {
    "duration": 16,
    "start_time": "2022-05-27T17:27:00.955Z"
   },
   {
    "duration": 24,
    "start_time": "2022-05-27T17:27:00.972Z"
   },
   {
    "duration": 20,
    "start_time": "2022-05-27T17:27:00.998Z"
   },
   {
    "duration": 20,
    "start_time": "2022-05-27T17:27:01.020Z"
   },
   {
    "duration": 51,
    "start_time": "2022-05-27T17:27:01.041Z"
   },
   {
    "duration": 14,
    "start_time": "2022-05-27T17:27:01.094Z"
   },
   {
    "duration": 28,
    "start_time": "2022-05-27T17:27:01.111Z"
   },
   {
    "duration": 563,
    "start_time": "2022-05-27T17:27:01.142Z"
   },
   {
    "duration": 10,
    "start_time": "2022-05-27T17:27:01.706Z"
   },
   {
    "duration": 24,
    "start_time": "2022-05-27T17:27:01.717Z"
   },
   {
    "duration": 50,
    "start_time": "2022-05-27T17:27:01.743Z"
   },
   {
    "duration": 48,
    "start_time": "2022-05-27T17:27:01.795Z"
   },
   {
    "duration": 26,
    "start_time": "2022-05-27T17:27:01.845Z"
   },
   {
    "duration": 16,
    "start_time": "2022-05-27T17:27:01.873Z"
   },
   {
    "duration": 30,
    "start_time": "2022-05-27T17:27:01.891Z"
   },
   {
    "duration": 32,
    "start_time": "2022-05-27T17:27:01.928Z"
   },
   {
    "duration": 24,
    "start_time": "2022-05-27T17:27:01.962Z"
   },
   {
    "duration": 74,
    "start_time": "2022-05-27T17:27:01.987Z"
   },
   {
    "duration": 60,
    "start_time": "2022-05-27T17:27:02.062Z"
   },
   {
    "duration": 42,
    "start_time": "2022-05-27T17:27:02.123Z"
   },
   {
    "duration": 4,
    "start_time": "2022-05-27T17:27:02.166Z"
   },
   {
    "duration": 29,
    "start_time": "2022-05-27T17:27:02.172Z"
   },
   {
    "duration": 47,
    "start_time": "2022-05-27T17:27:02.202Z"
   },
   {
    "duration": 12,
    "start_time": "2022-05-27T17:27:02.250Z"
   },
   {
    "duration": 8,
    "start_time": "2022-05-27T17:27:02.264Z"
   },
   {
    "duration": 6,
    "start_time": "2022-05-27T17:27:02.273Z"
   },
   {
    "duration": 135,
    "start_time": "2022-05-27T17:27:02.280Z"
   },
   {
    "duration": 19,
    "start_time": "2022-05-27T17:27:02.428Z"
   },
   {
    "duration": 10,
    "start_time": "2022-05-27T17:27:02.448Z"
   },
   {
    "duration": 29,
    "start_time": "2022-05-27T17:27:02.459Z"
   },
   {
    "duration": 6,
    "start_time": "2022-05-27T17:27:02.489Z"
   },
   {
    "duration": 50,
    "start_time": "2022-05-27T17:27:02.496Z"
   },
   {
    "duration": 7,
    "start_time": "2022-05-27T17:27:02.548Z"
   },
   {
    "duration": 15,
    "start_time": "2022-05-27T17:27:02.558Z"
   },
   {
    "duration": 4,
    "start_time": "2022-05-27T17:27:02.574Z"
   },
   {
    "duration": 7,
    "start_time": "2022-05-27T17:27:02.579Z"
   },
   {
    "duration": 14,
    "start_time": "2022-05-27T17:27:02.588Z"
   },
   {
    "duration": 37,
    "start_time": "2022-05-27T17:27:02.603Z"
   },
   {
    "duration": 235,
    "start_time": "2022-05-27T17:27:02.642Z"
   },
   {
    "duration": 7,
    "start_time": "2022-05-27T17:27:02.879Z"
   },
   {
    "duration": 14,
    "start_time": "2022-05-27T17:27:02.887Z"
   },
   {
    "duration": 192,
    "start_time": "2022-05-27T17:27:02.902Z"
   },
   {
    "duration": 8,
    "start_time": "2022-05-27T17:27:03.096Z"
   },
   {
    "duration": 32,
    "start_time": "2022-05-27T17:27:03.106Z"
   },
   {
    "duration": 180,
    "start_time": "2022-05-27T17:27:03.139Z"
   },
   {
    "duration": 17,
    "start_time": "2022-05-27T17:27:03.320Z"
   },
   {
    "duration": 11,
    "start_time": "2022-05-27T17:27:03.338Z"
   },
   {
    "duration": 13,
    "start_time": "2022-05-27T17:27:03.351Z"
   },
   {
    "duration": 10,
    "start_time": "2022-05-27T17:27:03.365Z"
   },
   {
    "duration": 19,
    "start_time": "2022-05-27T17:27:03.376Z"
   },
   {
    "duration": 7,
    "start_time": "2022-05-27T17:27:03.396Z"
   },
   {
    "duration": 22,
    "start_time": "2022-05-27T17:27:03.404Z"
   },
   {
    "duration": 21,
    "start_time": "2022-05-27T17:27:03.428Z"
   },
   {
    "duration": 14,
    "start_time": "2022-05-27T17:27:03.451Z"
   },
   {
    "duration": 11,
    "start_time": "2022-05-27T17:27:03.466Z"
   },
   {
    "duration": 202,
    "start_time": "2022-05-27T17:27:03.478Z"
   },
   {
    "duration": 13,
    "start_time": "2022-05-27T17:27:03.681Z"
   },
   {
    "duration": 14,
    "start_time": "2022-05-27T17:27:03.696Z"
   },
   {
    "duration": 8,
    "start_time": "2022-05-27T17:27:03.727Z"
   },
   {
    "duration": 111,
    "start_time": "2022-05-27T17:27:03.739Z"
   },
   {
    "duration": 19,
    "start_time": "2022-05-27T17:27:06.891Z"
   },
   {
    "duration": 51,
    "start_time": "2022-05-27T17:27:45.747Z"
   },
   {
    "duration": 198,
    "start_time": "2022-05-27T17:28:02.575Z"
   },
   {
    "duration": 176,
    "start_time": "2022-05-27T17:28:27.764Z"
   },
   {
    "duration": 171,
    "start_time": "2022-05-27T17:28:31.140Z"
   },
   {
    "duration": 175,
    "start_time": "2022-05-27T17:28:34.313Z"
   },
   {
    "duration": 1120,
    "start_time": "2022-05-27T17:28:52.312Z"
   },
   {
    "duration": 754,
    "start_time": "2022-05-27T17:29:04.657Z"
   },
   {
    "duration": 499,
    "start_time": "2022-05-27T17:29:05.413Z"
   },
   {
    "duration": 186,
    "start_time": "2022-05-27T17:29:05.914Z"
   },
   {
    "duration": 12,
    "start_time": "2022-05-27T17:29:06.102Z"
   },
   {
    "duration": 26,
    "start_time": "2022-05-27T17:29:06.115Z"
   },
   {
    "duration": 7,
    "start_time": "2022-05-27T17:29:06.143Z"
   },
   {
    "duration": 27,
    "start_time": "2022-05-27T17:29:06.152Z"
   },
   {
    "duration": 12,
    "start_time": "2022-05-27T17:29:06.180Z"
   },
   {
    "duration": 12,
    "start_time": "2022-05-27T17:29:06.193Z"
   },
   {
    "duration": 22,
    "start_time": "2022-05-27T17:29:06.226Z"
   },
   {
    "duration": 11,
    "start_time": "2022-05-27T17:29:06.250Z"
   },
   {
    "duration": 49,
    "start_time": "2022-05-27T17:29:06.263Z"
   },
   {
    "duration": 29,
    "start_time": "2022-05-27T17:29:06.314Z"
   },
   {
    "duration": 13,
    "start_time": "2022-05-27T17:29:06.345Z"
   },
   {
    "duration": 500,
    "start_time": "2022-05-27T17:29:06.359Z"
   },
   {
    "duration": 9,
    "start_time": "2022-05-27T17:29:06.861Z"
   },
   {
    "duration": 4,
    "start_time": "2022-05-27T17:29:06.872Z"
   },
   {
    "duration": 63,
    "start_time": "2022-05-27T17:29:06.877Z"
   },
   {
    "duration": 41,
    "start_time": "2022-05-27T17:29:06.941Z"
   },
   {
    "duration": 21,
    "start_time": "2022-05-27T17:29:06.984Z"
   },
   {
    "duration": 37,
    "start_time": "2022-05-27T17:29:07.007Z"
   },
   {
    "duration": 12,
    "start_time": "2022-05-27T17:29:07.046Z"
   },
   {
    "duration": 24,
    "start_time": "2022-05-27T17:29:07.059Z"
   },
   {
    "duration": 23,
    "start_time": "2022-05-27T17:29:07.084Z"
   },
   {
    "duration": 46,
    "start_time": "2022-05-27T17:29:07.108Z"
   },
   {
    "duration": 11,
    "start_time": "2022-05-27T17:29:07.156Z"
   },
   {
    "duration": 28,
    "start_time": "2022-05-27T17:29:07.169Z"
   },
   {
    "duration": 3,
    "start_time": "2022-05-27T17:29:07.201Z"
   },
   {
    "duration": 43,
    "start_time": "2022-05-27T17:29:07.205Z"
   },
   {
    "duration": 42,
    "start_time": "2022-05-27T17:29:07.250Z"
   },
   {
    "duration": 14,
    "start_time": "2022-05-27T17:29:07.293Z"
   },
   {
    "duration": 31,
    "start_time": "2022-05-27T17:29:07.308Z"
   },
   {
    "duration": 9,
    "start_time": "2022-05-27T17:29:07.341Z"
   },
   {
    "duration": 132,
    "start_time": "2022-05-27T17:29:07.352Z"
   },
   {
    "duration": 10,
    "start_time": "2022-05-27T17:29:07.486Z"
   },
   {
    "duration": 14,
    "start_time": "2022-05-27T17:29:07.498Z"
   },
   {
    "duration": 38,
    "start_time": "2022-05-27T17:29:07.513Z"
   },
   {
    "duration": 6,
    "start_time": "2022-05-27T17:29:07.552Z"
   },
   {
    "duration": 37,
    "start_time": "2022-05-27T17:29:07.560Z"
   },
   {
    "duration": 6,
    "start_time": "2022-05-27T17:29:07.598Z"
   },
   {
    "duration": 18,
    "start_time": "2022-05-27T17:29:07.626Z"
   },
   {
    "duration": 8,
    "start_time": "2022-05-27T17:29:07.646Z"
   },
   {
    "duration": 8,
    "start_time": "2022-05-27T17:29:07.655Z"
   },
   {
    "duration": 9,
    "start_time": "2022-05-27T17:29:07.665Z"
   },
   {
    "duration": 8,
    "start_time": "2022-05-27T17:29:07.675Z"
   },
   {
    "duration": 268,
    "start_time": "2022-05-27T17:29:07.685Z"
   },
   {
    "duration": 7,
    "start_time": "2022-05-27T17:29:07.955Z"
   },
   {
    "duration": 14,
    "start_time": "2022-05-27T17:29:07.963Z"
   },
   {
    "duration": 199,
    "start_time": "2022-05-27T17:29:07.978Z"
   },
   {
    "duration": 8,
    "start_time": "2022-05-27T17:29:08.179Z"
   },
   {
    "duration": 7,
    "start_time": "2022-05-27T17:29:08.188Z"
   },
   {
    "duration": 198,
    "start_time": "2022-05-27T17:29:08.197Z"
   },
   {
    "duration": 4,
    "start_time": "2022-05-27T17:29:08.396Z"
   },
   {
    "duration": 10,
    "start_time": "2022-05-27T17:29:08.402Z"
   },
   {
    "duration": 34,
    "start_time": "2022-05-27T17:29:08.413Z"
   },
   {
    "duration": 18,
    "start_time": "2022-05-27T17:29:08.449Z"
   },
   {
    "duration": 19,
    "start_time": "2022-05-27T17:29:08.468Z"
   },
   {
    "duration": 15,
    "start_time": "2022-05-27T17:29:08.489Z"
   },
   {
    "duration": 36,
    "start_time": "2022-05-27T17:29:08.505Z"
   },
   {
    "duration": 14,
    "start_time": "2022-05-27T17:29:08.543Z"
   },
   {
    "duration": 8,
    "start_time": "2022-05-27T17:29:08.559Z"
   },
   {
    "duration": 9,
    "start_time": "2022-05-27T17:29:08.568Z"
   },
   {
    "duration": 221,
    "start_time": "2022-05-27T17:29:08.578Z"
   },
   {
    "duration": 12,
    "start_time": "2022-05-27T17:29:08.800Z"
   },
   {
    "duration": 29,
    "start_time": "2022-05-27T17:29:08.814Z"
   },
   {
    "duration": 6,
    "start_time": "2022-05-27T17:29:08.844Z"
   },
   {
    "duration": 27,
    "start_time": "2022-05-27T17:29:08.851Z"
   },
   {
    "duration": 62,
    "start_time": "2022-05-27T17:29:08.879Z"
   },
   {
    "duration": 1180,
    "start_time": "2022-05-27T17:29:08.942Z"
   },
   {
    "duration": 161,
    "start_time": "2022-05-27T17:29:10.135Z"
   },
   {
    "duration": 172,
    "start_time": "2022-05-27T17:29:10.298Z"
   },
   {
    "duration": 187,
    "start_time": "2022-05-27T17:29:10.472Z"
   },
   {
    "duration": 61,
    "start_time": "2022-05-27T17:29:10.660Z"
   },
   {
    "duration": 899,
    "start_time": "2022-09-26T14:23:35.534Z"
   },
   {
    "duration": 1050,
    "start_time": "2022-09-26T14:23:36.435Z"
   },
   {
    "duration": 169,
    "start_time": "2022-09-26T14:23:37.487Z"
   },
   {
    "duration": 14,
    "start_time": "2022-09-26T14:23:37.659Z"
   },
   {
    "duration": 11,
    "start_time": "2022-09-26T14:23:37.674Z"
   },
   {
    "duration": 25,
    "start_time": "2022-09-26T14:23:37.687Z"
   },
   {
    "duration": 23,
    "start_time": "2022-09-26T14:23:37.714Z"
   },
   {
    "duration": 13,
    "start_time": "2022-09-26T14:23:37.739Z"
   },
   {
    "duration": 10,
    "start_time": "2022-09-26T14:23:37.754Z"
   },
   {
    "duration": 42,
    "start_time": "2022-09-26T14:23:37.767Z"
   },
   {
    "duration": 13,
    "start_time": "2022-09-26T14:23:37.810Z"
   },
   {
    "duration": 38,
    "start_time": "2022-09-26T14:23:37.824Z"
   },
   {
    "duration": 14,
    "start_time": "2022-09-26T14:23:37.863Z"
   },
   {
    "duration": 9,
    "start_time": "2022-09-26T14:23:37.878Z"
   },
   {
    "duration": 478,
    "start_time": "2022-09-26T14:23:37.910Z"
   },
   {
    "duration": 20,
    "start_time": "2022-09-26T14:23:38.390Z"
   },
   {
    "duration": 4,
    "start_time": "2022-09-26T14:23:38.412Z"
   },
   {
    "duration": 50,
    "start_time": "2022-09-26T14:23:38.417Z"
   },
   {
    "duration": 59,
    "start_time": "2022-09-26T14:23:38.468Z"
   },
   {
    "duration": 21,
    "start_time": "2022-09-26T14:23:38.529Z"
   },
   {
    "duration": 13,
    "start_time": "2022-09-26T14:23:38.552Z"
   },
   {
    "duration": 16,
    "start_time": "2022-09-26T14:23:38.567Z"
   },
   {
    "duration": 26,
    "start_time": "2022-09-26T14:23:38.608Z"
   },
   {
    "duration": 25,
    "start_time": "2022-09-26T14:23:38.635Z"
   },
   {
    "duration": 25,
    "start_time": "2022-09-26T14:23:38.662Z"
   },
   {
    "duration": 31,
    "start_time": "2022-09-26T14:23:38.688Z"
   },
   {
    "duration": 29,
    "start_time": "2022-09-26T14:23:38.721Z"
   },
   {
    "duration": 4,
    "start_time": "2022-09-26T14:23:38.753Z"
   },
   {
    "duration": 28,
    "start_time": "2022-09-26T14:23:38.758Z"
   },
   {
    "duration": 71,
    "start_time": "2022-09-26T14:23:38.787Z"
   },
   {
    "duration": 15,
    "start_time": "2022-09-26T14:23:38.860Z"
   },
   {
    "duration": 8,
    "start_time": "2022-09-26T14:23:38.877Z"
   },
   {
    "duration": 26,
    "start_time": "2022-09-26T14:23:38.886Z"
   },
   {
    "duration": 130,
    "start_time": "2022-09-26T14:23:38.913Z"
   },
   {
    "duration": 10,
    "start_time": "2022-09-26T14:23:39.045Z"
   },
   {
    "duration": 9,
    "start_time": "2022-09-26T14:23:39.057Z"
   },
   {
    "duration": 53,
    "start_time": "2022-09-26T14:23:39.068Z"
   },
   {
    "duration": 6,
    "start_time": "2022-09-26T14:23:39.122Z"
   },
   {
    "duration": 46,
    "start_time": "2022-09-26T14:23:39.130Z"
   },
   {
    "duration": 8,
    "start_time": "2022-09-26T14:23:39.178Z"
   },
   {
    "duration": 36,
    "start_time": "2022-09-26T14:23:39.187Z"
   },
   {
    "duration": 34,
    "start_time": "2022-09-26T14:23:39.225Z"
   },
   {
    "duration": 17,
    "start_time": "2022-09-26T14:23:39.261Z"
   },
   {
    "duration": 21,
    "start_time": "2022-09-26T14:23:39.279Z"
   },
   {
    "duration": 24,
    "start_time": "2022-09-26T14:23:39.302Z"
   },
   {
    "duration": 181,
    "start_time": "2022-09-26T14:23:39.328Z"
   },
   {
    "duration": 8,
    "start_time": "2022-09-26T14:23:39.510Z"
   },
   {
    "duration": 15,
    "start_time": "2022-09-26T14:23:39.519Z"
   },
   {
    "duration": 195,
    "start_time": "2022-09-26T14:23:39.536Z"
   },
   {
    "duration": 7,
    "start_time": "2022-09-26T14:23:39.733Z"
   },
   {
    "duration": 12,
    "start_time": "2022-09-26T14:23:39.743Z"
   },
   {
    "duration": 192,
    "start_time": "2022-09-26T14:23:39.756Z"
   },
   {
    "duration": 4,
    "start_time": "2022-09-26T14:23:39.950Z"
   },
   {
    "duration": 8,
    "start_time": "2022-09-26T14:23:39.956Z"
   },
   {
    "duration": 12,
    "start_time": "2022-09-26T14:23:39.966Z"
   },
   {
    "duration": 6,
    "start_time": "2022-09-26T14:23:39.979Z"
   },
   {
    "duration": 32,
    "start_time": "2022-09-26T14:23:39.987Z"
   },
   {
    "duration": 15,
    "start_time": "2022-09-26T14:23:40.020Z"
   },
   {
    "duration": 26,
    "start_time": "2022-09-26T14:23:40.037Z"
   },
   {
    "duration": 24,
    "start_time": "2022-09-26T14:23:40.064Z"
   },
   {
    "duration": 19,
    "start_time": "2022-09-26T14:23:40.090Z"
   },
   {
    "duration": 7,
    "start_time": "2022-09-26T14:23:40.110Z"
   },
   {
    "duration": 196,
    "start_time": "2022-09-26T14:23:40.118Z"
   },
   {
    "duration": 15,
    "start_time": "2022-09-26T14:23:40.316Z"
   },
   {
    "duration": 20,
    "start_time": "2022-09-26T14:23:40.333Z"
   },
   {
    "duration": 5,
    "start_time": "2022-09-26T14:23:40.354Z"
   },
   {
    "duration": 50,
    "start_time": "2022-09-26T14:23:40.361Z"
   },
   {
    "duration": 131,
    "start_time": "2022-09-26T14:23:40.412Z"
   },
   {
    "duration": 1076,
    "start_time": "2022-09-26T14:23:40.545Z"
   },
   {
    "duration": 204,
    "start_time": "2022-09-26T14:23:41.623Z"
   },
   {
    "duration": 184,
    "start_time": "2022-09-26T14:23:41.829Z"
   },
   {
    "duration": 166,
    "start_time": "2022-09-26T14:23:42.014Z"
   },
   {
    "duration": 54,
    "start_time": "2022-09-26T14:23:42.181Z"
   },
   {
    "duration": 45,
    "start_time": "2022-12-04T16:42:44.012Z"
   }
  ],
  "kernelspec": {
   "display_name": "Python 3 (ipykernel)",
   "language": "python",
   "name": "python3"
  },
  "language_info": {
   "codemirror_mode": {
    "name": "ipython",
    "version": 3
   },
   "file_extension": ".py",
   "mimetype": "text/x-python",
   "name": "python",
   "nbconvert_exporter": "python",
   "pygments_lexer": "ipython3",
   "version": "3.9.7"
  },
  "toc": {
   "base_numbering": 1,
   "nav_menu": {
    "height": "357px",
    "width": "316px"
   },
   "number_sections": true,
   "sideBar": true,
   "skip_h1_title": true,
   "title_cell": "Определение перспективного тарифа для телеком-компании",
   "title_sidebar": "Contents",
   "toc_cell": true,
   "toc_position": {
    "height": "calc(100% - 180px)",
    "left": "10px",
    "top": "150px",
    "width": "186.391px"
   },
   "toc_section_display": true,
   "toc_window_display": true
  }
 },
 "nbformat": 4,
 "nbformat_minor": 2
}
