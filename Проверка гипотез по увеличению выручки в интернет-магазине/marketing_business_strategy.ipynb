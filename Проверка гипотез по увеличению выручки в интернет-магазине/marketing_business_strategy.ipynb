{
 "cells": [
  {
   "cell_type": "markdown",
   "metadata": {},
   "source": [
    "# Маркетинговое исследование интернет-магазина."
   ]
  },
  {
   "cell_type": "markdown",
   "metadata": {},
   "source": [
    "Нам поручено приоритизировать ряд гипотез согласно стандартам ICE и RICE и провести анализ a/b теста проведенного в компании. Перед нами стоит цель найти наилучшую стратегию развития интернет магазина. Нами получены 3 датасета: гипотезы, заказы и посетители сайта. Необходимо провести предобработку данных, отсортировать гипотезы по приоритетности и провести статистический анализ A/B-теста."
   ]
  },
  {
   "cell_type": "markdown",
   "metadata": {},
   "source": [
    "## Загрузка данных и библиотек"
   ]
  },
  {
   "cell_type": "markdown",
   "metadata": {},
   "source": [
    "### Загрузка библиотек"
   ]
  },
  {
   "cell_type": "code",
   "execution_count": 1,
   "metadata": {},
   "outputs": [],
   "source": [
    "import pandas as pd\n",
    "import numpy as np\n",
    "from matplotlib import pyplot as plt\n",
    "from scipy import stats as st\n",
    "import math as mth\n",
    "import datetime as dt\n",
    "from pandas.plotting import register_matplotlib_converters\n",
    "import warnings\n",
    "pd.options.display.max_colwidth = 100"
   ]
  },
  {
   "cell_type": "markdown",
   "metadata": {},
   "source": [
    "### Загрузка данных"
   ]
  },
  {
   "cell_type": "code",
   "execution_count": 2,
   "metadata": {},
   "outputs": [],
   "source": [
    "hypothesis = pd.read_csv('/datasets/hypothesis.csv')\n",
    "orders = pd.read_csv('/datasets/orders.csv')\n",
    "visitors = pd.read_csv('/datasets/visitors.csv')"
   ]
  },
  {
   "cell_type": "markdown",
   "metadata": {},
   "source": [
    "<big>Мы загрузили библиотеки и получили три датасета с информацией о проверенных гипотезах, заказах и посетителях сайта.</big>"
   ]
  },
  {
   "cell_type": "markdown",
   "metadata": {},
   "source": [
    "## Предобработка данных"
   ]
  },
  {
   "cell_type": "markdown",
   "metadata": {},
   "source": [
    "### hypothesis"
   ]
  },
  {
   "cell_type": "code",
   "execution_count": 3,
   "metadata": {},
   "outputs": [
    {
     "name": "stdout",
     "output_type": "stream",
     "text": [
      "<class 'pandas.core.frame.DataFrame'>\n",
      "RangeIndex: 9 entries, 0 to 8\n",
      "Data columns (total 5 columns):\n",
      " #   Column      Non-Null Count  Dtype \n",
      "---  ------      --------------  ----- \n",
      " 0   Hypothesis  9 non-null      object\n",
      " 1   Reach       9 non-null      int64 \n",
      " 2   Impact      9 non-null      int64 \n",
      " 3   Confidence  9 non-null      int64 \n",
      " 4   Efforts     9 non-null      int64 \n",
      "dtypes: int64(4), object(1)\n",
      "memory usage: 488.0+ bytes\n"
     ]
    },
    {
     "data": {
      "text/html": [
       "<div>\n",
       "<style scoped>\n",
       "    .dataframe tbody tr th:only-of-type {\n",
       "        vertical-align: middle;\n",
       "    }\n",
       "\n",
       "    .dataframe tbody tr th {\n",
       "        vertical-align: top;\n",
       "    }\n",
       "\n",
       "    .dataframe thead th {\n",
       "        text-align: right;\n",
       "    }\n",
       "</style>\n",
       "<table border=\"1\" class=\"dataframe\">\n",
       "  <thead>\n",
       "    <tr style=\"text-align: right;\">\n",
       "      <th></th>\n",
       "      <th>Hypothesis</th>\n",
       "      <th>Reach</th>\n",
       "      <th>Impact</th>\n",
       "      <th>Confidence</th>\n",
       "      <th>Efforts</th>\n",
       "    </tr>\n",
       "  </thead>\n",
       "  <tbody>\n",
       "    <tr>\n",
       "      <th>0</th>\n",
       "      <td>Добавить два новых канала привлечения трафика, что позволит привлекать на 30% больше пользователей</td>\n",
       "      <td>3</td>\n",
       "      <td>10</td>\n",
       "      <td>8</td>\n",
       "      <td>6</td>\n",
       "    </tr>\n",
       "    <tr>\n",
       "      <th>1</th>\n",
       "      <td>Запустить собственную службу доставки, что сократит срок доставки заказов</td>\n",
       "      <td>2</td>\n",
       "      <td>5</td>\n",
       "      <td>4</td>\n",
       "      <td>10</td>\n",
       "    </tr>\n",
       "    <tr>\n",
       "      <th>2</th>\n",
       "      <td>Добавить блоки рекомендаций товаров на сайт интернет магазина, чтобы повысить конверсию и средни...</td>\n",
       "      <td>8</td>\n",
       "      <td>3</td>\n",
       "      <td>7</td>\n",
       "      <td>3</td>\n",
       "    </tr>\n",
       "    <tr>\n",
       "      <th>3</th>\n",
       "      <td>Изменить структура категорий, что увеличит конверсию, т.к. пользователи быстрее найдут нужный товар</td>\n",
       "      <td>8</td>\n",
       "      <td>3</td>\n",
       "      <td>3</td>\n",
       "      <td>8</td>\n",
       "    </tr>\n",
       "    <tr>\n",
       "      <th>4</th>\n",
       "      <td>Изменить цвет фона главной страницы, чтобы увеличить вовлеченность пользователей</td>\n",
       "      <td>3</td>\n",
       "      <td>1</td>\n",
       "      <td>1</td>\n",
       "      <td>1</td>\n",
       "    </tr>\n",
       "    <tr>\n",
       "      <th>5</th>\n",
       "      <td>Добавить страницу отзывов клиентов о магазине, что позволит увеличить количество заказов</td>\n",
       "      <td>3</td>\n",
       "      <td>2</td>\n",
       "      <td>2</td>\n",
       "      <td>3</td>\n",
       "    </tr>\n",
       "    <tr>\n",
       "      <th>6</th>\n",
       "      <td>Показать на главной странице баннеры с актуальными акциями и распродажами, чтобы увеличить конве...</td>\n",
       "      <td>5</td>\n",
       "      <td>3</td>\n",
       "      <td>8</td>\n",
       "      <td>3</td>\n",
       "    </tr>\n",
       "    <tr>\n",
       "      <th>7</th>\n",
       "      <td>Добавить форму подписки на все основные страницы, чтобы собрать базу клиентов для email-рассылок</td>\n",
       "      <td>10</td>\n",
       "      <td>7</td>\n",
       "      <td>8</td>\n",
       "      <td>5</td>\n",
       "    </tr>\n",
       "    <tr>\n",
       "      <th>8</th>\n",
       "      <td>Запустить акцию, дающую скидку на товар в день рождения</td>\n",
       "      <td>1</td>\n",
       "      <td>9</td>\n",
       "      <td>9</td>\n",
       "      <td>5</td>\n",
       "    </tr>\n",
       "  </tbody>\n",
       "</table>\n",
       "</div>"
      ],
      "text/plain": [
       "                                                                                            Hypothesis  \\\n",
       "0   Добавить два новых канала привлечения трафика, что позволит привлекать на 30% больше пользователей   \n",
       "1                            Запустить собственную службу доставки, что сократит срок доставки заказов   \n",
       "2  Добавить блоки рекомендаций товаров на сайт интернет магазина, чтобы повысить конверсию и средни...   \n",
       "3  Изменить структура категорий, что увеличит конверсию, т.к. пользователи быстрее найдут нужный товар   \n",
       "4                     Изменить цвет фона главной страницы, чтобы увеличить вовлеченность пользователей   \n",
       "5             Добавить страницу отзывов клиентов о магазине, что позволит увеличить количество заказов   \n",
       "6  Показать на главной странице баннеры с актуальными акциями и распродажами, чтобы увеличить конве...   \n",
       "7     Добавить форму подписки на все основные страницы, чтобы собрать базу клиентов для email-рассылок   \n",
       "8                                              Запустить акцию, дающую скидку на товар в день рождения   \n",
       "\n",
       "   Reach  Impact  Confidence  Efforts  \n",
       "0      3      10           8        6  \n",
       "1      2       5           4       10  \n",
       "2      8       3           7        3  \n",
       "3      8       3           3        8  \n",
       "4      3       1           1        1  \n",
       "5      3       2           2        3  \n",
       "6      5       3           8        3  \n",
       "7     10       7           8        5  \n",
       "8      1       9           9        5  "
      ]
     },
     "execution_count": 3,
     "metadata": {},
     "output_type": "execute_result"
    }
   ],
   "source": [
    "hypothesis.info()\n",
    "hypothesis"
   ]
  },
  {
   "cell_type": "code",
   "execution_count": 4,
   "metadata": {},
   "outputs": [
    {
     "data": {
      "text/plain": [
       "0"
      ]
     },
     "execution_count": 4,
     "metadata": {},
     "output_type": "execute_result"
    }
   ],
   "source": [
    "hypothesis.duplicated().sum() #Дубликатов нет"
   ]
  },
  {
   "cell_type": "code",
   "execution_count": 5,
   "metadata": {},
   "outputs": [],
   "source": [
    "hypothesis.columns = hypothesis.columns.str.lower() #Привели столбцы к snake_case"
   ]
  },
  {
   "cell_type": "code",
   "execution_count": 6,
   "metadata": {},
   "outputs": [
    {
     "name": "stdout",
     "output_type": "stream",
     "text": [
      "<class 'pandas.core.frame.DataFrame'>\n",
      "RangeIndex: 9 entries, 0 to 8\n",
      "Data columns (total 5 columns):\n",
      " #   Column      Non-Null Count  Dtype \n",
      "---  ------      --------------  ----- \n",
      " 0   hypothesis  9 non-null      object\n",
      " 1   reach       9 non-null      int64 \n",
      " 2   impact      9 non-null      int64 \n",
      " 3   confidence  9 non-null      int64 \n",
      " 4   efforts     9 non-null      int64 \n",
      "dtypes: int64(4), object(1)\n",
      "memory usage: 488.0+ bytes\n"
     ]
    }
   ],
   "source": [
    "hypothesis.info()"
   ]
  },
  {
   "cell_type": "code",
   "execution_count": 7,
   "metadata": {
    "scrolled": true
   },
   "outputs": [
    {
     "data": {
      "text/plain": [
       "hypothesis    0\n",
       "reach         0\n",
       "impact        0\n",
       "confidence    0\n",
       "efforts       0\n",
       "dtype: int64"
      ]
     },
     "execution_count": 7,
     "metadata": {},
     "output_type": "execute_result"
    }
   ],
   "source": [
    "hypothesis.isna().sum() #Пропусков нет"
   ]
  },
  {
   "cell_type": "markdown",
   "metadata": {},
   "source": [
    "### orders"
   ]
  },
  {
   "cell_type": "code",
   "execution_count": 8,
   "metadata": {},
   "outputs": [
    {
     "name": "stdout",
     "output_type": "stream",
     "text": [
      "<class 'pandas.core.frame.DataFrame'>\n",
      "RangeIndex: 1197 entries, 0 to 1196\n",
      "Data columns (total 5 columns):\n",
      " #   Column         Non-Null Count  Dtype \n",
      "---  ------         --------------  ----- \n",
      " 0   transactionId  1197 non-null   int64 \n",
      " 1   visitorId      1197 non-null   int64 \n",
      " 2   date           1197 non-null   object\n",
      " 3   revenue        1197 non-null   int64 \n",
      " 4   group          1197 non-null   object\n",
      "dtypes: int64(3), object(2)\n",
      "memory usage: 46.9+ KB\n"
     ]
    },
    {
     "data": {
      "text/html": [
       "<div>\n",
       "<style scoped>\n",
       "    .dataframe tbody tr th:only-of-type {\n",
       "        vertical-align: middle;\n",
       "    }\n",
       "\n",
       "    .dataframe tbody tr th {\n",
       "        vertical-align: top;\n",
       "    }\n",
       "\n",
       "    .dataframe thead th {\n",
       "        text-align: right;\n",
       "    }\n",
       "</style>\n",
       "<table border=\"1\" class=\"dataframe\">\n",
       "  <thead>\n",
       "    <tr style=\"text-align: right;\">\n",
       "      <th></th>\n",
       "      <th>transactionId</th>\n",
       "      <th>visitorId</th>\n",
       "      <th>date</th>\n",
       "      <th>revenue</th>\n",
       "      <th>group</th>\n",
       "    </tr>\n",
       "  </thead>\n",
       "  <tbody>\n",
       "    <tr>\n",
       "      <th>0</th>\n",
       "      <td>3667963787</td>\n",
       "      <td>3312258926</td>\n",
       "      <td>2019-08-15</td>\n",
       "      <td>1650</td>\n",
       "      <td>B</td>\n",
       "    </tr>\n",
       "    <tr>\n",
       "      <th>1</th>\n",
       "      <td>2804400009</td>\n",
       "      <td>3642806036</td>\n",
       "      <td>2019-08-15</td>\n",
       "      <td>730</td>\n",
       "      <td>B</td>\n",
       "    </tr>\n",
       "    <tr>\n",
       "      <th>2</th>\n",
       "      <td>2961555356</td>\n",
       "      <td>4069496402</td>\n",
       "      <td>2019-08-15</td>\n",
       "      <td>400</td>\n",
       "      <td>A</td>\n",
       "    </tr>\n",
       "    <tr>\n",
       "      <th>3</th>\n",
       "      <td>3797467345</td>\n",
       "      <td>1196621759</td>\n",
       "      <td>2019-08-15</td>\n",
       "      <td>9759</td>\n",
       "      <td>B</td>\n",
       "    </tr>\n",
       "    <tr>\n",
       "      <th>4</th>\n",
       "      <td>2282983706</td>\n",
       "      <td>2322279887</td>\n",
       "      <td>2019-08-15</td>\n",
       "      <td>2308</td>\n",
       "      <td>B</td>\n",
       "    </tr>\n",
       "    <tr>\n",
       "      <th>...</th>\n",
       "      <td>...</td>\n",
       "      <td>...</td>\n",
       "      <td>...</td>\n",
       "      <td>...</td>\n",
       "      <td>...</td>\n",
       "    </tr>\n",
       "    <tr>\n",
       "      <th>1192</th>\n",
       "      <td>2662137336</td>\n",
       "      <td>3733762160</td>\n",
       "      <td>2019-08-14</td>\n",
       "      <td>6490</td>\n",
       "      <td>B</td>\n",
       "    </tr>\n",
       "    <tr>\n",
       "      <th>1193</th>\n",
       "      <td>2203539145</td>\n",
       "      <td>370388673</td>\n",
       "      <td>2019-08-14</td>\n",
       "      <td>3190</td>\n",
       "      <td>A</td>\n",
       "    </tr>\n",
       "    <tr>\n",
       "      <th>1194</th>\n",
       "      <td>1807773912</td>\n",
       "      <td>573423106</td>\n",
       "      <td>2019-08-14</td>\n",
       "      <td>10550</td>\n",
       "      <td>A</td>\n",
       "    </tr>\n",
       "    <tr>\n",
       "      <th>1195</th>\n",
       "      <td>1947021204</td>\n",
       "      <td>1614305549</td>\n",
       "      <td>2019-08-14</td>\n",
       "      <td>100</td>\n",
       "      <td>A</td>\n",
       "    </tr>\n",
       "    <tr>\n",
       "      <th>1196</th>\n",
       "      <td>3936777065</td>\n",
       "      <td>2108080724</td>\n",
       "      <td>2019-08-15</td>\n",
       "      <td>202740</td>\n",
       "      <td>B</td>\n",
       "    </tr>\n",
       "  </tbody>\n",
       "</table>\n",
       "<p>1197 rows × 5 columns</p>\n",
       "</div>"
      ],
      "text/plain": [
       "      transactionId   visitorId        date  revenue group\n",
       "0        3667963787  3312258926  2019-08-15     1650     B\n",
       "1        2804400009  3642806036  2019-08-15      730     B\n",
       "2        2961555356  4069496402  2019-08-15      400     A\n",
       "3        3797467345  1196621759  2019-08-15     9759     B\n",
       "4        2282983706  2322279887  2019-08-15     2308     B\n",
       "...             ...         ...         ...      ...   ...\n",
       "1192     2662137336  3733762160  2019-08-14     6490     B\n",
       "1193     2203539145   370388673  2019-08-14     3190     A\n",
       "1194     1807773912   573423106  2019-08-14    10550     A\n",
       "1195     1947021204  1614305549  2019-08-14      100     A\n",
       "1196     3936777065  2108080724  2019-08-15   202740     B\n",
       "\n",
       "[1197 rows x 5 columns]"
      ]
     },
     "execution_count": 8,
     "metadata": {},
     "output_type": "execute_result"
    }
   ],
   "source": [
    "orders.info()\n",
    "orders"
   ]
  },
  {
   "cell_type": "code",
   "execution_count": 9,
   "metadata": {},
   "outputs": [
    {
     "data": {
      "text/plain": [
       "0"
      ]
     },
     "execution_count": 9,
     "metadata": {},
     "output_type": "execute_result"
    }
   ],
   "source": [
    "orders.duplicated().sum() #Дубликатов нет, все столбцы по snake_case."
   ]
  },
  {
   "cell_type": "code",
   "execution_count": 10,
   "metadata": {},
   "outputs": [],
   "source": [
    "orders.columns=['orderId','userId','date','revenue','group']"
   ]
  },
  {
   "cell_type": "code",
   "execution_count": 11,
   "metadata": {},
   "outputs": [
    {
     "name": "stdout",
     "output_type": "stream",
     "text": [
      "<class 'pandas.core.frame.DataFrame'>\n",
      "RangeIndex: 1197 entries, 0 to 1196\n",
      "Data columns (total 5 columns):\n",
      " #   Column   Non-Null Count  Dtype \n",
      "---  ------   --------------  ----- \n",
      " 0   orderId  1197 non-null   int64 \n",
      " 1   userId   1197 non-null   int64 \n",
      " 2   date     1197 non-null   object\n",
      " 3   revenue  1197 non-null   int64 \n",
      " 4   group    1197 non-null   object\n",
      "dtypes: int64(3), object(2)\n",
      "memory usage: 46.9+ KB\n"
     ]
    }
   ],
   "source": [
    "orders.info()"
   ]
  },
  {
   "cell_type": "code",
   "execution_count": 12,
   "metadata": {},
   "outputs": [],
   "source": [
    "orders['date'] = pd.to_datetime(orders['date']) #Привели дату к datetime"
   ]
  },
  {
   "cell_type": "code",
   "execution_count": 13,
   "metadata": {},
   "outputs": [
    {
     "data": {
      "text/plain": [
       "orderId    0\n",
       "userId     0\n",
       "date       0\n",
       "revenue    0\n",
       "group      0\n",
       "dtype: int64"
      ]
     },
     "execution_count": 13,
     "metadata": {},
     "output_type": "execute_result"
    }
   ],
   "source": [
    "orders.isna().sum() #Пропусков нет"
   ]
  },
  {
   "cell_type": "code",
   "execution_count": 14,
   "metadata": {},
   "outputs": [
    {
     "data": {
      "text/plain": [
       "array(['B', 'A'], dtype=object)"
      ]
     },
     "execution_count": 14,
     "metadata": {},
     "output_type": "execute_result"
    }
   ],
   "source": [
    "orders['group'].unique()"
   ]
  },
  {
   "cell_type": "code",
   "execution_count": 15,
   "metadata": {},
   "outputs": [
    {
     "data": {
      "text/plain": [
       "Timestamp('2019-08-01 00:00:00')"
      ]
     },
     "metadata": {},
     "output_type": "display_data"
    },
    {
     "data": {
      "text/plain": [
       "Timestamp('2019-08-31 00:00:00')"
      ]
     },
     "metadata": {},
     "output_type": "display_data"
    }
   ],
   "source": [
    "display(\n",
    "    orders['date'].min(),\n",
    "    orders['date'].max()\n",
    ")\n"
   ]
  },
  {
   "cell_type": "markdown",
   "metadata": {},
   "source": [
    "### visitors"
   ]
  },
  {
   "cell_type": "code",
   "execution_count": 16,
   "metadata": {},
   "outputs": [
    {
     "name": "stdout",
     "output_type": "stream",
     "text": [
      "<class 'pandas.core.frame.DataFrame'>\n",
      "RangeIndex: 62 entries, 0 to 61\n",
      "Data columns (total 3 columns):\n",
      " #   Column    Non-Null Count  Dtype \n",
      "---  ------    --------------  ----- \n",
      " 0   date      62 non-null     object\n",
      " 1   group     62 non-null     object\n",
      " 2   visitors  62 non-null     int64 \n",
      "dtypes: int64(1), object(2)\n",
      "memory usage: 1.6+ KB\n"
     ]
    },
    {
     "data": {
      "text/html": [
       "<div>\n",
       "<style scoped>\n",
       "    .dataframe tbody tr th:only-of-type {\n",
       "        vertical-align: middle;\n",
       "    }\n",
       "\n",
       "    .dataframe tbody tr th {\n",
       "        vertical-align: top;\n",
       "    }\n",
       "\n",
       "    .dataframe thead th {\n",
       "        text-align: right;\n",
       "    }\n",
       "</style>\n",
       "<table border=\"1\" class=\"dataframe\">\n",
       "  <thead>\n",
       "    <tr style=\"text-align: right;\">\n",
       "      <th></th>\n",
       "      <th>date</th>\n",
       "      <th>group</th>\n",
       "      <th>visitors</th>\n",
       "    </tr>\n",
       "  </thead>\n",
       "  <tbody>\n",
       "    <tr>\n",
       "      <th>0</th>\n",
       "      <td>2019-08-01</td>\n",
       "      <td>A</td>\n",
       "      <td>719</td>\n",
       "    </tr>\n",
       "    <tr>\n",
       "      <th>1</th>\n",
       "      <td>2019-08-02</td>\n",
       "      <td>A</td>\n",
       "      <td>619</td>\n",
       "    </tr>\n",
       "    <tr>\n",
       "      <th>2</th>\n",
       "      <td>2019-08-03</td>\n",
       "      <td>A</td>\n",
       "      <td>507</td>\n",
       "    </tr>\n",
       "    <tr>\n",
       "      <th>3</th>\n",
       "      <td>2019-08-04</td>\n",
       "      <td>A</td>\n",
       "      <td>717</td>\n",
       "    </tr>\n",
       "    <tr>\n",
       "      <th>4</th>\n",
       "      <td>2019-08-05</td>\n",
       "      <td>A</td>\n",
       "      <td>756</td>\n",
       "    </tr>\n",
       "    <tr>\n",
       "      <th>...</th>\n",
       "      <td>...</td>\n",
       "      <td>...</td>\n",
       "      <td>...</td>\n",
       "    </tr>\n",
       "    <tr>\n",
       "      <th>57</th>\n",
       "      <td>2019-08-27</td>\n",
       "      <td>B</td>\n",
       "      <td>720</td>\n",
       "    </tr>\n",
       "    <tr>\n",
       "      <th>58</th>\n",
       "      <td>2019-08-28</td>\n",
       "      <td>B</td>\n",
       "      <td>654</td>\n",
       "    </tr>\n",
       "    <tr>\n",
       "      <th>59</th>\n",
       "      <td>2019-08-29</td>\n",
       "      <td>B</td>\n",
       "      <td>531</td>\n",
       "    </tr>\n",
       "    <tr>\n",
       "      <th>60</th>\n",
       "      <td>2019-08-30</td>\n",
       "      <td>B</td>\n",
       "      <td>490</td>\n",
       "    </tr>\n",
       "    <tr>\n",
       "      <th>61</th>\n",
       "      <td>2019-08-31</td>\n",
       "      <td>B</td>\n",
       "      <td>718</td>\n",
       "    </tr>\n",
       "  </tbody>\n",
       "</table>\n",
       "<p>62 rows × 3 columns</p>\n",
       "</div>"
      ],
      "text/plain": [
       "          date group  visitors\n",
       "0   2019-08-01     A       719\n",
       "1   2019-08-02     A       619\n",
       "2   2019-08-03     A       507\n",
       "3   2019-08-04     A       717\n",
       "4   2019-08-05     A       756\n",
       "..         ...   ...       ...\n",
       "57  2019-08-27     B       720\n",
       "58  2019-08-28     B       654\n",
       "59  2019-08-29     B       531\n",
       "60  2019-08-30     B       490\n",
       "61  2019-08-31     B       718\n",
       "\n",
       "[62 rows x 3 columns]"
      ]
     },
     "execution_count": 16,
     "metadata": {},
     "output_type": "execute_result"
    }
   ],
   "source": [
    "visitors.info()\n",
    "visitors"
   ]
  },
  {
   "cell_type": "code",
   "execution_count": 17,
   "metadata": {},
   "outputs": [
    {
     "data": {
      "text/plain": [
       "0"
      ]
     },
     "execution_count": 17,
     "metadata": {},
     "output_type": "execute_result"
    }
   ],
   "source": [
    "visitors.duplicated().sum() #тоже все в порядке"
   ]
  },
  {
   "cell_type": "code",
   "execution_count": 18,
   "metadata": {},
   "outputs": [],
   "source": [
    "visitors['date'] = pd.to_datetime(visitors['date']) #Привели дату к datetime"
   ]
  },
  {
   "cell_type": "code",
   "execution_count": 19,
   "metadata": {},
   "outputs": [
    {
     "data": {
      "text/plain": [
       "date        0\n",
       "group       0\n",
       "visitors    0\n",
       "dtype: int64"
      ]
     },
     "execution_count": 19,
     "metadata": {},
     "output_type": "execute_result"
    }
   ],
   "source": [
    "visitors.isna().sum()"
   ]
  },
  {
   "cell_type": "code",
   "execution_count": 20,
   "metadata": {
    "scrolled": true
   },
   "outputs": [
    {
     "data": {
      "text/plain": [
       "array(['A', 'B'], dtype=object)"
      ]
     },
     "execution_count": 20,
     "metadata": {},
     "output_type": "execute_result"
    }
   ],
   "source": [
    "visitors['group'].unique()"
   ]
  },
  {
   "cell_type": "code",
   "execution_count": 21,
   "metadata": {},
   "outputs": [
    {
     "data": {
      "text/plain": [
       "Timestamp('2019-08-01 00:00:00')"
      ]
     },
     "metadata": {},
     "output_type": "display_data"
    },
    {
     "data": {
      "text/plain": [
       "Timestamp('2019-08-31 00:00:00')"
      ]
     },
     "metadata": {},
     "output_type": "display_data"
    }
   ],
   "source": [
    "display(\n",
    "    visitors['date'].min(),\n",
    "    visitors['date'].max()\n",
    ")"
   ]
  },
  {
   "cell_type": "markdown",
   "metadata": {},
   "source": [
    "Период посещений и заказов совпадает"
   ]
  },
  {
   "cell_type": "markdown",
   "metadata": {},
   "source": [
    "### Вывод"
   ]
  },
  {
   "cell_type": "markdown",
   "metadata": {},
   "source": [
    "Мы проверили данные на дубликаты и пропущенные значения, привели названия столбцов к snake_case, поменяли тип данных у даты."
   ]
  },
  {
   "cell_type": "markdown",
   "metadata": {},
   "source": [
    "### Дополнительные исследования."
   ]
  },
  {
   "cell_type": "code",
   "execution_count": 22,
   "metadata": {},
   "outputs": [
    {
     "data": {
      "text/plain": [
       "503"
      ]
     },
     "metadata": {},
     "output_type": "display_data"
    },
    {
     "data": {
      "text/plain": [
       "586"
      ]
     },
     "metadata": {},
     "output_type": "display_data"
    }
   ],
   "source": [
    "display(\n",
    "orders.query('group == \"A\"')['userId'].nunique(),\n",
    "orders.query('group == \"B\"')['userId'].nunique()\n",
    ")"
   ]
  },
  {
   "cell_type": "code",
   "execution_count": 23,
   "metadata": {},
   "outputs": [
    {
     "data": {
      "text/plain": [
       "89"
      ]
     },
     "execution_count": 23,
     "metadata": {},
     "output_type": "execute_result"
    }
   ],
   "source": [
    "orders.query('group == \"A\"')['userId'].isin(orders.query('group == \"B\"')['userId']).sum()"
   ]
  },
  {
   "cell_type": "markdown",
   "metadata": {},
   "source": [
    "Действительно, некоторые пользователи попали в обе группы..."
   ]
  },
  {
   "cell_type": "code",
   "execution_count": 24,
   "metadata": {},
   "outputs": [
    {
     "data": {
      "text/plain": [
       "<AxesSubplot:xlabel='date'>"
      ]
     },
     "execution_count": 24,
     "metadata": {},
     "output_type": "execute_result"
    },
    {
     "data": {
      "image/png": "[encoded data removed]",
      "text/plain": [
       "<Figure size 432x288 with 1 Axes>"
      ]
     },
     "metadata": {
      "needs_background": "light"
     },
     "output_type": "display_data"
    }
   ],
   "source": [
    "visitors_per_day_a = visitors.query('group == \"A\"').groupby('date').agg({'visitors':'sum'})\n",
    "visitors_per_day_b = visitors.query('group == \"B\"').groupby('date').agg({'visitors':'sum'})\n",
    "visitors_per_day = visitors_per_day_a.merge(visitors_per_day_b, on='date', how='outer')\n",
    "visitors_per_day.plot()"
   ]
  },
  {
   "cell_type": "markdown",
   "metadata": {},
   "source": [
    "Примерно одинаковое количество посетителей в обоих группах."
   ]
  },
  {
   "cell_type": "markdown",
   "metadata": {},
   "source": [
    "## Приоритезация гипотез"
   ]
  },
  {
   "cell_type": "markdown",
   "metadata": {},
   "source": [
    "В файле /datasets/hypothesis.csv 9 гипотез по увеличению выручки интернет-магазина с указанными параметрами Reach, Impact, Confidence, Effort.\n",
    "\n",
    "**Задача**\n",
    "- Примените фреймворк ICE для приоритизации гипотез. Отсортируйте их по убыванию приоритета.\n",
    "- Примените фреймворк RICE для приоритизации гипотез. Отсортируйте их по убыванию приоритета.\n",
    "- Укажите, как изменилась приоритизация гипотез при применении RICE вместо ICE. Объясните, почему так произошло.\n"
   ]
  },
  {
   "cell_type": "markdown",
   "metadata": {},
   "source": [
    "<big>Фреймворк ICE включает в себя отношение влияния x уверенность к усилиям на реализацию. Фреймворк RICE учитывает так же охват пользователей x фреймворк ICE."
   ]
  },
  {
   "cell_type": "code",
   "execution_count": 25,
   "metadata": {
    "scrolled": true
   },
   "outputs": [
    {
     "data": {
      "text/html": [
       "<div>\n",
       "<style scoped>\n",
       "    .dataframe tbody tr th:only-of-type {\n",
       "        vertical-align: middle;\n",
       "    }\n",
       "\n",
       "    .dataframe tbody tr th {\n",
       "        vertical-align: top;\n",
       "    }\n",
       "\n",
       "    .dataframe thead th {\n",
       "        text-align: right;\n",
       "    }\n",
       "</style>\n",
       "<table border=\"1\" class=\"dataframe\">\n",
       "  <thead>\n",
       "    <tr style=\"text-align: right;\">\n",
       "      <th></th>\n",
       "      <th>hypothesis</th>\n",
       "      <th>reach</th>\n",
       "      <th>impact</th>\n",
       "      <th>confidence</th>\n",
       "      <th>efforts</th>\n",
       "      <th>ICE</th>\n",
       "    </tr>\n",
       "  </thead>\n",
       "  <tbody>\n",
       "    <tr>\n",
       "      <th>8</th>\n",
       "      <td>Запустить акцию, дающую скидку на товар в день рождения</td>\n",
       "      <td>1</td>\n",
       "      <td>9</td>\n",
       "      <td>9</td>\n",
       "      <td>5</td>\n",
       "      <td>16.20</td>\n",
       "    </tr>\n",
       "    <tr>\n",
       "      <th>0</th>\n",
       "      <td>Добавить два новых канала привлечения трафика, что позволит привлекать на 30% больше пользователей</td>\n",
       "      <td>3</td>\n",
       "      <td>10</td>\n",
       "      <td>8</td>\n",
       "      <td>6</td>\n",
       "      <td>13.33</td>\n",
       "    </tr>\n",
       "    <tr>\n",
       "      <th>7</th>\n",
       "      <td>Добавить форму подписки на все основные страницы, чтобы собрать базу клиентов для email-рассылок</td>\n",
       "      <td>10</td>\n",
       "      <td>7</td>\n",
       "      <td>8</td>\n",
       "      <td>5</td>\n",
       "      <td>11.20</td>\n",
       "    </tr>\n",
       "    <tr>\n",
       "      <th>6</th>\n",
       "      <td>Показать на главной странице баннеры с актуальными акциями и распродажами, чтобы увеличить конве...</td>\n",
       "      <td>5</td>\n",
       "      <td>3</td>\n",
       "      <td>8</td>\n",
       "      <td>3</td>\n",
       "      <td>8.00</td>\n",
       "    </tr>\n",
       "    <tr>\n",
       "      <th>2</th>\n",
       "      <td>Добавить блоки рекомендаций товаров на сайт интернет магазина, чтобы повысить конверсию и средни...</td>\n",
       "      <td>8</td>\n",
       "      <td>3</td>\n",
       "      <td>7</td>\n",
       "      <td>3</td>\n",
       "      <td>7.00</td>\n",
       "    </tr>\n",
       "    <tr>\n",
       "      <th>1</th>\n",
       "      <td>Запустить собственную службу доставки, что сократит срок доставки заказов</td>\n",
       "      <td>2</td>\n",
       "      <td>5</td>\n",
       "      <td>4</td>\n",
       "      <td>10</td>\n",
       "      <td>2.00</td>\n",
       "    </tr>\n",
       "    <tr>\n",
       "      <th>5</th>\n",
       "      <td>Добавить страницу отзывов клиентов о магазине, что позволит увеличить количество заказов</td>\n",
       "      <td>3</td>\n",
       "      <td>2</td>\n",
       "      <td>2</td>\n",
       "      <td>3</td>\n",
       "      <td>1.33</td>\n",
       "    </tr>\n",
       "    <tr>\n",
       "      <th>3</th>\n",
       "      <td>Изменить структура категорий, что увеличит конверсию, т.к. пользователи быстрее найдут нужный товар</td>\n",
       "      <td>8</td>\n",
       "      <td>3</td>\n",
       "      <td>3</td>\n",
       "      <td>8</td>\n",
       "      <td>1.12</td>\n",
       "    </tr>\n",
       "    <tr>\n",
       "      <th>4</th>\n",
       "      <td>Изменить цвет фона главной страницы, чтобы увеличить вовлеченность пользователей</td>\n",
       "      <td>3</td>\n",
       "      <td>1</td>\n",
       "      <td>1</td>\n",
       "      <td>1</td>\n",
       "      <td>1.00</td>\n",
       "    </tr>\n",
       "  </tbody>\n",
       "</table>\n",
       "</div>"
      ],
      "text/plain": [
       "                                                                                            hypothesis  \\\n",
       "8                                              Запустить акцию, дающую скидку на товар в день рождения   \n",
       "0   Добавить два новых канала привлечения трафика, что позволит привлекать на 30% больше пользователей   \n",
       "7     Добавить форму подписки на все основные страницы, чтобы собрать базу клиентов для email-рассылок   \n",
       "6  Показать на главной странице баннеры с актуальными акциями и распродажами, чтобы увеличить конве...   \n",
       "2  Добавить блоки рекомендаций товаров на сайт интернет магазина, чтобы повысить конверсию и средни...   \n",
       "1                            Запустить собственную службу доставки, что сократит срок доставки заказов   \n",
       "5             Добавить страницу отзывов клиентов о магазине, что позволит увеличить количество заказов   \n",
       "3  Изменить структура категорий, что увеличит конверсию, т.к. пользователи быстрее найдут нужный товар   \n",
       "4                     Изменить цвет фона главной страницы, чтобы увеличить вовлеченность пользователей   \n",
       "\n",
       "   reach  impact  confidence  efforts    ICE  \n",
       "8      1       9           9        5  16.20  \n",
       "0      3      10           8        6  13.33  \n",
       "7     10       7           8        5  11.20  \n",
       "6      5       3           8        3   8.00  \n",
       "2      8       3           7        3   7.00  \n",
       "1      2       5           4       10   2.00  \n",
       "5      3       2           2        3   1.33  \n",
       "3      8       3           3        8   1.12  \n",
       "4      3       1           1        1   1.00  "
      ]
     },
     "execution_count": 25,
     "metadata": {},
     "output_type": "execute_result"
    }
   ],
   "source": [
    "hypothesis['ICE'] = round((hypothesis['impact'] * hypothesis['confidence']) / hypothesis['efforts'],2)\n",
    "hypothesis.sort_values(by='ICE',ascending=False)"
   ]
  },
  {
   "cell_type": "markdown",
   "metadata": {},
   "source": [
    "Топ-3 гипотез: 8, 0, 7"
   ]
  },
  {
   "cell_type": "code",
   "execution_count": 26,
   "metadata": {
    "scrolled": true
   },
   "outputs": [
    {
     "data": {
      "text/html": [
       "<div>\n",
       "<style scoped>\n",
       "    .dataframe tbody tr th:only-of-type {\n",
       "        vertical-align: middle;\n",
       "    }\n",
       "\n",
       "    .dataframe tbody tr th {\n",
       "        vertical-align: top;\n",
       "    }\n",
       "\n",
       "    .dataframe thead th {\n",
       "        text-align: right;\n",
       "    }\n",
       "</style>\n",
       "<table border=\"1\" class=\"dataframe\">\n",
       "  <thead>\n",
       "    <tr style=\"text-align: right;\">\n",
       "      <th></th>\n",
       "      <th>hypothesis</th>\n",
       "      <th>reach</th>\n",
       "      <th>impact</th>\n",
       "      <th>confidence</th>\n",
       "      <th>efforts</th>\n",
       "      <th>ICE</th>\n",
       "      <th>RICE</th>\n",
       "    </tr>\n",
       "  </thead>\n",
       "  <tbody>\n",
       "    <tr>\n",
       "      <th>7</th>\n",
       "      <td>Добавить форму подписки на все основные страницы, чтобы собрать базу клиентов для email-рассылок</td>\n",
       "      <td>10</td>\n",
       "      <td>7</td>\n",
       "      <td>8</td>\n",
       "      <td>5</td>\n",
       "      <td>11.20</td>\n",
       "      <td>112.0</td>\n",
       "    </tr>\n",
       "    <tr>\n",
       "      <th>2</th>\n",
       "      <td>Добавить блоки рекомендаций товаров на сайт интернет магазина, чтобы повысить конверсию и средни...</td>\n",
       "      <td>8</td>\n",
       "      <td>3</td>\n",
       "      <td>7</td>\n",
       "      <td>3</td>\n",
       "      <td>7.00</td>\n",
       "      <td>56.0</td>\n",
       "    </tr>\n",
       "    <tr>\n",
       "      <th>0</th>\n",
       "      <td>Добавить два новых канала привлечения трафика, что позволит привлекать на 30% больше пользователей</td>\n",
       "      <td>3</td>\n",
       "      <td>10</td>\n",
       "      <td>8</td>\n",
       "      <td>6</td>\n",
       "      <td>13.33</td>\n",
       "      <td>40.0</td>\n",
       "    </tr>\n",
       "    <tr>\n",
       "      <th>6</th>\n",
       "      <td>Показать на главной странице баннеры с актуальными акциями и распродажами, чтобы увеличить конве...</td>\n",
       "      <td>5</td>\n",
       "      <td>3</td>\n",
       "      <td>8</td>\n",
       "      <td>3</td>\n",
       "      <td>8.00</td>\n",
       "      <td>40.0</td>\n",
       "    </tr>\n",
       "    <tr>\n",
       "      <th>8</th>\n",
       "      <td>Запустить акцию, дающую скидку на товар в день рождения</td>\n",
       "      <td>1</td>\n",
       "      <td>9</td>\n",
       "      <td>9</td>\n",
       "      <td>5</td>\n",
       "      <td>16.20</td>\n",
       "      <td>16.2</td>\n",
       "    </tr>\n",
       "    <tr>\n",
       "      <th>3</th>\n",
       "      <td>Изменить структура категорий, что увеличит конверсию, т.к. пользователи быстрее найдут нужный товар</td>\n",
       "      <td>8</td>\n",
       "      <td>3</td>\n",
       "      <td>3</td>\n",
       "      <td>8</td>\n",
       "      <td>1.12</td>\n",
       "      <td>9.0</td>\n",
       "    </tr>\n",
       "    <tr>\n",
       "      <th>1</th>\n",
       "      <td>Запустить собственную службу доставки, что сократит срок доставки заказов</td>\n",
       "      <td>2</td>\n",
       "      <td>5</td>\n",
       "      <td>4</td>\n",
       "      <td>10</td>\n",
       "      <td>2.00</td>\n",
       "      <td>4.0</td>\n",
       "    </tr>\n",
       "    <tr>\n",
       "      <th>5</th>\n",
       "      <td>Добавить страницу отзывов клиентов о магазине, что позволит увеличить количество заказов</td>\n",
       "      <td>3</td>\n",
       "      <td>2</td>\n",
       "      <td>2</td>\n",
       "      <td>3</td>\n",
       "      <td>1.33</td>\n",
       "      <td>4.0</td>\n",
       "    </tr>\n",
       "    <tr>\n",
       "      <th>4</th>\n",
       "      <td>Изменить цвет фона главной страницы, чтобы увеличить вовлеченность пользователей</td>\n",
       "      <td>3</td>\n",
       "      <td>1</td>\n",
       "      <td>1</td>\n",
       "      <td>1</td>\n",
       "      <td>1.00</td>\n",
       "      <td>3.0</td>\n",
       "    </tr>\n",
       "  </tbody>\n",
       "</table>\n",
       "</div>"
      ],
      "text/plain": [
       "                                                                                            hypothesis  \\\n",
       "7     Добавить форму подписки на все основные страницы, чтобы собрать базу клиентов для email-рассылок   \n",
       "2  Добавить блоки рекомендаций товаров на сайт интернет магазина, чтобы повысить конверсию и средни...   \n",
       "0   Добавить два новых канала привлечения трафика, что позволит привлекать на 30% больше пользователей   \n",
       "6  Показать на главной странице баннеры с актуальными акциями и распродажами, чтобы увеличить конве...   \n",
       "8                                              Запустить акцию, дающую скидку на товар в день рождения   \n",
       "3  Изменить структура категорий, что увеличит конверсию, т.к. пользователи быстрее найдут нужный товар   \n",
       "1                            Запустить собственную службу доставки, что сократит срок доставки заказов   \n",
       "5             Добавить страницу отзывов клиентов о магазине, что позволит увеличить количество заказов   \n",
       "4                     Изменить цвет фона главной страницы, чтобы увеличить вовлеченность пользователей   \n",
       "\n",
       "   reach  impact  confidence  efforts    ICE   RICE  \n",
       "7     10       7           8        5  11.20  112.0  \n",
       "2      8       3           7        3   7.00   56.0  \n",
       "0      3      10           8        6  13.33   40.0  \n",
       "6      5       3           8        3   8.00   40.0  \n",
       "8      1       9           9        5  16.20   16.2  \n",
       "3      8       3           3        8   1.12    9.0  \n",
       "1      2       5           4       10   2.00    4.0  \n",
       "5      3       2           2        3   1.33    4.0  \n",
       "4      3       1           1        1   1.00    3.0  "
      ]
     },
     "execution_count": 26,
     "metadata": {},
     "output_type": "execute_result"
    }
   ],
   "source": [
    "hypothesis['RICE'] = (hypothesis['reach'] * hypothesis['impact'] * hypothesis['confidence']) / hypothesis['efforts']\n",
    "hypothesis.sort_values(by='RICE',ascending=False)"
   ]
  },
  {
   "cell_type": "markdown",
   "metadata": {},
   "source": [
    "Топ-3 гипотез: 7, 2, 0."
   ]
  },
  {
   "cell_type": "markdown",
   "metadata": {},
   "source": [
    "Изза огромного охвата(10) гипотезы 7 и гипотезы 2(8), она вырвалась вперед. В тоже время гипотеза 8 исчезла из топа, по причине низкого охвата(1)."
   ]
  },
  {
   "cell_type": "markdown",
   "metadata": {},
   "source": [
    "### Вывод"
   ]
  },
  {
   "cell_type": "markdown",
   "metadata": {},
   "source": [
    "<big>Мы протестировали гипотезы по фреймворкам ICE и RICE. Самые перспективные гипотезы 7, 2 и 0. Стоит сосредоточиться на их тестировании - по прогнозам, от них будет наибольшая польза.</big>"
   ]
  },
  {
   "cell_type": "markdown",
   "metadata": {},
   "source": [
    "## Анализ A/B-теста"
   ]
  },
  {
   "cell_type": "markdown",
   "metadata": {},
   "source": [
    "Проанализируйте A/B-тест:\n",
    "- Постройте график кумулятивной выручки по группам. Сделайте выводы и предположения.\n",
    "- Постройте график кумулятивного среднего чека по группам. Сделайте выводы и предположения.\n",
    "- Постройте график относительного изменения кумулятивного среднего чека группы B к группе A. Сделайте выводы и предположения.\n",
    "- Постройте график кумулятивной конверсии по группам. Сделайте выводы и предположения.\n",
    "- Постройте график относительного изменения кумулятивной конверсии группы B к группе A. Сделайте выводы и предположения."
   ]
  },
  {
   "cell_type": "markdown",
   "metadata": {},
   "source": [
    "### Проверка на равенство долей."
   ]
  },
  {
   "cell_type": "code",
   "execution_count": 52,
   "metadata": {},
   "outputs": [
    {
     "data": {
      "text/html": [
       "<div>\n",
       "<style scoped>\n",
       "    .dataframe tbody tr th:only-of-type {\n",
       "        vertical-align: middle;\n",
       "    }\n",
       "\n",
       "    .dataframe tbody tr th {\n",
       "        vertical-align: top;\n",
       "    }\n",
       "\n",
       "    .dataframe thead th {\n",
       "        text-align: right;\n",
       "    }\n",
       "</style>\n",
       "<table border=\"1\" class=\"dataframe\">\n",
       "  <thead>\n",
       "    <tr style=\"text-align: right;\">\n",
       "      <th></th>\n",
       "      <th>orderId</th>\n",
       "      <th>userId</th>\n",
       "      <th>date</th>\n",
       "      <th>revenue</th>\n",
       "      <th>group</th>\n",
       "    </tr>\n",
       "  </thead>\n",
       "  <tbody>\n",
       "    <tr>\n",
       "      <th>0</th>\n",
       "      <td>3667963787</td>\n",
       "      <td>3312258926</td>\n",
       "      <td>2019-08-15</td>\n",
       "      <td>1650</td>\n",
       "      <td>B</td>\n",
       "    </tr>\n",
       "    <tr>\n",
       "      <th>1</th>\n",
       "      <td>2804400009</td>\n",
       "      <td>3642806036</td>\n",
       "      <td>2019-08-15</td>\n",
       "      <td>730</td>\n",
       "      <td>B</td>\n",
       "    </tr>\n",
       "    <tr>\n",
       "      <th>2</th>\n",
       "      <td>2961555356</td>\n",
       "      <td>4069496402</td>\n",
       "      <td>2019-08-15</td>\n",
       "      <td>400</td>\n",
       "      <td>A</td>\n",
       "    </tr>\n",
       "    <tr>\n",
       "      <th>3</th>\n",
       "      <td>3797467345</td>\n",
       "      <td>1196621759</td>\n",
       "      <td>2019-08-15</td>\n",
       "      <td>9759</td>\n",
       "      <td>B</td>\n",
       "    </tr>\n",
       "    <tr>\n",
       "      <th>4</th>\n",
       "      <td>2282983706</td>\n",
       "      <td>2322279887</td>\n",
       "      <td>2019-08-15</td>\n",
       "      <td>2308</td>\n",
       "      <td>B</td>\n",
       "    </tr>\n",
       "    <tr>\n",
       "      <th>...</th>\n",
       "      <td>...</td>\n",
       "      <td>...</td>\n",
       "      <td>...</td>\n",
       "      <td>...</td>\n",
       "      <td>...</td>\n",
       "    </tr>\n",
       "    <tr>\n",
       "      <th>1192</th>\n",
       "      <td>2662137336</td>\n",
       "      <td>3733762160</td>\n",
       "      <td>2019-08-14</td>\n",
       "      <td>6490</td>\n",
       "      <td>B</td>\n",
       "    </tr>\n",
       "    <tr>\n",
       "      <th>1193</th>\n",
       "      <td>2203539145</td>\n",
       "      <td>370388673</td>\n",
       "      <td>2019-08-14</td>\n",
       "      <td>3190</td>\n",
       "      <td>A</td>\n",
       "    </tr>\n",
       "    <tr>\n",
       "      <th>1194</th>\n",
       "      <td>1807773912</td>\n",
       "      <td>573423106</td>\n",
       "      <td>2019-08-14</td>\n",
       "      <td>10550</td>\n",
       "      <td>A</td>\n",
       "    </tr>\n",
       "    <tr>\n",
       "      <th>1195</th>\n",
       "      <td>1947021204</td>\n",
       "      <td>1614305549</td>\n",
       "      <td>2019-08-14</td>\n",
       "      <td>100</td>\n",
       "      <td>A</td>\n",
       "    </tr>\n",
       "    <tr>\n",
       "      <th>1196</th>\n",
       "      <td>3936777065</td>\n",
       "      <td>2108080724</td>\n",
       "      <td>2019-08-15</td>\n",
       "      <td>202740</td>\n",
       "      <td>B</td>\n",
       "    </tr>\n",
       "  </tbody>\n",
       "</table>\n",
       "<p>1197 rows × 5 columns</p>\n",
       "</div>"
      ],
      "text/plain": [
       "         orderId      userId       date  revenue group\n",
       "0     3667963787  3312258926 2019-08-15     1650     B\n",
       "1     2804400009  3642806036 2019-08-15      730     B\n",
       "2     2961555356  4069496402 2019-08-15      400     A\n",
       "3     3797467345  1196621759 2019-08-15     9759     B\n",
       "4     2282983706  2322279887 2019-08-15     2308     B\n",
       "...          ...         ...        ...      ...   ...\n",
       "1192  2662137336  3733762160 2019-08-14     6490     B\n",
       "1193  2203539145   370388673 2019-08-14     3190     A\n",
       "1194  1807773912   573423106 2019-08-14    10550     A\n",
       "1195  1947021204  1614305549 2019-08-14      100     A\n",
       "1196  3936777065  2108080724 2019-08-15   202740     B\n",
       "\n",
       "[1197 rows x 5 columns]"
      ]
     },
     "execution_count": 52,
     "metadata": {},
     "output_type": "execute_result"
    }
   ],
   "source": [
    "orders"
   ]
  },
  {
   "cell_type": "code",
   "execution_count": 27,
   "metadata": {},
   "outputs": [
    {
     "name": "stdout",
     "output_type": "stream",
     "text": [
      "p-значение:  0.7877913878815532\n",
      "Не получилось отвергнуть нулевую гипотезу, нет оснований считать доли разными\n"
     ]
    }
   ],
   "source": [
    "alpha = .05 # критический уровень статистической значимости\n",
    "successes = np.array([78, 120])\n",
    "trials = np.array([830, 909])\n",
    "# пропорция успехов в первой группе:\n",
    "p1 = orders.query('group == \"A\"')['orderId'].count() / visitors.query('group == \"A\"')['visitors'].sum()\n",
    "# пропорция успехов во второй группе:\n",
    "p2 = orders.query('group == \"B\"')['orderId'].count() / visitors.query('group == \"B\"')['visitors'].sum()\n",
    "# пропорция успехов в комбинированном датасете:\n",
    "p_combined = (successes[0] + successes[1]) / (trials[0] + trials[1]) #successes - заказы пользователей, trials - все посетители сайта.\n",
    "#разница пропорций в датасетах\n",
    "difference = p1 - p2\n",
    "#считаем статистику в ст.отклонениях стандартного нормального распределения\n",
    "z_value = difference / mth.sqrt(p_combined * (1 - p_combined) * (1/trials[0] + 1/trials[1]))\n",
    "#задаем стандартное нормальное распределение (среднее 0, ст.отклонение 1)\n",
    "distr = st.norm(0, 1)\n",
    "#считаем статистику в ст.отклонениях стандартного нормального распределения\n",
    "z_value = difference / mth.sqrt(p_combined * (1 - p_combined) * (1/trials[0] + 1/trials[1]))\n",
    "#задаем стандартное нормальное распределение (среднее 0, ст.отклонение 1)\n",
    "distr = st.norm(0, 1)\n",
    "p_value = (1 - distr.cdf(abs(z_value))) * 2\n",
    "print('p-значение: ', p_value)\n",
    "\n",
    "if (p_value < alpha):\n",
    "    print(\"Отвергаем нулевую гипотезу: между долями есть значимая разница\")\n",
    "else:\n",
    "    print(\"Не получилось отвергнуть нулевую гипотезу, нет оснований считать доли разными\")"
   ]
  },
  {
   "cell_type": "markdown",
   "metadata": {},
   "source": [
    "<big>Проверили равенство долей. Не получилось отвергнуть нулевую гипотезу, нет оснований считать доли разными.</big>"
   ]
  },
  {
   "cell_type": "markdown",
   "metadata": {},
   "source": [
    "### Кумулятивные метрики"
   ]
  },
  {
   "cell_type": "code",
   "execution_count": 28,
   "metadata": {},
   "outputs": [],
   "source": [
    "register_matplotlib_converters()\n",
    "\n",
    "datesGroups = orders[['date', 'group']].drop_duplicates()\n",
    "\n",
    "ordersAggregated = datesGroups.apply(\n",
    "    lambda x: orders[\n",
    "        np.logical_and(\n",
    "            orders['date'] <= x['date'], orders['group'] == x['group']\n",
    "        )\n",
    "    ].agg(\n",
    "        {\n",
    "            'date': 'max',\n",
    "            'group': 'max',\n",
    "            'orderId': 'nunique',\n",
    "            'userId': 'nunique',\n",
    "            'revenue': 'sum',\n",
    "        }\n",
    "    ),\n",
    "    axis=1,\n",
    ").sort_values(by=['date', 'group'])\n",
    "\n",
    "visitorsAggregated = datesGroups.apply(\n",
    "    lambda x: visitors[\n",
    "        np.logical_and(\n",
    "            visitors['date'] <= x['date'], visitors['group'] == x['group']\n",
    "        )\n",
    "    ].agg({'date': 'max', 'group': 'max', 'visitors': 'sum'}),\n",
    "    axis=1,\n",
    ").sort_values(by=['date', 'group'])\n",
    "\n",
    "cumulativeData = ordersAggregated.merge(\n",
    "    visitorsAggregated, left_on=['date', 'group'], right_on=['date', 'group']\n",
    ")\n",
    "cumulativeData.columns = [\n",
    "    'date',\n",
    "    'group',\n",
    "    'orders',\n",
    "    'buyers',\n",
    "    'revenue',\n",
    "    'visitors',\n",
    "]\n",
    "\n",
    "cumulativeRevenueA = cumulativeData[cumulativeData['group']=='A'][['date','revenue', 'orders']]\n",
    "\n",
    "cumulativeRevenueB = cumulativeData[cumulativeData['group']=='B'][['date','revenue', 'orders']]\n",
    "\n",
    "# считаем кумулятивную конверсию\n",
    "cumulativeData['conversion'] = cumulativeData['orders']/cumulativeData['visitors']\n",
    "\n",
    "# отделяем данные по группе A\n",
    "cumulativeDataA = cumulativeData[cumulativeData['group']=='A']\n",
    "\n",
    "# отделяем данные по группе B\n",
    "cumulativeDataB = cumulativeData[cumulativeData['group']=='B']\n",
    "\n",
    "mergedCumulativeConversions = cumulativeDataA[['date','conversion']].merge(cumulativeDataB[['date','conversion']], left_on='date', right_on='date', how='left', suffixes=['A', 'B'])"
   ]
  },
  {
   "cell_type": "code",
   "execution_count": 29,
   "metadata": {},
   "outputs": [
    {
     "data": {
      "text/plain": [
       "Timestamp('2019-08-01 00:00:00')"
      ]
     },
     "metadata": {},
     "output_type": "display_data"
    },
    {
     "data": {
      "text/plain": [
       "Timestamp('2019-08-31 00:00:00')"
      ]
     },
     "metadata": {},
     "output_type": "display_data"
    }
   ],
   "source": [
    "display(\n",
    "    cumulativeData['date'].min(),\n",
    "    cumulativeData['date'].max())"
   ]
  },
  {
   "cell_type": "markdown",
   "metadata": {},
   "source": [
    "Даты совпадают с исходными"
   ]
  },
  {
   "cell_type": "code",
   "execution_count": 30,
   "metadata": {
    "scrolled": true
   },
   "outputs": [
    {
     "data": {
      "text/plain": [
       "<matplotlib.legend.Legend at 0x7fbe8ee6f1c0>"
      ]
     },
     "execution_count": 30,
     "metadata": {},
     "output_type": "execute_result"
    },
    {
     "data": {
      "image/png": "[encoded data removed]",
      "text/plain": [
       "<Figure size 720x504 with 1 Axes>"
      ]
     },
     "metadata": {
      "needs_background": "light"
     },
     "output_type": "display_data"
    }
   ],
   "source": [
    "plt.figure(figsize=(10,7))\n",
    "# Строим график выручки группы А\n",
    "plt.plot(cumulativeRevenueA['date'], cumulativeRevenueA['revenue'], label='A')\n",
    "\n",
    "# Строим график выручки группы B\n",
    "plt.plot(cumulativeRevenueB['date'], cumulativeRevenueB['revenue'], label='B')\n",
    "\n",
    "plt.title('Кумулятивная выручка по дням')\n",
    "plt.xlabel('Дата')\n",
    "plt.ylabel('Кумулятивная выручка')\n",
    "plt.legend()#А почему выручка такая крошечная от 0 до 6?\n",
    " #Почему я не могу поменять размер графика?"
   ]
  },
  {
   "cell_type": "markdown",
   "metadata": {},
   "source": [
    "Группа B лидирует над группой A, Во второй половине кумулятивная выручка группы B сильно выросла, наверное там был какой-то крупный заказ."
   ]
  },
  {
   "cell_type": "code",
   "execution_count": 31,
   "metadata": {},
   "outputs": [
    {
     "data": {
      "text/plain": [
       "Text(0, 0.5, 'Кумулятивный средний чек')"
      ]
     },
     "execution_count": 31,
     "metadata": {},
     "output_type": "execute_result"
    },
    {
     "data": {
      "image/png": "[encoded data removed]",
      "text/plain": [
       "<Figure size 720x504 with 1 Axes>"
      ]
     },
     "metadata": {
      "needs_background": "light"
     },
     "output_type": "display_data"
    }
   ],
   "source": [
    "plt.figure(figsize=(10,7))\n",
    "plt.plot(cumulativeRevenueA['date'], cumulativeRevenueA['revenue']/cumulativeRevenueA['orders'], label='A')\n",
    "plt.plot(cumulativeRevenueB['date'], cumulativeRevenueB['revenue']/cumulativeRevenueB['orders'], label='B')\n",
    "plt.legend()\n",
    "\n",
    "plt.title('Кумулятивный средний чек по дням')\n",
    "plt.xlabel('Дата')\n",
    "plt.ylabel('Кумулятивный средний чек')\n",
    " #Почему я не могу поменять размер графика? #Как мне разредить разметку по x?"
   ]
  },
  {
   "cell_type": "code",
   "execution_count": 32,
   "metadata": {},
   "outputs": [
    {
     "data": {
      "text/plain": [
       "Text(0, 0.5, 'Кумулятивный средний чек')"
      ]
     },
     "execution_count": 32,
     "metadata": {},
     "output_type": "execute_result"
    },
    {
     "data": {
      "image/png": "[encoded data removed]",
      "text/plain": [
       "<Figure size 936x576 with 1 Axes>"
      ]
     },
     "metadata": {
      "needs_background": "light"
     },
     "output_type": "display_data"
    }
   ],
   "source": [
    "plt.figure(figsize=(13,8))\n",
    "plt.plot(cumulativeRevenueA['date'], cumulativeRevenueA['revenue']/cumulativeRevenueA['orders'], label='A')\n",
    "plt.plot(cumulativeRevenueB['date'], cumulativeRevenueB['revenue']/cumulativeRevenueB['orders'], label='B')\n",
    "plt.legend()\n",
    "\n",
    "plt.title('Кумулятивный средний чек по дням')\n",
    "plt.xlabel('Дата')\n",
    "plt.ylabel('Кумулятивный средний чек')\n"
   ]
  },
  {
   "cell_type": "markdown",
   "metadata": {},
   "source": [
    "<big>Виден большой скачек в одну из дат, наверное там были аномальные заказы.</big>"
   ]
  },
  {
   "cell_type": "code",
   "execution_count": 33,
   "metadata": {},
   "outputs": [
    {
     "data": {
      "text/plain": [
       "<function matplotlib.pyplot.legend(*args, **kwargs)>"
      ]
     },
     "execution_count": 33,
     "metadata": {},
     "output_type": "execute_result"
    },
    {
     "data": {
      "image/png": "[encoded data removed]",
      "text/plain": [
       "<Figure size 720x504 with 1 Axes>"
      ]
     },
     "metadata": {
      "needs_background": "light"
     },
     "output_type": "display_data"
    }
   ],
   "source": [
    "mergedCumulativeRevenue = cumulativeRevenueA.merge(cumulativeRevenueB, left_on='date', right_on='date', how='left', suffixes=['A', 'B'])\n",
    "\n",
    "plt.figure(figsize=(10,7))\n",
    "# cтроим отношение средних чеков\n",
    "plt.plot(mergedCumulativeRevenue['date'], (mergedCumulativeRevenue['revenueB']/mergedCumulativeRevenue['ordersB'])/(mergedCumulativeRevenue['revenueA']/mergedCumulativeRevenue['ordersA'])-1)\n",
    "\n",
    "# добавляем ось X\n",
    "plt.axhline(y=0, color='black', linestyle='--')\n",
    "plt.axhline(y=0.3, color='grey', linestyle='-')\n",
    "plt.title('Отношение кумулятивной выручки группы B к группе A')\n",
    "plt.ylabel('Отношение выручки')\n",
    "plt.xlabel('Дата')\n",
    "plt.legend"
   ]
  },
  {
   "cell_type": "markdown",
   "metadata": {},
   "source": [
    "<big>Группа B резко вырвалась вперед, потом провалилась, но в последнее время сильно опережала группу A. За последнюю три месяца, график стремился к 0.</big>"
   ]
  },
  {
   "cell_type": "code",
   "execution_count": 34,
   "metadata": {},
   "outputs": [
    {
     "data": {
      "text/plain": [
       "(18109.0, 18139.0, 0.0, 0.05)"
      ]
     },
     "execution_count": 34,
     "metadata": {},
     "output_type": "execute_result"
    },
    {
     "data": {
      "image/png": "[encoded data removed]",
      "text/plain": [
       "<Figure size 432x288 with 1 Axes>"
      ]
     },
     "metadata": {
      "needs_background": "light"
     },
     "output_type": "display_data"
    }
   ],
   "source": [
    "plt.plot(cumulativeDataA['date'], cumulativeDataA['conversion'], label='A')\n",
    "plt.plot(cumulativeDataB['date'], cumulativeDataB['conversion'], label='B')\n",
    "plt.legend()\n",
    "\n",
    "# задаем масштаб осей\n",
    "plt.axis([dt.datetime(2019, 8, 1), dt.datetime(2019, 8, 31), 0, 0.05])"
   ]
  },
  {
   "cell_type": "markdown",
   "metadata": {},
   "source": [
    "<big>В начале месяца графики несколько раз менялись местами, но потом стабилизировались, и группа B доминирует над группой A по кумулятивной конверсии.</big>"
   ]
  },
  {
   "cell_type": "code",
   "execution_count": 35,
   "metadata": {},
   "outputs": [
    {
     "data": {
      "text/plain": [
       "(18109.0, 18139.0, -0.5, 0.5)"
      ]
     },
     "execution_count": 35,
     "metadata": {},
     "output_type": "execute_result"
    },
    {
     "data": {
      "image/png": "[encoded data removed]",
      "text/plain": [
       "<Figure size 432x288 with 1 Axes>"
      ]
     },
     "metadata": {
      "needs_background": "light"
     },
     "output_type": "display_data"
    }
   ],
   "source": [
    "plt.plot(mergedCumulativeConversions['date'], mergedCumulativeConversions['conversionB']/mergedCumulativeConversions['conversionA']-1, label=\"Относительный прирост конверсии группы B относительно группы A\")\n",
    "plt.legend()\n",
    "\n",
    "plt.axhline(y=0, color='black', linestyle='--')\n",
    "plt.axhline(y=0.1, color='grey', linestyle='--')\n",
    "plt.axis([\"2019-8-1\", '2019-8-31', -0.5, 0.5]) "
   ]
  },
  {
   "cell_type": "markdown",
   "metadata": {},
   "source": [
    "<big>Группа B лидирует по конверсии от 10% до 20% по сравнению с группой A.</big>"
   ]
  },
  {
   "cell_type": "markdown",
   "metadata": {},
   "source": [
    "#### Вывод"
   ]
  },
  {
   "cell_type": "markdown",
   "metadata": {},
   "source": [
    "<big>Мы сравнили показатели двух групп. Согласно графикам, группа B опережает группу A по кумулятивной конверсии и выручке. Вместе с этим мы обнаружили резкий скачок в кумулятивном среднем чеке и кумулятивной средней выручке группы B. Необходимо очистить данные от выбросов и провести повторный анализ.</big>"
   ]
  },
  {
   "cell_type": "markdown",
   "metadata": {},
   "source": [
    "### Выбросы"
   ]
  },
  {
   "cell_type": "markdown",
   "metadata": {},
   "source": [
    "- Постройте точечный график количества заказов по пользователям. Сделайте выводы и предположения.\n",
    "- Посчитайте 95-й и 99-й перцентили количества заказов на пользователя. Выберите границу для определения аномальных пользователей.\n",
    "- Постройте точечный график стоимостей заказов. Сделайте выводы и предположения.\n",
    "- Посчитайте 95-й и 99-й перцентили стоимости заказов. Выберите границу для определения аномальных заказов."
   ]
  },
  {
   "cell_type": "code",
   "execution_count": 36,
   "metadata": {
    "scrolled": false
   },
   "outputs": [
    {
     "data": {
      "text/plain": [
       "(array([937.,  64.,  17.,   3.,   6.,   0.,   0.,   1.,   1.,   2.]),\n",
       " array([ 1.,  2.,  3.,  4.,  5.,  6.,  7.,  8.,  9., 10., 11.]),\n",
       " <BarContainer object of 10 artists>)"
      ]
     },
     "execution_count": 36,
     "metadata": {},
     "output_type": "execute_result"
    },
    {
     "data": {
      "image/png": "[encoded data removed]",
      "text/plain": [
       "<Figure size 432x288 with 1 Axes>"
      ]
     },
     "metadata": {
      "needs_background": "light"
     },
     "output_type": "display_data"
    }
   ],
   "source": [
    "ordersByUsers = (\n",
    "    orders.groupby('userId', as_index=False)\n",
    "    .agg({'orderId': 'nunique'})\n",
    ")\n",
    "ordersByUsers.columns = ['userId', 'orders']\n",
    "plt.hist(ordersByUsers['orders'])\n"
   ]
  },
  {
   "cell_type": "code",
   "execution_count": 37,
   "metadata": {},
   "outputs": [
    {
     "data": {
      "text/plain": [
       "<matplotlib.collections.PathCollection at 0x7fbe8313d640>"
      ]
     },
     "execution_count": 37,
     "metadata": {},
     "output_type": "execute_result"
    },
    {
     "data": {
      "image/png": "[encoded data removed]",
      "text/plain": [
       "<Figure size 432x288 with 1 Axes>"
      ]
     },
     "metadata": {
      "needs_background": "light"
     },
     "output_type": "display_data"
    }
   ],
   "source": [
    "x_values = pd.Series(range(0, len(ordersByUsers)))\n",
    "\n",
    "plt.scatter(x_values, ordersByUsers['orders']) "
   ]
  },
  {
   "cell_type": "markdown",
   "metadata": {},
   "source": [
    "<big>Большинство пользователей сделали только 1 заказ за месяц</big>"
   ]
  },
  {
   "cell_type": "code",
   "execution_count": 38,
   "metadata": {},
   "outputs": [
    {
     "name": "stdout",
     "output_type": "stream",
     "text": [
      "[1. 2. 4.]\n"
     ]
    }
   ],
   "source": [
    "print(np.percentile(ordersByUsers['orders'], [90, 95, 99])) "
   ]
  },
  {
   "cell_type": "markdown",
   "metadata": {},
   "source": [
    "<big>Только 5 процентов пользователей сделали больше 2х заказов в месяц, и 1% больше 4х заказов.</big>"
   ]
  },
  {
   "cell_type": "code",
   "execution_count": 39,
   "metadata": {
    "scrolled": true
   },
   "outputs": [
    {
     "name": "stdout",
     "output_type": "stream",
     "text": [
      "         orderId      userId       date  revenue group\n",
      "425    590470918  1920142716 2019-08-19  1294500     B\n",
      "1196  3936777065  2108080724 2019-08-15   202740     B\n",
      "858    192721366  1316129916 2019-08-27    93940     A\n",
      "1136   666610489  1307669133 2019-08-13    92550     A\n",
      "744   3668308183   888512513 2019-08-27    86620     B\n",
      "682   1216533772  4266935830 2019-08-29    78990     B\n",
      "662   1811671147  4266935830 2019-08-29    78990     A\n",
      "743   3603576309  4133034833 2019-08-09    67990     A\n",
      "1103  1348774318  1164614297 2019-08-12    66350     A\n",
      "1099   316924019   148427295 2019-08-12    65710     A\n"
     ]
    },
    {
     "data": {
      "text/plain": [
       "(array([1.195e+03, 1.000e+00, 0.000e+00, 0.000e+00, 0.000e+00, 0.000e+00,\n",
       "        0.000e+00, 0.000e+00, 0.000e+00, 1.000e+00]),\n",
       " array([5.000000e+01, 1.294950e+05, 2.589400e+05, 3.883850e+05,\n",
       "        5.178300e+05, 6.472750e+05, 7.767200e+05, 9.061650e+05,\n",
       "        1.035610e+06, 1.165055e+06, 1.294500e+06]),\n",
       " <BarContainer object of 10 artists>)"
      ]
     },
     "execution_count": 39,
     "metadata": {},
     "output_type": "execute_result"
    },
    {
     "data": {
      "image/png": "[encoded data removed]",
      "text/plain": [
       "<Figure size 432x288 with 1 Axes>"
      ]
     },
     "metadata": {
      "needs_background": "light"
     },
     "output_type": "display_data"
    }
   ],
   "source": [
    "print(orders.sort_values(by='revenue', ascending=False).head(10))\n",
    "\n",
    "plt.hist(orders['revenue']) "
   ]
  },
  {
   "cell_type": "code",
   "execution_count": 40,
   "metadata": {},
   "outputs": [
    {
     "data": {
      "text/plain": [
       "Text(0.5, 1.0, '')"
      ]
     },
     "execution_count": 40,
     "metadata": {},
     "output_type": "execute_result"
    },
    {
     "data": {
      "image/png": "[encoded data removed]",
      "text/plain": [
       "<Figure size 432x288 with 1 Axes>"
      ]
     },
     "metadata": {
      "needs_background": "light"
     },
     "output_type": "display_data"
    }
   ],
   "source": [
    "x_values = pd.Series(range(0, len(orders['revenue'])))\n",
    "plt.scatter(x_values, orders['revenue'])\n",
    "plt.ylabel('Сумма заказа, млн. руб.')\n",
    "plt.xlabel('Количество заказов')\n",
    "plt.title('')"
   ]
  },
  {
   "cell_type": "code",
   "execution_count": 41,
   "metadata": {
    "scrolled": true
   },
   "outputs": [
    {
     "data": {
      "text/plain": [
       "(-64672.5, 100000.0)"
      ]
     },
     "execution_count": 41,
     "metadata": {},
     "output_type": "execute_result"
    },
    {
     "data": {
      "image/png": "[encoded data removed]",
      "text/plain": [
       "<Figure size 432x288 with 1 Axes>"
      ]
     },
     "metadata": {
      "needs_background": "light"
     },
     "output_type": "display_data"
    }
   ],
   "source": [
    "x_values = pd.Series(range(0, len(orders['revenue'])))\n",
    "plt.scatter(x_values, orders['revenue'])\n",
    "plt.ylim([-64672.5, 100000])"
   ]
  },
  {
   "cell_type": "markdown",
   "metadata": {},
   "source": [
    "Стоимость большинства заказов не превышает 40000 рублей."
   ]
  },
  {
   "cell_type": "code",
   "execution_count": 42,
   "metadata": {},
   "outputs": [
    {
     "name": "stdout",
     "output_type": "stream",
     "text": [
      "[18168.  28000.  58233.2]\n"
     ]
    }
   ],
   "source": [
    "print(np.percentile(orders['revenue'], [90, 95, 99]))"
   ]
  },
  {
   "cell_type": "markdown",
   "metadata": {},
   "source": [
    "<big>95% заказов были на сумму менее 28000, 99% - менее 58233.2</big>"
   ]
  },
  {
   "cell_type": "markdown",
   "metadata": {},
   "source": [
    "#### Вывод"
   ]
  },
  {
   "cell_type": "markdown",
   "metadata": {},
   "source": [
    "Мы проанализировали выбросы. Ограничим выборку 2мя заказами на сумму не более 28000."
   ]
  },
  {
   "cell_type": "markdown",
   "metadata": {},
   "source": [
    "### Анализ A/B-теста"
   ]
  },
  {
   "cell_type": "markdown",
   "metadata": {},
   "source": [
    "- Посчитайте статистическую значимость различий в конверсии между группами по «сырым» данным. Сделайте выводы и предположения.\n",
    "- Посчитайте статистическую значимость различий в среднем чеке заказа между группами по «сырым» данным. Сделайте выводы и предположения.\n",
    "- Посчитайте статистическую значимость различий в конверсии между группами по «очищенным» данным. Сделайте выводы и предположения.\n",
    "- Посчитайте статистическую значимость различий в среднем чеке заказа между группами по «очищенным» данным. Сделайте выводы и предположения.\n",
    "- Примите решение по результатам теста и объясните его. Варианты решений: 1. Остановить тест, зафиксировать победу одной из групп. 2. Остановить тест, зафиксировать отсутствие различий между группами. 3. Продолжить тест."
   ]
  },
  {
   "cell_type": "markdown",
   "metadata": {},
   "source": [
    "Гипотеза 0: Нет статистически значимой разницы между группами по «сырым» данным. Гипотеза 1: Есть статистически значимая разница между группами по «сырым» данным."
   ]
  },
  {
   "cell_type": "code",
   "execution_count": 43,
   "metadata": {},
   "outputs": [
    {
     "name": "stdout",
     "output_type": "stream",
     "text": [
      "P-value: 0.017\n",
      "Различие средних: 0.138\n"
     ]
    }
   ],
   "source": [
    "visitorsADaily = visitors[visitors['group'] == 'A'][['date', 'visitors']]\n",
    "visitorsADaily.columns = ['date', 'visitorsPerDateA']\n",
    "\n",
    "visitorsACummulative = visitorsADaily.apply(\n",
    "    lambda x: visitorsADaily[visitorsADaily['date'] <= x['date']].agg(\n",
    "        {'date': 'max', 'visitorsPerDateA': 'sum'}\n",
    "    ),\n",
    "    axis=1,\n",
    ")\n",
    "visitorsACummulative.columns = ['date', 'visitorsCummulativeA']\n",
    "\n",
    "visitorsBDaily = visitors[visitors['group'] == 'B'][['date', 'visitors']]\n",
    "visitorsBDaily.columns = ['date', 'visitorsPerDateB']\n",
    "\n",
    "visitorsBCummulative = visitorsBDaily.apply(\n",
    "    lambda x: visitorsBDaily[visitorsBDaily['date'] <= x['date']].agg(\n",
    "        {'date': 'max', 'visitorsPerDateB': 'sum'}\n",
    "    ),\n",
    "    axis=1,\n",
    ")\n",
    "visitorsBCummulative.columns = ['date', 'visitorsCummulativeB']\n",
    "\n",
    "ordersADaily = (\n",
    "    orders[orders['group'] == 'A'][['date', 'orderId', 'userId', 'revenue']]\n",
    "    .groupby('date', as_index=False)\n",
    "    .agg({'orderId': pd.Series.nunique, 'revenue': 'sum'})\n",
    ")\n",
    "ordersADaily.columns = ['date', 'ordersPerDateA', 'revenuePerDateA']\n",
    "\n",
    "ordersACummulative = ordersADaily.apply(\n",
    "    lambda x: ordersADaily[ordersADaily['date'] <= x['date']].agg(\n",
    "        {'date': 'max', 'ordersPerDateA': 'sum', 'revenuePerDateA': 'sum'}\n",
    "    ),\n",
    "    axis=1,\n",
    ").sort_values(by=['date'])\n",
    "ordersACummulative.columns = [\n",
    "    'date',\n",
    "    'ordersCummulativeA',\n",
    "    'revenueCummulativeA',\n",
    "]\n",
    "\n",
    "ordersBDaily = (\n",
    "    orders[orders['group'] == 'B'][['date', 'orderId', 'userId', 'revenue']]\n",
    "    .groupby('date', as_index=False)\n",
    "    .agg({'orderId': pd.Series.nunique, 'revenue': 'sum'})\n",
    ")\n",
    "ordersBDaily.columns = ['date', 'ordersPerDateB', 'revenuePerDateB']\n",
    "\n",
    "ordersBCummulative = ordersBDaily.apply(\n",
    "    lambda x: ordersBDaily[ordersBDaily['date'] <= x['date']].agg(\n",
    "        {'date': 'max', 'ordersPerDateB': 'sum', 'revenuePerDateB': 'sum'}\n",
    "    ),\n",
    "    axis=1,\n",
    ").sort_values(by=['date'])\n",
    "ordersBCummulative.columns = [\n",
    "    'date',\n",
    "    'ordersCummulativeB',\n",
    "    'revenueCummulativeB',\n",
    "]\n",
    "\n",
    "data = (\n",
    "    ordersADaily.merge(\n",
    "        ordersBDaily, left_on='date', right_on='date', how='left'\n",
    "    )\n",
    "    .merge(ordersACummulative, left_on='date', right_on='date', how='left')\n",
    "    .merge(ordersBCummulative, left_on='date', right_on='date', how='left')\n",
    "    .merge(visitorsADaily, left_on='date', right_on='date', how='left')\n",
    "    .merge(visitorsBDaily, left_on='date', right_on='date', how='left')\n",
    "    .merge(visitorsACummulative, left_on='date', right_on='date', how='left')\n",
    "    .merge(visitorsBCummulative, left_on='date', right_on='date', how='left')\n",
    ")\n",
    "\n",
    "\n",
    "ordersByUsersA = (\n",
    "    orders[orders['group'] == 'A']\n",
    "    .groupby('userId', as_index=False)\n",
    "    .agg({'orderId': pd.Series.nunique})\n",
    ")\n",
    "ordersByUsersA.columns = ['userId', 'orders']\n",
    "\n",
    "ordersByUsersB = (\n",
    "    orders[orders['group'] == 'B']\n",
    "    .groupby('userId', as_index=False)\n",
    "    .agg({'orderId': pd.Series.nunique})\n",
    ")\n",
    "ordersByUsersB.columns = ['userId', 'orders']\n",
    "\n",
    "sampleA = pd.concat(\n",
    "    [\n",
    "        ordersByUsersA['orders'],\n",
    "        pd.Series(\n",
    "            0,\n",
    "            index=np.arange(\n",
    "                data['visitorsPerDateA'].sum() - len(ordersByUsersA['orders'])\n",
    "            ),\n",
    "            name='orders',\n",
    "        ),\n",
    "    ],\n",
    "    axis=0,\n",
    ")\n",
    "\n",
    "sampleB = pd.concat(\n",
    "    [\n",
    "        ordersByUsersB['orders'],\n",
    "        pd.Series(\n",
    "            0,\n",
    "            index=np.arange(\n",
    "                data['visitorsPerDateB'].sum() - len(ordersByUsersB['orders'])\n",
    "            ),\n",
    "            name='orders',\n",
    "        ),\n",
    "    ],\n",
    "    axis=0,\n",
    ")\n",
    "\n",
    "print(\"P-value: {0:.3f}\".format(st.mannwhitneyu(sampleA, sampleB)[1])) #p-value\n",
    "\n",
    "\n",
    "\n",
    "print(\"Различие средних: {0:.3f}\".format(sampleB.mean() / sampleA.mean() - 1)) #разность конверсий"
   ]
  },
  {
   "cell_type": "markdown",
   "metadata": {},
   "source": [
    "<big>p=0.017 < a = 0.05, следовательно мы отвергаем нулевую гипотезу, что конверсия между группами равна.</big>"
   ]
  },
  {
   "cell_type": "markdown",
   "metadata": {},
   "source": [
    "<big>Группа B имеет на ~14% лучшую конверсию чем группа A.</big>"
   ]
  },
  {
   "cell_type": "markdown",
   "metadata": {},
   "source": [
    "<big>Гипотеза 0: Нет статистически значимой разницы между группами по средним чекам. Гипотеза 1: Есть статистически значимая разница между группами по средним чекам.</big>"
   ]
  },
  {
   "cell_type": "code",
   "execution_count": 44,
   "metadata": {},
   "outputs": [
    {
     "name": "stdout",
     "output_type": "stream",
     "text": [
      "0.729\n",
      "0.259\n"
     ]
    }
   ],
   "source": [
    "print('{0:.3f}'.format(st.mannwhitneyu(orders[orders['group']=='A']['revenue'], orders[orders['group']=='B']['revenue'])[1])) #p-value\n",
    "print('{0:.3f}'.format(orders[orders['group']=='B']['revenue'].mean()/orders[orders['group']=='A']['revenue'].mean()-1)) #различие средних чеков между группами"
   ]
  },
  {
   "cell_type": "markdown",
   "metadata": {},
   "source": [
    "<big>p = 0.729 > a=0.005, следовательно мы не можем отвергнуть нулевую гипотезу. Средние чеки статистически одинаковые."
   ]
  },
  {
   "cell_type": "markdown",
   "metadata": {},
   "source": [
    "<big>Сгруппируем аномальных пользователей в одну таблицу.</big>"
   ]
  },
  {
   "cell_type": "code",
   "execution_count": 45,
   "metadata": {},
   "outputs": [
    {
     "name": "stdout",
     "output_type": "stream",
     "text": [
      "1099    148427295\n",
      "18      199603092\n",
      "928     204675465\n",
      "23      237748145\n",
      "37      249864742\n",
      "Name: userId, dtype: int64\n"
     ]
    }
   ],
   "source": [
    "usersWithManyOrders = pd.concat(\n",
    "    [\n",
    "        ordersByUsersA[ordersByUsersA['orders'] > np.percentile(ordersByUsers['orders'], 95)]['userId'],\n",
    "        ordersByUsersB[ordersByUsersB['orders'] > np.percentile(ordersByUsers['orders'], 95)]['userId'],\n",
    "    ],\n",
    "    axis=0,\n",
    ")\n",
    "usersWithExpensiveOrders = orders[orders['revenue'] > np.percentile(orders['revenue'], 95)]['userId']\n",
    "abnormalUsers = (\n",
    "    pd.concat([usersWithManyOrders, usersWithExpensiveOrders], axis=0)\n",
    "    .drop_duplicates()\n",
    "    .sort_values()\n",
    ")\n",
    "print(abnormalUsers.head(5))"
   ]
  },
  {
   "cell_type": "markdown",
   "metadata": {},
   "source": [
    "<big>Гипотеза 0: Между группами нет статистической разницы по количеству заказов после удаления аномальных поьзователей. Гипотеза 1: Между группами есть статистическая разница.</big>"
   ]
  },
  {
   "cell_type": "code",
   "execution_count": 46,
   "metadata": {},
   "outputs": [
    {
     "name": "stdout",
     "output_type": "stream",
     "text": [
      "0.013\n",
      "0.173\n"
     ]
    }
   ],
   "source": [
    "sampleAFiltered = pd.concat(\n",
    "    [\n",
    "        ordersByUsersA[\n",
    "            np.logical_not(ordersByUsersA['userId'].isin(abnormalUsers))\n",
    "        ]['orders'],\n",
    "        pd.Series(\n",
    "            0,\n",
    "            index=np.arange(\n",
    "                data['visitorsPerDateA'].sum() - len(ordersByUsersA['orders'])\n",
    "            ),\n",
    "            name='orders',\n",
    "        ),\n",
    "    ],\n",
    "    axis=0,\n",
    ")\n",
    "\n",
    "sampleBFiltered = pd.concat(\n",
    "    [\n",
    "        ordersByUsersB[\n",
    "            np.logical_not(ordersByUsersB['userId'].isin(abnormalUsers))\n",
    "        ]['orders'],\n",
    "        pd.Series(\n",
    "            0,\n",
    "            index=np.arange(\n",
    "                data['visitorsPerDateB'].sum() - len(ordersByUsersB['orders'])\n",
    "            ),\n",
    "            name='orders',\n",
    "        ),\n",
    "    ],\n",
    "    axis=0,\n",
    ")\n",
    "\n",
    "print('{0:.3f}'.format(st.mannwhitneyu(sampleAFiltered, sampleBFiltered)[1])) #p-value\n",
    "print('{0:.3f}'.format(sampleBFiltered.mean()/sampleAFiltered.mean()-1)) #отношение группы B к A"
   ]
  },
  {
   "cell_type": "markdown",
   "metadata": {},
   "source": [
    "<big> p = 0.013 < a=0.05, следовательно между группами есть статистическая разница в количестве заказов. В группе B заказов больше примерно на 17% чем в группе A.</big>"
   ]
  },
  {
   "cell_type": "markdown",
   "metadata": {},
   "source": [
    "<big>Гипотеза 0: Между группами нет статистической разницы в среднем чеке после удаления аномальных поьзователей. Гипотеза 1: Между группами есть статистическая разница в среднем чеке.</big>"
   ]
  },
  {
   "cell_type": "code",
   "execution_count": 47,
   "metadata": {},
   "outputs": [
    {
     "name": "stdout",
     "output_type": "stream",
     "text": [
      "0.738\n",
      "-0.020\n"
     ]
    }
   ],
   "source": [
    "print(\n",
    "    '{0:.3f}'.format(\n",
    "        st.mannwhitneyu(\n",
    "            orders[\n",
    "                np.logical_and(\n",
    "                    orders['group'] == 'A',\n",
    "                    np.logical_not(orders['userId'].isin(abnormalUsers)),\n",
    "                )\n",
    "            ]['revenue'],\n",
    "            orders[\n",
    "                np.logical_and(\n",
    "                    orders['group'] == 'B',\n",
    "                    np.logical_not(orders['userId'].isin(abnormalUsers)),\n",
    "                )\n",
    "            ]['revenue'],\n",
    "        )[1]\n",
    "    )\n",
    ")\n",
    "\n",
    "print(\n",
    "    \"{0:.3f}\".format(\n",
    "        orders[\n",
    "            np.logical_and(\n",
    "                orders['group'] == 'B',\n",
    "                np.logical_not(orders['userId'].isin(abnormalUsers)),\n",
    "            )\n",
    "        ]['revenue'].mean()\n",
    "        / orders[\n",
    "            np.logical_and(\n",
    "                orders['group'] == 'A',\n",
    "                np.logical_not(orders['userId'].isin(abnormalUsers)),\n",
    "            )\n",
    "        ]['revenue'].mean()\n",
    "        - 1\n",
    "    )\n",
    ")"
   ]
  },
  {
   "cell_type": "markdown",
   "metadata": {},
   "source": [
    "<big>p = 0.738 > a = 0.05, следовательно мы не можем отвергнуть нулевую гипотезу, разница в среднем чеке не статистически значима(да ее и почти нет, по выборке средний чек после удаления абнормальных пользователей +2% в пользу группы A)."
   ]
  },
  {
   "cell_type": "markdown",
   "metadata": {},
   "source": [
    "#### Вывод"
   ]
  },
  {
   "cell_type": "markdown",
   "metadata": {},
   "source": [
    "<big>Согласно нашим данным, группа B показала статистически значимые, лучшие результаты по конверсии пользователей(+14%) и количеству заказов(+17%).<br>Группа A не показала статистически значимого превосходства ни по одной метрике.</big>"
   ]
  },
  {
   "cell_type": "markdown",
   "metadata": {},
   "source": [
    "## Общий вывод"
   ]
  },
  {
   "cell_type": "markdown",
   "metadata": {},
   "source": [
    "<big>Мы протестировали гипотезы по фреймворкам ICE и RICE. Самые перспективные гипотезы 7, 2 и 0. Стоит сосредоточиться на их тестировании - по прогнозам, от них будет наибольшая польза.</big>"
   ]
  },
  {
   "cell_type": "markdown",
   "metadata": {},
   "source": [
    "<big>Мы сравнили показатели двух групп. Согласно графикам, группа B опережает группу A по кумулятивной конверсии и выручке. Вместе с этим мы обнаружили резкий скачок в кумулятивном среднем чеке и кумулятивной средней выручке группы B. Необходимо очистить данные от выбросов и провести повторный анализ."
   ]
  },
  {
   "cell_type": "markdown",
   "metadata": {},
   "source": [
    "<big>Мы проанализировали выбросы. Ограничим выборку 2мя заказами на сумму не более 28000."
   ]
  },
  {
   "cell_type": "markdown",
   "metadata": {},
   "source": [
    "<big>Основываясь на полученных данных, таких как графики средней выручки и конверсии, а так же A/B тестах в группах без аномальных пользователей, мы признаем тест успешным. Методика примененная к группе B дает лучшие результаты чем методика группы A. Победила группа B."
   ]
  }
 ],
 "metadata": {
  "ExecuteTimeLog": [
   {
    "duration": 1179,
    "start_time": "2022-07-07T10:46:05.380Z"
   },
   {
    "duration": 130,
    "start_time": "2022-07-07T10:48:54.758Z"
   },
   {
    "duration": 17,
    "start_time": "2022-07-07T10:49:02.918Z"
   },
   {
    "duration": 16,
    "start_time": "2022-07-07T10:49:18.908Z"
   },
   {
    "duration": 15,
    "start_time": "2022-07-07T10:49:24.623Z"
   },
   {
    "duration": 8,
    "start_time": "2022-07-07T10:52:01.538Z"
   },
   {
    "duration": 112,
    "start_time": "2022-07-07T10:52:26.059Z"
   },
   {
    "duration": 11,
    "start_time": "2022-07-07T10:52:31.746Z"
   },
   {
    "duration": 6,
    "start_time": "2022-07-07T10:52:47.156Z"
   },
   {
    "duration": 4,
    "start_time": "2022-07-07T10:53:23.585Z"
   },
   {
    "duration": 15,
    "start_time": "2022-07-07T10:53:28.262Z"
   },
   {
    "duration": 3,
    "start_time": "2022-07-07T10:53:48.831Z"
   },
   {
    "duration": 22,
    "start_time": "2022-07-07T10:54:05.303Z"
   },
   {
    "duration": 9,
    "start_time": "2022-07-07T10:54:15.241Z"
   },
   {
    "duration": 8,
    "start_time": "2022-07-07T10:54:18.325Z"
   },
   {
    "duration": 7,
    "start_time": "2022-07-07T10:54:40.769Z"
   },
   {
    "duration": 22,
    "start_time": "2022-07-07T10:54:56.204Z"
   },
   {
    "duration": 10,
    "start_time": "2022-07-07T10:55:04.822Z"
   },
   {
    "duration": 6,
    "start_time": "2022-07-07T10:55:16.843Z"
   },
   {
    "duration": 17,
    "start_time": "2022-07-07T10:56:09.463Z"
   },
   {
    "duration": 11,
    "start_time": "2022-07-07T10:56:34.469Z"
   },
   {
    "duration": 8,
    "start_time": "2022-07-07T10:57:01.355Z"
   },
   {
    "duration": 6,
    "start_time": "2022-07-07T10:57:04.826Z"
   },
   {
    "duration": 22,
    "start_time": "2022-07-07T10:57:08.756Z"
   },
   {
    "duration": 14,
    "start_time": "2022-07-07T10:57:11.669Z"
   },
   {
    "duration": 13,
    "start_time": "2022-07-07T10:57:28.723Z"
   },
   {
    "duration": 12,
    "start_time": "2022-07-07T10:57:58.396Z"
   },
   {
    "duration": 5,
    "start_time": "2022-07-07T10:58:30.827Z"
   },
   {
    "duration": 4,
    "start_time": "2022-07-07T10:58:41.190Z"
   },
   {
    "duration": 13,
    "start_time": "2022-07-07T10:59:01.536Z"
   },
   {
    "duration": 7,
    "start_time": "2022-07-07T10:59:06.749Z"
   },
   {
    "duration": 1198,
    "start_time": "2022-07-07T10:59:59.444Z"
   },
   {
    "duration": 10,
    "start_time": "2022-07-07T11:00:16.309Z"
   },
   {
    "duration": 5,
    "start_time": "2022-07-07T11:00:38.729Z"
   },
   {
    "duration": 6,
    "start_time": "2022-07-07T11:00:42.079Z"
   },
   {
    "duration": 9,
    "start_time": "2022-07-07T11:00:56.521Z"
   },
   {
    "duration": 9,
    "start_time": "2022-07-07T11:01:05.635Z"
   },
   {
    "duration": 5,
    "start_time": "2022-07-07T11:01:19.453Z"
   },
   {
    "duration": 6,
    "start_time": "2022-07-07T11:01:28.705Z"
   },
   {
    "duration": 12,
    "start_time": "2022-07-07T11:01:41.140Z"
   },
   {
    "duration": 27,
    "start_time": "2022-07-07T11:01:46.981Z"
   },
   {
    "duration": 21,
    "start_time": "2022-07-07T11:01:54.493Z"
   },
   {
    "duration": 16,
    "start_time": "2022-07-07T11:02:02.002Z"
   },
   {
    "duration": 8,
    "start_time": "2022-07-07T11:02:07.171Z"
   },
   {
    "duration": 4,
    "start_time": "2022-07-07T11:03:19.633Z"
   },
   {
    "duration": 826,
    "start_time": "2022-07-07T13:41:25.341Z"
   },
   {
    "duration": 122,
    "start_time": "2022-07-07T13:41:26.170Z"
   },
   {
    "duration": 20,
    "start_time": "2022-07-07T13:41:26.294Z"
   },
   {
    "duration": 7,
    "start_time": "2022-07-07T13:41:26.316Z"
   },
   {
    "duration": 14,
    "start_time": "2022-07-07T13:41:26.324Z"
   },
   {
    "duration": 32,
    "start_time": "2022-07-07T13:41:26.339Z"
   },
   {
    "duration": 10,
    "start_time": "2022-07-07T13:41:26.373Z"
   },
   {
    "duration": 26,
    "start_time": "2022-07-07T13:41:26.385Z"
   },
   {
    "duration": 7,
    "start_time": "2022-07-07T13:41:26.415Z"
   },
   {
    "duration": 14,
    "start_time": "2022-07-07T13:41:26.425Z"
   },
   {
    "duration": 25,
    "start_time": "2022-07-07T13:41:26.440Z"
   },
   {
    "duration": 7,
    "start_time": "2022-07-07T13:41:26.467Z"
   },
   {
    "duration": 9,
    "start_time": "2022-07-07T13:41:26.478Z"
   },
   {
    "duration": 21,
    "start_time": "2022-07-07T13:41:26.488Z"
   },
   {
    "duration": 4,
    "start_time": "2022-07-07T13:41:26.511Z"
   },
   {
    "duration": 8,
    "start_time": "2022-07-07T13:41:26.516Z"
   },
   {
    "duration": 12,
    "start_time": "2022-07-07T13:41:26.525Z"
   },
   {
    "duration": 5,
    "start_time": "2022-07-07T13:51:28.401Z"
   },
   {
    "duration": 6,
    "start_time": "2022-07-07T13:51:32.760Z"
   },
   {
    "duration": 6,
    "start_time": "2022-07-07T13:51:39.966Z"
   },
   {
    "duration": 5,
    "start_time": "2022-07-07T13:51:43.400Z"
   },
   {
    "duration": 10,
    "start_time": "2022-07-07T14:03:08.777Z"
   },
   {
    "duration": 5,
    "start_time": "2022-07-07T14:04:05.203Z"
   },
   {
    "duration": 14,
    "start_time": "2022-07-07T14:04:10.351Z"
   },
   {
    "duration": 11,
    "start_time": "2022-07-07T14:04:31.964Z"
   },
   {
    "duration": 17,
    "start_time": "2022-07-07T14:06:45.185Z"
   },
   {
    "duration": 55,
    "start_time": "2022-07-07T14:07:28.884Z"
   },
   {
    "duration": 556,
    "start_time": "2022-07-07T14:38:14.233Z"
   },
   {
    "duration": 12,
    "start_time": "2022-07-07T14:40:27.898Z"
   },
   {
    "duration": 10,
    "start_time": "2022-07-07T14:40:35.714Z"
   },
   {
    "duration": 12,
    "start_time": "2022-07-07T14:43:25.909Z"
   },
   {
    "duration": 3,
    "start_time": "2022-07-07T14:44:39.655Z"
   },
   {
    "duration": 7,
    "start_time": "2022-07-07T14:44:50.697Z"
   },
   {
    "duration": 991,
    "start_time": "2022-07-07T14:45:20.596Z"
   },
   {
    "duration": 3,
    "start_time": "2022-07-07T14:45:33.032Z"
   },
   {
    "duration": 5,
    "start_time": "2022-07-07T14:45:37.389Z"
   },
   {
    "duration": 8,
    "start_time": "2022-07-07T14:46:00.791Z"
   },
   {
    "duration": 6,
    "start_time": "2022-07-07T14:46:04.623Z"
   },
   {
    "duration": 9,
    "start_time": "2022-07-07T14:46:49.241Z"
   },
   {
    "duration": 12,
    "start_time": "2022-07-07T14:47:46.505Z"
   },
   {
    "duration": 20,
    "start_time": "2022-07-07T14:48:00.509Z"
   },
   {
    "duration": 11,
    "start_time": "2022-07-07T14:48:04.892Z"
   },
   {
    "duration": 6,
    "start_time": "2022-07-07T14:48:11.669Z"
   },
   {
    "duration": 6,
    "start_time": "2022-07-07T14:48:20.048Z"
   },
   {
    "duration": 7,
    "start_time": "2022-07-07T14:49:52.973Z"
   },
   {
    "duration": 6,
    "start_time": "2022-07-07T14:50:12.441Z"
   },
   {
    "duration": 51,
    "start_time": "2022-07-07T14:51:06.207Z"
   },
   {
    "duration": 15,
    "start_time": "2022-07-07T14:51:15.656Z"
   },
   {
    "duration": 248,
    "start_time": "2022-07-07T15:01:45.899Z"
   },
   {
    "duration": 3,
    "start_time": "2022-07-07T15:02:06.506Z"
   },
   {
    "duration": 265,
    "start_time": "2022-07-07T15:02:13.429Z"
   },
   {
    "duration": 8,
    "start_time": "2022-07-07T15:04:09.134Z"
   },
   {
    "duration": 6,
    "start_time": "2022-07-07T15:05:00.679Z"
   },
   {
    "duration": 12,
    "start_time": "2022-07-07T15:05:06.221Z"
   },
   {
    "duration": 33,
    "start_time": "2022-07-07T15:05:34.800Z"
   },
   {
    "duration": 3,
    "start_time": "2022-07-07T15:06:35.565Z"
   },
   {
    "duration": 29,
    "start_time": "2022-07-07T15:08:07.384Z"
   },
   {
    "duration": 3,
    "start_time": "2022-07-07T15:09:42.615Z"
   },
   {
    "duration": 492,
    "start_time": "2022-07-07T15:09:45.855Z"
   },
   {
    "duration": 425,
    "start_time": "2022-07-07T15:12:05.729Z"
   },
   {
    "duration": 432,
    "start_time": "2022-07-07T15:12:55.213Z"
   },
   {
    "duration": 421,
    "start_time": "2022-07-07T15:13:10.046Z"
   },
   {
    "duration": 417,
    "start_time": "2022-07-07T15:13:28.993Z"
   },
   {
    "duration": 447,
    "start_time": "2022-07-07T15:14:14.063Z"
   },
   {
    "duration": 422,
    "start_time": "2022-07-07T15:14:23.188Z"
   },
   {
    "duration": 425,
    "start_time": "2022-07-07T15:14:29.523Z"
   },
   {
    "duration": 489,
    "start_time": "2022-07-07T15:14:35.562Z"
   },
   {
    "duration": 489,
    "start_time": "2022-07-07T15:16:20.776Z"
   },
   {
    "duration": 436,
    "start_time": "2022-07-07T15:16:47.932Z"
   },
   {
    "duration": 427,
    "start_time": "2022-07-07T15:18:50.594Z"
   },
   {
    "duration": 415,
    "start_time": "2022-07-07T15:18:57.294Z"
   },
   {
    "duration": 424,
    "start_time": "2022-07-07T15:19:40.837Z"
   },
   {
    "duration": 455,
    "start_time": "2022-07-07T15:19:54.092Z"
   },
   {
    "duration": 416,
    "start_time": "2022-07-07T15:20:26.789Z"
   },
   {
    "duration": 425,
    "start_time": "2022-07-07T15:20:32.175Z"
   },
   {
    "duration": 427,
    "start_time": "2022-07-07T15:20:37.507Z"
   },
   {
    "duration": 418,
    "start_time": "2022-07-07T15:20:43.726Z"
   },
   {
    "duration": 441,
    "start_time": "2022-07-07T15:20:50.510Z"
   },
   {
    "duration": 406,
    "start_time": "2022-07-07T15:21:32.614Z"
   },
   {
    "duration": 373,
    "start_time": "2022-07-07T15:21:39.273Z"
   },
   {
    "duration": 444,
    "start_time": "2022-07-07T15:21:43.707Z"
   },
   {
    "duration": 378,
    "start_time": "2022-07-07T15:21:47.729Z"
   },
   {
    "duration": 384,
    "start_time": "2022-07-07T15:21:51.984Z"
   },
   {
    "duration": 383,
    "start_time": "2022-07-07T15:21:57.719Z"
   },
   {
    "duration": 391,
    "start_time": "2022-07-07T15:22:02.930Z"
   },
   {
    "duration": 398,
    "start_time": "2022-07-07T15:22:22.769Z"
   },
   {
    "duration": 400,
    "start_time": "2022-07-07T15:22:36.739Z"
   },
   {
    "duration": 478,
    "start_time": "2022-07-07T15:22:56.318Z"
   },
   {
    "duration": 401,
    "start_time": "2022-07-07T15:23:01.726Z"
   },
   {
    "duration": 410,
    "start_time": "2022-07-07T15:24:06.853Z"
   },
   {
    "duration": 409,
    "start_time": "2022-07-07T15:24:20.113Z"
   },
   {
    "duration": 8,
    "start_time": "2022-07-07T16:59:16.286Z"
   },
   {
    "duration": 9,
    "start_time": "2022-07-07T16:59:34.970Z"
   },
   {
    "duration": 119,
    "start_time": "2022-07-07T17:00:09.983Z"
   },
   {
    "duration": 119,
    "start_time": "2022-07-07T17:00:52.588Z"
   },
   {
    "duration": 136,
    "start_time": "2022-07-07T17:01:38.790Z"
   },
   {
    "duration": 130,
    "start_time": "2022-07-07T17:02:16.076Z"
   },
   {
    "duration": 165,
    "start_time": "2022-07-07T17:02:28.643Z"
   },
   {
    "duration": 116,
    "start_time": "2022-07-07T17:02:38.275Z"
   },
   {
    "duration": 117,
    "start_time": "2022-07-07T17:03:43.156Z"
   },
   {
    "duration": 5,
    "start_time": "2022-07-07T17:05:40.377Z"
   },
   {
    "duration": 123,
    "start_time": "2022-07-07T17:07:06.765Z"
   },
   {
    "duration": 15,
    "start_time": "2022-07-07T17:07:17.234Z"
   },
   {
    "duration": 12,
    "start_time": "2022-07-07T17:07:46.847Z"
   },
   {
    "duration": 127,
    "start_time": "2022-07-07T17:07:57.589Z"
   },
   {
    "duration": 137,
    "start_time": "2022-07-07T17:09:54.374Z"
   },
   {
    "duration": 5,
    "start_time": "2022-07-07T17:10:42.242Z"
   },
   {
    "duration": 240,
    "start_time": "2022-07-07T17:20:17.009Z"
   },
   {
    "duration": 171,
    "start_time": "2022-07-07T17:22:58.829Z"
   },
   {
    "duration": 344,
    "start_time": "2022-07-07T17:29:38.433Z"
   },
   {
    "duration": 254,
    "start_time": "2022-07-07T17:34:27.377Z"
   },
   {
    "duration": 227,
    "start_time": "2022-07-07T18:22:43.399Z"
   },
   {
    "duration": 340,
    "start_time": "2022-07-07T18:22:47.686Z"
   },
   {
    "duration": 210,
    "start_time": "2022-07-07T18:22:53.469Z"
   },
   {
    "duration": 237,
    "start_time": "2022-07-07T18:24:02.669Z"
   },
   {
    "duration": 260,
    "start_time": "2022-07-07T18:24:26.268Z"
   },
   {
    "duration": 490,
    "start_time": "2022-07-07T18:28:00.338Z"
   },
   {
    "duration": 178,
    "start_time": "2022-07-07T18:29:06.125Z"
   },
   {
    "duration": 181,
    "start_time": "2022-07-07T18:32:04.080Z"
   },
   {
    "duration": 302,
    "start_time": "2022-07-07T18:32:08.285Z"
   },
   {
    "duration": 299,
    "start_time": "2022-07-07T18:33:14.415Z"
   },
   {
    "duration": 361,
    "start_time": "2022-07-07T18:33:35.424Z"
   },
   {
    "duration": 263,
    "start_time": "2022-07-07T18:36:36.198Z"
   },
   {
    "duration": 68,
    "start_time": "2022-07-07T18:38:39.603Z"
   },
   {
    "duration": 54,
    "start_time": "2022-07-08T08:02:53.702Z"
   },
   {
    "duration": 1394,
    "start_time": "2022-07-08T08:03:05.673Z"
   },
   {
    "duration": 259,
    "start_time": "2022-07-08T08:03:07.069Z"
   },
   {
    "duration": 20,
    "start_time": "2022-07-08T08:03:07.330Z"
   },
   {
    "duration": 10,
    "start_time": "2022-07-08T08:03:07.352Z"
   },
   {
    "duration": 25,
    "start_time": "2022-07-08T08:03:07.364Z"
   },
   {
    "duration": 38,
    "start_time": "2022-07-08T08:03:07.391Z"
   },
   {
    "duration": 14,
    "start_time": "2022-07-08T08:03:07.430Z"
   },
   {
    "duration": 24,
    "start_time": "2022-07-08T08:03:07.446Z"
   },
   {
    "duration": 22,
    "start_time": "2022-07-08T08:03:07.472Z"
   },
   {
    "duration": 14,
    "start_time": "2022-07-08T08:03:07.497Z"
   },
   {
    "duration": 27,
    "start_time": "2022-07-08T08:03:07.512Z"
   },
   {
    "duration": 29,
    "start_time": "2022-07-08T08:03:07.541Z"
   },
   {
    "duration": 19,
    "start_time": "2022-07-08T08:03:07.573Z"
   },
   {
    "duration": 28,
    "start_time": "2022-07-08T08:03:07.594Z"
   },
   {
    "duration": 16,
    "start_time": "2022-07-08T08:03:07.624Z"
   },
   {
    "duration": 36,
    "start_time": "2022-07-08T08:03:07.641Z"
   },
   {
    "duration": 16,
    "start_time": "2022-07-08T08:03:07.679Z"
   },
   {
    "duration": 11,
    "start_time": "2022-07-08T08:03:07.697Z"
   },
   {
    "duration": 26,
    "start_time": "2022-07-08T08:03:07.709Z"
   },
   {
    "duration": 17,
    "start_time": "2022-07-08T08:03:07.737Z"
   },
   {
    "duration": 20,
    "start_time": "2022-07-08T08:03:07.755Z"
   },
   {
    "duration": 23,
    "start_time": "2022-07-08T08:03:07.777Z"
   },
   {
    "duration": 14,
    "start_time": "2022-07-08T08:03:07.802Z"
   },
   {
    "duration": 1505,
    "start_time": "2022-07-08T08:03:07.818Z"
   },
   {
    "duration": 0,
    "start_time": "2022-07-08T08:03:09.325Z"
   },
   {
    "duration": 0,
    "start_time": "2022-07-08T08:03:09.326Z"
   },
   {
    "duration": 0,
    "start_time": "2022-07-08T08:03:09.327Z"
   },
   {
    "duration": 0,
    "start_time": "2022-07-08T08:03:09.328Z"
   },
   {
    "duration": 0,
    "start_time": "2022-07-08T08:03:09.329Z"
   },
   {
    "duration": 0,
    "start_time": "2022-07-08T08:03:09.330Z"
   },
   {
    "duration": 0,
    "start_time": "2022-07-08T08:03:09.331Z"
   },
   {
    "duration": 0,
    "start_time": "2022-07-08T08:03:09.332Z"
   },
   {
    "duration": 0,
    "start_time": "2022-07-08T08:03:09.333Z"
   },
   {
    "duration": 0,
    "start_time": "2022-07-08T08:03:09.334Z"
   },
   {
    "duration": 0,
    "start_time": "2022-07-08T08:03:09.335Z"
   },
   {
    "duration": 0,
    "start_time": "2022-07-08T08:03:09.336Z"
   },
   {
    "duration": 0,
    "start_time": "2022-07-08T08:03:09.337Z"
   },
   {
    "duration": 16,
    "start_time": "2022-07-08T08:04:11.840Z"
   },
   {
    "duration": 1093,
    "start_time": "2022-07-08T08:04:18.035Z"
   },
   {
    "duration": 87,
    "start_time": "2022-07-08T08:04:19.130Z"
   },
   {
    "duration": 20,
    "start_time": "2022-07-08T08:04:19.219Z"
   },
   {
    "duration": 6,
    "start_time": "2022-07-08T08:04:19.241Z"
   },
   {
    "duration": 6,
    "start_time": "2022-07-08T08:04:19.248Z"
   },
   {
    "duration": 13,
    "start_time": "2022-07-08T08:04:19.255Z"
   },
   {
    "duration": 9,
    "start_time": "2022-07-08T08:04:19.270Z"
   },
   {
    "duration": 33,
    "start_time": "2022-07-08T08:04:19.280Z"
   },
   {
    "duration": 6,
    "start_time": "2022-07-08T08:04:19.314Z"
   },
   {
    "duration": 4,
    "start_time": "2022-07-08T08:04:19.323Z"
   },
   {
    "duration": 13,
    "start_time": "2022-07-08T08:04:19.328Z"
   },
   {
    "duration": 9,
    "start_time": "2022-07-08T08:04:19.342Z"
   },
   {
    "duration": 11,
    "start_time": "2022-07-08T08:04:19.352Z"
   },
   {
    "duration": 5,
    "start_time": "2022-07-08T08:04:19.364Z"
   },
   {
    "duration": 41,
    "start_time": "2022-07-08T08:04:19.371Z"
   },
   {
    "duration": 20,
    "start_time": "2022-07-08T08:04:19.413Z"
   },
   {
    "duration": 5,
    "start_time": "2022-07-08T08:04:19.434Z"
   },
   {
    "duration": 5,
    "start_time": "2022-07-08T08:04:19.441Z"
   },
   {
    "duration": 10,
    "start_time": "2022-07-08T08:04:19.447Z"
   },
   {
    "duration": 8,
    "start_time": "2022-07-08T08:04:19.459Z"
   },
   {
    "duration": 8,
    "start_time": "2022-07-08T08:04:19.468Z"
   },
   {
    "duration": 37,
    "start_time": "2022-07-08T08:04:19.477Z"
   },
   {
    "duration": 12,
    "start_time": "2022-07-08T08:04:19.516Z"
   },
   {
    "duration": 18,
    "start_time": "2022-07-08T08:04:19.530Z"
   },
   {
    "duration": 322,
    "start_time": "2022-07-08T08:04:19.549Z"
   },
   {
    "duration": 267,
    "start_time": "2022-07-08T08:04:19.873Z"
   },
   {
    "duration": 220,
    "start_time": "2022-07-08T08:04:20.142Z"
   },
   {
    "duration": 311,
    "start_time": "2022-07-08T08:04:20.365Z"
   },
   {
    "duration": 183,
    "start_time": "2022-07-08T08:04:20.677Z"
   },
   {
    "duration": 291,
    "start_time": "2022-07-08T08:04:20.862Z"
   },
   {
    "duration": 104,
    "start_time": "2022-07-08T08:04:21.154Z"
   },
   {
    "duration": 0,
    "start_time": "2022-07-08T08:04:21.259Z"
   },
   {
    "duration": 0,
    "start_time": "2022-07-08T08:04:21.260Z"
   },
   {
    "duration": 0,
    "start_time": "2022-07-08T08:04:21.261Z"
   },
   {
    "duration": 0,
    "start_time": "2022-07-08T08:04:21.262Z"
   },
   {
    "duration": 0,
    "start_time": "2022-07-08T08:04:21.263Z"
   },
   {
    "duration": 0,
    "start_time": "2022-07-08T08:04:21.265Z"
   },
   {
    "duration": 119,
    "start_time": "2022-07-08T08:05:15.530Z"
   },
   {
    "duration": 103,
    "start_time": "2022-07-08T08:05:17.855Z"
   },
   {
    "duration": 4,
    "start_time": "2022-07-08T08:05:19.752Z"
   },
   {
    "duration": 132,
    "start_time": "2022-07-08T08:05:22.505Z"
   },
   {
    "duration": 226,
    "start_time": "2022-07-08T08:05:36.063Z"
   },
   {
    "duration": 5,
    "start_time": "2022-07-08T08:05:38.527Z"
   },
   {
    "duration": 133,
    "start_time": "2022-07-08T08:05:48.355Z"
   },
   {
    "duration": 5,
    "start_time": "2022-07-08T08:05:51.925Z"
   },
   {
    "duration": 321,
    "start_time": "2022-07-08T08:05:59.646Z"
   },
   {
    "duration": 342,
    "start_time": "2022-07-08T08:06:49.223Z"
   },
   {
    "duration": 362,
    "start_time": "2022-07-08T08:07:02.806Z"
   },
   {
    "duration": 10,
    "start_time": "2022-07-08T08:52:38.509Z"
   },
   {
    "duration": 11,
    "start_time": "2022-07-08T08:52:43.268Z"
   },
   {
    "duration": 378,
    "start_time": "2022-07-08T08:53:05.262Z"
   },
   {
    "duration": 11,
    "start_time": "2022-07-08T08:53:41.490Z"
   },
   {
    "duration": 11,
    "start_time": "2022-07-08T09:40:46.547Z"
   },
   {
    "duration": 9,
    "start_time": "2022-07-08T09:41:24.871Z"
   },
   {
    "duration": 22,
    "start_time": "2022-07-08T09:43:50.845Z"
   },
   {
    "duration": 26,
    "start_time": "2022-07-08T09:43:55.062Z"
   },
   {
    "duration": 23,
    "start_time": "2022-07-08T09:44:52.684Z"
   },
   {
    "duration": 25,
    "start_time": "2022-07-08T09:56:33.453Z"
   },
   {
    "duration": 358,
    "start_time": "2022-07-08T09:56:44.729Z"
   },
   {
    "duration": 11,
    "start_time": "2022-07-08T09:58:45.123Z"
   },
   {
    "duration": 13,
    "start_time": "2022-07-08T09:58:54.706Z"
   },
   {
    "duration": 77,
    "start_time": "2022-07-08T10:09:22.897Z"
   },
   {
    "duration": 1207,
    "start_time": "2022-07-08T17:57:18.456Z"
   },
   {
    "duration": 45,
    "start_time": "2022-07-08T17:57:19.665Z"
   },
   {
    "duration": 19,
    "start_time": "2022-07-08T17:57:19.712Z"
   },
   {
    "duration": 5,
    "start_time": "2022-07-08T17:57:19.733Z"
   },
   {
    "duration": 6,
    "start_time": "2022-07-08T17:57:19.739Z"
   },
   {
    "duration": 14,
    "start_time": "2022-07-08T17:57:19.747Z"
   },
   {
    "duration": 7,
    "start_time": "2022-07-08T17:57:19.763Z"
   },
   {
    "duration": 21,
    "start_time": "2022-07-08T17:57:19.771Z"
   },
   {
    "duration": 30,
    "start_time": "2022-07-08T17:57:19.794Z"
   },
   {
    "duration": 8,
    "start_time": "2022-07-08T17:57:19.826Z"
   },
   {
    "duration": 12,
    "start_time": "2022-07-08T17:57:19.835Z"
   },
   {
    "duration": 7,
    "start_time": "2022-07-08T17:57:19.849Z"
   },
   {
    "duration": 8,
    "start_time": "2022-07-08T17:57:19.858Z"
   },
   {
    "duration": 8,
    "start_time": "2022-07-08T17:57:19.868Z"
   },
   {
    "duration": 15,
    "start_time": "2022-07-08T17:57:19.877Z"
   },
   {
    "duration": 37,
    "start_time": "2022-07-08T17:57:19.893Z"
   },
   {
    "duration": 5,
    "start_time": "2022-07-08T17:57:19.932Z"
   },
   {
    "duration": 6,
    "start_time": "2022-07-08T17:57:19.939Z"
   },
   {
    "duration": 10,
    "start_time": "2022-07-08T17:57:19.947Z"
   },
   {
    "duration": 10,
    "start_time": "2022-07-08T17:57:19.959Z"
   },
   {
    "duration": 14,
    "start_time": "2022-07-08T17:57:19.971Z"
   },
   {
    "duration": 37,
    "start_time": "2022-07-08T17:57:19.987Z"
   },
   {
    "duration": 13,
    "start_time": "2022-07-08T17:57:20.026Z"
   },
   {
    "duration": 19,
    "start_time": "2022-07-08T17:57:20.042Z"
   },
   {
    "duration": 312,
    "start_time": "2022-07-08T17:57:20.063Z"
   },
   {
    "duration": 250,
    "start_time": "2022-07-08T17:57:20.377Z"
   },
   {
    "duration": 199,
    "start_time": "2022-07-08T17:57:20.629Z"
   },
   {
    "duration": 282,
    "start_time": "2022-07-08T17:57:20.831Z"
   },
   {
    "duration": 177,
    "start_time": "2022-07-08T17:57:21.122Z"
   },
   {
    "duration": 308,
    "start_time": "2022-07-08T17:57:21.301Z"
   },
   {
    "duration": 125,
    "start_time": "2022-07-08T17:57:21.610Z"
   },
   {
    "duration": 130,
    "start_time": "2022-07-08T17:57:21.737Z"
   },
   {
    "duration": 5,
    "start_time": "2022-07-08T17:57:21.869Z"
   },
   {
    "duration": 170,
    "start_time": "2022-07-08T17:57:21.876Z"
   },
   {
    "duration": 232,
    "start_time": "2022-07-08T17:57:22.048Z"
   },
   {
    "duration": 5,
    "start_time": "2022-07-08T17:57:22.282Z"
   },
   {
    "duration": 401,
    "start_time": "2022-07-08T17:57:22.289Z"
   },
   {
    "duration": 11,
    "start_time": "2022-07-08T17:57:22.692Z"
   },
   {
    "duration": 23,
    "start_time": "2022-07-08T17:57:22.704Z"
   },
   {
    "duration": 39,
    "start_time": "2022-07-08T17:57:22.729Z"
   },
   {
    "duration": 14,
    "start_time": "2022-07-08T17:57:22.769Z"
   },
   {
    "duration": 102,
    "start_time": "2022-07-08T18:08:34.790Z"
   },
   {
    "duration": 192,
    "start_time": "2022-07-08T18:22:20.023Z"
   },
   {
    "duration": 212,
    "start_time": "2022-07-08T18:25:43.262Z"
   },
   {
    "duration": 244,
    "start_time": "2022-07-08T18:26:00.036Z"
   },
   {
    "duration": 256,
    "start_time": "2022-07-08T18:26:14.335Z"
   },
   {
    "duration": 161,
    "start_time": "2022-07-08T18:45:46.950Z"
   },
   {
    "duration": 1288,
    "start_time": "2022-07-08T20:15:09.724Z"
   },
   {
    "duration": 91,
    "start_time": "2022-07-08T20:15:39.760Z"
   },
   {
    "duration": 1334,
    "start_time": "2022-07-09T07:19:05.007Z"
   },
   {
    "duration": 111,
    "start_time": "2022-07-09T07:19:06.347Z"
   },
   {
    "duration": 20,
    "start_time": "2022-07-09T07:19:06.460Z"
   },
   {
    "duration": 12,
    "start_time": "2022-07-09T07:19:06.481Z"
   },
   {
    "duration": 16,
    "start_time": "2022-07-09T07:19:06.495Z"
   },
   {
    "duration": 15,
    "start_time": "2022-07-09T07:19:06.512Z"
   },
   {
    "duration": 29,
    "start_time": "2022-07-09T07:19:06.529Z"
   },
   {
    "duration": 36,
    "start_time": "2022-07-09T07:19:06.560Z"
   },
   {
    "duration": 5,
    "start_time": "2022-07-09T07:19:06.598Z"
   },
   {
    "duration": 7,
    "start_time": "2022-07-09T07:19:06.605Z"
   },
   {
    "duration": 19,
    "start_time": "2022-07-09T07:19:06.623Z"
   },
   {
    "duration": 13,
    "start_time": "2022-07-09T07:19:06.645Z"
   },
   {
    "duration": 18,
    "start_time": "2022-07-09T07:19:06.660Z"
   },
   {
    "duration": 51,
    "start_time": "2022-07-09T07:19:06.679Z"
   },
   {
    "duration": 24,
    "start_time": "2022-07-09T07:19:06.731Z"
   },
   {
    "duration": 39,
    "start_time": "2022-07-09T07:19:06.756Z"
   },
   {
    "duration": 6,
    "start_time": "2022-07-09T07:19:06.797Z"
   },
   {
    "duration": 18,
    "start_time": "2022-07-09T07:19:06.805Z"
   },
   {
    "duration": 14,
    "start_time": "2022-07-09T07:19:06.825Z"
   },
   {
    "duration": 19,
    "start_time": "2022-07-09T07:19:06.841Z"
   },
   {
    "duration": 11,
    "start_time": "2022-07-09T07:19:06.862Z"
   },
   {
    "duration": 874,
    "start_time": "2022-07-09T07:19:06.874Z"
   },
   {
    "duration": 0,
    "start_time": "2022-07-09T07:19:07.751Z"
   },
   {
    "duration": 0,
    "start_time": "2022-07-09T07:19:07.754Z"
   },
   {
    "duration": 0,
    "start_time": "2022-07-09T07:19:07.756Z"
   },
   {
    "duration": 0,
    "start_time": "2022-07-09T07:19:07.758Z"
   },
   {
    "duration": 0,
    "start_time": "2022-07-09T07:19:07.759Z"
   },
   {
    "duration": 0,
    "start_time": "2022-07-09T07:19:07.761Z"
   },
   {
    "duration": 0,
    "start_time": "2022-07-09T07:19:07.762Z"
   },
   {
    "duration": 0,
    "start_time": "2022-07-09T07:19:07.764Z"
   },
   {
    "duration": 0,
    "start_time": "2022-07-09T07:19:07.765Z"
   },
   {
    "duration": 0,
    "start_time": "2022-07-09T07:19:07.767Z"
   },
   {
    "duration": 0,
    "start_time": "2022-07-09T07:19:07.768Z"
   },
   {
    "duration": 0,
    "start_time": "2022-07-09T07:19:07.770Z"
   },
   {
    "duration": 0,
    "start_time": "2022-07-09T07:19:07.771Z"
   },
   {
    "duration": 0,
    "start_time": "2022-07-09T07:19:07.773Z"
   },
   {
    "duration": 0,
    "start_time": "2022-07-09T07:19:07.775Z"
   },
   {
    "duration": 0,
    "start_time": "2022-07-09T07:19:07.776Z"
   },
   {
    "duration": 0,
    "start_time": "2022-07-09T07:19:07.777Z"
   },
   {
    "duration": 0,
    "start_time": "2022-07-09T07:19:07.779Z"
   },
   {
    "duration": 0,
    "start_time": "2022-07-09T07:19:07.780Z"
   },
   {
    "duration": 0,
    "start_time": "2022-07-09T07:19:07.781Z"
   },
   {
    "duration": 4,
    "start_time": "2022-07-09T07:20:08.096Z"
   },
   {
    "duration": 4,
    "start_time": "2022-07-09T07:20:20.960Z"
   },
   {
    "duration": 12,
    "start_time": "2022-07-09T07:21:28.454Z"
   },
   {
    "duration": 12,
    "start_time": "2022-07-09T07:21:39.429Z"
   },
   {
    "duration": 948,
    "start_time": "2022-07-09T07:21:57.013Z"
   },
   {
    "duration": 10,
    "start_time": "2022-07-09T07:22:06.382Z"
   },
   {
    "duration": 9,
    "start_time": "2022-07-09T07:22:26.021Z"
   },
   {
    "duration": 7,
    "start_time": "2022-07-09T07:22:41.897Z"
   },
   {
    "duration": 7,
    "start_time": "2022-07-09T07:22:50.383Z"
   },
   {
    "duration": 10,
    "start_time": "2022-07-09T07:22:57.629Z"
   },
   {
    "duration": 9,
    "start_time": "2022-07-09T07:23:01.966Z"
   },
   {
    "duration": 14,
    "start_time": "2022-07-09T07:23:27.920Z"
   },
   {
    "duration": 972,
    "start_time": "2022-07-09T07:24:32.939Z"
   },
   {
    "duration": 19,
    "start_time": "2022-07-09T07:24:54.823Z"
   },
   {
    "duration": 11,
    "start_time": "2022-07-09T07:25:05.497Z"
   },
   {
    "duration": 33,
    "start_time": "2022-07-09T07:25:44.136Z"
   },
   {
    "duration": 10,
    "start_time": "2022-07-09T07:26:15.874Z"
   },
   {
    "duration": 11,
    "start_time": "2022-07-09T07:26:23.750Z"
   },
   {
    "duration": 26,
    "start_time": "2022-07-09T07:26:27.544Z"
   },
   {
    "duration": 14,
    "start_time": "2022-07-09T07:27:07.588Z"
   },
   {
    "duration": 18,
    "start_time": "2022-07-09T07:27:32.822Z"
   },
   {
    "duration": 11,
    "start_time": "2022-07-09T07:27:47.452Z"
   },
   {
    "duration": 13,
    "start_time": "2022-07-09T07:28:05.749Z"
   },
   {
    "duration": 11,
    "start_time": "2022-07-09T07:28:41.159Z"
   },
   {
    "duration": 479,
    "start_time": "2022-07-09T07:28:54.871Z"
   },
   {
    "duration": 13,
    "start_time": "2022-07-09T07:29:03.779Z"
   },
   {
    "duration": 138,
    "start_time": "2022-07-09T07:30:19.005Z"
   },
   {
    "duration": 261,
    "start_time": "2022-07-09T07:30:35.856Z"
   },
   {
    "duration": 176,
    "start_time": "2022-07-09T07:30:54.899Z"
   },
   {
    "duration": 24,
    "start_time": "2022-07-09T07:31:12.939Z"
   },
   {
    "duration": 25,
    "start_time": "2022-07-09T07:32:12.233Z"
   },
   {
    "duration": 20,
    "start_time": "2022-07-09T07:32:27.470Z"
   },
   {
    "duration": 73,
    "start_time": "2022-07-09T07:32:37.042Z"
   },
   {
    "duration": 17,
    "start_time": "2022-07-09T07:32:55.256Z"
   },
   {
    "duration": 23,
    "start_time": "2022-07-09T07:33:00.453Z"
   },
   {
    "duration": 30,
    "start_time": "2022-07-09T07:33:06.255Z"
   },
   {
    "duration": 293,
    "start_time": "2022-07-09T07:33:10.650Z"
   },
   {
    "duration": 18,
    "start_time": "2022-07-09T07:36:45.717Z"
   },
   {
    "duration": 15,
    "start_time": "2022-07-09T07:36:52.066Z"
   },
   {
    "duration": 1269,
    "start_time": "2022-07-09T07:36:56.895Z"
   },
   {
    "duration": 42,
    "start_time": "2022-07-09T07:36:58.170Z"
   },
   {
    "duration": 42,
    "start_time": "2022-07-09T07:36:58.214Z"
   },
   {
    "duration": 17,
    "start_time": "2022-07-09T07:36:58.262Z"
   },
   {
    "duration": 7,
    "start_time": "2022-07-09T07:36:58.281Z"
   },
   {
    "duration": 13,
    "start_time": "2022-07-09T07:36:58.290Z"
   },
   {
    "duration": 9,
    "start_time": "2022-07-09T07:36:58.305Z"
   },
   {
    "duration": 66,
    "start_time": "2022-07-09T07:36:58.315Z"
   },
   {
    "duration": 20,
    "start_time": "2022-07-09T07:36:58.383Z"
   },
   {
    "duration": 8,
    "start_time": "2022-07-09T07:36:58.406Z"
   },
   {
    "duration": 18,
    "start_time": "2022-07-09T07:36:58.415Z"
   },
   {
    "duration": 48,
    "start_time": "2022-07-09T07:36:58.435Z"
   },
   {
    "duration": 12,
    "start_time": "2022-07-09T07:36:58.485Z"
   },
   {
    "duration": 10,
    "start_time": "2022-07-09T07:36:58.498Z"
   },
   {
    "duration": 16,
    "start_time": "2022-07-09T07:36:58.510Z"
   },
   {
    "duration": 58,
    "start_time": "2022-07-09T07:36:58.532Z"
   },
   {
    "duration": 6,
    "start_time": "2022-07-09T07:36:58.592Z"
   },
   {
    "duration": 8,
    "start_time": "2022-07-09T07:36:58.599Z"
   },
   {
    "duration": 10,
    "start_time": "2022-07-09T07:36:58.608Z"
   },
   {
    "duration": 45,
    "start_time": "2022-07-09T07:36:58.619Z"
   },
   {
    "duration": 7,
    "start_time": "2022-07-09T07:36:58.669Z"
   },
   {
    "duration": 23,
    "start_time": "2022-07-09T07:36:58.678Z"
   },
   {
    "duration": 8,
    "start_time": "2022-07-09T07:36:58.702Z"
   },
   {
    "duration": 300,
    "start_time": "2022-07-09T07:36:58.711Z"
   },
   {
    "duration": 35,
    "start_time": "2022-07-09T07:36:59.014Z"
   },
   {
    "duration": 27,
    "start_time": "2022-07-09T07:36:59.055Z"
   },
   {
    "duration": 26,
    "start_time": "2022-07-09T07:36:59.084Z"
   },
   {
    "duration": 360,
    "start_time": "2022-07-09T07:36:59.113Z"
   },
   {
    "duration": 314,
    "start_time": "2022-07-09T07:36:59.475Z"
   },
   {
    "duration": 247,
    "start_time": "2022-07-09T07:36:59.791Z"
   },
   {
    "duration": 273,
    "start_time": "2022-07-09T07:37:00.042Z"
   },
   {
    "duration": 307,
    "start_time": "2022-07-09T07:37:00.323Z"
   },
   {
    "duration": 220,
    "start_time": "2022-07-09T07:37:00.632Z"
   },
   {
    "duration": 301,
    "start_time": "2022-07-09T07:37:00.860Z"
   },
   {
    "duration": 137,
    "start_time": "2022-07-09T07:37:01.168Z"
   },
   {
    "duration": 262,
    "start_time": "2022-07-09T07:37:01.307Z"
   },
   {
    "duration": 5,
    "start_time": "2022-07-09T07:37:01.573Z"
   },
   {
    "duration": 176,
    "start_time": "2022-07-09T07:37:01.580Z"
   },
   {
    "duration": 170,
    "start_time": "2022-07-09T07:37:01.760Z"
   },
   {
    "duration": 10,
    "start_time": "2022-07-09T07:37:01.934Z"
   },
   {
    "duration": 457,
    "start_time": "2022-07-09T07:37:01.953Z"
   },
   {
    "duration": 18,
    "start_time": "2022-07-09T07:37:02.412Z"
   },
   {
    "duration": 46,
    "start_time": "2022-07-09T07:37:02.432Z"
   },
   {
    "duration": 63,
    "start_time": "2022-07-09T07:37:02.479Z"
   },
   {
    "duration": 21,
    "start_time": "2022-07-09T07:37:02.543Z"
   },
   {
    "duration": 13,
    "start_time": "2022-07-09T07:48:52.969Z"
   },
   {
    "duration": 18,
    "start_time": "2022-07-09T07:52:57.485Z"
   },
   {
    "duration": 200,
    "start_time": "2022-07-09T07:53:22.853Z"
   },
   {
    "duration": 444,
    "start_time": "2022-07-09T07:53:25.849Z"
   },
   {
    "duration": 23,
    "start_time": "2022-07-09T07:53:29.245Z"
   },
   {
    "duration": 34,
    "start_time": "2022-07-09T07:53:39.353Z"
   },
   {
    "duration": 13,
    "start_time": "2022-07-09T07:54:21.860Z"
   },
   {
    "duration": 277,
    "start_time": "2022-07-09T07:56:34.533Z"
   },
   {
    "duration": 262,
    "start_time": "2022-07-09T07:56:48.715Z"
   },
   {
    "duration": 254,
    "start_time": "2022-07-09T07:56:57.251Z"
   },
   {
    "duration": 239,
    "start_time": "2022-07-09T07:57:33.963Z"
   },
   {
    "duration": 248,
    "start_time": "2022-07-09T08:06:02.456Z"
   },
   {
    "duration": 331,
    "start_time": "2022-07-09T08:08:05.823Z"
   },
   {
    "duration": 255,
    "start_time": "2022-07-09T08:08:18.076Z"
   },
   {
    "duration": 359,
    "start_time": "2022-07-09T08:08:37.915Z"
   },
   {
    "duration": 127,
    "start_time": "2022-07-09T08:09:32.976Z"
   },
   {
    "duration": 213,
    "start_time": "2022-07-09T08:13:27.455Z"
   },
   {
    "duration": 144,
    "start_time": "2022-07-09T08:13:37.520Z"
   },
   {
    "duration": 116,
    "start_time": "2022-07-09T08:13:53.890Z"
   },
   {
    "duration": 127,
    "start_time": "2022-07-09T08:13:57.658Z"
   },
   {
    "duration": 143,
    "start_time": "2022-07-09T08:14:17.897Z"
   },
   {
    "duration": 142,
    "start_time": "2022-07-09T08:14:49.978Z"
   },
   {
    "duration": 134,
    "start_time": "2022-07-09T08:14:54.885Z"
   },
   {
    "duration": 115,
    "start_time": "2022-07-09T08:14:58.432Z"
   },
   {
    "duration": 122,
    "start_time": "2022-07-09T08:18:43.760Z"
   },
   {
    "duration": 124,
    "start_time": "2022-07-09T08:19:02.521Z"
   },
   {
    "duration": 125,
    "start_time": "2022-07-09T08:19:07.270Z"
   },
   {
    "duration": 136,
    "start_time": "2022-07-09T08:19:12.029Z"
   },
   {
    "duration": 123,
    "start_time": "2022-07-09T08:19:17.228Z"
   },
   {
    "duration": 122,
    "start_time": "2022-07-09T08:19:26.845Z"
   },
   {
    "duration": 124,
    "start_time": "2022-07-09T08:21:46.671Z"
   },
   {
    "duration": 135,
    "start_time": "2022-07-09T08:23:14.892Z"
   },
   {
    "duration": 262,
    "start_time": "2022-07-09T08:23:21.226Z"
   },
   {
    "duration": 131,
    "start_time": "2022-07-09T08:23:34.581Z"
   },
   {
    "duration": 118,
    "start_time": "2022-07-09T08:23:59.213Z"
   },
   {
    "duration": 148,
    "start_time": "2022-07-09T08:24:09.405Z"
   },
   {
    "duration": 121,
    "start_time": "2022-07-09T08:24:20.181Z"
   },
   {
    "duration": 139,
    "start_time": "2022-07-09T08:24:24.302Z"
   },
   {
    "duration": 122,
    "start_time": "2022-07-09T08:24:36.278Z"
   },
   {
    "duration": 135,
    "start_time": "2022-07-09T08:24:47.872Z"
   },
   {
    "duration": 135,
    "start_time": "2022-07-09T08:25:34.161Z"
   },
   {
    "duration": 143,
    "start_time": "2022-07-09T08:25:39.735Z"
   },
   {
    "duration": 160,
    "start_time": "2022-07-09T08:25:51.785Z"
   },
   {
    "duration": 4,
    "start_time": "2022-07-09T08:38:16.988Z"
   },
   {
    "duration": 395,
    "start_time": "2022-07-09T08:39:02.942Z"
   },
   {
    "duration": 349,
    "start_time": "2022-07-09T08:39:45.324Z"
   },
   {
    "duration": 5,
    "start_time": "2022-07-09T08:40:39.754Z"
   },
   {
    "duration": 5,
    "start_time": "2022-07-09T08:40:52.136Z"
   },
   {
    "duration": 12,
    "start_time": "2022-07-09T08:41:45.993Z"
   },
   {
    "duration": 31,
    "start_time": "2022-07-09T08:41:54.090Z"
   },
   {
    "duration": 1163,
    "start_time": "2022-07-09T08:52:02.431Z"
   },
   {
    "duration": 41,
    "start_time": "2022-07-09T08:52:03.596Z"
   },
   {
    "duration": 21,
    "start_time": "2022-07-09T08:52:03.639Z"
   },
   {
    "duration": 5,
    "start_time": "2022-07-09T08:52:03.662Z"
   },
   {
    "duration": 12,
    "start_time": "2022-07-09T08:52:03.668Z"
   },
   {
    "duration": 22,
    "start_time": "2022-07-09T08:52:03.681Z"
   },
   {
    "duration": 12,
    "start_time": "2022-07-09T08:52:03.705Z"
   },
   {
    "duration": 24,
    "start_time": "2022-07-09T08:52:03.718Z"
   },
   {
    "duration": 17,
    "start_time": "2022-07-09T08:52:03.744Z"
   },
   {
    "duration": 12,
    "start_time": "2022-07-09T08:52:03.763Z"
   },
   {
    "duration": 16,
    "start_time": "2022-07-09T08:52:03.777Z"
   },
   {
    "duration": 10,
    "start_time": "2022-07-09T08:52:03.794Z"
   },
   {
    "duration": 13,
    "start_time": "2022-07-09T08:52:03.805Z"
   },
   {
    "duration": 10,
    "start_time": "2022-07-09T08:52:03.819Z"
   },
   {
    "duration": 11,
    "start_time": "2022-07-09T08:52:03.830Z"
   },
   {
    "duration": 24,
    "start_time": "2022-07-09T08:52:03.843Z"
   },
   {
    "duration": 12,
    "start_time": "2022-07-09T08:52:03.868Z"
   },
   {
    "duration": 10,
    "start_time": "2022-07-09T08:52:03.881Z"
   },
   {
    "duration": 9,
    "start_time": "2022-07-09T08:52:03.893Z"
   },
   {
    "duration": 8,
    "start_time": "2022-07-09T08:52:03.904Z"
   },
   {
    "duration": 11,
    "start_time": "2022-07-09T08:52:03.913Z"
   },
   {
    "duration": 15,
    "start_time": "2022-07-09T08:52:03.926Z"
   },
   {
    "duration": 10,
    "start_time": "2022-07-09T08:52:03.942Z"
   },
   {
    "duration": 254,
    "start_time": "2022-07-09T08:52:03.954Z"
   },
   {
    "duration": 21,
    "start_time": "2022-07-09T08:52:04.210Z"
   },
   {
    "duration": 30,
    "start_time": "2022-07-09T08:52:04.233Z"
   },
   {
    "duration": 18,
    "start_time": "2022-07-09T08:52:04.265Z"
   },
   {
    "duration": 348,
    "start_time": "2022-07-09T08:52:04.287Z"
   },
   {
    "duration": 6,
    "start_time": "2022-07-09T08:52:04.637Z"
   },
   {
    "duration": 294,
    "start_time": "2022-07-09T08:52:04.644Z"
   },
   {
    "duration": 230,
    "start_time": "2022-07-09T08:52:04.939Z"
   },
   {
    "duration": 235,
    "start_time": "2022-07-09T08:52:05.171Z"
   },
   {
    "duration": 333,
    "start_time": "2022-07-09T08:52:05.408Z"
   },
   {
    "duration": 172,
    "start_time": "2022-07-09T08:52:05.743Z"
   },
   {
    "duration": 293,
    "start_time": "2022-07-09T08:52:05.917Z"
   },
   {
    "duration": 129,
    "start_time": "2022-07-09T08:52:06.212Z"
   },
   {
    "duration": 205,
    "start_time": "2022-07-09T08:52:06.342Z"
   },
   {
    "duration": 4,
    "start_time": "2022-07-09T08:52:06.549Z"
   },
   {
    "duration": 155,
    "start_time": "2022-07-09T08:52:06.555Z"
   },
   {
    "duration": 162,
    "start_time": "2022-07-09T08:52:06.712Z"
   },
   {
    "duration": 152,
    "start_time": "2022-07-09T08:52:06.876Z"
   },
   {
    "duration": 5,
    "start_time": "2022-07-09T08:52:07.030Z"
   },
   {
    "duration": 386,
    "start_time": "2022-07-09T08:52:07.036Z"
   },
   {
    "duration": 11,
    "start_time": "2022-07-09T08:52:07.424Z"
   },
   {
    "duration": 21,
    "start_time": "2022-07-09T08:52:07.437Z"
   },
   {
    "duration": 29,
    "start_time": "2022-07-09T08:52:07.459Z"
   },
   {
    "duration": 14,
    "start_time": "2022-07-09T08:52:07.490Z"
   },
   {
    "duration": 1138,
    "start_time": "2022-07-09T15:17:46.679Z"
   },
   {
    "duration": 172,
    "start_time": "2022-07-09T15:17:47.818Z"
   },
   {
    "duration": 20,
    "start_time": "2022-07-09T15:17:47.992Z"
   },
   {
    "duration": 6,
    "start_time": "2022-07-09T15:17:48.014Z"
   },
   {
    "duration": 5,
    "start_time": "2022-07-09T15:17:48.021Z"
   },
   {
    "duration": 17,
    "start_time": "2022-07-09T15:17:48.028Z"
   },
   {
    "duration": 11,
    "start_time": "2022-07-09T15:17:48.046Z"
   },
   {
    "duration": 54,
    "start_time": "2022-07-09T15:17:48.059Z"
   },
   {
    "duration": 7,
    "start_time": "2022-07-09T15:17:48.114Z"
   },
   {
    "duration": 5,
    "start_time": "2022-07-09T15:17:48.124Z"
   },
   {
    "duration": 13,
    "start_time": "2022-07-09T15:17:48.130Z"
   },
   {
    "duration": 8,
    "start_time": "2022-07-09T15:17:48.145Z"
   },
   {
    "duration": 11,
    "start_time": "2022-07-09T15:17:48.154Z"
   },
   {
    "duration": 36,
    "start_time": "2022-07-09T15:17:48.167Z"
   },
   {
    "duration": 7,
    "start_time": "2022-07-09T15:17:48.204Z"
   },
   {
    "duration": 23,
    "start_time": "2022-07-09T15:17:48.213Z"
   },
   {
    "duration": 8,
    "start_time": "2022-07-09T15:17:48.238Z"
   },
   {
    "duration": 7,
    "start_time": "2022-07-09T15:17:48.248Z"
   },
   {
    "duration": 43,
    "start_time": "2022-07-09T15:17:48.256Z"
   },
   {
    "duration": 10,
    "start_time": "2022-07-09T15:17:48.301Z"
   },
   {
    "duration": 8,
    "start_time": "2022-07-09T15:17:48.313Z"
   },
   {
    "duration": 19,
    "start_time": "2022-07-09T15:17:48.322Z"
   },
   {
    "duration": 9,
    "start_time": "2022-07-09T15:17:48.342Z"
   },
   {
    "duration": 280,
    "start_time": "2022-07-09T15:17:48.352Z"
   },
   {
    "duration": 11,
    "start_time": "2022-07-09T15:17:48.634Z"
   },
   {
    "duration": 35,
    "start_time": "2022-07-09T15:17:48.647Z"
   },
   {
    "duration": 42,
    "start_time": "2022-07-09T15:17:48.683Z"
   },
   {
    "duration": 338,
    "start_time": "2022-07-09T15:17:48.730Z"
   },
   {
    "duration": 12,
    "start_time": "2022-07-09T15:17:49.077Z"
   },
   {
    "duration": 323,
    "start_time": "2022-07-09T15:17:49.090Z"
   },
   {
    "duration": 227,
    "start_time": "2022-07-09T15:17:49.415Z"
   },
   {
    "duration": 246,
    "start_time": "2022-07-09T15:17:49.645Z"
   },
   {
    "duration": 317,
    "start_time": "2022-07-09T15:17:49.893Z"
   },
   {
    "duration": 205,
    "start_time": "2022-07-09T15:17:50.211Z"
   },
   {
    "duration": 336,
    "start_time": "2022-07-09T15:17:50.418Z"
   },
   {
    "duration": 135,
    "start_time": "2022-07-09T15:17:50.756Z"
   },
   {
    "duration": 207,
    "start_time": "2022-07-09T15:17:50.893Z"
   },
   {
    "duration": 8,
    "start_time": "2022-07-09T15:17:51.101Z"
   },
   {
    "duration": 176,
    "start_time": "2022-07-09T15:17:51.110Z"
   },
   {
    "duration": 168,
    "start_time": "2022-07-09T15:17:51.288Z"
   },
   {
    "duration": 196,
    "start_time": "2022-07-09T15:17:51.458Z"
   },
   {
    "duration": 14,
    "start_time": "2022-07-09T15:17:51.656Z"
   },
   {
    "duration": 416,
    "start_time": "2022-07-09T15:17:51.675Z"
   },
   {
    "duration": 11,
    "start_time": "2022-07-09T15:17:52.094Z"
   },
   {
    "duration": 12,
    "start_time": "2022-07-09T15:17:52.107Z"
   },
   {
    "duration": 60,
    "start_time": "2022-07-09T15:17:52.121Z"
   },
   {
    "duration": 19,
    "start_time": "2022-07-09T15:17:52.183Z"
   },
   {
    "duration": 1307,
    "start_time": "2022-09-26T17:56:34.616Z"
   },
   {
    "duration": 189,
    "start_time": "2022-09-26T17:56:35.926Z"
   },
   {
    "duration": 21,
    "start_time": "2022-09-26T17:56:36.117Z"
   },
   {
    "duration": 26,
    "start_time": "2022-09-26T17:56:36.140Z"
   },
   {
    "duration": 15,
    "start_time": "2022-09-26T17:56:36.168Z"
   },
   {
    "duration": 30,
    "start_time": "2022-09-26T17:56:36.185Z"
   },
   {
    "duration": 31,
    "start_time": "2022-09-26T17:56:36.217Z"
   },
   {
    "duration": 40,
    "start_time": "2022-09-26T17:56:36.250Z"
   },
   {
    "duration": 13,
    "start_time": "2022-09-26T17:56:36.291Z"
   },
   {
    "duration": 17,
    "start_time": "2022-09-26T17:56:36.307Z"
   },
   {
    "duration": 22,
    "start_time": "2022-09-26T17:56:36.326Z"
   },
   {
    "duration": 23,
    "start_time": "2022-09-26T17:56:36.351Z"
   },
   {
    "duration": 19,
    "start_time": "2022-09-26T17:56:36.376Z"
   },
   {
    "duration": 22,
    "start_time": "2022-09-26T17:56:36.397Z"
   },
   {
    "duration": 25,
    "start_time": "2022-09-26T17:56:36.421Z"
   },
   {
    "duration": 27,
    "start_time": "2022-09-26T17:56:36.448Z"
   },
   {
    "duration": 18,
    "start_time": "2022-09-26T17:56:36.476Z"
   },
   {
    "duration": 13,
    "start_time": "2022-09-26T17:56:36.496Z"
   },
   {
    "duration": 9,
    "start_time": "2022-09-26T17:56:36.511Z"
   },
   {
    "duration": 9,
    "start_time": "2022-09-26T17:56:36.521Z"
   },
   {
    "duration": 8,
    "start_time": "2022-09-26T17:56:36.532Z"
   },
   {
    "duration": 15,
    "start_time": "2022-09-26T17:56:36.542Z"
   },
   {
    "duration": 8,
    "start_time": "2022-09-26T17:56:36.558Z"
   },
   {
    "duration": 274,
    "start_time": "2022-09-26T17:56:36.567Z"
   },
   {
    "duration": 13,
    "start_time": "2022-09-26T17:56:36.843Z"
   },
   {
    "duration": 21,
    "start_time": "2022-09-26T17:56:36.857Z"
   },
   {
    "duration": 18,
    "start_time": "2022-09-26T17:56:36.879Z"
   },
   {
    "duration": 329,
    "start_time": "2022-09-26T17:56:36.900Z"
   },
   {
    "duration": 11,
    "start_time": "2022-09-26T17:56:37.231Z"
   },
   {
    "duration": 346,
    "start_time": "2022-09-26T17:56:37.244Z"
   },
   {
    "duration": 224,
    "start_time": "2022-09-26T17:56:37.591Z"
   },
   {
    "duration": 240,
    "start_time": "2022-09-26T17:56:37.817Z"
   },
   {
    "duration": 355,
    "start_time": "2022-09-26T17:56:38.059Z"
   },
   {
    "duration": 204,
    "start_time": "2022-09-26T17:56:38.416Z"
   },
   {
    "duration": 305,
    "start_time": "2022-09-26T17:56:38.622Z"
   },
   {
    "duration": 128,
    "start_time": "2022-09-26T17:56:38.929Z"
   },
   {
    "duration": 199,
    "start_time": "2022-09-26T17:56:39.058Z"
   },
   {
    "duration": 4,
    "start_time": "2022-09-26T17:56:39.258Z"
   },
   {
    "duration": 155,
    "start_time": "2022-09-26T17:56:39.263Z"
   },
   {
    "duration": 156,
    "start_time": "2022-09-26T17:56:39.420Z"
   },
   {
    "duration": 160,
    "start_time": "2022-09-26T17:56:39.578Z"
   },
   {
    "duration": 5,
    "start_time": "2022-09-26T17:56:39.740Z"
   },
   {
    "duration": 382,
    "start_time": "2022-09-26T17:56:39.747Z"
   },
   {
    "duration": 14,
    "start_time": "2022-09-26T17:56:40.131Z"
   },
   {
    "duration": 10,
    "start_time": "2022-09-26T17:56:40.147Z"
   },
   {
    "duration": 30,
    "start_time": "2022-09-26T17:56:40.158Z"
   },
   {
    "duration": 14,
    "start_time": "2022-09-26T17:56:40.189Z"
   },
   {
    "duration": 4,
    "start_time": "2022-09-26T17:57:06.018Z"
   },
   {
    "duration": 15,
    "start_time": "2022-09-26T17:57:12.462Z"
   },
   {
    "duration": 99,
    "start_time": "2022-09-26T17:57:20.695Z"
   },
   {
    "duration": 11,
    "start_time": "2022-09-26T17:57:25.223Z"
   },
   {
    "duration": 14,
    "start_time": "2022-09-26T17:57:31.765Z"
   }
  ],
  "kernelspec": {
   "display_name": "Python 3 (ipykernel)",
   "language": "python",
   "name": "python3"
  },
  "language_info": {
   "codemirror_mode": {
    "name": "ipython",
    "version": 3
   },
   "file_extension": ".py",
   "mimetype": "text/x-python",
   "name": "python",
   "nbconvert_exporter": "python",
   "pygments_lexer": "ipython3",
   "version": "3.9.7"
  },
  "toc": {
   "base_numbering": 1,
   "nav_menu": {},
   "number_sections": true,
   "sideBar": true,
   "skip_h1_title": true,
   "title_cell": "Table of Contents",
   "title_sidebar": "Contents",
   "toc_cell": false,
   "toc_position": {},
   "toc_section_display": true,
   "toc_window_display": true
  }
 },
 "nbformat": 4,
 "nbformat_minor": 2
}
