{
 "cells": [
  {
   "cell_type": "markdown",
   "metadata": {},
   "source": [
    "# Сборный проект"
   ]
  },
  {
   "cell_type": "markdown",
   "metadata": {},
   "source": [
    "<font size = +2>Исследование стартапа продуктов питания</font>"
   ]
  },
  {
   "cell_type": "markdown",
   "metadata": {},
   "source": [
    "Вы работаете в стартапе, который продаёт продукты питания. Нужно разобраться, как ведут себя пользователи вашего мобильного приложения.\n",
    "Изучите воронку продаж. Узнайте, как пользователи доходят до покупки. Сколько пользователей доходит до покупки, а сколько — «застревает» на предыдущих шагах? На каких именно?\n",
    "После этого исследуйте результаты A/A/B-эксперимента. Дизайнеры захотели поменять шрифты во всём приложении, а менеджеры испугались, что пользователям будет непривычно. Договорились принять решение по результатам A/A/B-теста. Пользователей разбили на 3 группы: 2 контрольные со старыми шрифтами и одну экспериментальную — с новыми. Выясните, какой шрифт лучше.\n",
    "В случае общей аналитики и A/A/B-эксперимента работайте с одними и теми же данными. "
   ]
  },
  {
   "cell_type": "markdown",
   "metadata": {},
   "source": [
    "## Загрузка библиотек и данных"
   ]
  },
  {
   "cell_type": "code",
   "execution_count": 1,
   "metadata": {},
   "outputs": [],
   "source": [
    "import pandas as pd\n",
    "import numpy as np\n",
    "from matplotlib import pyplot as plt\n",
    "import seaborn as sns\n",
    "from scipy import stats as st\n",
    "import plotly.express as px\n",
    "from plotly import graph_objects as go\n",
    "import math as mth"
   ]
  },
  {
   "cell_type": "code",
   "execution_count": 2,
   "metadata": {},
   "outputs": [],
   "source": [
    "logs = pd.read_csv('/datasets/logs_exp.csv', sep='\\t')"
   ]
  },
  {
   "cell_type": "code",
   "execution_count": 3,
   "metadata": {
    "scrolled": false
   },
   "outputs": [
    {
     "name": "stdout",
     "output_type": "stream",
     "text": [
      "<class 'pandas.core.frame.DataFrame'>\n",
      "RangeIndex: 244126 entries, 0 to 244125\n",
      "Data columns (total 4 columns):\n",
      " #   Column          Non-Null Count   Dtype \n",
      "---  ------          --------------   ----- \n",
      " 0   EventName       244126 non-null  object\n",
      " 1   DeviceIDHash    244126 non-null  int64 \n",
      " 2   EventTimestamp  244126 non-null  int64 \n",
      " 3   ExpId           244126 non-null  int64 \n",
      "dtypes: int64(3), object(1)\n",
      "memory usage: 7.5+ MB\n"
     ]
    },
    {
     "data": {
      "text/html": [
       "<div>\n",
       "<style scoped>\n",
       "    .dataframe tbody tr th:only-of-type {\n",
       "        vertical-align: middle;\n",
       "    }\n",
       "\n",
       "    .dataframe tbody tr th {\n",
       "        vertical-align: top;\n",
       "    }\n",
       "\n",
       "    .dataframe thead th {\n",
       "        text-align: right;\n",
       "    }\n",
       "</style>\n",
       "<table border=\"1\" class=\"dataframe\">\n",
       "  <thead>\n",
       "    <tr style=\"text-align: right;\">\n",
       "      <th></th>\n",
       "      <th>EventName</th>\n",
       "      <th>DeviceIDHash</th>\n",
       "      <th>EventTimestamp</th>\n",
       "      <th>ExpId</th>\n",
       "    </tr>\n",
       "  </thead>\n",
       "  <tbody>\n",
       "    <tr>\n",
       "      <th>0</th>\n",
       "      <td>MainScreenAppear</td>\n",
       "      <td>4575588528974610257</td>\n",
       "      <td>1564029816</td>\n",
       "      <td>246</td>\n",
       "    </tr>\n",
       "    <tr>\n",
       "      <th>1</th>\n",
       "      <td>MainScreenAppear</td>\n",
       "      <td>7416695313311560658</td>\n",
       "      <td>1564053102</td>\n",
       "      <td>246</td>\n",
       "    </tr>\n",
       "    <tr>\n",
       "      <th>2</th>\n",
       "      <td>PaymentScreenSuccessful</td>\n",
       "      <td>3518123091307005509</td>\n",
       "      <td>1564054127</td>\n",
       "      <td>248</td>\n",
       "    </tr>\n",
       "    <tr>\n",
       "      <th>3</th>\n",
       "      <td>CartScreenAppear</td>\n",
       "      <td>3518123091307005509</td>\n",
       "      <td>1564054127</td>\n",
       "      <td>248</td>\n",
       "    </tr>\n",
       "    <tr>\n",
       "      <th>4</th>\n",
       "      <td>PaymentScreenSuccessful</td>\n",
       "      <td>6217807653094995999</td>\n",
       "      <td>1564055322</td>\n",
       "      <td>248</td>\n",
       "    </tr>\n",
       "  </tbody>\n",
       "</table>\n",
       "</div>"
      ],
      "text/plain": [
       "                 EventName         DeviceIDHash  EventTimestamp  ExpId\n",
       "0         MainScreenAppear  4575588528974610257      1564029816    246\n",
       "1         MainScreenAppear  7416695313311560658      1564053102    246\n",
       "2  PaymentScreenSuccessful  3518123091307005509      1564054127    248\n",
       "3         CartScreenAppear  3518123091307005509      1564054127    248\n",
       "4  PaymentScreenSuccessful  6217807653094995999      1564055322    248"
      ]
     },
     "execution_count": 3,
     "metadata": {},
     "output_type": "execute_result"
    }
   ],
   "source": [
    "logs.info()\n",
    "logs.head(5)"
   ]
  },
  {
   "cell_type": "markdown",
   "metadata": {},
   "source": [
    "Получили датасет из 244126 записей, с названием события, айди устройства, временем события и номером эксперимента."
   ]
  },
  {
   "cell_type": "markdown",
   "metadata": {},
   "source": [
    "## Предобработка данных"
   ]
  },
  {
   "cell_type": "code",
   "execution_count": 4,
   "metadata": {},
   "outputs": [],
   "source": [
    "logs.columns=['event_name', 'device_id', 'event_timestamp', 'exp_id']"
   ]
  },
  {
   "cell_type": "code",
   "execution_count": 5,
   "metadata": {},
   "outputs": [],
   "source": [
    "logs['event_timestamp'] = pd.to_datetime(logs['event_timestamp'],unit='s')"
   ]
  },
  {
   "cell_type": "code",
   "execution_count": 6,
   "metadata": {},
   "outputs": [
    {
     "name": "stdout",
     "output_type": "stream",
     "text": [
      "<class 'pandas.core.frame.DataFrame'>\n",
      "RangeIndex: 244126 entries, 0 to 244125\n",
      "Data columns (total 4 columns):\n",
      " #   Column           Non-Null Count   Dtype         \n",
      "---  ------           --------------   -----         \n",
      " 0   event_name       244126 non-null  object        \n",
      " 1   device_id        244126 non-null  int64         \n",
      " 2   event_timestamp  244126 non-null  datetime64[ns]\n",
      " 3   exp_id           244126 non-null  int64         \n",
      "dtypes: datetime64[ns](1), int64(2), object(1)\n",
      "memory usage: 7.5+ MB\n"
     ]
    }
   ],
   "source": [
    "logs.head(5)\n",
    "logs.info()"
   ]
  },
  {
   "cell_type": "code",
   "execution_count": 7,
   "metadata": {},
   "outputs": [
    {
     "data": {
      "text/plain": [
       "413"
      ]
     },
     "execution_count": 7,
     "metadata": {},
     "output_type": "execute_result"
    }
   ],
   "source": [
    "logs.duplicated().sum()"
   ]
  },
  {
   "cell_type": "code",
   "execution_count": 8,
   "metadata": {},
   "outputs": [
    {
     "data": {
      "text/plain": [
       "0.16917493425526162"
      ]
     },
     "execution_count": 8,
     "metadata": {},
     "output_type": "execute_result"
    }
   ],
   "source": [
    "logs.duplicated().sum() / len(logs) * 100"
   ]
  },
  {
   "cell_type": "markdown",
   "metadata": {},
   "source": [
    "Дубликаты составляют всего 0.17% от всего датасета. Их можно удалить."
   ]
  },
  {
   "cell_type": "code",
   "execution_count": 9,
   "metadata": {},
   "outputs": [],
   "source": [
    "logs = logs.drop_duplicates()"
   ]
  },
  {
   "cell_type": "code",
   "execution_count": 10,
   "metadata": {},
   "outputs": [
    {
     "data": {
      "text/plain": [
       "event_name         0\n",
       "device_id          0\n",
       "event_timestamp    0\n",
       "exp_id             0\n",
       "dtype: int64"
      ]
     },
     "execution_count": 10,
     "metadata": {},
     "output_type": "execute_result"
    }
   ],
   "source": [
    "logs.isna().sum()"
   ]
  },
  {
   "cell_type": "markdown",
   "metadata": {},
   "source": [
    "Пропусков нет."
   ]
  },
  {
   "cell_type": "code",
   "execution_count": 11,
   "metadata": {},
   "outputs": [],
   "source": [
    "logs.loc[:,'date'] = logs.loc[:,'event_timestamp'].dt.date"
   ]
  },
  {
   "cell_type": "markdown",
   "metadata": {},
   "source": [
    "## Исследовательский анализ данных"
   ]
  },
  {
   "cell_type": "code",
   "execution_count": 12,
   "metadata": {},
   "outputs": [
    {
     "name": "stdout",
     "output_type": "stream",
     "text": [
      "<class 'pandas.core.frame.DataFrame'>\n",
      "Int64Index: 243713 entries, 0 to 244125\n",
      "Data columns (total 5 columns):\n",
      " #   Column           Non-Null Count   Dtype         \n",
      "---  ------           --------------   -----         \n",
      " 0   event_name       243713 non-null  object        \n",
      " 1   device_id        243713 non-null  int64         \n",
      " 2   event_timestamp  243713 non-null  datetime64[ns]\n",
      " 3   exp_id           243713 non-null  int64         \n",
      " 4   date             243713 non-null  object        \n",
      "dtypes: datetime64[ns](1), int64(2), object(2)\n",
      "memory usage: 11.2+ MB\n"
     ]
    }
   ],
   "source": [
    "logs.info()"
   ]
  },
  {
   "cell_type": "code",
   "execution_count": 13,
   "metadata": {
    "scrolled": true
   },
   "outputs": [
    {
     "data": {
      "text/plain": [
       "array(['MainScreenAppear', 'PaymentScreenSuccessful', 'CartScreenAppear',\n",
       "       'OffersScreenAppear', 'Tutorial'], dtype=object)"
      ]
     },
     "execution_count": 13,
     "metadata": {},
     "output_type": "execute_result"
    }
   ],
   "source": [
    "logs['event_name'].unique()"
   ]
  },
  {
   "cell_type": "markdown",
   "metadata": {},
   "source": [
    "Всего существует 5 уникальных событий - MainScreenAppear, PaymentScreenSuccessful, CartScreenAppear, OffersScreenAppear, Tutorial."
   ]
  },
  {
   "cell_type": "code",
   "execution_count": 14,
   "metadata": {},
   "outputs": [
    {
     "data": {
      "text/plain": [
       "7551"
      ]
     },
     "execution_count": 14,
     "metadata": {},
     "output_type": "execute_result"
    }
   ],
   "source": [
    "logs['device_id'].nunique()"
   ]
  },
  {
   "cell_type": "code",
   "execution_count": 15,
   "metadata": {},
   "outputs": [
    {
     "data": {
      "text/plain": [
       "243713"
      ]
     },
     "execution_count": 15,
     "metadata": {},
     "output_type": "execute_result"
    }
   ],
   "source": [
    "len(logs)"
   ]
  },
  {
   "cell_type": "markdown",
   "metadata": {},
   "source": [
    "7551 уникальных пользователей в датасете."
   ]
  },
  {
   "cell_type": "code",
   "execution_count": 16,
   "metadata": {},
   "outputs": [
    {
     "data": {
      "text/plain": [
       "32.27559263673685"
      ]
     },
     "execution_count": 16,
     "metadata": {},
     "output_type": "execute_result"
    }
   ],
   "source": [
    "logs.groupby('device_id')['event_name'].count().mean()"
   ]
  },
  {
   "cell_type": "markdown",
   "metadata": {},
   "source": [
    "~32 уникальных события на пользователя"
   ]
  },
  {
   "cell_type": "code",
   "execution_count": 17,
   "metadata": {
    "scrolled": false
   },
   "outputs": [
    {
     "name": "stderr",
     "output_type": "stream",
     "text": [
      "/opt/conda/lib/python3.9/site-packages/seaborn/_decorators.py:36: FutureWarning: Pass the following variable as a keyword arg: x. From version 0.12, the only valid positional argument will be `data`, and passing other arguments without an explicit keyword will result in an error or misinterpretation.\n",
      "  warnings.warn(\n"
     ]
    },
    {
     "data": {
      "text/plain": [
       "(-10.0, 150.0)"
      ]
     },
     "execution_count": 17,
     "metadata": {},
     "output_type": "execute_result"
    },
    {
     "data": {
      "image/png": "[encoded data removed]",
      "text/plain": [
       "<Figure size 432x288 with 1 Axes>"
      ]
     },
     "metadata": {
      "needs_background": "light"
     },
     "output_type": "display_data"
    }
   ],
   "source": [
    "g = logs.groupby('device_id')['event_name'].count()\n",
    "sns.boxplot(g)\n",
    "plt.xlim(-10,150)"
   ]
  },
  {
   "cell_type": "markdown",
   "metadata": {},
   "source": [
    "20 уникальных событий на пользователя по медиане, 90% пользователей совершили от 0 до 80 событий за период наблюдений."
   ]
  },
  {
   "cell_type": "code",
   "execution_count": 18,
   "metadata": {},
   "outputs": [
    {
     "data": {
      "text/plain": [
       "datetime.date(2019, 7, 25)"
      ]
     },
     "metadata": {},
     "output_type": "display_data"
    },
    {
     "data": {
      "text/plain": [
       "datetime.date(2019, 8, 7)"
      ]
     },
     "metadata": {},
     "output_type": "display_data"
    },
    {
     "data": {
      "text/plain": [
       "datetime.timedelta(days=13)"
      ]
     },
     "metadata": {},
     "output_type": "display_data"
    }
   ],
   "source": [
    "display(\n",
    "logs['date'].min(),\n",
    "logs['date'].max(),\n",
    "logs['date'].max() - \n",
    "logs['date'].min()\n",
    ")"
   ]
  },
  {
   "cell_type": "markdown",
   "metadata": {},
   "source": [
    "Данные с 25 июля 2019 года по 7 августа, 13 дней."
   ]
  },
  {
   "cell_type": "code",
   "execution_count": 19,
   "metadata": {},
   "outputs": [
    {
     "data": {
      "image/png": "[encoded data removed]",
      "text/plain": [
       "<Figure size 432x288 with 1 Axes>"
      ]
     },
     "metadata": {
      "needs_background": "light"
     },
     "output_type": "display_data"
    }
   ],
   "source": [
    "g = logs.groupby('date').agg({'device_id':'count'}).reset_index()\n",
    "g.plot(kind='bar', x='date')\n",
    "plt.xlabel('Дата')\n",
    "plt.ylabel('Количество пользователей')\n",
    "plt.title('Активность пользователей в приложении');"
   ]
  },
  {
   "cell_type": "code",
   "execution_count": 20,
   "metadata": {},
   "outputs": [],
   "source": [
    "#g.hist(x='date')"
   ]
  },
  {
   "cell_type": "code",
   "execution_count": 21,
   "metadata": {
    "scrolled": true
   },
   "outputs": [
    {
     "data": {
      "image/png": "[encoded data removed]",
      "text/plain": [
       "<Figure size 432x288 with 1 Axes>"
      ]
     },
     "metadata": {
      "needs_background": "light"
     },
     "output_type": "display_data"
    }
   ],
   "source": [
    "g = logs.groupby('event_timestamp')['event_name'].count()\n",
    "g.plot()\n",
    "plt.ylabel('Количество событий в секунду')\n",
    "plt.xlabel('Дата(по секундам)')\n",
    "plt.title('Активность пользователей в приложении');"
   ]
  },
  {
   "cell_type": "code",
   "execution_count": 22,
   "metadata": {},
   "outputs": [
    {
     "data": {
      "text/html": [
       "<div>\n",
       "<style scoped>\n",
       "    .dataframe tbody tr th:only-of-type {\n",
       "        vertical-align: middle;\n",
       "    }\n",
       "\n",
       "    .dataframe tbody tr th {\n",
       "        vertical-align: top;\n",
       "    }\n",
       "\n",
       "    .dataframe thead th {\n",
       "        text-align: right;\n",
       "    }\n",
       "</style>\n",
       "<table border=\"1\" class=\"dataframe\">\n",
       "  <thead>\n",
       "    <tr style=\"text-align: right;\">\n",
       "      <th></th>\n",
       "      <th>event_name</th>\n",
       "      <th>device_id</th>\n",
       "      <th>event_timestamp</th>\n",
       "      <th>exp_id</th>\n",
       "      <th>date</th>\n",
       "    </tr>\n",
       "  </thead>\n",
       "  <tbody>\n",
       "  </tbody>\n",
       "</table>\n",
       "</div>"
      ],
      "text/plain": [
       "Empty DataFrame\n",
       "Columns: [event_name, device_id, event_timestamp, exp_id, date]\n",
       "Index: []"
      ]
     },
     "execution_count": 22,
     "metadata": {},
     "output_type": "execute_result"
    }
   ],
   "source": [
    "logs.query('event_timestamp in [\"2019-07-31\",\"2019-08-01\"]')"
   ]
  },
  {
   "cell_type": "code",
   "execution_count": 23,
   "metadata": {},
   "outputs": [
    {
     "data": {
      "text/html": [
       "<div>\n",
       "<style scoped>\n",
       "    .dataframe tbody tr th:only-of-type {\n",
       "        vertical-align: middle;\n",
       "    }\n",
       "\n",
       "    .dataframe tbody tr th {\n",
       "        vertical-align: top;\n",
       "    }\n",
       "\n",
       "    .dataframe thead th {\n",
       "        text-align: right;\n",
       "    }\n",
       "</style>\n",
       "<table border=\"1\" class=\"dataframe\">\n",
       "  <thead>\n",
       "    <tr style=\"text-align: right;\">\n",
       "      <th></th>\n",
       "      <th>event_name</th>\n",
       "      <th>device_id</th>\n",
       "      <th>event_timestamp</th>\n",
       "      <th>exp_id</th>\n",
       "      <th>date</th>\n",
       "    </tr>\n",
       "  </thead>\n",
       "  <tbody>\n",
       "  </tbody>\n",
       "</table>\n",
       "</div>"
      ],
      "text/plain": [
       "Empty DataFrame\n",
       "Columns: [event_name, device_id, event_timestamp, exp_id, date]\n",
       "Index: []"
      ]
     },
     "execution_count": 23,
     "metadata": {},
     "output_type": "execute_result"
    }
   ],
   "source": [
    "logs.query('date == \"2019-07-31\"')"
   ]
  },
  {
   "cell_type": "code",
   "execution_count": 24,
   "metadata": {},
   "outputs": [
    {
     "data": {
      "text/plain": [
       "(18108, 18110)"
      ]
     },
     "execution_count": 24,
     "metadata": {},
     "output_type": "execute_result"
    },
    {
     "data": {
      "image/png": "[encoded data removed]",
      "text/plain": [
       "<Figure size 432x288 with 1 Axes>"
      ]
     },
     "metadata": {
      "needs_background": "light"
     },
     "output_type": "display_data"
    }
   ],
   "source": [
    "g.plot()\n",
    "plt.xticks()\n",
    "plt.xlim(18108,18110)"
   ]
  },
  {
   "cell_type": "code",
   "execution_count": 25,
   "metadata": {},
   "outputs": [
    {
     "data": {
      "image/png": "[encoded data removed]",
      "text/plain": [
       "<Figure size 1080x504 with 1 Axes>"
      ]
     },
     "metadata": {
      "needs_background": "light"
     },
     "output_type": "display_data"
    }
   ],
   "source": [
    "df1 = logs[logs['event_timestamp'].dt.strftime('%Y-%m-%d') >= '2019-07-31'] \n",
    "df1 = df1[df1['event_timestamp'].dt.strftime('%Y-%m-%d') <= '2019-08-01'] \n",
    "ax = df1['event_timestamp'].hist(figsize=(15,7),bins = 30)\n",
    "plt.title('Гистограмма по дате и времени', size = 15)\n",
    "plt.ylabel('Частота', size = 13)\n",
    "plt.xticks(rotation=45)\n",
    "plt.show()"
   ]
  },
  {
   "cell_type": "markdown",
   "metadata": {},
   "source": [
    "Полные данные есть только с первого августа."
   ]
  },
  {
   "cell_type": "code",
   "execution_count": 26,
   "metadata": {},
   "outputs": [
    {
     "data": {
      "text/plain": [
       "1.159560630741897"
      ]
     },
     "execution_count": 26,
     "metadata": {},
     "output_type": "execute_result"
    }
   ],
   "source": [
    "logs.query('event_timestamp < \"2019-08-01\"')['event_name'].count() / logs['event_name'].count() * 100"
   ]
  },
  {
   "cell_type": "markdown",
   "metadata": {},
   "source": [
    "Данные за период с 25 июля по 1 августа составляют всего 1.15% от датасета."
   ]
  },
  {
   "cell_type": "code",
   "execution_count": 27,
   "metadata": {
    "scrolled": true
   },
   "outputs": [
    {
     "data": {
      "image/png": "[encoded data removed]",
      "text/plain": [
       "<Figure size 432x288 with 1 Axes>"
      ]
     },
     "metadata": {
      "needs_background": "light"
     },
     "output_type": "display_data"
    }
   ],
   "source": [
    "logs = logs.query('event_timestamp >= \"2019-08-01\"')\n",
    "logs.groupby('date')['event_name'].count().plot()\n",
    "plt.xlabel('Дата')\n",
    "plt.ylabel('Кол-во событий')\n",
    "plt.title('Количество событий за период с 1 по 7 августа ');"
   ]
  },
  {
   "cell_type": "markdown",
   "metadata": {},
   "source": [
    "Откинули данные до 1 августа. Остался период с 1го по 7е августа включительно."
   ]
  },
  {
   "cell_type": "code",
   "execution_count": 28,
   "metadata": {},
   "outputs": [
    {
     "data": {
      "text/html": [
       "<div>\n",
       "<style scoped>\n",
       "    .dataframe tbody tr th:only-of-type {\n",
       "        vertical-align: middle;\n",
       "    }\n",
       "\n",
       "    .dataframe tbody tr th {\n",
       "        vertical-align: top;\n",
       "    }\n",
       "\n",
       "    .dataframe thead th {\n",
       "        text-align: right;\n",
       "    }\n",
       "</style>\n",
       "<table border=\"1\" class=\"dataframe\">\n",
       "  <thead>\n",
       "    <tr style=\"text-align: right;\">\n",
       "      <th></th>\n",
       "      <th>device_id</th>\n",
       "    </tr>\n",
       "    <tr>\n",
       "      <th>exp_id</th>\n",
       "      <th></th>\n",
       "    </tr>\n",
       "  </thead>\n",
       "  <tbody>\n",
       "    <tr>\n",
       "      <th>246</th>\n",
       "      <td>2484</td>\n",
       "    </tr>\n",
       "    <tr>\n",
       "      <th>247</th>\n",
       "      <td>2513</td>\n",
       "    </tr>\n",
       "    <tr>\n",
       "      <th>248</th>\n",
       "      <td>2537</td>\n",
       "    </tr>\n",
       "  </tbody>\n",
       "</table>\n",
       "</div>"
      ],
      "text/plain": [
       "        device_id\n",
       "exp_id           \n",
       "246          2484\n",
       "247          2513\n",
       "248          2537"
      ]
     },
     "execution_count": 28,
     "metadata": {},
     "output_type": "execute_result"
    }
   ],
   "source": [
    "logs.groupby('exp_id').agg({'device_id':'nunique'})"
   ]
  },
  {
   "cell_type": "markdown",
   "metadata": {},
   "source": [
    "Есть пользователи из всех экспериментальных групп."
   ]
  },
  {
   "cell_type": "markdown",
   "metadata": {},
   "source": [
    "### Вывод"
   ]
  },
  {
   "cell_type": "markdown",
   "metadata": {},
   "source": [
    "Всего существует 5 уникальных событий - MainScreenAppear, PaymentScreenSuccessful, CartScreenAppear, OffersScreenAppear, Tutorial. 7551 уникальных пользователей в датасете. ~32 уникальных события на пользователя. Минимальная дата датасета 25 июля, максимальная 7 августа 2019 года. Данные с 25 июля по 1 августа были скудными, и составляли всего 1.15% датасета, отбросив их мы получили датасет с 1 по 7 августа в котором присутствовали все группы пользователей."
   ]
  },
  {
   "cell_type": "markdown",
   "metadata": {},
   "source": [
    "## Воронки событий"
   ]
  },
  {
   "cell_type": "code",
   "execution_count": 29,
   "metadata": {
    "scrolled": false
   },
   "outputs": [
    {
     "data": {
      "text/plain": [
       "event_timestamp\n",
       "2019-07-25 04:43:36    1\n",
       "2019-07-25 11:11:42    1\n",
       "2019-07-25 11:28:47    2\n",
       "2019-07-25 11:48:42    1\n",
       "2019-07-25 11:48:43    1\n",
       "                      ..\n",
       "2019-08-07 21:12:25    1\n",
       "2019-08-07 21:13:59    1\n",
       "2019-08-07 21:14:43    1\n",
       "2019-08-07 21:14:58    1\n",
       "2019-08-07 21:15:17    1\n",
       "Name: event_name, Length: 176654, dtype: int64"
      ]
     },
     "execution_count": 29,
     "metadata": {},
     "output_type": "execute_result"
    },
    {
     "data": {
      "image/png": "[encoded data removed]",
      "text/plain": [
       "<Figure size 432x288 with 1 Axes>"
      ]
     },
     "metadata": {
      "needs_background": "light"
     },
     "output_type": "display_data"
    }
   ],
   "source": [
    "logs.groupby('event_name')['event_name'].count().sort_values(ascending=False).plot(kind='bar')\n",
    "plt.title('Количество событий')\n",
    "plt.xlabel('Событие')\n",
    "plt.ylabel('Количество')\n",
    "g"
   ]
  },
  {
   "cell_type": "code",
   "execution_count": 30,
   "metadata": {},
   "outputs": [
    {
     "data": {
      "text/plain": [
       "466"
      ]
     },
     "execution_count": 30,
     "metadata": {},
     "output_type": "execute_result"
    }
   ],
   "source": [
    "(logs.groupby('device_id')['event_name'].nunique() == 5).sum()"
   ]
  },
  {
   "cell_type": "markdown",
   "metadata": {},
   "source": [
    "Только 466 пользователей совершили все события."
   ]
  },
  {
   "cell_type": "markdown",
   "metadata": {},
   "source": [
    "Доля пользователей которые совершили хоть одно действие."
   ]
  },
  {
   "cell_type": "markdown",
   "metadata": {},
   "source": [
    "100%"
   ]
  },
  {
   "cell_type": "code",
   "execution_count": 32,
   "metadata": {},
   "outputs": [
    {
     "data": {
      "text/plain": [
       "0"
      ]
     },
     "execution_count": 32,
     "metadata": {},
     "output_type": "execute_result"
    }
   ],
   "source": [
    "logs['event_name'].isna().sum()"
   ]
  },
  {
   "cell_type": "markdown",
   "metadata": {},
   "source": [
    "Скорее всего, события идут в таком порядке MainScreenAppear > OffersScreenAppear > CastScreenAppear > PaymentScreenSuccessful > Tutorial."
   ]
  },
  {
   "cell_type": "markdown",
   "metadata": {},
   "source": [
    "Мы полагаем, что событие Tutorial не важное для нас, так как происходит уже после оплаты и, скорее всего, не обязательное."
   ]
  },
  {
   "cell_type": "code",
   "execution_count": 33,
   "metadata": {},
   "outputs": [],
   "source": [
    "funnel.drop(4, inplace=True)"
   ]
  },
  {
   "cell_type": "markdown",
   "metadata": {},
   "source": [
    "Также, можно предположить, что оплатить заказ возможно не открывая корзины, поскольку число открытий корзины и оплаты примерно одинаковое."
   ]
  },
  {
   "cell_type": "code",
   "execution_count": 34,
   "metadata": {
    "scrolled": true
   },
   "outputs": [
    {
     "data": {
      "text/html": [
       "<div>\n",
       "<style scoped>\n",
       "    .dataframe tbody tr th:only-of-type {\n",
       "        vertical-align: middle;\n",
       "    }\n",
       "\n",
       "    .dataframe tbody tr th {\n",
       "        vertical-align: top;\n",
       "    }\n",
       "\n",
       "    .dataframe thead th {\n",
       "        text-align: right;\n",
       "    }\n",
       "</style>\n",
       "<table border=\"1\" class=\"dataframe\">\n",
       "  <thead>\n",
       "    <tr style=\"text-align: right;\">\n",
       "      <th></th>\n",
       "      <th>event_name</th>\n",
       "      <th>device_id</th>\n",
       "      <th>percentage</th>\n",
       "    </tr>\n",
       "  </thead>\n",
       "  <tbody>\n",
       "    <tr>\n",
       "      <th>0</th>\n",
       "      <td>MainScreenAppear</td>\n",
       "      <td>7419</td>\n",
       "      <td>NaN</td>\n",
       "    </tr>\n",
       "    <tr>\n",
       "      <th>1</th>\n",
       "      <td>OffersScreenAppear</td>\n",
       "      <td>4593</td>\n",
       "      <td>61.91</td>\n",
       "    </tr>\n",
       "    <tr>\n",
       "      <th>2</th>\n",
       "      <td>CartScreenAppear</td>\n",
       "      <td>3734</td>\n",
       "      <td>81.30</td>\n",
       "    </tr>\n",
       "    <tr>\n",
       "      <th>3</th>\n",
       "      <td>PaymentScreenSuccessful</td>\n",
       "      <td>3539</td>\n",
       "      <td>94.78</td>\n",
       "    </tr>\n",
       "  </tbody>\n",
       "</table>\n",
       "</div>"
      ],
      "text/plain": [
       "                event_name  device_id  percentage\n",
       "0         MainScreenAppear       7419         NaN\n",
       "1       OffersScreenAppear       4593       61.91\n",
       "2         CartScreenAppear       3734       81.30\n",
       "3  PaymentScreenSuccessful       3539       94.78"
      ]
     },
     "execution_count": 34,
     "metadata": {},
     "output_type": "execute_result"
    }
   ],
   "source": [
    "funnel['percentage'] = round(funnel['device_id'] / funnel['device_id'].shift(1) * 100, 2)\n",
    "funnel"
   ]
  },
  {
   "cell_type": "code",
   "execution_count": 1,
   "metadata": {},
   "outputs": [
    {
     "ename": "NameError",
     "evalue": "name 'go' is not defined",
     "output_type": "error",
     "traceback": [
      "\u001b[0;31m---------------------------------------------------------------------------\u001b[0m",
      "\u001b[0;31mNameError\u001b[0m                                 Traceback (most recent call last)",
      "Input \u001b[0;32mIn [1]\u001b[0m, in \u001b[0;36m<cell line: 1>\u001b[0;34m()\u001b[0m\n\u001b[0;32m----> 1\u001b[0m fig \u001b[38;5;241m=\u001b[39m \u001b[43mgo\u001b[49m\u001b[38;5;241m.\u001b[39mFigure(go\u001b[38;5;241m.\u001b[39mFunnel(\n\u001b[1;32m      2\u001b[0m     x \u001b[38;5;241m=\u001b[39m funnel[\u001b[38;5;124m'\u001b[39m\u001b[38;5;124mdevice_id\u001b[39m\u001b[38;5;124m'\u001b[39m],\n\u001b[1;32m      3\u001b[0m     y \u001b[38;5;241m=\u001b[39m funnel[\u001b[38;5;124m'\u001b[39m\u001b[38;5;124mevent_name\u001b[39m\u001b[38;5;124m'\u001b[39m],\n\u001b[1;32m      4\u001b[0m     textinfo \u001b[38;5;241m=\u001b[39m \u001b[38;5;124m\"\u001b[39m\u001b[38;5;124mvalue+percent initial+percent previous\u001b[39m\u001b[38;5;124m\"\u001b[39m,\n\u001b[1;32m      5\u001b[0m     hoverinfo \u001b[38;5;241m=\u001b[39m \u001b[38;5;124m\"\u001b[39m\u001b[38;5;124mpercent previous\u001b[39m\u001b[38;5;124m\"\u001b[39m))\n\u001b[1;32m      7\u001b[0m fig\u001b[38;5;241m.\u001b[39mupdate_layout(\n\u001b[1;32m      8\u001b[0m     title\u001b[38;5;241m=\u001b[39m{\n\u001b[1;32m      9\u001b[0m         \u001b[38;5;124m'\u001b[39m\u001b[38;5;124mtext\u001b[39m\u001b[38;5;124m'\u001b[39m: \u001b[38;5;124m\"\u001b[39m\u001b[38;5;124mВоронка всех событий\u001b[39m\u001b[38;5;124m\"\u001b[39m,\n\u001b[1;32m     10\u001b[0m         \u001b[38;5;124m'\u001b[39m\u001b[38;5;124mxanchor\u001b[39m\u001b[38;5;124m'\u001b[39m: \u001b[38;5;124m'\u001b[39m\u001b[38;5;124mleft\u001b[39m\u001b[38;5;124m'\u001b[39m,\n\u001b[1;32m     11\u001b[0m         \u001b[38;5;124m'\u001b[39m\u001b[38;5;124myanchor\u001b[39m\u001b[38;5;124m'\u001b[39m: \u001b[38;5;124m'\u001b[39m\u001b[38;5;124mbottom\u001b[39m\u001b[38;5;124m'\u001b[39m})\n\u001b[1;32m     13\u001b[0m fig\u001b[38;5;241m.\u001b[39mshow()\n",
      "\u001b[0;31mNameError\u001b[0m: name 'go' is not defined"
     ]
    }
   ],
   "source": [
    "fig = go.Figure(go.Funnel(\n",
    "    x = funnel['device_id'],\n",
    "    y = funnel['event_name'],\n",
    "    textinfo = \"value+percent initial+percent previous\",\n",
    "    hoverinfo = \"percent previous\"))\n",
    "\n",
    "fig.update_layout(\n",
    "    title={\n",
    "        'text': \"Воронка всех событий\",\n",
    "        'xanchor': 'left',\n",
    "        'yanchor': 'bottom'})\n",
    "\n",
    "fig.show()"
   ]
  },
  {
   "cell_type": "markdown",
   "metadata": {},
   "source": [
    "Так будет выглядеть воронка, если мы считаем событие PaymentScreenSuccessful зависимым от CartScreenAppear."
   ]
  },
  {
   "cell_type": "code",
   "execution_count": 36,
   "metadata": {},
   "outputs": [],
   "source": [
    "funnel_1 = funnel.drop(3, axis=0)\n",
    "funnel_2 = funnel.drop(2, axis=0)"
   ]
  },
  {
   "cell_type": "code",
   "execution_count": 37,
   "metadata": {},
   "outputs": [
    {
     "data": {
      "application/vnd.plotly.v1+json": {
       "config": {
        "plotlyServerURL": "https://plot.ly"
       },
       "data": [
        {
         "hoverinfo": "percent previous",
         "textinfo": "value+percent initial+percent previous",
         "type": "funnel",
         "x": [
          7419,
          4593,
          3734
         ],
         "y": [
          "MainScreenAppear",
          "OffersScreenAppear",
          "CartScreenAppear"
         ]
        }
       ],
       "layout": {
        "template": {
         "data": {
          "bar": [
           {
            "error_x": {
             "color": "#2a3f5f"
            },
            "error_y": {
             "color": "#2a3f5f"
            },
            "marker": {
             "line": {
              "color": "#E5ECF6",
              "width": 0.5
             },
             "pattern": {
              "fillmode": "overlay",
              "size": 10,
              "solidity": 0.2
             }
            },
            "type": "bar"
           }
          ],
          "barpolar": [
           {
            "marker": {
             "line": {
              "color": "#E5ECF6",
              "width": 0.5
             },
             "pattern": {
              "fillmode": "overlay",
              "size": 10,
              "solidity": 0.2
             }
            },
            "type": "barpolar"
           }
          ],
          "carpet": [
           {
            "aaxis": {
             "endlinecolor": "#2a3f5f",
             "gridcolor": "white",
             "linecolor": "white",
             "minorgridcolor": "white",
             "startlinecolor": "#2a3f5f"
            },
            "baxis": {
             "endlinecolor": "#2a3f5f",
             "gridcolor": "white",
             "linecolor": "white",
             "minorgridcolor": "white",
             "startlinecolor": "#2a3f5f"
            },
            "type": "carpet"
           }
          ],
          "choropleth": [
           {
            "colorbar": {
             "outlinewidth": 0,
             "ticks": ""
            },
            "type": "choropleth"
           }
          ],
          "contour": [
           {
            "colorbar": {
             "outlinewidth": 0,
             "ticks": ""
            },
            "colorscale": [
             [
              0,
              "#0d0887"
             ],
             [
              0.1111111111111111,
              "#46039f"
             ],
             [
              0.2222222222222222,
              "#7201a8"
             ],
             [
              0.3333333333333333,
              "#9c179e"
             ],
             [
              0.4444444444444444,
              "#bd3786"
             ],
             [
              0.5555555555555556,
              "#d8576b"
             ],
             [
              0.6666666666666666,
              "#ed7953"
             ],
             [
              0.7777777777777778,
              "#fb9f3a"
             ],
             [
              0.8888888888888888,
              "#fdca26"
             ],
             [
              1,
              "#f0f921"
             ]
            ],
            "type": "contour"
           }
          ],
          "contourcarpet": [
           {
            "colorbar": {
             "outlinewidth": 0,
             "ticks": ""
            },
            "type": "contourcarpet"
           }
          ],
          "heatmap": [
           {
            "colorbar": {
             "outlinewidth": 0,
             "ticks": ""
            },
            "colorscale": [
             [
              0,
              "#0d0887"
             ],
             [
              0.1111111111111111,
              "#46039f"
             ],
             [
              0.2222222222222222,
              "#7201a8"
             ],
             [
              0.3333333333333333,
              "#9c179e"
             ],
             [
              0.4444444444444444,
              "#bd3786"
             ],
             [
              0.5555555555555556,
              "#d8576b"
             ],
             [
              0.6666666666666666,
              "#ed7953"
             ],
             [
              0.7777777777777778,
              "#fb9f3a"
             ],
             [
              0.8888888888888888,
              "#fdca26"
             ],
             [
              1,
              "#f0f921"
             ]
            ],
            "type": "heatmap"
           }
          ],
          "heatmapgl": [
           {
            "colorbar": {
             "outlinewidth": 0,
             "ticks": ""
            },
            "colorscale": [
             [
              0,
              "#0d0887"
             ],
             [
              0.1111111111111111,
              "#46039f"
             ],
             [
              0.2222222222222222,
              "#7201a8"
             ],
             [
              0.3333333333333333,
              "#9c179e"
             ],
             [
              0.4444444444444444,
              "#bd3786"
             ],
             [
              0.5555555555555556,
              "#d8576b"
             ],
             [
              0.6666666666666666,
              "#ed7953"
             ],
             [
              0.7777777777777778,
              "#fb9f3a"
             ],
             [
              0.8888888888888888,
              "#fdca26"
             ],
             [
              1,
              "#f0f921"
             ]
            ],
            "type": "heatmapgl"
           }
          ],
          "histogram": [
           {
            "marker": {
             "pattern": {
              "fillmode": "overlay",
              "size": 10,
              "solidity": 0.2
             }
            },
            "type": "histogram"
           }
          ],
          "histogram2d": [
           {
            "colorbar": {
             "outlinewidth": 0,
             "ticks": ""
            },
            "colorscale": [
             [
              0,
              "#0d0887"
             ],
             [
              0.1111111111111111,
              "#46039f"
             ],
             [
              0.2222222222222222,
              "#7201a8"
             ],
             [
              0.3333333333333333,
              "#9c179e"
             ],
             [
              0.4444444444444444,
              "#bd3786"
             ],
             [
              0.5555555555555556,
              "#d8576b"
             ],
             [
              0.6666666666666666,
              "#ed7953"
             ],
             [
              0.7777777777777778,
              "#fb9f3a"
             ],
             [
              0.8888888888888888,
              "#fdca26"
             ],
             [
              1,
              "#f0f921"
             ]
            ],
            "type": "histogram2d"
           }
          ],
          "histogram2dcontour": [
           {
            "colorbar": {
             "outlinewidth": 0,
             "ticks": ""
            },
            "colorscale": [
             [
              0,
              "#0d0887"
             ],
             [
              0.1111111111111111,
              "#46039f"
             ],
             [
              0.2222222222222222,
              "#7201a8"
             ],
             [
              0.3333333333333333,
              "#9c179e"
             ],
             [
              0.4444444444444444,
              "#bd3786"
             ],
             [
              0.5555555555555556,
              "#d8576b"
             ],
             [
              0.6666666666666666,
              "#ed7953"
             ],
             [
              0.7777777777777778,
              "#fb9f3a"
             ],
             [
              0.8888888888888888,
              "#fdca26"
             ],
             [
              1,
              "#f0f921"
             ]
            ],
            "type": "histogram2dcontour"
           }
          ],
          "mesh3d": [
           {
            "colorbar": {
             "outlinewidth": 0,
             "ticks": ""
            },
            "type": "mesh3d"
           }
          ],
          "parcoords": [
           {
            "line": {
             "colorbar": {
              "outlinewidth": 0,
              "ticks": ""
             }
            },
            "type": "parcoords"
           }
          ],
          "pie": [
           {
            "automargin": true,
            "type": "pie"
           }
          ],
          "scatter": [
           {
            "marker": {
             "colorbar": {
              "outlinewidth": 0,
              "ticks": ""
             }
            },
            "type": "scatter"
           }
          ],
          "scatter3d": [
           {
            "line": {
             "colorbar": {
              "outlinewidth": 0,
              "ticks": ""
             }
            },
            "marker": {
             "colorbar": {
              "outlinewidth": 0,
              "ticks": ""
             }
            },
            "type": "scatter3d"
           }
          ],
          "scattercarpet": [
           {
            "marker": {
             "colorbar": {
              "outlinewidth": 0,
              "ticks": ""
             }
            },
            "type": "scattercarpet"
           }
          ],
          "scattergeo": [
           {
            "marker": {
             "colorbar": {
              "outlinewidth": 0,
              "ticks": ""
             }
            },
            "type": "scattergeo"
           }
          ],
          "scattergl": [
           {
            "marker": {
             "colorbar": {
              "outlinewidth": 0,
              "ticks": ""
             }
            },
            "type": "scattergl"
           }
          ],
          "scattermapbox": [
           {
            "marker": {
             "colorbar": {
              "outlinewidth": 0,
              "ticks": ""
             }
            },
            "type": "scattermapbox"
           }
          ],
          "scatterpolar": [
           {
            "marker": {
             "colorbar": {
              "outlinewidth": 0,
              "ticks": ""
             }
            },
            "type": "scatterpolar"
           }
          ],
          "scatterpolargl": [
           {
            "marker": {
             "colorbar": {
              "outlinewidth": 0,
              "ticks": ""
             }
            },
            "type": "scatterpolargl"
           }
          ],
          "scatterternary": [
           {
            "marker": {
             "colorbar": {
              "outlinewidth": 0,
              "ticks": ""
             }
            },
            "type": "scatterternary"
           }
          ],
          "surface": [
           {
            "colorbar": {
             "outlinewidth": 0,
             "ticks": ""
            },
            "colorscale": [
             [
              0,
              "#0d0887"
             ],
             [
              0.1111111111111111,
              "#46039f"
             ],
             [
              0.2222222222222222,
              "#7201a8"
             ],
             [
              0.3333333333333333,
              "#9c179e"
             ],
             [
              0.4444444444444444,
              "#bd3786"
             ],
             [
              0.5555555555555556,
              "#d8576b"
             ],
             [
              0.6666666666666666,
              "#ed7953"
             ],
             [
              0.7777777777777778,
              "#fb9f3a"
             ],
             [
              0.8888888888888888,
              "#fdca26"
             ],
             [
              1,
              "#f0f921"
             ]
            ],
            "type": "surface"
           }
          ],
          "table": [
           {
            "cells": {
             "fill": {
              "color": "#EBF0F8"
             },
             "line": {
              "color": "white"
             }
            },
            "header": {
             "fill": {
              "color": "#C8D4E3"
             },
             "line": {
              "color": "white"
             }
            },
            "type": "table"
           }
          ]
         },
         "layout": {
          "annotationdefaults": {
           "arrowcolor": "#2a3f5f",
           "arrowhead": 0,
           "arrowwidth": 1
          },
          "autotypenumbers": "strict",
          "coloraxis": {
           "colorbar": {
            "outlinewidth": 0,
            "ticks": ""
           }
          },
          "colorscale": {
           "diverging": [
            [
             0,
             "#8e0152"
            ],
            [
             0.1,
             "#c51b7d"
            ],
            [
             0.2,
             "#de77ae"
            ],
            [
             0.3,
             "#f1b6da"
            ],
            [
             0.4,
             "#fde0ef"
            ],
            [
             0.5,
             "#f7f7f7"
            ],
            [
             0.6,
             "#e6f5d0"
            ],
            [
             0.7,
             "#b8e186"
            ],
            [
             0.8,
             "#7fbc41"
            ],
            [
             0.9,
             "#4d9221"
            ],
            [
             1,
             "#276419"
            ]
           ],
           "sequential": [
            [
             0,
             "#0d0887"
            ],
            [
             0.1111111111111111,
             "#46039f"
            ],
            [
             0.2222222222222222,
             "#7201a8"
            ],
            [
             0.3333333333333333,
             "#9c179e"
            ],
            [
             0.4444444444444444,
             "#bd3786"
            ],
            [
             0.5555555555555556,
             "#d8576b"
            ],
            [
             0.6666666666666666,
             "#ed7953"
            ],
            [
             0.7777777777777778,
             "#fb9f3a"
            ],
            [
             0.8888888888888888,
             "#fdca26"
            ],
            [
             1,
             "#f0f921"
            ]
           ],
           "sequentialminus": [
            [
             0,
             "#0d0887"
            ],
            [
             0.1111111111111111,
             "#46039f"
            ],
            [
             0.2222222222222222,
             "#7201a8"
            ],
            [
             0.3333333333333333,
             "#9c179e"
            ],
            [
             0.4444444444444444,
             "#bd3786"
            ],
            [
             0.5555555555555556,
             "#d8576b"
            ],
            [
             0.6666666666666666,
             "#ed7953"
            ],
            [
             0.7777777777777778,
             "#fb9f3a"
            ],
            [
             0.8888888888888888,
             "#fdca26"
            ],
            [
             1,
             "#f0f921"
            ]
           ]
          },
          "colorway": [
           "#636efa",
           "#EF553B",
           "#00cc96",
           "#ab63fa",
           "#FFA15A",
           "#19d3f3",
           "#FF6692",
           "#B6E880",
           "#FF97FF",
           "#FECB52"
          ],
          "font": {
           "color": "#2a3f5f"
          },
          "geo": {
           "bgcolor": "white",
           "lakecolor": "white",
           "landcolor": "#E5ECF6",
           "showlakes": true,
           "showland": true,
           "subunitcolor": "white"
          },
          "hoverlabel": {
           "align": "left"
          },
          "hovermode": "closest",
          "mapbox": {
           "style": "light"
          },
          "paper_bgcolor": "white",
          "plot_bgcolor": "#E5ECF6",
          "polar": {
           "angularaxis": {
            "gridcolor": "white",
            "linecolor": "white",
            "ticks": ""
           },
           "bgcolor": "#E5ECF6",
           "radialaxis": {
            "gridcolor": "white",
            "linecolor": "white",
            "ticks": ""
           }
          },
          "scene": {
           "xaxis": {
            "backgroundcolor": "#E5ECF6",
            "gridcolor": "white",
            "gridwidth": 2,
            "linecolor": "white",
            "showbackground": true,
            "ticks": "",
            "zerolinecolor": "white"
           },
           "yaxis": {
            "backgroundcolor": "#E5ECF6",
            "gridcolor": "white",
            "gridwidth": 2,
            "linecolor": "white",
            "showbackground": true,
            "ticks": "",
            "zerolinecolor": "white"
           },
           "zaxis": {
            "backgroundcolor": "#E5ECF6",
            "gridcolor": "white",
            "gridwidth": 2,
            "linecolor": "white",
            "showbackground": true,
            "ticks": "",
            "zerolinecolor": "white"
           }
          },
          "shapedefaults": {
           "line": {
            "color": "#2a3f5f"
           }
          },
          "ternary": {
           "aaxis": {
            "gridcolor": "white",
            "linecolor": "white",
            "ticks": ""
           },
           "baxis": {
            "gridcolor": "white",
            "linecolor": "white",
            "ticks": ""
           },
           "bgcolor": "#E5ECF6",
           "caxis": {
            "gridcolor": "white",
            "linecolor": "white",
            "ticks": ""
           }
          },
          "title": {
           "x": 0.05
          },
          "xaxis": {
           "automargin": true,
           "gridcolor": "white",
           "linecolor": "white",
           "ticks": "",
           "title": {
            "standoff": 15
           },
           "zerolinecolor": "white",
           "zerolinewidth": 2
          },
          "yaxis": {
           "automargin": true,
           "gridcolor": "white",
           "linecolor": "white",
           "ticks": "",
           "title": {
            "standoff": 15
           },
           "zerolinecolor": "white",
           "zerolinewidth": 2
          }
         }
        },
        "title": {
         "text": "Воронка 1",
         "xanchor": "center",
         "yanchor": "top"
        }
       }
      },
      "text/html": [
       "<div>                            <div id=\"dd2915e1-affc-4597-9ca7-1d0649a24234\" class=\"plotly-graph-div\" style=\"height:525px; width:100%;\"></div>            <script type=\"text/javascript\">                require([\"plotly\"], function(Plotly) {                    window.PLOTLYENV=window.PLOTLYENV || {};                                    if (document.getElementById(\"dd2915e1-affc-4597-9ca7-1d0649a24234\")) {                    Plotly.newPlot(                        \"dd2915e1-affc-4597-9ca7-1d0649a24234\",                        [{\"hoverinfo\":\"percent previous\",\"textinfo\":\"value+percent initial+percent previous\",\"x\":[7419,4593,3734],\"y\":[\"MainScreenAppear\",\"OffersScreenAppear\",\"CartScreenAppear\"],\"type\":\"funnel\"}],                        {\"template\":{\"data\":{\"bar\":[{\"error_x\":{\"color\":\"#2a3f5f\"},\"error_y\":{\"color\":\"#2a3f5f\"},\"marker\":{\"line\":{\"color\":\"#E5ECF6\",\"width\":0.5},\"pattern\":{\"fillmode\":\"overlay\",\"size\":10,\"solidity\":0.2}},\"type\":\"bar\"}],\"barpolar\":[{\"marker\":{\"line\":{\"color\":\"#E5ECF6\",\"width\":0.5},\"pattern\":{\"fillmode\":\"overlay\",\"size\":10,\"solidity\":0.2}},\"type\":\"barpolar\"}],\"carpet\":[{\"aaxis\":{\"endlinecolor\":\"#2a3f5f\",\"gridcolor\":\"white\",\"linecolor\":\"white\",\"minorgridcolor\":\"white\",\"startlinecolor\":\"#2a3f5f\"},\"baxis\":{\"endlinecolor\":\"#2a3f5f\",\"gridcolor\":\"white\",\"linecolor\":\"white\",\"minorgridcolor\":\"white\",\"startlinecolor\":\"#2a3f5f\"},\"type\":\"carpet\"}],\"choropleth\":[{\"colorbar\":{\"outlinewidth\":0,\"ticks\":\"\"},\"type\":\"choropleth\"}],\"contour\":[{\"colorbar\":{\"outlinewidth\":0,\"ticks\":\"\"},\"colorscale\":[[0.0,\"#0d0887\"],[0.1111111111111111,\"#46039f\"],[0.2222222222222222,\"#7201a8\"],[0.3333333333333333,\"#9c179e\"],[0.4444444444444444,\"#bd3786\"],[0.5555555555555556,\"#d8576b\"],[0.6666666666666666,\"#ed7953\"],[0.7777777777777778,\"#fb9f3a\"],[0.8888888888888888,\"#fdca26\"],[1.0,\"#f0f921\"]],\"type\":\"contour\"}],\"contourcarpet\":[{\"colorbar\":{\"outlinewidth\":0,\"ticks\":\"\"},\"type\":\"contourcarpet\"}],\"heatmap\":[{\"colorbar\":{\"outlinewidth\":0,\"ticks\":\"\"},\"colorscale\":[[0.0,\"#0d0887\"],[0.1111111111111111,\"#46039f\"],[0.2222222222222222,\"#7201a8\"],[0.3333333333333333,\"#9c179e\"],[0.4444444444444444,\"#bd3786\"],[0.5555555555555556,\"#d8576b\"],[0.6666666666666666,\"#ed7953\"],[0.7777777777777778,\"#fb9f3a\"],[0.8888888888888888,\"#fdca26\"],[1.0,\"#f0f921\"]],\"type\":\"heatmap\"}],\"heatmapgl\":[{\"colorbar\":{\"outlinewidth\":0,\"ticks\":\"\"},\"colorscale\":[[0.0,\"#0d0887\"],[0.1111111111111111,\"#46039f\"],[0.2222222222222222,\"#7201a8\"],[0.3333333333333333,\"#9c179e\"],[0.4444444444444444,\"#bd3786\"],[0.5555555555555556,\"#d8576b\"],[0.6666666666666666,\"#ed7953\"],[0.7777777777777778,\"#fb9f3a\"],[0.8888888888888888,\"#fdca26\"],[1.0,\"#f0f921\"]],\"type\":\"heatmapgl\"}],\"histogram\":[{\"marker\":{\"pattern\":{\"fillmode\":\"overlay\",\"size\":10,\"solidity\":0.2}},\"type\":\"histogram\"}],\"histogram2d\":[{\"colorbar\":{\"outlinewidth\":0,\"ticks\":\"\"},\"colorscale\":[[0.0,\"#0d0887\"],[0.1111111111111111,\"#46039f\"],[0.2222222222222222,\"#7201a8\"],[0.3333333333333333,\"#9c179e\"],[0.4444444444444444,\"#bd3786\"],[0.5555555555555556,\"#d8576b\"],[0.6666666666666666,\"#ed7953\"],[0.7777777777777778,\"#fb9f3a\"],[0.8888888888888888,\"#fdca26\"],[1.0,\"#f0f921\"]],\"type\":\"histogram2d\"}],\"histogram2dcontour\":[{\"colorbar\":{\"outlinewidth\":0,\"ticks\":\"\"},\"colorscale\":[[0.0,\"#0d0887\"],[0.1111111111111111,\"#46039f\"],[0.2222222222222222,\"#7201a8\"],[0.3333333333333333,\"#9c179e\"],[0.4444444444444444,\"#bd3786\"],[0.5555555555555556,\"#d8576b\"],[0.6666666666666666,\"#ed7953\"],[0.7777777777777778,\"#fb9f3a\"],[0.8888888888888888,\"#fdca26\"],[1.0,\"#f0f921\"]],\"type\":\"histogram2dcontour\"}],\"mesh3d\":[{\"colorbar\":{\"outlinewidth\":0,\"ticks\":\"\"},\"type\":\"mesh3d\"}],\"parcoords\":[{\"line\":{\"colorbar\":{\"outlinewidth\":0,\"ticks\":\"\"}},\"type\":\"parcoords\"}],\"pie\":[{\"automargin\":true,\"type\":\"pie\"}],\"scatter\":[{\"marker\":{\"colorbar\":{\"outlinewidth\":0,\"ticks\":\"\"}},\"type\":\"scatter\"}],\"scatter3d\":[{\"line\":{\"colorbar\":{\"outlinewidth\":0,\"ticks\":\"\"}},\"marker\":{\"colorbar\":{\"outlinewidth\":0,\"ticks\":\"\"}},\"type\":\"scatter3d\"}],\"scattercarpet\":[{\"marker\":{\"colorbar\":{\"outlinewidth\":0,\"ticks\":\"\"}},\"type\":\"scattercarpet\"}],\"scattergeo\":[{\"marker\":{\"colorbar\":{\"outlinewidth\":0,\"ticks\":\"\"}},\"type\":\"scattergeo\"}],\"scattergl\":[{\"marker\":{\"colorbar\":{\"outlinewidth\":0,\"ticks\":\"\"}},\"type\":\"scattergl\"}],\"scattermapbox\":[{\"marker\":{\"colorbar\":{\"outlinewidth\":0,\"ticks\":\"\"}},\"type\":\"scattermapbox\"}],\"scatterpolar\":[{\"marker\":{\"colorbar\":{\"outlinewidth\":0,\"ticks\":\"\"}},\"type\":\"scatterpolar\"}],\"scatterpolargl\":[{\"marker\":{\"colorbar\":{\"outlinewidth\":0,\"ticks\":\"\"}},\"type\":\"scatterpolargl\"}],\"scatterternary\":[{\"marker\":{\"colorbar\":{\"outlinewidth\":0,\"ticks\":\"\"}},\"type\":\"scatterternary\"}],\"surface\":[{\"colorbar\":{\"outlinewidth\":0,\"ticks\":\"\"},\"colorscale\":[[0.0,\"#0d0887\"],[0.1111111111111111,\"#46039f\"],[0.2222222222222222,\"#7201a8\"],[0.3333333333333333,\"#9c179e\"],[0.4444444444444444,\"#bd3786\"],[0.5555555555555556,\"#d8576b\"],[0.6666666666666666,\"#ed7953\"],[0.7777777777777778,\"#fb9f3a\"],[0.8888888888888888,\"#fdca26\"],[1.0,\"#f0f921\"]],\"type\":\"surface\"}],\"table\":[{\"cells\":{\"fill\":{\"color\":\"#EBF0F8\"},\"line\":{\"color\":\"white\"}},\"header\":{\"fill\":{\"color\":\"#C8D4E3\"},\"line\":{\"color\":\"white\"}},\"type\":\"table\"}]},\"layout\":{\"annotationdefaults\":{\"arrowcolor\":\"#2a3f5f\",\"arrowhead\":0,\"arrowwidth\":1},\"autotypenumbers\":\"strict\",\"coloraxis\":{\"colorbar\":{\"outlinewidth\":0,\"ticks\":\"\"}},\"colorscale\":{\"diverging\":[[0,\"#8e0152\"],[0.1,\"#c51b7d\"],[0.2,\"#de77ae\"],[0.3,\"#f1b6da\"],[0.4,\"#fde0ef\"],[0.5,\"#f7f7f7\"],[0.6,\"#e6f5d0\"],[0.7,\"#b8e186\"],[0.8,\"#7fbc41\"],[0.9,\"#4d9221\"],[1,\"#276419\"]],\"sequential\":[[0.0,\"#0d0887\"],[0.1111111111111111,\"#46039f\"],[0.2222222222222222,\"#7201a8\"],[0.3333333333333333,\"#9c179e\"],[0.4444444444444444,\"#bd3786\"],[0.5555555555555556,\"#d8576b\"],[0.6666666666666666,\"#ed7953\"],[0.7777777777777778,\"#fb9f3a\"],[0.8888888888888888,\"#fdca26\"],[1.0,\"#f0f921\"]],\"sequentialminus\":[[0.0,\"#0d0887\"],[0.1111111111111111,\"#46039f\"],[0.2222222222222222,\"#7201a8\"],[0.3333333333333333,\"#9c179e\"],[0.4444444444444444,\"#bd3786\"],[0.5555555555555556,\"#d8576b\"],[0.6666666666666666,\"#ed7953\"],[0.7777777777777778,\"#fb9f3a\"],[0.8888888888888888,\"#fdca26\"],[1.0,\"#f0f921\"]]},\"colorway\":[\"#636efa\",\"#EF553B\",\"#00cc96\",\"#ab63fa\",\"#FFA15A\",\"#19d3f3\",\"#FF6692\",\"#B6E880\",\"#FF97FF\",\"#FECB52\"],\"font\":{\"color\":\"#2a3f5f\"},\"geo\":{\"bgcolor\":\"white\",\"lakecolor\":\"white\",\"landcolor\":\"#E5ECF6\",\"showlakes\":true,\"showland\":true,\"subunitcolor\":\"white\"},\"hoverlabel\":{\"align\":\"left\"},\"hovermode\":\"closest\",\"mapbox\":{\"style\":\"light\"},\"paper_bgcolor\":\"white\",\"plot_bgcolor\":\"#E5ECF6\",\"polar\":{\"angularaxis\":{\"gridcolor\":\"white\",\"linecolor\":\"white\",\"ticks\":\"\"},\"bgcolor\":\"#E5ECF6\",\"radialaxis\":{\"gridcolor\":\"white\",\"linecolor\":\"white\",\"ticks\":\"\"}},\"scene\":{\"xaxis\":{\"backgroundcolor\":\"#E5ECF6\",\"gridcolor\":\"white\",\"gridwidth\":2,\"linecolor\":\"white\",\"showbackground\":true,\"ticks\":\"\",\"zerolinecolor\":\"white\"},\"yaxis\":{\"backgroundcolor\":\"#E5ECF6\",\"gridcolor\":\"white\",\"gridwidth\":2,\"linecolor\":\"white\",\"showbackground\":true,\"ticks\":\"\",\"zerolinecolor\":\"white\"},\"zaxis\":{\"backgroundcolor\":\"#E5ECF6\",\"gridcolor\":\"white\",\"gridwidth\":2,\"linecolor\":\"white\",\"showbackground\":true,\"ticks\":\"\",\"zerolinecolor\":\"white\"}},\"shapedefaults\":{\"line\":{\"color\":\"#2a3f5f\"}},\"ternary\":{\"aaxis\":{\"gridcolor\":\"white\",\"linecolor\":\"white\",\"ticks\":\"\"},\"baxis\":{\"gridcolor\":\"white\",\"linecolor\":\"white\",\"ticks\":\"\"},\"bgcolor\":\"#E5ECF6\",\"caxis\":{\"gridcolor\":\"white\",\"linecolor\":\"white\",\"ticks\":\"\"}},\"title\":{\"x\":0.05},\"xaxis\":{\"automargin\":true,\"gridcolor\":\"white\",\"linecolor\":\"white\",\"ticks\":\"\",\"title\":{\"standoff\":15},\"zerolinecolor\":\"white\",\"zerolinewidth\":2},\"yaxis\":{\"automargin\":true,\"gridcolor\":\"white\",\"linecolor\":\"white\",\"ticks\":\"\",\"title\":{\"standoff\":15},\"zerolinecolor\":\"white\",\"zerolinewidth\":2}}},\"title\":{\"text\":\"\\u0412\\u043e\\u0440\\u043e\\u043d\\u043a\\u0430 1\",\"xanchor\":\"center\",\"yanchor\":\"top\"}},                        {\"responsive\": true}                    ).then(function(){\n",
       "                            \n",
       "var gd = document.getElementById('dd2915e1-affc-4597-9ca7-1d0649a24234');\n",
       "var x = new MutationObserver(function (mutations, observer) {{\n",
       "        var display = window.getComputedStyle(gd).display;\n",
       "        if (!display || display === 'none') {{\n",
       "            console.log([gd, 'removed!']);\n",
       "            Plotly.purge(gd);\n",
       "            observer.disconnect();\n",
       "        }}\n",
       "}});\n",
       "\n",
       "// Listen for the removal of the full notebook cells\n",
       "var notebookContainer = gd.closest('#notebook-container');\n",
       "if (notebookContainer) {{\n",
       "    x.observe(notebookContainer, {childList: true});\n",
       "}}\n",
       "\n",
       "// Listen for the clearing of the current output cell\n",
       "var outputEl = gd.closest('.output');\n",
       "if (outputEl) {{\n",
       "    x.observe(outputEl, {childList: true});\n",
       "}}\n",
       "\n",
       "                        })                };                });            </script>        </div>"
      ]
     },
     "metadata": {},
     "output_type": "display_data"
    }
   ],
   "source": [
    "fig = go.Figure(go.Funnel(\n",
    "    x = funnel_1['device_id'],\n",
    "    y = funnel_1['event_name'],\n",
    "    textinfo = \"value+percent initial+percent previous\",\n",
    "    hoverinfo = \"percent previous\"))\n",
    "\n",
    "fig.update_layout(\n",
    "    title={\n",
    "        'text': \"Воронка 1\",\n",
    "        'xanchor': 'center',\n",
    "        'yanchor': 'top'})\n",
    "\n",
    "fig.show()"
   ]
  },
  {
   "cell_type": "code",
   "execution_count": 38,
   "metadata": {},
   "outputs": [
    {
     "data": {
      "application/vnd.plotly.v1+json": {
       "config": {
        "plotlyServerURL": "https://plot.ly"
       },
       "data": [
        {
         "hoverinfo": "percent previous",
         "textinfo": "value+percent initial+percent previous",
         "type": "funnel",
         "x": [
          7419,
          4593,
          3539
         ],
         "y": [
          "MainScreenAppear",
          "OffersScreenAppear",
          "PaymentScreenSuccessful"
         ]
        }
       ],
       "layout": {
        "template": {
         "data": {
          "bar": [
           {
            "error_x": {
             "color": "#2a3f5f"
            },
            "error_y": {
             "color": "#2a3f5f"
            },
            "marker": {
             "line": {
              "color": "#E5ECF6",
              "width": 0.5
             },
             "pattern": {
              "fillmode": "overlay",
              "size": 10,
              "solidity": 0.2
             }
            },
            "type": "bar"
           }
          ],
          "barpolar": [
           {
            "marker": {
             "line": {
              "color": "#E5ECF6",
              "width": 0.5
             },
             "pattern": {
              "fillmode": "overlay",
              "size": 10,
              "solidity": 0.2
             }
            },
            "type": "barpolar"
           }
          ],
          "carpet": [
           {
            "aaxis": {
             "endlinecolor": "#2a3f5f",
             "gridcolor": "white",
             "linecolor": "white",
             "minorgridcolor": "white",
             "startlinecolor": "#2a3f5f"
            },
            "baxis": {
             "endlinecolor": "#2a3f5f",
             "gridcolor": "white",
             "linecolor": "white",
             "minorgridcolor": "white",
             "startlinecolor": "#2a3f5f"
            },
            "type": "carpet"
           }
          ],
          "choropleth": [
           {
            "colorbar": {
             "outlinewidth": 0,
             "ticks": ""
            },
            "type": "choropleth"
           }
          ],
          "contour": [
           {
            "colorbar": {
             "outlinewidth": 0,
             "ticks": ""
            },
            "colorscale": [
             [
              0,
              "#0d0887"
             ],
             [
              0.1111111111111111,
              "#46039f"
             ],
             [
              0.2222222222222222,
              "#7201a8"
             ],
             [
              0.3333333333333333,
              "#9c179e"
             ],
             [
              0.4444444444444444,
              "#bd3786"
             ],
             [
              0.5555555555555556,
              "#d8576b"
             ],
             [
              0.6666666666666666,
              "#ed7953"
             ],
             [
              0.7777777777777778,
              "#fb9f3a"
             ],
             [
              0.8888888888888888,
              "#fdca26"
             ],
             [
              1,
              "#f0f921"
             ]
            ],
            "type": "contour"
           }
          ],
          "contourcarpet": [
           {
            "colorbar": {
             "outlinewidth": 0,
             "ticks": ""
            },
            "type": "contourcarpet"
           }
          ],
          "heatmap": [
           {
            "colorbar": {
             "outlinewidth": 0,
             "ticks": ""
            },
            "colorscale": [
             [
              0,
              "#0d0887"
             ],
             [
              0.1111111111111111,
              "#46039f"
             ],
             [
              0.2222222222222222,
              "#7201a8"
             ],
             [
              0.3333333333333333,
              "#9c179e"
             ],
             [
              0.4444444444444444,
              "#bd3786"
             ],
             [
              0.5555555555555556,
              "#d8576b"
             ],
             [
              0.6666666666666666,
              "#ed7953"
             ],
             [
              0.7777777777777778,
              "#fb9f3a"
             ],
             [
              0.8888888888888888,
              "#fdca26"
             ],
             [
              1,
              "#f0f921"
             ]
            ],
            "type": "heatmap"
           }
          ],
          "heatmapgl": [
           {
            "colorbar": {
             "outlinewidth": 0,
             "ticks": ""
            },
            "colorscale": [
             [
              0,
              "#0d0887"
             ],
             [
              0.1111111111111111,
              "#46039f"
             ],
             [
              0.2222222222222222,
              "#7201a8"
             ],
             [
              0.3333333333333333,
              "#9c179e"
             ],
             [
              0.4444444444444444,
              "#bd3786"
             ],
             [
              0.5555555555555556,
              "#d8576b"
             ],
             [
              0.6666666666666666,
              "#ed7953"
             ],
             [
              0.7777777777777778,
              "#fb9f3a"
             ],
             [
              0.8888888888888888,
              "#fdca26"
             ],
             [
              1,
              "#f0f921"
             ]
            ],
            "type": "heatmapgl"
           }
          ],
          "histogram": [
           {
            "marker": {
             "pattern": {
              "fillmode": "overlay",
              "size": 10,
              "solidity": 0.2
             }
            },
            "type": "histogram"
           }
          ],
          "histogram2d": [
           {
            "colorbar": {
             "outlinewidth": 0,
             "ticks": ""
            },
            "colorscale": [
             [
              0,
              "#0d0887"
             ],
             [
              0.1111111111111111,
              "#46039f"
             ],
             [
              0.2222222222222222,
              "#7201a8"
             ],
             [
              0.3333333333333333,
              "#9c179e"
             ],
             [
              0.4444444444444444,
              "#bd3786"
             ],
             [
              0.5555555555555556,
              "#d8576b"
             ],
             [
              0.6666666666666666,
              "#ed7953"
             ],
             [
              0.7777777777777778,
              "#fb9f3a"
             ],
             [
              0.8888888888888888,
              "#fdca26"
             ],
             [
              1,
              "#f0f921"
             ]
            ],
            "type": "histogram2d"
           }
          ],
          "histogram2dcontour": [
           {
            "colorbar": {
             "outlinewidth": 0,
             "ticks": ""
            },
            "colorscale": [
             [
              0,
              "#0d0887"
             ],
             [
              0.1111111111111111,
              "#46039f"
             ],
             [
              0.2222222222222222,
              "#7201a8"
             ],
             [
              0.3333333333333333,
              "#9c179e"
             ],
             [
              0.4444444444444444,
              "#bd3786"
             ],
             [
              0.5555555555555556,
              "#d8576b"
             ],
             [
              0.6666666666666666,
              "#ed7953"
             ],
             [
              0.7777777777777778,
              "#fb9f3a"
             ],
             [
              0.8888888888888888,
              "#fdca26"
             ],
             [
              1,
              "#f0f921"
             ]
            ],
            "type": "histogram2dcontour"
           }
          ],
          "mesh3d": [
           {
            "colorbar": {
             "outlinewidth": 0,
             "ticks": ""
            },
            "type": "mesh3d"
           }
          ],
          "parcoords": [
           {
            "line": {
             "colorbar": {
              "outlinewidth": 0,
              "ticks": ""
             }
            },
            "type": "parcoords"
           }
          ],
          "pie": [
           {
            "automargin": true,
            "type": "pie"
           }
          ],
          "scatter": [
           {
            "marker": {
             "colorbar": {
              "outlinewidth": 0,
              "ticks": ""
             }
            },
            "type": "scatter"
           }
          ],
          "scatter3d": [
           {
            "line": {
             "colorbar": {
              "outlinewidth": 0,
              "ticks": ""
             }
            },
            "marker": {
             "colorbar": {
              "outlinewidth": 0,
              "ticks": ""
             }
            },
            "type": "scatter3d"
           }
          ],
          "scattercarpet": [
           {
            "marker": {
             "colorbar": {
              "outlinewidth": 0,
              "ticks": ""
             }
            },
            "type": "scattercarpet"
           }
          ],
          "scattergeo": [
           {
            "marker": {
             "colorbar": {
              "outlinewidth": 0,
              "ticks": ""
             }
            },
            "type": "scattergeo"
           }
          ],
          "scattergl": [
           {
            "marker": {
             "colorbar": {
              "outlinewidth": 0,
              "ticks": ""
             }
            },
            "type": "scattergl"
           }
          ],
          "scattermapbox": [
           {
            "marker": {
             "colorbar": {
              "outlinewidth": 0,
              "ticks": ""
             }
            },
            "type": "scattermapbox"
           }
          ],
          "scatterpolar": [
           {
            "marker": {
             "colorbar": {
              "outlinewidth": 0,
              "ticks": ""
             }
            },
            "type": "scatterpolar"
           }
          ],
          "scatterpolargl": [
           {
            "marker": {
             "colorbar": {
              "outlinewidth": 0,
              "ticks": ""
             }
            },
            "type": "scatterpolargl"
           }
          ],
          "scatterternary": [
           {
            "marker": {
             "colorbar": {
              "outlinewidth": 0,
              "ticks": ""
             }
            },
            "type": "scatterternary"
           }
          ],
          "surface": [
           {
            "colorbar": {
             "outlinewidth": 0,
             "ticks": ""
            },
            "colorscale": [
             [
              0,
              "#0d0887"
             ],
             [
              0.1111111111111111,
              "#46039f"
             ],
             [
              0.2222222222222222,
              "#7201a8"
             ],
             [
              0.3333333333333333,
              "#9c179e"
             ],
             [
              0.4444444444444444,
              "#bd3786"
             ],
             [
              0.5555555555555556,
              "#d8576b"
             ],
             [
              0.6666666666666666,
              "#ed7953"
             ],
             [
              0.7777777777777778,
              "#fb9f3a"
             ],
             [
              0.8888888888888888,
              "#fdca26"
             ],
             [
              1,
              "#f0f921"
             ]
            ],
            "type": "surface"
           }
          ],
          "table": [
           {
            "cells": {
             "fill": {
              "color": "#EBF0F8"
             },
             "line": {
              "color": "white"
             }
            },
            "header": {
             "fill": {
              "color": "#C8D4E3"
             },
             "line": {
              "color": "white"
             }
            },
            "type": "table"
           }
          ]
         },
         "layout": {
          "annotationdefaults": {
           "arrowcolor": "#2a3f5f",
           "arrowhead": 0,
           "arrowwidth": 1
          },
          "autotypenumbers": "strict",
          "coloraxis": {
           "colorbar": {
            "outlinewidth": 0,
            "ticks": ""
           }
          },
          "colorscale": {
           "diverging": [
            [
             0,
             "#8e0152"
            ],
            [
             0.1,
             "#c51b7d"
            ],
            [
             0.2,
             "#de77ae"
            ],
            [
             0.3,
             "#f1b6da"
            ],
            [
             0.4,
             "#fde0ef"
            ],
            [
             0.5,
             "#f7f7f7"
            ],
            [
             0.6,
             "#e6f5d0"
            ],
            [
             0.7,
             "#b8e186"
            ],
            [
             0.8,
             "#7fbc41"
            ],
            [
             0.9,
             "#4d9221"
            ],
            [
             1,
             "#276419"
            ]
           ],
           "sequential": [
            [
             0,
             "#0d0887"
            ],
            [
             0.1111111111111111,
             "#46039f"
            ],
            [
             0.2222222222222222,
             "#7201a8"
            ],
            [
             0.3333333333333333,
             "#9c179e"
            ],
            [
             0.4444444444444444,
             "#bd3786"
            ],
            [
             0.5555555555555556,
             "#d8576b"
            ],
            [
             0.6666666666666666,
             "#ed7953"
            ],
            [
             0.7777777777777778,
             "#fb9f3a"
            ],
            [
             0.8888888888888888,
             "#fdca26"
            ],
            [
             1,
             "#f0f921"
            ]
           ],
           "sequentialminus": [
            [
             0,
             "#0d0887"
            ],
            [
             0.1111111111111111,
             "#46039f"
            ],
            [
             0.2222222222222222,
             "#7201a8"
            ],
            [
             0.3333333333333333,
             "#9c179e"
            ],
            [
             0.4444444444444444,
             "#bd3786"
            ],
            [
             0.5555555555555556,
             "#d8576b"
            ],
            [
             0.6666666666666666,
             "#ed7953"
            ],
            [
             0.7777777777777778,
             "#fb9f3a"
            ],
            [
             0.8888888888888888,
             "#fdca26"
            ],
            [
             1,
             "#f0f921"
            ]
           ]
          },
          "colorway": [
           "#636efa",
           "#EF553B",
           "#00cc96",
           "#ab63fa",
           "#FFA15A",
           "#19d3f3",
           "#FF6692",
           "#B6E880",
           "#FF97FF",
           "#FECB52"
          ],
          "font": {
           "color": "#2a3f5f"
          },
          "geo": {
           "bgcolor": "white",
           "lakecolor": "white",
           "landcolor": "#E5ECF6",
           "showlakes": true,
           "showland": true,
           "subunitcolor": "white"
          },
          "hoverlabel": {
           "align": "left"
          },
          "hovermode": "closest",
          "mapbox": {
           "style": "light"
          },
          "paper_bgcolor": "white",
          "plot_bgcolor": "#E5ECF6",
          "polar": {
           "angularaxis": {
            "gridcolor": "white",
            "linecolor": "white",
            "ticks": ""
           },
           "bgcolor": "#E5ECF6",
           "radialaxis": {
            "gridcolor": "white",
            "linecolor": "white",
            "ticks": ""
           }
          },
          "scene": {
           "xaxis": {
            "backgroundcolor": "#E5ECF6",
            "gridcolor": "white",
            "gridwidth": 2,
            "linecolor": "white",
            "showbackground": true,
            "ticks": "",
            "zerolinecolor": "white"
           },
           "yaxis": {
            "backgroundcolor": "#E5ECF6",
            "gridcolor": "white",
            "gridwidth": 2,
            "linecolor": "white",
            "showbackground": true,
            "ticks": "",
            "zerolinecolor": "white"
           },
           "zaxis": {
            "backgroundcolor": "#E5ECF6",
            "gridcolor": "white",
            "gridwidth": 2,
            "linecolor": "white",
            "showbackground": true,
            "ticks": "",
            "zerolinecolor": "white"
           }
          },
          "shapedefaults": {
           "line": {
            "color": "#2a3f5f"
           }
          },
          "ternary": {
           "aaxis": {
            "gridcolor": "white",
            "linecolor": "white",
            "ticks": ""
           },
           "baxis": {
            "gridcolor": "white",
            "linecolor": "white",
            "ticks": ""
           },
           "bgcolor": "#E5ECF6",
           "caxis": {
            "gridcolor": "white",
            "linecolor": "white",
            "ticks": ""
           }
          },
          "title": {
           "x": 0.05
          },
          "xaxis": {
           "automargin": true,
           "gridcolor": "white",
           "linecolor": "white",
           "ticks": "",
           "title": {
            "standoff": 15
           },
           "zerolinecolor": "white",
           "zerolinewidth": 2
          },
          "yaxis": {
           "automargin": true,
           "gridcolor": "white",
           "linecolor": "white",
           "ticks": "",
           "title": {
            "standoff": 15
           },
           "zerolinecolor": "white",
           "zerolinewidth": 2
          }
         }
        },
        "title": {
         "text": "Воронка 2",
         "xanchor": "center",
         "yanchor": "top"
        }
       }
      },
      "text/html": [
       "<div>                            <div id=\"05c767c3-ef6b-4715-87b4-5ea8d2982ac2\" class=\"plotly-graph-div\" style=\"height:525px; width:100%;\"></div>            <script type=\"text/javascript\">                require([\"plotly\"], function(Plotly) {                    window.PLOTLYENV=window.PLOTLYENV || {};                                    if (document.getElementById(\"05c767c3-ef6b-4715-87b4-5ea8d2982ac2\")) {                    Plotly.newPlot(                        \"05c767c3-ef6b-4715-87b4-5ea8d2982ac2\",                        [{\"hoverinfo\":\"percent previous\",\"textinfo\":\"value+percent initial+percent previous\",\"x\":[7419,4593,3539],\"y\":[\"MainScreenAppear\",\"OffersScreenAppear\",\"PaymentScreenSuccessful\"],\"type\":\"funnel\"}],                        {\"template\":{\"data\":{\"bar\":[{\"error_x\":{\"color\":\"#2a3f5f\"},\"error_y\":{\"color\":\"#2a3f5f\"},\"marker\":{\"line\":{\"color\":\"#E5ECF6\",\"width\":0.5},\"pattern\":{\"fillmode\":\"overlay\",\"size\":10,\"solidity\":0.2}},\"type\":\"bar\"}],\"barpolar\":[{\"marker\":{\"line\":{\"color\":\"#E5ECF6\",\"width\":0.5},\"pattern\":{\"fillmode\":\"overlay\",\"size\":10,\"solidity\":0.2}},\"type\":\"barpolar\"}],\"carpet\":[{\"aaxis\":{\"endlinecolor\":\"#2a3f5f\",\"gridcolor\":\"white\",\"linecolor\":\"white\",\"minorgridcolor\":\"white\",\"startlinecolor\":\"#2a3f5f\"},\"baxis\":{\"endlinecolor\":\"#2a3f5f\",\"gridcolor\":\"white\",\"linecolor\":\"white\",\"minorgridcolor\":\"white\",\"startlinecolor\":\"#2a3f5f\"},\"type\":\"carpet\"}],\"choropleth\":[{\"colorbar\":{\"outlinewidth\":0,\"ticks\":\"\"},\"type\":\"choropleth\"}],\"contour\":[{\"colorbar\":{\"outlinewidth\":0,\"ticks\":\"\"},\"colorscale\":[[0.0,\"#0d0887\"],[0.1111111111111111,\"#46039f\"],[0.2222222222222222,\"#7201a8\"],[0.3333333333333333,\"#9c179e\"],[0.4444444444444444,\"#bd3786\"],[0.5555555555555556,\"#d8576b\"],[0.6666666666666666,\"#ed7953\"],[0.7777777777777778,\"#fb9f3a\"],[0.8888888888888888,\"#fdca26\"],[1.0,\"#f0f921\"]],\"type\":\"contour\"}],\"contourcarpet\":[{\"colorbar\":{\"outlinewidth\":0,\"ticks\":\"\"},\"type\":\"contourcarpet\"}],\"heatmap\":[{\"colorbar\":{\"outlinewidth\":0,\"ticks\":\"\"},\"colorscale\":[[0.0,\"#0d0887\"],[0.1111111111111111,\"#46039f\"],[0.2222222222222222,\"#7201a8\"],[0.3333333333333333,\"#9c179e\"],[0.4444444444444444,\"#bd3786\"],[0.5555555555555556,\"#d8576b\"],[0.6666666666666666,\"#ed7953\"],[0.7777777777777778,\"#fb9f3a\"],[0.8888888888888888,\"#fdca26\"],[1.0,\"#f0f921\"]],\"type\":\"heatmap\"}],\"heatmapgl\":[{\"colorbar\":{\"outlinewidth\":0,\"ticks\":\"\"},\"colorscale\":[[0.0,\"#0d0887\"],[0.1111111111111111,\"#46039f\"],[0.2222222222222222,\"#7201a8\"],[0.3333333333333333,\"#9c179e\"],[0.4444444444444444,\"#bd3786\"],[0.5555555555555556,\"#d8576b\"],[0.6666666666666666,\"#ed7953\"],[0.7777777777777778,\"#fb9f3a\"],[0.8888888888888888,\"#fdca26\"],[1.0,\"#f0f921\"]],\"type\":\"heatmapgl\"}],\"histogram\":[{\"marker\":{\"pattern\":{\"fillmode\":\"overlay\",\"size\":10,\"solidity\":0.2}},\"type\":\"histogram\"}],\"histogram2d\":[{\"colorbar\":{\"outlinewidth\":0,\"ticks\":\"\"},\"colorscale\":[[0.0,\"#0d0887\"],[0.1111111111111111,\"#46039f\"],[0.2222222222222222,\"#7201a8\"],[0.3333333333333333,\"#9c179e\"],[0.4444444444444444,\"#bd3786\"],[0.5555555555555556,\"#d8576b\"],[0.6666666666666666,\"#ed7953\"],[0.7777777777777778,\"#fb9f3a\"],[0.8888888888888888,\"#fdca26\"],[1.0,\"#f0f921\"]],\"type\":\"histogram2d\"}],\"histogram2dcontour\":[{\"colorbar\":{\"outlinewidth\":0,\"ticks\":\"\"},\"colorscale\":[[0.0,\"#0d0887\"],[0.1111111111111111,\"#46039f\"],[0.2222222222222222,\"#7201a8\"],[0.3333333333333333,\"#9c179e\"],[0.4444444444444444,\"#bd3786\"],[0.5555555555555556,\"#d8576b\"],[0.6666666666666666,\"#ed7953\"],[0.7777777777777778,\"#fb9f3a\"],[0.8888888888888888,\"#fdca26\"],[1.0,\"#f0f921\"]],\"type\":\"histogram2dcontour\"}],\"mesh3d\":[{\"colorbar\":{\"outlinewidth\":0,\"ticks\":\"\"},\"type\":\"mesh3d\"}],\"parcoords\":[{\"line\":{\"colorbar\":{\"outlinewidth\":0,\"ticks\":\"\"}},\"type\":\"parcoords\"}],\"pie\":[{\"automargin\":true,\"type\":\"pie\"}],\"scatter\":[{\"marker\":{\"colorbar\":{\"outlinewidth\":0,\"ticks\":\"\"}},\"type\":\"scatter\"}],\"scatter3d\":[{\"line\":{\"colorbar\":{\"outlinewidth\":0,\"ticks\":\"\"}},\"marker\":{\"colorbar\":{\"outlinewidth\":0,\"ticks\":\"\"}},\"type\":\"scatter3d\"}],\"scattercarpet\":[{\"marker\":{\"colorbar\":{\"outlinewidth\":0,\"ticks\":\"\"}},\"type\":\"scattercarpet\"}],\"scattergeo\":[{\"marker\":{\"colorbar\":{\"outlinewidth\":0,\"ticks\":\"\"}},\"type\":\"scattergeo\"}],\"scattergl\":[{\"marker\":{\"colorbar\":{\"outlinewidth\":0,\"ticks\":\"\"}},\"type\":\"scattergl\"}],\"scattermapbox\":[{\"marker\":{\"colorbar\":{\"outlinewidth\":0,\"ticks\":\"\"}},\"type\":\"scattermapbox\"}],\"scatterpolar\":[{\"marker\":{\"colorbar\":{\"outlinewidth\":0,\"ticks\":\"\"}},\"type\":\"scatterpolar\"}],\"scatterpolargl\":[{\"marker\":{\"colorbar\":{\"outlinewidth\":0,\"ticks\":\"\"}},\"type\":\"scatterpolargl\"}],\"scatterternary\":[{\"marker\":{\"colorbar\":{\"outlinewidth\":0,\"ticks\":\"\"}},\"type\":\"scatterternary\"}],\"surface\":[{\"colorbar\":{\"outlinewidth\":0,\"ticks\":\"\"},\"colorscale\":[[0.0,\"#0d0887\"],[0.1111111111111111,\"#46039f\"],[0.2222222222222222,\"#7201a8\"],[0.3333333333333333,\"#9c179e\"],[0.4444444444444444,\"#bd3786\"],[0.5555555555555556,\"#d8576b\"],[0.6666666666666666,\"#ed7953\"],[0.7777777777777778,\"#fb9f3a\"],[0.8888888888888888,\"#fdca26\"],[1.0,\"#f0f921\"]],\"type\":\"surface\"}],\"table\":[{\"cells\":{\"fill\":{\"color\":\"#EBF0F8\"},\"line\":{\"color\":\"white\"}},\"header\":{\"fill\":{\"color\":\"#C8D4E3\"},\"line\":{\"color\":\"white\"}},\"type\":\"table\"}]},\"layout\":{\"annotationdefaults\":{\"arrowcolor\":\"#2a3f5f\",\"arrowhead\":0,\"arrowwidth\":1},\"autotypenumbers\":\"strict\",\"coloraxis\":{\"colorbar\":{\"outlinewidth\":0,\"ticks\":\"\"}},\"colorscale\":{\"diverging\":[[0,\"#8e0152\"],[0.1,\"#c51b7d\"],[0.2,\"#de77ae\"],[0.3,\"#f1b6da\"],[0.4,\"#fde0ef\"],[0.5,\"#f7f7f7\"],[0.6,\"#e6f5d0\"],[0.7,\"#b8e186\"],[0.8,\"#7fbc41\"],[0.9,\"#4d9221\"],[1,\"#276419\"]],\"sequential\":[[0.0,\"#0d0887\"],[0.1111111111111111,\"#46039f\"],[0.2222222222222222,\"#7201a8\"],[0.3333333333333333,\"#9c179e\"],[0.4444444444444444,\"#bd3786\"],[0.5555555555555556,\"#d8576b\"],[0.6666666666666666,\"#ed7953\"],[0.7777777777777778,\"#fb9f3a\"],[0.8888888888888888,\"#fdca26\"],[1.0,\"#f0f921\"]],\"sequentialminus\":[[0.0,\"#0d0887\"],[0.1111111111111111,\"#46039f\"],[0.2222222222222222,\"#7201a8\"],[0.3333333333333333,\"#9c179e\"],[0.4444444444444444,\"#bd3786\"],[0.5555555555555556,\"#d8576b\"],[0.6666666666666666,\"#ed7953\"],[0.7777777777777778,\"#fb9f3a\"],[0.8888888888888888,\"#fdca26\"],[1.0,\"#f0f921\"]]},\"colorway\":[\"#636efa\",\"#EF553B\",\"#00cc96\",\"#ab63fa\",\"#FFA15A\",\"#19d3f3\",\"#FF6692\",\"#B6E880\",\"#FF97FF\",\"#FECB52\"],\"font\":{\"color\":\"#2a3f5f\"},\"geo\":{\"bgcolor\":\"white\",\"lakecolor\":\"white\",\"landcolor\":\"#E5ECF6\",\"showlakes\":true,\"showland\":true,\"subunitcolor\":\"white\"},\"hoverlabel\":{\"align\":\"left\"},\"hovermode\":\"closest\",\"mapbox\":{\"style\":\"light\"},\"paper_bgcolor\":\"white\",\"plot_bgcolor\":\"#E5ECF6\",\"polar\":{\"angularaxis\":{\"gridcolor\":\"white\",\"linecolor\":\"white\",\"ticks\":\"\"},\"bgcolor\":\"#E5ECF6\",\"radialaxis\":{\"gridcolor\":\"white\",\"linecolor\":\"white\",\"ticks\":\"\"}},\"scene\":{\"xaxis\":{\"backgroundcolor\":\"#E5ECF6\",\"gridcolor\":\"white\",\"gridwidth\":2,\"linecolor\":\"white\",\"showbackground\":true,\"ticks\":\"\",\"zerolinecolor\":\"white\"},\"yaxis\":{\"backgroundcolor\":\"#E5ECF6\",\"gridcolor\":\"white\",\"gridwidth\":2,\"linecolor\":\"white\",\"showbackground\":true,\"ticks\":\"\",\"zerolinecolor\":\"white\"},\"zaxis\":{\"backgroundcolor\":\"#E5ECF6\",\"gridcolor\":\"white\",\"gridwidth\":2,\"linecolor\":\"white\",\"showbackground\":true,\"ticks\":\"\",\"zerolinecolor\":\"white\"}},\"shapedefaults\":{\"line\":{\"color\":\"#2a3f5f\"}},\"ternary\":{\"aaxis\":{\"gridcolor\":\"white\",\"linecolor\":\"white\",\"ticks\":\"\"},\"baxis\":{\"gridcolor\":\"white\",\"linecolor\":\"white\",\"ticks\":\"\"},\"bgcolor\":\"#E5ECF6\",\"caxis\":{\"gridcolor\":\"white\",\"linecolor\":\"white\",\"ticks\":\"\"}},\"title\":{\"x\":0.05},\"xaxis\":{\"automargin\":true,\"gridcolor\":\"white\",\"linecolor\":\"white\",\"ticks\":\"\",\"title\":{\"standoff\":15},\"zerolinecolor\":\"white\",\"zerolinewidth\":2},\"yaxis\":{\"automargin\":true,\"gridcolor\":\"white\",\"linecolor\":\"white\",\"ticks\":\"\",\"title\":{\"standoff\":15},\"zerolinecolor\":\"white\",\"zerolinewidth\":2}}},\"title\":{\"text\":\"\\u0412\\u043e\\u0440\\u043e\\u043d\\u043a\\u0430 2\",\"xanchor\":\"center\",\"yanchor\":\"top\"}},                        {\"responsive\": true}                    ).then(function(){\n",
       "                            \n",
       "var gd = document.getElementById('05c767c3-ef6b-4715-87b4-5ea8d2982ac2');\n",
       "var x = new MutationObserver(function (mutations, observer) {{\n",
       "        var display = window.getComputedStyle(gd).display;\n",
       "        if (!display || display === 'none') {{\n",
       "            console.log([gd, 'removed!']);\n",
       "            Plotly.purge(gd);\n",
       "            observer.disconnect();\n",
       "        }}\n",
       "}});\n",
       "\n",
       "// Listen for the removal of the full notebook cells\n",
       "var notebookContainer = gd.closest('#notebook-container');\n",
       "if (notebookContainer) {{\n",
       "    x.observe(notebookContainer, {childList: true});\n",
       "}}\n",
       "\n",
       "// Listen for the clearing of the current output cell\n",
       "var outputEl = gd.closest('.output');\n",
       "if (outputEl) {{\n",
       "    x.observe(outputEl, {childList: true});\n",
       "}}\n",
       "\n",
       "                        })                };                });            </script>        </div>"
      ]
     },
     "metadata": {},
     "output_type": "display_data"
    }
   ],
   "source": [
    "fig = go.Figure(go.Funnel(\n",
    "    x = funnel_2['device_id'],\n",
    "    y = funnel_2['event_name'],\n",
    "    textinfo = \"value+percent initial+percent previous\",\n",
    "    hoverinfo = \"percent previous\"))\n",
    "\n",
    "fig.update_layout(\n",
    "    title={\n",
    "        'text': \"Воронка 2\",\n",
    "        'xanchor': 'center',\n",
    "        'yanchor': 'top'})\n",
    "\n",
    "fig.show()"
   ]
  },
  {
   "cell_type": "markdown",
   "metadata": {},
   "source": [
    "Вот так бдут выглядеть воронки, если мы считаем события CartScreenAppear и PaymentScreenSuccessful независимыми."
   ]
  },
  {
   "cell_type": "markdown",
   "metadata": {},
   "source": [
    "Больше всего пользователей теряется на 2 шаге MainScreenAppear > OffersScreenAppear."
   ]
  },
  {
   "cell_type": "code",
   "execution_count": 39,
   "metadata": {},
   "outputs": [
    {
     "data": {
      "text/plain": [
       "47.7"
      ]
     },
     "execution_count": 39,
     "metadata": {},
     "output_type": "execute_result"
    }
   ],
   "source": [
    "round(funnel['device_id'][3] / funnel['device_id'][0] * 100, 2)"
   ]
  },
  {
   "cell_type": "markdown",
   "metadata": {},
   "source": [
    "Только 47.7 процентов пользователей доходят от первого события до оплаты."
   ]
  },
  {
   "cell_type": "markdown",
   "metadata": {},
   "source": [
    "### Вывод"
   ]
  },
  {
   "cell_type": "markdown",
   "metadata": {},
   "source": [
    "Мы проанализировали события и выявили несколько возможных воронок продаж. У всех воронок продаж от первого события(показа главного экрана приложения) до оплаты доходят 47.7% пользователей."
   ]
  },
  {
   "cell_type": "markdown",
   "metadata": {},
   "source": [
    "## Анализ экспериментов"
   ]
  },
  {
   "cell_type": "markdown",
   "metadata": {},
   "source": [
    "Для анализа наших экспериментов будем использовать коэффициент значимости a = 0.05"
   ]
  },
  {
   "cell_type": "code",
   "execution_count": 40,
   "metadata": {},
   "outputs": [],
   "source": [
    "alpha = 0.05"
   ]
  },
  {
   "cell_type": "code",
   "execution_count": 41,
   "metadata": {},
   "outputs": [
    {
     "data": {
      "text/plain": [
       "exp_id\n",
       "246    2484\n",
       "247    2513\n",
       "248    2537\n",
       "Name: device_id, dtype: int64"
      ]
     },
     "execution_count": 41,
     "metadata": {},
     "output_type": "execute_result"
    }
   ],
   "source": [
    "logs.groupby('exp_id')['device_id'].nunique()"
   ]
  },
  {
   "cell_type": "markdown",
   "metadata": {},
   "source": [
    "У нас есть 3 экспериментальных группы, в каждой по ~2500 человек."
   ]
  },
  {
   "cell_type": "markdown",
   "metadata": {},
   "source": [
    "Проверим, находят ли статистические критерии разницу между выборками 246 и 247."
   ]
  },
  {
   "cell_type": "code",
   "execution_count": 42,
   "metadata": {},
   "outputs": [
    {
     "data": {
      "text/plain": [
       "1.1539992041384783"
      ]
     },
     "execution_count": 42,
     "metadata": {},
     "output_type": "execute_result"
    }
   ],
   "source": [
    "(1 - 2484/2513) * 100"
   ]
  },
  {
   "cell_type": "markdown",
   "metadata": {},
   "source": [
    "Размеры выборок отличаются на 1.15%. В идеале - количество не должно различаться больше чем на 1 процент."
   ]
  },
  {
   "cell_type": "markdown",
   "metadata": {},
   "source": [
    "Нулевая гипотеза - группы 246 и 247 одинаковые. Альтернативная гипотеза - группы 246 и 247 разные."
   ]
  },
  {
   "cell_type": "code",
   "execution_count": 43,
   "metadata": {},
   "outputs": [
    {
     "name": "stdout",
     "output_type": "stream",
     "text": [
      "Проверяли гипотезу о равенстве числа пользователей совершивших событие PaymentScreenSuccessful в группах [246] и [247]\n",
      "p-значение:  0.11456679313141849\n",
      "Не получилось отвергнуть нулевую гипотезу, нет оснований считать группы разными\n",
      "\n"
     ]
    }
   ],
   "source": [
    "def significance(group1, group2, event):\n",
    "    successes = np.array([logs.query('(exp_id in @group1) & (event_name == @event)')['device_id'].nunique(),\n",
    "                     logs.query('(exp_id in @group2) & (event_name == @event)')['device_id'].nunique()])\n",
    "    trials = np.array([logs.query('exp_id in @group1')['device_id'].nunique(),\n",
    "                  logs.query('exp_id in @group2')['device_id'].nunique(),])\n",
    "\n",
    "# пропорция успехов в первой группе:\n",
    "    p1 = successes[0]/trials[0]\n",
    "\n",
    "# пропорция успехов во второй группе:\n",
    "    p2 = successes[1]/trials[1]\n",
    "\n",
    "# пропорция успехов в комбинированном датасете:\n",
    "    p_combined = (successes[0] + successes[1]) / (trials[0] + trials[1])\n",
    "    \n",
    "# разница пропорций в датасетах\n",
    "    difference = p1 - p2\n",
    "    \n",
    "    # считаем статистику в ст.отклонениях стандартного нормального распределения\n",
    "    z_value = difference / mth.sqrt(\n",
    "        p_combined * (1 - p_combined) * (1 / trials[0] + 1 / trials[1])\n",
    "    )\n",
    "\n",
    "# задаем стандартное нормальное распределение (среднее 0, ст.отклонение 1)\n",
    "    distr = st.norm(0, 1)\n",
    "\n",
    "    p_value = (1 - distr.cdf(abs(z_value))) * 2\n",
    "\n",
    "    print(f'Проверяли гипотезу о равенстве числа пользователей совершивших событие {event} в группах {group1} и {group2}')\n",
    "    print('p-значение: ', p_value)\n",
    "\n",
    "    if p_value < alpha:\n",
    "        print('Отвергаем нулевую гипотезу: между группами есть значимая разница')\n",
    "    else:\n",
    "        print(\n",
    "            'Не получилось отвергнуть нулевую гипотезу, нет оснований считать группы разными'\n",
    "        )\n",
    "    print()\n",
    "\n",
    "significance([246], [247], \"PaymentScreenSuccessful\")"
   ]
  },
  {
   "cell_type": "markdown",
   "metadata": {},
   "source": [
    "A/A тест показал что группы одинаковые."
   ]
  },
  {
   "cell_type": "code",
   "execution_count": 44,
   "metadata": {},
   "outputs": [
    {
     "data": {
      "text/plain": [
       "array(['Tutorial', 'MainScreenAppear', 'OffersScreenAppear',\n",
       "       'CartScreenAppear', 'PaymentScreenSuccessful'], dtype=object)"
      ]
     },
     "execution_count": 44,
     "metadata": {},
     "output_type": "execute_result"
    }
   ],
   "source": [
    "logs['event_name'].unique()"
   ]
  },
  {
   "cell_type": "code",
   "execution_count": 45,
   "metadata": {
    "scrolled": true
   },
   "outputs": [
    {
     "name": "stdout",
     "output_type": "stream",
     "text": [
      "Проверяли гипотезу о равенстве числа пользователей совершивших событие PaymentScreenSuccessful в группах [246] и [248]\n",
      "p-значение:  0.2122553275697796\n",
      "Не получилось отвергнуть нулевую гипотезу, нет оснований считать группы разными\n",
      "\n",
      "Проверяли гипотезу о равенстве числа пользователей совершивших событие Tutorial в группах [246] и [248]\n",
      "p-значение:  0.8264294010087645\n",
      "Не получилось отвергнуть нулевую гипотезу, нет оснований считать группы разными\n",
      "\n",
      "Проверяли гипотезу о равенстве числа пользователей совершивших событие MainScreenAppear в группах [246] и [248]\n",
      "p-значение:  0.2949721933554552\n",
      "Не получилось отвергнуть нулевую гипотезу, нет оснований считать группы разными\n",
      "\n",
      "Проверяли гипотезу о равенстве числа пользователей совершивших событие OffersScreenAppear в группах [246] и [248]\n",
      "p-значение:  0.20836205402738917\n",
      "Не получилось отвергнуть нулевую гипотезу, нет оснований считать группы разными\n",
      "\n",
      "Проверяли гипотезу о равенстве числа пользователей совершивших событие CartScreenAppear в группах [246] и [248]\n",
      "p-значение:  0.07842923237520116\n",
      "Не получилось отвергнуть нулевую гипотезу, нет оснований считать группы разными\n",
      "\n",
      "Проверяли гипотезу о равенстве числа пользователей совершивших событие PaymentScreenSuccessful в группах [247] и [248]\n",
      "p-значение:  0.7373415053803964\n",
      "Не получилось отвергнуть нулевую гипотезу, нет оснований считать группы разными\n",
      "\n",
      "Проверяли гипотезу о равенстве числа пользователей совершивших событие Tutorial в группах [247] и [248]\n",
      "p-значение:  0.765323922474501\n",
      "Не получилось отвергнуть нулевую гипотезу, нет оснований считать группы разными\n",
      "\n",
      "Проверяли гипотезу о равенстве числа пользователей совершивших событие MainScreenAppear в группах [247] и [248]\n",
      "p-значение:  0.4587053616621515\n",
      "Не получилось отвергнуть нулевую гипотезу, нет оснований считать группы разными\n",
      "\n",
      "Проверяли гипотезу о равенстве числа пользователей совершивших событие OffersScreenAppear в группах [247] и [248]\n",
      "p-значение:  0.9197817830592261\n",
      "Не получилось отвергнуть нулевую гипотезу, нет оснований считать группы разными\n",
      "\n",
      "Проверяли гипотезу о равенстве числа пользователей совершивших событие CartScreenAppear в группах [247] и [248]\n",
      "p-значение:  0.5786197879539783\n",
      "Не получилось отвергнуть нулевую гипотезу, нет оснований считать группы разными\n",
      "\n"
     ]
    }
   ],
   "source": [
    "significance([246], [248], \"PaymentScreenSuccessful\")\n",
    "significance([246], [248], \"Tutorial\")\n",
    "significance([246], [248], \"MainScreenAppear\")\n",
    "significance([246], [248], \"OffersScreenAppear\")\n",
    "significance([246], [248], \"CartScreenAppear\")\n",
    "\n",
    "significance([247], [248], \"PaymentScreenSuccessful\")\n",
    "significance([247], [248], \"Tutorial\")\n",
    "significance([247], [248], \"MainScreenAppear\")\n",
    "significance([247], [248], \"OffersScreenAppear\")\n",
    "significance([247], [248], \"CartScreenAppear\")\n",
    "\n",
    "#significance((246 & 247), 248)"
   ]
  },
  {
   "cell_type": "markdown",
   "metadata": {},
   "source": [
    "Во всех экспериментах p-value > alpha, следовательно мы не можем считать статистически значимой разницу между группами."
   ]
  },
  {
   "cell_type": "code",
   "execution_count": 46,
   "metadata": {
    "scrolled": true
   },
   "outputs": [
    {
     "name": "stdout",
     "output_type": "stream",
     "text": [
      "Проверяли гипотезу о равенстве числа пользователей совершивших событие PaymentScreenSuccessful в группах [246, 247] и [248]\n",
      "p-значение:  0.6004294282308704\n",
      "Не получилось отвергнуть нулевую гипотезу, нет оснований считать группы разными\n",
      "\n",
      "Проверяли гипотезу о равенстве числа пользователей совершивших событие Tutorial в группах [246, 247] и [248]\n",
      "p-значение:  0.764862472531507\n",
      "Не получилось отвергнуть нулевую гипотезу, нет оснований считать группы разными\n",
      "\n",
      "Проверяли гипотезу о равенстве числа пользователей совершивших событие MainScreenAppear в группах [246, 247] и [248]\n",
      "p-значение:  0.29424526837179577\n",
      "Не получилось отвергнуть нулевую гипотезу, нет оснований считать группы разными\n",
      "\n",
      "Проверяли гипотезу о равенстве числа пользователей совершивших событие OffersScreenAppear в группах [246, 247] и [248]\n",
      "p-значение:  0.43425549655188256\n",
      "Не получилось отвергнуть нулевую гипотезу, нет оснований считать группы разными\n",
      "\n",
      "Проверяли гипотезу о равенстве числа пользователей совершивших событие CartScreenAppear в группах [246, 247] и [248]\n",
      "p-значение:  0.18175875284404386\n",
      "Не получилось отвергнуть нулевую гипотезу, нет оснований считать группы разными\n",
      "\n"
     ]
    }
   ],
   "source": [
    "significance([246, 247], [248], \"PaymentScreenSuccessful\")\n",
    "significance([246, 247], [248], \"Tutorial\")\n",
    "significance([246, 247], [248], \"MainScreenAppear\")\n",
    "significance([246, 247], [248], \"OffersScreenAppear\")\n",
    "significance([246, 247], [248], \"CartScreenAppear\")"
   ]
  },
  {
   "cell_type": "markdown",
   "metadata": {},
   "source": [
    "### Вывод"
   ]
  },
  {
   "cell_type": "markdown",
   "metadata": {},
   "source": [
    "Мы не нашли статистически значимой разницы между экспериментальной группой 248 и контрольными группами 246 и 247, как по отдельности, так и между 248 и объединенными 246 и 247, по любым событиям. Alpha = 0.05."
   ]
  },
  {
   "cell_type": "markdown",
   "metadata": {},
   "source": [
    "## Общий вывод"
   ]
  },
  {
   "cell_type": "markdown",
   "metadata": {},
   "source": [
    "В этом проекте мы проанализировали результаты внедрения новых шрифтов. Для этого, мы выполнили загрузку и предобработку датасета, полученного от заказчика. Провели исследовательский анализ данных, в результате которого мы отсекли \"пустую\" неделю в датасете с 25 по 31 июля, в общей сложности 1.15% событий. Мы определили, что средний пользователь приложения совершает, в среднем 20 событий в неделю, а 90% пользователей совершают от 0 до 80 событий в неделю. Мы проанализировали воронки событий, и нашли что 48% пользователей совершают заказ пользуясь приложением."
   ]
  },
  {
   "cell_type": "markdown",
   "metadata": {},
   "source": [
    "Мы исследовали результаты A/B тестов, проведенных на трех группах 246, 247 и 248. Всего мы провели 15 проверок гипотез. Основываясь на результатах статистического анализа, нет оснований предполагать что шрифты влияют на поведение пользователей."
   ]
  },
  {
   "cell_type": "markdown",
   "metadata": {},
   "source": [
    "Рекомендуем шрифты не менять, изменения откатить."
   ]
  }
 ],
 "metadata": {
  "ExecuteTimeLog": [
   {
    "duration": 365,
    "start_time": "2022-07-18T08:57:33.005Z"
   },
   {
    "duration": 611,
    "start_time": "2022-07-18T08:57:41.902Z"
   },
   {
    "duration": 23,
    "start_time": "2022-07-18T08:57:46.754Z"
   },
   {
    "duration": 14,
    "start_time": "2022-07-18T08:57:54.542Z"
   },
   {
    "duration": 159,
    "start_time": "2022-07-18T08:58:05.390Z"
   },
   {
    "duration": 10,
    "start_time": "2022-07-18T08:58:07.092Z"
   },
   {
    "duration": 10,
    "start_time": "2022-07-18T08:58:24.411Z"
   },
   {
    "duration": 26,
    "start_time": "2022-07-18T08:58:29.939Z"
   },
   {
    "duration": 31,
    "start_time": "2022-07-18T09:00:18.828Z"
   },
   {
    "duration": 3,
    "start_time": "2022-07-18T09:01:05.691Z"
   },
   {
    "duration": 19,
    "start_time": "2022-07-18T09:01:12.545Z"
   },
   {
    "duration": 9,
    "start_time": "2022-07-18T09:01:33.772Z"
   },
   {
    "duration": 7,
    "start_time": "2022-07-18T09:01:39.485Z"
   },
   {
    "duration": 60,
    "start_time": "2022-07-18T09:02:18.076Z"
   },
   {
    "duration": 79,
    "start_time": "2022-07-18T09:23:55.736Z"
   },
   {
    "duration": 360,
    "start_time": "2022-07-18T09:24:02.886Z"
   },
   {
    "duration": 166,
    "start_time": "2022-07-18T09:24:03.248Z"
   },
   {
    "duration": 36,
    "start_time": "2022-07-18T09:24:03.416Z"
   },
   {
    "duration": 3,
    "start_time": "2022-07-18T09:24:03.454Z"
   },
   {
    "duration": 18,
    "start_time": "2022-07-18T09:24:03.459Z"
   },
   {
    "duration": 9,
    "start_time": "2022-07-18T09:24:03.479Z"
   },
   {
    "duration": 92,
    "start_time": "2022-07-18T09:24:03.490Z"
   },
   {
    "duration": 87,
    "start_time": "2022-07-18T09:24:03.584Z"
   },
   {
    "duration": 61,
    "start_time": "2022-07-18T09:24:11.606Z"
   },
   {
    "duration": 13,
    "start_time": "2022-07-18T09:24:20.647Z"
   },
   {
    "duration": 24,
    "start_time": "2022-07-18T09:24:30.924Z"
   },
   {
    "duration": 60,
    "start_time": "2022-07-18T09:24:43.181Z"
   },
   {
    "duration": 10,
    "start_time": "2022-07-18T09:24:46.715Z"
   },
   {
    "duration": 61,
    "start_time": "2022-07-18T09:24:51.932Z"
   },
   {
    "duration": 63,
    "start_time": "2022-07-18T09:27:56.104Z"
   },
   {
    "duration": 79,
    "start_time": "2022-07-18T09:28:04.773Z"
   },
   {
    "duration": 63,
    "start_time": "2022-07-18T09:28:21.681Z"
   },
   {
    "duration": 24,
    "start_time": "2022-07-18T09:28:35.602Z"
   },
   {
    "duration": 26,
    "start_time": "2022-07-18T09:30:46.704Z"
   },
   {
    "duration": 27,
    "start_time": "2022-07-18T09:31:49.132Z"
   },
   {
    "duration": 20,
    "start_time": "2022-07-18T09:31:51.886Z"
   },
   {
    "duration": 68,
    "start_time": "2022-07-18T09:32:00.340Z"
   },
   {
    "duration": 70,
    "start_time": "2022-07-18T09:32:24.447Z"
   },
   {
    "duration": 74,
    "start_time": "2022-07-18T09:32:58.852Z"
   },
   {
    "duration": 60,
    "start_time": "2022-07-18T09:33:03.637Z"
   },
   {
    "duration": 72,
    "start_time": "2022-07-18T09:40:13.308Z"
   },
   {
    "duration": 15,
    "start_time": "2022-07-18T09:40:33.751Z"
   },
   {
    "duration": 20,
    "start_time": "2022-07-18T09:40:39.740Z"
   },
   {
    "duration": 15,
    "start_time": "2022-07-18T09:40:46.145Z"
   },
   {
    "duration": 11,
    "start_time": "2022-07-18T09:41:08.840Z"
   },
   {
    "duration": 20,
    "start_time": "2022-07-18T09:41:13.328Z"
   },
   {
    "duration": 91,
    "start_time": "2022-07-18T09:41:45.001Z"
   },
   {
    "duration": 213,
    "start_time": "2022-07-18T09:42:02.044Z"
   },
   {
    "duration": 18,
    "start_time": "2022-07-18T09:42:10.357Z"
   },
   {
    "duration": 252,
    "start_time": "2022-07-18T09:42:29.449Z"
   },
   {
    "duration": 68,
    "start_time": "2022-07-18T09:42:37.141Z"
   },
   {
    "duration": 67,
    "start_time": "2022-07-18T09:42:39.569Z"
   },
   {
    "duration": 54,
    "start_time": "2022-07-18T09:46:39.984Z"
   },
   {
    "duration": 106,
    "start_time": "2022-07-18T09:46:51.357Z"
   },
   {
    "duration": 94,
    "start_time": "2022-07-18T09:46:54.116Z"
   },
   {
    "duration": 111,
    "start_time": "2022-07-18T09:49:53.205Z"
   },
   {
    "duration": 115,
    "start_time": "2022-07-18T09:50:09.873Z"
   },
   {
    "duration": 114,
    "start_time": "2022-07-18T09:50:13.280Z"
   },
   {
    "duration": 18,
    "start_time": "2022-07-18T09:50:16.368Z"
   },
   {
    "duration": 35,
    "start_time": "2022-07-18T09:50:30.626Z"
   },
   {
    "duration": 439,
    "start_time": "2022-07-18T09:50:43.765Z"
   },
   {
    "duration": 179,
    "start_time": "2022-07-18T09:50:44.207Z"
   },
   {
    "duration": 43,
    "start_time": "2022-07-18T09:50:44.392Z"
   },
   {
    "duration": 3,
    "start_time": "2022-07-18T09:50:44.436Z"
   },
   {
    "duration": 35,
    "start_time": "2022-07-18T09:50:44.446Z"
   },
   {
    "duration": 32,
    "start_time": "2022-07-18T09:50:44.483Z"
   },
   {
    "duration": 84,
    "start_time": "2022-07-18T09:50:44.517Z"
   },
   {
    "duration": 95,
    "start_time": "2022-07-18T09:50:44.603Z"
   },
   {
    "duration": 89,
    "start_time": "2022-07-18T09:50:44.700Z"
   },
   {
    "duration": 15,
    "start_time": "2022-07-18T09:50:44.791Z"
   },
   {
    "duration": 104,
    "start_time": "2022-07-18T09:50:44.807Z"
   },
   {
    "duration": 14,
    "start_time": "2022-07-18T09:51:10.382Z"
   },
   {
    "duration": 41,
    "start_time": "2022-07-18T09:51:16.694Z"
   },
   {
    "duration": 75,
    "start_time": "2022-07-18T09:52:15.291Z"
   },
   {
    "duration": 46,
    "start_time": "2022-07-18T09:52:17.240Z"
   },
   {
    "duration": 67,
    "start_time": "2022-07-18T09:52:31.141Z"
   },
   {
    "duration": 62,
    "start_time": "2022-07-18T09:53:21.757Z"
   },
   {
    "duration": 19,
    "start_time": "2022-07-18T09:53:24.464Z"
   },
   {
    "duration": 82,
    "start_time": "2022-07-18T09:54:54.189Z"
   },
   {
    "duration": 8,
    "start_time": "2022-07-18T09:54:56.324Z"
   },
   {
    "duration": 27,
    "start_time": "2022-07-18T10:13:40.907Z"
   },
   {
    "duration": 31,
    "start_time": "2022-07-18T10:13:46.678Z"
   },
   {
    "duration": 38,
    "start_time": "2022-07-18T10:14:07.942Z"
   },
   {
    "duration": 43,
    "start_time": "2022-07-18T10:14:22.360Z"
   },
   {
    "duration": 16,
    "start_time": "2022-07-18T10:14:37.900Z"
   },
   {
    "duration": 11,
    "start_time": "2022-07-18T10:14:41.479Z"
   },
   {
    "duration": 35,
    "start_time": "2022-07-18T10:14:47.139Z"
   },
   {
    "duration": 35,
    "start_time": "2022-07-18T10:14:51.445Z"
   },
   {
    "duration": 29,
    "start_time": "2022-07-18T10:17:28.503Z"
   },
   {
    "duration": 32,
    "start_time": "2022-07-18T10:17:38.118Z"
   },
   {
    "duration": 72,
    "start_time": "2022-07-18T10:18:24.964Z"
   },
   {
    "duration": 5860,
    "start_time": "2022-07-18T10:19:09.513Z"
   },
   {
    "duration": 5,
    "start_time": "2022-07-18T10:19:34.130Z"
   },
   {
    "duration": 37,
    "start_time": "2022-07-18T10:19:37.693Z"
   },
   {
    "duration": 168,
    "start_time": "2022-07-18T10:19:45.179Z"
   },
   {
    "duration": 316,
    "start_time": "2022-07-18T10:19:50.579Z"
   },
   {
    "duration": 60,
    "start_time": "2022-07-18T10:27:30.080Z"
   },
   {
    "duration": 202,
    "start_time": "2022-07-18T10:27:35.418Z"
   },
   {
    "duration": 43,
    "start_time": "2022-07-18T10:27:48.180Z"
   },
   {
    "duration": 58,
    "start_time": "2022-07-18T10:28:03.342Z"
   },
   {
    "duration": 175,
    "start_time": "2022-07-18T10:28:08.480Z"
   },
   {
    "duration": 62,
    "start_time": "2022-07-18T10:28:13.543Z"
   },
   {
    "duration": 40,
    "start_time": "2022-07-18T10:28:22.793Z"
   },
   {
    "duration": 195,
    "start_time": "2022-07-18T10:28:26.538Z"
   },
   {
    "duration": 159,
    "start_time": "2022-07-18T10:28:31.145Z"
   },
   {
    "duration": 136,
    "start_time": "2022-07-18T10:28:38.514Z"
   },
   {
    "duration": 42,
    "start_time": "2022-07-18T10:28:43.476Z"
   },
   {
    "duration": 3,
    "start_time": "2022-07-18T10:29:03.878Z"
   },
   {
    "duration": 117,
    "start_time": "2022-07-18T10:30:58.551Z"
   },
   {
    "duration": 40,
    "start_time": "2022-07-18T10:31:13.476Z"
   },
   {
    "duration": 189,
    "start_time": "2022-07-18T10:31:24.682Z"
   },
   {
    "duration": 51,
    "start_time": "2022-07-18T10:31:32.911Z"
   },
   {
    "duration": 477,
    "start_time": "2022-07-18T10:31:43.279Z"
   },
   {
    "duration": 155,
    "start_time": "2022-07-18T10:32:15.086Z"
   },
   {
    "duration": 31,
    "start_time": "2022-07-18T10:32:45.406Z"
   },
   {
    "duration": 213,
    "start_time": "2022-07-18T10:32:54.277Z"
   },
   {
    "duration": 188,
    "start_time": "2022-07-18T10:33:01.424Z"
   },
   {
    "duration": 310,
    "start_time": "2022-07-18T10:33:09.075Z"
   },
   {
    "duration": 332,
    "start_time": "2022-07-18T10:33:31.408Z"
   },
   {
    "duration": 388,
    "start_time": "2022-07-18T10:33:49.790Z"
   },
   {
    "duration": 218,
    "start_time": "2022-07-18T10:34:34.621Z"
   },
   {
    "duration": 356,
    "start_time": "2022-07-18T10:34:42.974Z"
   },
   {
    "duration": 1226,
    "start_time": "2022-07-18T10:36:53.909Z"
   },
   {
    "duration": 202,
    "start_time": "2022-07-18T10:36:55.137Z"
   },
   {
    "duration": 47,
    "start_time": "2022-07-18T10:36:55.341Z"
   },
   {
    "duration": 3,
    "start_time": "2022-07-18T10:36:55.390Z"
   },
   {
    "duration": 20,
    "start_time": "2022-07-18T10:36:55.394Z"
   },
   {
    "duration": 44,
    "start_time": "2022-07-18T10:36:55.416Z"
   },
   {
    "duration": 77,
    "start_time": "2022-07-18T10:36:55.461Z"
   },
   {
    "duration": 80,
    "start_time": "2022-07-18T10:36:55.540Z"
   },
   {
    "duration": 88,
    "start_time": "2022-07-18T10:36:55.621Z"
   },
   {
    "duration": 15,
    "start_time": "2022-07-18T10:36:55.712Z"
   },
   {
    "duration": 107,
    "start_time": "2022-07-18T10:36:55.729Z"
   },
   {
    "duration": 49,
    "start_time": "2022-07-18T10:36:55.838Z"
   },
   {
    "duration": 16,
    "start_time": "2022-07-18T10:36:55.889Z"
   },
   {
    "duration": 9,
    "start_time": "2022-07-18T10:36:55.907Z"
   },
   {
    "duration": 63,
    "start_time": "2022-07-18T10:36:55.918Z"
   },
   {
    "duration": 55,
    "start_time": "2022-07-18T10:36:55.982Z"
   },
   {
    "duration": 235,
    "start_time": "2022-07-18T10:36:56.039Z"
   },
   {
    "duration": 437,
    "start_time": "2022-07-18T10:36:56.276Z"
   },
   {
    "duration": 39,
    "start_time": "2022-07-18T10:41:18.772Z"
   },
   {
    "duration": 428,
    "start_time": "2022-07-18T10:41:45.699Z"
   },
   {
    "duration": 43,
    "start_time": "2022-07-18T10:41:56.781Z"
   },
   {
    "duration": 30,
    "start_time": "2022-07-18T10:42:34.114Z"
   },
   {
    "duration": 13,
    "start_time": "2022-07-18T10:43:02.074Z"
   },
   {
    "duration": 15,
    "start_time": "2022-07-18T10:43:11.975Z"
   },
   {
    "duration": 17,
    "start_time": "2022-07-18T10:43:41.923Z"
   },
   {
    "duration": 18,
    "start_time": "2022-07-18T10:43:51.378Z"
   },
   {
    "duration": 405,
    "start_time": "2022-07-18T10:45:12.091Z"
   },
   {
    "duration": 376,
    "start_time": "2022-07-18T10:45:20.733Z"
   },
   {
    "duration": 397,
    "start_time": "2022-07-18T10:45:45.887Z"
   },
   {
    "duration": 416,
    "start_time": "2022-07-18T10:45:52.273Z"
   },
   {
    "duration": 0,
    "start_time": "2022-07-18T10:46:30.870Z"
   },
   {
    "duration": 2027,
    "start_time": "2022-07-18T10:46:34.018Z"
   },
   {
    "duration": 18,
    "start_time": "2022-07-18T10:47:20.921Z"
   },
   {
    "duration": 36,
    "start_time": "2022-07-18T10:47:24.720Z"
   },
   {
    "duration": 14,
    "start_time": "2022-07-18T10:47:29.624Z"
   },
   {
    "duration": 210,
    "start_time": "2022-07-18T10:52:53.328Z"
   },
   {
    "duration": 30,
    "start_time": "2022-07-18T10:53:46.228Z"
   },
   {
    "duration": 9,
    "start_time": "2022-07-18T12:36:07.083Z"
   },
   {
    "duration": 30,
    "start_time": "2022-07-18T12:36:39.662Z"
   },
   {
    "duration": 1164,
    "start_time": "2022-07-18T12:36:49.176Z"
   },
   {
    "duration": 189,
    "start_time": "2022-07-18T12:36:50.342Z"
   },
   {
    "duration": 48,
    "start_time": "2022-07-18T12:36:50.533Z"
   },
   {
    "duration": 3,
    "start_time": "2022-07-18T12:36:50.584Z"
   },
   {
    "duration": 16,
    "start_time": "2022-07-18T12:36:50.589Z"
   },
   {
    "duration": 21,
    "start_time": "2022-07-18T12:36:50.607Z"
   },
   {
    "duration": 92,
    "start_time": "2022-07-18T12:36:50.629Z"
   },
   {
    "duration": 72,
    "start_time": "2022-07-18T12:36:50.722Z"
   },
   {
    "duration": 86,
    "start_time": "2022-07-18T12:36:50.796Z"
   },
   {
    "duration": 17,
    "start_time": "2022-07-18T12:36:50.884Z"
   },
   {
    "duration": 121,
    "start_time": "2022-07-18T12:36:50.902Z"
   },
   {
    "duration": 35,
    "start_time": "2022-07-18T12:36:51.025Z"
   },
   {
    "duration": 18,
    "start_time": "2022-07-18T12:36:51.062Z"
   },
   {
    "duration": 9,
    "start_time": "2022-07-18T12:36:51.082Z"
   },
   {
    "duration": 19,
    "start_time": "2022-07-18T12:36:51.092Z"
   },
   {
    "duration": 83,
    "start_time": "2022-07-18T12:36:51.112Z"
   },
   {
    "duration": 212,
    "start_time": "2022-07-18T12:36:51.196Z"
   },
   {
    "duration": 446,
    "start_time": "2022-07-18T12:36:51.410Z"
   },
   {
    "duration": 32,
    "start_time": "2022-07-18T12:36:51.857Z"
   },
   {
    "duration": 218,
    "start_time": "2022-07-18T12:36:51.891Z"
   },
   {
    "duration": 22,
    "start_time": "2022-07-18T12:36:52.112Z"
   },
   {
    "duration": 27,
    "start_time": "2022-07-18T12:36:52.135Z"
   },
   {
    "duration": 48,
    "start_time": "2022-07-18T12:36:52.167Z"
   },
   {
    "duration": 20,
    "start_time": "2022-07-18T12:37:59.274Z"
   },
   {
    "duration": 112,
    "start_time": "2022-07-18T12:44:33.965Z"
   },
   {
    "duration": 55,
    "start_time": "2022-07-18T12:44:38.679Z"
   },
   {
    "duration": 66,
    "start_time": "2022-07-18T12:44:52.288Z"
   },
   {
    "duration": 51,
    "start_time": "2022-07-18T12:44:57.318Z"
   },
   {
    "duration": 76,
    "start_time": "2022-07-18T12:45:01.829Z"
   },
   {
    "duration": 64,
    "start_time": "2022-07-18T12:46:21.466Z"
   },
   {
    "duration": 32,
    "start_time": "2022-07-18T12:47:02.573Z"
   },
   {
    "duration": 56,
    "start_time": "2022-07-18T12:47:14.381Z"
   },
   {
    "duration": 62,
    "start_time": "2022-07-18T12:47:39.536Z"
   },
   {
    "duration": 82,
    "start_time": "2022-07-18T12:47:44.110Z"
   },
   {
    "duration": 48,
    "start_time": "2022-07-18T12:48:02.564Z"
   },
   {
    "duration": 68,
    "start_time": "2022-07-18T12:48:08.713Z"
   },
   {
    "duration": 84,
    "start_time": "2022-07-18T12:48:16.521Z"
   },
   {
    "duration": 57,
    "start_time": "2022-07-18T12:48:27.563Z"
   },
   {
    "duration": 15,
    "start_time": "2022-07-18T12:49:52.956Z"
   },
   {
    "duration": 58,
    "start_time": "2022-07-18T13:04:29.206Z"
   },
   {
    "duration": 57,
    "start_time": "2022-07-18T13:05:23.812Z"
   },
   {
    "duration": 59,
    "start_time": "2022-07-18T13:06:02.102Z"
   },
   {
    "duration": 8,
    "start_time": "2022-07-18T13:06:28.167Z"
   },
   {
    "duration": 15,
    "start_time": "2022-07-18T13:06:42.781Z"
   },
   {
    "duration": 13,
    "start_time": "2022-07-18T13:06:47.291Z"
   },
   {
    "duration": 76,
    "start_time": "2022-07-18T13:07:49.565Z"
   },
   {
    "duration": 1288,
    "start_time": "2022-07-19T04:46:12.262Z"
   },
   {
    "duration": 520,
    "start_time": "2022-07-19T04:46:13.552Z"
   },
   {
    "duration": 38,
    "start_time": "2022-07-19T04:46:14.074Z"
   },
   {
    "duration": 2,
    "start_time": "2022-07-19T04:46:14.114Z"
   },
   {
    "duration": 14,
    "start_time": "2022-07-19T04:46:14.118Z"
   },
   {
    "duration": 38,
    "start_time": "2022-07-19T04:46:14.133Z"
   },
   {
    "duration": 70,
    "start_time": "2022-07-19T04:46:14.173Z"
   },
   {
    "duration": 87,
    "start_time": "2022-07-19T04:46:14.245Z"
   },
   {
    "duration": 72,
    "start_time": "2022-07-19T04:46:14.334Z"
   },
   {
    "duration": 22,
    "start_time": "2022-07-19T04:46:14.409Z"
   },
   {
    "duration": 95,
    "start_time": "2022-07-19T04:46:14.433Z"
   },
   {
    "duration": 43,
    "start_time": "2022-07-19T04:46:14.530Z"
   },
   {
    "duration": 25,
    "start_time": "2022-07-19T04:46:14.575Z"
   },
   {
    "duration": 20,
    "start_time": "2022-07-19T04:46:14.603Z"
   },
   {
    "duration": 19,
    "start_time": "2022-07-19T04:46:14.625Z"
   },
   {
    "duration": 82,
    "start_time": "2022-07-19T04:46:14.645Z"
   },
   {
    "duration": 215,
    "start_time": "2022-07-19T04:46:14.729Z"
   },
   {
    "duration": 439,
    "start_time": "2022-07-19T04:46:14.946Z"
   },
   {
    "duration": 28,
    "start_time": "2022-07-19T04:46:15.386Z"
   },
   {
    "duration": 186,
    "start_time": "2022-07-19T04:46:15.415Z"
   },
   {
    "duration": 18,
    "start_time": "2022-07-19T04:46:15.603Z"
   },
   {
    "duration": 51,
    "start_time": "2022-07-19T04:46:15.622Z"
   },
   {
    "duration": 52,
    "start_time": "2022-07-19T04:46:15.675Z"
   },
   {
    "duration": 64,
    "start_time": "2022-07-19T04:46:15.729Z"
   },
   {
    "duration": 27,
    "start_time": "2022-07-19T04:47:10.006Z"
   },
   {
    "duration": 52,
    "start_time": "2022-07-19T05:00:33.776Z"
   },
   {
    "duration": 57,
    "start_time": "2022-07-19T05:00:52.295Z"
   },
   {
    "duration": 48,
    "start_time": "2022-07-19T05:01:17.441Z"
   },
   {
    "duration": 47,
    "start_time": "2022-07-19T05:01:51.709Z"
   },
   {
    "duration": 52,
    "start_time": "2022-07-19T05:01:55.612Z"
   },
   {
    "duration": 9,
    "start_time": "2022-07-19T05:02:05.686Z"
   },
   {
    "duration": 97,
    "start_time": "2022-07-19T05:03:47.967Z"
   },
   {
    "duration": 15,
    "start_time": "2022-07-19T05:03:56.635Z"
   },
   {
    "duration": 13,
    "start_time": "2022-07-19T05:05:40.121Z"
   },
   {
    "duration": 54,
    "start_time": "2022-07-19T05:06:07.864Z"
   },
   {
    "duration": 7,
    "start_time": "2022-07-19T05:06:11.390Z"
   },
   {
    "duration": 7,
    "start_time": "2022-07-19T05:06:26.702Z"
   },
   {
    "duration": 6,
    "start_time": "2022-07-19T05:06:34.291Z"
   },
   {
    "duration": 8,
    "start_time": "2022-07-19T05:06:42.587Z"
   },
   {
    "duration": 9,
    "start_time": "2022-07-19T05:07:05.237Z"
   },
   {
    "duration": 7,
    "start_time": "2022-07-19T05:07:08.417Z"
   },
   {
    "duration": 6,
    "start_time": "2022-07-19T05:08:32.382Z"
   },
   {
    "duration": 14,
    "start_time": "2022-07-19T05:08:35.299Z"
   },
   {
    "duration": 7,
    "start_time": "2022-07-19T05:08:38.017Z"
   },
   {
    "duration": 23,
    "start_time": "2022-07-19T05:08:55.245Z"
   },
   {
    "duration": 17,
    "start_time": "2022-07-19T05:09:00.650Z"
   },
   {
    "duration": 7,
    "start_time": "2022-07-19T05:09:03.692Z"
   },
   {
    "duration": 5,
    "start_time": "2022-07-19T05:09:17.510Z"
   },
   {
    "duration": 5,
    "start_time": "2022-07-19T05:09:22.112Z"
   },
   {
    "duration": 16,
    "start_time": "2022-07-19T05:09:31.610Z"
   },
   {
    "duration": 4,
    "start_time": "2022-07-19T05:10:49.657Z"
   },
   {
    "duration": 9,
    "start_time": "2022-07-19T05:11:04.047Z"
   },
   {
    "duration": 16,
    "start_time": "2022-07-19T05:11:29.496Z"
   },
   {
    "duration": 7,
    "start_time": "2022-07-19T05:11:34.640Z"
   },
   {
    "duration": 113,
    "start_time": "2022-07-19T05:11:41.408Z"
   },
   {
    "duration": 798,
    "start_time": "2022-07-19T05:11:54.590Z"
   },
   {
    "duration": 904,
    "start_time": "2022-07-19T05:12:03.289Z"
   },
   {
    "duration": 847,
    "start_time": "2022-07-19T05:12:29.443Z"
   },
   {
    "duration": 3,
    "start_time": "2022-07-19T05:13:00.497Z"
   },
   {
    "duration": 4,
    "start_time": "2022-07-19T06:48:47.076Z"
   },
   {
    "duration": 8,
    "start_time": "2022-07-19T06:48:50.475Z"
   },
   {
    "duration": 9,
    "start_time": "2022-07-19T06:48:56.179Z"
   },
   {
    "duration": 9,
    "start_time": "2022-07-19T06:49:37.772Z"
   },
   {
    "duration": 8,
    "start_time": "2022-07-19T06:49:45.707Z"
   },
   {
    "duration": 10,
    "start_time": "2022-07-19T06:49:55.483Z"
   },
   {
    "duration": 3,
    "start_time": "2022-07-19T06:51:05.333Z"
   },
   {
    "duration": 5,
    "start_time": "2022-07-19T06:51:08.983Z"
   },
   {
    "duration": 7,
    "start_time": "2022-07-19T06:51:13.634Z"
   },
   {
    "duration": 8,
    "start_time": "2022-07-19T06:51:22.980Z"
   },
   {
    "duration": 1055,
    "start_time": "2022-07-19T06:51:38.029Z"
   },
   {
    "duration": 919,
    "start_time": "2022-07-19T06:51:42.948Z"
   },
   {
    "duration": 8,
    "start_time": "2022-07-19T06:51:46.833Z"
   },
   {
    "duration": 10,
    "start_time": "2022-07-19T06:51:54.271Z"
   },
   {
    "duration": 6,
    "start_time": "2022-07-19T06:52:48.675Z"
   },
   {
    "duration": 5,
    "start_time": "2022-07-19T06:52:55.459Z"
   },
   {
    "duration": 8,
    "start_time": "2022-07-19T06:53:13.764Z"
   },
   {
    "duration": 13,
    "start_time": "2022-07-19T06:54:02.994Z"
   },
   {
    "duration": 10,
    "start_time": "2022-07-19T06:56:08.782Z"
   },
   {
    "duration": 4,
    "start_time": "2022-07-19T06:56:25.636Z"
   },
   {
    "duration": 4,
    "start_time": "2022-07-19T06:56:48.636Z"
   },
   {
    "duration": 12,
    "start_time": "2022-07-19T06:56:54.399Z"
   },
   {
    "duration": 4,
    "start_time": "2022-07-19T06:57:20.822Z"
   },
   {
    "duration": 14,
    "start_time": "2022-07-19T06:57:24.474Z"
   },
   {
    "duration": 12,
    "start_time": "2022-07-19T06:59:49.193Z"
   },
   {
    "duration": 4,
    "start_time": "2022-07-19T06:59:55.252Z"
   },
   {
    "duration": 15,
    "start_time": "2022-07-19T06:59:57.877Z"
   },
   {
    "duration": 8,
    "start_time": "2022-07-19T07:00:16.376Z"
   },
   {
    "duration": 11,
    "start_time": "2022-07-19T07:00:26.164Z"
   },
   {
    "duration": 1143,
    "start_time": "2022-07-19T07:01:18.793Z"
   },
   {
    "duration": 164,
    "start_time": "2022-07-19T07:01:19.938Z"
   },
   {
    "duration": 29,
    "start_time": "2022-07-19T07:01:20.103Z"
   },
   {
    "duration": 3,
    "start_time": "2022-07-19T07:01:20.135Z"
   },
   {
    "duration": 30,
    "start_time": "2022-07-19T07:01:20.140Z"
   },
   {
    "duration": 38,
    "start_time": "2022-07-19T07:01:20.173Z"
   },
   {
    "duration": 74,
    "start_time": "2022-07-19T07:01:20.213Z"
   },
   {
    "duration": 59,
    "start_time": "2022-07-19T07:01:20.288Z"
   },
   {
    "duration": 77,
    "start_time": "2022-07-19T07:01:20.349Z"
   },
   {
    "duration": 15,
    "start_time": "2022-07-19T07:01:20.430Z"
   },
   {
    "duration": 80,
    "start_time": "2022-07-19T07:01:20.461Z"
   },
   {
    "duration": 35,
    "start_time": "2022-07-19T07:01:20.543Z"
   },
   {
    "duration": 20,
    "start_time": "2022-07-19T07:01:20.580Z"
   },
   {
    "duration": 14,
    "start_time": "2022-07-19T07:01:20.602Z"
   },
   {
    "duration": 19,
    "start_time": "2022-07-19T07:01:20.618Z"
   },
   {
    "duration": 74,
    "start_time": "2022-07-19T07:01:20.639Z"
   },
   {
    "duration": 205,
    "start_time": "2022-07-19T07:01:20.715Z"
   },
   {
    "duration": 433,
    "start_time": "2022-07-19T07:01:20.923Z"
   },
   {
    "duration": 31,
    "start_time": "2022-07-19T07:01:21.360Z"
   },
   {
    "duration": 201,
    "start_time": "2022-07-19T07:01:21.393Z"
   },
   {
    "duration": 20,
    "start_time": "2022-07-19T07:01:21.596Z"
   },
   {
    "duration": 44,
    "start_time": "2022-07-19T07:01:21.617Z"
   },
   {
    "duration": 55,
    "start_time": "2022-07-19T07:01:21.663Z"
   },
   {
    "duration": 65,
    "start_time": "2022-07-19T07:01:21.720Z"
   },
   {
    "duration": 7,
    "start_time": "2022-07-19T07:01:21.787Z"
   },
   {
    "duration": 11,
    "start_time": "2022-07-19T07:01:21.795Z"
   },
   {
    "duration": 8,
    "start_time": "2022-07-19T07:01:21.807Z"
   },
   {
    "duration": 10,
    "start_time": "2022-07-19T07:01:21.817Z"
   },
   {
    "duration": 35,
    "start_time": "2022-07-19T07:01:21.829Z"
   },
   {
    "duration": 102,
    "start_time": "2022-07-19T07:01:28.525Z"
   },
   {
    "duration": 8,
    "start_time": "2022-07-19T07:01:30.898Z"
   },
   {
    "duration": 3,
    "start_time": "2022-07-19T07:01:37.143Z"
   },
   {
    "duration": 11,
    "start_time": "2022-07-19T07:01:40.424Z"
   },
   {
    "duration": 9,
    "start_time": "2022-07-19T07:01:49.199Z"
   },
   {
    "duration": 4,
    "start_time": "2022-07-19T07:01:51.702Z"
   },
   {
    "duration": 8,
    "start_time": "2022-07-19T07:01:52.622Z"
   },
   {
    "duration": 9,
    "start_time": "2022-07-19T07:01:55.141Z"
   },
   {
    "duration": 9,
    "start_time": "2022-07-19T07:04:09.735Z"
   },
   {
    "duration": 7,
    "start_time": "2022-07-19T07:04:25.206Z"
   },
   {
    "duration": 5,
    "start_time": "2022-07-19T07:04:28.118Z"
   },
   {
    "duration": 1287,
    "start_time": "2022-07-19T07:04:45.024Z"
   },
   {
    "duration": 6,
    "start_time": "2022-07-19T07:04:47.742Z"
   },
   {
    "duration": 5,
    "start_time": "2022-07-19T07:05:01.044Z"
   },
   {
    "duration": 1165,
    "start_time": "2022-07-19T07:07:45.895Z"
   },
   {
    "duration": 183,
    "start_time": "2022-07-19T07:07:47.063Z"
   },
   {
    "duration": 32,
    "start_time": "2022-07-19T07:07:47.248Z"
   },
   {
    "duration": 3,
    "start_time": "2022-07-19T07:07:47.282Z"
   },
   {
    "duration": 19,
    "start_time": "2022-07-19T07:07:47.287Z"
   },
   {
    "duration": 22,
    "start_time": "2022-07-19T07:07:47.308Z"
   },
   {
    "duration": 89,
    "start_time": "2022-07-19T07:07:47.332Z"
   },
   {
    "duration": 73,
    "start_time": "2022-07-19T07:07:47.423Z"
   },
   {
    "duration": 80,
    "start_time": "2022-07-19T07:07:47.497Z"
   },
   {
    "duration": 16,
    "start_time": "2022-07-19T07:07:47.580Z"
   },
   {
    "duration": 92,
    "start_time": "2022-07-19T07:07:47.597Z"
   },
   {
    "duration": 29,
    "start_time": "2022-07-19T07:07:47.691Z"
   },
   {
    "duration": 19,
    "start_time": "2022-07-19T07:07:47.721Z"
   },
   {
    "duration": 28,
    "start_time": "2022-07-19T07:07:47.741Z"
   },
   {
    "duration": 27,
    "start_time": "2022-07-19T07:07:47.770Z"
   },
   {
    "duration": 63,
    "start_time": "2022-07-19T07:07:47.799Z"
   },
   {
    "duration": 198,
    "start_time": "2022-07-19T07:07:47.864Z"
   },
   {
    "duration": 410,
    "start_time": "2022-07-19T07:07:48.064Z"
   },
   {
    "duration": 30,
    "start_time": "2022-07-19T07:07:48.476Z"
   },
   {
    "duration": 202,
    "start_time": "2022-07-19T07:07:48.508Z"
   },
   {
    "duration": 21,
    "start_time": "2022-07-19T07:07:48.711Z"
   },
   {
    "duration": 43,
    "start_time": "2022-07-19T07:07:48.734Z"
   },
   {
    "duration": 54,
    "start_time": "2022-07-19T07:07:48.779Z"
   },
   {
    "duration": 72,
    "start_time": "2022-07-19T07:07:48.834Z"
   },
   {
    "duration": 4,
    "start_time": "2022-07-19T07:07:48.907Z"
   },
   {
    "duration": 31,
    "start_time": "2022-07-19T07:07:48.912Z"
   },
   {
    "duration": 9,
    "start_time": "2022-07-19T07:07:48.944Z"
   },
   {
    "duration": 17,
    "start_time": "2022-07-19T07:07:48.956Z"
   },
   {
    "duration": 26,
    "start_time": "2022-07-19T07:07:48.975Z"
   },
   {
    "duration": 26,
    "start_time": "2022-07-19T07:07:49.003Z"
   },
   {
    "duration": 15,
    "start_time": "2022-07-19T07:09:39.288Z"
   },
   {
    "duration": 31,
    "start_time": "2022-07-19T07:10:00.653Z"
   },
   {
    "duration": 36,
    "start_time": "2022-07-19T07:10:20.680Z"
   },
   {
    "duration": 47,
    "start_time": "2022-07-19T08:55:12.895Z"
   },
   {
    "duration": 1323,
    "start_time": "2022-07-19T08:55:19.417Z"
   },
   {
    "duration": 699,
    "start_time": "2022-07-19T08:55:20.743Z"
   },
   {
    "duration": 35,
    "start_time": "2022-07-19T08:55:21.444Z"
   },
   {
    "duration": 6,
    "start_time": "2022-07-19T08:55:21.482Z"
   },
   {
    "duration": 18,
    "start_time": "2022-07-19T08:55:21.490Z"
   },
   {
    "duration": 21,
    "start_time": "2022-07-19T08:55:21.510Z"
   },
   {
    "duration": 84,
    "start_time": "2022-07-19T08:55:21.533Z"
   },
   {
    "duration": 81,
    "start_time": "2022-07-19T08:55:21.619Z"
   },
   {
    "duration": 79,
    "start_time": "2022-07-19T08:55:21.702Z"
   },
   {
    "duration": 15,
    "start_time": "2022-07-19T08:55:21.784Z"
   },
   {
    "duration": 106,
    "start_time": "2022-07-19T08:55:21.801Z"
   },
   {
    "duration": 32,
    "start_time": "2022-07-19T08:55:21.908Z"
   },
   {
    "duration": 34,
    "start_time": "2022-07-19T08:55:21.942Z"
   },
   {
    "duration": 8,
    "start_time": "2022-07-19T08:55:21.978Z"
   },
   {
    "duration": 22,
    "start_time": "2022-07-19T08:55:21.988Z"
   },
   {
    "duration": 119,
    "start_time": "2022-07-19T08:55:22.012Z"
   },
   {
    "duration": 235,
    "start_time": "2022-07-19T08:55:22.133Z"
   },
   {
    "duration": 452,
    "start_time": "2022-07-19T08:55:22.370Z"
   },
   {
    "duration": 37,
    "start_time": "2022-07-19T08:55:22.824Z"
   },
   {
    "duration": 203,
    "start_time": "2022-07-19T08:55:22.870Z"
   },
   {
    "duration": 34,
    "start_time": "2022-07-19T08:55:23.076Z"
   },
   {
    "duration": 30,
    "start_time": "2022-07-19T08:55:23.112Z"
   },
   {
    "duration": 74,
    "start_time": "2022-07-19T08:55:23.144Z"
   },
   {
    "duration": 72,
    "start_time": "2022-07-19T08:55:23.220Z"
   },
   {
    "duration": 4,
    "start_time": "2022-07-19T08:55:23.293Z"
   },
   {
    "duration": 13,
    "start_time": "2022-07-19T08:55:23.298Z"
   },
   {
    "duration": 7,
    "start_time": "2022-07-19T08:55:23.313Z"
   },
   {
    "duration": 8,
    "start_time": "2022-07-19T08:55:23.322Z"
   },
   {
    "duration": 35,
    "start_time": "2022-07-19T08:55:23.332Z"
   },
   {
    "duration": 21,
    "start_time": "2022-07-19T08:55:23.368Z"
   },
   {
    "duration": 34,
    "start_time": "2022-07-19T08:55:23.390Z"
   },
   {
    "duration": 14,
    "start_time": "2022-07-19T08:55:23.425Z"
   },
   {
    "duration": 5,
    "start_time": "2022-07-19T09:00:22.996Z"
   },
   {
    "duration": 4,
    "start_time": "2022-07-19T09:00:42.241Z"
   },
   {
    "duration": 5,
    "start_time": "2022-07-19T09:09:00.677Z"
   },
   {
    "duration": 4,
    "start_time": "2022-07-19T09:11:08.068Z"
   },
   {
    "duration": 4,
    "start_time": "2022-07-19T09:11:28.093Z"
   },
   {
    "duration": 20,
    "start_time": "2022-07-19T09:12:16.102Z"
   },
   {
    "duration": 128,
    "start_time": "2022-07-19T09:12:32.439Z"
   },
   {
    "duration": 13,
    "start_time": "2022-07-19T09:12:42.770Z"
   },
   {
    "duration": 4,
    "start_time": "2022-07-19T09:14:23.585Z"
   },
   {
    "duration": 22,
    "start_time": "2022-07-19T09:17:35.401Z"
   },
   {
    "duration": 34,
    "start_time": "2022-07-19T09:18:08.763Z"
   },
   {
    "duration": 32,
    "start_time": "2022-07-19T09:18:16.406Z"
   },
   {
    "duration": 27,
    "start_time": "2022-07-19T09:20:18.746Z"
   },
   {
    "duration": 26,
    "start_time": "2022-07-19T09:20:20.427Z"
   },
   {
    "duration": 37,
    "start_time": "2022-07-19T09:20:28.977Z"
   },
   {
    "duration": 28,
    "start_time": "2022-07-19T09:20:30.208Z"
   },
   {
    "duration": 5,
    "start_time": "2022-07-19T09:20:57.987Z"
   },
   {
    "duration": 10,
    "start_time": "2022-07-19T09:24:47.957Z"
   },
   {
    "duration": 2,
    "start_time": "2022-07-19T09:26:24.432Z"
   },
   {
    "duration": 3,
    "start_time": "2022-07-19T09:27:15.507Z"
   },
   {
    "duration": 14,
    "start_time": "2022-07-19T09:39:27.186Z"
   },
   {
    "duration": 14,
    "start_time": "2022-07-19T09:39:35.935Z"
   },
   {
    "duration": 14,
    "start_time": "2022-07-19T09:39:38.953Z"
   },
   {
    "duration": 21,
    "start_time": "2022-07-19T09:39:44.056Z"
   },
   {
    "duration": 1510,
    "start_time": "2022-07-19T18:27:23.845Z"
   },
   {
    "duration": 648,
    "start_time": "2022-07-19T18:27:25.357Z"
   },
   {
    "duration": 34,
    "start_time": "2022-07-19T18:27:26.007Z"
   },
   {
    "duration": 4,
    "start_time": "2022-07-19T18:27:26.043Z"
   },
   {
    "duration": 17,
    "start_time": "2022-07-19T18:27:26.048Z"
   },
   {
    "duration": 21,
    "start_time": "2022-07-19T18:27:26.067Z"
   },
   {
    "duration": 96,
    "start_time": "2022-07-19T18:27:26.093Z"
   },
   {
    "duration": 81,
    "start_time": "2022-07-19T18:27:26.191Z"
   },
   {
    "duration": 86,
    "start_time": "2022-07-19T18:27:26.274Z"
   },
   {
    "duration": 15,
    "start_time": "2022-07-19T18:27:26.363Z"
   },
   {
    "duration": 109,
    "start_time": "2022-07-19T18:27:26.380Z"
   },
   {
    "duration": 43,
    "start_time": "2022-07-19T18:27:26.491Z"
   },
   {
    "duration": 19,
    "start_time": "2022-07-19T18:27:26.536Z"
   },
   {
    "duration": 8,
    "start_time": "2022-07-19T18:27:26.557Z"
   },
   {
    "duration": 21,
    "start_time": "2022-07-19T18:27:26.566Z"
   },
   {
    "duration": 84,
    "start_time": "2022-07-19T18:27:26.589Z"
   },
   {
    "duration": 218,
    "start_time": "2022-07-19T18:27:26.675Z"
   },
   {
    "duration": 442,
    "start_time": "2022-07-19T18:27:26.895Z"
   },
   {
    "duration": 34,
    "start_time": "2022-07-19T18:27:27.339Z"
   },
   {
    "duration": 199,
    "start_time": "2022-07-19T18:27:27.375Z"
   },
   {
    "duration": 33,
    "start_time": "2022-07-19T18:27:27.576Z"
   },
   {
    "duration": 51,
    "start_time": "2022-07-19T18:27:27.611Z"
   },
   {
    "duration": 52,
    "start_time": "2022-07-19T18:27:27.664Z"
   },
   {
    "duration": 67,
    "start_time": "2022-07-19T18:27:27.717Z"
   },
   {
    "duration": 13,
    "start_time": "2022-07-19T18:27:27.785Z"
   },
   {
    "duration": 5,
    "start_time": "2022-07-19T18:27:27.799Z"
   },
   {
    "duration": 30,
    "start_time": "2022-07-19T18:27:27.806Z"
   },
   {
    "duration": 5,
    "start_time": "2022-07-19T18:27:27.840Z"
   },
   {
    "duration": 11,
    "start_time": "2022-07-19T18:27:27.846Z"
   },
   {
    "duration": 11,
    "start_time": "2022-07-19T18:27:27.858Z"
   },
   {
    "duration": 6,
    "start_time": "2022-07-19T18:27:27.871Z"
   },
   {
    "duration": 4,
    "start_time": "2022-07-19T18:27:27.878Z"
   },
   {
    "duration": 55,
    "start_time": "2022-07-19T18:27:27.883Z"
   },
   {
    "duration": 4,
    "start_time": "2022-07-19T18:27:27.940Z"
   },
   {
    "duration": 42,
    "start_time": "2022-07-19T18:27:27.946Z"
   },
   {
    "duration": 50,
    "start_time": "2022-07-19T18:27:27.990Z"
   },
   {
    "duration": 5,
    "start_time": "2022-07-19T18:27:28.042Z"
   },
   {
    "duration": 70,
    "start_time": "2022-07-19T18:27:28.048Z"
   },
   {
    "duration": 14,
    "start_time": "2022-07-19T18:27:39.871Z"
   },
   {
    "duration": 9,
    "start_time": "2022-07-19T18:30:01.998Z"
   },
   {
    "duration": 7,
    "start_time": "2022-07-19T18:30:28.778Z"
   },
   {
    "duration": 10,
    "start_time": "2022-07-19T18:31:00.943Z"
   },
   {
    "duration": 30,
    "start_time": "2022-07-19T18:31:17.860Z"
   },
   {
    "duration": 29,
    "start_time": "2022-07-19T18:31:20.685Z"
   },
   {
    "duration": 11,
    "start_time": "2022-07-19T18:31:25.797Z"
   },
   {
    "duration": 9,
    "start_time": "2022-07-19T18:32:18.285Z"
   },
   {
    "duration": 8,
    "start_time": "2022-07-19T18:33:21.071Z"
   },
   {
    "duration": 21,
    "start_time": "2022-07-19T18:33:41.675Z"
   },
   {
    "duration": 18,
    "start_time": "2022-07-19T18:33:53.324Z"
   },
   {
    "duration": 19,
    "start_time": "2022-07-19T18:34:54.367Z"
   },
   {
    "duration": 23,
    "start_time": "2022-07-19T18:35:00.104Z"
   },
   {
    "duration": 8,
    "start_time": "2022-07-19T18:35:58.935Z"
   },
   {
    "duration": 47,
    "start_time": "2022-07-19T18:36:28.150Z"
   },
   {
    "duration": 75,
    "start_time": "2022-07-19T18:36:44.496Z"
   },
   {
    "duration": 21,
    "start_time": "2022-07-19T18:36:49.347Z"
   },
   {
    "duration": 31,
    "start_time": "2022-07-19T18:37:05.107Z"
   },
   {
    "duration": 14,
    "start_time": "2022-07-19T18:37:14.185Z"
   },
   {
    "duration": 43,
    "start_time": "2022-07-19T18:39:51.899Z"
   },
   {
    "duration": 5,
    "start_time": "2022-07-19T18:40:16.676Z"
   },
   {
    "duration": 6,
    "start_time": "2022-07-19T18:40:39.284Z"
   },
   {
    "duration": 11,
    "start_time": "2022-07-19T18:45:49.635Z"
   },
   {
    "duration": 139,
    "start_time": "2022-07-19T18:46:28.117Z"
   },
   {
    "duration": 43,
    "start_time": "2022-07-19T18:46:54.156Z"
   },
   {
    "duration": 50,
    "start_time": "2022-07-19T18:47:05.210Z"
   },
   {
    "duration": 42,
    "start_time": "2022-07-19T18:47:10.266Z"
   },
   {
    "duration": 7,
    "start_time": "2022-07-19T18:47:34.810Z"
   },
   {
    "duration": 46,
    "start_time": "2022-07-19T18:48:14.057Z"
   },
   {
    "duration": 49,
    "start_time": "2022-07-19T18:48:22.862Z"
   },
   {
    "duration": 54,
    "start_time": "2022-07-19T18:51:02.835Z"
   },
   {
    "duration": 18,
    "start_time": "2022-07-19T18:53:29.385Z"
   },
   {
    "duration": 46,
    "start_time": "2022-07-19T18:55:31.800Z"
   },
   {
    "duration": 43,
    "start_time": "2022-07-19T18:56:13.532Z"
   },
   {
    "duration": 42,
    "start_time": "2022-07-19T18:56:25.337Z"
   },
   {
    "duration": 230,
    "start_time": "2022-07-19T18:57:03.417Z"
   },
   {
    "duration": 44,
    "start_time": "2022-07-19T18:57:49.935Z"
   },
   {
    "duration": 184,
    "start_time": "2022-07-19T18:57:52.336Z"
   },
   {
    "duration": 472,
    "start_time": "2022-07-19T18:58:24.266Z"
   },
   {
    "duration": 367,
    "start_time": "2022-07-19T19:00:42.444Z"
   },
   {
    "duration": 398,
    "start_time": "2022-07-19T19:00:55.207Z"
   },
   {
    "duration": 36,
    "start_time": "2022-07-19T19:05:35.074Z"
   },
   {
    "duration": 15,
    "start_time": "2022-07-19T19:07:06.960Z"
   },
   {
    "duration": 12,
    "start_time": "2022-07-19T19:07:40.334Z"
   },
   {
    "duration": 33,
    "start_time": "2022-07-19T19:07:44.528Z"
   },
   {
    "duration": 23,
    "start_time": "2022-07-19T19:08:52.111Z"
   },
   {
    "duration": 25,
    "start_time": "2022-07-19T19:09:01.752Z"
   },
   {
    "duration": 23,
    "start_time": "2022-07-19T19:09:51.484Z"
   },
   {
    "duration": 14,
    "start_time": "2022-07-19T19:10:12.535Z"
   },
   {
    "duration": 13,
    "start_time": "2022-07-19T19:10:17.147Z"
   },
   {
    "duration": 13,
    "start_time": "2022-07-19T19:10:43.945Z"
   },
   {
    "duration": 14,
    "start_time": "2022-07-19T19:10:52.476Z"
   },
   {
    "duration": 28,
    "start_time": "2022-07-19T19:11:17.922Z"
   },
   {
    "duration": 32,
    "start_time": "2022-07-19T19:11:23.907Z"
   },
   {
    "duration": 15,
    "start_time": "2022-07-19T19:11:42.232Z"
   },
   {
    "duration": 20,
    "start_time": "2022-07-19T19:12:27.836Z"
   },
   {
    "duration": 14,
    "start_time": "2022-07-19T19:12:43.199Z"
   },
   {
    "duration": 13,
    "start_time": "2022-07-19T19:12:48.871Z"
   },
   {
    "duration": 13,
    "start_time": "2022-07-19T19:12:53.993Z"
   },
   {
    "duration": 16,
    "start_time": "2022-07-19T19:13:08.853Z"
   },
   {
    "duration": 14,
    "start_time": "2022-07-19T19:13:57.151Z"
   },
   {
    "duration": 15,
    "start_time": "2022-07-19T19:14:02.055Z"
   },
   {
    "duration": 25,
    "start_time": "2022-07-19T19:14:39.887Z"
   },
   {
    "duration": 20,
    "start_time": "2022-07-19T19:14:53.889Z"
   },
   {
    "duration": 19,
    "start_time": "2022-07-19T19:15:02.790Z"
   },
   {
    "duration": 612,
    "start_time": "2022-07-19T19:15:11.746Z"
   },
   {
    "duration": 16,
    "start_time": "2022-07-19T19:15:20.047Z"
   },
   {
    "duration": 37,
    "start_time": "2022-07-19T19:15:29.597Z"
   },
   {
    "duration": 55,
    "start_time": "2022-07-19T19:18:41.035Z"
   },
   {
    "duration": 44,
    "start_time": "2022-07-19T19:18:55.070Z"
   },
   {
    "duration": 18,
    "start_time": "2022-07-19T19:18:57.294Z"
   },
   {
    "duration": 52,
    "start_time": "2022-07-19T19:19:02.938Z"
   },
   {
    "duration": 39,
    "start_time": "2022-07-19T19:20:46.050Z"
   },
   {
    "duration": 26,
    "start_time": "2022-07-19T19:21:12.068Z"
   },
   {
    "duration": 28,
    "start_time": "2022-07-19T19:21:25.419Z"
   },
   {
    "duration": 20,
    "start_time": "2022-07-19T19:21:59.900Z"
   },
   {
    "duration": 39,
    "start_time": "2022-07-19T19:26:48.613Z"
   },
   {
    "duration": 20,
    "start_time": "2022-07-19T19:26:51.964Z"
   },
   {
    "duration": 28,
    "start_time": "2022-07-19T19:26:59.710Z"
   },
   {
    "duration": 19,
    "start_time": "2022-07-19T19:31:27.648Z"
   },
   {
    "duration": 21,
    "start_time": "2022-07-19T19:32:03.419Z"
   },
   {
    "duration": 17,
    "start_time": "2022-07-19T19:32:05.735Z"
   },
   {
    "duration": 1232,
    "start_time": "2022-07-19T19:32:16.706Z"
   },
   {
    "duration": 175,
    "start_time": "2022-07-19T19:32:17.940Z"
   },
   {
    "duration": 40,
    "start_time": "2022-07-19T19:32:18.116Z"
   },
   {
    "duration": 3,
    "start_time": "2022-07-19T19:32:18.158Z"
   },
   {
    "duration": 18,
    "start_time": "2022-07-19T19:32:18.162Z"
   },
   {
    "duration": 20,
    "start_time": "2022-07-19T19:32:18.181Z"
   },
   {
    "duration": 90,
    "start_time": "2022-07-19T19:32:18.203Z"
   },
   {
    "duration": 75,
    "start_time": "2022-07-19T19:32:18.295Z"
   },
   {
    "duration": 84,
    "start_time": "2022-07-19T19:32:18.372Z"
   },
   {
    "duration": 16,
    "start_time": "2022-07-19T19:32:18.458Z"
   },
   {
    "duration": 104,
    "start_time": "2022-07-19T19:32:18.476Z"
   },
   {
    "duration": 46,
    "start_time": "2022-07-19T19:32:18.582Z"
   },
   {
    "duration": 22,
    "start_time": "2022-07-19T19:32:18.630Z"
   },
   {
    "duration": 17,
    "start_time": "2022-07-19T19:32:18.653Z"
   },
   {
    "duration": 24,
    "start_time": "2022-07-19T19:32:18.672Z"
   },
   {
    "duration": 74,
    "start_time": "2022-07-19T19:32:18.698Z"
   },
   {
    "duration": 212,
    "start_time": "2022-07-19T19:32:18.774Z"
   },
   {
    "duration": 424,
    "start_time": "2022-07-19T19:32:18.988Z"
   },
   {
    "duration": 34,
    "start_time": "2022-07-19T19:32:19.414Z"
   },
   {
    "duration": 216,
    "start_time": "2022-07-19T19:32:19.449Z"
   },
   {
    "duration": 33,
    "start_time": "2022-07-19T19:32:19.667Z"
   },
   {
    "duration": 46,
    "start_time": "2022-07-19T19:32:19.701Z"
   },
   {
    "duration": 52,
    "start_time": "2022-07-19T19:32:19.748Z"
   },
   {
    "duration": 65,
    "start_time": "2022-07-19T19:32:19.802Z"
   },
   {
    "duration": 13,
    "start_time": "2022-07-19T19:32:19.869Z"
   },
   {
    "duration": 7,
    "start_time": "2022-07-19T19:32:19.883Z"
   },
   {
    "duration": 44,
    "start_time": "2022-07-19T19:32:19.891Z"
   },
   {
    "duration": 12,
    "start_time": "2022-07-19T19:32:19.939Z"
   },
   {
    "duration": 16,
    "start_time": "2022-07-19T19:32:19.952Z"
   },
   {
    "duration": 13,
    "start_time": "2022-07-19T19:32:19.970Z"
   },
   {
    "duration": 7,
    "start_time": "2022-07-19T19:32:19.985Z"
   },
   {
    "duration": 6,
    "start_time": "2022-07-19T19:32:19.993Z"
   },
   {
    "duration": 41,
    "start_time": "2022-07-19T19:32:20.001Z"
   },
   {
    "duration": 4,
    "start_time": "2022-07-19T19:32:20.044Z"
   },
   {
    "duration": 48,
    "start_time": "2022-07-19T19:32:20.049Z"
   },
   {
    "duration": 37,
    "start_time": "2022-07-19T19:32:20.099Z"
   },
   {
    "duration": 401,
    "start_time": "2022-07-19T19:32:20.137Z"
   },
   {
    "duration": 9,
    "start_time": "2022-07-19T19:32:20.540Z"
   },
   {
    "duration": 7,
    "start_time": "2022-07-19T19:32:20.550Z"
   },
   {
    "duration": 1240,
    "start_time": "2022-07-19T19:32:54.393Z"
   },
   {
    "duration": 166,
    "start_time": "2022-07-19T19:32:55.635Z"
   },
   {
    "duration": 41,
    "start_time": "2022-07-19T19:32:55.802Z"
   },
   {
    "duration": 3,
    "start_time": "2022-07-19T19:32:55.845Z"
   },
   {
    "duration": 18,
    "start_time": "2022-07-19T19:32:55.850Z"
   },
   {
    "duration": 20,
    "start_time": "2022-07-19T19:32:55.869Z"
   },
   {
    "duration": 80,
    "start_time": "2022-07-19T19:32:55.891Z"
   },
   {
    "duration": 83,
    "start_time": "2022-07-19T19:32:55.973Z"
   },
   {
    "duration": 79,
    "start_time": "2022-07-19T19:32:56.058Z"
   },
   {
    "duration": 16,
    "start_time": "2022-07-19T19:32:56.141Z"
   },
   {
    "duration": 107,
    "start_time": "2022-07-19T19:32:56.158Z"
   },
   {
    "duration": 31,
    "start_time": "2022-07-19T19:32:56.266Z"
   },
   {
    "duration": 35,
    "start_time": "2022-07-19T19:32:56.298Z"
   },
   {
    "duration": 8,
    "start_time": "2022-07-19T19:32:56.334Z"
   },
   {
    "duration": 20,
    "start_time": "2022-07-19T19:32:56.343Z"
   },
   {
    "duration": 76,
    "start_time": "2022-07-19T19:32:56.365Z"
   },
   {
    "duration": 204,
    "start_time": "2022-07-19T19:32:56.443Z"
   },
   {
    "duration": 427,
    "start_time": "2022-07-19T19:32:56.649Z"
   },
   {
    "duration": 31,
    "start_time": "2022-07-19T19:32:57.078Z"
   },
   {
    "duration": 197,
    "start_time": "2022-07-19T19:32:57.111Z"
   },
   {
    "duration": 38,
    "start_time": "2022-07-19T19:32:57.310Z"
   },
   {
    "duration": 31,
    "start_time": "2022-07-19T19:32:57.350Z"
   },
   {
    "duration": 79,
    "start_time": "2022-07-19T19:32:57.383Z"
   },
   {
    "duration": 72,
    "start_time": "2022-07-19T19:32:57.464Z"
   },
   {
    "duration": 13,
    "start_time": "2022-07-19T19:32:57.537Z"
   },
   {
    "duration": 10,
    "start_time": "2022-07-19T19:32:57.552Z"
   },
   {
    "duration": 14,
    "start_time": "2022-07-19T19:32:57.564Z"
   },
   {
    "duration": 6,
    "start_time": "2022-07-19T19:32:57.581Z"
   },
   {
    "duration": 12,
    "start_time": "2022-07-19T19:32:57.588Z"
   },
   {
    "duration": 33,
    "start_time": "2022-07-19T19:32:57.602Z"
   },
   {
    "duration": 8,
    "start_time": "2022-07-19T19:32:57.637Z"
   },
   {
    "duration": 5,
    "start_time": "2022-07-19T19:32:57.647Z"
   },
   {
    "duration": 35,
    "start_time": "2022-07-19T19:32:57.654Z"
   },
   {
    "duration": 4,
    "start_time": "2022-07-19T19:32:57.691Z"
   },
   {
    "duration": 71,
    "start_time": "2022-07-19T19:32:57.697Z"
   },
   {
    "duration": 19,
    "start_time": "2022-07-19T19:32:57.770Z"
   },
   {
    "duration": 418,
    "start_time": "2022-07-19T19:32:57.790Z"
   },
   {
    "duration": 25,
    "start_time": "2022-07-19T19:32:58.210Z"
   },
   {
    "duration": 12,
    "start_time": "2022-07-19T19:32:58.237Z"
   },
   {
    "duration": 132,
    "start_time": "2022-07-19T19:33:39.156Z"
   },
   {
    "duration": 56,
    "start_time": "2022-07-19T19:33:59.287Z"
   },
   {
    "duration": 53,
    "start_time": "2022-07-19T19:34:06.159Z"
   },
   {
    "duration": 59,
    "start_time": "2022-07-19T19:34:14.346Z"
   },
   {
    "duration": 60,
    "start_time": "2022-07-19T19:34:35.876Z"
   },
   {
    "duration": 46,
    "start_time": "2022-07-19T19:35:04.839Z"
   },
   {
    "duration": 62,
    "start_time": "2022-07-19T19:36:05.578Z"
   },
   {
    "duration": 74,
    "start_time": "2022-07-19T19:36:15.226Z"
   },
   {
    "duration": 621,
    "start_time": "2022-07-19T19:37:12.623Z"
   },
   {
    "duration": 304,
    "start_time": "2022-07-19T19:37:49.165Z"
   },
   {
    "duration": 1237,
    "start_time": "2022-07-19T21:15:41.247Z"
   },
   {
    "duration": 800,
    "start_time": "2022-07-19T21:15:42.486Z"
   },
   {
    "duration": 25,
    "start_time": "2022-07-19T21:15:43.287Z"
   },
   {
    "duration": 2,
    "start_time": "2022-07-19T21:15:43.314Z"
   },
   {
    "duration": 16,
    "start_time": "2022-07-19T21:15:43.317Z"
   },
   {
    "duration": 16,
    "start_time": "2022-07-19T21:15:43.334Z"
   },
   {
    "duration": 68,
    "start_time": "2022-07-19T21:15:43.352Z"
   },
   {
    "duration": 67,
    "start_time": "2022-07-19T21:15:43.422Z"
   },
   {
    "duration": 70,
    "start_time": "2022-07-19T21:15:43.490Z"
   },
   {
    "duration": 18,
    "start_time": "2022-07-19T21:15:43.563Z"
   },
   {
    "duration": 89,
    "start_time": "2022-07-19T21:15:43.582Z"
   },
   {
    "duration": 23,
    "start_time": "2022-07-19T21:15:43.677Z"
   },
   {
    "duration": 15,
    "start_time": "2022-07-19T21:15:43.702Z"
   },
   {
    "duration": 7,
    "start_time": "2022-07-19T21:15:43.718Z"
   },
   {
    "duration": 39,
    "start_time": "2022-07-19T21:15:43.726Z"
   },
   {
    "duration": 48,
    "start_time": "2022-07-19T21:15:43.766Z"
   },
   {
    "duration": 199,
    "start_time": "2022-07-19T21:15:43.816Z"
   },
   {
    "duration": 397,
    "start_time": "2022-07-19T21:15:44.016Z"
   },
   {
    "duration": 27,
    "start_time": "2022-07-19T21:15:44.414Z"
   },
   {
    "duration": 203,
    "start_time": "2022-07-19T21:15:44.443Z"
   },
   {
    "duration": 43,
    "start_time": "2022-07-19T21:15:44.647Z"
   },
   {
    "duration": 27,
    "start_time": "2022-07-19T21:15:44.692Z"
   },
   {
    "duration": 68,
    "start_time": "2022-07-19T21:15:44.721Z"
   },
   {
    "duration": 46,
    "start_time": "2022-07-19T21:15:44.791Z"
   },
   {
    "duration": 24,
    "start_time": "2022-07-19T21:15:44.839Z"
   },
   {
    "duration": 17,
    "start_time": "2022-07-19T21:15:44.866Z"
   },
   {
    "duration": 11,
    "start_time": "2022-07-19T21:15:44.884Z"
   },
   {
    "duration": 4,
    "start_time": "2022-07-19T21:15:44.897Z"
   },
   {
    "duration": 9,
    "start_time": "2022-07-19T21:15:44.902Z"
   },
   {
    "duration": 9,
    "start_time": "2022-07-19T21:15:44.912Z"
   },
   {
    "duration": 5,
    "start_time": "2022-07-19T21:15:44.922Z"
   },
   {
    "duration": 3,
    "start_time": "2022-07-19T21:15:44.929Z"
   },
   {
    "duration": 53,
    "start_time": "2022-07-19T21:15:44.933Z"
   },
   {
    "duration": 4,
    "start_time": "2022-07-19T21:15:44.988Z"
   },
   {
    "duration": 62,
    "start_time": "2022-07-19T21:15:44.993Z"
   },
   {
    "duration": 22,
    "start_time": "2022-07-19T21:15:45.058Z"
   },
   {
    "duration": 453,
    "start_time": "2022-07-19T21:15:45.084Z"
   },
   {
    "duration": 245,
    "start_time": "2022-07-19T21:15:45.539Z"
   },
   {
    "duration": 44,
    "start_time": "2022-07-20T08:11:49.859Z"
   },
   {
    "duration": 1223,
    "start_time": "2022-07-20T08:11:54.991Z"
   },
   {
    "duration": 465,
    "start_time": "2022-07-20T08:11:56.216Z"
   },
   {
    "duration": 27,
    "start_time": "2022-07-20T08:11:56.682Z"
   },
   {
    "duration": 3,
    "start_time": "2022-07-20T08:11:56.710Z"
   },
   {
    "duration": 14,
    "start_time": "2022-07-20T08:11:56.714Z"
   },
   {
    "duration": 26,
    "start_time": "2022-07-20T08:11:56.730Z"
   },
   {
    "duration": 59,
    "start_time": "2022-07-20T08:11:56.757Z"
   },
   {
    "duration": 71,
    "start_time": "2022-07-20T08:11:56.818Z"
   },
   {
    "duration": 76,
    "start_time": "2022-07-20T08:11:56.890Z"
   },
   {
    "duration": 15,
    "start_time": "2022-07-20T08:11:56.968Z"
   },
   {
    "duration": 86,
    "start_time": "2022-07-20T08:11:56.984Z"
   },
   {
    "duration": 26,
    "start_time": "2022-07-20T08:11:57.072Z"
   },
   {
    "duration": 18,
    "start_time": "2022-07-20T08:11:57.099Z"
   },
   {
    "duration": 27,
    "start_time": "2022-07-20T08:11:57.119Z"
   },
   {
    "duration": 20,
    "start_time": "2022-07-20T08:11:57.148Z"
   },
   {
    "duration": 53,
    "start_time": "2022-07-20T08:11:57.170Z"
   },
   {
    "duration": 207,
    "start_time": "2022-07-20T08:11:57.224Z"
   },
   {
    "duration": 392,
    "start_time": "2022-07-20T08:11:57.433Z"
   },
   {
    "duration": 37,
    "start_time": "2022-07-20T08:11:57.827Z"
   },
   {
    "duration": 178,
    "start_time": "2022-07-20T08:11:57.865Z"
   },
   {
    "duration": 31,
    "start_time": "2022-07-20T08:11:58.046Z"
   },
   {
    "duration": 30,
    "start_time": "2022-07-20T08:11:58.079Z"
   },
   {
    "duration": 75,
    "start_time": "2022-07-20T08:11:58.110Z"
   },
   {
    "duration": 60,
    "start_time": "2022-07-20T08:11:58.186Z"
   },
   {
    "duration": 12,
    "start_time": "2022-07-20T08:11:58.248Z"
   },
   {
    "duration": 8,
    "start_time": "2022-07-20T08:11:58.261Z"
   },
   {
    "duration": 12,
    "start_time": "2022-07-20T08:11:58.270Z"
   },
   {
    "duration": 5,
    "start_time": "2022-07-20T08:11:58.285Z"
   },
   {
    "duration": 11,
    "start_time": "2022-07-20T08:11:58.292Z"
   },
   {
    "duration": 12,
    "start_time": "2022-07-20T08:11:58.305Z"
   },
   {
    "duration": 28,
    "start_time": "2022-07-20T08:11:58.319Z"
   },
   {
    "duration": 6,
    "start_time": "2022-07-20T08:11:58.348Z"
   },
   {
    "duration": 37,
    "start_time": "2022-07-20T08:11:58.356Z"
   },
   {
    "duration": 4,
    "start_time": "2022-07-20T08:11:58.395Z"
   },
   {
    "duration": 68,
    "start_time": "2022-07-20T08:11:58.400Z"
   },
   {
    "duration": 17,
    "start_time": "2022-07-20T08:11:58.469Z"
   },
   {
    "duration": 490,
    "start_time": "2022-07-20T08:11:58.488Z"
   },
   {
    "duration": 292,
    "start_time": "2022-07-20T08:11:58.980Z"
   },
   {
    "duration": 17,
    "start_time": "2022-07-20T08:12:41.950Z"
   },
   {
    "duration": 4,
    "start_time": "2022-07-20T08:12:53.788Z"
   },
   {
    "duration": 12,
    "start_time": "2022-07-20T08:18:10.060Z"
   },
   {
    "duration": 19,
    "start_time": "2022-07-20T08:18:50.969Z"
   },
   {
    "duration": 3,
    "start_time": "2022-07-20T08:19:38.154Z"
   },
   {
    "duration": 157,
    "start_time": "2022-07-20T08:19:38.725Z"
   },
   {
    "duration": 24,
    "start_time": "2022-07-20T08:19:39.196Z"
   },
   {
    "duration": 3,
    "start_time": "2022-07-20T08:19:41.191Z"
   },
   {
    "duration": 8,
    "start_time": "2022-07-20T08:19:41.624Z"
   },
   {
    "duration": 21,
    "start_time": "2022-07-20T08:19:42.154Z"
   },
   {
    "duration": 56,
    "start_time": "2022-07-20T08:19:42.793Z"
   },
   {
    "duration": 57,
    "start_time": "2022-07-20T08:19:43.468Z"
   },
   {
    "duration": 66,
    "start_time": "2022-07-20T08:19:44.583Z"
   },
   {
    "duration": 15,
    "start_time": "2022-07-20T08:19:45.072Z"
   },
   {
    "duration": 77,
    "start_time": "2022-07-20T08:19:46.543Z"
   },
   {
    "duration": 26,
    "start_time": "2022-07-20T08:19:48.125Z"
   },
   {
    "duration": 17,
    "start_time": "2022-07-20T08:19:48.791Z"
   },
   {
    "duration": 8,
    "start_time": "2022-07-20T08:19:51.546Z"
   },
   {
    "duration": 4,
    "start_time": "2022-07-20T08:19:52.744Z"
   },
   {
    "duration": 20,
    "start_time": "2022-07-20T08:20:08.799Z"
   },
   {
    "duration": 54,
    "start_time": "2022-07-20T08:20:10.420Z"
   },
   {
    "duration": 20,
    "start_time": "2022-07-20T08:20:24.387Z"
   },
   {
    "duration": 94,
    "start_time": "2022-07-20T08:20:55.134Z"
   },
   {
    "duration": 16,
    "start_time": "2022-07-20T08:21:09.253Z"
   },
   {
    "duration": 94,
    "start_time": "2022-07-20T08:21:16.012Z"
   },
   {
    "duration": 16,
    "start_time": "2022-07-20T08:21:41.223Z"
   },
   {
    "duration": 88,
    "start_time": "2022-07-20T08:21:48.379Z"
   },
   {
    "duration": 102,
    "start_time": "2022-07-20T08:21:59.063Z"
   },
   {
    "duration": 109,
    "start_time": "2022-07-20T08:22:10.544Z"
   },
   {
    "duration": 160,
    "start_time": "2022-07-20T08:22:14.279Z"
   },
   {
    "duration": 100,
    "start_time": "2022-07-20T08:22:26.424Z"
   },
   {
    "duration": 107,
    "start_time": "2022-07-20T08:23:14.217Z"
   },
   {
    "duration": 116,
    "start_time": "2022-07-20T08:23:28.381Z"
   },
   {
    "duration": 106,
    "start_time": "2022-07-20T08:23:39.389Z"
   },
   {
    "duration": 102,
    "start_time": "2022-07-20T08:23:48.589Z"
   },
   {
    "duration": 120,
    "start_time": "2022-07-20T08:25:59.271Z"
   },
   {
    "duration": 106,
    "start_time": "2022-07-20T08:26:10.693Z"
   },
   {
    "duration": 53,
    "start_time": "2022-07-20T08:26:54.097Z"
   },
   {
    "duration": 27,
    "start_time": "2022-07-20T08:26:55.571Z"
   },
   {
    "duration": 138,
    "start_time": "2022-07-20T08:27:41.055Z"
   },
   {
    "duration": 120,
    "start_time": "2022-07-20T08:30:04.739Z"
   },
   {
    "duration": 25,
    "start_time": "2022-07-20T08:30:23.408Z"
   },
   {
    "duration": 33,
    "start_time": "2022-07-20T08:30:31.510Z"
   },
   {
    "duration": 20,
    "start_time": "2022-07-20T08:30:34.498Z"
   },
   {
    "duration": 8,
    "start_time": "2022-07-20T08:30:42.403Z"
   },
   {
    "duration": 159,
    "start_time": "2022-07-20T08:30:47.884Z"
   },
   {
    "duration": 25,
    "start_time": "2022-07-20T08:30:54.206Z"
   },
   {
    "duration": 160,
    "start_time": "2022-07-20T08:31:10.855Z"
   },
   {
    "duration": 93,
    "start_time": "2022-07-20T08:31:22.107Z"
   },
   {
    "duration": 241,
    "start_time": "2022-07-20T08:31:39.106Z"
   },
   {
    "duration": 119,
    "start_time": "2022-07-20T08:31:57.471Z"
   },
   {
    "duration": 117,
    "start_time": "2022-07-20T08:32:11.866Z"
   },
   {
    "duration": 167,
    "start_time": "2022-07-20T08:32:43.799Z"
   },
   {
    "duration": 139,
    "start_time": "2022-07-20T08:32:54.496Z"
   },
   {
    "duration": 149,
    "start_time": "2022-07-20T08:33:04.762Z"
   },
   {
    "duration": 179,
    "start_time": "2022-07-20T08:33:11.788Z"
   },
   {
    "duration": 7,
    "start_time": "2022-07-20T08:38:13.120Z"
   },
   {
    "duration": 192,
    "start_time": "2022-07-20T08:38:16.484Z"
   },
   {
    "duration": 202,
    "start_time": "2022-07-20T08:38:57.826Z"
   },
   {
    "duration": 143,
    "start_time": "2022-07-20T08:39:31.678Z"
   },
   {
    "duration": 101,
    "start_time": "2022-07-20T08:39:41.936Z"
   },
   {
    "duration": 67,
    "start_time": "2022-07-20T08:39:50.039Z"
   },
   {
    "duration": 192,
    "start_time": "2022-07-20T08:39:55.303Z"
   },
   {
    "duration": 2,
    "start_time": "2022-07-20T08:39:57.942Z"
   },
   {
    "duration": 335,
    "start_time": "2022-07-20T08:40:16.874Z"
   },
   {
    "duration": 246,
    "start_time": "2022-07-20T08:40:36.678Z"
   },
   {
    "duration": 320,
    "start_time": "2022-07-20T08:40:40.236Z"
   },
   {
    "duration": 4,
    "start_time": "2022-07-20T08:41:22.292Z"
   },
   {
    "duration": 88,
    "start_time": "2022-07-20T08:41:27.099Z"
   },
   {
    "duration": 304,
    "start_time": "2022-07-20T08:41:40.455Z"
   },
   {
    "duration": 284,
    "start_time": "2022-07-20T08:41:49.213Z"
   },
   {
    "duration": 275,
    "start_time": "2022-07-20T08:42:10.964Z"
   },
   {
    "duration": 33,
    "start_time": "2022-07-20T08:42:27.431Z"
   },
   {
    "duration": 30,
    "start_time": "2022-07-20T08:43:04.503Z"
   },
   {
    "duration": 15,
    "start_time": "2022-07-20T08:43:17.990Z"
   },
   {
    "duration": 29,
    "start_time": "2022-07-20T08:43:28.249Z"
   },
   {
    "duration": 115,
    "start_time": "2022-07-20T08:44:55.833Z"
   },
   {
    "duration": 13,
    "start_time": "2022-07-20T08:45:01.208Z"
   },
   {
    "duration": 10,
    "start_time": "2022-07-20T08:45:11.142Z"
   },
   {
    "duration": 11,
    "start_time": "2022-07-20T08:45:19.190Z"
   },
   {
    "duration": 13,
    "start_time": "2022-07-20T08:45:25.085Z"
   },
   {
    "duration": 45,
    "start_time": "2022-07-20T08:45:40.223Z"
   },
   {
    "duration": 17,
    "start_time": "2022-07-20T08:45:44.660Z"
   },
   {
    "duration": 13,
    "start_time": "2022-07-20T08:45:48.455Z"
   },
   {
    "duration": 5,
    "start_time": "2022-07-20T08:46:41.454Z"
   },
   {
    "duration": 13,
    "start_time": "2022-07-20T08:51:21.999Z"
   },
   {
    "duration": 84,
    "start_time": "2022-07-20T08:52:10.291Z"
   },
   {
    "duration": 16,
    "start_time": "2022-07-20T08:52:28.899Z"
   },
   {
    "duration": 16,
    "start_time": "2022-07-20T08:52:41.781Z"
   },
   {
    "duration": 330,
    "start_time": "2022-07-20T08:54:16.453Z"
   },
   {
    "duration": 3,
    "start_time": "2022-07-20T08:54:22.873Z"
   },
   {
    "duration": 331,
    "start_time": "2022-07-20T08:54:44.075Z"
   },
   {
    "duration": 301,
    "start_time": "2022-07-20T08:54:46.748Z"
   },
   {
    "duration": 301,
    "start_time": "2022-07-20T08:55:02.967Z"
   },
   {
    "duration": 298,
    "start_time": "2022-07-20T08:57:47.405Z"
   },
   {
    "duration": 278,
    "start_time": "2022-07-20T08:57:58.247Z"
   },
   {
    "duration": 279,
    "start_time": "2022-07-20T08:58:04.314Z"
   },
   {
    "duration": 280,
    "start_time": "2022-07-20T08:58:15.667Z"
   },
   {
    "duration": 274,
    "start_time": "2022-07-20T08:58:25.099Z"
   },
   {
    "duration": 438,
    "start_time": "2022-07-20T08:58:30.478Z"
   },
   {
    "duration": 287,
    "start_time": "2022-07-20T08:58:42.732Z"
   },
   {
    "duration": 277,
    "start_time": "2022-07-20T08:58:50.513Z"
   },
   {
    "duration": 277,
    "start_time": "2022-07-20T08:58:56.618Z"
   },
   {
    "duration": 283,
    "start_time": "2022-07-20T08:59:05.110Z"
   },
   {
    "duration": 282,
    "start_time": "2022-07-20T08:59:11.865Z"
   },
   {
    "duration": 292,
    "start_time": "2022-07-20T08:59:15.292Z"
   },
   {
    "duration": 280,
    "start_time": "2022-07-20T08:59:22.171Z"
   },
   {
    "duration": 271,
    "start_time": "2022-07-20T08:59:29.567Z"
   },
   {
    "duration": 267,
    "start_time": "2022-07-20T08:59:37.175Z"
   },
   {
    "duration": 257,
    "start_time": "2022-07-20T08:59:42.339Z"
   },
   {
    "duration": 274,
    "start_time": "2022-07-20T08:59:52.342Z"
   },
   {
    "duration": 154,
    "start_time": "2022-07-20T09:00:40.600Z"
   },
   {
    "duration": 0,
    "start_time": "2022-07-20T09:01:11.855Z"
   },
   {
    "duration": 167,
    "start_time": "2022-07-20T09:06:43.195Z"
   },
   {
    "duration": 175,
    "start_time": "2022-07-20T09:07:20.144Z"
   },
   {
    "duration": 13,
    "start_time": "2022-07-20T09:07:54.505Z"
   },
   {
    "duration": 12,
    "start_time": "2022-07-20T09:08:04.196Z"
   },
   {
    "duration": 11,
    "start_time": "2022-07-20T09:08:10.607Z"
   },
   {
    "duration": 33,
    "start_time": "2022-07-20T09:08:38.060Z"
   },
   {
    "duration": 141,
    "start_time": "2022-07-20T09:09:02.984Z"
   },
   {
    "duration": 156,
    "start_time": "2022-07-20T09:09:19.085Z"
   },
   {
    "duration": 159,
    "start_time": "2022-07-20T09:09:26.661Z"
   },
   {
    "duration": 150,
    "start_time": "2022-07-20T09:09:50.543Z"
   },
   {
    "duration": 10,
    "start_time": "2022-07-20T09:11:53.961Z"
   },
   {
    "duration": 5,
    "start_time": "2022-07-20T09:12:06.493Z"
   },
   {
    "duration": 3,
    "start_time": "2022-07-20T09:12:08.730Z"
   },
   {
    "duration": 12,
    "start_time": "2022-07-20T09:12:18.813Z"
   },
   {
    "duration": 111,
    "start_time": "2022-07-20T09:30:03.290Z"
   },
   {
    "duration": 152,
    "start_time": "2022-07-20T09:30:28.090Z"
   },
   {
    "duration": 1655,
    "start_time": "2022-07-20T09:30:45.942Z"
   },
   {
    "duration": 160,
    "start_time": "2022-07-20T09:31:11.489Z"
   },
   {
    "duration": 108,
    "start_time": "2022-07-20T09:31:21.124Z"
   },
   {
    "duration": 54,
    "start_time": "2022-07-20T09:31:28.072Z"
   },
   {
    "duration": 58,
    "start_time": "2022-07-20T09:31:56.503Z"
   },
   {
    "duration": 47,
    "start_time": "2022-07-20T09:32:24.988Z"
   },
   {
    "duration": 56,
    "start_time": "2022-07-20T09:32:34.551Z"
   },
   {
    "duration": 87,
    "start_time": "2022-07-20T09:47:53.093Z"
   },
   {
    "duration": 83,
    "start_time": "2022-07-20T09:48:00.106Z"
   },
   {
    "duration": 18,
    "start_time": "2022-07-20T09:48:27.732Z"
   },
   {
    "duration": 45,
    "start_time": "2022-07-20T09:48:52.146Z"
   },
   {
    "duration": 47,
    "start_time": "2022-07-20T09:49:09.327Z"
   },
   {
    "duration": 12,
    "start_time": "2022-07-20T09:49:55.331Z"
   },
   {
    "duration": 44,
    "start_time": "2022-07-20T09:49:59.904Z"
   },
   {
    "duration": 4,
    "start_time": "2022-07-20T09:52:12.401Z"
   },
   {
    "duration": 48,
    "start_time": "2022-07-20T09:55:16.165Z"
   },
   {
    "duration": 5,
    "start_time": "2022-07-20T09:56:29.087Z"
   },
   {
    "duration": 10,
    "start_time": "2022-07-20T09:56:38.795Z"
   },
   {
    "duration": 9,
    "start_time": "2022-07-20T09:56:56.115Z"
   },
   {
    "duration": 43,
    "start_time": "2022-07-20T09:57:26.759Z"
   },
   {
    "duration": 15,
    "start_time": "2022-07-20T09:57:49.352Z"
   },
   {
    "duration": 50,
    "start_time": "2022-07-20T09:57:57.561Z"
   },
   {
    "duration": 47,
    "start_time": "2022-07-20T09:58:04.884Z"
   },
   {
    "duration": 44,
    "start_time": "2022-07-20T09:58:11.268Z"
   },
   {
    "duration": 22,
    "start_time": "2022-07-20T10:06:07.736Z"
   },
   {
    "duration": 1209,
    "start_time": "2022-07-20T11:33:50.410Z"
   },
   {
    "duration": 452,
    "start_time": "2022-07-20T11:33:51.621Z"
   },
   {
    "duration": 35,
    "start_time": "2022-07-20T11:33:52.075Z"
   },
   {
    "duration": 3,
    "start_time": "2022-07-20T11:33:52.113Z"
   },
   {
    "duration": 16,
    "start_time": "2022-07-20T11:33:52.117Z"
   },
   {
    "duration": 35,
    "start_time": "2022-07-20T11:33:52.135Z"
   },
   {
    "duration": 73,
    "start_time": "2022-07-20T11:33:52.173Z"
   },
   {
    "duration": 62,
    "start_time": "2022-07-20T11:33:52.248Z"
   },
   {
    "duration": 83,
    "start_time": "2022-07-20T11:33:52.311Z"
   },
   {
    "duration": 15,
    "start_time": "2022-07-20T11:33:52.397Z"
   },
   {
    "duration": 102,
    "start_time": "2022-07-20T11:33:52.414Z"
   },
   {
    "duration": 34,
    "start_time": "2022-07-20T11:33:52.518Z"
   },
   {
    "duration": 17,
    "start_time": "2022-07-20T11:33:52.553Z"
   },
   {
    "duration": 10,
    "start_time": "2022-07-20T11:33:52.571Z"
   },
   {
    "duration": 3,
    "start_time": "2022-07-20T11:33:52.582Z"
   },
   {
    "duration": 132,
    "start_time": "2022-07-20T11:33:52.586Z"
   },
   {
    "duration": 0,
    "start_time": "2022-07-20T11:33:52.720Z"
   },
   {
    "duration": 0,
    "start_time": "2022-07-20T11:33:52.721Z"
   },
   {
    "duration": 0,
    "start_time": "2022-07-20T11:33:52.722Z"
   },
   {
    "duration": 0,
    "start_time": "2022-07-20T11:33:52.723Z"
   },
   {
    "duration": 0,
    "start_time": "2022-07-20T11:33:52.724Z"
   },
   {
    "duration": 0,
    "start_time": "2022-07-20T11:33:52.725Z"
   },
   {
    "duration": 0,
    "start_time": "2022-07-20T11:33:52.725Z"
   },
   {
    "duration": 0,
    "start_time": "2022-07-20T11:33:52.727Z"
   },
   {
    "duration": 0,
    "start_time": "2022-07-20T11:33:52.728Z"
   },
   {
    "duration": 0,
    "start_time": "2022-07-20T11:33:52.746Z"
   },
   {
    "duration": 0,
    "start_time": "2022-07-20T11:33:52.747Z"
   },
   {
    "duration": 0,
    "start_time": "2022-07-20T11:33:52.748Z"
   },
   {
    "duration": 0,
    "start_time": "2022-07-20T11:33:52.749Z"
   },
   {
    "duration": 0,
    "start_time": "2022-07-20T11:33:52.750Z"
   },
   {
    "duration": 0,
    "start_time": "2022-07-20T11:33:52.751Z"
   },
   {
    "duration": 0,
    "start_time": "2022-07-20T11:33:52.752Z"
   },
   {
    "duration": 0,
    "start_time": "2022-07-20T11:33:52.753Z"
   },
   {
    "duration": 0,
    "start_time": "2022-07-20T11:33:52.754Z"
   },
   {
    "duration": 0,
    "start_time": "2022-07-20T11:33:52.755Z"
   },
   {
    "duration": 0,
    "start_time": "2022-07-20T11:33:52.756Z"
   },
   {
    "duration": 0,
    "start_time": "2022-07-20T11:33:52.757Z"
   },
   {
    "duration": 0,
    "start_time": "2022-07-20T11:33:52.758Z"
   },
   {
    "duration": 0,
    "start_time": "2022-07-20T11:33:52.759Z"
   },
   {
    "duration": 0,
    "start_time": "2022-07-20T11:33:52.760Z"
   },
   {
    "duration": 0,
    "start_time": "2022-07-20T11:33:52.761Z"
   },
   {
    "duration": 0,
    "start_time": "2022-07-20T11:33:52.762Z"
   },
   {
    "duration": 0,
    "start_time": "2022-07-20T11:33:52.764Z"
   },
   {
    "duration": 0,
    "start_time": "2022-07-20T11:33:52.765Z"
   },
   {
    "duration": 0,
    "start_time": "2022-07-20T11:33:52.766Z"
   },
   {
    "duration": 0,
    "start_time": "2022-07-20T11:33:52.767Z"
   },
   {
    "duration": 29,
    "start_time": "2022-07-20T11:34:09.478Z"
   },
   {
    "duration": 1199,
    "start_time": "2022-07-20T11:34:16.902Z"
   },
   {
    "duration": 165,
    "start_time": "2022-07-20T11:34:18.103Z"
   },
   {
    "duration": 28,
    "start_time": "2022-07-20T11:34:18.270Z"
   },
   {
    "duration": 3,
    "start_time": "2022-07-20T11:34:18.300Z"
   },
   {
    "duration": 19,
    "start_time": "2022-07-20T11:34:18.304Z"
   },
   {
    "duration": 30,
    "start_time": "2022-07-20T11:34:18.325Z"
   },
   {
    "duration": 63,
    "start_time": "2022-07-20T11:34:18.357Z"
   },
   {
    "duration": 85,
    "start_time": "2022-07-20T11:34:18.422Z"
   },
   {
    "duration": 80,
    "start_time": "2022-07-20T11:34:18.509Z"
   },
   {
    "duration": 16,
    "start_time": "2022-07-20T11:34:18.592Z"
   },
   {
    "duration": 92,
    "start_time": "2022-07-20T11:34:18.609Z"
   },
   {
    "duration": 28,
    "start_time": "2022-07-20T11:34:18.703Z"
   },
   {
    "duration": 30,
    "start_time": "2022-07-20T11:34:18.733Z"
   },
   {
    "duration": 21,
    "start_time": "2022-07-20T11:34:18.764Z"
   },
   {
    "duration": 9,
    "start_time": "2022-07-20T11:34:18.787Z"
   },
   {
    "duration": 31,
    "start_time": "2022-07-20T11:34:18.798Z"
   },
   {
    "duration": 143,
    "start_time": "2022-07-20T11:34:18.831Z"
   },
   {
    "duration": 73,
    "start_time": "2022-07-20T11:34:18.977Z"
   },
   {
    "duration": 259,
    "start_time": "2022-07-20T11:34:19.051Z"
   },
   {
    "duration": 2,
    "start_time": "2022-07-20T11:34:19.312Z"
   },
   {
    "duration": 423,
    "start_time": "2022-07-20T11:34:19.316Z"
   },
   {
    "duration": 25,
    "start_time": "2022-07-20T11:34:19.745Z"
   },
   {
    "duration": 11,
    "start_time": "2022-07-20T11:34:19.772Z"
   },
   {
    "duration": 301,
    "start_time": "2022-07-20T11:34:19.784Z"
   },
   {
    "duration": 18,
    "start_time": "2022-07-20T11:34:20.087Z"
   },
   {
    "duration": 196,
    "start_time": "2022-07-20T11:34:20.106Z"
   },
   {
    "duration": 32,
    "start_time": "2022-07-20T11:34:20.304Z"
   },
   {
    "duration": 1186,
    "start_time": "2022-07-20T11:34:45.923Z"
   },
   {
    "duration": 168,
    "start_time": "2022-07-20T11:34:47.111Z"
   },
   {
    "duration": 43,
    "start_time": "2022-07-20T11:34:47.281Z"
   },
   {
    "duration": 3,
    "start_time": "2022-07-20T11:34:47.327Z"
   },
   {
    "duration": 17,
    "start_time": "2022-07-20T11:34:47.346Z"
   },
   {
    "duration": 24,
    "start_time": "2022-07-20T11:34:47.365Z"
   },
   {
    "duration": 91,
    "start_time": "2022-07-20T11:34:47.390Z"
   },
   {
    "duration": 94,
    "start_time": "2022-07-20T11:34:47.483Z"
   },
   {
    "duration": 79,
    "start_time": "2022-07-20T11:34:47.579Z"
   },
   {
    "duration": 16,
    "start_time": "2022-07-20T11:34:47.662Z"
   },
   {
    "duration": 99,
    "start_time": "2022-07-20T11:34:47.679Z"
   },
   {
    "duration": 29,
    "start_time": "2022-07-20T11:34:47.780Z"
   },
   {
    "duration": 17,
    "start_time": "2022-07-20T11:34:47.810Z"
   },
   {
    "duration": 8,
    "start_time": "2022-07-20T11:34:47.846Z"
   },
   {
    "duration": 11,
    "start_time": "2022-07-20T11:34:47.855Z"
   },
   {
    "duration": 23,
    "start_time": "2022-07-20T11:34:47.868Z"
   },
   {
    "duration": 121,
    "start_time": "2022-07-20T11:34:47.892Z"
   },
   {
    "duration": 68,
    "start_time": "2022-07-20T11:34:48.014Z"
   },
   {
    "duration": 235,
    "start_time": "2022-07-20T11:34:48.084Z"
   },
   {
    "duration": 3,
    "start_time": "2022-07-20T11:34:48.320Z"
   },
   {
    "duration": 417,
    "start_time": "2022-07-20T11:34:48.325Z"
   },
   {
    "duration": 25,
    "start_time": "2022-07-20T11:34:48.746Z"
   },
   {
    "duration": 13,
    "start_time": "2022-07-20T11:34:48.773Z"
   },
   {
    "duration": 361,
    "start_time": "2022-07-20T11:34:48.787Z"
   },
   {
    "duration": 28,
    "start_time": "2022-07-20T11:34:49.150Z"
   },
   {
    "duration": 219,
    "start_time": "2022-07-20T11:34:49.180Z"
   },
   {
    "duration": 52,
    "start_time": "2022-07-20T11:34:49.401Z"
   },
   {
    "duration": 1325,
    "start_time": "2022-07-20T11:44:59.811Z"
   },
   {
    "duration": 505,
    "start_time": "2022-07-20T11:45:01.138Z"
   },
   {
    "duration": 33,
    "start_time": "2022-07-20T11:45:01.644Z"
   },
   {
    "duration": 3,
    "start_time": "2022-07-20T11:45:02.788Z"
   },
   {
    "duration": 15,
    "start_time": "2022-07-20T11:45:03.105Z"
   },
   {
    "duration": 22,
    "start_time": "2022-07-20T11:45:03.355Z"
   },
   {
    "duration": 70,
    "start_time": "2022-07-20T11:45:03.590Z"
   },
   {
    "duration": 71,
    "start_time": "2022-07-20T11:45:03.819Z"
   },
   {
    "duration": 75,
    "start_time": "2022-07-20T11:45:04.341Z"
   },
   {
    "duration": 17,
    "start_time": "2022-07-20T11:45:04.584Z"
   },
   {
    "duration": 80,
    "start_time": "2022-07-20T11:45:05.022Z"
   },
   {
    "duration": 28,
    "start_time": "2022-07-20T11:45:05.743Z"
   },
   {
    "duration": 17,
    "start_time": "2022-07-20T11:45:05.983Z"
   },
   {
    "duration": 8,
    "start_time": "2022-07-20T11:45:06.542Z"
   },
   {
    "duration": 4,
    "start_time": "2022-07-20T11:45:07.010Z"
   },
   {
    "duration": 17,
    "start_time": "2022-07-20T11:45:07.725Z"
   },
   {
    "duration": 119,
    "start_time": "2022-07-20T11:45:08.446Z"
   },
   {
    "duration": 83,
    "start_time": "2022-07-20T11:45:08.997Z"
   },
   {
    "duration": 225,
    "start_time": "2022-07-20T11:45:09.595Z"
   },
   {
    "duration": 2,
    "start_time": "2022-07-20T11:45:09.824Z"
   },
   {
    "duration": 418,
    "start_time": "2022-07-20T11:45:10.868Z"
   },
   {
    "duration": 28,
    "start_time": "2022-07-20T11:45:12.329Z"
   },
   {
    "duration": 12,
    "start_time": "2022-07-20T11:45:12.580Z"
   },
   {
    "duration": 285,
    "start_time": "2022-07-20T11:45:12.843Z"
   },
   {
    "duration": 19,
    "start_time": "2022-07-20T11:45:13.610Z"
   },
   {
    "duration": 191,
    "start_time": "2022-07-20T11:45:14.323Z"
   },
   {
    "duration": 35,
    "start_time": "2022-07-20T11:45:15.823Z"
   },
   {
    "duration": 0,
    "start_time": "2022-07-20T11:45:38.781Z"
   },
   {
    "duration": 0,
    "start_time": "2022-07-20T11:45:38.785Z"
   },
   {
    "duration": 35,
    "start_time": "2022-07-20T11:45:41.647Z"
   },
   {
    "duration": 55,
    "start_time": "2022-07-20T11:52:19.493Z"
   },
   {
    "duration": 1277,
    "start_time": "2022-07-20T11:52:24.353Z"
   },
   {
    "duration": 477,
    "start_time": "2022-07-20T11:52:25.631Z"
   },
   {
    "duration": 30,
    "start_time": "2022-07-20T11:52:26.110Z"
   },
   {
    "duration": 3,
    "start_time": "2022-07-20T11:52:26.142Z"
   },
   {
    "duration": 19,
    "start_time": "2022-07-20T11:52:26.147Z"
   },
   {
    "duration": 25,
    "start_time": "2022-07-20T11:52:26.168Z"
   },
   {
    "duration": 81,
    "start_time": "2022-07-20T11:52:26.195Z"
   },
   {
    "duration": 70,
    "start_time": "2022-07-20T11:52:26.278Z"
   },
   {
    "duration": 72,
    "start_time": "2022-07-20T11:52:26.350Z"
   },
   {
    "duration": 30,
    "start_time": "2022-07-20T11:52:26.425Z"
   },
   {
    "duration": 92,
    "start_time": "2022-07-20T11:52:26.456Z"
   },
   {
    "duration": 30,
    "start_time": "2022-07-20T11:52:26.550Z"
   },
   {
    "duration": 17,
    "start_time": "2022-07-20T11:52:26.582Z"
   },
   {
    "duration": 9,
    "start_time": "2022-07-20T11:52:26.601Z"
   },
   {
    "duration": 9,
    "start_time": "2022-07-20T11:52:26.611Z"
   },
   {
    "duration": 50,
    "start_time": "2022-07-20T11:52:26.622Z"
   },
   {
    "duration": 137,
    "start_time": "2022-07-20T11:52:26.674Z"
   },
   {
    "duration": 65,
    "start_time": "2022-07-20T11:52:26.813Z"
   },
   {
    "duration": 237,
    "start_time": "2022-07-20T11:52:26.880Z"
   },
   {
    "duration": 2,
    "start_time": "2022-07-20T11:52:27.119Z"
   },
   {
    "duration": 424,
    "start_time": "2022-07-20T11:52:27.123Z"
   },
   {
    "duration": 32,
    "start_time": "2022-07-20T11:52:27.549Z"
   },
   {
    "duration": 13,
    "start_time": "2022-07-20T11:52:27.583Z"
   },
   {
    "duration": 303,
    "start_time": "2022-07-20T11:52:27.598Z"
   },
   {
    "duration": 27,
    "start_time": "2022-07-20T11:52:27.903Z"
   },
   {
    "duration": 199,
    "start_time": "2022-07-20T11:52:27.932Z"
   },
   {
    "duration": 35,
    "start_time": "2022-07-20T11:52:28.133Z"
   },
   {
    "duration": 30,
    "start_time": "2022-07-20T11:52:28.171Z"
   },
   {
    "duration": 73,
    "start_time": "2022-07-20T11:52:28.202Z"
   },
   {
    "duration": 2236,
    "start_time": "2022-07-20T11:52:28.277Z"
   },
   {
    "duration": 14,
    "start_time": "2022-07-20T11:52:30.514Z"
   },
   {
    "duration": 32,
    "start_time": "2022-07-20T11:52:30.529Z"
   },
   {
    "duration": 26,
    "start_time": "2022-07-20T11:52:30.562Z"
   },
   {
    "duration": 25,
    "start_time": "2022-07-20T11:52:30.590Z"
   },
   {
    "duration": 15,
    "start_time": "2022-07-20T11:52:30.617Z"
   },
   {
    "duration": 148,
    "start_time": "2022-07-20T11:52:30.645Z"
   },
   {
    "duration": 0,
    "start_time": "2022-07-20T11:52:30.795Z"
   },
   {
    "duration": 0,
    "start_time": "2022-07-20T11:52:30.797Z"
   },
   {
    "duration": 0,
    "start_time": "2022-07-20T11:52:30.798Z"
   },
   {
    "duration": 0,
    "start_time": "2022-07-20T11:52:30.799Z"
   },
   {
    "duration": 0,
    "start_time": "2022-07-20T11:52:30.800Z"
   },
   {
    "duration": 0,
    "start_time": "2022-07-20T11:52:30.801Z"
   },
   {
    "duration": 0,
    "start_time": "2022-07-20T11:52:30.802Z"
   },
   {
    "duration": 0,
    "start_time": "2022-07-20T11:52:30.803Z"
   },
   {
    "duration": 0,
    "start_time": "2022-07-20T11:52:30.804Z"
   },
   {
    "duration": 0,
    "start_time": "2022-07-20T11:52:30.805Z"
   },
   {
    "duration": 149,
    "start_time": "2022-07-20T11:53:23.577Z"
   },
   {
    "duration": 145,
    "start_time": "2022-07-20T11:53:29.909Z"
   },
   {
    "duration": 175,
    "start_time": "2022-07-20T11:53:41.473Z"
   },
   {
    "duration": 168,
    "start_time": "2022-07-20T11:54:10.192Z"
   },
   {
    "duration": 12,
    "start_time": "2022-07-20T11:54:40.587Z"
   },
   {
    "duration": 9,
    "start_time": "2022-07-20T11:55:01.877Z"
   },
   {
    "duration": 8,
    "start_time": "2022-07-20T11:55:32.707Z"
   },
   {
    "duration": 10,
    "start_time": "2022-07-20T11:56:00.396Z"
   },
   {
    "duration": 10,
    "start_time": "2022-07-20T11:56:16.525Z"
   },
   {
    "duration": 13,
    "start_time": "2022-07-20T11:56:29.083Z"
   },
   {
    "duration": 9,
    "start_time": "2022-07-20T11:56:42.693Z"
   },
   {
    "duration": 9,
    "start_time": "2022-07-20T11:59:19.962Z"
   },
   {
    "duration": 10,
    "start_time": "2022-07-20T11:59:29.379Z"
   },
   {
    "duration": 9,
    "start_time": "2022-07-20T11:59:42.986Z"
   },
   {
    "duration": 9,
    "start_time": "2022-07-20T11:59:57.597Z"
   },
   {
    "duration": 1390,
    "start_time": "2022-07-20T12:10:08.213Z"
   },
   {
    "duration": 180,
    "start_time": "2022-07-20T12:10:09.606Z"
   },
   {
    "duration": 29,
    "start_time": "2022-07-20T12:10:09.787Z"
   },
   {
    "duration": 3,
    "start_time": "2022-07-20T12:10:09.819Z"
   },
   {
    "duration": 37,
    "start_time": "2022-07-20T12:10:09.823Z"
   },
   {
    "duration": 21,
    "start_time": "2022-07-20T12:10:09.862Z"
   },
   {
    "duration": 82,
    "start_time": "2022-07-20T12:10:09.884Z"
   },
   {
    "duration": 66,
    "start_time": "2022-07-20T12:10:09.968Z"
   },
   {
    "duration": 87,
    "start_time": "2022-07-20T12:10:10.036Z"
   },
   {
    "duration": 28,
    "start_time": "2022-07-20T12:10:10.126Z"
   },
   {
    "duration": 98,
    "start_time": "2022-07-20T12:10:10.159Z"
   },
   {
    "duration": 44,
    "start_time": "2022-07-20T12:10:10.259Z"
   },
   {
    "duration": 16,
    "start_time": "2022-07-20T12:10:10.305Z"
   },
   {
    "duration": 30,
    "start_time": "2022-07-20T12:10:10.323Z"
   },
   {
    "duration": 7,
    "start_time": "2022-07-20T12:10:10.354Z"
   },
   {
    "duration": 26,
    "start_time": "2022-07-20T12:10:10.362Z"
   },
   {
    "duration": 122,
    "start_time": "2022-07-20T12:10:10.390Z"
   },
   {
    "duration": 85,
    "start_time": "2022-07-20T12:10:10.514Z"
   },
   {
    "duration": 264,
    "start_time": "2022-07-20T12:10:10.600Z"
   },
   {
    "duration": 3,
    "start_time": "2022-07-20T12:10:10.866Z"
   },
   {
    "duration": 455,
    "start_time": "2022-07-20T12:10:10.870Z"
   },
   {
    "duration": 39,
    "start_time": "2022-07-20T12:10:11.326Z"
   },
   {
    "duration": 11,
    "start_time": "2022-07-20T12:10:11.367Z"
   },
   {
    "duration": 327,
    "start_time": "2022-07-20T12:10:11.379Z"
   },
   {
    "duration": 19,
    "start_time": "2022-07-20T12:10:11.708Z"
   },
   {
    "duration": 213,
    "start_time": "2022-07-20T12:10:11.729Z"
   },
   {
    "duration": 39,
    "start_time": "2022-07-20T12:10:11.946Z"
   },
   {
    "duration": 209,
    "start_time": "2022-07-20T12:10:11.988Z"
   },
   {
    "duration": 69,
    "start_time": "2022-07-20T12:10:12.199Z"
   },
   {
    "duration": 515,
    "start_time": "2022-07-20T12:10:12.271Z"
   },
   {
    "duration": 13,
    "start_time": "2022-07-20T12:10:12.788Z"
   },
   {
    "duration": 21,
    "start_time": "2022-07-20T12:10:12.803Z"
   },
   {
    "duration": 36,
    "start_time": "2022-07-20T12:10:12.825Z"
   },
   {
    "duration": 34,
    "start_time": "2022-07-20T12:10:12.863Z"
   },
   {
    "duration": 3,
    "start_time": "2022-07-20T12:10:12.899Z"
   },
   {
    "duration": 12,
    "start_time": "2022-07-20T12:10:12.904Z"
   },
   {
    "duration": 10,
    "start_time": "2022-07-20T12:10:12.918Z"
   },
   {
    "duration": 26,
    "start_time": "2022-07-20T12:10:12.929Z"
   },
   {
    "duration": 151,
    "start_time": "2022-07-20T12:10:12.956Z"
   },
   {
    "duration": 0,
    "start_time": "2022-07-20T12:10:13.109Z"
   },
   {
    "duration": 0,
    "start_time": "2022-07-20T12:10:13.110Z"
   },
   {
    "duration": 0,
    "start_time": "2022-07-20T12:10:13.111Z"
   },
   {
    "duration": 0,
    "start_time": "2022-07-20T12:10:13.113Z"
   },
   {
    "duration": 0,
    "start_time": "2022-07-20T12:10:13.114Z"
   },
   {
    "duration": 0,
    "start_time": "2022-07-20T12:10:13.116Z"
   },
   {
    "duration": 0,
    "start_time": "2022-07-20T12:10:13.117Z"
   },
   {
    "duration": 2,
    "start_time": "2022-07-20T12:12:58.354Z"
   },
   {
    "duration": 35,
    "start_time": "2022-07-20T12:12:58.904Z"
   },
   {
    "duration": 4,
    "start_time": "2022-07-20T12:13:01.210Z"
   },
   {
    "duration": 60,
    "start_time": "2022-07-20T12:13:49.361Z"
   },
   {
    "duration": 3,
    "start_time": "2022-07-20T12:14:31.137Z"
   },
   {
    "duration": 75,
    "start_time": "2022-07-20T12:14:38.195Z"
   },
   {
    "duration": 28,
    "start_time": "2022-07-20T12:14:41.896Z"
   },
   {
    "duration": 509,
    "start_time": "2022-07-20T12:14:43.053Z"
   },
   {
    "duration": 1299,
    "start_time": "2022-07-20T12:51:08.026Z"
   },
   {
    "duration": 177,
    "start_time": "2022-07-20T12:51:09.327Z"
   },
   {
    "duration": 32,
    "start_time": "2022-07-20T12:51:09.506Z"
   },
   {
    "duration": 7,
    "start_time": "2022-07-20T12:51:09.551Z"
   },
   {
    "duration": 20,
    "start_time": "2022-07-20T12:51:09.559Z"
   },
   {
    "duration": 21,
    "start_time": "2022-07-20T12:51:09.580Z"
   },
   {
    "duration": 81,
    "start_time": "2022-07-20T12:51:09.603Z"
   },
   {
    "duration": 76,
    "start_time": "2022-07-20T12:51:09.685Z"
   },
   {
    "duration": 74,
    "start_time": "2022-07-20T12:51:09.762Z"
   },
   {
    "duration": 18,
    "start_time": "2022-07-20T12:51:09.852Z"
   },
   {
    "duration": 90,
    "start_time": "2022-07-20T12:51:09.871Z"
   },
   {
    "duration": 28,
    "start_time": "2022-07-20T12:51:09.962Z"
   },
   {
    "duration": 17,
    "start_time": "2022-07-20T12:51:09.992Z"
   },
   {
    "duration": 8,
    "start_time": "2022-07-20T12:51:10.011Z"
   },
   {
    "duration": 26,
    "start_time": "2022-07-20T12:51:10.020Z"
   },
   {
    "duration": 37,
    "start_time": "2022-07-20T12:51:10.048Z"
   },
   {
    "duration": 119,
    "start_time": "2022-07-20T12:51:10.087Z"
   },
   {
    "duration": 72,
    "start_time": "2022-07-20T12:51:10.208Z"
   },
   {
    "duration": 230,
    "start_time": "2022-07-20T12:51:10.281Z"
   },
   {
    "duration": 3,
    "start_time": "2022-07-20T12:51:10.513Z"
   },
   {
    "duration": 457,
    "start_time": "2022-07-20T12:51:10.518Z"
   },
   {
    "duration": 27,
    "start_time": "2022-07-20T12:51:10.978Z"
   },
   {
    "duration": 11,
    "start_time": "2022-07-20T12:51:11.006Z"
   },
   {
    "duration": 305,
    "start_time": "2022-07-20T12:51:11.019Z"
   },
   {
    "duration": 36,
    "start_time": "2022-07-20T12:51:11.325Z"
   },
   {
    "duration": 208,
    "start_time": "2022-07-20T12:51:11.362Z"
   },
   {
    "duration": 36,
    "start_time": "2022-07-20T12:51:11.572Z"
   },
   {
    "duration": 169,
    "start_time": "2022-07-20T12:51:11.611Z"
   },
   {
    "duration": 65,
    "start_time": "2022-07-20T12:51:11.782Z"
   },
   {
    "duration": 504,
    "start_time": "2022-07-20T12:51:11.856Z"
   },
   {
    "duration": 12,
    "start_time": "2022-07-20T12:51:12.362Z"
   },
   {
    "duration": 10,
    "start_time": "2022-07-20T12:51:12.376Z"
   },
   {
    "duration": 13,
    "start_time": "2022-07-20T12:51:12.388Z"
   },
   {
    "duration": 54,
    "start_time": "2022-07-20T12:51:12.402Z"
   },
   {
    "duration": 5,
    "start_time": "2022-07-20T12:51:12.460Z"
   },
   {
    "duration": 18,
    "start_time": "2022-07-20T12:51:12.466Z"
   },
   {
    "duration": 13,
    "start_time": "2022-07-20T12:51:12.486Z"
   },
   {
    "duration": 47,
    "start_time": "2022-07-20T12:51:12.501Z"
   },
   {
    "duration": 7,
    "start_time": "2022-07-20T12:51:12.556Z"
   },
   {
    "duration": 36,
    "start_time": "2022-07-20T12:51:12.565Z"
   },
   {
    "duration": 5,
    "start_time": "2022-07-20T12:51:12.602Z"
   },
   {
    "duration": 66,
    "start_time": "2022-07-20T12:51:12.609Z"
   },
   {
    "duration": 17,
    "start_time": "2022-07-20T12:51:12.677Z"
   },
   {
    "duration": 509,
    "start_time": "2022-07-20T12:51:12.696Z"
   },
   {
    "duration": 268,
    "start_time": "2022-07-20T12:51:13.208Z"
   },
   {
    "duration": 1296,
    "start_time": "2022-07-20T14:53:40.675Z"
   },
   {
    "duration": 175,
    "start_time": "2022-07-20T14:53:41.973Z"
   },
   {
    "duration": 48,
    "start_time": "2022-07-20T14:53:42.156Z"
   },
   {
    "duration": 4,
    "start_time": "2022-07-20T14:53:42.206Z"
   },
   {
    "duration": 19,
    "start_time": "2022-07-20T14:53:42.212Z"
   },
   {
    "duration": 43,
    "start_time": "2022-07-20T14:53:42.234Z"
   },
   {
    "duration": 82,
    "start_time": "2022-07-20T14:53:42.280Z"
   },
   {
    "duration": 63,
    "start_time": "2022-07-20T14:53:42.372Z"
   },
   {
    "duration": 74,
    "start_time": "2022-07-20T14:53:42.437Z"
   },
   {
    "duration": 14,
    "start_time": "2022-07-20T14:53:42.513Z"
   },
   {
    "duration": 107,
    "start_time": "2022-07-20T14:53:42.528Z"
   },
   {
    "duration": 51,
    "start_time": "2022-07-20T14:53:42.637Z"
   },
   {
    "duration": 18,
    "start_time": "2022-07-20T14:53:42.690Z"
   },
   {
    "duration": 44,
    "start_time": "2022-07-20T14:53:42.712Z"
   },
   {
    "duration": 12,
    "start_time": "2022-07-20T14:53:42.764Z"
   },
   {
    "duration": 25,
    "start_time": "2022-07-20T14:53:42.779Z"
   },
   {
    "duration": 124,
    "start_time": "2022-07-20T14:53:42.805Z"
   },
   {
    "duration": 77,
    "start_time": "2022-07-20T14:53:42.931Z"
   },
   {
    "duration": 259,
    "start_time": "2022-07-20T14:53:43.010Z"
   },
   {
    "duration": 4,
    "start_time": "2022-07-20T14:53:43.270Z"
   },
   {
    "duration": 444,
    "start_time": "2022-07-20T14:53:43.279Z"
   },
   {
    "duration": 52,
    "start_time": "2022-07-20T14:53:43.724Z"
   },
   {
    "duration": 14,
    "start_time": "2022-07-20T14:53:43.778Z"
   },
   {
    "duration": 319,
    "start_time": "2022-07-20T14:53:43.793Z"
   },
   {
    "duration": 20,
    "start_time": "2022-07-20T14:53:44.114Z"
   },
   {
    "duration": 227,
    "start_time": "2022-07-20T14:53:44.135Z"
   },
   {
    "duration": 38,
    "start_time": "2022-07-20T14:53:44.367Z"
   },
   {
    "duration": 203,
    "start_time": "2022-07-20T14:53:44.407Z"
   },
   {
    "duration": 69,
    "start_time": "2022-07-20T14:53:44.612Z"
   },
   {
    "duration": 1893,
    "start_time": "2022-07-20T14:53:44.684Z"
   },
   {
    "duration": 12,
    "start_time": "2022-07-20T14:53:46.580Z"
   },
   {
    "duration": 7,
    "start_time": "2022-07-20T14:53:46.594Z"
   },
   {
    "duration": 48,
    "start_time": "2022-07-20T14:53:46.603Z"
   },
   {
    "duration": 37,
    "start_time": "2022-07-20T14:53:46.653Z"
   },
   {
    "duration": 5,
    "start_time": "2022-07-20T14:53:46.692Z"
   },
   {
    "duration": 13,
    "start_time": "2022-07-20T14:53:46.699Z"
   },
   {
    "duration": 41,
    "start_time": "2022-07-20T14:53:46.714Z"
   },
   {
    "duration": 30,
    "start_time": "2022-07-20T14:53:46.757Z"
   },
   {
    "duration": 5,
    "start_time": "2022-07-20T14:53:46.789Z"
   },
   {
    "duration": 32,
    "start_time": "2022-07-20T14:53:46.796Z"
   },
   {
    "duration": 4,
    "start_time": "2022-07-20T14:53:46.832Z"
   },
   {
    "duration": 73,
    "start_time": "2022-07-20T14:53:46.837Z"
   },
   {
    "duration": 18,
    "start_time": "2022-07-20T14:53:46.912Z"
   },
   {
    "duration": 526,
    "start_time": "2022-07-20T14:53:46.932Z"
   },
   {
    "duration": 305,
    "start_time": "2022-07-20T14:53:47.460Z"
   },
   {
    "duration": 212,
    "start_time": "2022-07-20T14:55:20.676Z"
   },
   {
    "duration": 1445,
    "start_time": "2022-07-20T14:55:54.023Z"
   },
   {
    "duration": 244,
    "start_time": "2022-07-20T14:55:55.472Z"
   },
   {
    "duration": 58,
    "start_time": "2022-07-20T14:55:55.718Z"
   },
   {
    "duration": 4,
    "start_time": "2022-07-20T14:55:55.783Z"
   },
   {
    "duration": 24,
    "start_time": "2022-07-20T14:55:55.789Z"
   },
   {
    "duration": 20,
    "start_time": "2022-07-20T14:55:55.815Z"
   },
   {
    "duration": 90,
    "start_time": "2022-07-20T14:55:55.836Z"
   },
   {
    "duration": 90,
    "start_time": "2022-07-20T14:55:55.928Z"
   },
   {
    "duration": 103,
    "start_time": "2022-07-20T14:55:56.020Z"
   },
   {
    "duration": 31,
    "start_time": "2022-07-20T14:55:56.124Z"
   },
   {
    "duration": 164,
    "start_time": "2022-07-20T14:55:56.157Z"
   },
   {
    "duration": 69,
    "start_time": "2022-07-20T14:55:56.323Z"
   },
   {
    "duration": 53,
    "start_time": "2022-07-20T14:55:56.394Z"
   },
   {
    "duration": 78,
    "start_time": "2022-07-20T14:55:56.450Z"
   },
   {
    "duration": 69,
    "start_time": "2022-07-20T14:55:56.530Z"
   },
   {
    "duration": 64,
    "start_time": "2022-07-20T14:55:56.601Z"
   },
   {
    "duration": 207,
    "start_time": "2022-07-20T14:55:56.668Z"
   },
   {
    "duration": 80,
    "start_time": "2022-07-20T14:55:56.879Z"
   },
   {
    "duration": 310,
    "start_time": "2022-07-20T14:55:56.961Z"
   },
   {
    "duration": 9,
    "start_time": "2022-07-20T14:55:57.273Z"
   },
   {
    "duration": 526,
    "start_time": "2022-07-20T14:55:57.284Z"
   },
   {
    "duration": 39,
    "start_time": "2022-07-20T14:55:57.812Z"
   },
   {
    "duration": 38,
    "start_time": "2022-07-20T14:55:57.853Z"
   },
   {
    "duration": 330,
    "start_time": "2022-07-20T14:55:57.892Z"
   },
   {
    "duration": 47,
    "start_time": "2022-07-20T14:55:58.224Z"
   },
   {
    "duration": 228,
    "start_time": "2022-07-20T14:55:58.274Z"
   },
   {
    "duration": 51,
    "start_time": "2022-07-20T14:55:58.503Z"
   },
   {
    "duration": 199,
    "start_time": "2022-07-20T14:55:58.555Z"
   },
   {
    "duration": 68,
    "start_time": "2022-07-20T14:55:58.756Z"
   },
   {
    "duration": 711,
    "start_time": "2022-07-20T14:55:58.826Z"
   },
   {
    "duration": 40,
    "start_time": "2022-07-20T14:55:59.538Z"
   },
   {
    "duration": 28,
    "start_time": "2022-07-20T14:55:59.580Z"
   },
   {
    "duration": 44,
    "start_time": "2022-07-20T14:55:59.610Z"
   },
   {
    "duration": 24,
    "start_time": "2022-07-20T14:55:59.658Z"
   },
   {
    "duration": 30,
    "start_time": "2022-07-20T14:55:59.684Z"
   },
   {
    "duration": 21,
    "start_time": "2022-07-20T14:55:59.715Z"
   },
   {
    "duration": 29,
    "start_time": "2022-07-20T14:55:59.738Z"
   },
   {
    "duration": 23,
    "start_time": "2022-07-20T14:55:59.773Z"
   },
   {
    "duration": 6,
    "start_time": "2022-07-20T14:55:59.798Z"
   },
   {
    "duration": 40,
    "start_time": "2022-07-20T14:55:59.805Z"
   },
   {
    "duration": 5,
    "start_time": "2022-07-20T14:55:59.857Z"
   },
   {
    "duration": 83,
    "start_time": "2022-07-20T14:55:59.864Z"
   },
   {
    "duration": 43,
    "start_time": "2022-07-20T14:55:59.950Z"
   },
   {
    "duration": 608,
    "start_time": "2022-07-20T14:55:59.996Z"
   },
   {
    "duration": 366,
    "start_time": "2022-07-20T14:56:00.606Z"
   },
   {
    "duration": 397,
    "start_time": "2022-07-20T14:56:35.810Z"
   },
   {
    "duration": 1307,
    "start_time": "2022-07-20T14:57:16.775Z"
   },
   {
    "duration": 195,
    "start_time": "2022-07-20T14:57:18.085Z"
   },
   {
    "duration": 42,
    "start_time": "2022-07-20T14:57:18.286Z"
   },
   {
    "duration": 4,
    "start_time": "2022-07-20T14:57:18.332Z"
   },
   {
    "duration": 29,
    "start_time": "2022-07-20T14:57:18.339Z"
   },
   {
    "duration": 38,
    "start_time": "2022-07-20T14:57:18.370Z"
   },
   {
    "duration": 74,
    "start_time": "2022-07-20T14:57:18.411Z"
   },
   {
    "duration": 82,
    "start_time": "2022-07-20T14:57:18.487Z"
   },
   {
    "duration": 85,
    "start_time": "2022-07-20T14:57:18.576Z"
   },
   {
    "duration": 24,
    "start_time": "2022-07-20T14:57:18.670Z"
   },
   {
    "duration": 110,
    "start_time": "2022-07-20T14:57:18.695Z"
   },
   {
    "duration": 68,
    "start_time": "2022-07-20T14:57:18.807Z"
   },
   {
    "duration": 25,
    "start_time": "2022-07-20T14:57:18.887Z"
   },
   {
    "duration": 12,
    "start_time": "2022-07-20T14:57:18.916Z"
   },
   {
    "duration": 5,
    "start_time": "2022-07-20T14:57:18.930Z"
   },
   {
    "duration": 52,
    "start_time": "2022-07-20T14:57:18.936Z"
   },
   {
    "duration": 187,
    "start_time": "2022-07-20T14:57:18.991Z"
   },
   {
    "duration": 92,
    "start_time": "2022-07-20T14:57:19.183Z"
   },
   {
    "duration": 325,
    "start_time": "2022-07-20T14:57:19.277Z"
   },
   {
    "duration": 3,
    "start_time": "2022-07-20T14:57:19.604Z"
   },
   {
    "duration": 479,
    "start_time": "2022-07-20T14:57:19.609Z"
   },
   {
    "duration": 24,
    "start_time": "2022-07-20T14:57:20.090Z"
   },
   {
    "duration": 13,
    "start_time": "2022-07-20T14:57:20.115Z"
   },
   {
    "duration": 371,
    "start_time": "2022-07-20T14:57:20.129Z"
   },
   {
    "duration": 26,
    "start_time": "2022-07-20T14:57:20.502Z"
   },
   {
    "duration": 250,
    "start_time": "2022-07-20T14:57:20.530Z"
   },
   {
    "duration": 35,
    "start_time": "2022-07-20T14:57:20.781Z"
   },
   {
    "duration": 198,
    "start_time": "2022-07-20T14:57:20.818Z"
   },
   {
    "duration": 76,
    "start_time": "2022-07-20T14:57:21.018Z"
   },
   {
    "duration": 577,
    "start_time": "2022-07-20T14:57:21.095Z"
   },
   {
    "duration": 15,
    "start_time": "2022-07-20T14:57:21.678Z"
   },
   {
    "duration": 21,
    "start_time": "2022-07-20T14:57:21.695Z"
   },
   {
    "duration": 46,
    "start_time": "2022-07-20T14:57:21.719Z"
   },
   {
    "duration": 32,
    "start_time": "2022-07-20T14:57:21.768Z"
   },
   {
    "duration": 47,
    "start_time": "2022-07-20T14:57:21.802Z"
   },
   {
    "duration": 41,
    "start_time": "2022-07-20T14:57:21.852Z"
   },
   {
    "duration": 9,
    "start_time": "2022-07-20T14:57:21.895Z"
   },
   {
    "duration": 13,
    "start_time": "2022-07-20T14:57:21.906Z"
   },
   {
    "duration": 9,
    "start_time": "2022-07-20T14:57:21.920Z"
   },
   {
    "duration": 54,
    "start_time": "2022-07-20T14:57:21.931Z"
   },
   {
    "duration": 4,
    "start_time": "2022-07-20T14:57:21.989Z"
   },
   {
    "duration": 78,
    "start_time": "2022-07-20T14:57:21.995Z"
   },
   {
    "duration": 21,
    "start_time": "2022-07-20T14:57:22.082Z"
   },
   {
    "duration": 574,
    "start_time": "2022-07-20T14:57:22.105Z"
   },
   {
    "duration": 299,
    "start_time": "2022-07-20T14:57:22.684Z"
   },
   {
    "duration": 15,
    "start_time": "2022-07-20T14:58:53.675Z"
   },
   {
    "duration": 176,
    "start_time": "2022-07-20T14:59:07.377Z"
   },
   {
    "duration": 2364,
    "start_time": "2022-07-20T14:59:21.553Z"
   },
   {
    "duration": 1426,
    "start_time": "2022-07-20T14:59:28.672Z"
   },
   {
    "duration": 187,
    "start_time": "2022-07-20T14:59:30.101Z"
   },
   {
    "duration": 30,
    "start_time": "2022-07-20T14:59:30.291Z"
   },
   {
    "duration": 3,
    "start_time": "2022-07-20T14:59:30.324Z"
   },
   {
    "duration": 59,
    "start_time": "2022-07-20T14:59:30.331Z"
   },
   {
    "duration": 24,
    "start_time": "2022-07-20T14:59:30.392Z"
   },
   {
    "duration": 97,
    "start_time": "2022-07-20T14:59:30.418Z"
   },
   {
    "duration": 77,
    "start_time": "2022-07-20T14:59:30.517Z"
   },
   {
    "duration": 93,
    "start_time": "2022-07-20T14:59:30.596Z"
   },
   {
    "duration": 26,
    "start_time": "2022-07-20T14:59:30.692Z"
   },
   {
    "duration": 139,
    "start_time": "2022-07-20T14:59:30.720Z"
   },
   {
    "duration": 44,
    "start_time": "2022-07-20T14:59:30.866Z"
   },
   {
    "duration": 23,
    "start_time": "2022-07-20T14:59:30.912Z"
   },
   {
    "duration": 14,
    "start_time": "2022-07-20T14:59:30.938Z"
   },
   {
    "duration": 38,
    "start_time": "2022-07-20T14:59:30.954Z"
   },
   {
    "duration": 26,
    "start_time": "2022-07-20T14:59:30.994Z"
   },
   {
    "duration": 172,
    "start_time": "2022-07-20T14:59:31.022Z"
   },
   {
    "duration": 110,
    "start_time": "2022-07-20T14:59:31.197Z"
   },
   {
    "duration": 283,
    "start_time": "2022-07-20T14:59:31.309Z"
   },
   {
    "duration": 3,
    "start_time": "2022-07-20T14:59:31.594Z"
   },
   {
    "duration": 496,
    "start_time": "2022-07-20T14:59:31.599Z"
   },
   {
    "duration": 27,
    "start_time": "2022-07-20T14:59:32.097Z"
   },
   {
    "duration": 45,
    "start_time": "2022-07-20T14:59:32.125Z"
   },
   {
    "duration": 315,
    "start_time": "2022-07-20T14:59:32.180Z"
   },
   {
    "duration": 2308,
    "start_time": "2022-07-20T14:59:32.497Z"
   },
   {
    "duration": 14,
    "start_time": "2022-07-20T14:59:34.807Z"
   },
   {
    "duration": 53,
    "start_time": "2022-07-20T14:59:34.823Z"
   },
   {
    "duration": 230,
    "start_time": "2022-07-20T14:59:34.880Z"
   },
   {
    "duration": 62,
    "start_time": "2022-07-20T14:59:35.112Z"
   },
   {
    "duration": 289,
    "start_time": "2022-07-20T14:59:35.176Z"
   },
   {
    "duration": 75,
    "start_time": "2022-07-20T14:59:35.467Z"
   },
   {
    "duration": 541,
    "start_time": "2022-07-20T14:59:35.547Z"
   },
   {
    "duration": 23,
    "start_time": "2022-07-20T14:59:36.094Z"
   },
   {
    "duration": 7,
    "start_time": "2022-07-20T14:59:36.118Z"
   },
   {
    "duration": 18,
    "start_time": "2022-07-20T14:59:36.145Z"
   },
   {
    "duration": 37,
    "start_time": "2022-07-20T14:59:36.165Z"
   },
   {
    "duration": 6,
    "start_time": "2022-07-20T14:59:36.204Z"
   },
   {
    "duration": 53,
    "start_time": "2022-07-20T14:59:36.212Z"
   },
   {
    "duration": 26,
    "start_time": "2022-07-20T14:59:36.270Z"
   },
   {
    "duration": 5,
    "start_time": "2022-07-20T14:59:36.299Z"
   },
   {
    "duration": 4,
    "start_time": "2022-07-20T14:59:36.307Z"
   },
   {
    "duration": 42,
    "start_time": "2022-07-20T14:59:36.312Z"
   },
   {
    "duration": 5,
    "start_time": "2022-07-20T14:59:36.355Z"
   },
   {
    "duration": 77,
    "start_time": "2022-07-20T14:59:36.361Z"
   },
   {
    "duration": 41,
    "start_time": "2022-07-20T14:59:36.440Z"
   },
   {
    "duration": 513,
    "start_time": "2022-07-20T14:59:36.485Z"
   },
   {
    "duration": 293,
    "start_time": "2022-07-20T14:59:37.000Z"
   },
   {
    "duration": 331,
    "start_time": "2022-07-20T15:01:01.520Z"
   },
   {
    "duration": 160,
    "start_time": "2022-07-20T15:01:39.797Z"
   },
   {
    "duration": 1489,
    "start_time": "2022-07-20T15:01:44.571Z"
   },
   {
    "duration": 172,
    "start_time": "2022-07-20T15:01:46.070Z"
   },
   {
    "duration": 42,
    "start_time": "2022-07-20T15:01:46.244Z"
   },
   {
    "duration": 4,
    "start_time": "2022-07-20T15:01:46.289Z"
   },
   {
    "duration": 25,
    "start_time": "2022-07-20T15:01:46.294Z"
   },
   {
    "duration": 50,
    "start_time": "2022-07-20T15:01:46.322Z"
   },
   {
    "duration": 90,
    "start_time": "2022-07-20T15:01:46.374Z"
   },
   {
    "duration": 69,
    "start_time": "2022-07-20T15:01:46.470Z"
   },
   {
    "duration": 107,
    "start_time": "2022-07-20T15:01:46.542Z"
   },
   {
    "duration": 28,
    "start_time": "2022-07-20T15:01:46.652Z"
   },
   {
    "duration": 108,
    "start_time": "2022-07-20T15:01:46.682Z"
   },
   {
    "duration": 30,
    "start_time": "2022-07-20T15:01:46.792Z"
   },
   {
    "duration": 46,
    "start_time": "2022-07-20T15:01:46.824Z"
   },
   {
    "duration": 17,
    "start_time": "2022-07-20T15:01:46.872Z"
   },
   {
    "duration": 4,
    "start_time": "2022-07-20T15:01:46.891Z"
   },
   {
    "duration": 25,
    "start_time": "2022-07-20T15:01:46.897Z"
   },
   {
    "duration": 207,
    "start_time": "2022-07-20T15:01:46.924Z"
   },
   {
    "duration": 114,
    "start_time": "2022-07-20T15:01:47.133Z"
   },
   {
    "duration": 251,
    "start_time": "2022-07-20T15:01:47.250Z"
   },
   {
    "duration": 4,
    "start_time": "2022-07-20T15:01:47.503Z"
   },
   {
    "duration": 469,
    "start_time": "2022-07-20T15:01:47.508Z"
   },
   {
    "duration": 26,
    "start_time": "2022-07-20T15:01:47.979Z"
   },
   {
    "duration": 15,
    "start_time": "2022-07-20T15:01:48.007Z"
   },
   {
    "duration": 336,
    "start_time": "2022-07-20T15:01:48.024Z"
   },
   {
    "duration": 2355,
    "start_time": "2022-07-20T15:01:48.368Z"
   },
   {
    "duration": 38,
    "start_time": "2022-07-20T15:01:50.725Z"
   },
   {
    "duration": 215,
    "start_time": "2022-07-20T15:01:50.765Z"
   },
   {
    "duration": 35,
    "start_time": "2022-07-20T15:01:50.986Z"
   },
   {
    "duration": 197,
    "start_time": "2022-07-20T15:01:51.023Z"
   },
   {
    "duration": 84,
    "start_time": "2022-07-20T15:01:51.222Z"
   },
   {
    "duration": 604,
    "start_time": "2022-07-20T15:01:51.308Z"
   },
   {
    "duration": 15,
    "start_time": "2022-07-20T15:01:51.914Z"
   },
   {
    "duration": 46,
    "start_time": "2022-07-20T15:01:51.931Z"
   },
   {
    "duration": 72,
    "start_time": "2022-07-20T15:01:51.979Z"
   },
   {
    "duration": 17,
    "start_time": "2022-07-20T15:01:52.052Z"
   },
   {
    "duration": 19,
    "start_time": "2022-07-20T15:01:52.071Z"
   },
   {
    "duration": 24,
    "start_time": "2022-07-20T15:01:52.092Z"
   },
   {
    "duration": 36,
    "start_time": "2022-07-20T15:01:52.118Z"
   },
   {
    "duration": 30,
    "start_time": "2022-07-20T15:01:52.157Z"
   },
   {
    "duration": 11,
    "start_time": "2022-07-20T15:01:52.194Z"
   },
   {
    "duration": 45,
    "start_time": "2022-07-20T15:01:52.207Z"
   },
   {
    "duration": 6,
    "start_time": "2022-07-20T15:01:52.256Z"
   },
   {
    "duration": 55,
    "start_time": "2022-07-20T15:01:52.263Z"
   },
   {
    "duration": 35,
    "start_time": "2022-07-20T15:01:52.320Z"
   },
   {
    "duration": 542,
    "start_time": "2022-07-20T15:01:52.357Z"
   },
   {
    "duration": 299,
    "start_time": "2022-07-20T15:01:52.901Z"
   },
   {
    "duration": 230,
    "start_time": "2022-07-20T15:03:09.068Z"
   },
   {
    "duration": 17,
    "start_time": "2022-07-20T15:03:12.797Z"
   },
   {
    "duration": 11,
    "start_time": "2022-07-20T15:03:21.896Z"
   },
   {
    "duration": 14,
    "start_time": "2022-07-20T15:05:04.851Z"
   },
   {
    "duration": 11,
    "start_time": "2022-07-20T15:05:16.958Z"
   },
   {
    "duration": 10,
    "start_time": "2022-07-20T15:05:24.203Z"
   },
   {
    "duration": 4,
    "start_time": "2022-07-20T15:06:14.292Z"
   },
   {
    "duration": 9,
    "start_time": "2022-07-20T15:06:18.558Z"
   },
   {
    "duration": 11,
    "start_time": "2022-07-20T15:06:21.561Z"
   },
   {
    "duration": 14,
    "start_time": "2022-07-20T15:07:29.159Z"
   },
   {
    "duration": 12,
    "start_time": "2022-07-20T15:07:31.565Z"
   },
   {
    "duration": 10,
    "start_time": "2022-07-20T15:07:39.472Z"
   },
   {
    "duration": 22,
    "start_time": "2022-07-20T15:07:42.452Z"
   },
   {
    "duration": 10,
    "start_time": "2022-07-20T15:08:28.707Z"
   },
   {
    "duration": 9,
    "start_time": "2022-07-20T15:08:33.391Z"
   },
   {
    "duration": 10,
    "start_time": "2022-07-20T15:08:56.763Z"
   },
   {
    "duration": 14,
    "start_time": "2022-07-20T15:09:00.740Z"
   },
   {
    "duration": 4,
    "start_time": "2022-07-20T15:09:28.661Z"
   },
   {
    "duration": 10,
    "start_time": "2022-07-20T15:09:36.624Z"
   },
   {
    "duration": 10,
    "start_time": "2022-07-20T15:09:40.214Z"
   },
   {
    "duration": 49,
    "start_time": "2022-07-21T06:00:37.158Z"
   },
   {
    "duration": 1456,
    "start_time": "2022-07-21T06:01:16.320Z"
   },
   {
    "duration": 676,
    "start_time": "2022-07-21T06:01:17.778Z"
   },
   {
    "duration": 32,
    "start_time": "2022-07-21T06:01:18.456Z"
   },
   {
    "duration": 4,
    "start_time": "2022-07-21T06:01:18.490Z"
   },
   {
    "duration": 31,
    "start_time": "2022-07-21T06:01:18.495Z"
   },
   {
    "duration": 35,
    "start_time": "2022-07-21T06:01:18.529Z"
   },
   {
    "duration": 65,
    "start_time": "2022-07-21T06:01:18.566Z"
   },
   {
    "duration": 81,
    "start_time": "2022-07-21T06:01:18.633Z"
   },
   {
    "duration": 92,
    "start_time": "2022-07-21T06:01:18.716Z"
   },
   {
    "duration": 16,
    "start_time": "2022-07-21T06:01:18.810Z"
   },
   {
    "duration": 95,
    "start_time": "2022-07-21T06:01:18.828Z"
   },
   {
    "duration": 50,
    "start_time": "2022-07-21T06:01:18.925Z"
   },
   {
    "duration": 30,
    "start_time": "2022-07-21T06:01:18.977Z"
   },
   {
    "duration": 11,
    "start_time": "2022-07-21T06:01:19.009Z"
   },
   {
    "duration": 5,
    "start_time": "2022-07-21T06:01:19.022Z"
   },
   {
    "duration": 69,
    "start_time": "2022-07-21T06:01:19.029Z"
   },
   {
    "duration": 128,
    "start_time": "2022-07-21T06:01:19.100Z"
   },
   {
    "duration": 73,
    "start_time": "2022-07-21T06:01:19.230Z"
   },
   {
    "duration": 262,
    "start_time": "2022-07-21T06:01:19.305Z"
   },
   {
    "duration": 3,
    "start_time": "2022-07-21T06:01:19.569Z"
   },
   {
    "duration": 420,
    "start_time": "2022-07-21T06:01:19.574Z"
   },
   {
    "duration": 24,
    "start_time": "2022-07-21T06:01:19.996Z"
   },
   {
    "duration": 11,
    "start_time": "2022-07-21T06:01:20.022Z"
   },
   {
    "duration": 334,
    "start_time": "2022-07-21T06:01:20.035Z"
   },
   {
    "duration": 2114,
    "start_time": "2022-07-21T06:01:20.373Z"
   },
   {
    "duration": 19,
    "start_time": "2022-07-21T06:01:22.490Z"
   },
   {
    "duration": 282,
    "start_time": "2022-07-21T06:01:22.511Z"
   },
   {
    "duration": 50,
    "start_time": "2022-07-21T06:01:22.801Z"
   },
   {
    "duration": 205,
    "start_time": "2022-07-21T06:01:22.853Z"
   },
   {
    "duration": 57,
    "start_time": "2022-07-21T06:01:23.064Z"
   },
   {
    "duration": 536,
    "start_time": "2022-07-21T06:01:23.122Z"
   },
   {
    "duration": 20,
    "start_time": "2022-07-21T06:01:23.661Z"
   },
   {
    "duration": 14,
    "start_time": "2022-07-21T06:01:23.683Z"
   },
   {
    "duration": 22,
    "start_time": "2022-07-21T06:01:23.699Z"
   },
   {
    "duration": 18,
    "start_time": "2022-07-21T06:01:23.764Z"
   },
   {
    "duration": 8,
    "start_time": "2022-07-21T06:01:23.784Z"
   },
   {
    "duration": 26,
    "start_time": "2022-07-21T06:01:23.794Z"
   },
   {
    "duration": 47,
    "start_time": "2022-07-21T06:01:23.822Z"
   },
   {
    "duration": 16,
    "start_time": "2022-07-21T06:01:23.872Z"
   },
   {
    "duration": 8,
    "start_time": "2022-07-21T06:01:23.890Z"
   },
   {
    "duration": 69,
    "start_time": "2022-07-21T06:01:23.900Z"
   },
   {
    "duration": 5,
    "start_time": "2022-07-21T06:01:23.971Z"
   },
   {
    "duration": 63,
    "start_time": "2022-07-21T06:01:23.977Z"
   },
   {
    "duration": 27,
    "start_time": "2022-07-21T06:01:24.042Z"
   },
   {
    "duration": 517,
    "start_time": "2022-07-21T06:01:24.071Z"
   },
   {
    "duration": 297,
    "start_time": "2022-07-21T06:01:24.590Z"
   },
   {
    "duration": 1083,
    "start_time": "2022-07-21T06:02:39.181Z"
   },
   {
    "duration": 1961,
    "start_time": "2022-07-21T06:02:45.902Z"
   },
   {
    "duration": 94,
    "start_time": "2022-07-21T06:06:34.241Z"
   },
   {
    "duration": 90,
    "start_time": "2022-07-21T06:06:50.078Z"
   },
   {
    "duration": 66,
    "start_time": "2022-07-21T06:07:09.316Z"
   },
   {
    "duration": 160,
    "start_time": "2022-07-21T06:07:36.088Z"
   },
   {
    "duration": 11,
    "start_time": "2022-07-21T06:07:44.094Z"
   },
   {
    "duration": 21,
    "start_time": "2022-07-21T06:07:51.887Z"
   },
   {
    "duration": 88,
    "start_time": "2022-07-21T06:09:59.554Z"
   },
   {
    "duration": 10,
    "start_time": "2022-07-21T06:10:03.917Z"
   },
   {
    "duration": 11,
    "start_time": "2022-07-21T06:10:15.335Z"
   },
   {
    "duration": 49,
    "start_time": "2022-07-21T06:11:07.107Z"
   },
   {
    "duration": 14,
    "start_time": "2022-07-21T06:11:17.381Z"
   },
   {
    "duration": 9,
    "start_time": "2022-07-21T06:15:50.161Z"
   },
   {
    "duration": 10,
    "start_time": "2022-07-21T06:16:04.796Z"
   },
   {
    "duration": 10,
    "start_time": "2022-07-21T06:16:33.219Z"
   },
   {
    "duration": 67,
    "start_time": "2022-07-21T06:16:54.969Z"
   },
   {
    "duration": 9,
    "start_time": "2022-07-21T06:16:58.274Z"
   },
   {
    "duration": 86,
    "start_time": "2022-07-21T06:17:59.618Z"
   },
   {
    "duration": 5,
    "start_time": "2022-07-21T06:18:03.013Z"
   },
   {
    "duration": 79,
    "start_time": "2022-07-21T06:18:05.632Z"
   },
   {
    "duration": 85,
    "start_time": "2022-07-21T06:18:45.515Z"
   },
   {
    "duration": 144,
    "start_time": "2022-07-21T06:19:07.615Z"
   },
   {
    "duration": 56,
    "start_time": "2022-07-21T06:19:18.039Z"
   },
   {
    "duration": 66,
    "start_time": "2022-07-21T06:19:29.029Z"
   },
   {
    "duration": 69,
    "start_time": "2022-07-21T06:19:34.959Z"
   },
   {
    "duration": 56,
    "start_time": "2022-07-21T06:19:37.935Z"
   },
   {
    "duration": 17,
    "start_time": "2022-07-21T06:19:58.990Z"
   },
   {
    "duration": 17,
    "start_time": "2022-07-21T06:20:07.840Z"
   },
   {
    "duration": 12,
    "start_time": "2022-07-21T06:20:11.590Z"
   },
   {
    "duration": 35,
    "start_time": "2022-07-21T06:20:20.705Z"
   },
   {
    "duration": 11,
    "start_time": "2022-07-21T06:20:24.380Z"
   },
   {
    "duration": 11,
    "start_time": "2022-07-21T06:20:38.632Z"
   },
   {
    "duration": 11,
    "start_time": "2022-07-21T06:20:52.053Z"
   },
   {
    "duration": 10,
    "start_time": "2022-07-21T06:21:18.746Z"
   },
   {
    "duration": 1244,
    "start_time": "2022-07-21T15:10:45.414Z"
   },
   {
    "duration": 492,
    "start_time": "2022-07-21T15:10:46.660Z"
   },
   {
    "duration": 34,
    "start_time": "2022-07-21T15:10:47.154Z"
   },
   {
    "duration": 3,
    "start_time": "2022-07-21T15:10:47.191Z"
   },
   {
    "duration": 35,
    "start_time": "2022-07-21T15:10:47.195Z"
   },
   {
    "duration": 23,
    "start_time": "2022-07-21T15:10:47.233Z"
   },
   {
    "duration": 77,
    "start_time": "2022-07-21T15:10:47.258Z"
   },
   {
    "duration": 92,
    "start_time": "2022-07-21T15:10:47.337Z"
   },
   {
    "duration": 84,
    "start_time": "2022-07-21T15:10:47.431Z"
   },
   {
    "duration": 22,
    "start_time": "2022-07-21T15:10:47.518Z"
   },
   {
    "duration": 104,
    "start_time": "2022-07-21T15:10:47.541Z"
   },
   {
    "duration": 30,
    "start_time": "2022-07-21T15:10:47.646Z"
   },
   {
    "duration": 19,
    "start_time": "2022-07-21T15:10:47.678Z"
   },
   {
    "duration": 12,
    "start_time": "2022-07-21T15:10:47.698Z"
   },
   {
    "duration": 5,
    "start_time": "2022-07-21T15:10:47.712Z"
   },
   {
    "duration": 64,
    "start_time": "2022-07-21T15:10:47.719Z"
   },
   {
    "duration": 182,
    "start_time": "2022-07-21T15:10:47.785Z"
   },
   {
    "duration": 71,
    "start_time": "2022-07-21T15:10:47.969Z"
   },
   {
    "duration": 304,
    "start_time": "2022-07-21T15:10:48.042Z"
   },
   {
    "duration": 3,
    "start_time": "2022-07-21T15:10:48.348Z"
   },
   {
    "duration": 425,
    "start_time": "2022-07-21T15:10:48.353Z"
   },
   {
    "duration": 24,
    "start_time": "2022-07-21T15:10:48.780Z"
   },
   {
    "duration": 17,
    "start_time": "2022-07-21T15:10:48.806Z"
   },
   {
    "duration": 339,
    "start_time": "2022-07-21T15:10:48.825Z"
   },
   {
    "duration": 2041,
    "start_time": "2022-07-21T15:10:49.165Z"
   },
   {
    "duration": 28,
    "start_time": "2022-07-21T15:10:51.208Z"
   },
   {
    "duration": 218,
    "start_time": "2022-07-21T15:10:51.238Z"
   },
   {
    "duration": 32,
    "start_time": "2022-07-21T15:10:51.459Z"
   },
   {
    "duration": 167,
    "start_time": "2022-07-21T15:10:51.493Z"
   },
   {
    "duration": 56,
    "start_time": "2022-07-21T15:10:51.664Z"
   },
   {
    "duration": 161,
    "start_time": "2022-07-21T15:10:51.722Z"
   },
   {
    "duration": 0,
    "start_time": "2022-07-21T15:10:51.885Z"
   },
   {
    "duration": 0,
    "start_time": "2022-07-21T15:10:51.886Z"
   },
   {
    "duration": 0,
    "start_time": "2022-07-21T15:10:51.887Z"
   },
   {
    "duration": 0,
    "start_time": "2022-07-21T15:10:51.888Z"
   },
   {
    "duration": 0,
    "start_time": "2022-07-21T15:10:51.889Z"
   },
   {
    "duration": 0,
    "start_time": "2022-07-21T15:10:51.890Z"
   },
   {
    "duration": 0,
    "start_time": "2022-07-21T15:10:51.891Z"
   },
   {
    "duration": 0,
    "start_time": "2022-07-21T15:10:51.892Z"
   },
   {
    "duration": 0,
    "start_time": "2022-07-21T15:10:51.892Z"
   },
   {
    "duration": 0,
    "start_time": "2022-07-21T15:10:51.893Z"
   },
   {
    "duration": 0,
    "start_time": "2022-07-21T15:10:51.894Z"
   },
   {
    "duration": 0,
    "start_time": "2022-07-21T15:10:51.895Z"
   },
   {
    "duration": 0,
    "start_time": "2022-07-21T15:10:51.896Z"
   },
   {
    "duration": 0,
    "start_time": "2022-07-21T15:10:51.897Z"
   },
   {
    "duration": 0,
    "start_time": "2022-07-21T15:10:51.898Z"
   },
   {
    "duration": 350,
    "start_time": "2022-07-21T15:12:19.746Z"
   },
   {
    "duration": 56,
    "start_time": "2022-07-21T15:12:35.677Z"
   },
   {
    "duration": 1361,
    "start_time": "2022-07-21T15:12:41.918Z"
   },
   {
    "duration": 171,
    "start_time": "2022-07-21T15:12:43.281Z"
   },
   {
    "duration": 30,
    "start_time": "2022-07-21T15:12:43.453Z"
   },
   {
    "duration": 3,
    "start_time": "2022-07-21T15:12:43.485Z"
   },
   {
    "duration": 18,
    "start_time": "2022-07-21T15:12:43.489Z"
   },
   {
    "duration": 20,
    "start_time": "2022-07-21T15:12:43.509Z"
   },
   {
    "duration": 79,
    "start_time": "2022-07-21T15:12:43.530Z"
   },
   {
    "duration": 87,
    "start_time": "2022-07-21T15:12:43.610Z"
   },
   {
    "duration": 77,
    "start_time": "2022-07-21T15:12:43.699Z"
   },
   {
    "duration": 16,
    "start_time": "2022-07-21T15:12:43.778Z"
   },
   {
    "duration": 92,
    "start_time": "2022-07-21T15:12:43.795Z"
   },
   {
    "duration": 28,
    "start_time": "2022-07-21T15:12:43.889Z"
   },
   {
    "duration": 17,
    "start_time": "2022-07-21T15:12:43.919Z"
   },
   {
    "duration": 33,
    "start_time": "2022-07-21T15:12:43.937Z"
   },
   {
    "duration": 4,
    "start_time": "2022-07-21T15:12:43.971Z"
   },
   {
    "duration": 22,
    "start_time": "2022-07-21T15:12:43.976Z"
   },
   {
    "duration": 140,
    "start_time": "2022-07-21T15:12:43.999Z"
   },
   {
    "duration": 62,
    "start_time": "2022-07-21T15:12:44.140Z"
   },
   {
    "duration": 235,
    "start_time": "2022-07-21T15:12:44.204Z"
   },
   {
    "duration": 3,
    "start_time": "2022-07-21T15:12:44.441Z"
   },
   {
    "duration": 432,
    "start_time": "2022-07-21T15:12:44.445Z"
   },
   {
    "duration": 25,
    "start_time": "2022-07-21T15:12:44.879Z"
   },
   {
    "duration": 11,
    "start_time": "2022-07-21T15:12:44.906Z"
   },
   {
    "duration": 321,
    "start_time": "2022-07-21T15:12:44.919Z"
   },
   {
    "duration": 2070,
    "start_time": "2022-07-21T15:12:45.242Z"
   },
   {
    "duration": 18,
    "start_time": "2022-07-21T15:12:47.314Z"
   },
   {
    "duration": 198,
    "start_time": "2022-07-21T15:12:47.334Z"
   },
   {
    "duration": 49,
    "start_time": "2022-07-21T15:12:47.537Z"
   },
   {
    "duration": 199,
    "start_time": "2022-07-21T15:12:47.589Z"
   },
   {
    "duration": 60,
    "start_time": "2022-07-21T15:12:47.791Z"
   },
   {
    "duration": 183,
    "start_time": "2022-07-21T15:12:47.865Z"
   },
   {
    "duration": 0,
    "start_time": "2022-07-21T15:12:48.050Z"
   },
   {
    "duration": 0,
    "start_time": "2022-07-21T15:12:48.052Z"
   },
   {
    "duration": 0,
    "start_time": "2022-07-21T15:12:48.064Z"
   },
   {
    "duration": 0,
    "start_time": "2022-07-21T15:12:48.065Z"
   },
   {
    "duration": 0,
    "start_time": "2022-07-21T15:12:48.067Z"
   },
   {
    "duration": 0,
    "start_time": "2022-07-21T15:12:48.068Z"
   },
   {
    "duration": 0,
    "start_time": "2022-07-21T15:12:48.069Z"
   },
   {
    "duration": 0,
    "start_time": "2022-07-21T15:12:48.070Z"
   },
   {
    "duration": 0,
    "start_time": "2022-07-21T15:12:48.071Z"
   },
   {
    "duration": 0,
    "start_time": "2022-07-21T15:12:48.072Z"
   },
   {
    "duration": 0,
    "start_time": "2022-07-21T15:12:48.073Z"
   },
   {
    "duration": 0,
    "start_time": "2022-07-21T15:12:48.074Z"
   },
   {
    "duration": 0,
    "start_time": "2022-07-21T15:12:48.075Z"
   },
   {
    "duration": 0,
    "start_time": "2022-07-21T15:12:48.076Z"
   },
   {
    "duration": 0,
    "start_time": "2022-07-21T15:12:48.077Z"
   },
   {
    "duration": 377,
    "start_time": "2022-07-21T15:12:56.690Z"
   },
   {
    "duration": 1293,
    "start_time": "2022-07-21T15:13:10.944Z"
   },
   {
    "duration": 164,
    "start_time": "2022-07-21T15:13:12.239Z"
   },
   {
    "duration": 32,
    "start_time": "2022-07-21T15:13:12.405Z"
   },
   {
    "duration": 3,
    "start_time": "2022-07-21T15:13:12.439Z"
   },
   {
    "duration": 38,
    "start_time": "2022-07-21T15:13:12.446Z"
   },
   {
    "duration": 40,
    "start_time": "2022-07-21T15:13:12.488Z"
   },
   {
    "duration": 93,
    "start_time": "2022-07-21T15:13:12.530Z"
   },
   {
    "duration": 111,
    "start_time": "2022-07-21T15:13:12.625Z"
   },
   {
    "duration": 77,
    "start_time": "2022-07-21T15:13:12.738Z"
   },
   {
    "duration": 16,
    "start_time": "2022-07-21T15:13:12.817Z"
   },
   {
    "duration": 100,
    "start_time": "2022-07-21T15:13:12.835Z"
   },
   {
    "duration": 40,
    "start_time": "2022-07-21T15:13:12.936Z"
   },
   {
    "duration": 16,
    "start_time": "2022-07-21T15:13:12.979Z"
   },
   {
    "duration": 8,
    "start_time": "2022-07-21T15:13:12.997Z"
   },
   {
    "duration": 4,
    "start_time": "2022-07-21T15:13:13.006Z"
   },
   {
    "duration": 23,
    "start_time": "2022-07-21T15:13:13.011Z"
   },
   {
    "duration": 178,
    "start_time": "2022-07-21T15:13:13.036Z"
   },
   {
    "duration": 77,
    "start_time": "2022-07-21T15:13:13.217Z"
   },
   {
    "duration": 270,
    "start_time": "2022-07-21T15:13:13.296Z"
   },
   {
    "duration": 2,
    "start_time": "2022-07-21T15:13:13.568Z"
   },
   {
    "duration": 431,
    "start_time": "2022-07-21T15:13:13.571Z"
   },
   {
    "duration": 25,
    "start_time": "2022-07-21T15:13:14.004Z"
   },
   {
    "duration": 34,
    "start_time": "2022-07-21T15:13:14.031Z"
   },
   {
    "duration": 325,
    "start_time": "2022-07-21T15:13:14.066Z"
   },
   {
    "duration": 2046,
    "start_time": "2022-07-21T15:13:14.393Z"
   },
   {
    "duration": 26,
    "start_time": "2022-07-21T15:13:16.441Z"
   },
   {
    "duration": 191,
    "start_time": "2022-07-21T15:13:16.468Z"
   },
   {
    "duration": 33,
    "start_time": "2022-07-21T15:13:16.663Z"
   },
   {
    "duration": 182,
    "start_time": "2022-07-21T15:13:16.697Z"
   },
   {
    "duration": 54,
    "start_time": "2022-07-21T15:13:16.880Z"
   },
   {
    "duration": 360,
    "start_time": "2022-07-21T15:13:16.936Z"
   },
   {
    "duration": 14,
    "start_time": "2022-07-21T15:13:17.298Z"
   },
   {
    "duration": 9,
    "start_time": "2022-07-21T15:13:17.314Z"
   },
   {
    "duration": 41,
    "start_time": "2022-07-21T15:13:17.325Z"
   },
   {
    "duration": 37,
    "start_time": "2022-07-21T15:13:17.368Z"
   },
   {
    "duration": 4,
    "start_time": "2022-07-21T15:13:17.407Z"
   },
   {
    "duration": 50,
    "start_time": "2022-07-21T15:13:17.413Z"
   },
   {
    "duration": 11,
    "start_time": "2022-07-21T15:13:17.465Z"
   },
   {
    "duration": 5,
    "start_time": "2022-07-21T15:13:17.478Z"
   },
   {
    "duration": 5,
    "start_time": "2022-07-21T15:13:17.484Z"
   },
   {
    "duration": 35,
    "start_time": "2022-07-21T15:13:17.490Z"
   },
   {
    "duration": 3,
    "start_time": "2022-07-21T15:13:17.527Z"
   },
   {
    "duration": 85,
    "start_time": "2022-07-21T15:13:17.532Z"
   },
   {
    "duration": 17,
    "start_time": "2022-07-21T15:13:17.619Z"
   },
   {
    "duration": 502,
    "start_time": "2022-07-21T15:13:17.663Z"
   },
   {
    "duration": 281,
    "start_time": "2022-07-21T15:13:18.166Z"
   }
  ],
  "kernelspec": {
   "display_name": "Python 3 (ipykernel)",
   "language": "python",
   "name": "python3"
  },
  "language_info": {
   "codemirror_mode": {
    "name": "ipython",
    "version": 3
   },
   "file_extension": ".py",
   "mimetype": "text/x-python",
   "name": "python",
   "nbconvert_exporter": "python",
   "pygments_lexer": "ipython3",
   "version": "3.9.7"
  },
  "toc": {
   "base_numbering": 1,
   "nav_menu": {},
   "number_sections": true,
   "sideBar": true,
   "skip_h1_title": true,
   "title_cell": "Table of Contents",
   "title_sidebar": "Contents",
   "toc_cell": false,
   "toc_position": {
    "height": "calc(100% - 180px)",
    "left": "10px",
    "top": "150px",
    "width": "192.391px"
   },
   "toc_section_display": true,
   "toc_window_display": true
  }
 },
 "nbformat": 4,
 "nbformat_minor": 2
}
