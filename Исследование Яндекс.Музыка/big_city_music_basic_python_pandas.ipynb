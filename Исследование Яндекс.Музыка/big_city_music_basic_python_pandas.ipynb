{
 "cells": [
  {
   "cell_type": "markdown",
   "metadata": {
    "id": "E0vqbgi9ay0H"
   },
   "source": [
    "# Яндекс.Музыка"
   ]
  },
  {
   "cell_type": "markdown",
   "metadata": {
    "id": "VUC88oWjTJw2"
   },
   "source": [
    "Сравнение Москвы и Петербурга окружено мифами. Например:\n",
    " * Москва — мегаполис, подчинённый жёсткому ритму рабочей недели;\n",
    " * Петербург — культурная столица, со своими вкусами.\n",
    "\n",
    "На данных Яндекс.Музыки вы сравните поведение пользователей двух столиц.\n",
    "\n",
    "**Цель исследования** — проверьте три гипотезы:\n",
    "1. Активность пользователей зависит от дня недели. Причём в Москве и Петербурге это проявляется по-разному.\n",
    "2. В понедельник утром в Москве преобладают одни жанры, а в Петербурге — другие. Так же и вечером пятницы преобладают разные жанры — в зависимости от города. \n",
    "3. Москва и Петербург предпочитают разные жанры музыки. В Москве чаще слушают поп-музыку, в Петербурге — русский рэп.\n",
    "\n",
    "**Ход исследования**\n",
    "\n",
    "Данные о поведении пользователей вы получите из файла `yandex_music_project.csv`. О качестве данных ничего не известно. Поэтому перед проверкой гипотез понадобится обзор данных. \n",
    "\n",
    "Вы проверите данные на ошибки и оцените их влияние на исследование. Затем, на этапе предобработки вы поищете возможность исправить самые критичные ошибки данных.\n",
    " \n",
    "Таким образом, исследование пройдёт в три этапа:\n",
    " 1. Обзор данных.\n",
    " 2. Предобработка данных.\n",
    " 3. Проверка гипотез.\n",
    "\n"
   ]
  },
  {
   "cell_type": "markdown",
   "metadata": {
    "id": "Ml1hmfXC_Zcs"
   },
   "source": [
    "## Обзор данных\n",
    "\n",
    "Составьте первое представление о данных Яндекс.Музыки.\n",
    "\n",
    "\n"
   ]
  },
  {
   "cell_type": "code",
   "execution_count": 2,
   "metadata": {
    "id": "AXN7PHPN_Zcs"
   },
   "outputs": [],
   "source": [
    "# импорт библиотеки pandas\n",
    "import pandas as pd\n",
    "#here goes nothing"
   ]
  },
  {
   "cell_type": "markdown",
   "metadata": {
    "id": "SG23P8tt_Zcs"
   },
   "source": [
    "Прочитайте файл `yandex_music_project.csv` из папки `/datasets` и сохраните его в переменной `df`:"
   ]
  },
  {
   "cell_type": "code",
   "execution_count": 3,
   "metadata": {
    "id": "fFVu7vqh_Zct"
   },
   "outputs": [],
   "source": [
    "# чтение файла с данными и сохранение в df\n",
    "df = pd.read_csv('/datasets/yandex_music_project.csv')"
   ]
  },
  {
   "cell_type": "markdown",
   "metadata": {
    "id": "rDoOMd3uTqnZ"
   },
   "source": [
    "Выведите на экран первые десять строк таблицы:"
   ]
  },
  {
   "cell_type": "code",
   "execution_count": 4,
   "metadata": {
    "id": "oWTVX3gW_Zct",
    "scrolled": true
   },
   "outputs": [
    {
     "data": {
      "text/html": [
       "<div>\n",
       "<style scoped>\n",
       "    .dataframe tbody tr th:only-of-type {\n",
       "        vertical-align: middle;\n",
       "    }\n",
       "\n",
       "    .dataframe tbody tr th {\n",
       "        vertical-align: top;\n",
       "    }\n",
       "\n",
       "    .dataframe thead th {\n",
       "        text-align: right;\n",
       "    }\n",
       "</style>\n",
       "<table border=\"1\" class=\"dataframe\">\n",
       "  <thead>\n",
       "    <tr style=\"text-align: right;\">\n",
       "      <th></th>\n",
       "      <th>userID</th>\n",
       "      <th>Track</th>\n",
       "      <th>artist</th>\n",
       "      <th>genre</th>\n",
       "      <th>City</th>\n",
       "      <th>time</th>\n",
       "      <th>Day</th>\n",
       "    </tr>\n",
       "  </thead>\n",
       "  <tbody>\n",
       "    <tr>\n",
       "      <th>0</th>\n",
       "      <td>FFB692EC</td>\n",
       "      <td>Kamigata To Boots</td>\n",
       "      <td>The Mass Missile</td>\n",
       "      <td>rock</td>\n",
       "      <td>Saint-Petersburg</td>\n",
       "      <td>20:28:33</td>\n",
       "      <td>Wednesday</td>\n",
       "    </tr>\n",
       "    <tr>\n",
       "      <th>1</th>\n",
       "      <td>55204538</td>\n",
       "      <td>Delayed Because of Accident</td>\n",
       "      <td>Andreas Rönnberg</td>\n",
       "      <td>rock</td>\n",
       "      <td>Moscow</td>\n",
       "      <td>14:07:09</td>\n",
       "      <td>Friday</td>\n",
       "    </tr>\n",
       "    <tr>\n",
       "      <th>2</th>\n",
       "      <td>20EC38</td>\n",
       "      <td>Funiculì funiculà</td>\n",
       "      <td>Mario Lanza</td>\n",
       "      <td>pop</td>\n",
       "      <td>Saint-Petersburg</td>\n",
       "      <td>20:58:07</td>\n",
       "      <td>Wednesday</td>\n",
       "    </tr>\n",
       "    <tr>\n",
       "      <th>3</th>\n",
       "      <td>A3DD03C9</td>\n",
       "      <td>Dragons in the Sunset</td>\n",
       "      <td>Fire + Ice</td>\n",
       "      <td>folk</td>\n",
       "      <td>Saint-Petersburg</td>\n",
       "      <td>08:37:09</td>\n",
       "      <td>Monday</td>\n",
       "    </tr>\n",
       "    <tr>\n",
       "      <th>4</th>\n",
       "      <td>E2DC1FAE</td>\n",
       "      <td>Soul People</td>\n",
       "      <td>Space Echo</td>\n",
       "      <td>dance</td>\n",
       "      <td>Moscow</td>\n",
       "      <td>08:34:34</td>\n",
       "      <td>Monday</td>\n",
       "    </tr>\n",
       "    <tr>\n",
       "      <th>5</th>\n",
       "      <td>842029A1</td>\n",
       "      <td>Преданная</td>\n",
       "      <td>IMPERVTOR</td>\n",
       "      <td>rusrap</td>\n",
       "      <td>Saint-Petersburg</td>\n",
       "      <td>13:09:41</td>\n",
       "      <td>Friday</td>\n",
       "    </tr>\n",
       "    <tr>\n",
       "      <th>6</th>\n",
       "      <td>4CB90AA5</td>\n",
       "      <td>True</td>\n",
       "      <td>Roman Messer</td>\n",
       "      <td>dance</td>\n",
       "      <td>Moscow</td>\n",
       "      <td>13:00:07</td>\n",
       "      <td>Wednesday</td>\n",
       "    </tr>\n",
       "    <tr>\n",
       "      <th>7</th>\n",
       "      <td>F03E1C1F</td>\n",
       "      <td>Feeling This Way</td>\n",
       "      <td>Polina Griffith</td>\n",
       "      <td>dance</td>\n",
       "      <td>Moscow</td>\n",
       "      <td>20:47:49</td>\n",
       "      <td>Wednesday</td>\n",
       "    </tr>\n",
       "    <tr>\n",
       "      <th>8</th>\n",
       "      <td>8FA1D3BE</td>\n",
       "      <td>И вновь продолжается бой</td>\n",
       "      <td>NaN</td>\n",
       "      <td>ruspop</td>\n",
       "      <td>Moscow</td>\n",
       "      <td>09:17:40</td>\n",
       "      <td>Friday</td>\n",
       "    </tr>\n",
       "    <tr>\n",
       "      <th>9</th>\n",
       "      <td>E772D5C0</td>\n",
       "      <td>Pessimist</td>\n",
       "      <td>NaN</td>\n",
       "      <td>dance</td>\n",
       "      <td>Saint-Petersburg</td>\n",
       "      <td>21:20:49</td>\n",
       "      <td>Wednesday</td>\n",
       "    </tr>\n",
       "  </tbody>\n",
       "</table>\n",
       "</div>"
      ],
      "text/plain": [
       "     userID                        Track            artist   genre  \\\n",
       "0  FFB692EC            Kamigata To Boots  The Mass Missile    rock   \n",
       "1  55204538  Delayed Because of Accident  Andreas Rönnberg    rock   \n",
       "2    20EC38            Funiculì funiculà       Mario Lanza     pop   \n",
       "3  A3DD03C9        Dragons in the Sunset        Fire + Ice    folk   \n",
       "4  E2DC1FAE                  Soul People        Space Echo   dance   \n",
       "5  842029A1                    Преданная         IMPERVTOR  rusrap   \n",
       "6  4CB90AA5                         True      Roman Messer   dance   \n",
       "7  F03E1C1F             Feeling This Way   Polina Griffith   dance   \n",
       "8  8FA1D3BE     И вновь продолжается бой               NaN  ruspop   \n",
       "9  E772D5C0                    Pessimist               NaN   dance   \n",
       "\n",
       "             City        time        Day  \n",
       "0  Saint-Petersburg  20:28:33  Wednesday  \n",
       "1            Moscow  14:07:09     Friday  \n",
       "2  Saint-Petersburg  20:58:07  Wednesday  \n",
       "3  Saint-Petersburg  08:37:09     Monday  \n",
       "4            Moscow  08:34:34     Monday  \n",
       "5  Saint-Petersburg  13:09:41     Friday  \n",
       "6            Moscow  13:00:07  Wednesday  \n",
       "7            Moscow  20:47:49  Wednesday  \n",
       "8            Moscow  09:17:40     Friday  \n",
       "9  Saint-Petersburg  21:20:49  Wednesday  "
      ]
     },
     "metadata": {},
     "output_type": "display_data"
    }
   ],
   "source": [
    "# получение первых 10 строк таблицы df\n",
    "display(df.head(10))"
   ]
  },
  {
   "cell_type": "code",
   "execution_count": 5,
   "metadata": {
    "id": "DSf2kIb-_Zct",
    "scrolled": true
   },
   "outputs": [
    {
     "name": "stdout",
     "output_type": "stream",
     "text": [
      "<class 'pandas.core.frame.DataFrame'>\n",
      "RangeIndex: 65079 entries, 0 to 65078\n",
      "Data columns (total 7 columns):\n",
      " #   Column    Non-Null Count  Dtype \n",
      "---  ------    --------------  ----- \n",
      " 0     userID  65079 non-null  object\n",
      " 1   Track     63848 non-null  object\n",
      " 2   artist    57876 non-null  object\n",
      " 3   genre     63881 non-null  object\n",
      " 4     City    65079 non-null  object\n",
      " 5   time      65079 non-null  object\n",
      " 6   Day       65079 non-null  object\n",
      "dtypes: object(7)\n",
      "memory usage: 3.5+ MB\n"
     ]
    }
   ],
   "source": [
    "# получение общей информации о данных в таблице df\n",
    "df.info()"
   ]
  },
  {
   "cell_type": "markdown",
   "metadata": {
    "id": "MCB6-dXG_Zct"
   },
   "source": [
    "**Выводы**\n",
    "\n",
    "В каждой строке таблицы — данные о прослушанном треке. Часть колонок описывает саму композицию: название, исполнителя и жанр. Остальные данные рассказывают о пользователе: из какого он города, когда он слушал музыку. \n",
    "\n",
    "Предварительно можно утверждать, что, данных достаточно для проверки гипотез. Но встречаются пропуски в данных, а в названиях колонок — расхождения с хорошим стилем.\n",
    "\n",
    "Чтобы двигаться дальше, нужно устранить проблемы в данных."
   ]
  },
  {
   "cell_type": "markdown",
   "metadata": {
    "id": "SjYF6Ub9_Zct"
   },
   "source": [
    "## Предобработка данных\n",
    "Исправьте стиль в заголовках столбцов, исключите пропуски. Затем проверьте данные на дубликаты."
   ]
  },
  {
   "cell_type": "markdown",
   "metadata": {
    "id": "dIaKXr29_Zct"
   },
   "source": [
    "### Стиль заголовков\n",
    "Выведите на экран названия столбцов:"
   ]
  },
  {
   "cell_type": "code",
   "execution_count": 6,
   "metadata": {
    "id": "oKOTdF_Q_Zct"
   },
   "outputs": [
    {
     "data": {
      "text/plain": [
       "Index(['  userID', 'Track', 'artist', 'genre', '  City  ', 'time', 'Day'], dtype='object')"
      ]
     },
     "execution_count": 6,
     "metadata": {},
     "output_type": "execute_result"
    }
   ],
   "source": [
    "# перечень названий столбцов таблицы df\n",
    "df.columns"
   ]
  },
  {
   "cell_type": "code",
   "execution_count": 9,
   "metadata": {
    "id": "ISlFqs5y_Zct"
   },
   "outputs": [],
   "source": [
    "# переименование столбцов\n",
    "df = df.rename(\n",
    "columns={\n",
    "'  userID': 'user_id',\n",
    "'Track': 'track',\n",
    "'  City  ': 'city',\n",
    "'Day': 'day'}\n",
    ")"
   ]
  },
  {
   "cell_type": "markdown",
   "metadata": {
    "id": "1dqbh00J_Zct"
   },
   "source": [
    "Проверьте результат. Для этого ещё раз выведите на экран названия столбцов:"
   ]
  },
  {
   "cell_type": "code",
   "execution_count": 10,
   "metadata": {
    "id": "d4NOAmTW_Zct",
    "scrolled": true
   },
   "outputs": [
    {
     "data": {
      "text/plain": [
       "Index(['user_id', 'track', 'artist', 'genre', 'city', 'time', 'day'], dtype='object')"
      ]
     },
     "execution_count": 10,
     "metadata": {},
     "output_type": "execute_result"
    }
   ],
   "source": [
    "# проверка результатов - перечень названий столбцов\n",
    "df.columns"
   ]
  },
  {
   "cell_type": "markdown",
   "metadata": {
    "id": "5ISfbcfY_Zct"
   },
   "source": [
    "### Пропуски значений\n",
    "Сначала посчитайте, сколько в таблице пропущенных значений. Для этого достаточно двух методов `pandas`:"
   ]
  },
  {
   "cell_type": "code",
   "execution_count": 11,
   "metadata": {
    "id": "RskX29qr_Zct",
    "scrolled": true
   },
   "outputs": [
    {
     "data": {
      "text/plain": [
       "user_id       0\n",
       "track      1231\n",
       "artist     7203\n",
       "genre      1198\n",
       "city          0\n",
       "time          0\n",
       "day           0\n",
       "dtype: int64"
      ]
     },
     "execution_count": 11,
     "metadata": {},
     "output_type": "execute_result"
    }
   ],
   "source": [
    "# подсчёт пропусков\n",
    "df.isna().sum()"
   ]
  },
  {
   "cell_type": "code",
   "execution_count": 12,
   "metadata": {
    "id": "KplB5qWs_Zct"
   },
   "outputs": [],
   "source": [
    "# перебор названий столбцов в цикле и замена пропущенных значений на 'unknown'\n",
    "columns_to_replace = ['track', 'artist', 'genre']\n",
    "\n",
    "for column in columns_to_replace:\n",
    "    df[column] = df[column].fillna('unknown')"
   ]
  },
  {
   "cell_type": "code",
   "execution_count": 13,
   "metadata": {
    "id": "Tq4nYRX4_Zct",
    "scrolled": true
   },
   "outputs": [
    {
     "data": {
      "text/plain": [
       "user_id    0\n",
       "track      0\n",
       "artist     0\n",
       "genre      0\n",
       "city       0\n",
       "time       0\n",
       "day        0\n",
       "dtype: int64"
      ]
     },
     "execution_count": 13,
     "metadata": {},
     "output_type": "execute_result"
    }
   ],
   "source": [
    "# подсчёт пропусков\n",
    "df.isna().sum()"
   ]
  },
  {
   "cell_type": "markdown",
   "metadata": {
    "id": "BWKRtBJ3_Zct"
   },
   "source": [
    "### Дубликаты\n",
    "Посчитайте явные дубликаты в таблице одной командой:"
   ]
  },
  {
   "cell_type": "code",
   "execution_count": 15,
   "metadata": {
    "id": "36eES_S0_Zct"
   },
   "outputs": [
    {
     "data": {
      "text/plain": [
       "0"
      ]
     },
     "execution_count": 15,
     "metadata": {},
     "output_type": "execute_result"
    }
   ],
   "source": [
    "# подсчёт явных дубликатов\n",
    "df.duplicated().sum()"
   ]
  },
  {
   "cell_type": "markdown",
   "metadata": {
    "id": "Ot25h6XR_Zct"
   },
   "source": [
    "Вызовите специальный метод `pandas`, чтобы удалить явные дубликаты:"
   ]
  },
  {
   "cell_type": "code",
   "execution_count": 14,
   "metadata": {
    "id": "exFHq6tt_Zct"
   },
   "outputs": [],
   "source": [
    "# удаление явных дубликатов (с удалением старых индексов и формированием новых)\n",
    "df = df.drop_duplicates().reset_index(drop=True)"
   ]
  },
  {
   "cell_type": "markdown",
   "metadata": {
    "id": "Im2YwBEG_Zct"
   },
   "source": [
    "Ещё раз посчитайте явные дубликаты в таблице — убедитесь, что полностью от них избавились:"
   ]
  },
  {
   "cell_type": "code",
   "execution_count": 16,
   "metadata": {
    "id": "-8PuNWQ0_Zct",
    "scrolled": true
   },
   "outputs": [
    {
     "data": {
      "text/plain": [
       "0"
      ]
     },
     "execution_count": 16,
     "metadata": {},
     "output_type": "execute_result"
    }
   ],
   "source": [
    "# проверка на отсутствие дубликатов\n",
    "df.duplicated().sum()"
   ]
  },
  {
   "cell_type": "markdown",
   "metadata": {
    "id": "QlFBsxAr_Zct"
   },
   "source": [
    "Теперь избавьтесь от неявных дубликатов в колонке `genre`. Например, название одного и того же жанра может быть записано немного по-разному. Такие ошибки тоже повлияют на результат исследования."
   ]
  },
  {
   "cell_type": "markdown",
   "metadata": {
    "id": "eSjWwsOh_Zct"
   },
   "source": [
    "Выведите на экран список уникальных названий жанров, отсортированный в алфавитном порядке. Для этого:\n",
    "* извлеките нужный столбец датафрейма, \n",
    "* примените к нему метод сортировки,\n",
    "* для отсортированного столбца вызовите метод, который вернёт уникальные значения из столбца."
   ]
  },
  {
   "cell_type": "code",
   "execution_count": 19,
   "metadata": {
    "id": "JIUcqzZN_Zct",
    "scrolled": true
   },
   "outputs": [
    {
     "data": {
      "text/plain": [
       "array(['acid', 'acoustic', 'action', 'adult', 'africa', 'afrikaans',\n",
       "       'alternative', 'alternativepunk', 'ambient', 'americana',\n",
       "       'animated', 'anime', 'arabesk', 'arabic', 'arena',\n",
       "       'argentinetango', 'art', 'audiobook', 'author', 'avantgarde',\n",
       "       'axé', 'baile', 'balkan', 'beats', 'bigroom', 'black', 'bluegrass',\n",
       "       'blues', 'bollywood', 'bossa', 'brazilian', 'breakbeat', 'breaks',\n",
       "       'broadway', 'cantautori', 'cantopop', 'canzone', 'caribbean',\n",
       "       'caucasian', 'celtic', 'chamber', 'chanson', 'children', 'chill',\n",
       "       'chinese', 'choral', 'christian', 'christmas', 'classical',\n",
       "       'classicmetal', 'club', 'colombian', 'comedy', 'conjazz',\n",
       "       'contemporary', 'country', 'cuban', 'dance', 'dancehall',\n",
       "       'dancepop', 'dark', 'death', 'deep', 'deutschrock', 'deutschspr',\n",
       "       'dirty', 'disco', 'dnb', 'documentary', 'downbeat', 'downtempo',\n",
       "       'drum', 'dub', 'dubstep', 'eastern', 'easy', 'electronic',\n",
       "       'electropop', 'emo', 'entehno', 'epicmetal', 'estrada', 'ethnic',\n",
       "       'eurofolk', 'european', 'experimental', 'extrememetal', 'fado',\n",
       "       'fairytail', 'film', 'fitness', 'flamenco', 'folk', 'folklore',\n",
       "       'folkmetal', 'folkrock', 'folktronica', 'forró', 'frankreich',\n",
       "       'französisch', 'french', 'funk', 'future', 'gangsta', 'garage',\n",
       "       'german', 'ghazal', 'gitarre', 'glitch', 'gospel', 'gothic',\n",
       "       'grime', 'grunge', 'gypsy', 'handsup', \"hard'n'heavy\", 'hardcore',\n",
       "       'hardstyle', 'hardtechno', 'hip', 'hip-hop', 'hiphop',\n",
       "       'historisch', 'holiday', 'hop', 'horror', 'house', 'hymn', 'idm',\n",
       "       'independent', 'indian', 'indie', 'indipop', 'industrial',\n",
       "       'inspirational', 'instrumental', 'international', 'irish', 'jam',\n",
       "       'japanese', 'jazz', 'jewish', 'jpop', 'jungle', 'k-pop',\n",
       "       'karadeniz', 'karaoke', 'kayokyoku', 'korean', 'laiko', 'latin',\n",
       "       'latino', 'leftfield', 'local', 'lounge', 'loungeelectronic',\n",
       "       'lovers', 'malaysian', 'mandopop', 'marschmusik', 'meditative',\n",
       "       'mediterranean', 'melodic', 'metal', 'metalcore', 'mexican',\n",
       "       'middle', 'minimal', 'miscellaneous', 'modern', 'mood', 'mpb',\n",
       "       'muslim', 'native', 'neoklassik', 'neue', 'new', 'newage',\n",
       "       'newwave', 'nu', 'nujazz', 'numetal', 'oceania', 'old', 'opera',\n",
       "       'orchestral', 'other', 'piano', 'podcasts', 'pop', 'popdance',\n",
       "       'popelectronic', 'popeurodance', 'poprussian', 'post',\n",
       "       'posthardcore', 'postrock', 'power', 'progmetal', 'progressive',\n",
       "       'psychedelic', 'punjabi', 'punk', 'quebecois', 'ragga', 'ram',\n",
       "       'rancheras', 'rap', 'rave', 'reggae', 'reggaeton', 'regional',\n",
       "       'relax', 'religious', 'retro', 'rhythm', 'rnb', 'rnr', 'rock',\n",
       "       'rockabilly', 'rockalternative', 'rockindie', 'rockother',\n",
       "       'romance', 'roots', 'ruspop', 'rusrap', 'rusrock', 'russian',\n",
       "       'salsa', 'samba', 'scenic', 'schlager', 'self', 'sertanejo',\n",
       "       'shanson', 'shoegazing', 'showtunes', 'singer', 'ska', 'skarock',\n",
       "       'slow', 'smooth', 'soft', 'soul', 'soulful', 'sound', 'soundtrack',\n",
       "       'southern', 'specialty', 'speech', 'spiritual', 'sport',\n",
       "       'stonerrock', 'surf', 'swing', 'synthpop', 'synthrock',\n",
       "       'sängerportrait', 'tango', 'tanzorchester', 'taraftar', 'tatar',\n",
       "       'tech', 'techno', 'teen', 'thrash', 'top', 'traditional',\n",
       "       'tradjazz', 'trance', 'tribal', 'trip', 'triphop', 'tropical',\n",
       "       'türk', 'türkçe', 'ukrrock', 'unknown', 'urban', 'uzbek',\n",
       "       'variété', 'vi', 'videogame', 'vocal', 'western', 'world',\n",
       "       'worldbeat', 'ïîï', 'электроника'], dtype=object)"
      ]
     },
     "execution_count": 19,
     "metadata": {},
     "output_type": "execute_result"
    }
   ],
   "source": [
    "# Просмотр уникальных названий жанров\n",
    "df['genre'].sort_values().unique()"
   ]
  },
  {
   "cell_type": "markdown",
   "metadata": {
    "id": "qej-Qmuo_Zct"
   },
   "source": [
    "Просмотрите список и найдите неявные дубликаты названия `hiphop`. Это могут быть названия с ошибками или альтернативные названия того же жанра.\n",
    "\n",
    "Вы увидите следующие неявные дубликаты:\n",
    "* *hip*,\n",
    "* *hop*,\n",
    "* *hip-hop*.\n",
    "\n",
    "Чтобы очистить от них таблицу, напишите функцию `replace_wrong_genres()` с двумя параметрами: \n",
    "* `wrong_genres` — список дубликатов,\n",
    "* `correct_genre` — строка с правильным значением.\n",
    "\n",
    "Функция должна исправить колонку `genre` в таблице `df`: заменить каждое значение из списка `wrong_genres` на значение из `correct_genre`."
   ]
  },
  {
   "cell_type": "code",
   "execution_count": 45,
   "metadata": {
    "id": "ErNDkmns_Zct"
   },
   "outputs": [],
   "source": [
    "# Функция для замены неявных дубликатов\n",
    "\n",
    "def replace_wrong_genres(wrong_genres, correct_genre):\n",
    "    for wrong_genre in wrong_genres:\n",
    "        df['genre'] = df['genre'].replace(wrong_genre, correct_genre)"
   ]
  },
  {
   "cell_type": "markdown",
   "metadata": {
    "id": "aDoBJxbA_Zct"
   },
   "source": [
    "Вызовите `replace_wrong_genres()` и передайте ей такие аргументы, чтобы она устранила неявные дубликаты: вместо `hip`, `hop` и `hip-hop` в таблице должно быть значение `hiphop`:"
   ]
  },
  {
   "cell_type": "code",
   "execution_count": 46,
   "metadata": {
    "id": "YN5i2hpmSo09"
   },
   "outputs": [],
   "source": [
    "# Устранение неявных дубликатов\n",
    "replace_wrong_genres(['hip', 'hop', 'hip-hop'], 'hiphop')"
   ]
  },
  {
   "cell_type": "markdown",
   "metadata": {
    "id": "zQKF16_RG15m"
   },
   "source": [
    "Проверьте, что заменили неправильные названия:\n",
    "\n",
    "*   hip\n",
    "*   hop\n",
    "*   hip-hop\n",
    "\n",
    "Выведите отсортированный список уникальных значений столбца `genre`:"
   ]
  },
  {
   "cell_type": "code",
   "execution_count": 20,
   "metadata": {
    "id": "wvixALnFG15m",
    "scrolled": true
   },
   "outputs": [
    {
     "data": {
      "text/plain": [
       "array(['acid', 'acoustic', 'action', 'adult', 'africa', 'afrikaans',\n",
       "       'alternative', 'alternativepunk', 'ambient', 'americana',\n",
       "       'animated', 'anime', 'arabesk', 'arabic', 'arena',\n",
       "       'argentinetango', 'art', 'audiobook', 'author', 'avantgarde',\n",
       "       'axé', 'baile', 'balkan', 'beats', 'bigroom', 'black', 'bluegrass',\n",
       "       'blues', 'bollywood', 'bossa', 'brazilian', 'breakbeat', 'breaks',\n",
       "       'broadway', 'cantautori', 'cantopop', 'canzone', 'caribbean',\n",
       "       'caucasian', 'celtic', 'chamber', 'chanson', 'children', 'chill',\n",
       "       'chinese', 'choral', 'christian', 'christmas', 'classical',\n",
       "       'classicmetal', 'club', 'colombian', 'comedy', 'conjazz',\n",
       "       'contemporary', 'country', 'cuban', 'dance', 'dancehall',\n",
       "       'dancepop', 'dark', 'death', 'deep', 'deutschrock', 'deutschspr',\n",
       "       'dirty', 'disco', 'dnb', 'documentary', 'downbeat', 'downtempo',\n",
       "       'drum', 'dub', 'dubstep', 'eastern', 'easy', 'electronic',\n",
       "       'electropop', 'emo', 'entehno', 'epicmetal', 'estrada', 'ethnic',\n",
       "       'eurofolk', 'european', 'experimental', 'extrememetal', 'fado',\n",
       "       'fairytail', 'film', 'fitness', 'flamenco', 'folk', 'folklore',\n",
       "       'folkmetal', 'folkrock', 'folktronica', 'forró', 'frankreich',\n",
       "       'französisch', 'french', 'funk', 'future', 'gangsta', 'garage',\n",
       "       'german', 'ghazal', 'gitarre', 'glitch', 'gospel', 'gothic',\n",
       "       'grime', 'grunge', 'gypsy', 'handsup', \"hard'n'heavy\", 'hardcore',\n",
       "       'hardstyle', 'hardtechno', 'hip', 'hip-hop', 'hiphop',\n",
       "       'historisch', 'holiday', 'hop', 'horror', 'house', 'hymn', 'idm',\n",
       "       'independent', 'indian', 'indie', 'indipop', 'industrial',\n",
       "       'inspirational', 'instrumental', 'international', 'irish', 'jam',\n",
       "       'japanese', 'jazz', 'jewish', 'jpop', 'jungle', 'k-pop',\n",
       "       'karadeniz', 'karaoke', 'kayokyoku', 'korean', 'laiko', 'latin',\n",
       "       'latino', 'leftfield', 'local', 'lounge', 'loungeelectronic',\n",
       "       'lovers', 'malaysian', 'mandopop', 'marschmusik', 'meditative',\n",
       "       'mediterranean', 'melodic', 'metal', 'metalcore', 'mexican',\n",
       "       'middle', 'minimal', 'miscellaneous', 'modern', 'mood', 'mpb',\n",
       "       'muslim', 'native', 'neoklassik', 'neue', 'new', 'newage',\n",
       "       'newwave', 'nu', 'nujazz', 'numetal', 'oceania', 'old', 'opera',\n",
       "       'orchestral', 'other', 'piano', 'podcasts', 'pop', 'popdance',\n",
       "       'popelectronic', 'popeurodance', 'poprussian', 'post',\n",
       "       'posthardcore', 'postrock', 'power', 'progmetal', 'progressive',\n",
       "       'psychedelic', 'punjabi', 'punk', 'quebecois', 'ragga', 'ram',\n",
       "       'rancheras', 'rap', 'rave', 'reggae', 'reggaeton', 'regional',\n",
       "       'relax', 'religious', 'retro', 'rhythm', 'rnb', 'rnr', 'rock',\n",
       "       'rockabilly', 'rockalternative', 'rockindie', 'rockother',\n",
       "       'romance', 'roots', 'ruspop', 'rusrap', 'rusrock', 'russian',\n",
       "       'salsa', 'samba', 'scenic', 'schlager', 'self', 'sertanejo',\n",
       "       'shanson', 'shoegazing', 'showtunes', 'singer', 'ska', 'skarock',\n",
       "       'slow', 'smooth', 'soft', 'soul', 'soulful', 'sound', 'soundtrack',\n",
       "       'southern', 'specialty', 'speech', 'spiritual', 'sport',\n",
       "       'stonerrock', 'surf', 'swing', 'synthpop', 'synthrock',\n",
       "       'sängerportrait', 'tango', 'tanzorchester', 'taraftar', 'tatar',\n",
       "       'tech', 'techno', 'teen', 'thrash', 'top', 'traditional',\n",
       "       'tradjazz', 'trance', 'tribal', 'trip', 'triphop', 'tropical',\n",
       "       'türk', 'türkçe', 'ukrrock', 'unknown', 'urban', 'uzbek',\n",
       "       'variété', 'vi', 'videogame', 'vocal', 'western', 'world',\n",
       "       'worldbeat', 'ïîï', 'электроника'], dtype=object)"
      ]
     },
     "execution_count": 20,
     "metadata": {},
     "output_type": "execute_result"
    }
   ],
   "source": [
    "# Проверка на неявные дубликаты\n",
    "df['genre'].sort_values().unique()"
   ]
  },
  {
   "cell_type": "markdown",
   "metadata": {
    "id": "jz6a9-7HQUDd"
   },
   "source": [
    "**Выводы**\n",
    "\n",
    "Предобработка обнаружила три проблемы в данных:\n",
    "\n",
    "- нарушения в стиле заголовков,\n",
    "- пропущенные значения,\n",
    "- дубликаты — явные и неявные.\n",
    "\n",
    "Вы исправили заголовки, чтобы упростить работу с таблицей. Без дубликатов исследование станет более точным.\n",
    "\n",
    "Пропущенные значения вы заменили на `'unknown'`. Ещё предстоит увидеть, не повредят ли исследованию пропуски в колонке `genre`.\n",
    "\n",
    "Теперь можно перейти к проверке гипотез. "
   ]
  },
  {
   "cell_type": "markdown",
   "metadata": {
    "id": "WttZHXH0SqKk"
   },
   "source": [
    "## Проверка гипотез"
   ]
  },
  {
   "cell_type": "markdown",
   "metadata": {
    "id": "Im936VVi_Zcu"
   },
   "source": [
    "### Сравнение поведения пользователей двух столиц"
   ]
  },
  {
   "cell_type": "markdown",
   "metadata": {
    "id": "nwt_MuaL_Zcu"
   },
   "source": [
    "Первая гипотеза утверждает, что пользователи по-разному слушают музыку в Москве и Санкт-Петербурге. Проверьте это предположение по данным о трёх днях недели — понедельнике, среде и пятнице. Для этого:\n",
    "\n",
    "* Разделите пользователей Москвы и Санкт-Петербурга\n",
    "* Сравните, сколько треков послушала каждая группа пользователей в понедельник, среду и пятницу.\n"
   ]
  },
  {
   "cell_type": "markdown",
   "metadata": {
    "id": "8Dw_YMmT_Zcu"
   },
   "source": [
    "Для тренировки сначала выполните каждый из расчётов по отдельности. \n",
    "\n",
    "Оцените активность пользователей в каждом городе. Сгруппируйте данные по городу и посчитайте прослушивания в каждой группе.\n",
    "\n"
   ]
  },
  {
   "cell_type": "code",
   "execution_count": 28,
   "metadata": {
    "id": "0_Qs96oh_Zcu"
   },
   "outputs": [
    {
     "data": {
      "text/plain": [
       "city\n",
       "Moscow              42741\n",
       "Saint-Petersburg    18512\n",
       "Name: city, dtype: int64"
      ]
     },
     "execution_count": 28,
     "metadata": {},
     "output_type": "execute_result"
    }
   ],
   "source": [
    "# Подсчёт прослушиваний в каждом городе\n",
    "df.groupby('city')['city'].count()"
   ]
  },
  {
   "cell_type": "markdown",
   "metadata": {
    "id": "dzli3w8o_Zcu"
   },
   "source": [
    "В Москве прослушиваний больше, чем в Петербурге. Из этого не следует, что московские пользователи чаще слушают музыку. Просто самих пользователей в Москве больше.\n",
    "\n",
    "Теперь сгруппируйте данные по дню недели и подсчитайте прослушивания в понедельник, среду и пятницу. Учтите, что в данных есть информация только о прослушиваниях только за эти дни.\n"
   ]
  },
  {
   "cell_type": "code",
   "execution_count": 21,
   "metadata": {
    "id": "uZMKjiJz_Zcu"
   },
   "outputs": [
    {
     "data": {
      "text/plain": [
       "day\n",
       "Friday       21840\n",
       "Monday       21354\n",
       "Wednesday    18059\n",
       "Name: user_id, dtype: int64"
      ]
     },
     "execution_count": 21,
     "metadata": {},
     "output_type": "execute_result"
    }
   ],
   "source": [
    "# Подсчёт прослушиваний в каждый из трёх дней\n",
    "df.groupby('day')['user_id'].count()"
   ]
  },
  {
   "cell_type": "markdown",
   "metadata": {
    "id": "POzs8bGa_Zcu"
   },
   "source": [
    "Вы видели, как работает группировка по городу и по дням недели. Теперь напишите функцию, которая объединит два эти расчёта.\n",
    "\n",
    "Создайте функцию `number_tracks()`, которая посчитает прослушивания для заданного дня и города. Ей понадобятся два параметра:\n",
    "* день недели,\n",
    "* название города.\n",
    "\n",
    "В функции сохраните в переменную строки исходной таблицы, у которых значение:\n",
    "  * в колонке `day` равно параметру `day`,\n",
    "  * в колонке `city` равно параметру `city`.\n",
    "\n",
    "Для этого примените последовательную фильтрацию с логической индексацией.\n",
    "\n",
    "Затем посчитайте значения в столбце `user_id` получившейся таблицы. Результат сохраните в новую переменную. Верните эту переменную из функции."
   ]
  },
  {
   "cell_type": "code",
   "execution_count": 29,
   "metadata": {
    "id": "Nz3GdQB1_Zcu"
   },
   "outputs": [],
   "source": [
    "# <создание функции number_tracks()>\n",
    "# Объявляется функция с двумя параметрами: day, city.\n",
    "# В переменной track_list сохраняются те строки таблицы df, для которых \n",
    "# значение в столбце 'day' равно параметру day и одновременно значение\n",
    "# в столбце 'city' равно параметру city (используйте последовательную фильтрацию\n",
    "# с помощью логической индексации).\n",
    "# В переменной track_list_count сохраняется число значений столбца 'user_id',\n",
    "# рассчитанное методом count() для таблицы track_list.\n",
    "# Функция возвращает число - значение track_list_count.\n",
    "# Функция для подсчёта прослушиваний для конкретного города и дня.\n",
    "# С помощью последовательной фильтрации с логической индексацией она \n",
    "# сначала получит из исходной таблицы строки с нужным днём,\n",
    "# затем из результата отфильтрует строки с нужным городом,\n",
    "# методом count() посчитает количество значений в колонке user_id. \n",
    "# Это количество функция вернёт в качестве результата\n",
    "\n",
    "def number_tracks(day, city):\n",
    "    track_list = df[df['day'] == day]#['day'] Я так и не понял зачем нужно указывать последний аргумент ['day']\n",
    "    track_list = track_list[track_list['city'] == city]#['city']#same\n",
    "    track_list_count = track_list['user_id'].count()\n",
    "    return track_list_count"
   ]
  },
  {
   "cell_type": "markdown",
   "metadata": {
    "id": "ytf7xFrFJQ2r"
   },
   "source": [
    "Вызовите `number_tracks()` шесть раз, меняя значение параметров — так, чтобы получить данные для каждого города в каждый из трёх дней."
   ]
  },
  {
   "cell_type": "code",
   "execution_count": 35,
   "metadata": {
    "id": "rJcRATNQ_Zcu"
   },
   "outputs": [
    {
     "data": {
      "text/plain": [
       "15740"
      ]
     },
     "execution_count": 35,
     "metadata": {},
     "output_type": "execute_result"
    }
   ],
   "source": [
    "# количество прослушиваний в Москве по понедельникам\n",
    "number_tracks('Monday', 'Moscow')"
   ]
  },
  {
   "cell_type": "code",
   "execution_count": 22,
   "metadata": {
    "id": "hq_ncZ5T_Zcu"
   },
   "outputs": [
    {
     "data": {
      "text/plain": [
       "5614"
      ]
     },
     "execution_count": 22,
     "metadata": {},
     "output_type": "execute_result"
    }
   ],
   "source": [
    "# количество прослушиваний в Санкт-Петербурге по понедельникам\n",
    "number_tracks('Monday', 'Saint-Petersburg')"
   ]
  },
  {
   "cell_type": "code",
   "execution_count": 23,
   "metadata": {
    "id": "_NTy2VPU_Zcu"
   },
   "outputs": [
    {
     "data": {
      "text/plain": [
       "11056"
      ]
     },
     "execution_count": 23,
     "metadata": {},
     "output_type": "execute_result"
    }
   ],
   "source": [
    "# количество прослушиваний в Москве по средам\n",
    "number_tracks('Wednesday', 'Moscow')"
   ]
  },
  {
   "cell_type": "code",
   "execution_count": 24,
   "metadata": {
    "id": "j2y3TAwo_Zcu"
   },
   "outputs": [
    {
     "data": {
      "text/plain": [
       "7003"
      ]
     },
     "execution_count": 24,
     "metadata": {},
     "output_type": "execute_result"
    }
   ],
   "source": [
    "# количество прослушиваний в Санкт-Петербурге по средам\n",
    "number_tracks('Wednesday', 'Saint-Petersburg')"
   ]
  },
  {
   "cell_type": "code",
   "execution_count": 25,
   "metadata": {
    "id": "vYDw5u_K_Zcu"
   },
   "outputs": [
    {
     "data": {
      "text/plain": [
       "15945"
      ]
     },
     "execution_count": 25,
     "metadata": {},
     "output_type": "execute_result"
    }
   ],
   "source": [
    "# количество прослушиваний в Москве по пятницам\n",
    "number_tracks('Friday', 'Moscow')"
   ]
  },
  {
   "cell_type": "code",
   "execution_count": 26,
   "metadata": {
    "id": "8_yzFtW3_Zcu",
    "scrolled": true
   },
   "outputs": [
    {
     "data": {
      "text/plain": [
       "5895"
      ]
     },
     "execution_count": 26,
     "metadata": {},
     "output_type": "execute_result"
    }
   ],
   "source": [
    "# количество прослушиваний в Санкт-Петербурге по пятницам\n",
    "number_tracks('Friday', 'Saint-Petersburg')"
   ]
  },
  {
   "cell_type": "markdown",
   "metadata": {
    "id": "7QXffbO-_Zcu"
   },
   "source": [
    "Создайте c помощью конструктора `pd.DataFrame` таблицу, где\n",
    "* названия колонок — `['city', 'monday', 'wednesday', 'friday']`;\n",
    "* данные — результаты, которые вы получили с помощью `number_tracks`."
   ]
  },
  {
   "cell_type": "code",
   "execution_count": 36,
   "metadata": {
    "id": "APAcLpOr_Zcu"
   },
   "outputs": [
    {
     "data": {
      "text/html": [
       "<div>\n",
       "<style scoped>\n",
       "    .dataframe tbody tr th:only-of-type {\n",
       "        vertical-align: middle;\n",
       "    }\n",
       "\n",
       "    .dataframe tbody tr th {\n",
       "        vertical-align: top;\n",
       "    }\n",
       "\n",
       "    .dataframe thead th {\n",
       "        text-align: right;\n",
       "    }\n",
       "</style>\n",
       "<table border=\"1\" class=\"dataframe\">\n",
       "  <thead>\n",
       "    <tr style=\"text-align: right;\">\n",
       "      <th></th>\n",
       "      <th>city</th>\n",
       "      <th>monday</th>\n",
       "      <th>wednesday</th>\n",
       "      <th>friday</th>\n",
       "    </tr>\n",
       "  </thead>\n",
       "  <tbody>\n",
       "    <tr>\n",
       "      <th>0</th>\n",
       "      <td>Moscow</td>\n",
       "      <td>15740</td>\n",
       "      <td>11056</td>\n",
       "      <td>15945</td>\n",
       "    </tr>\n",
       "    <tr>\n",
       "      <th>1</th>\n",
       "      <td>Saint-Petersburg</td>\n",
       "      <td>5614</td>\n",
       "      <td>7003</td>\n",
       "      <td>5895</td>\n",
       "    </tr>\n",
       "  </tbody>\n",
       "</table>\n",
       "</div>"
      ],
      "text/plain": [
       "               city  monday  wednesday  friday\n",
       "0            Moscow   15740      11056   15945\n",
       "1  Saint-Petersburg    5614       7003    5895"
      ]
     },
     "metadata": {},
     "output_type": "display_data"
    }
   ],
   "source": [
    "# Таблица с результатами\n",
    "data = [['Moscow', \n",
    "        number_tracks('Monday', 'Moscow'),\n",
    "        number_tracks('Wednesday', 'Moscow'),\n",
    "        number_tracks('Friday', 'Moscow')],\n",
    "        ['Saint-Petersburg',\n",
    "        number_tracks('Monday', 'Saint-Petersburg'),\n",
    "        number_tracks('Wednesday', 'Saint-Petersburg'),\n",
    "        number_tracks('Friday', 'Saint-Petersburg')],\n",
    "       ]\n",
    "\n",
    "results_df = pd.DataFrame(data = data, columns = ['city', 'monday', 'wednesday', 'friday'])\n",
    "display(results_df)"
   ]
  },
  {
   "cell_type": "markdown",
   "metadata": {
    "id": "-EgPIHYu_Zcu"
   },
   "source": [
    "**Выводы**\n",
    "\n",
    "Данные показывают разницу поведения пользователей:\n",
    "\n",
    "- В Москве пик прослушиваний приходится на понедельник и пятницу, а в среду заметен спад.\n",
    "- В Петербурге, наоборот, больше слушают музыку по средам. Активность в понедельник и пятницу здесь почти в равной мере уступает среде.\n",
    "\n",
    "Значит, данные говорят в пользу первой гипотезы."
   ]
  },
  {
   "cell_type": "markdown",
   "metadata": {
    "id": "atZAxtq4_Zcu"
   },
   "source": [
    "### Музыка в начале и в конце недели"
   ]
  },
  {
   "cell_type": "markdown",
   "metadata": {
    "id": "eXrQqXFH_Zcu"
   },
   "source": [
    "Согласно второй гипотезе, утром в понедельник в Москве преобладают одни жанры, а в Петербурге — другие. Так же и вечером пятницы преобладают разные жанры — в зависимости от города."
   ]
  },
  {
   "cell_type": "markdown",
   "metadata": {
    "id": "S8UcW6Hw_Zcu"
   },
   "source": [
    "Сохраните таблицы с данными в две переменные:\n",
    "* по Москве — в `moscow_general`;\n",
    "* по Санкт-Петербургу — в `spb_general`."
   ]
  },
  {
   "cell_type": "code",
   "execution_count": 43,
   "metadata": {
    "id": "qeaFfM_P_Zcu"
   },
   "outputs": [],
   "source": [
    "# получение таблицы moscow_general из тех строк таблицы df, \n",
    "# для которых значение в столбце 'city' равно 'Moscow'\n",
    "moscow_general = df[df['city'] == 'Moscow']"
   ]
  },
  {
   "cell_type": "code",
   "execution_count": 44,
   "metadata": {
    "id": "ORaVRKto_Zcu"
   },
   "outputs": [],
   "source": [
    "# получение таблицы spb_general из тех строк таблицы df,\n",
    "# для которых значение в столбце 'city' равно 'Saint-Petersburg'\n",
    "spb_general = df[df['city'] == 'Saint-Petersburg']"
   ]
  },
  {
   "cell_type": "markdown",
   "metadata": {
    "id": "MEJV-CX2_Zcu"
   },
   "source": [
    "Создайте функцию `genre_weekday()` с четырьмя параметрами:\n",
    "* таблица (датафрейм) с данными,\n",
    "* день недели,\n",
    "* начальная временная метка в формате 'hh:mm', \n",
    "* последняя временная метка в формате 'hh:mm'.\n",
    "\n",
    "Функция должна вернуть информацию о топ-10 жанров тех треков, которые прослушивали в указанный день, в промежутке между двумя отметками времени."
   ]
  },
  {
   "cell_type": "code",
   "execution_count": 40,
   "metadata": {
    "id": "laJT9BYl_Zcu"
   },
   "outputs": [],
   "source": [
    "# Объявление функции genre_weekday() с параметрами table, day, time1, time2,\n",
    "# которая возвращает информацию о самых популярных жанрах в указанный день в\n",
    "# заданное время:\n",
    "# 1) в переменную genre_df сохраняются те строки переданного датафрейма table, для\n",
    "#    которых одновременно:\n",
    "#    - значение в столбце day равно значению аргумента day\n",
    "#    - значение в столбце time больше значения аргумента time1\n",
    "#    - значение в столбце time меньше значения аргумента time2\n",
    "#    Используйте последовательную фильтрацию с помощью логической индексации.\n",
    "def genre_weekday(table, day, time1, time2):\n",
    "    genre_df = table[table['day'] == day]\n",
    "    genre_df = genre_df[genre_df['time'] > time1]\n",
    "    genre_df = genre_df[genre_df['time'] < time2]\n",
    "    genre_df_count = genre_df.groupby('genre')['day'].count()\n",
    "    genre_df_sorted = genre_df_count.sort_values(ascending=False)\n",
    "    return genre_df_sorted.head(10)\n",
    "\n",
    "# 2) сгруппировать датафрейм genre_df по столбцу genre, взять один из его\n",
    "#    столбцов и посчитать методом count() количество записей для каждого из\n",
    "#    присутствующих жанров, получившийся Series записать в переменную\n",
    "#    genre_df_count\n",
    "\n",
    "\n",
    "# 3) отсортировать genre_df_count по убыванию встречаемости и сохранить\n",
    "#    в переменную genre_df_sorted\n",
    "# 4) вернуть Series из 10 первых значений genre_df_sorted, это будут топ-10\n",
    "#    популярных жанров (в указанный день, в заданное время)"
   ]
  },
  {
   "cell_type": "markdown",
   "metadata": {
    "id": "la2s2_PF_Zcu"
   },
   "source": [
    "Cравните результаты функции `genre_weekday()` для Москвы и Санкт-Петербурга в понедельник утром (с 7:00 до 11:00) и в пятницу вечером (с 17:00 до 23:00):"
   ]
  },
  {
   "cell_type": "code",
   "execution_count": 41,
   "metadata": {
    "id": "yz7itPUQ_Zcu"
   },
   "outputs": [
    {
     "data": {
      "text/plain": [
       "genre\n",
       "pop            781\n",
       "dance          549\n",
       "electronic     480\n",
       "rock           474\n",
       "hip            281\n",
       "ruspop         186\n",
       "world          181\n",
       "rusrap         175\n",
       "alternative    164\n",
       "unknown        161\n",
       "Name: day, dtype: int64"
      ]
     },
     "execution_count": 41,
     "metadata": {},
     "output_type": "execute_result"
    }
   ],
   "source": [
    "# вызов функции для утра понедельника в Москве (вместо df — таблица moscow_general)\n",
    "# объекты, хранящие время, являются строками и сравниваются как строки\n",
    "# пример вызова: genre_weekday(moscow_general, 'Monday', '07:00', '11:00')\n",
    "genre_weekday(moscow_general, 'Monday', '07:00', '11:00')"
   ]
  },
  {
   "cell_type": "code",
   "execution_count": 45,
   "metadata": {
    "id": "kwUcHPdy_Zcu"
   },
   "outputs": [
    {
     "data": {
      "text/plain": [
       "genre\n",
       "pop            218\n",
       "dance          182\n",
       "rock           162\n",
       "electronic     147\n",
       "hip             79\n",
       "ruspop          64\n",
       "alternative     58\n",
       "rusrap          55\n",
       "jazz            44\n",
       "classical       40\n",
       "Name: day, dtype: int64"
      ]
     },
     "execution_count": 45,
     "metadata": {},
     "output_type": "execute_result"
    }
   ],
   "source": [
    "# вызов функции для утра понедельника в Петербурге (вместо df — таблица spb_general)\n",
    "genre_weekday(spb_general, 'Monday', '07:00', '11:00')"
   ]
  },
  {
   "cell_type": "code",
   "execution_count": 71,
   "metadata": {
    "id": "EzXVRE1o_Zcu"
   },
   "outputs": [
    {
     "data": {
      "text/plain": [
       "genre\n",
       "pop            717\n",
       "dance          524\n",
       "rock           518\n",
       "electronic     485\n",
       "hiphop         238\n",
       "alternative    182\n",
       "classical      172\n",
       "world          172\n",
       "ruspop         149\n",
       "rusrap         133\n",
       "Name: day, dtype: int64"
      ]
     },
     "execution_count": 71,
     "metadata": {},
     "output_type": "execute_result"
    }
   ],
   "source": [
    "# вызов функции для вечера пятницы в Москве\n",
    "genre_weekday(moscow_general, 'Monday', '17:00', '23:00')"
   ]
  },
  {
   "cell_type": "code",
   "execution_count": 46,
   "metadata": {
    "id": "JZaEKu5v_Zcu",
    "scrolled": true
   },
   "outputs": [
    {
     "data": {
      "text/plain": [
       "genre\n",
       "pop            256\n",
       "electronic     216\n",
       "rock           216\n",
       "dance          210\n",
       "hip             94\n",
       "alternative     63\n",
       "jazz            61\n",
       "classical       60\n",
       "rusrap          59\n",
       "world           54\n",
       "Name: day, dtype: int64"
      ]
     },
     "execution_count": 46,
     "metadata": {},
     "output_type": "execute_result"
    }
   ],
   "source": [
    "# вызов функции для вечера пятницы в Петербурге\n",
    "genre_weekday(spb_general, 'Friday', '17:00', '23:00')"
   ]
  },
  {
   "cell_type": "markdown",
   "metadata": {
    "id": "wrCe4MNX_Zcu"
   },
   "source": [
    "**Выводы**\n",
    "\n",
    "Если сравнить топ-10 жанров в понедельник утром, можно сделать такие выводы:\n",
    "\n",
    "1. В Москве и Петербурге слушают похожую музыку. Единственное отличие — в московский рейтинг вошёл жанр “world”, а в петербургский — джаз и классика.\n",
    "\n",
    "2. В Москве пропущенных значений оказалось так много, что значение `'unknown'` заняло десятое место среди самых популярных жанров. Значит, пропущенные значения занимают существенную долю в данных и угрожают достоверности исследования.\n",
    "\n",
    "Вечер пятницы не меняет эту картину. Некоторые жанры поднимаются немного выше, другие спускаются, но в целом топ-10 остаётся тем же самым.\n",
    "\n",
    "Таким образом, вторая гипотеза подтвердилась лишь частично:\n",
    "* Пользователи слушают похожую музыку в начале недели и в конце.\n",
    "* Разница между Москвой и Петербургом не слишком выражена. В Москве чаще слушают русскую популярную музыку, в Петербурге — джаз.\n",
    "\n",
    "Однако пропуски в данных ставят под сомнение этот результат. В Москве их так много, что рейтинг топ-10 мог бы выглядеть иначе, если бы не утерянные  данные о жанрах."
   ]
  },
  {
   "cell_type": "markdown",
   "metadata": {
    "id": "JolODAqr_Zcu"
   },
   "source": [
    "### Жанровые предпочтения в Москве и Петербурге\n",
    "\n",
    "Гипотеза: Петербург — столица рэпа, музыку этого жанра там слушают чаще, чем в Москве.  А Москва — город контрастов, в котором, тем не менее, преобладает поп-музыка."
   ]
  },
  {
   "cell_type": "markdown",
   "metadata": {
    "id": "DlegSvaT_Zcu"
   },
   "source": [
    "Сгруппируйте таблицу `moscow_general` по жанру и посчитайте прослушивания треков каждого жанра методом `count()`. Затем отсортируйте результат в порядке убывания и сохраните его в таблице `moscow_genres`."
   ]
  },
  {
   "cell_type": "code",
   "execution_count": 47,
   "metadata": {
    "id": "r19lIPke_Zcu"
   },
   "outputs": [],
   "source": [
    "# одной строкой: группировка таблицы moscow_general по столбцу 'genre', \n",
    "# подсчёт числа значений 'genre' в этой группировке методом count(), \n",
    "# сортировка получившегося Series в порядке убывания и сохранение в moscow_genres\n",
    "moscow_genres = (moscow_general.groupby('genre')['genre'].count()).sort_values(ascending=False)"
   ]
  },
  {
   "cell_type": "markdown",
   "metadata": {
    "id": "6kMuomxTiIr8"
   },
   "source": [
    "Выведите на экран первые десять строк `moscow_genres`:"
   ]
  },
  {
   "cell_type": "code",
   "execution_count": 48,
   "metadata": {
    "id": "WhCSooF8_Zcv"
   },
   "outputs": [
    {
     "data": {
      "text/plain": [
       "genre\n",
       "pop            5892\n",
       "dance          4435\n",
       "rock           3965\n",
       "electronic     3786\n",
       "hip            2041\n",
       "classical      1616\n",
       "world          1432\n",
       "alternative    1379\n",
       "ruspop         1372\n",
       "rusrap         1161\n",
       "Name: genre, dtype: int64"
      ]
     },
     "execution_count": 48,
     "metadata": {},
     "output_type": "execute_result"
    }
   ],
   "source": [
    "# просмотр первых 10 строк moscow_genres\n",
    "moscow_genres.head(10)"
   ]
  },
  {
   "cell_type": "markdown",
   "metadata": {
    "id": "cnPG2vnN_Zcv"
   },
   "source": [
    "Теперь повторите то же и для Петербурга.\n",
    "\n",
    "Сгруппируйте таблицу `spb_general` по жанру. Посчитайте прослушивания треков каждого жанра. Результат отсортируйте в порядке убывания и сохраните в таблице `spb_genres`:\n"
   ]
  },
  {
   "cell_type": "code",
   "execution_count": 49,
   "metadata": {
    "id": "gluLIpE7_Zcv"
   },
   "outputs": [],
   "source": [
    "# одной строкой: группировка таблицы spb_general по столбцу 'genre', \n",
    "# подсчёт числа значений 'genre' в этой группировке методом count(), \n",
    "# сортировка получившегося Series в порядке убывания и сохранение в spb_genres\n",
    "spb_genres = spb_general.groupby('genre')['genre'].count().sort_values(ascending=False)"
   ]
  },
  {
   "cell_type": "markdown",
   "metadata": {
    "id": "5Doha_ODgyQ8"
   },
   "source": [
    "Выведите на экран первые десять строк `spb_genres`:"
   ]
  },
  {
   "cell_type": "code",
   "execution_count": 50,
   "metadata": {
    "id": "uaGJHjVU_Zcv",
    "scrolled": true
   },
   "outputs": [
    {
     "data": {
      "text/plain": [
       "genre\n",
       "pop            2431\n",
       "dance          1932\n",
       "rock           1879\n",
       "electronic     1736\n",
       "hip             934\n",
       "alternative     649\n",
       "classical       646\n",
       "rusrap          564\n",
       "ruspop          538\n",
       "world           515\n",
       "Name: genre, dtype: int64"
      ]
     },
     "execution_count": 50,
     "metadata": {},
     "output_type": "execute_result"
    }
   ],
   "source": [
    "# просмотр первых 10 строк spb_genres\n",
    "spb_genres.head(10)"
   ]
  },
  {
   "cell_type": "markdown",
   "metadata": {
    "id": "RY51YJYu_Zcv"
   },
   "source": [
    "**Выводы**"
   ]
  },
  {
   "cell_type": "markdown",
   "metadata": {
    "id": "nVhnJEm__Zcv"
   },
   "source": [
    "Гипотеза частично подтвердилась:\n",
    "* Поп-музыка — самый популярный жанр в Москве, как и предполагала гипотеза. Более того, в топ-10 жанров встречается близкий жанр — русская популярная музыка.\n",
    "* Вопреки ожиданиям, рэп одинаково популярен в Москве и Петербурге. \n"
   ]
  },
  {
   "cell_type": "markdown",
   "metadata": {
    "id": "ykKQ0N65_Zcv"
   },
   "source": [
    "## Итоги исследования"
   ]
  },
  {
   "cell_type": "markdown",
   "metadata": {
    "id": "tjUwbHb3_Zcv"
   },
   "source": [
    "Вы проверили три гипотезы и установили:\n",
    "\n",
    "1. День недели по-разному влияет на активность пользователей в Москве и Петербурге. \n",
    "\n",
    "Первая гипотеза полностью подтвердилась.\n",
    "\n",
    "2. Музыкальные предпочтения не сильно меняются в течение недели — будь то Москва или Петербург. Небольшие различия заметны в начале недели, по понедельникам:\n",
    "* в Москве слушают музыку жанра “world”,\n",
    "* в Петербурге — джаз и классику.\n",
    "\n",
    "Таким образом, вторая гипотеза подтвердилась лишь отчасти. Этот результат мог оказаться иным, если бы не пропуски в данных.\n",
    "\n",
    "3. Во вкусах пользователей Москвы и Петербурга больше общего чем различий. Вопреки ожиданиям, предпочтения жанров в Петербурге напоминают московские.\n",
    "\n",
    "Третья гипотеза не подтвердилась. Если различия в предпочтениях и существуют, на основной массе пользователей они незаметны.\n",
    "\n",
    "**На практике исследования содержат проверки статистических гипотез.**\n",
    "Из данных одного сервиса не всегда можно сделать вывод о всех жителях города.\n",
    "Проверки статистических гипотез покажут, насколько они достоверны, исходя из имеющихся данных. \n",
    "С методами проверок гипотез вы ещё познакомитесь в следующих темах."
   ]
  }
 ],
 "metadata": {
  "ExecuteTimeLog": [
   {
    "duration": 523,
    "start_time": "2022-03-20T16:23:11.441Z"
   },
   {
    "duration": 189,
    "start_time": "2022-03-20T16:23:59.678Z"
   },
   {
    "duration": 117,
    "start_time": "2022-03-20T16:25:13.969Z"
   },
   {
    "duration": 12,
    "start_time": "2022-03-20T16:25:20.065Z"
   },
   {
    "duration": 149,
    "start_time": "2022-03-20T16:26:04.625Z"
   },
   {
    "duration": 11,
    "start_time": "2022-03-20T16:28:03.685Z"
   },
   {
    "duration": 185,
    "start_time": "2022-03-20T16:28:07.692Z"
   },
   {
    "duration": 10,
    "start_time": "2022-03-20T16:28:11.638Z"
   },
   {
    "duration": 74,
    "start_time": "2022-03-20T16:28:22.021Z"
   },
   {
    "duration": 185,
    "start_time": "2022-03-20T16:31:11.633Z"
   },
   {
    "duration": 196,
    "start_time": "2022-03-20T16:31:14.234Z"
   },
   {
    "duration": 26,
    "start_time": "2022-03-20T16:31:17.042Z"
   },
   {
    "duration": 40,
    "start_time": "2022-03-20T16:31:21.223Z"
   },
   {
    "duration": 36,
    "start_time": "2022-03-20T16:35:54.753Z"
   },
   {
    "duration": 109,
    "start_time": "2022-03-20T16:37:29.265Z"
   },
   {
    "duration": 47,
    "start_time": "2022-03-20T16:39:50.240Z"
   },
   {
    "duration": 54,
    "start_time": "2022-03-20T16:40:05.370Z"
   },
   {
    "duration": 41,
    "start_time": "2022-03-20T16:40:08.841Z"
   },
   {
    "duration": 44,
    "start_time": "2022-03-20T16:40:11.536Z"
   },
   {
    "duration": 51,
    "start_time": "2022-03-20T16:40:14.721Z"
   },
   {
    "duration": 39,
    "start_time": "2022-03-20T16:40:27.326Z"
   },
   {
    "duration": 42,
    "start_time": "2022-03-20T16:40:52.085Z"
   },
   {
    "duration": 11,
    "start_time": "2022-03-20T16:41:36.886Z"
   },
   {
    "duration": 5,
    "start_time": "2022-03-20T16:42:16.269Z"
   },
   {
    "duration": 12,
    "start_time": "2022-03-20T16:42:30.664Z"
   },
   {
    "duration": 7,
    "start_time": "2022-03-20T16:42:36.980Z"
   },
   {
    "duration": 32,
    "start_time": "2022-03-20T16:44:00.719Z"
   },
   {
    "duration": 10,
    "start_time": "2022-03-20T16:46:43.711Z"
   },
   {
    "duration": 27,
    "start_time": "2022-03-20T16:46:50.972Z"
   },
   {
    "duration": 13,
    "start_time": "2022-03-20T16:47:03.005Z"
   },
   {
    "duration": 12,
    "start_time": "2022-03-20T16:48:29.226Z"
   },
   {
    "duration": 13,
    "start_time": "2022-03-20T16:48:46.786Z"
   },
   {
    "duration": 10,
    "start_time": "2022-03-20T16:48:53.478Z"
   },
   {
    "duration": 10,
    "start_time": "2022-03-20T16:48:57.682Z"
   },
   {
    "duration": 11,
    "start_time": "2022-03-20T16:49:02.761Z"
   },
   {
    "duration": 3,
    "start_time": "2022-03-20T16:49:08.282Z"
   },
   {
    "duration": 186,
    "start_time": "2022-03-20T16:49:10.379Z"
   },
   {
    "duration": 22,
    "start_time": "2022-03-20T16:49:14.857Z"
   },
   {
    "duration": 39,
    "start_time": "2022-03-20T16:49:22.093Z"
   },
   {
    "duration": 6,
    "start_time": "2022-03-20T16:49:26.977Z"
   },
   {
    "duration": 14,
    "start_time": "2022-03-20T16:49:29.741Z"
   },
   {
    "duration": 6,
    "start_time": "2022-03-20T16:49:31.892Z"
   },
   {
    "duration": 33,
    "start_time": "2022-03-20T16:49:36.171Z"
   },
   {
    "duration": 38,
    "start_time": "2022-03-20T16:49:38.955Z"
   },
   {
    "duration": 36,
    "start_time": "2022-03-20T16:49:43.051Z"
   },
   {
    "duration": 2116,
    "start_time": "2022-03-20T16:49:52.194Z"
   },
   {
    "duration": 2188,
    "start_time": "2022-03-20T16:51:56.947Z"
   },
   {
    "duration": 2184,
    "start_time": "2022-03-20T16:53:40.003Z"
   },
   {
    "duration": 31,
    "start_time": "2022-03-20T16:53:44.281Z"
   },
   {
    "duration": 2109,
    "start_time": "2022-03-20T16:54:12.772Z"
   },
   {
    "duration": 2030,
    "start_time": "2022-03-20T17:44:25.617Z"
   },
   {
    "duration": 31,
    "start_time": "2022-03-20T17:44:57.373Z"
   },
   {
    "duration": 5,
    "start_time": "2022-03-20T17:47:56.413Z"
   },
   {
    "duration": 2525,
    "start_time": "2022-03-20T17:48:23.771Z"
   },
   {
    "duration": 1991,
    "start_time": "2022-03-20T17:51:21.539Z"
   },
   {
    "duration": 10,
    "start_time": "2022-03-20T17:52:21.377Z"
   },
   {
    "duration": 10,
    "start_time": "2022-03-20T17:52:26.632Z"
   },
   {
    "duration": 22,
    "start_time": "2022-03-20T17:52:55.726Z"
   },
   {
    "duration": 31,
    "start_time": "2022-03-20T17:53:00.424Z"
   },
   {
    "duration": 10,
    "start_time": "2022-03-20T17:54:37.207Z"
   },
   {
    "duration": 96,
    "start_time": "2022-03-20T17:54:53.002Z"
   },
   {
    "duration": 104,
    "start_time": "2022-03-20T17:55:34.819Z"
   },
   {
    "duration": 83,
    "start_time": "2022-03-20T17:55:53.505Z"
   },
   {
    "duration": 111,
    "start_time": "2022-03-20T17:55:58.947Z"
   },
   {
    "duration": 85,
    "start_time": "2022-03-20T17:56:01.324Z"
   },
   {
    "duration": 99,
    "start_time": "2022-03-20T17:56:13.876Z"
   },
   {
    "duration": 81,
    "start_time": "2022-03-20T17:56:16.715Z"
   },
   {
    "duration": 13,
    "start_time": "2022-03-20T17:56:52.275Z"
   },
   {
    "duration": 4,
    "start_time": "2022-03-20T18:00:33.693Z"
   },
   {
    "duration": 13,
    "start_time": "2022-03-20T18:00:35.999Z"
   },
   {
    "duration": 8,
    "start_time": "2022-03-20T18:00:51.995Z"
   },
   {
    "duration": 7,
    "start_time": "2022-03-20T18:01:03.314Z"
   },
   {
    "duration": 11,
    "start_time": "2022-03-20T18:01:11.654Z"
   },
   {
    "duration": 19,
    "start_time": "2022-03-20T18:02:24.553Z"
   },
   {
    "duration": 24,
    "start_time": "2022-03-20T18:02:34.925Z"
   },
   {
    "duration": 22,
    "start_time": "2022-03-20T18:02:45.663Z"
   },
   {
    "duration": 83,
    "start_time": "2022-03-20T18:03:03.162Z"
   },
   {
    "duration": 22,
    "start_time": "2022-03-20T18:03:05.356Z"
   },
   {
    "duration": 4,
    "start_time": "2022-03-20T18:03:18.000Z"
   },
   {
    "duration": 14,
    "start_time": "2022-03-20T18:03:20.028Z"
   },
   {
    "duration": 23,
    "start_time": "2022-03-20T18:03:21.404Z"
   },
   {
    "duration": 35,
    "start_time": "2022-03-20T18:03:49.032Z"
   },
   {
    "duration": 8,
    "start_time": "2022-03-20T18:07:52.409Z"
   },
   {
    "duration": 9,
    "start_time": "2022-03-20T18:07:54.758Z"
   },
   {
    "duration": 12,
    "start_time": "2022-03-20T18:08:02.375Z"
   },
   {
    "duration": 9,
    "start_time": "2022-03-20T18:08:27.631Z"
   },
   {
    "duration": 9,
    "start_time": "2022-03-20T18:08:29.597Z"
   },
   {
    "duration": 10,
    "start_time": "2022-03-20T18:08:41.539Z"
   },
   {
    "duration": 17,
    "start_time": "2022-03-20T18:09:16.151Z"
   },
   {
    "duration": 17,
    "start_time": "2022-03-20T18:09:32.380Z"
   },
   {
    "duration": 19,
    "start_time": "2022-03-20T18:10:41.173Z"
   },
   {
    "duration": 121,
    "start_time": "2022-03-20T18:16:10.922Z"
   },
   {
    "duration": 1025,
    "start_time": "2022-03-20T18:16:16.080Z"
   },
   {
    "duration": 36,
    "start_time": "2022-03-20T18:23:40.650Z"
   },
   {
    "duration": 32,
    "start_time": "2022-03-20T18:24:18.341Z"
   },
   {
    "duration": 30,
    "start_time": "2022-03-20T18:24:22.866Z"
   },
   {
    "duration": 36,
    "start_time": "2022-03-20T18:24:35.617Z"
   },
   {
    "duration": 25,
    "start_time": "2022-03-20T18:24:39.447Z"
   },
   {
    "duration": 12,
    "start_time": "2022-03-20T18:26:10.416Z"
   },
   {
    "duration": 7,
    "start_time": "2022-03-20T18:26:34.631Z"
   },
   {
    "duration": 26,
    "start_time": "2022-03-20T18:26:49.023Z"
   },
   {
    "duration": 33,
    "start_time": "2022-03-20T18:27:14.638Z"
   },
   {
    "duration": 16,
    "start_time": "2022-03-20T18:27:43.473Z"
   },
   {
    "duration": 17,
    "start_time": "2022-03-20T18:27:50.875Z"
   },
   {
    "duration": 1180,
    "start_time": "2022-03-20T18:30:44.336Z"
   },
   {
    "duration": 8,
    "start_time": "2022-03-20T18:30:52.111Z"
   },
   {
    "duration": 231,
    "start_time": "2022-03-20T18:31:05.527Z"
   },
   {
    "duration": 14,
    "start_time": "2022-03-20T18:33:31.391Z"
   },
   {
    "duration": 16,
    "start_time": "2022-03-20T18:33:39.809Z"
   },
   {
    "duration": 15,
    "start_time": "2022-03-20T18:33:49.925Z"
   },
   {
    "duration": 16,
    "start_time": "2022-03-20T18:33:54.792Z"
   },
   {
    "duration": 16,
    "start_time": "2022-03-20T18:34:10.437Z"
   },
   {
    "duration": 1320,
    "start_time": "2022-03-20T18:34:31.210Z"
   },
   {
    "duration": 10,
    "start_time": "2022-03-20T18:34:38.262Z"
   },
   {
    "duration": 9,
    "start_time": "2022-03-20T18:34:42.196Z"
   },
   {
    "duration": 10,
    "start_time": "2022-03-20T18:34:55.883Z"
   },
   {
    "duration": 12,
    "start_time": "2022-03-20T18:35:02.692Z"
   },
   {
    "duration": 13,
    "start_time": "2022-03-20T18:41:30.520Z"
   },
   {
    "duration": 13,
    "start_time": "2022-03-20T18:41:38.085Z"
   },
   {
    "duration": 16,
    "start_time": "2022-03-20T18:41:46.393Z"
   },
   {
    "duration": 28,
    "start_time": "2022-03-20T18:41:55.251Z"
   },
   {
    "duration": 26,
    "start_time": "2022-03-20T18:42:04.424Z"
   },
   {
    "duration": 1723,
    "start_time": "2022-03-20T18:42:09.347Z"
   },
   {
    "duration": 25,
    "start_time": "2022-03-20T18:42:15.850Z"
   },
   {
    "duration": 17,
    "start_time": "2022-03-20T18:42:27.460Z"
   },
   {
    "duration": 31,
    "start_time": "2022-03-20T18:43:18.151Z"
   },
   {
    "duration": 41,
    "start_time": "2022-03-20T18:43:32.432Z"
   },
   {
    "duration": 16,
    "start_time": "2022-03-20T18:43:39.163Z"
   },
   {
    "duration": 38,
    "start_time": "2022-03-20T18:43:40.542Z"
   },
   {
    "duration": 10,
    "start_time": "2022-03-20T20:06:34.297Z"
   },
   {
    "duration": 156,
    "start_time": "2022-03-20T20:06:49.171Z"
   },
   {
    "duration": 156,
    "start_time": "2022-03-20T20:06:54.839Z"
   },
   {
    "duration": 131,
    "start_time": "2022-03-20T20:07:02.654Z"
   },
   {
    "duration": 6,
    "start_time": "2022-03-20T20:07:06.418Z"
   },
   {
    "duration": 2533,
    "start_time": "2022-03-20T20:07:09.350Z"
   },
   {
    "duration": 50,
    "start_time": "2022-03-21T06:24:16.900Z"
   },
   {
    "duration": 7,
    "start_time": "2022-03-21T06:24:43.652Z"
   },
   {
    "duration": 397,
    "start_time": "2022-03-21T06:24:52.224Z"
   },
   {
    "duration": 166,
    "start_time": "2022-03-21T06:24:53.652Z"
   },
   {
    "duration": 18,
    "start_time": "2022-03-21T06:24:55.108Z"
   },
   {
    "duration": 33,
    "start_time": "2022-03-21T06:24:58.549Z"
   },
   {
    "duration": 4,
    "start_time": "2022-03-21T06:25:01.508Z"
   },
   {
    "duration": 14,
    "start_time": "2022-03-21T06:25:04.559Z"
   },
   {
    "duration": 5,
    "start_time": "2022-03-21T06:25:05.857Z"
   },
   {
    "duration": 28,
    "start_time": "2022-03-21T06:25:07.652Z"
   },
   {
    "duration": 22,
    "start_time": "2022-03-21T06:25:10.078Z"
   },
   {
    "duration": 26,
    "start_time": "2022-03-21T06:25:11.851Z"
   },
   {
    "duration": 74,
    "start_time": "2022-03-21T06:25:14.472Z"
   },
   {
    "duration": 90,
    "start_time": "2022-03-21T06:25:16.978Z"
   },
   {
    "duration": 63,
    "start_time": "2022-03-21T06:25:18.386Z"
   },
   {
    "duration": 16,
    "start_time": "2022-03-21T06:25:20.948Z"
   },
   {
    "duration": 3,
    "start_time": "2022-03-21T06:25:25.277Z"
   },
   {
    "duration": 13,
    "start_time": "2022-03-21T06:25:26.545Z"
   },
   {
    "duration": 18,
    "start_time": "2022-03-21T06:25:27.841Z"
   },
   {
    "duration": 14,
    "start_time": "2022-03-21T06:25:31.409Z"
   },
   {
    "duration": 36,
    "start_time": "2022-03-21T06:25:33.538Z"
   },
   {
    "duration": 17,
    "start_time": "2022-03-21T06:25:59.720Z"
   },
   {
    "duration": 17,
    "start_time": "2022-03-21T06:26:08.639Z"
   },
   {
    "duration": 17,
    "start_time": "2022-03-21T06:26:16.655Z"
   },
   {
    "duration": 13,
    "start_time": "2022-03-21T06:26:22.635Z"
   },
   {
    "duration": 34,
    "start_time": "2022-03-21T06:26:25.504Z"
   },
   {
    "duration": 4,
    "start_time": "2022-03-21T06:26:29.651Z"
   },
   {
    "duration": 2199,
    "start_time": "2022-03-21T06:26:40.980Z"
   },
   {
    "duration": 32,
    "start_time": "2022-03-21T06:28:02.293Z"
   },
   {
    "duration": 14,
    "start_time": "2022-03-21T06:28:07.377Z"
   },
   {
    "duration": 2113,
    "start_time": "2022-03-21T06:28:43.416Z"
   },
   {
    "duration": 12,
    "start_time": "2022-03-21T06:29:01.486Z"
   },
   {
    "duration": 16,
    "start_time": "2022-03-21T06:29:12.953Z"
   },
   {
    "duration": 23,
    "start_time": "2022-03-21T06:29:23.881Z"
   },
   {
    "duration": 2088,
    "start_time": "2022-03-21T06:30:03.145Z"
   },
   {
    "duration": 27,
    "start_time": "2022-03-21T06:30:09.488Z"
   },
   {
    "duration": 1916,
    "start_time": "2022-03-21T06:31:00.283Z"
   },
   {
    "duration": 4,
    "start_time": "2022-03-21T06:31:05.730Z"
   },
   {
    "duration": 21,
    "start_time": "2022-03-21T06:31:08.851Z"
   },
   {
    "duration": 16,
    "start_time": "2022-03-21T06:31:25.771Z"
   },
   {
    "duration": 19,
    "start_time": "2022-03-21T06:31:44.758Z"
   },
   {
    "duration": 17,
    "start_time": "2022-03-21T06:31:57.445Z"
   },
   {
    "duration": 19,
    "start_time": "2022-03-21T06:32:18.358Z"
   },
   {
    "duration": 17,
    "start_time": "2022-03-21T06:32:20.607Z"
   },
   {
    "duration": 21,
    "start_time": "2022-03-21T06:32:35.720Z"
   },
   {
    "duration": 19,
    "start_time": "2022-03-21T06:32:54.056Z"
   },
   {
    "duration": 11,
    "start_time": "2022-03-21T14:13:05.777Z"
   },
   {
    "duration": 9,
    "start_time": "2022-03-21T14:13:32.776Z"
   },
   {
    "duration": 9,
    "start_time": "2022-03-21T14:14:14.532Z"
   },
   {
    "duration": 21,
    "start_time": "2022-03-21T14:17:53.794Z"
   },
   {
    "duration": 145,
    "start_time": "2022-03-21T14:18:11.915Z"
   },
   {
    "duration": 155,
    "start_time": "2022-03-21T14:18:13.723Z"
   },
   {
    "duration": 96,
    "start_time": "2022-03-21T14:23:52.316Z"
   },
   {
    "duration": 113,
    "start_time": "2022-03-21T14:24:01.495Z"
   },
   {
    "duration": 98,
    "start_time": "2022-03-21T14:24:10.867Z"
   },
   {
    "duration": 99,
    "start_time": "2022-03-21T14:24:25.529Z"
   },
   {
    "duration": 13,
    "start_time": "2022-03-21T14:25:59.228Z"
   },
   {
    "duration": 16,
    "start_time": "2022-03-21T14:26:00.900Z"
   },
   {
    "duration": 5,
    "start_time": "2022-03-21T14:52:14.190Z"
   },
   {
    "duration": 2335,
    "start_time": "2022-03-21T14:52:52.745Z"
   },
   {
    "duration": 5,
    "start_time": "2022-03-21T14:57:15.166Z"
   },
   {
    "duration": 2469,
    "start_time": "2022-03-21T14:57:18.928Z"
   },
   {
    "duration": 8,
    "start_time": "2022-03-21T15:05:54.960Z"
   },
   {
    "duration": 43,
    "start_time": "2022-03-21T15:05:57.194Z"
   },
   {
    "duration": 44,
    "start_time": "2022-03-21T15:06:00.402Z"
   },
   {
    "duration": 5,
    "start_time": "2022-03-21T15:06:16.866Z"
   },
   {
    "duration": 38,
    "start_time": "2022-03-21T15:06:18.701Z"
   },
   {
    "duration": 33,
    "start_time": "2022-03-21T15:06:30.483Z"
   },
   {
    "duration": 2,
    "start_time": "2022-03-21T15:06:38.514Z"
   },
   {
    "duration": 33,
    "start_time": "2022-03-21T15:06:59.313Z"
   },
   {
    "duration": 50,
    "start_time": "2022-03-21T15:07:16.575Z"
   },
   {
    "duration": 32,
    "start_time": "2022-03-21T15:07:21.767Z"
   },
   {
    "duration": 56,
    "start_time": "2022-03-21T15:09:22.811Z"
   },
   {
    "duration": 4,
    "start_time": "2022-03-21T15:09:31.446Z"
   },
   {
    "duration": 30,
    "start_time": "2022-03-21T15:10:41.355Z"
   },
   {
    "duration": 6,
    "start_time": "2022-03-21T15:10:52.899Z"
   },
   {
    "duration": 5,
    "start_time": "2022-03-21T15:11:15.378Z"
   },
   {
    "duration": 5,
    "start_time": "2022-03-21T15:11:18.177Z"
   },
   {
    "duration": 6,
    "start_time": "2022-03-21T15:11:27.431Z"
   },
   {
    "duration": 3,
    "start_time": "2022-03-21T15:12:28.319Z"
   },
   {
    "duration": 5,
    "start_time": "2022-03-21T15:12:35.514Z"
   },
   {
    "duration": 16,
    "start_time": "2022-03-21T15:12:44.020Z"
   },
   {
    "duration": 21,
    "start_time": "2022-03-21T15:12:45.302Z"
   },
   {
    "duration": 15,
    "start_time": "2022-03-21T15:12:58.193Z"
   },
   {
    "duration": 41,
    "start_time": "2022-03-21T15:14:30.995Z"
   },
   {
    "duration": 10,
    "start_time": "2022-03-21T15:14:33.035Z"
   },
   {
    "duration": 10,
    "start_time": "2022-03-21T15:15:33.636Z"
   },
   {
    "duration": 9,
    "start_time": "2022-03-21T15:15:55.252Z"
   },
   {
    "duration": 9,
    "start_time": "2022-03-21T15:15:56.892Z"
   },
   {
    "duration": 32,
    "start_time": "2022-03-21T15:16:11.124Z"
   },
   {
    "duration": 30,
    "start_time": "2022-03-21T15:16:32.245Z"
   },
   {
    "duration": 9,
    "start_time": "2022-03-21T15:16:40.530Z"
   },
   {
    "duration": 39,
    "start_time": "2022-03-21T15:17:30.657Z"
   },
   {
    "duration": 9,
    "start_time": "2022-03-21T15:17:32.554Z"
   },
   {
    "duration": 14,
    "start_time": "2022-03-21T15:17:49.957Z"
   },
   {
    "duration": 31,
    "start_time": "2022-03-21T15:17:54.309Z"
   },
   {
    "duration": 9,
    "start_time": "2022-03-21T15:17:55.922Z"
   },
   {
    "duration": 36,
    "start_time": "2022-03-21T15:19:02.293Z"
   },
   {
    "duration": 9,
    "start_time": "2022-03-21T15:19:03.947Z"
   },
   {
    "duration": 21,
    "start_time": "2022-03-21T15:19:23.789Z"
   },
   {
    "duration": 9,
    "start_time": "2022-03-21T15:19:26.168Z"
   },
   {
    "duration": 2358,
    "start_time": "2022-03-21T15:20:23.308Z"
   },
   {
    "duration": 0,
    "start_time": "2022-03-21T15:20:25.669Z"
   },
   {
    "duration": 3004,
    "start_time": "2022-03-21T15:20:45.692Z"
   },
   {
    "duration": 0,
    "start_time": "2022-03-21T15:20:48.698Z"
   },
   {
    "duration": 16,
    "start_time": "2022-03-21T15:21:48.283Z"
   },
   {
    "duration": 33,
    "start_time": "2022-03-21T15:21:56.495Z"
   },
   {
    "duration": 2430,
    "start_time": "2022-03-21T15:22:34.549Z"
   },
   {
    "duration": 23,
    "start_time": "2022-03-21T15:23:16.271Z"
   },
   {
    "duration": 17,
    "start_time": "2022-03-21T15:23:59.327Z"
   },
   {
    "duration": 16,
    "start_time": "2022-03-21T15:24:24.140Z"
   },
   {
    "duration": 10,
    "start_time": "2022-03-21T15:24:25.859Z"
   },
   {
    "duration": 500,
    "start_time": "2022-03-28T21:16:57.484Z"
   },
   {
    "duration": 197,
    "start_time": "2022-03-28T21:16:57.987Z"
   },
   {
    "duration": 28,
    "start_time": "2022-03-28T21:16:58.186Z"
   },
   {
    "duration": 64,
    "start_time": "2022-03-28T21:16:58.218Z"
   },
   {
    "duration": 6,
    "start_time": "2022-03-28T21:16:58.284Z"
   },
   {
    "duration": 19,
    "start_time": "2022-03-28T21:16:58.292Z"
   },
   {
    "duration": 23,
    "start_time": "2022-03-28T21:16:58.313Z"
   },
   {
    "duration": 48,
    "start_time": "2022-03-28T21:16:58.338Z"
   },
   {
    "duration": 23,
    "start_time": "2022-03-28T21:16:58.389Z"
   },
   {
    "duration": 33,
    "start_time": "2022-03-28T21:16:58.417Z"
   },
   {
    "duration": 102,
    "start_time": "2022-03-28T21:16:58.474Z"
   },
   {
    "duration": 121,
    "start_time": "2022-03-28T21:16:58.578Z"
   },
   {
    "duration": 98,
    "start_time": "2022-03-28T21:16:58.701Z"
   },
   {
    "duration": 21,
    "start_time": "2022-03-28T21:16:58.801Z"
   },
   {
    "duration": 4,
    "start_time": "2022-03-28T21:16:58.824Z"
   },
   {
    "duration": 44,
    "start_time": "2022-03-28T21:16:58.830Z"
   },
   {
    "duration": 22,
    "start_time": "2022-03-28T21:16:58.876Z"
   },
   {
    "duration": 15,
    "start_time": "2022-03-28T21:16:58.900Z"
   },
   {
    "duration": 66,
    "start_time": "2022-03-28T21:16:58.917Z"
   },
   {
    "duration": 5,
    "start_time": "2022-03-28T21:16:58.985Z"
   },
   {
    "duration": 27,
    "start_time": "2022-03-28T21:16:58.993Z"
   },
   {
    "duration": 19,
    "start_time": "2022-03-28T21:16:59.022Z"
   },
   {
    "duration": 45,
    "start_time": "2022-03-28T21:16:59.043Z"
   },
   {
    "duration": 18,
    "start_time": "2022-03-28T21:16:59.090Z"
   },
   {
    "duration": 21,
    "start_time": "2022-03-28T21:16:59.110Z"
   },
   {
    "duration": 57,
    "start_time": "2022-03-28T21:16:59.133Z"
   },
   {
    "duration": 104,
    "start_time": "2022-03-28T21:16:59.192Z"
   },
   {
    "duration": 13,
    "start_time": "2022-03-28T21:16:59.301Z"
   },
   {
    "duration": 12,
    "start_time": "2022-03-28T21:16:59.316Z"
   },
   {
    "duration": 5,
    "start_time": "2022-03-28T21:16:59.331Z"
   },
   {
    "duration": 75,
    "start_time": "2022-03-28T21:16:59.338Z"
   },
   {
    "duration": 35,
    "start_time": "2022-03-28T21:16:59.416Z"
   },
   {
    "duration": 47,
    "start_time": "2022-03-28T21:16:59.473Z"
   },
   {
    "duration": 62,
    "start_time": "2022-03-28T21:16:59.524Z"
   },
   {
    "duration": 32,
    "start_time": "2022-03-28T21:16:59.588Z"
   },
   {
    "duration": 12,
    "start_time": "2022-03-28T21:16:59.622Z"
   },
   {
    "duration": 43,
    "start_time": "2022-03-28T21:16:59.636Z"
   },
   {
    "duration": 12,
    "start_time": "2022-03-28T21:16:59.681Z"
   },
   {
    "duration": 92,
    "start_time": "2022-03-28T21:28:45.552Z"
   },
   {
    "duration": 101,
    "start_time": "2022-03-28T21:44:28.422Z"
   },
   {
    "duration": 53,
    "start_time": "2022-03-30T10:15:32.107Z"
   },
   {
    "duration": 6,
    "start_time": "2022-03-30T10:16:06.107Z"
   },
   {
    "duration": 424,
    "start_time": "2022-03-30T10:16:13.235Z"
   },
   {
    "duration": 185,
    "start_time": "2022-03-30T10:16:16.081Z"
   },
   {
    "duration": 19,
    "start_time": "2022-03-30T10:16:19.927Z"
   },
   {
    "duration": 32,
    "start_time": "2022-03-30T10:16:23.543Z"
   },
   {
    "duration": 4,
    "start_time": "2022-03-30T10:16:39.247Z"
   },
   {
    "duration": 14,
    "start_time": "2022-03-30T10:16:49.007Z"
   },
   {
    "duration": 5,
    "start_time": "2022-03-30T10:16:51.201Z"
   },
   {
    "duration": 12,
    "start_time": "2022-03-30T10:16:52.970Z"
   },
   {
    "duration": 4,
    "start_time": "2022-03-30T10:16:55.931Z"
   },
   {
    "duration": 27,
    "start_time": "2022-03-30T10:17:07.159Z"
   },
   {
    "duration": 19,
    "start_time": "2022-03-30T10:17:14.814Z"
   },
   {
    "duration": 27,
    "start_time": "2022-03-30T10:17:17.142Z"
   },
   {
    "duration": 72,
    "start_time": "2022-03-30T10:17:21.119Z"
   },
   {
    "duration": 83,
    "start_time": "2022-03-30T10:17:22.835Z"
   },
   {
    "duration": 65,
    "start_time": "2022-03-30T10:17:24.451Z"
   },
   {
    "duration": 69,
    "start_time": "2022-03-30T10:21:56.273Z"
   },
   {
    "duration": 21,
    "start_time": "2022-03-30T10:23:36.106Z"
   },
   {
    "duration": 9,
    "start_time": "2022-03-30T10:24:39.839Z"
   },
   {
    "duration": 9,
    "start_time": "2022-03-30T10:24:46.091Z"
   },
   {
    "duration": 8,
    "start_time": "2022-03-30T10:25:19.925Z"
   },
   {
    "duration": 141,
    "start_time": "2022-03-30T10:33:54.914Z"
   },
   {
    "duration": 3,
    "start_time": "2022-03-30T10:34:02.736Z"
   },
   {
    "duration": 43,
    "start_time": "2022-03-30T11:48:18.095Z"
   },
   {
    "duration": 7,
    "start_time": "2022-03-30T11:48:32.590Z"
   },
   {
    "duration": 441,
    "start_time": "2022-03-30T11:48:39.961Z"
   },
   {
    "duration": 143,
    "start_time": "2022-03-30T11:48:42.297Z"
   },
   {
    "duration": 3,
    "start_time": "2022-03-30T12:11:59.085Z"
   },
   {
    "duration": 167,
    "start_time": "2022-03-30T12:12:02.003Z"
   },
   {
    "duration": 16,
    "start_time": "2022-03-30T12:12:04.125Z"
   },
   {
    "duration": 28,
    "start_time": "2022-03-30T12:12:09.740Z"
   },
   {
    "duration": 4,
    "start_time": "2022-03-30T12:12:14.332Z"
   },
   {
    "duration": 12,
    "start_time": "2022-03-30T12:12:20.842Z"
   },
   {
    "duration": 4,
    "start_time": "2022-03-30T12:12:22.630Z"
   },
   {
    "duration": 25,
    "start_time": "2022-03-30T12:12:28.569Z"
   },
   {
    "duration": 19,
    "start_time": "2022-03-30T12:12:32.216Z"
   },
   {
    "duration": 23,
    "start_time": "2022-03-30T12:12:36.973Z"
   },
   {
    "duration": 81,
    "start_time": "2022-03-30T12:12:40.778Z"
   },
   {
    "duration": 95,
    "start_time": "2022-03-30T12:12:42.565Z"
   },
   {
    "duration": 72,
    "start_time": "2022-03-30T12:12:44.091Z"
   },
   {
    "duration": 69,
    "start_time": "2022-03-30T12:12:48.021Z"
   },
   {
    "duration": 3,
    "start_time": "2022-03-30T12:13:18.891Z"
   },
   {
    "duration": 4,
    "start_time": "2022-03-30T12:17:20.845Z"
   },
   {
    "duration": 4,
    "start_time": "2022-03-30T12:17:31.199Z"
   },
   {
    "duration": 8,
    "start_time": "2022-03-30T12:17:52.842Z"
   },
   {
    "duration": 191,
    "start_time": "2022-03-30T12:17:55.607Z"
   },
   {
    "duration": 9,
    "start_time": "2022-03-30T12:18:06.016Z"
   },
   {
    "duration": 32,
    "start_time": "2022-03-30T12:19:08.389Z"
   },
   {
    "duration": 10,
    "start_time": "2022-03-30T12:19:19.079Z"
   },
   {
    "duration": 13,
    "start_time": "2022-03-30T12:19:50.897Z"
   },
   {
    "duration": 3,
    "start_time": "2022-03-30T12:20:27.834Z"
   },
   {
    "duration": 5,
    "start_time": "2022-03-30T12:21:58.509Z"
   },
   {
    "duration": 44,
    "start_time": "2022-03-30T12:22:04.810Z"
   },
   {
    "duration": 11,
    "start_time": "2022-03-30T12:22:08.068Z"
   },
   {
    "duration": 8,
    "start_time": "2022-03-30T12:22:14.551Z"
   },
   {
    "duration": 8,
    "start_time": "2022-03-30T12:22:35.770Z"
   },
   {
    "duration": 4,
    "start_time": "2022-03-30T12:23:06.305Z"
   },
   {
    "duration": 8,
    "start_time": "2022-03-30T12:23:08.024Z"
   },
   {
    "duration": 9,
    "start_time": "2022-03-30T12:23:11.549Z"
   },
   {
    "duration": 3,
    "start_time": "2022-03-30T12:23:56.898Z"
   },
   {
    "duration": 10,
    "start_time": "2022-03-30T12:23:59.034Z"
   },
   {
    "duration": 9,
    "start_time": "2022-03-30T12:24:02.733Z"
   },
   {
    "duration": 3,
    "start_time": "2022-03-30T12:27:01.898Z"
   },
   {
    "duration": 2,
    "start_time": "2022-03-30T12:27:20.010Z"
   },
   {
    "duration": 9,
    "start_time": "2022-03-30T12:27:22.137Z"
   },
   {
    "duration": 8,
    "start_time": "2022-03-30T12:27:24.822Z"
   },
   {
    "duration": 27,
    "start_time": "2022-03-30T12:28:03.065Z"
   },
   {
    "duration": 3,
    "start_time": "2022-03-30T12:48:12.687Z"
   },
   {
    "duration": 8,
    "start_time": "2022-03-30T12:48:23.925Z"
   },
   {
    "duration": 8,
    "start_time": "2022-03-30T12:48:26.911Z"
   },
   {
    "duration": 38,
    "start_time": "2022-03-30T12:49:03.145Z"
   },
   {
    "duration": 63,
    "start_time": "2022-03-30T12:49:26.596Z"
   },
   {
    "duration": 9,
    "start_time": "2022-03-30T12:49:51.993Z"
   },
   {
    "duration": 5,
    "start_time": "2022-03-30T12:49:56.909Z"
   },
   {
    "duration": 6,
    "start_time": "2022-03-30T12:49:58.991Z"
   },
   {
    "duration": 7,
    "start_time": "2022-03-30T12:50:05.206Z"
   },
   {
    "duration": 7,
    "start_time": "2022-03-30T12:50:14.067Z"
   },
   {
    "duration": 11,
    "start_time": "2022-03-30T12:51:53.976Z"
   },
   {
    "duration": 172,
    "start_time": "2022-03-30T13:20:43.888Z"
   },
   {
    "duration": 188,
    "start_time": "2022-03-30T13:21:42.334Z"
   },
   {
    "duration": 73,
    "start_time": "2022-03-30T13:21:45.541Z"
   },
   {
    "duration": 31,
    "start_time": "2022-03-30T13:22:27.059Z"
   },
   {
    "duration": 35,
    "start_time": "2022-03-30T13:22:40.035Z"
   },
   {
    "duration": 11,
    "start_time": "2022-03-30T13:22:52.831Z"
   },
   {
    "duration": 4,
    "start_time": "2022-03-30T13:25:31.720Z"
   },
   {
    "duration": 7,
    "start_time": "2022-03-30T13:25:36.791Z"
   },
   {
    "duration": 11,
    "start_time": "2022-03-30T13:26:08.830Z"
   },
   {
    "duration": 2796,
    "start_time": "2022-03-30T13:26:12.334Z"
   },
   {
    "duration": 4,
    "start_time": "2022-03-30T13:26:44.987Z"
   },
   {
    "duration": 18,
    "start_time": "2022-03-30T13:26:47.469Z"
   },
   {
    "duration": 7,
    "start_time": "2022-03-30T13:26:55.673Z"
   },
   {
    "duration": 9,
    "start_time": "2022-03-30T13:27:00.227Z"
   },
   {
    "duration": 11,
    "start_time": "2022-03-30T13:27:07.581Z"
   },
   {
    "duration": 15,
    "start_time": "2022-03-30T13:27:09.435Z"
   },
   {
    "duration": 12,
    "start_time": "2022-03-30T13:27:14.646Z"
   },
   {
    "duration": 28,
    "start_time": "2022-03-30T13:33:54.639Z"
   },
   {
    "duration": 48,
    "start_time": "2022-03-30T13:34:48.022Z"
   },
   {
    "duration": 155,
    "start_time": "2022-03-30T21:00:55.007Z"
   },
   {
    "duration": 70,
    "start_time": "2022-04-01T05:56:47.165Z"
   },
   {
    "duration": 475,
    "start_time": "2022-04-01T05:56:54.031Z"
   },
   {
    "duration": 214,
    "start_time": "2022-04-01T05:56:55.689Z"
   },
   {
    "duration": 27,
    "start_time": "2022-04-01T05:56:57.956Z"
   },
   {
    "duration": 40,
    "start_time": "2022-04-01T05:57:01.678Z"
   },
   {
    "duration": 6,
    "start_time": "2022-04-01T05:57:10.952Z"
   },
   {
    "duration": 17,
    "start_time": "2022-04-01T05:57:19.671Z"
   },
   {
    "duration": 7,
    "start_time": "2022-04-01T05:57:25.043Z"
   },
   {
    "duration": 17,
    "start_time": "2022-04-01T06:03:18.180Z"
   },
   {
    "duration": 7,
    "start_time": "2022-04-01T06:03:20.460Z"
   },
   {
    "duration": 35,
    "start_time": "2022-04-01T06:03:24.376Z"
   },
   {
    "duration": 26,
    "start_time": "2022-04-01T06:03:27.086Z"
   },
   {
    "duration": 35,
    "start_time": "2022-04-01T06:03:29.221Z"
   },
   {
    "duration": 125,
    "start_time": "2022-04-01T06:03:32.908Z"
   },
   {
    "duration": 95,
    "start_time": "2022-04-01T06:03:34.714Z"
   },
   {
    "duration": 89,
    "start_time": "2022-04-01T06:03:36.368Z"
   },
   {
    "duration": 53,
    "start_time": "2022-04-01T06:04:14.969Z"
   },
   {
    "duration": 47,
    "start_time": "2022-04-01T06:04:35.128Z"
   },
   {
    "duration": 53,
    "start_time": "2022-04-01T06:04:46.493Z"
   },
   {
    "duration": 56,
    "start_time": "2022-04-01T06:06:29.603Z"
   },
   {
    "duration": 17,
    "start_time": "2022-04-01T06:07:53.222Z"
   },
   {
    "duration": 34,
    "start_time": "2022-04-01T06:08:36.310Z"
   },
   {
    "duration": 27,
    "start_time": "2022-04-01T06:08:52.224Z"
   },
   {
    "duration": 22,
    "start_time": "2022-04-01T06:09:18.340Z"
   },
   {
    "duration": 30,
    "start_time": "2022-04-01T06:09:22.942Z"
   },
   {
    "duration": 27,
    "start_time": "2022-04-01T06:09:30.267Z"
   },
   {
    "duration": 26,
    "start_time": "2022-04-01T06:09:36.158Z"
   },
   {
    "duration": 17,
    "start_time": "2022-04-01T06:10:03.240Z"
   },
   {
    "duration": 5,
    "start_time": "2022-04-01T06:11:14.471Z"
   },
   {
    "duration": 24,
    "start_time": "2022-04-01T06:11:17.063Z"
   },
   {
    "duration": 192,
    "start_time": "2022-04-01T06:11:46.064Z"
   },
   {
    "duration": 10,
    "start_time": "2022-04-01T06:12:11.183Z"
   },
   {
    "duration": 6,
    "start_time": "2022-04-01T06:12:20.809Z"
   },
   {
    "duration": 10,
    "start_time": "2022-04-01T06:12:23.956Z"
   },
   {
    "duration": 24,
    "start_time": "2022-04-01T06:12:42.038Z"
   },
   {
    "duration": 109,
    "start_time": "2022-04-01T06:12:46.339Z"
   },
   {
    "duration": 15,
    "start_time": "2022-04-01T06:12:51.401Z"
   },
   {
    "duration": 6,
    "start_time": "2022-04-01T06:12:53.835Z"
   },
   {
    "duration": 2781,
    "start_time": "2022-04-01T06:12:56.008Z"
   },
   {
    "duration": 5,
    "start_time": "2022-04-01T06:13:14.191Z"
   },
   {
    "duration": 25,
    "start_time": "2022-04-01T06:13:17.032Z"
   },
   {
    "duration": 8,
    "start_time": "2022-04-01T06:13:19.191Z"
   },
   {
    "duration": 16,
    "start_time": "2022-04-01T06:13:23.998Z"
   },
   {
    "duration": 13,
    "start_time": "2022-04-01T06:13:25.322Z"
   },
   {
    "duration": 17,
    "start_time": "2022-04-01T06:13:31.003Z"
   },
   {
    "duration": 17,
    "start_time": "2022-04-01T06:13:34.798Z"
   },
   {
    "duration": 13,
    "start_time": "2022-04-01T06:14:04.058Z"
   },
   {
    "duration": 7,
    "start_time": "2022-04-01T06:14:10.497Z"
   },
   {
    "duration": 9,
    "start_time": "2022-04-01T06:14:28.263Z"
   },
   {
    "duration": 7,
    "start_time": "2022-04-01T06:14:30.702Z"
   }
  ],
  "colab": {
   "collapsed_sections": [
    "E0vqbgi9ay0H",
    "VUC88oWjTJw2"
   ],
   "name": "yandex_music_project_2021.2.ipynb",
   "provenance": []
  },
  "kernelspec": {
   "display_name": "Python 3 (ipykernel)",
   "language": "python",
   "name": "python3"
  },
  "language_info": {
   "codemirror_mode": {
    "name": "ipython",
    "version": 3
   },
   "file_extension": ".py",
   "mimetype": "text/x-python",
   "name": "python",
   "nbconvert_exporter": "python",
   "pygments_lexer": "ipython3",
   "version": "3.9.7"
  },
  "toc": {
   "base_numbering": 1,
   "nav_menu": {},
   "number_sections": true,
   "sideBar": true,
   "skip_h1_title": true,
   "title_cell": "Table of Contents",
   "title_sidebar": "Contents",
   "toc_cell": false,
   "toc_position": {},
   "toc_section_display": true,
   "toc_window_display": true
  }
 },
 "nbformat": 4,
 "nbformat_minor": 1
}
